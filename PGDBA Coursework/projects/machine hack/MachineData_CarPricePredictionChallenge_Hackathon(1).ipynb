{
 "cells": [
  {
   "cell_type": "code",
   "execution_count": 1,
   "metadata": {
    "colab": {
     "base_uri": "https://localhost:8080/"
    },
    "id": "nfd8QMOm5u3b",
    "outputId": "681295ec-a7c5-4525-c0e8-0f773b21c68f"
   },
   "outputs": [
    {
     "name": "stdout",
     "output_type": "stream",
     "text": [
      "Requirement already satisfied: catboost in c:\\users\\utkar\\anaconda3\\lib\\site-packages (0.26)\n",
      "Requirement already satisfied: graphviz in c:\\users\\utkar\\anaconda3\\lib\\site-packages (from catboost) (0.17)\n",
      "Requirement already satisfied: numpy>=1.16.0 in c:\\users\\utkar\\anaconda3\\lib\\site-packages (from catboost) (1.19.2)\n",
      "Requirement already satisfied: pandas>=0.24.0 in c:\\users\\utkar\\anaconda3\\lib\\site-packages (from catboost) (1.2.4)\n",
      "Requirement already satisfied: plotly in c:\\users\\utkar\\anaconda3\\lib\\site-packages (from catboost) (5.1.0)\n",
      "Requirement already satisfied: scipy in c:\\users\\utkar\\anaconda3\\lib\\site-packages (from catboost) (1.6.2)\n",
      "Requirement already satisfied: matplotlib in c:\\users\\utkar\\anaconda3\\lib\\site-packages (from catboost) (3.3.4)\n",
      "Requirement already satisfied: six in c:\\users\\utkar\\anaconda3\\lib\\site-packages (from catboost) (1.15.0)\n",
      "Requirement already satisfied: pytz>=2017.3 in c:\\users\\utkar\\anaconda3\\lib\\site-packages (from pandas>=0.24.0->catboost) (2021.1)\n",
      "Requirement already satisfied: python-dateutil>=2.7.3 in c:\\users\\utkar\\anaconda3\\lib\\site-packages (from pandas>=0.24.0->catboost) (2.8.1)\n",
      "Requirement already satisfied: pillow>=6.2.0 in c:\\users\\utkar\\anaconda3\\lib\\site-packages (from matplotlib->catboost) (8.2.0)\n",
      "Requirement already satisfied: kiwisolver>=1.0.1 in c:\\users\\utkar\\anaconda3\\lib\\site-packages (from matplotlib->catboost) (1.3.1)\n",
      "Requirement already satisfied: pyparsing!=2.0.4,!=2.1.2,!=2.1.6,>=2.0.3 in c:\\users\\utkar\\anaconda3\\lib\\site-packages (from matplotlib->catboost) (2.4.7)\n",
      "Requirement already satisfied: cycler>=0.10 in c:\\users\\utkar\\anaconda3\\lib\\site-packages (from matplotlib->catboost) (0.10.0)\n",
      "Requirement already satisfied: tenacity>=6.2.0 in c:\\users\\utkar\\anaconda3\\lib\\site-packages (from plotly->catboost) (8.0.1)\n"
     ]
    }
   ],
   "source": [
    " ! pip install catboost"
   ]
  },
  {
   "cell_type": "code",
   "execution_count": 3,
   "metadata": {},
   "outputs": [
    {
     "name": "stdout",
     "output_type": "stream",
     "text": [
      "Collecting lightgbm\n",
      "  Downloading lightgbm-3.2.1-py3-none-win_amd64.whl (1.0 MB)\n",
      "Requirement already satisfied: scikit-learn!=0.22.0 in c:\\users\\utkar\\anaconda3\\lib\\site-packages (from lightgbm) (0.24.1)\n",
      "Requirement already satisfied: numpy in c:\\users\\utkar\\anaconda3\\lib\\site-packages (from lightgbm) (1.19.2)\n",
      "Requirement already satisfied: wheel in c:\\users\\utkar\\anaconda3\\lib\\site-packages (from lightgbm) (0.36.2)\n",
      "Requirement already satisfied: scipy in c:\\users\\utkar\\anaconda3\\lib\\site-packages (from lightgbm) (1.6.2)\n",
      "Requirement already satisfied: joblib>=0.11 in c:\\users\\utkar\\anaconda3\\lib\\site-packages (from scikit-learn!=0.22.0->lightgbm) (1.0.1)\n",
      "Requirement already satisfied: threadpoolctl>=2.0.0 in c:\\users\\utkar\\anaconda3\\lib\\site-packages (from scikit-learn!=0.22.0->lightgbm) (2.1.0)\n",
      "Installing collected packages: lightgbm\n",
      "Successfully installed lightgbm-3.2.1\n",
      "Note: you may need to restart the kernel to use updated packages.\n"
     ]
    }
   ],
   "source": [
    "pip install lightgbm"
   ]
  },
  {
   "cell_type": "code",
   "execution_count": 4,
   "metadata": {
    "id": "jJlK_Jjyk83b"
   },
   "outputs": [],
   "source": [
    "import numpy as np\n",
    "import pandas as pd\n",
    "pd.set_option('display.max_columns', None)  \n",
    "import matplotlib.pyplot as plt\n",
    "import matplotlib.patches as mpatches\n",
    "%matplotlib inline \n",
    "import seaborn as sns\n",
    "import plotly.io as pio\n",
    "import plotly.graph_objects as go\n",
    "from plotly.offline import init_notebook_mode, iplot\n",
    "from sklearn.preprocessing import StandardScaler\n",
    "import warnings\n",
    "warnings.filterwarnings('ignore')\n",
    "\n",
    "\n",
    "from sklearn.linear_model import LinearRegression\n",
    "from sklearn.metrics import mean_absolute_error\n",
    "from sklearn.metrics import mean_squared_error\n",
    "from sklearn.metrics import r2_score\n",
    "from sklearn.model_selection import train_test_split\n",
    "\n",
    "\n",
    "\n",
    "from sklearn.tree import DecisionTreeRegressor\n",
    "from sklearn.neighbors import KNeighborsRegressor\n",
    "\n",
    "from sklearn.ensemble import RandomForestRegressor\n",
    "\n",
    "from sklearn.ensemble import BaggingRegressor\n",
    "from sklearn.ensemble import AdaBoostRegressor\n",
    "from sklearn.ensemble import GradientBoostingRegressor\n",
    "\n",
    "from xgboost import XGBRegressor\n",
    "from sklearn.metrics import explained_variance_score\n",
    "\n",
    "from lightgbm import LGBMRegressor\n",
    "from catboost import CatBoostRegressor\n"
   ]
  },
  {
   "cell_type": "code",
   "execution_count": 5,
   "metadata": {
    "id": "uEgqw1iC6BJL"
   },
   "outputs": [],
   "source": [
    "train_data = pd.read_csv(\"train.csv\")\n",
    "test_data = pd.read_csv(\"test.csv\")\n",
    "submission_data = pd.read_csv(\"submission.csv\")"
   ]
  },
  {
   "cell_type": "code",
   "execution_count": 6,
   "metadata": {
    "id": "OTTBzl-g6BLa"
   },
   "outputs": [],
   "source": [
    "train_price = train_data[\"Price\"]\n",
    "train_data.drop(\"Price\",axis=1,inplace=True)\n",
    "train_data[\"Price\"] = train_price"
   ]
  },
  {
   "cell_type": "code",
   "execution_count": 7,
   "metadata": {
    "colab": {
     "base_uri": "https://localhost:8080/",
     "height": 775
    },
    "id": "FCZz6tAN-epf",
    "outputId": "a726952b-596c-46fc-dc70-54ba0f5f4aad"
   },
   "outputs": [
    {
     "data": {
      "text/html": [
       "<div>\n",
       "<style scoped>\n",
       "    .dataframe tbody tr th:only-of-type {\n",
       "        vertical-align: middle;\n",
       "    }\n",
       "\n",
       "    .dataframe tbody tr th {\n",
       "        vertical-align: top;\n",
       "    }\n",
       "\n",
       "    .dataframe thead th {\n",
       "        text-align: right;\n",
       "    }\n",
       "</style>\n",
       "<table border=\"1\" class=\"dataframe\">\n",
       "  <thead>\n",
       "    <tr style=\"text-align: right;\">\n",
       "      <th></th>\n",
       "      <th>ID</th>\n",
       "      <th>Levy</th>\n",
       "      <th>Manufacturer</th>\n",
       "      <th>Model</th>\n",
       "      <th>Prod. year</th>\n",
       "      <th>Category</th>\n",
       "      <th>Leather interior</th>\n",
       "      <th>Fuel type</th>\n",
       "      <th>Engine volume</th>\n",
       "      <th>Mileage</th>\n",
       "      <th>Cylinders</th>\n",
       "      <th>Gear box type</th>\n",
       "      <th>Drive wheels</th>\n",
       "      <th>Doors</th>\n",
       "      <th>Wheel</th>\n",
       "      <th>Color</th>\n",
       "      <th>Airbags</th>\n",
       "      <th>Price</th>\n",
       "    </tr>\n",
       "  </thead>\n",
       "  <tbody>\n",
       "    <tr>\n",
       "      <th>0</th>\n",
       "      <td>45654403</td>\n",
       "      <td>1399</td>\n",
       "      <td>LEXUS</td>\n",
       "      <td>RX 450</td>\n",
       "      <td>2010</td>\n",
       "      <td>Jeep</td>\n",
       "      <td>Yes</td>\n",
       "      <td>Hybrid</td>\n",
       "      <td>3.5</td>\n",
       "      <td>186005 km</td>\n",
       "      <td>6.0</td>\n",
       "      <td>Automatic</td>\n",
       "      <td>4x4</td>\n",
       "      <td>04-May</td>\n",
       "      <td>Left wheel</td>\n",
       "      <td>Silver</td>\n",
       "      <td>12</td>\n",
       "      <td>13328</td>\n",
       "    </tr>\n",
       "    <tr>\n",
       "      <th>1</th>\n",
       "      <td>44731507</td>\n",
       "      <td>1018</td>\n",
       "      <td>CHEVROLET</td>\n",
       "      <td>Equinox</td>\n",
       "      <td>2011</td>\n",
       "      <td>Jeep</td>\n",
       "      <td>No</td>\n",
       "      <td>Petrol</td>\n",
       "      <td>3</td>\n",
       "      <td>192000 km</td>\n",
       "      <td>6.0</td>\n",
       "      <td>Tiptronic</td>\n",
       "      <td>4x4</td>\n",
       "      <td>04-May</td>\n",
       "      <td>Left wheel</td>\n",
       "      <td>Black</td>\n",
       "      <td>8</td>\n",
       "      <td>16621</td>\n",
       "    </tr>\n",
       "    <tr>\n",
       "      <th>2</th>\n",
       "      <td>45774419</td>\n",
       "      <td>-</td>\n",
       "      <td>HONDA</td>\n",
       "      <td>FIT</td>\n",
       "      <td>2006</td>\n",
       "      <td>Hatchback</td>\n",
       "      <td>No</td>\n",
       "      <td>Petrol</td>\n",
       "      <td>1.3</td>\n",
       "      <td>200000 km</td>\n",
       "      <td>4.0</td>\n",
       "      <td>Variator</td>\n",
       "      <td>Front</td>\n",
       "      <td>04-May</td>\n",
       "      <td>Right-hand drive</td>\n",
       "      <td>Black</td>\n",
       "      <td>2</td>\n",
       "      <td>8467</td>\n",
       "    </tr>\n",
       "    <tr>\n",
       "      <th>3</th>\n",
       "      <td>45769185</td>\n",
       "      <td>862</td>\n",
       "      <td>FORD</td>\n",
       "      <td>Escape</td>\n",
       "      <td>2011</td>\n",
       "      <td>Jeep</td>\n",
       "      <td>Yes</td>\n",
       "      <td>Hybrid</td>\n",
       "      <td>2.5</td>\n",
       "      <td>168966 km</td>\n",
       "      <td>4.0</td>\n",
       "      <td>Automatic</td>\n",
       "      <td>4x4</td>\n",
       "      <td>04-May</td>\n",
       "      <td>Left wheel</td>\n",
       "      <td>White</td>\n",
       "      <td>0</td>\n",
       "      <td>3607</td>\n",
       "    </tr>\n",
       "    <tr>\n",
       "      <th>4</th>\n",
       "      <td>45809263</td>\n",
       "      <td>446</td>\n",
       "      <td>HONDA</td>\n",
       "      <td>FIT</td>\n",
       "      <td>2014</td>\n",
       "      <td>Hatchback</td>\n",
       "      <td>Yes</td>\n",
       "      <td>Petrol</td>\n",
       "      <td>1.3</td>\n",
       "      <td>91901 km</td>\n",
       "      <td>4.0</td>\n",
       "      <td>Automatic</td>\n",
       "      <td>Front</td>\n",
       "      <td>04-May</td>\n",
       "      <td>Left wheel</td>\n",
       "      <td>Silver</td>\n",
       "      <td>4</td>\n",
       "      <td>11726</td>\n",
       "    </tr>\n",
       "  </tbody>\n",
       "</table>\n",
       "</div>"
      ],
      "text/plain": [
       "         ID  Levy Manufacturer    Model  Prod. year   Category  \\\n",
       "0  45654403  1399        LEXUS   RX 450        2010       Jeep   \n",
       "1  44731507  1018    CHEVROLET  Equinox        2011       Jeep   \n",
       "2  45774419     -        HONDA      FIT        2006  Hatchback   \n",
       "3  45769185   862         FORD   Escape        2011       Jeep   \n",
       "4  45809263   446        HONDA      FIT        2014  Hatchback   \n",
       "\n",
       "  Leather interior Fuel type Engine volume    Mileage  Cylinders  \\\n",
       "0              Yes    Hybrid           3.5  186005 km        6.0   \n",
       "1               No    Petrol             3  192000 km        6.0   \n",
       "2               No    Petrol           1.3  200000 km        4.0   \n",
       "3              Yes    Hybrid           2.5  168966 km        4.0   \n",
       "4              Yes    Petrol           1.3   91901 km        4.0   \n",
       "\n",
       "  Gear box type Drive wheels   Doors             Wheel   Color  Airbags  Price  \n",
       "0     Automatic          4x4  04-May        Left wheel  Silver       12  13328  \n",
       "1     Tiptronic          4x4  04-May        Left wheel   Black        8  16621  \n",
       "2      Variator        Front  04-May  Right-hand drive   Black        2   8467  \n",
       "3     Automatic          4x4  04-May        Left wheel   White        0   3607  \n",
       "4     Automatic        Front  04-May        Left wheel  Silver        4  11726  "
      ]
     },
     "metadata": {},
     "output_type": "display_data"
    },
    {
     "data": {
      "text/html": [
       "<div>\n",
       "<style scoped>\n",
       "    .dataframe tbody tr th:only-of-type {\n",
       "        vertical-align: middle;\n",
       "    }\n",
       "\n",
       "    .dataframe tbody tr th {\n",
       "        vertical-align: top;\n",
       "    }\n",
       "\n",
       "    .dataframe thead th {\n",
       "        text-align: right;\n",
       "    }\n",
       "</style>\n",
       "<table border=\"1\" class=\"dataframe\">\n",
       "  <thead>\n",
       "    <tr style=\"text-align: right;\">\n",
       "      <th></th>\n",
       "      <th>ID</th>\n",
       "      <th>Levy</th>\n",
       "      <th>Manufacturer</th>\n",
       "      <th>Model</th>\n",
       "      <th>Prod. year</th>\n",
       "      <th>Category</th>\n",
       "      <th>Leather interior</th>\n",
       "      <th>Fuel type</th>\n",
       "      <th>Engine volume</th>\n",
       "      <th>Mileage</th>\n",
       "      <th>Cylinders</th>\n",
       "      <th>Gear box type</th>\n",
       "      <th>Drive wheels</th>\n",
       "      <th>Doors</th>\n",
       "      <th>Wheel</th>\n",
       "      <th>Color</th>\n",
       "      <th>Airbags</th>\n",
       "      <th>Price</th>\n",
       "    </tr>\n",
       "  </thead>\n",
       "  <tbody>\n",
       "    <tr>\n",
       "      <th>0</th>\n",
       "      <td>44020629</td>\n",
       "      <td>-</td>\n",
       "      <td>VOLKSWAGEN</td>\n",
       "      <td>Golf</td>\n",
       "      <td>2012</td>\n",
       "      <td>Hatchback</td>\n",
       "      <td>No</td>\n",
       "      <td>Diesel</td>\n",
       "      <td>2.0 Turbo</td>\n",
       "      <td>0 km</td>\n",
       "      <td>4</td>\n",
       "      <td>Manual</td>\n",
       "      <td>Front</td>\n",
       "      <td>02-Mar</td>\n",
       "      <td>Left wheel</td>\n",
       "      <td>Grey</td>\n",
       "      <td>10</td>\n",
       "      <td>NaN</td>\n",
       "    </tr>\n",
       "    <tr>\n",
       "      <th>1</th>\n",
       "      <td>45784798</td>\n",
       "      <td>-</td>\n",
       "      <td>HYUNDAI</td>\n",
       "      <td>Sonata</td>\n",
       "      <td>2012</td>\n",
       "      <td>Sedan</td>\n",
       "      <td>Yes</td>\n",
       "      <td>Petrol</td>\n",
       "      <td>2.4</td>\n",
       "      <td>26000 km</td>\n",
       "      <td>4</td>\n",
       "      <td>Tiptronic</td>\n",
       "      <td>Front</td>\n",
       "      <td>04-May</td>\n",
       "      <td>Left wheel</td>\n",
       "      <td>Grey</td>\n",
       "      <td>10</td>\n",
       "      <td>NaN</td>\n",
       "    </tr>\n",
       "    <tr>\n",
       "      <th>2</th>\n",
       "      <td>45800257</td>\n",
       "      <td>-</td>\n",
       "      <td>NISSAN</td>\n",
       "      <td>Tiida</td>\n",
       "      <td>2005</td>\n",
       "      <td>Sedan</td>\n",
       "      <td>No</td>\n",
       "      <td>Petrol</td>\n",
       "      <td>1.5</td>\n",
       "      <td>168000 km</td>\n",
       "      <td>4</td>\n",
       "      <td>Automatic</td>\n",
       "      <td>Front</td>\n",
       "      <td>04-May</td>\n",
       "      <td>Right-hand drive</td>\n",
       "      <td>Sky blue</td>\n",
       "      <td>8</td>\n",
       "      <td>NaN</td>\n",
       "    </tr>\n",
       "    <tr>\n",
       "      <th>3</th>\n",
       "      <td>45797981</td>\n",
       "      <td>975</td>\n",
       "      <td>VOLVO</td>\n",
       "      <td>XC90</td>\n",
       "      <td>2012</td>\n",
       "      <td>Jeep</td>\n",
       "      <td>Yes</td>\n",
       "      <td>Petrol</td>\n",
       "      <td>3.2</td>\n",
       "      <td>143000 km</td>\n",
       "      <td>6</td>\n",
       "      <td>Automatic</td>\n",
       "      <td>4x4</td>\n",
       "      <td>04-May</td>\n",
       "      <td>Left wheel</td>\n",
       "      <td>Blue</td>\n",
       "      <td>12</td>\n",
       "      <td>NaN</td>\n",
       "    </tr>\n",
       "    <tr>\n",
       "      <th>4</th>\n",
       "      <td>45814303</td>\n",
       "      <td>-</td>\n",
       "      <td>OPEL</td>\n",
       "      <td>Astra</td>\n",
       "      <td>1993</td>\n",
       "      <td>Hatchback</td>\n",
       "      <td>No</td>\n",
       "      <td>Petrol</td>\n",
       "      <td>1.6</td>\n",
       "      <td>200000 km</td>\n",
       "      <td>4</td>\n",
       "      <td>Manual</td>\n",
       "      <td>Front</td>\n",
       "      <td>04-May</td>\n",
       "      <td>Left wheel</td>\n",
       "      <td>Black</td>\n",
       "      <td>0</td>\n",
       "      <td>NaN</td>\n",
       "    </tr>\n",
       "  </tbody>\n",
       "</table>\n",
       "</div>"
      ],
      "text/plain": [
       "         ID Levy Manufacturer   Model  Prod. year   Category Leather interior  \\\n",
       "0  44020629    -   VOLKSWAGEN    Golf        2012  Hatchback               No   \n",
       "1  45784798    -      HYUNDAI  Sonata        2012      Sedan              Yes   \n",
       "2  45800257    -       NISSAN   Tiida        2005      Sedan               No   \n",
       "3  45797981  975        VOLVO    XC90        2012       Jeep              Yes   \n",
       "4  45814303    -         OPEL   Astra        1993  Hatchback               No   \n",
       "\n",
       "  Fuel type Engine volume    Mileage  Cylinders Gear box type Drive wheels  \\\n",
       "0    Diesel     2.0 Turbo       0 km          4        Manual        Front   \n",
       "1    Petrol           2.4   26000 km          4     Tiptronic        Front   \n",
       "2    Petrol           1.5  168000 km          4     Automatic        Front   \n",
       "3    Petrol           3.2  143000 km          6     Automatic          4x4   \n",
       "4    Petrol           1.6  200000 km          4        Manual        Front   \n",
       "\n",
       "    Doors             Wheel     Color  Airbags  Price  \n",
       "0  02-Mar        Left wheel      Grey       10    NaN  \n",
       "1  04-May        Left wheel      Grey       10    NaN  \n",
       "2  04-May  Right-hand drive  Sky blue        8    NaN  \n",
       "3  04-May        Left wheel      Blue       12    NaN  \n",
       "4  04-May        Left wheel     Black        0    NaN  "
      ]
     },
     "metadata": {},
     "output_type": "display_data"
    },
    {
     "data": {
      "text/html": [
       "<div>\n",
       "<style scoped>\n",
       "    .dataframe tbody tr th:only-of-type {\n",
       "        vertical-align: middle;\n",
       "    }\n",
       "\n",
       "    .dataframe tbody tr th {\n",
       "        vertical-align: top;\n",
       "    }\n",
       "\n",
       "    .dataframe thead th {\n",
       "        text-align: right;\n",
       "    }\n",
       "</style>\n",
       "<table border=\"1\" class=\"dataframe\">\n",
       "  <thead>\n",
       "    <tr style=\"text-align: right;\">\n",
       "      <th></th>\n",
       "      <th>Price</th>\n",
       "    </tr>\n",
       "  </thead>\n",
       "  <tbody>\n",
       "    <tr>\n",
       "      <th>0</th>\n",
       "      <td>0</td>\n",
       "    </tr>\n",
       "    <tr>\n",
       "      <th>1</th>\n",
       "      <td>0</td>\n",
       "    </tr>\n",
       "    <tr>\n",
       "      <th>2</th>\n",
       "      <td>0</td>\n",
       "    </tr>\n",
       "    <tr>\n",
       "      <th>3</th>\n",
       "      <td>0</td>\n",
       "    </tr>\n",
       "    <tr>\n",
       "      <th>4</th>\n",
       "      <td>0</td>\n",
       "    </tr>\n",
       "  </tbody>\n",
       "</table>\n",
       "</div>"
      ],
      "text/plain": [
       "   Price\n",
       "0      0\n",
       "1      0\n",
       "2      0\n",
       "3      0\n",
       "4      0"
      ]
     },
     "metadata": {},
     "output_type": "display_data"
    }
   ],
   "source": [
    "display(train_data.head())\n",
    "display(test_data.head())\n",
    "display(submission_data.head())"
   ]
  },
  {
   "cell_type": "code",
   "execution_count": 8,
   "metadata": {
    "colab": {
     "base_uri": "https://localhost:8080/"
    },
    "id": "JO6oYw7P_V2O",
    "outputId": "2922379d-a299-45d8-b675-413dce13cee8"
   },
   "outputs": [
    {
     "name": "stdout",
     "output_type": "stream",
     "text": [
      "(19237, 18)\n",
      "(8245, 18)\n"
     ]
    }
   ],
   "source": [
    "print(train_data.shape)\n",
    "print(test_data.shape)"
   ]
  },
  {
   "cell_type": "code",
   "execution_count": 9,
   "metadata": {
    "id": "yNDYb2Bw6BNX"
   },
   "outputs": [],
   "source": [
    "# sub_data = pd.DataFrame(({\"Price\" :[10000]*8245 }))\n",
    "# sub_data.to_csv(\"sample_submission_check.csv\",index=False)"
   ]
  },
  {
   "cell_type": "code",
   "execution_count": 10,
   "metadata": {
    "colab": {
     "base_uri": "https://localhost:8080/"
    },
    "id": "oMK1v37Y6BT7",
    "outputId": "3f93d333-4c5d-4d7f-bc6b-be8fe41aba04"
   },
   "outputs": [
    {
     "name": "stdout",
     "output_type": "stream",
     "text": [
      "The numerical data are ['ID', 'Prod. year', 'Cylinders', 'Airbags', 'Price']\n",
      "The categorical data are ['Levy', 'Manufacturer', 'Model', 'Category', 'Leather interior', 'Fuel type', 'Engine volume', 'Mileage', 'Gear box type', 'Drive wheels', 'Doors', 'Wheel', 'Color']\n"
     ]
    }
   ],
   "source": [
    "def column_details(df):\n",
    "  cat = []\n",
    "  num = []\n",
    "  for i in df.columns:\n",
    "    if df[i].dtypes==object:\n",
    "        cat.append(i)\n",
    "    else:\n",
    "        num.append(i)\n",
    "  print('The numerical data are {}'.format(num))\n",
    "  print('The categorical data are {}'.format(cat))\n",
    "  return num,cat\n",
    "\n",
    "num_col,cat_col = column_details(train_data)"
   ]
  },
  {
   "cell_type": "code",
   "execution_count": 11,
   "metadata": {
    "id": "k4pZPyTmuiNo"
   },
   "outputs": [],
   "source": [
    "full_data = pd.concat([train_data,test_data],axis=0)"
   ]
  },
  {
   "cell_type": "code",
   "execution_count": 12,
   "metadata": {
    "colab": {
     "base_uri": "https://localhost:8080/"
    },
    "id": "7rFyxMcru25i",
    "outputId": "a9ea96a9-1c00-464b-8b7a-5028dd206040"
   },
   "outputs": [
    {
     "name": "stdout",
     "output_type": "stream",
     "text": [
      "(19237, 18)\n",
      "(8245, 18)\n",
      "(27482, 18)\n"
     ]
    }
   ],
   "source": [
    "print(train_data.shape)\n",
    "print(test_data.shape)\n",
    "print(full_data.shape)"
   ]
  },
  {
   "cell_type": "code",
   "execution_count": 13,
   "metadata": {
    "colab": {
     "base_uri": "https://localhost:8080/",
     "height": 365
    },
    "id": "ZN4E1lqsvFMA",
    "outputId": "18a2f2a8-9901-4245-ef10-5285766d60e1"
   },
   "outputs": [
    {
     "data": {
      "text/html": [
       "<div>\n",
       "<style scoped>\n",
       "    .dataframe tbody tr th:only-of-type {\n",
       "        vertical-align: middle;\n",
       "    }\n",
       "\n",
       "    .dataframe tbody tr th {\n",
       "        vertical-align: top;\n",
       "    }\n",
       "\n",
       "    .dataframe thead th {\n",
       "        text-align: right;\n",
       "    }\n",
       "</style>\n",
       "<table border=\"1\" class=\"dataframe\">\n",
       "  <thead>\n",
       "    <tr style=\"text-align: right;\">\n",
       "      <th></th>\n",
       "      <th>ID</th>\n",
       "      <th>Levy</th>\n",
       "      <th>Manufacturer</th>\n",
       "      <th>Model</th>\n",
       "      <th>Prod. year</th>\n",
       "      <th>Category</th>\n",
       "      <th>Leather interior</th>\n",
       "      <th>Fuel type</th>\n",
       "      <th>Engine volume</th>\n",
       "      <th>Mileage</th>\n",
       "      <th>Cylinders</th>\n",
       "      <th>Gear box type</th>\n",
       "      <th>Drive wheels</th>\n",
       "      <th>Doors</th>\n",
       "      <th>Wheel</th>\n",
       "      <th>Color</th>\n",
       "      <th>Airbags</th>\n",
       "      <th>Price</th>\n",
       "    </tr>\n",
       "  </thead>\n",
       "  <tbody>\n",
       "    <tr>\n",
       "      <th>0</th>\n",
       "      <td>45654403</td>\n",
       "      <td>1399</td>\n",
       "      <td>LEXUS</td>\n",
       "      <td>RX 450</td>\n",
       "      <td>2010</td>\n",
       "      <td>Jeep</td>\n",
       "      <td>Yes</td>\n",
       "      <td>Hybrid</td>\n",
       "      <td>3.5</td>\n",
       "      <td>186005 km</td>\n",
       "      <td>6.0</td>\n",
       "      <td>Automatic</td>\n",
       "      <td>4x4</td>\n",
       "      <td>04-May</td>\n",
       "      <td>Left wheel</td>\n",
       "      <td>Silver</td>\n",
       "      <td>12</td>\n",
       "      <td>13328.0</td>\n",
       "    </tr>\n",
       "    <tr>\n",
       "      <th>1</th>\n",
       "      <td>44731507</td>\n",
       "      <td>1018</td>\n",
       "      <td>CHEVROLET</td>\n",
       "      <td>Equinox</td>\n",
       "      <td>2011</td>\n",
       "      <td>Jeep</td>\n",
       "      <td>No</td>\n",
       "      <td>Petrol</td>\n",
       "      <td>3</td>\n",
       "      <td>192000 km</td>\n",
       "      <td>6.0</td>\n",
       "      <td>Tiptronic</td>\n",
       "      <td>4x4</td>\n",
       "      <td>04-May</td>\n",
       "      <td>Left wheel</td>\n",
       "      <td>Black</td>\n",
       "      <td>8</td>\n",
       "      <td>16621.0</td>\n",
       "    </tr>\n",
       "    <tr>\n",
       "      <th>2</th>\n",
       "      <td>45774419</td>\n",
       "      <td>-</td>\n",
       "      <td>HONDA</td>\n",
       "      <td>FIT</td>\n",
       "      <td>2006</td>\n",
       "      <td>Hatchback</td>\n",
       "      <td>No</td>\n",
       "      <td>Petrol</td>\n",
       "      <td>1.3</td>\n",
       "      <td>200000 km</td>\n",
       "      <td>4.0</td>\n",
       "      <td>Variator</td>\n",
       "      <td>Front</td>\n",
       "      <td>04-May</td>\n",
       "      <td>Right-hand drive</td>\n",
       "      <td>Black</td>\n",
       "      <td>2</td>\n",
       "      <td>8467.0</td>\n",
       "    </tr>\n",
       "    <tr>\n",
       "      <th>3</th>\n",
       "      <td>45769185</td>\n",
       "      <td>862</td>\n",
       "      <td>FORD</td>\n",
       "      <td>Escape</td>\n",
       "      <td>2011</td>\n",
       "      <td>Jeep</td>\n",
       "      <td>Yes</td>\n",
       "      <td>Hybrid</td>\n",
       "      <td>2.5</td>\n",
       "      <td>168966 km</td>\n",
       "      <td>4.0</td>\n",
       "      <td>Automatic</td>\n",
       "      <td>4x4</td>\n",
       "      <td>04-May</td>\n",
       "      <td>Left wheel</td>\n",
       "      <td>White</td>\n",
       "      <td>0</td>\n",
       "      <td>3607.0</td>\n",
       "    </tr>\n",
       "    <tr>\n",
       "      <th>4</th>\n",
       "      <td>45809263</td>\n",
       "      <td>446</td>\n",
       "      <td>HONDA</td>\n",
       "      <td>FIT</td>\n",
       "      <td>2014</td>\n",
       "      <td>Hatchback</td>\n",
       "      <td>Yes</td>\n",
       "      <td>Petrol</td>\n",
       "      <td>1.3</td>\n",
       "      <td>91901 km</td>\n",
       "      <td>4.0</td>\n",
       "      <td>Automatic</td>\n",
       "      <td>Front</td>\n",
       "      <td>04-May</td>\n",
       "      <td>Left wheel</td>\n",
       "      <td>Silver</td>\n",
       "      <td>4</td>\n",
       "      <td>11726.0</td>\n",
       "    </tr>\n",
       "  </tbody>\n",
       "</table>\n",
       "</div>"
      ],
      "text/plain": [
       "         ID  Levy Manufacturer    Model  Prod. year   Category  \\\n",
       "0  45654403  1399        LEXUS   RX 450        2010       Jeep   \n",
       "1  44731507  1018    CHEVROLET  Equinox        2011       Jeep   \n",
       "2  45774419     -        HONDA      FIT        2006  Hatchback   \n",
       "3  45769185   862         FORD   Escape        2011       Jeep   \n",
       "4  45809263   446        HONDA      FIT        2014  Hatchback   \n",
       "\n",
       "  Leather interior Fuel type Engine volume    Mileage  Cylinders  \\\n",
       "0              Yes    Hybrid           3.5  186005 km        6.0   \n",
       "1               No    Petrol             3  192000 km        6.0   \n",
       "2               No    Petrol           1.3  200000 km        4.0   \n",
       "3              Yes    Hybrid           2.5  168966 km        4.0   \n",
       "4              Yes    Petrol           1.3   91901 km        4.0   \n",
       "\n",
       "  Gear box type Drive wheels   Doors             Wheel   Color  Airbags  \\\n",
       "0     Automatic          4x4  04-May        Left wheel  Silver       12   \n",
       "1     Tiptronic          4x4  04-May        Left wheel   Black        8   \n",
       "2      Variator        Front  04-May  Right-hand drive   Black        2   \n",
       "3     Automatic          4x4  04-May        Left wheel   White        0   \n",
       "4     Automatic        Front  04-May        Left wheel  Silver        4   \n",
       "\n",
       "     Price  \n",
       "0  13328.0  \n",
       "1  16621.0  \n",
       "2   8467.0  \n",
       "3   3607.0  \n",
       "4  11726.0  "
      ]
     },
     "execution_count": 13,
     "metadata": {},
     "output_type": "execute_result"
    }
   ],
   "source": [
    "full_data.head()"
   ]
  },
  {
   "cell_type": "code",
   "execution_count": 14,
   "metadata": {
    "id": "Sjg60xGC-831"
   },
   "outputs": [],
   "source": [
    "# pd.set_option('display.height', 500)\n",
    "pd.set_option('display.max_rows', 500)"
   ]
  },
  {
   "cell_type": "code",
   "execution_count": 15,
   "metadata": {
    "id": "p2CzJeDXsgfD"
   },
   "outputs": [],
   "source": [
    "full_data['Prod. year']=full_data['Prod. year'].astype(object)\n",
    "\n",
    "full_data[\"Mileage\"]=full_data['Mileage'].replace({'1234567899 km':\"0 km\"})\n",
    "full_data['Mileage']=full_data['Mileage'].str.replace('km','')\n",
    "full_data['Mileage']=full_data['Mileage'].astype(int)\n",
    "\n",
    "full_data['Doors']=full_data['Doors'].replace({'04-May':4,'02-Mar':2})\n",
    "full_data['Doors']=full_data['Doors'].astype(str)\n",
    "\n",
    "full_data['Levy']=full_data['Levy'].replace({'-':np.nan})\n",
    "full_data['Levy']=full_data['Levy'].astype(float)\n",
    "\n",
    "full_data[\"Cylinders\"]=full_data[\"Cylinders\"].replace({127.0:12})\n",
    "full_data['Cylinders']=full_data['Cylinders'].astype(str)\n",
    "\n",
    "full_data['Turbo engine']=full_data['Engine volume'].replace(['2.0 Turbo', '2.2 Turbo','3.0 Turbo','1.4 Turbo','1.5 Turbo', '1.6 Turbo','2.3 Turbo','2.8 Turbo','1.8 Turbo', '2.4 Turbo', '3.5 Turbo', '3.2 Turbo','1.3 Turbo','2.5 Turbo','1.9 Turbo', '4.4 Turbo', '4.7 Turbo', '0.2 Turbo','4.8 Turbo', '4.6 Turbo','1.2 Turbo','1.7 Turbo', '6.3 Turbo', '2.7 Turbo','2.9 Turbo', '4.0 Turbo','3.6 Turbo','3.7 Turbo','5.5 Turbo','2.1 Turbo','0.7 Turbo', '0.6 Turbo','1.0 Turbo', '4.5 Turbo', '0.8 Turbo', '4.2 Turbo', '3.1', '5.0 Turbo','5.7 Turbo','0.4 Turbo', '5.4 Turbo', '0.3 Turbo','1.1 Turbo','2.6 Turbo','6.0 Turbo'],'Turbo')\n",
    "full_data['Turbo engine']=full_data['Turbo engine'].replace(['3.5','3','1.3','2.5','2','1.8','2.4','4','1.6','3.3','4.7','1.5','4.4','3.6','2.3','2.2','1.4','5.5','3.2','3.8','4.6','1.2','5', '1.7', '2.9', '0.5','1.9','2.7','4.8','5.3','0.4','2.8','1.1','2.1','0.7','5.4','3.7','1','2.6','5.7','3.4','4.3','4.2','5.9','6.8','4.5','0.6','7.3','0.1','6.3','6.4','5.2','5.8','0.8', '6.7', '6.2', '0', '20', '0.3', '0.2','5.6', '6', '3.9', '0.9','6.1','6.6','10.8'],'No')\n",
    "full_data['Turbo engine'] = full_data['Turbo engine'].replace(\"Turbo\",\"Yes\")\n",
    "\n",
    "full_data['Engine volume']=full_data['Engine volume'].str.replace('Turbo','')\n",
    "full_data['Engine volume']=full_data['Engine volume'].astype(float)\n",
    "\n",
    "full_data['Drive wheels']=full_data['Drive wheels'].replace({'4x4':'4-WD'})\n",
    "\n",
    "full_data[\"Airbags\"] = full_data[\"Airbags\"].astype(str)\n",
    "\n",
    "full_data[\"Price\"] = full_data[\"Price\"].replace({26307500.0:26307.0})\n",
    "\n",
    "# full_data['Costly car'] = full_data['Price'].apply(lambda x: 1 if x >= 100000 else 0)"
   ]
  },
  {
   "cell_type": "code",
   "execution_count": 16,
   "metadata": {
    "id": "lo8BO1BkGYjm"
   },
   "outputs": [],
   "source": [
    "full_data['Mileage'] = full_data['Mileage'].apply(lambda x: x if x <= 500000.0 else 0)\n",
    "\n",
    "full_data[\"Mileage\"] = full_data[\"Mileage\"].replace(0,full_data[\"Mileage\"].mean())\n",
    "\n",
    "full_data['Levy'] = full_data['Levy'].fillna(full_data['Levy'].mean())"
   ]
  },
  {
   "cell_type": "code",
   "execution_count": 17,
   "metadata": {
    "id": "FqKoT_Itt0rT"
   },
   "outputs": [],
   "source": [
    "full_data.drop([\"ID\",\"Price\",\"Manufacturer\",\"Model\"],axis=1,inplace=True)"
   ]
  },
  {
   "cell_type": "code",
   "execution_count": 18,
   "metadata": {
    "id": "s7wyD-PIOjDL"
   },
   "outputs": [],
   "source": [
    "full_data_copy = full_data.copy()"
   ]
  },
  {
   "cell_type": "code",
   "execution_count": 19,
   "metadata": {
    "id": "kpDt2ndZ94xH"
   },
   "outputs": [],
   "source": [
    "from sklearn.preprocessing import LabelEncoder\n",
    "lbl = LabelEncoder()\n",
    "for col in full_data_copy.columns.values:\n",
    "    if full_data_copy.loc[:,col].dtype == \"object\":\n",
    "        lbl.fit(full_data_copy.loc[:,col].astype(str))\n",
    "        full_data_copy.loc[:,col] = lbl.transform(full_data_copy.loc[:,col].astype(str))\n",
    "        # test.loc[:,col] = lbl.transform(test.loc[:,col].astype(str))"
   ]
  },
  {
   "cell_type": "code",
   "execution_count": 20,
   "metadata": {
    "id": "-vQ0IDRySmPO"
   },
   "outputs": [],
   "source": [
    "from sklearn.preprocessing import LabelEncoder\n",
    "lbl = LabelEncoder()\n",
    "for col in full_data_copy.columns.values:\n",
    "    if full_data_copy.loc[:,col].dtype == \"object\":\n",
    "        lbl.fit(full_data_copy.loc[:,col].astype(int64))\n",
    "        full_data_copy.loc[:,col] = lbl.transform(full_data_copy.loc[:,col].astype(int64))\n",
    "        # test.loc[:,col] = lbl.transform(test.loc[:,col].astype(str))"
   ]
  },
  {
   "cell_type": "code",
   "execution_count": 21,
   "metadata": {
    "colab": {
     "base_uri": "https://localhost:8080/",
     "height": 223
    },
    "id": "jgjvBziNPYK1",
    "outputId": "e07254ff-1486-4922-aac6-bdaa1d5e7534"
   },
   "outputs": [
    {
     "data": {
      "text/html": [
       "<div>\n",
       "<style scoped>\n",
       "    .dataframe tbody tr th:only-of-type {\n",
       "        vertical-align: middle;\n",
       "    }\n",
       "\n",
       "    .dataframe tbody tr th {\n",
       "        vertical-align: top;\n",
       "    }\n",
       "\n",
       "    .dataframe thead th {\n",
       "        text-align: right;\n",
       "    }\n",
       "</style>\n",
       "<table border=\"1\" class=\"dataframe\">\n",
       "  <thead>\n",
       "    <tr style=\"text-align: right;\">\n",
       "      <th></th>\n",
       "      <th>Levy</th>\n",
       "      <th>Prod. year</th>\n",
       "      <th>Category</th>\n",
       "      <th>Leather interior</th>\n",
       "      <th>Fuel type</th>\n",
       "      <th>Engine volume</th>\n",
       "      <th>Mileage</th>\n",
       "      <th>Cylinders</th>\n",
       "      <th>Gear box type</th>\n",
       "      <th>Drive wheels</th>\n",
       "      <th>Doors</th>\n",
       "      <th>Wheel</th>\n",
       "      <th>Color</th>\n",
       "      <th>Airbags</th>\n",
       "      <th>Turbo engine</th>\n",
       "    </tr>\n",
       "  </thead>\n",
       "  <tbody>\n",
       "    <tr>\n",
       "      <th>0</th>\n",
       "      <td>1399.000000</td>\n",
       "      <td>48</td>\n",
       "      <td>4</td>\n",
       "      <td>1</td>\n",
       "      <td>2</td>\n",
       "      <td>3.5</td>\n",
       "      <td>186005.0</td>\n",
       "      <td>11</td>\n",
       "      <td>0</td>\n",
       "      <td>0</td>\n",
       "      <td>1</td>\n",
       "      <td>0</td>\n",
       "      <td>12</td>\n",
       "      <td>4</td>\n",
       "      <td>0</td>\n",
       "    </tr>\n",
       "    <tr>\n",
       "      <th>1</th>\n",
       "      <td>1018.000000</td>\n",
       "      <td>49</td>\n",
       "      <td>4</td>\n",
       "      <td>0</td>\n",
       "      <td>5</td>\n",
       "      <td>3.0</td>\n",
       "      <td>192000.0</td>\n",
       "      <td>11</td>\n",
       "      <td>2</td>\n",
       "      <td>0</td>\n",
       "      <td>1</td>\n",
       "      <td>0</td>\n",
       "      <td>1</td>\n",
       "      <td>15</td>\n",
       "      <td>0</td>\n",
       "    </tr>\n",
       "    <tr>\n",
       "      <th>2</th>\n",
       "      <td>910.160914</td>\n",
       "      <td>44</td>\n",
       "      <td>3</td>\n",
       "      <td>0</td>\n",
       "      <td>5</td>\n",
       "      <td>1.3</td>\n",
       "      <td>200000.0</td>\n",
       "      <td>9</td>\n",
       "      <td>3</td>\n",
       "      <td>1</td>\n",
       "      <td>1</td>\n",
       "      <td>1</td>\n",
       "      <td>1</td>\n",
       "      <td>9</td>\n",
       "      <td>0</td>\n",
       "    </tr>\n",
       "    <tr>\n",
       "      <th>3</th>\n",
       "      <td>862.000000</td>\n",
       "      <td>49</td>\n",
       "      <td>4</td>\n",
       "      <td>1</td>\n",
       "      <td>2</td>\n",
       "      <td>2.5</td>\n",
       "      <td>168966.0</td>\n",
       "      <td>9</td>\n",
       "      <td>0</td>\n",
       "      <td>0</td>\n",
       "      <td>1</td>\n",
       "      <td>0</td>\n",
       "      <td>14</td>\n",
       "      <td>0</td>\n",
       "      <td>0</td>\n",
       "    </tr>\n",
       "    <tr>\n",
       "      <th>4</th>\n",
       "      <td>446.000000</td>\n",
       "      <td>52</td>\n",
       "      <td>3</td>\n",
       "      <td>1</td>\n",
       "      <td>5</td>\n",
       "      <td>1.3</td>\n",
       "      <td>91901.0</td>\n",
       "      <td>9</td>\n",
       "      <td>0</td>\n",
       "      <td>1</td>\n",
       "      <td>1</td>\n",
       "      <td>0</td>\n",
       "      <td>12</td>\n",
       "      <td>11</td>\n",
       "      <td>0</td>\n",
       "    </tr>\n",
       "  </tbody>\n",
       "</table>\n",
       "</div>"
      ],
      "text/plain": [
       "          Levy  Prod. year  Category  Leather interior  Fuel type  \\\n",
       "0  1399.000000          48         4                 1          2   \n",
       "1  1018.000000          49         4                 0          5   \n",
       "2   910.160914          44         3                 0          5   \n",
       "3   862.000000          49         4                 1          2   \n",
       "4   446.000000          52         3                 1          5   \n",
       "\n",
       "   Engine volume   Mileage  Cylinders  Gear box type  Drive wheels  Doors  \\\n",
       "0            3.5  186005.0         11              0             0      1   \n",
       "1            3.0  192000.0         11              2             0      1   \n",
       "2            1.3  200000.0          9              3             1      1   \n",
       "3            2.5  168966.0          9              0             0      1   \n",
       "4            1.3   91901.0          9              0             1      1   \n",
       "\n",
       "   Wheel  Color  Airbags  Turbo engine  \n",
       "0      0     12        4             0  \n",
       "1      0      1       15             0  \n",
       "2      1      1        9             0  \n",
       "3      0     14        0             0  \n",
       "4      0     12       11             0  "
      ]
     },
     "execution_count": 21,
     "metadata": {},
     "output_type": "execute_result"
    }
   ],
   "source": [
    "full_data_copy.head()"
   ]
  },
  {
   "cell_type": "code",
   "execution_count": 22,
   "metadata": {
    "colab": {
     "base_uri": "https://localhost:8080/"
    },
    "id": "lpdmxKxAgZR-",
    "outputId": "a2e90a0b-f25f-4542-e35e-919117b45341"
   },
   "outputs": [
    {
     "name": "stdout",
     "output_type": "stream",
     "text": [
      "<class 'pandas.core.frame.DataFrame'>\n",
      "Int64Index: 27482 entries, 0 to 8244\n",
      "Data columns (total 15 columns):\n",
      " #   Column            Non-Null Count  Dtype  \n",
      "---  ------            --------------  -----  \n",
      " 0   Levy              27482 non-null  float64\n",
      " 1   Prod. year        27482 non-null  int32  \n",
      " 2   Category          27482 non-null  int32  \n",
      " 3   Leather interior  27482 non-null  int32  \n",
      " 4   Fuel type         27482 non-null  int32  \n",
      " 5   Engine volume     27482 non-null  float64\n",
      " 6   Mileage           27482 non-null  float64\n",
      " 7   Cylinders         27482 non-null  int32  \n",
      " 8   Gear box type     27482 non-null  int32  \n",
      " 9   Drive wheels      27482 non-null  int32  \n",
      " 10  Doors             27482 non-null  int32  \n",
      " 11  Wheel             27482 non-null  int32  \n",
      " 12  Color             27482 non-null  int32  \n",
      " 13  Airbags           27482 non-null  int32  \n",
      " 14  Turbo engine      27482 non-null  int32  \n",
      "dtypes: float64(3), int32(12)\n",
      "memory usage: 2.1 MB\n"
     ]
    }
   ],
   "source": [
    "full_data_copy.info()"
   ]
  },
  {
   "cell_type": "code",
   "execution_count": 23,
   "metadata": {
    "colab": {
     "base_uri": "https://localhost:8080/"
    },
    "id": "BVjbqeQs_tEm",
    "outputId": "f879e476-0e06-43ed-84f4-4805c8dfca61"
   },
   "outputs": [
    {
     "data": {
      "text/plain": [
       "Index(['Levy', 'Prod. year', 'Category', 'Leather interior', 'Fuel type',\n",
       "       'Engine volume', 'Mileage', 'Cylinders', 'Gear box type',\n",
       "       'Drive wheels', 'Doors', 'Wheel', 'Color', 'Airbags', 'Turbo engine'],\n",
       "      dtype='object')"
      ]
     },
     "execution_count": 23,
     "metadata": {},
     "output_type": "execute_result"
    }
   ],
   "source": [
    "full_data_copy.columns"
   ]
  },
  {
   "cell_type": "code",
   "execution_count": 24,
   "metadata": {
    "id": "dZlupNeITGpL"
   },
   "outputs": [],
   "source": [
    "sc = StandardScaler()\n",
    "full_data_copy_sc = pd.DataFrame(sc.fit_transform(full_data_copy))\n",
    "# test_sc = pd.DataFrame(sc.fit_transform(test))"
   ]
  },
  {
   "cell_type": "code",
   "execution_count": 25,
   "metadata": {
    "id": "-T8ZdFXp_y7z"
   },
   "outputs": [],
   "source": [
    "full_data_copy_sc.columns = full_data_copy.columns"
   ]
  },
  {
   "cell_type": "code",
   "execution_count": 26,
   "metadata": {
    "colab": {
     "base_uri": "https://localhost:8080/"
    },
    "id": "qszenxfGTPKn",
    "outputId": "2677680c-850b-402d-b7d8-a8c611be7049"
   },
   "outputs": [
    {
     "data": {
      "text/plain": [
       "(27482, 15)"
      ]
     },
     "execution_count": 26,
     "metadata": {},
     "output_type": "execute_result"
    }
   ],
   "source": [
    "full_data_copy_sc.shape"
   ]
  },
  {
   "cell_type": "code",
   "execution_count": 27,
   "metadata": {
    "colab": {
     "base_uri": "https://localhost:8080/",
     "height": 206
    },
    "id": "Iok_cngn_8Gw",
    "outputId": "2a0c97c5-4aee-4a00-c5ed-b20b4ef51ce8"
   },
   "outputs": [
    {
     "data": {
      "text/html": [
       "<div>\n",
       "<style scoped>\n",
       "    .dataframe tbody tr th:only-of-type {\n",
       "        vertical-align: middle;\n",
       "    }\n",
       "\n",
       "    .dataframe tbody tr th {\n",
       "        vertical-align: top;\n",
       "    }\n",
       "\n",
       "    .dataframe thead th {\n",
       "        text-align: right;\n",
       "    }\n",
       "</style>\n",
       "<table border=\"1\" class=\"dataframe\">\n",
       "  <thead>\n",
       "    <tr style=\"text-align: right;\">\n",
       "      <th></th>\n",
       "      <th>Levy</th>\n",
       "      <th>Prod. year</th>\n",
       "      <th>Category</th>\n",
       "      <th>Leather interior</th>\n",
       "      <th>Fuel type</th>\n",
       "      <th>Engine volume</th>\n",
       "      <th>Mileage</th>\n",
       "      <th>Cylinders</th>\n",
       "      <th>Gear box type</th>\n",
       "      <th>Drive wheels</th>\n",
       "      <th>Doors</th>\n",
       "      <th>Wheel</th>\n",
       "      <th>Color</th>\n",
       "      <th>Airbags</th>\n",
       "      <th>Turbo engine</th>\n",
       "    </tr>\n",
       "  </thead>\n",
       "  <tbody>\n",
       "    <tr>\n",
       "      <th>0</th>\n",
       "      <td>1.282596</td>\n",
       "      <td>-0.166025</td>\n",
       "      <td>-0.817229</td>\n",
       "      <td>0.615795</td>\n",
       "      <td>-0.793472</td>\n",
       "      <td>1.346803</td>\n",
       "      <td>0.525957</td>\n",
       "      <td>1.163112</td>\n",
       "      <td>-0.599015</td>\n",
       "      <td>-1.599316</td>\n",
       "      <td>0.160242</td>\n",
       "      <td>-0.287490</td>\n",
       "      <td>0.790596</td>\n",
       "      <td>-0.717521</td>\n",
       "      <td>-0.334262</td>\n",
       "    </tr>\n",
       "    <tr>\n",
       "      <th>1</th>\n",
       "      <td>0.282944</td>\n",
       "      <td>0.014198</td>\n",
       "      <td>-0.817229</td>\n",
       "      <td>-1.623918</td>\n",
       "      <td>0.867362</td>\n",
       "      <td>0.779438</td>\n",
       "      <td>0.595723</td>\n",
       "      <td>1.163112</td>\n",
       "      <td>1.633895</td>\n",
       "      <td>-1.599316</td>\n",
       "      <td>0.160242</td>\n",
       "      <td>-0.287490</td>\n",
       "      <td>-1.259927</td>\n",
       "      <td>1.553387</td>\n",
       "      <td>-0.334262</td>\n",
       "    </tr>\n",
       "    <tr>\n",
       "      <th>2</th>\n",
       "      <td>0.000000</td>\n",
       "      <td>-0.886914</td>\n",
       "      <td>-1.175834</td>\n",
       "      <td>-1.623918</td>\n",
       "      <td>0.867362</td>\n",
       "      <td>-1.149602</td>\n",
       "      <td>0.688821</td>\n",
       "      <td>-0.426576</td>\n",
       "      <td>2.750351</td>\n",
       "      <td>0.159765</td>\n",
       "      <td>0.160242</td>\n",
       "      <td>3.478382</td>\n",
       "      <td>-1.259927</td>\n",
       "      <td>0.314710</td>\n",
       "      <td>-0.334262</td>\n",
       "    </tr>\n",
       "    <tr>\n",
       "      <th>3</th>\n",
       "      <td>-0.126363</td>\n",
       "      <td>0.014198</td>\n",
       "      <td>-0.817229</td>\n",
       "      <td>0.615795</td>\n",
       "      <td>-0.793472</td>\n",
       "      <td>0.212073</td>\n",
       "      <td>0.327668</td>\n",
       "      <td>-0.426576</td>\n",
       "      <td>-0.599015</td>\n",
       "      <td>-1.599316</td>\n",
       "      <td>0.160242</td>\n",
       "      <td>-0.287490</td>\n",
       "      <td>1.163418</td>\n",
       "      <td>-1.543306</td>\n",
       "      <td>-0.334262</td>\n",
       "    </tr>\n",
       "    <tr>\n",
       "      <th>4</th>\n",
       "      <td>-1.217846</td>\n",
       "      <td>0.554865</td>\n",
       "      <td>-1.175834</td>\n",
       "      <td>0.615795</td>\n",
       "      <td>0.867362</td>\n",
       "      <td>-1.149602</td>\n",
       "      <td>-0.569162</td>\n",
       "      <td>-0.426576</td>\n",
       "      <td>-0.599015</td>\n",
       "      <td>0.159765</td>\n",
       "      <td>0.160242</td>\n",
       "      <td>-0.287490</td>\n",
       "      <td>0.790596</td>\n",
       "      <td>0.727602</td>\n",
       "      <td>-0.334262</td>\n",
       "    </tr>\n",
       "  </tbody>\n",
       "</table>\n",
       "</div>"
      ],
      "text/plain": [
       "       Levy  Prod. year  Category  Leather interior  Fuel type  Engine volume  \\\n",
       "0  1.282596   -0.166025 -0.817229          0.615795  -0.793472       1.346803   \n",
       "1  0.282944    0.014198 -0.817229         -1.623918   0.867362       0.779438   \n",
       "2  0.000000   -0.886914 -1.175834         -1.623918   0.867362      -1.149602   \n",
       "3 -0.126363    0.014198 -0.817229          0.615795  -0.793472       0.212073   \n",
       "4 -1.217846    0.554865 -1.175834          0.615795   0.867362      -1.149602   \n",
       "\n",
       "    Mileage  Cylinders  Gear box type  Drive wheels     Doors     Wheel  \\\n",
       "0  0.525957   1.163112      -0.599015     -1.599316  0.160242 -0.287490   \n",
       "1  0.595723   1.163112       1.633895     -1.599316  0.160242 -0.287490   \n",
       "2  0.688821  -0.426576       2.750351      0.159765  0.160242  3.478382   \n",
       "3  0.327668  -0.426576      -0.599015     -1.599316  0.160242 -0.287490   \n",
       "4 -0.569162  -0.426576      -0.599015      0.159765  0.160242 -0.287490   \n",
       "\n",
       "      Color   Airbags  Turbo engine  \n",
       "0  0.790596 -0.717521     -0.334262  \n",
       "1 -1.259927  1.553387     -0.334262  \n",
       "2 -1.259927  0.314710     -0.334262  \n",
       "3  1.163418 -1.543306     -0.334262  \n",
       "4  0.790596  0.727602     -0.334262  "
      ]
     },
     "execution_count": 27,
     "metadata": {},
     "output_type": "execute_result"
    }
   ],
   "source": [
    "full_data_copy_sc.head()"
   ]
  },
  {
   "cell_type": "code",
   "execution_count": 28,
   "metadata": {
    "id": "8Wp56Eqvsgt5"
   },
   "outputs": [],
   "source": [
    "train = full_data_copy_sc.iloc[:19237]\n",
    "test = full_data_copy_sc.iloc[19237:]"
   ]
  },
  {
   "cell_type": "code",
   "execution_count": 183,
   "metadata": {
    "id": "qsGqfdBJ6BWY"
   },
   "outputs": [],
   "source": [
    "# display(train.tail())\n",
    "# display(train_data.tail())\n",
    "\n",
    "# display(test.head())\n",
    "# display(test_data.head())\n",
    "\n",
    "# print(test.shape)\n",
    "# print(test_data.shape)"
   ]
  },
  {
   "cell_type": "code",
   "execution_count": 28,
   "metadata": {
    "id": "89dc7l8s6BYy"
   },
   "outputs": [],
   "source": [
    "from sklearn.model_selection import train_test_split\n",
    "from sklearn.decomposition import PCA\n",
    "\n",
    "from sklearn.tree import DecisionTreeRegressor\n",
    "from sklearn.neighbors import KNeighborsRegressor\n",
    "\n",
    "from sklearn.ensemble import RandomForestRegressor\n",
    "\n",
    "from sklearn.ensemble import BaggingRegressor\n",
    "from sklearn.ensemble import AdaBoostRegressor\n",
    "from sklearn.ensemble import GradientBoostingRegressor\n",
    "\n",
    "from xgboost import XGBRegressor\n",
    "from sklearn.metrics import explained_variance_score\n",
    "\n",
    "from lightgbm import LGBMRegressor\n",
    "from catboost import CatBoostRegressor\n",
    "\n",
    "from sklearn.metrics import mean_squared_log_error\n",
    "from sklearn.metrics import mean_absolute_error\n",
    "from sklearn.metrics import mean_squared_error\n",
    "from sklearn.metrics import r2_score\n",
    "\n",
    "import statsmodels\n",
    "import statsmodels.api"
   ]
  },
  {
   "cell_type": "code",
   "execution_count": 196,
   "metadata": {
    "id": "SLVQ4Z0x6BbF"
   },
   "outputs": [],
   "source": [
    "X = train\n",
    "y = train_price\n",
    "# X_train, X_test, y_train, y_test = train_test_split(X, y, test_size = 0.2, random_state = 2)\n",
    "x_train,x_test,y_train,y_test=train_test_split(X,y,test_size=0.2,random_state=42)"
   ]
  },
  {
   "cell_type": "code",
   "execution_count": 25,
   "metadata": {
    "id": "6EkkHuNX6Bde"
   },
   "outputs": [],
   "source": [
    "# xgb = XGBRegressor()\n",
    "# xgb.fit(X_train,y_train)\n",
    "# y_pred = xgb.predict(X_test)\n",
    "# print(\"Mean Absolute Error is\",mean_absolute_error(y_test,y_pred))\n",
    "# print(\"Mean Squared Error is\",mean_squared_error(y_test,y_pred))\n",
    "# print(\"R squared Score is\",r2_score(y_test,y_pred))\n",
    "# print(\"Mean Absolute Logarithmic Error is\",np.sqrt(mean_squared_log_error(y_test,y_pred)))"
   ]
  },
  {
   "cell_type": "code",
   "execution_count": 26,
   "metadata": {
    "id": "Kn9HZKJC6Bff"
   },
   "outputs": [],
   "source": [
    "# xgb.fit(X,y)\n",
    "# y_pred_test = xgb.predict(test)\n",
    "# price_sub = pd.DataFrame({\"Price\":np.abs(y_pred_test)})\n",
    "# price_sub.to_csv(\"submission_1_xbg_carprice.csv\",index = False)\n",
    "# price_sub.head()"
   ]
  },
  {
   "cell_type": "code",
   "execution_count": 39,
   "metadata": {
    "id": "4jpbuCJN6Bhm"
   },
   "outputs": [],
   "source": [
    "x_train.insert(loc=0,column='intercept',value=np.ones(x_train.shape[0]))"
   ]
  },
  {
   "cell_type": "code",
   "execution_count": 40,
   "metadata": {
    "colab": {
     "base_uri": "https://localhost:8080/",
     "height": 223
    },
    "id": "b1pqZQ2S6BkL",
    "outputId": "40a72c4e-86bc-4562-c170-7a6bd300afe4"
   },
   "outputs": [
    {
     "data": {
      "text/html": [
       "<div>\n",
       "<style scoped>\n",
       "    .dataframe tbody tr th:only-of-type {\n",
       "        vertical-align: middle;\n",
       "    }\n",
       "\n",
       "    .dataframe tbody tr th {\n",
       "        vertical-align: top;\n",
       "    }\n",
       "\n",
       "    .dataframe thead th {\n",
       "        text-align: right;\n",
       "    }\n",
       "</style>\n",
       "<table border=\"1\" class=\"dataframe\">\n",
       "  <thead>\n",
       "    <tr style=\"text-align: right;\">\n",
       "      <th></th>\n",
       "      <th>intercept</th>\n",
       "      <th>Levy</th>\n",
       "      <th>Manufacturer</th>\n",
       "      <th>Model</th>\n",
       "      <th>Prod. year</th>\n",
       "      <th>Category</th>\n",
       "      <th>Leather interior</th>\n",
       "      <th>Fuel type</th>\n",
       "      <th>Engine volume</th>\n",
       "      <th>Mileage</th>\n",
       "      <th>Cylinders</th>\n",
       "      <th>Gear box type</th>\n",
       "      <th>Drive wheels</th>\n",
       "      <th>Doors</th>\n",
       "      <th>Wheel</th>\n",
       "      <th>Color</th>\n",
       "      <th>Airbags</th>\n",
       "      <th>Turbo engine</th>\n",
       "    </tr>\n",
       "  </thead>\n",
       "  <tbody>\n",
       "    <tr>\n",
       "      <th>7808</th>\n",
       "      <td>1.0</td>\n",
       "      <td>-0.344135</td>\n",
       "      <td>1.415532</td>\n",
       "      <td>-1.044192</td>\n",
       "      <td>0.374642</td>\n",
       "      <td>0.975797</td>\n",
       "      <td>0.615795</td>\n",
       "      <td>-0.793472</td>\n",
       "      <td>0.212073</td>\n",
       "      <td>0.985689</td>\n",
       "      <td>-0.426576</td>\n",
       "      <td>-0.599015</td>\n",
       "      <td>0.159765</td>\n",
       "      <td>0.160242</td>\n",
       "      <td>-0.28749</td>\n",
       "      <td>1.163418</td>\n",
       "      <td>-0.717521</td>\n",
       "      <td>-0.334262</td>\n",
       "    </tr>\n",
       "    <tr>\n",
       "      <th>16766</th>\n",
       "      <td>1.0</td>\n",
       "      <td>0.975616</td>\n",
       "      <td>-1.413256</td>\n",
       "      <td>-0.989432</td>\n",
       "      <td>-0.706692</td>\n",
       "      <td>-0.817229</td>\n",
       "      <td>0.615795</td>\n",
       "      <td>-1.347084</td>\n",
       "      <td>-0.355292</td>\n",
       "      <td>-0.751903</td>\n",
       "      <td>-0.426576</td>\n",
       "      <td>-0.599015</td>\n",
       "      <td>0.159765</td>\n",
       "      <td>0.160242</td>\n",
       "      <td>-0.28749</td>\n",
       "      <td>0.790596</td>\n",
       "      <td>0.727602</td>\n",
       "      <td>-0.334262</td>\n",
       "    </tr>\n",
       "    <tr>\n",
       "      <th>7285</th>\n",
       "      <td>1.0</td>\n",
       "      <td>1.282596</td>\n",
       "      <td>0.134571</td>\n",
       "      <td>-0.631532</td>\n",
       "      <td>-0.166025</td>\n",
       "      <td>0.975797</td>\n",
       "      <td>0.615795</td>\n",
       "      <td>-1.347084</td>\n",
       "      <td>1.346803</td>\n",
       "      <td>0.566978</td>\n",
       "      <td>1.163112</td>\n",
       "      <td>-0.599015</td>\n",
       "      <td>-1.599316</td>\n",
       "      <td>0.160242</td>\n",
       "      <td>-0.28749</td>\n",
       "      <td>-1.259927</td>\n",
       "      <td>-0.717521</td>\n",
       "      <td>-0.334262</td>\n",
       "    </tr>\n",
       "    <tr>\n",
       "      <th>15712</th>\n",
       "      <td>1.0</td>\n",
       "      <td>-0.703590</td>\n",
       "      <td>-1.413256</td>\n",
       "      <td>0.563420</td>\n",
       "      <td>0.194420</td>\n",
       "      <td>-0.817229</td>\n",
       "      <td>0.615795</td>\n",
       "      <td>-1.347084</td>\n",
       "      <td>-0.355292</td>\n",
       "      <td>0.904403</td>\n",
       "      <td>-0.426576</td>\n",
       "      <td>-0.599015</td>\n",
       "      <td>0.159765</td>\n",
       "      <td>0.160242</td>\n",
       "      <td>-0.28749</td>\n",
       "      <td>-0.141460</td>\n",
       "      <td>0.727602</td>\n",
       "      <td>-0.334262</td>\n",
       "    </tr>\n",
       "    <tr>\n",
       "      <th>16562</th>\n",
       "      <td>1.0</td>\n",
       "      <td>0.000000</td>\n",
       "      <td>-1.573376</td>\n",
       "      <td>1.625383</td>\n",
       "      <td>-1.968248</td>\n",
       "      <td>-0.817229</td>\n",
       "      <td>0.615795</td>\n",
       "      <td>0.313751</td>\n",
       "      <td>0.779438</td>\n",
       "      <td>-1.347710</td>\n",
       "      <td>1.163112</td>\n",
       "      <td>1.633895</td>\n",
       "      <td>-1.599316</td>\n",
       "      <td>0.160242</td>\n",
       "      <td>-0.28749</td>\n",
       "      <td>0.790596</td>\n",
       "      <td>1.140495</td>\n",
       "      <td>-0.334262</td>\n",
       "    </tr>\n",
       "  </tbody>\n",
       "</table>\n",
       "</div>"
      ],
      "text/plain": [
       "       intercept      Levy  Manufacturer     Model  Prod. year  Category  \\\n",
       "7808         1.0 -0.344135      1.415532 -1.044192    0.374642  0.975797   \n",
       "16766        1.0  0.975616     -1.413256 -0.989432   -0.706692 -0.817229   \n",
       "7285         1.0  1.282596      0.134571 -0.631532   -0.166025  0.975797   \n",
       "15712        1.0 -0.703590     -1.413256  0.563420    0.194420 -0.817229   \n",
       "16562        1.0  0.000000     -1.573376  1.625383   -1.968248 -0.817229   \n",
       "\n",
       "       Leather interior  Fuel type  Engine volume   Mileage  Cylinders  \\\n",
       "7808           0.615795  -0.793472       0.212073  0.985689  -0.426576   \n",
       "16766          0.615795  -1.347084      -0.355292 -0.751903  -0.426576   \n",
       "7285           0.615795  -1.347084       1.346803  0.566978   1.163112   \n",
       "15712          0.615795  -1.347084      -0.355292  0.904403  -0.426576   \n",
       "16562          0.615795   0.313751       0.779438 -1.347710   1.163112   \n",
       "\n",
       "       Gear box type  Drive wheels     Doors    Wheel     Color   Airbags  \\\n",
       "7808       -0.599015      0.159765  0.160242 -0.28749  1.163418 -0.717521   \n",
       "16766      -0.599015      0.159765  0.160242 -0.28749  0.790596  0.727602   \n",
       "7285       -0.599015     -1.599316  0.160242 -0.28749 -1.259927 -0.717521   \n",
       "15712      -0.599015      0.159765  0.160242 -0.28749 -0.141460  0.727602   \n",
       "16562       1.633895     -1.599316  0.160242 -0.28749  0.790596  1.140495   \n",
       "\n",
       "       Turbo engine  \n",
       "7808      -0.334262  \n",
       "16766     -0.334262  \n",
       "7285      -0.334262  \n",
       "15712     -0.334262  \n",
       "16562     -0.334262  "
      ]
     },
     "execution_count": 40,
     "metadata": {
      "tags": []
     },
     "output_type": "execute_result"
    }
   ],
   "source": [
    "x_train.head()"
   ]
  },
  {
   "cell_type": "code",
   "execution_count": 41,
   "metadata": {
    "id": "xifAWGu16BmP"
   },
   "outputs": [],
   "source": [
    "mlr_model=statsmodels.api.OLS(np.log(y_train),x_train).fit()"
   ]
  },
  {
   "cell_type": "code",
   "execution_count": 42,
   "metadata": {
    "colab": {
     "base_uri": "https://localhost:8080/",
     "height": 794
    },
    "id": "7IJs2X2I6BoW",
    "outputId": "9d33bc7a-083e-48d3-c4ac-2412c5e3f6be"
   },
   "outputs": [
    {
     "data": {
      "text/html": [
       "<table class=\"simpletable\">\n",
       "<caption>OLS Regression Results</caption>\n",
       "<tr>\n",
       "  <th>Dep. Variable:</th>          <td>Price</td>      <th>  R-squared:         </th> <td>   0.226</td> \n",
       "</tr>\n",
       "<tr>\n",
       "  <th>Model:</th>                   <td>OLS</td>       <th>  Adj. R-squared:    </th> <td>   0.225</td> \n",
       "</tr>\n",
       "<tr>\n",
       "  <th>Method:</th>             <td>Least Squares</td>  <th>  F-statistic:       </th> <td>   263.6</td> \n",
       "</tr>\n",
       "<tr>\n",
       "  <th>Date:</th>             <td>Mon, 19 Jul 2021</td> <th>  Prob (F-statistic):</th>  <td>  0.00</td>  \n",
       "</tr>\n",
       "<tr>\n",
       "  <th>Time:</th>                 <td>13:42:00</td>     <th>  Log-Likelihood:    </th> <td> -27065.</td> \n",
       "</tr>\n",
       "<tr>\n",
       "  <th>No. Observations:</th>      <td> 15389</td>      <th>  AIC:               </th> <td>5.417e+04</td>\n",
       "</tr>\n",
       "<tr>\n",
       "  <th>Df Residuals:</th>          <td> 15371</td>      <th>  BIC:               </th> <td>5.430e+04</td>\n",
       "</tr>\n",
       "<tr>\n",
       "  <th>Df Model:</th>              <td>    17</td>      <th>                     </th>     <td> </td>    \n",
       "</tr>\n",
       "<tr>\n",
       "  <th>Covariance Type:</th>      <td>nonrobust</td>    <th>                     </th>     <td> </td>    \n",
       "</tr>\n",
       "</table>\n",
       "<table class=\"simpletable\">\n",
       "<tr>\n",
       "          <td></td>            <th>coef</th>     <th>std err</th>      <th>t</th>      <th>P>|t|</th>  <th>[0.025</th>    <th>0.975]</th>  \n",
       "</tr>\n",
       "<tr>\n",
       "  <th>intercept</th>        <td>    9.0192</td> <td>    0.011</td> <td>  795.827</td> <td> 0.000</td> <td>    8.997</td> <td>    9.041</td>\n",
       "</tr>\n",
       "<tr>\n",
       "  <th>Levy</th>             <td>   -0.0272</td> <td>    0.015</td> <td>   -1.841</td> <td> 0.066</td> <td>   -0.056</td> <td>    0.002</td>\n",
       "</tr>\n",
       "<tr>\n",
       "  <th>Manufacturer</th>     <td>   -0.0742</td> <td>    0.012</td> <td>   -6.304</td> <td> 0.000</td> <td>   -0.097</td> <td>   -0.051</td>\n",
       "</tr>\n",
       "<tr>\n",
       "  <th>Model</th>            <td>    0.0507</td> <td>    0.012</td> <td>    4.224</td> <td> 0.000</td> <td>    0.027</td> <td>    0.074</td>\n",
       "</tr>\n",
       "<tr>\n",
       "  <th>Prod. year</th>       <td>    0.2749</td> <td>    0.014</td> <td>   20.105</td> <td> 0.000</td> <td>    0.248</td> <td>    0.302</td>\n",
       "</tr>\n",
       "<tr>\n",
       "  <th>Category</th>         <td>   -0.0539</td> <td>    0.012</td> <td>   -4.327</td> <td> 0.000</td> <td>   -0.078</td> <td>   -0.030</td>\n",
       "</tr>\n",
       "<tr>\n",
       "  <th>Leather interior</th> <td>   -0.0632</td> <td>    0.014</td> <td>   -4.490</td> <td> 0.000</td> <td>   -0.091</td> <td>   -0.036</td>\n",
       "</tr>\n",
       "<tr>\n",
       "  <th>Fuel type</th>        <td>   -0.0835</td> <td>    0.012</td> <td>   -6.928</td> <td> 0.000</td> <td>   -0.107</td> <td>   -0.060</td>\n",
       "</tr>\n",
       "<tr>\n",
       "  <th>Engine volume</th>    <td>    0.2202</td> <td>    0.019</td> <td>   11.571</td> <td> 0.000</td> <td>    0.183</td> <td>    0.258</td>\n",
       "</tr>\n",
       "<tr>\n",
       "  <th>Mileage</th>          <td>   -0.2259</td> <td>    0.012</td> <td>  -18.356</td> <td> 0.000</td> <td>   -0.250</td> <td>   -0.202</td>\n",
       "</tr>\n",
       "<tr>\n",
       "  <th>Cylinders</th>        <td>   -0.1043</td> <td>    0.016</td> <td>   -6.363</td> <td> 0.000</td> <td>   -0.136</td> <td>   -0.072</td>\n",
       "</tr>\n",
       "<tr>\n",
       "  <th>Gear box type</th>    <td>    0.3008</td> <td>    0.013</td> <td>   24.038</td> <td> 0.000</td> <td>    0.276</td> <td>    0.325</td>\n",
       "</tr>\n",
       "<tr>\n",
       "  <th>Drive wheels</th>     <td>    0.0181</td> <td>    0.013</td> <td>    1.426</td> <td> 0.154</td> <td>   -0.007</td> <td>    0.043</td>\n",
       "</tr>\n",
       "<tr>\n",
       "  <th>Doors</th>            <td>   -0.0049</td> <td>    0.012</td> <td>   -0.403</td> <td> 0.687</td> <td>   -0.029</td> <td>    0.019</td>\n",
       "</tr>\n",
       "<tr>\n",
       "  <th>Wheel</th>            <td>   -0.1541</td> <td>    0.013</td> <td>  -12.027</td> <td> 0.000</td> <td>   -0.179</td> <td>   -0.129</td>\n",
       "</tr>\n",
       "<tr>\n",
       "  <th>Color</th>            <td>   -0.0076</td> <td>    0.012</td> <td>   -0.656</td> <td> 0.512</td> <td>   -0.030</td> <td>    0.015</td>\n",
       "</tr>\n",
       "<tr>\n",
       "  <th>Airbags</th>          <td>    0.5090</td> <td>    0.012</td> <td>   42.194</td> <td> 0.000</td> <td>    0.485</td> <td>    0.533</td>\n",
       "</tr>\n",
       "<tr>\n",
       "  <th>Turbo engine</th>     <td>    0.1865</td> <td>    0.012</td> <td>   15.609</td> <td> 0.000</td> <td>    0.163</td> <td>    0.210</td>\n",
       "</tr>\n",
       "</table>\n",
       "<table class=\"simpletable\">\n",
       "<tr>\n",
       "  <th>Omnibus:</th>       <td>4218.934</td> <th>  Durbin-Watson:     </th> <td>   1.994</td> \n",
       "</tr>\n",
       "<tr>\n",
       "  <th>Prob(Omnibus):</th>  <td> 0.000</td>  <th>  Jarque-Bera (JB):  </th> <td>12632.480</td>\n",
       "</tr>\n",
       "<tr>\n",
       "  <th>Skew:</th>           <td>-1.423</td>  <th>  Prob(JB):          </th> <td>    0.00</td> \n",
       "</tr>\n",
       "<tr>\n",
       "  <th>Kurtosis:</th>       <td> 6.406</td>  <th>  Cond. No.          </th> <td>    3.28</td> \n",
       "</tr>\n",
       "</table><br/><br/>Warnings:<br/>[1] Standard Errors assume that the covariance matrix of the errors is correctly specified."
      ],
      "text/plain": [
       "<class 'statsmodels.iolib.summary.Summary'>\n",
       "\"\"\"\n",
       "                            OLS Regression Results                            \n",
       "==============================================================================\n",
       "Dep. Variable:                  Price   R-squared:                       0.226\n",
       "Model:                            OLS   Adj. R-squared:                  0.225\n",
       "Method:                 Least Squares   F-statistic:                     263.6\n",
       "Date:                Mon, 19 Jul 2021   Prob (F-statistic):               0.00\n",
       "Time:                        13:42:00   Log-Likelihood:                -27065.\n",
       "No. Observations:               15389   AIC:                         5.417e+04\n",
       "Df Residuals:                   15371   BIC:                         5.430e+04\n",
       "Df Model:                          17                                         \n",
       "Covariance Type:            nonrobust                                         \n",
       "====================================================================================\n",
       "                       coef    std err          t      P>|t|      [0.025      0.975]\n",
       "------------------------------------------------------------------------------------\n",
       "intercept            9.0192      0.011    795.827      0.000       8.997       9.041\n",
       "Levy                -0.0272      0.015     -1.841      0.066      -0.056       0.002\n",
       "Manufacturer        -0.0742      0.012     -6.304      0.000      -0.097      -0.051\n",
       "Model                0.0507      0.012      4.224      0.000       0.027       0.074\n",
       "Prod. year           0.2749      0.014     20.105      0.000       0.248       0.302\n",
       "Category            -0.0539      0.012     -4.327      0.000      -0.078      -0.030\n",
       "Leather interior    -0.0632      0.014     -4.490      0.000      -0.091      -0.036\n",
       "Fuel type           -0.0835      0.012     -6.928      0.000      -0.107      -0.060\n",
       "Engine volume        0.2202      0.019     11.571      0.000       0.183       0.258\n",
       "Mileage             -0.2259      0.012    -18.356      0.000      -0.250      -0.202\n",
       "Cylinders           -0.1043      0.016     -6.363      0.000      -0.136      -0.072\n",
       "Gear box type        0.3008      0.013     24.038      0.000       0.276       0.325\n",
       "Drive wheels         0.0181      0.013      1.426      0.154      -0.007       0.043\n",
       "Doors               -0.0049      0.012     -0.403      0.687      -0.029       0.019\n",
       "Wheel               -0.1541      0.013    -12.027      0.000      -0.179      -0.129\n",
       "Color               -0.0076      0.012     -0.656      0.512      -0.030       0.015\n",
       "Airbags              0.5090      0.012     42.194      0.000       0.485       0.533\n",
       "Turbo engine         0.1865      0.012     15.609      0.000       0.163       0.210\n",
       "==============================================================================\n",
       "Omnibus:                     4218.934   Durbin-Watson:                   1.994\n",
       "Prob(Omnibus):                  0.000   Jarque-Bera (JB):            12632.480\n",
       "Skew:                          -1.423   Prob(JB):                         0.00\n",
       "Kurtosis:                       6.406   Cond. No.                         3.28\n",
       "==============================================================================\n",
       "\n",
       "Warnings:\n",
       "[1] Standard Errors assume that the covariance matrix of the errors is correctly specified.\n",
       "\"\"\""
      ]
     },
     "execution_count": 42,
     "metadata": {
      "tags": []
     },
     "output_type": "execute_result"
    }
   ],
   "source": [
    "mlr_model.summary()"
   ]
  },
  {
   "cell_type": "code",
   "execution_count": 43,
   "metadata": {
    "id": "mrNf9wrp6Bqk"
   },
   "outputs": [],
   "source": [
    "t_intercept=mlr_model.params[0]/mlr_model.bse[0]"
   ]
  },
  {
   "cell_type": "code",
   "execution_count": 44,
   "metadata": {
    "id": "kqIFsfP06BsU"
   },
   "outputs": [],
   "source": [
    "t_slope=mlr_model.params[1]/mlr_model.bse[1]"
   ]
  },
  {
   "cell_type": "code",
   "execution_count": 45,
   "metadata": {
    "colab": {
     "base_uri": "https://localhost:8080/"
    },
    "id": "Wt82C0zn6BvE",
    "outputId": "1e746ff2-6206-4812-e187-ab98ee9a467f"
   },
   "outputs": [
    {
     "data": {
      "text/plain": [
       "(795.8270263121187, -1.8413957548531126)"
      ]
     },
     "execution_count": 45,
     "metadata": {
      "tags": []
     },
     "output_type": "execute_result"
    }
   ],
   "source": [
    "t_intercept,t_slope"
   ]
  },
  {
   "cell_type": "code",
   "execution_count": null,
   "metadata": {
    "id": "Xujz7gJf6BxY"
   },
   "outputs": [],
   "source": [
    "# full_data_engine_volume = pd.DataFrame(full_data[\"Engine volume\"].str.split(' ').to_list(),columns=[\"Engine volume\",\"Turbo\"])\n",
    "# full_data_engine_volume[\"Turbo\"] = full_data_engine_volume[\"Turbo\"].fillna(\"No\")\n",
    "# full_data_engine_volume[\"Turbo\"] = full_data_engine_volume[\"Turbo\"].replace({\"Turbo\":\"Yes\"}).astype(str)"
   ]
  },
  {
   "cell_type": "code",
   "execution_count": 47,
   "metadata": {
    "id": "wRuEWDGmAhMs"
   },
   "outputs": [],
   "source": [
    "n=len(train_data)"
   ]
  },
  {
   "cell_type": "code",
   "execution_count": 48,
   "metadata": {
    "id": "_mdajMQFAhOf"
   },
   "outputs": [],
   "source": [
    "from scipy import stats"
   ]
  },
  {
   "cell_type": "code",
   "execution_count": 49,
   "metadata": {
    "id": "LzEhllC5AhQ8"
   },
   "outputs": [],
   "source": [
    "pval_intercept=stats.t.sf(t_intercept,df=n-1)"
   ]
  },
  {
   "cell_type": "code",
   "execution_count": 50,
   "metadata": {
    "id": "KS0teYooAhSr"
   },
   "outputs": [],
   "source": [
    "pval_slope=stats.t.sf(t_slope,df=n-1)"
   ]
  },
  {
   "cell_type": "code",
   "execution_count": 51,
   "metadata": {
    "colab": {
     "base_uri": "https://localhost:8080/"
    },
    "id": "xIm1ST7AAhVf",
    "outputId": "0776bc45-efc7-4930-c4fd-c87183055565"
   },
   "outputs": [
    {
     "data": {
      "text/plain": [
       "(0.0, 0.9672105140904255)"
      ]
     },
     "execution_count": 51,
     "metadata": {
      "tags": []
     },
     "output_type": "execute_result"
    }
   ],
   "source": [
    "pval_intercept,pval_slope"
   ]
  },
  {
   "cell_type": "code",
   "execution_count": 59,
   "metadata": {
    "colab": {
     "base_uri": "https://localhost:8080/"
    },
    "id": "qJSt4r8LDa_F",
    "outputId": "f00b72fe-3016-47f1-a1e2-bafb21a0e9c0"
   },
   "outputs": [
    {
     "data": {
      "text/plain": [
       "intercept           9.019236\n",
       "Levy               -0.027184\n",
       "Manufacturer       -0.074161\n",
       "Model               0.050672\n",
       "Prod. year          0.274892\n",
       "Category           -0.053945\n",
       "Leather interior   -0.063235\n",
       "Fuel type          -0.083531\n",
       "Engine volume       0.220204\n",
       "Mileage            -0.225898\n",
       "Cylinders          -0.104314\n",
       "Gear box type       0.300814\n",
       "Drive wheels        0.018077\n",
       "Doors              -0.004884\n",
       "Wheel              -0.154072\n",
       "Color              -0.007583\n",
       "Airbags             0.508979\n",
       "Turbo engine        0.186481\n",
       "dtype: float64"
      ]
     },
     "execution_count": 59,
     "metadata": {
      "tags": []
     },
     "output_type": "execute_result"
    }
   ],
   "source": [
    "mlr_model.params"
   ]
  },
  {
   "cell_type": "code",
   "execution_count": 52,
   "metadata": {
    "id": "qi7mrmT2AhXN"
   },
   "outputs": [],
   "source": [
    "# confidence interval for intercept\n",
    "\n",
    "a=train_data.shape[0]\n",
    "loc=mlr_model.params[0]\n",
    "scale=mlr_model.bse[0]\n",
    "interval_for_intercept=stats.t.interval(0.95,a-1,loc,scale)"
   ]
  },
  {
   "cell_type": "code",
   "execution_count": 53,
   "metadata": {
    "id": "9IXxkgHrAhaP"
   },
   "outputs": [],
   "source": [
    "# confidence interval for slope\n",
    "\n",
    "b=train_data.shape[1]\n",
    "loc=mlr_model.params[1]\n",
    "scale=mlr_model.bse[1]\n",
    "interval_for_slope=stats.t.interval(0.95,b-1,loc,scale)"
   ]
  },
  {
   "cell_type": "code",
   "execution_count": 54,
   "metadata": {
    "colab": {
     "base_uri": "https://localhost:8080/"
    },
    "id": "nR8iqzSgAhbs",
    "outputId": "a4e38135-3cc4-4f29-e310-ae12ada482e7"
   },
   "outputs": [
    {
     "data": {
      "text/plain": [
       "((-0.05832964244530106, 0.003962539834338304),\n",
       " (8.997022363247531, 9.041450336138897))"
      ]
     },
     "execution_count": 54,
     "metadata": {
      "tags": []
     },
     "output_type": "execute_result"
    }
   ],
   "source": [
    "interval_for_slope,interval_for_intercept"
   ]
  },
  {
   "cell_type": "code",
   "execution_count": 60,
   "metadata": {
    "id": "emmjx_fiAhep"
   },
   "outputs": [],
   "source": [
    "from statsmodels.stats.outliers_influence import variance_inflation_factor"
   ]
  },
  {
   "cell_type": "code",
   "execution_count": 62,
   "metadata": {
    "id": "9QuXpmZaFLt7"
   },
   "outputs": [],
   "source": [
    "vif=pd.DataFrame()\n",
    "vif['vif_factor']=[variance_inflation_factor(X.values,i) for i in range(X.shape[1])]\n",
    "vif['features']=X.columns"
   ]
  },
  {
   "cell_type": "code",
   "execution_count": 63,
   "metadata": {
    "colab": {
     "base_uri": "https://localhost:8080/"
    },
    "id": "DVLmyjfgFLvZ",
    "outputId": "5b26034f-65cd-4b8d-fecd-cc8a363003ec"
   },
   "outputs": [
    {
     "name": "stdout",
     "output_type": "stream",
     "text": [
      "    vif_factor          features\n",
      "0     1.543905              Levy\n",
      "1     1.080678      Manufacturer\n",
      "2     1.121120             Model\n",
      "3     1.454308        Prod. year\n",
      "4     1.205520          Category\n",
      "5     1.534724  Leather interior\n",
      "6     1.133613         Fuel type\n",
      "7     2.854242     Engine volume\n",
      "8     1.174741           Mileage\n",
      "9     2.078547         Cylinders\n",
      "10    1.222941     Gear box type\n",
      "11    1.246387      Drive wheels\n",
      "12    1.144381             Doors\n",
      "13    1.280697             Wheel\n",
      "14    1.037390             Color\n",
      "15    1.135508           Airbags\n",
      "16    1.108987      Turbo engine\n"
     ]
    }
   ],
   "source": [
    "for i in range(len(train.columns)):\n",
    "    vif=pd.DataFrame()\n",
    "    vif['vif_factor']=[variance_inflation_factor(train.values,i) for i in range(train.shape[1])]\n",
    "    vif['features']=train.columns\n",
    "    multi=vif[vif['vif_factor']>10]\n",
    "    \n",
    "    if multi.empty==False:\n",
    "        df_sort=multi.sort_values(by='vif_factor',ascending=False)\n",
    "    else:\n",
    "        print(vif)\n",
    "        break\n",
    "        \n",
    "    if df_sort.empty==False:\n",
    "        train=train.drop(columns=df_sort['features'].iloc[0])\n",
    "    else:\n",
    "        print(vif)"
   ]
  },
  {
   "cell_type": "code",
   "execution_count": 64,
   "metadata": {
    "id": "YYVnkhNgFLyW"
   },
   "outputs": [],
   "source": [
    "from statsmodels.graphics.gofplots import qqplot"
   ]
  },
  {
   "cell_type": "code",
   "execution_count": 65,
   "metadata": {
    "colab": {
     "base_uri": "https://localhost:8080/",
     "height": 321
    },
    "id": "ualWYA_4FL0D",
    "outputId": "4dc58863-3f44-4d74-8581-c97a5a5f6185"
   },
   "outputs": [
    {
     "name": "stdout",
     "output_type": "stream",
     "text": [
      "Skewness of the residuals:  -1.4228854103770725\n"
     ]
    },
    {
     "data": {
      "image/png": "[encoded data removed]",
      "text/plain": [
       "<Figure size 432x288 with 1 Axes>"
      ]
     },
     "metadata": {
      "needs_background": "light",
      "tags": []
     },
     "output_type": "display_data"
    }
   ],
   "source": [
    "sns.distplot(mlr_model.resid,hist=False)\n",
    "\n",
    "plt.title('Distribution of Residuals', fontsize = 15)\n",
    "plt.xlabel('Residuals', fontsize = 15)\n",
    "plt.ylabel('Density', fontsize = 15)\n",
    "\n",
    "print(\"Skewness of the residuals: \", mlr_model.resid.skew())"
   ]
  },
  {
   "cell_type": "code",
   "execution_count": 66,
   "metadata": {
    "colab": {
     "base_uri": "https://localhost:8080/",
     "height": 279
    },
    "id": "HSBaZ-1kFL29",
    "outputId": "e893fa86-a8e5-43e4-b096-8ba3854e13a4"
   },
   "outputs": [
    {
     "data": {
      "image/png": "[encoded data removed]",
      "text/plain": [
       "<Figure size 432x288 with 1 Axes>"
      ]
     },
     "metadata": {
      "needs_background": "light",
      "tags": []
     },
     "output_type": "display_data"
    }
   ],
   "source": [
    "qqplot(mlr_model.resid,line='r')\n",
    "plt.show()"
   ]
  },
  {
   "cell_type": "code",
   "execution_count": 78,
   "metadata": {
    "id": "r_AFbPlFFL53"
   },
   "outputs": [],
   "source": [
    "# x_train.drop(\"intercept\",axis=1,inplace=True)\n",
    "new_train = x_train.copy()\n",
    "new_test = x_test.copy()"
   ]
  },
  {
   "cell_type": "code",
   "execution_count": 77,
   "metadata": {
    "colab": {
     "base_uri": "https://localhost:8080/",
     "height": 223
    },
    "id": "NhmHuj4qH66M",
    "outputId": "e5042ee3-9a45-42ca-9024-9c1f4244bd77"
   },
   "outputs": [
    {
     "data": {
      "text/html": [
       "<div>\n",
       "<style scoped>\n",
       "    .dataframe tbody tr th:only-of-type {\n",
       "        vertical-align: middle;\n",
       "    }\n",
       "\n",
       "    .dataframe tbody tr th {\n",
       "        vertical-align: top;\n",
       "    }\n",
       "\n",
       "    .dataframe thead th {\n",
       "        text-align: right;\n",
       "    }\n",
       "</style>\n",
       "<table border=\"1\" class=\"dataframe\">\n",
       "  <thead>\n",
       "    <tr style=\"text-align: right;\">\n",
       "      <th></th>\n",
       "      <th>Levy</th>\n",
       "      <th>Manufacturer</th>\n",
       "      <th>Model</th>\n",
       "      <th>Prod. year</th>\n",
       "      <th>Category</th>\n",
       "      <th>Leather interior</th>\n",
       "      <th>Fuel type</th>\n",
       "      <th>Engine volume</th>\n",
       "      <th>Mileage</th>\n",
       "      <th>Cylinders</th>\n",
       "      <th>Gear box type</th>\n",
       "      <th>Drive wheels</th>\n",
       "      <th>Doors</th>\n",
       "      <th>Wheel</th>\n",
       "      <th>Color</th>\n",
       "      <th>Airbags</th>\n",
       "      <th>Turbo engine</th>\n",
       "    </tr>\n",
       "  </thead>\n",
       "  <tbody>\n",
       "    <tr>\n",
       "      <th>7808</th>\n",
       "      <td>-0.344135</td>\n",
       "      <td>1.415532</td>\n",
       "      <td>-1.044192</td>\n",
       "      <td>0.374642</td>\n",
       "      <td>0.975797</td>\n",
       "      <td>0.615795</td>\n",
       "      <td>-0.793472</td>\n",
       "      <td>0.212073</td>\n",
       "      <td>0.985689</td>\n",
       "      <td>-0.426576</td>\n",
       "      <td>-0.599015</td>\n",
       "      <td>0.159765</td>\n",
       "      <td>0.160242</td>\n",
       "      <td>-0.28749</td>\n",
       "      <td>1.163418</td>\n",
       "      <td>-0.717521</td>\n",
       "      <td>-0.334262</td>\n",
       "    </tr>\n",
       "    <tr>\n",
       "      <th>16766</th>\n",
       "      <td>0.975616</td>\n",
       "      <td>-1.413256</td>\n",
       "      <td>-0.989432</td>\n",
       "      <td>-0.706692</td>\n",
       "      <td>-0.817229</td>\n",
       "      <td>0.615795</td>\n",
       "      <td>-1.347084</td>\n",
       "      <td>-0.355292</td>\n",
       "      <td>-0.751903</td>\n",
       "      <td>-0.426576</td>\n",
       "      <td>-0.599015</td>\n",
       "      <td>0.159765</td>\n",
       "      <td>0.160242</td>\n",
       "      <td>-0.28749</td>\n",
       "      <td>0.790596</td>\n",
       "      <td>0.727602</td>\n",
       "      <td>-0.334262</td>\n",
       "    </tr>\n",
       "    <tr>\n",
       "      <th>7285</th>\n",
       "      <td>1.282596</td>\n",
       "      <td>0.134571</td>\n",
       "      <td>-0.631532</td>\n",
       "      <td>-0.166025</td>\n",
       "      <td>0.975797</td>\n",
       "      <td>0.615795</td>\n",
       "      <td>-1.347084</td>\n",
       "      <td>1.346803</td>\n",
       "      <td>0.566978</td>\n",
       "      <td>1.163112</td>\n",
       "      <td>-0.599015</td>\n",
       "      <td>-1.599316</td>\n",
       "      <td>0.160242</td>\n",
       "      <td>-0.28749</td>\n",
       "      <td>-1.259927</td>\n",
       "      <td>-0.717521</td>\n",
       "      <td>-0.334262</td>\n",
       "    </tr>\n",
       "    <tr>\n",
       "      <th>15712</th>\n",
       "      <td>-0.703590</td>\n",
       "      <td>-1.413256</td>\n",
       "      <td>0.563420</td>\n",
       "      <td>0.194420</td>\n",
       "      <td>-0.817229</td>\n",
       "      <td>0.615795</td>\n",
       "      <td>-1.347084</td>\n",
       "      <td>-0.355292</td>\n",
       "      <td>0.904403</td>\n",
       "      <td>-0.426576</td>\n",
       "      <td>-0.599015</td>\n",
       "      <td>0.159765</td>\n",
       "      <td>0.160242</td>\n",
       "      <td>-0.28749</td>\n",
       "      <td>-0.141460</td>\n",
       "      <td>0.727602</td>\n",
       "      <td>-0.334262</td>\n",
       "    </tr>\n",
       "    <tr>\n",
       "      <th>16562</th>\n",
       "      <td>0.000000</td>\n",
       "      <td>-1.573376</td>\n",
       "      <td>1.625383</td>\n",
       "      <td>-1.968248</td>\n",
       "      <td>-0.817229</td>\n",
       "      <td>0.615795</td>\n",
       "      <td>0.313751</td>\n",
       "      <td>0.779438</td>\n",
       "      <td>-1.347710</td>\n",
       "      <td>1.163112</td>\n",
       "      <td>1.633895</td>\n",
       "      <td>-1.599316</td>\n",
       "      <td>0.160242</td>\n",
       "      <td>-0.28749</td>\n",
       "      <td>0.790596</td>\n",
       "      <td>1.140495</td>\n",
       "      <td>-0.334262</td>\n",
       "    </tr>\n",
       "  </tbody>\n",
       "</table>\n",
       "</div>"
      ],
      "text/plain": [
       "           Levy  Manufacturer     Model  Prod. year  Category  \\\n",
       "7808  -0.344135      1.415532 -1.044192    0.374642  0.975797   \n",
       "16766  0.975616     -1.413256 -0.989432   -0.706692 -0.817229   \n",
       "7285   1.282596      0.134571 -0.631532   -0.166025  0.975797   \n",
       "15712 -0.703590     -1.413256  0.563420    0.194420 -0.817229   \n",
       "16562  0.000000     -1.573376  1.625383   -1.968248 -0.817229   \n",
       "\n",
       "       Leather interior  Fuel type  Engine volume   Mileage  Cylinders  \\\n",
       "7808           0.615795  -0.793472       0.212073  0.985689  -0.426576   \n",
       "16766          0.615795  -1.347084      -0.355292 -0.751903  -0.426576   \n",
       "7285           0.615795  -1.347084       1.346803  0.566978   1.163112   \n",
       "15712          0.615795  -1.347084      -0.355292  0.904403  -0.426576   \n",
       "16562          0.615795   0.313751       0.779438 -1.347710   1.163112   \n",
       "\n",
       "       Gear box type  Drive wheels     Doors    Wheel     Color   Airbags  \\\n",
       "7808       -0.599015      0.159765  0.160242 -0.28749  1.163418 -0.717521   \n",
       "16766      -0.599015      0.159765  0.160242 -0.28749  0.790596  0.727602   \n",
       "7285       -0.599015     -1.599316  0.160242 -0.28749 -1.259927 -0.717521   \n",
       "15712      -0.599015      0.159765  0.160242 -0.28749 -0.141460  0.727602   \n",
       "16562       1.633895     -1.599316  0.160242 -0.28749  0.790596  1.140495   \n",
       "\n",
       "       Turbo engine  \n",
       "7808      -0.334262  \n",
       "16766     -0.334262  \n",
       "7285      -0.334262  \n",
       "15712     -0.334262  \n",
       "16562     -0.334262  "
      ]
     },
     "metadata": {
      "tags": []
     },
     "output_type": "display_data"
    }
   ],
   "source": [
    "display(x_train.head())"
   ]
  },
  {
   "cell_type": "code",
   "execution_count": 79,
   "metadata": {
    "id": "_ymBoYVoAhf6"
   },
   "outputs": [],
   "source": [
    "from sklearn.linear_model import LinearRegression"
   ]
  },
  {
   "cell_type": "code",
   "execution_count": 80,
   "metadata": {
    "id": "ttpv_AnoAhi8"
   },
   "outputs": [],
   "source": [
    "linreg=LinearRegression()"
   ]
  },
  {
   "cell_type": "code",
   "execution_count": 84,
   "metadata": {
    "colab": {
     "base_uri": "https://localhost:8080/"
    },
    "id": "c9QEN7LuHe-R",
    "outputId": "82e650ee-72ea-4b98-f328-f9c8770914b3"
   },
   "outputs": [
    {
     "data": {
      "text/plain": [
       "LinearRegression(copy_X=True, fit_intercept=True, n_jobs=None, normalize=False)"
      ]
     },
     "execution_count": 84,
     "metadata": {
      "tags": []
     },
     "output_type": "execute_result"
    }
   ],
   "source": [
    "linreg.fit(new_train,y_train)"
   ]
  },
  {
   "cell_type": "code",
   "execution_count": 85,
   "metadata": {
    "id": "-axGUa7OI2xP"
   },
   "outputs": [],
   "source": [
    "# y_pred_train=linreg.predict(new_train)"
   ]
  },
  {
   "cell_type": "code",
   "execution_count": 86,
   "metadata": {
    "id": "9JaKwwgPHfCa"
   },
   "outputs": [],
   "source": [
    "y_pred_test=linreg.predict(new_test)"
   ]
  },
  {
   "cell_type": "code",
   "execution_count": 83,
   "metadata": {
    "id": "UGTMTbm0HfDx"
   },
   "outputs": [],
   "source": [
    "from sklearn.metrics import mean_squared_error,mean_absolute_error,r2_score"
   ]
  },
  {
   "cell_type": "code",
   "execution_count": 87,
   "metadata": {
    "id": "fg6ZlWEXHfGx"
   },
   "outputs": [],
   "source": [
    "rmse_train=np.sqrt(mean_squared_error(y_test,y_pred_test))"
   ]
  },
  {
   "cell_type": "code",
   "execution_count": 88,
   "metadata": {
    "id": "DkqrfEHoHfIY"
   },
   "outputs": [],
   "source": [
    "mae_train=mean_absolute_error(y_test,y_pred_test)"
   ]
  },
  {
   "cell_type": "code",
   "execution_count": 92,
   "metadata": {
    "colab": {
     "base_uri": "https://localhost:8080/"
    },
    "id": "LkrqviJLHfKp",
    "outputId": "e13d5adc-89b9-4e4d-fee1-3d1c2e76aa6c"
   },
   "outputs": [
    {
     "name": "stdout",
     "output_type": "stream",
     "text": [
      "Mean Absolute Error is 12946.433584543796\n",
      "Mean Squared Error is 18256.024798454255\n",
      "R squared Score is -0.06959583557005966\n"
     ]
    }
   ],
   "source": [
    "print(\"Mean Absolute Error is\",mean_absolute_error(y_test,y_pred_test))\n",
    "print(\"Mean Squared Error is\",np.sqrt(mean_squared_error(y_test,y_pred_test)))\n",
    "print(\"R squared Score is\",r2_score(y_test,y_pred_test))"
   ]
  },
  {
   "cell_type": "markdown",
   "metadata": {
    "id": "nZ4pHiZOVx28"
   },
   "source": [
    "## **Forward Selection**"
   ]
  },
  {
   "cell_type": "code",
   "execution_count": 93,
   "metadata": {
    "id": "XvR45zjuHfOz"
   },
   "outputs": [],
   "source": [
    "from mlxtend.feature_selection import SequentialFeatureSelector"
   ]
  },
  {
   "cell_type": "code",
   "execution_count": 94,
   "metadata": {
    "id": "x9w-Rgz3HfR5"
   },
   "outputs": [],
   "source": [
    "linreg_forward=SequentialFeatureSelector(estimator=linreg,k_features=(5,10),\n",
    "                                        forward=True,cv=10,\n",
    "                                        scoring='r2')"
   ]
  },
  {
   "cell_type": "code",
   "execution_count": 95,
   "metadata": {
    "id": "cYQBoAo5AhkV"
   },
   "outputs": [],
   "source": [
    "sfs_forward=linreg_forward.fit(new_train,y_train)"
   ]
  },
  {
   "cell_type": "code",
   "execution_count": 96,
   "metadata": {
    "colab": {
     "base_uri": "https://localhost:8080/"
    },
    "id": "u5hCmHk6AhnN",
    "outputId": "322c45a7-1123-4c02-f6bc-baa2eb5dbf10"
   },
   "outputs": [
    {
     "name": "stdout",
     "output_type": "stream",
     "text": [
      "Feature Selection using forward selection are :  ('Model', 'Prod. year', 'Engine volume', 'Mileage', 'Cylinders', 'Gear box type', 'Wheel', 'Turbo engine')\n",
      "R-Squared :  0.10778042716360554\n"
     ]
    }
   ],
   "source": [
    "print('Feature Selection using forward selection are : ',sfs_forward.k_feature_names_)\n",
    "print('R-Squared : ', sfs_forward.k_score_)"
   ]
  },
  {
   "cell_type": "code",
   "execution_count": 108,
   "metadata": {
    "colab": {
     "base_uri": "https://localhost:8080/",
     "height": 223
    },
    "id": "yqVUzapVkiWn",
    "outputId": "8dfaf9b4-96ca-46da-d9fd-a9ded3da4b11"
   },
   "outputs": [
    {
     "data": {
      "text/html": [
       "<div>\n",
       "<style scoped>\n",
       "    .dataframe tbody tr th:only-of-type {\n",
       "        vertical-align: middle;\n",
       "    }\n",
       "\n",
       "    .dataframe tbody tr th {\n",
       "        vertical-align: top;\n",
       "    }\n",
       "\n",
       "    .dataframe thead th {\n",
       "        text-align: right;\n",
       "    }\n",
       "</style>\n",
       "<table border=\"1\" class=\"dataframe\">\n",
       "  <thead>\n",
       "    <tr style=\"text-align: right;\">\n",
       "      <th></th>\n",
       "      <th>Levy</th>\n",
       "      <th>Manufacturer</th>\n",
       "      <th>Model</th>\n",
       "      <th>Prod. year</th>\n",
       "      <th>Category</th>\n",
       "      <th>Leather interior</th>\n",
       "      <th>Fuel type</th>\n",
       "      <th>Engine volume</th>\n",
       "      <th>Mileage</th>\n",
       "      <th>Cylinders</th>\n",
       "      <th>Gear box type</th>\n",
       "      <th>Drive wheels</th>\n",
       "      <th>Doors</th>\n",
       "      <th>Wheel</th>\n",
       "      <th>Color</th>\n",
       "      <th>Airbags</th>\n",
       "      <th>Turbo engine</th>\n",
       "    </tr>\n",
       "  </thead>\n",
       "  <tbody>\n",
       "    <tr>\n",
       "      <th>7808</th>\n",
       "      <td>-0.344135</td>\n",
       "      <td>1.415532</td>\n",
       "      <td>-1.044192</td>\n",
       "      <td>0.374642</td>\n",
       "      <td>0.975797</td>\n",
       "      <td>0.615795</td>\n",
       "      <td>-0.793472</td>\n",
       "      <td>0.212073</td>\n",
       "      <td>0.985689</td>\n",
       "      <td>-0.426576</td>\n",
       "      <td>-0.599015</td>\n",
       "      <td>0.159765</td>\n",
       "      <td>0.160242</td>\n",
       "      <td>-0.28749</td>\n",
       "      <td>1.163418</td>\n",
       "      <td>-0.717521</td>\n",
       "      <td>-0.334262</td>\n",
       "    </tr>\n",
       "    <tr>\n",
       "      <th>16766</th>\n",
       "      <td>0.975616</td>\n",
       "      <td>-1.413256</td>\n",
       "      <td>-0.989432</td>\n",
       "      <td>-0.706692</td>\n",
       "      <td>-0.817229</td>\n",
       "      <td>0.615795</td>\n",
       "      <td>-1.347084</td>\n",
       "      <td>-0.355292</td>\n",
       "      <td>-0.751903</td>\n",
       "      <td>-0.426576</td>\n",
       "      <td>-0.599015</td>\n",
       "      <td>0.159765</td>\n",
       "      <td>0.160242</td>\n",
       "      <td>-0.28749</td>\n",
       "      <td>0.790596</td>\n",
       "      <td>0.727602</td>\n",
       "      <td>-0.334262</td>\n",
       "    </tr>\n",
       "    <tr>\n",
       "      <th>7285</th>\n",
       "      <td>1.282596</td>\n",
       "      <td>0.134571</td>\n",
       "      <td>-0.631532</td>\n",
       "      <td>-0.166025</td>\n",
       "      <td>0.975797</td>\n",
       "      <td>0.615795</td>\n",
       "      <td>-1.347084</td>\n",
       "      <td>1.346803</td>\n",
       "      <td>0.566978</td>\n",
       "      <td>1.163112</td>\n",
       "      <td>-0.599015</td>\n",
       "      <td>-1.599316</td>\n",
       "      <td>0.160242</td>\n",
       "      <td>-0.28749</td>\n",
       "      <td>-1.259927</td>\n",
       "      <td>-0.717521</td>\n",
       "      <td>-0.334262</td>\n",
       "    </tr>\n",
       "    <tr>\n",
       "      <th>15712</th>\n",
       "      <td>-0.703590</td>\n",
       "      <td>-1.413256</td>\n",
       "      <td>0.563420</td>\n",
       "      <td>0.194420</td>\n",
       "      <td>-0.817229</td>\n",
       "      <td>0.615795</td>\n",
       "      <td>-1.347084</td>\n",
       "      <td>-0.355292</td>\n",
       "      <td>0.904403</td>\n",
       "      <td>-0.426576</td>\n",
       "      <td>-0.599015</td>\n",
       "      <td>0.159765</td>\n",
       "      <td>0.160242</td>\n",
       "      <td>-0.28749</td>\n",
       "      <td>-0.141460</td>\n",
       "      <td>0.727602</td>\n",
       "      <td>-0.334262</td>\n",
       "    </tr>\n",
       "    <tr>\n",
       "      <th>16562</th>\n",
       "      <td>0.000000</td>\n",
       "      <td>-1.573376</td>\n",
       "      <td>1.625383</td>\n",
       "      <td>-1.968248</td>\n",
       "      <td>-0.817229</td>\n",
       "      <td>0.615795</td>\n",
       "      <td>0.313751</td>\n",
       "      <td>0.779438</td>\n",
       "      <td>-1.347710</td>\n",
       "      <td>1.163112</td>\n",
       "      <td>1.633895</td>\n",
       "      <td>-1.599316</td>\n",
       "      <td>0.160242</td>\n",
       "      <td>-0.28749</td>\n",
       "      <td>0.790596</td>\n",
       "      <td>1.140495</td>\n",
       "      <td>-0.334262</td>\n",
       "    </tr>\n",
       "  </tbody>\n",
       "</table>\n",
       "</div>"
      ],
      "text/plain": [
       "           Levy  Manufacturer     Model  Prod. year  Category  \\\n",
       "7808  -0.344135      1.415532 -1.044192    0.374642  0.975797   \n",
       "16766  0.975616     -1.413256 -0.989432   -0.706692 -0.817229   \n",
       "7285   1.282596      0.134571 -0.631532   -0.166025  0.975797   \n",
       "15712 -0.703590     -1.413256  0.563420    0.194420 -0.817229   \n",
       "16562  0.000000     -1.573376  1.625383   -1.968248 -0.817229   \n",
       "\n",
       "       Leather interior  Fuel type  Engine volume   Mileage  Cylinders  \\\n",
       "7808           0.615795  -0.793472       0.212073  0.985689  -0.426576   \n",
       "16766          0.615795  -1.347084      -0.355292 -0.751903  -0.426576   \n",
       "7285           0.615795  -1.347084       1.346803  0.566978   1.163112   \n",
       "15712          0.615795  -1.347084      -0.355292  0.904403  -0.426576   \n",
       "16562          0.615795   0.313751       0.779438 -1.347710   1.163112   \n",
       "\n",
       "       Gear box type  Drive wheels     Doors    Wheel     Color   Airbags  \\\n",
       "7808       -0.599015      0.159765  0.160242 -0.28749  1.163418 -0.717521   \n",
       "16766      -0.599015      0.159765  0.160242 -0.28749  0.790596  0.727602   \n",
       "7285       -0.599015     -1.599316  0.160242 -0.28749 -1.259927 -0.717521   \n",
       "15712      -0.599015      0.159765  0.160242 -0.28749 -0.141460  0.727602   \n",
       "16562       1.633895     -1.599316  0.160242 -0.28749  0.790596  1.140495   \n",
       "\n",
       "       Turbo engine  \n",
       "7808      -0.334262  \n",
       "16766     -0.334262  \n",
       "7285      -0.334262  \n",
       "15712     -0.334262  \n",
       "16562     -0.334262  "
      ]
     },
     "execution_count": 108,
     "metadata": {
      "tags": []
     },
     "output_type": "execute_result"
    }
   ],
   "source": [
    "x_train.head()"
   ]
  },
  {
   "cell_type": "markdown",
   "metadata": {
    "id": "4KGU-xZwV4C8"
   },
   "source": [
    "## **Backward Selection**"
   ]
  },
  {
   "cell_type": "code",
   "execution_count": 99,
   "metadata": {
    "id": "eXe0I51kAhou"
   },
   "outputs": [],
   "source": [
    "linreg_backward=SequentialFeatureSelector(estimator=linreg,k_features=(5,10),\n",
    "                                         forward=False,cv=12,\n",
    "                                         scoring='r2')"
   ]
  },
  {
   "cell_type": "code",
   "execution_count": 115,
   "metadata": {
    "id": "J-XvVtP_Ahrp"
   },
   "outputs": [],
   "source": [
    "sfs_backward = linreg_backward.fit(new_train.values, y_train)"
   ]
  },
  {
   "cell_type": "code",
   "execution_count": 116,
   "metadata": {
    "colab": {
     "base_uri": "https://localhost:8080/"
    },
    "id": "ZNhRZBGYAhtc",
    "outputId": "e2d6f490-4be3-49a1-878c-f1df55ea91a7"
   },
   "outputs": [
    {
     "name": "stdout",
     "output_type": "stream",
     "text": [
      "Feature Selection using backward selection are :  ('2', '3', '7', '8', '10', '16')\n",
      "R-Squared :  0.12130292902401646\n"
     ]
    }
   ],
   "source": [
    "print('Feature Selection using backward selection are : ',sfs_backward.k_feature_names_)\n",
    "print('R-Squared : ', sfs_backward.k_score_)"
   ]
  },
  {
   "cell_type": "code",
   "execution_count": null,
   "metadata": {
    "id": "DDAWghIdAhxF"
   },
   "outputs": [],
   "source": []
  },
  {
   "cell_type": "code",
   "execution_count": 117,
   "metadata": {
    "id": "cdadd182"
   },
   "outputs": [],
   "source": [
    "from sklearn.feature_selection import RFE"
   ]
  },
  {
   "cell_type": "code",
   "execution_count": 205,
   "metadata": {
    "colab": {
     "base_uri": "https://localhost:8080/"
    },
    "id": "N06X5WDmlFkJ",
    "outputId": "c86cc9cb-fccd-4932-e206-c0daa14dcf7d"
   },
   "outputs": [
    {
     "data": {
      "text/plain": [
       "RFE(estimator=LinearRegression(copy_X=True, fit_intercept=True, n_jobs=None,\n",
       "                               normalize=False),\n",
       "    n_features_to_select=8, step=1, verbose=0)"
      ]
     },
     "execution_count": 205,
     "metadata": {
      "tags": []
     },
     "output_type": "execute_result"
    }
   ],
   "source": [
    "rfe=RFE(estimator=linreg,n_features_to_select=8)\n",
    "rfe.fit(new_train,y_train)"
   ]
  },
  {
   "cell_type": "code",
   "execution_count": 206,
   "metadata": {
    "id": "ou-iMIoJlFmC"
   },
   "outputs": [],
   "source": [
    "feat_index = pd.Series(data = rfe.ranking_, index = new_train.columns)"
   ]
  },
  {
   "cell_type": "code",
   "execution_count": 207,
   "metadata": {
    "id": "PltKf6MXlFqI"
   },
   "outputs": [],
   "source": [
    "signi_feat_rfe = feat_index[feat_index==1].index"
   ]
  },
  {
   "cell_type": "code",
   "execution_count": 208,
   "metadata": {
    "colab": {
     "base_uri": "https://localhost:8080/"
    },
    "id": "tEGrx5hOlFsK",
    "outputId": "494d7bf0-0f4b-4c69-dcff-ca0befd8f761"
   },
   "outputs": [
    {
     "data": {
      "text/plain": [
       "Index(['Prod. year', 'Category', 'Fuel type', 'Mileage', 'Gear box type',\n",
       "       'Doors', 'Wheel', 'Color'],\n",
       "      dtype='object')"
      ]
     },
     "execution_count": 208,
     "metadata": {
      "tags": []
     },
     "output_type": "execute_result"
    }
   ],
   "source": [
    "signi_feat_rfe"
   ]
  },
  {
   "cell_type": "code",
   "execution_count": 122,
   "metadata": {
    "id": "P0Vz9ysSlFu7"
   },
   "outputs": [],
   "source": [
    "from sklearn.model_selection import KFold,LeaveOneOut,cross_val_score"
   ]
  },
  {
   "cell_type": "code",
   "execution_count": 123,
   "metadata": {
    "id": "ib1g5P14lFxc"
   },
   "outputs": [],
   "source": [
    "kf=KFold(n_splits=5)"
   ]
  },
  {
   "cell_type": "code",
   "execution_count": 124,
   "metadata": {
    "id": "vwZ9pGtzluUc"
   },
   "outputs": [],
   "source": [
    "def get_score(model,x_train_k,x_test_k,y_train_k,y_test_k):\n",
    "    model.fit(x_train_k,y_train_k)\n",
    "    x=model.score(x_train_k,y_train_k)\n",
    "    return x"
   ]
  },
  {
   "cell_type": "code",
   "execution_count": 125,
   "metadata": {
    "id": "rVvXi3qTluXC"
   },
   "outputs": [],
   "source": [
    "scores=[]\n",
    "for i,j in kf.split(new_train):\n",
    "    x_train_k,x_test_k,y_train_k,y_test_k=new_train.iloc[i],new_train.iloc[j],y_train.iloc[i],y_train.iloc[j]\n",
    "    s=get_score(linreg,x_train_k,x_test_k,y_train_k,y_test_k)\n",
    "    scores.append(s)"
   ]
  },
  {
   "cell_type": "code",
   "execution_count": 126,
   "metadata": {
    "colab": {
     "base_uri": "https://localhost:8080/"
    },
    "id": "xZWeToq1luZm",
    "outputId": "252446e1-a0bb-4f9f-a044-83da14693e81"
   },
   "outputs": [
    {
     "name": "stdout",
     "output_type": "stream",
     "text": [
      "All Scores\n",
      "[0.0034509377413097786, 0.0033600357945375863, 0.2391928811433025, 0.003531838018999811, 0.0034512247788899275]\n",
      "Maximum Scores obtained : \n",
      "0.2391928811433025\n",
      "Minimum Scores obtained : \n",
      "0.0033600357945375863\n",
      "Average Scores obtained : \n",
      "0.05059738349540792\n"
     ]
    }
   ],
   "source": [
    "print('All Scores',scores,sep='\\n')\n",
    "print('Maximum Scores obtained : ',max(scores),sep='\\n')\n",
    "print('Minimum Scores obtained : ',min(scores),sep='\\n')\n",
    "print('Average Scores obtained : ',np.mean(scores),sep='\\n')"
   ]
  },
  {
   "cell_type": "code",
   "execution_count": null,
   "metadata": {
    "id": "XVg8qW0Ilubf"
   },
   "outputs": [],
   "source": []
  },
  {
   "cell_type": "markdown",
   "metadata": {
    "id": "4mPV0ghGJRCq"
   },
   "source": [
    "## **Stacked Model**"
   ]
  },
  {
   "cell_type": "code",
   "execution_count": 209,
   "metadata": {
    "id": "yKsow5gYJYFg"
   },
   "outputs": [],
   "source": [
    "rdge = Ridge()"
   ]
  },
  {
   "cell_type": "code",
   "execution_count": 212,
   "metadata": {
    "id": "F1ytjdD5JYIj"
   },
   "outputs": [],
   "source": [
    "class StackingAveragedModels(BaseEstimator, RegressorMixin, TransformerMixin):\n",
    "    def __init__(self, base_models, meta_model, n_folds=5):\n",
    "        self.base_models = base_models\n",
    "        self.meta_model = meta_model\n",
    "        self.n_folds = n_folds\n",
    "   \n",
    "    # We again fit the data on clones of the original models\n",
    "    def fit(self, X, y):\n",
    "        self.base_models_ = [list() for x in self.base_models]\n",
    "        self.meta_model_ = clone(self.meta_model)\n",
    "        kfold = KFold(n_splits=self.n_folds, shuffle=True, random_state=156)\n",
    "        \n",
    "        # Train cloned base models then create out-of-fold predictions\n",
    "        # that are needed to train the cloned meta-model\n",
    "        out_of_fold_predictions = np.zeros((X.shape[0], len(self.base_models)))\n",
    "        for i, model in enumerate(self.base_models):\n",
    "            for train_index, holdout_index in kfold.split(X, y):\n",
    "                instance = clone(model)\n",
    "                self.base_models_[i].append(instance)\n",
    "                instance.fit(X_train, y_train)\n",
    "                y_pred = instance.predict(X[holdout_index])\n",
    "                out_of_fold_predictions[holdout_index, i] = y_pred\n",
    "                \n",
    "        # Now train the cloned  meta-model using the out-of-fold predictions as new feature\n",
    "        self.meta_model_.fit(out_of_fold_predictions, y)\n",
    "        return self\n",
    "   \n",
    "    #Do the predictions of all base models on the test data and use the averaged predictions as \n",
    "    #meta-features for the final prediction which is done by the meta-model\n",
    "    def predict(self, X):\n",
    "        meta_features = np.column_stack([\n",
    "            np.column_stack([model.predict(X) for model in base_models]).mean(axis=1)\n",
    "            for base_models in self.base_models_ ])\n",
    "        return self.meta_model_.predict(meta_features)"
   ]
  },
  {
   "cell_type": "code",
   "execution_count": 214,
   "metadata": {
    "id": "MxI8Er5tJYMh"
   },
   "outputs": [],
   "source": [
    "rdge = Ridge()\n",
    "# lass = Lasso()\n",
    "rf = RandomForestRegressor()\n",
    "gb = GradientBoostingRegressor()"
   ]
  },
  {
   "cell_type": "code",
   "execution_count": 217,
   "metadata": {
    "colab": {
     "base_uri": "https://localhost:8080/",
     "height": 380
    },
    "id": "pUPyTqumJYOk",
    "outputId": "1cae1eeb-d03e-40e6-cc98-f74550491cea"
   },
   "outputs": [
    {
     "ename": "NameError",
     "evalue": "ignored",
     "output_type": "error",
     "traceback": [
      "\u001b[0;31m---------------------------------------------------------------------------\u001b[0m",
      "\u001b[0;31mNameError\u001b[0m                                 Traceback (most recent call last)",
      "\u001b[0;32m<ipython-input-217-a3ebe6d783f9>\u001b[0m in \u001b[0;36m<module>\u001b[0;34m()\u001b[0m\n\u001b[1;32m      3\u001b[0m stacked_averaged_models = StackingAveragedModels(base_models = (rdge, rf,gb),\n\u001b[1;32m      4\u001b[0m                                                  meta_model = lasso)\n\u001b[0;32m----> 5\u001b[0;31m \u001b[0mstacked_averaged_models\u001b[0m\u001b[0;34m.\u001b[0m\u001b[0mfit\u001b[0m\u001b[0;34m(\u001b[0m\u001b[0mx_train\u001b[0m\u001b[0;34m.\u001b[0m\u001b[0mvalues\u001b[0m\u001b[0;34m,\u001b[0m \u001b[0my_train\u001b[0m\u001b[0;34m)\u001b[0m\u001b[0;34m\u001b[0m\u001b[0;34m\u001b[0m\u001b[0m\n\u001b[0m\u001b[1;32m      6\u001b[0m \u001b[0;34m\u001b[0m\u001b[0m\n\u001b[1;32m      7\u001b[0m \u001b[0my_pred3\u001b[0m \u001b[0;34m=\u001b[0m \u001b[0mstacked_averaged_models\u001b[0m\u001b[0;34m.\u001b[0m\u001b[0mpredict\u001b[0m\u001b[0;34m(\u001b[0m\u001b[0mx_test\u001b[0m\u001b[0;34m.\u001b[0m\u001b[0mvalues\u001b[0m\u001b[0;34m)\u001b[0m\u001b[0;34m\u001b[0m\u001b[0;34m\u001b[0m\u001b[0m\n",
      "\u001b[0;32m<ipython-input-212-889073c4269b>\u001b[0m in \u001b[0;36mfit\u001b[0;34m(self, X, y)\u001b[0m\n\u001b[1;32m     18\u001b[0m                 \u001b[0minstance\u001b[0m \u001b[0;34m=\u001b[0m \u001b[0mclone\u001b[0m\u001b[0;34m(\u001b[0m\u001b[0mmodel\u001b[0m\u001b[0;34m)\u001b[0m\u001b[0;34m\u001b[0m\u001b[0;34m\u001b[0m\u001b[0m\n\u001b[1;32m     19\u001b[0m                 \u001b[0mself\u001b[0m\u001b[0;34m.\u001b[0m\u001b[0mbase_models_\u001b[0m\u001b[0;34m[\u001b[0m\u001b[0mi\u001b[0m\u001b[0;34m]\u001b[0m\u001b[0;34m.\u001b[0m\u001b[0mappend\u001b[0m\u001b[0;34m(\u001b[0m\u001b[0minstance\u001b[0m\u001b[0;34m)\u001b[0m\u001b[0;34m\u001b[0m\u001b[0;34m\u001b[0m\u001b[0m\n\u001b[0;32m---> 20\u001b[0;31m                 \u001b[0minstance\u001b[0m\u001b[0;34m.\u001b[0m\u001b[0mfit\u001b[0m\u001b[0;34m(\u001b[0m\u001b[0mX_train\u001b[0m\u001b[0;34m,\u001b[0m \u001b[0my_train\u001b[0m\u001b[0;34m)\u001b[0m\u001b[0;34m\u001b[0m\u001b[0;34m\u001b[0m\u001b[0m\n\u001b[0m\u001b[1;32m     21\u001b[0m                 \u001b[0my_pred\u001b[0m \u001b[0;34m=\u001b[0m \u001b[0minstance\u001b[0m\u001b[0;34m.\u001b[0m\u001b[0mpredict\u001b[0m\u001b[0;34m(\u001b[0m\u001b[0mX\u001b[0m\u001b[0;34m[\u001b[0m\u001b[0mholdout_index\u001b[0m\u001b[0;34m]\u001b[0m\u001b[0;34m)\u001b[0m\u001b[0;34m\u001b[0m\u001b[0;34m\u001b[0m\u001b[0m\n\u001b[1;32m     22\u001b[0m                 \u001b[0mout_of_fold_predictions\u001b[0m\u001b[0;34m[\u001b[0m\u001b[0mholdout_index\u001b[0m\u001b[0;34m,\u001b[0m \u001b[0mi\u001b[0m\u001b[0;34m]\u001b[0m \u001b[0;34m=\u001b[0m \u001b[0my_pred\u001b[0m\u001b[0;34m\u001b[0m\u001b[0;34m\u001b[0m\u001b[0m\n",
      "\u001b[0;31mNameError\u001b[0m: name 'X_train' is not defined"
     ]
    }
   ],
   "source": [
    "lasso = make_pipeline(RobustScaler(), Lasso(alpha =0.0005, random_state=42))\n",
    "\n",
    "stacked_averaged_models = StackingAveragedModels(base_models = (rdge, rf,gb),\n",
    "                                                 meta_model = lasso)\n",
    "stacked_averaged_models.fit(x_train.values, y_train)\n",
    "\n",
    "y_pred3 = stacked_averaged_models.predict(x_test.values)\n",
    "\n",
    "print(\"Mean Absolute Error is\",mean_absolute_error(y_test,y_pred3))\n",
    "print(\"Mean Squared Error is\",mean_squared_error(y_test,y_pred3))\n",
    "print(\"R squared Score is\",r2_score(y_test,y_pred3))\n",
    "print(\"Mean Absolute Logarithmic Error is\",np.square(np.log10(y_pred3 +1) - np.log10(y_test +1)).mean() ** 0.5)"
   ]
  },
  {
   "cell_type": "markdown",
   "metadata": {
    "id": "puM2x1bOmXOC"
   },
   "source": [
    "## **Models**"
   ]
  },
  {
   "cell_type": "code",
   "execution_count": 128,
   "metadata": {
    "id": "ES1o-dioluf-"
   },
   "outputs": [],
   "source": [
    "from sklearn.model_selection import GridSearchCV\n",
    "from sklearn.pipeline import make_pipeline\n",
    "from sklearn.pipeline import Pipeline\n",
    "from sklearn import metrics"
   ]
  },
  {
   "cell_type": "code",
   "execution_count": 129,
   "metadata": {
    "colab": {
     "base_uri": "https://localhost:8080/",
     "height": 223
    },
    "id": "T2jVql2ilFzP",
    "outputId": "6efc532a-3106-4378-dcf3-9318ee3ac2f2"
   },
   "outputs": [
    {
     "data": {
      "text/html": [
       "<div>\n",
       "<style scoped>\n",
       "    .dataframe tbody tr th:only-of-type {\n",
       "        vertical-align: middle;\n",
       "    }\n",
       "\n",
       "    .dataframe tbody tr th {\n",
       "        vertical-align: top;\n",
       "    }\n",
       "\n",
       "    .dataframe thead th {\n",
       "        text-align: right;\n",
       "    }\n",
       "</style>\n",
       "<table border=\"1\" class=\"dataframe\">\n",
       "  <thead>\n",
       "    <tr style=\"text-align: right;\">\n",
       "      <th></th>\n",
       "      <th>Levy</th>\n",
       "      <th>Manufacturer</th>\n",
       "      <th>Model</th>\n",
       "      <th>Prod. year</th>\n",
       "      <th>Category</th>\n",
       "      <th>Leather interior</th>\n",
       "      <th>Fuel type</th>\n",
       "      <th>Engine volume</th>\n",
       "      <th>Mileage</th>\n",
       "      <th>Cylinders</th>\n",
       "      <th>Gear box type</th>\n",
       "      <th>Drive wheels</th>\n",
       "      <th>Doors</th>\n",
       "      <th>Wheel</th>\n",
       "      <th>Color</th>\n",
       "      <th>Airbags</th>\n",
       "      <th>Turbo engine</th>\n",
       "    </tr>\n",
       "  </thead>\n",
       "  <tbody>\n",
       "    <tr>\n",
       "      <th>7808</th>\n",
       "      <td>-0.344135</td>\n",
       "      <td>1.415532</td>\n",
       "      <td>-1.044192</td>\n",
       "      <td>0.374642</td>\n",
       "      <td>0.975797</td>\n",
       "      <td>0.615795</td>\n",
       "      <td>-0.793472</td>\n",
       "      <td>0.212073</td>\n",
       "      <td>0.985689</td>\n",
       "      <td>-0.426576</td>\n",
       "      <td>-0.599015</td>\n",
       "      <td>0.159765</td>\n",
       "      <td>0.160242</td>\n",
       "      <td>-0.28749</td>\n",
       "      <td>1.163418</td>\n",
       "      <td>-0.717521</td>\n",
       "      <td>-0.334262</td>\n",
       "    </tr>\n",
       "    <tr>\n",
       "      <th>16766</th>\n",
       "      <td>0.975616</td>\n",
       "      <td>-1.413256</td>\n",
       "      <td>-0.989432</td>\n",
       "      <td>-0.706692</td>\n",
       "      <td>-0.817229</td>\n",
       "      <td>0.615795</td>\n",
       "      <td>-1.347084</td>\n",
       "      <td>-0.355292</td>\n",
       "      <td>-0.751903</td>\n",
       "      <td>-0.426576</td>\n",
       "      <td>-0.599015</td>\n",
       "      <td>0.159765</td>\n",
       "      <td>0.160242</td>\n",
       "      <td>-0.28749</td>\n",
       "      <td>0.790596</td>\n",
       "      <td>0.727602</td>\n",
       "      <td>-0.334262</td>\n",
       "    </tr>\n",
       "    <tr>\n",
       "      <th>7285</th>\n",
       "      <td>1.282596</td>\n",
       "      <td>0.134571</td>\n",
       "      <td>-0.631532</td>\n",
       "      <td>-0.166025</td>\n",
       "      <td>0.975797</td>\n",
       "      <td>0.615795</td>\n",
       "      <td>-1.347084</td>\n",
       "      <td>1.346803</td>\n",
       "      <td>0.566978</td>\n",
       "      <td>1.163112</td>\n",
       "      <td>-0.599015</td>\n",
       "      <td>-1.599316</td>\n",
       "      <td>0.160242</td>\n",
       "      <td>-0.28749</td>\n",
       "      <td>-1.259927</td>\n",
       "      <td>-0.717521</td>\n",
       "      <td>-0.334262</td>\n",
       "    </tr>\n",
       "    <tr>\n",
       "      <th>15712</th>\n",
       "      <td>-0.703590</td>\n",
       "      <td>-1.413256</td>\n",
       "      <td>0.563420</td>\n",
       "      <td>0.194420</td>\n",
       "      <td>-0.817229</td>\n",
       "      <td>0.615795</td>\n",
       "      <td>-1.347084</td>\n",
       "      <td>-0.355292</td>\n",
       "      <td>0.904403</td>\n",
       "      <td>-0.426576</td>\n",
       "      <td>-0.599015</td>\n",
       "      <td>0.159765</td>\n",
       "      <td>0.160242</td>\n",
       "      <td>-0.28749</td>\n",
       "      <td>-0.141460</td>\n",
       "      <td>0.727602</td>\n",
       "      <td>-0.334262</td>\n",
       "    </tr>\n",
       "    <tr>\n",
       "      <th>16562</th>\n",
       "      <td>0.000000</td>\n",
       "      <td>-1.573376</td>\n",
       "      <td>1.625383</td>\n",
       "      <td>-1.968248</td>\n",
       "      <td>-0.817229</td>\n",
       "      <td>0.615795</td>\n",
       "      <td>0.313751</td>\n",
       "      <td>0.779438</td>\n",
       "      <td>-1.347710</td>\n",
       "      <td>1.163112</td>\n",
       "      <td>1.633895</td>\n",
       "      <td>-1.599316</td>\n",
       "      <td>0.160242</td>\n",
       "      <td>-0.28749</td>\n",
       "      <td>0.790596</td>\n",
       "      <td>1.140495</td>\n",
       "      <td>-0.334262</td>\n",
       "    </tr>\n",
       "  </tbody>\n",
       "</table>\n",
       "</div>"
      ],
      "text/plain": [
       "           Levy  Manufacturer     Model  Prod. year  Category  \\\n",
       "7808  -0.344135      1.415532 -1.044192    0.374642  0.975797   \n",
       "16766  0.975616     -1.413256 -0.989432   -0.706692 -0.817229   \n",
       "7285   1.282596      0.134571 -0.631532   -0.166025  0.975797   \n",
       "15712 -0.703590     -1.413256  0.563420    0.194420 -0.817229   \n",
       "16562  0.000000     -1.573376  1.625383   -1.968248 -0.817229   \n",
       "\n",
       "       Leather interior  Fuel type  Engine volume   Mileage  Cylinders  \\\n",
       "7808           0.615795  -0.793472       0.212073  0.985689  -0.426576   \n",
       "16766          0.615795  -1.347084      -0.355292 -0.751903  -0.426576   \n",
       "7285           0.615795  -1.347084       1.346803  0.566978   1.163112   \n",
       "15712          0.615795  -1.347084      -0.355292  0.904403  -0.426576   \n",
       "16562          0.615795   0.313751       0.779438 -1.347710   1.163112   \n",
       "\n",
       "       Gear box type  Drive wheels     Doors    Wheel     Color   Airbags  \\\n",
       "7808       -0.599015      0.159765  0.160242 -0.28749  1.163418 -0.717521   \n",
       "16766      -0.599015      0.159765  0.160242 -0.28749  0.790596  0.727602   \n",
       "7285       -0.599015     -1.599316  0.160242 -0.28749 -1.259927 -0.717521   \n",
       "15712      -0.599015      0.159765  0.160242 -0.28749 -0.141460  0.727602   \n",
       "16562       1.633895     -1.599316  0.160242 -0.28749  0.790596  1.140495   \n",
       "\n",
       "       Turbo engine  \n",
       "7808      -0.334262  \n",
       "16766     -0.334262  \n",
       "7285      -0.334262  \n",
       "15712     -0.334262  \n",
       "16562     -0.334262  "
      ]
     },
     "execution_count": 129,
     "metadata": {
      "tags": []
     },
     "output_type": "execute_result"
    }
   ],
   "source": [
    "x_train.head()"
   ]
  },
  {
   "cell_type": "code",
   "execution_count": 130,
   "metadata": {
    "colab": {
     "base_uri": "https://localhost:8080/",
     "height": 223
    },
    "id": "rcKDIkO46B0k",
    "outputId": "8c9d80b3-8aee-4eb8-86e8-c21717ad57a4"
   },
   "outputs": [
    {
     "data": {
      "text/html": [
       "<div>\n",
       "<style scoped>\n",
       "    .dataframe tbody tr th:only-of-type {\n",
       "        vertical-align: middle;\n",
       "    }\n",
       "\n",
       "    .dataframe tbody tr th {\n",
       "        vertical-align: top;\n",
       "    }\n",
       "\n",
       "    .dataframe thead th {\n",
       "        text-align: right;\n",
       "    }\n",
       "</style>\n",
       "<table border=\"1\" class=\"dataframe\">\n",
       "  <thead>\n",
       "    <tr style=\"text-align: right;\">\n",
       "      <th></th>\n",
       "      <th>Levy</th>\n",
       "      <th>Manufacturer</th>\n",
       "      <th>Model</th>\n",
       "      <th>Prod. year</th>\n",
       "      <th>Category</th>\n",
       "      <th>Leather interior</th>\n",
       "      <th>Fuel type</th>\n",
       "      <th>Engine volume</th>\n",
       "      <th>Mileage</th>\n",
       "      <th>Cylinders</th>\n",
       "      <th>Gear box type</th>\n",
       "      <th>Drive wheels</th>\n",
       "      <th>Doors</th>\n",
       "      <th>Wheel</th>\n",
       "      <th>Color</th>\n",
       "      <th>Airbags</th>\n",
       "      <th>Turbo engine</th>\n",
       "    </tr>\n",
       "  </thead>\n",
       "  <tbody>\n",
       "    <tr>\n",
       "      <th>736</th>\n",
       "      <td>-1.708489</td>\n",
       "      <td>-1.413256</td>\n",
       "      <td>1.545198</td>\n",
       "      <td>0.554865</td>\n",
       "      <td>-1.175834</td>\n",
       "      <td>-1.623918</td>\n",
       "      <td>1.420974</td>\n",
       "      <td>-1.036129</td>\n",
       "      <td>-0.882218</td>\n",
       "      <td>-0.426576</td>\n",
       "      <td>-0.599015</td>\n",
       "      <td>0.159765</td>\n",
       "      <td>0.160242</td>\n",
       "      <td>-0.28749</td>\n",
       "      <td>0.790596</td>\n",
       "      <td>-1.130414</td>\n",
       "      <td>-0.334262</td>\n",
       "    </tr>\n",
       "    <tr>\n",
       "      <th>8674</th>\n",
       "      <td>0.000000</td>\n",
       "      <td>0.134571</td>\n",
       "      <td>1.218591</td>\n",
       "      <td>-2.508915</td>\n",
       "      <td>-0.100019</td>\n",
       "      <td>0.615795</td>\n",
       "      <td>-1.347084</td>\n",
       "      <td>0.665965</td>\n",
       "      <td>-1.599856</td>\n",
       "      <td>1.163112</td>\n",
       "      <td>0.517440</td>\n",
       "      <td>1.918846</td>\n",
       "      <td>-4.480204</td>\n",
       "      <td>-0.28749</td>\n",
       "      <td>0.604185</td>\n",
       "      <td>0.314710</td>\n",
       "      <td>2.991661</td>\n",
       "    </tr>\n",
       "    <tr>\n",
       "      <th>5971</th>\n",
       "      <td>0.000000</td>\n",
       "      <td>0.134571</td>\n",
       "      <td>-1.327773</td>\n",
       "      <td>-2.689137</td>\n",
       "      <td>0.975797</td>\n",
       "      <td>-1.623918</td>\n",
       "      <td>0.867362</td>\n",
       "      <td>-0.582237</td>\n",
       "      <td>0.834113</td>\n",
       "      <td>2.752800</td>\n",
       "      <td>0.517440</td>\n",
       "      <td>1.918846</td>\n",
       "      <td>0.160242</td>\n",
       "      <td>-0.28749</td>\n",
       "      <td>-0.327871</td>\n",
       "      <td>0.314710</td>\n",
       "      <td>-0.334262</td>\n",
       "    </tr>\n",
       "    <tr>\n",
       "      <th>1957</th>\n",
       "      <td>-0.711461</td>\n",
       "      <td>-0.559282</td>\n",
       "      <td>1.077778</td>\n",
       "      <td>0.554865</td>\n",
       "      <td>-0.817229</td>\n",
       "      <td>0.615795</td>\n",
       "      <td>-1.347084</td>\n",
       "      <td>-0.355292</td>\n",
       "      <td>-0.093719</td>\n",
       "      <td>-0.426576</td>\n",
       "      <td>-0.599015</td>\n",
       "      <td>0.159765</td>\n",
       "      <td>0.160242</td>\n",
       "      <td>-0.28749</td>\n",
       "      <td>-0.141460</td>\n",
       "      <td>0.727602</td>\n",
       "      <td>-0.334262</td>\n",
       "    </tr>\n",
       "    <tr>\n",
       "      <th>11075</th>\n",
       "      <td>-0.207699</td>\n",
       "      <td>1.148665</td>\n",
       "      <td>-1.501834</td>\n",
       "      <td>1.095532</td>\n",
       "      <td>-0.817229</td>\n",
       "      <td>0.615795</td>\n",
       "      <td>0.867362</td>\n",
       "      <td>-0.809183</td>\n",
       "      <td>-1.048049</td>\n",
       "      <td>-0.426576</td>\n",
       "      <td>-0.599015</td>\n",
       "      <td>0.159765</td>\n",
       "      <td>0.160242</td>\n",
       "      <td>-0.28749</td>\n",
       "      <td>1.163418</td>\n",
       "      <td>0.727602</td>\n",
       "      <td>-0.334262</td>\n",
       "    </tr>\n",
       "  </tbody>\n",
       "</table>\n",
       "</div>"
      ],
      "text/plain": [
       "           Levy  Manufacturer     Model  Prod. year  Category  \\\n",
       "736   -1.708489     -1.413256  1.545198    0.554865 -1.175834   \n",
       "8674   0.000000      0.134571  1.218591   -2.508915 -0.100019   \n",
       "5971   0.000000      0.134571 -1.327773   -2.689137  0.975797   \n",
       "1957  -0.711461     -0.559282  1.077778    0.554865 -0.817229   \n",
       "11075 -0.207699      1.148665 -1.501834    1.095532 -0.817229   \n",
       "\n",
       "       Leather interior  Fuel type  Engine volume   Mileage  Cylinders  \\\n",
       "736           -1.623918   1.420974      -1.036129 -0.882218  -0.426576   \n",
       "8674           0.615795  -1.347084       0.665965 -1.599856   1.163112   \n",
       "5971          -1.623918   0.867362      -0.582237  0.834113   2.752800   \n",
       "1957           0.615795  -1.347084      -0.355292 -0.093719  -0.426576   \n",
       "11075          0.615795   0.867362      -0.809183 -1.048049  -0.426576   \n",
       "\n",
       "       Gear box type  Drive wheels     Doors    Wheel     Color   Airbags  \\\n",
       "736        -0.599015      0.159765  0.160242 -0.28749  0.790596 -1.130414   \n",
       "8674        0.517440      1.918846 -4.480204 -0.28749  0.604185  0.314710   \n",
       "5971        0.517440      1.918846  0.160242 -0.28749 -0.327871  0.314710   \n",
       "1957       -0.599015      0.159765  0.160242 -0.28749 -0.141460  0.727602   \n",
       "11075      -0.599015      0.159765  0.160242 -0.28749  1.163418  0.727602   \n",
       "\n",
       "       Turbo engine  \n",
       "736       -0.334262  \n",
       "8674       2.991661  \n",
       "5971      -0.334262  \n",
       "1957      -0.334262  \n",
       "11075     -0.334262  "
      ]
     },
     "execution_count": 130,
     "metadata": {
      "tags": []
     },
     "output_type": "execute_result"
    }
   ],
   "source": [
    "x_test.head()"
   ]
  },
  {
   "cell_type": "code",
   "execution_count": 197,
   "metadata": {
    "colab": {
     "base_uri": "https://localhost:8080/"
    },
    "id": "abc6n1Bemv4G",
    "outputId": "816174a9-fc4c-4fe2-a1ca-00e6ce939f96"
   },
   "outputs": [
    {
     "data": {
      "text/plain": [
       "array([ 1.54132501e+04,  6.31793662e+04,  4.38840054e+01, ...,\n",
       "        4.12832104e+03,  6.92034566e+03, -4.20915519e+02])"
      ]
     },
     "execution_count": 197,
     "metadata": {
      "tags": []
     },
     "output_type": "execute_result"
    }
   ],
   "source": [
    "lr=LinearRegression()\n",
    "lr.fit(x_train,y_train)\n",
    "lr.predict(x_test)"
   ]
  },
  {
   "cell_type": "code",
   "execution_count": 198,
   "metadata": {
    "colab": {
     "base_uri": "https://localhost:8080/"
    },
    "id": "L87xDyWOmyOd",
    "outputId": "e55d030c-29da-422f-e6fd-09788a8d08a5"
   },
   "outputs": [
    {
     "name": "stdout",
     "output_type": "stream",
     "text": [
      "Mean Absolute Error is 12931.812791427783\n",
      "Mean Squared Error is 18240.921999406724\n",
      "R squared Score is -0.06782686239331692\n",
      "Mean Absolute Logarithmic Error is 0.7290663340198952\n"
     ]
    }
   ],
   "source": [
    "y_pred = lr.predict(x_test)\n",
    "print(\"Mean Absolute Error is\",mean_absolute_error(y_test,y_pred))\n",
    "print(\"Mean Squared Error is\",np.sqrt(mean_squared_error(y_test,y_pred)))\n",
    "print(\"R squared Score is\",r2_score(y_test,y_pred))\n",
    "print(\"Mean Absolute Logarithmic Error is\",np.square(np.log10(y_pred +1) - np.log10(y_test +1)).mean() ** 0.5)"
   ]
  },
  {
   "cell_type": "markdown",
   "metadata": {
    "id": "IijMzduV0dw8"
   },
   "source": [
    "## **LIghtGBM**"
   ]
  },
  {
   "cell_type": "code",
   "execution_count": 203,
   "metadata": {
    "id": "BrK2irvp0tNE"
   },
   "outputs": [],
   "source": [
    "from sklearn.base import BaseEstimator, TransformerMixin, RegressorMixin, clone\n",
    "from sklearn.kernel_ridge import KernelRidge\n",
    "from sklearn.ensemble import GradientBoostingRegressor\n",
    "from sklearn.pipeline import make_pipeline\n",
    "from sklearn.preprocessing import RobustScaler\n",
    "from sklearn.linear_model import ElasticNet, Lasso\n",
    "import lightgbm as lgb\n",
    "from sklearn.model_selection import KFold"
   ]
  },
  {
   "cell_type": "code",
   "execution_count": 204,
   "metadata": {
    "colab": {
     "base_uri": "https://localhost:8080/"
    },
    "id": "LfJ3OCatmyQm",
    "outputId": "7f82d0a0-10fc-43c0-ecc2-6252caefa976"
   },
   "outputs": [
    {
     "name": "stdout",
     "output_type": "stream",
     "text": [
      "Mean Absolute Error is 17671.493840609266\n",
      "Mean Squared Error is 26585457618.244545\n",
      "R squared Score is -84.32011057104039\n",
      "Mean Absolute Logarithmic Error is 0.6107895223538246\n"
     ]
    }
   ],
   "source": [
    "model_lgb = lgb.LGBMRegressor(objective='regression',n_estimators=720)\n",
    "model_lgb.fit(x_train, y_train)\n",
    "\n",
    "y_pred2 = model_lgb.predict(x_test)\n",
    "\n",
    "print(\"Mean Absolute Error is\",mean_absolute_error(y_test,y_pred2))\n",
    "print(\"Mean Squared Error is\",mean_squared_error(y_test,y_pred2))\n",
    "print(\"R squared Score is\",r2_score(y_test,y_pred2))\n",
    "print(\"Mean Absolute Logarithmic Error is\",np.square(np.log10(y_pred2 +1) - np.log10(y_test +1)).mean() ** 0.5)"
   ]
  },
  {
   "cell_type": "markdown",
   "metadata": {
    "id": "zTxUSrkHnSn4"
   },
   "source": [
    "## **Ridge and Lasso**"
   ]
  },
  {
   "cell_type": "code",
   "execution_count": 136,
   "metadata": {
    "id": "f7xYLPeSmyUL"
   },
   "outputs": [],
   "source": [
    "from sklearn.linear_model import Ridge,Lasso"
   ]
  },
  {
   "cell_type": "code",
   "execution_count": 199,
   "metadata": {
    "colab": {
     "base_uri": "https://localhost:8080/"
    },
    "id": "BmEdGpprmyWh",
    "outputId": "d6a60ed9-fe8b-4f03-b72e-88c36e00adf9"
   },
   "outputs": [
    {
     "name": "stdout",
     "output_type": "stream",
     "text": [
      "Fitting 5 folds for each of 24 candidates, totalling 120 fits\n"
     ]
    },
    {
     "name": "stderr",
     "output_type": "stream",
     "text": [
      "[Parallel(n_jobs=-1)]: Using backend LokyBackend with 2 concurrent workers.\n",
      "[Parallel(n_jobs=-1)]: Done  72 tasks      | elapsed:    1.9s\n",
      "[Parallel(n_jobs=-1)]: Done 120 out of 120 | elapsed:    2.2s finished\n"
     ]
    }
   ],
   "source": [
    "pipe = Pipeline([('classifier',Ridge())])\n",
    "grid_param = [{\"classifier__alpha\": [0.1,0.5,1,100],\n",
    "               \"classifier__solver\":['auto', 'svd', 'cholesky'],\n",
    "               \"classifier__fit_intercept\":[True,False]}]\n",
    "\n",
    "gridsearch = GridSearchCV(pipe, grid_param, cv=5, verbose=3,n_jobs=-1)\n",
    "best_model = gridsearch.fit(x_train,y_train)"
   ]
  },
  {
   "cell_type": "code",
   "execution_count": 141,
   "metadata": {
    "colab": {
     "base_uri": "https://localhost:8080/"
    },
    "id": "P5ZDE6JxmyZN",
    "outputId": "0752c307-f992-4351-ce0d-51fa7c36f771"
   },
   "outputs": [
    {
     "data": {
      "text/plain": [
       "Pipeline(memory=None,\n",
       "         steps=[('classifier',\n",
       "                 Ridge(alpha=100, copy_X=True, fit_intercept=True,\n",
       "                       max_iter=None, normalize=False, random_state=None,\n",
       "                       solver='auto', tol=0.001))],\n",
       "         verbose=False)"
      ]
     },
     "execution_count": 141,
     "metadata": {
      "tags": []
     },
     "output_type": "execute_result"
    }
   ],
   "source": [
    "gridsearch.best_estimator_"
   ]
  },
  {
   "cell_type": "code",
   "execution_count": 200,
   "metadata": {
    "colab": {
     "base_uri": "https://localhost:8080/"
    },
    "id": "JFzzoEZjmyb3",
    "outputId": "f795c201-15de-4793-99aa-da8db4d1135e"
   },
   "outputs": [
    {
     "name": "stdout",
     "output_type": "stream",
     "text": [
      "Mean Absolute Error is 12904.06926950364\n",
      "Mean Squared Error is 18207.979309236274\n",
      "R squared Score is -0.06397340312486932\n",
      "Mean Absolute Logarithmic Error is 0.7271019653194059\n"
     ]
    }
   ],
   "source": [
    "y_pred = best_model.predict(x_test)\n",
    "print(\"Mean Absolute Error is\",mean_absolute_error(y_test,y_pred))\n",
    "print(\"Mean Squared Error is\",np.sqrt(mean_squared_error(y_test,y_pred)))\n",
    "print(\"R squared Score is\",r2_score(y_test,y_pred))\n",
    "print(\"Mean Absolute Logarithmic Error is\",np.square(np.log10(y_pred +1) - np.log10(y_test +1)).mean() ** 0.5)"
   ]
  },
  {
   "cell_type": "markdown",
   "metadata": {
    "id": "8VEUjOVkoLdO"
   },
   "source": [
    "## **Lasso**"
   ]
  },
  {
   "cell_type": "code",
   "execution_count": null,
   "metadata": {
    "id": "AyY08Ew0mye4"
   },
   "outputs": [],
   "source": []
  },
  {
   "cell_type": "code",
   "execution_count": 144,
   "metadata": {
    "colab": {
     "base_uri": "https://localhost:8080/"
    },
    "id": "daf9a148",
    "outputId": "39eeba94-aa9f-4015-fca7-6ea5c4ef4318"
   },
   "outputs": [
    {
     "name": "stdout",
     "output_type": "stream",
     "text": [
      "Fitting 5 folds for each of 20 candidates, totalling 100 fits\n"
     ]
    },
    {
     "name": "stderr",
     "output_type": "stream",
     "text": [
      "[Parallel(n_jobs=-1)]: Using backend LokyBackend with 2 concurrent workers.\n",
      "[Parallel(n_jobs=-1)]: Done  28 tasks      | elapsed:    5.2s\n",
      "[Parallel(n_jobs=-1)]: Done 100 out of 100 | elapsed:    6.2s finished\n"
     ]
    }
   ],
   "source": [
    "pipe = Pipeline([('classifier',Lasso())])\n",
    "grid_param = [{\"classifier__alpha\": [0,0.01,0.1,0.5,1],\n",
    "               \"classifier__selection\":['cyclic', 'random'],\n",
    "               \"classifier__fit_intercept\":[True,False]}]\n",
    "\n",
    "gridsearch = GridSearchCV(pipe, grid_param, cv=5, verbose=3,n_jobs=-1)\n",
    "best_model = gridsearch.fit(x_train,y_train)"
   ]
  },
  {
   "cell_type": "code",
   "execution_count": 145,
   "metadata": {
    "colab": {
     "base_uri": "https://localhost:8080/"
    },
    "id": "9nT-ZS-8oHLX",
    "outputId": "01cb8387-2137-4ad0-a287-8813b6bdb5ec"
   },
   "outputs": [
    {
     "name": "stdout",
     "output_type": "stream",
     "text": [
      "Mean Absolute Error is 12945.403359557693\n",
      "Mean Squared Error is 18255.0491565025\n",
      "R squared Score is -0.06948151553647897\n",
      "Mean Absolute Logarithmic Error is 0.7246107051223025\n"
     ]
    }
   ],
   "source": [
    "y_pred = best_model.predict(x_test)\n",
    "print(\"Mean Absolute Error is\",mean_absolute_error(y_test,y_pred))\n",
    "print(\"Mean Squared Error is\",np.sqrt(mean_squared_error(y_test,y_pred)))\n",
    "print(\"R squared Score is\",r2_score(y_test,y_pred))\n",
    "print(\"Mean Absolute Logarithmic Error is\",np.square(np.log10(y_pred +1) - np.log10(y_test +1)).mean() ** 0.5)"
   ]
  },
  {
   "cell_type": "markdown",
   "metadata": {
    "id": "E3nzkGb7y1gW"
   },
   "source": []
  },
  {
   "cell_type": "markdown",
   "metadata": {
    "id": "PNW-ugeOy1rD"
   },
   "source": [
    "## **Gradient Boosting**"
   ]
  },
  {
   "cell_type": "code",
   "execution_count": 201,
   "metadata": {
    "colab": {
     "base_uri": "https://localhost:8080/"
    },
    "id": "sj0cNVcooHNH",
    "outputId": "304be2c5-310c-433b-bcd0-0f98307ba095"
   },
   "outputs": [
    {
     "name": "stdout",
     "output_type": "stream",
     "text": [
      "Mean Absolute Error is 12658.113228442211\n",
      "Mean Squared Error is 42218.992611525544\n",
      "R squared Score is -4.720355270708423\n",
      "Mean Absolute Logarithmic Error is 0.6622064094170341\n"
     ]
    }
   ],
   "source": [
    "from sklearn.ensemble import GradientBoostingRegressor\n",
    "gradboost = GradientBoostingRegressor(random_state=0)\n",
    "gradboost.fit(x_train,y_train)\n",
    "gradboost.predict(x_test)\n",
    "\n",
    "\n",
    "y_pred = gradboost.predict(x_test)\n",
    "print(\"Mean Absolute Error is\",mean_absolute_error(y_test,y_pred))\n",
    "print(\"Mean Squared Error is\",np.sqrt(mean_squared_error(y_test,y_pred)))\n",
    "print(\"R squared Score is\",r2_score(y_test,y_pred))\n",
    "print(\"Mean Absolute Logarithmic Error is\",np.square(np.log10(y_pred +1) - np.log10(y_test +1)).mean() ** 0.5)"
   ]
  },
  {
   "cell_type": "markdown",
   "metadata": {
    "id": "_vmq7nrypR_N"
   },
   "source": [
    "## **According to Feature Selection**"
   ]
  },
  {
   "cell_type": "code",
   "execution_count": 148,
   "metadata": {
    "colab": {
     "base_uri": "https://localhost:8080/"
    },
    "id": "eJ89TdPOoHPt",
    "outputId": "3a458bba-0faf-4478-c23f-c3e712e43361"
   },
   "outputs": [
    {
     "data": {
      "text/plain": [
       "('Model',\n",
       " 'Prod. year',\n",
       " 'Engine volume',\n",
       " 'Mileage',\n",
       " 'Cylinders',\n",
       " 'Gear box type',\n",
       " 'Wheel',\n",
       " 'Turbo engine')"
      ]
     },
     "execution_count": 148,
     "metadata": {
      "tags": []
     },
     "output_type": "execute_result"
    }
   ],
   "source": [
    "sfs_forward.k_feature_names_"
   ]
  },
  {
   "cell_type": "code",
   "execution_count": 149,
   "metadata": {
    "colab": {
     "base_uri": "https://localhost:8080/",
     "height": 223
    },
    "id": "R1DqBxURoHSq",
    "outputId": "67333570-b880-4d65-f9d7-a7d0a760e5aa"
   },
   "outputs": [
    {
     "data": {
      "text/html": [
       "<div>\n",
       "<style scoped>\n",
       "    .dataframe tbody tr th:only-of-type {\n",
       "        vertical-align: middle;\n",
       "    }\n",
       "\n",
       "    .dataframe tbody tr th {\n",
       "        vertical-align: top;\n",
       "    }\n",
       "\n",
       "    .dataframe thead th {\n",
       "        text-align: right;\n",
       "    }\n",
       "</style>\n",
       "<table border=\"1\" class=\"dataframe\">\n",
       "  <thead>\n",
       "    <tr style=\"text-align: right;\">\n",
       "      <th></th>\n",
       "      <th>Levy</th>\n",
       "      <th>Manufacturer</th>\n",
       "      <th>Model</th>\n",
       "      <th>Prod. year</th>\n",
       "      <th>Category</th>\n",
       "      <th>Leather interior</th>\n",
       "      <th>Fuel type</th>\n",
       "      <th>Engine volume</th>\n",
       "      <th>Mileage</th>\n",
       "      <th>Cylinders</th>\n",
       "      <th>Gear box type</th>\n",
       "      <th>Drive wheels</th>\n",
       "      <th>Doors</th>\n",
       "      <th>Wheel</th>\n",
       "      <th>Color</th>\n",
       "      <th>Airbags</th>\n",
       "      <th>Turbo engine</th>\n",
       "    </tr>\n",
       "  </thead>\n",
       "  <tbody>\n",
       "    <tr>\n",
       "      <th>0</th>\n",
       "      <td>1.282596</td>\n",
       "      <td>-0.078922</td>\n",
       "      <td>0.929142</td>\n",
       "      <td>-0.166025</td>\n",
       "      <td>-0.817229</td>\n",
       "      <td>0.615795</td>\n",
       "      <td>-0.793472</td>\n",
       "      <td>1.346803</td>\n",
       "      <td>0.525957</td>\n",
       "      <td>1.163112</td>\n",
       "      <td>-0.599015</td>\n",
       "      <td>-1.599316</td>\n",
       "      <td>0.160242</td>\n",
       "      <td>-0.287490</td>\n",
       "      <td>0.790596</td>\n",
       "      <td>-0.717521</td>\n",
       "      <td>-0.334262</td>\n",
       "    </tr>\n",
       "    <tr>\n",
       "      <th>1</th>\n",
       "      <td>0.282944</td>\n",
       "      <td>-1.413256</td>\n",
       "      <td>-0.500498</td>\n",
       "      <td>0.014198</td>\n",
       "      <td>-0.817229</td>\n",
       "      <td>-1.623918</td>\n",
       "      <td>0.867362</td>\n",
       "      <td>0.779438</td>\n",
       "      <td>0.595723</td>\n",
       "      <td>1.163112</td>\n",
       "      <td>1.633895</td>\n",
       "      <td>-1.599316</td>\n",
       "      <td>0.160242</td>\n",
       "      <td>-0.287490</td>\n",
       "      <td>-1.259927</td>\n",
       "      <td>1.553387</td>\n",
       "      <td>-0.334262</td>\n",
       "    </tr>\n",
       "    <tr>\n",
       "      <th>2</th>\n",
       "      <td>0.000000</td>\n",
       "      <td>-0.666029</td>\n",
       "      <td>-0.435959</td>\n",
       "      <td>-0.886914</td>\n",
       "      <td>-1.175834</td>\n",
       "      <td>-1.623918</td>\n",
       "      <td>0.867362</td>\n",
       "      <td>-1.149602</td>\n",
       "      <td>0.688821</td>\n",
       "      <td>-0.426576</td>\n",
       "      <td>2.750351</td>\n",
       "      <td>0.159765</td>\n",
       "      <td>0.160242</td>\n",
       "      <td>3.478382</td>\n",
       "      <td>-1.259927</td>\n",
       "      <td>0.314710</td>\n",
       "      <td>-0.334262</td>\n",
       "    </tr>\n",
       "    <tr>\n",
       "      <th>3</th>\n",
       "      <td>-0.126363</td>\n",
       "      <td>-0.986269</td>\n",
       "      <td>-0.494631</td>\n",
       "      <td>0.014198</td>\n",
       "      <td>-0.817229</td>\n",
       "      <td>0.615795</td>\n",
       "      <td>-0.793472</td>\n",
       "      <td>0.212073</td>\n",
       "      <td>0.327668</td>\n",
       "      <td>-0.426576</td>\n",
       "      <td>-0.599015</td>\n",
       "      <td>-1.599316</td>\n",
       "      <td>0.160242</td>\n",
       "      <td>-0.287490</td>\n",
       "      <td>1.163418</td>\n",
       "      <td>-1.543306</td>\n",
       "      <td>-0.334262</td>\n",
       "    </tr>\n",
       "    <tr>\n",
       "      <th>4</th>\n",
       "      <td>-1.217846</td>\n",
       "      <td>-0.666029</td>\n",
       "      <td>-0.435959</td>\n",
       "      <td>0.554865</td>\n",
       "      <td>-1.175834</td>\n",
       "      <td>0.615795</td>\n",
       "      <td>0.867362</td>\n",
       "      <td>-1.149602</td>\n",
       "      <td>-0.569162</td>\n",
       "      <td>-0.426576</td>\n",
       "      <td>-0.599015</td>\n",
       "      <td>0.159765</td>\n",
       "      <td>0.160242</td>\n",
       "      <td>-0.287490</td>\n",
       "      <td>0.790596</td>\n",
       "      <td>0.727602</td>\n",
       "      <td>-0.334262</td>\n",
       "    </tr>\n",
       "  </tbody>\n",
       "</table>\n",
       "</div>"
      ],
      "text/plain": [
       "       Levy  Manufacturer     Model  Prod. year  Category  Leather interior  \\\n",
       "0  1.282596     -0.078922  0.929142   -0.166025 -0.817229          0.615795   \n",
       "1  0.282944     -1.413256 -0.500498    0.014198 -0.817229         -1.623918   \n",
       "2  0.000000     -0.666029 -0.435959   -0.886914 -1.175834         -1.623918   \n",
       "3 -0.126363     -0.986269 -0.494631    0.014198 -0.817229          0.615795   \n",
       "4 -1.217846     -0.666029 -0.435959    0.554865 -1.175834          0.615795   \n",
       "\n",
       "   Fuel type  Engine volume   Mileage  Cylinders  Gear box type  Drive wheels  \\\n",
       "0  -0.793472       1.346803  0.525957   1.163112      -0.599015     -1.599316   \n",
       "1   0.867362       0.779438  0.595723   1.163112       1.633895     -1.599316   \n",
       "2   0.867362      -1.149602  0.688821  -0.426576       2.750351      0.159765   \n",
       "3  -0.793472       0.212073  0.327668  -0.426576      -0.599015     -1.599316   \n",
       "4   0.867362      -1.149602 -0.569162  -0.426576      -0.599015      0.159765   \n",
       "\n",
       "      Doors     Wheel     Color   Airbags  Turbo engine  \n",
       "0  0.160242 -0.287490  0.790596 -0.717521     -0.334262  \n",
       "1  0.160242 -0.287490 -1.259927  1.553387     -0.334262  \n",
       "2  0.160242  3.478382 -1.259927  0.314710     -0.334262  \n",
       "3  0.160242 -0.287490  1.163418 -1.543306     -0.334262  \n",
       "4  0.160242 -0.287490  0.790596  0.727602     -0.334262  "
      ]
     },
     "execution_count": 149,
     "metadata": {
      "tags": []
     },
     "output_type": "execute_result"
    }
   ],
   "source": [
    "train.head()"
   ]
  },
  {
   "cell_type": "code",
   "execution_count": 151,
   "metadata": {
    "id": "MY91ghSdoHVl"
   },
   "outputs": [],
   "source": [
    "x = train.loc[:,sfs_forward.k_feature_names_]"
   ]
  },
  {
   "cell_type": "code",
   "execution_count": 152,
   "metadata": {
    "colab": {
     "base_uri": "https://localhost:8080/",
     "height": 206
    },
    "id": "GM_Npc3zmyhF",
    "outputId": "a82358e7-2e72-41a9-e516-f5bcc77a1e83"
   },
   "outputs": [
    {
     "data": {
      "text/html": [
       "<div>\n",
       "<style scoped>\n",
       "    .dataframe tbody tr th:only-of-type {\n",
       "        vertical-align: middle;\n",
       "    }\n",
       "\n",
       "    .dataframe tbody tr th {\n",
       "        vertical-align: top;\n",
       "    }\n",
       "\n",
       "    .dataframe thead th {\n",
       "        text-align: right;\n",
       "    }\n",
       "</style>\n",
       "<table border=\"1\" class=\"dataframe\">\n",
       "  <thead>\n",
       "    <tr style=\"text-align: right;\">\n",
       "      <th></th>\n",
       "      <th>Model</th>\n",
       "      <th>Prod. year</th>\n",
       "      <th>Engine volume</th>\n",
       "      <th>Mileage</th>\n",
       "      <th>Cylinders</th>\n",
       "      <th>Gear box type</th>\n",
       "      <th>Wheel</th>\n",
       "      <th>Turbo engine</th>\n",
       "    </tr>\n",
       "  </thead>\n",
       "  <tbody>\n",
       "    <tr>\n",
       "      <th>0</th>\n",
       "      <td>0.929142</td>\n",
       "      <td>-0.166025</td>\n",
       "      <td>1.346803</td>\n",
       "      <td>0.525957</td>\n",
       "      <td>1.163112</td>\n",
       "      <td>-0.599015</td>\n",
       "      <td>-0.287490</td>\n",
       "      <td>-0.334262</td>\n",
       "    </tr>\n",
       "    <tr>\n",
       "      <th>1</th>\n",
       "      <td>-0.500498</td>\n",
       "      <td>0.014198</td>\n",
       "      <td>0.779438</td>\n",
       "      <td>0.595723</td>\n",
       "      <td>1.163112</td>\n",
       "      <td>1.633895</td>\n",
       "      <td>-0.287490</td>\n",
       "      <td>-0.334262</td>\n",
       "    </tr>\n",
       "    <tr>\n",
       "      <th>2</th>\n",
       "      <td>-0.435959</td>\n",
       "      <td>-0.886914</td>\n",
       "      <td>-1.149602</td>\n",
       "      <td>0.688821</td>\n",
       "      <td>-0.426576</td>\n",
       "      <td>2.750351</td>\n",
       "      <td>3.478382</td>\n",
       "      <td>-0.334262</td>\n",
       "    </tr>\n",
       "    <tr>\n",
       "      <th>3</th>\n",
       "      <td>-0.494631</td>\n",
       "      <td>0.014198</td>\n",
       "      <td>0.212073</td>\n",
       "      <td>0.327668</td>\n",
       "      <td>-0.426576</td>\n",
       "      <td>-0.599015</td>\n",
       "      <td>-0.287490</td>\n",
       "      <td>-0.334262</td>\n",
       "    </tr>\n",
       "    <tr>\n",
       "      <th>4</th>\n",
       "      <td>-0.435959</td>\n",
       "      <td>0.554865</td>\n",
       "      <td>-1.149602</td>\n",
       "      <td>-0.569162</td>\n",
       "      <td>-0.426576</td>\n",
       "      <td>-0.599015</td>\n",
       "      <td>-0.287490</td>\n",
       "      <td>-0.334262</td>\n",
       "    </tr>\n",
       "  </tbody>\n",
       "</table>\n",
       "</div>"
      ],
      "text/plain": [
       "      Model  Prod. year  Engine volume   Mileage  Cylinders  Gear box type  \\\n",
       "0  0.929142   -0.166025       1.346803  0.525957   1.163112      -0.599015   \n",
       "1 -0.500498    0.014198       0.779438  0.595723   1.163112       1.633895   \n",
       "2 -0.435959   -0.886914      -1.149602  0.688821  -0.426576       2.750351   \n",
       "3 -0.494631    0.014198       0.212073  0.327668  -0.426576      -0.599015   \n",
       "4 -0.435959    0.554865      -1.149602 -0.569162  -0.426576      -0.599015   \n",
       "\n",
       "      Wheel  Turbo engine  \n",
       "0 -0.287490     -0.334262  \n",
       "1 -0.287490     -0.334262  \n",
       "2  3.478382     -0.334262  \n",
       "3 -0.287490     -0.334262  \n",
       "4 -0.287490     -0.334262  "
      ]
     },
     "execution_count": 152,
     "metadata": {
      "tags": []
     },
     "output_type": "execute_result"
    }
   ],
   "source": [
    "x.head()"
   ]
  },
  {
   "cell_type": "code",
   "execution_count": 154,
   "metadata": {
    "id": "OxLkKXbSmykL"
   },
   "outputs": [],
   "source": [
    "X = x\n",
    "y = train_price\n",
    "# X_train, X_test, y_train, y_test = train_test_split(X, y, test_size = 0.2, random_state = 2)\n",
    "x_train,x_test,y_train,y_test=train_test_split(X,y,test_size=0.2,random_state=42)"
   ]
  },
  {
   "cell_type": "markdown",
   "metadata": {
    "id": "YjIGxlhBqK9a"
   },
   "source": [
    "## **Lasso**"
   ]
  },
  {
   "cell_type": "code",
   "execution_count": 171,
   "metadata": {
    "colab": {
     "base_uri": "https://localhost:8080/"
    },
    "id": "_h2NQTGXp3Hm",
    "outputId": "39e75734-17ae-4f13-edf2-ee8352501cb0"
   },
   "outputs": [
    {
     "name": "stdout",
     "output_type": "stream",
     "text": [
      "Fitting 5 folds for each of 20 candidates, totalling 100 fits\n"
     ]
    },
    {
     "name": "stderr",
     "output_type": "stream",
     "text": [
      "[Parallel(n_jobs=-1)]: Using backend LokyBackend with 2 concurrent workers.\n",
      "[Parallel(n_jobs=-1)]: Done  28 tasks      | elapsed:    6.6s\n"
     ]
    },
    {
     "name": "stdout",
     "output_type": "stream",
     "text": [
      "Mean Absolute Error is 12480.887218474376\n",
      "Mean Squared Error is 17026.33000872495\n",
      "R squared Score is 0.06964357150765688\n",
      "Mean Absolute Logarithmic Error is 0.7222053043927598\n"
     ]
    },
    {
     "name": "stderr",
     "output_type": "stream",
     "text": [
      "[Parallel(n_jobs=-1)]: Done 100 out of 100 | elapsed:    7.7s finished\n"
     ]
    }
   ],
   "source": [
    "pipe = Pipeline([('classifier',Lasso())])\n",
    "grid_param = [{\"classifier__alpha\": [0,0.01,0.1,0.5,1],\n",
    "               \"classifier__selection\":['cyclic', 'random'],\n",
    "               \"classifier__fit_intercept\":[True,False]}]\n",
    "\n",
    "gridsearch = GridSearchCV(pipe, grid_param, cv=5, verbose=3,n_jobs=-1)\n",
    "best_model = gridsearch.fit(x_train,y_train)\n",
    "y_pred = best_model.predict(x_test)\n",
    "print(\"Mean Absolute Error is\",mean_absolute_error(y_test,y_pred))\n",
    "print(\"Mean Squared Error is\",np.sqrt(mean_squared_error(y_test,y_pred)))\n",
    "print(\"R squared Score is\",r2_score(y_test,y_pred))\n",
    "print(\"Mean Absolute Logarithmic Error is\",np.square(np.log10(y_pred +1) - np.log10(y_test +1)).mean() ** 0.5)\n"
   ]
  },
  {
   "cell_type": "markdown",
   "metadata": {
    "id": "dP_agngDqKJi"
   },
   "source": [
    "## **Ridge**"
   ]
  },
  {
   "cell_type": "code",
   "execution_count": 172,
   "metadata": {
    "colab": {
     "base_uri": "https://localhost:8080/"
    },
    "id": "Mev03ws1p3Kf",
    "outputId": "bfbd666c-634d-49af-9b72-2a8434af5780"
   },
   "outputs": [
    {
     "name": "stdout",
     "output_type": "stream",
     "text": [
      "Fitting 5 folds for each of 24 candidates, totalling 120 fits\n"
     ]
    },
    {
     "name": "stderr",
     "output_type": "stream",
     "text": [
      "[Parallel(n_jobs=-1)]: Using backend LokyBackend with 2 concurrent workers.\n",
      "[Parallel(n_jobs=-1)]: Done 102 tasks      | elapsed:    0.9s\n"
     ]
    },
    {
     "name": "stdout",
     "output_type": "stream",
     "text": [
      "Mean Absolute Error is 12455.182531427845\n",
      "Mean Squared Error is 16989.818019475806\n",
      "R squared Score is 0.07362948525825974\n",
      "Mean Absolute Logarithmic Error is 0.720771579034086\n"
     ]
    },
    {
     "name": "stderr",
     "output_type": "stream",
     "text": [
      "[Parallel(n_jobs=-1)]: Done 120 out of 120 | elapsed:    1.2s finished\n"
     ]
    }
   ],
   "source": [
    "pipe = Pipeline([('classifier',Ridge())])\n",
    "grid_param = [{\"classifier__alpha\": [0.1,0.5,1,100],\n",
    "               \"classifier__solver\":['auto', 'svd', 'cholesky'],\n",
    "               \"classifier__fit_intercept\":[True,False]}]\n",
    "\n",
    "gridsearch = GridSearchCV(pipe, grid_param, cv=5, verbose=3,n_jobs=-1)\n",
    "best_model = gridsearch.fit(x_train,y_train)\n",
    "\n",
    "\n",
    "y_pred = best_model.predict(x_test)\n",
    "print(\"Mean Absolute Error is\",mean_absolute_error(y_test,y_pred))\n",
    "print(\"Mean Squared Error is\",np.sqrt(mean_squared_error(y_test,y_pred)))\n",
    "print(\"R squared Score is\",r2_score(y_test,y_pred))\n",
    "print(\"Mean Absolute Logarithmic Error is\",np.square(np.log10(y_pred +1) - np.log10(y_test +1)).mean() ** 0.5)\n"
   ]
  },
  {
   "cell_type": "markdown",
   "metadata": {
    "id": "zy92VXOkqfHK"
   },
   "source": [
    "## **Gradient Boosting**"
   ]
  },
  {
   "cell_type": "code",
   "execution_count": 157,
   "metadata": {
    "colab": {
     "base_uri": "https://localhost:8080/"
    },
    "id": "VFaxcnxdp3Mu",
    "outputId": "a80e6509-1971-424a-d47f-3975aad89e4f"
   },
   "outputs": [
    {
     "name": "stdout",
     "output_type": "stream",
     "text": [
      "Mean Absolute Error is 11052.614896545489\n",
      "Mean Squared Error is 23990.337894077536\n",
      "R squared Score is -0.8470557289560534\n",
      "Mean Absolute Logarithmic Error is 0.673505558984075\n"
     ]
    }
   ],
   "source": [
    "gradboost = GradientBoostingRegressor(random_state=0)\n",
    "gradboost.fit(x_train,y_train)\n",
    "gradboost.predict(x_test)\n",
    "\n",
    "\n",
    "y_pred = gradboost.predict(x_test)\n",
    "print(\"Mean Absolute Error is\",mean_absolute_error(y_test,y_pred))\n",
    "print(\"Mean Squared Error is\",np.sqrt(mean_squared_error(y_test,y_pred)))\n",
    "print(\"R squared Score is\",r2_score(y_test,y_pred))\n",
    "print(\"Mean Absolute Logarithmic Error is\",np.square(np.log10(y_pred +1) - np.log10(y_test +1)).mean() ** 0.5)"
   ]
  },
  {
   "cell_type": "code",
   "execution_count": 218,
   "metadata": {
    "id": "Zmxfjpvlp3O1"
   },
   "outputs": [],
   "source": [
    "x_poly_check  = train.copy()"
   ]
  },
  {
   "cell_type": "code",
   "execution_count": 225,
   "metadata": {
    "id": "MzJwZkZRp3Qm"
   },
   "outputs": [],
   "source": [
    "# Fitting Polynomial Regression to the dataset\n",
    "from sklearn.preprocessing import PolynomialFeatures\n",
    "  \n",
    "poly = PolynomialFeatures(degree = 3)\n",
    "X_poly = poly.fit_transform(x_poly_check)\n"
   ]
  },
  {
   "cell_type": "code",
   "execution_count": 226,
   "metadata": {
    "id": "FPGl9Qxbp3SZ"
   },
   "outputs": [],
   "source": [
    "x_train,x_test,y_train,y_test=train_test_split(X_poly,y,test_size=0.2,random_state=42)"
   ]
  },
  {
   "cell_type": "markdown",
   "metadata": {
    "id": "7pJmjo7qWS1f"
   },
   "source": [
    "## **Ridge**"
   ]
  },
  {
   "cell_type": "code",
   "execution_count": 227,
   "metadata": {
    "colab": {
     "base_uri": "https://localhost:8080/"
    },
    "id": "QvWyU1Sap3UP",
    "outputId": "f3aa2fdf-1e6f-49c8-a224-4ab8c2bf025d"
   },
   "outputs": [
    {
     "name": "stdout",
     "output_type": "stream",
     "text": [
      "Fitting 5 folds for each of 24 candidates, totalling 120 fits\n"
     ]
    },
    {
     "name": "stderr",
     "output_type": "stream",
     "text": [
      "[Parallel(n_jobs=-1)]: Using backend LokyBackend with 2 concurrent workers.\n",
      "[Parallel(n_jobs=-1)]: Done  28 tasks      | elapsed:   33.7s\n",
      "[Parallel(n_jobs=-1)]: Done 120 out of 120 | elapsed:  2.2min finished\n"
     ]
    },
    {
     "name": "stdout",
     "output_type": "stream",
     "text": [
      "Mean Absolute Error is 41239.37656898875\n",
      "Mean Squared Error is 178331.398091983\n",
      "R squared Score is -101.06172354561576\n",
      "Mean Absolute Logarithmic Error is 0.7951766682470433\n"
     ]
    }
   ],
   "source": [
    "pipe = Pipeline([('classifier',Ridge())])\n",
    "grid_param = [{\"classifier__alpha\": [0.1,0.5,1,100],\n",
    "               \"classifier__solver\":['auto', 'svd', 'cholesky'],\n",
    "               \"classifier__fit_intercept\":[True,False]}]\n",
    "\n",
    "gridsearch = GridSearchCV(pipe, grid_param, cv=5, verbose=3,n_jobs=-1)\n",
    "best_model = gridsearch.fit(x_train,y_train)\n",
    "\n",
    "\n",
    "y_pred = best_model.predict(x_test)\n",
    "print(\"Mean Absolute Error is\",mean_absolute_error(y_test,y_pred))\n",
    "print(\"Mean Squared Error is\",np.sqrt(mean_squared_error(y_test,y_pred)))\n",
    "print(\"R squared Score is\",r2_score(y_test,y_pred))\n",
    "print(\"Mean Absolute Logarithmic Error is\",np.square(np.log10(y_pred +1) - np.log10(y_test +1)).mean() ** 0.5)\n"
   ]
  },
  {
   "cell_type": "markdown",
   "metadata": {
    "id": "VKzOBfGeWZG1"
   },
   "source": [
    "## **Lasso**"
   ]
  },
  {
   "cell_type": "code",
   "execution_count": 223,
   "metadata": {
    "colab": {
     "base_uri": "https://localhost:8080/"
    },
    "id": "U7pNLVRQp3XL",
    "outputId": "93b204a9-dc07-42b3-f39b-ac2cf0a7b199"
   },
   "outputs": [
    {
     "name": "stdout",
     "output_type": "stream",
     "text": [
      "Fitting 5 folds for each of 20 candidates, totalling 100 fits\n"
     ]
    },
    {
     "name": "stderr",
     "output_type": "stream",
     "text": [
      "[Parallel(n_jobs=-1)]: Using backend LokyBackend with 2 concurrent workers.\n",
      "[Parallel(n_jobs=-1)]: Done  28 tasks      | elapsed:  1.2min\n",
      "[Parallel(n_jobs=-1)]: Done 100 out of 100 | elapsed:  4.2min finished\n"
     ]
    },
    {
     "name": "stdout",
     "output_type": "stream",
     "text": [
      "Mean Absolute Error is 18157.11275517969\n",
      "Mean Squared Error is 33301.55696752132\n",
      "R squared Score is -2.5590685014092633\n",
      "Mean Absolute Logarithmic Error is 0.7377839257731591\n"
     ]
    }
   ],
   "source": [
    "pipe = Pipeline([('classifier',Lasso())])\n",
    "grid_param = [{\"classifier__alpha\": [0,0.01,0.1,0.5,1],\n",
    "               \"classifier__selection\":['cyclic', 'random'],\n",
    "               \"classifier__fit_intercept\":[True,False]}]\n",
    "\n",
    "gridsearch = GridSearchCV(pipe, grid_param, cv=5, verbose=3,n_jobs=-1)\n",
    "best_model = gridsearch.fit(x_train,y_train)\n",
    "y_pred = best_model.predict(x_test)\n",
    "print(\"Mean Absolute Error is\",mean_absolute_error(y_test,y_pred))\n",
    "print(\"Mean Squared Error is\",np.sqrt(mean_squared_error(y_test,y_pred)))\n",
    "print(\"R squared Score is\",r2_score(y_test,y_pred))\n",
    "print(\"Mean Absolute Logarithmic Error is\",np.square(np.log10(y_pred +1) - np.log10(y_test +1)).mean() ** 0.5)\n"
   ]
  },
  {
   "cell_type": "markdown",
   "metadata": {
    "id": "vbUKcMFVYf-D"
   },
   "source": [
    "## **Linear Regression**"
   ]
  },
  {
   "cell_type": "code",
   "execution_count": 228,
   "metadata": {
    "colab": {
     "base_uri": "https://localhost:8080/"
    },
    "id": "K-pvzT-OV0Ac",
    "outputId": "599dbd16-6512-4b7e-86e3-d7b8ef8cde8a"
   },
   "outputs": [
    {
     "name": "stdout",
     "output_type": "stream",
     "text": [
      "Mean Absolute Error is 43726.527936590435\n",
      "Mean Squared Error is 197472.70472810278\n",
      "R squared Score is -124.14728105248551\n",
      "Mean Absolute Logarithmic Error is 0.8025520110644647\n"
     ]
    }
   ],
   "source": [
    "lr=LinearRegression()\n",
    "lr.fit(x_train,y_train)\n",
    "lr.predict(x_test)\n",
    "\n",
    "y_pred = lr.predict(x_test)\n",
    "print(\"Mean Absolute Error is\",mean_absolute_error(y_test,y_pred))\n",
    "print(\"Mean Squared Error is\",np.sqrt(mean_squared_error(y_test,y_pred)))\n",
    "print(\"R squared Score is\",r2_score(y_test,y_pred))\n",
    "print(\"Mean Absolute Logarithmic Error is\",np.square(np.log10(y_pred +1) - np.log10(y_test +1)).mean() ** 0.5)\n"
   ]
  },
  {
   "cell_type": "code",
   "execution_count": null,
   "metadata": {
    "id": "M7Q_T00nXqH4"
   },
   "outputs": [],
   "source": []
  }
 ],
 "metadata": {
  "colab": {
   "collapsed_sections": [],
   "name": "MachineData_CarPricePredictionChallenge_Hackathon.ipynb",
   "provenance": []
  },
  "kernelspec": {
   "display_name": "Python 3",
   "language": "python",
   "name": "python3"
  },
  "language_info": {
   "codemirror_mode": {
    "name": "ipython",
    "version": 3
   },
   "file_extension": ".py",
   "mimetype": "text/x-python",
   "name": "python",
   "nbconvert_exporter": "python",
   "pygments_lexer": "ipython3",
   "version": "3.8.8"
  }
 },
 "nbformat": 4,
 "nbformat_minor": 1
}
