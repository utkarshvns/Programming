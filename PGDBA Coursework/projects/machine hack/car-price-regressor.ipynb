{
 "cells": [
  {
   "cell_type": "code",
   "execution_count": 109,
   "metadata": {
    "execution": {
     "iopub.execute_input": "2021-07-21T15:18:19.429393Z",
     "iopub.status.busy": "2021-07-21T15:18:19.429058Z",
     "iopub.status.idle": "2021-07-21T15:18:25.513833Z",
     "shell.execute_reply": "2021-07-21T15:18:25.512852Z",
     "shell.execute_reply.started": "2021-07-21T15:18:19.429363Z"
    },
    "id": "nfd8QMOm5u3b",
    "outputId": "681295ec-a7c5-4525-c0e8-0f773b21c68f"
   },
   "outputs": [
    {
     "name": "stdout",
     "output_type": "stream",
     "text": [
      "Requirement already satisfied: catboost in /opt/conda/lib/python3.7/site-packages (0.26)\n",
      "Requirement already satisfied: numpy>=1.16.0 in /opt/conda/lib/python3.7/site-packages (from catboost) (1.19.5)\n",
      "Requirement already satisfied: pandas>=0.24.0 in /opt/conda/lib/python3.7/site-packages (from catboost) (1.2.4)\n",
      "Requirement already satisfied: matplotlib in /opt/conda/lib/python3.7/site-packages (from catboost) (3.4.2)\n",
      "Requirement already satisfied: six in /opt/conda/lib/python3.7/site-packages (from catboost) (1.15.0)\n",
      "Requirement already satisfied: plotly in /opt/conda/lib/python3.7/site-packages (from catboost) (5.1.0)\n",
      "Requirement already satisfied: scipy in /opt/conda/lib/python3.7/site-packages (from catboost) (1.6.3)\n",
      "Requirement already satisfied: graphviz in /opt/conda/lib/python3.7/site-packages (from catboost) (0.8.4)\n",
      "Requirement already satisfied: python-dateutil>=2.7.3 in /opt/conda/lib/python3.7/site-packages (from pandas>=0.24.0->catboost) (2.8.1)\n",
      "Requirement already satisfied: pytz>=2017.3 in /opt/conda/lib/python3.7/site-packages (from pandas>=0.24.0->catboost) (2021.1)\n",
      "Requirement already satisfied: pillow>=6.2.0 in /opt/conda/lib/python3.7/site-packages (from matplotlib->catboost) (8.2.0)\n",
      "Requirement already satisfied: pyparsing>=2.2.1 in /opt/conda/lib/python3.7/site-packages (from matplotlib->catboost) (2.4.7)\n",
      "Requirement already satisfied: cycler>=0.10 in /opt/conda/lib/python3.7/site-packages (from matplotlib->catboost) (0.10.0)\n",
      "Requirement already satisfied: kiwisolver>=1.0.1 in /opt/conda/lib/python3.7/site-packages (from matplotlib->catboost) (1.3.1)\n",
      "Requirement already satisfied: tenacity>=6.2.0 in /opt/conda/lib/python3.7/site-packages (from plotly->catboost) (7.0.0)\n",
      "\u001b[33mWARNING: Running pip as root will break packages and permissions. You should install packages reliably by using venv: https://pip.pypa.io/warnings/venv\u001b[0m\n"
     ]
    }
   ],
   "source": [
    " ! pip install catboost"
   ]
  },
  {
   "cell_type": "code",
   "execution_count": 110,
   "metadata": {
    "execution": {
     "iopub.execute_input": "2021-07-21T15:18:25.515534Z",
     "iopub.status.busy": "2021-07-21T15:18:25.515286Z",
     "iopub.status.idle": "2021-07-21T15:18:25.530367Z",
     "shell.execute_reply": "2021-07-21T15:18:25.529352Z",
     "shell.execute_reply.started": "2021-07-21T15:18:25.515507Z"
    },
    "id": "jJlK_Jjyk83b"
   },
   "outputs": [],
   "source": [
    "import numpy as np\n",
    "import pandas as pd\n",
    "pd.set_option('display.max_columns', None)  \n",
    "import matplotlib.pyplot as plt\n",
    "import matplotlib.patches as mpatches\n",
    "%matplotlib inline \n",
    "import seaborn as sns\n",
    "import plotly.io as pio\n",
    "import plotly.graph_objects as go\n",
    "from plotly.offline import init_notebook_mode, iplot\n",
    "from sklearn.preprocessing import StandardScaler\n",
    "import warnings\n",
    "warnings.filterwarnings('ignore')\n",
    "\n",
    "\n",
    "from sklearn.linear_model import LinearRegression\n",
    "from sklearn.metrics import mean_absolute_error\n",
    "from sklearn.metrics import mean_squared_error\n",
    "from sklearn.metrics import r2_score\n",
    "from sklearn.model_selection import train_test_split\n",
    "\n",
    "\n",
    "\n",
    "from sklearn.tree import DecisionTreeRegressor\n",
    "from sklearn.neighbors import KNeighborsRegressor\n",
    "\n",
    "from sklearn.ensemble import RandomForestRegressor\n",
    "\n",
    "from sklearn.ensemble import BaggingRegressor\n",
    "from sklearn.ensemble import AdaBoostRegressor\n",
    "from sklearn.ensemble import GradientBoostingRegressor\n",
    "\n",
    "from xgboost import XGBRegressor\n",
    "from sklearn.metrics import explained_variance_score\n",
    "\n",
    "from lightgbm import LGBMRegressor\n",
    "from catboost import CatBoostRegressor\n"
   ]
  },
  {
   "cell_type": "code",
   "execution_count": 111,
   "metadata": {
    "execution": {
     "iopub.execute_input": "2021-07-21T15:18:25.532168Z",
     "iopub.status.busy": "2021-07-21T15:18:25.531922Z",
     "iopub.status.idle": "2021-07-21T15:18:25.637602Z",
     "shell.execute_reply": "2021-07-21T15:18:25.636832Z",
     "shell.execute_reply.started": "2021-07-21T15:18:25.532144Z"
    },
    "id": "uEgqw1iC6BJL"
   },
   "outputs": [],
   "source": [
    "train_data = pd.read_csv(\"../input/carprice/carprice/train.csv\")\n",
    "test_data = pd.read_csv(\"../input/carprice/carprice/test.csv\")\n",
    "submission_data = pd.read_csv(\"../input/carprice/carprice/submission.csv\")"
   ]
  },
  {
   "cell_type": "code",
   "execution_count": 112,
   "metadata": {
    "execution": {
     "iopub.execute_input": "2021-07-21T15:18:25.639036Z",
     "iopub.status.busy": "2021-07-21T15:18:25.638798Z",
     "iopub.status.idle": "2021-07-21T15:18:25.647899Z",
     "shell.execute_reply": "2021-07-21T15:18:25.646961Z",
     "shell.execute_reply.started": "2021-07-21T15:18:25.639013Z"
    },
    "id": "OTTBzl-g6BLa"
   },
   "outputs": [],
   "source": [
    "train_price = train_data[\"Price\"]\n",
    "train_data.drop(\"Price\",axis=1,inplace=True)\n",
    "train_data[\"Price\"] = train_price"
   ]
  },
  {
   "cell_type": "code",
   "execution_count": 113,
   "metadata": {
    "execution": {
     "iopub.execute_input": "2021-07-21T15:18:25.649202Z",
     "iopub.status.busy": "2021-07-21T15:18:25.648974Z",
     "iopub.status.idle": "2021-07-21T15:18:25.692961Z",
     "shell.execute_reply": "2021-07-21T15:18:25.692185Z",
     "shell.execute_reply.started": "2021-07-21T15:18:25.649179Z"
    },
    "id": "FCZz6tAN-epf",
    "outputId": "a726952b-596c-46fc-dc70-54ba0f5f4aad"
   },
   "outputs": [
    {
     "data": {
      "text/html": [
       "<div>\n",
       "<style scoped>\n",
       "    .dataframe tbody tr th:only-of-type {\n",
       "        vertical-align: middle;\n",
       "    }\n",
       "\n",
       "    .dataframe tbody tr th {\n",
       "        vertical-align: top;\n",
       "    }\n",
       "\n",
       "    .dataframe thead th {\n",
       "        text-align: right;\n",
       "    }\n",
       "</style>\n",
       "<table border=\"1\" class=\"dataframe\">\n",
       "  <thead>\n",
       "    <tr style=\"text-align: right;\">\n",
       "      <th></th>\n",
       "      <th>ID</th>\n",
       "      <th>Levy</th>\n",
       "      <th>Manufacturer</th>\n",
       "      <th>Model</th>\n",
       "      <th>Prod. year</th>\n",
       "      <th>Category</th>\n",
       "      <th>Leather interior</th>\n",
       "      <th>Fuel type</th>\n",
       "      <th>Engine volume</th>\n",
       "      <th>Mileage</th>\n",
       "      <th>Cylinders</th>\n",
       "      <th>Gear box type</th>\n",
       "      <th>Drive wheels</th>\n",
       "      <th>Doors</th>\n",
       "      <th>Wheel</th>\n",
       "      <th>Color</th>\n",
       "      <th>Airbags</th>\n",
       "      <th>Price</th>\n",
       "    </tr>\n",
       "  </thead>\n",
       "  <tbody>\n",
       "    <tr>\n",
       "      <th>0</th>\n",
       "      <td>45654403</td>\n",
       "      <td>1399</td>\n",
       "      <td>LEXUS</td>\n",
       "      <td>RX 450</td>\n",
       "      <td>2010</td>\n",
       "      <td>Jeep</td>\n",
       "      <td>Yes</td>\n",
       "      <td>Hybrid</td>\n",
       "      <td>3.5</td>\n",
       "      <td>186005 km</td>\n",
       "      <td>6.0</td>\n",
       "      <td>Automatic</td>\n",
       "      <td>4x4</td>\n",
       "      <td>04-May</td>\n",
       "      <td>Left wheel</td>\n",
       "      <td>Silver</td>\n",
       "      <td>12</td>\n",
       "      <td>13328</td>\n",
       "    </tr>\n",
       "    <tr>\n",
       "      <th>1</th>\n",
       "      <td>44731507</td>\n",
       "      <td>1018</td>\n",
       "      <td>CHEVROLET</td>\n",
       "      <td>Equinox</td>\n",
       "      <td>2011</td>\n",
       "      <td>Jeep</td>\n",
       "      <td>No</td>\n",
       "      <td>Petrol</td>\n",
       "      <td>3</td>\n",
       "      <td>192000 km</td>\n",
       "      <td>6.0</td>\n",
       "      <td>Tiptronic</td>\n",
       "      <td>4x4</td>\n",
       "      <td>04-May</td>\n",
       "      <td>Left wheel</td>\n",
       "      <td>Black</td>\n",
       "      <td>8</td>\n",
       "      <td>16621</td>\n",
       "    </tr>\n",
       "    <tr>\n",
       "      <th>2</th>\n",
       "      <td>45774419</td>\n",
       "      <td>-</td>\n",
       "      <td>HONDA</td>\n",
       "      <td>FIT</td>\n",
       "      <td>2006</td>\n",
       "      <td>Hatchback</td>\n",
       "      <td>No</td>\n",
       "      <td>Petrol</td>\n",
       "      <td>1.3</td>\n",
       "      <td>200000 km</td>\n",
       "      <td>4.0</td>\n",
       "      <td>Variator</td>\n",
       "      <td>Front</td>\n",
       "      <td>04-May</td>\n",
       "      <td>Right-hand drive</td>\n",
       "      <td>Black</td>\n",
       "      <td>2</td>\n",
       "      <td>8467</td>\n",
       "    </tr>\n",
       "    <tr>\n",
       "      <th>3</th>\n",
       "      <td>45769185</td>\n",
       "      <td>862</td>\n",
       "      <td>FORD</td>\n",
       "      <td>Escape</td>\n",
       "      <td>2011</td>\n",
       "      <td>Jeep</td>\n",
       "      <td>Yes</td>\n",
       "      <td>Hybrid</td>\n",
       "      <td>2.5</td>\n",
       "      <td>168966 km</td>\n",
       "      <td>4.0</td>\n",
       "      <td>Automatic</td>\n",
       "      <td>4x4</td>\n",
       "      <td>04-May</td>\n",
       "      <td>Left wheel</td>\n",
       "      <td>White</td>\n",
       "      <td>0</td>\n",
       "      <td>3607</td>\n",
       "    </tr>\n",
       "    <tr>\n",
       "      <th>4</th>\n",
       "      <td>45809263</td>\n",
       "      <td>446</td>\n",
       "      <td>HONDA</td>\n",
       "      <td>FIT</td>\n",
       "      <td>2014</td>\n",
       "      <td>Hatchback</td>\n",
       "      <td>Yes</td>\n",
       "      <td>Petrol</td>\n",
       "      <td>1.3</td>\n",
       "      <td>91901 km</td>\n",
       "      <td>4.0</td>\n",
       "      <td>Automatic</td>\n",
       "      <td>Front</td>\n",
       "      <td>04-May</td>\n",
       "      <td>Left wheel</td>\n",
       "      <td>Silver</td>\n",
       "      <td>4</td>\n",
       "      <td>11726</td>\n",
       "    </tr>\n",
       "  </tbody>\n",
       "</table>\n",
       "</div>"
      ],
      "text/plain": [
       "         ID  Levy Manufacturer    Model  Prod. year   Category  \\\n",
       "0  45654403  1399        LEXUS   RX 450        2010       Jeep   \n",
       "1  44731507  1018    CHEVROLET  Equinox        2011       Jeep   \n",
       "2  45774419     -        HONDA      FIT        2006  Hatchback   \n",
       "3  45769185   862         FORD   Escape        2011       Jeep   \n",
       "4  45809263   446        HONDA      FIT        2014  Hatchback   \n",
       "\n",
       "  Leather interior Fuel type Engine volume    Mileage  Cylinders  \\\n",
       "0              Yes    Hybrid           3.5  186005 km        6.0   \n",
       "1               No    Petrol             3  192000 km        6.0   \n",
       "2               No    Petrol           1.3  200000 km        4.0   \n",
       "3              Yes    Hybrid           2.5  168966 km        4.0   \n",
       "4              Yes    Petrol           1.3   91901 km        4.0   \n",
       "\n",
       "  Gear box type Drive wheels   Doors             Wheel   Color  Airbags  Price  \n",
       "0     Automatic          4x4  04-May        Left wheel  Silver       12  13328  \n",
       "1     Tiptronic          4x4  04-May        Left wheel   Black        8  16621  \n",
       "2      Variator        Front  04-May  Right-hand drive   Black        2   8467  \n",
       "3     Automatic          4x4  04-May        Left wheel   White        0   3607  \n",
       "4     Automatic        Front  04-May        Left wheel  Silver        4  11726  "
      ]
     },
     "metadata": {},
     "output_type": "display_data"
    },
    {
     "data": {
      "text/html": [
       "<div>\n",
       "<style scoped>\n",
       "    .dataframe tbody tr th:only-of-type {\n",
       "        vertical-align: middle;\n",
       "    }\n",
       "\n",
       "    .dataframe tbody tr th {\n",
       "        vertical-align: top;\n",
       "    }\n",
       "\n",
       "    .dataframe thead th {\n",
       "        text-align: right;\n",
       "    }\n",
       "</style>\n",
       "<table border=\"1\" class=\"dataframe\">\n",
       "  <thead>\n",
       "    <tr style=\"text-align: right;\">\n",
       "      <th></th>\n",
       "      <th>ID</th>\n",
       "      <th>Levy</th>\n",
       "      <th>Manufacturer</th>\n",
       "      <th>Model</th>\n",
       "      <th>Prod. year</th>\n",
       "      <th>Category</th>\n",
       "      <th>Leather interior</th>\n",
       "      <th>Fuel type</th>\n",
       "      <th>Engine volume</th>\n",
       "      <th>Mileage</th>\n",
       "      <th>Cylinders</th>\n",
       "      <th>Gear box type</th>\n",
       "      <th>Drive wheels</th>\n",
       "      <th>Doors</th>\n",
       "      <th>Wheel</th>\n",
       "      <th>Color</th>\n",
       "      <th>Airbags</th>\n",
       "      <th>Price</th>\n",
       "    </tr>\n",
       "  </thead>\n",
       "  <tbody>\n",
       "    <tr>\n",
       "      <th>0</th>\n",
       "      <td>44020629</td>\n",
       "      <td>-</td>\n",
       "      <td>VOLKSWAGEN</td>\n",
       "      <td>Golf</td>\n",
       "      <td>2012</td>\n",
       "      <td>Hatchback</td>\n",
       "      <td>No</td>\n",
       "      <td>Diesel</td>\n",
       "      <td>2.0 Turbo</td>\n",
       "      <td>0 km</td>\n",
       "      <td>4</td>\n",
       "      <td>Manual</td>\n",
       "      <td>Front</td>\n",
       "      <td>02-Mar</td>\n",
       "      <td>Left wheel</td>\n",
       "      <td>Grey</td>\n",
       "      <td>10</td>\n",
       "      <td>NaN</td>\n",
       "    </tr>\n",
       "    <tr>\n",
       "      <th>1</th>\n",
       "      <td>45784798</td>\n",
       "      <td>-</td>\n",
       "      <td>HYUNDAI</td>\n",
       "      <td>Sonata</td>\n",
       "      <td>2012</td>\n",
       "      <td>Sedan</td>\n",
       "      <td>Yes</td>\n",
       "      <td>Petrol</td>\n",
       "      <td>2.4</td>\n",
       "      <td>26000 km</td>\n",
       "      <td>4</td>\n",
       "      <td>Tiptronic</td>\n",
       "      <td>Front</td>\n",
       "      <td>04-May</td>\n",
       "      <td>Left wheel</td>\n",
       "      <td>Grey</td>\n",
       "      <td>10</td>\n",
       "      <td>NaN</td>\n",
       "    </tr>\n",
       "    <tr>\n",
       "      <th>2</th>\n",
       "      <td>45800257</td>\n",
       "      <td>-</td>\n",
       "      <td>NISSAN</td>\n",
       "      <td>Tiida</td>\n",
       "      <td>2005</td>\n",
       "      <td>Sedan</td>\n",
       "      <td>No</td>\n",
       "      <td>Petrol</td>\n",
       "      <td>1.5</td>\n",
       "      <td>168000 km</td>\n",
       "      <td>4</td>\n",
       "      <td>Automatic</td>\n",
       "      <td>Front</td>\n",
       "      <td>04-May</td>\n",
       "      <td>Right-hand drive</td>\n",
       "      <td>Sky blue</td>\n",
       "      <td>8</td>\n",
       "      <td>NaN</td>\n",
       "    </tr>\n",
       "    <tr>\n",
       "      <th>3</th>\n",
       "      <td>45797981</td>\n",
       "      <td>975</td>\n",
       "      <td>VOLVO</td>\n",
       "      <td>XC90</td>\n",
       "      <td>2012</td>\n",
       "      <td>Jeep</td>\n",
       "      <td>Yes</td>\n",
       "      <td>Petrol</td>\n",
       "      <td>3.2</td>\n",
       "      <td>143000 km</td>\n",
       "      <td>6</td>\n",
       "      <td>Automatic</td>\n",
       "      <td>4x4</td>\n",
       "      <td>04-May</td>\n",
       "      <td>Left wheel</td>\n",
       "      <td>Blue</td>\n",
       "      <td>12</td>\n",
       "      <td>NaN</td>\n",
       "    </tr>\n",
       "    <tr>\n",
       "      <th>4</th>\n",
       "      <td>45814303</td>\n",
       "      <td>-</td>\n",
       "      <td>OPEL</td>\n",
       "      <td>Astra</td>\n",
       "      <td>1993</td>\n",
       "      <td>Hatchback</td>\n",
       "      <td>No</td>\n",
       "      <td>Petrol</td>\n",
       "      <td>1.6</td>\n",
       "      <td>200000 km</td>\n",
       "      <td>4</td>\n",
       "      <td>Manual</td>\n",
       "      <td>Front</td>\n",
       "      <td>04-May</td>\n",
       "      <td>Left wheel</td>\n",
       "      <td>Black</td>\n",
       "      <td>0</td>\n",
       "      <td>NaN</td>\n",
       "    </tr>\n",
       "  </tbody>\n",
       "</table>\n",
       "</div>"
      ],
      "text/plain": [
       "         ID Levy Manufacturer   Model  Prod. year   Category Leather interior  \\\n",
       "0  44020629    -   VOLKSWAGEN    Golf        2012  Hatchback               No   \n",
       "1  45784798    -      HYUNDAI  Sonata        2012      Sedan              Yes   \n",
       "2  45800257    -       NISSAN   Tiida        2005      Sedan               No   \n",
       "3  45797981  975        VOLVO    XC90        2012       Jeep              Yes   \n",
       "4  45814303    -         OPEL   Astra        1993  Hatchback               No   \n",
       "\n",
       "  Fuel type Engine volume    Mileage  Cylinders Gear box type Drive wheels  \\\n",
       "0    Diesel     2.0 Turbo       0 km          4        Manual        Front   \n",
       "1    Petrol           2.4   26000 km          4     Tiptronic        Front   \n",
       "2    Petrol           1.5  168000 km          4     Automatic        Front   \n",
       "3    Petrol           3.2  143000 km          6     Automatic          4x4   \n",
       "4    Petrol           1.6  200000 km          4        Manual        Front   \n",
       "\n",
       "    Doors             Wheel     Color  Airbags  Price  \n",
       "0  02-Mar        Left wheel      Grey       10    NaN  \n",
       "1  04-May        Left wheel      Grey       10    NaN  \n",
       "2  04-May  Right-hand drive  Sky blue        8    NaN  \n",
       "3  04-May        Left wheel      Blue       12    NaN  \n",
       "4  04-May        Left wheel     Black        0    NaN  "
      ]
     },
     "metadata": {},
     "output_type": "display_data"
    },
    {
     "data": {
      "text/html": [
       "<div>\n",
       "<style scoped>\n",
       "    .dataframe tbody tr th:only-of-type {\n",
       "        vertical-align: middle;\n",
       "    }\n",
       "\n",
       "    .dataframe tbody tr th {\n",
       "        vertical-align: top;\n",
       "    }\n",
       "\n",
       "    .dataframe thead th {\n",
       "        text-align: right;\n",
       "    }\n",
       "</style>\n",
       "<table border=\"1\" class=\"dataframe\">\n",
       "  <thead>\n",
       "    <tr style=\"text-align: right;\">\n",
       "      <th></th>\n",
       "      <th>Price</th>\n",
       "    </tr>\n",
       "  </thead>\n",
       "  <tbody>\n",
       "    <tr>\n",
       "      <th>0</th>\n",
       "      <td>0</td>\n",
       "    </tr>\n",
       "    <tr>\n",
       "      <th>1</th>\n",
       "      <td>0</td>\n",
       "    </tr>\n",
       "    <tr>\n",
       "      <th>2</th>\n",
       "      <td>0</td>\n",
       "    </tr>\n",
       "    <tr>\n",
       "      <th>3</th>\n",
       "      <td>0</td>\n",
       "    </tr>\n",
       "    <tr>\n",
       "      <th>4</th>\n",
       "      <td>0</td>\n",
       "    </tr>\n",
       "  </tbody>\n",
       "</table>\n",
       "</div>"
      ],
      "text/plain": [
       "   Price\n",
       "0      0\n",
       "1      0\n",
       "2      0\n",
       "3      0\n",
       "4      0"
      ]
     },
     "metadata": {},
     "output_type": "display_data"
    }
   ],
   "source": [
    "display(train_data.head())\n",
    "display(test_data.head())\n",
    "display(submission_data.head())"
   ]
  },
  {
   "cell_type": "code",
   "execution_count": 114,
   "metadata": {
    "execution": {
     "iopub.execute_input": "2021-07-21T15:18:25.694342Z",
     "iopub.status.busy": "2021-07-21T15:18:25.694065Z",
     "iopub.status.idle": "2021-07-21T15:18:25.698902Z",
     "shell.execute_reply": "2021-07-21T15:18:25.698334Z",
     "shell.execute_reply.started": "2021-07-21T15:18:25.694311Z"
    },
    "id": "JO6oYw7P_V2O",
    "outputId": "2922379d-a299-45d8-b675-413dce13cee8"
   },
   "outputs": [
    {
     "name": "stdout",
     "output_type": "stream",
     "text": [
      "(19237, 18)\n",
      "(8245, 18)\n"
     ]
    }
   ],
   "source": [
    "print(train_data.shape)\n",
    "print(test_data.shape)"
   ]
  },
  {
   "cell_type": "code",
   "execution_count": 115,
   "metadata": {
    "execution": {
     "iopub.execute_input": "2021-07-21T15:18:25.700053Z",
     "iopub.status.busy": "2021-07-21T15:18:25.699812Z",
     "iopub.status.idle": "2021-07-21T15:18:25.706874Z",
     "shell.execute_reply": "2021-07-21T15:18:25.706337Z",
     "shell.execute_reply.started": "2021-07-21T15:18:25.700029Z"
    },
    "id": "yNDYb2Bw6BNX"
   },
   "outputs": [],
   "source": [
    "# sub_data = pd.DataFrame(({\"Price\" :[10000]*8245 }))\n",
    "# sub_data.to_csv(\"sample_submission_check.csv\",index=False)"
   ]
  },
  {
   "cell_type": "code",
   "execution_count": 116,
   "metadata": {
    "execution": {
     "iopub.execute_input": "2021-07-21T15:18:25.709321Z",
     "iopub.status.busy": "2021-07-21T15:18:25.709024Z",
     "iopub.status.idle": "2021-07-21T15:18:25.720159Z",
     "shell.execute_reply": "2021-07-21T15:18:25.719321Z",
     "shell.execute_reply.started": "2021-07-21T15:18:25.709286Z"
    },
    "id": "oMK1v37Y6BT7",
    "outputId": "3f93d333-4c5d-4d7f-bc6b-be8fe41aba04"
   },
   "outputs": [
    {
     "name": "stdout",
     "output_type": "stream",
     "text": [
      "The numerical data are ['ID', 'Prod. year', 'Cylinders', 'Airbags', 'Price']\n",
      "The categorical data are ['Levy', 'Manufacturer', 'Model', 'Category', 'Leather interior', 'Fuel type', 'Engine volume', 'Mileage', 'Gear box type', 'Drive wheels', 'Doors', 'Wheel', 'Color']\n"
     ]
    }
   ],
   "source": [
    "def column_details(df):\n",
    "  cat = []\n",
    "  num = []\n",
    "  for i in df.columns:\n",
    "    if df[i].dtypes==object:\n",
    "        cat.append(i)\n",
    "    else:\n",
    "        num.append(i)\n",
    "  print('The numerical data are {}'.format(num))\n",
    "  print('The categorical data are {}'.format(cat))\n",
    "  return num,cat\n",
    "\n",
    "num_col,cat_col = column_details(train_data)"
   ]
  },
  {
   "cell_type": "code",
   "execution_count": 117,
   "metadata": {
    "execution": {
     "iopub.execute_input": "2021-07-21T15:18:25.721798Z",
     "iopub.status.busy": "2021-07-21T15:18:25.721577Z",
     "iopub.status.idle": "2021-07-21T15:18:25.744797Z",
     "shell.execute_reply": "2021-07-21T15:18:25.744024Z",
     "shell.execute_reply.started": "2021-07-21T15:18:25.721776Z"
    },
    "id": "k4pZPyTmuiNo"
   },
   "outputs": [],
   "source": [
    "full_data = pd.concat([train_data,test_data],axis=0)"
   ]
  },
  {
   "cell_type": "code",
   "execution_count": 118,
   "metadata": {
    "execution": {
     "iopub.execute_input": "2021-07-21T15:18:25.746088Z",
     "iopub.status.busy": "2021-07-21T15:18:25.745847Z",
     "iopub.status.idle": "2021-07-21T15:18:25.750588Z",
     "shell.execute_reply": "2021-07-21T15:18:25.749802Z",
     "shell.execute_reply.started": "2021-07-21T15:18:25.746064Z"
    },
    "id": "7rFyxMcru25i",
    "outputId": "a9ea96a9-1c00-464b-8b7a-5028dd206040"
   },
   "outputs": [
    {
     "name": "stdout",
     "output_type": "stream",
     "text": [
      "(19237, 18)\n",
      "(8245, 18)\n",
      "(27482, 18)\n"
     ]
    }
   ],
   "source": [
    "print(train_data.shape)\n",
    "print(test_data.shape)\n",
    "print(full_data.shape)"
   ]
  },
  {
   "cell_type": "code",
   "execution_count": 119,
   "metadata": {
    "execution": {
     "iopub.execute_input": "2021-07-21T15:18:25.751538Z",
     "iopub.status.busy": "2021-07-21T15:18:25.751323Z",
     "iopub.status.idle": "2021-07-21T15:18:25.778624Z",
     "shell.execute_reply": "2021-07-21T15:18:25.777924Z",
     "shell.execute_reply.started": "2021-07-21T15:18:25.751516Z"
    },
    "id": "ZN4E1lqsvFMA",
    "outputId": "18a2f2a8-9901-4245-ef10-5285766d60e1"
   },
   "outputs": [
    {
     "data": {
      "text/html": [
       "<div>\n",
       "<style scoped>\n",
       "    .dataframe tbody tr th:only-of-type {\n",
       "        vertical-align: middle;\n",
       "    }\n",
       "\n",
       "    .dataframe tbody tr th {\n",
       "        vertical-align: top;\n",
       "    }\n",
       "\n",
       "    .dataframe thead th {\n",
       "        text-align: right;\n",
       "    }\n",
       "</style>\n",
       "<table border=\"1\" class=\"dataframe\">\n",
       "  <thead>\n",
       "    <tr style=\"text-align: right;\">\n",
       "      <th></th>\n",
       "      <th>ID</th>\n",
       "      <th>Levy</th>\n",
       "      <th>Manufacturer</th>\n",
       "      <th>Model</th>\n",
       "      <th>Prod. year</th>\n",
       "      <th>Category</th>\n",
       "      <th>Leather interior</th>\n",
       "      <th>Fuel type</th>\n",
       "      <th>Engine volume</th>\n",
       "      <th>Mileage</th>\n",
       "      <th>Cylinders</th>\n",
       "      <th>Gear box type</th>\n",
       "      <th>Drive wheels</th>\n",
       "      <th>Doors</th>\n",
       "      <th>Wheel</th>\n",
       "      <th>Color</th>\n",
       "      <th>Airbags</th>\n",
       "      <th>Price</th>\n",
       "    </tr>\n",
       "  </thead>\n",
       "  <tbody>\n",
       "    <tr>\n",
       "      <th>0</th>\n",
       "      <td>45654403</td>\n",
       "      <td>1399</td>\n",
       "      <td>LEXUS</td>\n",
       "      <td>RX 450</td>\n",
       "      <td>2010</td>\n",
       "      <td>Jeep</td>\n",
       "      <td>Yes</td>\n",
       "      <td>Hybrid</td>\n",
       "      <td>3.5</td>\n",
       "      <td>186005 km</td>\n",
       "      <td>6.0</td>\n",
       "      <td>Automatic</td>\n",
       "      <td>4x4</td>\n",
       "      <td>04-May</td>\n",
       "      <td>Left wheel</td>\n",
       "      <td>Silver</td>\n",
       "      <td>12</td>\n",
       "      <td>13328.0</td>\n",
       "    </tr>\n",
       "    <tr>\n",
       "      <th>1</th>\n",
       "      <td>44731507</td>\n",
       "      <td>1018</td>\n",
       "      <td>CHEVROLET</td>\n",
       "      <td>Equinox</td>\n",
       "      <td>2011</td>\n",
       "      <td>Jeep</td>\n",
       "      <td>No</td>\n",
       "      <td>Petrol</td>\n",
       "      <td>3</td>\n",
       "      <td>192000 km</td>\n",
       "      <td>6.0</td>\n",
       "      <td>Tiptronic</td>\n",
       "      <td>4x4</td>\n",
       "      <td>04-May</td>\n",
       "      <td>Left wheel</td>\n",
       "      <td>Black</td>\n",
       "      <td>8</td>\n",
       "      <td>16621.0</td>\n",
       "    </tr>\n",
       "    <tr>\n",
       "      <th>2</th>\n",
       "      <td>45774419</td>\n",
       "      <td>-</td>\n",
       "      <td>HONDA</td>\n",
       "      <td>FIT</td>\n",
       "      <td>2006</td>\n",
       "      <td>Hatchback</td>\n",
       "      <td>No</td>\n",
       "      <td>Petrol</td>\n",
       "      <td>1.3</td>\n",
       "      <td>200000 km</td>\n",
       "      <td>4.0</td>\n",
       "      <td>Variator</td>\n",
       "      <td>Front</td>\n",
       "      <td>04-May</td>\n",
       "      <td>Right-hand drive</td>\n",
       "      <td>Black</td>\n",
       "      <td>2</td>\n",
       "      <td>8467.0</td>\n",
       "    </tr>\n",
       "    <tr>\n",
       "      <th>3</th>\n",
       "      <td>45769185</td>\n",
       "      <td>862</td>\n",
       "      <td>FORD</td>\n",
       "      <td>Escape</td>\n",
       "      <td>2011</td>\n",
       "      <td>Jeep</td>\n",
       "      <td>Yes</td>\n",
       "      <td>Hybrid</td>\n",
       "      <td>2.5</td>\n",
       "      <td>168966 km</td>\n",
       "      <td>4.0</td>\n",
       "      <td>Automatic</td>\n",
       "      <td>4x4</td>\n",
       "      <td>04-May</td>\n",
       "      <td>Left wheel</td>\n",
       "      <td>White</td>\n",
       "      <td>0</td>\n",
       "      <td>3607.0</td>\n",
       "    </tr>\n",
       "    <tr>\n",
       "      <th>4</th>\n",
       "      <td>45809263</td>\n",
       "      <td>446</td>\n",
       "      <td>HONDA</td>\n",
       "      <td>FIT</td>\n",
       "      <td>2014</td>\n",
       "      <td>Hatchback</td>\n",
       "      <td>Yes</td>\n",
       "      <td>Petrol</td>\n",
       "      <td>1.3</td>\n",
       "      <td>91901 km</td>\n",
       "      <td>4.0</td>\n",
       "      <td>Automatic</td>\n",
       "      <td>Front</td>\n",
       "      <td>04-May</td>\n",
       "      <td>Left wheel</td>\n",
       "      <td>Silver</td>\n",
       "      <td>4</td>\n",
       "      <td>11726.0</td>\n",
       "    </tr>\n",
       "  </tbody>\n",
       "</table>\n",
       "</div>"
      ],
      "text/plain": [
       "         ID  Levy Manufacturer    Model  Prod. year   Category  \\\n",
       "0  45654403  1399        LEXUS   RX 450        2010       Jeep   \n",
       "1  44731507  1018    CHEVROLET  Equinox        2011       Jeep   \n",
       "2  45774419     -        HONDA      FIT        2006  Hatchback   \n",
       "3  45769185   862         FORD   Escape        2011       Jeep   \n",
       "4  45809263   446        HONDA      FIT        2014  Hatchback   \n",
       "\n",
       "  Leather interior Fuel type Engine volume    Mileage  Cylinders  \\\n",
       "0              Yes    Hybrid           3.5  186005 km        6.0   \n",
       "1               No    Petrol             3  192000 km        6.0   \n",
       "2               No    Petrol           1.3  200000 km        4.0   \n",
       "3              Yes    Hybrid           2.5  168966 km        4.0   \n",
       "4              Yes    Petrol           1.3   91901 km        4.0   \n",
       "\n",
       "  Gear box type Drive wheels   Doors             Wheel   Color  Airbags  \\\n",
       "0     Automatic          4x4  04-May        Left wheel  Silver       12   \n",
       "1     Tiptronic          4x4  04-May        Left wheel   Black        8   \n",
       "2      Variator        Front  04-May  Right-hand drive   Black        2   \n",
       "3     Automatic          4x4  04-May        Left wheel   White        0   \n",
       "4     Automatic        Front  04-May        Left wheel  Silver        4   \n",
       "\n",
       "     Price  \n",
       "0  13328.0  \n",
       "1  16621.0  \n",
       "2   8467.0  \n",
       "3   3607.0  \n",
       "4  11726.0  "
      ]
     },
     "execution_count": 119,
     "metadata": {},
     "output_type": "execute_result"
    }
   ],
   "source": [
    "full_data.head()"
   ]
  },
  {
   "cell_type": "code",
   "execution_count": 120,
   "metadata": {
    "execution": {
     "iopub.execute_input": "2021-07-21T15:18:25.780149Z",
     "iopub.status.busy": "2021-07-21T15:18:25.779874Z",
     "iopub.status.idle": "2021-07-21T15:18:25.783714Z",
     "shell.execute_reply": "2021-07-21T15:18:25.782657Z",
     "shell.execute_reply.started": "2021-07-21T15:18:25.780123Z"
    },
    "id": "Sjg60xGC-831"
   },
   "outputs": [],
   "source": [
    "# pd.set_option('display.height', 500)\n",
    "pd.set_option('display.max_rows', 500)"
   ]
  },
  {
   "cell_type": "code",
   "execution_count": 121,
   "metadata": {
    "execution": {
     "iopub.execute_input": "2021-07-21T15:18:25.785191Z",
     "iopub.status.busy": "2021-07-21T15:18:25.784863Z",
     "iopub.status.idle": "2021-07-21T15:18:26.093135Z",
     "shell.execute_reply": "2021-07-21T15:18:26.092355Z",
     "shell.execute_reply.started": "2021-07-21T15:18:25.785164Z"
    },
    "id": "p2CzJeDXsgfD"
   },
   "outputs": [],
   "source": [
    "full_data['Prod. year']=full_data['Prod. year'].astype(object)\n",
    "\n",
    "full_data[\"Mileage\"]=full_data['Mileage'].replace({'1234567899 km':\"0 km\"})\n",
    "full_data['Mileage']=full_data['Mileage'].str.replace('km','')\n",
    "full_data['Mileage']=full_data['Mileage'].astype(int)\n",
    "\n",
    "full_data['Doors']=full_data['Doors'].replace({'04-May':4,'02-Mar':2})\n",
    "full_data['Doors']=full_data['Doors'].astype(str)\n",
    "\n",
    "full_data['Levy']=full_data['Levy'].replace({'-':np.nan})\n",
    "full_data['Levy']=full_data['Levy'].astype(float)\n",
    "\n",
    "full_data[\"Cylinders\"]=full_data[\"Cylinders\"].replace({127.0:12})\n",
    "full_data['Cylinders']=full_data['Cylinders'].astype(str)\n",
    "\n",
    "full_data['Turbo engine']=full_data['Engine volume'].replace(['2.0 Turbo', '2.2 Turbo','3.0 Turbo','1.4 Turbo','1.5 Turbo', '1.6 Turbo','2.3 Turbo','2.8 Turbo','1.8 Turbo', '2.4 Turbo', '3.5 Turbo', '3.2 Turbo','1.3 Turbo','2.5 Turbo','1.9 Turbo', '4.4 Turbo', '4.7 Turbo', '0.2 Turbo','4.8 Turbo', '4.6 Turbo','1.2 Turbo','1.7 Turbo', '6.3 Turbo', '2.7 Turbo','2.9 Turbo', '4.0 Turbo','3.6 Turbo','3.7 Turbo','5.5 Turbo','2.1 Turbo','0.7 Turbo', '0.6 Turbo','1.0 Turbo', '4.5 Turbo', '0.8 Turbo', '4.2 Turbo', '3.1', '5.0 Turbo','5.7 Turbo','0.4 Turbo', '5.4 Turbo', '0.3 Turbo','1.1 Turbo','2.6 Turbo','6.0 Turbo'],'Turbo')\n",
    "full_data['Turbo engine']=full_data['Turbo engine'].replace(['3.5','3','1.3','2.5','2','1.8','2.4','4','1.6','3.3','4.7','1.5','4.4','3.6','2.3','2.2','1.4','5.5','3.2','3.8','4.6','1.2','5', '1.7', '2.9', '0.5','1.9','2.7','4.8','5.3','0.4','2.8','1.1','2.1','0.7','5.4','3.7','1','2.6','5.7','3.4','4.3','4.2','5.9','6.8','4.5','0.6','7.3','0.1','6.3','6.4','5.2','5.8','0.8', '6.7', '6.2', '0', '20', '0.3', '0.2','5.6', '6', '3.9', '0.9','6.1','6.6','10.8'],'No')\n",
    "full_data['Turbo engine'] = full_data['Turbo engine'].replace(\"Turbo\",\"Yes\")\n",
    "\n",
    "full_data['Engine volume']=full_data['Engine volume'].str.replace('Turbo','')\n",
    "full_data['Engine volume']=full_data['Engine volume'].astype(float)\n",
    "\n",
    "full_data['Drive wheels']=full_data['Drive wheels'].replace({'4x4':'4-WD'})\n",
    "\n",
    "full_data[\"Airbags\"] = full_data[\"Airbags\"].astype(str)\n",
    "\n",
    "full_data[\"Price\"] = full_data[\"Price\"].replace({26307500.0:26307.0})\n",
    "\n",
    "# full_data['Costly car'] = full_data['Price'].apply(lambda x: 1 if x >= 100000 else 0)"
   ]
  },
  {
   "cell_type": "code",
   "execution_count": 122,
   "metadata": {
    "execution": {
     "iopub.execute_input": "2021-07-21T15:18:26.094864Z",
     "iopub.status.busy": "2021-07-21T15:18:26.094487Z",
     "iopub.status.idle": "2021-07-21T15:18:26.130438Z",
     "shell.execute_reply": "2021-07-21T15:18:26.129759Z",
     "shell.execute_reply.started": "2021-07-21T15:18:26.094826Z"
    },
    "id": "lo8BO1BkGYjm"
   },
   "outputs": [],
   "source": [
    "full_data['Mileage'] = full_data['Mileage'].apply(lambda x: x if x <= 500000.0 else 0)\n",
    "\n",
    "full_data[\"Mileage\"] = full_data[\"Mileage\"].replace(0,full_data[\"Mileage\"].mean())\n",
    "\n",
    "full_data['Levy'] = full_data['Levy'].fillna(full_data['Levy'].mean())"
   ]
  },
  {
   "cell_type": "code",
   "execution_count": 123,
   "metadata": {
    "execution": {
     "iopub.execute_input": "2021-07-21T15:18:26.132118Z",
     "iopub.status.busy": "2021-07-21T15:18:26.131600Z",
     "iopub.status.idle": "2021-07-21T15:18:26.151195Z",
     "shell.execute_reply": "2021-07-21T15:18:26.150496Z",
     "shell.execute_reply.started": "2021-07-21T15:18:26.132075Z"
    },
    "id": "FqKoT_Itt0rT"
   },
   "outputs": [],
   "source": [
    "full_data.drop([\"ID\",\"Price\",\"Manufacturer\",\"Model\"],axis=1,inplace=True)"
   ]
  },
  {
   "cell_type": "code",
   "execution_count": 124,
   "metadata": {
    "execution": {
     "iopub.execute_input": "2021-07-21T15:18:26.152856Z",
     "iopub.status.busy": "2021-07-21T15:18:26.152326Z",
     "iopub.status.idle": "2021-07-21T15:18:26.158652Z",
     "shell.execute_reply": "2021-07-21T15:18:26.158121Z",
     "shell.execute_reply.started": "2021-07-21T15:18:26.152815Z"
    },
    "id": "s7wyD-PIOjDL"
   },
   "outputs": [],
   "source": [
    "full_data_copy = full_data.copy()"
   ]
  },
  {
   "cell_type": "code",
   "execution_count": 125,
   "metadata": {
    "execution": {
     "iopub.execute_input": "2021-07-21T15:18:26.160172Z",
     "iopub.status.busy": "2021-07-21T15:18:26.159709Z",
     "iopub.status.idle": "2021-07-21T15:18:26.314317Z",
     "shell.execute_reply": "2021-07-21T15:18:26.313625Z",
     "shell.execute_reply.started": "2021-07-21T15:18:26.160126Z"
    },
    "id": "kpDt2ndZ94xH"
   },
   "outputs": [],
   "source": [
    "from sklearn.preprocessing import LabelEncoder\n",
    "lbl = LabelEncoder()\n",
    "for col in full_data_copy.columns.values:\n",
    "    if full_data_copy.loc[:,col].dtype == \"object\":\n",
    "        lbl.fit(full_data_copy.loc[:,col].astype(str))\n",
    "        full_data_copy.loc[:,col] = lbl.transform(full_data_copy.loc[:,col].astype(str))\n",
    "        # test.loc[:,col] = lbl.transform(test.loc[:,col].astype(str))"
   ]
  },
  {
   "cell_type": "code",
   "execution_count": 126,
   "metadata": {
    "execution": {
     "iopub.execute_input": "2021-07-21T15:18:26.315903Z",
     "iopub.status.busy": "2021-07-21T15:18:26.315402Z",
     "iopub.status.idle": "2021-07-21T15:18:26.322630Z",
     "shell.execute_reply": "2021-07-21T15:18:26.322033Z",
     "shell.execute_reply.started": "2021-07-21T15:18:26.315866Z"
    },
    "id": "-vQ0IDRySmPO"
   },
   "outputs": [],
   "source": [
    "from sklearn.preprocessing import LabelEncoder\n",
    "lbl = LabelEncoder()\n",
    "for col in full_data_copy.columns.values:\n",
    "    if full_data_copy.loc[:,col].dtype == \"object\":\n",
    "        lbl.fit(full_data_copy.loc[:,col].astype(int64))\n",
    "        full_data_copy.loc[:,col] = lbl.transform(full_data_copy.loc[:,col].astype(int64))\n",
    "        # test.loc[:,col] = lbl.transform(test.loc[:,col].astype(str))"
   ]
  },
  {
   "cell_type": "code",
   "execution_count": 127,
   "metadata": {
    "execution": {
     "iopub.execute_input": "2021-07-21T15:18:26.324128Z",
     "iopub.status.busy": "2021-07-21T15:18:26.323654Z",
     "iopub.status.idle": "2021-07-21T15:18:26.346384Z",
     "shell.execute_reply": "2021-07-21T15:18:26.345457Z",
     "shell.execute_reply.started": "2021-07-21T15:18:26.324091Z"
    },
    "id": "jgjvBziNPYK1",
    "outputId": "e07254ff-1486-4922-aac6-bdaa1d5e7534"
   },
   "outputs": [
    {
     "data": {
      "text/html": [
       "<div>\n",
       "<style scoped>\n",
       "    .dataframe tbody tr th:only-of-type {\n",
       "        vertical-align: middle;\n",
       "    }\n",
       "\n",
       "    .dataframe tbody tr th {\n",
       "        vertical-align: top;\n",
       "    }\n",
       "\n",
       "    .dataframe thead th {\n",
       "        text-align: right;\n",
       "    }\n",
       "</style>\n",
       "<table border=\"1\" class=\"dataframe\">\n",
       "  <thead>\n",
       "    <tr style=\"text-align: right;\">\n",
       "      <th></th>\n",
       "      <th>Levy</th>\n",
       "      <th>Prod. year</th>\n",
       "      <th>Category</th>\n",
       "      <th>Leather interior</th>\n",
       "      <th>Fuel type</th>\n",
       "      <th>Engine volume</th>\n",
       "      <th>Mileage</th>\n",
       "      <th>Cylinders</th>\n",
       "      <th>Gear box type</th>\n",
       "      <th>Drive wheels</th>\n",
       "      <th>Doors</th>\n",
       "      <th>Wheel</th>\n",
       "      <th>Color</th>\n",
       "      <th>Airbags</th>\n",
       "      <th>Turbo engine</th>\n",
       "    </tr>\n",
       "  </thead>\n",
       "  <tbody>\n",
       "    <tr>\n",
       "      <th>0</th>\n",
       "      <td>1399.000000</td>\n",
       "      <td>48</td>\n",
       "      <td>4</td>\n",
       "      <td>1</td>\n",
       "      <td>2</td>\n",
       "      <td>3.5</td>\n",
       "      <td>186005.0</td>\n",
       "      <td>11</td>\n",
       "      <td>0</td>\n",
       "      <td>0</td>\n",
       "      <td>1</td>\n",
       "      <td>0</td>\n",
       "      <td>12</td>\n",
       "      <td>4</td>\n",
       "      <td>0</td>\n",
       "    </tr>\n",
       "    <tr>\n",
       "      <th>1</th>\n",
       "      <td>1018.000000</td>\n",
       "      <td>49</td>\n",
       "      <td>4</td>\n",
       "      <td>0</td>\n",
       "      <td>5</td>\n",
       "      <td>3.0</td>\n",
       "      <td>192000.0</td>\n",
       "      <td>11</td>\n",
       "      <td>2</td>\n",
       "      <td>0</td>\n",
       "      <td>1</td>\n",
       "      <td>0</td>\n",
       "      <td>1</td>\n",
       "      <td>15</td>\n",
       "      <td>0</td>\n",
       "    </tr>\n",
       "    <tr>\n",
       "      <th>2</th>\n",
       "      <td>910.160914</td>\n",
       "      <td>44</td>\n",
       "      <td>3</td>\n",
       "      <td>0</td>\n",
       "      <td>5</td>\n",
       "      <td>1.3</td>\n",
       "      <td>200000.0</td>\n",
       "      <td>9</td>\n",
       "      <td>3</td>\n",
       "      <td>1</td>\n",
       "      <td>1</td>\n",
       "      <td>1</td>\n",
       "      <td>1</td>\n",
       "      <td>9</td>\n",
       "      <td>0</td>\n",
       "    </tr>\n",
       "    <tr>\n",
       "      <th>3</th>\n",
       "      <td>862.000000</td>\n",
       "      <td>49</td>\n",
       "      <td>4</td>\n",
       "      <td>1</td>\n",
       "      <td>2</td>\n",
       "      <td>2.5</td>\n",
       "      <td>168966.0</td>\n",
       "      <td>9</td>\n",
       "      <td>0</td>\n",
       "      <td>0</td>\n",
       "      <td>1</td>\n",
       "      <td>0</td>\n",
       "      <td>14</td>\n",
       "      <td>0</td>\n",
       "      <td>0</td>\n",
       "    </tr>\n",
       "    <tr>\n",
       "      <th>4</th>\n",
       "      <td>446.000000</td>\n",
       "      <td>52</td>\n",
       "      <td>3</td>\n",
       "      <td>1</td>\n",
       "      <td>5</td>\n",
       "      <td>1.3</td>\n",
       "      <td>91901.0</td>\n",
       "      <td>9</td>\n",
       "      <td>0</td>\n",
       "      <td>1</td>\n",
       "      <td>1</td>\n",
       "      <td>0</td>\n",
       "      <td>12</td>\n",
       "      <td>11</td>\n",
       "      <td>0</td>\n",
       "    </tr>\n",
       "  </tbody>\n",
       "</table>\n",
       "</div>"
      ],
      "text/plain": [
       "          Levy  Prod. year  Category  Leather interior  Fuel type  \\\n",
       "0  1399.000000          48         4                 1          2   \n",
       "1  1018.000000          49         4                 0          5   \n",
       "2   910.160914          44         3                 0          5   \n",
       "3   862.000000          49         4                 1          2   \n",
       "4   446.000000          52         3                 1          5   \n",
       "\n",
       "   Engine volume   Mileage  Cylinders  Gear box type  Drive wheels  Doors  \\\n",
       "0            3.5  186005.0         11              0             0      1   \n",
       "1            3.0  192000.0         11              2             0      1   \n",
       "2            1.3  200000.0          9              3             1      1   \n",
       "3            2.5  168966.0          9              0             0      1   \n",
       "4            1.3   91901.0          9              0             1      1   \n",
       "\n",
       "   Wheel  Color  Airbags  Turbo engine  \n",
       "0      0     12        4             0  \n",
       "1      0      1       15             0  \n",
       "2      1      1        9             0  \n",
       "3      0     14        0             0  \n",
       "4      0     12       11             0  "
      ]
     },
     "execution_count": 127,
     "metadata": {},
     "output_type": "execute_result"
    }
   ],
   "source": [
    "full_data_copy.head()"
   ]
  },
  {
   "cell_type": "code",
   "execution_count": 128,
   "metadata": {
    "execution": {
     "iopub.execute_input": "2021-07-21T15:18:26.347893Z",
     "iopub.status.busy": "2021-07-21T15:18:26.347576Z",
     "iopub.status.idle": "2021-07-21T15:18:26.366345Z",
     "shell.execute_reply": "2021-07-21T15:18:26.365566Z",
     "shell.execute_reply.started": "2021-07-21T15:18:26.347865Z"
    },
    "id": "lpdmxKxAgZR-",
    "outputId": "a2e90a0b-f25f-4542-e35e-919117b45341"
   },
   "outputs": [
    {
     "name": "stdout",
     "output_type": "stream",
     "text": [
      "<class 'pandas.core.frame.DataFrame'>\n",
      "Int64Index: 27482 entries, 0 to 8244\n",
      "Data columns (total 15 columns):\n",
      " #   Column            Non-Null Count  Dtype  \n",
      "---  ------            --------------  -----  \n",
      " 0   Levy              27482 non-null  float64\n",
      " 1   Prod. year        27482 non-null  int64  \n",
      " 2   Category          27482 non-null  int64  \n",
      " 3   Leather interior  27482 non-null  int64  \n",
      " 4   Fuel type         27482 non-null  int64  \n",
      " 5   Engine volume     27482 non-null  float64\n",
      " 6   Mileage           27482 non-null  float64\n",
      " 7   Cylinders         27482 non-null  int64  \n",
      " 8   Gear box type     27482 non-null  int64  \n",
      " 9   Drive wheels      27482 non-null  int64  \n",
      " 10  Doors             27482 non-null  int64  \n",
      " 11  Wheel             27482 non-null  int64  \n",
      " 12  Color             27482 non-null  int64  \n",
      " 13  Airbags           27482 non-null  int64  \n",
      " 14  Turbo engine      27482 non-null  int64  \n",
      "dtypes: float64(3), int64(12)\n",
      "memory usage: 3.4 MB\n"
     ]
    }
   ],
   "source": [
    "full_data_copy.info()"
   ]
  },
  {
   "cell_type": "code",
   "execution_count": 129,
   "metadata": {
    "execution": {
     "iopub.execute_input": "2021-07-21T15:18:26.367525Z",
     "iopub.status.busy": "2021-07-21T15:18:26.367258Z",
     "iopub.status.idle": "2021-07-21T15:18:26.372734Z",
     "shell.execute_reply": "2021-07-21T15:18:26.372148Z",
     "shell.execute_reply.started": "2021-07-21T15:18:26.367500Z"
    },
    "id": "BVjbqeQs_tEm",
    "outputId": "f879e476-0e06-43ed-84f4-4805c8dfca61"
   },
   "outputs": [
    {
     "data": {
      "text/plain": [
       "Index(['Levy', 'Prod. year', 'Category', 'Leather interior', 'Fuel type',\n",
       "       'Engine volume', 'Mileage', 'Cylinders', 'Gear box type',\n",
       "       'Drive wheels', 'Doors', 'Wheel', 'Color', 'Airbags', 'Turbo engine'],\n",
       "      dtype='object')"
      ]
     },
     "execution_count": 129,
     "metadata": {},
     "output_type": "execute_result"
    }
   ],
   "source": [
    "full_data_copy.columns"
   ]
  },
  {
   "cell_type": "code",
   "execution_count": 130,
   "metadata": {
    "execution": {
     "iopub.execute_input": "2021-07-21T15:18:26.374090Z",
     "iopub.status.busy": "2021-07-21T15:18:26.373712Z",
     "iopub.status.idle": "2021-07-21T15:18:26.398600Z",
     "shell.execute_reply": "2021-07-21T15:18:26.397897Z",
     "shell.execute_reply.started": "2021-07-21T15:18:26.374059Z"
    },
    "id": "dZlupNeITGpL"
   },
   "outputs": [],
   "source": [
    "sc = StandardScaler()\n",
    "full_data_copy_sc = pd.DataFrame(sc.fit_transform(full_data_copy))\n",
    "# test_sc = pd.DataFrame(sc.fit_transform(test))"
   ]
  },
  {
   "cell_type": "code",
   "execution_count": 131,
   "metadata": {
    "execution": {
     "iopub.execute_input": "2021-07-21T15:18:26.402494Z",
     "iopub.status.busy": "2021-07-21T15:18:26.402047Z",
     "iopub.status.idle": "2021-07-21T15:18:26.405957Z",
     "shell.execute_reply": "2021-07-21T15:18:26.405325Z",
     "shell.execute_reply.started": "2021-07-21T15:18:26.402449Z"
    },
    "id": "-T8ZdFXp_y7z"
   },
   "outputs": [],
   "source": [
    "full_data_copy_sc.columns = full_data_copy.columns"
   ]
  },
  {
   "cell_type": "code",
   "execution_count": 132,
   "metadata": {
    "execution": {
     "iopub.execute_input": "2021-07-21T15:18:26.408203Z",
     "iopub.status.busy": "2021-07-21T15:18:26.407825Z",
     "iopub.status.idle": "2021-07-21T15:18:26.418416Z",
     "shell.execute_reply": "2021-07-21T15:18:26.417799Z",
     "shell.execute_reply.started": "2021-07-21T15:18:26.408165Z"
    },
    "id": "qszenxfGTPKn",
    "outputId": "2677680c-850b-402d-b7d8-a8c611be7049"
   },
   "outputs": [
    {
     "data": {
      "text/plain": [
       "(27482, 15)"
      ]
     },
     "execution_count": 132,
     "metadata": {},
     "output_type": "execute_result"
    }
   ],
   "source": [
    "full_data_copy_sc.shape"
   ]
  },
  {
   "cell_type": "code",
   "execution_count": 133,
   "metadata": {
    "execution": {
     "iopub.execute_input": "2021-07-21T15:18:26.419642Z",
     "iopub.status.busy": "2021-07-21T15:18:26.419293Z",
     "iopub.status.idle": "2021-07-21T15:18:26.441533Z",
     "shell.execute_reply": "2021-07-21T15:18:26.440880Z",
     "shell.execute_reply.started": "2021-07-21T15:18:26.419607Z"
    },
    "id": "Iok_cngn_8Gw",
    "outputId": "2a0c97c5-4aee-4a00-c5ed-b20b4ef51ce8"
   },
   "outputs": [
    {
     "data": {
      "text/html": [
       "<div>\n",
       "<style scoped>\n",
       "    .dataframe tbody tr th:only-of-type {\n",
       "        vertical-align: middle;\n",
       "    }\n",
       "\n",
       "    .dataframe tbody tr th {\n",
       "        vertical-align: top;\n",
       "    }\n",
       "\n",
       "    .dataframe thead th {\n",
       "        text-align: right;\n",
       "    }\n",
       "</style>\n",
       "<table border=\"1\" class=\"dataframe\">\n",
       "  <thead>\n",
       "    <tr style=\"text-align: right;\">\n",
       "      <th></th>\n",
       "      <th>Levy</th>\n",
       "      <th>Prod. year</th>\n",
       "      <th>Category</th>\n",
       "      <th>Leather interior</th>\n",
       "      <th>Fuel type</th>\n",
       "      <th>Engine volume</th>\n",
       "      <th>Mileage</th>\n",
       "      <th>Cylinders</th>\n",
       "      <th>Gear box type</th>\n",
       "      <th>Drive wheels</th>\n",
       "      <th>Doors</th>\n",
       "      <th>Wheel</th>\n",
       "      <th>Color</th>\n",
       "      <th>Airbags</th>\n",
       "      <th>Turbo engine</th>\n",
       "    </tr>\n",
       "  </thead>\n",
       "  <tbody>\n",
       "    <tr>\n",
       "      <th>0</th>\n",
       "      <td>1.282596</td>\n",
       "      <td>-0.166025</td>\n",
       "      <td>-0.817229</td>\n",
       "      <td>0.615795</td>\n",
       "      <td>-0.793472</td>\n",
       "      <td>1.346803</td>\n",
       "      <td>0.525957</td>\n",
       "      <td>1.163112</td>\n",
       "      <td>-0.599015</td>\n",
       "      <td>-1.599316</td>\n",
       "      <td>0.160242</td>\n",
       "      <td>-0.287490</td>\n",
       "      <td>0.790596</td>\n",
       "      <td>-0.717521</td>\n",
       "      <td>-0.334262</td>\n",
       "    </tr>\n",
       "    <tr>\n",
       "      <th>1</th>\n",
       "      <td>0.282944</td>\n",
       "      <td>0.014198</td>\n",
       "      <td>-0.817229</td>\n",
       "      <td>-1.623918</td>\n",
       "      <td>0.867362</td>\n",
       "      <td>0.779438</td>\n",
       "      <td>0.595723</td>\n",
       "      <td>1.163112</td>\n",
       "      <td>1.633895</td>\n",
       "      <td>-1.599316</td>\n",
       "      <td>0.160242</td>\n",
       "      <td>-0.287490</td>\n",
       "      <td>-1.259927</td>\n",
       "      <td>1.553387</td>\n",
       "      <td>-0.334262</td>\n",
       "    </tr>\n",
       "    <tr>\n",
       "      <th>2</th>\n",
       "      <td>0.000000</td>\n",
       "      <td>-0.886914</td>\n",
       "      <td>-1.175834</td>\n",
       "      <td>-1.623918</td>\n",
       "      <td>0.867362</td>\n",
       "      <td>-1.149602</td>\n",
       "      <td>0.688821</td>\n",
       "      <td>-0.426576</td>\n",
       "      <td>2.750351</td>\n",
       "      <td>0.159765</td>\n",
       "      <td>0.160242</td>\n",
       "      <td>3.478382</td>\n",
       "      <td>-1.259927</td>\n",
       "      <td>0.314710</td>\n",
       "      <td>-0.334262</td>\n",
       "    </tr>\n",
       "    <tr>\n",
       "      <th>3</th>\n",
       "      <td>-0.126363</td>\n",
       "      <td>0.014198</td>\n",
       "      <td>-0.817229</td>\n",
       "      <td>0.615795</td>\n",
       "      <td>-0.793472</td>\n",
       "      <td>0.212073</td>\n",
       "      <td>0.327668</td>\n",
       "      <td>-0.426576</td>\n",
       "      <td>-0.599015</td>\n",
       "      <td>-1.599316</td>\n",
       "      <td>0.160242</td>\n",
       "      <td>-0.287490</td>\n",
       "      <td>1.163418</td>\n",
       "      <td>-1.543306</td>\n",
       "      <td>-0.334262</td>\n",
       "    </tr>\n",
       "    <tr>\n",
       "      <th>4</th>\n",
       "      <td>-1.217846</td>\n",
       "      <td>0.554865</td>\n",
       "      <td>-1.175834</td>\n",
       "      <td>0.615795</td>\n",
       "      <td>0.867362</td>\n",
       "      <td>-1.149602</td>\n",
       "      <td>-0.569162</td>\n",
       "      <td>-0.426576</td>\n",
       "      <td>-0.599015</td>\n",
       "      <td>0.159765</td>\n",
       "      <td>0.160242</td>\n",
       "      <td>-0.287490</td>\n",
       "      <td>0.790596</td>\n",
       "      <td>0.727602</td>\n",
       "      <td>-0.334262</td>\n",
       "    </tr>\n",
       "  </tbody>\n",
       "</table>\n",
       "</div>"
      ],
      "text/plain": [
       "       Levy  Prod. year  Category  Leather interior  Fuel type  Engine volume  \\\n",
       "0  1.282596   -0.166025 -0.817229          0.615795  -0.793472       1.346803   \n",
       "1  0.282944    0.014198 -0.817229         -1.623918   0.867362       0.779438   \n",
       "2  0.000000   -0.886914 -1.175834         -1.623918   0.867362      -1.149602   \n",
       "3 -0.126363    0.014198 -0.817229          0.615795  -0.793472       0.212073   \n",
       "4 -1.217846    0.554865 -1.175834          0.615795   0.867362      -1.149602   \n",
       "\n",
       "    Mileage  Cylinders  Gear box type  Drive wheels     Doors     Wheel  \\\n",
       "0  0.525957   1.163112      -0.599015     -1.599316  0.160242 -0.287490   \n",
       "1  0.595723   1.163112       1.633895     -1.599316  0.160242 -0.287490   \n",
       "2  0.688821  -0.426576       2.750351      0.159765  0.160242  3.478382   \n",
       "3  0.327668  -0.426576      -0.599015     -1.599316  0.160242 -0.287490   \n",
       "4 -0.569162  -0.426576      -0.599015      0.159765  0.160242 -0.287490   \n",
       "\n",
       "      Color   Airbags  Turbo engine  \n",
       "0  0.790596 -0.717521     -0.334262  \n",
       "1 -1.259927  1.553387     -0.334262  \n",
       "2 -1.259927  0.314710     -0.334262  \n",
       "3  1.163418 -1.543306     -0.334262  \n",
       "4  0.790596  0.727602     -0.334262  "
      ]
     },
     "execution_count": 133,
     "metadata": {},
     "output_type": "execute_result"
    }
   ],
   "source": [
    "full_data_copy_sc.head()"
   ]
  },
  {
   "cell_type": "code",
   "execution_count": 134,
   "metadata": {
    "execution": {
     "iopub.execute_input": "2021-07-21T15:18:26.442770Z",
     "iopub.status.busy": "2021-07-21T15:18:26.442412Z",
     "iopub.status.idle": "2021-07-21T15:18:26.446690Z",
     "shell.execute_reply": "2021-07-21T15:18:26.445576Z",
     "shell.execute_reply.started": "2021-07-21T15:18:26.442745Z"
    },
    "id": "8Wp56Eqvsgt5"
   },
   "outputs": [],
   "source": [
    "train = full_data_copy_sc.iloc[:19237]\n",
    "test = full_data_copy_sc.iloc[19237:]"
   ]
  },
  {
   "cell_type": "code",
   "execution_count": 135,
   "metadata": {
    "execution": {
     "iopub.execute_input": "2021-07-21T15:18:26.448557Z",
     "iopub.status.busy": "2021-07-21T15:18:26.448161Z",
     "iopub.status.idle": "2021-07-21T15:18:26.459107Z",
     "shell.execute_reply": "2021-07-21T15:18:26.458420Z",
     "shell.execute_reply.started": "2021-07-21T15:18:26.448518Z"
    },
    "id": "qsGqfdBJ6BWY"
   },
   "outputs": [],
   "source": [
    "# display(train.tail())\n",
    "# display(train_data.tail())\n",
    "\n",
    "# display(test.head())\n",
    "# display(test_data.head())\n",
    "\n",
    "# print(test.shape)\n",
    "# print(test_data.shape)"
   ]
  },
  {
   "cell_type": "code",
   "execution_count": 136,
   "metadata": {
    "execution": {
     "iopub.execute_input": "2021-07-21T15:18:26.460794Z",
     "iopub.status.busy": "2021-07-21T15:18:26.460297Z",
     "iopub.status.idle": "2021-07-21T15:18:26.469270Z",
     "shell.execute_reply": "2021-07-21T15:18:26.468443Z",
     "shell.execute_reply.started": "2021-07-21T15:18:26.460755Z"
    },
    "id": "89dc7l8s6BYy"
   },
   "outputs": [],
   "source": [
    "from sklearn.model_selection import train_test_split\n",
    "from sklearn.decomposition import PCA\n",
    "\n",
    "from sklearn.tree import DecisionTreeRegressor\n",
    "from sklearn.neighbors import KNeighborsRegressor\n",
    "\n",
    "from sklearn.ensemble import RandomForestRegressor\n",
    "\n",
    "from sklearn.ensemble import BaggingRegressor\n",
    "from sklearn.ensemble import AdaBoostRegressor\n",
    "from sklearn.ensemble import GradientBoostingRegressor\n",
    "\n",
    "from xgboost import XGBRegressor\n",
    "from sklearn.metrics import explained_variance_score\n",
    "\n",
    "from lightgbm import LGBMRegressor\n",
    "from catboost import CatBoostRegressor\n",
    "\n",
    "from sklearn.metrics import mean_squared_log_error\n",
    "from sklearn.metrics import mean_absolute_error\n",
    "from sklearn.metrics import mean_squared_error\n",
    "from sklearn.metrics import r2_score\n",
    "\n",
    "from sklearn.linear_model import Ridge,Lasso\n",
    "\n",
    "import statsmodels\n",
    "import statsmodels.api"
   ]
  },
  {
   "cell_type": "code",
   "execution_count": 137,
   "metadata": {
    "execution": {
     "iopub.execute_input": "2021-07-21T15:18:26.470529Z",
     "iopub.status.busy": "2021-07-21T15:18:26.470235Z",
     "iopub.status.idle": "2021-07-21T15:18:26.484121Z",
     "shell.execute_reply": "2021-07-21T15:18:26.483340Z",
     "shell.execute_reply.started": "2021-07-21T15:18:26.470493Z"
    },
    "id": "SLVQ4Z0x6BbF"
   },
   "outputs": [],
   "source": [
    "X = train\n",
    "y = train_price\n",
    "# X_train, X_test, y_train, y_test = train_test_split(X, y, test_size = 0.2, random_state = 2)\n",
    "x_train,x_test,y_train,y_test=train_test_split(X,y,test_size=0.2,random_state=42)"
   ]
  },
  {
   "cell_type": "code",
   "execution_count": 138,
   "metadata": {
    "execution": {
     "iopub.execute_input": "2021-07-21T15:18:26.485407Z",
     "iopub.status.busy": "2021-07-21T15:18:26.485145Z",
     "iopub.status.idle": "2021-07-21T15:18:26.490121Z",
     "shell.execute_reply": "2021-07-21T15:18:26.489502Z",
     "shell.execute_reply.started": "2021-07-21T15:18:26.485381Z"
    },
    "id": "6EkkHuNX6Bde"
   },
   "outputs": [],
   "source": [
    "# xgb = XGBRegressor()\n",
    "# xgb.fit(X_train,y_train)\n",
    "# y_pred = xgb.predict(X_test)\n",
    "# print(\"Mean Absolute Error is\",mean_absolute_error(y_test,y_pred))\n",
    "# print(\"Mean Squared Error is\",mean_squared_error(y_test,y_pred))\n",
    "# print(\"R squared Score is\",r2_score(y_test,y_pred))\n",
    "# print(\"Mean Absolute Logarithmic Error is\",np.sqrt(mean_squared_log_error(y_test,y_pred)))"
   ]
  },
  {
   "cell_type": "code",
   "execution_count": 139,
   "metadata": {
    "execution": {
     "iopub.execute_input": "2021-07-21T15:18:26.491568Z",
     "iopub.status.busy": "2021-07-21T15:18:26.491229Z",
     "iopub.status.idle": "2021-07-21T15:18:26.500038Z",
     "shell.execute_reply": "2021-07-21T15:18:26.499054Z",
     "shell.execute_reply.started": "2021-07-21T15:18:26.491543Z"
    },
    "id": "Kn9HZKJC6Bff"
   },
   "outputs": [],
   "source": [
    "# xgb.fit(X,y)\n",
    "# y_pred_test = xgb.predict(test)\n",
    "# price_sub = pd.DataFrame({\"Price\":np.abs(y_pred_test)})\n",
    "# price_sub.to_csv(\"submission_1_xbg_carprice.csv\",index = False)\n",
    "# price_sub.head()"
   ]
  },
  {
   "cell_type": "code",
   "execution_count": 140,
   "metadata": {
    "execution": {
     "iopub.execute_input": "2021-07-21T15:18:26.501617Z",
     "iopub.status.busy": "2021-07-21T15:18:26.501363Z",
     "iopub.status.idle": "2021-07-21T15:18:26.507663Z",
     "shell.execute_reply": "2021-07-21T15:18:26.506908Z",
     "shell.execute_reply.started": "2021-07-21T15:18:26.501592Z"
    },
    "id": "4jpbuCJN6Bhm"
   },
   "outputs": [],
   "source": [
    "# x_train.insert(loc=0,column='intercept',value=np.ones(x_train.shape[0]))"
   ]
  },
  {
   "cell_type": "code",
   "execution_count": 141,
   "metadata": {
    "execution": {
     "iopub.execute_input": "2021-07-21T15:18:26.509040Z",
     "iopub.status.busy": "2021-07-21T15:18:26.508791Z",
     "iopub.status.idle": "2021-07-21T15:18:26.533504Z",
     "shell.execute_reply": "2021-07-21T15:18:26.532617Z",
     "shell.execute_reply.started": "2021-07-21T15:18:26.509016Z"
    },
    "id": "b1pqZQ2S6BkL",
    "outputId": "40a72c4e-86bc-4562-c170-7a6bd300afe4"
   },
   "outputs": [
    {
     "data": {
      "text/html": [
       "<div>\n",
       "<style scoped>\n",
       "    .dataframe tbody tr th:only-of-type {\n",
       "        vertical-align: middle;\n",
       "    }\n",
       "\n",
       "    .dataframe tbody tr th {\n",
       "        vertical-align: top;\n",
       "    }\n",
       "\n",
       "    .dataframe thead th {\n",
       "        text-align: right;\n",
       "    }\n",
       "</style>\n",
       "<table border=\"1\" class=\"dataframe\">\n",
       "  <thead>\n",
       "    <tr style=\"text-align: right;\">\n",
       "      <th></th>\n",
       "      <th>Levy</th>\n",
       "      <th>Prod. year</th>\n",
       "      <th>Category</th>\n",
       "      <th>Leather interior</th>\n",
       "      <th>Fuel type</th>\n",
       "      <th>Engine volume</th>\n",
       "      <th>Mileage</th>\n",
       "      <th>Cylinders</th>\n",
       "      <th>Gear box type</th>\n",
       "      <th>Drive wheels</th>\n",
       "      <th>Doors</th>\n",
       "      <th>Wheel</th>\n",
       "      <th>Color</th>\n",
       "      <th>Airbags</th>\n",
       "      <th>Turbo engine</th>\n",
       "    </tr>\n",
       "  </thead>\n",
       "  <tbody>\n",
       "    <tr>\n",
       "      <th>7808</th>\n",
       "      <td>-0.344135</td>\n",
       "      <td>0.374642</td>\n",
       "      <td>0.975797</td>\n",
       "      <td>0.615795</td>\n",
       "      <td>-0.793472</td>\n",
       "      <td>0.212073</td>\n",
       "      <td>0.985689</td>\n",
       "      <td>-0.426576</td>\n",
       "      <td>-0.599015</td>\n",
       "      <td>0.159765</td>\n",
       "      <td>0.160242</td>\n",
       "      <td>-0.28749</td>\n",
       "      <td>1.163418</td>\n",
       "      <td>-0.717521</td>\n",
       "      <td>-0.334262</td>\n",
       "    </tr>\n",
       "    <tr>\n",
       "      <th>16766</th>\n",
       "      <td>0.975616</td>\n",
       "      <td>-0.706692</td>\n",
       "      <td>-0.817229</td>\n",
       "      <td>0.615795</td>\n",
       "      <td>-1.347084</td>\n",
       "      <td>-0.355292</td>\n",
       "      <td>-0.751903</td>\n",
       "      <td>-0.426576</td>\n",
       "      <td>-0.599015</td>\n",
       "      <td>0.159765</td>\n",
       "      <td>0.160242</td>\n",
       "      <td>-0.28749</td>\n",
       "      <td>0.790596</td>\n",
       "      <td>0.727602</td>\n",
       "      <td>-0.334262</td>\n",
       "    </tr>\n",
       "    <tr>\n",
       "      <th>7285</th>\n",
       "      <td>1.282596</td>\n",
       "      <td>-0.166025</td>\n",
       "      <td>0.975797</td>\n",
       "      <td>0.615795</td>\n",
       "      <td>-1.347084</td>\n",
       "      <td>1.346803</td>\n",
       "      <td>0.566978</td>\n",
       "      <td>1.163112</td>\n",
       "      <td>-0.599015</td>\n",
       "      <td>-1.599316</td>\n",
       "      <td>0.160242</td>\n",
       "      <td>-0.28749</td>\n",
       "      <td>-1.259927</td>\n",
       "      <td>-0.717521</td>\n",
       "      <td>-0.334262</td>\n",
       "    </tr>\n",
       "    <tr>\n",
       "      <th>15712</th>\n",
       "      <td>-0.703590</td>\n",
       "      <td>0.194420</td>\n",
       "      <td>-0.817229</td>\n",
       "      <td>0.615795</td>\n",
       "      <td>-1.347084</td>\n",
       "      <td>-0.355292</td>\n",
       "      <td>0.904403</td>\n",
       "      <td>-0.426576</td>\n",
       "      <td>-0.599015</td>\n",
       "      <td>0.159765</td>\n",
       "      <td>0.160242</td>\n",
       "      <td>-0.28749</td>\n",
       "      <td>-0.141460</td>\n",
       "      <td>0.727602</td>\n",
       "      <td>-0.334262</td>\n",
       "    </tr>\n",
       "    <tr>\n",
       "      <th>16562</th>\n",
       "      <td>0.000000</td>\n",
       "      <td>-1.968248</td>\n",
       "      <td>-0.817229</td>\n",
       "      <td>0.615795</td>\n",
       "      <td>0.313751</td>\n",
       "      <td>0.779438</td>\n",
       "      <td>-1.347710</td>\n",
       "      <td>1.163112</td>\n",
       "      <td>1.633895</td>\n",
       "      <td>-1.599316</td>\n",
       "      <td>0.160242</td>\n",
       "      <td>-0.28749</td>\n",
       "      <td>0.790596</td>\n",
       "      <td>1.140495</td>\n",
       "      <td>-0.334262</td>\n",
       "    </tr>\n",
       "  </tbody>\n",
       "</table>\n",
       "</div>"
      ],
      "text/plain": [
       "           Levy  Prod. year  Category  Leather interior  Fuel type  \\\n",
       "7808  -0.344135    0.374642  0.975797          0.615795  -0.793472   \n",
       "16766  0.975616   -0.706692 -0.817229          0.615795  -1.347084   \n",
       "7285   1.282596   -0.166025  0.975797          0.615795  -1.347084   \n",
       "15712 -0.703590    0.194420 -0.817229          0.615795  -1.347084   \n",
       "16562  0.000000   -1.968248 -0.817229          0.615795   0.313751   \n",
       "\n",
       "       Engine volume   Mileage  Cylinders  Gear box type  Drive wheels  \\\n",
       "7808        0.212073  0.985689  -0.426576      -0.599015      0.159765   \n",
       "16766      -0.355292 -0.751903  -0.426576      -0.599015      0.159765   \n",
       "7285        1.346803  0.566978   1.163112      -0.599015     -1.599316   \n",
       "15712      -0.355292  0.904403  -0.426576      -0.599015      0.159765   \n",
       "16562       0.779438 -1.347710   1.163112       1.633895     -1.599316   \n",
       "\n",
       "          Doors    Wheel     Color   Airbags  Turbo engine  \n",
       "7808   0.160242 -0.28749  1.163418 -0.717521     -0.334262  \n",
       "16766  0.160242 -0.28749  0.790596  0.727602     -0.334262  \n",
       "7285   0.160242 -0.28749 -1.259927 -0.717521     -0.334262  \n",
       "15712  0.160242 -0.28749 -0.141460  0.727602     -0.334262  \n",
       "16562  0.160242 -0.28749  0.790596  1.140495     -0.334262  "
      ]
     },
     "execution_count": 141,
     "metadata": {},
     "output_type": "execute_result"
    }
   ],
   "source": [
    "x_train.head()"
   ]
  },
  {
   "cell_type": "code",
   "execution_count": 142,
   "metadata": {
    "execution": {
     "iopub.execute_input": "2021-07-21T15:18:26.534899Z",
     "iopub.status.busy": "2021-07-21T15:18:26.534627Z",
     "iopub.status.idle": "2021-07-21T15:18:26.562198Z",
     "shell.execute_reply": "2021-07-21T15:18:26.561149Z",
     "shell.execute_reply.started": "2021-07-21T15:18:26.534858Z"
    },
    "id": "xifAWGu16BmP"
   },
   "outputs": [],
   "source": [
    "mlr_model=statsmodels.api.OLS(np.log(y_train),x_train).fit()"
   ]
  },
  {
   "cell_type": "code",
   "execution_count": 143,
   "metadata": {
    "execution": {
     "iopub.execute_input": "2021-07-21T15:18:26.564689Z",
     "iopub.status.busy": "2021-07-21T15:18:26.563972Z",
     "iopub.status.idle": "2021-07-21T15:18:26.606231Z",
     "shell.execute_reply": "2021-07-21T15:18:26.605346Z",
     "shell.execute_reply.started": "2021-07-21T15:18:26.564643Z"
    },
    "id": "7IJs2X2I6BoW",
    "outputId": "9d33bc7a-083e-48d3-c4ac-2412c5e3f6be"
   },
   "outputs": [
    {
     "data": {
      "text/html": [
       "<table class=\"simpletable\">\n",
       "<caption>OLS Regression Results</caption>\n",
       "<tr>\n",
       "  <th>Dep. Variable:</th>          <td>Price</td>      <th>  R-squared (uncentered):</th>      <td>   0.008</td> \n",
       "</tr>\n",
       "<tr>\n",
       "  <th>Model:</th>                   <td>OLS</td>       <th>  Adj. R-squared (uncentered):</th> <td>   0.007</td> \n",
       "</tr>\n",
       "<tr>\n",
       "  <th>Method:</th>             <td>Least Squares</td>  <th>  F-statistic:       </th>          <td>   8.197</td> \n",
       "</tr>\n",
       "<tr>\n",
       "  <th>Date:</th>             <td>Wed, 21 Jul 2021</td> <th>  Prob (F-statistic):</th>          <td>6.13e-19</td> \n",
       "</tr>\n",
       "<tr>\n",
       "  <th>Time:</th>                 <td>15:18:26</td>     <th>  Log-Likelihood:    </th>          <td> -55863.</td> \n",
       "</tr>\n",
       "<tr>\n",
       "  <th>No. Observations:</th>      <td> 15389</td>      <th>  AIC:               </th>          <td>1.118e+05</td>\n",
       "</tr>\n",
       "<tr>\n",
       "  <th>Df Residuals:</th>          <td> 15374</td>      <th>  BIC:               </th>          <td>1.119e+05</td>\n",
       "</tr>\n",
       "<tr>\n",
       "  <th>Df Model:</th>              <td>    15</td>      <th>                     </th>              <td> </td>    \n",
       "</tr>\n",
       "<tr>\n",
       "  <th>Covariance Type:</th>      <td>nonrobust</td>    <th>                     </th>              <td> </td>    \n",
       "</tr>\n",
       "</table>\n",
       "<table class=\"simpletable\">\n",
       "<tr>\n",
       "          <td></td>            <th>coef</th>     <th>std err</th>      <th>t</th>      <th>P>|t|</th>  <th>[0.025</th>    <th>0.975]</th>  \n",
       "</tr>\n",
       "<tr>\n",
       "  <th>Levy</th>             <td>   -0.1261</td> <td>    0.096</td> <td>   -1.315</td> <td> 0.189</td> <td>   -0.314</td> <td>    0.062</td>\n",
       "</tr>\n",
       "<tr>\n",
       "  <th>Prod. year</th>       <td>    0.2765</td> <td>    0.089</td> <td>    3.122</td> <td> 0.002</td> <td>    0.103</td> <td>    0.450</td>\n",
       "</tr>\n",
       "<tr>\n",
       "  <th>Category</th>         <td>   -0.1315</td> <td>    0.080</td> <td>   -1.641</td> <td> 0.101</td> <td>   -0.289</td> <td>    0.026</td>\n",
       "</tr>\n",
       "<tr>\n",
       "  <th>Leather interior</th> <td>   -0.0006</td> <td>    0.090</td> <td>   -0.007</td> <td> 0.994</td> <td>   -0.178</td> <td>    0.176</td>\n",
       "</tr>\n",
       "<tr>\n",
       "  <th>Fuel type</th>        <td>   -0.1299</td> <td>    0.077</td> <td>   -1.681</td> <td> 0.093</td> <td>   -0.281</td> <td>    0.022</td>\n",
       "</tr>\n",
       "<tr>\n",
       "  <th>Engine volume</th>    <td>    0.2537</td> <td>    0.123</td> <td>    2.055</td> <td> 0.040</td> <td>    0.012</td> <td>    0.496</td>\n",
       "</tr>\n",
       "<tr>\n",
       "  <th>Mileage</th>          <td>   -0.3202</td> <td>    0.080</td> <td>   -4.025</td> <td> 0.000</td> <td>   -0.476</td> <td>   -0.164</td>\n",
       "</tr>\n",
       "<tr>\n",
       "  <th>Cylinders</th>        <td>   -0.1055</td> <td>    0.106</td> <td>   -0.993</td> <td> 0.321</td> <td>   -0.314</td> <td>    0.103</td>\n",
       "</tr>\n",
       "<tr>\n",
       "  <th>Gear box type</th>    <td>    0.3040</td> <td>    0.081</td> <td>    3.745</td> <td> 0.000</td> <td>    0.145</td> <td>    0.463</td>\n",
       "</tr>\n",
       "<tr>\n",
       "  <th>Drive wheels</th>     <td>    0.1240</td> <td>    0.081</td> <td>    1.525</td> <td> 0.127</td> <td>   -0.035</td> <td>    0.283</td>\n",
       "</tr>\n",
       "<tr>\n",
       "  <th>Doors</th>            <td>    0.1069</td> <td>    0.079</td> <td>    1.362</td> <td> 0.173</td> <td>   -0.047</td> <td>    0.261</td>\n",
       "</tr>\n",
       "<tr>\n",
       "  <th>Wheel</th>            <td>   -0.1376</td> <td>    0.083</td> <td>   -1.655</td> <td> 0.098</td> <td>   -0.301</td> <td>    0.025</td>\n",
       "</tr>\n",
       "<tr>\n",
       "  <th>Color</th>            <td>    0.0475</td> <td>    0.075</td> <td>    0.635</td> <td> 0.526</td> <td>   -0.099</td> <td>    0.194</td>\n",
       "</tr>\n",
       "<tr>\n",
       "  <th>Airbags</th>          <td>    0.4773</td> <td>    0.078</td> <td>    6.119</td> <td> 0.000</td> <td>    0.324</td> <td>    0.630</td>\n",
       "</tr>\n",
       "<tr>\n",
       "  <th>Turbo engine</th>     <td>    0.1891</td> <td>    0.077</td> <td>    2.449</td> <td> 0.014</td> <td>    0.038</td> <td>    0.340</td>\n",
       "</tr>\n",
       "</table>\n",
       "<table class=\"simpletable\">\n",
       "<tr>\n",
       "  <th>Omnibus:</th>       <td>4044.578</td> <th>  Durbin-Watson:     </th> <td>   0.049</td> \n",
       "</tr>\n",
       "<tr>\n",
       "  <th>Prob(Omnibus):</th>  <td> 0.000</td>  <th>  Jarque-Bera (JB):  </th> <td>11999.480</td>\n",
       "</tr>\n",
       "<tr>\n",
       "  <th>Skew:</th>           <td>-1.366</td>  <th>  Prob(JB):          </th> <td>    0.00</td> \n",
       "</tr>\n",
       "<tr>\n",
       "  <th>Kurtosis:</th>       <td> 6.354</td>  <th>  Cond. No.          </th> <td>    3.26</td> \n",
       "</tr>\n",
       "</table><br/><br/>Notes:<br/>[1] R² is computed without centering (uncentered) since the model does not contain a constant.<br/>[2] Standard Errors assume that the covariance matrix of the errors is correctly specified."
      ],
      "text/plain": [
       "<class 'statsmodels.iolib.summary.Summary'>\n",
       "\"\"\"\n",
       "                                 OLS Regression Results                                \n",
       "=======================================================================================\n",
       "Dep. Variable:                  Price   R-squared (uncentered):                   0.008\n",
       "Model:                            OLS   Adj. R-squared (uncentered):              0.007\n",
       "Method:                 Least Squares   F-statistic:                              8.197\n",
       "Date:                Wed, 21 Jul 2021   Prob (F-statistic):                    6.13e-19\n",
       "Time:                        15:18:26   Log-Likelihood:                         -55863.\n",
       "No. Observations:               15389   AIC:                                  1.118e+05\n",
       "Df Residuals:                   15374   BIC:                                  1.119e+05\n",
       "Df Model:                          15                                                  \n",
       "Covariance Type:            nonrobust                                                  \n",
       "====================================================================================\n",
       "                       coef    std err          t      P>|t|      [0.025      0.975]\n",
       "------------------------------------------------------------------------------------\n",
       "Levy                -0.1261      0.096     -1.315      0.189      -0.314       0.062\n",
       "Prod. year           0.2765      0.089      3.122      0.002       0.103       0.450\n",
       "Category            -0.1315      0.080     -1.641      0.101      -0.289       0.026\n",
       "Leather interior    -0.0006      0.090     -0.007      0.994      -0.178       0.176\n",
       "Fuel type           -0.1299      0.077     -1.681      0.093      -0.281       0.022\n",
       "Engine volume        0.2537      0.123      2.055      0.040       0.012       0.496\n",
       "Mileage             -0.3202      0.080     -4.025      0.000      -0.476      -0.164\n",
       "Cylinders           -0.1055      0.106     -0.993      0.321      -0.314       0.103\n",
       "Gear box type        0.3040      0.081      3.745      0.000       0.145       0.463\n",
       "Drive wheels         0.1240      0.081      1.525      0.127      -0.035       0.283\n",
       "Doors                0.1069      0.079      1.362      0.173      -0.047       0.261\n",
       "Wheel               -0.1376      0.083     -1.655      0.098      -0.301       0.025\n",
       "Color                0.0475      0.075      0.635      0.526      -0.099       0.194\n",
       "Airbags              0.4773      0.078      6.119      0.000       0.324       0.630\n",
       "Turbo engine         0.1891      0.077      2.449      0.014       0.038       0.340\n",
       "==============================================================================\n",
       "Omnibus:                     4044.578   Durbin-Watson:                   0.049\n",
       "Prob(Omnibus):                  0.000   Jarque-Bera (JB):            11999.480\n",
       "Skew:                          -1.366   Prob(JB):                         0.00\n",
       "Kurtosis:                       6.354   Cond. No.                         3.26\n",
       "==============================================================================\n",
       "\n",
       "Notes:\n",
       "[1] R² is computed without centering (uncentered) since the model does not contain a constant.\n",
       "[2] Standard Errors assume that the covariance matrix of the errors is correctly specified.\n",
       "\"\"\""
      ]
     },
     "execution_count": 143,
     "metadata": {},
     "output_type": "execute_result"
    }
   ],
   "source": [
    "mlr_model.summary()"
   ]
  },
  {
   "cell_type": "code",
   "execution_count": 144,
   "metadata": {
    "execution": {
     "iopub.execute_input": "2021-07-21T15:18:26.608359Z",
     "iopub.status.busy": "2021-07-21T15:18:26.607749Z",
     "iopub.status.idle": "2021-07-21T15:18:26.613913Z",
     "shell.execute_reply": "2021-07-21T15:18:26.612976Z",
     "shell.execute_reply.started": "2021-07-21T15:18:26.608316Z"
    },
    "id": "mrNf9wrp6Bqk"
   },
   "outputs": [],
   "source": [
    "t_intercept=mlr_model.params[0]/mlr_model.bse[0]"
   ]
  },
  {
   "cell_type": "code",
   "execution_count": 145,
   "metadata": {
    "execution": {
     "iopub.execute_input": "2021-07-21T15:18:26.615944Z",
     "iopub.status.busy": "2021-07-21T15:18:26.615374Z",
     "iopub.status.idle": "2021-07-21T15:18:26.623888Z",
     "shell.execute_reply": "2021-07-21T15:18:26.622964Z",
     "shell.execute_reply.started": "2021-07-21T15:18:26.615903Z"
    },
    "id": "kqIFsfP06BsU"
   },
   "outputs": [],
   "source": [
    "t_slope=mlr_model.params[1]/mlr_model.bse[1]"
   ]
  },
  {
   "cell_type": "code",
   "execution_count": 146,
   "metadata": {
    "execution": {
     "iopub.execute_input": "2021-07-21T15:18:26.625889Z",
     "iopub.status.busy": "2021-07-21T15:18:26.625321Z",
     "iopub.status.idle": "2021-07-21T15:18:26.635567Z",
     "shell.execute_reply": "2021-07-21T15:18:26.634440Z",
     "shell.execute_reply.started": "2021-07-21T15:18:26.625847Z"
    },
    "id": "Wt82C0zn6BvE",
    "outputId": "1e746ff2-6206-4812-e187-ab98ee9a467f"
   },
   "outputs": [
    {
     "data": {
      "text/plain": [
       "(-1.314901146865638, 3.1222270858900134)"
      ]
     },
     "execution_count": 146,
     "metadata": {},
     "output_type": "execute_result"
    }
   ],
   "source": [
    "t_intercept,t_slope"
   ]
  },
  {
   "cell_type": "code",
   "execution_count": 147,
   "metadata": {
    "execution": {
     "iopub.execute_input": "2021-07-21T15:18:26.637463Z",
     "iopub.status.busy": "2021-07-21T15:18:26.637084Z",
     "iopub.status.idle": "2021-07-21T15:18:26.643739Z",
     "shell.execute_reply": "2021-07-21T15:18:26.642609Z",
     "shell.execute_reply.started": "2021-07-21T15:18:26.637426Z"
    },
    "id": "Xujz7gJf6BxY"
   },
   "outputs": [],
   "source": [
    "# full_data_engine_volume = pd.DataFrame(full_data[\"Engine volume\"].str.split(' ').to_list(),columns=[\"Engine volume\",\"Turbo\"])\n",
    "# full_data_engine_volume[\"Turbo\"] = full_data_engine_volume[\"Turbo\"].fillna(\"No\")\n",
    "# full_data_engine_volume[\"Turbo\"] = full_data_engine_volume[\"Turbo\"].replace({\"Turbo\":\"Yes\"}).astype(str)"
   ]
  },
  {
   "cell_type": "code",
   "execution_count": 148,
   "metadata": {
    "execution": {
     "iopub.execute_input": "2021-07-21T15:18:26.645750Z",
     "iopub.status.busy": "2021-07-21T15:18:26.645379Z",
     "iopub.status.idle": "2021-07-21T15:18:26.652454Z",
     "shell.execute_reply": "2021-07-21T15:18:26.651533Z",
     "shell.execute_reply.started": "2021-07-21T15:18:26.645713Z"
    },
    "id": "wRuEWDGmAhMs"
   },
   "outputs": [],
   "source": [
    "n=len(train_data)"
   ]
  },
  {
   "cell_type": "code",
   "execution_count": 149,
   "metadata": {
    "execution": {
     "iopub.execute_input": "2021-07-21T15:18:26.654423Z",
     "iopub.status.busy": "2021-07-21T15:18:26.654030Z",
     "iopub.status.idle": "2021-07-21T15:18:26.661397Z",
     "shell.execute_reply": "2021-07-21T15:18:26.660334Z",
     "shell.execute_reply.started": "2021-07-21T15:18:26.654387Z"
    },
    "id": "_mdajMQFAhOf"
   },
   "outputs": [],
   "source": [
    "from scipy import stats"
   ]
  },
  {
   "cell_type": "code",
   "execution_count": 150,
   "metadata": {
    "execution": {
     "iopub.execute_input": "2021-07-21T15:18:26.663320Z",
     "iopub.status.busy": "2021-07-21T15:18:26.662899Z",
     "iopub.status.idle": "2021-07-21T15:18:26.671099Z",
     "shell.execute_reply": "2021-07-21T15:18:26.670118Z",
     "shell.execute_reply.started": "2021-07-21T15:18:26.663281Z"
    },
    "id": "LzEhllC5AhQ8"
   },
   "outputs": [],
   "source": [
    "pval_intercept=stats.t.sf(t_intercept,df=n-1)"
   ]
  },
  {
   "cell_type": "code",
   "execution_count": 151,
   "metadata": {
    "execution": {
     "iopub.execute_input": "2021-07-21T15:18:26.673093Z",
     "iopub.status.busy": "2021-07-21T15:18:26.672716Z",
     "iopub.status.idle": "2021-07-21T15:18:26.680475Z",
     "shell.execute_reply": "2021-07-21T15:18:26.679464Z",
     "shell.execute_reply.started": "2021-07-21T15:18:26.673056Z"
    },
    "id": "KS0teYooAhSr"
   },
   "outputs": [],
   "source": [
    "pval_slope=stats.t.sf(t_slope,df=n-1)"
   ]
  },
  {
   "cell_type": "code",
   "execution_count": 152,
   "metadata": {
    "execution": {
     "iopub.execute_input": "2021-07-21T15:18:26.682386Z",
     "iopub.status.busy": "2021-07-21T15:18:26.681989Z",
     "iopub.status.idle": "2021-07-21T15:18:26.691756Z",
     "shell.execute_reply": "2021-07-21T15:18:26.690666Z",
     "shell.execute_reply.started": "2021-07-21T15:18:26.682347Z"
    },
    "id": "xIm1ST7AAhVf",
    "outputId": "0776bc45-efc7-4930-c4fd-c87183055565"
   },
   "outputs": [
    {
     "data": {
      "text/plain": [
       "(0.9057205988115925, 0.0008987723231865896)"
      ]
     },
     "execution_count": 152,
     "metadata": {},
     "output_type": "execute_result"
    }
   ],
   "source": [
    "pval_intercept,pval_slope"
   ]
  },
  {
   "cell_type": "code",
   "execution_count": 153,
   "metadata": {
    "execution": {
     "iopub.execute_input": "2021-07-21T15:18:26.693706Z",
     "iopub.status.busy": "2021-07-21T15:18:26.693238Z",
     "iopub.status.idle": "2021-07-21T15:18:26.702653Z",
     "shell.execute_reply": "2021-07-21T15:18:26.702069Z",
     "shell.execute_reply.started": "2021-07-21T15:18:26.693665Z"
    },
    "id": "qJSt4r8LDa_F",
    "outputId": "f00b72fe-3016-47f1-a1e2-bafb21a0e9c0"
   },
   "outputs": [
    {
     "data": {
      "text/plain": [
       "Levy               -0.126061\n",
       "Prod. year          0.276483\n",
       "Category           -0.131546\n",
       "Leather interior   -0.000645\n",
       "Fuel type          -0.129882\n",
       "Engine volume       0.253679\n",
       "Mileage            -0.320239\n",
       "Cylinders          -0.105450\n",
       "Gear box type       0.304012\n",
       "Drive wheels        0.123954\n",
       "Doors               0.106946\n",
       "Wheel              -0.137587\n",
       "Color               0.047526\n",
       "Airbags             0.477326\n",
       "Turbo engine        0.189110\n",
       "dtype: float64"
      ]
     },
     "execution_count": 153,
     "metadata": {},
     "output_type": "execute_result"
    }
   ],
   "source": [
    "mlr_model.params"
   ]
  },
  {
   "cell_type": "code",
   "execution_count": 154,
   "metadata": {
    "execution": {
     "iopub.execute_input": "2021-07-21T15:18:26.704037Z",
     "iopub.status.busy": "2021-07-21T15:18:26.703667Z",
     "iopub.status.idle": "2021-07-21T15:18:26.710460Z",
     "shell.execute_reply": "2021-07-21T15:18:26.709923Z",
     "shell.execute_reply.started": "2021-07-21T15:18:26.704011Z"
    },
    "id": "qi7mrmT2AhXN"
   },
   "outputs": [],
   "source": [
    "# confidence interval for intercept\n",
    "\n",
    "a=train_data.shape[0]\n",
    "loc=mlr_model.params[0]\n",
    "scale=mlr_model.bse[0]\n",
    "interval_for_intercept=stats.t.interval(0.95,a-1,loc,scale)"
   ]
  },
  {
   "cell_type": "code",
   "execution_count": 155,
   "metadata": {
    "execution": {
     "iopub.execute_input": "2021-07-21T15:18:26.711750Z",
     "iopub.status.busy": "2021-07-21T15:18:26.711381Z",
     "iopub.status.idle": "2021-07-21T15:18:26.719712Z",
     "shell.execute_reply": "2021-07-21T15:18:26.719031Z",
     "shell.execute_reply.started": "2021-07-21T15:18:26.711725Z"
    },
    "id": "9IXxkgHrAhaP"
   },
   "outputs": [],
   "source": [
    "# confidence interval for slope\n",
    "\n",
    "b=train_data.shape[1]\n",
    "loc=mlr_model.params[1]\n",
    "scale=mlr_model.bse[1]\n",
    "interval_for_slope=stats.t.interval(0.95,b-1,loc,scale)"
   ]
  },
  {
   "cell_type": "code",
   "execution_count": 156,
   "metadata": {
    "execution": {
     "iopub.execute_input": "2021-07-21T15:18:26.721103Z",
     "iopub.status.busy": "2021-07-21T15:18:26.720723Z",
     "iopub.status.idle": "2021-07-21T15:18:26.729489Z",
     "shell.execute_reply": "2021-07-21T15:18:26.728830Z",
     "shell.execute_reply.started": "2021-07-21T15:18:26.721077Z"
    },
    "id": "nR8iqzSgAhbs",
    "outputId": "a4e38135-3cc4-4f29-e310-ae12ada482e7"
   },
   "outputs": [
    {
     "data": {
      "text/plain": [
       "((0.089652228893629, 0.463313862729238),\n",
       " (-0.31397586000984173, 0.061854533168860915))"
      ]
     },
     "execution_count": 156,
     "metadata": {},
     "output_type": "execute_result"
    }
   ],
   "source": [
    "interval_for_slope,interval_for_intercept"
   ]
  },
  {
   "cell_type": "code",
   "execution_count": 157,
   "metadata": {
    "execution": {
     "iopub.execute_input": "2021-07-21T15:18:26.730947Z",
     "iopub.status.busy": "2021-07-21T15:18:26.730523Z",
     "iopub.status.idle": "2021-07-21T15:18:26.735785Z",
     "shell.execute_reply": "2021-07-21T15:18:26.735066Z",
     "shell.execute_reply.started": "2021-07-21T15:18:26.730910Z"
    },
    "id": "emmjx_fiAhep"
   },
   "outputs": [],
   "source": [
    "from statsmodels.stats.outliers_influence import variance_inflation_factor"
   ]
  },
  {
   "cell_type": "code",
   "execution_count": 158,
   "metadata": {
    "execution": {
     "iopub.execute_input": "2021-07-21T15:18:26.737235Z",
     "iopub.status.busy": "2021-07-21T15:18:26.736781Z",
     "iopub.status.idle": "2021-07-21T15:18:27.042368Z",
     "shell.execute_reply": "2021-07-21T15:18:27.041414Z",
     "shell.execute_reply.started": "2021-07-21T15:18:26.737114Z"
    },
    "id": "9QuXpmZaFLt7"
   },
   "outputs": [],
   "source": [
    "vif=pd.DataFrame()\n",
    "vif['vif_factor']=[variance_inflation_factor(X.values,i) for i in range(X.shape[1])]\n",
    "vif['features']=X.columns"
   ]
  },
  {
   "cell_type": "code",
   "execution_count": 159,
   "metadata": {
    "execution": {
     "iopub.execute_input": "2021-07-21T15:18:27.044696Z",
     "iopub.status.busy": "2021-07-21T15:18:27.044064Z",
     "iopub.status.idle": "2021-07-21T15:18:27.342834Z",
     "shell.execute_reply": "2021-07-21T15:18:27.341905Z",
     "shell.execute_reply.started": "2021-07-21T15:18:27.044649Z"
    },
    "id": "DVLmyjfgFLvZ",
    "outputId": "5b26034f-65cd-4b8d-fecd-cc8a363003ec"
   },
   "outputs": [
    {
     "name": "stdout",
     "output_type": "stream",
     "text": [
      "    vif_factor          features\n",
      "0     1.543397              Levy\n",
      "1     1.445173        Prod. year\n",
      "2     1.183158          Category\n",
      "3     1.494709  Leather interior\n",
      "4     1.102134         Fuel type\n",
      "5     2.848003     Engine volume\n",
      "6     1.163744           Mileage\n",
      "7     2.065243         Cylinders\n",
      "8     1.218614     Gear box type\n",
      "9     1.211917      Drive wheels\n",
      "10    1.137133             Doors\n",
      "11    1.277820             Wheel\n",
      "12    1.032595             Color\n",
      "13    1.124292           Airbags\n",
      "14    1.098445      Turbo engine\n"
     ]
    }
   ],
   "source": [
    "for i in range(len(train.columns)):\n",
    "    vif=pd.DataFrame()\n",
    "    vif['vif_factor']=[variance_inflation_factor(train.values,i) for i in range(train.shape[1])]\n",
    "    vif['features']=train.columns\n",
    "    multi=vif[vif['vif_factor']>10]\n",
    "    \n",
    "    if multi.empty==False:\n",
    "        df_sort=multi.sort_values(by='vif_factor',ascending=False)\n",
    "    else:\n",
    "        print(vif)\n",
    "        break\n",
    "        \n",
    "    if df_sort.empty==False:\n",
    "        train=train.drop(columns=df_sort['features'].iloc[0])\n",
    "    else:\n",
    "        print(vif)"
   ]
  },
  {
   "cell_type": "code",
   "execution_count": 160,
   "metadata": {
    "execution": {
     "iopub.execute_input": "2021-07-21T15:18:27.345035Z",
     "iopub.status.busy": "2021-07-21T15:18:27.344431Z",
     "iopub.status.idle": "2021-07-21T15:18:27.349438Z",
     "shell.execute_reply": "2021-07-21T15:18:27.348586Z",
     "shell.execute_reply.started": "2021-07-21T15:18:27.344991Z"
    },
    "id": "YYVnkhNgFLyW"
   },
   "outputs": [],
   "source": [
    "from statsmodels.graphics.gofplots import qqplot"
   ]
  },
  {
   "cell_type": "code",
   "execution_count": 161,
   "metadata": {
    "execution": {
     "iopub.execute_input": "2021-07-21T15:18:27.351152Z",
     "iopub.status.busy": "2021-07-21T15:18:27.350659Z",
     "iopub.status.idle": "2021-07-21T15:18:27.658266Z",
     "shell.execute_reply": "2021-07-21T15:18:27.657654Z",
     "shell.execute_reply.started": "2021-07-21T15:18:27.351105Z"
    },
    "id": "ualWYA_4FL0D",
    "outputId": "4dc58863-3f44-4d74-8581-c97a5a5f6185"
   },
   "outputs": [
    {
     "name": "stdout",
     "output_type": "stream",
     "text": [
      "Skewness of the residuals:  -1.3660604562919023\n"
     ]
    },
    {
     "data": {
      "image/png": "[encoded data removed]",
      "text/plain": [
       "<Figure size 432x288 with 1 Axes>"
      ]
     },
     "metadata": {
      "needs_background": "light"
     },
     "output_type": "display_data"
    }
   ],
   "source": [
    "sns.distplot(mlr_model.resid,hist=False)\n",
    "\n",
    "plt.title('Distribution of Residuals', fontsize = 15)\n",
    "plt.xlabel('Residuals', fontsize = 15)\n",
    "plt.ylabel('Density', fontsize = 15)\n",
    "\n",
    "print(\"Skewness of the residuals: \", mlr_model.resid.skew())"
   ]
  },
  {
   "cell_type": "code",
   "execution_count": 162,
   "metadata": {
    "execution": {
     "iopub.execute_input": "2021-07-21T15:18:27.659691Z",
     "iopub.status.busy": "2021-07-21T15:18:27.659284Z",
     "iopub.status.idle": "2021-07-21T15:18:27.862185Z",
     "shell.execute_reply": "2021-07-21T15:18:27.861623Z",
     "shell.execute_reply.started": "2021-07-21T15:18:27.659660Z"
    },
    "id": "HSBaZ-1kFL29",
    "outputId": "e893fa86-a8e5-43e4-b096-8ba3854e13a4"
   },
   "outputs": [
    {
     "data": {
      "image/png": "[encoded data removed]",
      "text/plain": [
       "<Figure size 432x288 with 1 Axes>"
      ]
     },
     "metadata": {
      "needs_background": "light"
     },
     "output_type": "display_data"
    }
   ],
   "source": [
    "qqplot(mlr_model.resid,line='r')\n",
    "plt.show()"
   ]
  },
  {
   "cell_type": "code",
   "execution_count": 163,
   "metadata": {
    "execution": {
     "iopub.execute_input": "2021-07-21T15:18:27.863656Z",
     "iopub.status.busy": "2021-07-21T15:18:27.863227Z",
     "iopub.status.idle": "2021-07-21T15:18:27.867673Z",
     "shell.execute_reply": "2021-07-21T15:18:27.867157Z",
     "shell.execute_reply.started": "2021-07-21T15:18:27.863617Z"
    },
    "id": "r_AFbPlFFL53"
   },
   "outputs": [],
   "source": [
    "# x_train.drop(\"intercept\",axis=1,inplace=True)\n",
    "new_train = x_train.copy()\n",
    "new_test = x_test.copy()"
   ]
  },
  {
   "cell_type": "code",
   "execution_count": 164,
   "metadata": {
    "execution": {
     "iopub.execute_input": "2021-07-21T15:18:27.868956Z",
     "iopub.status.busy": "2021-07-21T15:18:27.868569Z",
     "iopub.status.idle": "2021-07-21T15:18:27.889850Z",
     "shell.execute_reply": "2021-07-21T15:18:27.888978Z",
     "shell.execute_reply.started": "2021-07-21T15:18:27.868928Z"
    },
    "id": "NhmHuj4qH66M",
    "outputId": "e5042ee3-9a45-42ca-9024-9c1f4244bd77"
   },
   "outputs": [
    {
     "data": {
      "text/html": [
       "<div>\n",
       "<style scoped>\n",
       "    .dataframe tbody tr th:only-of-type {\n",
       "        vertical-align: middle;\n",
       "    }\n",
       "\n",
       "    .dataframe tbody tr th {\n",
       "        vertical-align: top;\n",
       "    }\n",
       "\n",
       "    .dataframe thead th {\n",
       "        text-align: right;\n",
       "    }\n",
       "</style>\n",
       "<table border=\"1\" class=\"dataframe\">\n",
       "  <thead>\n",
       "    <tr style=\"text-align: right;\">\n",
       "      <th></th>\n",
       "      <th>Levy</th>\n",
       "      <th>Prod. year</th>\n",
       "      <th>Category</th>\n",
       "      <th>Leather interior</th>\n",
       "      <th>Fuel type</th>\n",
       "      <th>Engine volume</th>\n",
       "      <th>Mileage</th>\n",
       "      <th>Cylinders</th>\n",
       "      <th>Gear box type</th>\n",
       "      <th>Drive wheels</th>\n",
       "      <th>Doors</th>\n",
       "      <th>Wheel</th>\n",
       "      <th>Color</th>\n",
       "      <th>Airbags</th>\n",
       "      <th>Turbo engine</th>\n",
       "    </tr>\n",
       "  </thead>\n",
       "  <tbody>\n",
       "    <tr>\n",
       "      <th>7808</th>\n",
       "      <td>-0.344135</td>\n",
       "      <td>0.374642</td>\n",
       "      <td>0.975797</td>\n",
       "      <td>0.615795</td>\n",
       "      <td>-0.793472</td>\n",
       "      <td>0.212073</td>\n",
       "      <td>0.985689</td>\n",
       "      <td>-0.426576</td>\n",
       "      <td>-0.599015</td>\n",
       "      <td>0.159765</td>\n",
       "      <td>0.160242</td>\n",
       "      <td>-0.28749</td>\n",
       "      <td>1.163418</td>\n",
       "      <td>-0.717521</td>\n",
       "      <td>-0.334262</td>\n",
       "    </tr>\n",
       "    <tr>\n",
       "      <th>16766</th>\n",
       "      <td>0.975616</td>\n",
       "      <td>-0.706692</td>\n",
       "      <td>-0.817229</td>\n",
       "      <td>0.615795</td>\n",
       "      <td>-1.347084</td>\n",
       "      <td>-0.355292</td>\n",
       "      <td>-0.751903</td>\n",
       "      <td>-0.426576</td>\n",
       "      <td>-0.599015</td>\n",
       "      <td>0.159765</td>\n",
       "      <td>0.160242</td>\n",
       "      <td>-0.28749</td>\n",
       "      <td>0.790596</td>\n",
       "      <td>0.727602</td>\n",
       "      <td>-0.334262</td>\n",
       "    </tr>\n",
       "    <tr>\n",
       "      <th>7285</th>\n",
       "      <td>1.282596</td>\n",
       "      <td>-0.166025</td>\n",
       "      <td>0.975797</td>\n",
       "      <td>0.615795</td>\n",
       "      <td>-1.347084</td>\n",
       "      <td>1.346803</td>\n",
       "      <td>0.566978</td>\n",
       "      <td>1.163112</td>\n",
       "      <td>-0.599015</td>\n",
       "      <td>-1.599316</td>\n",
       "      <td>0.160242</td>\n",
       "      <td>-0.28749</td>\n",
       "      <td>-1.259927</td>\n",
       "      <td>-0.717521</td>\n",
       "      <td>-0.334262</td>\n",
       "    </tr>\n",
       "    <tr>\n",
       "      <th>15712</th>\n",
       "      <td>-0.703590</td>\n",
       "      <td>0.194420</td>\n",
       "      <td>-0.817229</td>\n",
       "      <td>0.615795</td>\n",
       "      <td>-1.347084</td>\n",
       "      <td>-0.355292</td>\n",
       "      <td>0.904403</td>\n",
       "      <td>-0.426576</td>\n",
       "      <td>-0.599015</td>\n",
       "      <td>0.159765</td>\n",
       "      <td>0.160242</td>\n",
       "      <td>-0.28749</td>\n",
       "      <td>-0.141460</td>\n",
       "      <td>0.727602</td>\n",
       "      <td>-0.334262</td>\n",
       "    </tr>\n",
       "    <tr>\n",
       "      <th>16562</th>\n",
       "      <td>0.000000</td>\n",
       "      <td>-1.968248</td>\n",
       "      <td>-0.817229</td>\n",
       "      <td>0.615795</td>\n",
       "      <td>0.313751</td>\n",
       "      <td>0.779438</td>\n",
       "      <td>-1.347710</td>\n",
       "      <td>1.163112</td>\n",
       "      <td>1.633895</td>\n",
       "      <td>-1.599316</td>\n",
       "      <td>0.160242</td>\n",
       "      <td>-0.28749</td>\n",
       "      <td>0.790596</td>\n",
       "      <td>1.140495</td>\n",
       "      <td>-0.334262</td>\n",
       "    </tr>\n",
       "  </tbody>\n",
       "</table>\n",
       "</div>"
      ],
      "text/plain": [
       "           Levy  Prod. year  Category  Leather interior  Fuel type  \\\n",
       "7808  -0.344135    0.374642  0.975797          0.615795  -0.793472   \n",
       "16766  0.975616   -0.706692 -0.817229          0.615795  -1.347084   \n",
       "7285   1.282596   -0.166025  0.975797          0.615795  -1.347084   \n",
       "15712 -0.703590    0.194420 -0.817229          0.615795  -1.347084   \n",
       "16562  0.000000   -1.968248 -0.817229          0.615795   0.313751   \n",
       "\n",
       "       Engine volume   Mileage  Cylinders  Gear box type  Drive wheels  \\\n",
       "7808        0.212073  0.985689  -0.426576      -0.599015      0.159765   \n",
       "16766      -0.355292 -0.751903  -0.426576      -0.599015      0.159765   \n",
       "7285        1.346803  0.566978   1.163112      -0.599015     -1.599316   \n",
       "15712      -0.355292  0.904403  -0.426576      -0.599015      0.159765   \n",
       "16562       0.779438 -1.347710   1.163112       1.633895     -1.599316   \n",
       "\n",
       "          Doors    Wheel     Color   Airbags  Turbo engine  \n",
       "7808   0.160242 -0.28749  1.163418 -0.717521     -0.334262  \n",
       "16766  0.160242 -0.28749  0.790596  0.727602     -0.334262  \n",
       "7285   0.160242 -0.28749 -1.259927 -0.717521     -0.334262  \n",
       "15712  0.160242 -0.28749 -0.141460  0.727602     -0.334262  \n",
       "16562  0.160242 -0.28749  0.790596  1.140495     -0.334262  "
      ]
     },
     "metadata": {},
     "output_type": "display_data"
    }
   ],
   "source": [
    "display(x_train.head())"
   ]
  },
  {
   "cell_type": "code",
   "execution_count": 165,
   "metadata": {
    "execution": {
     "iopub.execute_input": "2021-07-21T15:18:27.891253Z",
     "iopub.status.busy": "2021-07-21T15:18:27.890958Z",
     "iopub.status.idle": "2021-07-21T15:18:27.897225Z",
     "shell.execute_reply": "2021-07-21T15:18:27.896483Z",
     "shell.execute_reply.started": "2021-07-21T15:18:27.891213Z"
    },
    "id": "_ymBoYVoAhf6"
   },
   "outputs": [],
   "source": [
    "from sklearn.linear_model import LinearRegression"
   ]
  },
  {
   "cell_type": "code",
   "execution_count": 166,
   "metadata": {
    "execution": {
     "iopub.execute_input": "2021-07-21T15:18:27.898550Z",
     "iopub.status.busy": "2021-07-21T15:18:27.898303Z",
     "iopub.status.idle": "2021-07-21T15:18:27.905943Z",
     "shell.execute_reply": "2021-07-21T15:18:27.905298Z",
     "shell.execute_reply.started": "2021-07-21T15:18:27.898519Z"
    },
    "id": "ttpv_AnoAhi8"
   },
   "outputs": [],
   "source": [
    "linreg=LinearRegression()"
   ]
  },
  {
   "cell_type": "code",
   "execution_count": 167,
   "metadata": {
    "execution": {
     "iopub.execute_input": "2021-07-21T15:18:27.907032Z",
     "iopub.status.busy": "2021-07-21T15:18:27.906811Z",
     "iopub.status.idle": "2021-07-21T15:18:27.921041Z",
     "shell.execute_reply": "2021-07-21T15:18:27.920325Z",
     "shell.execute_reply.started": "2021-07-21T15:18:27.907010Z"
    },
    "id": "c9QEN7LuHe-R",
    "outputId": "82e650ee-72ea-4b98-f328-f9c8770914b3"
   },
   "outputs": [
    {
     "data": {
      "text/plain": [
       "LinearRegression()"
      ]
     },
     "execution_count": 167,
     "metadata": {},
     "output_type": "execute_result"
    }
   ],
   "source": [
    "linreg.fit(new_train,y_train)"
   ]
  },
  {
   "cell_type": "code",
   "execution_count": 168,
   "metadata": {
    "execution": {
     "iopub.execute_input": "2021-07-21T15:18:27.922241Z",
     "iopub.status.busy": "2021-07-21T15:18:27.921899Z",
     "iopub.status.idle": "2021-07-21T15:18:27.924724Z",
     "shell.execute_reply": "2021-07-21T15:18:27.924201Z",
     "shell.execute_reply.started": "2021-07-21T15:18:27.922215Z"
    },
    "id": "-axGUa7OI2xP"
   },
   "outputs": [],
   "source": [
    "# y_pred_train=linreg.predict(new_train)"
   ]
  },
  {
   "cell_type": "code",
   "execution_count": 169,
   "metadata": {
    "execution": {
     "iopub.execute_input": "2021-07-21T15:18:27.925833Z",
     "iopub.status.busy": "2021-07-21T15:18:27.925508Z",
     "iopub.status.idle": "2021-07-21T15:18:27.933096Z",
     "shell.execute_reply": "2021-07-21T15:18:27.932249Z",
     "shell.execute_reply.started": "2021-07-21T15:18:27.925797Z"
    },
    "id": "9JaKwwgPHfCa"
   },
   "outputs": [],
   "source": [
    "# y_pred_test=linreg.predict(new_test)"
   ]
  },
  {
   "cell_type": "code",
   "execution_count": 170,
   "metadata": {
    "execution": {
     "iopub.execute_input": "2021-07-21T15:18:27.934355Z",
     "iopub.status.busy": "2021-07-21T15:18:27.934080Z",
     "iopub.status.idle": "2021-07-21T15:18:27.941753Z",
     "shell.execute_reply": "2021-07-21T15:18:27.940987Z",
     "shell.execute_reply.started": "2021-07-21T15:18:27.934330Z"
    },
    "id": "UGTMTbm0HfDx"
   },
   "outputs": [],
   "source": [
    "from sklearn.metrics import mean_squared_error,mean_absolute_error,r2_score"
   ]
  },
  {
   "cell_type": "code",
   "execution_count": 171,
   "metadata": {
    "execution": {
     "iopub.execute_input": "2021-07-21T15:18:27.943899Z",
     "iopub.status.busy": "2021-07-21T15:18:27.943155Z",
     "iopub.status.idle": "2021-07-21T15:18:27.950436Z",
     "shell.execute_reply": "2021-07-21T15:18:27.949742Z",
     "shell.execute_reply.started": "2021-07-21T15:18:27.943858Z"
    },
    "id": "fg6ZlWEXHfGx"
   },
   "outputs": [],
   "source": [
    "# rmse_train=np.sqrt(mean_squared_error(y_test,y_pred_test))"
   ]
  },
  {
   "cell_type": "code",
   "execution_count": 172,
   "metadata": {
    "execution": {
     "iopub.execute_input": "2021-07-21T15:18:27.952328Z",
     "iopub.status.busy": "2021-07-21T15:18:27.951848Z",
     "iopub.status.idle": "2021-07-21T15:18:27.958862Z",
     "shell.execute_reply": "2021-07-21T15:18:27.958168Z",
     "shell.execute_reply.started": "2021-07-21T15:18:27.952290Z"
    },
    "id": "DkqrfEHoHfIY"
   },
   "outputs": [],
   "source": [
    "# mae_train=mean_absolute_error(y_test,y_pred_test)"
   ]
  },
  {
   "cell_type": "code",
   "execution_count": 173,
   "metadata": {
    "execution": {
     "iopub.execute_input": "2021-07-21T15:18:27.960695Z",
     "iopub.status.busy": "2021-07-21T15:18:27.960283Z",
     "iopub.status.idle": "2021-07-21T15:18:27.966678Z",
     "shell.execute_reply": "2021-07-21T15:18:27.965858Z",
     "shell.execute_reply.started": "2021-07-21T15:18:27.960659Z"
    },
    "id": "LkrqviJLHfKp",
    "outputId": "e13d5adc-89b9-4e4d-fee1-3d1c2e76aa6c"
   },
   "outputs": [],
   "source": [
    "# print(\"Mean Absolute Error is\",mean_absolute_error(y_test,y_pred_test))\n",
    "# print(\"Mean Squared Error is\",np.sqrt(mean_squared_error(y_test,y_pred_test)))\n",
    "# print(\"R squared Score is\",r2_score(y_test,y_pred_test))"
   ]
  },
  {
   "cell_type": "markdown",
   "metadata": {
    "id": "nZ4pHiZOVx28"
   },
   "source": [
    "## **Forward Selection**"
   ]
  },
  {
   "cell_type": "code",
   "execution_count": 174,
   "metadata": {
    "execution": {
     "iopub.execute_input": "2021-07-21T15:18:27.968689Z",
     "iopub.status.busy": "2021-07-21T15:18:27.968279Z",
     "iopub.status.idle": "2021-07-21T15:18:27.974603Z",
     "shell.execute_reply": "2021-07-21T15:18:27.973813Z",
     "shell.execute_reply.started": "2021-07-21T15:18:27.968654Z"
    },
    "id": "XvR45zjuHfOz"
   },
   "outputs": [],
   "source": [
    "from mlxtend.feature_selection import SequentialFeatureSelector"
   ]
  },
  {
   "cell_type": "code",
   "execution_count": 175,
   "metadata": {
    "execution": {
     "iopub.execute_input": "2021-07-21T15:18:27.976389Z",
     "iopub.status.busy": "2021-07-21T15:18:27.976000Z",
     "iopub.status.idle": "2021-07-21T15:18:27.982031Z",
     "shell.execute_reply": "2021-07-21T15:18:27.981401Z",
     "shell.execute_reply.started": "2021-07-21T15:18:27.976354Z"
    },
    "id": "x9w-Rgz3HfR5"
   },
   "outputs": [],
   "source": [
    "linreg_forward=SequentialFeatureSelector(estimator=linreg,k_features=(5,10),\n",
    "                                        forward=True,cv=10,\n",
    "                                        scoring='r2')"
   ]
  },
  {
   "cell_type": "code",
   "execution_count": 176,
   "metadata": {
    "execution": {
     "iopub.execute_input": "2021-07-21T15:18:27.990189Z",
     "iopub.status.busy": "2021-07-21T15:18:27.989939Z",
     "iopub.status.idle": "2021-07-21T15:18:31.668195Z",
     "shell.execute_reply": "2021-07-21T15:18:31.667325Z",
     "shell.execute_reply.started": "2021-07-21T15:18:27.990165Z"
    },
    "id": "cYQBoAo5AhkV"
   },
   "outputs": [],
   "source": [
    "sfs_forward=linreg_forward.fit(new_train,y_train)"
   ]
  },
  {
   "cell_type": "code",
   "execution_count": 177,
   "metadata": {
    "execution": {
     "iopub.execute_input": "2021-07-21T15:18:31.671443Z",
     "iopub.status.busy": "2021-07-21T15:18:31.670842Z",
     "iopub.status.idle": "2021-07-21T15:18:31.677244Z",
     "shell.execute_reply": "2021-07-21T15:18:31.676457Z",
     "shell.execute_reply.started": "2021-07-21T15:18:31.671401Z"
    },
    "id": "u5hCmHk6AhnN",
    "outputId": "322c45a7-1123-4c02-f6bc-baa2eb5dbf10"
   },
   "outputs": [
    {
     "name": "stdout",
     "output_type": "stream",
     "text": [
      "Feature Selection using forward selection are :  ('Prod. year', 'Engine volume', 'Mileage', 'Cylinders', 'Gear box type', 'Wheel', 'Turbo engine')\n",
      "R-Squared :  0.1061458788519957\n"
     ]
    }
   ],
   "source": [
    "print('Feature Selection using forward selection are : ',sfs_forward.k_feature_names_)\n",
    "print('R-Squared : ', sfs_forward.k_score_)"
   ]
  },
  {
   "cell_type": "code",
   "execution_count": 178,
   "metadata": {
    "execution": {
     "iopub.execute_input": "2021-07-21T15:18:31.679169Z",
     "iopub.status.busy": "2021-07-21T15:18:31.678595Z",
     "iopub.status.idle": "2021-07-21T15:18:31.710913Z",
     "shell.execute_reply": "2021-07-21T15:18:31.710070Z",
     "shell.execute_reply.started": "2021-07-21T15:18:31.679130Z"
    },
    "id": "yqVUzapVkiWn",
    "outputId": "8dfaf9b4-96ca-46da-d9fd-a9ded3da4b11"
   },
   "outputs": [
    {
     "data": {
      "text/html": [
       "<div>\n",
       "<style scoped>\n",
       "    .dataframe tbody tr th:only-of-type {\n",
       "        vertical-align: middle;\n",
       "    }\n",
       "\n",
       "    .dataframe tbody tr th {\n",
       "        vertical-align: top;\n",
       "    }\n",
       "\n",
       "    .dataframe thead th {\n",
       "        text-align: right;\n",
       "    }\n",
       "</style>\n",
       "<table border=\"1\" class=\"dataframe\">\n",
       "  <thead>\n",
       "    <tr style=\"text-align: right;\">\n",
       "      <th></th>\n",
       "      <th>Levy</th>\n",
       "      <th>Prod. year</th>\n",
       "      <th>Category</th>\n",
       "      <th>Leather interior</th>\n",
       "      <th>Fuel type</th>\n",
       "      <th>Engine volume</th>\n",
       "      <th>Mileage</th>\n",
       "      <th>Cylinders</th>\n",
       "      <th>Gear box type</th>\n",
       "      <th>Drive wheels</th>\n",
       "      <th>Doors</th>\n",
       "      <th>Wheel</th>\n",
       "      <th>Color</th>\n",
       "      <th>Airbags</th>\n",
       "      <th>Turbo engine</th>\n",
       "    </tr>\n",
       "  </thead>\n",
       "  <tbody>\n",
       "    <tr>\n",
       "      <th>7808</th>\n",
       "      <td>-0.344135</td>\n",
       "      <td>0.374642</td>\n",
       "      <td>0.975797</td>\n",
       "      <td>0.615795</td>\n",
       "      <td>-0.793472</td>\n",
       "      <td>0.212073</td>\n",
       "      <td>0.985689</td>\n",
       "      <td>-0.426576</td>\n",
       "      <td>-0.599015</td>\n",
       "      <td>0.159765</td>\n",
       "      <td>0.160242</td>\n",
       "      <td>-0.28749</td>\n",
       "      <td>1.163418</td>\n",
       "      <td>-0.717521</td>\n",
       "      <td>-0.334262</td>\n",
       "    </tr>\n",
       "    <tr>\n",
       "      <th>16766</th>\n",
       "      <td>0.975616</td>\n",
       "      <td>-0.706692</td>\n",
       "      <td>-0.817229</td>\n",
       "      <td>0.615795</td>\n",
       "      <td>-1.347084</td>\n",
       "      <td>-0.355292</td>\n",
       "      <td>-0.751903</td>\n",
       "      <td>-0.426576</td>\n",
       "      <td>-0.599015</td>\n",
       "      <td>0.159765</td>\n",
       "      <td>0.160242</td>\n",
       "      <td>-0.28749</td>\n",
       "      <td>0.790596</td>\n",
       "      <td>0.727602</td>\n",
       "      <td>-0.334262</td>\n",
       "    </tr>\n",
       "    <tr>\n",
       "      <th>7285</th>\n",
       "      <td>1.282596</td>\n",
       "      <td>-0.166025</td>\n",
       "      <td>0.975797</td>\n",
       "      <td>0.615795</td>\n",
       "      <td>-1.347084</td>\n",
       "      <td>1.346803</td>\n",
       "      <td>0.566978</td>\n",
       "      <td>1.163112</td>\n",
       "      <td>-0.599015</td>\n",
       "      <td>-1.599316</td>\n",
       "      <td>0.160242</td>\n",
       "      <td>-0.28749</td>\n",
       "      <td>-1.259927</td>\n",
       "      <td>-0.717521</td>\n",
       "      <td>-0.334262</td>\n",
       "    </tr>\n",
       "    <tr>\n",
       "      <th>15712</th>\n",
       "      <td>-0.703590</td>\n",
       "      <td>0.194420</td>\n",
       "      <td>-0.817229</td>\n",
       "      <td>0.615795</td>\n",
       "      <td>-1.347084</td>\n",
       "      <td>-0.355292</td>\n",
       "      <td>0.904403</td>\n",
       "      <td>-0.426576</td>\n",
       "      <td>-0.599015</td>\n",
       "      <td>0.159765</td>\n",
       "      <td>0.160242</td>\n",
       "      <td>-0.28749</td>\n",
       "      <td>-0.141460</td>\n",
       "      <td>0.727602</td>\n",
       "      <td>-0.334262</td>\n",
       "    </tr>\n",
       "    <tr>\n",
       "      <th>16562</th>\n",
       "      <td>0.000000</td>\n",
       "      <td>-1.968248</td>\n",
       "      <td>-0.817229</td>\n",
       "      <td>0.615795</td>\n",
       "      <td>0.313751</td>\n",
       "      <td>0.779438</td>\n",
       "      <td>-1.347710</td>\n",
       "      <td>1.163112</td>\n",
       "      <td>1.633895</td>\n",
       "      <td>-1.599316</td>\n",
       "      <td>0.160242</td>\n",
       "      <td>-0.28749</td>\n",
       "      <td>0.790596</td>\n",
       "      <td>1.140495</td>\n",
       "      <td>-0.334262</td>\n",
       "    </tr>\n",
       "  </tbody>\n",
       "</table>\n",
       "</div>"
      ],
      "text/plain": [
       "           Levy  Prod. year  Category  Leather interior  Fuel type  \\\n",
       "7808  -0.344135    0.374642  0.975797          0.615795  -0.793472   \n",
       "16766  0.975616   -0.706692 -0.817229          0.615795  -1.347084   \n",
       "7285   1.282596   -0.166025  0.975797          0.615795  -1.347084   \n",
       "15712 -0.703590    0.194420 -0.817229          0.615795  -1.347084   \n",
       "16562  0.000000   -1.968248 -0.817229          0.615795   0.313751   \n",
       "\n",
       "       Engine volume   Mileage  Cylinders  Gear box type  Drive wheels  \\\n",
       "7808        0.212073  0.985689  -0.426576      -0.599015      0.159765   \n",
       "16766      -0.355292 -0.751903  -0.426576      -0.599015      0.159765   \n",
       "7285        1.346803  0.566978   1.163112      -0.599015     -1.599316   \n",
       "15712      -0.355292  0.904403  -0.426576      -0.599015      0.159765   \n",
       "16562       0.779438 -1.347710   1.163112       1.633895     -1.599316   \n",
       "\n",
       "          Doors    Wheel     Color   Airbags  Turbo engine  \n",
       "7808   0.160242 -0.28749  1.163418 -0.717521     -0.334262  \n",
       "16766  0.160242 -0.28749  0.790596  0.727602     -0.334262  \n",
       "7285   0.160242 -0.28749 -1.259927 -0.717521     -0.334262  \n",
       "15712  0.160242 -0.28749 -0.141460  0.727602     -0.334262  \n",
       "16562  0.160242 -0.28749  0.790596  1.140495     -0.334262  "
      ]
     },
     "execution_count": 178,
     "metadata": {},
     "output_type": "execute_result"
    }
   ],
   "source": [
    "x_train.head()"
   ]
  },
  {
   "cell_type": "markdown",
   "metadata": {
    "id": "4KGU-xZwV4C8"
   },
   "source": [
    "## **Backward Selection**"
   ]
  },
  {
   "cell_type": "code",
   "execution_count": 179,
   "metadata": {
    "execution": {
     "iopub.execute_input": "2021-07-21T15:18:31.717054Z",
     "iopub.status.busy": "2021-07-21T15:18:31.714922Z",
     "iopub.status.idle": "2021-07-21T15:18:31.723474Z",
     "shell.execute_reply": "2021-07-21T15:18:31.722514Z",
     "shell.execute_reply.started": "2021-07-21T15:18:31.717006Z"
    },
    "id": "eXe0I51kAhou"
   },
   "outputs": [],
   "source": [
    "linreg_backward=SequentialFeatureSelector(estimator=linreg,k_features=(5,10),\n",
    "                                         forward=False,cv=12,\n",
    "                                         scoring='r2')"
   ]
  },
  {
   "cell_type": "code",
   "execution_count": 180,
   "metadata": {
    "execution": {
     "iopub.execute_input": "2021-07-21T15:18:31.730014Z",
     "iopub.status.busy": "2021-07-21T15:18:31.727855Z",
     "iopub.status.idle": "2021-07-21T15:18:40.205519Z",
     "shell.execute_reply": "2021-07-21T15:18:40.204602Z",
     "shell.execute_reply.started": "2021-07-21T15:18:31.729966Z"
    },
    "id": "J-XvVtP_Ahrp"
   },
   "outputs": [],
   "source": [
    "sfs_backward = linreg_backward.fit(new_train.values, y_train)"
   ]
  },
  {
   "cell_type": "code",
   "execution_count": 181,
   "metadata": {
    "execution": {
     "iopub.execute_input": "2021-07-21T15:18:40.206907Z",
     "iopub.status.busy": "2021-07-21T15:18:40.206620Z",
     "iopub.status.idle": "2021-07-21T15:18:40.211841Z",
     "shell.execute_reply": "2021-07-21T15:18:40.211010Z",
     "shell.execute_reply.started": "2021-07-21T15:18:40.206881Z"
    },
    "id": "ZNhRZBGYAhtc",
    "outputId": "e2d6f490-4be3-49a1-878c-f1df55ea91a7"
   },
   "outputs": [
    {
     "name": "stdout",
     "output_type": "stream",
     "text": [
      "Feature Selection using backward selection are :  ('1', '5', '6', '8', '14')\n",
      "R-Squared :  0.11927880176862742\n"
     ]
    }
   ],
   "source": [
    "print('Feature Selection using backward selection are : ',sfs_backward.k_feature_names_)\n",
    "print('R-Squared : ', sfs_backward.k_score_)"
   ]
  },
  {
   "cell_type": "code",
   "execution_count": null,
   "metadata": {
    "id": "DDAWghIdAhxF"
   },
   "outputs": [],
   "source": []
  },
  {
   "cell_type": "code",
   "execution_count": 182,
   "metadata": {
    "execution": {
     "iopub.execute_input": "2021-07-21T15:18:40.213449Z",
     "iopub.status.busy": "2021-07-21T15:18:40.213162Z",
     "iopub.status.idle": "2021-07-21T15:18:40.220611Z",
     "shell.execute_reply": "2021-07-21T15:18:40.219779Z",
     "shell.execute_reply.started": "2021-07-21T15:18:40.213421Z"
    },
    "id": "cdadd182"
   },
   "outputs": [],
   "source": [
    "from sklearn.feature_selection import RFE"
   ]
  },
  {
   "cell_type": "code",
   "execution_count": 183,
   "metadata": {
    "execution": {
     "iopub.execute_input": "2021-07-21T15:18:40.222098Z",
     "iopub.status.busy": "2021-07-21T15:18:40.221793Z",
     "iopub.status.idle": "2021-07-21T15:18:40.254807Z",
     "shell.execute_reply": "2021-07-21T15:18:40.253944Z",
     "shell.execute_reply.started": "2021-07-21T15:18:40.222071Z"
    },
    "id": "N06X5WDmlFkJ",
    "outputId": "c86cc9cb-fccd-4932-e206-c0daa14dcf7d"
   },
   "outputs": [
    {
     "data": {
      "text/plain": [
       "RFE(estimator=LinearRegression(), n_features_to_select=8)"
      ]
     },
     "execution_count": 183,
     "metadata": {},
     "output_type": "execute_result"
    }
   ],
   "source": [
    "rfe=RFE(estimator=linreg,n_features_to_select=8)\n",
    "rfe.fit(new_train,y_train)"
   ]
  },
  {
   "cell_type": "code",
   "execution_count": 184,
   "metadata": {
    "execution": {
     "iopub.execute_input": "2021-07-21T15:18:40.256118Z",
     "iopub.status.busy": "2021-07-21T15:18:40.255869Z",
     "iopub.status.idle": "2021-07-21T15:18:40.260215Z",
     "shell.execute_reply": "2021-07-21T15:18:40.259444Z",
     "shell.execute_reply.started": "2021-07-21T15:18:40.256092Z"
    },
    "id": "ou-iMIoJlFmC"
   },
   "outputs": [],
   "source": [
    "feat_index = pd.Series(data = rfe.ranking_, index = new_train.columns)"
   ]
  },
  {
   "cell_type": "code",
   "execution_count": 185,
   "metadata": {
    "execution": {
     "iopub.execute_input": "2021-07-21T15:18:40.261696Z",
     "iopub.status.busy": "2021-07-21T15:18:40.261454Z",
     "iopub.status.idle": "2021-07-21T15:18:40.269689Z",
     "shell.execute_reply": "2021-07-21T15:18:40.268836Z",
     "shell.execute_reply.started": "2021-07-21T15:18:40.261671Z"
    },
    "id": "PltKf6MXlFqI"
   },
   "outputs": [],
   "source": [
    "signi_feat_rfe = feat_index[feat_index==1].index"
   ]
  },
  {
   "cell_type": "code",
   "execution_count": 186,
   "metadata": {
    "execution": {
     "iopub.execute_input": "2021-07-21T15:18:40.271254Z",
     "iopub.status.busy": "2021-07-21T15:18:40.270967Z",
     "iopub.status.idle": "2021-07-21T15:18:40.279772Z",
     "shell.execute_reply": "2021-07-21T15:18:40.278957Z",
     "shell.execute_reply.started": "2021-07-21T15:18:40.271228Z"
    },
    "id": "tEGrx5hOlFsK",
    "outputId": "494d7bf0-0f4b-4c69-dcff-ca0befd8f761"
   },
   "outputs": [
    {
     "data": {
      "text/plain": [
       "Index(['Prod. year', 'Category', 'Fuel type', 'Mileage', 'Gear box type',\n",
       "       'Doors', 'Wheel', 'Color'],\n",
       "      dtype='object')"
      ]
     },
     "execution_count": 186,
     "metadata": {},
     "output_type": "execute_result"
    }
   ],
   "source": [
    "signi_feat_rfe"
   ]
  },
  {
   "cell_type": "code",
   "execution_count": 187,
   "metadata": {
    "execution": {
     "iopub.execute_input": "2021-07-21T15:18:40.281380Z",
     "iopub.status.busy": "2021-07-21T15:18:40.281090Z",
     "iopub.status.idle": "2021-07-21T15:18:40.286289Z",
     "shell.execute_reply": "2021-07-21T15:18:40.285550Z",
     "shell.execute_reply.started": "2021-07-21T15:18:40.281332Z"
    },
    "id": "P0Vz9ysSlFu7"
   },
   "outputs": [],
   "source": [
    "from sklearn.model_selection import KFold,LeaveOneOut,cross_val_score"
   ]
  },
  {
   "cell_type": "code",
   "execution_count": 188,
   "metadata": {
    "execution": {
     "iopub.execute_input": "2021-07-21T15:18:40.287455Z",
     "iopub.status.busy": "2021-07-21T15:18:40.287187Z",
     "iopub.status.idle": "2021-07-21T15:18:40.295502Z",
     "shell.execute_reply": "2021-07-21T15:18:40.294895Z",
     "shell.execute_reply.started": "2021-07-21T15:18:40.287430Z"
    },
    "id": "ib1g5P14lFxc"
   },
   "outputs": [],
   "source": [
    "kf=KFold(n_splits=5)"
   ]
  },
  {
   "cell_type": "code",
   "execution_count": 189,
   "metadata": {
    "execution": {
     "iopub.execute_input": "2021-07-21T15:18:40.297192Z",
     "iopub.status.busy": "2021-07-21T15:18:40.296727Z",
     "iopub.status.idle": "2021-07-21T15:18:40.303975Z",
     "shell.execute_reply": "2021-07-21T15:18:40.302945Z",
     "shell.execute_reply.started": "2021-07-21T15:18:40.297147Z"
    },
    "id": "vwZ9pGtzluUc"
   },
   "outputs": [],
   "source": [
    "def get_score(model,x_train_k,x_test_k,y_train_k,y_test_k):\n",
    "    model.fit(x_train_k,y_train_k)\n",
    "    x=model.score(x_train_k,y_train_k)\n",
    "    return x"
   ]
  },
  {
   "cell_type": "code",
   "execution_count": 190,
   "metadata": {
    "execution": {
     "iopub.execute_input": "2021-07-21T15:18:40.305890Z",
     "iopub.status.busy": "2021-07-21T15:18:40.305430Z",
     "iopub.status.idle": "2021-07-21T15:18:40.410713Z",
     "shell.execute_reply": "2021-07-21T15:18:40.409769Z",
     "shell.execute_reply.started": "2021-07-21T15:18:40.305862Z"
    },
    "id": "rVvXi3qTluXC"
   },
   "outputs": [],
   "source": [
    "scores=[]\n",
    "for i,j in kf.split(new_train):\n",
    "    x_train_k,x_test_k,y_train_k,y_test_k=new_train.iloc[i],new_train.iloc[j],y_train.iloc[i],y_train.iloc[j]\n",
    "    s=get_score(linreg,x_train_k,x_test_k,y_train_k,y_test_k)\n",
    "    scores.append(s)"
   ]
  },
  {
   "cell_type": "code",
   "execution_count": 191,
   "metadata": {
    "execution": {
     "iopub.execute_input": "2021-07-21T15:18:40.412577Z",
     "iopub.status.busy": "2021-07-21T15:18:40.411981Z",
     "iopub.status.idle": "2021-07-21T15:18:40.429792Z",
     "shell.execute_reply": "2021-07-21T15:18:40.428656Z",
     "shell.execute_reply.started": "2021-07-21T15:18:40.412533Z"
    },
    "id": "xZWeToq1luZm",
    "outputId": "252446e1-a0bb-4f9f-a044-83da14693e81"
   },
   "outputs": [
    {
     "name": "stdout",
     "output_type": "stream",
     "text": [
      "All Scores\n",
      "[0.0034437408234297973, 0.0033460775665284936, 0.2371507863285115, 0.0035213838398733266, 0.0034407835488183824]\n",
      "Maximum Scores obtained : \n",
      "0.2371507863285115\n",
      "Minimum Scores obtained : \n",
      "0.0033460775665284936\n",
      "Average Scores obtained : \n",
      "0.0501805544214323\n"
     ]
    }
   ],
   "source": [
    "print('All Scores',scores,sep='\\n')\n",
    "print('Maximum Scores obtained : ',max(scores),sep='\\n')\n",
    "print('Minimum Scores obtained : ',min(scores),sep='\\n')\n",
    "print('Average Scores obtained : ',np.mean(scores),sep='\\n')"
   ]
  },
  {
   "cell_type": "code",
   "execution_count": null,
   "metadata": {
    "id": "XVg8qW0Ilubf"
   },
   "outputs": [],
   "source": []
  },
  {
   "cell_type": "markdown",
   "metadata": {
    "id": "4mPV0ghGJRCq"
   },
   "source": [
    "## **Stacked Model**"
   ]
  },
  {
   "cell_type": "code",
   "execution_count": 192,
   "metadata": {
    "execution": {
     "iopub.execute_input": "2021-07-21T15:18:40.431634Z",
     "iopub.status.busy": "2021-07-21T15:18:40.431277Z",
     "iopub.status.idle": "2021-07-21T15:18:40.438320Z",
     "shell.execute_reply": "2021-07-21T15:18:40.437270Z",
     "shell.execute_reply.started": "2021-07-21T15:18:40.431597Z"
    },
    "id": "yKsow5gYJYFg"
   },
   "outputs": [],
   "source": [
    "rdge = Ridge()"
   ]
  },
  {
   "cell_type": "code",
   "execution_count": 193,
   "metadata": {
    "execution": {
     "iopub.execute_input": "2021-07-21T15:18:40.439991Z",
     "iopub.status.busy": "2021-07-21T15:18:40.439460Z",
     "iopub.status.idle": "2021-07-21T15:18:40.448472Z",
     "shell.execute_reply": "2021-07-21T15:18:40.447176Z",
     "shell.execute_reply.started": "2021-07-21T15:18:40.439934Z"
    },
    "id": "F1ytjdD5JYIj"
   },
   "outputs": [],
   "source": [
    "# class StackingAveragedModels(BaseEstimator, RegressorMixin, TransformerMixin):\n",
    "#     def __init__(self, base_models, meta_model, n_folds=5):\n",
    "#         self.base_models = base_models\n",
    "#         self.meta_model = meta_model\n",
    "#         self.n_folds = n_folds\n",
    "   \n",
    "#     # We again fit the data on clones of the original models\n",
    "#     def fit(self, X, y):\n",
    "#         self.base_models_ = [list() for x in self.base_models]\n",
    "#         self.meta_model_ = clone(self.meta_model)\n",
    "#         kfold = KFold(n_splits=self.n_folds, shuffle=True, random_state=156)\n",
    "        \n",
    "#         # Train cloned base models then create out-of-fold predictions\n",
    "#         # that are needed to train the cloned meta-model\n",
    "#         out_of_fold_predictions = np.zeros((X.shape[0], len(self.base_models)))\n",
    "#         for i, model in enumerate(self.base_models):\n",
    "#             for train_index, holdout_index in kfold.split(X, y):\n",
    "#                 instance = clone(model)\n",
    "#                 self.base_models_[i].append(instance)\n",
    "#                 instance.fit(X_train, y_train)\n",
    "#                 y_pred = instance.predict(X[holdout_index])\n",
    "#                 out_of_fold_predictions[holdout_index, i] = y_pred\n",
    "                \n",
    "#         # Now train the cloned  meta-model using the out-of-fold predictions as new feature\n",
    "#         self.meta_model_.fit(out_of_fold_predictions, y)\n",
    "#         return self\n",
    "   \n",
    "#     #Do the predictions of all base models on the test data and use the averaged predictions as \n",
    "#     #meta-features for the final prediction which is done by the meta-model\n",
    "#     def predict(self, X):\n",
    "#         meta_features = np.column_stack([\n",
    "#             np.column_stack([model.predict(X) for model in base_models]).mean(axis=1)\n",
    "#             for base_models in self.base_models_ ])\n",
    "#         return self.meta_model_.predict(meta_features)"
   ]
  },
  {
   "cell_type": "code",
   "execution_count": 194,
   "metadata": {
    "execution": {
     "iopub.execute_input": "2021-07-21T15:18:40.451816Z",
     "iopub.status.busy": "2021-07-21T15:18:40.450872Z",
     "iopub.status.idle": "2021-07-21T15:18:40.462999Z",
     "shell.execute_reply": "2021-07-21T15:18:40.462131Z",
     "shell.execute_reply.started": "2021-07-21T15:18:40.451770Z"
    },
    "id": "MxI8Er5tJYMh"
   },
   "outputs": [],
   "source": [
    "rdge = Ridge()\n",
    "# lass = Lasso()\n",
    "rf = RandomForestRegressor()\n",
    "gb = GradientBoostingRegressor()"
   ]
  },
  {
   "cell_type": "code",
   "execution_count": 195,
   "metadata": {
    "execution": {
     "iopub.execute_input": "2021-07-21T15:18:40.464946Z",
     "iopub.status.busy": "2021-07-21T15:18:40.464393Z",
     "iopub.status.idle": "2021-07-21T15:18:40.473715Z",
     "shell.execute_reply": "2021-07-21T15:18:40.472746Z",
     "shell.execute_reply.started": "2021-07-21T15:18:40.464906Z"
    },
    "id": "pUPyTqumJYOk",
    "outputId": "1cae1eeb-d03e-40e6-cc98-f74550491cea"
   },
   "outputs": [],
   "source": [
    "# lasso = make_pipeline(RobustScaler(), Lasso(alpha =0.0005, random_state=42))\n",
    "\n",
    "# stacked_averaged_models = StackingAveragedModels(base_models = (rdge, rf,gb),\n",
    "#                                                  meta_model = lasso)\n",
    "# stacked_averaged_models.fit(x_train.values, y_train)\n",
    "\n",
    "# y_pred3 = stacked_averaged_models.predict(x_test.values)\n",
    "\n",
    "# print(\"Mean Absolute Error is\",mean_absolute_error(y_test,y_pred3))\n",
    "# print(\"Mean Squared Error is\",mean_squared_error(y_test,y_pred3))\n",
    "# print(\"R squared Score is\",r2_score(y_test,y_pred3))\n",
    "# print(\"Mean Absolute Logarithmic Error is\",np.square(np.log10(y_pred3 +1) - np.log10(y_test +1)).mean() ** 0.5)"
   ]
  },
  {
   "cell_type": "code",
   "execution_count": 196,
   "metadata": {
    "execution": {
     "iopub.execute_input": "2021-07-21T15:18:40.475655Z",
     "iopub.status.busy": "2021-07-21T15:18:40.475114Z",
     "iopub.status.idle": "2021-07-21T15:18:40.487301Z",
     "shell.execute_reply": "2021-07-21T15:18:40.486441Z",
     "shell.execute_reply.started": "2021-07-21T15:18:40.475614Z"
    }
   },
   "outputs": [],
   "source": [
    "## **According to Feature Selection**"
   ]
  },
  {
   "cell_type": "code",
   "execution_count": 197,
   "metadata": {
    "execution": {
     "iopub.execute_input": "2021-07-21T15:18:40.488766Z",
     "iopub.status.busy": "2021-07-21T15:18:40.488418Z",
     "iopub.status.idle": "2021-07-21T15:18:40.499067Z",
     "shell.execute_reply": "2021-07-21T15:18:40.498205Z",
     "shell.execute_reply.started": "2021-07-21T15:18:40.488730Z"
    }
   },
   "outputs": [],
   "source": [
    "\n",
    "# sfs_forward.k_feature_names_\n",
    "\n",
    "# x = train.loc[:,sfs_forward.k_feature_names_]\n",
    "# x.head()\n",
    "\n",
    "# X = x\n",
    "# y = train_price\n",
    "\n",
    "# # X_train, X_test, y_train, y_test = train_test_split(X, y, test_size = 0.2, random_state = 2)\n",
    "\n",
    "# x_train,x_test,y_train,y_test=train_test_split(X,y,test_size=0.2,random_state=42)"
   ]
  },
  {
   "cell_type": "markdown",
   "metadata": {
    "id": "puM2x1bOmXOC"
   },
   "source": [
    "## **Models**"
   ]
  },
  {
   "cell_type": "code",
   "execution_count": 198,
   "metadata": {
    "execution": {
     "iopub.execute_input": "2021-07-21T15:18:40.500810Z",
     "iopub.status.busy": "2021-07-21T15:18:40.500316Z",
     "iopub.status.idle": "2021-07-21T15:18:40.510964Z",
     "shell.execute_reply": "2021-07-21T15:18:40.509866Z",
     "shell.execute_reply.started": "2021-07-21T15:18:40.500772Z"
    },
    "id": "ES1o-dioluf-"
   },
   "outputs": [],
   "source": [
    "from sklearn.model_selection import GridSearchCV\n",
    "from sklearn.pipeline import make_pipeline\n",
    "from sklearn.pipeline import Pipeline\n",
    "from sklearn import metrics"
   ]
  },
  {
   "cell_type": "code",
   "execution_count": 199,
   "metadata": {
    "execution": {
     "iopub.execute_input": "2021-07-21T15:18:40.514698Z",
     "iopub.status.busy": "2021-07-21T15:18:40.513133Z",
     "iopub.status.idle": "2021-07-21T15:18:40.538613Z",
     "shell.execute_reply": "2021-07-21T15:18:40.537716Z",
     "shell.execute_reply.started": "2021-07-21T15:18:40.514632Z"
    },
    "id": "T2jVql2ilFzP",
    "outputId": "6efc532a-3106-4378-dcf3-9318ee3ac2f2"
   },
   "outputs": [
    {
     "data": {
      "text/html": [
       "<div>\n",
       "<style scoped>\n",
       "    .dataframe tbody tr th:only-of-type {\n",
       "        vertical-align: middle;\n",
       "    }\n",
       "\n",
       "    .dataframe tbody tr th {\n",
       "        vertical-align: top;\n",
       "    }\n",
       "\n",
       "    .dataframe thead th {\n",
       "        text-align: right;\n",
       "    }\n",
       "</style>\n",
       "<table border=\"1\" class=\"dataframe\">\n",
       "  <thead>\n",
       "    <tr style=\"text-align: right;\">\n",
       "      <th></th>\n",
       "      <th>Levy</th>\n",
       "      <th>Prod. year</th>\n",
       "      <th>Category</th>\n",
       "      <th>Leather interior</th>\n",
       "      <th>Fuel type</th>\n",
       "      <th>Engine volume</th>\n",
       "      <th>Mileage</th>\n",
       "      <th>Cylinders</th>\n",
       "      <th>Gear box type</th>\n",
       "      <th>Drive wheels</th>\n",
       "      <th>Doors</th>\n",
       "      <th>Wheel</th>\n",
       "      <th>Color</th>\n",
       "      <th>Airbags</th>\n",
       "      <th>Turbo engine</th>\n",
       "    </tr>\n",
       "  </thead>\n",
       "  <tbody>\n",
       "    <tr>\n",
       "      <th>7808</th>\n",
       "      <td>-0.344135</td>\n",
       "      <td>0.374642</td>\n",
       "      <td>0.975797</td>\n",
       "      <td>0.615795</td>\n",
       "      <td>-0.793472</td>\n",
       "      <td>0.212073</td>\n",
       "      <td>0.985689</td>\n",
       "      <td>-0.426576</td>\n",
       "      <td>-0.599015</td>\n",
       "      <td>0.159765</td>\n",
       "      <td>0.160242</td>\n",
       "      <td>-0.28749</td>\n",
       "      <td>1.163418</td>\n",
       "      <td>-0.717521</td>\n",
       "      <td>-0.334262</td>\n",
       "    </tr>\n",
       "    <tr>\n",
       "      <th>16766</th>\n",
       "      <td>0.975616</td>\n",
       "      <td>-0.706692</td>\n",
       "      <td>-0.817229</td>\n",
       "      <td>0.615795</td>\n",
       "      <td>-1.347084</td>\n",
       "      <td>-0.355292</td>\n",
       "      <td>-0.751903</td>\n",
       "      <td>-0.426576</td>\n",
       "      <td>-0.599015</td>\n",
       "      <td>0.159765</td>\n",
       "      <td>0.160242</td>\n",
       "      <td>-0.28749</td>\n",
       "      <td>0.790596</td>\n",
       "      <td>0.727602</td>\n",
       "      <td>-0.334262</td>\n",
       "    </tr>\n",
       "    <tr>\n",
       "      <th>7285</th>\n",
       "      <td>1.282596</td>\n",
       "      <td>-0.166025</td>\n",
       "      <td>0.975797</td>\n",
       "      <td>0.615795</td>\n",
       "      <td>-1.347084</td>\n",
       "      <td>1.346803</td>\n",
       "      <td>0.566978</td>\n",
       "      <td>1.163112</td>\n",
       "      <td>-0.599015</td>\n",
       "      <td>-1.599316</td>\n",
       "      <td>0.160242</td>\n",
       "      <td>-0.28749</td>\n",
       "      <td>-1.259927</td>\n",
       "      <td>-0.717521</td>\n",
       "      <td>-0.334262</td>\n",
       "    </tr>\n",
       "    <tr>\n",
       "      <th>15712</th>\n",
       "      <td>-0.703590</td>\n",
       "      <td>0.194420</td>\n",
       "      <td>-0.817229</td>\n",
       "      <td>0.615795</td>\n",
       "      <td>-1.347084</td>\n",
       "      <td>-0.355292</td>\n",
       "      <td>0.904403</td>\n",
       "      <td>-0.426576</td>\n",
       "      <td>-0.599015</td>\n",
       "      <td>0.159765</td>\n",
       "      <td>0.160242</td>\n",
       "      <td>-0.28749</td>\n",
       "      <td>-0.141460</td>\n",
       "      <td>0.727602</td>\n",
       "      <td>-0.334262</td>\n",
       "    </tr>\n",
       "    <tr>\n",
       "      <th>16562</th>\n",
       "      <td>0.000000</td>\n",
       "      <td>-1.968248</td>\n",
       "      <td>-0.817229</td>\n",
       "      <td>0.615795</td>\n",
       "      <td>0.313751</td>\n",
       "      <td>0.779438</td>\n",
       "      <td>-1.347710</td>\n",
       "      <td>1.163112</td>\n",
       "      <td>1.633895</td>\n",
       "      <td>-1.599316</td>\n",
       "      <td>0.160242</td>\n",
       "      <td>-0.28749</td>\n",
       "      <td>0.790596</td>\n",
       "      <td>1.140495</td>\n",
       "      <td>-0.334262</td>\n",
       "    </tr>\n",
       "  </tbody>\n",
       "</table>\n",
       "</div>"
      ],
      "text/plain": [
       "           Levy  Prod. year  Category  Leather interior  Fuel type  \\\n",
       "7808  -0.344135    0.374642  0.975797          0.615795  -0.793472   \n",
       "16766  0.975616   -0.706692 -0.817229          0.615795  -1.347084   \n",
       "7285   1.282596   -0.166025  0.975797          0.615795  -1.347084   \n",
       "15712 -0.703590    0.194420 -0.817229          0.615795  -1.347084   \n",
       "16562  0.000000   -1.968248 -0.817229          0.615795   0.313751   \n",
       "\n",
       "       Engine volume   Mileage  Cylinders  Gear box type  Drive wheels  \\\n",
       "7808        0.212073  0.985689  -0.426576      -0.599015      0.159765   \n",
       "16766      -0.355292 -0.751903  -0.426576      -0.599015      0.159765   \n",
       "7285        1.346803  0.566978   1.163112      -0.599015     -1.599316   \n",
       "15712      -0.355292  0.904403  -0.426576      -0.599015      0.159765   \n",
       "16562       0.779438 -1.347710   1.163112       1.633895     -1.599316   \n",
       "\n",
       "          Doors    Wheel     Color   Airbags  Turbo engine  \n",
       "7808   0.160242 -0.28749  1.163418 -0.717521     -0.334262  \n",
       "16766  0.160242 -0.28749  0.790596  0.727602     -0.334262  \n",
       "7285   0.160242 -0.28749 -1.259927 -0.717521     -0.334262  \n",
       "15712  0.160242 -0.28749 -0.141460  0.727602     -0.334262  \n",
       "16562  0.160242 -0.28749  0.790596  1.140495     -0.334262  "
      ]
     },
     "execution_count": 199,
     "metadata": {},
     "output_type": "execute_result"
    }
   ],
   "source": [
    "x_train.head()"
   ]
  },
  {
   "cell_type": "code",
   "execution_count": 200,
   "metadata": {
    "execution": {
     "iopub.execute_input": "2021-07-21T15:18:40.540027Z",
     "iopub.status.busy": "2021-07-21T15:18:40.539634Z",
     "iopub.status.idle": "2021-07-21T15:18:40.558605Z",
     "shell.execute_reply": "2021-07-21T15:18:40.557998Z",
     "shell.execute_reply.started": "2021-07-21T15:18:40.539999Z"
    },
    "id": "rcKDIkO46B0k",
    "outputId": "8c9d80b3-8aee-4eb8-86e8-c21717ad57a4"
   },
   "outputs": [
    {
     "data": {
      "text/html": [
       "<div>\n",
       "<style scoped>\n",
       "    .dataframe tbody tr th:only-of-type {\n",
       "        vertical-align: middle;\n",
       "    }\n",
       "\n",
       "    .dataframe tbody tr th {\n",
       "        vertical-align: top;\n",
       "    }\n",
       "\n",
       "    .dataframe thead th {\n",
       "        text-align: right;\n",
       "    }\n",
       "</style>\n",
       "<table border=\"1\" class=\"dataframe\">\n",
       "  <thead>\n",
       "    <tr style=\"text-align: right;\">\n",
       "      <th></th>\n",
       "      <th>Levy</th>\n",
       "      <th>Prod. year</th>\n",
       "      <th>Category</th>\n",
       "      <th>Leather interior</th>\n",
       "      <th>Fuel type</th>\n",
       "      <th>Engine volume</th>\n",
       "      <th>Mileage</th>\n",
       "      <th>Cylinders</th>\n",
       "      <th>Gear box type</th>\n",
       "      <th>Drive wheels</th>\n",
       "      <th>Doors</th>\n",
       "      <th>Wheel</th>\n",
       "      <th>Color</th>\n",
       "      <th>Airbags</th>\n",
       "      <th>Turbo engine</th>\n",
       "    </tr>\n",
       "  </thead>\n",
       "  <tbody>\n",
       "    <tr>\n",
       "      <th>736</th>\n",
       "      <td>-1.708489</td>\n",
       "      <td>0.554865</td>\n",
       "      <td>-1.175834</td>\n",
       "      <td>-1.623918</td>\n",
       "      <td>1.420974</td>\n",
       "      <td>-1.036129</td>\n",
       "      <td>-0.882218</td>\n",
       "      <td>-0.426576</td>\n",
       "      <td>-0.599015</td>\n",
       "      <td>0.159765</td>\n",
       "      <td>0.160242</td>\n",
       "      <td>-0.28749</td>\n",
       "      <td>0.790596</td>\n",
       "      <td>-1.130414</td>\n",
       "      <td>-0.334262</td>\n",
       "    </tr>\n",
       "    <tr>\n",
       "      <th>8674</th>\n",
       "      <td>0.000000</td>\n",
       "      <td>-2.508915</td>\n",
       "      <td>-0.100019</td>\n",
       "      <td>0.615795</td>\n",
       "      <td>-1.347084</td>\n",
       "      <td>0.665965</td>\n",
       "      <td>-1.599856</td>\n",
       "      <td>1.163112</td>\n",
       "      <td>0.517440</td>\n",
       "      <td>1.918846</td>\n",
       "      <td>-4.480204</td>\n",
       "      <td>-0.28749</td>\n",
       "      <td>0.604185</td>\n",
       "      <td>0.314710</td>\n",
       "      <td>2.991661</td>\n",
       "    </tr>\n",
       "    <tr>\n",
       "      <th>5971</th>\n",
       "      <td>0.000000</td>\n",
       "      <td>-2.689137</td>\n",
       "      <td>0.975797</td>\n",
       "      <td>-1.623918</td>\n",
       "      <td>0.867362</td>\n",
       "      <td>-0.582237</td>\n",
       "      <td>0.834113</td>\n",
       "      <td>2.752800</td>\n",
       "      <td>0.517440</td>\n",
       "      <td>1.918846</td>\n",
       "      <td>0.160242</td>\n",
       "      <td>-0.28749</td>\n",
       "      <td>-0.327871</td>\n",
       "      <td>0.314710</td>\n",
       "      <td>-0.334262</td>\n",
       "    </tr>\n",
       "    <tr>\n",
       "      <th>1957</th>\n",
       "      <td>-0.711461</td>\n",
       "      <td>0.554865</td>\n",
       "      <td>-0.817229</td>\n",
       "      <td>0.615795</td>\n",
       "      <td>-1.347084</td>\n",
       "      <td>-0.355292</td>\n",
       "      <td>-0.093719</td>\n",
       "      <td>-0.426576</td>\n",
       "      <td>-0.599015</td>\n",
       "      <td>0.159765</td>\n",
       "      <td>0.160242</td>\n",
       "      <td>-0.28749</td>\n",
       "      <td>-0.141460</td>\n",
       "      <td>0.727602</td>\n",
       "      <td>-0.334262</td>\n",
       "    </tr>\n",
       "    <tr>\n",
       "      <th>11075</th>\n",
       "      <td>-0.207699</td>\n",
       "      <td>1.095532</td>\n",
       "      <td>-0.817229</td>\n",
       "      <td>0.615795</td>\n",
       "      <td>0.867362</td>\n",
       "      <td>-0.809183</td>\n",
       "      <td>-1.048049</td>\n",
       "      <td>-0.426576</td>\n",
       "      <td>-0.599015</td>\n",
       "      <td>0.159765</td>\n",
       "      <td>0.160242</td>\n",
       "      <td>-0.28749</td>\n",
       "      <td>1.163418</td>\n",
       "      <td>0.727602</td>\n",
       "      <td>-0.334262</td>\n",
       "    </tr>\n",
       "  </tbody>\n",
       "</table>\n",
       "</div>"
      ],
      "text/plain": [
       "           Levy  Prod. year  Category  Leather interior  Fuel type  \\\n",
       "736   -1.708489    0.554865 -1.175834         -1.623918   1.420974   \n",
       "8674   0.000000   -2.508915 -0.100019          0.615795  -1.347084   \n",
       "5971   0.000000   -2.689137  0.975797         -1.623918   0.867362   \n",
       "1957  -0.711461    0.554865 -0.817229          0.615795  -1.347084   \n",
       "11075 -0.207699    1.095532 -0.817229          0.615795   0.867362   \n",
       "\n",
       "       Engine volume   Mileage  Cylinders  Gear box type  Drive wheels  \\\n",
       "736        -1.036129 -0.882218  -0.426576      -0.599015      0.159765   \n",
       "8674        0.665965 -1.599856   1.163112       0.517440      1.918846   \n",
       "5971       -0.582237  0.834113   2.752800       0.517440      1.918846   \n",
       "1957       -0.355292 -0.093719  -0.426576      -0.599015      0.159765   \n",
       "11075      -0.809183 -1.048049  -0.426576      -0.599015      0.159765   \n",
       "\n",
       "          Doors    Wheel     Color   Airbags  Turbo engine  \n",
       "736    0.160242 -0.28749  0.790596 -1.130414     -0.334262  \n",
       "8674  -4.480204 -0.28749  0.604185  0.314710      2.991661  \n",
       "5971   0.160242 -0.28749 -0.327871  0.314710     -0.334262  \n",
       "1957   0.160242 -0.28749 -0.141460  0.727602     -0.334262  \n",
       "11075  0.160242 -0.28749  1.163418  0.727602     -0.334262  "
      ]
     },
     "execution_count": 200,
     "metadata": {},
     "output_type": "execute_result"
    }
   ],
   "source": [
    "x_test.head()"
   ]
  },
  {
   "cell_type": "code",
   "execution_count": 201,
   "metadata": {
    "execution": {
     "iopub.execute_input": "2021-07-21T15:18:40.559903Z",
     "iopub.status.busy": "2021-07-21T15:18:40.559527Z",
     "iopub.status.idle": "2021-07-21T15:18:40.584947Z",
     "shell.execute_reply": "2021-07-21T15:18:40.584034Z",
     "shell.execute_reply.started": "2021-07-21T15:18:40.559875Z"
    }
   },
   "outputs": [
    {
     "data": {
      "text/html": [
       "<div>\n",
       "<style scoped>\n",
       "    .dataframe tbody tr th:only-of-type {\n",
       "        vertical-align: middle;\n",
       "    }\n",
       "\n",
       "    .dataframe tbody tr th {\n",
       "        vertical-align: top;\n",
       "    }\n",
       "\n",
       "    .dataframe thead th {\n",
       "        text-align: right;\n",
       "    }\n",
       "</style>\n",
       "<table border=\"1\" class=\"dataframe\">\n",
       "  <thead>\n",
       "    <tr style=\"text-align: right;\">\n",
       "      <th></th>\n",
       "      <th>Levy</th>\n",
       "      <th>Prod. year</th>\n",
       "      <th>Category</th>\n",
       "      <th>Leather interior</th>\n",
       "      <th>Fuel type</th>\n",
       "      <th>Engine volume</th>\n",
       "      <th>Mileage</th>\n",
       "      <th>Cylinders</th>\n",
       "      <th>Gear box type</th>\n",
       "      <th>Drive wheels</th>\n",
       "      <th>Doors</th>\n",
       "      <th>Wheel</th>\n",
       "      <th>Color</th>\n",
       "      <th>Airbags</th>\n",
       "      <th>Turbo engine</th>\n",
       "    </tr>\n",
       "  </thead>\n",
       "  <tbody>\n",
       "    <tr>\n",
       "      <th>7808</th>\n",
       "      <td>-0.344135</td>\n",
       "      <td>0.374642</td>\n",
       "      <td>0.975797</td>\n",
       "      <td>0.615795</td>\n",
       "      <td>-0.793472</td>\n",
       "      <td>0.212073</td>\n",
       "      <td>0.985689</td>\n",
       "      <td>-0.426576</td>\n",
       "      <td>-0.599015</td>\n",
       "      <td>0.159765</td>\n",
       "      <td>0.160242</td>\n",
       "      <td>-0.287490</td>\n",
       "      <td>1.163418</td>\n",
       "      <td>-0.717521</td>\n",
       "      <td>-0.334262</td>\n",
       "    </tr>\n",
       "    <tr>\n",
       "      <th>16766</th>\n",
       "      <td>0.975616</td>\n",
       "      <td>-0.706692</td>\n",
       "      <td>-0.817229</td>\n",
       "      <td>0.615795</td>\n",
       "      <td>-1.347084</td>\n",
       "      <td>-0.355292</td>\n",
       "      <td>-0.751903</td>\n",
       "      <td>-0.426576</td>\n",
       "      <td>-0.599015</td>\n",
       "      <td>0.159765</td>\n",
       "      <td>0.160242</td>\n",
       "      <td>-0.287490</td>\n",
       "      <td>0.790596</td>\n",
       "      <td>0.727602</td>\n",
       "      <td>-0.334262</td>\n",
       "    </tr>\n",
       "    <tr>\n",
       "      <th>7285</th>\n",
       "      <td>1.282596</td>\n",
       "      <td>-0.166025</td>\n",
       "      <td>0.975797</td>\n",
       "      <td>0.615795</td>\n",
       "      <td>-1.347084</td>\n",
       "      <td>1.346803</td>\n",
       "      <td>0.566978</td>\n",
       "      <td>1.163112</td>\n",
       "      <td>-0.599015</td>\n",
       "      <td>-1.599316</td>\n",
       "      <td>0.160242</td>\n",
       "      <td>-0.287490</td>\n",
       "      <td>-1.259927</td>\n",
       "      <td>-0.717521</td>\n",
       "      <td>-0.334262</td>\n",
       "    </tr>\n",
       "    <tr>\n",
       "      <th>15712</th>\n",
       "      <td>-0.703590</td>\n",
       "      <td>0.194420</td>\n",
       "      <td>-0.817229</td>\n",
       "      <td>0.615795</td>\n",
       "      <td>-1.347084</td>\n",
       "      <td>-0.355292</td>\n",
       "      <td>0.904403</td>\n",
       "      <td>-0.426576</td>\n",
       "      <td>-0.599015</td>\n",
       "      <td>0.159765</td>\n",
       "      <td>0.160242</td>\n",
       "      <td>-0.287490</td>\n",
       "      <td>-0.141460</td>\n",
       "      <td>0.727602</td>\n",
       "      <td>-0.334262</td>\n",
       "    </tr>\n",
       "    <tr>\n",
       "      <th>16562</th>\n",
       "      <td>0.000000</td>\n",
       "      <td>-1.968248</td>\n",
       "      <td>-0.817229</td>\n",
       "      <td>0.615795</td>\n",
       "      <td>0.313751</td>\n",
       "      <td>0.779438</td>\n",
       "      <td>-1.347710</td>\n",
       "      <td>1.163112</td>\n",
       "      <td>1.633895</td>\n",
       "      <td>-1.599316</td>\n",
       "      <td>0.160242</td>\n",
       "      <td>-0.287490</td>\n",
       "      <td>0.790596</td>\n",
       "      <td>1.140495</td>\n",
       "      <td>-0.334262</td>\n",
       "    </tr>\n",
       "    <tr>\n",
       "      <th>...</th>\n",
       "      <td>...</td>\n",
       "      <td>...</td>\n",
       "      <td>...</td>\n",
       "      <td>...</td>\n",
       "      <td>...</td>\n",
       "      <td>...</td>\n",
       "      <td>...</td>\n",
       "      <td>...</td>\n",
       "      <td>...</td>\n",
       "      <td>...</td>\n",
       "      <td>...</td>\n",
       "      <td>...</td>\n",
       "      <td>...</td>\n",
       "      <td>...</td>\n",
       "      <td>...</td>\n",
       "    </tr>\n",
       "    <tr>\n",
       "      <th>11284</th>\n",
       "      <td>-0.079135</td>\n",
       "      <td>1.275754</td>\n",
       "      <td>-0.817229</td>\n",
       "      <td>0.615795</td>\n",
       "      <td>0.867362</td>\n",
       "      <td>-0.809183</td>\n",
       "      <td>-1.499543</td>\n",
       "      <td>-0.426576</td>\n",
       "      <td>-0.599015</td>\n",
       "      <td>0.159765</td>\n",
       "      <td>0.160242</td>\n",
       "      <td>-0.287490</td>\n",
       "      <td>0.604185</td>\n",
       "      <td>0.727602</td>\n",
       "      <td>-0.334262</td>\n",
       "    </tr>\n",
       "    <tr>\n",
       "      <th>11964</th>\n",
       "      <td>-0.790174</td>\n",
       "      <td>1.275754</td>\n",
       "      <td>0.975797</td>\n",
       "      <td>0.615795</td>\n",
       "      <td>-0.793472</td>\n",
       "      <td>0.212073</td>\n",
       "      <td>-1.230662</td>\n",
       "      <td>-0.426576</td>\n",
       "      <td>-0.599015</td>\n",
       "      <td>0.159765</td>\n",
       "      <td>0.160242</td>\n",
       "      <td>-0.287490</td>\n",
       "      <td>1.163418</td>\n",
       "      <td>-0.717521</td>\n",
       "      <td>-0.334262</td>\n",
       "    </tr>\n",
       "    <tr>\n",
       "      <th>5390</th>\n",
       "      <td>0.012697</td>\n",
       "      <td>0.554865</td>\n",
       "      <td>-0.817229</td>\n",
       "      <td>0.615795</td>\n",
       "      <td>-1.347084</td>\n",
       "      <td>0.779438</td>\n",
       "      <td>-0.350217</td>\n",
       "      <td>1.163112</td>\n",
       "      <td>-0.599015</td>\n",
       "      <td>-1.599316</td>\n",
       "      <td>0.160242</td>\n",
       "      <td>-0.287490</td>\n",
       "      <td>1.163418</td>\n",
       "      <td>-1.543306</td>\n",
       "      <td>-0.334262</td>\n",
       "    </tr>\n",
       "    <tr>\n",
       "      <th>860</th>\n",
       "      <td>0.000000</td>\n",
       "      <td>-1.067136</td>\n",
       "      <td>0.975797</td>\n",
       "      <td>0.615795</td>\n",
       "      <td>0.867362</td>\n",
       "      <td>0.212073</td>\n",
       "      <td>0.246603</td>\n",
       "      <td>1.163112</td>\n",
       "      <td>1.633895</td>\n",
       "      <td>1.918846</td>\n",
       "      <td>0.160242</td>\n",
       "      <td>3.478382</td>\n",
       "      <td>1.163418</td>\n",
       "      <td>-0.717521</td>\n",
       "      <td>-0.334262</td>\n",
       "    </tr>\n",
       "    <tr>\n",
       "      <th>15795</th>\n",
       "      <td>0.000000</td>\n",
       "      <td>-2.869359</td>\n",
       "      <td>0.975797</td>\n",
       "      <td>-1.623918</td>\n",
       "      <td>0.867362</td>\n",
       "      <td>-0.128346</td>\n",
       "      <td>1.968927</td>\n",
       "      <td>-0.426576</td>\n",
       "      <td>0.517440</td>\n",
       "      <td>1.918846</td>\n",
       "      <td>0.160242</td>\n",
       "      <td>-0.287490</td>\n",
       "      <td>-1.259927</td>\n",
       "      <td>0.727602</td>\n",
       "      <td>-0.334262</td>\n",
       "    </tr>\n",
       "  </tbody>\n",
       "</table>\n",
       "<p>15389 rows × 15 columns</p>\n",
       "</div>"
      ],
      "text/plain": [
       "           Levy  Prod. year  Category  Leather interior  Fuel type  \\\n",
       "7808  -0.344135    0.374642  0.975797          0.615795  -0.793472   \n",
       "16766  0.975616   -0.706692 -0.817229          0.615795  -1.347084   \n",
       "7285   1.282596   -0.166025  0.975797          0.615795  -1.347084   \n",
       "15712 -0.703590    0.194420 -0.817229          0.615795  -1.347084   \n",
       "16562  0.000000   -1.968248 -0.817229          0.615795   0.313751   \n",
       "...         ...         ...       ...               ...        ...   \n",
       "11284 -0.079135    1.275754 -0.817229          0.615795   0.867362   \n",
       "11964 -0.790174    1.275754  0.975797          0.615795  -0.793472   \n",
       "5390   0.012697    0.554865 -0.817229          0.615795  -1.347084   \n",
       "860    0.000000   -1.067136  0.975797          0.615795   0.867362   \n",
       "15795  0.000000   -2.869359  0.975797         -1.623918   0.867362   \n",
       "\n",
       "       Engine volume   Mileage  Cylinders  Gear box type  Drive wheels  \\\n",
       "7808        0.212073  0.985689  -0.426576      -0.599015      0.159765   \n",
       "16766      -0.355292 -0.751903  -0.426576      -0.599015      0.159765   \n",
       "7285        1.346803  0.566978   1.163112      -0.599015     -1.599316   \n",
       "15712      -0.355292  0.904403  -0.426576      -0.599015      0.159765   \n",
       "16562       0.779438 -1.347710   1.163112       1.633895     -1.599316   \n",
       "...              ...       ...        ...            ...           ...   \n",
       "11284      -0.809183 -1.499543  -0.426576      -0.599015      0.159765   \n",
       "11964       0.212073 -1.230662  -0.426576      -0.599015      0.159765   \n",
       "5390        0.779438 -0.350217   1.163112      -0.599015     -1.599316   \n",
       "860         0.212073  0.246603   1.163112       1.633895      1.918846   \n",
       "15795      -0.128346  1.968927  -0.426576       0.517440      1.918846   \n",
       "\n",
       "          Doors     Wheel     Color   Airbags  Turbo engine  \n",
       "7808   0.160242 -0.287490  1.163418 -0.717521     -0.334262  \n",
       "16766  0.160242 -0.287490  0.790596  0.727602     -0.334262  \n",
       "7285   0.160242 -0.287490 -1.259927 -0.717521     -0.334262  \n",
       "15712  0.160242 -0.287490 -0.141460  0.727602     -0.334262  \n",
       "16562  0.160242 -0.287490  0.790596  1.140495     -0.334262  \n",
       "...         ...       ...       ...       ...           ...  \n",
       "11284  0.160242 -0.287490  0.604185  0.727602     -0.334262  \n",
       "11964  0.160242 -0.287490  1.163418 -0.717521     -0.334262  \n",
       "5390   0.160242 -0.287490  1.163418 -1.543306     -0.334262  \n",
       "860    0.160242  3.478382  1.163418 -0.717521     -0.334262  \n",
       "15795  0.160242 -0.287490 -1.259927  0.727602     -0.334262  \n",
       "\n",
       "[15389 rows x 15 columns]"
      ]
     },
     "execution_count": 201,
     "metadata": {},
     "output_type": "execute_result"
    }
   ],
   "source": [
    "x_train"
   ]
  },
  {
   "cell_type": "code",
   "execution_count": 202,
   "metadata": {
    "execution": {
     "iopub.execute_input": "2021-07-21T15:18:40.586314Z",
     "iopub.status.busy": "2021-07-21T15:18:40.585906Z",
     "iopub.status.idle": "2021-07-21T15:18:40.608513Z",
     "shell.execute_reply": "2021-07-21T15:18:40.607796Z",
     "shell.execute_reply.started": "2021-07-21T15:18:40.586269Z"
    }
   },
   "outputs": [
    {
     "data": {
      "text/html": [
       "<div>\n",
       "<style scoped>\n",
       "    .dataframe tbody tr th:only-of-type {\n",
       "        vertical-align: middle;\n",
       "    }\n",
       "\n",
       "    .dataframe tbody tr th {\n",
       "        vertical-align: top;\n",
       "    }\n",
       "\n",
       "    .dataframe thead th {\n",
       "        text-align: right;\n",
       "    }\n",
       "</style>\n",
       "<table border=\"1\" class=\"dataframe\">\n",
       "  <thead>\n",
       "    <tr style=\"text-align: right;\">\n",
       "      <th></th>\n",
       "      <th>Levy</th>\n",
       "      <th>Prod. year</th>\n",
       "      <th>Category</th>\n",
       "      <th>Leather interior</th>\n",
       "      <th>Fuel type</th>\n",
       "      <th>Engine volume</th>\n",
       "      <th>Mileage</th>\n",
       "      <th>Cylinders</th>\n",
       "      <th>Gear box type</th>\n",
       "      <th>Drive wheels</th>\n",
       "      <th>Doors</th>\n",
       "      <th>Wheel</th>\n",
       "      <th>Color</th>\n",
       "      <th>Airbags</th>\n",
       "      <th>Turbo engine</th>\n",
       "    </tr>\n",
       "  </thead>\n",
       "  <tbody>\n",
       "    <tr>\n",
       "      <th>736</th>\n",
       "      <td>-1.708489</td>\n",
       "      <td>0.554865</td>\n",
       "      <td>-1.175834</td>\n",
       "      <td>-1.623918</td>\n",
       "      <td>1.420974</td>\n",
       "      <td>-1.036129</td>\n",
       "      <td>-0.882218</td>\n",
       "      <td>-0.426576</td>\n",
       "      <td>-0.599015</td>\n",
       "      <td>0.159765</td>\n",
       "      <td>0.160242</td>\n",
       "      <td>-0.28749</td>\n",
       "      <td>0.790596</td>\n",
       "      <td>-1.130414</td>\n",
       "      <td>-0.334262</td>\n",
       "    </tr>\n",
       "    <tr>\n",
       "      <th>8674</th>\n",
       "      <td>0.000000</td>\n",
       "      <td>-2.508915</td>\n",
       "      <td>-0.100019</td>\n",
       "      <td>0.615795</td>\n",
       "      <td>-1.347084</td>\n",
       "      <td>0.665965</td>\n",
       "      <td>-1.599856</td>\n",
       "      <td>1.163112</td>\n",
       "      <td>0.517440</td>\n",
       "      <td>1.918846</td>\n",
       "      <td>-4.480204</td>\n",
       "      <td>-0.28749</td>\n",
       "      <td>0.604185</td>\n",
       "      <td>0.314710</td>\n",
       "      <td>2.991661</td>\n",
       "    </tr>\n",
       "    <tr>\n",
       "      <th>5971</th>\n",
       "      <td>0.000000</td>\n",
       "      <td>-2.689137</td>\n",
       "      <td>0.975797</td>\n",
       "      <td>-1.623918</td>\n",
       "      <td>0.867362</td>\n",
       "      <td>-0.582237</td>\n",
       "      <td>0.834113</td>\n",
       "      <td>2.752800</td>\n",
       "      <td>0.517440</td>\n",
       "      <td>1.918846</td>\n",
       "      <td>0.160242</td>\n",
       "      <td>-0.28749</td>\n",
       "      <td>-0.327871</td>\n",
       "      <td>0.314710</td>\n",
       "      <td>-0.334262</td>\n",
       "    </tr>\n",
       "    <tr>\n",
       "      <th>1957</th>\n",
       "      <td>-0.711461</td>\n",
       "      <td>0.554865</td>\n",
       "      <td>-0.817229</td>\n",
       "      <td>0.615795</td>\n",
       "      <td>-1.347084</td>\n",
       "      <td>-0.355292</td>\n",
       "      <td>-0.093719</td>\n",
       "      <td>-0.426576</td>\n",
       "      <td>-0.599015</td>\n",
       "      <td>0.159765</td>\n",
       "      <td>0.160242</td>\n",
       "      <td>-0.28749</td>\n",
       "      <td>-0.141460</td>\n",
       "      <td>0.727602</td>\n",
       "      <td>-0.334262</td>\n",
       "    </tr>\n",
       "    <tr>\n",
       "      <th>11075</th>\n",
       "      <td>-0.207699</td>\n",
       "      <td>1.095532</td>\n",
       "      <td>-0.817229</td>\n",
       "      <td>0.615795</td>\n",
       "      <td>0.867362</td>\n",
       "      <td>-0.809183</td>\n",
       "      <td>-1.048049</td>\n",
       "      <td>-0.426576</td>\n",
       "      <td>-0.599015</td>\n",
       "      <td>0.159765</td>\n",
       "      <td>0.160242</td>\n",
       "      <td>-0.28749</td>\n",
       "      <td>1.163418</td>\n",
       "      <td>0.727602</td>\n",
       "      <td>-0.334262</td>\n",
       "    </tr>\n",
       "    <tr>\n",
       "      <th>...</th>\n",
       "      <td>...</td>\n",
       "      <td>...</td>\n",
       "      <td>...</td>\n",
       "      <td>...</td>\n",
       "      <td>...</td>\n",
       "      <td>...</td>\n",
       "      <td>...</td>\n",
       "      <td>...</td>\n",
       "      <td>...</td>\n",
       "      <td>...</td>\n",
       "      <td>...</td>\n",
       "      <td>...</td>\n",
       "      <td>...</td>\n",
       "      <td>...</td>\n",
       "      <td>...</td>\n",
       "    </tr>\n",
       "    <tr>\n",
       "      <th>12026</th>\n",
       "      <td>-0.682600</td>\n",
       "      <td>0.915309</td>\n",
       "      <td>0.975797</td>\n",
       "      <td>-1.623918</td>\n",
       "      <td>0.867362</td>\n",
       "      <td>-1.036129</td>\n",
       "      <td>-1.533908</td>\n",
       "      <td>-0.426576</td>\n",
       "      <td>1.633895</td>\n",
       "      <td>0.159765</td>\n",
       "      <td>0.160242</td>\n",
       "      <td>-0.28749</td>\n",
       "      <td>-0.700694</td>\n",
       "      <td>-0.717521</td>\n",
       "      <td>2.991661</td>\n",
       "    </tr>\n",
       "    <tr>\n",
       "      <th>17893</th>\n",
       "      <td>0.000000</td>\n",
       "      <td>-1.427581</td>\n",
       "      <td>-0.100019</td>\n",
       "      <td>-1.623918</td>\n",
       "      <td>-1.347084</td>\n",
       "      <td>0.098600</td>\n",
       "      <td>1.270687</td>\n",
       "      <td>-0.426576</td>\n",
       "      <td>0.517440</td>\n",
       "      <td>1.918846</td>\n",
       "      <td>0.160242</td>\n",
       "      <td>-0.28749</td>\n",
       "      <td>1.163418</td>\n",
       "      <td>0.314710</td>\n",
       "      <td>2.991661</td>\n",
       "    </tr>\n",
       "    <tr>\n",
       "      <th>5339</th>\n",
       "      <td>3.935216</td>\n",
       "      <td>-0.166025</td>\n",
       "      <td>0.975797</td>\n",
       "      <td>0.615795</td>\n",
       "      <td>0.867362</td>\n",
       "      <td>4.410573</td>\n",
       "      <td>1.558955</td>\n",
       "      <td>2.752800</td>\n",
       "      <td>-0.599015</td>\n",
       "      <td>1.918846</td>\n",
       "      <td>0.160242</td>\n",
       "      <td>-0.28749</td>\n",
       "      <td>1.163418</td>\n",
       "      <td>-0.717521</td>\n",
       "      <td>-0.334262</td>\n",
       "    </tr>\n",
       "    <tr>\n",
       "      <th>11859</th>\n",
       "      <td>-0.585520</td>\n",
       "      <td>-0.166025</td>\n",
       "      <td>0.975797</td>\n",
       "      <td>0.615795</td>\n",
       "      <td>0.867362</td>\n",
       "      <td>-0.809183</td>\n",
       "      <td>-0.470221</td>\n",
       "      <td>-0.426576</td>\n",
       "      <td>-0.599015</td>\n",
       "      <td>0.159765</td>\n",
       "      <td>0.160242</td>\n",
       "      <td>-0.28749</td>\n",
       "      <td>1.163418</td>\n",
       "      <td>0.727602</td>\n",
       "      <td>-0.334262</td>\n",
       "    </tr>\n",
       "    <tr>\n",
       "      <th>9276</th>\n",
       "      <td>-0.050274</td>\n",
       "      <td>0.915309</td>\n",
       "      <td>0.975797</td>\n",
       "      <td>0.615795</td>\n",
       "      <td>0.313751</td>\n",
       "      <td>-0.355292</td>\n",
       "      <td>2.111973</td>\n",
       "      <td>-0.426576</td>\n",
       "      <td>-0.599015</td>\n",
       "      <td>0.159765</td>\n",
       "      <td>0.160242</td>\n",
       "      <td>-0.28749</td>\n",
       "      <td>0.790596</td>\n",
       "      <td>0.727602</td>\n",
       "      <td>-0.334262</td>\n",
       "    </tr>\n",
       "  </tbody>\n",
       "</table>\n",
       "<p>3848 rows × 15 columns</p>\n",
       "</div>"
      ],
      "text/plain": [
       "           Levy  Prod. year  Category  Leather interior  Fuel type  \\\n",
       "736   -1.708489    0.554865 -1.175834         -1.623918   1.420974   \n",
       "8674   0.000000   -2.508915 -0.100019          0.615795  -1.347084   \n",
       "5971   0.000000   -2.689137  0.975797         -1.623918   0.867362   \n",
       "1957  -0.711461    0.554865 -0.817229          0.615795  -1.347084   \n",
       "11075 -0.207699    1.095532 -0.817229          0.615795   0.867362   \n",
       "...         ...         ...       ...               ...        ...   \n",
       "12026 -0.682600    0.915309  0.975797         -1.623918   0.867362   \n",
       "17893  0.000000   -1.427581 -0.100019         -1.623918  -1.347084   \n",
       "5339   3.935216   -0.166025  0.975797          0.615795   0.867362   \n",
       "11859 -0.585520   -0.166025  0.975797          0.615795   0.867362   \n",
       "9276  -0.050274    0.915309  0.975797          0.615795   0.313751   \n",
       "\n",
       "       Engine volume   Mileage  Cylinders  Gear box type  Drive wheels  \\\n",
       "736        -1.036129 -0.882218  -0.426576      -0.599015      0.159765   \n",
       "8674        0.665965 -1.599856   1.163112       0.517440      1.918846   \n",
       "5971       -0.582237  0.834113   2.752800       0.517440      1.918846   \n",
       "1957       -0.355292 -0.093719  -0.426576      -0.599015      0.159765   \n",
       "11075      -0.809183 -1.048049  -0.426576      -0.599015      0.159765   \n",
       "...              ...       ...        ...            ...           ...   \n",
       "12026      -1.036129 -1.533908  -0.426576       1.633895      0.159765   \n",
       "17893       0.098600  1.270687  -0.426576       0.517440      1.918846   \n",
       "5339        4.410573  1.558955   2.752800      -0.599015      1.918846   \n",
       "11859      -0.809183 -0.470221  -0.426576      -0.599015      0.159765   \n",
       "9276       -0.355292  2.111973  -0.426576      -0.599015      0.159765   \n",
       "\n",
       "          Doors    Wheel     Color   Airbags  Turbo engine  \n",
       "736    0.160242 -0.28749  0.790596 -1.130414     -0.334262  \n",
       "8674  -4.480204 -0.28749  0.604185  0.314710      2.991661  \n",
       "5971   0.160242 -0.28749 -0.327871  0.314710     -0.334262  \n",
       "1957   0.160242 -0.28749 -0.141460  0.727602     -0.334262  \n",
       "11075  0.160242 -0.28749  1.163418  0.727602     -0.334262  \n",
       "...         ...      ...       ...       ...           ...  \n",
       "12026  0.160242 -0.28749 -0.700694 -0.717521      2.991661  \n",
       "17893  0.160242 -0.28749  1.163418  0.314710      2.991661  \n",
       "5339   0.160242 -0.28749  1.163418 -0.717521     -0.334262  \n",
       "11859  0.160242 -0.28749  1.163418  0.727602     -0.334262  \n",
       "9276   0.160242 -0.28749  0.790596  0.727602     -0.334262  \n",
       "\n",
       "[3848 rows x 15 columns]"
      ]
     },
     "execution_count": 202,
     "metadata": {},
     "output_type": "execute_result"
    }
   ],
   "source": [
    "x_test"
   ]
  },
  {
   "cell_type": "code",
   "execution_count": 203,
   "metadata": {
    "execution": {
     "iopub.execute_input": "2021-07-21T15:18:40.609730Z",
     "iopub.status.busy": "2021-07-21T15:18:40.609389Z",
     "iopub.status.idle": "2021-07-21T15:18:40.627098Z",
     "shell.execute_reply": "2021-07-21T15:18:40.626365Z",
     "shell.execute_reply.started": "2021-07-21T15:18:40.609703Z"
    },
    "id": "abc6n1Bemv4G",
    "outputId": "816174a9-fc4c-4fe2-a1ca-00e6ce939f96"
   },
   "outputs": [
    {
     "data": {
      "text/plain": [
       "LinearRegression()"
      ]
     },
     "execution_count": 203,
     "metadata": {},
     "output_type": "execute_result"
    }
   ],
   "source": [
    "lr=LinearRegression()\n",
    "lr.fit(x_train,y_train)\n"
   ]
  },
  {
   "cell_type": "code",
   "execution_count": 204,
   "metadata": {
    "execution": {
     "iopub.execute_input": "2021-07-21T15:18:40.629312Z",
     "iopub.status.busy": "2021-07-21T15:18:40.629019Z",
     "iopub.status.idle": "2021-07-21T15:18:40.646616Z",
     "shell.execute_reply": "2021-07-21T15:18:40.645478Z",
     "shell.execute_reply.started": "2021-07-21T15:18:40.629283Z"
    },
    "id": "L87xDyWOmyOd",
    "outputId": "e55d030c-29da-422f-e6fd-09788a8d08a5"
   },
   "outputs": [
    {
     "name": "stdout",
     "output_type": "stream",
     "text": [
      "Mean Absolute Error is 12931.812791427783\n",
      "Mean Squared Error is 18240.921999406724\n",
      "R squared Score is -0.06782686239331692\n",
      "Mean Absolute Logarithmic Error is 0.729066334019895\n"
     ]
    }
   ],
   "source": [
    "y_pred = lr.predict(x_test)\n",
    "\n",
    "\n",
    "print(\"Mean Absolute Error is\",mean_absolute_error(y_test,y_pred))\n",
    "print(\"Mean Squared Error is\",np.sqrt(mean_squared_error(y_test,y_pred)))\n",
    "print(\"R squared Score is\",r2_score(y_test,y_pred))\n",
    "print(\"Mean Absolute Logarithmic Error is\",np.square(np.log10(y_pred +1) - np.log10(y_test +1)).mean() ** 0.5)"
   ]
  },
  {
   "cell_type": "code",
   "execution_count": null,
   "metadata": {},
   "outputs": [],
   "source": []
  },
  {
   "cell_type": "markdown",
   "metadata": {
    "id": "IijMzduV0dw8"
   },
   "source": [
    "## **LIghtGBM**"
   ]
  },
  {
   "cell_type": "code",
   "execution_count": 205,
   "metadata": {
    "execution": {
     "iopub.execute_input": "2021-07-21T15:18:40.648485Z",
     "iopub.status.busy": "2021-07-21T15:18:40.648083Z",
     "iopub.status.idle": "2021-07-21T15:18:40.657478Z",
     "shell.execute_reply": "2021-07-21T15:18:40.656383Z",
     "shell.execute_reply.started": "2021-07-21T15:18:40.648446Z"
    },
    "id": "BrK2irvp0tNE"
   },
   "outputs": [],
   "source": [
    "from sklearn.base import BaseEstimator, TransformerMixin, RegressorMixin, clone\n",
    "from sklearn.kernel_ridge import KernelRidge\n",
    "from sklearn.ensemble import GradientBoostingRegressor\n",
    "from sklearn.pipeline import make_pipeline\n",
    "from sklearn.preprocessing import RobustScaler\n",
    "from sklearn.linear_model import ElasticNet, Lasso\n",
    "import lightgbm as lgb\n",
    "from sklearn.model_selection import KFold\n",
    "from sklearn.ensemble import RandomForestRegressor"
   ]
  },
  {
   "cell_type": "code",
   "execution_count": 230,
   "metadata": {
    "execution": {
     "iopub.execute_input": "2021-07-21T15:28:55.609430Z",
     "iopub.status.busy": "2021-07-21T15:28:55.609067Z",
     "iopub.status.idle": "2021-07-21T15:28:56.877065Z",
     "shell.execute_reply": "2021-07-21T15:28:56.876020Z",
     "shell.execute_reply.started": "2021-07-21T15:28:55.609399Z"
    }
   },
   "outputs": [
    {
     "name": "stdout",
     "output_type": "stream",
     "text": [
      "Mean Absolute Error is 10791.304787315574\n",
      "Mean Squared Error is 31564362030.211308\n",
      "R squared Score is -76.96927084723187\n",
      "Mean Absolute Logarithmic Error is 0.6136349854262129\n"
     ]
    }
   ],
   "source": [
    "rf = RandomForestRegressor(max_depth = 6,\n",
    "        n_estimators= 60)  \n",
    "\n",
    "rf.fit(x_train,y_train)\n",
    "\n",
    "y_pred01 = rf.predict(x_test)\n",
    "\n",
    "print(\"Mean Absolute Error is\",mean_absolute_error(y_test,y_pred01))\n",
    "print(\"Mean Squared Error is\",mean_squared_error(y_test,y_pred01))\n",
    "print(\"R squared Score is\",r2_score(y_test,y_pred2))\n",
    "print(\"Mean Absolute Logarithmic Error is\",np.square(np.log10(y_pred01 +1) - np.log10(y_test +1)).mean() ** 0.5)"
   ]
  },
  {
   "cell_type": "code",
   "execution_count": 231,
   "metadata": {
    "execution": {
     "iopub.execute_input": "2021-07-21T15:29:15.641681Z",
     "iopub.status.busy": "2021-07-21T15:29:15.641294Z",
     "iopub.status.idle": "2021-07-21T15:29:16.805180Z",
     "shell.execute_reply": "2021-07-21T15:29:16.804461Z",
     "shell.execute_reply.started": "2021-07-21T15:29:15.641646Z"
    }
   },
   "outputs": [
    {
     "name": "stdout",
     "output_type": "stream",
     "text": [
      "[15:29:15] WARNING: ../src/objective/regression_obj.cu:171: reg:linear is now deprecated in favor of reg:squarederror.\n",
      "[15:29:15] WARNING: ../src/learner.cc:573: \n",
      "Parameters: { \"silent\" } might not be used.\n",
      "\n",
      "  This may not be accurate due to some parameters are only used in language bindings but\n",
      "  passed down to XGBoost core.  Or some parameters are not used but slip through this\n",
      "  verification. Please open an issue if you find above cases.\n",
      "\n",
      "\n",
      "Mean Absolute Error is 8777.851779597464\n",
      "Mean Squared Error is 52970417467.89068\n",
      "R squared Score is -76.96927084723187\n",
      "Mean Absolute Logarithmic Error is 0.44926300752693327\n"
     ]
    }
   ],
   "source": [
    "xgb = XGBRegressor(max_depth = 9,\n",
    "    learning_rate=0.5,\n",
    "        silent= 1, \n",
    "        objective= 'reg:linear',  \n",
    "        eval_metric= 'rmse',\n",
    "        )\n",
    "\n",
    "xgb.fit(x_train,y_train)\n",
    "\n",
    "y_pred0 = xgb.predict(x_test)\n",
    "\n",
    "print(\"Mean Absolute Error is\",mean_absolute_error(y_test,y_pred0))\n",
    "print(\"Mean Squared Error is\",mean_squared_error(y_test,y_pred0))\n",
    "print(\"R squared Score is\",r2_score(y_test,y_pred2))\n",
    "print(\"Mean Absolute Logarithmic Error is\",np.square(np.log10(y_pred0 +1) - np.log10(y_test +1)).mean() ** 0.5)"
   ]
  },
  {
   "cell_type": "code",
   "execution_count": 206,
   "metadata": {
    "execution": {
     "iopub.execute_input": "2021-07-21T15:18:40.661520Z",
     "iopub.status.busy": "2021-07-21T15:18:40.659367Z",
     "iopub.status.idle": "2021-07-21T15:18:41.639649Z",
     "shell.execute_reply": "2021-07-21T15:18:41.638898Z",
     "shell.execute_reply.started": "2021-07-21T15:18:40.661463Z"
    },
    "id": "LfJ3OCatmyQm",
    "outputId": "7f82d0a0-10fc-43c0-ecc2-6252caefa976"
   },
   "outputs": [
    {
     "name": "stdout",
     "output_type": "stream",
     "text": [
      "Mean Absolute Error is 17588.372477267483\n",
      "Mean Squared Error is 24294960845.234604\n",
      "R squared Score is -76.96927084723187\n",
      "Mean Absolute Logarithmic Error is 0.6152269039748771\n"
     ]
    }
   ],
   "source": [
    "model_lgb = lgb.LGBMRegressor(objective='regression',n_estimators=720)\n",
    "model_lgb.fit(x_train, y_train)\n",
    "\n",
    "y_pred2 = model_lgb.predict(x_test)\n",
    "\n",
    "print(\"Mean Absolute Error is\",mean_absolute_error(y_test,y_pred2))\n",
    "print(\"Mean Squared Error is\",mean_squared_error(y_test,y_pred2))\n",
    "print(\"R squared Score is\",r2_score(y_test,y_pred2))\n",
    "print(\"Mean Absolute Logarithmic Error is\",np.square(np.log10(y_pred2 +1) - np.log10(y_test +1)).mean() ** 0.5)"
   ]
  },
  {
   "cell_type": "code",
   "execution_count": 233,
   "metadata": {
    "execution": {
     "iopub.execute_input": "2021-07-21T15:31:45.479174Z",
     "iopub.status.busy": "2021-07-21T15:31:45.478810Z",
     "iopub.status.idle": "2021-07-21T15:31:45.490343Z",
     "shell.execute_reply": "2021-07-21T15:31:45.489003Z",
     "shell.execute_reply.started": "2021-07-21T15:31:45.479140Z"
    }
   },
   "outputs": [
    {
     "name": "stdout",
     "output_type": "stream",
     "text": [
      "Mean Absolute Error is 11529.099861073117\n",
      "Mean Squared Error is 27493534669.342285\n",
      "R squared Score is -87.23438180606\n",
      "Mean Absolute Logarithmic Error is 0.5732873013404947\n"
     ]
    }
   ],
   "source": [
    "y_ens = (0.33*y_pred01 + 0.34*y_pred0  + 0.33* y_pred2)\n",
    "print(\"Mean Absolute Error is\",mean_absolute_error(y_test,y_ens))\n",
    "print(\"Mean Squared Error is\",mean_squared_error(y_test,y_ens))\n",
    "print(\"R squared Score is\",r2_score(y_test,y_ens))\n",
    "print(\"Mean Absolute Logarithmic Error is\",np.square(np.log10(y_ens +1) - np.log10(y_test +1)).mean() ** 0.5)"
   ]
  },
  {
   "cell_type": "markdown",
   "metadata": {
    "id": "zTxUSrkHnSn4"
   },
   "source": [
    "## **Ridge and Lasso**"
   ]
  },
  {
   "cell_type": "code",
   "execution_count": 207,
   "metadata": {
    "execution": {
     "iopub.execute_input": "2021-07-21T15:18:41.641171Z",
     "iopub.status.busy": "2021-07-21T15:18:41.640743Z",
     "iopub.status.idle": "2021-07-21T15:18:41.645098Z",
     "shell.execute_reply": "2021-07-21T15:18:41.644359Z",
     "shell.execute_reply.started": "2021-07-21T15:18:41.641130Z"
    },
    "id": "f7xYLPeSmyUL"
   },
   "outputs": [],
   "source": [
    "from sklearn.linear_model import Ridge,Lasso"
   ]
  },
  {
   "cell_type": "code",
   "execution_count": 208,
   "metadata": {
    "execution": {
     "iopub.execute_input": "2021-07-21T15:18:41.646533Z",
     "iopub.status.busy": "2021-07-21T15:18:41.646075Z",
     "iopub.status.idle": "2021-07-21T15:18:44.362495Z",
     "shell.execute_reply": "2021-07-21T15:18:44.361399Z",
     "shell.execute_reply.started": "2021-07-21T15:18:41.646501Z"
    },
    "id": "BmEdGpprmyWh",
    "outputId": "d6a60ed9-fe8b-4f03-b72e-88c36e00adf9"
   },
   "outputs": [
    {
     "name": "stdout",
     "output_type": "stream",
     "text": [
      "Fitting 5 folds for each of 24 candidates, totalling 120 fits\n"
     ]
    },
    {
     "name": "stderr",
     "output_type": "stream",
     "text": [
      "[Parallel(n_jobs=-1)]: Using backend LokyBackend with 4 concurrent workers.\n",
      "[Parallel(n_jobs=-1)]: Done  24 tasks      | elapsed:    2.1s\n",
      "[Parallel(n_jobs=-1)]: Done 120 out of 120 | elapsed:    2.6s finished\n"
     ]
    }
   ],
   "source": [
    "pipe = Pipeline([('classifier',Ridge())])\n",
    "grid_param = [{\"classifier__alpha\": [0.1,0.5,1,100],\n",
    "               \"classifier__solver\":['auto', 'svd', 'cholesky'],\n",
    "               \"classifier__fit_intercept\":[True,False]}]\n",
    "\n",
    "gridsearch = GridSearchCV(pipe, grid_param, cv=5, verbose=3,n_jobs=-1)\n",
    "best_model = gridsearch.fit(x_train,y_train)"
   ]
  },
  {
   "cell_type": "code",
   "execution_count": 209,
   "metadata": {
    "execution": {
     "iopub.execute_input": "2021-07-21T15:18:44.369225Z",
     "iopub.status.busy": "2021-07-21T15:18:44.366968Z",
     "iopub.status.idle": "2021-07-21T15:18:44.380528Z",
     "shell.execute_reply": "2021-07-21T15:18:44.379550Z",
     "shell.execute_reply.started": "2021-07-21T15:18:44.369164Z"
    },
    "id": "P5ZDE6JxmyZN",
    "outputId": "0752c307-f992-4351-ce0d-51fa7c36f771"
   },
   "outputs": [
    {
     "data": {
      "text/plain": [
       "Pipeline(steps=[('classifier', Ridge(alpha=100))])"
      ]
     },
     "execution_count": 209,
     "metadata": {},
     "output_type": "execute_result"
    }
   ],
   "source": [
    "gridsearch.best_estimator_"
   ]
  },
  {
   "cell_type": "code",
   "execution_count": 210,
   "metadata": {
    "execution": {
     "iopub.execute_input": "2021-07-21T15:18:44.387244Z",
     "iopub.status.busy": "2021-07-21T15:18:44.384997Z",
     "iopub.status.idle": "2021-07-21T15:18:44.407970Z",
     "shell.execute_reply": "2021-07-21T15:18:44.407080Z",
     "shell.execute_reply.started": "2021-07-21T15:18:44.387194Z"
    },
    "id": "JFzzoEZjmyb3",
    "outputId": "f795c201-15de-4793-99aa-da8db4d1135e"
   },
   "outputs": [
    {
     "name": "stdout",
     "output_type": "stream",
     "text": [
      "Mean Absolute Error is 12904.06926950364\n",
      "Mean Squared Error is 18207.979309236274\n",
      "R squared Score is -0.06397340312486932\n",
      "Mean Absolute Logarithmic Error is 0.7271019653194059\n"
     ]
    }
   ],
   "source": [
    "y_pred = best_model.predict(x_test)\n",
    "print(\"Mean Absolute Error is\",mean_absolute_error(y_test,y_pred))\n",
    "print(\"Mean Squared Error is\",np.sqrt(mean_squared_error(y_test,y_pred)))\n",
    "print(\"R squared Score is\",r2_score(y_test,y_pred))\n",
    "print(\"Mean Absolute Logarithmic Error is\",np.square(np.log10(y_pred +1) - np.log10(y_test +1)).mean() ** 0.5)"
   ]
  },
  {
   "cell_type": "markdown",
   "metadata": {
    "id": "8VEUjOVkoLdO"
   },
   "source": [
    "## **Lasso**"
   ]
  },
  {
   "cell_type": "code",
   "execution_count": 211,
   "metadata": {
    "execution": {
     "iopub.execute_input": "2021-07-21T15:18:44.414182Z",
     "iopub.status.busy": "2021-07-21T15:18:44.411935Z",
     "iopub.status.idle": "2021-07-21T15:18:47.160630Z",
     "shell.execute_reply": "2021-07-21T15:18:47.159898Z",
     "shell.execute_reply.started": "2021-07-21T15:18:44.414112Z"
    },
    "id": "daf9a148",
    "outputId": "39eeba94-aa9f-4015-fca7-6ea5c4ef4318"
   },
   "outputs": [
    {
     "name": "stderr",
     "output_type": "stream",
     "text": [
      "[Parallel(n_jobs=-1)]: Using backend LokyBackend with 4 concurrent workers.\n"
     ]
    },
    {
     "name": "stdout",
     "output_type": "stream",
     "text": [
      "Fitting 5 folds for each of 20 candidates, totalling 100 fits\n"
     ]
    },
    {
     "name": "stderr",
     "output_type": "stream",
     "text": [
      "[Parallel(n_jobs=-1)]: Done  24 tasks      | elapsed:    2.1s\n",
      "[Parallel(n_jobs=-1)]: Done 100 out of 100 | elapsed:    2.6s finished\n"
     ]
    }
   ],
   "source": [
    "pipe = Pipeline([('classifier',Lasso())])\n",
    "grid_param = [{\"classifier__alpha\": [0,0.01,0.1,0.5,1],\n",
    "               \"classifier__selection\":['cyclic', 'random'],\n",
    "               \"classifier__fit_intercept\":[True,False]}]\n",
    "\n",
    "gridsearch = GridSearchCV(pipe, grid_param, cv=5, verbose=3,n_jobs=-1)\n",
    "best_model = gridsearch.fit(x_train,y_train)"
   ]
  },
  {
   "cell_type": "code",
   "execution_count": 212,
   "metadata": {
    "execution": {
     "iopub.execute_input": "2021-07-21T15:18:47.161994Z",
     "iopub.status.busy": "2021-07-21T15:18:47.161615Z",
     "iopub.status.idle": "2021-07-21T15:18:47.185986Z",
     "shell.execute_reply": "2021-07-21T15:18:47.184898Z",
     "shell.execute_reply.started": "2021-07-21T15:18:47.161966Z"
    },
    "id": "9nT-ZS-8oHLX",
    "outputId": "01cb8387-2137-4ad0-a287-8813b6bdb5ec"
   },
   "outputs": [
    {
     "name": "stdout",
     "output_type": "stream",
     "text": [
      "Mean Absolute Error is 12930.842644690825\n",
      "Mean Squared Error is 18240.03584368068\n",
      "R squared Score is -0.06772311348154769\n",
      "Mean Absolute Logarithmic Error is 0.7286626452194513\n"
     ]
    }
   ],
   "source": [
    "y_pred = best_model.predict(x_test)\n",
    "print(\"Mean Absolute Error is\",mean_absolute_error(y_test,y_pred))\n",
    "print(\"Mean Squared Error is\",np.sqrt(mean_squared_error(y_test,y_pred)))\n",
    "print(\"R squared Score is\",r2_score(y_test,y_pred))\n",
    "print(\"Mean Absolute Logarithmic Error is\",np.square(np.log10(y_pred +1) - np.log10(y_test +1)).mean() ** 0.5)"
   ]
  },
  {
   "cell_type": "markdown",
   "metadata": {
    "id": "E3nzkGb7y1gW"
   },
   "source": []
  },
  {
   "cell_type": "markdown",
   "metadata": {
    "id": "PNW-ugeOy1rD"
   },
   "source": [
    "## **Gradient Boosting**"
   ]
  },
  {
   "cell_type": "code",
   "execution_count": 234,
   "metadata": {
    "id": "sj0cNVcooHNH",
    "outputId": "304be2c5-310c-433b-bcd0-0f98307ba095"
   },
   "outputs": [
    {
     "name": "stdout",
     "output_type": "stream",
     "text": [
      "Mean Absolute Error is 12658.113228442211\n",
      "Mean Squared Error is 42218.992611525544\n",
      "R squared Score is -4.720355270708423\n",
      "Mean Absolute Logarithmic Error is 0.6622064094170341\n"
     ]
    }
   ],
   "source": [
    "from sklearn.ensemble import GradientBoostingRegressor\n",
    "gradboost = GradientBoostingRegressor(random_state=0)\n",
    "gradboost.fit(x_train,y_train)\n",
    "gradboost.predict(x_test)\n",
    "\n",
    "\n",
    "y_pred = gradboost.predict(x_test)\n",
    "print(\"Mean Absolute Error is\",mean_absolute_error(y_test,y_pred))\n",
    "print(\"Mean Squared Error is\",np.sqrt(mean_squared_error(y_test,y_pred)))\n",
    "print(\"R squared Score is\",r2_score(y_test,y_pred))\n",
    "print(\"Mean Absolute Logarithmic Error is\",np.square(np.log10(y_pred +1) - np.log10(y_test +1)).mean() ** 0.5)"
   ]
  },
  {
   "cell_type": "markdown",
   "metadata": {
    "id": "_vmq7nrypR_N"
   },
   "source": []
  },
  {
   "cell_type": "code",
   "execution_count": null,
   "metadata": {
    "id": "OxLkKXbSmykL"
   },
   "outputs": [],
   "source": []
  },
  {
   "cell_type": "markdown",
   "metadata": {
    "id": "YjIGxlhBqK9a"
   },
   "source": [
    "## **Lasso**"
   ]
  },
  {
   "cell_type": "code",
   "execution_count": 214,
   "metadata": {
    "execution": {
     "iopub.execute_input": "2021-07-21T15:18:47.194322Z",
     "iopub.status.busy": "2021-07-21T15:18:47.193525Z",
     "iopub.status.idle": "2021-07-21T15:18:47.200428Z",
     "shell.execute_reply": "2021-07-21T15:18:47.199526Z",
     "shell.execute_reply.started": "2021-07-21T15:18:47.194243Z"
    },
    "id": "_h2NQTGXp3Hm",
    "outputId": "39e75734-17ae-4f13-edf2-ee8352501cb0"
   },
   "outputs": [],
   "source": [
    "# pipe = Pipeline([('classifier',Lasso())])\n",
    "# grid_param = [{\"classifier__alpha\": [0,0.01,0.1,0.5,1],\n",
    "#                \"classifier__selection\":['cyclic', 'random'],\n",
    "#                \"classifier__fit_intercept\":[True,False]}]\n",
    "\n",
    "# gridsearch = GridSearchCV(pipe, grid_param, cv=5, verbose=3,n_jobs=-1)\n",
    "# best_model = gridsearch.fit(x_train,y_train)\n",
    "# y_pred = best_model.predict(x_test)\n",
    "# print(\"Mean Absolute Error is\",mean_absolute_error(y_test,y_pred))\n",
    "# print(\"Mean Squared Error is\",np.sqrt(mean_squared_error(y_test,y_pred)))\n",
    "# print(\"R squared Score is\",r2_score(y_test,y_pred))\n",
    "# print(\"Mean Absolute Logarithmic Error is\",np.square(np.log10(y_pred +1) - np.log10(y_test +1)).mean() ** 0.5)\n"
   ]
  },
  {
   "cell_type": "markdown",
   "metadata": {
    "id": "dP_agngDqKJi"
   },
   "source": [
    "## **Ridge**"
   ]
  },
  {
   "cell_type": "code",
   "execution_count": 215,
   "metadata": {
    "execution": {
     "iopub.execute_input": "2021-07-21T15:18:47.202424Z",
     "iopub.status.busy": "2021-07-21T15:18:47.201860Z",
     "iopub.status.idle": "2021-07-21T15:18:47.208722Z",
     "shell.execute_reply": "2021-07-21T15:18:47.207791Z",
     "shell.execute_reply.started": "2021-07-21T15:18:47.202385Z"
    },
    "id": "Mev03ws1p3Kf",
    "outputId": "bfbd666c-634d-49af-9b72-2a8434af5780"
   },
   "outputs": [],
   "source": [
    "# pipe = Pipeline([('classifier',Ridge())])\n",
    "# grid_param = [{\"classifier__alpha\": [0.1,0.5,1,100],\n",
    "#                \"classifier__solver\":['auto', 'svd', 'cholesky'],\n",
    "#                \"classifier__fit_intercept\":[True,False]}]\n",
    "\n",
    "# gridsearch = GridSearchCV(pipe, grid_param, cv=5, verbose=3,n_jobs=-1)\n",
    "# best_model = gridsearch.fit(x_train,y_train)\n",
    "\n",
    "\n",
    "# y_pred = best_model.predict(x_test)\n",
    "# print(\"Mean Absolute Error is\",mean_absolute_error(y_test,y_pred))\n",
    "# print(\"Mean Squared Error is\",np.sqrt(mean_squared_error(y_test,y_pred)))\n",
    "# print(\"R squared Score is\",r2_score(y_test,y_pred))\n",
    "# print(\"Mean Absolute Logarithmic Error is\",np.square(np.log10(y_pred +1) - np.log10(y_test +1)).mean() ** 0.5)\n"
   ]
  },
  {
   "cell_type": "markdown",
   "metadata": {
    "id": "zy92VXOkqfHK"
   },
   "source": [
    "## **Gradient Boosting**"
   ]
  },
  {
   "cell_type": "code",
   "execution_count": 216,
   "metadata": {
    "execution": {
     "iopub.execute_input": "2021-07-21T15:18:47.211096Z",
     "iopub.status.busy": "2021-07-21T15:18:47.210311Z",
     "iopub.status.idle": "2021-07-21T15:18:47.220372Z",
     "shell.execute_reply": "2021-07-21T15:18:47.219387Z",
     "shell.execute_reply.started": "2021-07-21T15:18:47.211055Z"
    },
    "id": "VFaxcnxdp3Mu",
    "outputId": "a80e6509-1971-424a-d47f-3975aad89e4f"
   },
   "outputs": [],
   "source": [
    "# gradboost = GradientBoostingRegressor(random_state=0)\n",
    "# gradboost.fit(x_train,y_train)\n",
    "# gradboost.predict(x_test)\n",
    "\n",
    "\n",
    "# y_pred = gradboost.predict(x_test)\n",
    "# print(\"Mean Absolute Error is\",mean_absolute_error(y_test,y_pred))\n",
    "# print(\"Mean Squared Error is\",np.sqrt(mean_squared_error(y_test,y_pred)))\n",
    "# print(\"R squared Score is\",r2_score(y_test,y_pred))\n",
    "# print(\"Mean Absolute Logarithmic Error is\",np.square(np.log10(y_pred +1) - np.log10(y_test +1)).mean() ** 0.5)"
   ]
  },
  {
   "cell_type": "code",
   "execution_count": 217,
   "metadata": {
    "execution": {
     "iopub.execute_input": "2021-07-21T15:18:47.222762Z",
     "iopub.status.busy": "2021-07-21T15:18:47.222049Z",
     "iopub.status.idle": "2021-07-21T15:18:47.229570Z",
     "shell.execute_reply": "2021-07-21T15:18:47.228535Z",
     "shell.execute_reply.started": "2021-07-21T15:18:47.222712Z"
    },
    "id": "Zmxfjpvlp3O1"
   },
   "outputs": [],
   "source": [
    "# x_poly_check  = train.copy()"
   ]
  },
  {
   "cell_type": "code",
   "execution_count": 218,
   "metadata": {
    "execution": {
     "iopub.execute_input": "2021-07-21T15:18:47.232130Z",
     "iopub.status.busy": "2021-07-21T15:18:47.231310Z",
     "iopub.status.idle": "2021-07-21T15:18:47.238122Z",
     "shell.execute_reply": "2021-07-21T15:18:47.237101Z",
     "shell.execute_reply.started": "2021-07-21T15:18:47.232083Z"
    },
    "id": "MzJwZkZRp3Qm"
   },
   "outputs": [],
   "source": [
    "# # Fitting Polynomial Regression to the dataset\n",
    "# from sklearn.preprocessing import PolynomialFeatures\n",
    "  \n",
    "# poly = PolynomialFeatures(degree = 3)\n",
    "# X_poly = poly.fit_transform(x_poly_check)\n"
   ]
  },
  {
   "cell_type": "code",
   "execution_count": 219,
   "metadata": {
    "execution": {
     "iopub.execute_input": "2021-07-21T15:18:47.240673Z",
     "iopub.status.busy": "2021-07-21T15:18:47.239878Z",
     "iopub.status.idle": "2021-07-21T15:18:47.246572Z",
     "shell.execute_reply": "2021-07-21T15:18:47.245579Z",
     "shell.execute_reply.started": "2021-07-21T15:18:47.240624Z"
    },
    "id": "FPGl9Qxbp3SZ"
   },
   "outputs": [],
   "source": [
    "# x_train,x_test,y_train,y_test=train_test_split(X_poly,y,test_size=0.2,random_state=42)"
   ]
  },
  {
   "cell_type": "markdown",
   "metadata": {
    "id": "7pJmjo7qWS1f"
   },
   "source": [
    "## **Ridge**"
   ]
  },
  {
   "cell_type": "code",
   "execution_count": 220,
   "metadata": {
    "execution": {
     "iopub.execute_input": "2021-07-21T15:18:47.248966Z",
     "iopub.status.busy": "2021-07-21T15:18:47.248254Z",
     "iopub.status.idle": "2021-07-21T15:18:47.255303Z",
     "shell.execute_reply": "2021-07-21T15:18:47.254182Z",
     "shell.execute_reply.started": "2021-07-21T15:18:47.248922Z"
    },
    "id": "QvWyU1Sap3UP",
    "outputId": "f3aa2fdf-1e6f-49c8-a224-4ab8c2bf025d"
   },
   "outputs": [],
   "source": [
    "# pipe = Pipeline([('classifier',Ridge())])\n",
    "# grid_param = [{\"classifier__alpha\": [0.1,0.5,1,100],\n",
    "#                \"classifier__solver\":['auto', 'svd', 'cholesky'],\n",
    "#                \"classifier__fit_intercept\":[True,False]}]\n",
    "\n",
    "# gridsearch = GridSearchCV(pipe, grid_param, cv=5, verbose=3,n_jobs=-1)\n",
    "# best_model = gridsearch.fit(x_train,y_train)\n",
    "\n",
    "\n",
    "# y_pred = best_model.predict(x_test)\n",
    "# print(\"Mean Absolute Error is\",mean_absolute_error(y_test,y_pred))\n",
    "# print(\"Mean Squared Error is\",np.sqrt(mean_squared_error(y_test,y_pred)))\n",
    "# print(\"R squared Score is\",r2_score(y_test,y_pred))\n",
    "# print(\"Mean Absolute Logarithmic Error is\",np.square(np.log10(y_pred +1) - np.log10(y_test +1)).mean() ** 0.5)\n"
   ]
  },
  {
   "cell_type": "markdown",
   "metadata": {
    "id": "VKzOBfGeWZG1"
   },
   "source": [
    "## **Lasso**"
   ]
  },
  {
   "cell_type": "code",
   "execution_count": 221,
   "metadata": {
    "execution": {
     "iopub.execute_input": "2021-07-21T15:18:47.257749Z",
     "iopub.status.busy": "2021-07-21T15:18:47.256959Z",
     "iopub.status.idle": "2021-07-21T15:18:47.267765Z",
     "shell.execute_reply": "2021-07-21T15:18:47.266644Z",
     "shell.execute_reply.started": "2021-07-21T15:18:47.257699Z"
    },
    "id": "U7pNLVRQp3XL",
    "outputId": "93b204a9-dc07-42b3-f39b-ac2cf0a7b199"
   },
   "outputs": [],
   "source": [
    "# pipe = Pipeline([('classifier',Lasso())])\n",
    "# grid_param = [{\"classifier__alpha\": [0,0.01,0.1,0.5,1],\n",
    "#                \"classifier__selection\":['cyclic', 'random'],\n",
    "#                \"classifier__fit_intercept\":[True,False]}]\n",
    "\n",
    "# gridsearch = GridSearchCV(pipe, grid_param, cv=5, verbose=3,n_jobs=-1)\n",
    "# best_model = gridsearch.fit(x_train,y_train)\n",
    "# y_pred = best_model.predict(x_test)\n",
    "# print(\"Mean Absolute Error is\",mean_absolute_error(y_test,y_pred))\n",
    "# print(\"Mean Squared Error is\",np.sqrt(mean_squared_error(y_test,y_pred)))\n",
    "# print(\"R squared Score is\",r2_score(y_test,y_pred))\n",
    "# print(\"Mean Absolute Logarithmic Error is\",np.square(np.log10(y_pred +1) - np.log10(y_test +1)).mean() ** 0.5)\n"
   ]
  },
  {
   "cell_type": "markdown",
   "metadata": {
    "id": "vbUKcMFVYf-D"
   },
   "source": [
    "## **Linear Regression**"
   ]
  },
  {
   "cell_type": "code",
   "execution_count": 222,
   "metadata": {
    "execution": {
     "iopub.execute_input": "2021-07-21T15:18:47.270636Z",
     "iopub.status.busy": "2021-07-21T15:18:47.269792Z",
     "iopub.status.idle": "2021-07-21T15:18:47.275591Z",
     "shell.execute_reply": "2021-07-21T15:18:47.274554Z",
     "shell.execute_reply.started": "2021-07-21T15:18:47.270584Z"
    },
    "id": "K-pvzT-OV0Ac",
    "outputId": "599dbd16-6512-4b7e-86e3-d7b8ef8cde8a"
   },
   "outputs": [],
   "source": [
    "# lr=LinearRegression()\n",
    "# lr.fit(x_train,y_train)\n",
    "# lr.predict(x_test)\n",
    "\n",
    "# y_pred = lr.predict(x_test)\n",
    "# print(\"Mean Absolute Error is\",mean_absolute_error(y_test,y_pred))\n",
    "# print(\"Mean Squared Error is\",np.sqrt(mean_squared_error(y_test,y_pred)))\n",
    "# print(\"R squared Score is\",r2_score(y_test,y_pred))\n",
    "# print(\"Mean Absolute Logarithmic Error is\",np.square(np.log10(y_pred +1) - np.log10(y_test +1)).mean() ** 0.5)\n"
   ]
  },
  {
   "cell_type": "code",
   "execution_count": null,
   "metadata": {
    "id": "M7Q_T00nXqH4"
   },
   "outputs": [],
   "source": []
  }
 ],
 "metadata": {
  "kernelspec": {
   "display_name": "Python 3",
   "language": "python",
   "name": "python3"
  },
  "language_info": {
   "codemirror_mode": {
    "name": "ipython",
    "version": 3
   },
   "file_extension": ".py",
   "mimetype": "text/x-python",
   "name": "python",
   "nbconvert_exporter": "python",
   "pygments_lexer": "ipython3",
   "version": "3.8.11"
  }
 },
 "nbformat": 4,
 "nbformat_minor": 4
}
