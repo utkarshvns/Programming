{
 "cells": [
  {
   "cell_type": "code",
   "execution_count": 19,
   "metadata": {
    "execution": {
     "iopub.execute_input": "2021-05-31T11:32:06.622575Z",
     "iopub.status.busy": "2021-05-31T11:32:06.622097Z",
     "iopub.status.idle": "2021-05-31T11:32:06.644056Z",
     "shell.execute_reply": "2021-05-31T11:32:06.643132Z",
     "shell.execute_reply.started": "2021-05-31T11:32:06.622527Z"
    },
    "id": "7v8yhijkz9_r"
   },
   "outputs": [],
   "source": [
    "from __future__ import print_function\n",
    "import argparse\n",
    "import torch\n",
    "import torch.nn as nn\n",
    "import torch.nn.functional as F\n",
    "import torch.optim as optim\n",
    "import matplotlib.pyplot as plt\n",
    "from torchvision import datasets, transforms\n",
    "from torch.optim.lr_scheduler import StepLR\n",
    "import argparse"
   ]
  },
  {
   "cell_type": "code",
   "execution_count": 20,
   "metadata": {
    "execution": {
     "iopub.execute_input": "2021-05-31T11:32:06.647654Z",
     "iopub.status.busy": "2021-05-31T11:32:06.645601Z",
     "iopub.status.idle": "2021-05-31T11:32:06.681026Z",
     "shell.execute_reply": "2021-05-31T11:32:06.679300Z",
     "shell.execute_reply.started": "2021-05-31T11:32:06.647610Z"
    },
    "id": "XNZBCSpC0pmY"
   },
   "outputs": [],
   "source": [
    "class Net(nn.Module):\n",
    "    def __init__(self):\n",
    "        super(Net, self).__init__()\n",
    "        self.conv1 = nn.Conv2d(3, 6, kernel_size=5)\n",
    "        self.pool = nn.MaxPool2d(2, 2)\n",
    "        self.conv2 = nn.Conv2d(6, 6, kernel_size =5)\n",
    "        self.fc1 = nn.Linear(6*5*5, 120)\n",
    "        self.fc2 = nn.Linear(120, 84 )\n",
    "        self.fc3 = nn.Linear(84, 10)\n",
    "\n",
    "    def forward(self, x):\n",
    "        x = self.pool(F.relu(self.conv1(x)))\n",
    "        x = self.pool(F.relu(self.conv2(x)))\n",
    "        x = torch.flatten(x, 1) # flatten all dimensions except batch\n",
    "        x = F.relu(self.fc1(x))\n",
    "        x = F.relu(self.fc2(x))\n",
    "        x = self.fc3(x)\n",
    "        return x \n",
    "\n",
    "def convfc():\n",
    "    model_arch = Net()\n",
    "    return model_arch"
   ]
  },
  {
   "cell_type": "code",
   "execution_count": 21,
   "metadata": {
    "execution": {
     "iopub.execute_input": "2021-05-31T11:32:06.684070Z",
     "iopub.status.busy": "2021-05-31T11:32:06.683467Z",
     "iopub.status.idle": "2021-05-31T11:32:12.458357Z",
     "shell.execute_reply": "2021-05-31T11:32:12.457395Z",
     "shell.execute_reply.started": "2021-05-31T11:32:06.684034Z"
    },
    "id": "s5IRMvLU1CR1"
   },
   "outputs": [
    {
     "name": "stdout",
     "output_type": "stream",
     "text": [
      "Note: you may need to restart the kernel to use updated packages.\n"
     ]
    }
   ],
   "source": [
    "import torch\n",
    "import torch.nn as nn\n",
    "import torch.optim as optim\n",
    "import torch.nn.functional as F\n",
    "import torch.backends.cudnn as cudnn\n",
    "import pandas as pd\n",
    "import numpy as np\n",
    "import torchvision\n",
    "import torchvision.transforms as transforms\n",
    "from torch.utils.data.sampler import SubsetRandomSampler\n",
    "import os\n",
    "import argparse\n",
    "import seaborn as sns\n",
    "import matplotlib.pyplot as plt\n",
    "import torchvision.models as models\n",
    "%pip install wandb -q\n",
    "import wandb\n",
    "# import Fadml_Assignment_model"
   ]
  },
  {
   "cell_type": "code",
   "execution_count": 22,
   "metadata": {
    "execution": {
     "iopub.execute_input": "2021-05-31T11:32:12.460850Z",
     "iopub.status.busy": "2021-05-31T11:32:12.460276Z",
     "iopub.status.idle": "2021-05-31T11:32:12.466760Z",
     "shell.execute_reply": "2021-05-31T11:32:12.465735Z",
     "shell.execute_reply.started": "2021-05-31T11:32:12.460806Z"
    },
    "id": "G690V8GW1rvB"
   },
   "outputs": [],
   "source": [
    "device = 'cuda' if torch.cuda.is_available() else 'cpu'\n",
    "best_acc = 0  # best test accuracy"
   ]
  },
  {
   "cell_type": "code",
   "execution_count": 23,
   "metadata": {
    "execution": {
     "iopub.execute_input": "2021-05-31T11:32:12.468920Z",
     "iopub.status.busy": "2021-05-31T11:32:12.468228Z",
     "iopub.status.idle": "2021-05-31T11:32:12.475603Z",
     "shell.execute_reply": "2021-05-31T11:32:12.474628Z",
     "shell.execute_reply.started": "2021-05-31T11:32:12.468881Z"
    },
    "id": "5JQO7_zpvaLk",
    "outputId": "5e5c9265-7632-4fab-f2bf-e646e644a3ae"
   },
   "outputs": [],
   "source": [
    "# wandb.init(project=\"pytorch-CIFAR\",reinit=True)\n",
    "# wandb.watch_called = False # Re-run the model without restarting the runtime, unnecessary after our next release"
   ]
  },
  {
   "cell_type": "code",
   "execution_count": 24,
   "metadata": {
    "execution": {
     "iopub.execute_input": "2021-05-31T11:32:12.478799Z",
     "iopub.status.busy": "2021-05-31T11:32:12.478219Z",
     "iopub.status.idle": "2021-05-31T11:32:12.485768Z",
     "shell.execute_reply": "2021-05-31T11:32:12.484751Z",
     "shell.execute_reply.started": "2021-05-31T11:32:12.478761Z"
    },
    "id": "xj4MZeiX3FqD",
    "outputId": "ee01568f-fc7f-433d-922e-bb43e7fb3198"
   },
   "outputs": [
    {
     "data": {
      "text/plain": [
       "'cuda'"
      ]
     },
     "execution_count": 24,
     "metadata": {},
     "output_type": "execute_result"
    }
   ],
   "source": [
    "device"
   ]
  },
  {
   "cell_type": "code",
   "execution_count": 25,
   "metadata": {
    "execution": {
     "iopub.execute_input": "2021-05-31T11:32:12.488459Z",
     "iopub.status.busy": "2021-05-31T11:32:12.487712Z",
     "iopub.status.idle": "2021-05-31T11:32:12.497724Z",
     "shell.execute_reply": "2021-05-31T11:32:12.496721Z",
     "shell.execute_reply.started": "2021-05-31T11:32:12.488423Z"
    },
    "id": "kARCDfSF23bQ",
    "outputId": "a093568f-4afb-4ff3-9f87-1cd5eaf278de"
   },
   "outputs": [
    {
     "name": "stdout",
     "output_type": "stream",
     "text": [
      "Data transformation\n"
     ]
    }
   ],
   "source": [
    "# Data\n",
    "print('Data transformation')\n",
    "transform_train = transforms.Compose([\n",
    "    transforms.RandomCrop(32, padding=4),\n",
    "    transforms.RandomHorizontalFlip(),\n",
    "    transforms.ToTensor(),\n",
    "    transforms.Normalize((0.4914, 0.4822, 0.4465), (0.2023, 0.1994, 0.2010)),\n",
    "])\n",
    "\n",
    "transform_test = transforms.Compose([\n",
    "    transforms.ToTensor(),\n",
    "    transforms.Normalize((0.4914, 0.4822, 0.4465), (0.2023, 0.1994, 0.2010)),\n",
    "])"
   ]
  },
  {
   "cell_type": "code",
   "execution_count": 26,
   "metadata": {
    "execution": {
     "iopub.execute_input": "2021-05-31T11:32:12.499946Z",
     "iopub.status.busy": "2021-05-31T11:32:12.499390Z",
     "iopub.status.idle": "2021-05-31T11:32:14.101269Z",
     "shell.execute_reply": "2021-05-31T11:32:14.100394Z",
     "shell.execute_reply.started": "2021-05-31T11:32:12.499910Z"
    },
    "id": "yn-YQRkQ2_n_",
    "outputId": "d17bddeb-68b4-4eb5-b078-349884ef4c59"
   },
   "outputs": [
    {
     "name": "stdout",
     "output_type": "stream",
     "text": [
      "Files already downloaded and verified\n",
      "Files already downloaded and verified\n"
     ]
    }
   ],
   "source": [
    "validation_split = .2\n",
    "shuffle_dataset = True\n",
    "random_seed= 42\n",
    "\n",
    "\n",
    "trainset = torchvision.datasets.CIFAR10(\n",
    "    root='./data', train=True, download=True, transform=transform_train)\n",
    "\n",
    "# Creating data indices for training and validation splits:\n",
    "dataset_size = len(trainset)\n",
    "indices = list(range(dataset_size))\n",
    "split = int(np.floor(validation_split * dataset_size))\n",
    "if shuffle_dataset :\n",
    "    np.random.seed(random_seed)\n",
    "    np.random.shuffle(indices)\n",
    "train_indices, val_indices = indices[split:], indices[:split]\n",
    "\n",
    "# Creating train and valid sampler\n",
    "train_sampler = SubsetRandomSampler(train_indices)\n",
    "valid_sampler = SubsetRandomSampler(val_indices)\n",
    "\n",
    "\n",
    "trainloader = torch.utils.data.DataLoader(\n",
    "    trainset, batch_size=128,num_workers=2,sampler=train_sampler)\n",
    "\n",
    "validationloader = torch.utils.data.DataLoader(\n",
    "    trainset, batch_size=128, num_workers=2,sampler=valid_sampler)\n",
    "\n",
    "testset = torchvision.datasets.CIFAR10(\n",
    "    root='./data', train=False, download=True, transform=transform_test)\n",
    "testloader = torch.utils.data.DataLoader(\n",
    "    testset, batch_size=100, shuffle=False, num_workers=2)\n",
    "\n",
    "classes = ('plane', 'car', 'bird', 'cat', 'deer',\n",
    "           'dog', 'frog', 'horse', 'ship', 'truck')"
   ]
  },
  {
   "cell_type": "code",
   "execution_count": 27,
   "metadata": {
    "execution": {
     "iopub.execute_input": "2021-05-31T11:32:14.102999Z",
     "iopub.status.busy": "2021-05-31T11:32:14.102572Z",
     "iopub.status.idle": "2021-05-31T11:32:14.109540Z",
     "shell.execute_reply": "2021-05-31T11:32:14.108554Z",
     "shell.execute_reply.started": "2021-05-31T11:32:14.102956Z"
    },
    "id": "LzRjEeOUh7X7",
    "outputId": "4f465838-e209-431a-fc61-8efc1aa086ea"
   },
   "outputs": [
    {
     "data": {
      "text/plain": [
       "<torch.utils.data.dataloader.DataLoader at 0x7f4604344f90>"
      ]
     },
     "execution_count": 27,
     "metadata": {},
     "output_type": "execute_result"
    }
   ],
   "source": [
    "trainloader"
   ]
  },
  {
   "cell_type": "code",
   "execution_count": 28,
   "metadata": {
    "execution": {
     "iopub.execute_input": "2021-05-31T11:32:14.111204Z",
     "iopub.status.busy": "2021-05-31T11:32:14.110857Z",
     "iopub.status.idle": "2021-05-31T11:32:14.118409Z",
     "shell.execute_reply": "2021-05-31T11:32:14.117516Z",
     "shell.execute_reply.started": "2021-05-31T11:32:14.111170Z"
    },
    "id": "LZQTE91M3Ccb",
    "outputId": "9d4c002c-ab19-4356-c3e5-bf58364bcf93"
   },
   "outputs": [],
   "source": [
    "# #Model\n",
    "# print('Model creation')\n",
    "# net =Net()\n",
    "# net = net.to(device)"
   ]
  },
  {
   "cell_type": "code",
   "execution_count": 49,
   "metadata": {
    "execution": {
     "iopub.execute_input": "2021-05-31T13:20:58.948858Z",
     "iopub.status.busy": "2021-05-31T13:20:58.948487Z",
     "iopub.status.idle": "2021-05-31T13:20:58.966068Z",
     "shell.execute_reply": "2021-05-31T13:20:58.962758Z",
     "shell.execute_reply.started": "2021-05-31T13:20:58.948821Z"
    },
    "id": "JvVF213n3Kxw"
   },
   "outputs": [],
   "source": [
    "# Training\n",
    "def train(epoch,net,criterion,optimizer,mse=False):\n",
    "    print('\\nEpoch: %d' % epoch)\n",
    "    net.train()\n",
    "\n",
    "    running_loss = 0.0\n",
    "    val_running_loss = 0.0\n",
    "    for batch_idx, (inputs, targets) in enumerate(trainloader):\n",
    "        inputs, targets = inputs.to(device), targets.to(device)\n",
    "        # Write your code here\n",
    "        # zero the parameter gradients\n",
    "        optimizer.zero_grad()\n",
    "\n",
    "        # forward + backward + optimize\n",
    "        outputs = net(inputs).to(device)\n",
    "        \n",
    "        if mse == False:\n",
    "            loss = criterion(outputs, targets)\n",
    "\n",
    "        else:\n",
    "            batch_target_one_hot_encoded = torch.nn.functional.one_hot(targets, 10).float()\n",
    "            loss = criterion(outputs, batch_target_one_hot_encoded)\n",
    "\n",
    "        loss.backward()\n",
    "        optimizer.step()\n",
    "        running_loss += loss.item()\n",
    "    running_loss_history.append(running_loss)\n",
    "    #Write training losses to losstrain.txt for each epoch\n",
    "    ## Creating a dictionary to store the epoch and the losses corresponding to that\n",
    "    losstrain={'epoch': [epoch],'loss':[running_loss]}\n",
    "    ## Making a dataframe from this dictionary\n",
    "    loss_df = pd.DataFrame.from_dict(losstrain)\n",
    "    ## Making a txt file from this dataframe\n",
    "    loss_df.to_csv(r'train_loss.txt', header=None, index=None, sep=' ', mode='a')\n",
    "    print('Finished Training')\n",
    "    print('Training Loss: %d' % running_loss)\n",
    "    wandb.log({\"Epoch\":epoch,\"Training Loss\": running_loss})\n",
    "\n",
    "    with torch.no_grad(): # we do not need gradient for validation.\n",
    "      for val_inputs, val_labels in validationloader:\n",
    "        val_inputs = val_inputs.to(device)\n",
    "        val_labels = val_labels.to(device)\n",
    "        val_outputs = net(val_inputs)\n",
    "        \n",
    "        if mse == False:\n",
    "            val_loss = criterion(val_outputs, val_labels)\n",
    "        else:\n",
    "            batch_target_one_hot_encoded = torch.nn.functional.one_hot(val_labels, 10).float()\n",
    "            val_loss = criterion(val_outputs, batch_target_one_hot_encoded)\n",
    "        \n",
    "        ##val_loss = criterion(val_outputs, val_labels)\n",
    "        \n",
    "        _, val_preds = torch.max(val_outputs, 1)\n",
    "        val_running_loss += val_loss.item()\n",
    "    val_running_loss_history.append(val_running_loss)\n",
    "    wandb.log({\"Epoch\":epoch,\"Validation Loss\": val_running_loss})"
   ]
  },
  {
   "cell_type": "code",
   "execution_count": 50,
   "metadata": {
    "execution": {
     "iopub.execute_input": "2021-05-31T13:20:59.553643Z",
     "iopub.status.busy": "2021-05-31T13:20:59.553235Z",
     "iopub.status.idle": "2021-05-31T13:21:02.267887Z",
     "shell.execute_reply": "2021-05-31T13:21:02.266873Z",
     "shell.execute_reply.started": "2021-05-31T13:20:59.553609Z"
    }
   },
   "outputs": [],
   "source": [
    "! rm -rf ./losstest.txt\n",
    "! rm -rf ./cifar_net.pth\n",
    "! rm -rf ./train_loss.txt\n",
    "! rm -rf ./test_accuracy.txt"
   ]
  },
  {
   "cell_type": "code",
   "execution_count": 51,
   "metadata": {
    "execution": {
     "iopub.execute_input": "2021-05-31T13:21:04.930189Z",
     "iopub.status.busy": "2021-05-31T13:21:04.929824Z",
     "iopub.status.idle": "2021-05-31T13:21:04.944434Z",
     "shell.execute_reply": "2021-05-31T13:21:04.943217Z",
     "shell.execute_reply.started": "2021-05-31T13:21:04.930131Z"
    },
    "id": "8Aq5-COygscR"
   },
   "outputs": [],
   "source": [
    "def test(epoch,net,criterion,mse):\n",
    "  global best_acc\n",
    "  net.eval()\n",
    "  total = 0\n",
    "  correct = 0\n",
    "  test_loss = 0\n",
    "  test_images = []\n",
    "  print('\\nEpoch: %d' % epoch)\n",
    "  with torch.no_grad():\n",
    "      for batch_idx, (inputs, targets) in enumerate(testloader):\n",
    "          inputs, targets = inputs.to(device), targets.to(device)\n",
    "          ## Giving input to the model\n",
    "          outputs = net(inputs)\n",
    "            \n",
    "          if mse == False:\n",
    "            loss = criterion(outputs, targets)\n",
    "\n",
    "          else:\n",
    "            batch_target_one_hot_encoded = torch.nn.functional.one_hot(targets, 10).float()\n",
    "            loss = criterion(outputs, batch_target_one_hot_encoded)\n",
    "            \n",
    "          ## Predicting on the input data\n",
    "          _, predicted = torch.max(outputs.data, 1)\n",
    "          ## Defining the total size of the target\n",
    "          total += targets.size(0)\n",
    "          ## Getting the total number of correctly classified labels\n",
    "          test_loss += loss.item()\n",
    "          correct += (predicted == targets).sum().item()\n",
    "          ## Appending images to image list\n",
    "          test_images.append(wandb.Image(inputs[0], caption=\"Pred: {} Truth: {}\".format(predicted[0].item(), targets[0])))\n",
    "          ## Getting the accuracy of the model\n",
    "      model_accuracy = 100 * correct / total\n",
    "      print('Testing Accuracy: %d ' % model_accuracy)\n",
    "      print('\\n')\n",
    "      ## Checking whether the accuracy is better than the best accuracy\n",
    "      if model_accuracy>best_acc:\n",
    "      ## Saving the new value of best_accuracy\n",
    "        best_acc = model_accuracy\n",
    "        ## Saving the model\n",
    "        # Save checkpoint for the model which yields best accuracy\n",
    "        PATH = './cifar_net.pth'\n",
    "        torch.save(net.state_dict(), PATH)\n",
    "          # Write test set losses to losstest.txt for each epoch\n",
    "      df={'epoch': [epoch],'loss':[test_loss]}\n",
    "      data = pd.DataFrame.from_dict(df)\n",
    "      data.to_csv(r'losstest.txt', header=None, index=None, sep=' ', mode='a')\n",
    "      #Write test set accuracies to acctest.txt for each epoch\n",
    "      testaccuracy={'epoch': [epoch],'test_accuracy':[model_accuracy]}\n",
    "      ## Making a dataframe from this dictionary\n",
    "      accuracy_df = pd.DataFrame.from_dict(testaccuracy)\n",
    "      ## Making a txt file from this dataframe\n",
    "      accuracy_df.to_csv(r'test_accuracy.txt', header=None, index=None, sep=' ', mode='a')\n",
    "      wandb.log({\"Epoch\":epoch,\"Testing_images\": test_images,\"Test Accuracy\": 100. * correct / len(testloader.dataset),\"Test Loss\": test_loss})   \n",
    "  # Write test set losses to losstest.txt for each epoch"
   ]
  },
  {
   "cell_type": "code",
   "execution_count": 52,
   "metadata": {
    "execution": {
     "iopub.execute_input": "2021-05-31T13:21:16.973241Z",
     "iopub.status.busy": "2021-05-31T13:21:16.972880Z",
     "iopub.status.idle": "2021-05-31T13:21:16.981359Z",
     "shell.execute_reply": "2021-05-31T13:21:16.980006Z",
     "shell.execute_reply.started": "2021-05-31T13:21:16.973205Z"
    },
    "id": "Fh1_cHzNKANv"
   },
   "outputs": [],
   "source": [
    "def training_testing(net,criterion,optimizer,mse):\n",
    "  n_epochs_stop = 3\n",
    "  epochs_no_improve = 0\n",
    "  for epoch in range(0,50):\n",
    "    print(\"Model Training\")\n",
    "    train(epoch,net,criterion,optimizer,mse)\n",
    "    if val_running_loss_history[epoch]>val_running_loss_history[epoch-1]:\n",
    "      if(epochs_no_improve<n_epochs_stop):\n",
    "        epochs_no_improve+=1\n",
    "      else:\n",
    "        break\n",
    "    else:\n",
    "      epochs_no_improve=0\n",
    "    print(\"\\n Model Testing\")\n",
    "    test(epoch,net,criterion,mse)"
   ]
  },
  {
   "cell_type": "code",
   "execution_count": 53,
   "metadata": {
    "execution": {
     "iopub.execute_input": "2021-05-31T13:21:21.007947Z",
     "iopub.status.busy": "2021-05-31T13:21:21.007589Z",
     "iopub.status.idle": "2021-05-31T13:21:21.021432Z",
     "shell.execute_reply": "2021-05-31T13:21:21.017978Z",
     "shell.execute_reply.started": "2021-05-31T13:21:21.007914Z"
    },
    "id": "exkYOhgYBHFB"
   },
   "outputs": [],
   "source": [
    "def predict_with_best_param(net):\n",
    "  ## Loading the best model parameters \n",
    "  PATH ='./cifar_net.pth'\n",
    "  net.load_state_dict(torch.load(PATH))\n",
    "  # prepare to count predictions for each class\n",
    "  correct_pred = {classname: 0 for classname in classes}\n",
    "  total_pred = {classname: 0 for classname in classes}\n",
    "\n",
    "  # again no gradients needed\n",
    "  with torch.no_grad():\n",
    "      for batch_id, (images, labels) in enumerate(testloader):\n",
    "          images, labels = images.to(device), labels.to(device)\n",
    "          outputs = net(images)\n",
    "          _, predictions = torch.max(outputs, 1)\n",
    "          # collect the correct predictions for each class\n",
    "          for label, prediction in zip(labels, predictions):\n",
    "              if label == prediction:   \n",
    "                  correct_pred[classes[label]] += 1\n",
    "              total_pred[classes[label]] += 1\n",
    "\n",
    "\n",
    "  # print accuracy for each class\n",
    "  for classname, correct_count in correct_pred.items():\n",
    "      accuracy = 100 * float(correct_count) / total_pred[classname]\n",
    "      print(\"Accuracy for class {:5s} is: {:.1f} %\".format(classname,\n",
    "                                                    accuracy))"
   ]
  },
  {
   "cell_type": "code",
   "execution_count": 54,
   "metadata": {
    "execution": {
     "iopub.execute_input": "2021-05-31T13:21:24.407005Z",
     "iopub.status.busy": "2021-05-31T13:21:24.406687Z",
     "iopub.status.idle": "2021-05-31T13:21:24.415685Z",
     "shell.execute_reply": "2021-05-31T13:21:24.414863Z",
     "shell.execute_reply.started": "2021-05-31T13:21:24.406975Z"
    },
    "id": "Xm9eqIxBOPs3"
   },
   "outputs": [],
   "source": [
    "def confusion_matrix_plot(net):\n",
    "  total_correct = 0\n",
    "  total_images = 0\n",
    "  confusion_matrix = np.zeros([10,10], int)\n",
    "  with torch.no_grad():\n",
    "      for batch_id, (images, labels) in enumerate(testloader):\n",
    "          images, labels = images.to(device), labels.to(device)\n",
    "          outputs = net(images)\n",
    "          _, predicted = torch.max(outputs.data, 1)\n",
    "          total_images += labels.size(0)\n",
    "          total_correct += (predicted == labels).sum().item()\n",
    "          for i, l in enumerate(labels):\n",
    "              confusion_matrix[l.item(), predicted[i].item()] += 1 \n",
    "\n",
    "  model_accuracy = total_correct / total_images * 100\n",
    "  print('Model accuracy on {0} test images: {1:.2f}%'.format(total_images, model_accuracy))\n",
    "  fig, ax = plt.subplots(1,1,figsize=(8,6))\n",
    "  sns.heatmap(confusion_matrix,annot = True,fmt='d', cmap=\"mako\")\n",
    "  plt.ylabel('Actual Category')\n",
    "  plt.yticks(range(10), classes)\n",
    "  plt.xlabel('Predicted Category')\n",
    "  plt.xticks(range(10), classes)\n",
    "  plt.show()"
   ]
  },
  {
   "cell_type": "code",
   "execution_count": 36,
   "metadata": {
    "execution": {
     "iopub.execute_input": "2021-05-31T11:32:39.602003Z",
     "iopub.status.busy": "2021-05-31T11:32:39.601649Z",
     "iopub.status.idle": "2021-05-31T11:51:57.593054Z",
     "shell.execute_reply": "2021-05-31T11:51:57.592121Z",
     "shell.execute_reply.started": "2021-05-31T11:32:39.601969Z"
    },
    "id": "1YQpkBkxLce6",
    "outputId": "fbe43241-6ce5-44c7-b99d-0e369d20bfab"
   },
   "outputs": [
    {
     "data": {
      "text/html": [
       "Finishing last run (ID:3fctajsp) before initializing another..."
      ],
      "text/plain": [
       "<IPython.core.display.HTML object>"
      ]
     },
     "metadata": {},
     "output_type": "display_data"
    },
    {
     "data": {
      "text/html": [
       "<br/>Waiting for W&B process to finish, PID 2550<br/>Program ended successfully."
      ],
      "text/plain": [
       "<IPython.core.display.HTML object>"
      ]
     },
     "metadata": {},
     "output_type": "display_data"
    },
    {
     "data": {
      "application/vnd.jupyter.widget-view+json": {
       "model_id": "747e226d75a8426c9e0af8bf1373f85a",
       "version_major": 2,
       "version_minor": 0
      },
      "text/plain": [
       "VBox(children=(Label(value=' 0.00MB of 0.00MB uploaded (0.00MB deduped)\\r'), FloatProgress(value=1.0, max=1.0)…"
      ]
     },
     "metadata": {},
     "output_type": "display_data"
    },
    {
     "data": {
      "text/html": [
       "Find user logs for this run at: <code>/kaggle/working/wandb/run-20210531_113214-3fctajsp/logs/debug.log</code>"
      ],
      "text/plain": [
       "<IPython.core.display.HTML object>"
      ]
     },
     "metadata": {},
     "output_type": "display_data"
    },
    {
     "data": {
      "text/html": [
       "Find internal logs for this run at: <code>/kaggle/working/wandb/run-20210531_113214-3fctajsp/logs/debug-internal.log</code>"
      ],
      "text/plain": [
       "<IPython.core.display.HTML object>"
      ]
     },
     "metadata": {},
     "output_type": "display_data"
    },
    {
     "data": {
      "text/html": [
       "<h3>Run summary:</h3><br/><style>\n",
       "    table.wandb td:nth-child(1) { padding: 0 10px; text-align: right }\n",
       "    </style><table class=\"wandb\">\n",
       "</table>"
      ],
      "text/plain": [
       "<IPython.core.display.HTML object>"
      ]
     },
     "metadata": {},
     "output_type": "display_data"
    },
    {
     "data": {
      "text/html": [
       "Synced 5 W&B file(s), 1 media file(s), 0 artifact file(s) and 0 other file(s)"
      ],
      "text/plain": [
       "<IPython.core.display.HTML object>"
      ]
     },
     "metadata": {},
     "output_type": "display_data"
    },
    {
     "data": {
      "text/html": [
       "\n",
       "                    <br/>Synced <strong style=\"color:#cdcd00\">charmed-donkey-2</strong>: <a href=\"https://wandb.ai/vatangl14/pytorch-CIFAR-Vatan_final_50epoch/runs/3fctajsp\" target=\"_blank\">https://wandb.ai/vatangl14/pytorch-CIFAR-Vatan_final_50epoch/runs/3fctajsp</a><br/>\n",
       "                "
      ],
      "text/plain": [
       "<IPython.core.display.HTML object>"
      ]
     },
     "metadata": {},
     "output_type": "display_data"
    },
    {
     "data": {
      "text/html": [
       "...Successfully finished last run (ID:3fctajsp). Initializing new run:<br/><br/>"
      ],
      "text/plain": [
       "<IPython.core.display.HTML object>"
      ]
     },
     "metadata": {},
     "output_type": "display_data"
    },
    {
     "name": "stderr",
     "output_type": "stream",
     "text": [
      "\u001b[34m\u001b[1mwandb\u001b[0m: wandb version 0.10.31 is available!  To upgrade, please run:\n",
      "\u001b[34m\u001b[1mwandb\u001b[0m:  $ pip install wandb --upgrade\n"
     ]
    },
    {
     "data": {
      "text/html": [
       "\n",
       "                Tracking run with wandb version 0.10.26<br/>\n",
       "                Syncing run <strong style=\"color:#cdcd00\">giddy-pine-3</strong> to <a href=\"https://wandb.ai\" target=\"_blank\">Weights & Biases</a> <a href=\"https://docs.wandb.com/integrations/jupyter.html\" target=\"_blank\">(Documentation)</a>.<br/>\n",
       "                Project page: <a href=\"https://wandb.ai/vatangl14/pytorch-CIFAR-Vatan_final_50epoch\" target=\"_blank\">https://wandb.ai/vatangl14/pytorch-CIFAR-Vatan_final_50epoch</a><br/>\n",
       "                Run page: <a href=\"https://wandb.ai/vatangl14/pytorch-CIFAR-Vatan_final_50epoch/runs/2abpru7h\" target=\"_blank\">https://wandb.ai/vatangl14/pytorch-CIFAR-Vatan_final_50epoch/runs/2abpru7h</a><br/>\n",
       "                Run data is saved locally in <code>/kaggle/working/wandb/run-20210531_113239-2abpru7h</code><br/><br/>\n",
       "            "
      ],
      "text/plain": [
       "<IPython.core.display.HTML object>"
      ]
     },
     "metadata": {},
     "output_type": "display_data"
    },
    {
     "name": "stdout",
     "output_type": "stream",
     "text": [
      "Model Training\n",
      "\n",
      "Epoch: 0\n",
      "Finished Training\n",
      "Training Loss: 719\n",
      "\n",
      " Model Testing\n",
      "\n",
      "Epoch: 0\n",
      "Testing Accuracy: 15 \n",
      "\n",
      "\n",
      "Model Training\n",
      "\n",
      "Epoch: 1\n",
      "Finished Training\n",
      "Training Loss: 683\n",
      "\n",
      " Model Testing\n",
      "\n",
      "Epoch: 1\n",
      "Testing Accuracy: 26 \n",
      "\n",
      "\n",
      "Model Training\n",
      "\n",
      "Epoch: 2\n",
      "Finished Training\n",
      "Training Loss: 632\n",
      "\n",
      " Model Testing\n",
      "\n",
      "Epoch: 2\n",
      "Testing Accuracy: 28 \n",
      "\n",
      "\n",
      "Model Training\n",
      "\n",
      "Epoch: 3\n",
      "Finished Training\n",
      "Training Loss: 608\n",
      "\n",
      " Model Testing\n",
      "\n",
      "Epoch: 3\n",
      "Testing Accuracy: 33 \n",
      "\n",
      "\n",
      "Model Training\n",
      "\n",
      "Epoch: 4\n",
      "Finished Training\n",
      "Training Loss: 583\n",
      "\n",
      " Model Testing\n",
      "\n",
      "Epoch: 4\n",
      "Testing Accuracy: 35 \n",
      "\n",
      "\n",
      "Model Training\n",
      "\n",
      "Epoch: 5\n",
      "Finished Training\n",
      "Training Loss: 566\n",
      "\n",
      " Model Testing\n",
      "\n",
      "Epoch: 5\n",
      "Testing Accuracy: 37 \n",
      "\n",
      "\n",
      "Model Training\n",
      "\n",
      "Epoch: 6\n",
      "Finished Training\n",
      "Training Loss: 556\n",
      "\n",
      " Model Testing\n",
      "\n",
      "Epoch: 6\n",
      "Testing Accuracy: 38 \n",
      "\n",
      "\n",
      "Model Training\n",
      "\n",
      "Epoch: 7\n",
      "Finished Training\n",
      "Training Loss: 545\n",
      "\n",
      " Model Testing\n",
      "\n",
      "Epoch: 7\n",
      "Testing Accuracy: 39 \n",
      "\n",
      "\n",
      "Model Training\n",
      "\n",
      "Epoch: 8\n",
      "Finished Training\n",
      "Training Loss: 534\n",
      "\n",
      " Model Testing\n",
      "\n",
      "Epoch: 8\n",
      "Testing Accuracy: 40 \n",
      "\n",
      "\n",
      "Model Training\n",
      "\n",
      "Epoch: 9\n",
      "Finished Training\n",
      "Training Loss: 523\n",
      "\n",
      " Model Testing\n",
      "\n",
      "Epoch: 9\n",
      "Testing Accuracy: 41 \n",
      "\n",
      "\n",
      "Model Training\n",
      "\n",
      "Epoch: 10\n",
      "Finished Training\n",
      "Training Loss: 514\n",
      "\n",
      " Model Testing\n",
      "\n",
      "Epoch: 10\n",
      "Testing Accuracy: 43 \n",
      "\n",
      "\n",
      "Model Training\n",
      "\n",
      "Epoch: 11\n",
      "Finished Training\n",
      "Training Loss: 505\n",
      "\n",
      " Model Testing\n",
      "\n",
      "Epoch: 11\n",
      "Testing Accuracy: 45 \n",
      "\n",
      "\n",
      "Model Training\n",
      "\n",
      "Epoch: 12\n",
      "Finished Training\n",
      "Training Loss: 498\n",
      "\n",
      " Model Testing\n",
      "\n",
      "Epoch: 12\n",
      "Testing Accuracy: 45 \n",
      "\n",
      "\n",
      "Model Training\n",
      "\n",
      "Epoch: 13\n",
      "Finished Training\n",
      "Training Loss: 490\n",
      "\n",
      " Model Testing\n",
      "\n",
      "Epoch: 13\n",
      "Testing Accuracy: 44 \n",
      "\n",
      "\n",
      "Model Training\n",
      "\n",
      "Epoch: 14\n",
      "Finished Training\n",
      "Training Loss: 483\n",
      "\n",
      " Model Testing\n",
      "\n",
      "Epoch: 14\n",
      "Testing Accuracy: 47 \n",
      "\n",
      "\n",
      "Model Training\n",
      "\n",
      "Epoch: 15\n",
      "Finished Training\n",
      "Training Loss: 479\n",
      "\n",
      " Model Testing\n",
      "\n",
      "Epoch: 15\n",
      "Testing Accuracy: 48 \n",
      "\n",
      "\n",
      "Model Training\n",
      "\n",
      "Epoch: 16\n",
      "Finished Training\n",
      "Training Loss: 473\n",
      "\n",
      " Model Testing\n",
      "\n",
      "Epoch: 16\n",
      "Testing Accuracy: 49 \n",
      "\n",
      "\n",
      "Model Training\n",
      "\n",
      "Epoch: 17\n",
      "Finished Training\n",
      "Training Loss: 466\n",
      "\n",
      " Model Testing\n",
      "\n",
      "Epoch: 17\n",
      "Testing Accuracy: 49 \n",
      "\n",
      "\n",
      "Model Training\n",
      "\n",
      "Epoch: 18\n",
      "Finished Training\n",
      "Training Loss: 463\n",
      "\n",
      " Model Testing\n",
      "\n",
      "Epoch: 18\n",
      "Testing Accuracy: 49 \n",
      "\n",
      "\n",
      "Model Training\n",
      "\n",
      "Epoch: 19\n",
      "Finished Training\n",
      "Training Loss: 460\n",
      "\n",
      " Model Testing\n",
      "\n",
      "Epoch: 19\n",
      "Testing Accuracy: 50 \n",
      "\n",
      "\n",
      "Model Training\n",
      "\n",
      "Epoch: 20\n",
      "Finished Training\n",
      "Training Loss: 455\n",
      "\n",
      " Model Testing\n",
      "\n",
      "Epoch: 20\n",
      "Testing Accuracy: 51 \n",
      "\n",
      "\n",
      "Model Training\n",
      "\n",
      "Epoch: 21\n",
      "Finished Training\n",
      "Training Loss: 451\n",
      "\n",
      " Model Testing\n",
      "\n",
      "Epoch: 21\n",
      "Testing Accuracy: 51 \n",
      "\n",
      "\n",
      "Model Training\n",
      "\n",
      "Epoch: 22\n",
      "Finished Training\n",
      "Training Loss: 447\n",
      "\n",
      " Model Testing\n",
      "\n",
      "Epoch: 22\n",
      "Testing Accuracy: 52 \n",
      "\n",
      "\n",
      "Model Training\n",
      "\n",
      "Epoch: 23\n",
      "Finished Training\n",
      "Training Loss: 443\n",
      "\n",
      " Model Testing\n",
      "\n",
      "Epoch: 23\n",
      "Testing Accuracy: 53 \n",
      "\n",
      "\n",
      "Model Training\n",
      "\n",
      "Epoch: 24\n",
      "Finished Training\n",
      "Training Loss: 439\n",
      "\n",
      " Model Testing\n",
      "\n",
      "Epoch: 24\n",
      "Testing Accuracy: 53 \n",
      "\n",
      "\n",
      "Model Training\n",
      "\n",
      "Epoch: 25\n",
      "Finished Training\n",
      "Training Loss: 437\n",
      "\n",
      " Model Testing\n",
      "\n",
      "Epoch: 25\n",
      "Testing Accuracy: 54 \n",
      "\n",
      "\n",
      "Model Training\n",
      "\n",
      "Epoch: 26\n",
      "Finished Training\n",
      "Training Loss: 431\n",
      "\n",
      " Model Testing\n",
      "\n",
      "Epoch: 26\n",
      "Testing Accuracy: 53 \n",
      "\n",
      "\n",
      "Model Training\n",
      "\n",
      "Epoch: 27\n",
      "Finished Training\n",
      "Training Loss: 429\n",
      "\n",
      " Model Testing\n",
      "\n",
      "Epoch: 27\n",
      "Testing Accuracy: 54 \n",
      "\n",
      "\n",
      "Model Training\n",
      "\n",
      "Epoch: 28\n",
      "Finished Training\n",
      "Training Loss: 426\n",
      "\n",
      " Model Testing\n",
      "\n",
      "Epoch: 28\n",
      "Testing Accuracy: 52 \n",
      "\n",
      "\n",
      "Model Training\n",
      "\n",
      "Epoch: 29\n",
      "Finished Training\n",
      "Training Loss: 422\n",
      "\n",
      " Model Testing\n",
      "\n",
      "Epoch: 29\n",
      "Testing Accuracy: 54 \n",
      "\n",
      "\n",
      "Model Training\n",
      "\n",
      "Epoch: 30\n",
      "Finished Training\n",
      "Training Loss: 420\n",
      "\n",
      " Model Testing\n",
      "\n",
      "Epoch: 30\n",
      "Testing Accuracy: 54 \n",
      "\n",
      "\n",
      "Model Training\n",
      "\n",
      "Epoch: 31\n",
      "Finished Training\n",
      "Training Loss: 415\n",
      "\n",
      " Model Testing\n",
      "\n",
      "Epoch: 31\n",
      "Testing Accuracy: 55 \n",
      "\n",
      "\n",
      "Model Training\n",
      "\n",
      "Epoch: 32\n",
      "Finished Training\n",
      "Training Loss: 415\n",
      "\n",
      " Model Testing\n",
      "\n",
      "Epoch: 32\n",
      "Testing Accuracy: 55 \n",
      "\n",
      "\n",
      "Model Training\n",
      "\n",
      "Epoch: 33\n",
      "Finished Training\n",
      "Training Loss: 412\n",
      "\n",
      " Model Testing\n",
      "\n",
      "Epoch: 33\n",
      "Testing Accuracy: 55 \n",
      "\n",
      "\n",
      "Model Training\n",
      "\n",
      "Epoch: 34\n",
      "Finished Training\n",
      "Training Loss: 409\n",
      "\n",
      " Model Testing\n",
      "\n",
      "Epoch: 34\n",
      "Testing Accuracy: 56 \n",
      "\n",
      "\n",
      "Model Training\n",
      "\n",
      "Epoch: 35\n",
      "Finished Training\n",
      "Training Loss: 407\n",
      "\n",
      " Model Testing\n",
      "\n",
      "Epoch: 35\n",
      "Testing Accuracy: 56 \n",
      "\n",
      "\n",
      "Model Training\n",
      "\n",
      "Epoch: 36\n",
      "Finished Training\n",
      "Training Loss: 405\n",
      "\n",
      " Model Testing\n",
      "\n",
      "Epoch: 36\n",
      "Testing Accuracy: 56 \n",
      "\n",
      "\n",
      "Model Training\n",
      "\n",
      "Epoch: 37\n",
      "Finished Training\n",
      "Training Loss: 401\n",
      "\n",
      " Model Testing\n",
      "\n",
      "Epoch: 37\n",
      "Testing Accuracy: 58 \n",
      "\n",
      "\n",
      "Model Training\n",
      "\n",
      "Epoch: 38\n",
      "Finished Training\n",
      "Training Loss: 402\n",
      "\n",
      " Model Testing\n",
      "\n",
      "Epoch: 38\n",
      "Testing Accuracy: 57 \n",
      "\n",
      "\n",
      "Model Training\n",
      "\n",
      "Epoch: 39\n",
      "Finished Training\n",
      "Training Loss: 399\n",
      "\n",
      " Model Testing\n",
      "\n",
      "Epoch: 39\n",
      "Testing Accuracy: 56 \n",
      "\n",
      "\n",
      "Model Training\n",
      "\n",
      "Epoch: 40\n",
      "Finished Training\n",
      "Training Loss: 398\n",
      "\n",
      " Model Testing\n",
      "\n",
      "Epoch: 40\n",
      "Testing Accuracy: 57 \n",
      "\n",
      "\n",
      "Model Training\n",
      "\n",
      "Epoch: 41\n",
      "Finished Training\n",
      "Training Loss: 397\n",
      "\n",
      " Model Testing\n",
      "\n",
      "Epoch: 41\n",
      "Testing Accuracy: 58 \n",
      "\n",
      "\n",
      "Model Training\n",
      "\n",
      "Epoch: 42\n",
      "Finished Training\n",
      "Training Loss: 396\n",
      "\n",
      " Model Testing\n",
      "\n",
      "Epoch: 42\n",
      "Testing Accuracy: 58 \n",
      "\n",
      "\n",
      "Model Training\n",
      "\n",
      "Epoch: 43\n",
      "Finished Training\n",
      "Training Loss: 394\n",
      "\n",
      " Model Testing\n",
      "\n",
      "Epoch: 43\n",
      "Testing Accuracy: 58 \n",
      "\n",
      "\n",
      "Model Training\n",
      "\n",
      "Epoch: 44\n",
      "Finished Training\n",
      "Training Loss: 393\n",
      "\n",
      " Model Testing\n",
      "\n",
      "Epoch: 44\n",
      "Testing Accuracy: 58 \n",
      "\n",
      "\n",
      "Model Training\n",
      "\n",
      "Epoch: 45\n",
      "Finished Training\n",
      "Training Loss: 390\n",
      "\n",
      " Model Testing\n",
      "\n",
      "Epoch: 45\n",
      "Testing Accuracy: 58 \n",
      "\n",
      "\n",
      "Model Training\n",
      "\n",
      "Epoch: 46\n",
      "Finished Training\n",
      "Training Loss: 391\n",
      "\n",
      " Model Testing\n",
      "\n",
      "Epoch: 46\n",
      "Testing Accuracy: 58 \n",
      "\n",
      "\n",
      "Model Training\n",
      "\n",
      "Epoch: 47\n",
      "Finished Training\n",
      "Training Loss: 388\n",
      "\n",
      " Model Testing\n",
      "\n",
      "Epoch: 47\n",
      "Testing Accuracy: 58 \n",
      "\n",
      "\n",
      "Model Training\n",
      "\n",
      "Epoch: 48\n",
      "Finished Training\n",
      "Training Loss: 387\n",
      "\n",
      " Model Testing\n",
      "\n",
      "Epoch: 48\n",
      "Testing Accuracy: 58 \n",
      "\n",
      "\n",
      "Model Training\n",
      "\n",
      "Epoch: 49\n",
      "Finished Training\n",
      "Training Loss: 386\n",
      "\n",
      " Model Testing\n",
      "\n",
      "Epoch: 49\n",
      "Testing Accuracy: 58 \n",
      "\n",
      "\n"
     ]
    }
   ],
   "source": [
    "run=wandb.init(project=\"pytorch-CIFAR-Vatan_final_50epoch\",reinit=True)\n",
    "wandb.watch_called = False # Re-run the model w\n",
    "net1 = convfc()\n",
    "wandb.watch(net1,log=\"all\")\n",
    "net1 = net1.to(device)\n",
    "running_loss_history = []\n",
    "val_running_loss_history = []\n",
    "### Defining a Loss function and optimizer for configuration 1\n",
    "criterion = nn.CrossEntropyLoss()\n",
    "optimizer = optim.SGD(net1.parameters(), lr=0.001, momentum=0.9)\n",
    "training_testing(net1,criterion,optimizer)"
   ]
  },
  {
   "cell_type": "code",
   "execution_count": 37,
   "metadata": {
    "execution": {
     "iopub.execute_input": "2021-05-31T12:09:40.761976Z",
     "iopub.status.busy": "2021-05-31T12:09:40.761453Z",
     "iopub.status.idle": "2021-05-31T12:09:43.381922Z",
     "shell.execute_reply": "2021-05-31T12:09:43.380974Z",
     "shell.execute_reply.started": "2021-05-31T12:09:40.761933Z"
    },
    "id": "NAU0PZhL7Xz2",
    "outputId": "cf60ab5f-52f3-4036-cd51-394f85ab541c"
   },
   "outputs": [
    {
     "name": "stdout",
     "output_type": "stream",
     "text": [
      "Accuracy for class plane is: 62.1 %\n",
      "Accuracy for class car   is: 82.4 %\n",
      "Accuracy for class bird  is: 40.9 %\n",
      "Accuracy for class cat   is: 39.6 %\n",
      "Accuracy for class deer  is: 40.5 %\n",
      "Accuracy for class dog   is: 55.0 %\n",
      "Accuracy for class frog  is: 73.8 %\n",
      "Accuracy for class horse is: 61.7 %\n",
      "Accuracy for class ship  is: 68.1 %\n",
      "Accuracy for class truck is: 64.2 %\n"
     ]
    }
   ],
   "source": [
    "predict_with_best_param(net1)"
   ]
  },
  {
   "cell_type": "code",
   "execution_count": 38,
   "metadata": {
    "execution": {
     "iopub.execute_input": "2021-05-31T12:09:43.387302Z",
     "iopub.status.busy": "2021-05-31T12:09:43.386898Z",
     "iopub.status.idle": "2021-05-31T12:09:46.545047Z",
     "shell.execute_reply": "2021-05-31T12:09:46.544046Z",
     "shell.execute_reply.started": "2021-05-31T12:09:43.387250Z"
    },
    "id": "g0ZC5FBh70Uo",
    "outputId": "0f0454c7-2aba-4716-e221-dee2236fc4e9"
   },
   "outputs": [
    {
     "name": "stdout",
     "output_type": "stream",
     "text": [
      "Model accuracy on 10000 test images: 58.83%\n"
     ]
    },
    {
     "data": {
      "image/png": "[encoded data removed]",
      "text/plain": [
       "<Figure size 576x432 with 2 Axes>"
      ]
     },
     "metadata": {
      "needs_background": "light"
     },
     "output_type": "display_data"
    }
   ],
   "source": [
    "confusion_matrix_plot(net1)"
   ]
  },
  {
   "cell_type": "code",
   "execution_count": null,
   "metadata": {
    "id": "pkgOgObMEGC7",
    "outputId": "5c56c0eb-dfbe-48d4-da25-a3f4048a4f09"
   },
   "outputs": [],
   "source": [
    "running_loss_history"
   ]
  },
  {
   "cell_type": "code",
   "execution_count": null,
   "metadata": {
    "id": "Z4PqJPNdGCdF",
    "outputId": "6e284059-ca7b-4d5c-f710-da381f8c6b52"
   },
   "outputs": [],
   "source": [
    "val_running_loss_history"
   ]
  },
  {
   "cell_type": "code",
   "execution_count": null,
   "metadata": {
    "execution": {
     "iopub.execute_input": "2021-05-29T03:09:29.967596Z",
     "iopub.status.busy": "2021-05-29T03:09:29.967263Z"
    },
    "id": "MeBf37aF_7Fk",
    "outputId": "3424d760-865d-4ee5-a885-6cb23fb0fd43"
   },
   "outputs": [],
   "source": [
    "run=wandb.init(project=\"pytorch-CIFAR-Vatan_500\",reinit=True)\n",
    "wandb.watch_called = False # Re-run the model w\n",
    "net2 = convfc()\n",
    "net2 = net2.to(device)\n",
    "wandb.watch(net2,log=\"all\")\n",
    "running_loss_history = []\n",
    "val_running_loss_history = []\n",
    "### Defining a Loss function and optimizer for configuration 2\n",
    "criterion = nn.CrossEntropyLoss()\n",
    "optimizer = optim.Adam(net2.parameters(), lr=0.001)\n",
    "training_testing(net2,criterion,optimizer)"
   ]
  },
  {
   "cell_type": "code",
   "execution_count": null,
   "metadata": {
    "execution": {
     "iopub.execute_input": "2021-05-31T13:22:44.359091Z",
     "iopub.status.busy": "2021-05-31T13:22:44.358708Z"
    },
    "id": "JUQE9seJOTO6"
   },
   "outputs": [
    {
     "data": {
      "text/html": [
       "Finishing last run (ID:jxmdwak1) before initializing another..."
      ],
      "text/plain": [
       "<IPython.core.display.HTML object>"
      ]
     },
     "metadata": {},
     "output_type": "display_data"
    },
    {
     "data": {
      "text/html": [
       "<br/>Waiting for W&B process to finish, PID 12846<br/>Program ended successfully."
      ],
      "text/plain": [
       "<IPython.core.display.HTML object>"
      ]
     },
     "metadata": {},
     "output_type": "display_data"
    },
    {
     "name": "stderr",
     "output_type": "stream",
     "text": [
      "\u001b[34m\u001b[1mwandb\u001b[0m: \u001b[32m\u001b[41mERROR\u001b[0m Control-C detected -- Run data was not synced\n"
     ]
    },
    {
     "data": {
      "text/html": [
       "...Successfully finished last run (ID:jxmdwak1). Initializing new run:<br/><br/>"
      ],
      "text/plain": [
       "<IPython.core.display.HTML object>"
      ]
     },
     "metadata": {},
     "output_type": "display_data"
    },
    {
     "name": "stderr",
     "output_type": "stream",
     "text": [
      "\u001b[34m\u001b[1mwandb\u001b[0m: wandb version 0.10.31 is available!  To upgrade, please run:\n",
      "\u001b[34m\u001b[1mwandb\u001b[0m:  $ pip install wandb --upgrade\n"
     ]
    },
    {
     "data": {
      "text/html": [
       "\n",
       "                Tracking run with wandb version 0.10.26<br/>\n",
       "                Syncing run <strong style=\"color:#cdcd00\">stellar-morning-6</strong> to <a href=\"https://wandb.ai\" target=\"_blank\">Weights & Biases</a> <a href=\"https://docs.wandb.com/integrations/jupyter.html\" target=\"_blank\">(Documentation)</a>.<br/>\n",
       "                Project page: <a href=\"https://wandb.ai/vatangl14/pytorch-CIFAR-Vatan_final_50epoch\" target=\"_blank\">https://wandb.ai/vatangl14/pytorch-CIFAR-Vatan_final_50epoch</a><br/>\n",
       "                Run page: <a href=\"https://wandb.ai/vatangl14/pytorch-CIFAR-Vatan_final_50epoch/runs/3ag8us5j\" target=\"_blank\">https://wandb.ai/vatangl14/pytorch-CIFAR-Vatan_final_50epoch/runs/3ag8us5j</a><br/>\n",
       "                Run data is saved locally in <code>/kaggle/working/wandb/run-20210531_132244-3ag8us5j</code><br/><br/>\n",
       "            "
      ],
      "text/plain": [
       "<IPython.core.display.HTML object>"
      ]
     },
     "metadata": {},
     "output_type": "display_data"
    },
    {
     "name": "stdout",
     "output_type": "stream",
     "text": [
      "Model Training\n",
      "\n",
      "Epoch: 0\n",
      "Finished Training\n",
      "Training Loss: 30\n",
      "\n",
      " Model Testing\n",
      "\n",
      "Epoch: 0\n",
      "Testing Accuracy: 11 \n",
      "\n",
      "\n",
      "Model Training\n",
      "\n",
      "Epoch: 1\n",
      "Finished Training\n",
      "Training Loss: 28\n",
      "\n",
      " Model Testing\n",
      "\n",
      "Epoch: 1\n",
      "Testing Accuracy: 13 \n",
      "\n",
      "\n",
      "Model Training\n",
      "\n",
      "Epoch: 2\n",
      "Finished Training\n",
      "Training Loss: 28\n",
      "\n",
      " Model Testing\n",
      "\n",
      "Epoch: 2\n",
      "Testing Accuracy: 14 \n",
      "\n",
      "\n",
      "Model Training\n",
      "\n",
      "Epoch: 3\n",
      "Finished Training\n",
      "Training Loss: 28\n",
      "\n",
      " Model Testing\n",
      "\n",
      "Epoch: 3\n",
      "Testing Accuracy: 16 \n",
      "\n",
      "\n",
      "Model Training\n",
      "\n",
      "Epoch: 4\n",
      "Finished Training\n",
      "Training Loss: 27\n",
      "\n",
      " Model Testing\n",
      "\n",
      "Epoch: 4\n",
      "Testing Accuracy: 18 \n",
      "\n",
      "\n",
      "Model Training\n",
      "\n",
      "Epoch: 5\n",
      "Finished Training\n",
      "Training Loss: 27\n",
      "\n",
      " Model Testing\n",
      "\n",
      "Epoch: 5\n",
      "Testing Accuracy: 19 \n",
      "\n",
      "\n",
      "Model Training\n",
      "\n",
      "Epoch: 6\n",
      "Finished Training\n",
      "Training Loss: 27\n",
      "\n",
      " Model Testing\n",
      "\n",
      "Epoch: 6\n",
      "Testing Accuracy: 20 \n",
      "\n",
      "\n",
      "Model Training\n",
      "\n",
      "Epoch: 7\n",
      "Finished Training\n",
      "Training Loss: 27\n",
      "\n",
      " Model Testing\n",
      "\n",
      "Epoch: 7\n",
      "Testing Accuracy: 21 \n",
      "\n",
      "\n",
      "Model Training\n",
      "\n",
      "Epoch: 8\n",
      "Finished Training\n",
      "Training Loss: 27\n",
      "\n",
      " Model Testing\n",
      "\n",
      "Epoch: 8\n",
      "Testing Accuracy: 21 \n",
      "\n",
      "\n",
      "Model Training\n",
      "\n",
      "Epoch: 9\n",
      "Finished Training\n",
      "Training Loss: 27\n",
      "\n",
      " Model Testing\n",
      "\n",
      "Epoch: 9\n",
      "Testing Accuracy: 22 \n",
      "\n",
      "\n",
      "Model Training\n",
      "\n",
      "Epoch: 10\n",
      "Finished Training\n",
      "Training Loss: 27\n",
      "\n",
      " Model Testing\n",
      "\n",
      "Epoch: 10\n",
      "Testing Accuracy: 23 \n",
      "\n",
      "\n",
      "Model Training\n",
      "\n",
      "Epoch: 11\n",
      "Finished Training\n",
      "Training Loss: 27\n",
      "\n",
      " Model Testing\n",
      "\n",
      "Epoch: 11\n",
      "Testing Accuracy: 23 \n",
      "\n",
      "\n",
      "Model Training\n",
      "\n",
      "Epoch: 12\n",
      "Finished Training\n",
      "Training Loss: 26\n",
      "\n",
      " Model Testing\n",
      "\n",
      "Epoch: 12\n",
      "Testing Accuracy: 24 \n",
      "\n",
      "\n",
      "Model Training\n",
      "\n",
      "Epoch: 13\n",
      "Finished Training\n",
      "Training Loss: 26\n",
      "\n",
      " Model Testing\n",
      "\n",
      "Epoch: 13\n",
      "Testing Accuracy: 24 \n",
      "\n",
      "\n",
      "Model Training\n",
      "\n",
      "Epoch: 14\n",
      "Finished Training\n",
      "Training Loss: 26\n",
      "\n",
      " Model Testing\n",
      "\n",
      "Epoch: 14\n",
      "Testing Accuracy: 25 \n",
      "\n",
      "\n",
      "Model Training\n",
      "\n",
      "Epoch: 15\n",
      "Finished Training\n",
      "Training Loss: 26\n",
      "\n",
      " Model Testing\n",
      "\n",
      "Epoch: 15\n",
      "Testing Accuracy: 26 \n",
      "\n",
      "\n",
      "Model Training\n",
      "\n",
      "Epoch: 16\n",
      "Finished Training\n",
      "Training Loss: 26\n",
      "\n",
      " Model Testing\n",
      "\n",
      "Epoch: 16\n",
      "Testing Accuracy: 26 \n",
      "\n",
      "\n",
      "Model Training\n",
      "\n",
      "Epoch: 17\n",
      "Finished Training\n",
      "Training Loss: 26\n",
      "\n",
      " Model Testing\n",
      "\n",
      "Epoch: 17\n",
      "Testing Accuracy: 27 \n",
      "\n",
      "\n",
      "Model Training\n",
      "\n",
      "Epoch: 18\n",
      "Finished Training\n",
      "Training Loss: 26\n",
      "\n",
      " Model Testing\n",
      "\n",
      "Epoch: 18\n",
      "Testing Accuracy: 27 \n",
      "\n",
      "\n",
      "Model Training\n",
      "\n",
      "Epoch: 19\n",
      "Finished Training\n",
      "Training Loss: 26\n",
      "\n",
      " Model Testing\n",
      "\n",
      "Epoch: 19\n",
      "Testing Accuracy: 28 \n",
      "\n",
      "\n",
      "Model Training\n",
      "\n",
      "Epoch: 20\n",
      "Finished Training\n",
      "Training Loss: 26\n",
      "\n",
      " Model Testing\n",
      "\n",
      "Epoch: 20\n",
      "Testing Accuracy: 28 \n",
      "\n",
      "\n",
      "Model Training\n",
      "\n",
      "Epoch: 21\n",
      "Finished Training\n",
      "Training Loss: 26\n",
      "\n",
      " Model Testing\n",
      "\n",
      "Epoch: 21\n",
      "Testing Accuracy: 29 \n",
      "\n",
      "\n",
      "Model Training\n",
      "\n",
      "Epoch: 22\n",
      "Finished Training\n",
      "Training Loss: 26\n",
      "\n",
      " Model Testing\n",
      "\n",
      "Epoch: 22\n",
      "Testing Accuracy: 30 \n",
      "\n",
      "\n",
      "Model Training\n",
      "\n",
      "Epoch: 23\n",
      "Finished Training\n",
      "Training Loss: 26\n",
      "\n",
      " Model Testing\n",
      "\n",
      "Epoch: 23\n",
      "Testing Accuracy: 30 \n",
      "\n",
      "\n",
      "Model Training\n",
      "\n",
      "Epoch: 24\n",
      "Finished Training\n",
      "Training Loss: 25\n",
      "\n",
      " Model Testing\n",
      "\n",
      "Epoch: 24\n",
      "Testing Accuracy: 31 \n",
      "\n",
      "\n",
      "Model Training\n",
      "\n",
      "Epoch: 25\n",
      "Finished Training\n",
      "Training Loss: 25\n",
      "\n",
      " Model Testing\n",
      "\n",
      "Epoch: 25\n",
      "Testing Accuracy: 31 \n",
      "\n",
      "\n",
      "Model Training\n",
      "\n",
      "Epoch: 26\n",
      "Finished Training\n",
      "Training Loss: 25\n",
      "\n",
      " Model Testing\n",
      "\n",
      "Epoch: 26\n",
      "Testing Accuracy: 31 \n",
      "\n",
      "\n",
      "Model Training\n",
      "\n",
      "Epoch: 27\n",
      "Finished Training\n",
      "Training Loss: 25\n",
      "\n",
      " Model Testing\n",
      "\n",
      "Epoch: 27\n"
     ]
    }
   ],
   "source": [
    "run=wandb.init(project=\"pytorch-CIFAR-Vatan_final_50epoch\",reinit=True)\n",
    "wandb.watch_called = False # Re-run the model w\n",
    "net3 = convfc()\n",
    "wandb.watch(net3,log=\"all\")\n",
    "net3 = net3.to(device)\n",
    "running_loss_history = []\n",
    "val_running_loss_history = []\n",
    "### Defining a Loss function and optimizer for configuration 3\n",
    "mse = True\n",
    "criterion = nn.MSELoss()\n",
    "optimizer = optim.SGD(net3.parameters(), lr=0.001, momentum=0.9)\n",
    "training_testing(net3,criterion,optimizer,mse)"
   ]
  },
  {
   "cell_type": "code",
   "execution_count": null,
   "metadata": {
    "id": "T9KnTLF0OTO_",
    "outputId": "823c3183-13cd-49af-fb2f-a6ed1ac2fe96"
   },
   "outputs": [],
   "source": [
    "training_testing()"
   ]
  },
  {
   "cell_type": "code",
   "execution_count": null,
   "metadata": {
    "id": "44CmvJupOzRk"
   },
   "outputs": [],
   "source": [
    "line_eng = open('/content/train_loss.txt',encoding='utf-8').read().strip().split('\\n')"
   ]
  },
  {
   "cell_type": "code",
   "execution_count": null,
   "metadata": {
    "id": "TxOkhUJ0Pa_a",
    "outputId": "82758613-17ef-4eeb-a895-4e60e5ca11a8"
   },
   "outputs": [],
   "source": [
    "line_eng"
   ]
  },
  {
   "cell_type": "code",
   "execution_count": null,
   "metadata": {
    "id": "rsSkQtkZPcEL",
    "outputId": "8ee51ef9-ae67-4648-f1d5-e86359480f85"
   },
   "outputs": [],
   "source": [
    "## Loading the best model parameters \n",
    "PATH ='./cifar_net.pth'\n",
    "net.load_state_dict(torch.load(PATH))\n",
    "# prepare to count predictions for each class\n",
    "correct_pred = {classname: 0 for classname in classes}\n",
    "total_pred = {classname: 0 for classname in classes}\n",
    "\n",
    "# again no gradients needed\n",
    "with torch.no_grad():\n",
    "    for batch_id, (images, labels) in enumerate(testloader):\n",
    "        images, labels = images.to(device), labels.to(device)\n",
    "        outputs = net(images)\n",
    "        _, predictions = torch.max(outputs, 1)\n",
    "        # collect the correct predictions for each class\n",
    "        for label, prediction in zip(labels, predictions):\n",
    "            if label == prediction:   \n",
    "                correct_pred[classes[label]] += 1\n",
    "            total_pred[classes[label]] += 1\n",
    "\n",
    "\n",
    "# print accuracy for each class\n",
    "for classname, correct_count in correct_pred.items():\n",
    "    accuracy = 100 * float(correct_count) / total_pred[classname]\n",
    "    print(\"Accuracy for class {:5s} is: {:.1f} %\".format(classname,\n",
    "                                                   accuracy))"
   ]
  },
  {
   "cell_type": "code",
   "execution_count": null,
   "metadata": {
    "id": "IJUMMrmLRtNl",
    "outputId": "cc98debc-35ae-41aa-8fc3-d33caf874290"
   },
   "outputs": [],
   "source": [
    "total_correct = 0\n",
    "total_images = 0\n",
    "confusion_matrix = np.zeros([10,10], int)\n",
    "with torch.no_grad():\n",
    "    for batch_id, (images, labels) in enumerate(testloader):\n",
    "        images, labels = images.to(device), labels.to(device)\n",
    "        outputs = net(images)\n",
    "        _, predicted = torch.max(outputs.data, 1)\n",
    "        total_images += labels.size(0)\n",
    "        total_correct += (predicted == labels).sum().item()\n",
    "        for i, l in enumerate(labels):\n",
    "            confusion_matrix[l.item(), predicted[i].item()] += 1 \n",
    "\n",
    "model_accuracy = total_correct / total_images * 100\n",
    "print('Model accuracy on {0} test images: {1:.2f}%'.format(total_images, model_accuracy))"
   ]
  },
  {
   "cell_type": "code",
   "execution_count": null,
   "metadata": {
    "id": "GjkNnVpyRZqL",
    "outputId": "884b3671-bc7b-4135-be67-5a2da06e6b28"
   },
   "outputs": [],
   "source": [
    "fig, ax = plt.subplots(1,1,figsize=(8,6))\n",
    "sns.heatmap(confusion_matrix,annot = True,fmt='d')\n",
    "plt.ylabel('Actual Category')\n",
    "plt.yticks(range(10), classes)\n",
    "plt.xlabel('Predicted Category')\n",
    "plt.xticks(range(10), classes)\n",
    "plt.show()"
   ]
  },
  {
   "cell_type": "code",
   "execution_count": null,
   "metadata": {
    "id": "PQSWG-ldRBvt",
    "outputId": "8890ab0d-d7d5-4030-dd84-17d9f10f8d88"
   },
   "outputs": [],
   "source": [
    "correct_pred"
   ]
  },
  {
   "cell_type": "code",
   "execution_count": null,
   "metadata": {
    "id": "T67Y13FjRbg0",
    "outputId": "f655e30e-68d3-43f3-b277-6f9ecb37a3a8"
   },
   "outputs": [],
   "source": [
    "## Defining a resnet model\n",
    "rn34 = models.resnet34(pretrained=True)\n",
    "rn34"
   ]
  },
  {
   "cell_type": "code",
   "execution_count": null,
   "metadata": {},
   "outputs": [],
   "source": [
    "for param in rn34.parameters():\n",
    "  param.requires_grad = False\n",
    "rn34.fc = nn.Sequential(nn.Linear(512,256),\n",
    "                         nn.ReLU(),\n",
    "                         nn.Linear(256,128),\n",
    "                         nn.ReLU(),\n",
    "                         nn.Linear(128,10),\n",
    "                         nn.Softmax(dim =1))"
   ]
  },
  {
   "cell_type": "code",
   "execution_count": null,
   "metadata": {},
   "outputs": [],
   "source": [
    "run=wandb.init(project=\"pytorch-CIFAR-Vatan_500\",reinit=True)\n",
    "wandb.watch_called = False # Re-run the model w\n",
    "rn34 = rn34.to(device)\n",
    "wandb.watch(rn34,log=\"all\")\n",
    "running_loss_history = []\n",
    "val_running_loss_history = []\n",
    "### Defining a Loss function and optimizer for configuration 2\n",
    "criterion = nn.CrossEntropyLoss()\n",
    "optimizer = optim.Adam(rn34.parameters(), lr=0.001)\n",
    "training_testing(rn34,criterion,optimizer)"
   ]
  },
  {
   "cell_type": "code",
   "execution_count": null,
   "metadata": {
    "id": "mCOTQ5-1ic4O"
   },
   "outputs": [],
   "source": [
    "# ## Getting the penultimate layer output so that we can define our own fc from there\n",
    "# input_to_fc=rn34.fc.in_features\n",
    "# rn34.fc = nn.Linear(input_to_fc, 256)\n",
    "# rn34.fc1 = nn.Linear(256,128)\n",
    "# rn34.fc2 = nn.Linear(128,10)"
   ]
  },
  {
   "cell_type": "code",
   "execution_count": null,
   "metadata": {
    "id": "3SGZ9YqoX9tF",
    "outputId": "aafeadd0-e210-4418-e7ec-af70fffbe26c"
   },
   "outputs": [],
   "source": [
    "rn34.modules"
   ]
  },
  {
   "cell_type": "code",
   "execution_count": null,
   "metadata": {
    "id": "VQ26nD8FU-7A"
   },
   "outputs": [],
   "source": [
    "criterion = nn.CrossEntropyLoss()\n",
    "optimizer = optim.SGD(rn34.parameters(), lr=0.01, momentum=0.9)"
   ]
  },
  {
   "cell_type": "code",
   "execution_count": null,
   "metadata": {
    "id": "P8UiGzx-lohg",
    "outputId": "8df708d8-2b96-4768-bf32-e7a26954f4d6"
   },
   "outputs": [],
   "source": [
    "rn18 = rn18.to(device)\n",
    "running_loss_history = []\n",
    "val_running_loss_history = []\n",
    "training_testing(rn18,criterion, optimizer)"
   ]
  },
  {
   "cell_type": "code",
   "execution_count": null,
   "metadata": {
    "id": "aOMzX7qrtISf"
   },
   "outputs": [],
   "source": []
  }
 ],
 "metadata": {
  "kernelspec": {
   "display_name": "Python 3",
   "language": "python",
   "name": "python3"
  },
  "language_info": {
   "codemirror_mode": {
    "name": "ipython",
    "version": 3
   },
   "file_extension": ".py",
   "mimetype": "text/x-python",
   "name": "python",
   "nbconvert_exporter": "python",
   "pygments_lexer": "ipython3",
   "version": "3.8.8"
  }
 },
 "nbformat": 4,
 "nbformat_minor": 4
}
