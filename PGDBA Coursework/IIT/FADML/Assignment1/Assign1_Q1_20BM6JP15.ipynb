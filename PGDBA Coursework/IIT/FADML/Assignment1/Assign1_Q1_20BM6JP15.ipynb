{
 "cells": [
  {
   "cell_type": "code",
   "execution_count": 445,
   "id": "infectious-jones",
   "metadata": {},
   "outputs": [],
   "source": [
    "import numpy as np\n",
    "import pandas as pd\n",
    "from sklearn.model_selection import train_test_split\n",
    "from matplotlib import pyplot as plt\n",
    "from sklearn.linear_model import LinearRegression,Ridge\n",
    "from sklearn.metrics import mean_squared_error,mean_absolute_error\n",
    "import seaborn as sns"
   ]
  },
  {
   "cell_type": "markdown",
   "id": "round-namibia",
   "metadata": {},
   "source": [
    "# 1. Linear Regression"
   ]
  },
  {
   "cell_type": "markdown",
   "id": "inclusive-charm",
   "metadata": {},
   "source": [
    "# a. Dataset creation:"
   ]
  },
  {
   "cell_type": "markdown",
   "id": "distinguished-juice",
   "metadata": {},
   "source": [
    "# i. Please generate a dataset (X,Y) of 1500 samples from a normal \n",
    "# distribution N(0,1), each with 2 dimensional features.\n",
    "# If input = x, output(y) = βx = β0 + β1x1 + β2x2\n",
    "# Assign β to some values within the range 1-2 before generating y"
   ]
  },
  {
   "cell_type": "code",
   "execution_count": 446,
   "id": "automated-cycling",
   "metadata": {},
   "outputs": [],
   "source": [
    "X = pd.DataFrame()\n",
    "np.random.seed(1)\n",
    "X[\"x1\"] = np.random.normal(0,1,1500)\n",
    "X[\"x2\"] = np.random.normal(0,1,1500)"
   ]
  },
  {
   "cell_type": "code",
   "execution_count": 447,
   "id": "sought-consent",
   "metadata": {
    "scrolled": true
   },
   "outputs": [
    {
     "name": "stdout",
     "output_type": "stream",
     "text": [
      "            x1        x2\n",
      "0     1.624345  1.301225\n",
      "1    -0.611756 -0.312392\n",
      "2    -0.528172 -0.271229\n",
      "3    -1.072969  1.862913\n",
      "4     0.865408 -0.642874\n",
      "...        ...       ...\n",
      "1495  0.196645 -0.771890\n",
      "1496 -0.632590 -0.622657\n",
      "1497 -0.209847 -0.150660\n",
      "1498  1.897161 -1.400023\n",
      "1499 -1.381391 -1.301066\n",
      "\n",
      "[1500 rows x 2 columns]\n"
     ]
    }
   ],
   "source": [
    "print(X)"
   ]
  },
  {
   "cell_type": "code",
   "execution_count": 448,
   "id": "minus-complexity",
   "metadata": {},
   "outputs": [],
   "source": [
    "np.random.seed(1)\n",
    "B = np.random.uniform(low=1,high=2,size=3)"
   ]
  },
  {
   "cell_type": "code",
   "execution_count": 449,
   "id": "green-blood",
   "metadata": {
    "scrolled": true
   },
   "outputs": [
    {
     "name": "stdout",
     "output_type": "stream",
     "text": [
      "Beta value:  [1.417022   1.72032449 1.00011437]\n"
     ]
    }
   ],
   "source": [
    "print(\"Beta value: \",B)"
   ]
  },
  {
   "cell_type": "code",
   "execution_count": 450,
   "id": "angry-messaging",
   "metadata": {},
   "outputs": [],
   "source": [
    "y = B[0]+B[1]*X[\"x1\"]+B[2]*X[\"x2\"]"
   ]
  },
  {
   "cell_type": "code",
   "execution_count": 451,
   "id": "corrected-mining",
   "metadata": {
    "scrolled": true
   },
   "outputs": [
    {
     "name": "stdout",
     "output_type": "stream",
     "text": [
      "\n",
      "y values:\n",
      "\n",
      "0       5.512797\n",
      "1       0.052175\n",
      "2       0.237135\n",
      "3       1.434294\n",
      "4       2.262857\n",
      "          ...   \n",
      "1495    0.983337\n",
      "1496   -0.293966\n",
      "1497    0.905340\n",
      "1498    3.280571\n",
      "1499   -2.260634\n",
      "Length: 1500, dtype: float64\n"
     ]
    }
   ],
   "source": [
    "print(\"\\ny values:\\n\")\n",
    "print(y)"
   ]
  },
  {
   "cell_type": "markdown",
   "id": "compliant-cover",
   "metadata": {},
   "source": [
    "# ii. Create a train-test split of 80-20."
   ]
  },
  {
   "cell_type": "code",
   "execution_count": 452,
   "id": "possible-modern",
   "metadata": {},
   "outputs": [],
   "source": [
    "X_train,X_test,y_train,y_test = train_test_split(X,y,test_size=0.2,random_state=1)"
   ]
  },
  {
   "cell_type": "code",
   "execution_count": 453,
   "id": "steady-celtic",
   "metadata": {},
   "outputs": [
    {
     "data": {
      "text/plain": [
       "((1200, 2), (300, 2), (1200,), (300,))"
      ]
     },
     "execution_count": 453,
     "metadata": {},
     "output_type": "execute_result"
    }
   ],
   "source": [
    "X_train.shape,X_test.shape,y_train.shape,y_test.shape"
   ]
  },
  {
   "cell_type": "markdown",
   "id": "prerequisite-disaster",
   "metadata": {},
   "source": [
    "# iii. Visualize the data in a 2-D plane \n",
    "# and plot them (Feature 1(x-axis),Feature-2(y-axis))."
   ]
  },
  {
   "cell_type": "code",
   "execution_count": 454,
   "id": "bibliographic-cancellation",
   "metadata": {},
   "outputs": [
    {
     "data": {
      "image/png": "[encoded data removed]",
      "text/plain": [
       "<Figure size 432x288 with 1 Axes>"
      ]
     },
     "metadata": {
      "needs_background": "light"
     },
     "output_type": "display_data"
    }
   ],
   "source": [
    "plt.scatter(X[\"x1\"],X[\"x2\"])\n",
    "plt.xlabel(\"Feature 1(x1)\")\n",
    "plt.ylabel(\"Feature 2(x2)\")\n",
    "plt.title(\"x2 vs x1\")\n",
    "plt.show()"
   ]
  },
  {
   "cell_type": "markdown",
   "id": "designed-state",
   "metadata": {},
   "source": [
    "# b. Modelling\n",
    "# i. Use scikit learn library to train a linear regression model\n",
    "# and save the parameter values (named as say, P1)."
   ]
  },
  {
   "cell_type": "code",
   "execution_count": 455,
   "id": "hydraulic-following",
   "metadata": {
    "scrolled": true
   },
   "outputs": [
    {
     "name": "stdout",
     "output_type": "stream",
     "text": [
      "P1 : [1.417022   1.72032449 1.00011437]\n"
     ]
    }
   ],
   "source": [
    "lin_reg = LinearRegression()\n",
    "lin_reg.fit(X_train,y_train)\n",
    "p1 = np.concatenate((np.array([lin_reg.intercept_]),np.array(lin_reg.coef_)),axis=0)\n",
    "print(\"P1 :\",p1)"
   ]
  },
  {
   "cell_type": "markdown",
   "id": "massive-stage",
   "metadata": {},
   "source": [
    "# ii. Design the linear regression algorithm using sample code available \n",
    "# in https://www.dropbox.com/s/falgjz3h8ntf5ff/lr_algo.py?dl=0 . You’ve\n",
    "# to complete the gradDes(...) algorithm which is essentially the update\n",
    "# step of stochastic gradient descent as studied in class. Let’s name\n",
    "# the parameter values as P2."
   ]
  },
  {
   "cell_type": "code",
   "execution_count": 456,
   "id": "equal-signature",
   "metadata": {},
   "outputs": [
    {
     "data": {
      "text/html": [
       "<div>\n",
       "<style scoped>\n",
       "    .dataframe tbody tr th:only-of-type {\n",
       "        vertical-align: middle;\n",
       "    }\n",
       "\n",
       "    .dataframe tbody tr th {\n",
       "        vertical-align: top;\n",
       "    }\n",
       "\n",
       "    .dataframe thead th {\n",
       "        text-align: right;\n",
       "    }\n",
       "</style>\n",
       "<table border=\"1\" class=\"dataframe\">\n",
       "  <thead>\n",
       "    <tr style=\"text-align: right;\">\n",
       "      <th></th>\n",
       "      <th>x1</th>\n",
       "      <th>x2</th>\n",
       "    </tr>\n",
       "  </thead>\n",
       "  <tbody>\n",
       "    <tr>\n",
       "      <th>73</th>\n",
       "      <td>0.876169</td>\n",
       "      <td>0.608580</td>\n",
       "    </tr>\n",
       "    <tr>\n",
       "      <th>701</th>\n",
       "      <td>1.223722</td>\n",
       "      <td>0.040865</td>\n",
       "    </tr>\n",
       "    <tr>\n",
       "      <th>1307</th>\n",
       "      <td>1.217716</td>\n",
       "      <td>-1.156376</td>\n",
       "    </tr>\n",
       "    <tr>\n",
       "      <th>556</th>\n",
       "      <td>-0.222414</td>\n",
       "      <td>1.475183</td>\n",
       "    </tr>\n",
       "    <tr>\n",
       "      <th>785</th>\n",
       "      <td>-1.940681</td>\n",
       "      <td>0.380743</td>\n",
       "    </tr>\n",
       "  </tbody>\n",
       "</table>\n",
       "</div>"
      ],
      "text/plain": [
       "            x1        x2\n",
       "73    0.876169  0.608580\n",
       "701   1.223722  0.040865\n",
       "1307  1.217716 -1.156376\n",
       "556  -0.222414  1.475183\n",
       "785  -1.940681  0.380743"
      ]
     },
     "execution_count": 456,
     "metadata": {},
     "output_type": "execute_result"
    }
   ],
   "source": [
    "X_train.head()"
   ]
  },
  {
   "cell_type": "code",
   "execution_count": 457,
   "id": "dietary-spotlight",
   "metadata": {},
   "outputs": [
    {
     "data": {
      "text/html": [
       "<div>\n",
       "<style scoped>\n",
       "    .dataframe tbody tr th:only-of-type {\n",
       "        vertical-align: middle;\n",
       "    }\n",
       "\n",
       "    .dataframe tbody tr th {\n",
       "        vertical-align: top;\n",
       "    }\n",
       "\n",
       "    .dataframe thead th {\n",
       "        text-align: right;\n",
       "    }\n",
       "</style>\n",
       "<table border=\"1\" class=\"dataframe\">\n",
       "  <thead>\n",
       "    <tr style=\"text-align: right;\">\n",
       "      <th></th>\n",
       "      <th>x1</th>\n",
       "      <th>x2</th>\n",
       "    </tr>\n",
       "  </thead>\n",
       "  <tbody>\n",
       "    <tr>\n",
       "      <th>91</th>\n",
       "      <td>0.185156</td>\n",
       "      <td>0.100593</td>\n",
       "    </tr>\n",
       "    <tr>\n",
       "      <th>75</th>\n",
       "      <td>-2.022201</td>\n",
       "      <td>-0.347010</td>\n",
       "    </tr>\n",
       "    <tr>\n",
       "      <th>1264</th>\n",
       "      <td>0.329490</td>\n",
       "      <td>-0.858823</td>\n",
       "    </tr>\n",
       "    <tr>\n",
       "      <th>330</th>\n",
       "      <td>0.438166</td>\n",
       "      <td>0.047535</td>\n",
       "    </tr>\n",
       "    <tr>\n",
       "      <th>1349</th>\n",
       "      <td>1.430933</td>\n",
       "      <td>-0.472613</td>\n",
       "    </tr>\n",
       "  </tbody>\n",
       "</table>\n",
       "</div>"
      ],
      "text/plain": [
       "            x1        x2\n",
       "91    0.185156  0.100593\n",
       "75   -2.022201 -0.347010\n",
       "1264  0.329490 -0.858823\n",
       "330   0.438166  0.047535\n",
       "1349  1.430933 -0.472613"
      ]
     },
     "execution_count": 457,
     "metadata": {},
     "output_type": "execute_result"
    }
   ],
   "source": [
    "X_test.head()"
   ]
  },
  {
   "cell_type": "code",
   "execution_count": 458,
   "id": "manufactured-alignment",
   "metadata": {},
   "outputs": [],
   "source": [
    "X_train_new = X_train.copy()\n",
    "X_train_new.insert(loc=0, column='x0', value=np.full(X_train.shape[0],1))"
   ]
  },
  {
   "cell_type": "code",
   "execution_count": 459,
   "id": "weighted-guard",
   "metadata": {
    "scrolled": true
   },
   "outputs": [
    {
     "name": "stdout",
     "output_type": "stream",
     "text": [
      "      x0        x1        x2\n",
      "73     1  0.876169  0.608580\n",
      "701    1  1.223722  0.040865\n",
      "1307   1  1.217716 -1.156376\n",
      "556    1 -0.222414  1.475183\n",
      "785    1 -1.940681  0.380743\n",
      "...   ..       ...       ...\n",
      "715    1  1.498108 -0.791534\n",
      "905    1 -0.832395 -0.168662\n",
      "1096   1  0.096114 -2.356865\n",
      "235    1 -1.233121  0.804123\n",
      "1061   1  0.186937  1.230299\n",
      "\n",
      "[1200 rows x 3 columns]\n"
     ]
    }
   ],
   "source": [
    "print(X_train_new)"
   ]
  },
  {
   "cell_type": "code",
   "execution_count": 460,
   "id": "japanese-elimination",
   "metadata": {},
   "outputs": [
    {
     "name": "stdout",
     "output_type": "stream",
     "text": [
      "x0    1.416959\n",
      "x1    1.720291\n",
      "x2    1.000054\n",
      "dtype: float64\n"
     ]
    }
   ],
   "source": [
    "import numpy as np\n",
    "\n",
    "eta = 0.01\n",
    "theta = np.zeros(3)               #initialise with zeros\n",
    "iters = 2000\n",
    "\n",
    "def compCost(X, y, theta):\n",
    "    tempval = np.dot(X, theta) - y\n",
    "    return np.sum(np.power(tempval, 2)) / (2*X.shape[0])\n",
    "\n",
    "\n",
    "def gradCost(X,y,theta):\n",
    "    return np.transpose(X)@(X@theta-y)/(2*X.shape[0])\n",
    "\n",
    "def gradDes(X, y, theta, eta, iters):\n",
    "\n",
    "    cost = []\n",
    "    for i in range(iters):\n",
    "        s=10                                        #Stochastic gradient descent with sample size s\n",
    "        temp = pd.concat([X, y], axis=1).sample(s)  #Taking a sample size of s out of whole train dataset for param update\n",
    "        x_sample = temp.iloc[:,0:3]\n",
    "        y_sample = temp.iloc[:,-1]\n",
    "        theta = theta - eta* gradCost(x_sample,y_sample,theta)\n",
    "        \n",
    "        cost.append(compCost(x_sample, y_sample, theta)) #appending cost values\n",
    "    return theta,cost\n",
    "\n",
    "theta,cost = gradDes(X_train_new, y_train, theta, eta, iters)\n",
    "print(theta)"
   ]
  },
  {
   "cell_type": "code",
   "execution_count": 461,
   "id": "cooperative-length",
   "metadata": {},
   "outputs": [
    {
     "name": "stdout",
     "output_type": "stream",
     "text": [
      "P2 : [1.41695881 1.7202909  1.00005387]\n"
     ]
    }
   ],
   "source": [
    "p2 = np.array(theta)\n",
    "print(\"P2 :\",p2)"
   ]
  },
  {
   "cell_type": "markdown",
   "id": "bridal-judgment",
   "metadata": {},
   "source": [
    "# iii. Plot the cost values obtained from Step ii (Iterations (x-axis) vs\n",
    "# Cost values (y-axis)). Ideally, the values should decrease"
   ]
  },
  {
   "cell_type": "code",
   "execution_count": 462,
   "id": "recent-creature",
   "metadata": {},
   "outputs": [
    {
     "data": {
      "image/png": "[encoded data removed]",
      "text/plain": [
       "<Figure size 720x720 with 1 Axes>"
      ]
     },
     "metadata": {
      "needs_background": "light"
     },
     "output_type": "display_data"
    }
   ],
   "source": [
    "plt.figure(figsize=(10,10))\n",
    "plt.plot(range(iters),cost)\n",
    "plt.xlabel(\"number of iteration\")\n",
    "plt.ylabel(\"cost\")\n",
    "plt.title(\"Cost vs iterations\")\n",
    "plt.show()"
   ]
  },
  {
   "cell_type": "code",
   "execution_count": 463,
   "id": "novel-soundtrack",
   "metadata": {},
   "outputs": [],
   "source": [
    "# observed fluctuation while reduction in cost due to stochastic gradient descent\n",
    "\n",
    "# this fluctuation will decrease as sample size used for param update increases"
   ]
  },
  {
   "cell_type": "markdown",
   "id": "injured-assault",
   "metadata": {},
   "source": [
    "# iv. Use scikit learn library to train a ridge regression model on the\n",
    "# same data and save the parameters (say P3)."
   ]
  },
  {
   "cell_type": "code",
   "execution_count": 464,
   "id": "deluxe-pharmaceutical",
   "metadata": {},
   "outputs": [
    {
     "name": "stdout",
     "output_type": "stream",
     "text": [
      "P3 : [1.41706681 1.71916482 0.99943552]\n"
     ]
    }
   ],
   "source": [
    "ridge_reg = Ridge(alpha=1.0)\n",
    "ridge_reg.fit(X, y)\n",
    "p3 = np.concatenate((np.array([ridge_reg.intercept_]),np.array(ridge_reg.coef_)),axis=0)\n",
    "print(\"P3 :\",p3)"
   ]
  },
  {
   "cell_type": "markdown",
   "id": "thirty-theta",
   "metadata": {},
   "source": [
    "# c. Metrics"
   ]
  },
  {
   "cell_type": "markdown",
   "id": "accepting-language",
   "metadata": {},
   "source": [
    "# i. Use P1, P2, P3 to report Root Mean Square Error, Mean Absolute\n",
    "# Error and Normalised Root Mean Square Error on the test set."
   ]
  },
  {
   "cell_type": "code",
   "execution_count": 465,
   "id": "functional-engineer",
   "metadata": {
    "scrolled": true
   },
   "outputs": [
    {
     "name": "stdout",
     "output_type": "stream",
     "text": [
      "\n",
      " For P1 \n",
      "rmse1: 8.138191622276077e-16 \n",
      "mae1: 6.151560742277222e-16 \n",
      "nrmse1: 6.906495560139614e-17\n"
     ]
    }
   ],
   "source": [
    "rmse1 = (sum((p1[0]+p1[1]*X_test[\"x1\"] + p1[2]*X_test[\"x2\"] - y_test)**2)/(y_test.shape[0]))**0.5\n",
    "mae1 = sum(abs(p1[0]+p1[1]*X_test[\"x1\"] + p1[2]*X_test[\"x2\"] - y_test))/(y_test.shape[0])\n",
    "nrmse1 = rmse1/(max(y_test)-min(y_test))\n",
    "\n",
    "print(\"\\n For P1\",\"\\nrmse1:\",rmse1,\"\\nmae1:\",mae1,\"\\nnrmse1:\",nrmse1)"
   ]
  },
  {
   "cell_type": "code",
   "execution_count": 466,
   "id": "refined-norwegian",
   "metadata": {},
   "outputs": [
    {
     "name": "stdout",
     "output_type": "stream",
     "text": [
      "\n",
      " For P2 \n",
      "rmse2: 9.60219727382914e-05 \n",
      "mae2: 7.884960425190847e-05 \n",
      "nrmse2: 8.148927417457157e-06\n"
     ]
    }
   ],
   "source": [
    "rmse2 = (sum((p2[0]+p2[1]*X_test[\"x1\"] + p2[2]*X_test[\"x2\"] - y_test)**2)/(y_test.shape[0]))**0.5\n",
    "mae2 = sum(abs(p2[0]+p2[1]*X_test[\"x1\"] + p2[2]*X_test[\"x2\"] - y_test))/(y_test.shape[0])\n",
    "nrmse2 = rmse2/(max(y_test)-min(y_test))\n",
    "\n",
    "print(\"\\n For P2\",\"\\nrmse2:\",rmse2,\"\\nmae2:\",mae2,\"\\nnrmse2:\",nrmse2)"
   ]
  },
  {
   "cell_type": "code",
   "execution_count": 467,
   "id": "unsigned-hopkins",
   "metadata": {},
   "outputs": [
    {
     "name": "stdout",
     "output_type": "stream",
     "text": [
      "\n",
      " For P3 \n",
      "rmse3: 0.0012974061808879408 \n",
      "mae3: 0.001006454808367245 \n",
      "nrmse3: 0.00011010468226716673\n"
     ]
    }
   ],
   "source": [
    "rmse3 = (sum((p3[0]+p3[1]*X_test[\"x1\"] + p3[2]*X_test[\"x2\"] - y_test)**2)/(y_test.shape[0]))**0.5\n",
    "mae3 = sum(abs(p3[0]+p3[1]*X_test[\"x1\"] + p3[2]*X_test[\"x2\"] - y_test))/(y_test.shape[0])\n",
    "nrmse3 = rmse3/(max(y_test)-min(y_test))\n",
    "\n",
    "print(\"\\n For P3\",\"\\nrmse3:\",rmse3,\"\\nmae3:\",mae3,\"\\nnrmse3:\",nrmse3)"
   ]
  },
  {
   "cell_type": "markdown",
   "id": "brave-brooklyn",
   "metadata": {},
   "source": [
    "# ii. Report a plot with x-axis as test set indices, y-axis as the predicted\n",
    "# values using P1, P2, P3. Use 4 different colors and markers for the plot."
   ]
  },
  {
   "cell_type": "code",
   "execution_count": 468,
   "id": "failing-protection",
   "metadata": {},
   "outputs": [
    {
     "name": "stdout",
     "output_type": "stream",
     "text": [
      "Int64Index([  91,   75, 1264,  330, 1349,  774, 1038, 1285, 1165,  335,\n",
      "            ...\n",
      "            1479, 1180,  919,  302,  574, 1094, 1204, 1130,   12,  408],\n",
      "           dtype='int64', length=300)\n"
     ]
    }
   ],
   "source": [
    "print(X_test.index)"
   ]
  },
  {
   "cell_type": "code",
   "execution_count": 469,
   "id": "religious-builder",
   "metadata": {},
   "outputs": [
    {
     "data": {
      "image/png": "[encoded data removed]",
      "text/plain": [
       "<Figure size 864x864 with 1 Axes>"
      ]
     },
     "metadata": {
      "needs_background": "light"
     },
     "output_type": "display_data"
    }
   ],
   "source": [
    "plt.figure(figsize=(12,12))\n",
    "\n",
    "plt.title(\"Predicted Value vs Test set indices\")\n",
    "plt.xlabel(\"Test set indices\")\n",
    "plt.ylabel(\"Predicted Value\")\n",
    "\n",
    "l1 = plt.scatter(X_test.index,(p1[0]+p1[1]*X_test[\"x1\"] + p1[2]*X_test[\"x2\"]),c=\"blue\" ,marker=\"^\",s=64)\n",
    "l2 = plt.scatter(X_test.index,(p2[0]+p2[1]*X_test[\"x1\"] + p2[2]*X_test[\"x2\"]),c=\"red\" ,marker=\"v\",s=64)\n",
    "l3 = plt.scatter(X_test.index,(p3[0]+p3[1]*X_test[\"x1\"] + p3[2]*X_test[\"x2\"]),c=\"yellow\" ,marker=\"*\",s=64)\n",
    "l4 = plt.scatter(y_test.index,y_test,c=\"Black\" ,marker=\".\",s=8)\n",
    "plt.legend((l1, l2, l3,l4),\n",
    "           ('P1', 'P2', 'P3','True Y'),\n",
    "           scatterpoints=1,\n",
    "           loc='lower left',\n",
    "           ncol=3,\n",
    "           fontsize=8)\n",
    "plt.show()"
   ]
  },
  {
   "cell_type": "markdown",
   "id": "popular-humanitarian",
   "metadata": {},
   "source": [
    "# iii. Report a box-plot of errors across all test set points for the three\n",
    "# different prediction modes."
   ]
  },
  {
   "cell_type": "code",
   "execution_count": 470,
   "id": "alive-witness",
   "metadata": {},
   "outputs": [],
   "source": [
    "# Let e1, e2 and e3 be errors from p1,p2 and p3 respectively"
   ]
  },
  {
   "cell_type": "code",
   "execution_count": 471,
   "id": "active-glenn",
   "metadata": {},
   "outputs": [],
   "source": [
    "e1 = p1[0]+p1[1]*X_test[\"x1\"] + p1[2]*X_test[\"x2\"] - y_test\n",
    "e2 = p2[0]+p2[1]*X_test[\"x1\"] + p2[2]*X_test[\"x2\"] - y_test\n",
    "e3 = p3[0]+p3[1]*X_test[\"x1\"] + p3[2]*X_test[\"x2\"] - y_test"
   ]
  },
  {
   "cell_type": "code",
   "execution_count": 472,
   "id": "exposed-small",
   "metadata": {},
   "outputs": [],
   "source": [
    "e = pd.DataFrame()\n",
    "e[\"e1\"] = e1\n",
    "e[\"e2\"] = e2\n",
    "e[\"e3\"] = e3"
   ]
  },
  {
   "cell_type": "code",
   "execution_count": 473,
   "id": "adopted-isolation",
   "metadata": {},
   "outputs": [
    {
     "name": "stdout",
     "output_type": "stream",
     "text": [
      "                e1        e2        e3\n",
      "91    4.440892e-16 -0.000075 -0.000238\n",
      "75    4.440892e-16  0.000026  0.002625\n",
      "1264 -4.440892e-16 -0.000022  0.000246\n",
      "330   4.440892e-16 -0.000081 -0.000496\n",
      "1349 -8.881784e-16 -0.000083 -0.001294\n",
      "...            ...       ...       ...\n",
      "1094  1.776357e-15 -0.000154 -0.000832\n",
      "1204  8.881784e-16 -0.000109 -0.000307\n",
      "1130  0.000000e+00  0.000072  0.002961\n",
      "12    4.440892e-16 -0.000064  0.000291\n",
      "408  -6.661338e-16 -0.000020  0.000175\n",
      "\n",
      "[300 rows x 3 columns]\n"
     ]
    }
   ],
   "source": [
    "print(e)"
   ]
  },
  {
   "cell_type": "code",
   "execution_count": 474,
   "id": "antique-germany",
   "metadata": {},
   "outputs": [
    {
     "data": {
      "image/png": "[encoded data removed]",
      "text/plain": [
       "<Figure size 720x720 with 1 Axes>"
      ]
     },
     "metadata": {
      "needs_background": "light"
     },
     "output_type": "display_data"
    }
   ],
   "source": [
    "plt.figure(figsize=(10,10))\n",
    "\n",
    "plt.title(\"Error Value vs Model\")\n",
    "sns.boxplot(x=\"variable\", y=\"value\", data=pd.melt(e))\n",
    "plt.show()"
   ]
  },
  {
   "cell_type": "markdown",
   "id": "endangered-keyboard",
   "metadata": {},
   "source": [
    "# Iv. Report the differences between the ground truth β and the\n",
    "# obtained β values in P1, P2. P3."
   ]
  },
  {
   "cell_type": "code",
   "execution_count": 475,
   "id": "emerging-ladder",
   "metadata": {},
   "outputs": [
    {
     "name": "stdout",
     "output_type": "stream",
     "text": [
      "Difference between B and p1\n",
      "\n",
      "B[0] - p1[0]: -2.220446049250313e-16 \n",
      "B[1] - p1[1]: 2.220446049250313e-16 \n",
      "B[2] - p1[2]: -6.661338147750939e-16\n"
     ]
    }
   ],
   "source": [
    "print(\"Difference between B and p1\")\n",
    "print(\"\\nB[0] - p1[0]:\",B[0] - p1[0],\"\\nB[1] - p1[1]:\",B[1] - p1[1],\"\\nB[2] - p1[2]:\",B[2] - p1[2])"
   ]
  },
  {
   "cell_type": "code",
   "execution_count": 476,
   "id": "configured-beatles",
   "metadata": {},
   "outputs": [
    {
     "name": "stdout",
     "output_type": "stream",
     "text": [
      "Difference between B and p2\n",
      "\n",
      "B[0] - p2[0]: 6.319321883685447e-05 \n",
      "B[1] - p2[1]: 3.3591365473206736e-05 \n",
      "B[2] - p2[2]: 6.0501008379176824e-05\n"
     ]
    }
   ],
   "source": [
    "print(\"Difference between B and p2\")\n",
    "print(\"\\nB[0] - p2[0]:\",B[0] - p2[0],\"\\nB[1] - p2[1]:\",B[1] - p2[1],\"\\nB[2] - p2[2]:\",B[2] - p2[2])"
   ]
  },
  {
   "cell_type": "code",
   "execution_count": 477,
   "id": "reverse-giant",
   "metadata": {},
   "outputs": [
    {
     "name": "stdout",
     "output_type": "stream",
     "text": [
      "Difference between B and p3\n",
      "\n",
      "B[0] - p3[0]: -4.480845112708742e-05 \n",
      "B[1] - p3[1]: 0.0011596759180332317 \n",
      "B[2] - p3[2]: 0.0006788533149466591\n"
     ]
    }
   ],
   "source": [
    "print(\"Difference between B and p3\")\n",
    "print(\"\\nB[0] - p3[0]:\",B[0] - p3[0],\"\\nB[1] - p3[1]:\",B[1] - p3[1],\"\\nB[2] - p3[2]:\",B[2] - p3[2])"
   ]
  }
 ],
 "metadata": {
  "kernelspec": {
   "display_name": "Python 3",
   "language": "python",
   "name": "python3"
  },
  "language_info": {
   "codemirror_mode": {
    "name": "ipython",
    "version": 3
   },
   "file_extension": ".py",
   "mimetype": "text/x-python",
   "name": "python",
   "nbconvert_exporter": "python",
   "pygments_lexer": "ipython3",
   "version": "3.8.8"
  }
 },
 "nbformat": 4,
 "nbformat_minor": 5
}
