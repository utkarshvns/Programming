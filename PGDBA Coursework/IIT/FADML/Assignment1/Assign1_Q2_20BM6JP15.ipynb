{
 "cells": [
  {
   "cell_type": "code",
   "execution_count": 309,
   "id": "entertaining-patent",
   "metadata": {},
   "outputs": [],
   "source": [
    "import numpy as np\n",
    "import pandas as pd\n",
    "from sklearn.model_selection import train_test_split\n",
    "from matplotlib import pyplot as plt\n",
    "from sklearn.linear_model import LogisticRegression\n",
    "from sklearn.metrics import mean_squared_error,mean_absolute_error\n",
    "import seaborn as sns\n",
    "\n",
    "from sklearn import preprocessing\n",
    "import math"
   ]
  },
  {
   "cell_type": "markdown",
   "id": "annoying-zambia",
   "metadata": {},
   "source": [
    "# 2. Logistic Regression\n"
   ]
  },
  {
   "cell_type": "markdown",
   "id": "decent-jersey",
   "metadata": {},
   "source": [
    "# a. Dataset creation:"
   ]
  },
  {
   "cell_type": "markdown",
   "id": "nominated-highland",
   "metadata": {},
   "source": [
    "# i. Please create two binary class datasets (X,Y) of 1500 samples, one\n",
    "# with 2 dimensional features, and another with 3 dimensional features.\n",
    "# X ~ N(0,1)\n",
    "# Y = 1 if σ (ßx) > = 0.5\n",
    "# = 0 otherwise\n",
    "# Assign β to some values within the range 1-3 before generating Y."
   ]
  },
  {
   "cell_type": "code",
   "execution_count": 310,
   "id": "vanilla-issue",
   "metadata": {},
   "outputs": [],
   "source": [
    "X_DS1 = pd.DataFrame()\n",
    "np.random.seed(1)\n",
    "X_DS1[\"x1\"] = np.random.normal(0,1,1500)\n",
    "X_DS1[\"x2\"] = np.random.normal(0,1,1500)"
   ]
  },
  {
   "cell_type": "code",
   "execution_count": 311,
   "id": "alpha-family",
   "metadata": {},
   "outputs": [
    {
     "name": "stdout",
     "output_type": "stream",
     "text": [
      "X value for dataset 1 \n",
      "\n",
      "            x1        x2\n",
      "0     1.624345  1.301225\n",
      "1    -0.611756 -0.312392\n",
      "2    -0.528172 -0.271229\n",
      "3    -1.072969  1.862913\n",
      "4     0.865408 -0.642874\n",
      "...        ...       ...\n",
      "1495  0.196645 -0.771890\n",
      "1496 -0.632590 -0.622657\n",
      "1497 -0.209847 -0.150660\n",
      "1498  1.897161 -1.400023\n",
      "1499 -1.381391 -1.301066\n",
      "\n",
      "[1500 rows x 2 columns]\n"
     ]
    }
   ],
   "source": [
    "print(\"X value for dataset 1 \\n\")\n",
    "print(X_DS1)"
   ]
  },
  {
   "cell_type": "code",
   "execution_count": 312,
   "id": "electric-dutch",
   "metadata": {},
   "outputs": [
    {
     "name": "stdout",
     "output_type": "stream",
     "text": [
      "Beta for dataset 1 [1.83404401 2.44064899 1.00022875]\n"
     ]
    }
   ],
   "source": [
    "np.random.seed(1)\n",
    "B_DS1 = np.random.uniform(low=1,high=3,size=3)\n",
    "print(\"Beta for dataset 1\",B_DS1)"
   ]
  },
  {
   "cell_type": "code",
   "execution_count": 313,
   "id": "undefined-currency",
   "metadata": {},
   "outputs": [],
   "source": [
    "def sigmoid(x):\n",
    "    return 1/(1 + np.exp(-x))"
   ]
  },
  {
   "cell_type": "code",
   "execution_count": 314,
   "id": "crude-steam",
   "metadata": {},
   "outputs": [
    {
     "name": "stdout",
     "output_type": "stream",
     "text": [
      "y value for dataset 1 \n",
      "\n",
      "0       1\n",
      "1       1\n",
      "2       1\n",
      "3       1\n",
      "4       1\n",
      "       ..\n",
      "1495    1\n",
      "1496    0\n",
      "1497    1\n",
      "1498    1\n",
      "1499    0\n",
      "Length: 1500, dtype: int32\n"
     ]
    }
   ],
   "source": [
    "y_DS1 = sigmoid(B_DS1[0]+  B_DS1[1]*X_DS1[\"x1\"] + B_DS1[2]*X_DS1[\"x2\"])\n",
    "y_DS1 = y_DS1 >= 0.5\n",
    "y_DS1= y_DS1.astype(int)\n",
    "\n",
    "print(\"y value for dataset 1 \\n\")\n",
    "print(y_DS1)"
   ]
  },
  {
   "cell_type": "code",
   "execution_count": 315,
   "id": "based-ecuador",
   "metadata": {},
   "outputs": [],
   "source": [
    "X_DS2 = pd.DataFrame()\n",
    "np.random.seed(1)\n",
    "X_DS2[\"x1\"] = np.random.normal(0,1,1500)\n",
    "X_DS2[\"x2\"] = np.random.normal(0,1,1500)\n",
    "X_DS2[\"x3\"] = np.random.normal(0,1,1500)"
   ]
  },
  {
   "cell_type": "code",
   "execution_count": 316,
   "id": "seeing-permission",
   "metadata": {},
   "outputs": [
    {
     "name": "stdout",
     "output_type": "stream",
     "text": [
      "X value for dataset 2 \n",
      "\n",
      "            x1        x2        x3\n",
      "0     1.624345  1.301225 -0.077107\n",
      "1    -0.611756 -0.312392  0.207825\n",
      "2    -0.528172 -0.271229  0.986196\n",
      "3    -1.072969  1.862913  1.432756\n",
      "4     0.865408 -0.642874  0.528258\n",
      "...        ...       ...       ...\n",
      "1495  0.196645 -0.771890  0.747622\n",
      "1496 -0.632590 -0.622657  0.943634\n",
      "1497 -0.209847 -0.150660 -0.425562\n",
      "1498  1.897161 -1.400023  0.805778\n",
      "1499 -1.381391 -1.301066  0.056853\n",
      "\n",
      "[1500 rows x 3 columns]\n"
     ]
    }
   ],
   "source": [
    "print(\"X value for dataset 2 \\n\")\n",
    "print(X_DS2)"
   ]
  },
  {
   "cell_type": "code",
   "execution_count": 317,
   "id": "pending-acting",
   "metadata": {},
   "outputs": [
    {
     "name": "stdout",
     "output_type": "stream",
     "text": [
      "Beta for dataset 2 [1.83404401 2.44064899 1.00022875 1.60466515]\n"
     ]
    }
   ],
   "source": [
    "np.random.seed(1)\n",
    "B_DS2 = np.random.uniform(low=1,high=3,size=4)\n",
    "print(\"Beta for dataset 2\",B_DS2)"
   ]
  },
  {
   "cell_type": "code",
   "execution_count": 318,
   "id": "furnished-science",
   "metadata": {},
   "outputs": [
    {
     "name": "stdout",
     "output_type": "stream",
     "text": [
      "y value for dataset 2 \n",
      "\n",
      "0       1\n",
      "1       1\n",
      "2       1\n",
      "3       1\n",
      "4       1\n",
      "       ..\n",
      "1495    1\n",
      "1496    1\n",
      "1497    1\n",
      "1498    1\n",
      "1499    0\n",
      "Length: 1500, dtype: int32\n"
     ]
    }
   ],
   "source": [
    "y_DS2 = sigmoid(B_DS2[0]+  B_DS2[1]*X_DS2[\"x1\"] + B_DS2[2]*X_DS2[\"x2\"] + B_DS2[3]*X_DS2[\"x3\"])\n",
    "y_DS2 = y_DS2 >= 0.5\n",
    "y_DS2= y_DS2.astype(int)\n",
    "\n",
    "print(\"y value for dataset 2 \\n\")\n",
    "print(y_DS2)"
   ]
  },
  {
   "cell_type": "markdown",
   "id": "global-commerce",
   "metadata": {},
   "source": [
    "# ii. Create a train-test split of 80-20."
   ]
  },
  {
   "cell_type": "code",
   "execution_count": 319,
   "id": "personalized-idaho",
   "metadata": {},
   "outputs": [
    {
     "data": {
      "text/plain": [
       "((1200, 2), (300, 2), (1200,), (300,))"
      ]
     },
     "execution_count": 319,
     "metadata": {},
     "output_type": "execute_result"
    }
   ],
   "source": [
    "X_train_DS1,X_test_DS1,y_train_DS1,y_test_DS1 = train_test_split(X_DS1,y_DS1,test_size=0.2,random_state=1)\n",
    "X_train_DS1.shape,X_test_DS1.shape,y_train_DS1.shape,y_test_DS1.shape"
   ]
  },
  {
   "cell_type": "markdown",
   "id": "moved-gather",
   "metadata": {},
   "source": [
    "# iii. Visualize the 1st dataset in 2-D plane and plot the same"
   ]
  },
  {
   "cell_type": "code",
   "execution_count": 320,
   "id": "proved-collection",
   "metadata": {},
   "outputs": [
    {
     "data": {
      "image/png": "[encoded data removed]",
      "text/plain": [
       "<Figure size 432x288 with 1 Axes>"
      ]
     },
     "metadata": {
      "needs_background": "light"
     },
     "output_type": "display_data"
    }
   ],
   "source": [
    "plt.scatter(X_DS1[\"x1\"],X_DS1[\"x2\"])\n",
    "plt.xlabel(\"x1\")\n",
    "plt.ylabel(\"x2\")\n",
    "plt.title(\"Dataset 1:x2 vs x1\")\n",
    "plt.show()"
   ]
  },
  {
   "cell_type": "markdown",
   "id": "viral-preliminary",
   "metadata": {},
   "source": [
    "# iv. Perform feature normalisation of the dataset with 3 dimensional\n",
    "# features"
   ]
  },
  {
   "cell_type": "code",
   "execution_count": 321,
   "id": "plain-utilization",
   "metadata": {},
   "outputs": [],
   "source": [
    "# We are performing Z-score Normalization hence using the sandard scalar"
   ]
  },
  {
   "cell_type": "code",
   "execution_count": 322,
   "id": "alpine-joseph",
   "metadata": {},
   "outputs": [],
   "source": [
    "scaler = preprocessing.StandardScaler().fit(X_DS2)"
   ]
  },
  {
   "cell_type": "code",
   "execution_count": 323,
   "id": "native-ability",
   "metadata": {},
   "outputs": [],
   "source": [
    "X_scaled = scaler.transform(X_DS2)"
   ]
  },
  {
   "cell_type": "code",
   "execution_count": 324,
   "id": "basic-zoning",
   "metadata": {},
   "outputs": [
    {
     "name": "stdout",
     "output_type": "stream",
     "text": [
      "            x1        x2        x3\n",
      "0     1.580369  1.332549 -0.094020\n",
      "1    -0.666866 -0.291834  0.184065\n",
      "2    -0.582865 -0.250396  0.943730\n",
      "3    -1.130374  1.897985  1.379559\n",
      "4     0.817653 -0.624520  0.496798\n",
      "...        ...       ...       ...\n",
      "1495  0.145561 -0.754398  0.710889\n",
      "1496 -0.687803 -0.604168  0.902191\n",
      "1497 -0.262955 -0.129022 -0.434100\n",
      "1498  1.854543 -1.386721  0.767648\n",
      "1499 -1.440332 -1.287104  0.036721\n",
      "\n",
      "[1500 rows x 3 columns]\n"
     ]
    }
   ],
   "source": [
    "X_DS2 =pd.DataFrame(X_scaled,columns= [\"x1\",\"x2\",\"x3\"])\n",
    "print(X_DS2)"
   ]
  },
  {
   "cell_type": "code",
   "execution_count": 325,
   "id": "arbitrary-opportunity",
   "metadata": {},
   "outputs": [
    {
     "data": {
      "text/plain": [
       "((1200, 3), (300, 3), (1200,), (300,))"
      ]
     },
     "execution_count": 325,
     "metadata": {},
     "output_type": "execute_result"
    }
   ],
   "source": [
    "X_train_DS2,X_test_DS2,y_train_DS2,y_test_DS2 = train_test_split(X_DS2,y_DS2,test_size=0.2,random_state=1)\n",
    "X_train_DS2.shape,X_test_DS2.shape,y_train_DS2.shape,y_test_DS2.shape"
   ]
  },
  {
   "cell_type": "markdown",
   "id": "lasting-oriental",
   "metadata": {},
   "source": [
    "# b. Modelling"
   ]
  },
  {
   "cell_type": "markdown",
   "id": "adopted-judgment",
   "metadata": {},
   "source": [
    "# i. Use scikit learn library to train a Logistic regression model on both\n",
    "# datasets."
   ]
  },
  {
   "cell_type": "code",
   "execution_count": 326,
   "id": "illegal-cleaner",
   "metadata": {},
   "outputs": [
    {
     "name": "stdout",
     "output_type": "stream",
     "text": [
      "[5.92920447] [[7.63175455 3.13291978]]\n"
     ]
    }
   ],
   "source": [
    "logistic_reg_DS1 = LogisticRegression().fit(X_train_DS1, y_train_DS1)\n",
    "print(logistic_reg_DS1.intercept_ ,logistic_reg_DS1.coef_)"
   ]
  },
  {
   "cell_type": "code",
   "execution_count": 327,
   "id": "divided-profession",
   "metadata": {},
   "outputs": [
    {
     "name": "stdout",
     "output_type": "stream",
     "text": [
      "[5.62864176] [[6.8393741  2.72023572 4.60696515]]\n"
     ]
    }
   ],
   "source": [
    "logistic_reg_DS2 = LogisticRegression().fit(X_train_DS2, y_train_DS2)\n",
    "print(logistic_reg_DS2.intercept_ ,logistic_reg_DS2.coef_)"
   ]
  },
  {
   "cell_type": "markdown",
   "id": "wrapped-pasta",
   "metadata": {},
   "source": [
    "# ii. Vary the following parameters and save the parameters for both\n",
    "# datasets:"
   ]
  },
  {
   "cell_type": "markdown",
   "id": "eleven-baker",
   "metadata": {},
   "source": [
    "# 1. Regularization - L1, Tolerance - 1e-2, Solver - liblinear (say\n",
    "# parameter P11, P12) {The first index (1 in P12 for e.g.) denotes the\n",
    "# combination number and second index (2 in P12) denotes dataset number}"
   ]
  },
  {
   "cell_type": "code",
   "execution_count": 328,
   "id": "acquired-percentage",
   "metadata": {},
   "outputs": [
    {
     "name": "stdout",
     "output_type": "stream",
     "text": [
      "P11:  [10.25080453 13.56802258  5.52142928]\n"
     ]
    }
   ],
   "source": [
    "logistic_reg_DS1 = LogisticRegression(penalty='l1',tol=1e-2,solver='liblinear').fit(X_train_DS1, y_train_DS1)\n",
    "p11 = np.concatenate((np.array(logistic_reg_DS1.intercept_),np.array(logistic_reg_DS1.coef_).flatten()),axis=0)\n",
    "print(\"P11: \",p11)"
   ]
  },
  {
   "cell_type": "code",
   "execution_count": 329,
   "id": "flexible-paper",
   "metadata": {},
   "outputs": [
    {
     "name": "stdout",
     "output_type": "stream",
     "text": [
      "P12:  [ 8.85524638 10.93849647  4.36019475  7.3216342 ]\n"
     ]
    }
   ],
   "source": [
    "logistic_reg_DS2 = LogisticRegression(penalty='l1',tol=1e-2,solver='liblinear').fit(X_train_DS2, y_train_DS2)\n",
    "p12 = np.concatenate((np.array(logistic_reg_DS2.intercept_),np.array(logistic_reg_DS2.coef_).flatten()),axis=0)\n",
    "print(\"P12: \",p12)"
   ]
  },
  {
   "cell_type": "markdown",
   "id": "lined-ready",
   "metadata": {},
   "source": [
    "# 2. Regularization - L1, * Tolerance - 1e-5, Solver - liblinear (say\n",
    "# parameter P21, P22)"
   ]
  },
  {
   "cell_type": "code",
   "execution_count": 330,
   "id": "heavy-pavilion",
   "metadata": {},
   "outputs": [
    {
     "name": "stdout",
     "output_type": "stream",
     "text": [
      "P21:  [12.04631312 15.94424392  6.50985958]\n"
     ]
    }
   ],
   "source": [
    "logistic_reg_DS1 = LogisticRegression(penalty='l1',tol=1e-5,solver='liblinear').fit(X_train_DS1, y_train_DS1)\n",
    "p21 = np.concatenate((np.array(logistic_reg_DS1.intercept_),np.array(logistic_reg_DS1.coef_).flatten()),axis=0)\n",
    "print(\"P21: \",p21)"
   ]
  },
  {
   "cell_type": "code",
   "execution_count": 331,
   "id": "authorized-health",
   "metadata": {},
   "outputs": [
    {
     "name": "stdout",
     "output_type": "stream",
     "text": [
      "P22:  [11.45538574 14.19541934  5.66188007  9.47316459]\n"
     ]
    }
   ],
   "source": [
    "logistic_reg_DS2 = LogisticRegression(penalty='l1',tol=1e-5,solver='liblinear').fit(X_train_DS2, y_train_DS2)\n",
    "p22 = np.concatenate((np.array(logistic_reg_DS2.intercept_),np.array(logistic_reg_DS2.coef_).flatten()),axis=0)\n",
    "print(\"P22: \",p22)"
   ]
  },
  {
   "cell_type": "markdown",
   "id": "south-round",
   "metadata": {},
   "source": [
    "# 3. Regularization - L2, Tolerance - 1e-2, Solver - newton-cg (say\n",
    "# parameter P31, P32)"
   ]
  },
  {
   "cell_type": "code",
   "execution_count": 332,
   "id": "functioning-closer",
   "metadata": {},
   "outputs": [
    {
     "name": "stdout",
     "output_type": "stream",
     "text": [
      "P31:  [5.92783149 7.63008964 3.13224632]\n"
     ]
    }
   ],
   "source": [
    "logistic_reg_DS1 = LogisticRegression(penalty='l2',tol=1e-2,solver='newton-cg').fit(X_train_DS1, y_train_DS1)\n",
    "p31 = np.concatenate((np.array(logistic_reg_DS1.intercept_),np.array(logistic_reg_DS1.coef_).flatten()),axis=0)\n",
    "print(\"P31: \",p31)"
   ]
  },
  {
   "cell_type": "code",
   "execution_count": 333,
   "id": "super-anime",
   "metadata": {},
   "outputs": [
    {
     "name": "stdout",
     "output_type": "stream",
     "text": [
      "P32:  [5.62733998 6.83793767 2.7196447  4.60588948]\n"
     ]
    }
   ],
   "source": [
    "logistic_reg_DS2 = LogisticRegression(penalty='l2',tol=1e-2,solver='newton-cg').fit(X_train_DS2, y_train_DS2)\n",
    "p32 = np.concatenate((np.array(logistic_reg_DS2.intercept_),np.array(logistic_reg_DS2.coef_).flatten()),axis=0)\n",
    "print(\"P32: \",p32)"
   ]
  },
  {
   "cell_type": "markdown",
   "id": "moved-toddler",
   "metadata": {},
   "source": [
    "# 4. Regularization - L2, Tolerance - 1e-5, Solver - newton-cg (say\n",
    "# parameter P41, P42)"
   ]
  },
  {
   "cell_type": "code",
   "execution_count": 334,
   "id": "intermediate-traffic",
   "metadata": {},
   "outputs": [
    {
     "name": "stdout",
     "output_type": "stream",
     "text": [
      "P41:  [5.92920211 7.63175126 3.13291822]\n"
     ]
    }
   ],
   "source": [
    "logistic_reg_DS1 = LogisticRegression(penalty='l2',tol=1e-5,solver='newton-cg').fit(X_train_DS1, y_train_DS1)\n",
    "p41 = np.concatenate((np.array(logistic_reg_DS1.intercept_),np.array(logistic_reg_DS1.coef_).flatten()),axis=0)\n",
    "print(\"P41: \",p41)"
   ]
  },
  {
   "cell_type": "code",
   "execution_count": 335,
   "id": "regular-marker",
   "metadata": {},
   "outputs": [
    {
     "name": "stdout",
     "output_type": "stream",
     "text": [
      "P42:  [5.62863704 6.83936924 2.72023062 4.60696245]\n"
     ]
    }
   ],
   "source": [
    "logistic_reg_DS2 = LogisticRegression(penalty='l2',tol=1e-5,solver='newton-cg').fit(X_train_DS2, y_train_DS2)\n",
    "p42 = np.concatenate((np.array(logistic_reg_DS2.intercept_),np.array(logistic_reg_DS2.coef_).flatten()),axis=0)\n",
    "print(\"P42: \",p42)"
   ]
  },
  {
   "cell_type": "markdown",
   "id": "inside-wichita",
   "metadata": {},
   "source": [
    "# c. Metrics"
   ]
  },
  {
   "cell_type": "markdown",
   "id": "progressive-addition",
   "metadata": {},
   "source": [
    "# i. Use all the parameters (or models) [P*] to report mean accuracies\n",
    "# and class-specific accuracies on the test sets for both the datasets in\n",
    "# plot/table. Use the parameter names as distinguishing factors and clarify\n",
    "# the notations."
   ]
  },
  {
   "cell_type": "code",
   "execution_count": 336,
   "id": "taken-parks",
   "metadata": {},
   "outputs": [
    {
     "name": "stdout",
     "output_type": "stream",
     "text": [
      "      pred  true\n",
      "91       1     1\n",
      "75       0     0\n",
      "1264     1     1\n",
      "330      1     1\n",
      "1349     1     1\n",
      "...    ...   ...\n",
      "1094     1     1\n",
      "1204     1     1\n",
      "1130     0     0\n",
      "12       1     1\n",
      "408      1     1\n",
      "\n",
      "[300 rows x 2 columns]\n"
     ]
    }
   ],
   "source": [
    "y_pred_p11 = sigmoid(p11[0]+p11[1]*X_test_DS1[\"x1\"]+p11[2]*X_test_DS1[\"x2\"])\n",
    "y_pred_p11 = y_pred_p11 >= 0.5\n",
    "y_pred_p11= y_pred_p11.astype(int)\n",
    "pred_vs_true_p11 = pd.DataFrame()\n",
    "pred_vs_true_p11['pred'] = y_pred_p11\n",
    "pred_vs_true_p11['true'] = y_test_DS1\n",
    "print(pred_vs_true_p11)"
   ]
  },
  {
   "cell_type": "code",
   "execution_count": 337,
   "id": "saved-opera",
   "metadata": {},
   "outputs": [],
   "source": [
    "def meanAccuracy(pred_vs_true):\n",
    "    correct = np.count_nonzero(pred_vs_true['pred'] == pred_vs_true['true'])\n",
    "    total = pred_vs_true.shape[0]\n",
    "    accuracy = correct/total\n",
    "    return accuracy\n",
    "\n",
    "def class1Accuracy(pred_vs_true):\n",
    "    pred_vs_true = pred_vs_true[pred_vs_true['true'] == 1]\n",
    "    correct = np.count_nonzero(pred_vs_true['pred'] == pred_vs_true['true'])\n",
    "    total = pred_vs_true.shape[0]\n",
    "    accuracy = correct/total\n",
    "    return accuracy\n",
    "\n",
    "def class0Accuracy(pred_vs_true):\n",
    "    pred_vs_true = pred_vs_true[pred_vs_true['true'] == 0]\n",
    "    correct = np.count_nonzero(pred_vs_true['pred'] == pred_vs_true['true'])\n",
    "    total = pred_vs_true.shape[0]\n",
    "    accuracy = correct/total\n",
    "    return accuracy\n",
    "\n",
    "def showAccuracy(pred_vs_true,pij):\n",
    "    print('Mean Accuracy for   ', pij, ':',meanAccuracy(pred_vs_true))\n",
    "    print('class 1 Accuracy for', pij, ':',class1Accuracy(pred_vs_true))\n",
    "    print('class 0 Accuracy for', pij, ':',class0Accuracy(pred_vs_true))"
   ]
  },
  {
   "cell_type": "code",
   "execution_count": 338,
   "id": "increasing-stomach",
   "metadata": {},
   "outputs": [
    {
     "name": "stdout",
     "output_type": "stream",
     "text": [
      "Mean Accuracy for    p11 : 1.0\n",
      "class 1 Accuracy for p11 : 1.0\n",
      "class 0 Accuracy for p11 : 1.0\n"
     ]
    }
   ],
   "source": [
    "showAccuracy(pred_vs_true_p11,'p11')"
   ]
  },
  {
   "cell_type": "code",
   "execution_count": 339,
   "id": "greater-month",
   "metadata": {},
   "outputs": [
    {
     "name": "stdout",
     "output_type": "stream",
     "text": [
      "      pred  true\n",
      "91       1     1\n",
      "75       0     0\n",
      "1264     1     1\n",
      "330      1     1\n",
      "1349     1     1\n",
      "...    ...   ...\n",
      "1094     1     1\n",
      "1204     1     1\n",
      "1130     0     0\n",
      "12       1     1\n",
      "408      1     1\n",
      "\n",
      "[300 rows x 2 columns]\n"
     ]
    }
   ],
   "source": [
    "y_pred_p12 = sigmoid(p12[0]+p12[1]*X_test_DS2[\"x1\"]+p12[2]*X_test_DS2[\"x2\"]+p12[3]*X_test_DS2[\"x3\"])\n",
    "y_pred_p12 = y_pred_p12 >= 0.5\n",
    "y_pred_p12= y_pred_p12.astype(int)\n",
    "pred_vs_true_p12 = pd.DataFrame()\n",
    "pred_vs_true_p12['pred'] = y_pred_p12\n",
    "pred_vs_true_p12['true'] = y_test_DS2\n",
    "print(pred_vs_true_p12)"
   ]
  },
  {
   "cell_type": "code",
   "execution_count": 340,
   "id": "appropriate-festival",
   "metadata": {},
   "outputs": [
    {
     "name": "stdout",
     "output_type": "stream",
     "text": [
      "Mean Accuracy for    p12 : 0.9933333333333333\n",
      "class 1 Accuracy for p12 : 0.9955947136563876\n",
      "class 0 Accuracy for p12 : 0.9863013698630136\n"
     ]
    }
   ],
   "source": [
    "showAccuracy(pred_vs_true_p12,'p12')"
   ]
  },
  {
   "cell_type": "code",
   "execution_count": 341,
   "id": "played-christian",
   "metadata": {},
   "outputs": [
    {
     "name": "stdout",
     "output_type": "stream",
     "text": [
      "      pred  true\n",
      "91       1     1\n",
      "75       0     0\n",
      "1264     1     1\n",
      "330      1     1\n",
      "1349     1     1\n",
      "...    ...   ...\n",
      "1094     1     1\n",
      "1204     1     1\n",
      "1130     0     0\n",
      "12       1     1\n",
      "408      1     1\n",
      "\n",
      "[300 rows x 2 columns]\n"
     ]
    }
   ],
   "source": [
    "y_pred_p21 = sigmoid(p21[0]+p21[1]*X_test_DS1[\"x1\"]+p21[2]*X_test_DS1[\"x2\"])\n",
    "y_pred_p21 = y_pred_p21 >= 0.5\n",
    "y_pred_p21= y_pred_p21.astype(int)\n",
    "pred_vs_true_p21 = pd.DataFrame()\n",
    "pred_vs_true_p21['pred'] = y_pred_p21\n",
    "pred_vs_true_p21['true'] = y_test_DS1\n",
    "print(pred_vs_true_p21)"
   ]
  },
  {
   "cell_type": "code",
   "execution_count": 342,
   "id": "eleven-royalty",
   "metadata": {},
   "outputs": [
    {
     "name": "stdout",
     "output_type": "stream",
     "text": [
      "Mean Accuracy for    p21 : 1.0\n",
      "class 1 Accuracy for p21 : 1.0\n",
      "class 0 Accuracy for p21 : 1.0\n"
     ]
    }
   ],
   "source": [
    "showAccuracy(pred_vs_true_p21,'p21')"
   ]
  },
  {
   "cell_type": "code",
   "execution_count": 343,
   "id": "ready-macintosh",
   "metadata": {},
   "outputs": [
    {
     "name": "stdout",
     "output_type": "stream",
     "text": [
      "      pred  true\n",
      "91       1     1\n",
      "75       0     0\n",
      "1264     1     1\n",
      "330      1     1\n",
      "1349     1     1\n",
      "...    ...   ...\n",
      "1094     1     1\n",
      "1204     1     1\n",
      "1130     0     0\n",
      "12       1     1\n",
      "408      1     1\n",
      "\n",
      "[300 rows x 2 columns]\n"
     ]
    }
   ],
   "source": [
    "y_pred_p22 = sigmoid(p22[0]+p22[1]*X_test_DS2[\"x1\"]+p22[2]*X_test_DS2[\"x2\"]+p22[3]*X_test_DS2[\"x3\"])\n",
    "y_pred_p22 = y_pred_p22 >= 0.5\n",
    "y_pred_p22= y_pred_p22.astype(int)\n",
    "pred_vs_true_p22 = pd.DataFrame()\n",
    "pred_vs_true_p22['pred'] = y_pred_p22\n",
    "pred_vs_true_p22['true'] = y_test_DS2\n",
    "print(pred_vs_true_p22)"
   ]
  },
  {
   "cell_type": "code",
   "execution_count": 344,
   "id": "parliamentary-classic",
   "metadata": {},
   "outputs": [
    {
     "name": "stdout",
     "output_type": "stream",
     "text": [
      "Mean Accuracy for    p22 : 0.9933333333333333\n",
      "class 1 Accuracy for p22 : 0.9955947136563876\n",
      "class 0 Accuracy for p22 : 0.9863013698630136\n"
     ]
    }
   ],
   "source": [
    "showAccuracy(pred_vs_true_p22,'p22')"
   ]
  },
  {
   "cell_type": "code",
   "execution_count": 345,
   "id": "czech-jenny",
   "metadata": {},
   "outputs": [
    {
     "name": "stdout",
     "output_type": "stream",
     "text": [
      "      pred  true\n",
      "91       1     1\n",
      "75       0     0\n",
      "1264     1     1\n",
      "330      1     1\n",
      "1349     1     1\n",
      "...    ...   ...\n",
      "1094     1     1\n",
      "1204     1     1\n",
      "1130     0     0\n",
      "12       1     1\n",
      "408      1     1\n",
      "\n",
      "[300 rows x 2 columns]\n"
     ]
    }
   ],
   "source": [
    "y_pred_p31 = sigmoid(p31[0]+p31[1]*X_test_DS1[\"x1\"]+p31[2]*X_test_DS1[\"x2\"])\n",
    "y_pred_p31 = y_pred_p31 >= 0.5\n",
    "y_pred_p31= y_pred_p31.astype(int)\n",
    "pred_vs_true_p31 = pd.DataFrame()\n",
    "pred_vs_true_p31['pred'] = y_pred_p31\n",
    "pred_vs_true_p31['true'] = y_test_DS1\n",
    "print(pred_vs_true_p31)"
   ]
  },
  {
   "cell_type": "code",
   "execution_count": 346,
   "id": "vocal-shirt",
   "metadata": {},
   "outputs": [
    {
     "name": "stdout",
     "output_type": "stream",
     "text": [
      "Mean Accuracy for    p31 : 0.9966666666666667\n",
      "class 1 Accuracy for p31 : 1.0\n",
      "class 0 Accuracy for p31 : 0.9833333333333333\n"
     ]
    }
   ],
   "source": [
    "showAccuracy(pred_vs_true_p31,'p31')"
   ]
  },
  {
   "cell_type": "code",
   "execution_count": 347,
   "id": "working-decimal",
   "metadata": {},
   "outputs": [
    {
     "name": "stdout",
     "output_type": "stream",
     "text": [
      "      pred  true\n",
      "91       1     1\n",
      "75       0     0\n",
      "1264     1     1\n",
      "330      1     1\n",
      "1349     1     1\n",
      "...    ...   ...\n",
      "1094     1     1\n",
      "1204     1     1\n",
      "1130     0     0\n",
      "12       1     1\n",
      "408      1     1\n",
      "\n",
      "[300 rows x 2 columns]\n"
     ]
    }
   ],
   "source": [
    "y_pred_p32 = sigmoid(p32[0]+p32[1]*X_test_DS2[\"x1\"]+p32[2]*X_test_DS2[\"x2\"]+p32[3]*X_test_DS2[\"x3\"])\n",
    "y_pred_p32 = y_pred_p32 >= 0.5\n",
    "y_pred_p32= y_pred_p32.astype(int)\n",
    "pred_vs_true_p32 = pd.DataFrame()\n",
    "pred_vs_true_p32['pred'] = y_pred_p32\n",
    "pred_vs_true_p32['true'] = y_test_DS2\n",
    "print(pred_vs_true_p32)"
   ]
  },
  {
   "cell_type": "code",
   "execution_count": 348,
   "id": "rental-faith",
   "metadata": {},
   "outputs": [
    {
     "name": "stdout",
     "output_type": "stream",
     "text": [
      "Mean Accuracy for    p32 : 0.9966666666666667\n",
      "class 1 Accuracy for p32 : 1.0\n",
      "class 0 Accuracy for p32 : 0.9863013698630136\n"
     ]
    }
   ],
   "source": [
    "showAccuracy(pred_vs_true_p32,'p32')"
   ]
  },
  {
   "cell_type": "code",
   "execution_count": 349,
   "id": "obvious-happening",
   "metadata": {},
   "outputs": [
    {
     "name": "stdout",
     "output_type": "stream",
     "text": [
      "      pred  true\n",
      "91       1     1\n",
      "75       0     0\n",
      "1264     1     1\n",
      "330      1     1\n",
      "1349     1     1\n",
      "...    ...   ...\n",
      "1094     1     1\n",
      "1204     1     1\n",
      "1130     0     0\n",
      "12       1     1\n",
      "408      1     1\n",
      "\n",
      "[300 rows x 2 columns]\n"
     ]
    }
   ],
   "source": [
    "y_pred_p41 = sigmoid(p41[0]+p41[1]*X_test_DS1[\"x1\"]+p41[2]*X_test_DS1[\"x2\"])\n",
    "y_pred_p41 = y_pred_p41 >= 0.5\n",
    "y_pred_p41= y_pred_p41.astype(int)\n",
    "pred_vs_true_p41 = pd.DataFrame()\n",
    "pred_vs_true_p41['pred'] = y_pred_p41\n",
    "pred_vs_true_p41['true'] = y_test_DS1\n",
    "print(pred_vs_true_p41)"
   ]
  },
  {
   "cell_type": "code",
   "execution_count": 350,
   "id": "developing-orientation",
   "metadata": {},
   "outputs": [
    {
     "name": "stdout",
     "output_type": "stream",
     "text": [
      "Mean Accuracy for    p41 : 0.9966666666666667\n",
      "class 1 Accuracy for p41 : 1.0\n",
      "class 0 Accuracy for p41 : 0.9833333333333333\n"
     ]
    }
   ],
   "source": [
    "showAccuracy(pred_vs_true_p41,'p41')"
   ]
  },
  {
   "cell_type": "code",
   "execution_count": 351,
   "id": "important-blackjack",
   "metadata": {},
   "outputs": [
    {
     "name": "stdout",
     "output_type": "stream",
     "text": [
      "      pred  true\n",
      "91       1     1\n",
      "75       0     0\n",
      "1264     1     1\n",
      "330      1     1\n",
      "1349     1     1\n",
      "...    ...   ...\n",
      "1094     1     1\n",
      "1204     1     1\n",
      "1130     0     0\n",
      "12       1     1\n",
      "408      1     1\n",
      "\n",
      "[300 rows x 2 columns]\n"
     ]
    }
   ],
   "source": [
    "y_pred_p42 = sigmoid(p42[0]+p42[1]*X_test_DS2[\"x1\"]+p42[2]*X_test_DS2[\"x2\"]+p42[3]*X_test_DS2[\"x3\"])\n",
    "y_pred_p42 = y_pred_p42 >= 0.5\n",
    "y_pred_p42= y_pred_p42.astype(int)\n",
    "pred_vs_true_p42 = pd.DataFrame()\n",
    "pred_vs_true_p42['pred'] = y_pred_p42\n",
    "pred_vs_true_p42['true'] = y_test_DS2\n",
    "print(pred_vs_true_p42)"
   ]
  },
  {
   "cell_type": "code",
   "execution_count": 352,
   "id": "fluid-smart",
   "metadata": {},
   "outputs": [
    {
     "name": "stdout",
     "output_type": "stream",
     "text": [
      "Mean Accuracy for    p42 : 0.9966666666666667\n",
      "class 1 Accuracy for p42 : 1.0\n",
      "class 0 Accuracy for p42 : 0.9863013698630136\n"
     ]
    }
   ],
   "source": [
    "showAccuracy(pred_vs_true_p42,'p42')"
   ]
  },
  {
   "cell_type": "markdown",
   "id": "commercial-container",
   "metadata": {},
   "source": [
    "### Comparing accuracies of all models"
   ]
  },
  {
   "cell_type": "code",
   "execution_count": 353,
   "id": "cognitive-applicant",
   "metadata": {},
   "outputs": [
    {
     "name": "stdout",
     "output_type": "stream",
     "text": [
      "Mean Accuracy for    p11 : 1.0\n",
      "class 1 Accuracy for p11 : 1.0\n",
      "class 0 Accuracy for p11 : 1.0\n",
      "Mean Accuracy for    p12 : 0.9933333333333333\n",
      "class 1 Accuracy for p12 : 0.9955947136563876\n",
      "class 0 Accuracy for p12 : 0.9863013698630136\n",
      "Mean Accuracy for    p21 : 1.0\n",
      "class 1 Accuracy for p21 : 1.0\n",
      "class 0 Accuracy for p21 : 1.0\n",
      "Mean Accuracy for    p22 : 0.9933333333333333\n",
      "class 1 Accuracy for p22 : 0.9955947136563876\n",
      "class 0 Accuracy for p22 : 0.9863013698630136\n",
      "Mean Accuracy for    p31 : 0.9966666666666667\n",
      "class 1 Accuracy for p31 : 1.0\n",
      "class 0 Accuracy for p31 : 0.9833333333333333\n",
      "Mean Accuracy for    p32 : 0.9966666666666667\n",
      "class 1 Accuracy for p32 : 1.0\n",
      "class 0 Accuracy for p32 : 0.9863013698630136\n",
      "Mean Accuracy for    p41 : 0.9966666666666667\n",
      "class 1 Accuracy for p41 : 1.0\n",
      "class 0 Accuracy for p41 : 0.9833333333333333\n",
      "Mean Accuracy for    p42 : 0.9966666666666667\n",
      "class 1 Accuracy for p42 : 1.0\n",
      "class 0 Accuracy for p42 : 0.9863013698630136\n"
     ]
    }
   ],
   "source": [
    "for i in [(pred_vs_true_p11,'p11'),(pred_vs_true_p12,'p12'),\n",
    "          (pred_vs_true_p21,'p21'),(pred_vs_true_p22,'p22'),\n",
    "          (pred_vs_true_p31,'p31'),(pred_vs_true_p32,'p32'),\n",
    "          (pred_vs_true_p31,'p41'),(pred_vs_true_p32,'p42')]:\n",
    "    showAccuracy(i[0],i[1])"
   ]
  },
  {
   "cell_type": "markdown",
   "id": "minimal-mambo",
   "metadata": {},
   "source": [
    "# ii. Plot a decision boundary using the 2-dimensional feature dataset\n",
    "# using any one of the four combinations above (whichever gives the\n",
    "# highest accuracy)."
   ]
  },
  {
   "cell_type": "code",
   "execution_count": 366,
   "id": "prescription-diary",
   "metadata": {},
   "outputs": [],
   "source": [
    "# In the current run of the program for dataset 1 the best model \n",
    "# accuracy was achieved was achieved with p11\n",
    "# As observed from above accuracy table"
   ]
  },
  {
   "cell_type": "code",
   "execution_count": 355,
   "id": "spoken-spider",
   "metadata": {},
   "outputs": [
    {
     "data": {
      "image/png": "[encoded data removed]",
      "text/plain": [
       "<Figure size 432x288 with 1 Axes>"
      ]
     },
     "metadata": {
      "needs_background": "light"
     },
     "output_type": "display_data"
    }
   ],
   "source": [
    "# decision boundary: B0 + B1*x1 + B2*x2 = 0  or  x2 = -B0/B2 - B1/B2*x1\n",
    "\n",
    "plt.plot(X_test_DS1[\"x1\"] , -p11[0]/+p11[2]-p11[1]/p11[2]*X_test_DS1[\"x1\"])\n",
    "plt.scatter(X_test_DS1[\"x1\"],X_test_DS1[\"x2\"],c=y_test_DS1)\n",
    "plt.xlabel(\"x1\")\n",
    "plt.ylabel(\"x2\")\n",
    "plt.show()"
   ]
  },
  {
   "cell_type": "markdown",
   "id": "wooden-sympathy",
   "metadata": {},
   "source": [
    "# iii.Using 2 of the best features out of 3 in the 2nd dataset, plot a\n",
    "# decision boundary in the same way as above."
   ]
  },
  {
   "cell_type": "code",
   "execution_count": 367,
   "id": "attended-minimum",
   "metadata": {},
   "outputs": [],
   "source": [
    "# In the current run of the program for dataset 2 \n",
    "# the best model accuracy was achieved was achieved with p32\n",
    "# As observed from above accuracy table"
   ]
  },
  {
   "cell_type": "code",
   "execution_count": 365,
   "id": "recorded-chart",
   "metadata": {},
   "outputs": [
    {
     "name": "stdout",
     "output_type": "stream",
     "text": [
      "P32:\n",
      "[5.62733998 6.83793767 2.7196447  4.60588948]\n"
     ]
    }
   ],
   "source": [
    "print(\"P32:\")\n",
    "print(p32)"
   ]
  },
  {
   "cell_type": "code",
   "execution_count": 358,
   "id": "seven-strain",
   "metadata": {},
   "outputs": [
    {
     "data": {
      "image/png": "[encoded data removed]",
      "text/plain": [
       "<Figure size 432x288 with 1 Axes>"
      ]
     },
     "metadata": {
      "needs_background": "light"
     },
     "output_type": "display_data"
    }
   ],
   "source": [
    "plt.bar([\"B1\",\"B2\",\"B3\"],[p32[1],p32[2],p32[3]])\n",
    "plt.show()"
   ]
  },
  {
   "cell_type": "code",
   "execution_count": 359,
   "id": "resident-upset",
   "metadata": {},
   "outputs": [],
   "source": [
    "# Out of the 3 features B1 and B3 has highest values (hence they have highest p-values)\n",
    "# hence x1 and x3 are most important features\n",
    "# Lets retrain model with x1 annd x3"
   ]
  },
  {
   "cell_type": "code",
   "execution_count": 360,
   "id": "photographic-silver",
   "metadata": {},
   "outputs": [
    {
     "name": "stdout",
     "output_type": "stream",
     "text": [
      "Training Dataset2 with only 2 features \n",
      "\n",
      "            x1        x3\n",
      "73    0.828468  0.377299\n",
      "701   1.177751 -0.099042\n",
      "1307  1.171715  0.077047\n",
      "556  -0.275585  0.843387\n",
      "785  -2.002407 -0.853271\n",
      "...        ...       ...\n",
      "715   1.453503  1.139120\n",
      "905  -0.888603 -0.516722\n",
      "1096  0.044529 -1.084731\n",
      "235  -1.291324 -0.472648\n",
      "1061  0.135804  0.375914\n",
      "\n",
      "[1200 rows x 2 columns]\n"
     ]
    }
   ],
   "source": [
    "X_train_DS2_new = X_train_DS2.copy()\n",
    "X_train_DS2_new = X_train_DS2_new.drop(['x2'], axis=1)\n",
    "print(\"Training Dataset2 with only 2 features \\n\")\n",
    "print(X_train_DS2_new)"
   ]
  },
  {
   "cell_type": "code",
   "execution_count": 361,
   "id": "unlimited-representative",
   "metadata": {},
   "outputs": [
    {
     "name": "stdout",
     "output_type": "stream",
     "text": [
      "Testing Dataset2 with only 2 features \n",
      "\n",
      "            x1        x3\n",
      "91    0.134015  0.624332\n",
      "75   -2.084333 -0.143184\n",
      "1264  0.279067 -0.383344\n",
      "330   0.388284  0.814760\n",
      "1349  1.385994  0.271802\n",
      "...        ...       ...\n",
      "1094 -0.239433 -0.499825\n",
      "1204 -0.267117  0.283654\n",
      "1130 -1.848702 -0.782245\n",
      "12   -0.376086  0.928278\n",
      "408   0.401801  0.543784\n",
      "\n",
      "[300 rows x 2 columns]\n"
     ]
    }
   ],
   "source": [
    "X_test_DS2_new = X_test_DS2.copy()\n",
    "X_test_DS2_new = X_test_DS2_new.drop(['x2'], axis=1)\n",
    "print(\"Testing Dataset2 with only 2 features \\n\")\n",
    "print(X_test_DS2_new)"
   ]
  },
  {
   "cell_type": "code",
   "execution_count": 362,
   "id": "overhead-bandwidth",
   "metadata": {},
   "outputs": [
    {
     "name": "stdout",
     "output_type": "stream",
     "text": [
      "P32_new:  [3.13471417 3.88457454 2.57726134]\n"
     ]
    }
   ],
   "source": [
    "logistic_reg_DS2_new = LogisticRegression(penalty='l2',tol=1e-2,solver='newton-cg').fit(X_train_DS2_new, y_train_DS2)\n",
    "p32_new = np.concatenate((np.array(logistic_reg_DS2_new.intercept_),np.array(logistic_reg_DS2_new.coef_).flatten()),axis=0)\n",
    "print(\"P32_new: \",p32_new)"
   ]
  },
  {
   "cell_type": "code",
   "execution_count": 363,
   "id": "false-simon",
   "metadata": {},
   "outputs": [],
   "source": [
    "# Plotting decision boundary with these two features "
   ]
  },
  {
   "cell_type": "code",
   "execution_count": 369,
   "id": "unavailable-better",
   "metadata": {},
   "outputs": [
    {
     "data": {
      "image/png": "[encoded data removed]",
      "text/plain": [
       "<Figure size 432x288 with 1 Axes>"
      ]
     },
     "metadata": {
      "needs_background": "light"
     },
     "output_type": "display_data"
    }
   ],
   "source": [
    "# decision boundary: B0 + B1*x1 + B2*x3 = 0  or  x3 = -B0/B2 - B1/B2*x3\n",
    "\n",
    "plt.plot(X_test_DS2_new[\"x1\"] , -p32_new[0]/+p32_new[2]-p32_new[1]/p32_new[2]*X_test_DS2_new[\"x1\"])\n",
    "plt.scatter(X_test_DS2_new[\"x1\"],X_test_DS2_new[\"x3\"],c=y_test_DS2)\n",
    "plt.xlabel(\"x1\")\n",
    "plt.ylabel(\"x3\")\n",
    "plt.show()"
   ]
  }
 ],
 "metadata": {
  "kernelspec": {
   "display_name": "Python 3",
   "language": "python",
   "name": "python3"
  },
  "language_info": {
   "codemirror_mode": {
    "name": "ipython",
    "version": 3
   },
   "file_extension": ".py",
   "mimetype": "text/x-python",
   "name": "python",
   "nbconvert_exporter": "python",
   "pygments_lexer": "ipython3",
   "version": "3.9.2"
  }
 },
 "nbformat": 4,
 "nbformat_minor": 5
}
