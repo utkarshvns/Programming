{
 "cells": [
  {
   "cell_type": "markdown",
   "id": "nearby-russia",
   "metadata": {},
   "source": [
    "# Roll number: 20BM6JP15\n",
    "# Name: Utkarsh Yadav\n",
    "# Assignment number: 3"
   ]
  },
  {
   "cell_type": "markdown",
   "id": "electronic-state",
   "metadata": {},
   "source": [
    "# Gradient Boosting"
   ]
  },
  {
   "cell_type": "markdown",
   "id": "accepting-cooler",
   "metadata": {},
   "source": [
    "Problem Statement: Diabetes classification using XGBoost Classifier.\n",
    "Dataset: Please download the dataset from the link:\n",
    "https://www.dropbox.com/s/c1q3qix77hclbf2/diabetes.csv?dl=0\n",
    "The dataset consists of 9 features like “Glucose”, “BloodPressure” etc. The target variable is\n",
    "the field named as “Outcome” which holds 2 values, 0 or 1."
   ]
  },
  {
   "cell_type": "code",
   "execution_count": 1,
   "id": "close-bangladesh",
   "metadata": {},
   "outputs": [],
   "source": [
    "import numpy as np\n",
    "import pandas as pd\n",
    "from matplotlib import pyplot as plt\n",
    "\n",
    "from sklearn.model_selection import train_test_split\n",
    "\n",
    "from xgboost import XGBClassifier\n",
    "from sklearn import metrics"
   ]
  },
  {
   "cell_type": "markdown",
   "id": "italian-fancy",
   "metadata": {},
   "source": [
    "### Loading data"
   ]
  },
  {
   "cell_type": "code",
   "execution_count": 2,
   "id": "extensive-translation",
   "metadata": {},
   "outputs": [],
   "source": [
    "data = pd.read_csv(\"diabetes.csv\")"
   ]
  },
  {
   "cell_type": "code",
   "execution_count": 3,
   "id": "preliminary-broadcast",
   "metadata": {},
   "outputs": [
    {
     "data": {
      "text/html": [
       "<div>\n",
       "<style scoped>\n",
       "    .dataframe tbody tr th:only-of-type {\n",
       "        vertical-align: middle;\n",
       "    }\n",
       "\n",
       "    .dataframe tbody tr th {\n",
       "        vertical-align: top;\n",
       "    }\n",
       "\n",
       "    .dataframe thead th {\n",
       "        text-align: right;\n",
       "    }\n",
       "</style>\n",
       "<table border=\"1\" class=\"dataframe\">\n",
       "  <thead>\n",
       "    <tr style=\"text-align: right;\">\n",
       "      <th></th>\n",
       "      <th>Pregnancies</th>\n",
       "      <th>Glucose</th>\n",
       "      <th>BloodPressure</th>\n",
       "      <th>SkinThickness</th>\n",
       "      <th>Insulin</th>\n",
       "      <th>BMI</th>\n",
       "      <th>DiabetesPedigreeFunction</th>\n",
       "      <th>Age</th>\n",
       "      <th>Outcome</th>\n",
       "    </tr>\n",
       "  </thead>\n",
       "  <tbody>\n",
       "    <tr>\n",
       "      <th>0</th>\n",
       "      <td>6</td>\n",
       "      <td>148</td>\n",
       "      <td>72</td>\n",
       "      <td>35</td>\n",
       "      <td>0</td>\n",
       "      <td>33.6</td>\n",
       "      <td>0.627</td>\n",
       "      <td>50</td>\n",
       "      <td>1</td>\n",
       "    </tr>\n",
       "    <tr>\n",
       "      <th>1</th>\n",
       "      <td>1</td>\n",
       "      <td>85</td>\n",
       "      <td>66</td>\n",
       "      <td>29</td>\n",
       "      <td>0</td>\n",
       "      <td>26.6</td>\n",
       "      <td>0.351</td>\n",
       "      <td>31</td>\n",
       "      <td>0</td>\n",
       "    </tr>\n",
       "    <tr>\n",
       "      <th>2</th>\n",
       "      <td>8</td>\n",
       "      <td>183</td>\n",
       "      <td>64</td>\n",
       "      <td>0</td>\n",
       "      <td>0</td>\n",
       "      <td>23.3</td>\n",
       "      <td>0.672</td>\n",
       "      <td>32</td>\n",
       "      <td>1</td>\n",
       "    </tr>\n",
       "    <tr>\n",
       "      <th>3</th>\n",
       "      <td>1</td>\n",
       "      <td>89</td>\n",
       "      <td>66</td>\n",
       "      <td>23</td>\n",
       "      <td>94</td>\n",
       "      <td>28.1</td>\n",
       "      <td>0.167</td>\n",
       "      <td>21</td>\n",
       "      <td>0</td>\n",
       "    </tr>\n",
       "    <tr>\n",
       "      <th>4</th>\n",
       "      <td>0</td>\n",
       "      <td>137</td>\n",
       "      <td>40</td>\n",
       "      <td>35</td>\n",
       "      <td>168</td>\n",
       "      <td>43.1</td>\n",
       "      <td>2.288</td>\n",
       "      <td>33</td>\n",
       "      <td>1</td>\n",
       "    </tr>\n",
       "    <tr>\n",
       "      <th>...</th>\n",
       "      <td>...</td>\n",
       "      <td>...</td>\n",
       "      <td>...</td>\n",
       "      <td>...</td>\n",
       "      <td>...</td>\n",
       "      <td>...</td>\n",
       "      <td>...</td>\n",
       "      <td>...</td>\n",
       "      <td>...</td>\n",
       "    </tr>\n",
       "    <tr>\n",
       "      <th>763</th>\n",
       "      <td>10</td>\n",
       "      <td>101</td>\n",
       "      <td>76</td>\n",
       "      <td>48</td>\n",
       "      <td>180</td>\n",
       "      <td>32.9</td>\n",
       "      <td>0.171</td>\n",
       "      <td>63</td>\n",
       "      <td>0</td>\n",
       "    </tr>\n",
       "    <tr>\n",
       "      <th>764</th>\n",
       "      <td>2</td>\n",
       "      <td>122</td>\n",
       "      <td>70</td>\n",
       "      <td>27</td>\n",
       "      <td>0</td>\n",
       "      <td>36.8</td>\n",
       "      <td>0.340</td>\n",
       "      <td>27</td>\n",
       "      <td>0</td>\n",
       "    </tr>\n",
       "    <tr>\n",
       "      <th>765</th>\n",
       "      <td>5</td>\n",
       "      <td>121</td>\n",
       "      <td>72</td>\n",
       "      <td>23</td>\n",
       "      <td>112</td>\n",
       "      <td>26.2</td>\n",
       "      <td>0.245</td>\n",
       "      <td>30</td>\n",
       "      <td>0</td>\n",
       "    </tr>\n",
       "    <tr>\n",
       "      <th>766</th>\n",
       "      <td>1</td>\n",
       "      <td>126</td>\n",
       "      <td>60</td>\n",
       "      <td>0</td>\n",
       "      <td>0</td>\n",
       "      <td>30.1</td>\n",
       "      <td>0.349</td>\n",
       "      <td>47</td>\n",
       "      <td>1</td>\n",
       "    </tr>\n",
       "    <tr>\n",
       "      <th>767</th>\n",
       "      <td>1</td>\n",
       "      <td>93</td>\n",
       "      <td>70</td>\n",
       "      <td>31</td>\n",
       "      <td>0</td>\n",
       "      <td>30.4</td>\n",
       "      <td>0.315</td>\n",
       "      <td>23</td>\n",
       "      <td>0</td>\n",
       "    </tr>\n",
       "  </tbody>\n",
       "</table>\n",
       "<p>768 rows × 9 columns</p>\n",
       "</div>"
      ],
      "text/plain": [
       "     Pregnancies  Glucose  BloodPressure  SkinThickness  Insulin   BMI  \\\n",
       "0              6      148             72             35        0  33.6   \n",
       "1              1       85             66             29        0  26.6   \n",
       "2              8      183             64              0        0  23.3   \n",
       "3              1       89             66             23       94  28.1   \n",
       "4              0      137             40             35      168  43.1   \n",
       "..           ...      ...            ...            ...      ...   ...   \n",
       "763           10      101             76             48      180  32.9   \n",
       "764            2      122             70             27        0  36.8   \n",
       "765            5      121             72             23      112  26.2   \n",
       "766            1      126             60              0        0  30.1   \n",
       "767            1       93             70             31        0  30.4   \n",
       "\n",
       "     DiabetesPedigreeFunction  Age  Outcome  \n",
       "0                       0.627   50        1  \n",
       "1                       0.351   31        0  \n",
       "2                       0.672   32        1  \n",
       "3                       0.167   21        0  \n",
       "4                       2.288   33        1  \n",
       "..                        ...  ...      ...  \n",
       "763                     0.171   63        0  \n",
       "764                     0.340   27        0  \n",
       "765                     0.245   30        0  \n",
       "766                     0.349   47        1  \n",
       "767                     0.315   23        0  \n",
       "\n",
       "[768 rows x 9 columns]"
      ]
     },
     "execution_count": 3,
     "metadata": {},
     "output_type": "execute_result"
    }
   ],
   "source": [
    "data"
   ]
  },
  {
   "cell_type": "code",
   "execution_count": 4,
   "id": "likely-public",
   "metadata": {},
   "outputs": [
    {
     "data": {
      "text/html": [
       "<div>\n",
       "<style scoped>\n",
       "    .dataframe tbody tr th:only-of-type {\n",
       "        vertical-align: middle;\n",
       "    }\n",
       "\n",
       "    .dataframe tbody tr th {\n",
       "        vertical-align: top;\n",
       "    }\n",
       "\n",
       "    .dataframe thead th {\n",
       "        text-align: right;\n",
       "    }\n",
       "</style>\n",
       "<table border=\"1\" class=\"dataframe\">\n",
       "  <thead>\n",
       "    <tr style=\"text-align: right;\">\n",
       "      <th></th>\n",
       "      <th>Pregnancies</th>\n",
       "      <th>Glucose</th>\n",
       "      <th>BloodPressure</th>\n",
       "      <th>SkinThickness</th>\n",
       "      <th>Insulin</th>\n",
       "      <th>BMI</th>\n",
       "      <th>DiabetesPedigreeFunction</th>\n",
       "      <th>Age</th>\n",
       "    </tr>\n",
       "  </thead>\n",
       "  <tbody>\n",
       "    <tr>\n",
       "      <th>0</th>\n",
       "      <td>6</td>\n",
       "      <td>148</td>\n",
       "      <td>72</td>\n",
       "      <td>35</td>\n",
       "      <td>0</td>\n",
       "      <td>33.6</td>\n",
       "      <td>0.627</td>\n",
       "      <td>50</td>\n",
       "    </tr>\n",
       "    <tr>\n",
       "      <th>1</th>\n",
       "      <td>1</td>\n",
       "      <td>85</td>\n",
       "      <td>66</td>\n",
       "      <td>29</td>\n",
       "      <td>0</td>\n",
       "      <td>26.6</td>\n",
       "      <td>0.351</td>\n",
       "      <td>31</td>\n",
       "    </tr>\n",
       "    <tr>\n",
       "      <th>2</th>\n",
       "      <td>8</td>\n",
       "      <td>183</td>\n",
       "      <td>64</td>\n",
       "      <td>0</td>\n",
       "      <td>0</td>\n",
       "      <td>23.3</td>\n",
       "      <td>0.672</td>\n",
       "      <td>32</td>\n",
       "    </tr>\n",
       "    <tr>\n",
       "      <th>3</th>\n",
       "      <td>1</td>\n",
       "      <td>89</td>\n",
       "      <td>66</td>\n",
       "      <td>23</td>\n",
       "      <td>94</td>\n",
       "      <td>28.1</td>\n",
       "      <td>0.167</td>\n",
       "      <td>21</td>\n",
       "    </tr>\n",
       "    <tr>\n",
       "      <th>4</th>\n",
       "      <td>0</td>\n",
       "      <td>137</td>\n",
       "      <td>40</td>\n",
       "      <td>35</td>\n",
       "      <td>168</td>\n",
       "      <td>43.1</td>\n",
       "      <td>2.288</td>\n",
       "      <td>33</td>\n",
       "    </tr>\n",
       "    <tr>\n",
       "      <th>...</th>\n",
       "      <td>...</td>\n",
       "      <td>...</td>\n",
       "      <td>...</td>\n",
       "      <td>...</td>\n",
       "      <td>...</td>\n",
       "      <td>...</td>\n",
       "      <td>...</td>\n",
       "      <td>...</td>\n",
       "    </tr>\n",
       "    <tr>\n",
       "      <th>763</th>\n",
       "      <td>10</td>\n",
       "      <td>101</td>\n",
       "      <td>76</td>\n",
       "      <td>48</td>\n",
       "      <td>180</td>\n",
       "      <td>32.9</td>\n",
       "      <td>0.171</td>\n",
       "      <td>63</td>\n",
       "    </tr>\n",
       "    <tr>\n",
       "      <th>764</th>\n",
       "      <td>2</td>\n",
       "      <td>122</td>\n",
       "      <td>70</td>\n",
       "      <td>27</td>\n",
       "      <td>0</td>\n",
       "      <td>36.8</td>\n",
       "      <td>0.340</td>\n",
       "      <td>27</td>\n",
       "    </tr>\n",
       "    <tr>\n",
       "      <th>765</th>\n",
       "      <td>5</td>\n",
       "      <td>121</td>\n",
       "      <td>72</td>\n",
       "      <td>23</td>\n",
       "      <td>112</td>\n",
       "      <td>26.2</td>\n",
       "      <td>0.245</td>\n",
       "      <td>30</td>\n",
       "    </tr>\n",
       "    <tr>\n",
       "      <th>766</th>\n",
       "      <td>1</td>\n",
       "      <td>126</td>\n",
       "      <td>60</td>\n",
       "      <td>0</td>\n",
       "      <td>0</td>\n",
       "      <td>30.1</td>\n",
       "      <td>0.349</td>\n",
       "      <td>47</td>\n",
       "    </tr>\n",
       "    <tr>\n",
       "      <th>767</th>\n",
       "      <td>1</td>\n",
       "      <td>93</td>\n",
       "      <td>70</td>\n",
       "      <td>31</td>\n",
       "      <td>0</td>\n",
       "      <td>30.4</td>\n",
       "      <td>0.315</td>\n",
       "      <td>23</td>\n",
       "    </tr>\n",
       "  </tbody>\n",
       "</table>\n",
       "<p>768 rows × 8 columns</p>\n",
       "</div>"
      ],
      "text/plain": [
       "     Pregnancies  Glucose  BloodPressure  SkinThickness  Insulin   BMI  \\\n",
       "0              6      148             72             35        0  33.6   \n",
       "1              1       85             66             29        0  26.6   \n",
       "2              8      183             64              0        0  23.3   \n",
       "3              1       89             66             23       94  28.1   \n",
       "4              0      137             40             35      168  43.1   \n",
       "..           ...      ...            ...            ...      ...   ...   \n",
       "763           10      101             76             48      180  32.9   \n",
       "764            2      122             70             27        0  36.8   \n",
       "765            5      121             72             23      112  26.2   \n",
       "766            1      126             60              0        0  30.1   \n",
       "767            1       93             70             31        0  30.4   \n",
       "\n",
       "     DiabetesPedigreeFunction  Age  \n",
       "0                       0.627   50  \n",
       "1                       0.351   31  \n",
       "2                       0.672   32  \n",
       "3                       0.167   21  \n",
       "4                       2.288   33  \n",
       "..                        ...  ...  \n",
       "763                     0.171   63  \n",
       "764                     0.340   27  \n",
       "765                     0.245   30  \n",
       "766                     0.349   47  \n",
       "767                     0.315   23  \n",
       "\n",
       "[768 rows x 8 columns]"
      ]
     },
     "execution_count": 4,
     "metadata": {},
     "output_type": "execute_result"
    }
   ],
   "source": [
    "X = data.copy()\n",
    "X = X.drop(['Outcome'],axis=1)\n",
    "X"
   ]
  },
  {
   "cell_type": "code",
   "execution_count": 5,
   "id": "magnetic-stroke",
   "metadata": {},
   "outputs": [
    {
     "data": {
      "text/plain": [
       "0      1\n",
       "1      0\n",
       "2      1\n",
       "3      0\n",
       "4      1\n",
       "      ..\n",
       "763    0\n",
       "764    0\n",
       "765    0\n",
       "766    1\n",
       "767    0\n",
       "Name: Outcome, Length: 768, dtype: int64"
      ]
     },
     "execution_count": 5,
     "metadata": {},
     "output_type": "execute_result"
    }
   ],
   "source": [
    "y = data['Outcome']\n",
    "y"
   ]
  },
  {
   "cell_type": "markdown",
   "id": "satellite-smoke",
   "metadata": {},
   "source": [
    "# Use a 80-20 train-test split for the experiment."
   ]
  },
  {
   "cell_type": "code",
   "execution_count": 6,
   "id": "canadian-timing",
   "metadata": {},
   "outputs": [],
   "source": [
    "X_train, X_test, y_train, y_test = train_test_split(X, y, test_size=0.2, random_state=1)"
   ]
  },
  {
   "cell_type": "markdown",
   "id": "excessive-surveillance",
   "metadata": {},
   "source": [
    "# Assignment Tasks: In this assignment, please use the XGBClassifier available under XGBoost python package to perform classification on the Diabetes dataset. Please vary the following parameters and report the test set accuracies for each combination below:"
   ]
  },
  {
   "cell_type": "markdown",
   "id": "about-liechtenstein",
   "metadata": {},
   "source": [
    "# 1. Learning rate = 0.1, objective = logistic regression"
   ]
  },
  {
   "cell_type": "code",
   "execution_count": 7,
   "id": "conceptual-mortality",
   "metadata": {},
   "outputs": [
    {
     "name": "stdout",
     "output_type": "stream",
     "text": [
      "\n",
      "Accuracy with Learning rate = 0.1, objective = logistic regression is :\n",
      " 0.7727272727272727\n"
     ]
    }
   ],
   "source": [
    "xgb = XGBClassifier(learning_rate=0.1, objective=\"binary:logistic\" , eval_metric = 'logloss',use_label_encoder=False)\n",
    "xgb.fit(X_train,y_train)\n",
    "\n",
    "print(\"\\nAccuracy with Learning rate = 0.1, objective = logistic regression is :\\n\",xgb.score(X_test,y_test))"
   ]
  },
  {
   "cell_type": "markdown",
   "id": "automated-grill",
   "metadata": {},
   "source": [
    "# 2. Learning rate = 0.1, objective = hinge loss"
   ]
  },
  {
   "cell_type": "code",
   "execution_count": 8,
   "id": "bibliographic-entity",
   "metadata": {},
   "outputs": [
    {
     "name": "stdout",
     "output_type": "stream",
     "text": [
      "\n",
      "Accuracy with Learning rate = 0.1, objective = hinge loss is :\n",
      " 0.7337662337662337\n"
     ]
    }
   ],
   "source": [
    "xgb = XGBClassifier(learning_rate=0.1, objective=\"binary:hinge\", eval_metric = 'logloss',use_label_encoder=False)\n",
    "xgb.fit(X_train,y_train)\n",
    "\n",
    "print(\"\\nAccuracy with Learning rate = 0.1, objective = hinge loss is :\\n\",xgb.score(X_test,y_test))"
   ]
  },
  {
   "cell_type": "markdown",
   "id": "adverse-lafayette",
   "metadata": {},
   "source": [
    "# 3. Learning rate = 0.3, objective = logistic regression, max_depth = 2"
   ]
  },
  {
   "cell_type": "code",
   "execution_count": 9,
   "id": "fuzzy-mambo",
   "metadata": {},
   "outputs": [
    {
     "name": "stdout",
     "output_type": "stream",
     "text": [
      "\n",
      "Accuracy with Learning rate = 0.3, objective = logistic regression, max_depth = 2 is :\n",
      " 0.7922077922077922\n"
     ]
    }
   ],
   "source": [
    "xgb = XGBClassifier(learning_rate=0.3, objective=\"binary:logistic\", max_depth = 2, eval_metric = 'logloss',use_label_encoder=False)\n",
    "xgb.fit(X_train,y_train)\n",
    "\n",
    "print(\"\\nAccuracy with Learning rate = 0.3, objective = logistic regression, max_depth = 2 is :\\n\",xgb.score(X_test,y_test))"
   ]
  },
  {
   "cell_type": "markdown",
   "id": "suspected-lodge",
   "metadata": {},
   "source": [
    "# 4. Learning rate = 0.3, objective = logistic regression, max_depth = 8"
   ]
  },
  {
   "cell_type": "code",
   "execution_count": 10,
   "id": "daily-mistake",
   "metadata": {},
   "outputs": [
    {
     "name": "stdout",
     "output_type": "stream",
     "text": [
      "\n",
      "Accuracy with Learning rate = 0.3, objective = logistic regression, max_depth = 8 is :\n",
      " 0.7337662337662337\n"
     ]
    }
   ],
   "source": [
    "xgb = XGBClassifier(learning_rate=0.3, objective=\"binary:logistic\", max_depth = 8, eval_metric = 'logloss',use_label_encoder=False)\n",
    "xgb.fit(X_train,y_train)\n",
    "\n",
    "print(\"\\nAccuracy with Learning rate = 0.3, objective = logistic regression, max_depth = 8 is :\\n\",xgb.score(X_test,y_test))"
   ]
  },
  {
   "cell_type": "markdown",
   "id": "simplified-promotion",
   "metadata": {},
   "source": [
    "# 5. Learning rate = 0.7, objective = logistic regression"
   ]
  },
  {
   "cell_type": "code",
   "execution_count": 11,
   "id": "congressional-miracle",
   "metadata": {},
   "outputs": [
    {
     "name": "stdout",
     "output_type": "stream",
     "text": [
      "\n",
      "Accuracy with Learning rate = 0.7, objective = logistic regression is :\n",
      " 0.7402597402597403\n"
     ]
    }
   ],
   "source": [
    "xgb = XGBClassifier(learning_rate=0.7, objective=\"binary:logistic\", eval_metric = 'logloss',use_label_encoder=False)\n",
    "xgb.fit(X_train,y_train)\n",
    "\n",
    "print(\"\\nAccuracy with Learning rate = 0.7, objective = logistic regression is :\\n\",xgb.score(X_test,y_test))"
   ]
  },
  {
   "cell_type": "markdown",
   "id": "second-technique",
   "metadata": {},
   "source": [
    "# 6. Learning rate = 0.7, objective = hinge loss"
   ]
  },
  {
   "cell_type": "code",
   "execution_count": 12,
   "id": "attached-referral",
   "metadata": {},
   "outputs": [
    {
     "name": "stdout",
     "output_type": "stream",
     "text": [
      "\n",
      "Accuracy with Learning rate = 0.7, objective = hinge loss is :\n",
      " 0.7337662337662337\n"
     ]
    }
   ],
   "source": [
    "xgb = XGBClassifier(learning_rate=0.7, objective=\"binary:hinge\", eval_metric = 'logloss',use_label_encoder=False)\n",
    "xgb.fit(X_train,y_train)\n",
    "\n",
    "print(\"\\nAccuracy with Learning rate = 0.7, objective = hinge loss is :\\n\",xgb.score(X_test,y_test))"
   ]
  },
  {
   "cell_type": "markdown",
   "id": "blind-interpretation",
   "metadata": {},
   "source": [
    "# 7. Learning rate = 0.7, objective = hinge loss, max_depth = 8"
   ]
  },
  {
   "cell_type": "code",
   "execution_count": 13,
   "id": "exterior-coral",
   "metadata": {},
   "outputs": [
    {
     "name": "stdout",
     "output_type": "stream",
     "text": [
      "\n",
      "Accuracy with Learning rate = 0.7, objective = hinge loss, max_depth = 8 is :\n",
      " 0.7077922077922078\n"
     ]
    }
   ],
   "source": [
    "xgb = XGBClassifier(learning_rate=0.7, objective=\"binary:hinge\", max_depth = 8, eval_metric = 'logloss',use_label_encoder=False)\n",
    "xgb.fit(X_train,y_train)\n",
    "\n",
    "print(\"\\nAccuracy with Learning rate = 0.7, objective = hinge loss, max_depth = 8 is :\\n\",xgb.score(X_test,y_test))"
   ]
  },
  {
   "cell_type": "markdown",
   "id": "informative-macintosh",
   "metadata": {},
   "source": [
    "# 8. Learning rate = 0.3, objective = logistic regression, L1 regularisation = 0.2, max_depth = 8"
   ]
  },
  {
   "cell_type": "code",
   "execution_count": 14,
   "id": "sacred-adolescent",
   "metadata": {},
   "outputs": [
    {
     "name": "stdout",
     "output_type": "stream",
     "text": [
      "\n",
      "Accuracy with Learning rate = 0.3, objective = logistic regression, L1 regularisation = 0.2, max_depth = 8 is :\n",
      " 0.7857142857142857\n"
     ]
    }
   ],
   "source": [
    "xgb = XGBClassifier(learning_rate=0.3, objective=\"binary:logistic\",reg_lambda=0.2, max_depth = 8, eval_metric = 'logloss',use_label_encoder=False)\n",
    "xgb.fit(X_train,y_train)\n",
    "\n",
    "print(\"\\nAccuracy with Learning rate = 0.3, objective = logistic regression, L1 regularisation = 0.2, max_depth = 8 is :\\n\",xgb.score(X_test,y_test))"
   ]
  },
  {
   "cell_type": "markdown",
   "id": "dress-death",
   "metadata": {},
   "source": [
    "# 9. Learning rate = 0.3, objective = logistic regression, L2 regularisation = 0.2, max_depth= 8"
   ]
  },
  {
   "cell_type": "code",
   "execution_count": 15,
   "id": "polyphonic-debate",
   "metadata": {},
   "outputs": [
    {
     "name": "stdout",
     "output_type": "stream",
     "text": [
      "\n",
      "Accuracy with Learning rate = 0.3, objective = logistic regression, L2 regularisation = 0.2, max_depth= 8 is :\n",
      " 0.7727272727272727\n"
     ]
    }
   ],
   "source": [
    "xgb = XGBClassifier(learning_rate=0.3, objective=\"binary:logistic\",reg_alpha=0.2, max_depth = 8, eval_metric = 'logloss',use_label_encoder=False)\n",
    "xgb.fit(X_train,y_train)\n",
    "\n",
    "print(\"\\nAccuracy with Learning rate = 0.3, objective = logistic regression, L2 regularisation = 0.2, max_depth= 8 is :\\n\",xgb.score(X_test,y_test))"
   ]
  },
  {
   "cell_type": "markdown",
   "id": "after-moses",
   "metadata": {},
   "source": [
    "# 10. Learning rate = 0.3, objective = logistic regression, split finding algorithm = Approximation Algorithm (present in the original paper https://arxiv.org/pdf/1603.02754.pdf )"
   ]
  },
  {
   "cell_type": "code",
   "execution_count": 16,
   "id": "rotary-console",
   "metadata": {},
   "outputs": [
    {
     "name": "stdout",
     "output_type": "stream",
     "text": [
      "\n",
      "Accuracy with Learning rate = 0.3, objective = logistic regression, split finding algorithm = Approximation Algorithm (present in the original paper https://arxiv.org/pdf/1603.02754.pdf ) is :\n",
      " 0.7727272727272727\n"
     ]
    }
   ],
   "source": [
    "# https://xgboost.readthedocs.io/en/latest/treemethod.html\n",
    "\n",
    "xgb = XGBClassifier(learning_rate=0.3, objective=\"binary:logistic\",tree_method=\"approx\", eval_metric = 'logloss',use_label_encoder=False)\n",
    "xgb.fit(X_train,y_train)\n",
    "\n",
    "print(\"\\nAccuracy with Learning rate = 0.3, objective = logistic regression, split finding algorithm = Approximation Algorithm (present in the original paper https://arxiv.org/pdf/1603.02754.pdf ) is :\\n\",xgb.score(X_test,y_test))"
   ]
  },
  {
   "cell_type": "markdown",
   "id": "velvet-theorem",
   "metadata": {},
   "source": [
    "# Summary "
   ]
  },
  {
   "cell_type": "markdown",
   "id": "separate-thumbnail",
   "metadata": {},
   "source": [
    "Accuracy with Learning rate = 0.1, objective = logistic regression is : 0.7727272727272727\n",
    "    \n",
    "Accuracy with Learning rate = 0.1, objective = hinge loss is : 0.7337662337662337\n",
    "    \n",
    "Accuracy with Learning rate = 0.3, objective = logistic regression, max_depth = 2 is : 0.7922077922077922\n",
    "    \n",
    "Accuracy with Learning rate = 0.3, objective = logistic regression, max_depth = 8 is : 0.7337662337662337\n",
    "    \n",
    "Accuracy with Learning rate = 0.7, objective = logistic regression is : 0.7402597402597403\n",
    "    \n",
    "Accuracy with Learning rate = 0.7, objective = hinge loss is : 0.7337662337662337\n",
    "    \n",
    "Accuracy with Learning rate = 0.7, objective = hinge loss, max_depth = 8 is : 0.7077922077922078\n",
    "    \n",
    "Accuracy with Learning rate = 0.3, objective = logistic regression, L1 regularisation = 0.2, max_depth = 8 is: 0.7857142857142857\n",
    "    \n",
    "Accuracy with Learning rate = 0.3, objective = logistic regression, L2 regularisation = 0.2, max_depth= 8 is : 0.7727272727272727\n",
    "    \n",
    "Accuracy with Learning rate = 0.3, objective = logistic regression, split finding algorithm = Approximation Algorithm (present in the original paper https://arxiv.org/pdf/1603.02754.pdf ) is : 0.7727272727272727"
   ]
  },
  {
   "cell_type": "code",
   "execution_count": null,
   "id": "acoustic-pointer",
   "metadata": {},
   "outputs": [],
   "source": []
  }
 ],
 "metadata": {
  "kernelspec": {
   "display_name": "Python 3",
   "language": "python",
   "name": "python3"
  },
  "language_info": {
   "codemirror_mode": {
    "name": "ipython",
    "version": 3
   },
   "file_extension": ".py",
   "mimetype": "text/x-python",
   "name": "python",
   "nbconvert_exporter": "python",
   "pygments_lexer": "ipython3",
   "version": "3.8.8"
  }
 },
 "nbformat": 4,
 "nbformat_minor": 5
}
