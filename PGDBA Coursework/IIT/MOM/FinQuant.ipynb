{
 "cells": [
  {
   "cell_type": "code",
   "execution_count": 1,
   "id": "18a44a9c",
   "metadata": {},
   "outputs": [
    {
     "name": "stdout",
     "output_type": "stream",
     "text": [
      "Collecting FinQuantNote: you may need to restart the kernel to use updated packages.\n",
      "  Downloading FinQuant-0.2.2-py3-none-any.whl (28 kB)\n",
      "Requirement already satisfied: pytest in c:\\users\\utkar\\anaconda3\\lib\\site-packages (from FinQuant) (6.2.3)\n",
      "Requirement already satisfied: matplotlib in c:\\users\\utkar\\anaconda3\\lib\\site-packages (from FinQuant) (3.3.4)\n",
      "Requirement already satisfied: pandas in c:\\users\\utkar\\anaconda3\\lib\\site-packages (from FinQuant) (1.2.4)\n",
      "Requirement already satisfied: scipy in c:\\users\\utkar\\anaconda3\\lib\\site-packages (from FinQuant) (1.6.2)\n",
      "Collecting yfinance\n",
      "  Downloading yfinance-0.1.59.tar.gz (25 kB)\n",
      "Requirement already satisfied: numpy in c:\\users\\utkar\\anaconda3\\lib\\site-packages (from FinQuant) (1.19.2)\n",
      "Collecting quandl\n",
      "  Downloading Quandl-3.6.1-py2.py3-none-any.whl (26 kB)\n",
      "Requirement already satisfied: cycler>=0.10 in c:\\users\\utkar\\anaconda3\\lib\\site-packages (from matplotlib->FinQuant) (0.10.0)\n",
      "Requirement already satisfied: pillow>=6.2.0 in c:\\users\\utkar\\anaconda3\\lib\\site-packages (from matplotlib->FinQuant) (8.2.0)\n",
      "Requirement already satisfied: kiwisolver>=1.0.1 in c:\\users\\utkar\\anaconda3\\lib\\site-packages (from matplotlib->FinQuant) (1.3.1)\n",
      "Requirement already satisfied: python-dateutil>=2.1 in c:\\users\\utkar\\anaconda3\\lib\\site-packages (from matplotlib->FinQuant) (2.8.1)\n",
      "Requirement already satisfied: pyparsing!=2.0.4,!=2.1.2,!=2.1.6,>=2.0.3 in c:\\users\\utkar\\anaconda3\\lib\\site-packages (from matplotlib->FinQuant) (2.4.7)\n",
      "Requirement already satisfied: six in c:\\users\\utkar\\anaconda3\\lib\\site-packages (from cycler>=0.10->matplotlib->FinQuant) (1.15.0)\n",
      "Requirement already satisfied: pytz>=2017.3 in c:\\users\\utkar\\anaconda3\\lib\\site-packages (from pandas->FinQuant) (2021.1)\n",
      "Requirement already satisfied: attrs>=19.2.0 in c:\\users\\utkar\\anaconda3\\lib\\site-packages (from pytest->FinQuant) (21.2.0)\n",
      "Requirement already satisfied: iniconfig in c:\\users\\utkar\\anaconda3\\lib\\site-packages (from pytest->FinQuant) (1.1.1)\n",
      "Requirement already satisfied: packaging in c:\\users\\utkar\\anaconda3\\lib\\site-packages (from pytest->FinQuant) (20.9)\n",
      "Requirement already satisfied: pluggy<1.0.0a1,>=0.12 in c:\\users\\utkar\\anaconda3\\lib\\site-packages (from pytest->FinQuant) (0.13.1)\n",
      "Requirement already satisfied: py>=1.8.2 in c:\\users\\utkar\\anaconda3\\lib\\site-packages (from pytest->FinQuant) (1.10.0)\n",
      "Requirement already satisfied: toml in c:\\users\\utkar\\anaconda3\\lib\\site-packages (from pytest->FinQuant) (0.10.2)\n",
      "\n",
      "Requirement already satisfied: atomicwrites>=1.0 in c:\\users\\utkar\\anaconda3\\lib\\site-packages (from pytest->FinQuant) (1.4.0)\n",
      "Requirement already satisfied: colorama in c:\\users\\utkar\\anaconda3\\lib\\site-packages (from pytest->FinQuant) (0.4.4)\n",
      "Requirement already satisfied: requests>=2.7.0 in c:\\users\\utkar\\anaconda3\\lib\\site-packages (from quandl->FinQuant) (2.25.1)\n",
      "Requirement already satisfied: more-itertools in c:\\users\\utkar\\anaconda3\\lib\\site-packages (from quandl->FinQuant) (8.7.0)\n",
      "Collecting inflection>=0.3.1\n",
      "  Downloading inflection-0.5.1-py2.py3-none-any.whl (9.5 kB)\n",
      "Requirement already satisfied: chardet<5,>=3.0.2 in c:\\users\\utkar\\anaconda3\\lib\\site-packages (from requests>=2.7.0->quandl->FinQuant) (4.0.0)\n",
      "Requirement already satisfied: certifi>=2017.4.17 in c:\\users\\utkar\\anaconda3\\lib\\site-packages (from requests>=2.7.0->quandl->FinQuant) (2020.12.5)\n",
      "Requirement already satisfied: urllib3<1.27,>=1.21.1 in c:\\users\\utkar\\anaconda3\\lib\\site-packages (from requests>=2.7.0->quandl->FinQuant) (1.26.4)\n",
      "Requirement already satisfied: idna<3,>=2.5 in c:\\users\\utkar\\anaconda3\\lib\\site-packages (from requests>=2.7.0->quandl->FinQuant) (2.10)\n",
      "Collecting multitasking>=0.0.7\n",
      "  Downloading multitasking-0.0.9.tar.gz (8.1 kB)\n",
      "Requirement already satisfied: lxml>=4.5.1 in c:\\users\\utkar\\anaconda3\\lib\\site-packages (from yfinance->FinQuant) (4.6.3)\n",
      "Building wheels for collected packages: yfinance, multitasking\n",
      "  Building wheel for yfinance (setup.py): started\n",
      "  Building wheel for yfinance (setup.py): finished with status 'done'\n",
      "  Created wheel for yfinance: filename=yfinance-0.1.59-py2.py3-none-any.whl size=23442 sha256=ac40761b24ec69086460bddb02ae6591808d914ee7f2f97d6fd7e8fc3c262690\n",
      "  Stored in directory: c:\\users\\utkar\\appdata\\local\\pip\\cache\\wheels\\7e\\d5\\f4\\f628965651f61ae35c2bdc73571ce1a2026e1550a336b5ad4b\n",
      "  Building wheel for multitasking (setup.py): started\n",
      "  Building wheel for multitasking (setup.py): finished with status 'done'\n",
      "  Created wheel for multitasking: filename=multitasking-0.0.9-py3-none-any.whl size=8368 sha256=2c8f035ec31cfabccb74a26b5f87373e765da7536479d5fb08486596c7355000\n",
      "  Stored in directory: c:\\users\\utkar\\appdata\\local\\pip\\cache\\wheels\\57\\6d\\a3\\a39b839cc75274d2acfb1c58bfead2f726c6577fe8c4723f13\n",
      "Successfully built yfinance multitasking\n",
      "Installing collected packages: multitasking, inflection, yfinance, quandl, FinQuant\n",
      "Successfully installed FinQuant-0.2.2 inflection-0.5.1 multitasking-0.0.9 quandl-3.6.1 yfinance-0.1.59\n"
     ]
    }
   ],
   "source": [
    "pip install FinQuant"
   ]
  },
  {
   "cell_type": "code",
   "execution_count": 2,
   "id": "523217de",
   "metadata": {},
   "outputs": [
    {
     "ename": "Exception",
     "evalue": "Error during download of stock data from Quandl.\nMake sure all the requested stock names/tickers are supported by Quandl.",
     "output_type": "error",
     "traceback": [
      "\u001b[1;31m---------------------------------------------------------------------------\u001b[0m",
      "\u001b[1;31mSyntaxError\u001b[0m                               Traceback (most recent call last)",
      "\u001b[1;32m~\\anaconda3\\lib\\site-packages\\finquant\\portfolio.py\u001b[0m in \u001b[0;36m_quandl_request\u001b[1;34m(names, start_date, end_date)\u001b[0m\n\u001b[0;32m    754\u001b[0m     \u001b[1;32mtry\u001b[0m\u001b[1;33m:\u001b[0m\u001b[1;33m\u001b[0m\u001b[1;33m\u001b[0m\u001b[0m\n\u001b[1;32m--> 755\u001b[1;33m         \u001b[0mresp\u001b[0m \u001b[1;33m=\u001b[0m \u001b[0mquandl\u001b[0m\u001b[1;33m.\u001b[0m\u001b[0mget\u001b[0m\u001b[1;33m(\u001b[0m\u001b[0mreqnames\u001b[0m\u001b[1;33m,\u001b[0m \u001b[0mstart_date\u001b[0m\u001b[1;33m=\u001b[0m\u001b[0mstart_date\u001b[0m\u001b[1;33m,\u001b[0m \u001b[0mend_date\u001b[0m\u001b[1;33m=\u001b[0m\u001b[0mend_date\u001b[0m\u001b[1;33m)\u001b[0m\u001b[1;33m\u001b[0m\u001b[1;33m\u001b[0m\u001b[0m\n\u001b[0m\u001b[0;32m    756\u001b[0m     \u001b[1;32mexcept\u001b[0m \u001b[0mException\u001b[0m\u001b[1;33m:\u001b[0m\u001b[1;33m\u001b[0m\u001b[1;33m\u001b[0m\u001b[0m\n",
      "\u001b[1;32m~\\anaconda3\\lib\\site-packages\\quandl\\get.py\u001b[0m in \u001b[0;36mget\u001b[1;34m(dataset, **kwargs)\u001b[0m\n\u001b[0;32m     53\u001b[0m         \u001b[1;31m# for a non-existent dataset instead of raising an error\u001b[0m\u001b[1;33m\u001b[0m\u001b[1;33m\u001b[0m\u001b[1;33m\u001b[0m\u001b[0m\n\u001b[1;32m---> 54\u001b[1;33m         data = MergedDataset(args).data(params=kwargs,\n\u001b[0m\u001b[0;32m     55\u001b[0m                                         \u001b[0mhandle_not_found_error\u001b[0m\u001b[1;33m=\u001b[0m\u001b[1;32mTrue\u001b[0m\u001b[1;33m,\u001b[0m\u001b[1;33m\u001b[0m\u001b[1;33m\u001b[0m\u001b[0m\n",
      "\u001b[1;32m~\\anaconda3\\lib\\site-packages\\quandl\\model\\merged_dataset.py\u001b[0m in \u001b[0;36mdata\u001b[1;34m(self, **options)\u001b[0m\n\u001b[0;32m     35\u001b[0m         dataset_data_list = [self._get_dataset_data(dataset, **options)\n\u001b[1;32m---> 36\u001b[1;33m                              for dataset in self.__dataset_objects__()]\n\u001b[0m\u001b[0;32m     37\u001b[0m \u001b[1;33m\u001b[0m\u001b[0m\n",
      "\u001b[1;32m~\\anaconda3\\lib\\site-packages\\quandl\\model\\merged_dataset.py\u001b[0m in \u001b[0;36m__dataset_objects__\u001b[1;34m(self)\u001b[0m\n\u001b[0;32m    225\u001b[0m             \u001b[0mself\u001b[0m\u001b[1;33m.\u001b[0m\u001b[0moptions\u001b[0m\u001b[1;33m[\u001b[0m\u001b[1;34m'params'\u001b[0m\u001b[1;33m]\u001b[0m\u001b[1;33m.\u001b[0m\u001b[0mpop\u001b[0m\u001b[1;33m(\u001b[0m\u001b[1;34m\"column_index\"\u001b[0m\u001b[1;33m,\u001b[0m \u001b[1;32mNone\u001b[0m\u001b[1;33m)\u001b[0m\u001b[1;33m\u001b[0m\u001b[1;33m\u001b[0m\u001b[0m\n\u001b[1;32m--> 226\u001b[1;33m         self._datasets = list([self._build_dataset_object(dataset_code, **self.options)\n\u001b[0m\u001b[0;32m    227\u001b[0m                                for dataset_code in self.dataset_codes])\n",
      "\u001b[1;32m~\\anaconda3\\lib\\site-packages\\quandl\\model\\merged_dataset.py\u001b[0m in \u001b[0;36m<listcomp>\u001b[1;34m(.0)\u001b[0m\n\u001b[0;32m    225\u001b[0m             \u001b[0mself\u001b[0m\u001b[1;33m.\u001b[0m\u001b[0moptions\u001b[0m\u001b[1;33m[\u001b[0m\u001b[1;34m'params'\u001b[0m\u001b[1;33m]\u001b[0m\u001b[1;33m.\u001b[0m\u001b[0mpop\u001b[0m\u001b[1;33m(\u001b[0m\u001b[1;34m\"column_index\"\u001b[0m\u001b[1;33m,\u001b[0m \u001b[1;32mNone\u001b[0m\u001b[1;33m)\u001b[0m\u001b[1;33m\u001b[0m\u001b[1;33m\u001b[0m\u001b[0m\n\u001b[1;32m--> 226\u001b[1;33m         self._datasets = list([self._build_dataset_object(dataset_code, **self.options)\n\u001b[0m\u001b[0;32m    227\u001b[0m                                for dataset_code in self.dataset_codes])\n",
      "\u001b[1;32m~\\anaconda3\\lib\\site-packages\\quandl\\model\\merged_dataset.py\u001b[0m in \u001b[0;36m_build_dataset_object\u001b[1;34m(self, dataset_code, **options)\u001b[0m\n\u001b[0;32m    169\u001b[0m \u001b[1;33m\u001b[0m\u001b[0m\n\u001b[1;32m--> 170\u001b[1;33m         \u001b[0mdataset\u001b[0m \u001b[1;33m=\u001b[0m \u001b[0mDataset\u001b[0m\u001b[1;33m(\u001b[0m\u001b[0mcode\u001b[0m\u001b[1;33m,\u001b[0m \u001b[1;32mNone\u001b[0m\u001b[1;33m,\u001b[0m \u001b[1;33m**\u001b[0m\u001b[0moptions_copy\u001b[0m\u001b[1;33m)\u001b[0m\u001b[1;33m\u001b[0m\u001b[1;33m\u001b[0m\u001b[0m\n\u001b[0m\u001b[0;32m    171\u001b[0m         \u001b[1;31m# save column_index param requested dynamically\u001b[0m\u001b[1;33m\u001b[0m\u001b[1;33m\u001b[0m\u001b[1;33m\u001b[0m\u001b[0m\n",
      "\u001b[1;32m~\\anaconda3\\lib\\site-packages\\quandl\\model\\dataset.py\u001b[0m in \u001b[0;36m__init__\u001b[1;34m(self, code, raw_data, **options)\u001b[0m\n\u001b[0;32m     27\u001b[0m         \u001b[1;32mif\u001b[0m \u001b[0mlen\u001b[0m\u001b[1;33m(\u001b[0m\u001b[0mparsed_code\u001b[0m\u001b[1;33m)\u001b[0m \u001b[1;33m<\u001b[0m \u001b[1;36m2\u001b[0m\u001b[1;33m:\u001b[0m\u001b[1;33m\u001b[0m\u001b[1;33m\u001b[0m\u001b[0m\n\u001b[1;32m---> 28\u001b[1;33m             \u001b[1;32mraise\u001b[0m \u001b[0mSyntaxError\u001b[0m\u001b[1;33m(\u001b[0m\u001b[0mMessage\u001b[0m\u001b[1;33m.\u001b[0m\u001b[0mERROR_INVALID_DATABASE_CODE_FORMAT\u001b[0m\u001b[1;33m)\u001b[0m\u001b[1;33m\u001b[0m\u001b[1;33m\u001b[0m\u001b[0m\n\u001b[0m\u001b[0;32m     29\u001b[0m \u001b[1;33m\u001b[0m\u001b[0m\n",
      "\u001b[1;31mSyntaxError\u001b[0m: Invalid format used for Quandl database code.         The correct format is: `DATABASE_CODE/DATASET_CODE`",
      "\nDuring handling of the above exception, another exception occurred:\n",
      "\u001b[1;31mException\u001b[0m                                 Traceback (most recent call last)",
      "\u001b[1;32m<ipython-input-2-4222bc33cbb9>\u001b[0m in \u001b[0;36m<module>\u001b[1;34m\u001b[0m\n\u001b[0;32m      3\u001b[0m \u001b[0mstart_date\u001b[0m \u001b[1;33m=\u001b[0m \u001b[1;34m'2015-01-01'\u001b[0m\u001b[1;33m\u001b[0m\u001b[1;33m\u001b[0m\u001b[0m\n\u001b[0;32m      4\u001b[0m \u001b[0mend_date\u001b[0m \u001b[1;33m=\u001b[0m \u001b[1;34m'2017-12-31'\u001b[0m\u001b[1;33m\u001b[0m\u001b[1;33m\u001b[0m\u001b[0m\n\u001b[1;32m----> 5\u001b[1;33m pf = build_portfolio(names=names,\n\u001b[0m\u001b[0;32m      6\u001b[0m                     \u001b[0mstart_date\u001b[0m\u001b[1;33m=\u001b[0m\u001b[0mstart_date\u001b[0m\u001b[1;33m,\u001b[0m\u001b[1;33m\u001b[0m\u001b[1;33m\u001b[0m\u001b[0m\n\u001b[0;32m      7\u001b[0m                     end_date=end_date)\n",
      "\u001b[1;32m~\\anaconda3\\lib\\site-packages\\finquant\\portfolio.py\u001b[0m in \u001b[0;36mbuild_portfolio\u001b[1;34m(**kwargs)\u001b[0m\n\u001b[0;32m   1168\u001b[0m             )\n\u001b[0;32m   1169\u001b[0m         \u001b[1;31m# get portfolio:\u001b[0m\u001b[1;33m\u001b[0m\u001b[1;33m\u001b[0m\u001b[1;33m\u001b[0m\u001b[0m\n\u001b[1;32m-> 1170\u001b[1;33m         \u001b[0mpf\u001b[0m \u001b[1;33m=\u001b[0m \u001b[0m_build_portfolio_from_api\u001b[0m\u001b[1;33m(\u001b[0m\u001b[1;33m**\u001b[0m\u001b[0mkwargs\u001b[0m\u001b[1;33m)\u001b[0m\u001b[1;33m\u001b[0m\u001b[1;33m\u001b[0m\u001b[0m\n\u001b[0m\u001b[0;32m   1171\u001b[0m \u001b[1;33m\u001b[0m\u001b[0m\n\u001b[0;32m   1172\u001b[0m     \u001b[1;31m# 2. pf_allocation, data\u001b[0m\u001b[1;33m\u001b[0m\u001b[1;33m\u001b[0m\u001b[1;33m\u001b[0m\u001b[0m\n",
      "\u001b[1;32m~\\anaconda3\\lib\\site-packages\\finquant\\portfolio.py\u001b[0m in \u001b[0;36m_build_portfolio_from_api\u001b[1;34m(names, pf_allocation, start_date, end_date, data_api)\u001b[0m\n\u001b[0;32m    932\u001b[0m         \u001b[0mdata\u001b[0m \u001b[1;33m=\u001b[0m \u001b[0m_yfinance_request\u001b[0m\u001b[1;33m(\u001b[0m\u001b[0mnames\u001b[0m\u001b[1;33m,\u001b[0m \u001b[0mstart_date\u001b[0m\u001b[1;33m,\u001b[0m \u001b[0mend_date\u001b[0m\u001b[1;33m)\u001b[0m\u001b[1;33m\u001b[0m\u001b[1;33m\u001b[0m\u001b[0m\n\u001b[0;32m    933\u001b[0m     \u001b[1;32melif\u001b[0m \u001b[0mdata_api\u001b[0m \u001b[1;33m==\u001b[0m \u001b[1;34m\"quandl\"\u001b[0m\u001b[1;33m:\u001b[0m\u001b[1;33m\u001b[0m\u001b[1;33m\u001b[0m\u001b[0m\n\u001b[1;32m--> 934\u001b[1;33m         \u001b[0mdata\u001b[0m \u001b[1;33m=\u001b[0m \u001b[0m_quandl_request\u001b[0m\u001b[1;33m(\u001b[0m\u001b[0mnames\u001b[0m\u001b[1;33m,\u001b[0m \u001b[0mstart_date\u001b[0m\u001b[1;33m,\u001b[0m \u001b[0mend_date\u001b[0m\u001b[1;33m)\u001b[0m\u001b[1;33m\u001b[0m\u001b[1;33m\u001b[0m\u001b[0m\n\u001b[0m\u001b[0;32m    935\u001b[0m     \u001b[1;31m# check pf_allocation:\u001b[0m\u001b[1;33m\u001b[0m\u001b[1;33m\u001b[0m\u001b[1;33m\u001b[0m\u001b[0m\n\u001b[0;32m    936\u001b[0m     \u001b[1;32mif\u001b[0m \u001b[0mpf_allocation\u001b[0m \u001b[1;32mis\u001b[0m \u001b[1;32mNone\u001b[0m\u001b[1;33m:\u001b[0m\u001b[1;33m\u001b[0m\u001b[1;33m\u001b[0m\u001b[0m\n",
      "\u001b[1;32m~\\anaconda3\\lib\\site-packages\\finquant\\portfolio.py\u001b[0m in \u001b[0;36m_quandl_request\u001b[1;34m(names, start_date, end_date)\u001b[0m\n\u001b[0;32m    760\u001b[0m             \u001b[1;33m+\u001b[0m \u001b[1;34m\"supported by Quandl.\"\u001b[0m\u001b[1;33m\u001b[0m\u001b[1;33m\u001b[0m\u001b[0m\n\u001b[0;32m    761\u001b[0m         )\n\u001b[1;32m--> 762\u001b[1;33m         \u001b[1;32mraise\u001b[0m \u001b[0mException\u001b[0m\u001b[1;33m(\u001b[0m\u001b[0merrormsg\u001b[0m\u001b[1;33m)\u001b[0m\u001b[1;33m\u001b[0m\u001b[1;33m\u001b[0m\u001b[0m\n\u001b[0m\u001b[0;32m    763\u001b[0m     \u001b[1;32mreturn\u001b[0m \u001b[0mresp\u001b[0m\u001b[1;33m\u001b[0m\u001b[1;33m\u001b[0m\u001b[0m\n\u001b[0;32m    764\u001b[0m \u001b[1;33m\u001b[0m\u001b[0m\n",
      "\u001b[1;31mException\u001b[0m: Error during download of stock data from Quandl.\nMake sure all the requested stock names/tickers are supported by Quandl."
     ]
    }
   ],
   "source": [
    "from finquant.portfolio import build_portfolio\n",
    "names = ['GOOG', 'AMZN', 'MCD', 'DIS']\n",
    "start_date = '2015-01-01'\n",
    "end_date = '2017-12-31'\n",
    "pf = build_portfolio(names=names,\n",
    "                    start_date=start_date,\n",
    "                    end_date=end_date)"
   ]
  },
  {
   "cell_type": "code",
   "execution_count": null,
   "id": "161b4611",
   "metadata": {},
   "outputs": [],
   "source": []
  }
 ],
 "metadata": {
  "kernelspec": {
   "display_name": "Python 3",
   "language": "python",
   "name": "python3"
  },
  "language_info": {
   "codemirror_mode": {
    "name": "ipython",
    "version": 3
   },
   "file_extension": ".py",
   "mimetype": "text/x-python",
   "name": "python",
   "nbconvert_exporter": "python",
   "pygments_lexer": "ipython3",
   "version": "3.8.8"
  }
 },
 "nbformat": 4,
 "nbformat_minor": 5
}
