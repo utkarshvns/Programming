{
 "cells": [
  {
   "cell_type": "markdown",
   "metadata": {},
   "source": [
    "# Approach 1 :Convex optimisation lib"
   ]
  },
  {
   "cell_type": "markdown",
   "metadata": {},
   "source": [
    "**1&nbsp;&nbsp;[Introduction](#1)**  \n",
    "**2&nbsp;&nbsp;[Environment](#2)**  \n",
    "&nbsp;&nbsp;&nbsp;&nbsp;2.1&nbsp;&nbsp;[Libraries](#2.1)  \n",
    "&nbsp;&nbsp;&nbsp;&nbsp;2.2&nbsp;&nbsp;[Data](#2.2)  \n",
    "**3&nbsp;&nbsp;[Optimisation](#3)**  \n",
    "&nbsp;&nbsp;&nbsp;&nbsp;3.1&nbsp;&nbsp;[Constants, parameters and variables](#3.1)  \n",
    "&nbsp;&nbsp;&nbsp;&nbsp;3.2&nbsp;&nbsp;[Objective function](#3.2)  \n",
    "&nbsp;&nbsp;&nbsp;&nbsp;3.3&nbsp;&nbsp;[Constraints](#3.3)  \n",
    "&nbsp;&nbsp;&nbsp;&nbsp;3.4&nbsp;&nbsp;[Solution](#3.4)  \n",
    "**4&nbsp;&nbsp;[Evaluation](#4)**  \n",
    "&nbsp;&nbsp;&nbsp;&nbsp;4.1&nbsp;&nbsp;[Parameterised portfolio](#4.1)  \n",
    "&nbsp;&nbsp;&nbsp;&nbsp;4.2&nbsp;&nbsp;[Optimal portfolio](#4.2)  \n",
    "**5&nbsp;&nbsp;[Conclusion](#5)**"
   ]
  },
  {
   "cell_type": "markdown",
   "metadata": {},
   "source": [
    "## 1 Introduction<a id=\"1\"></a>"
   ]
  },
  {
   "cell_type": "markdown",
   "metadata": {},
   "source": [
    "Given a set of $n$ assets:\n",
    "* $\\mathbf{p} \\in \\mathbb{R}_+^n$ is the price vector where $p_i$ is the price of asset $i$.\n",
    "* $\\mathbf{x} \\in \\mathbb{Z}^n$ is the portfolio allocation vector where $x_i$ is the number of shares in asset $i$ to buy. To prevent shorting: $\\mathbf{x}\\geq0$.\n",
    "* In one time period, $\\mathbf{r} \\in \\mathbb{R}^n$ is the return vector where $r_i$ is the return on asset $i$. The return is the difference in price divided by the price at the beginning of the period: $r_i = \\frac{p_{t+1}-p_t}{p_t}$. Portfolio return $R$ is given by: $R = \\mathbf{r}^T\\mathbf{x}$.\n",
    "* The return vector $\\mathbf{r}$ can be modelled as a random variable with mean $\\mathbb{E}[\\mathbf{r}]=\\mathbf{\\mu}$ and covariance $\\mathbb{E}[(\\mathbf{r}-\\mathbf{\\mu})(\\mathbf{r}-\\mathbf{\\mu})^T]=\\Sigma$. It follows that the portfolio return is also a random variable with mean $\\mathbb{E}[R]=\\mathbf{\\mu}^T\\mathbf{x}$ and variance $\\mathrm{Var}[R]=\\mathbf{x}^T\\Sigma\\mathbf{x}$.\n",
    "* $k \\in \\mathbb{R}_+^n$ is the maximum amount in one asset."
   ]
  },
  {
   "cell_type": "markdown",
   "metadata": {},
   "source": [
    "The optimal portfolio allocation is found by maximising the expected portfolio fractional return and minimising the portfolio variance. This becomes a mixed-integer quadratic programming problem:\n",
    "$$\\mathrm{arg}\\max_{\\mathbf{x}} \\mathbf{\\mu}^T\\mathbf{x}-\\frac{1}{2} \\mathbf{x}^T\\Sigma\\mathbf{x}$$\n",
    "$$\\mathrm{subject\\ to}$$\n",
    "$$\\mathbf{x} \\in \\mathbb{Z}^n$$\n",
    "$$\\mathbf{x}\\geq0$$\n",
    "$$p_i\\mathbf{x} \\leq k$$"
   ]
  },
  {
   "cell_type": "markdown",
   "metadata": {},
   "source": [
    "An equivalent optimisation problem is to set an upper bound $\\sigma^2$ on the portfolio variance and maximise the expected portfolio fractional return:\n",
    "$$\\mathrm{arg}\\max_{\\mathbf{x}} \\mathbf{\\mu}^T\\mathbf{x}$$\n",
    "$$\\mathrm{subject\\ to}$$\n",
    "$$\\mathbf{x} \\in \\mathbb{Z}^n$$\n",
    "$$\\mathbf{x}\\geq0$$\n",
    "$$\\mathbf{x}^T\\Sigma\\mathbf{x} \\leq \\sigma^2$$\n",
    "$$p_i\\mathbf{x}\\leq k$$"
   ]
  },
  {
   "cell_type": "markdown",
   "metadata": {},
   "source": [
    "## 2 Environment<a id=\"2\"></a>"
   ]
  },
  {
   "cell_type": "markdown",
   "metadata": {},
   "source": [
    "### 2.1 Libraries<a id=\"2.1\"></a>"
   ]
  },
  {
   "cell_type": "markdown",
   "metadata": {},
   "source": [
    "Load libraries into notebook"
   ]
  },
  {
   "cell_type": "code",
   "execution_count": 133,
   "metadata": {
    "_cell_guid": "79c7e3d0-c299-4dcb-8224-4455121ee9b0",
    "_uuid": "d629ff2d2480ee46fbb7e2d37f6b5fab8052498a"
   },
   "outputs": [],
   "source": [
    "import os                               # Operating system\n",
    "import math                             # Mathematics\n",
    "import numpy as np                      # Arrays\n",
    "import pandas as pd                     # Dataframes\n",
    "import matplotlib.pyplot as plt         # Graphs\n",
    "from matplotlib import cm               # Colours\n",
    "import scipy                            # Scientific computing\n",
    "import cvxpy as cp                      # Convex optimisation\n",
    "from mpl_toolkits.mplot3d import Axes3D # 3D graphs"
   ]
  },
  {
   "cell_type": "code",
   "execution_count": 134,
   "metadata": {},
   "outputs": [],
   "source": [
    "%matplotlib inline"
   ]
  },
  {
   "cell_type": "markdown",
   "metadata": {},
   "source": [
    "### 2.2 Data<a id=\"2.2\"></a>"
   ]
  },
  {
   "cell_type": "markdown",
   "metadata": {},
   "source": [
    "Get list of stock names"
   ]
  },
  {
   "cell_type": "code",
   "execution_count": 135,
   "metadata": {},
   "outputs": [],
   "source": [
    "stocks = [stock.split('.')[0] for stock in sorted(os.listdir(r'C:\\Users\\utkar\\Desktop\\Python\\IIT\\MOM\\NIFTY DATA'))]"
   ]
  },
  {
   "cell_type": "code",
   "execution_count": 136,
   "metadata": {},
   "outputs": [
    {
     "data": {
      "text/plain": [
       "['NIFTY AUTO',\n",
       " 'NIFTY BANK',\n",
       " 'NIFTY FIN SERVICE',\n",
       " 'NIFTY FMCG',\n",
       " 'NIFTY IT',\n",
       " 'NIFTY MEDIA',\n",
       " 'NIFTY METAL',\n",
       " 'NIFTY PHARMA',\n",
       " 'NIFTY PSU BANK',\n",
       " 'NIFTY PVT BANK']"
      ]
     },
     "execution_count": 136,
     "metadata": {},
     "output_type": "execute_result"
    }
   ],
   "source": [
    "stocks"
   ]
  },
  {
   "cell_type": "markdown",
   "metadata": {},
   "source": [
    "Create a dataframe containing dates"
   ]
  },
  {
   "cell_type": "code",
   "execution_count": 137,
   "metadata": {},
   "outputs": [],
   "source": [
    "dates = pd.date_range('2015-01-01', '2020-03-31') # Create date range from 01-01-2000 to 31-03-2020\n",
    "data = pd.DataFrame({'Time': dates})              # Add dates to dataframe with column name"
   ]
  },
  {
   "cell_type": "markdown",
   "metadata": {},
   "source": [
    "Append the adjusted closing price of each stock to a dataframe keyed on date"
   ]
  },
  {
   "cell_type": "code",
   "execution_count": 138,
   "metadata": {
    "scrolled": true
   },
   "outputs": [],
   "source": [
    "for stock in stocks:                                                          # For each stock\n",
    "    prices = pd.read_csv(                                                     # Read prices into dataframe\n",
    "        r'C:\\Users\\utkar\\Desktop\\Python\\IIT\\MOM\\NIFTY DATA\\\\' + stock + '.csv', # Get filename\n",
    "        usecols=['Date', 'Close']                                         # Select date and adjusted closing price\n",
    "    )\n",
    "    prices['Date'] = pd.to_datetime(prices['Date'])                           # Typecast dates to datetimes\n",
    "    prices.rename(                                                            # Rename columns\n",
    "        columns={\"Date\": \"Time\", \"Close\": stock},\n",
    "        inplace=True\n",
    "    )\n",
    "    data = pd.merge(                                                          # Add stock to master dataframe\n",
    "        data,                                                                 # Initially contains dates only\n",
    "        prices,                                                               # Insert stock prices\n",
    "        how='left',                                                           # Left outer join\n",
    "        on=['Time'],                                                          # Key on the time column\n",
    "        sort=False\n",
    "    )"
   ]
  },
  {
   "cell_type": "code",
   "execution_count": 139,
   "metadata": {},
   "outputs": [
    {
     "data": {
      "text/html": [
       "<div>\n",
       "<style scoped>\n",
       "    .dataframe tbody tr th:only-of-type {\n",
       "        vertical-align: middle;\n",
       "    }\n",
       "\n",
       "    .dataframe tbody tr th {\n",
       "        vertical-align: top;\n",
       "    }\n",
       "\n",
       "    .dataframe thead th {\n",
       "        text-align: right;\n",
       "    }\n",
       "</style>\n",
       "<table border=\"1\" class=\"dataframe\">\n",
       "  <thead>\n",
       "    <tr style=\"text-align: right;\">\n",
       "      <th></th>\n",
       "      <th>Time</th>\n",
       "      <th>NIFTY AUTO</th>\n",
       "      <th>NIFTY BANK</th>\n",
       "      <th>NIFTY FIN SERVICE</th>\n",
       "      <th>NIFTY FMCG</th>\n",
       "      <th>NIFTY IT</th>\n",
       "      <th>NIFTY MEDIA</th>\n",
       "      <th>NIFTY METAL</th>\n",
       "      <th>NIFTY PHARMA</th>\n",
       "      <th>NIFTY PSU BANK</th>\n",
       "      <th>NIFTY PVT BANK</th>\n",
       "    </tr>\n",
       "  </thead>\n",
       "  <tbody>\n",
       "    <tr>\n",
       "      <th>0</th>\n",
       "      <td>2015-01-01</td>\n",
       "      <td>8318.80</td>\n",
       "      <td>18750.45</td>\n",
       "      <td>7449.95</td>\n",
       "      <td>20057.60</td>\n",
       "      <td>11215.70</td>\n",
       "      <td>2378.3</td>\n",
       "      <td>2693.25</td>\n",
       "      <td>10923.25</td>\n",
       "      <td>4294.65</td>\n",
       "      <td>9673.20</td>\n",
       "    </tr>\n",
       "    <tr>\n",
       "      <th>1</th>\n",
       "      <td>2015-01-02</td>\n",
       "      <td>8365.40</td>\n",
       "      <td>19057.80</td>\n",
       "      <td>7611.70</td>\n",
       "      <td>20142.65</td>\n",
       "      <td>11372.10</td>\n",
       "      <td>2382.1</td>\n",
       "      <td>2715.45</td>\n",
       "      <td>10955.60</td>\n",
       "      <td>4311.65</td>\n",
       "      <td>9848.38</td>\n",
       "    </tr>\n",
       "    <tr>\n",
       "      <th>2</th>\n",
       "      <td>2015-01-03</td>\n",
       "      <td>NaN</td>\n",
       "      <td>NaN</td>\n",
       "      <td>NaN</td>\n",
       "      <td>NaN</td>\n",
       "      <td>NaN</td>\n",
       "      <td>NaN</td>\n",
       "      <td>NaN</td>\n",
       "      <td>NaN</td>\n",
       "      <td>NaN</td>\n",
       "      <td>NaN</td>\n",
       "    </tr>\n",
       "    <tr>\n",
       "      <th>3</th>\n",
       "      <td>2015-01-04</td>\n",
       "      <td>NaN</td>\n",
       "      <td>NaN</td>\n",
       "      <td>NaN</td>\n",
       "      <td>NaN</td>\n",
       "      <td>NaN</td>\n",
       "      <td>NaN</td>\n",
       "      <td>NaN</td>\n",
       "      <td>NaN</td>\n",
       "      <td>NaN</td>\n",
       "      <td>NaN</td>\n",
       "    </tr>\n",
       "    <tr>\n",
       "      <th>4</th>\n",
       "      <td>2015-01-05</td>\n",
       "      <td>8467.95</td>\n",
       "      <td>19017.40</td>\n",
       "      <td>7575.25</td>\n",
       "      <td>20184.85</td>\n",
       "      <td>11248.55</td>\n",
       "      <td>2376.3</td>\n",
       "      <td>2704.50</td>\n",
       "      <td>10920.60</td>\n",
       "      <td>4281.15</td>\n",
       "      <td>9836.21</td>\n",
       "    </tr>\n",
       "    <tr>\n",
       "      <th>...</th>\n",
       "      <td>...</td>\n",
       "      <td>...</td>\n",
       "      <td>...</td>\n",
       "      <td>...</td>\n",
       "      <td>...</td>\n",
       "      <td>...</td>\n",
       "      <td>...</td>\n",
       "      <td>...</td>\n",
       "      <td>...</td>\n",
       "      <td>...</td>\n",
       "      <td>...</td>\n",
       "    </tr>\n",
       "    <tr>\n",
       "      <th>1912</th>\n",
       "      <td>2020-03-27</td>\n",
       "      <td>NaN</td>\n",
       "      <td>NaN</td>\n",
       "      <td>NaN</td>\n",
       "      <td>NaN</td>\n",
       "      <td>NaN</td>\n",
       "      <td>NaN</td>\n",
       "      <td>NaN</td>\n",
       "      <td>NaN</td>\n",
       "      <td>NaN</td>\n",
       "      <td>NaN</td>\n",
       "    </tr>\n",
       "    <tr>\n",
       "      <th>1913</th>\n",
       "      <td>2020-03-28</td>\n",
       "      <td>NaN</td>\n",
       "      <td>NaN</td>\n",
       "      <td>NaN</td>\n",
       "      <td>NaN</td>\n",
       "      <td>NaN</td>\n",
       "      <td>NaN</td>\n",
       "      <td>NaN</td>\n",
       "      <td>NaN</td>\n",
       "      <td>NaN</td>\n",
       "      <td>NaN</td>\n",
       "    </tr>\n",
       "    <tr>\n",
       "      <th>1914</th>\n",
       "      <td>2020-03-29</td>\n",
       "      <td>NaN</td>\n",
       "      <td>NaN</td>\n",
       "      <td>NaN</td>\n",
       "      <td>NaN</td>\n",
       "      <td>NaN</td>\n",
       "      <td>NaN</td>\n",
       "      <td>NaN</td>\n",
       "      <td>NaN</td>\n",
       "      <td>NaN</td>\n",
       "      <td>NaN</td>\n",
       "    </tr>\n",
       "    <tr>\n",
       "      <th>1915</th>\n",
       "      <td>2020-03-30</td>\n",
       "      <td>NaN</td>\n",
       "      <td>NaN</td>\n",
       "      <td>NaN</td>\n",
       "      <td>NaN</td>\n",
       "      <td>NaN</td>\n",
       "      <td>NaN</td>\n",
       "      <td>NaN</td>\n",
       "      <td>NaN</td>\n",
       "      <td>NaN</td>\n",
       "      <td>NaN</td>\n",
       "    </tr>\n",
       "    <tr>\n",
       "      <th>1916</th>\n",
       "      <td>2020-03-31</td>\n",
       "      <td>NaN</td>\n",
       "      <td>NaN</td>\n",
       "      <td>NaN</td>\n",
       "      <td>NaN</td>\n",
       "      <td>NaN</td>\n",
       "      <td>NaN</td>\n",
       "      <td>NaN</td>\n",
       "      <td>NaN</td>\n",
       "      <td>NaN</td>\n",
       "      <td>NaN</td>\n",
       "    </tr>\n",
       "  </tbody>\n",
       "</table>\n",
       "<p>1917 rows × 11 columns</p>\n",
       "</div>"
      ],
      "text/plain": [
       "           Time  NIFTY AUTO  NIFTY BANK  NIFTY FIN SERVICE  NIFTY FMCG  \\\n",
       "0    2015-01-01     8318.80    18750.45            7449.95    20057.60   \n",
       "1    2015-01-02     8365.40    19057.80            7611.70    20142.65   \n",
       "2    2015-01-03         NaN         NaN                NaN         NaN   \n",
       "3    2015-01-04         NaN         NaN                NaN         NaN   \n",
       "4    2015-01-05     8467.95    19017.40            7575.25    20184.85   \n",
       "...         ...         ...         ...                ...         ...   \n",
       "1912 2020-03-27         NaN         NaN                NaN         NaN   \n",
       "1913 2020-03-28         NaN         NaN                NaN         NaN   \n",
       "1914 2020-03-29         NaN         NaN                NaN         NaN   \n",
       "1915 2020-03-30         NaN         NaN                NaN         NaN   \n",
       "1916 2020-03-31         NaN         NaN                NaN         NaN   \n",
       "\n",
       "      NIFTY IT  NIFTY MEDIA  NIFTY METAL  NIFTY PHARMA  NIFTY PSU BANK  \\\n",
       "0     11215.70       2378.3      2693.25      10923.25         4294.65   \n",
       "1     11372.10       2382.1      2715.45      10955.60         4311.65   \n",
       "2          NaN          NaN          NaN           NaN             NaN   \n",
       "3          NaN          NaN          NaN           NaN             NaN   \n",
       "4     11248.55       2376.3      2704.50      10920.60         4281.15   \n",
       "...        ...          ...          ...           ...             ...   \n",
       "1912       NaN          NaN          NaN           NaN             NaN   \n",
       "1913       NaN          NaN          NaN           NaN             NaN   \n",
       "1914       NaN          NaN          NaN           NaN             NaN   \n",
       "1915       NaN          NaN          NaN           NaN             NaN   \n",
       "1916       NaN          NaN          NaN           NaN             NaN   \n",
       "\n",
       "      NIFTY PVT BANK  \n",
       "0            9673.20  \n",
       "1            9848.38  \n",
       "2                NaN  \n",
       "3                NaN  \n",
       "4            9836.21  \n",
       "...              ...  \n",
       "1912             NaN  \n",
       "1913             NaN  \n",
       "1914             NaN  \n",
       "1915             NaN  \n",
       "1916             NaN  \n",
       "\n",
       "[1917 rows x 11 columns]"
      ]
     },
     "execution_count": 139,
     "metadata": {},
     "output_type": "execute_result"
    }
   ],
   "source": [
    "data"
   ]
  },
  {
   "cell_type": "code",
   "execution_count": 140,
   "metadata": {},
   "outputs": [],
   "source": [
    "data = data.dropna(how='any',axis=0)"
   ]
  },
  {
   "cell_type": "code",
   "execution_count": 141,
   "metadata": {},
   "outputs": [
    {
     "data": {
      "text/html": [
       "<div>\n",
       "<style scoped>\n",
       "    .dataframe tbody tr th:only-of-type {\n",
       "        vertical-align: middle;\n",
       "    }\n",
       "\n",
       "    .dataframe tbody tr th {\n",
       "        vertical-align: top;\n",
       "    }\n",
       "\n",
       "    .dataframe thead th {\n",
       "        text-align: right;\n",
       "    }\n",
       "</style>\n",
       "<table border=\"1\" class=\"dataframe\">\n",
       "  <thead>\n",
       "    <tr style=\"text-align: right;\">\n",
       "      <th></th>\n",
       "      <th>Time</th>\n",
       "      <th>NIFTY AUTO</th>\n",
       "      <th>NIFTY BANK</th>\n",
       "      <th>NIFTY FIN SERVICE</th>\n",
       "      <th>NIFTY FMCG</th>\n",
       "      <th>NIFTY IT</th>\n",
       "      <th>NIFTY MEDIA</th>\n",
       "      <th>NIFTY METAL</th>\n",
       "      <th>NIFTY PHARMA</th>\n",
       "      <th>NIFTY PSU BANK</th>\n",
       "      <th>NIFTY PVT BANK</th>\n",
       "    </tr>\n",
       "  </thead>\n",
       "  <tbody>\n",
       "    <tr>\n",
       "      <th>0</th>\n",
       "      <td>2015-01-01</td>\n",
       "      <td>8318.80</td>\n",
       "      <td>18750.45</td>\n",
       "      <td>7449.95</td>\n",
       "      <td>20057.60</td>\n",
       "      <td>11215.70</td>\n",
       "      <td>2378.30</td>\n",
       "      <td>2693.25</td>\n",
       "      <td>10923.25</td>\n",
       "      <td>4294.65</td>\n",
       "      <td>9673.20</td>\n",
       "    </tr>\n",
       "    <tr>\n",
       "      <th>1</th>\n",
       "      <td>2015-01-02</td>\n",
       "      <td>8365.40</td>\n",
       "      <td>19057.80</td>\n",
       "      <td>7611.70</td>\n",
       "      <td>20142.65</td>\n",
       "      <td>11372.10</td>\n",
       "      <td>2382.10</td>\n",
       "      <td>2715.45</td>\n",
       "      <td>10955.60</td>\n",
       "      <td>4311.65</td>\n",
       "      <td>9848.38</td>\n",
       "    </tr>\n",
       "    <tr>\n",
       "      <th>4</th>\n",
       "      <td>2015-01-05</td>\n",
       "      <td>8467.95</td>\n",
       "      <td>19017.40</td>\n",
       "      <td>7575.25</td>\n",
       "      <td>20184.85</td>\n",
       "      <td>11248.55</td>\n",
       "      <td>2376.30</td>\n",
       "      <td>2704.50</td>\n",
       "      <td>10920.60</td>\n",
       "      <td>4281.15</td>\n",
       "      <td>9836.21</td>\n",
       "    </tr>\n",
       "    <tr>\n",
       "      <th>5</th>\n",
       "      <td>2015-01-06</td>\n",
       "      <td>8248.20</td>\n",
       "      <td>18430.75</td>\n",
       "      <td>7309.55</td>\n",
       "      <td>19863.35</td>\n",
       "      <td>10959.90</td>\n",
       "      <td>2294.70</td>\n",
       "      <td>2610.45</td>\n",
       "      <td>10637.80</td>\n",
       "      <td>4104.60</td>\n",
       "      <td>9568.34</td>\n",
       "    </tr>\n",
       "    <tr>\n",
       "      <th>6</th>\n",
       "      <td>2015-01-07</td>\n",
       "      <td>8254.70</td>\n",
       "      <td>18304.25</td>\n",
       "      <td>7263.80</td>\n",
       "      <td>19841.10</td>\n",
       "      <td>10916.00</td>\n",
       "      <td>2275.70</td>\n",
       "      <td>2568.65</td>\n",
       "      <td>10604.95</td>\n",
       "      <td>4091.60</td>\n",
       "      <td>9518.55</td>\n",
       "    </tr>\n",
       "    <tr>\n",
       "      <th>...</th>\n",
       "      <td>...</td>\n",
       "      <td>...</td>\n",
       "      <td>...</td>\n",
       "      <td>...</td>\n",
       "      <td>...</td>\n",
       "      <td>...</td>\n",
       "      <td>...</td>\n",
       "      <td>...</td>\n",
       "      <td>...</td>\n",
       "      <td>...</td>\n",
       "      <td>...</td>\n",
       "    </tr>\n",
       "    <tr>\n",
       "      <th>1831</th>\n",
       "      <td>2020-01-06</td>\n",
       "      <td>7978.75</td>\n",
       "      <td>31237.15</td>\n",
       "      <td>14202.50</td>\n",
       "      <td>29799.30</td>\n",
       "      <td>15879.80</td>\n",
       "      <td>1717.35</td>\n",
       "      <td>2765.75</td>\n",
       "      <td>7987.35</td>\n",
       "      <td>2414.65</td>\n",
       "      <td>17298.90</td>\n",
       "    </tr>\n",
       "    <tr>\n",
       "      <th>1832</th>\n",
       "      <td>2020-01-07</td>\n",
       "      <td>8002.50</td>\n",
       "      <td>31399.40</td>\n",
       "      <td>14314.75</td>\n",
       "      <td>29861.80</td>\n",
       "      <td>15895.20</td>\n",
       "      <td>1735.15</td>\n",
       "      <td>2785.90</td>\n",
       "      <td>8036.50</td>\n",
       "      <td>2416.65</td>\n",
       "      <td>17384.50</td>\n",
       "    </tr>\n",
       "    <tr>\n",
       "      <th>1833</th>\n",
       "      <td>2020-01-08</td>\n",
       "      <td>7942.75</td>\n",
       "      <td>31373.65</td>\n",
       "      <td>14306.65</td>\n",
       "      <td>29893.20</td>\n",
       "      <td>15953.45</td>\n",
       "      <td>1726.60</td>\n",
       "      <td>2767.25</td>\n",
       "      <td>7996.15</td>\n",
       "      <td>2401.85</td>\n",
       "      <td>17371.35</td>\n",
       "    </tr>\n",
       "    <tr>\n",
       "      <th>1834</th>\n",
       "      <td>2020-01-09</td>\n",
       "      <td>8155.25</td>\n",
       "      <td>32092.40</td>\n",
       "      <td>14590.10</td>\n",
       "      <td>30123.60</td>\n",
       "      <td>15925.15</td>\n",
       "      <td>1767.95</td>\n",
       "      <td>2806.80</td>\n",
       "      <td>8033.15</td>\n",
       "      <td>2459.85</td>\n",
       "      <td>17760.50</td>\n",
       "    </tr>\n",
       "    <tr>\n",
       "      <th>1835</th>\n",
       "      <td>2020-01-10</td>\n",
       "      <td>8225.50</td>\n",
       "      <td>32097.40</td>\n",
       "      <td>14609.65</td>\n",
       "      <td>30370.45</td>\n",
       "      <td>15959.90</td>\n",
       "      <td>1770.65</td>\n",
       "      <td>2840.75</td>\n",
       "      <td>8058.50</td>\n",
       "      <td>2461.40</td>\n",
       "      <td>17729.25</td>\n",
       "    </tr>\n",
       "  </tbody>\n",
       "</table>\n",
       "<p>1242 rows × 11 columns</p>\n",
       "</div>"
      ],
      "text/plain": [
       "           Time  NIFTY AUTO  NIFTY BANK  NIFTY FIN SERVICE  NIFTY FMCG  \\\n",
       "0    2015-01-01     8318.80    18750.45            7449.95    20057.60   \n",
       "1    2015-01-02     8365.40    19057.80            7611.70    20142.65   \n",
       "4    2015-01-05     8467.95    19017.40            7575.25    20184.85   \n",
       "5    2015-01-06     8248.20    18430.75            7309.55    19863.35   \n",
       "6    2015-01-07     8254.70    18304.25            7263.80    19841.10   \n",
       "...         ...         ...         ...                ...         ...   \n",
       "1831 2020-01-06     7978.75    31237.15           14202.50    29799.30   \n",
       "1832 2020-01-07     8002.50    31399.40           14314.75    29861.80   \n",
       "1833 2020-01-08     7942.75    31373.65           14306.65    29893.20   \n",
       "1834 2020-01-09     8155.25    32092.40           14590.10    30123.60   \n",
       "1835 2020-01-10     8225.50    32097.40           14609.65    30370.45   \n",
       "\n",
       "      NIFTY IT  NIFTY MEDIA  NIFTY METAL  NIFTY PHARMA  NIFTY PSU BANK  \\\n",
       "0     11215.70      2378.30      2693.25      10923.25         4294.65   \n",
       "1     11372.10      2382.10      2715.45      10955.60         4311.65   \n",
       "4     11248.55      2376.30      2704.50      10920.60         4281.15   \n",
       "5     10959.90      2294.70      2610.45      10637.80         4104.60   \n",
       "6     10916.00      2275.70      2568.65      10604.95         4091.60   \n",
       "...        ...          ...          ...           ...             ...   \n",
       "1831  15879.80      1717.35      2765.75       7987.35         2414.65   \n",
       "1832  15895.20      1735.15      2785.90       8036.50         2416.65   \n",
       "1833  15953.45      1726.60      2767.25       7996.15         2401.85   \n",
       "1834  15925.15      1767.95      2806.80       8033.15         2459.85   \n",
       "1835  15959.90      1770.65      2840.75       8058.50         2461.40   \n",
       "\n",
       "      NIFTY PVT BANK  \n",
       "0            9673.20  \n",
       "1            9848.38  \n",
       "4            9836.21  \n",
       "5            9568.34  \n",
       "6            9518.55  \n",
       "...              ...  \n",
       "1831        17298.90  \n",
       "1832        17384.50  \n",
       "1833        17371.35  \n",
       "1834        17760.50  \n",
       "1835        17729.25  \n",
       "\n",
       "[1242 rows x 11 columns]"
      ]
     },
     "execution_count": 141,
     "metadata": {},
     "output_type": "execute_result"
    }
   ],
   "source": [
    "data"
   ]
  },
  {
   "cell_type": "code",
   "execution_count": null,
   "metadata": {},
   "outputs": [],
   "source": []
  },
  {
   "cell_type": "markdown",
   "metadata": {},
   "source": [
    "Remove non-trading days"
   ]
  },
  {
   "cell_type": "code",
   "execution_count": 142,
   "metadata": {},
   "outputs": [],
   "source": [
    "# data = data[data['Time'].dt.weekday < 5] # Remove weekend dates\n",
    "# data = data.dropna(axis=0, how='all') # Remove empty rows"
   ]
  },
  {
   "cell_type": "markdown",
   "metadata": {},
   "source": [
    "## 3 Optimisation<a id=\"3\"></a>"
   ]
  },
  {
   "cell_type": "markdown",
   "metadata": {},
   "source": [
    "### 3.1 Constants, parameters and variables<a id=\"3.1\"></a>"
   ]
  },
  {
   "cell_type": "markdown",
   "metadata": {},
   "source": [
    "Get last price for each stock"
   ]
  },
  {
   "cell_type": "code",
   "execution_count": 143,
   "metadata": {},
   "outputs": [],
   "source": [
    "p = data \\\n",
    "    .drop(['Time'], axis=1) \\\n",
    "    .tail(1) \\\n",
    "    .to_numpy()"
   ]
  },
  {
   "cell_type": "code",
   "execution_count": 144,
   "metadata": {},
   "outputs": [
    {
     "data": {
      "text/plain": [
       "array([[ 8225.5 , 32097.4 , 14609.65, 30370.45, 15959.9 ,  1770.65,\n",
       "         2840.75,  8058.5 ,  2461.4 , 17729.25]])"
      ]
     },
     "execution_count": 144,
     "metadata": {},
     "output_type": "execute_result"
    }
   ],
   "source": [
    "p"
   ]
  },
  {
   "cell_type": "markdown",
   "metadata": {},
   "source": [
    "Calculate weekly returns from 1 January 2015 onwards"
   ]
  },
  {
   "cell_type": "code",
   "execution_count": 145,
   "metadata": {},
   "outputs": [],
   "source": [
    "r = data[(data['Time'].dt.weekday == 4) & (data['Time'] >= '2015-01-01')] \\\n",
    "    .drop(['Time'], axis=1) \\\n",
    "    .pct_change(fill_method='ffill')"
   ]
  },
  {
   "cell_type": "code",
   "execution_count": 146,
   "metadata": {},
   "outputs": [
    {
     "data": {
      "text/html": [
       "<div>\n",
       "<style scoped>\n",
       "    .dataframe tbody tr th:only-of-type {\n",
       "        vertical-align: middle;\n",
       "    }\n",
       "\n",
       "    .dataframe tbody tr th {\n",
       "        vertical-align: top;\n",
       "    }\n",
       "\n",
       "    .dataframe thead th {\n",
       "        text-align: right;\n",
       "    }\n",
       "</style>\n",
       "<table border=\"1\" class=\"dataframe\">\n",
       "  <thead>\n",
       "    <tr style=\"text-align: right;\">\n",
       "      <th></th>\n",
       "      <th>NIFTY AUTO</th>\n",
       "      <th>NIFTY BANK</th>\n",
       "      <th>NIFTY FIN SERVICE</th>\n",
       "      <th>NIFTY FMCG</th>\n",
       "      <th>NIFTY IT</th>\n",
       "      <th>NIFTY MEDIA</th>\n",
       "      <th>NIFTY METAL</th>\n",
       "      <th>NIFTY PHARMA</th>\n",
       "      <th>NIFTY PSU BANK</th>\n",
       "      <th>NIFTY PVT BANK</th>\n",
       "    </tr>\n",
       "  </thead>\n",
       "  <tbody>\n",
       "    <tr>\n",
       "      <th>1</th>\n",
       "      <td>NaN</td>\n",
       "      <td>NaN</td>\n",
       "      <td>NaN</td>\n",
       "      <td>NaN</td>\n",
       "      <td>NaN</td>\n",
       "      <td>NaN</td>\n",
       "      <td>NaN</td>\n",
       "      <td>NaN</td>\n",
       "      <td>NaN</td>\n",
       "      <td>NaN</td>\n",
       "    </tr>\n",
       "    <tr>\n",
       "      <th>8</th>\n",
       "      <td>0.003777</td>\n",
       "      <td>-0.022067</td>\n",
       "      <td>-0.028916</td>\n",
       "      <td>0.007149</td>\n",
       "      <td>0.002423</td>\n",
       "      <td>-0.044268</td>\n",
       "      <td>-0.042847</td>\n",
       "      <td>-0.001921</td>\n",
       "      <td>-0.040112</td>\n",
       "      <td>-0.012890</td>\n",
       "    </tr>\n",
       "    <tr>\n",
       "      <th>15</th>\n",
       "      <td>0.026986</td>\n",
       "      <td>0.031437</td>\n",
       "      <td>0.041358</td>\n",
       "      <td>0.033665</td>\n",
       "      <td>0.022803</td>\n",
       "      <td>0.055828</td>\n",
       "      <td>-0.039591</td>\n",
       "      <td>0.015236</td>\n",
       "      <td>0.029550</td>\n",
       "      <td>0.031373</td>\n",
       "    </tr>\n",
       "    <tr>\n",
       "      <th>22</th>\n",
       "      <td>0.041688</td>\n",
       "      <td>0.044194</td>\n",
       "      <td>0.045341</td>\n",
       "      <td>-0.010749</td>\n",
       "      <td>0.019345</td>\n",
       "      <td>0.002163</td>\n",
       "      <td>0.042725</td>\n",
       "      <td>0.043234</td>\n",
       "      <td>0.028491</td>\n",
       "      <td>0.046959</td>\n",
       "    </tr>\n",
       "    <tr>\n",
       "      <th>29</th>\n",
       "      <td>-0.005816</td>\n",
       "      <td>-0.011406</td>\n",
       "      <td>-0.007283</td>\n",
       "      <td>0.020321</td>\n",
       "      <td>-0.005082</td>\n",
       "      <td>-0.021420</td>\n",
       "      <td>-0.034405</td>\n",
       "      <td>0.009710</td>\n",
       "      <td>-0.076659</td>\n",
       "      <td>0.002295</td>\n",
       "    </tr>\n",
       "    <tr>\n",
       "      <th>...</th>\n",
       "      <td>...</td>\n",
       "      <td>...</td>\n",
       "      <td>...</td>\n",
       "      <td>...</td>\n",
       "      <td>...</td>\n",
       "      <td>...</td>\n",
       "      <td>...</td>\n",
       "      <td>...</td>\n",
       "      <td>...</td>\n",
       "      <td>...</td>\n",
       "    </tr>\n",
       "    <tr>\n",
       "      <th>1807</th>\n",
       "      <td>0.033702</td>\n",
       "      <td>0.021464</td>\n",
       "      <td>0.026250</td>\n",
       "      <td>-0.003609</td>\n",
       "      <td>-0.005824</td>\n",
       "      <td>-0.012141</td>\n",
       "      <td>0.035846</td>\n",
       "      <td>0.010996</td>\n",
       "      <td>0.044639</td>\n",
       "      <td>0.017853</td>\n",
       "    </tr>\n",
       "    <tr>\n",
       "      <th>1814</th>\n",
       "      <td>0.007912</td>\n",
       "      <td>0.011579</td>\n",
       "      <td>0.014944</td>\n",
       "      <td>-0.002297</td>\n",
       "      <td>0.042367</td>\n",
       "      <td>0.012516</td>\n",
       "      <td>0.030741</td>\n",
       "      <td>0.000547</td>\n",
       "      <td>0.000078</td>\n",
       "      <td>0.009384</td>\n",
       "    </tr>\n",
       "    <tr>\n",
       "      <th>1821</th>\n",
       "      <td>0.008895</td>\n",
       "      <td>0.000846</td>\n",
       "      <td>0.003661</td>\n",
       "      <td>-0.006947</td>\n",
       "      <td>-0.004030</td>\n",
       "      <td>0.015522</td>\n",
       "      <td>0.019520</td>\n",
       "      <td>0.002311</td>\n",
       "      <td>-0.000953</td>\n",
       "      <td>0.003053</td>\n",
       "    </tr>\n",
       "    <tr>\n",
       "      <th>1828</th>\n",
       "      <td>-0.004600</td>\n",
       "      <td>-0.010585</td>\n",
       "      <td>-0.008083</td>\n",
       "      <td>-0.001201</td>\n",
       "      <td>0.009879</td>\n",
       "      <td>-0.030321</td>\n",
       "      <td>0.031880</td>\n",
       "      <td>0.005441</td>\n",
       "      <td>-0.017189</td>\n",
       "      <td>-0.008785</td>\n",
       "    </tr>\n",
       "    <tr>\n",
       "      <th>1835</th>\n",
       "      <td>0.007021</td>\n",
       "      <td>0.000878</td>\n",
       "      <td>0.003362</td>\n",
       "      <td>0.008675</td>\n",
       "      <td>0.001462</td>\n",
       "      <td>0.005765</td>\n",
       "      <td>-0.002668</td>\n",
       "      <td>-0.006589</td>\n",
       "      <td>-0.024918</td>\n",
       "      <td>-0.000113</td>\n",
       "    </tr>\n",
       "  </tbody>\n",
       "</table>\n",
       "<p>246 rows × 10 columns</p>\n",
       "</div>"
      ],
      "text/plain": [
       "      NIFTY AUTO  NIFTY BANK  NIFTY FIN SERVICE  NIFTY FMCG  NIFTY IT  \\\n",
       "1            NaN         NaN                NaN         NaN       NaN   \n",
       "8       0.003777   -0.022067          -0.028916    0.007149  0.002423   \n",
       "15      0.026986    0.031437           0.041358    0.033665  0.022803   \n",
       "22      0.041688    0.044194           0.045341   -0.010749  0.019345   \n",
       "29     -0.005816   -0.011406          -0.007283    0.020321 -0.005082   \n",
       "...          ...         ...                ...         ...       ...   \n",
       "1807    0.033702    0.021464           0.026250   -0.003609 -0.005824   \n",
       "1814    0.007912    0.011579           0.014944   -0.002297  0.042367   \n",
       "1821    0.008895    0.000846           0.003661   -0.006947 -0.004030   \n",
       "1828   -0.004600   -0.010585          -0.008083   -0.001201  0.009879   \n",
       "1835    0.007021    0.000878           0.003362    0.008675  0.001462   \n",
       "\n",
       "      NIFTY MEDIA  NIFTY METAL  NIFTY PHARMA  NIFTY PSU BANK  NIFTY PVT BANK  \n",
       "1             NaN          NaN           NaN             NaN             NaN  \n",
       "8       -0.044268    -0.042847     -0.001921       -0.040112       -0.012890  \n",
       "15       0.055828    -0.039591      0.015236        0.029550        0.031373  \n",
       "22       0.002163     0.042725      0.043234        0.028491        0.046959  \n",
       "29      -0.021420    -0.034405      0.009710       -0.076659        0.002295  \n",
       "...           ...          ...           ...             ...             ...  \n",
       "1807    -0.012141     0.035846      0.010996        0.044639        0.017853  \n",
       "1814     0.012516     0.030741      0.000547        0.000078        0.009384  \n",
       "1821     0.015522     0.019520      0.002311       -0.000953        0.003053  \n",
       "1828    -0.030321     0.031880      0.005441       -0.017189       -0.008785  \n",
       "1835     0.005765    -0.002668     -0.006589       -0.024918       -0.000113  \n",
       "\n",
       "[246 rows x 10 columns]"
      ]
     },
     "execution_count": 146,
     "metadata": {},
     "output_type": "execute_result"
    }
   ],
   "source": [
    "r"
   ]
  },
  {
   "cell_type": "markdown",
   "metadata": {},
   "source": [
    "Calculate expected return and covariance matrix"
   ]
  },
  {
   "cell_type": "code",
   "execution_count": 147,
   "metadata": {},
   "outputs": [],
   "source": [
    "sigma = r.cov().to_numpy()\n",
    "mu = r.mean().to_numpy()"
   ]
  },
  {
   "cell_type": "code",
   "execution_count": 148,
   "metadata": {},
   "outputs": [
    {
     "data": {
      "text/plain": [
       "array([ 0.00030449,  0.00245743,  0.00295634,  0.00193053,  0.00164002,\n",
       "       -0.00062829,  0.0007983 , -0.00081348, -0.00109225,  0.0027256 ])"
      ]
     },
     "execution_count": 148,
     "metadata": {},
     "output_type": "execute_result"
    }
   ],
   "source": [
    "mu"
   ]
  },
  {
   "cell_type": "code",
   "execution_count": 149,
   "metadata": {},
   "outputs": [
    {
     "data": {
      "text/plain": [
       "array([[0.00074876, 0.00047643, 0.00045387, 0.00034507, 0.00015724,\n",
       "        0.00054541, 0.00056479, 0.00035842, 0.00079372, 0.00046559],\n",
       "       [0.00047643, 0.00065862, 0.0005956 , 0.00031575, 0.00014554,\n",
       "        0.00044908, 0.00051964, 0.00030789, 0.00096391, 0.000643  ],\n",
       "       [0.00045387, 0.0005956 , 0.00058739, 0.00031591, 0.00015074,\n",
       "        0.00040688, 0.00046295, 0.0002752 , 0.00083358, 0.00058108],\n",
       "       [0.00034507, 0.00031575, 0.00031591, 0.00050926, 0.00016932,\n",
       "        0.00030756, 0.0003217 , 0.00022593, 0.00047374, 0.00030764],\n",
       "       [0.00015724, 0.00014554, 0.00015074, 0.00016932, 0.00051288,\n",
       "        0.0001516 , 0.00016759, 0.0001633 , 0.00013283, 0.00015314],\n",
       "       [0.00054541, 0.00044908, 0.00040688, 0.00030756, 0.0001516 ,\n",
       "        0.00115307, 0.00053164, 0.00041747, 0.00079791, 0.00043777],\n",
       "       [0.00056479, 0.00051964, 0.00046295, 0.0003217 , 0.00016759,\n",
       "        0.00053164, 0.00123319, 0.00038797, 0.00097555, 0.0004942 ],\n",
       "       [0.00035842, 0.00030789, 0.0002752 , 0.00022593, 0.0001633 ,\n",
       "        0.00041747, 0.00038797, 0.00087499, 0.00062553, 0.00029852],\n",
       "       [0.00079372, 0.00096391, 0.00083358, 0.00047374, 0.00013283,\n",
       "        0.00079791, 0.00097555, 0.00062553, 0.00244937, 0.00083081],\n",
       "       [0.00046559, 0.000643  , 0.00058108, 0.00030764, 0.00015314,\n",
       "        0.00043777, 0.0004942 , 0.00029852, 0.00083081, 0.0006502 ]])"
      ]
     },
     "execution_count": 149,
     "metadata": {},
     "output_type": "execute_result"
    }
   ],
   "source": [
    "sigma"
   ]
  },
  {
   "cell_type": "markdown",
   "metadata": {},
   "source": [
    "Get number of stocks"
   ]
  },
  {
   "cell_type": "code",
   "execution_count": 150,
   "metadata": {},
   "outputs": [],
   "source": [
    "n = len(stocks)"
   ]
  },
  {
   "cell_type": "code",
   "execution_count": 151,
   "metadata": {},
   "outputs": [
    {
     "data": {
      "text/plain": [
       "10"
      ]
     },
     "execution_count": 151,
     "metadata": {},
     "output_type": "execute_result"
    }
   ],
   "source": [
    "n"
   ]
  },
  {
   "cell_type": "markdown",
   "metadata": {},
   "source": [
    "Set optimisation variable and parameters"
   ]
  },
  {
   "cell_type": "code",
   "execution_count": 152,
   "metadata": {},
   "outputs": [],
   "source": [
    "x = cp.Variable(shape=n, integer=True)\n",
    "threshold = cp.Parameter(nonneg=True) # maximum portfolio variance\n",
    "k = cp.Parameter(nonneg=True) # maximum allocation into one stock"
   ]
  },
  {
   "cell_type": "code",
   "execution_count": 153,
   "metadata": {},
   "outputs": [
    {
     "data": {
      "text/plain": [
       "Variable((10,), integer=True)"
      ]
     },
     "execution_count": 153,
     "metadata": {},
     "output_type": "execute_result"
    }
   ],
   "source": [
    "x"
   ]
  },
  {
   "cell_type": "code",
   "execution_count": 154,
   "metadata": {},
   "outputs": [
    {
     "data": {
      "text/plain": [
       "Expression(AFFINE, UNKNOWN, ())"
      ]
     },
     "execution_count": 154,
     "metadata": {},
     "output_type": "execute_result"
    }
   ],
   "source": [
    "x[0]"
   ]
  },
  {
   "cell_type": "code",
   "execution_count": 155,
   "metadata": {},
   "outputs": [
    {
     "data": {
      "text/plain": [
       "Parameter((), nonneg=True)"
      ]
     },
     "execution_count": 155,
     "metadata": {},
     "output_type": "execute_result"
    }
   ],
   "source": [
    "threshold"
   ]
  },
  {
   "cell_type": "code",
   "execution_count": 156,
   "metadata": {},
   "outputs": [
    {
     "data": {
      "text/plain": [
       "Parameter((), nonneg=True)"
      ]
     },
     "execution_count": 156,
     "metadata": {},
     "output_type": "execute_result"
    }
   ],
   "source": [
    "k"
   ]
  },
  {
   "cell_type": "markdown",
   "metadata": {},
   "source": [
    "Formulate portfolio mean and variance"
   ]
  },
  {
   "cell_type": "code",
   "execution_count": 157,
   "metadata": {},
   "outputs": [
    {
     "name": "stderr",
     "output_type": "stream",
     "text": [
      "C:\\Users\\utkar\\anaconda3\\lib\\site-packages\\cvxpy\\expressions\\expression.py:556: UserWarning: \n",
      "This use of ``*`` has resulted in matrix multiplication.\n",
      "Using ``*`` for matrix multiplication has been deprecated since CVXPY 1.1.\n",
      "    Use ``*`` for matrix-scalar and vector-scalar multiplication.\n",
      "    Use ``@`` for matrix-matrix and matrix-vector multiplication.\n",
      "    Use ``multiply`` for elementwise multiplication.\n",
      "This code path has been hit 7 times so far.\n",
      "\n",
      "  warnings.warn(msg, UserWarning)\n"
     ]
    }
   ],
   "source": [
    "mean = mu.T*x\n",
    "variance = cp.quad_form(x, sigma)"
   ]
  },
  {
   "cell_type": "code",
   "execution_count": 158,
   "metadata": {},
   "outputs": [
    {
     "data": {
      "text/plain": [
       "Expression(AFFINE, UNKNOWN, ())"
      ]
     },
     "execution_count": 158,
     "metadata": {},
     "output_type": "execute_result"
    }
   ],
   "source": [
    "mean"
   ]
  },
  {
   "cell_type": "code",
   "execution_count": 159,
   "metadata": {},
   "outputs": [
    {
     "data": {
      "text/plain": [
       "Expression(CONVEX, NONNEGATIVE, (1, 1))"
      ]
     },
     "execution_count": 159,
     "metadata": {},
     "output_type": "execute_result"
    }
   ],
   "source": [
    "variance"
   ]
  },
  {
   "cell_type": "markdown",
   "metadata": {},
   "source": [
    "### 3.2 Objective function<a id=\"3.2\"></a>"
   ]
  },
  {
   "cell_type": "markdown",
   "metadata": {},
   "source": [
    "Define the objective function (maximise expected portfolio return)"
   ]
  },
  {
   "cell_type": "code",
   "execution_count": 160,
   "metadata": {},
   "outputs": [],
   "source": [
    "objective = cp.Maximize(mean)"
   ]
  },
  {
   "cell_type": "markdown",
   "metadata": {},
   "source": [
    "### 3.3 Constraints<a id=\"3.3\"></a>"
   ]
  },
  {
   "cell_type": "markdown",
   "metadata": {},
   "source": [
    "Define optimisation constraints"
   ]
  },
  {
   "cell_type": "code",
   "execution_count": 161,
   "metadata": {},
   "outputs": [
    {
     "name": "stderr",
     "output_type": "stream",
     "text": [
      "C:\\Users\\utkar\\anaconda3\\lib\\site-packages\\cvxpy\\expressions\\expression.py:556: UserWarning: \n",
      "This use of ``*`` has resulted in matrix multiplication.\n",
      "Using ``*`` for matrix multiplication has been deprecated since CVXPY 1.1.\n",
      "    Use ``*`` for matrix-scalar and vector-scalar multiplication.\n",
      "    Use ``@`` for matrix-matrix and matrix-vector multiplication.\n",
      "    Use ``multiply`` for elementwise multiplication.\n",
      "This code path has been hit 8 times so far.\n",
      "\n",
      "  warnings.warn(msg, UserWarning)\n"
     ]
    }
   ],
   "source": [
    "constraints = [\n",
    "    x >= 0,                                 # no shorting\n",
    "    variance <= threshold                   # upper bound on portfolio variance\n",
    "]\n",
    "for pi in p:\n",
    "    constraints = constraints + [pi*x <= k] # upper bound on single-stock allocation"
   ]
  },
  {
   "cell_type": "code",
   "execution_count": 162,
   "metadata": {},
   "outputs": [
    {
     "data": {
      "text/plain": [
       "[Inequality(Constant(CONSTANT, ZERO, ())),\n",
       " Inequality(Expression(CONVEX, NONNEGATIVE, (1, 1))),\n",
       " Inequality(Expression(AFFINE, UNKNOWN, ()))]"
      ]
     },
     "execution_count": 162,
     "metadata": {},
     "output_type": "execute_result"
    }
   ],
   "source": [
    "constraints"
   ]
  },
  {
   "cell_type": "markdown",
   "metadata": {},
   "source": [
    "### 3.4 Solution<a id=\"3.4\"></a>"
   ]
  },
  {
   "cell_type": "markdown",
   "metadata": {},
   "source": [
    "Initialise the optimisation problem using objective function and constraints"
   ]
  },
  {
   "cell_type": "code",
   "execution_count": 163,
   "metadata": {},
   "outputs": [],
   "source": [
    "problem = cp.Problem(objective, constraints)"
   ]
  },
  {
   "cell_type": "markdown",
   "metadata": {},
   "source": [
    "Solve optimisation problem for each parameter combination"
   ]
  },
  {
   "cell_type": "code",
   "execution_count": 164,
   "metadata": {},
   "outputs": [
    {
     "name": "stdout",
     "output_type": "stream",
     "text": [
      "Requirement already satisfied: cvxopt in c:\\users\\utkar\\anaconda3\\lib\\site-packages (1.2.6)\n",
      "Note: you may need to restart the kernel to use updated packages.\n"
     ]
    }
   ],
   "source": [
    "pip install cvxopt"
   ]
  },
  {
   "cell_type": "code",
   "execution_count": 165,
   "metadata": {},
   "outputs": [
    {
     "ename": "SolverError",
     "evalue": "Either candidate conic solvers (['GLPK_MI']) do not support the cones output by the problem (SOC, NonNeg), or there are not enough constraints in the problem.",
     "output_type": "error",
     "traceback": [
      "\u001b[1;31m---------------------------------------------------------------------------\u001b[0m",
      "\u001b[1;31mSolverError\u001b[0m                               Traceback (most recent call last)",
      "\u001b[1;32m<ipython-input-165-e74e968a1a83>\u001b[0m in \u001b[0;36m<module>\u001b[1;34m\u001b[0m\n\u001b[0;32m      6\u001b[0m         \u001b[0mthreshold\u001b[0m\u001b[1;33m.\u001b[0m\u001b[0mvalue\u001b[0m \u001b[1;33m=\u001b[0m \u001b[0mthreshold_value\u001b[0m\u001b[1;33m\u001b[0m\u001b[1;33m\u001b[0m\u001b[0m\n\u001b[0;32m      7\u001b[0m         \u001b[0mk\u001b[0m\u001b[1;33m.\u001b[0m\u001b[0mvalue\u001b[0m \u001b[1;33m=\u001b[0m \u001b[0mk_value\u001b[0m\u001b[1;33m\u001b[0m\u001b[1;33m\u001b[0m\u001b[0m\n\u001b[1;32m----> 8\u001b[1;33m         \u001b[0mproblem\u001b[0m\u001b[1;33m.\u001b[0m\u001b[0msolve\u001b[0m\u001b[1;33m(\u001b[0m\u001b[1;33m)\u001b[0m\u001b[1;33m\u001b[0m\u001b[1;33m\u001b[0m\u001b[0m\n\u001b[0m\u001b[0;32m      9\u001b[0m         \u001b[1;32mif\u001b[0m \u001b[0mproblem\u001b[0m\u001b[1;33m.\u001b[0m\u001b[0mstatus\u001b[0m \u001b[1;33m!=\u001b[0m \u001b[1;34m'optimal'\u001b[0m\u001b[1;33m:\u001b[0m \u001b[1;32mcontinue\u001b[0m\u001b[1;33m\u001b[0m\u001b[1;33m\u001b[0m\u001b[0m\n\u001b[0;32m     10\u001b[0m         \u001b[0mcounts\u001b[0m \u001b[1;33m=\u001b[0m \u001b[0mx\u001b[0m\u001b[1;33m.\u001b[0m\u001b[0mvalue\u001b[0m\u001b[1;33m.\u001b[0m\u001b[0mround\u001b[0m\u001b[1;33m(\u001b[0m\u001b[1;33m)\u001b[0m\u001b[1;33m\u001b[0m\u001b[1;33m\u001b[0m\u001b[0m\n",
      "\u001b[1;32m~\\anaconda3\\lib\\site-packages\\cvxpy\\problems\\problem.py\u001b[0m in \u001b[0;36msolve\u001b[1;34m(self, *args, **kwargs)\u001b[0m\n\u001b[0;32m    457\u001b[0m         \u001b[1;32melse\u001b[0m\u001b[1;33m:\u001b[0m\u001b[1;33m\u001b[0m\u001b[1;33m\u001b[0m\u001b[0m\n\u001b[0;32m    458\u001b[0m             \u001b[0msolve_func\u001b[0m \u001b[1;33m=\u001b[0m \u001b[0mProblem\u001b[0m\u001b[1;33m.\u001b[0m\u001b[0m_solve\u001b[0m\u001b[1;33m\u001b[0m\u001b[1;33m\u001b[0m\u001b[0m\n\u001b[1;32m--> 459\u001b[1;33m         \u001b[1;32mreturn\u001b[0m \u001b[0msolve_func\u001b[0m\u001b[1;33m(\u001b[0m\u001b[0mself\u001b[0m\u001b[1;33m,\u001b[0m \u001b[1;33m*\u001b[0m\u001b[0margs\u001b[0m\u001b[1;33m,\u001b[0m \u001b[1;33m**\u001b[0m\u001b[0mkwargs\u001b[0m\u001b[1;33m)\u001b[0m\u001b[1;33m\u001b[0m\u001b[1;33m\u001b[0m\u001b[0m\n\u001b[0m\u001b[0;32m    460\u001b[0m \u001b[1;33m\u001b[0m\u001b[0m\n\u001b[0;32m    461\u001b[0m     \u001b[1;33m@\u001b[0m\u001b[0mclassmethod\u001b[0m\u001b[1;33m\u001b[0m\u001b[1;33m\u001b[0m\u001b[0m\n",
      "\u001b[1;32m~\\anaconda3\\lib\\site-packages\\cvxpy\\problems\\problem.py\u001b[0m in \u001b[0;36m_solve\u001b[1;34m(self, solver, warm_start, verbose, gp, qcp, requires_grad, enforce_dpp, **kwargs)\u001b[0m\n\u001b[0;32m    936\u001b[0m                 \u001b[1;32mreturn\u001b[0m \u001b[0mself\u001b[0m\u001b[1;33m.\u001b[0m\u001b[0mvalue\u001b[0m\u001b[1;33m\u001b[0m\u001b[1;33m\u001b[0m\u001b[0m\n\u001b[0;32m    937\u001b[0m \u001b[1;33m\u001b[0m\u001b[0m\n\u001b[1;32m--> 938\u001b[1;33m         data, solving_chain, inverse_data = self.get_problem_data(\n\u001b[0m\u001b[0;32m    939\u001b[0m             solver, gp, enforce_dpp, verbose)\n\u001b[0;32m    940\u001b[0m \u001b[1;33m\u001b[0m\u001b[0m\n",
      "\u001b[1;32m~\\anaconda3\\lib\\site-packages\\cvxpy\\problems\\problem.py\u001b[0m in \u001b[0;36mget_problem_data\u001b[1;34m(self, solver, gp, enforce_dpp, verbose)\u001b[0m\n\u001b[0;32m    563\u001b[0m         \u001b[1;32mif\u001b[0m \u001b[0mkey\u001b[0m \u001b[1;33m!=\u001b[0m \u001b[0mself\u001b[0m\u001b[1;33m.\u001b[0m\u001b[0m_cache\u001b[0m\u001b[1;33m.\u001b[0m\u001b[0mkey\u001b[0m\u001b[1;33m:\u001b[0m\u001b[1;33m\u001b[0m\u001b[1;33m\u001b[0m\u001b[0m\n\u001b[0;32m    564\u001b[0m             \u001b[0mself\u001b[0m\u001b[1;33m.\u001b[0m\u001b[0m_cache\u001b[0m\u001b[1;33m.\u001b[0m\u001b[0minvalidate\u001b[0m\u001b[1;33m(\u001b[0m\u001b[1;33m)\u001b[0m\u001b[1;33m\u001b[0m\u001b[1;33m\u001b[0m\u001b[0m\n\u001b[1;32m--> 565\u001b[1;33m             solving_chain = self._construct_chain(\n\u001b[0m\u001b[0;32m    566\u001b[0m                 solver=solver, gp=gp, enforce_dpp=enforce_dpp)\n\u001b[0;32m    567\u001b[0m             \u001b[0mself\u001b[0m\u001b[1;33m.\u001b[0m\u001b[0m_cache\u001b[0m\u001b[1;33m.\u001b[0m\u001b[0mkey\u001b[0m \u001b[1;33m=\u001b[0m \u001b[0mkey\u001b[0m\u001b[1;33m\u001b[0m\u001b[1;33m\u001b[0m\u001b[0m\n",
      "\u001b[1;32m~\\anaconda3\\lib\\site-packages\\cvxpy\\problems\\problem.py\u001b[0m in \u001b[0;36m_construct_chain\u001b[1;34m(self, solver, gp, enforce_dpp)\u001b[0m\n\u001b[0;32m    789\u001b[0m         \u001b[0mcandidate_solvers\u001b[0m \u001b[1;33m=\u001b[0m \u001b[0mself\u001b[0m\u001b[1;33m.\u001b[0m\u001b[0m_find_candidate_solvers\u001b[0m\u001b[1;33m(\u001b[0m\u001b[0msolver\u001b[0m\u001b[1;33m=\u001b[0m\u001b[0msolver\u001b[0m\u001b[1;33m,\u001b[0m \u001b[0mgp\u001b[0m\u001b[1;33m=\u001b[0m\u001b[0mgp\u001b[0m\u001b[1;33m)\u001b[0m\u001b[1;33m\u001b[0m\u001b[1;33m\u001b[0m\u001b[0m\n\u001b[0;32m    790\u001b[0m         \u001b[0mself\u001b[0m\u001b[1;33m.\u001b[0m\u001b[0m_sort_candidate_solvers\u001b[0m\u001b[1;33m(\u001b[0m\u001b[0mcandidate_solvers\u001b[0m\u001b[1;33m)\u001b[0m\u001b[1;33m\u001b[0m\u001b[1;33m\u001b[0m\u001b[0m\n\u001b[1;32m--> 791\u001b[1;33m         return construct_solving_chain(self, candidate_solvers, gp=gp,\n\u001b[0m\u001b[0;32m    792\u001b[0m                                        enforce_dpp=enforce_dpp)\n\u001b[0;32m    793\u001b[0m \u001b[1;33m\u001b[0m\u001b[0m\n",
      "\u001b[1;32m~\\anaconda3\\lib\\site-packages\\cvxpy\\reductions\\solvers\\solving_chain.py\u001b[0m in \u001b[0;36mconstruct_solving_chain\u001b[1;34m(problem, candidates, gp, enforce_dpp)\u001b[0m\n\u001b[0;32m    239\u001b[0m             \u001b[1;32mreturn\u001b[0m \u001b[0mSolvingChain\u001b[0m\u001b[1;33m(\u001b[0m\u001b[0mreductions\u001b[0m\u001b[1;33m=\u001b[0m\u001b[0mreductions\u001b[0m\u001b[1;33m)\u001b[0m\u001b[1;33m\u001b[0m\u001b[1;33m\u001b[0m\u001b[0m\n\u001b[0;32m    240\u001b[0m \u001b[1;33m\u001b[0m\u001b[0m\n\u001b[1;32m--> 241\u001b[1;33m     raise SolverError(\"Either candidate conic solvers (%s) do not support the \"\n\u001b[0m\u001b[0;32m    242\u001b[0m                       \u001b[1;34m\"cones output by the problem (%s), or there are not \"\u001b[0m\u001b[1;33m\u001b[0m\u001b[1;33m\u001b[0m\u001b[0m\n\u001b[0;32m    243\u001b[0m                       \"enough constraints in the problem.\" % (\n",
      "\u001b[1;31mSolverError\u001b[0m: Either candidate conic solvers (['GLPK_MI']) do not support the cones output by the problem (SOC, NonNeg), or there are not enough constraints in the problem."
     ]
    }
   ],
   "source": [
    "z_values = []\n",
    "k_values = np.arange(1000, 5000, 1000)\n",
    "threshold_values = np.arange(1, 5, 1)\n",
    "for threshold_value in threshold_values:\n",
    "    for k_value in k_values:\n",
    "        threshold.value = threshold_value\n",
    "        k.value = k_value\n",
    "        problem.solve()\n",
    "        if problem.status != 'optimal': continue\n",
    "        counts = x.value.round()\n",
    "        investments = p*counts\n",
    "        returns = mu@investments[0]\n",
    "        z_values.append(returns)"
   ]
  },
  {
   "cell_type": "markdown",
   "metadata": {},
   "source": [
    "## 4 Evaluation<a id=\"4\"></a>"
   ]
  },
  {
   "cell_type": "markdown",
   "metadata": {},
   "source": [
    "### 4.1 Parameterised return<a id=\"4.1\"></a>"
   ]
  },
  {
   "cell_type": "markdown",
   "metadata": {},
   "source": [
    "Plot expected portfolio return as a function of portfolio variance and maximum single-asset allocation"
   ]
  },
  {
   "cell_type": "code",
   "execution_count": 166,
   "metadata": {},
   "outputs": [
    {
     "name": "stdout",
     "output_type": "stream",
     "text": [
      "No optimal solutions\n"
     ]
    }
   ],
   "source": [
    "if len(z_values) == 0:\n",
    "    print('No optimal solutions')\n",
    "else:\n",
    "    Z = np.reshape(z_values, (len(k_values), len(threshold_values)))\n",
    "    figure = plt.figure(figsize = (12,10))\n",
    "    axes = figure.add_subplot(111, projection='3d')\n",
    "    for i in range(len(k_values))[::-1]:\n",
    "        c = cm.jet(i/float(len(k_values)))\n",
    "        axes.bar(\n",
    "            threshold_values,\n",
    "            Z[i,:],\n",
    "            zs=k_values[i],\n",
    "            zdir='y',\n",
    "            width=0.4\n",
    "        )\n",
    "    axes.set_xlabel('Portfolio variance')\n",
    "    axes.set_ylabel('Maximum single-asset allocation')\n",
    "    axes.set_zlabel('Portfolio return')\n",
    "    axes.set_title('Expected portfolio return vs. portfolio variance and maximum single-asset allocation')\n",
    "    plt.show()"
   ]
  },
  {
   "cell_type": "markdown",
   "metadata": {},
   "source": [
    "### 4.2 Optimal portfolio<a id=\"4.2\"></a>"
   ]
  },
  {
   "cell_type": "markdown",
   "metadata": {},
   "source": [
    "Calculate optimal portfolio using highest variance and maximum single-asset allocation"
   ]
  },
  {
   "cell_type": "code",
   "execution_count": 167,
   "metadata": {},
   "outputs": [
    {
     "ename": "NameError",
     "evalue": "name 'counts' is not defined",
     "output_type": "error",
     "traceback": [
      "\u001b[1;31m---------------------------------------------------------------------------\u001b[0m",
      "\u001b[1;31mNameError\u001b[0m                                 Traceback (most recent call last)",
      "\u001b[1;32m<ipython-input-167-66cec1e18b01>\u001b[0m in \u001b[0;36m<module>\u001b[1;34m\u001b[0m\n\u001b[1;32m----> 1\u001b[1;33m \u001b[0mstocks_optimal\u001b[0m \u001b[1;33m=\u001b[0m \u001b[0mnp\u001b[0m\u001b[1;33m.\u001b[0m\u001b[0marray\u001b[0m\u001b[1;33m(\u001b[0m\u001b[0mstocks\u001b[0m\u001b[1;33m)\u001b[0m\u001b[1;33m[\u001b[0m\u001b[0mnp\u001b[0m\u001b[1;33m.\u001b[0m\u001b[0mwhere\u001b[0m\u001b[1;33m(\u001b[0m\u001b[0mcounts\u001b[0m \u001b[1;33m>\u001b[0m \u001b[1;36m0\u001b[0m\u001b[1;33m)\u001b[0m\u001b[1;33m]\u001b[0m\u001b[1;33m\u001b[0m\u001b[1;33m\u001b[0m\u001b[0m\n\u001b[0m\u001b[0;32m      2\u001b[0m \u001b[0mcounts_optimal\u001b[0m \u001b[1;33m=\u001b[0m \u001b[0mcounts\u001b[0m\u001b[1;33m[\u001b[0m\u001b[0mcounts\u001b[0m\u001b[1;33m>\u001b[0m\u001b[1;36m0\u001b[0m\u001b[1;33m]\u001b[0m\u001b[1;33m\u001b[0m\u001b[1;33m\u001b[0m\u001b[0m\n\u001b[0;32m      3\u001b[0m \u001b[0mprices_optimal\u001b[0m \u001b[1;33m=\u001b[0m \u001b[0mnp\u001b[0m\u001b[1;33m.\u001b[0m\u001b[0maround\u001b[0m\u001b[1;33m(\u001b[0m\u001b[0mnp\u001b[0m\u001b[1;33m.\u001b[0m\u001b[0marray\u001b[0m\u001b[1;33m(\u001b[0m\u001b[0mp\u001b[0m\u001b[1;33m)\u001b[0m\u001b[1;33m,\u001b[0m \u001b[1;36m2\u001b[0m\u001b[1;33m)\u001b[0m\u001b[1;33m[\u001b[0m\u001b[1;36m0\u001b[0m\u001b[1;33m]\u001b[0m\u001b[1;33m[\u001b[0m\u001b[0mnp\u001b[0m\u001b[1;33m.\u001b[0m\u001b[0mwhere\u001b[0m\u001b[1;33m(\u001b[0m\u001b[0mcounts\u001b[0m \u001b[1;33m>\u001b[0m \u001b[1;36m0\u001b[0m\u001b[1;33m)\u001b[0m\u001b[1;33m]\u001b[0m\u001b[1;33m\u001b[0m\u001b[1;33m\u001b[0m\u001b[0m\n\u001b[0;32m      4\u001b[0m \u001b[0minvestments_optimal\u001b[0m \u001b[1;33m=\u001b[0m \u001b[0mnp\u001b[0m\u001b[1;33m.\u001b[0m\u001b[0maround\u001b[0m\u001b[1;33m(\u001b[0m\u001b[0minvestments\u001b[0m\u001b[1;33m,\u001b[0m \u001b[1;36m2\u001b[0m\u001b[1;33m)\u001b[0m\u001b[1;33m[\u001b[0m\u001b[0minvestments\u001b[0m \u001b[1;33m>\u001b[0m \u001b[1;36m0\u001b[0m\u001b[1;33m]\u001b[0m\u001b[1;33m\u001b[0m\u001b[1;33m\u001b[0m\u001b[0m\n\u001b[0;32m      5\u001b[0m \u001b[0mcapital_optimal\u001b[0m \u001b[1;33m=\u001b[0m \u001b[0mnp\u001b[0m\u001b[1;33m.\u001b[0m\u001b[0maround\u001b[0m\u001b[1;33m(\u001b[0m\u001b[0mcounts_optimal\u001b[0m\u001b[1;33m@\u001b[0m\u001b[0mprices_optimal\u001b[0m\u001b[1;33m,\u001b[0m \u001b[1;36m2\u001b[0m\u001b[1;33m)\u001b[0m\u001b[1;33m\u001b[0m\u001b[1;33m\u001b[0m\u001b[0m\n",
      "\u001b[1;31mNameError\u001b[0m: name 'counts' is not defined"
     ]
    }
   ],
   "source": [
    "stocks_optimal = np.array(stocks)[np.where(counts > 0)]\n",
    "counts_optimal = counts[counts>0]\n",
    "prices_optimal = np.around(np.array(p), 2)[0][np.where(counts > 0)]\n",
    "investments_optimal = np.around(investments, 2)[investments > 0]\n",
    "capital_optimal = np.around(counts_optimal@prices_optimal, 2)\n",
    "risk_optimal = np.around(counts.T@sigma@counts, 2)\n",
    "return_optimal = np.around(52*returns/capital_optimal, 3)"
   ]
  },
  {
   "cell_type": "markdown",
   "metadata": {},
   "source": [
    "Print results"
   ]
  },
  {
   "cell_type": "code",
   "execution_count": 168,
   "metadata": {},
   "outputs": [
    {
     "ename": "NameError",
     "evalue": "name 'stocks_optimal' is not defined",
     "output_type": "error",
     "traceback": [
      "\u001b[1;31m---------------------------------------------------------------------------\u001b[0m",
      "\u001b[1;31mNameError\u001b[0m                                 Traceback (most recent call last)",
      "\u001b[1;32m<ipython-input-168-58c45f7c81ec>\u001b[0m in \u001b[0;36m<module>\u001b[1;34m\u001b[0m\n\u001b[1;32m----> 1\u001b[1;33m \u001b[0mprint\u001b[0m\u001b[1;33m(\u001b[0m\u001b[1;34m'Stocks:\\t\\t'\u001b[0m\u001b[1;33m,\u001b[0m \u001b[0mstocks_optimal\u001b[0m\u001b[1;33m)\u001b[0m\u001b[1;33m\u001b[0m\u001b[1;33m\u001b[0m\u001b[0m\n\u001b[0m\u001b[0;32m      2\u001b[0m \u001b[0mprint\u001b[0m\u001b[1;33m(\u001b[0m\u001b[1;34m'Counts:\\t\\t'\u001b[0m\u001b[1;33m,\u001b[0m \u001b[0mcounts_optimal\u001b[0m\u001b[1;33m)\u001b[0m\u001b[1;33m\u001b[0m\u001b[1;33m\u001b[0m\u001b[0m\n\u001b[0;32m      3\u001b[0m \u001b[0mprint\u001b[0m\u001b[1;33m(\u001b[0m\u001b[1;34m'Prices:\\t\\t'\u001b[0m\u001b[1;33m,\u001b[0m \u001b[0mprices_optimal\u001b[0m\u001b[1;33m)\u001b[0m\u001b[1;33m\u001b[0m\u001b[1;33m\u001b[0m\u001b[0m\n\u001b[0;32m      4\u001b[0m \u001b[0mprint\u001b[0m\u001b[1;33m(\u001b[0m\u001b[1;34m'Investments:\\t'\u001b[0m\u001b[1;33m,\u001b[0m \u001b[0minvestments_optimal\u001b[0m\u001b[1;33m)\u001b[0m\u001b[1;33m\u001b[0m\u001b[1;33m\u001b[0m\u001b[0m\n\u001b[0;32m      5\u001b[0m \u001b[0mprint\u001b[0m\u001b[1;33m(\u001b[0m\u001b[1;34m'Capital:\\t'\u001b[0m\u001b[1;33m,\u001b[0m \u001b[0mcapital_optimal\u001b[0m\u001b[1;33m)\u001b[0m\u001b[1;33m\u001b[0m\u001b[1;33m\u001b[0m\u001b[0m\n",
      "\u001b[1;31mNameError\u001b[0m: name 'stocks_optimal' is not defined"
     ]
    }
   ],
   "source": [
    "print('Stocks:\\t\\t', stocks_optimal)\n",
    "print('Counts:\\t\\t', counts_optimal)\n",
    "print('Prices:\\t\\t', prices_optimal)\n",
    "print('Investments:\\t', investments_optimal)\n",
    "print('Capital:\\t', capital_optimal)\n",
    "print('Return:\\t\\t', return_optimal)\n",
    "print('Risk:\\t\\t', risk_optimal)"
   ]
  },
  {
   "cell_type": "markdown",
   "metadata": {},
   "source": [
    "## 5 Conclusion<a id=\"5\"></a>"
   ]
  },
  {
   "cell_type": "markdown",
   "metadata": {},
   "source": [
    "CSL and FPH, both growth companies in the Australian biotechnology sector, dominate the portfolio making up more than 80% of the total investment. While the expected portfolio return may have been maximised for a given portfolio variance based on historical price data, a more risk-averse portfolio will require further diversification. The expected return is based on past prices which is not a reasonable indicator of future performance."
   ]
  },
  {
   "cell_type": "markdown",
   "metadata": {},
   "source": [
    "# Approach 2: Monte carlo and  3 methods of SQP"
   ]
  },
  {
   "cell_type": "markdown",
   "metadata": {},
   "source": [
    "# Monte Carlo Simulation"
   ]
  },
  {
   "cell_type": "code",
   "execution_count": 254,
   "metadata": {},
   "outputs": [],
   "source": [
    "data_2 = data.copy()\n",
    "data_2 = data_2.drop(['Time'],axis=1)"
   ]
  },
  {
   "cell_type": "code",
   "execution_count": 255,
   "metadata": {},
   "outputs": [],
   "source": [
    "from finquant.portfolio import build_portfolio\n",
    "#names = ['GOOG', 'AMZN', 'MCD', 'DIS']\n",
    "# start_date = '2015-01-01'\n",
    "# end_date = '2020-01-10'\n",
    "pf = build_portfolio(data = data_2)"
   ]
  },
  {
   "cell_type": "code",
   "execution_count": 256,
   "metadata": {},
   "outputs": [
    {
     "name": "stdout",
     "output_type": "stream",
     "text": [
      "----------------------------------------------------------------------\n",
      "Stocks: NIFTY AUTO, NIFTY BANK, NIFTY FIN SERVICE, NIFTY FMCG, NIFTY IT, NIFTY MEDIA, NIFTY METAL, NIFTY PHARMA, NIFTY PSU BANK, NIFTY PVT BANK\n",
      "Time window/frequency: 252\n",
      "Risk free rate: 0.005\n",
      "Portfolio Expected Return: 0.053\n",
      "Portfolio Volatility: 0.155\n",
      "Portfolio Sharpe Ratio: 0.312\n",
      "\n",
      "Skewness:\n",
      "   NIFTY AUTO  NIFTY BANK  NIFTY FIN SERVICE  NIFTY FMCG  NIFTY IT  \\\n",
      "0    0.301486    0.113508           0.346236    0.090765  0.550088   \n",
      "\n",
      "   NIFTY MEDIA  NIFTY METAL  NIFTY PHARMA  NIFTY PSU BANK  NIFTY PVT BANK  \n",
      "0     0.093018     0.021981      0.239453         0.04537        0.088948  \n",
      "\n",
      "Kurtosis:\n",
      "   NIFTY AUTO  NIFTY BANK  NIFTY FIN SERVICE  NIFTY FMCG  NIFTY IT  \\\n",
      "0   -1.135774   -1.222606          -0.992366   -1.509663  -1.24019   \n",
      "\n",
      "   NIFTY MEDIA  NIFTY METAL  NIFTY PHARMA  NIFTY PSU BANK  NIFTY PVT BANK  \n",
      "0    -0.908815     -0.81241     -0.948704       -0.070537       -1.351156  \n",
      "\n",
      "Information:\n",
      "   Allocation               Name\n",
      "0         0.1         NIFTY AUTO\n",
      "1         0.1         NIFTY BANK\n",
      "2         0.1  NIFTY FIN SERVICE\n",
      "3         0.1         NIFTY FMCG\n",
      "4         0.1           NIFTY IT\n",
      "5         0.1        NIFTY MEDIA\n",
      "6         0.1        NIFTY METAL\n",
      "7         0.1       NIFTY PHARMA\n",
      "8         0.1     NIFTY PSU BANK\n",
      "9         0.1     NIFTY PVT BANK\n",
      "----------------------------------------------------------------------\n"
     ]
    }
   ],
   "source": [
    "pf.properties()"
   ]
  },
  {
   "cell_type": "code",
   "execution_count": 263,
   "metadata": {},
   "outputs": [
    {
     "name": "stderr",
     "output_type": "stream",
     "text": [
      "C:\\Users\\utkar\\anaconda3\\lib\\site-packages\\numpy\\core\\_asarray.py:83: VisibleDeprecationWarning: Creating an ndarray from ragged nested sequences (which is a list-or-tuple of lists-or-tuples-or ndarrays with different lengths or shapes) is deprecated. If you meant to do this, you must specify 'dtype=object' when creating the ndarray\n",
      "  return array(a, dtype, copy=False, order=order)\n"
     ]
    },
    {
     "data": {
      "image/png": "[encoded data removed]",
      "text/plain": [
       "<Figure size 720x720 with 2 Axes>"
      ]
     },
     "metadata": {
      "needs_background": "light"
     },
     "output_type": "display_data"
    }
   ],
   "source": [
    "plt.figure(figsize=(10,10))\n",
    "\n",
    "opt_w, opt_res = pf.mc_optimisation(num_trials=500000)\n",
    "# plots the results of the Monte Carlo optimisation\n",
    "pf.mc_plot_results()\n",
    "# plots the Efficient Frontier\n",
    "pf.ef_plot_efrontier()\n",
    "# plots optimal portfolios based on Efficient Frontier\n",
    "pf.ef.plot_optimal_portfolios()\n",
    "# plots individual plots of the portfolio\n",
    "pf.plot_stocks()"
   ]
  },
  {
   "cell_type": "code",
   "execution_count": 261,
   "metadata": {},
   "outputs": [
    {
     "data": {
      "image/png": "[encoded data removed]",
      "text/plain": [
       "<Figure size 720x720 with 1 Axes>"
      ]
     },
     "metadata": {
      "needs_background": "light"
     },
     "output_type": "display_data"
    }
   ],
   "source": [
    "plt.figure(figsize=(10,10))\n",
    "\n",
    "pf.plot_stocks()"
   ]
  },
  {
   "cell_type": "markdown",
   "metadata": {},
   "source": [
    "# Optimum using constrained optimisation"
   ]
  },
  {
   "cell_type": "markdown",
   "metadata": {},
   "source": [
    "##  Maximise Return with constraint on risk"
   ]
  },
  {
   "cell_type": "code",
   "execution_count": 219,
   "metadata": {},
   "outputs": [],
   "source": [
    "pf = build_portfolio(data = data_2)"
   ]
  },
  {
   "cell_type": "code",
   "execution_count": 220,
   "metadata": {},
   "outputs": [],
   "source": [
    "df = pf.ef_efficient_return(0.08)\n",
    "df=df.reset_index()\n",
    "df=df.rename({'index':'Name'}, axis=1)"
   ]
  },
  {
   "cell_type": "code",
   "execution_count": 221,
   "metadata": {},
   "outputs": [
    {
     "data": {
      "text/html": [
       "<div>\n",
       "<style scoped>\n",
       "    .dataframe tbody tr th:only-of-type {\n",
       "        vertical-align: middle;\n",
       "    }\n",
       "\n",
       "    .dataframe tbody tr th {\n",
       "        vertical-align: top;\n",
       "    }\n",
       "\n",
       "    .dataframe thead th {\n",
       "        text-align: right;\n",
       "    }\n",
       "</style>\n",
       "<table border=\"1\" class=\"dataframe\">\n",
       "  <thead>\n",
       "    <tr style=\"text-align: right;\">\n",
       "      <th></th>\n",
       "      <th>Name</th>\n",
       "      <th>Allocation</th>\n",
       "    </tr>\n",
       "  </thead>\n",
       "  <tbody>\n",
       "    <tr>\n",
       "      <th>0</th>\n",
       "      <td>NIFTY AUTO</td>\n",
       "      <td>0.00</td>\n",
       "    </tr>\n",
       "    <tr>\n",
       "      <th>1</th>\n",
       "      <td>NIFTY BANK</td>\n",
       "      <td>0.00</td>\n",
       "    </tr>\n",
       "    <tr>\n",
       "      <th>2</th>\n",
       "      <td>NIFTY FIN SERVICE</td>\n",
       "      <td>0.05</td>\n",
       "    </tr>\n",
       "    <tr>\n",
       "      <th>3</th>\n",
       "      <td>NIFTY FMCG</td>\n",
       "      <td>0.33</td>\n",
       "    </tr>\n",
       "    <tr>\n",
       "      <th>4</th>\n",
       "      <td>NIFTY IT</td>\n",
       "      <td>0.37</td>\n",
       "    </tr>\n",
       "    <tr>\n",
       "      <th>5</th>\n",
       "      <td>NIFTY MEDIA</td>\n",
       "      <td>0.00</td>\n",
       "    </tr>\n",
       "    <tr>\n",
       "      <th>6</th>\n",
       "      <td>NIFTY METAL</td>\n",
       "      <td>0.00</td>\n",
       "    </tr>\n",
       "    <tr>\n",
       "      <th>7</th>\n",
       "      <td>NIFTY PHARMA</td>\n",
       "      <td>0.14</td>\n",
       "    </tr>\n",
       "    <tr>\n",
       "      <th>8</th>\n",
       "      <td>NIFTY PSU BANK</td>\n",
       "      <td>0.00</td>\n",
       "    </tr>\n",
       "    <tr>\n",
       "      <th>9</th>\n",
       "      <td>NIFTY PVT BANK</td>\n",
       "      <td>0.11</td>\n",
       "    </tr>\n",
       "  </tbody>\n",
       "</table>\n",
       "</div>"
      ],
      "text/plain": [
       "                Name  Allocation\n",
       "0         NIFTY AUTO        0.00\n",
       "1         NIFTY BANK        0.00\n",
       "2  NIFTY FIN SERVICE        0.05\n",
       "3         NIFTY FMCG        0.33\n",
       "4           NIFTY IT        0.37\n",
       "5        NIFTY MEDIA        0.00\n",
       "6        NIFTY METAL        0.00\n",
       "7       NIFTY PHARMA        0.14\n",
       "8     NIFTY PSU BANK        0.00\n",
       "9     NIFTY PVT BANK        0.11"
      ]
     },
     "execution_count": 221,
     "metadata": {},
     "output_type": "execute_result"
    }
   ],
   "source": [
    "df.round(2)"
   ]
  },
  {
   "cell_type": "code",
   "execution_count": 223,
   "metadata": {},
   "outputs": [],
   "source": [
    "pf = build_portfolio(data = data_2[['NIFTY FIN SERVICE','NIFTY FMCG','NIFTY IT','NIFTY PHARMA','NIFTY PVT BANK']])"
   ]
  },
  {
   "cell_type": "code",
   "execution_count": 224,
   "metadata": {},
   "outputs": [
    {
     "name": "stdout",
     "output_type": "stream",
     "text": [
      "----------------------------------------------------------------------\n",
      "Stocks: NIFTY FIN SERVICE, NIFTY FMCG, NIFTY IT, NIFTY PHARMA, NIFTY PVT BANK\n",
      "Time window/frequency: 252\n",
      "Risk free rate: 0.005\n",
      "Portfolio Expected Return: 0.100\n",
      "Portfolio Volatility: 0.123\n",
      "Portfolio Sharpe Ratio: 0.774\n",
      "\n",
      "Skewness:\n",
      "   NIFTY FIN SERVICE  NIFTY FMCG  NIFTY IT  NIFTY PHARMA  NIFTY PVT BANK\n",
      "0           0.346236    0.090765  0.550088      0.239453        0.088948\n",
      "\n",
      "Kurtosis:\n",
      "   NIFTY FIN SERVICE  NIFTY FMCG  NIFTY IT  NIFTY PHARMA  NIFTY PVT BANK\n",
      "0          -0.992366   -1.509663  -1.24019     -0.948704       -1.351156\n",
      "\n",
      "Information:\n",
      "   Allocation               Name\n",
      "0    0.148608  NIFTY FIN SERVICE\n",
      "1    0.337164         NIFTY FMCG\n",
      "2    0.374937           NIFTY IT\n",
      "3    0.038163       NIFTY PHARMA\n",
      "4    0.101128     NIFTY PVT BANK\n",
      "----------------------------------------------------------------------\n"
     ]
    }
   ],
   "source": [
    "df = pf.ef_efficient_return(0.1)\n",
    "df=df.reset_index()\n",
    "df=df.rename({'index':'Name'}, axis=1)\n",
    "pf = build_portfolio(data=data_2, pf_allocation=df)\n",
    "pf.properties()"
   ]
  },
  {
   "cell_type": "code",
   "execution_count": 225,
   "metadata": {},
   "outputs": [
    {
     "data": {
      "text/html": [
       "<div>\n",
       "<style scoped>\n",
       "    .dataframe tbody tr th:only-of-type {\n",
       "        vertical-align: middle;\n",
       "    }\n",
       "\n",
       "    .dataframe tbody tr th {\n",
       "        vertical-align: top;\n",
       "    }\n",
       "\n",
       "    .dataframe thead th {\n",
       "        text-align: right;\n",
       "    }\n",
       "</style>\n",
       "<table border=\"1\" class=\"dataframe\">\n",
       "  <thead>\n",
       "    <tr style=\"text-align: right;\">\n",
       "      <th></th>\n",
       "      <th>Name</th>\n",
       "      <th>Allocation</th>\n",
       "    </tr>\n",
       "  </thead>\n",
       "  <tbody>\n",
       "    <tr>\n",
       "      <th>0</th>\n",
       "      <td>NIFTY FIN SERVICE</td>\n",
       "      <td>0.15</td>\n",
       "    </tr>\n",
       "    <tr>\n",
       "      <th>1</th>\n",
       "      <td>NIFTY FMCG</td>\n",
       "      <td>0.34</td>\n",
       "    </tr>\n",
       "    <tr>\n",
       "      <th>2</th>\n",
       "      <td>NIFTY IT</td>\n",
       "      <td>0.37</td>\n",
       "    </tr>\n",
       "    <tr>\n",
       "      <th>3</th>\n",
       "      <td>NIFTY PHARMA</td>\n",
       "      <td>0.04</td>\n",
       "    </tr>\n",
       "    <tr>\n",
       "      <th>4</th>\n",
       "      <td>NIFTY PVT BANK</td>\n",
       "      <td>0.10</td>\n",
       "    </tr>\n",
       "  </tbody>\n",
       "</table>\n",
       "</div>"
      ],
      "text/plain": [
       "                Name  Allocation\n",
       "0  NIFTY FIN SERVICE        0.15\n",
       "1         NIFTY FMCG        0.34\n",
       "2           NIFTY IT        0.37\n",
       "3       NIFTY PHARMA        0.04\n",
       "4     NIFTY PVT BANK        0.10"
      ]
     },
     "execution_count": 225,
     "metadata": {},
     "output_type": "execute_result"
    }
   ],
   "source": [
    "df.round(2)"
   ]
  },
  {
   "cell_type": "markdown",
   "metadata": {},
   "source": [
    "##  Minimise Risk with constraint on return"
   ]
  },
  {
   "cell_type": "code",
   "execution_count": 239,
   "metadata": {},
   "outputs": [],
   "source": [
    "pf = build_portfolio(data = data_2)"
   ]
  },
  {
   "cell_type": "code",
   "execution_count": 248,
   "metadata": {},
   "outputs": [],
   "source": [
    "df = pf.ef_efficient_volatility(0.16)\n",
    "df=df.reset_index()\n",
    "df=df.rename({'index':'Name'}, axis=1)"
   ]
  },
  {
   "cell_type": "code",
   "execution_count": 249,
   "metadata": {},
   "outputs": [
    {
     "data": {
      "text/html": [
       "<div>\n",
       "<style scoped>\n",
       "    .dataframe tbody tr th:only-of-type {\n",
       "        vertical-align: middle;\n",
       "    }\n",
       "\n",
       "    .dataframe tbody tr th {\n",
       "        vertical-align: top;\n",
       "    }\n",
       "\n",
       "    .dataframe thead th {\n",
       "        text-align: right;\n",
       "    }\n",
       "</style>\n",
       "<table border=\"1\" class=\"dataframe\">\n",
       "  <thead>\n",
       "    <tr style=\"text-align: right;\">\n",
       "      <th></th>\n",
       "      <th>Name</th>\n",
       "      <th>Allocation</th>\n",
       "    </tr>\n",
       "  </thead>\n",
       "  <tbody>\n",
       "    <tr>\n",
       "      <th>0</th>\n",
       "      <td>NIFTY AUTO</td>\n",
       "      <td>0.00</td>\n",
       "    </tr>\n",
       "    <tr>\n",
       "      <th>1</th>\n",
       "      <td>NIFTY BANK</td>\n",
       "      <td>0.00</td>\n",
       "    </tr>\n",
       "    <tr>\n",
       "      <th>2</th>\n",
       "      <td>NIFTY FIN SERVICE</td>\n",
       "      <td>0.86</td>\n",
       "    </tr>\n",
       "    <tr>\n",
       "      <th>3</th>\n",
       "      <td>NIFTY FMCG</td>\n",
       "      <td>0.00</td>\n",
       "    </tr>\n",
       "    <tr>\n",
       "      <th>4</th>\n",
       "      <td>NIFTY IT</td>\n",
       "      <td>0.14</td>\n",
       "    </tr>\n",
       "    <tr>\n",
       "      <th>5</th>\n",
       "      <td>NIFTY MEDIA</td>\n",
       "      <td>0.00</td>\n",
       "    </tr>\n",
       "    <tr>\n",
       "      <th>6</th>\n",
       "      <td>NIFTY METAL</td>\n",
       "      <td>0.00</td>\n",
       "    </tr>\n",
       "    <tr>\n",
       "      <th>7</th>\n",
       "      <td>NIFTY PHARMA</td>\n",
       "      <td>0.00</td>\n",
       "    </tr>\n",
       "    <tr>\n",
       "      <th>8</th>\n",
       "      <td>NIFTY PSU BANK</td>\n",
       "      <td>0.00</td>\n",
       "    </tr>\n",
       "    <tr>\n",
       "      <th>9</th>\n",
       "      <td>NIFTY PVT BANK</td>\n",
       "      <td>0.00</td>\n",
       "    </tr>\n",
       "  </tbody>\n",
       "</table>\n",
       "</div>"
      ],
      "text/plain": [
       "                Name  Allocation\n",
       "0         NIFTY AUTO        0.00\n",
       "1         NIFTY BANK        0.00\n",
       "2  NIFTY FIN SERVICE        0.86\n",
       "3         NIFTY FMCG        0.00\n",
       "4           NIFTY IT        0.14\n",
       "5        NIFTY MEDIA        0.00\n",
       "6        NIFTY METAL        0.00\n",
       "7       NIFTY PHARMA        0.00\n",
       "8     NIFTY PSU BANK        0.00\n",
       "9     NIFTY PVT BANK        0.00"
      ]
     },
     "execution_count": 249,
     "metadata": {},
     "output_type": "execute_result"
    }
   ],
   "source": [
    "df.round(2)"
   ]
  },
  {
   "cell_type": "code",
   "execution_count": 250,
   "metadata": {},
   "outputs": [],
   "source": [
    "pf = build_portfolio(data = data_2[['NIFTY FIN SERVICE','NIFTY IT']])"
   ]
  },
  {
   "cell_type": "code",
   "execution_count": 251,
   "metadata": {},
   "outputs": [
    {
     "name": "stdout",
     "output_type": "stream",
     "text": [
      "----------------------------------------------------------------------\n",
      "Stocks: NIFTY FIN SERVICE, NIFTY IT\n",
      "Time window/frequency: 252\n",
      "Risk free rate: 0.005\n",
      "Portfolio Expected Return: 0.117\n",
      "Portfolio Volatility: 0.136\n",
      "Portfolio Sharpe Ratio: 0.823\n",
      "\n",
      "Skewness:\n",
      "   NIFTY FIN SERVICE  NIFTY IT\n",
      "0           0.346236  0.550088\n",
      "\n",
      "Kurtosis:\n",
      "   NIFTY FIN SERVICE  NIFTY IT\n",
      "0          -0.992366  -1.24019\n",
      "\n",
      "Information:\n",
      "   Allocation               Name\n",
      "0     0.46905  NIFTY FIN SERVICE\n",
      "1     0.53095           NIFTY IT\n",
      "----------------------------------------------------------------------\n"
     ]
    }
   ],
   "source": [
    "df = pf.ef_efficient_volatility(0.1)\n",
    "df=df.reset_index()\n",
    "df=df.rename({'index':'Name'}, axis=1)\n",
    "pf = build_portfolio(data=data_2, pf_allocation=df)\n",
    "pf.properties()"
   ]
  },
  {
   "cell_type": "code",
   "execution_count": 252,
   "metadata": {},
   "outputs": [
    {
     "data": {
      "text/html": [
       "<div>\n",
       "<style scoped>\n",
       "    .dataframe tbody tr th:only-of-type {\n",
       "        vertical-align: middle;\n",
       "    }\n",
       "\n",
       "    .dataframe tbody tr th {\n",
       "        vertical-align: top;\n",
       "    }\n",
       "\n",
       "    .dataframe thead th {\n",
       "        text-align: right;\n",
       "    }\n",
       "</style>\n",
       "<table border=\"1\" class=\"dataframe\">\n",
       "  <thead>\n",
       "    <tr style=\"text-align: right;\">\n",
       "      <th></th>\n",
       "      <th>Name</th>\n",
       "      <th>Allocation</th>\n",
       "    </tr>\n",
       "  </thead>\n",
       "  <tbody>\n",
       "    <tr>\n",
       "      <th>0</th>\n",
       "      <td>NIFTY FIN SERVICE</td>\n",
       "      <td>0.47</td>\n",
       "    </tr>\n",
       "    <tr>\n",
       "      <th>1</th>\n",
       "      <td>NIFTY IT</td>\n",
       "      <td>0.53</td>\n",
       "    </tr>\n",
       "  </tbody>\n",
       "</table>\n",
       "</div>"
      ],
      "text/plain": [
       "                Name  Allocation\n",
       "0  NIFTY FIN SERVICE        0.47\n",
       "1           NIFTY IT        0.53"
      ]
     },
     "execution_count": 252,
     "metadata": {},
     "output_type": "execute_result"
    }
   ],
   "source": [
    "df.round(2)"
   ]
  },
  {
   "cell_type": "markdown",
   "metadata": {},
   "source": [
    "## Sharpe Ratio"
   ]
  },
  {
   "cell_type": "code",
   "execution_count": 199,
   "metadata": {},
   "outputs": [],
   "source": [
    "df = pf.ef_maximum_sharpe_ratio()\n",
    "df=df.reset_index()\n",
    "df=df.rename({'index':'Name'}, axis=1)"
   ]
  },
  {
   "cell_type": "code",
   "execution_count": 200,
   "metadata": {},
   "outputs": [
    {
     "data": {
      "text/html": [
       "<div>\n",
       "<style scoped>\n",
       "    .dataframe tbody tr th:only-of-type {\n",
       "        vertical-align: middle;\n",
       "    }\n",
       "\n",
       "    .dataframe tbody tr th {\n",
       "        vertical-align: top;\n",
       "    }\n",
       "\n",
       "    .dataframe thead th {\n",
       "        text-align: right;\n",
       "    }\n",
       "</style>\n",
       "<table border=\"1\" class=\"dataframe\">\n",
       "  <thead>\n",
       "    <tr style=\"text-align: right;\">\n",
       "      <th></th>\n",
       "      <th>Name</th>\n",
       "      <th>Allocation</th>\n",
       "    </tr>\n",
       "  </thead>\n",
       "  <tbody>\n",
       "    <tr>\n",
       "      <th>0</th>\n",
       "      <td>NIFTY AUTO</td>\n",
       "      <td>0.00</td>\n",
       "    </tr>\n",
       "    <tr>\n",
       "      <th>1</th>\n",
       "      <td>NIFTY BANK</td>\n",
       "      <td>0.00</td>\n",
       "    </tr>\n",
       "    <tr>\n",
       "      <th>2</th>\n",
       "      <td>NIFTY FIN SERVICE</td>\n",
       "      <td>0.60</td>\n",
       "    </tr>\n",
       "    <tr>\n",
       "      <th>3</th>\n",
       "      <td>NIFTY FMCG</td>\n",
       "      <td>0.15</td>\n",
       "    </tr>\n",
       "    <tr>\n",
       "      <th>4</th>\n",
       "      <td>NIFTY IT</td>\n",
       "      <td>0.25</td>\n",
       "    </tr>\n",
       "    <tr>\n",
       "      <th>5</th>\n",
       "      <td>NIFTY MEDIA</td>\n",
       "      <td>0.00</td>\n",
       "    </tr>\n",
       "    <tr>\n",
       "      <th>6</th>\n",
       "      <td>NIFTY METAL</td>\n",
       "      <td>0.00</td>\n",
       "    </tr>\n",
       "    <tr>\n",
       "      <th>7</th>\n",
       "      <td>NIFTY PHARMA</td>\n",
       "      <td>0.00</td>\n",
       "    </tr>\n",
       "    <tr>\n",
       "      <th>8</th>\n",
       "      <td>NIFTY PSU BANK</td>\n",
       "      <td>0.00</td>\n",
       "    </tr>\n",
       "    <tr>\n",
       "      <th>9</th>\n",
       "      <td>NIFTY PVT BANK</td>\n",
       "      <td>0.00</td>\n",
       "    </tr>\n",
       "  </tbody>\n",
       "</table>\n",
       "</div>"
      ],
      "text/plain": [
       "                Name  Allocation\n",
       "0         NIFTY AUTO        0.00\n",
       "1         NIFTY BANK        0.00\n",
       "2  NIFTY FIN SERVICE        0.60\n",
       "3         NIFTY FMCG        0.15\n",
       "4           NIFTY IT        0.25\n",
       "5        NIFTY MEDIA        0.00\n",
       "6        NIFTY METAL        0.00\n",
       "7       NIFTY PHARMA        0.00\n",
       "8     NIFTY PSU BANK        0.00\n",
       "9     NIFTY PVT BANK        0.00"
      ]
     },
     "execution_count": 200,
     "metadata": {},
     "output_type": "execute_result"
    }
   ],
   "source": [
    "df.round(2)"
   ]
  },
  {
   "cell_type": "code",
   "execution_count": 201,
   "metadata": {},
   "outputs": [],
   "source": [
    "pf = build_portfolio(data = data_2[['NIFTY FIN SERVICE','NIFTY FMCG','NIFTY IT']])"
   ]
  },
  {
   "cell_type": "code",
   "execution_count": 202,
   "metadata": {},
   "outputs": [
    {
     "name": "stdout",
     "output_type": "stream",
     "text": [
      "----------------------------------------------------------------------\n",
      "Stocks: NIFTY FIN SERVICE, NIFTY FMCG, NIFTY IT\n",
      "Time window/frequency: 252\n",
      "Risk free rate: 0.005\n",
      "Portfolio Expected Return: 0.127\n",
      "Portfolio Volatility: 0.138\n",
      "Portfolio Sharpe Ratio: 0.888\n",
      "\n",
      "Skewness:\n",
      "   NIFTY FIN SERVICE  NIFTY FMCG  NIFTY IT\n",
      "0           0.346236    0.090765  0.550088\n",
      "\n",
      "Kurtosis:\n",
      "   NIFTY FIN SERVICE  NIFTY FMCG  NIFTY IT\n",
      "0          -0.992366   -1.509663  -1.24019\n",
      "\n",
      "Information:\n",
      "   Allocation               Name\n",
      "0    0.601467  NIFTY FIN SERVICE\n",
      "1    0.146257         NIFTY FMCG\n",
      "2    0.252276           NIFTY IT\n",
      "----------------------------------------------------------------------\n"
     ]
    }
   ],
   "source": [
    "df = pf.ef_maximum_sharpe_ratio()\n",
    "df=df.reset_index()\n",
    "df=df.rename({'index':'Name'}, axis=1)\n",
    "pf = build_portfolio(data=data_2, pf_allocation=df)\n",
    "pf.properties()"
   ]
  },
  {
   "cell_type": "code",
   "execution_count": 203,
   "metadata": {},
   "outputs": [
    {
     "data": {
      "text/html": [
       "<div>\n",
       "<style scoped>\n",
       "    .dataframe tbody tr th:only-of-type {\n",
       "        vertical-align: middle;\n",
       "    }\n",
       "\n",
       "    .dataframe tbody tr th {\n",
       "        vertical-align: top;\n",
       "    }\n",
       "\n",
       "    .dataframe thead th {\n",
       "        text-align: right;\n",
       "    }\n",
       "</style>\n",
       "<table border=\"1\" class=\"dataframe\">\n",
       "  <thead>\n",
       "    <tr style=\"text-align: right;\">\n",
       "      <th></th>\n",
       "      <th>Name</th>\n",
       "      <th>Allocation</th>\n",
       "    </tr>\n",
       "  </thead>\n",
       "  <tbody>\n",
       "    <tr>\n",
       "      <th>0</th>\n",
       "      <td>NIFTY FIN SERVICE</td>\n",
       "      <td>0.60</td>\n",
       "    </tr>\n",
       "    <tr>\n",
       "      <th>1</th>\n",
       "      <td>NIFTY FMCG</td>\n",
       "      <td>0.15</td>\n",
       "    </tr>\n",
       "    <tr>\n",
       "      <th>2</th>\n",
       "      <td>NIFTY IT</td>\n",
       "      <td>0.25</td>\n",
       "    </tr>\n",
       "  </tbody>\n",
       "</table>\n",
       "</div>"
      ],
      "text/plain": [
       "                Name  Allocation\n",
       "0  NIFTY FIN SERVICE        0.60\n",
       "1         NIFTY FMCG        0.15\n",
       "2           NIFTY IT        0.25"
      ]
     },
     "execution_count": 203,
     "metadata": {},
     "output_type": "execute_result"
    }
   ],
   "source": [
    "df.round(2)"
   ]
  }
 ],
 "metadata": {
  "kernelspec": {
   "display_name": "Python 3",
   "language": "python",
   "name": "python3"
  },
  "language_info": {
   "codemirror_mode": {
    "name": "ipython",
    "version": 3
   },
   "file_extension": ".py",
   "mimetype": "text/x-python",
   "name": "python",
   "nbconvert_exporter": "python",
   "pygments_lexer": "ipython3",
   "version": "3.8.8"
  }
 },
 "nbformat": 4,
 "nbformat_minor": 4
}
