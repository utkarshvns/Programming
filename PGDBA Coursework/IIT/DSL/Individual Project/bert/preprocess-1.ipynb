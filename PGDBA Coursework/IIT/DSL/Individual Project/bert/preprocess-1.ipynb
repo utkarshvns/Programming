{
 "cells": [
  {
   "cell_type": "markdown",
   "metadata": {},
   "source": [
    "https://www.kaggle.com/imoore/60k-stack-overflow-questions-with-quality-rate"
   ]
  },
  {
   "cell_type": "code",
   "execution_count": 1,
   "metadata": {
    "execution": {
     "iopub.execute_input": "2021-06-10T16:28:48.758460Z",
     "iopub.status.busy": "2021-06-10T16:28:48.758060Z",
     "iopub.status.idle": "2021-06-10T16:28:48.784544Z",
     "shell.execute_reply": "2021-06-10T16:28:48.783463Z",
     "shell.execute_reply.started": "2021-06-10T16:28:48.758377Z"
    }
   },
   "outputs": [
    {
     "name": "stdout",
     "output_type": "stream",
     "text": [
      "/kaggle/input/60k-stack-overflow-questions-with-quality-rate/valid.csv\n",
      "/kaggle/input/60k-stack-overflow-questions-with-quality-rate/train.csv\n"
     ]
    }
   ],
   "source": [
    "# This Python 3 environment comes with many helpful analytics libraries installed\n",
    "# It is defined by the kaggle/python Docker image: https://github.com/kaggle/docker-python\n",
    "# For example, here's several helpful packages to load\n",
    "\n",
    "import numpy as np # linear algebra\n",
    "import pandas as pd # data processing, CSV file I/O (e.g. pd.read_csv)\n",
    "\n",
    "# Input data files are available in the read-only \"../input/\" directory\n",
    "# For example, running this (by clicking run or pressing Shift+Enter) will list all files under the input directory\n",
    "\n",
    "import os\n",
    "for dirname, _, filenames in os.walk('/kaggle/input'):\n",
    "    for filename in filenames:\n",
    "        print(os.path.join(dirname, filename))\n",
    "\n",
    "# You can write up to 20GB to the current directory (/kaggle/working/) that gets preserved as output when you create a version using \"Save & Run All\" \n",
    "# You can also write temporary files to /kaggle/temp/, but they won't be saved outside of the current session"
   ]
  },
  {
   "cell_type": "code",
   "execution_count": null,
   "metadata": {},
   "outputs": [],
   "source": [
    "import numpy as np\n",
    "import pandas as pd\n",
    "from matplotlib import pyplot as plt\n",
    "import seaborn as sns\n",
    "\n",
    "from sklearn.model_selection import train_test_split\n",
    "\n",
    "from sklearn import metrics"
   ]
  },
  {
   "cell_type": "code",
   "execution_count": 4,
   "metadata": {
    "execution": {
     "iopub.execute_input": "2021-06-10T16:29:46.880531Z",
     "iopub.status.busy": "2021-06-10T16:29:46.880020Z",
     "iopub.status.idle": "2021-06-10T16:29:48.898714Z",
     "shell.execute_reply": "2021-06-10T16:29:48.897586Z",
     "shell.execute_reply.started": "2021-06-10T16:29:46.880499Z"
    }
   },
   "outputs": [],
   "source": [
    "train = pd.read_csv('/kaggle/input/60k-stack-overflow-questions-with-quality-rate/train.csv')\n",
    "valid = pd.read_csv('/kaggle/input/60k-stack-overflow-questions-with-quality-rate/valid.csv')"
   ]
  },
  {
   "cell_type": "code",
   "execution_count": 5,
   "metadata": {
    "execution": {
     "iopub.execute_input": "2021-06-10T16:29:51.382070Z",
     "iopub.status.busy": "2021-06-10T16:29:51.381696Z",
     "iopub.status.idle": "2021-06-10T16:29:51.417118Z",
     "shell.execute_reply": "2021-06-10T16:29:51.416102Z",
     "shell.execute_reply.started": "2021-06-10T16:29:51.382036Z"
    }
   },
   "outputs": [
    {
     "data": {
      "text/html": [
       "<div>\n",
       "<style scoped>\n",
       "    .dataframe tbody tr th:only-of-type {\n",
       "        vertical-align: middle;\n",
       "    }\n",
       "\n",
       "    .dataframe tbody tr th {\n",
       "        vertical-align: top;\n",
       "    }\n",
       "\n",
       "    .dataframe thead th {\n",
       "        text-align: right;\n",
       "    }\n",
       "</style>\n",
       "<table border=\"1\" class=\"dataframe\">\n",
       "  <thead>\n",
       "    <tr style=\"text-align: right;\">\n",
       "      <th></th>\n",
       "      <th>Id</th>\n",
       "      <th>Title</th>\n",
       "      <th>Body</th>\n",
       "      <th>Tags</th>\n",
       "      <th>CreationDate</th>\n",
       "      <th>Y</th>\n",
       "    </tr>\n",
       "  </thead>\n",
       "  <tbody>\n",
       "    <tr>\n",
       "      <th>0</th>\n",
       "      <td>34552656</td>\n",
       "      <td>Java: Repeat Task Every Random Seconds</td>\n",
       "      <td>&lt;p&gt;I'm already familiar with repeating tasks e...</td>\n",
       "      <td>&lt;java&gt;&lt;repeat&gt;</td>\n",
       "      <td>2016-01-01 00:21:59</td>\n",
       "      <td>LQ_CLOSE</td>\n",
       "    </tr>\n",
       "    <tr>\n",
       "      <th>1</th>\n",
       "      <td>34553034</td>\n",
       "      <td>Why are Java Optionals immutable?</td>\n",
       "      <td>&lt;p&gt;I'd like to understand why Java 8 Optionals...</td>\n",
       "      <td>&lt;java&gt;&lt;optional&gt;</td>\n",
       "      <td>2016-01-01 02:03:20</td>\n",
       "      <td>HQ</td>\n",
       "    </tr>\n",
       "    <tr>\n",
       "      <th>2</th>\n",
       "      <td>34553174</td>\n",
       "      <td>Text Overlay Image with Darkened Opacity React...</td>\n",
       "      <td>&lt;p&gt;I am attempting to overlay a title over an ...</td>\n",
       "      <td>&lt;javascript&gt;&lt;image&gt;&lt;overlay&gt;&lt;react-native&gt;&lt;opa...</td>\n",
       "      <td>2016-01-01 02:48:24</td>\n",
       "      <td>HQ</td>\n",
       "    </tr>\n",
       "    <tr>\n",
       "      <th>3</th>\n",
       "      <td>34553318</td>\n",
       "      <td>Why ternary operator in swift is so picky?</td>\n",
       "      <td>&lt;p&gt;The question is very simple, but I just cou...</td>\n",
       "      <td>&lt;swift&gt;&lt;operators&gt;&lt;whitespace&gt;&lt;ternary-operato...</td>\n",
       "      <td>2016-01-01 03:30:17</td>\n",
       "      <td>HQ</td>\n",
       "    </tr>\n",
       "    <tr>\n",
       "      <th>4</th>\n",
       "      <td>34553755</td>\n",
       "      <td>hide/show fab with scale animation</td>\n",
       "      <td>&lt;p&gt;I'm using custom floatingactionmenu. I need...</td>\n",
       "      <td>&lt;android&gt;&lt;material-design&gt;&lt;floating-action-but...</td>\n",
       "      <td>2016-01-01 05:21:48</td>\n",
       "      <td>HQ</td>\n",
       "    </tr>\n",
       "    <tr>\n",
       "      <th>...</th>\n",
       "      <td>...</td>\n",
       "      <td>...</td>\n",
       "      <td>...</td>\n",
       "      <td>...</td>\n",
       "      <td>...</td>\n",
       "      <td>...</td>\n",
       "    </tr>\n",
       "    <tr>\n",
       "      <th>44995</th>\n",
       "      <td>60461435</td>\n",
       "      <td>Convert List&lt;String&gt; to string C# - asp.net - ...</td>\n",
       "      <td>&lt;p&gt;I am new to this and I am asking for help t...</td>\n",
       "      <td>&lt;c#&gt;&lt;asp.net&gt;&lt;sql-server&gt;</td>\n",
       "      <td>2020-02-29 02:22:18</td>\n",
       "      <td>LQ_CLOSE</td>\n",
       "    </tr>\n",
       "    <tr>\n",
       "      <th>44996</th>\n",
       "      <td>60461754</td>\n",
       "      <td>Does Python execute code from the top or botto...</td>\n",
       "      <td>&lt;p&gt;I am working on learning Python and was won...</td>\n",
       "      <td>&lt;python&gt;</td>\n",
       "      <td>2020-02-29 03:33:59</td>\n",
       "      <td>LQ_CLOSE</td>\n",
       "    </tr>\n",
       "    <tr>\n",
       "      <th>44997</th>\n",
       "      <td>60462001</td>\n",
       "      <td>how to change payment date in Azure?</td>\n",
       "      <td>&lt;p&gt;It looks like it costs 8 days per month in ...</td>\n",
       "      <td>&lt;azure&gt;&lt;billing&gt;</td>\n",
       "      <td>2020-02-29 04:34:16</td>\n",
       "      <td>LQ_CLOSE</td>\n",
       "    </tr>\n",
       "    <tr>\n",
       "      <th>44998</th>\n",
       "      <td>60465318</td>\n",
       "      <td>how to implement fill in the blank in Swift</td>\n",
       "      <td>&lt;p&gt;\"I _____ any questions.\"&lt;/p&gt;\\n\\n&lt;p&gt;I want t...</td>\n",
       "      <td>&lt;ios&gt;&lt;swift&gt;</td>\n",
       "      <td>2020-02-29 12:50:43</td>\n",
       "      <td>LQ_CLOSE</td>\n",
       "    </tr>\n",
       "    <tr>\n",
       "      <th>44999</th>\n",
       "      <td>60468018</td>\n",
       "      <td>How can I make a c# application outside of vis...</td>\n",
       "      <td>&lt;p&gt;I'm very new to programming and I'm teachin...</td>\n",
       "      <td>&lt;c#&gt;&lt;visual-studio&gt;</td>\n",
       "      <td>2020-02-29 17:55:56</td>\n",
       "      <td>LQ_CLOSE</td>\n",
       "    </tr>\n",
       "  </tbody>\n",
       "</table>\n",
       "<p>45000 rows × 6 columns</p>\n",
       "</div>"
      ],
      "text/plain": [
       "             Id                                              Title  \\\n",
       "0      34552656             Java: Repeat Task Every Random Seconds   \n",
       "1      34553034                  Why are Java Optionals immutable?   \n",
       "2      34553174  Text Overlay Image with Darkened Opacity React...   \n",
       "3      34553318         Why ternary operator in swift is so picky?   \n",
       "4      34553755                 hide/show fab with scale animation   \n",
       "...         ...                                                ...   \n",
       "44995  60461435  Convert List<String> to string C# - asp.net - ...   \n",
       "44996  60461754  Does Python execute code from the top or botto...   \n",
       "44997  60462001               how to change payment date in Azure?   \n",
       "44998  60465318        how to implement fill in the blank in Swift   \n",
       "44999  60468018  How can I make a c# application outside of vis...   \n",
       "\n",
       "                                                    Body  \\\n",
       "0      <p>I'm already familiar with repeating tasks e...   \n",
       "1      <p>I'd like to understand why Java 8 Optionals...   \n",
       "2      <p>I am attempting to overlay a title over an ...   \n",
       "3      <p>The question is very simple, but I just cou...   \n",
       "4      <p>I'm using custom floatingactionmenu. I need...   \n",
       "...                                                  ...   \n",
       "44995  <p>I am new to this and I am asking for help t...   \n",
       "44996  <p>I am working on learning Python and was won...   \n",
       "44997  <p>It looks like it costs 8 days per month in ...   \n",
       "44998  <p>\"I _____ any questions.\"</p>\\n\\n<p>I want t...   \n",
       "44999  <p>I'm very new to programming and I'm teachin...   \n",
       "\n",
       "                                                    Tags         CreationDate  \\\n",
       "0                                         <java><repeat>  2016-01-01 00:21:59   \n",
       "1                                       <java><optional>  2016-01-01 02:03:20   \n",
       "2      <javascript><image><overlay><react-native><opa...  2016-01-01 02:48:24   \n",
       "3      <swift><operators><whitespace><ternary-operato...  2016-01-01 03:30:17   \n",
       "4      <android><material-design><floating-action-but...  2016-01-01 05:21:48   \n",
       "...                                                  ...                  ...   \n",
       "44995                          <c#><asp.net><sql-server>  2020-02-29 02:22:18   \n",
       "44996                                           <python>  2020-02-29 03:33:59   \n",
       "44997                                   <azure><billing>  2020-02-29 04:34:16   \n",
       "44998                                       <ios><swift>  2020-02-29 12:50:43   \n",
       "44999                                <c#><visual-studio>  2020-02-29 17:55:56   \n",
       "\n",
       "              Y  \n",
       "0      LQ_CLOSE  \n",
       "1            HQ  \n",
       "2            HQ  \n",
       "3            HQ  \n",
       "4            HQ  \n",
       "...         ...  \n",
       "44995  LQ_CLOSE  \n",
       "44996  LQ_CLOSE  \n",
       "44997  LQ_CLOSE  \n",
       "44998  LQ_CLOSE  \n",
       "44999  LQ_CLOSE  \n",
       "\n",
       "[45000 rows x 6 columns]"
      ]
     },
     "execution_count": 5,
     "metadata": {},
     "output_type": "execute_result"
    }
   ],
   "source": [
    "train"
   ]
  },
  {
   "cell_type": "code",
   "execution_count": 6,
   "metadata": {
    "execution": {
     "iopub.execute_input": "2021-06-10T16:29:54.906510Z",
     "iopub.status.busy": "2021-06-10T16:29:54.906155Z",
     "iopub.status.idle": "2021-06-10T16:29:54.940671Z",
     "shell.execute_reply": "2021-06-10T16:29:54.939481Z",
     "shell.execute_reply.started": "2021-06-10T16:29:54.906482Z"
    }
   },
   "outputs": [],
   "source": [
    "train['CreationDate'] = pd.to_datetime(train['CreationDate'])"
   ]
  },
  {
   "cell_type": "code",
   "execution_count": 7,
   "metadata": {
    "execution": {
     "iopub.execute_input": "2021-06-10T16:29:55.589436Z",
     "iopub.status.busy": "2021-06-10T16:29:55.589078Z",
     "iopub.status.idle": "2021-06-10T16:29:55.632149Z",
     "shell.execute_reply": "2021-06-10T16:29:55.631250Z",
     "shell.execute_reply.started": "2021-06-10T16:29:55.589408Z"
    }
   },
   "outputs": [
    {
     "name": "stdout",
     "output_type": "stream",
     "text": [
      "<class 'pandas.core.frame.DataFrame'>\n",
      "RangeIndex: 45000 entries, 0 to 44999\n",
      "Data columns (total 6 columns):\n",
      " #   Column        Non-Null Count  Dtype         \n",
      "---  ------        --------------  -----         \n",
      " 0   Id            45000 non-null  int64         \n",
      " 1   Title         45000 non-null  object        \n",
      " 2   Body          45000 non-null  object        \n",
      " 3   Tags          45000 non-null  object        \n",
      " 4   CreationDate  45000 non-null  datetime64[ns]\n",
      " 5   Y             45000 non-null  object        \n",
      "dtypes: datetime64[ns](1), int64(1), object(4)\n",
      "memory usage: 2.1+ MB\n"
     ]
    }
   ],
   "source": [
    "train.info()"
   ]
  },
  {
   "cell_type": "markdown",
   "metadata": {},
   "source": [
    "# Dataset creation for training"
   ]
  },
  {
   "cell_type": "code",
   "execution_count": 8,
   "metadata": {
    "execution": {
     "iopub.execute_input": "2021-06-10T16:29:56.568891Z",
     "iopub.status.busy": "2021-06-10T16:29:56.568544Z",
     "iopub.status.idle": "2021-06-10T16:29:56.657224Z",
     "shell.execute_reply": "2021-06-10T16:29:56.656311Z",
     "shell.execute_reply.started": "2021-06-10T16:29:56.568863Z"
    }
   },
   "outputs": [],
   "source": [
    "train_concat = pd.DataFrame()\n",
    "train_concat[\"text\"] = train['Title'] + ' ' + train['Body']\n",
    "train_concat[\"Y\"] = train['Y']"
   ]
  },
  {
   "cell_type": "code",
   "execution_count": 9,
   "metadata": {
    "execution": {
     "iopub.execute_input": "2021-06-10T16:29:57.009048Z",
     "iopub.status.busy": "2021-06-10T16:29:57.008643Z",
     "iopub.status.idle": "2021-06-10T16:29:57.022767Z",
     "shell.execute_reply": "2021-06-10T16:29:57.021760Z",
     "shell.execute_reply.started": "2021-06-10T16:29:57.009016Z"
    }
   },
   "outputs": [
    {
     "data": {
      "text/html": [
       "<div>\n",
       "<style scoped>\n",
       "    .dataframe tbody tr th:only-of-type {\n",
       "        vertical-align: middle;\n",
       "    }\n",
       "\n",
       "    .dataframe tbody tr th {\n",
       "        vertical-align: top;\n",
       "    }\n",
       "\n",
       "    .dataframe thead th {\n",
       "        text-align: right;\n",
       "    }\n",
       "</style>\n",
       "<table border=\"1\" class=\"dataframe\">\n",
       "  <thead>\n",
       "    <tr style=\"text-align: right;\">\n",
       "      <th></th>\n",
       "      <th>text</th>\n",
       "      <th>Y</th>\n",
       "    </tr>\n",
       "  </thead>\n",
       "  <tbody>\n",
       "    <tr>\n",
       "      <th>0</th>\n",
       "      <td>Java: Repeat Task Every Random Seconds &lt;p&gt;I'm ...</td>\n",
       "      <td>LQ_CLOSE</td>\n",
       "    </tr>\n",
       "    <tr>\n",
       "      <th>1</th>\n",
       "      <td>Why are Java Optionals immutable? &lt;p&gt;I'd like ...</td>\n",
       "      <td>HQ</td>\n",
       "    </tr>\n",
       "    <tr>\n",
       "      <th>2</th>\n",
       "      <td>Text Overlay Image with Darkened Opacity React...</td>\n",
       "      <td>HQ</td>\n",
       "    </tr>\n",
       "    <tr>\n",
       "      <th>3</th>\n",
       "      <td>Why ternary operator in swift is so picky? &lt;p&gt;...</td>\n",
       "      <td>HQ</td>\n",
       "    </tr>\n",
       "    <tr>\n",
       "      <th>4</th>\n",
       "      <td>hide/show fab with scale animation &lt;p&gt;I'm usin...</td>\n",
       "      <td>HQ</td>\n",
       "    </tr>\n",
       "    <tr>\n",
       "      <th>...</th>\n",
       "      <td>...</td>\n",
       "      <td>...</td>\n",
       "    </tr>\n",
       "    <tr>\n",
       "      <th>44995</th>\n",
       "      <td>Convert List&lt;String&gt; to string C# - asp.net - ...</td>\n",
       "      <td>LQ_CLOSE</td>\n",
       "    </tr>\n",
       "    <tr>\n",
       "      <th>44996</th>\n",
       "      <td>Does Python execute code from the top or botto...</td>\n",
       "      <td>LQ_CLOSE</td>\n",
       "    </tr>\n",
       "    <tr>\n",
       "      <th>44997</th>\n",
       "      <td>how to change payment date in Azure? &lt;p&gt;It loo...</td>\n",
       "      <td>LQ_CLOSE</td>\n",
       "    </tr>\n",
       "    <tr>\n",
       "      <th>44998</th>\n",
       "      <td>how to implement fill in the blank in Swift &lt;p...</td>\n",
       "      <td>LQ_CLOSE</td>\n",
       "    </tr>\n",
       "    <tr>\n",
       "      <th>44999</th>\n",
       "      <td>How can I make a c# application outside of vis...</td>\n",
       "      <td>LQ_CLOSE</td>\n",
       "    </tr>\n",
       "  </tbody>\n",
       "</table>\n",
       "<p>45000 rows × 2 columns</p>\n",
       "</div>"
      ],
      "text/plain": [
       "                                                    text         Y\n",
       "0      Java: Repeat Task Every Random Seconds <p>I'm ...  LQ_CLOSE\n",
       "1      Why are Java Optionals immutable? <p>I'd like ...        HQ\n",
       "2      Text Overlay Image with Darkened Opacity React...        HQ\n",
       "3      Why ternary operator in swift is so picky? <p>...        HQ\n",
       "4      hide/show fab with scale animation <p>I'm usin...        HQ\n",
       "...                                                  ...       ...\n",
       "44995  Convert List<String> to string C# - asp.net - ...  LQ_CLOSE\n",
       "44996  Does Python execute code from the top or botto...  LQ_CLOSE\n",
       "44997  how to change payment date in Azure? <p>It loo...  LQ_CLOSE\n",
       "44998  how to implement fill in the blank in Swift <p...  LQ_CLOSE\n",
       "44999  How can I make a c# application outside of vis...  LQ_CLOSE\n",
       "\n",
       "[45000 rows x 2 columns]"
      ]
     },
     "execution_count": 9,
     "metadata": {},
     "output_type": "execute_result"
    }
   ],
   "source": [
    "train_concat"
   ]
  },
  {
   "cell_type": "code",
   "execution_count": 10,
   "metadata": {
    "execution": {
     "iopub.execute_input": "2021-06-10T16:29:57.629219Z",
     "iopub.status.busy": "2021-06-10T16:29:57.628834Z",
     "iopub.status.idle": "2021-06-10T16:29:57.659040Z",
     "shell.execute_reply": "2021-06-10T16:29:57.658092Z",
     "shell.execute_reply.started": "2021-06-10T16:29:57.629188Z"
    }
   },
   "outputs": [],
   "source": [
    "valid_concat = pd.DataFrame()\n",
    "valid_concat[\"text\"] = valid['Title'] + ' ' + valid['Body']\n",
    "valid_concat[\"Y\"] = valid['Y']"
   ]
  },
  {
   "cell_type": "markdown",
   "metadata": {},
   "source": [
    "# Preprocessing"
   ]
  },
  {
   "cell_type": "code",
   "execution_count": 15,
   "metadata": {
    "execution": {
     "iopub.execute_input": "2021-06-10T16:30:37.331482Z",
     "iopub.status.busy": "2021-06-10T16:30:37.331125Z",
     "iopub.status.idle": "2021-06-10T16:30:46.661607Z",
     "shell.execute_reply": "2021-06-10T16:30:46.660460Z",
     "shell.execute_reply.started": "2021-06-10T16:30:37.331453Z"
    }
   },
   "outputs": [
    {
     "name": "stdout",
     "output_type": "stream",
     "text": [
      "Collecting BeautifulSoup4\n",
      "  Downloading beautifulsoup4-4.9.3-py3-none-any.whl (115 kB)\n",
      "\u001b[K     |████████████████████████████████| 115 kB 864 kB/s eta 0:00:01\n",
      "\u001b[?25hCollecting soupsieve>1.2\n",
      "  Downloading soupsieve-2.2.1-py3-none-any.whl (33 kB)\n",
      "Installing collected packages: soupsieve, BeautifulSoup4\n",
      "Successfully installed BeautifulSoup4-4.9.3 soupsieve-2.2.1\n",
      "Note: you may need to restart the kernel to use updated packages.\n"
     ]
    }
   ],
   "source": [
    "pip install BeautifulSoup4"
   ]
  },
  {
   "cell_type": "code",
   "execution_count": 16,
   "metadata": {
    "execution": {
     "iopub.execute_input": "2021-06-10T16:30:49.301705Z",
     "iopub.status.busy": "2021-06-10T16:30:49.301336Z",
     "iopub.status.idle": "2021-06-10T16:30:49.752774Z",
     "shell.execute_reply": "2021-06-10T16:30:49.751693Z",
     "shell.execute_reply.started": "2021-06-10T16:30:49.301672Z"
    }
   },
   "outputs": [
    {
     "name": "stdout",
     "output_type": "stream",
     "text": [
      "[nltk_data] Downloading package stopwords to /usr/share/nltk_data...\n",
      "[nltk_data]   Package stopwords is already up-to-date!\n"
     ]
    }
   ],
   "source": [
    "import string\n",
    "import nltk\n",
    "import re\n",
    "from nltk.tokenize import word_tokenize\n",
    "from sklearn.feature_extraction.text import CountVectorizer\n",
    "from bs4 import BeautifulSoup\n",
    "from nltk.stem import PorterStemmer\n",
    "from nltk import WordNetLemmatizer\n",
    "from nltk.corpus import stopwords\n",
    "nltk.download('stopwords')\n",
    "from nltk.stem import PorterStemmer\n",
    "from nltk import WordNetLemmatizer"
   ]
  },
  {
   "cell_type": "code",
   "execution_count": 17,
   "metadata": {
    "execution": {
     "iopub.execute_input": "2021-06-10T16:30:50.339051Z",
     "iopub.status.busy": "2021-06-10T16:30:50.338679Z",
     "iopub.status.idle": "2021-06-10T16:30:50.343316Z",
     "shell.execute_reply": "2021-06-10T16:30:50.342364Z",
     "shell.execute_reply.started": "2021-06-10T16:30:50.339020Z"
    }
   },
   "outputs": [],
   "source": [
    "def removeURL(inputText):\n",
    "    return re.sub(r\"http\\S+\", \"\", inputText)"
   ]
  },
  {
   "cell_type": "code",
   "execution_count": 18,
   "metadata": {
    "execution": {
     "iopub.execute_input": "2021-06-10T16:30:53.074496Z",
     "iopub.status.busy": "2021-06-10T16:30:53.074144Z",
     "iopub.status.idle": "2021-06-10T16:30:53.079637Z",
     "shell.execute_reply": "2021-06-10T16:30:53.078402Z",
     "shell.execute_reply.started": "2021-06-10T16:30:53.074466Z"
    }
   },
   "outputs": [],
   "source": [
    "def removeHTML(inputText):\n",
    "    return BeautifulSoup(inputText, \"lxml\").get_text()"
   ]
  },
  {
   "cell_type": "code",
   "execution_count": 19,
   "metadata": {
    "execution": {
     "iopub.execute_input": "2021-06-10T16:30:53.445882Z",
     "iopub.status.busy": "2021-06-10T16:30:53.445519Z",
     "iopub.status.idle": "2021-06-10T16:30:53.450655Z",
     "shell.execute_reply": "2021-06-10T16:30:53.449649Z",
     "shell.execute_reply.started": "2021-06-10T16:30:53.445851Z"
    }
   },
   "outputs": [],
   "source": [
    "def removePunctuation(inputText):\n",
    "    return inputText.translate(str.maketrans('', '', string.punctuation))   "
   ]
  },
  {
   "cell_type": "code",
   "execution_count": 20,
   "metadata": {
    "execution": {
     "iopub.execute_input": "2021-06-10T16:30:55.499613Z",
     "iopub.status.busy": "2021-06-10T16:30:55.499268Z",
     "iopub.status.idle": "2021-06-10T16:30:55.518392Z",
     "shell.execute_reply": "2021-06-10T16:30:55.517288Z",
     "shell.execute_reply.started": "2021-06-10T16:30:55.499584Z"
    }
   },
   "outputs": [],
   "source": [
    "stopwords = stopwords.words('english')\n",
    "def removeStopwords(inputTokens):\n",
    "    output_tokens = []\n",
    "    for token in inputTokens:\n",
    "        if token not in stopwords:\n",
    "            output_tokens.append(token)\n",
    "    return output_tokens"
   ]
  },
  {
   "cell_type": "code",
   "execution_count": 21,
   "metadata": {
    "execution": {
     "iopub.execute_input": "2021-06-10T16:30:55.728555Z",
     "iopub.status.busy": "2021-06-10T16:30:55.728179Z",
     "iopub.status.idle": "2021-06-10T16:30:55.733608Z",
     "shell.execute_reply": "2021-06-10T16:30:55.732602Z",
     "shell.execute_reply.started": "2021-06-10T16:30:55.728521Z"
    }
   },
   "outputs": [],
   "source": [
    "def porterStemming(inputTokens):\n",
    "    porter = PorterStemmer()\n",
    "    output_tokens = []\n",
    "    for token in inputTokens:\n",
    "        output_tokens.append(porter.stem(token))\n",
    "    return output_tokens"
   ]
  },
  {
   "cell_type": "code",
   "execution_count": 22,
   "metadata": {
    "execution": {
     "iopub.execute_input": "2021-06-10T16:30:55.995616Z",
     "iopub.status.busy": "2021-06-10T16:30:55.995248Z",
     "iopub.status.idle": "2021-06-10T16:30:56.002067Z",
     "shell.execute_reply": "2021-06-10T16:30:56.000629Z",
     "shell.execute_reply.started": "2021-06-10T16:30:55.995585Z"
    }
   },
   "outputs": [],
   "source": [
    "def lemmatisation(inputTokens):\n",
    "    wnl = WordNetLemmatizer()\n",
    "    output_tokens = []\n",
    "    for token in inputTokens:\n",
    "        output_tokens.append(wnl.lemmatize(token))\n",
    "    return output_tokens"
   ]
  },
  {
   "cell_type": "code",
   "execution_count": 23,
   "metadata": {
    "execution": {
     "iopub.execute_input": "2021-06-10T16:30:56.286550Z",
     "iopub.status.busy": "2021-06-10T16:30:56.286157Z",
     "iopub.status.idle": "2021-06-10T16:30:56.292116Z",
     "shell.execute_reply": "2021-06-10T16:30:56.291052Z",
     "shell.execute_reply.started": "2021-06-10T16:30:56.286514Z"
    }
   },
   "outputs": [],
   "source": [
    "def preprocess(text):\n",
    "    text = text.lower()\n",
    "    text = removeURL(text)\n",
    "    text = removeHTML(text)\n",
    "#     text=removePunctuation(text)\n",
    "    tokens = word_tokenize(text)\n",
    "#     tokens=removeStopwords(tokens)\n",
    "#     tokens=lemmatisation(tokens)\n",
    "#     tokens=porterStemming(tokens)    \n",
    "    return \" \".join(tokens)"
   ]
  },
  {
   "cell_type": "code",
   "execution_count": 24,
   "metadata": {
    "execution": {
     "iopub.execute_input": "2021-06-10T16:30:56.514769Z",
     "iopub.status.busy": "2021-06-10T16:30:56.514399Z",
     "iopub.status.idle": "2021-06-10T16:30:56.543713Z",
     "shell.execute_reply": "2021-06-10T16:30:56.542486Z",
     "shell.execute_reply.started": "2021-06-10T16:30:56.514735Z"
    }
   },
   "outputs": [
    {
     "data": {
      "text/plain": [
       "'hey there ! log in to . & here it is , are you seeing this ? test corpora'"
      ]
     },
     "execution_count": 24,
     "metadata": {},
     "output_type": "execute_result"
    }
   ],
   "source": [
    "# Testing preprocess function on sample text\n",
    "mytext = \"<b>Hey there!</b> log in to https://www.google.com/ .&amp;  Here it is, are you seeing this? Test corpora\"\n",
    "\n",
    "preprocess(mytext)"
   ]
  },
  {
   "cell_type": "code",
   "execution_count": 25,
   "metadata": {
    "execution": {
     "iopub.execute_input": "2021-06-10T16:30:58.353411Z",
     "iopub.status.busy": "2021-06-10T16:30:58.353022Z",
     "iopub.status.idle": "2021-06-10T16:30:58.356806Z",
     "shell.execute_reply": "2021-06-10T16:30:58.356038Z",
     "shell.execute_reply.started": "2021-06-10T16:30:58.353381Z"
    }
   },
   "outputs": [],
   "source": [
    "# Preprocess Train and validation data"
   ]
  },
  {
   "cell_type": "code",
   "execution_count": 26,
   "metadata": {
    "execution": {
     "iopub.execute_input": "2021-06-10T16:30:58.623966Z",
     "iopub.status.busy": "2021-06-10T16:30:58.623609Z",
     "iopub.status.idle": "2021-06-10T16:33:13.477749Z",
     "shell.execute_reply": "2021-06-10T16:33:13.476842Z",
     "shell.execute_reply.started": "2021-06-10T16:30:58.623937Z"
    }
   },
   "outputs": [],
   "source": [
    "train_concat['text'] = np.vectorize(preprocess)(train_concat['text'].to_numpy())"
   ]
  },
  {
   "cell_type": "code",
   "execution_count": 27,
   "metadata": {
    "execution": {
     "iopub.execute_input": "2021-06-10T16:33:13.479565Z",
     "iopub.status.busy": "2021-06-10T16:33:13.479130Z",
     "iopub.status.idle": "2021-06-10T16:33:13.493612Z",
     "shell.execute_reply": "2021-06-10T16:33:13.492491Z",
     "shell.execute_reply.started": "2021-06-10T16:33:13.479532Z"
    }
   },
   "outputs": [
    {
     "data": {
      "text/html": [
       "<div>\n",
       "<style scoped>\n",
       "    .dataframe tbody tr th:only-of-type {\n",
       "        vertical-align: middle;\n",
       "    }\n",
       "\n",
       "    .dataframe tbody tr th {\n",
       "        vertical-align: top;\n",
       "    }\n",
       "\n",
       "    .dataframe thead th {\n",
       "        text-align: right;\n",
       "    }\n",
       "</style>\n",
       "<table border=\"1\" class=\"dataframe\">\n",
       "  <thead>\n",
       "    <tr style=\"text-align: right;\">\n",
       "      <th></th>\n",
       "      <th>text</th>\n",
       "      <th>Y</th>\n",
       "    </tr>\n",
       "  </thead>\n",
       "  <tbody>\n",
       "    <tr>\n",
       "      <th>0</th>\n",
       "      <td>java : repeat task every random seconds i 'm a...</td>\n",
       "      <td>LQ_CLOSE</td>\n",
       "    </tr>\n",
       "    <tr>\n",
       "      <th>1</th>\n",
       "      <td>why are java optionals immutable ? i 'd like t...</td>\n",
       "      <td>HQ</td>\n",
       "    </tr>\n",
       "    <tr>\n",
       "      <th>2</th>\n",
       "      <td>text overlay image with darkened opacity react...</td>\n",
       "      <td>HQ</td>\n",
       "    </tr>\n",
       "    <tr>\n",
       "      <th>3</th>\n",
       "      <td>why ternary operator in swift is so picky ? th...</td>\n",
       "      <td>HQ</td>\n",
       "    </tr>\n",
       "    <tr>\n",
       "      <th>4</th>\n",
       "      <td>hide/show fab with scale animation i 'm using ...</td>\n",
       "      <td>HQ</td>\n",
       "    </tr>\n",
       "    <tr>\n",
       "      <th>...</th>\n",
       "      <td>...</td>\n",
       "      <td>...</td>\n",
       "    </tr>\n",
       "    <tr>\n",
       "      <th>44995</th>\n",
       "      <td>convert list to string c # - asp.net - sql ser...</td>\n",
       "      <td>LQ_CLOSE</td>\n",
       "    </tr>\n",
       "    <tr>\n",
       "      <th>44996</th>\n",
       "      <td>does python execute code from the top or botto...</td>\n",
       "      <td>LQ_CLOSE</td>\n",
       "    </tr>\n",
       "    <tr>\n",
       "      <th>44997</th>\n",
       "      <td>how to change payment date in azure ? it looks...</td>\n",
       "      <td>LQ_CLOSE</td>\n",
       "    </tr>\n",
       "    <tr>\n",
       "      <th>44998</th>\n",
       "      <td>how to implement fill in the blank in swift ``...</td>\n",
       "      <td>LQ_CLOSE</td>\n",
       "    </tr>\n",
       "    <tr>\n",
       "      <th>44999</th>\n",
       "      <td>how can i make a c # application outside of vi...</td>\n",
       "      <td>LQ_CLOSE</td>\n",
       "    </tr>\n",
       "  </tbody>\n",
       "</table>\n",
       "<p>45000 rows × 2 columns</p>\n",
       "</div>"
      ],
      "text/plain": [
       "                                                    text         Y\n",
       "0      java : repeat task every random seconds i 'm a...  LQ_CLOSE\n",
       "1      why are java optionals immutable ? i 'd like t...        HQ\n",
       "2      text overlay image with darkened opacity react...        HQ\n",
       "3      why ternary operator in swift is so picky ? th...        HQ\n",
       "4      hide/show fab with scale animation i 'm using ...        HQ\n",
       "...                                                  ...       ...\n",
       "44995  convert list to string c # - asp.net - sql ser...  LQ_CLOSE\n",
       "44996  does python execute code from the top or botto...  LQ_CLOSE\n",
       "44997  how to change payment date in azure ? it looks...  LQ_CLOSE\n",
       "44998  how to implement fill in the blank in swift ``...  LQ_CLOSE\n",
       "44999  how can i make a c # application outside of vi...  LQ_CLOSE\n",
       "\n",
       "[45000 rows x 2 columns]"
      ]
     },
     "execution_count": 27,
     "metadata": {},
     "output_type": "execute_result"
    }
   ],
   "source": [
    "train_concat"
   ]
  },
  {
   "cell_type": "code",
   "execution_count": 28,
   "metadata": {
    "execution": {
     "iopub.execute_input": "2021-06-10T16:35:09.154174Z",
     "iopub.status.busy": "2021-06-10T16:35:09.153751Z",
     "iopub.status.idle": "2021-06-10T16:35:56.307109Z",
     "shell.execute_reply": "2021-06-10T16:35:56.306042Z",
     "shell.execute_reply.started": "2021-06-10T16:35:09.154135Z"
    }
   },
   "outputs": [],
   "source": [
    "valid_concat['text'] = np.vectorize(preprocess)(valid_concat['text'].to_numpy())"
   ]
  },
  {
   "cell_type": "code",
   "execution_count": 29,
   "metadata": {
    "execution": {
     "iopub.execute_input": "2021-06-10T16:35:56.308936Z",
     "iopub.status.busy": "2021-06-10T16:35:56.308639Z",
     "iopub.status.idle": "2021-06-10T16:35:56.321637Z",
     "shell.execute_reply": "2021-06-10T16:35:56.320886Z",
     "shell.execute_reply.started": "2021-06-10T16:35:56.308906Z"
    }
   },
   "outputs": [
    {
     "data": {
      "text/html": [
       "<div>\n",
       "<style scoped>\n",
       "    .dataframe tbody tr th:only-of-type {\n",
       "        vertical-align: middle;\n",
       "    }\n",
       "\n",
       "    .dataframe tbody tr th {\n",
       "        vertical-align: top;\n",
       "    }\n",
       "\n",
       "    .dataframe thead th {\n",
       "        text-align: right;\n",
       "    }\n",
       "</style>\n",
       "<table border=\"1\" class=\"dataframe\">\n",
       "  <thead>\n",
       "    <tr style=\"text-align: right;\">\n",
       "      <th></th>\n",
       "      <th>text</th>\n",
       "      <th>Y</th>\n",
       "    </tr>\n",
       "  </thead>\n",
       "  <tbody>\n",
       "    <tr>\n",
       "      <th>0</th>\n",
       "      <td>how to get all the child records from differen...</td>\n",
       "      <td>LQ_EDIT</td>\n",
       "    </tr>\n",
       "    <tr>\n",
       "      <th>1</th>\n",
       "      <td>retrieve all except some data of the another t...</td>\n",
       "      <td>LQ_EDIT</td>\n",
       "    </tr>\n",
       "    <tr>\n",
       "      <th>2</th>\n",
       "      <td>pandas : read_html i 'm trying to extract us s...</td>\n",
       "      <td>HQ</td>\n",
       "    </tr>\n",
       "    <tr>\n",
       "      <th>3</th>\n",
       "      <td>reader always gim me null i 'm so new to c # ,...</td>\n",
       "      <td>LQ_EDIT</td>\n",
       "    </tr>\n",
       "    <tr>\n",
       "      <th>4</th>\n",
       "      <td>php rearrange array elements based on conditio...</td>\n",
       "      <td>LQ_EDIT</td>\n",
       "    </tr>\n",
       "    <tr>\n",
       "      <th>...</th>\n",
       "      <td>...</td>\n",
       "      <td>...</td>\n",
       "    </tr>\n",
       "    <tr>\n",
       "      <th>14995</th>\n",
       "      <td>how can i align two flex boxes to follow each ...</td>\n",
       "      <td>LQ_CLOSE</td>\n",
       "    </tr>\n",
       "    <tr>\n",
       "      <th>14996</th>\n",
       "      <td>c++ the correct way to multiply an integer and...</td>\n",
       "      <td>LQ_CLOSE</td>\n",
       "    </tr>\n",
       "    <tr>\n",
       "      <th>14997</th>\n",
       "      <td>why django is showing me this error when i try...</td>\n",
       "      <td>LQ_EDIT</td>\n",
       "    </tr>\n",
       "    <tr>\n",
       "      <th>14998</th>\n",
       "      <td>php - getting the content of php page i have a...</td>\n",
       "      <td>LQ_CLOSE</td>\n",
       "    </tr>\n",
       "    <tr>\n",
       "      <th>14999</th>\n",
       "      <td>why ca n't overloaded functions vary only by r...</td>\n",
       "      <td>LQ_CLOSE</td>\n",
       "    </tr>\n",
       "  </tbody>\n",
       "</table>\n",
       "<p>15000 rows × 2 columns</p>\n",
       "</div>"
      ],
      "text/plain": [
       "                                                    text         Y\n",
       "0      how to get all the child records from differen...   LQ_EDIT\n",
       "1      retrieve all except some data of the another t...   LQ_EDIT\n",
       "2      pandas : read_html i 'm trying to extract us s...        HQ\n",
       "3      reader always gim me null i 'm so new to c # ,...   LQ_EDIT\n",
       "4      php rearrange array elements based on conditio...   LQ_EDIT\n",
       "...                                                  ...       ...\n",
       "14995  how can i align two flex boxes to follow each ...  LQ_CLOSE\n",
       "14996  c++ the correct way to multiply an integer and...  LQ_CLOSE\n",
       "14997  why django is showing me this error when i try...   LQ_EDIT\n",
       "14998  php - getting the content of php page i have a...  LQ_CLOSE\n",
       "14999  why ca n't overloaded functions vary only by r...  LQ_CLOSE\n",
       "\n",
       "[15000 rows x 2 columns]"
      ]
     },
     "execution_count": 29,
     "metadata": {},
     "output_type": "execute_result"
    }
   ],
   "source": [
    "valid_concat"
   ]
  },
  {
   "cell_type": "markdown",
   "metadata": {},
   "source": [
    "#  Feature and Labels"
   ]
  },
  {
   "cell_type": "code",
   "execution_count": 64,
   "metadata": {
    "execution": {
     "iopub.execute_input": "2021-06-10T16:47:51.303319Z",
     "iopub.status.busy": "2021-06-10T16:47:51.302678Z",
     "iopub.status.idle": "2021-06-10T16:47:51.306868Z",
     "shell.execute_reply": "2021-06-10T16:47:51.306097Z",
     "shell.execute_reply.started": "2021-06-10T16:47:51.303282Z"
    }
   },
   "outputs": [],
   "source": [
    "X_train = train_concat['text']\n",
    "y_train = train_concat['Y']"
   ]
  },
  {
   "cell_type": "code",
   "execution_count": 65,
   "metadata": {
    "execution": {
     "iopub.execute_input": "2021-06-10T16:47:51.565685Z",
     "iopub.status.busy": "2021-06-10T16:47:51.565172Z",
     "iopub.status.idle": "2021-06-10T16:47:51.573709Z",
     "shell.execute_reply": "2021-06-10T16:47:51.572765Z",
     "shell.execute_reply.started": "2021-06-10T16:47:51.565652Z"
    }
   },
   "outputs": [
    {
     "data": {
      "text/plain": [
       "0        java : repeat task every random seconds i 'm a...\n",
       "1        why are java optionals immutable ? i 'd like t...\n",
       "2        text overlay image with darkened opacity react...\n",
       "3        why ternary operator in swift is so picky ? th...\n",
       "4        hide/show fab with scale animation i 'm using ...\n",
       "                               ...                        \n",
       "44995    convert list to string c # - asp.net - sql ser...\n",
       "44996    does python execute code from the top or botto...\n",
       "44997    how to change payment date in azure ? it looks...\n",
       "44998    how to implement fill in the blank in swift ``...\n",
       "44999    how can i make a c # application outside of vi...\n",
       "Name: text, Length: 45000, dtype: object"
      ]
     },
     "execution_count": 65,
     "metadata": {},
     "output_type": "execute_result"
    }
   ],
   "source": [
    "X_train"
   ]
  },
  {
   "cell_type": "code",
   "execution_count": 66,
   "metadata": {
    "execution": {
     "iopub.execute_input": "2021-06-10T16:47:51.966431Z",
     "iopub.status.busy": "2021-06-10T16:47:51.966080Z",
     "iopub.status.idle": "2021-06-10T16:47:51.976203Z",
     "shell.execute_reply": "2021-06-10T16:47:51.975260Z",
     "shell.execute_reply.started": "2021-06-10T16:47:51.966402Z"
    }
   },
   "outputs": [
    {
     "data": {
      "text/plain": [
       "0        LQ_CLOSE\n",
       "1              HQ\n",
       "2              HQ\n",
       "3              HQ\n",
       "4              HQ\n",
       "           ...   \n",
       "44995    LQ_CLOSE\n",
       "44996    LQ_CLOSE\n",
       "44997    LQ_CLOSE\n",
       "44998    LQ_CLOSE\n",
       "44999    LQ_CLOSE\n",
       "Name: Y, Length: 45000, dtype: object"
      ]
     },
     "execution_count": 66,
     "metadata": {},
     "output_type": "execute_result"
    }
   ],
   "source": [
    "y_train"
   ]
  },
  {
   "cell_type": "code",
   "execution_count": 67,
   "metadata": {
    "execution": {
     "iopub.execute_input": "2021-06-10T16:47:52.201581Z",
     "iopub.status.busy": "2021-06-10T16:47:52.201236Z",
     "iopub.status.idle": "2021-06-10T16:47:52.206280Z",
     "shell.execute_reply": "2021-06-10T16:47:52.205052Z",
     "shell.execute_reply.started": "2021-06-10T16:47:52.201551Z"
    }
   },
   "outputs": [],
   "source": [
    "X_valid = valid_concat['text']\n",
    "y_valid = valid_concat['Y']"
   ]
  },
  {
   "cell_type": "code",
   "execution_count": 68,
   "metadata": {
    "execution": {
     "iopub.execute_input": "2021-06-10T16:47:52.601210Z",
     "iopub.status.busy": "2021-06-10T16:47:52.600834Z",
     "iopub.status.idle": "2021-06-10T16:47:52.608467Z",
     "shell.execute_reply": "2021-06-10T16:47:52.607370Z",
     "shell.execute_reply.started": "2021-06-10T16:47:52.601172Z"
    }
   },
   "outputs": [
    {
     "data": {
      "text/plain": [
       "0        how to get all the child records from differen...\n",
       "1        retrieve all except some data of the another t...\n",
       "2        pandas : read_html i 'm trying to extract us s...\n",
       "3        reader always gim me null i 'm so new to c # ,...\n",
       "4        php rearrange array elements based on conditio...\n",
       "                               ...                        \n",
       "14995    how can i align two flex boxes to follow each ...\n",
       "14996    c++ the correct way to multiply an integer and...\n",
       "14997    why django is showing me this error when i try...\n",
       "14998    php - getting the content of php page i have a...\n",
       "14999    why ca n't overloaded functions vary only by r...\n",
       "Name: text, Length: 15000, dtype: object"
      ]
     },
     "execution_count": 68,
     "metadata": {},
     "output_type": "execute_result"
    }
   ],
   "source": [
    "X_valid"
   ]
  },
  {
   "cell_type": "markdown",
   "metadata": {},
   "source": [
    "# BERT"
   ]
  },
  {
   "cell_type": "code",
   "execution_count": 85,
   "metadata": {
    "execution": {
     "iopub.execute_input": "2021-06-10T17:21:57.817841Z",
     "iopub.status.busy": "2021-06-10T17:21:57.817470Z",
     "iopub.status.idle": "2021-06-10T17:21:57.822626Z",
     "shell.execute_reply": "2021-06-10T17:21:57.821373Z",
     "shell.execute_reply.started": "2021-06-10T17:21:57.817810Z"
    }
   },
   "outputs": [],
   "source": [
    "import tensorflow as tf\n",
    "import transformers\n",
    "from sklearn.metrics import accuracy_score"
   ]
  },
  {
   "cell_type": "code",
   "execution_count": 76,
   "metadata": {
    "execution": {
     "iopub.execute_input": "2021-06-10T16:55:28.340056Z",
     "iopub.status.busy": "2021-06-10T16:55:28.339482Z",
     "iopub.status.idle": "2021-06-10T16:55:33.596591Z",
     "shell.execute_reply": "2021-06-10T16:55:33.595564Z",
     "shell.execute_reply.started": "2021-06-10T16:55:28.340000Z"
    }
   },
   "outputs": [
    {
     "name": "stdout",
     "output_type": "stream",
     "text": [
      "Running on TPU  grpc://10.0.0.2:8470\n",
      "REPLICAS available:  8\n"
     ]
    }
   ],
   "source": [
    "# Detect hardware, return appropriate distribution strategy\n",
    "\n",
    "try:\n",
    "    # TPU detection. No parameters necessary if TPU_NAME environment variable is\n",
    "    # set: this is always the case on Kaggle.\n",
    "    tpu = tf.distribute.cluster_resolver.TPUClusterResolver()\n",
    "    print('Running on TPU ', tpu.master())\n",
    "except ValueError:\n",
    "    tpu = None\n",
    "\n",
    "if tpu:\n",
    "    tf.config.experimental_connect_to_cluster(tpu)\n",
    "    tf.tpu.experimental.initialize_tpu_system(tpu)\n",
    "    strategy = tf.distribute.experimental.TPUStrategy(tpu)\n",
    "else:\n",
    "    # Default distribution strategy in Tensorflow. Works on CPU and single GPU.\n",
    "    strategy = tf.distribute.get_strategy()\n",
    "\n",
    "print(\"REPLICAS available: \", strategy.num_replicas_in_sync)"
   ]
  },
  {
   "cell_type": "code",
   "execution_count": 70,
   "metadata": {
    "execution": {
     "iopub.execute_input": "2021-06-10T16:47:55.504208Z",
     "iopub.status.busy": "2021-06-10T16:47:55.503833Z",
     "iopub.status.idle": "2021-06-10T16:47:55.522698Z",
     "shell.execute_reply": "2021-06-10T16:47:55.521866Z",
     "shell.execute_reply.started": "2021-06-10T16:47:55.504179Z"
    }
   },
   "outputs": [
    {
     "data": {
      "text/plain": [
       "0        2\n",
       "1        0\n",
       "2        0\n",
       "3        0\n",
       "4        0\n",
       "        ..\n",
       "44995    2\n",
       "44996    2\n",
       "44997    2\n",
       "44998    2\n",
       "44999    2\n",
       "Name: Y, Length: 45000, dtype: int64"
      ]
     },
     "execution_count": 70,
     "metadata": {},
     "output_type": "execute_result"
    }
   ],
   "source": [
    "targets = {'HQ': 0, 'LQ_EDIT': 1, 'LQ_CLOSE': 2}\n",
    "y_train = y_train.map(targets)\n",
    "y_valid = y_valid.map(targets)\n",
    "y_train"
   ]
  },
  {
   "cell_type": "code",
   "execution_count": 71,
   "metadata": {
    "execution": {
     "iopub.execute_input": "2021-06-10T16:48:05.141437Z",
     "iopub.status.busy": "2021-06-10T16:48:05.141097Z",
     "iopub.status.idle": "2021-06-10T16:48:05.148635Z",
     "shell.execute_reply": "2021-06-10T16:48:05.147504Z",
     "shell.execute_reply.started": "2021-06-10T16:48:05.141409Z"
    }
   },
   "outputs": [
    {
     "data": {
      "text/plain": [
       "0        1\n",
       "1        1\n",
       "2        0\n",
       "3        1\n",
       "4        1\n",
       "        ..\n",
       "14995    2\n",
       "14996    2\n",
       "14997    1\n",
       "14998    2\n",
       "14999    2\n",
       "Name: Y, Length: 15000, dtype: int64"
      ]
     },
     "execution_count": 71,
     "metadata": {},
     "output_type": "execute_result"
    }
   ],
   "source": [
    "y_valid"
   ]
  },
  {
   "cell_type": "code",
   "execution_count": 72,
   "metadata": {
    "execution": {
     "iopub.execute_input": "2021-06-10T16:48:08.905607Z",
     "iopub.status.busy": "2021-06-10T16:48:08.905186Z",
     "iopub.status.idle": "2021-06-10T16:48:08.911120Z",
     "shell.execute_reply": "2021-06-10T16:48:08.910151Z",
     "shell.execute_reply.started": "2021-06-10T16:48:08.905571Z"
    }
   },
   "outputs": [],
   "source": [
    "# Maximum sequence size for BERT is 512\n",
    "\n",
    "def regular_encode(texts, tokenizer, maxlen = 512):\n",
    "    enc_di = tokenizer.batch_encode_plus(texts,truncation=True, return_token_type_ids = False, padding='max_length', max_length = maxlen)\n",
    "    return np.array(enc_di['input_ids'])"
   ]
  },
  {
   "cell_type": "code",
   "execution_count": 38,
   "metadata": {
    "execution": {
     "iopub.execute_input": "2021-06-10T16:36:13.423442Z",
     "iopub.status.busy": "2021-06-10T16:36:13.422802Z",
     "iopub.status.idle": "2021-06-10T16:36:17.831747Z",
     "shell.execute_reply": "2021-06-10T16:36:17.830648Z",
     "shell.execute_reply.started": "2021-06-10T16:36:13.423404Z"
    }
   },
   "outputs": [
    {
     "data": {
      "application/vnd.jupyter.widget-view+json": {
       "model_id": "c4b2a7960e38405781c6518b698b3844",
       "version_major": 2,
       "version_minor": 0
      },
      "text/plain": [
       "Downloading:   0%|          | 0.00/232k [00:00<?, ?B/s]"
      ]
     },
     "metadata": {},
     "output_type": "display_data"
    },
    {
     "data": {
      "application/vnd.jupyter.widget-view+json": {
       "model_id": "cc8668412f944129a0dd0d8611fa4186",
       "version_major": 2,
       "version_minor": 0
      },
      "text/plain": [
       "Downloading:   0%|          | 0.00/28.0 [00:00<?, ?B/s]"
      ]
     },
     "metadata": {},
     "output_type": "display_data"
    },
    {
     "data": {
      "application/vnd.jupyter.widget-view+json": {
       "model_id": "43c04fc169454362b86e28997606e5ff",
       "version_major": 2,
       "version_minor": 0
      },
      "text/plain": [
       "Downloading:   0%|          | 0.00/466k [00:00<?, ?B/s]"
      ]
     },
     "metadata": {},
     "output_type": "display_data"
    }
   ],
   "source": [
    "#bert large uncased pretrained tokenizer\n",
    "\n",
    "tokenizer = transformers.BertTokenizer.from_pretrained('bert-large-uncased')"
   ]
  },
  {
   "cell_type": "code",
   "execution_count": 60,
   "metadata": {
    "execution": {
     "iopub.execute_input": "2021-06-10T16:43:59.879200Z",
     "iopub.status.busy": "2021-06-10T16:43:59.878837Z",
     "iopub.status.idle": "2021-06-10T16:43:59.889399Z",
     "shell.execute_reply": "2021-06-10T16:43:59.888281Z",
     "shell.execute_reply.started": "2021-06-10T16:43:59.879169Z"
    }
   },
   "outputs": [
    {
     "data": {
      "text/plain": [
       "15087    can i make the pytest doctest module ignore a ...\n",
       "3852     how to use interactionmanager.runafterinteract...\n",
       "32668    failed to load the hostfxr.dll after install n...\n",
       "41041    i have question about diagonal matrix that i h...\n",
       "5513     android studio image asset launcher icon backg...\n",
       "34328    how do you install multiple , separate instanc...\n",
       "5930     angular 2 redirect on click how to create simp...\n",
       "15163    is there any plugin available for vuejs in net...\n",
       "10167    i have something like this list > need to proc...\n",
       "36060    c programming error : expected ' { ' before st...\n",
       "Name: text, dtype: object"
      ]
     },
     "execution_count": 60,
     "metadata": {},
     "output_type": "execute_result"
    }
   ],
   "source": [
    "X_train.sample(10)"
   ]
  },
  {
   "cell_type": "code",
   "execution_count": 61,
   "metadata": {
    "execution": {
     "iopub.execute_input": "2021-06-10T16:44:01.057950Z",
     "iopub.status.busy": "2021-06-10T16:44:01.057611Z",
     "iopub.status.idle": "2021-06-10T16:44:01.599073Z",
     "shell.execute_reply": "2021-06-10T16:44:01.598048Z",
     "shell.execute_reply.started": "2021-06-10T16:44:01.057922Z"
    }
   },
   "outputs": [],
   "source": [
    "Xtrain_encoded = regular_encode(X_train.sample(100).astype('str'), tokenizer, maxlen = 128)"
   ]
  },
  {
   "cell_type": "code",
   "execution_count": 62,
   "metadata": {
    "execution": {
     "iopub.execute_input": "2021-06-10T16:44:03.359895Z",
     "iopub.status.busy": "2021-06-10T16:44:03.359544Z",
     "iopub.status.idle": "2021-06-10T16:44:03.366620Z",
     "shell.execute_reply": "2021-06-10T16:44:03.365435Z",
     "shell.execute_reply.started": "2021-06-10T16:44:03.359867Z"
    }
   },
   "outputs": [
    {
     "data": {
      "text/plain": [
       "array([[  101,  5604,  2695, ...,     0,     0,     0],\n",
       "       [  101, 23638, 10439, ...,  1056,  3191,   102],\n",
       "       [  101, 13679, 15985, ...,  1024, 16962,   102],\n",
       "       ...,\n",
       "       [  101,  2421,  1998, ...,  2361,  1012,   102],\n",
       "       [  101, 25718,  8029, ...,     0,     0,     0],\n",
       "       [  101,  1036,  1036, ...,  1006,  1037,   102]])"
      ]
     },
     "execution_count": 62,
     "metadata": {},
     "output_type": "execute_result"
    }
   ],
   "source": [
    "Xtrain_encoded"
   ]
  },
  {
   "cell_type": "code",
   "execution_count": 73,
   "metadata": {
    "execution": {
     "iopub.execute_input": "2021-06-10T16:48:14.683761Z",
     "iopub.status.busy": "2021-06-10T16:48:14.683175Z",
     "iopub.status.idle": "2021-06-10T16:54:04.355889Z",
     "shell.execute_reply": "2021-06-10T16:54:04.355023Z",
     "shell.execute_reply.started": "2021-06-10T16:48:14.683728Z"
    }
   },
   "outputs": [],
   "source": [
    "#tokenizing the questions descriptions and converting the categories into one hot vectors using tf.keras.utils.to_categorical\n",
    "\n",
    "Xtrain_encoded = regular_encode(X_train.astype('str'), tokenizer, maxlen = 128)\n",
    "ytrain_encoded = tf.keras.utils.to_categorical(y_train, num_classes = 3, dtype = 'int32')\n",
    "Xtest_encoded = regular_encode(X_valid.astype('str'), tokenizer, maxlen = 128)\n",
    "ytest_encoded = tf.keras.utils.to_categorical(y_valid, num_classes = 3, dtype = 'int32')"
   ]
  },
  {
   "cell_type": "code",
   "execution_count": 88,
   "metadata": {
    "execution": {
     "iopub.execute_input": "2021-06-10T17:25:26.428864Z",
     "iopub.status.busy": "2021-06-10T17:25:26.428334Z",
     "iopub.status.idle": "2021-06-10T17:25:26.435873Z",
     "shell.execute_reply": "2021-06-10T17:25:26.435110Z",
     "shell.execute_reply.started": "2021-06-10T17:25:26.428828Z"
    }
   },
   "outputs": [],
   "source": [
    "def build_model(transformer, loss = 'categorical_crossentropy', max_len = 512):\n",
    "    input_word_ids = tf.keras.layers.Input(shape = (max_len,), dtype = tf.int32, name = \"input_word_ids\")\n",
    "    sequence_output = transformer(input_word_ids)[0]\n",
    "    cls_token = sequence_output[:, 0, :]\n",
    "\n",
    "    #adding dropout layer\n",
    "    x = tf.keras.layers.Dropout(0.40)(cls_token)\n",
    "\n",
    "    #using a dense layer of 3 neurons as the number of unique categories is 3. \n",
    "    out = tf.keras.layers.Dense(3, activation = 'sigmoid')(x)\n",
    "\n",
    "    model = tf.keras.Model(inputs = input_word_ids, outputs = out)\n",
    "    model.compile(tf.keras.optimizers.Adam(lr = 3e-5), loss = loss, metrics = ['accuracy'])\n",
    "    return model"
   ]
  },
  {
   "cell_type": "code",
   "execution_count": 89,
   "metadata": {
    "execution": {
     "iopub.execute_input": "2021-06-10T17:25:29.467340Z",
     "iopub.status.busy": "2021-06-10T17:25:29.466814Z",
     "iopub.status.idle": "2021-06-10T17:25:59.999500Z",
     "shell.execute_reply": "2021-06-10T17:25:59.998384Z",
     "shell.execute_reply.started": "2021-06-10T17:25:29.467306Z"
    }
   },
   "outputs": [
    {
     "name": "stderr",
     "output_type": "stream",
     "text": [
      "Some layers from the model checkpoint at bert-large-uncased were not used when initializing TFBertModel: ['nsp___cls', 'mlm___cls']\n",
      "- This IS expected if you are initializing TFBertModel from the checkpoint of a model trained on another task or with another architecture (e.g. initializing a BertForSequenceClassification model from a BertForPreTraining model).\n",
      "- This IS NOT expected if you are initializing TFBertModel from the checkpoint of a model that you expect to be exactly identical (initializing a BertForSequenceClassification model from a BertForSequenceClassification model).\n",
      "All the layers of TFBertModel were initialized from the model checkpoint at bert-large-uncased.\n",
      "If your task is similar to the task the model of the checkpoint was trained on, you can already use TFBertModel for predictions without further training.\n"
     ]
    },
    {
     "name": "stdout",
     "output_type": "stream",
     "text": [
      "Model: \"model_1\"\n",
      "_________________________________________________________________\n",
      "Layer (type)                 Output Shape              Param #   \n",
      "=================================================================\n",
      "input_word_ids (InputLayer)  [(None, 128)]             0         \n",
      "_________________________________________________________________\n",
      "tf_bert_model_1 (TFBertModel TFBaseModelOutputWithPool 335141888 \n",
      "_________________________________________________________________\n",
      "tf.__operators__.getitem_1 ( (None, 1024)              0         \n",
      "_________________________________________________________________\n",
      "dropout_147 (Dropout)        (None, 1024)              0         \n",
      "_________________________________________________________________\n",
      "dense_1 (Dense)              (None, 3)                 3075      \n",
      "=================================================================\n",
      "Total params: 335,144,963\n",
      "Trainable params: 335,144,963\n",
      "Non-trainable params: 0\n",
      "_________________________________________________________________\n"
     ]
    }
   ],
   "source": [
    "#building the model on tpu\n",
    "\n",
    "with strategy.scope():\n",
    "    transformer_layer = transformers.TFAutoModel.from_pretrained('bert-large-uncased')\n",
    "    model = build_model(transformer_layer, max_len = 128)\n",
    "model.summary()"
   ]
  },
  {
   "cell_type": "code",
   "execution_count": 90,
   "metadata": {
    "execution": {
     "iopub.execute_input": "2021-06-10T17:26:10.427965Z",
     "iopub.status.busy": "2021-06-10T17:26:10.427543Z",
     "iopub.status.idle": "2021-06-10T17:26:10.628474Z",
     "shell.execute_reply": "2021-06-10T17:26:10.627454Z",
     "shell.execute_reply.started": "2021-06-10T17:26:10.427932Z"
    }
   },
   "outputs": [],
   "source": [
    "#creating the training and testing dataset.\n",
    "\n",
    "BATCH_SIZE = 32*strategy.num_replicas_in_sync\n",
    "AUTO = tf.data.experimental.AUTOTUNE \n",
    "train_dataset = (tf.data.Dataset.from_tensor_slices((Xtrain_encoded, ytrain_encoded)).repeat().shuffle(2048).batch(BATCH_SIZE).prefetch(AUTO))\n",
    "test_dataset = (tf.data.Dataset.from_tensor_slices(Xtest_encoded).batch(BATCH_SIZE))"
   ]
  },
  {
   "cell_type": "code",
   "execution_count": 91,
   "metadata": {
    "execution": {
     "iopub.execute_input": "2021-06-10T17:26:15.866050Z",
     "iopub.status.busy": "2021-06-10T17:26:15.865570Z",
     "iopub.status.idle": "2021-06-10T17:45:47.838267Z",
     "shell.execute_reply": "2021-06-10T17:45:47.835190Z",
     "shell.execute_reply.started": "2021-06-10T17:26:15.866006Z"
    }
   },
   "outputs": [
    {
     "name": "stdout",
     "output_type": "stream",
     "text": [
      "Epoch 1/20\n",
      "175/175 [==============================] - 239s 548ms/step - loss: 1.0049 - accuracy: 0.5334 - val_loss: 0.6217 - val_accuracy: 0.7205\n",
      "Epoch 2/20\n",
      "175/175 [==============================] - 71s 407ms/step - loss: 0.6365 - accuracy: 0.7217 - val_loss: 0.5953 - val_accuracy: 0.7397\n",
      "Epoch 3/20\n",
      "175/175 [==============================] - 71s 407ms/step - loss: 0.5497 - accuracy: 0.7613 - val_loss: 0.5850 - val_accuracy: 0.7543\n",
      "Epoch 4/20\n",
      "175/175 [==============================] - 71s 406ms/step - loss: 0.4770 - accuracy: 0.7993 - val_loss: 0.5885 - val_accuracy: 0.7530\n",
      "Epoch 5/20\n",
      "175/175 [==============================] - 71s 407ms/step - loss: 0.4055 - accuracy: 0.8291 - val_loss: 0.6667 - val_accuracy: 0.7502\n",
      "Epoch 6/20\n",
      "175/175 [==============================] - 71s 407ms/step - loss: 0.3405 - accuracy: 0.8577 - val_loss: 0.7051 - val_accuracy: 0.7431\n",
      "Epoch 7/20\n",
      "175/175 [==============================] - 71s 407ms/step - loss: 0.2750 - accuracy: 0.8871 - val_loss: 0.9073 - val_accuracy: 0.7381\n",
      "Epoch 8/20\n",
      "175/175 [==============================] - 71s 407ms/step - loss: 0.2015 - accuracy: 0.9216 - val_loss: 0.9969 - val_accuracy: 0.7318\n",
      "Epoch 9/20\n",
      "175/175 [==============================] - 71s 407ms/step - loss: 0.1359 - accuracy: 0.9481 - val_loss: 1.2569 - val_accuracy: 0.7243\n",
      "Epoch 10/20\n",
      "175/175 [==============================] - 71s 407ms/step - loss: 0.0956 - accuracy: 0.9635 - val_loss: 1.4700 - val_accuracy: 0.7201\n",
      "Epoch 11/20\n",
      "175/175 [==============================] - 71s 407ms/step - loss: 0.0809 - accuracy: 0.9717 - val_loss: 1.3370 - val_accuracy: 0.7408\n",
      "Epoch 12/20\n",
      "175/175 [==============================] - 71s 408ms/step - loss: 0.0655 - accuracy: 0.9766 - val_loss: 1.4525 - val_accuracy: 0.7296\n",
      "Epoch 13/20\n",
      "175/175 [==============================] - 71s 408ms/step - loss: 0.0518 - accuracy: 0.9823 - val_loss: 1.4868 - val_accuracy: 0.7309\n",
      "Epoch 14/20\n",
      "175/175 [==============================] - 71s 407ms/step - loss: 0.0398 - accuracy: 0.9862 - val_loss: 1.6339 - val_accuracy: 0.7211\n",
      "Epoch 15/20\n",
      " 20/175 [==>...........................] - ETA: 52s - loss: 0.0447 - accuracy: 0.9810"
     ]
    },
    {
     "ename": "KeyboardInterrupt",
     "evalue": "",
     "output_type": "error",
     "traceback": [
      "\u001b[0;31m---------------------------------------------------------------------------\u001b[0m",
      "\u001b[0;31mKeyboardInterrupt\u001b[0m                         Traceback (most recent call last)",
      "\u001b[0;32m<ipython-input-91-817701bf6e3f>\u001b[0m in \u001b[0;36m<module>\u001b[0;34m\u001b[0m\n\u001b[1;32m      2\u001b[0m \u001b[0;34m\u001b[0m\u001b[0m\n\u001b[1;32m      3\u001b[0m \u001b[0mn_steps\u001b[0m \u001b[0;34m=\u001b[0m \u001b[0mXtrain_encoded\u001b[0m\u001b[0;34m.\u001b[0m\u001b[0mshape\u001b[0m\u001b[0;34m[\u001b[0m\u001b[0;36m0\u001b[0m\u001b[0;34m]\u001b[0m \u001b[0;34m//\u001b[0m \u001b[0mBATCH_SIZE\u001b[0m\u001b[0;34m\u001b[0m\u001b[0;34m\u001b[0m\u001b[0m\n\u001b[0;32m----> 4\u001b[0;31m \u001b[0mtrain_history\u001b[0m \u001b[0;34m=\u001b[0m \u001b[0mmodel\u001b[0m\u001b[0;34m.\u001b[0m\u001b[0mfit\u001b[0m\u001b[0;34m(\u001b[0m\u001b[0mtrain_dataset\u001b[0m\u001b[0;34m,\u001b[0m \u001b[0msteps_per_epoch\u001b[0m \u001b[0;34m=\u001b[0m \u001b[0mn_steps\u001b[0m\u001b[0;34m,\u001b[0m \u001b[0mepochs\u001b[0m \u001b[0;34m=\u001b[0m \u001b[0;36m20\u001b[0m\u001b[0;34m,\u001b[0m\u001b[0mvalidation_data\u001b[0m\u001b[0;34m=\u001b[0m\u001b[0;34m(\u001b[0m\u001b[0mXtest_encoded\u001b[0m\u001b[0;34m,\u001b[0m \u001b[0mytest_encoded\u001b[0m\u001b[0;34m)\u001b[0m\u001b[0;34m)\u001b[0m\u001b[0;34m\u001b[0m\u001b[0;34m\u001b[0m\u001b[0m\n\u001b[0m",
      "\u001b[0;32m/opt/conda/lib/python3.7/site-packages/tensorflow/python/keras/engine/training.py\u001b[0m in \u001b[0;36mfit\u001b[0;34m(self, x, y, batch_size, epochs, verbose, callbacks, validation_split, validation_data, shuffle, class_weight, sample_weight, initial_epoch, steps_per_epoch, validation_steps, validation_batch_size, validation_freq, max_queue_size, workers, use_multiprocessing)\u001b[0m\n\u001b[1;32m   1103\u001b[0m               \u001b[0mlogs\u001b[0m \u001b[0;34m=\u001b[0m \u001b[0mtmp_logs\u001b[0m  \u001b[0;31m# No error, now safe to assign to logs.\u001b[0m\u001b[0;34m\u001b[0m\u001b[0;34m\u001b[0m\u001b[0m\n\u001b[1;32m   1104\u001b[0m               \u001b[0mend_step\u001b[0m \u001b[0;34m=\u001b[0m \u001b[0mstep\u001b[0m \u001b[0;34m+\u001b[0m \u001b[0mdata_handler\u001b[0m\u001b[0;34m.\u001b[0m\u001b[0mstep_increment\u001b[0m\u001b[0;34m\u001b[0m\u001b[0;34m\u001b[0m\u001b[0m\n\u001b[0;32m-> 1105\u001b[0;31m               \u001b[0mcallbacks\u001b[0m\u001b[0;34m.\u001b[0m\u001b[0mon_train_batch_end\u001b[0m\u001b[0;34m(\u001b[0m\u001b[0mend_step\u001b[0m\u001b[0;34m,\u001b[0m \u001b[0mlogs\u001b[0m\u001b[0;34m)\u001b[0m\u001b[0;34m\u001b[0m\u001b[0;34m\u001b[0m\u001b[0m\n\u001b[0m\u001b[1;32m   1106\u001b[0m               \u001b[0;32mif\u001b[0m \u001b[0mself\u001b[0m\u001b[0;34m.\u001b[0m\u001b[0mstop_training\u001b[0m\u001b[0;34m:\u001b[0m\u001b[0;34m\u001b[0m\u001b[0;34m\u001b[0m\u001b[0m\n\u001b[1;32m   1107\u001b[0m                 \u001b[0;32mbreak\u001b[0m\u001b[0;34m\u001b[0m\u001b[0;34m\u001b[0m\u001b[0m\n",
      "\u001b[0;32m/opt/conda/lib/python3.7/site-packages/tensorflow/python/keras/callbacks.py\u001b[0m in \u001b[0;36mon_train_batch_end\u001b[0;34m(self, batch, logs)\u001b[0m\n\u001b[1;32m    452\u001b[0m     \"\"\"\n\u001b[1;32m    453\u001b[0m     \u001b[0;32mif\u001b[0m \u001b[0mself\u001b[0m\u001b[0;34m.\u001b[0m\u001b[0m_should_call_train_batch_hooks\u001b[0m\u001b[0;34m:\u001b[0m\u001b[0;34m\u001b[0m\u001b[0;34m\u001b[0m\u001b[0m\n\u001b[0;32m--> 454\u001b[0;31m       \u001b[0mself\u001b[0m\u001b[0;34m.\u001b[0m\u001b[0m_call_batch_hook\u001b[0m\u001b[0;34m(\u001b[0m\u001b[0mModeKeys\u001b[0m\u001b[0;34m.\u001b[0m\u001b[0mTRAIN\u001b[0m\u001b[0;34m,\u001b[0m \u001b[0;34m'end'\u001b[0m\u001b[0;34m,\u001b[0m \u001b[0mbatch\u001b[0m\u001b[0;34m,\u001b[0m \u001b[0mlogs\u001b[0m\u001b[0;34m=\u001b[0m\u001b[0mlogs\u001b[0m\u001b[0;34m)\u001b[0m\u001b[0;34m\u001b[0m\u001b[0;34m\u001b[0m\u001b[0m\n\u001b[0m\u001b[1;32m    455\u001b[0m \u001b[0;34m\u001b[0m\u001b[0m\n\u001b[1;32m    456\u001b[0m   \u001b[0;32mdef\u001b[0m \u001b[0mon_test_batch_begin\u001b[0m\u001b[0;34m(\u001b[0m\u001b[0mself\u001b[0m\u001b[0;34m,\u001b[0m \u001b[0mbatch\u001b[0m\u001b[0;34m,\u001b[0m \u001b[0mlogs\u001b[0m\u001b[0;34m=\u001b[0m\u001b[0;32mNone\u001b[0m\u001b[0;34m)\u001b[0m\u001b[0;34m:\u001b[0m\u001b[0;34m\u001b[0m\u001b[0;34m\u001b[0m\u001b[0m\n",
      "\u001b[0;32m/opt/conda/lib/python3.7/site-packages/tensorflow/python/keras/callbacks.py\u001b[0m in \u001b[0;36m_call_batch_hook\u001b[0;34m(self, mode, hook, batch, logs)\u001b[0m\n\u001b[1;32m    294\u001b[0m       \u001b[0mself\u001b[0m\u001b[0;34m.\u001b[0m\u001b[0m_call_batch_begin_hook\u001b[0m\u001b[0;34m(\u001b[0m\u001b[0mmode\u001b[0m\u001b[0;34m,\u001b[0m \u001b[0mbatch\u001b[0m\u001b[0;34m,\u001b[0m \u001b[0mlogs\u001b[0m\u001b[0;34m)\u001b[0m\u001b[0;34m\u001b[0m\u001b[0;34m\u001b[0m\u001b[0m\n\u001b[1;32m    295\u001b[0m     \u001b[0;32melif\u001b[0m \u001b[0mhook\u001b[0m \u001b[0;34m==\u001b[0m \u001b[0;34m'end'\u001b[0m\u001b[0;34m:\u001b[0m\u001b[0;34m\u001b[0m\u001b[0;34m\u001b[0m\u001b[0m\n\u001b[0;32m--> 296\u001b[0;31m       \u001b[0mself\u001b[0m\u001b[0;34m.\u001b[0m\u001b[0m_call_batch_end_hook\u001b[0m\u001b[0;34m(\u001b[0m\u001b[0mmode\u001b[0m\u001b[0;34m,\u001b[0m \u001b[0mbatch\u001b[0m\u001b[0;34m,\u001b[0m \u001b[0mlogs\u001b[0m\u001b[0;34m)\u001b[0m\u001b[0;34m\u001b[0m\u001b[0;34m\u001b[0m\u001b[0m\n\u001b[0m\u001b[1;32m    297\u001b[0m     \u001b[0;32melse\u001b[0m\u001b[0;34m:\u001b[0m\u001b[0;34m\u001b[0m\u001b[0;34m\u001b[0m\u001b[0m\n\u001b[1;32m    298\u001b[0m       \u001b[0;32mraise\u001b[0m \u001b[0mValueError\u001b[0m\u001b[0;34m(\u001b[0m\u001b[0;34m'Unrecognized hook: {}'\u001b[0m\u001b[0;34m.\u001b[0m\u001b[0mformat\u001b[0m\u001b[0;34m(\u001b[0m\u001b[0mhook\u001b[0m\u001b[0;34m)\u001b[0m\u001b[0;34m)\u001b[0m\u001b[0;34m\u001b[0m\u001b[0;34m\u001b[0m\u001b[0m\n",
      "\u001b[0;32m/opt/conda/lib/python3.7/site-packages/tensorflow/python/keras/callbacks.py\u001b[0m in \u001b[0;36m_call_batch_end_hook\u001b[0;34m(self, mode, batch, logs)\u001b[0m\n\u001b[1;32m    314\u001b[0m       \u001b[0mself\u001b[0m\u001b[0;34m.\u001b[0m\u001b[0m_batch_times\u001b[0m\u001b[0;34m.\u001b[0m\u001b[0mappend\u001b[0m\u001b[0;34m(\u001b[0m\u001b[0mbatch_time\u001b[0m\u001b[0;34m)\u001b[0m\u001b[0;34m\u001b[0m\u001b[0;34m\u001b[0m\u001b[0m\n\u001b[1;32m    315\u001b[0m \u001b[0;34m\u001b[0m\u001b[0m\n\u001b[0;32m--> 316\u001b[0;31m     \u001b[0mself\u001b[0m\u001b[0;34m.\u001b[0m\u001b[0m_call_batch_hook_helper\u001b[0m\u001b[0;34m(\u001b[0m\u001b[0mhook_name\u001b[0m\u001b[0;34m,\u001b[0m \u001b[0mbatch\u001b[0m\u001b[0;34m,\u001b[0m \u001b[0mlogs\u001b[0m\u001b[0;34m)\u001b[0m\u001b[0;34m\u001b[0m\u001b[0;34m\u001b[0m\u001b[0m\n\u001b[0m\u001b[1;32m    317\u001b[0m \u001b[0;34m\u001b[0m\u001b[0m\n\u001b[1;32m    318\u001b[0m     \u001b[0;32mif\u001b[0m \u001b[0mlen\u001b[0m\u001b[0;34m(\u001b[0m\u001b[0mself\u001b[0m\u001b[0;34m.\u001b[0m\u001b[0m_batch_times\u001b[0m\u001b[0;34m)\u001b[0m \u001b[0;34m>=\u001b[0m \u001b[0mself\u001b[0m\u001b[0;34m.\u001b[0m\u001b[0m_num_batches_for_timing_check\u001b[0m\u001b[0;34m:\u001b[0m\u001b[0;34m\u001b[0m\u001b[0;34m\u001b[0m\u001b[0m\n",
      "\u001b[0;32m/opt/conda/lib/python3.7/site-packages/tensorflow/python/keras/callbacks.py\u001b[0m in \u001b[0;36m_call_batch_hook_helper\u001b[0;34m(self, hook_name, batch, logs)\u001b[0m\n\u001b[1;32m    354\u001b[0m       \u001b[0mhook\u001b[0m \u001b[0;34m=\u001b[0m \u001b[0mgetattr\u001b[0m\u001b[0;34m(\u001b[0m\u001b[0mcallback\u001b[0m\u001b[0;34m,\u001b[0m \u001b[0mhook_name\u001b[0m\u001b[0;34m)\u001b[0m\u001b[0;34m\u001b[0m\u001b[0;34m\u001b[0m\u001b[0m\n\u001b[1;32m    355\u001b[0m       \u001b[0;32mif\u001b[0m \u001b[0mgetattr\u001b[0m\u001b[0;34m(\u001b[0m\u001b[0mcallback\u001b[0m\u001b[0;34m,\u001b[0m \u001b[0;34m'_supports_tf_logs'\u001b[0m\u001b[0;34m,\u001b[0m \u001b[0;32mFalse\u001b[0m\u001b[0;34m)\u001b[0m\u001b[0;34m:\u001b[0m\u001b[0;34m\u001b[0m\u001b[0;34m\u001b[0m\u001b[0m\n\u001b[0;32m--> 356\u001b[0;31m         \u001b[0mhook\u001b[0m\u001b[0;34m(\u001b[0m\u001b[0mbatch\u001b[0m\u001b[0;34m,\u001b[0m \u001b[0mlogs\u001b[0m\u001b[0;34m)\u001b[0m\u001b[0;34m\u001b[0m\u001b[0;34m\u001b[0m\u001b[0m\n\u001b[0m\u001b[1;32m    357\u001b[0m       \u001b[0;32melse\u001b[0m\u001b[0;34m:\u001b[0m\u001b[0;34m\u001b[0m\u001b[0;34m\u001b[0m\u001b[0m\n\u001b[1;32m    358\u001b[0m         \u001b[0;32mif\u001b[0m \u001b[0mnumpy_logs\u001b[0m \u001b[0;32mis\u001b[0m \u001b[0;32mNone\u001b[0m\u001b[0;34m:\u001b[0m  \u001b[0;31m# Only convert once.\u001b[0m\u001b[0;34m\u001b[0m\u001b[0;34m\u001b[0m\u001b[0m\n",
      "\u001b[0;32m/opt/conda/lib/python3.7/site-packages/tensorflow/python/keras/callbacks.py\u001b[0m in \u001b[0;36mon_train_batch_end\u001b[0;34m(self, batch, logs)\u001b[0m\n\u001b[1;32m   1018\u001b[0m \u001b[0;34m\u001b[0m\u001b[0m\n\u001b[1;32m   1019\u001b[0m   \u001b[0;32mdef\u001b[0m \u001b[0mon_train_batch_end\u001b[0m\u001b[0;34m(\u001b[0m\u001b[0mself\u001b[0m\u001b[0;34m,\u001b[0m \u001b[0mbatch\u001b[0m\u001b[0;34m,\u001b[0m \u001b[0mlogs\u001b[0m\u001b[0;34m=\u001b[0m\u001b[0;32mNone\u001b[0m\u001b[0;34m)\u001b[0m\u001b[0;34m:\u001b[0m\u001b[0;34m\u001b[0m\u001b[0;34m\u001b[0m\u001b[0m\n\u001b[0;32m-> 1020\u001b[0;31m     \u001b[0mself\u001b[0m\u001b[0;34m.\u001b[0m\u001b[0m_batch_update_progbar\u001b[0m\u001b[0;34m(\u001b[0m\u001b[0mbatch\u001b[0m\u001b[0;34m,\u001b[0m \u001b[0mlogs\u001b[0m\u001b[0;34m)\u001b[0m\u001b[0;34m\u001b[0m\u001b[0;34m\u001b[0m\u001b[0m\n\u001b[0m\u001b[1;32m   1021\u001b[0m \u001b[0;34m\u001b[0m\u001b[0m\n\u001b[1;32m   1022\u001b[0m   \u001b[0;32mdef\u001b[0m \u001b[0mon_test_batch_end\u001b[0m\u001b[0;34m(\u001b[0m\u001b[0mself\u001b[0m\u001b[0;34m,\u001b[0m \u001b[0mbatch\u001b[0m\u001b[0;34m,\u001b[0m \u001b[0mlogs\u001b[0m\u001b[0;34m=\u001b[0m\u001b[0;32mNone\u001b[0m\u001b[0;34m)\u001b[0m\u001b[0;34m:\u001b[0m\u001b[0;34m\u001b[0m\u001b[0;34m\u001b[0m\u001b[0m\n",
      "\u001b[0;32m/opt/conda/lib/python3.7/site-packages/tensorflow/python/keras/callbacks.py\u001b[0m in \u001b[0;36m_batch_update_progbar\u001b[0;34m(self, batch, logs)\u001b[0m\n\u001b[1;32m   1082\u001b[0m     \u001b[0;32mif\u001b[0m \u001b[0mself\u001b[0m\u001b[0;34m.\u001b[0m\u001b[0mverbose\u001b[0m \u001b[0;34m==\u001b[0m \u001b[0;36m1\u001b[0m\u001b[0;34m:\u001b[0m\u001b[0;34m\u001b[0m\u001b[0;34m\u001b[0m\u001b[0m\n\u001b[1;32m   1083\u001b[0m       \u001b[0;31m# Only block async when verbose = 1.\u001b[0m\u001b[0;34m\u001b[0m\u001b[0;34m\u001b[0m\u001b[0;34m\u001b[0m\u001b[0m\n\u001b[0;32m-> 1084\u001b[0;31m       \u001b[0mlogs\u001b[0m \u001b[0;34m=\u001b[0m \u001b[0mtf_utils\u001b[0m\u001b[0;34m.\u001b[0m\u001b[0mto_numpy_or_python_type\u001b[0m\u001b[0;34m(\u001b[0m\u001b[0mlogs\u001b[0m\u001b[0;34m)\u001b[0m\u001b[0;34m\u001b[0m\u001b[0;34m\u001b[0m\u001b[0m\n\u001b[0m\u001b[1;32m   1085\u001b[0m       \u001b[0mself\u001b[0m\u001b[0;34m.\u001b[0m\u001b[0mprogbar\u001b[0m\u001b[0;34m.\u001b[0m\u001b[0mupdate\u001b[0m\u001b[0;34m(\u001b[0m\u001b[0mself\u001b[0m\u001b[0;34m.\u001b[0m\u001b[0mseen\u001b[0m\u001b[0;34m,\u001b[0m \u001b[0mlist\u001b[0m\u001b[0;34m(\u001b[0m\u001b[0mlogs\u001b[0m\u001b[0;34m.\u001b[0m\u001b[0mitems\u001b[0m\u001b[0;34m(\u001b[0m\u001b[0;34m)\u001b[0m\u001b[0;34m)\u001b[0m\u001b[0;34m,\u001b[0m \u001b[0mfinalize\u001b[0m\u001b[0;34m=\u001b[0m\u001b[0;32mFalse\u001b[0m\u001b[0;34m)\u001b[0m\u001b[0;34m\u001b[0m\u001b[0;34m\u001b[0m\u001b[0m\n\u001b[1;32m   1086\u001b[0m \u001b[0;34m\u001b[0m\u001b[0m\n",
      "\u001b[0;32m/opt/conda/lib/python3.7/site-packages/tensorflow/python/keras/utils/tf_utils.py\u001b[0m in \u001b[0;36mto_numpy_or_python_type\u001b[0;34m(tensors)\u001b[0m\n\u001b[1;32m    512\u001b[0m     \u001b[0;32mreturn\u001b[0m \u001b[0mt\u001b[0m  \u001b[0;31m# Don't turn ragged or sparse tensors to NumPy.\u001b[0m\u001b[0;34m\u001b[0m\u001b[0;34m\u001b[0m\u001b[0m\n\u001b[1;32m    513\u001b[0m \u001b[0;34m\u001b[0m\u001b[0m\n\u001b[0;32m--> 514\u001b[0;31m   \u001b[0;32mreturn\u001b[0m \u001b[0mnest\u001b[0m\u001b[0;34m.\u001b[0m\u001b[0mmap_structure\u001b[0m\u001b[0;34m(\u001b[0m\u001b[0m_to_single_numpy_or_python_type\u001b[0m\u001b[0;34m,\u001b[0m \u001b[0mtensors\u001b[0m\u001b[0;34m)\u001b[0m\u001b[0;34m\u001b[0m\u001b[0;34m\u001b[0m\u001b[0m\n\u001b[0m\u001b[1;32m    515\u001b[0m \u001b[0;34m\u001b[0m\u001b[0m\n\u001b[1;32m    516\u001b[0m \u001b[0;34m\u001b[0m\u001b[0m\n",
      "\u001b[0;32m/opt/conda/lib/python3.7/site-packages/tensorflow/python/util/nest.py\u001b[0m in \u001b[0;36mmap_structure\u001b[0;34m(func, *structure, **kwargs)\u001b[0m\n\u001b[1;32m    657\u001b[0m \u001b[0;34m\u001b[0m\u001b[0m\n\u001b[1;32m    658\u001b[0m   return pack_sequence_as(\n\u001b[0;32m--> 659\u001b[0;31m       \u001b[0mstructure\u001b[0m\u001b[0;34m[\u001b[0m\u001b[0;36m0\u001b[0m\u001b[0;34m]\u001b[0m\u001b[0;34m,\u001b[0m \u001b[0;34m[\u001b[0m\u001b[0mfunc\u001b[0m\u001b[0;34m(\u001b[0m\u001b[0;34m*\u001b[0m\u001b[0mx\u001b[0m\u001b[0;34m)\u001b[0m \u001b[0;32mfor\u001b[0m \u001b[0mx\u001b[0m \u001b[0;32min\u001b[0m \u001b[0mentries\u001b[0m\u001b[0;34m]\u001b[0m\u001b[0;34m,\u001b[0m\u001b[0;34m\u001b[0m\u001b[0;34m\u001b[0m\u001b[0m\n\u001b[0m\u001b[1;32m    660\u001b[0m       expand_composites=expand_composites)\n\u001b[1;32m    661\u001b[0m \u001b[0;34m\u001b[0m\u001b[0m\n",
      "\u001b[0;32m/opt/conda/lib/python3.7/site-packages/tensorflow/python/util/nest.py\u001b[0m in \u001b[0;36m<listcomp>\u001b[0;34m(.0)\u001b[0m\n\u001b[1;32m    657\u001b[0m \u001b[0;34m\u001b[0m\u001b[0m\n\u001b[1;32m    658\u001b[0m   return pack_sequence_as(\n\u001b[0;32m--> 659\u001b[0;31m       \u001b[0mstructure\u001b[0m\u001b[0;34m[\u001b[0m\u001b[0;36m0\u001b[0m\u001b[0;34m]\u001b[0m\u001b[0;34m,\u001b[0m \u001b[0;34m[\u001b[0m\u001b[0mfunc\u001b[0m\u001b[0;34m(\u001b[0m\u001b[0;34m*\u001b[0m\u001b[0mx\u001b[0m\u001b[0;34m)\u001b[0m \u001b[0;32mfor\u001b[0m \u001b[0mx\u001b[0m \u001b[0;32min\u001b[0m \u001b[0mentries\u001b[0m\u001b[0;34m]\u001b[0m\u001b[0;34m,\u001b[0m\u001b[0;34m\u001b[0m\u001b[0;34m\u001b[0m\u001b[0m\n\u001b[0m\u001b[1;32m    660\u001b[0m       expand_composites=expand_composites)\n\u001b[1;32m    661\u001b[0m \u001b[0;34m\u001b[0m\u001b[0m\n",
      "\u001b[0;32m/opt/conda/lib/python3.7/site-packages/tensorflow/python/keras/utils/tf_utils.py\u001b[0m in \u001b[0;36m_to_single_numpy_or_python_type\u001b[0;34m(t)\u001b[0m\n\u001b[1;32m    508\u001b[0m   \u001b[0;32mdef\u001b[0m \u001b[0m_to_single_numpy_or_python_type\u001b[0m\u001b[0;34m(\u001b[0m\u001b[0mt\u001b[0m\u001b[0;34m)\u001b[0m\u001b[0;34m:\u001b[0m\u001b[0;34m\u001b[0m\u001b[0;34m\u001b[0m\u001b[0m\n\u001b[1;32m    509\u001b[0m     \u001b[0;32mif\u001b[0m \u001b[0misinstance\u001b[0m\u001b[0;34m(\u001b[0m\u001b[0mt\u001b[0m\u001b[0;34m,\u001b[0m \u001b[0mops\u001b[0m\u001b[0;34m.\u001b[0m\u001b[0mTensor\u001b[0m\u001b[0;34m)\u001b[0m\u001b[0;34m:\u001b[0m\u001b[0;34m\u001b[0m\u001b[0;34m\u001b[0m\u001b[0m\n\u001b[0;32m--> 510\u001b[0;31m       \u001b[0mx\u001b[0m \u001b[0;34m=\u001b[0m \u001b[0mt\u001b[0m\u001b[0;34m.\u001b[0m\u001b[0mnumpy\u001b[0m\u001b[0;34m(\u001b[0m\u001b[0;34m)\u001b[0m\u001b[0;34m\u001b[0m\u001b[0;34m\u001b[0m\u001b[0m\n\u001b[0m\u001b[1;32m    511\u001b[0m       \u001b[0;32mreturn\u001b[0m \u001b[0mx\u001b[0m\u001b[0;34m.\u001b[0m\u001b[0mitem\u001b[0m\u001b[0;34m(\u001b[0m\u001b[0;34m)\u001b[0m \u001b[0;32mif\u001b[0m \u001b[0mnp\u001b[0m\u001b[0;34m.\u001b[0m\u001b[0mndim\u001b[0m\u001b[0;34m(\u001b[0m\u001b[0mx\u001b[0m\u001b[0;34m)\u001b[0m \u001b[0;34m==\u001b[0m \u001b[0;36m0\u001b[0m \u001b[0;32melse\u001b[0m \u001b[0mx\u001b[0m\u001b[0;34m\u001b[0m\u001b[0;34m\u001b[0m\u001b[0m\n\u001b[1;32m    512\u001b[0m     \u001b[0;32mreturn\u001b[0m \u001b[0mt\u001b[0m  \u001b[0;31m# Don't turn ragged or sparse tensors to NumPy.\u001b[0m\u001b[0;34m\u001b[0m\u001b[0;34m\u001b[0m\u001b[0m\n",
      "\u001b[0;32m/opt/conda/lib/python3.7/site-packages/tensorflow/python/framework/ops.py\u001b[0m in \u001b[0;36mnumpy\u001b[0;34m(self)\u001b[0m\n\u001b[1;32m   1069\u001b[0m     \"\"\"\n\u001b[1;32m   1070\u001b[0m     \u001b[0;31m# TODO(slebedev): Consider avoiding a copy for non-CPU or remote tensors.\u001b[0m\u001b[0;34m\u001b[0m\u001b[0;34m\u001b[0m\u001b[0;34m\u001b[0m\u001b[0m\n\u001b[0;32m-> 1071\u001b[0;31m     \u001b[0mmaybe_arr\u001b[0m \u001b[0;34m=\u001b[0m \u001b[0mself\u001b[0m\u001b[0;34m.\u001b[0m\u001b[0m_numpy\u001b[0m\u001b[0;34m(\u001b[0m\u001b[0;34m)\u001b[0m  \u001b[0;31m# pylint: disable=protected-access\u001b[0m\u001b[0;34m\u001b[0m\u001b[0;34m\u001b[0m\u001b[0m\n\u001b[0m\u001b[1;32m   1072\u001b[0m     \u001b[0;32mreturn\u001b[0m \u001b[0mmaybe_arr\u001b[0m\u001b[0;34m.\u001b[0m\u001b[0mcopy\u001b[0m\u001b[0;34m(\u001b[0m\u001b[0;34m)\u001b[0m \u001b[0;32mif\u001b[0m \u001b[0misinstance\u001b[0m\u001b[0;34m(\u001b[0m\u001b[0mmaybe_arr\u001b[0m\u001b[0;34m,\u001b[0m \u001b[0mnp\u001b[0m\u001b[0;34m.\u001b[0m\u001b[0mndarray\u001b[0m\u001b[0;34m)\u001b[0m \u001b[0;32melse\u001b[0m \u001b[0mmaybe_arr\u001b[0m\u001b[0;34m\u001b[0m\u001b[0;34m\u001b[0m\u001b[0m\n\u001b[1;32m   1073\u001b[0m \u001b[0;34m\u001b[0m\u001b[0m\n",
      "\u001b[0;32m/opt/conda/lib/python3.7/site-packages/tensorflow/python/framework/ops.py\u001b[0m in \u001b[0;36m_numpy\u001b[0;34m(self)\u001b[0m\n\u001b[1;32m   1035\u001b[0m   \u001b[0;32mdef\u001b[0m \u001b[0m_numpy\u001b[0m\u001b[0;34m(\u001b[0m\u001b[0mself\u001b[0m\u001b[0;34m)\u001b[0m\u001b[0;34m:\u001b[0m\u001b[0;34m\u001b[0m\u001b[0;34m\u001b[0m\u001b[0m\n\u001b[1;32m   1036\u001b[0m     \u001b[0;32mtry\u001b[0m\u001b[0;34m:\u001b[0m\u001b[0;34m\u001b[0m\u001b[0;34m\u001b[0m\u001b[0m\n\u001b[0;32m-> 1037\u001b[0;31m       \u001b[0;32mreturn\u001b[0m \u001b[0mself\u001b[0m\u001b[0;34m.\u001b[0m\u001b[0m_numpy_internal\u001b[0m\u001b[0;34m(\u001b[0m\u001b[0;34m)\u001b[0m\u001b[0;34m\u001b[0m\u001b[0;34m\u001b[0m\u001b[0m\n\u001b[0m\u001b[1;32m   1038\u001b[0m     \u001b[0;32mexcept\u001b[0m \u001b[0mcore\u001b[0m\u001b[0;34m.\u001b[0m\u001b[0m_NotOkStatusException\u001b[0m \u001b[0;32mas\u001b[0m \u001b[0me\u001b[0m\u001b[0;34m:\u001b[0m  \u001b[0;31m# pylint: disable=protected-access\u001b[0m\u001b[0;34m\u001b[0m\u001b[0;34m\u001b[0m\u001b[0m\n\u001b[1;32m   1039\u001b[0m       \u001b[0msix\u001b[0m\u001b[0;34m.\u001b[0m\u001b[0mraise_from\u001b[0m\u001b[0;34m(\u001b[0m\u001b[0mcore\u001b[0m\u001b[0;34m.\u001b[0m\u001b[0m_status_to_exception\u001b[0m\u001b[0;34m(\u001b[0m\u001b[0me\u001b[0m\u001b[0;34m.\u001b[0m\u001b[0mcode\u001b[0m\u001b[0;34m,\u001b[0m \u001b[0me\u001b[0m\u001b[0;34m.\u001b[0m\u001b[0mmessage\u001b[0m\u001b[0;34m)\u001b[0m\u001b[0;34m,\u001b[0m \u001b[0;32mNone\u001b[0m\u001b[0;34m)\u001b[0m  \u001b[0;31m# pylint: disable=protected-access\u001b[0m\u001b[0;34m\u001b[0m\u001b[0;34m\u001b[0m\u001b[0m\n",
      "\u001b[0;31mKeyboardInterrupt\u001b[0m: "
     ]
    }
   ],
   "source": [
    "#training for 20 epochs\n",
    "\n",
    "n_steps = Xtrain_encoded.shape[0] // BATCH_SIZE\n",
    "train_history = model.fit(train_dataset, steps_per_epoch = n_steps, epochs = 20,validation_data=(Xtest_encoded, ytest_encoded))"
   ]
  },
  {
   "cell_type": "markdown",
   "metadata": {},
   "source": [
    "Prediction Accuracy on Validation dataset¶"
   ]
  },
  {
   "cell_type": "code",
   "execution_count": 80,
   "metadata": {
    "execution": {
     "iopub.execute_input": "2021-06-10T17:19:19.488528Z",
     "iopub.status.busy": "2021-06-10T17:19:19.488123Z",
     "iopub.status.idle": "2021-06-10T17:19:48.317847Z",
     "shell.execute_reply": "2021-06-10T17:19:48.316770Z",
     "shell.execute_reply.started": "2021-06-10T17:19:19.488491Z"
    }
   },
   "outputs": [
    {
     "name": "stdout",
     "output_type": "stream",
     "text": [
      "59/59 [==============================] - 29s 381ms/step\n"
     ]
    }
   ],
   "source": [
    "#making predictions \n",
    "\n",
    "preds = model.predict(test_dataset, verbose = 1)\n",
    "\n",
    "#converting the one hot vector output to a linear numpy array.\n",
    "pred_classes = np.argmax(preds, axis = 1)"
   ]
  },
  {
   "cell_type": "code",
   "execution_count": 86,
   "metadata": {
    "execution": {
     "iopub.execute_input": "2021-06-10T17:22:03.094703Z",
     "iopub.status.busy": "2021-06-10T17:22:03.094296Z",
     "iopub.status.idle": "2021-06-10T17:22:03.103460Z",
     "shell.execute_reply": "2021-06-10T17:22:03.102190Z",
     "shell.execute_reply.started": "2021-06-10T17:22:03.094670Z"
    }
   },
   "outputs": [
    {
     "name": "stdout",
     "output_type": "stream",
     "text": [
      "Prediction Accuracy on Validation dataset:  73.5 %\n"
     ]
    }
   ],
   "source": [
    "print('Prediction Accuracy on Validation dataset: ', np.round(100*accuracy_score(pred_classes, y_valid), 2), '%')"
   ]
  },
  {
   "cell_type": "code",
   "execution_count": null,
   "metadata": {},
   "outputs": [],
   "source": []
  }
 ],
 "metadata": {
  "kernelspec": {
   "display_name": "Python 3",
   "language": "python",
   "name": "python3"
  },
  "language_info": {
   "codemirror_mode": {
    "name": "ipython",
    "version": 3
   },
   "file_extension": ".py",
   "mimetype": "text/x-python",
   "name": "python",
   "nbconvert_exporter": "python",
   "pygments_lexer": "ipython3",
   "version": "3.8.8"
  }
 },
 "nbformat": 4,
 "nbformat_minor": 4
}
