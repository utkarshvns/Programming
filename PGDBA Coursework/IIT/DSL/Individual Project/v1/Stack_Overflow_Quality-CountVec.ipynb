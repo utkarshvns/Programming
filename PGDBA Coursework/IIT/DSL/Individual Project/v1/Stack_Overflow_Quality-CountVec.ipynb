{
 "cells": [
  {
   "cell_type": "markdown",
   "id": "e993ab60",
   "metadata": {},
   "source": [
    "https://www.kaggle.com/imoore/60k-stack-overflow-questions-with-quality-rate"
   ]
  },
  {
   "cell_type": "code",
   "execution_count": 64,
   "id": "4a8e062b",
   "metadata": {},
   "outputs": [],
   "source": [
    "import numpy as np\n",
    "import pandas as pd\n",
    "from matplotlib import pyplot as plt\n",
    "import seaborn as sns"
   ]
  },
  {
   "cell_type": "code",
   "execution_count": 2,
   "id": "720a3de5",
   "metadata": {},
   "outputs": [],
   "source": [
    "train = pd.read_csv('train.csv')\n",
    "valid = pd.read_csv('valid.csv')"
   ]
  },
  {
   "cell_type": "code",
   "execution_count": 3,
   "id": "f0c29e10",
   "metadata": {},
   "outputs": [
    {
     "data": {
      "text/html": [
       "<div>\n",
       "<style scoped>\n",
       "    .dataframe tbody tr th:only-of-type {\n",
       "        vertical-align: middle;\n",
       "    }\n",
       "\n",
       "    .dataframe tbody tr th {\n",
       "        vertical-align: top;\n",
       "    }\n",
       "\n",
       "    .dataframe thead th {\n",
       "        text-align: right;\n",
       "    }\n",
       "</style>\n",
       "<table border=\"1\" class=\"dataframe\">\n",
       "  <thead>\n",
       "    <tr style=\"text-align: right;\">\n",
       "      <th></th>\n",
       "      <th>Id</th>\n",
       "      <th>Title</th>\n",
       "      <th>Body</th>\n",
       "      <th>Tags</th>\n",
       "      <th>CreationDate</th>\n",
       "      <th>Y</th>\n",
       "    </tr>\n",
       "  </thead>\n",
       "  <tbody>\n",
       "    <tr>\n",
       "      <th>0</th>\n",
       "      <td>34552656</td>\n",
       "      <td>Java: Repeat Task Every Random Seconds</td>\n",
       "      <td>&lt;p&gt;I'm already familiar with repeating tasks e...</td>\n",
       "      <td>&lt;java&gt;&lt;repeat&gt;</td>\n",
       "      <td>2016-01-01 00:21:59</td>\n",
       "      <td>LQ_CLOSE</td>\n",
       "    </tr>\n",
       "    <tr>\n",
       "      <th>1</th>\n",
       "      <td>34553034</td>\n",
       "      <td>Why are Java Optionals immutable?</td>\n",
       "      <td>&lt;p&gt;I'd like to understand why Java 8 Optionals...</td>\n",
       "      <td>&lt;java&gt;&lt;optional&gt;</td>\n",
       "      <td>2016-01-01 02:03:20</td>\n",
       "      <td>HQ</td>\n",
       "    </tr>\n",
       "    <tr>\n",
       "      <th>2</th>\n",
       "      <td>34553174</td>\n",
       "      <td>Text Overlay Image with Darkened Opacity React...</td>\n",
       "      <td>&lt;p&gt;I am attempting to overlay a title over an ...</td>\n",
       "      <td>&lt;javascript&gt;&lt;image&gt;&lt;overlay&gt;&lt;react-native&gt;&lt;opa...</td>\n",
       "      <td>2016-01-01 02:48:24</td>\n",
       "      <td>HQ</td>\n",
       "    </tr>\n",
       "    <tr>\n",
       "      <th>3</th>\n",
       "      <td>34553318</td>\n",
       "      <td>Why ternary operator in swift is so picky?</td>\n",
       "      <td>&lt;p&gt;The question is very simple, but I just cou...</td>\n",
       "      <td>&lt;swift&gt;&lt;operators&gt;&lt;whitespace&gt;&lt;ternary-operato...</td>\n",
       "      <td>2016-01-01 03:30:17</td>\n",
       "      <td>HQ</td>\n",
       "    </tr>\n",
       "    <tr>\n",
       "      <th>4</th>\n",
       "      <td>34553755</td>\n",
       "      <td>hide/show fab with scale animation</td>\n",
       "      <td>&lt;p&gt;I'm using custom floatingactionmenu. I need...</td>\n",
       "      <td>&lt;android&gt;&lt;material-design&gt;&lt;floating-action-but...</td>\n",
       "      <td>2016-01-01 05:21:48</td>\n",
       "      <td>HQ</td>\n",
       "    </tr>\n",
       "    <tr>\n",
       "      <th>...</th>\n",
       "      <td>...</td>\n",
       "      <td>...</td>\n",
       "      <td>...</td>\n",
       "      <td>...</td>\n",
       "      <td>...</td>\n",
       "      <td>...</td>\n",
       "    </tr>\n",
       "    <tr>\n",
       "      <th>44995</th>\n",
       "      <td>60461435</td>\n",
       "      <td>Convert List&lt;String&gt; to string C# - asp.net - ...</td>\n",
       "      <td>&lt;p&gt;I am new to this and I am asking for help t...</td>\n",
       "      <td>&lt;c#&gt;&lt;asp.net&gt;&lt;sql-server&gt;</td>\n",
       "      <td>2020-02-29 02:22:18</td>\n",
       "      <td>LQ_CLOSE</td>\n",
       "    </tr>\n",
       "    <tr>\n",
       "      <th>44996</th>\n",
       "      <td>60461754</td>\n",
       "      <td>Does Python execute code from the top or botto...</td>\n",
       "      <td>&lt;p&gt;I am working on learning Python and was won...</td>\n",
       "      <td>&lt;python&gt;</td>\n",
       "      <td>2020-02-29 03:33:59</td>\n",
       "      <td>LQ_CLOSE</td>\n",
       "    </tr>\n",
       "    <tr>\n",
       "      <th>44997</th>\n",
       "      <td>60462001</td>\n",
       "      <td>how to change payment date in Azure?</td>\n",
       "      <td>&lt;p&gt;It looks like it costs 8 days per month in ...</td>\n",
       "      <td>&lt;azure&gt;&lt;billing&gt;</td>\n",
       "      <td>2020-02-29 04:34:16</td>\n",
       "      <td>LQ_CLOSE</td>\n",
       "    </tr>\n",
       "    <tr>\n",
       "      <th>44998</th>\n",
       "      <td>60465318</td>\n",
       "      <td>how to implement fill in the blank in Swift</td>\n",
       "      <td>&lt;p&gt;\"I _____ any questions.\"&lt;/p&gt;\\n\\n&lt;p&gt;I want t...</td>\n",
       "      <td>&lt;ios&gt;&lt;swift&gt;</td>\n",
       "      <td>2020-02-29 12:50:43</td>\n",
       "      <td>LQ_CLOSE</td>\n",
       "    </tr>\n",
       "    <tr>\n",
       "      <th>44999</th>\n",
       "      <td>60468018</td>\n",
       "      <td>How can I make a c# application outside of vis...</td>\n",
       "      <td>&lt;p&gt;I'm very new to programming and I'm teachin...</td>\n",
       "      <td>&lt;c#&gt;&lt;visual-studio&gt;</td>\n",
       "      <td>2020-02-29 17:55:56</td>\n",
       "      <td>LQ_CLOSE</td>\n",
       "    </tr>\n",
       "  </tbody>\n",
       "</table>\n",
       "<p>45000 rows × 6 columns</p>\n",
       "</div>"
      ],
      "text/plain": [
       "             Id                                              Title  \\\n",
       "0      34552656             Java: Repeat Task Every Random Seconds   \n",
       "1      34553034                  Why are Java Optionals immutable?   \n",
       "2      34553174  Text Overlay Image with Darkened Opacity React...   \n",
       "3      34553318         Why ternary operator in swift is so picky?   \n",
       "4      34553755                 hide/show fab with scale animation   \n",
       "...         ...                                                ...   \n",
       "44995  60461435  Convert List<String> to string C# - asp.net - ...   \n",
       "44996  60461754  Does Python execute code from the top or botto...   \n",
       "44997  60462001               how to change payment date in Azure?   \n",
       "44998  60465318        how to implement fill in the blank in Swift   \n",
       "44999  60468018  How can I make a c# application outside of vis...   \n",
       "\n",
       "                                                    Body  \\\n",
       "0      <p>I'm already familiar with repeating tasks e...   \n",
       "1      <p>I'd like to understand why Java 8 Optionals...   \n",
       "2      <p>I am attempting to overlay a title over an ...   \n",
       "3      <p>The question is very simple, but I just cou...   \n",
       "4      <p>I'm using custom floatingactionmenu. I need...   \n",
       "...                                                  ...   \n",
       "44995  <p>I am new to this and I am asking for help t...   \n",
       "44996  <p>I am working on learning Python and was won...   \n",
       "44997  <p>It looks like it costs 8 days per month in ...   \n",
       "44998  <p>\"I _____ any questions.\"</p>\\n\\n<p>I want t...   \n",
       "44999  <p>I'm very new to programming and I'm teachin...   \n",
       "\n",
       "                                                    Tags         CreationDate  \\\n",
       "0                                         <java><repeat>  2016-01-01 00:21:59   \n",
       "1                                       <java><optional>  2016-01-01 02:03:20   \n",
       "2      <javascript><image><overlay><react-native><opa...  2016-01-01 02:48:24   \n",
       "3      <swift><operators><whitespace><ternary-operato...  2016-01-01 03:30:17   \n",
       "4      <android><material-design><floating-action-but...  2016-01-01 05:21:48   \n",
       "...                                                  ...                  ...   \n",
       "44995                          <c#><asp.net><sql-server>  2020-02-29 02:22:18   \n",
       "44996                                           <python>  2020-02-29 03:33:59   \n",
       "44997                                   <azure><billing>  2020-02-29 04:34:16   \n",
       "44998                                       <ios><swift>  2020-02-29 12:50:43   \n",
       "44999                                <c#><visual-studio>  2020-02-29 17:55:56   \n",
       "\n",
       "              Y  \n",
       "0      LQ_CLOSE  \n",
       "1            HQ  \n",
       "2            HQ  \n",
       "3            HQ  \n",
       "4            HQ  \n",
       "...         ...  \n",
       "44995  LQ_CLOSE  \n",
       "44996  LQ_CLOSE  \n",
       "44997  LQ_CLOSE  \n",
       "44998  LQ_CLOSE  \n",
       "44999  LQ_CLOSE  \n",
       "\n",
       "[45000 rows x 6 columns]"
      ]
     },
     "execution_count": 3,
     "metadata": {},
     "output_type": "execute_result"
    }
   ],
   "source": [
    "train"
   ]
  },
  {
   "cell_type": "code",
   "execution_count": 4,
   "id": "a44bab79",
   "metadata": {},
   "outputs": [],
   "source": [
    "train['CreationDate'] = pd.to_datetime(train['CreationDate'])"
   ]
  },
  {
   "cell_type": "code",
   "execution_count": 5,
   "id": "9b520776",
   "metadata": {},
   "outputs": [
    {
     "name": "stdout",
     "output_type": "stream",
     "text": [
      "<class 'pandas.core.frame.DataFrame'>\n",
      "RangeIndex: 45000 entries, 0 to 44999\n",
      "Data columns (total 6 columns):\n",
      " #   Column        Non-Null Count  Dtype         \n",
      "---  ------        --------------  -----         \n",
      " 0   Id            45000 non-null  int64         \n",
      " 1   Title         45000 non-null  object        \n",
      " 2   Body          45000 non-null  object        \n",
      " 3   Tags          45000 non-null  object        \n",
      " 4   CreationDate  45000 non-null  datetime64[ns]\n",
      " 5   Y             45000 non-null  object        \n",
      "dtypes: datetime64[ns](1), int64(1), object(4)\n",
      "memory usage: 2.1+ MB\n"
     ]
    }
   ],
   "source": [
    "train.info()"
   ]
  },
  {
   "cell_type": "markdown",
   "id": "648f28ef",
   "metadata": {},
   "source": [
    "# Dataset creation for training"
   ]
  },
  {
   "cell_type": "code",
   "execution_count": 6,
   "id": "a8634af4",
   "metadata": {},
   "outputs": [],
   "source": [
    "train_concat = pd.DataFrame()\n",
    "train_concat[\"text\"] = train['Title'] + ' ' + train['Body']\n",
    "train_concat[\"Y\"] = train['Y']"
   ]
  },
  {
   "cell_type": "code",
   "execution_count": 7,
   "id": "b78e48d9",
   "metadata": {},
   "outputs": [
    {
     "data": {
      "text/html": [
       "<div>\n",
       "<style scoped>\n",
       "    .dataframe tbody tr th:only-of-type {\n",
       "        vertical-align: middle;\n",
       "    }\n",
       "\n",
       "    .dataframe tbody tr th {\n",
       "        vertical-align: top;\n",
       "    }\n",
       "\n",
       "    .dataframe thead th {\n",
       "        text-align: right;\n",
       "    }\n",
       "</style>\n",
       "<table border=\"1\" class=\"dataframe\">\n",
       "  <thead>\n",
       "    <tr style=\"text-align: right;\">\n",
       "      <th></th>\n",
       "      <th>text</th>\n",
       "      <th>Y</th>\n",
       "    </tr>\n",
       "  </thead>\n",
       "  <tbody>\n",
       "    <tr>\n",
       "      <th>0</th>\n",
       "      <td>Java: Repeat Task Every Random Seconds &lt;p&gt;I'm ...</td>\n",
       "      <td>LQ_CLOSE</td>\n",
       "    </tr>\n",
       "    <tr>\n",
       "      <th>1</th>\n",
       "      <td>Why are Java Optionals immutable? &lt;p&gt;I'd like ...</td>\n",
       "      <td>HQ</td>\n",
       "    </tr>\n",
       "    <tr>\n",
       "      <th>2</th>\n",
       "      <td>Text Overlay Image with Darkened Opacity React...</td>\n",
       "      <td>HQ</td>\n",
       "    </tr>\n",
       "    <tr>\n",
       "      <th>3</th>\n",
       "      <td>Why ternary operator in swift is so picky? &lt;p&gt;...</td>\n",
       "      <td>HQ</td>\n",
       "    </tr>\n",
       "    <tr>\n",
       "      <th>4</th>\n",
       "      <td>hide/show fab with scale animation &lt;p&gt;I'm usin...</td>\n",
       "      <td>HQ</td>\n",
       "    </tr>\n",
       "    <tr>\n",
       "      <th>...</th>\n",
       "      <td>...</td>\n",
       "      <td>...</td>\n",
       "    </tr>\n",
       "    <tr>\n",
       "      <th>44995</th>\n",
       "      <td>Convert List&lt;String&gt; to string C# - asp.net - ...</td>\n",
       "      <td>LQ_CLOSE</td>\n",
       "    </tr>\n",
       "    <tr>\n",
       "      <th>44996</th>\n",
       "      <td>Does Python execute code from the top or botto...</td>\n",
       "      <td>LQ_CLOSE</td>\n",
       "    </tr>\n",
       "    <tr>\n",
       "      <th>44997</th>\n",
       "      <td>how to change payment date in Azure? &lt;p&gt;It loo...</td>\n",
       "      <td>LQ_CLOSE</td>\n",
       "    </tr>\n",
       "    <tr>\n",
       "      <th>44998</th>\n",
       "      <td>how to implement fill in the blank in Swift &lt;p...</td>\n",
       "      <td>LQ_CLOSE</td>\n",
       "    </tr>\n",
       "    <tr>\n",
       "      <th>44999</th>\n",
       "      <td>How can I make a c# application outside of vis...</td>\n",
       "      <td>LQ_CLOSE</td>\n",
       "    </tr>\n",
       "  </tbody>\n",
       "</table>\n",
       "<p>45000 rows × 2 columns</p>\n",
       "</div>"
      ],
      "text/plain": [
       "                                                    text         Y\n",
       "0      Java: Repeat Task Every Random Seconds <p>I'm ...  LQ_CLOSE\n",
       "1      Why are Java Optionals immutable? <p>I'd like ...        HQ\n",
       "2      Text Overlay Image with Darkened Opacity React...        HQ\n",
       "3      Why ternary operator in swift is so picky? <p>...        HQ\n",
       "4      hide/show fab with scale animation <p>I'm usin...        HQ\n",
       "...                                                  ...       ...\n",
       "44995  Convert List<String> to string C# - asp.net - ...  LQ_CLOSE\n",
       "44996  Does Python execute code from the top or botto...  LQ_CLOSE\n",
       "44997  how to change payment date in Azure? <p>It loo...  LQ_CLOSE\n",
       "44998  how to implement fill in the blank in Swift <p...  LQ_CLOSE\n",
       "44999  How can I make a c# application outside of vis...  LQ_CLOSE\n",
       "\n",
       "[45000 rows x 2 columns]"
      ]
     },
     "execution_count": 7,
     "metadata": {},
     "output_type": "execute_result"
    }
   ],
   "source": [
    "train_concat"
   ]
  },
  {
   "cell_type": "code",
   "execution_count": 8,
   "id": "b1404588",
   "metadata": {},
   "outputs": [],
   "source": [
    "valid_concat = pd.DataFrame()\n",
    "valid_concat[\"text\"] = valid['Title'] + ' ' + valid['Body']\n",
    "valid_concat[\"Y\"] = valid['Y']"
   ]
  },
  {
   "cell_type": "markdown",
   "id": "d8b59475",
   "metadata": {},
   "source": [
    "# Preprocessing"
   ]
  },
  {
   "cell_type": "code",
   "execution_count": 9,
   "id": "bbcd7f5f",
   "metadata": {},
   "outputs": [
    {
     "name": "stderr",
     "output_type": "stream",
     "text": [
      "[nltk_data] Downloading package stopwords to\n",
      "[nltk_data]     C:\\Users\\utkar\\AppData\\Roaming\\nltk_data...\n",
      "[nltk_data]   Package stopwords is already up-to-date!\n"
     ]
    }
   ],
   "source": [
    "import string\n",
    "import nltk\n",
    "import re\n",
    "from nltk.tokenize import word_tokenize\n",
    "from bs4 import BeautifulSoup\n",
    "from nltk.stem import PorterStemmer\n",
    "from nltk import WordNetLemmatizer\n",
    "from nltk.corpus import stopwords\n",
    "nltk.download('stopwords')\n",
    "from nltk.stem import PorterStemmer\n",
    "from nltk import WordNetLemmatizer"
   ]
  },
  {
   "cell_type": "code",
   "execution_count": 10,
   "id": "637aa1f2",
   "metadata": {},
   "outputs": [],
   "source": [
    "def removeURL(inputText):\n",
    "    return re.sub(r\"http\\S+\", \"\", inputText)"
   ]
  },
  {
   "cell_type": "code",
   "execution_count": 11,
   "id": "b92647e2",
   "metadata": {},
   "outputs": [],
   "source": [
    "def removeHTML(inputText):\n",
    "    return BeautifulSoup(inputText, \"lxml\").get_text()"
   ]
  },
  {
   "cell_type": "code",
   "execution_count": 12,
   "id": "7b5886c7",
   "metadata": {},
   "outputs": [],
   "source": [
    "def removePunctuation(inputText):\n",
    "    return inputText.translate(str.maketrans('', '', string.punctuation))   "
   ]
  },
  {
   "cell_type": "code",
   "execution_count": 13,
   "id": "5e8bd7b3",
   "metadata": {},
   "outputs": [],
   "source": [
    "stopwords = stopwords.words('english')\n",
    "def removeStopwords(inputTokens):\n",
    "    output_tokens = []\n",
    "    for token in inputTokens:\n",
    "        if token not in stopwords:\n",
    "            output_tokens.append(token)\n",
    "    return output_tokens"
   ]
  },
  {
   "cell_type": "code",
   "execution_count": 14,
   "id": "39a35474",
   "metadata": {},
   "outputs": [],
   "source": [
    "def porterStemming(inputTokens):\n",
    "    porter = PorterStemmer()\n",
    "    output_tokens = []\n",
    "    for token in inputTokens:\n",
    "        output_tokens.append(porter.stem(token))\n",
    "    return output_tokens"
   ]
  },
  {
   "cell_type": "code",
   "execution_count": 15,
   "id": "8ae3ffcf",
   "metadata": {},
   "outputs": [],
   "source": [
    "def lemmatisation(inputTokens):\n",
    "    wnl = WordNetLemmatizer()\n",
    "    output_tokens = []\n",
    "    for token in inputTokens:\n",
    "        output_tokens.append(wnl.lemmatize(token))\n",
    "    return output_tokens"
   ]
  },
  {
   "cell_type": "code",
   "execution_count": 16,
   "id": "20ae86ae",
   "metadata": {},
   "outputs": [],
   "source": [
    "def preprocess(text):\n",
    "    text = removeURL(text)\n",
    "    text = removeHTML(text)\n",
    "    text=removePunctuation(text)\n",
    "    tokens = word_tokenize(text)\n",
    "    tokens=removeStopwords(tokens)\n",
    "    tokens=lemmatisation(tokens)\n",
    "    tokens=porterStemming(tokens)    \n",
    "    return \" \".join(tokens)"
   ]
  },
  {
   "cell_type": "code",
   "execution_count": 17,
   "id": "38937f22",
   "metadata": {},
   "outputs": [
    {
     "data": {
      "text/plain": [
       "'hey log here see test corpu'"
      ]
     },
     "execution_count": 17,
     "metadata": {},
     "output_type": "execute_result"
    }
   ],
   "source": [
    "# Testing preprocess function on sample text\n",
    "mytext = \"<b>Hey there!</b> log in to https://www.google.com/ .&amp;  Here it is, are you seeing this? Test corpora\"\n",
    "\n",
    "preprocess(mytext)"
   ]
  },
  {
   "cell_type": "code",
   "execution_count": 18,
   "id": "16ec8062",
   "metadata": {},
   "outputs": [],
   "source": [
    "# Preprocess Train and validation data"
   ]
  },
  {
   "cell_type": "code",
   "execution_count": 19,
   "id": "0cc514ec",
   "metadata": {},
   "outputs": [],
   "source": [
    "train_concat['text'] = np.vectorize(preprocess)(train_concat['text'].to_numpy())"
   ]
  },
  {
   "cell_type": "code",
   "execution_count": 20,
   "id": "c47118b7",
   "metadata": {},
   "outputs": [
    {
     "data": {
      "text/html": [
       "<div>\n",
       "<style scoped>\n",
       "    .dataframe tbody tr th:only-of-type {\n",
       "        vertical-align: middle;\n",
       "    }\n",
       "\n",
       "    .dataframe tbody tr th {\n",
       "        vertical-align: top;\n",
       "    }\n",
       "\n",
       "    .dataframe thead th {\n",
       "        text-align: right;\n",
       "    }\n",
       "</style>\n",
       "<table border=\"1\" class=\"dataframe\">\n",
       "  <thead>\n",
       "    <tr style=\"text-align: right;\">\n",
       "      <th></th>\n",
       "      <th>text</th>\n",
       "      <th>Y</th>\n",
       "    </tr>\n",
       "  </thead>\n",
       "  <tbody>\n",
       "    <tr>\n",
       "      <th>0</th>\n",
       "      <td>java repeat task everi random second im alread...</td>\n",
       "      <td>LQ_CLOSE</td>\n",
       "    </tr>\n",
       "    <tr>\n",
       "      <th>1</th>\n",
       "      <td>whi java option immut id like understand java ...</td>\n",
       "      <td>HQ</td>\n",
       "    </tr>\n",
       "    <tr>\n",
       "      <th>2</th>\n",
       "      <td>text overlay imag darken opac react nativ i at...</td>\n",
       "      <td>HQ</td>\n",
       "    </tr>\n",
       "    <tr>\n",
       "      <th>3</th>\n",
       "      <td>whi ternari oper swift picki the question simp...</td>\n",
       "      <td>HQ</td>\n",
       "    </tr>\n",
       "    <tr>\n",
       "      <th>4</th>\n",
       "      <td>hideshow fab scale anim im use custom floating...</td>\n",
       "      <td>HQ</td>\n",
       "    </tr>\n",
       "    <tr>\n",
       "      <th>...</th>\n",
       "      <td>...</td>\n",
       "      <td>...</td>\n",
       "    </tr>\n",
       "    <tr>\n",
       "      <th>44995</th>\n",
       "      <td>convert list string c aspnet sql server i new ...</td>\n",
       "      <td>LQ_CLOSE</td>\n",
       "    </tr>\n",
       "    <tr>\n",
       "      <th>44996</th>\n",
       "      <td>doe python execut code top bottom script i wor...</td>\n",
       "      <td>LQ_CLOSE</td>\n",
       "    </tr>\n",
       "    <tr>\n",
       "      <th>44997</th>\n",
       "      <td>chang payment date azur it look like cost 8 da...</td>\n",
       "      <td>LQ_CLOSE</td>\n",
       "    </tr>\n",
       "    <tr>\n",
       "      <th>44998</th>\n",
       "      <td>implement fill blank swift i question i want i...</td>\n",
       "      <td>LQ_CLOSE</td>\n",
       "    </tr>\n",
       "    <tr>\n",
       "      <th>44999</th>\n",
       "      <td>how i make c applic outsid visual studio im ne...</td>\n",
       "      <td>LQ_CLOSE</td>\n",
       "    </tr>\n",
       "  </tbody>\n",
       "</table>\n",
       "<p>45000 rows × 2 columns</p>\n",
       "</div>"
      ],
      "text/plain": [
       "                                                    text         Y\n",
       "0      java repeat task everi random second im alread...  LQ_CLOSE\n",
       "1      whi java option immut id like understand java ...        HQ\n",
       "2      text overlay imag darken opac react nativ i at...        HQ\n",
       "3      whi ternari oper swift picki the question simp...        HQ\n",
       "4      hideshow fab scale anim im use custom floating...        HQ\n",
       "...                                                  ...       ...\n",
       "44995  convert list string c aspnet sql server i new ...  LQ_CLOSE\n",
       "44996  doe python execut code top bottom script i wor...  LQ_CLOSE\n",
       "44997  chang payment date azur it look like cost 8 da...  LQ_CLOSE\n",
       "44998  implement fill blank swift i question i want i...  LQ_CLOSE\n",
       "44999  how i make c applic outsid visual studio im ne...  LQ_CLOSE\n",
       "\n",
       "[45000 rows x 2 columns]"
      ]
     },
     "execution_count": 20,
     "metadata": {},
     "output_type": "execute_result"
    }
   ],
   "source": [
    "train_concat"
   ]
  },
  {
   "cell_type": "code",
   "execution_count": 21,
   "id": "a9baf92e",
   "metadata": {},
   "outputs": [],
   "source": [
    "valid_concat['text'] = np.vectorize(preprocess)(valid_concat['text'].to_numpy())"
   ]
  },
  {
   "cell_type": "code",
   "execution_count": 22,
   "id": "cc663bbd",
   "metadata": {},
   "outputs": [
    {
     "data": {
      "text/html": [
       "<div>\n",
       "<style scoped>\n",
       "    .dataframe tbody tr th:only-of-type {\n",
       "        vertical-align: middle;\n",
       "    }\n",
       "\n",
       "    .dataframe tbody tr th {\n",
       "        vertical-align: top;\n",
       "    }\n",
       "\n",
       "    .dataframe thead th {\n",
       "        text-align: right;\n",
       "    }\n",
       "</style>\n",
       "<table border=\"1\" class=\"dataframe\">\n",
       "  <thead>\n",
       "    <tr style=\"text-align: right;\">\n",
       "      <th></th>\n",
       "      <th>text</th>\n",
       "      <th>Y</th>\n",
       "    </tr>\n",
       "  </thead>\n",
       "  <tbody>\n",
       "    <tr>\n",
       "      <th>0</th>\n",
       "      <td>how get child record differ tabl base given pa...</td>\n",
       "      <td>LQ_EDIT</td>\n",
       "    </tr>\n",
       "    <tr>\n",
       "      <th>1</th>\n",
       "      <td>retriev except data anoth tabl i two tabl mmas...</td>\n",
       "      <td>LQ_EDIT</td>\n",
       "    </tr>\n",
       "    <tr>\n",
       "      <th>2</th>\n",
       "      <td>panda readhtml im tri extract us state wiki ur...</td>\n",
       "      <td>HQ</td>\n",
       "    </tr>\n",
       "    <tr>\n",
       "      <th>3</th>\n",
       "      <td>reader alway gim null im new c i wan na make a...</td>\n",
       "      <td>LQ_EDIT</td>\n",
       "    </tr>\n",
       "    <tr>\n",
       "      <th>4</th>\n",
       "      <td>php rearrang array element base condit basic a...</td>\n",
       "      <td>LQ_EDIT</td>\n",
       "    </tr>\n",
       "    <tr>\n",
       "      <th>...</th>\n",
       "      <td>...</td>\n",
       "      <td>...</td>\n",
       "    </tr>\n",
       "    <tr>\n",
       "      <th>14995</th>\n",
       "      <td>how i align two flex box follow i menu id like...</td>\n",
       "      <td>LQ_CLOSE</td>\n",
       "    </tr>\n",
       "    <tr>\n",
       "      <th>14996</th>\n",
       "      <td>c the correct way multipli integ doubl i tri m...</td>\n",
       "      <td>LQ_CLOSE</td>\n",
       "    </tr>\n",
       "    <tr>\n",
       "      <th>14997</th>\n",
       "      <td>whi django is show me thi error when i tri to ...</td>\n",
       "      <td>LQ_EDIT</td>\n",
       "    </tr>\n",
       "    <tr>\n",
       "      <th>14998</th>\n",
       "      <td>php get content php page i control insid serve...</td>\n",
       "      <td>LQ_CLOSE</td>\n",
       "    </tr>\n",
       "    <tr>\n",
       "      <th>14999</th>\n",
       "      <td>whi cant overload function vari return type so...</td>\n",
       "      <td>LQ_CLOSE</td>\n",
       "    </tr>\n",
       "  </tbody>\n",
       "</table>\n",
       "<p>15000 rows × 2 columns</p>\n",
       "</div>"
      ],
      "text/plain": [
       "                                                    text         Y\n",
       "0      how get child record differ tabl base given pa...   LQ_EDIT\n",
       "1      retriev except data anoth tabl i two tabl mmas...   LQ_EDIT\n",
       "2      panda readhtml im tri extract us state wiki ur...        HQ\n",
       "3      reader alway gim null im new c i wan na make a...   LQ_EDIT\n",
       "4      php rearrang array element base condit basic a...   LQ_EDIT\n",
       "...                                                  ...       ...\n",
       "14995  how i align two flex box follow i menu id like...  LQ_CLOSE\n",
       "14996  c the correct way multipli integ doubl i tri m...  LQ_CLOSE\n",
       "14997  whi django is show me thi error when i tri to ...   LQ_EDIT\n",
       "14998  php get content php page i control insid serve...  LQ_CLOSE\n",
       "14999  whi cant overload function vari return type so...  LQ_CLOSE\n",
       "\n",
       "[15000 rows x 2 columns]"
      ]
     },
     "execution_count": 22,
     "metadata": {},
     "output_type": "execute_result"
    }
   ],
   "source": [
    "valid_concat"
   ]
  },
  {
   "cell_type": "markdown",
   "id": "6eb45a20",
   "metadata": {},
   "source": [
    "#  Feature and Labels"
   ]
  },
  {
   "cell_type": "code",
   "execution_count": 39,
   "id": "871706ca",
   "metadata": {},
   "outputs": [],
   "source": [
    "X_train = train_concat['text']\n",
    "y_train = train_concat['Y']"
   ]
  },
  {
   "cell_type": "code",
   "execution_count": 40,
   "id": "8d163735",
   "metadata": {},
   "outputs": [
    {
     "data": {
      "text/plain": [
       "0        java repeat task everi random second im alread...\n",
       "1        whi java option immut id like understand java ...\n",
       "2        text overlay imag darken opac react nativ i at...\n",
       "3        whi ternari oper swift picki the question simp...\n",
       "4        hideshow fab scale anim im use custom floating...\n",
       "                               ...                        \n",
       "44995    convert list string c aspnet sql server i new ...\n",
       "44996    doe python execut code top bottom script i wor...\n",
       "44997    chang payment date azur it look like cost 8 da...\n",
       "44998    implement fill blank swift i question i want i...\n",
       "44999    how i make c applic outsid visual studio im ne...\n",
       "Name: text, Length: 45000, dtype: object"
      ]
     },
     "execution_count": 40,
     "metadata": {},
     "output_type": "execute_result"
    }
   ],
   "source": [
    "X_train"
   ]
  },
  {
   "cell_type": "code",
   "execution_count": 41,
   "id": "f2407df8",
   "metadata": {},
   "outputs": [],
   "source": [
    "X_valid = valid_concat['text']\n",
    "y_valid = valid_concat['Y']"
   ]
  },
  {
   "cell_type": "code",
   "execution_count": 42,
   "id": "573f38c9",
   "metadata": {},
   "outputs": [
    {
     "data": {
      "text/plain": [
       "0        how get child record differ tabl base given pa...\n",
       "1        retriev except data anoth tabl i two tabl mmas...\n",
       "2        panda readhtml im tri extract us state wiki ur...\n",
       "3        reader alway gim null im new c i wan na make a...\n",
       "4        php rearrang array element base condit basic a...\n",
       "                               ...                        \n",
       "14995    how i align two flex box follow i menu id like...\n",
       "14996    c the correct way multipli integ doubl i tri m...\n",
       "14997    whi django is show me thi error when i tri to ...\n",
       "14998    php get content php page i control insid serve...\n",
       "14999    whi cant overload function vari return type so...\n",
       "Name: text, Length: 15000, dtype: object"
      ]
     },
     "execution_count": 42,
     "metadata": {},
     "output_type": "execute_result"
    }
   ],
   "source": [
    "X_valid"
   ]
  },
  {
   "cell_type": "markdown",
   "id": "daff0076",
   "metadata": {},
   "source": [
    "# Count Vectorizer"
   ]
  },
  {
   "cell_type": "code",
   "execution_count": 43,
   "id": "bb08f004",
   "metadata": {},
   "outputs": [],
   "source": [
    "from sklearn.feature_extraction.text import CountVectorizer"
   ]
  },
  {
   "cell_type": "code",
   "execution_count": 44,
   "id": "edf5ee8d",
   "metadata": {},
   "outputs": [
    {
     "name": "stdout",
     "output_type": "stream",
     "text": [
      "(45000, 333220)\n"
     ]
    }
   ],
   "source": [
    "vectorizer = CountVectorizer()\n",
    "\n",
    "X_train_transformed = vectorizer.fit_transform(X_train)\n",
    "# print(vectorizer.get_feature_names())\n",
    "\n",
    "print(X_train_transformed.shape)"
   ]
  },
  {
   "cell_type": "markdown",
   "id": "7dacff7f",
   "metadata": {},
   "source": [
    "# Training"
   ]
  },
  {
   "cell_type": "code",
   "execution_count": 45,
   "id": "d7647b70",
   "metadata": {},
   "outputs": [],
   "source": [
    "from sklearn import svm\n",
    "from sklearn.linear_model import LogisticRegression\n",
    "from sklearn.naive_bayes import MultinomialNB\n",
    "from sklearn.neighbors import KNeighborsClassifier\n",
    "from sklearn.ensemble import RandomForestClassifier\n",
    "from sklearn.tree import DecisionTreeClassifier\n",
    "from xgboost import XGBClassifier"
   ]
  },
  {
   "cell_type": "code",
   "execution_count": 33,
   "id": "635e4f73",
   "metadata": {},
   "outputs": [
    {
     "name": "stdout",
     "output_type": "stream",
     "text": [
      "Wall time: 29min 31s\n"
     ]
    },
    {
     "data": {
      "text/plain": [
       "SVC()"
      ]
     },
     "execution_count": 33,
     "metadata": {},
     "output_type": "execute_result"
    }
   ],
   "source": [
    "%%time\n",
    "svm_clf = svm.SVC()\n",
    "svm_clf.fit(X_train_transformed,y_train)"
   ]
  },
  {
   "cell_type": "code",
   "execution_count": 46,
   "id": "ecbace55",
   "metadata": {
    "scrolled": true
   },
   "outputs": [
    {
     "name": "stderr",
     "output_type": "stream",
     "text": [
      "C:\\Users\\utkar\\anaconda3\\lib\\site-packages\\sklearn\\linear_model\\_logistic.py:763: ConvergenceWarning: lbfgs failed to converge (status=1):\n",
      "STOP: TOTAL NO. of ITERATIONS REACHED LIMIT.\n",
      "\n",
      "Increase the number of iterations (max_iter) or scale the data as shown in:\n",
      "    https://scikit-learn.org/stable/modules/preprocessing.html\n",
      "Please also refer to the documentation for alternative solver options:\n",
      "    https://scikit-learn.org/stable/modules/linear_model.html#logistic-regression\n",
      "  n_iter_i = _check_optimize_result(\n"
     ]
    }
   ],
   "source": [
    "logistic_clf = LogisticRegression(random_state=0).fit(X_train_transformed, y_train)"
   ]
  },
  {
   "cell_type": "code",
   "execution_count": 47,
   "id": "8a1e0ca5",
   "metadata": {},
   "outputs": [
    {
     "data": {
      "text/plain": [
       "MultinomialNB()"
      ]
     },
     "execution_count": 47,
     "metadata": {},
     "output_type": "execute_result"
    }
   ],
   "source": [
    "mnb_clf = MultinomialNB()\n",
    "mnb_clf.fit(X_train_transformed, y_train)"
   ]
  },
  {
   "cell_type": "code",
   "execution_count": 57,
   "id": "c8aa1ecf",
   "metadata": {},
   "outputs": [
    {
     "data": {
      "text/plain": [
       "RandomForestClassifier()"
      ]
     },
     "execution_count": 57,
     "metadata": {},
     "output_type": "execute_result"
    }
   ],
   "source": [
    "rf_clf = RandomForestClassifier()\n",
    "rf_clf.fit(X_train_transformed, y_train)"
   ]
  },
  {
   "cell_type": "code",
   "execution_count": 61,
   "id": "fffea217",
   "metadata": {},
   "outputs": [
    {
     "data": {
      "text/plain": [
       "DecisionTreeClassifier()"
      ]
     },
     "execution_count": 61,
     "metadata": {},
     "output_type": "execute_result"
    }
   ],
   "source": [
    "dt_clf = DecisionTreeClassifier()\n",
    "dt_clf.fit(X_train_transformed, y_train)"
   ]
  },
  {
   "cell_type": "code",
   "execution_count": 31,
   "id": "91eb4a5b",
   "metadata": {},
   "outputs": [
    {
     "data": {
      "text/plain": [
       "KNeighborsClassifier()"
      ]
     },
     "execution_count": 31,
     "metadata": {},
     "output_type": "execute_result"
    }
   ],
   "source": [
    "kn_clf = KNeighborsClassifier()\n",
    "kn_clf.fit(X_train_transformed, y_train)"
   ]
  },
  {
   "cell_type": "code",
   "execution_count": 59,
   "id": "b2301db4",
   "metadata": {},
   "outputs": [
    {
     "name": "stderr",
     "output_type": "stream",
     "text": [
      "C:\\Users\\utkar\\anaconda3\\lib\\site-packages\\xgboost\\sklearn.py:888: UserWarning: The use of label encoder in XGBClassifier is deprecated and will be removed in a future release. To remove this warning, do the following: 1) Pass option use_label_encoder=False when constructing XGBClassifier object; and 2) Encode your labels (y) as integers starting with 0, i.e. 0, 1, 2, ..., [num_class - 1].\n",
      "  warnings.warn(label_encoder_deprecation_msg, UserWarning)\n"
     ]
    },
    {
     "name": "stdout",
     "output_type": "stream",
     "text": [
      "[18:05:29] WARNING: C:/Users/Administrator/workspace/xgboost-win64_release_1.3.0/src/learner.cc:1061: Starting in XGBoost 1.3.0, the default evaluation metric used with the objective 'multi:softprob' was changed from 'merror' to 'mlogloss'. Explicitly set eval_metric if you'd like to restore the old behavior.\n"
     ]
    },
    {
     "data": {
      "text/plain": [
       "XGBClassifier(base_score=0.5, booster='gbtree', colsample_bylevel=1,\n",
       "              colsample_bynode=1, colsample_bytree=1, gamma=0, gpu_id=-1,\n",
       "              importance_type='gain', interaction_constraints='',\n",
       "              learning_rate=0.300000012, max_delta_step=0, max_depth=6,\n",
       "              min_child_weight=1, missing=nan, monotone_constraints='()',\n",
       "              n_estimators=100, n_jobs=12, num_parallel_tree=1,\n",
       "              objective='multi:softprob', random_state=0, reg_alpha=0,\n",
       "              reg_lambda=1, scale_pos_weight=None, subsample=1,\n",
       "              tree_method='exact', validate_parameters=1, verbosity=None)"
      ]
     },
     "execution_count": 59,
     "metadata": {},
     "output_type": "execute_result"
    }
   ],
   "source": [
    "xgb_clf = XGBClassifier()\n",
    "xgb_clf.fit(X_train_transformed, y_train)"
   ]
  },
  {
   "cell_type": "markdown",
   "id": "995cb961",
   "metadata": {},
   "source": [
    "# Validation"
   ]
  },
  {
   "cell_type": "code",
   "execution_count": 52,
   "id": "7a1ad8b3",
   "metadata": {},
   "outputs": [
    {
     "data": {
      "text/plain": [
       "<15000x333220 sparse matrix of type '<class 'numpy.int64'>'\n",
       "\twith 550560 stored elements in Compressed Sparse Row format>"
      ]
     },
     "execution_count": 52,
     "metadata": {},
     "output_type": "execute_result"
    }
   ],
   "source": [
    "X_valid_transformed = vectorizer.transform(X_valid)\n",
    "X_valid_transformed"
   ]
  },
  {
   "cell_type": "code",
   "execution_count": 91,
   "id": "eca89fad",
   "metadata": {},
   "outputs": [
    {
     "name": "stdout",
     "output_type": "stream",
     "text": [
      "Accuracy logistic_clf : 0.6522666666666667\n",
      "Accuracy mnb_clf      : 0.633\n",
      "Accuracy rf_clf       : 0.6408666666666667\n",
      "Accuracy dt_clf       : 0.5184\n",
      "Accuracy xgb_clf      : 0.6654666666666667\n"
     ]
    }
   ],
   "source": [
    "# print(\"Accuracy svm_clf      :\",metrics.accuracy_score(y_valid, svm_clf.predict(X_valid_transformed)))\n",
    "# print(\"Accuracy kn_clf       :\",metrics.accuracy_score(y_valid, kn_clf.predict(X_valid_transformed)))\n",
    "\n",
    "\n",
    "print(\"Accuracy logistic_clf :\",metrics.accuracy_score(y_valid, logistic_clf.predict(X_valid_transformed)))\n",
    "print(\"Accuracy mnb_clf      :\",metrics.accuracy_score(y_valid, mnb_clf.predict(X_valid_transformed)))\n",
    "print(\"Accuracy rf_clf       :\",metrics.accuracy_score(y_valid, rf_clf.predict(X_valid_transformed)))\n",
    "print(\"Accuracy dt_clf       :\",metrics.accuracy_score(y_valid, dt_clf.predict(X_valid_transformed)))\n",
    "print(\"Accuracy xgb_clf      :\",metrics.accuracy_score(y_valid, xgb_clf.predict(X_valid_transformed)))"
   ]
  },
  {
   "cell_type": "markdown",
   "id": "f0a633ee",
   "metadata": {},
   "source": [
    "# Performance of different models"
   ]
  },
  {
   "cell_type": "code",
   "execution_count": 81,
   "id": "050dac70",
   "metadata": {},
   "outputs": [],
   "source": [
    "from sklearn.metrics import roc_auc_score, confusion_matrix, plot_confusion_matrix, plot_precision_recall_curve,classification_report\n",
    "from sklearn import metrics"
   ]
  },
  {
   "cell_type": "code",
   "execution_count": 72,
   "id": "bc9cf593",
   "metadata": {},
   "outputs": [],
   "source": [
    "def plot_cm(clf, testX, testY, name):\n",
    "    plot_confusion_matrix(clf, testX, testY)\n",
    "    plt.title(f\"{name}:Confusion Matrix\")"
   ]
  },
  {
   "cell_type": "code",
   "execution_count": 85,
   "id": "20e59574",
   "metadata": {},
   "outputs": [
    {
     "name": "stdout",
     "output_type": "stream",
     "text": [
      "              precision    recall  f1-score   support\n",
      "\n",
      "          HQ       0.80      0.77      0.78      5000\n",
      "    LQ_CLOSE       0.55      0.61      0.58      5000\n",
      "     LQ_EDIT       0.62      0.58      0.60      5000\n",
      "\n",
      "    accuracy                           0.65     15000\n",
      "   macro avg       0.66      0.65      0.65     15000\n",
      "weighted avg       0.66      0.65      0.65     15000\n",
      "\n"
     ]
    },
    {
     "data": {
      "image/png": "[encoded data removed]",
      "text/plain": [
       "<Figure size 432x288 with 2 Axes>"
      ]
     },
     "metadata": {
      "needs_background": "light"
     },
     "output_type": "display_data"
    }
   ],
   "source": [
    "print(classification_report(y_valid, logistic_clf.predict(X_valid_transformed)))\n",
    "plot_cm(logistic_clf, X_valid_transformed, y_valid,'logistic')"
   ]
  },
  {
   "cell_type": "code",
   "execution_count": 86,
   "id": "f07966f2",
   "metadata": {},
   "outputs": [
    {
     "name": "stdout",
     "output_type": "stream",
     "text": [
      "              precision    recall  f1-score   support\n",
      "\n",
      "          HQ       0.67      0.87      0.76      5000\n",
      "    LQ_CLOSE       0.56      0.56      0.56      5000\n",
      "     LQ_EDIT       0.66      0.47      0.55      5000\n",
      "\n",
      "    accuracy                           0.63     15000\n",
      "   macro avg       0.63      0.63      0.62     15000\n",
      "weighted avg       0.63      0.63      0.62     15000\n",
      "\n"
     ]
    },
    {
     "data": {
      "image/png": "[encoded data removed]",
      "text/plain": [
       "<Figure size 432x288 with 2 Axes>"
      ]
     },
     "metadata": {
      "needs_background": "light"
     },
     "output_type": "display_data"
    }
   ],
   "source": [
    "print(classification_report(y_valid, mnb_clf.predict(X_valid_transformed)))\n",
    "plot_cm(mnb_clf, X_valid_transformed, y_valid,'Multinomial Naive Bayes')"
   ]
  },
  {
   "cell_type": "code",
   "execution_count": 87,
   "id": "eba39251",
   "metadata": {},
   "outputs": [
    {
     "name": "stdout",
     "output_type": "stream",
     "text": [
      "              precision    recall  f1-score   support\n",
      "\n",
      "          HQ       0.77      0.76      0.76      5000\n",
      "    LQ_CLOSE       0.53      0.66      0.59      5000\n",
      "     LQ_EDIT       0.65      0.50      0.57      5000\n",
      "\n",
      "    accuracy                           0.64     15000\n",
      "   macro avg       0.65      0.64      0.64     15000\n",
      "weighted avg       0.65      0.64      0.64     15000\n",
      "\n"
     ]
    },
    {
     "data": {
      "image/png": "[encoded data removed]",
      "text/plain": [
       "<Figure size 432x288 with 2 Axes>"
      ]
     },
     "metadata": {
      "needs_background": "light"
     },
     "output_type": "display_data"
    }
   ],
   "source": [
    "print(classification_report(y_valid, rf_clf.predict(X_valid_transformed)))\n",
    "plot_cm(rf_clf, X_valid_transformed, y_valid,'Random Forest')"
   ]
  },
  {
   "cell_type": "code",
   "execution_count": 88,
   "id": "7f5cd33c",
   "metadata": {},
   "outputs": [
    {
     "name": "stdout",
     "output_type": "stream",
     "text": [
      "              precision    recall  f1-score   support\n",
      "\n",
      "          HQ       0.61      0.61      0.61      5000\n",
      "    LQ_CLOSE       0.45      0.46      0.46      5000\n",
      "     LQ_EDIT       0.50      0.48      0.49      5000\n",
      "\n",
      "    accuracy                           0.52     15000\n",
      "   macro avg       0.52      0.52      0.52     15000\n",
      "weighted avg       0.52      0.52      0.52     15000\n",
      "\n"
     ]
    },
    {
     "data": {
      "image/png": "[encoded data removed]",
      "text/plain": [
       "<Figure size 432x288 with 2 Axes>"
      ]
     },
     "metadata": {
      "needs_background": "light"
     },
     "output_type": "display_data"
    }
   ],
   "source": [
    "print(classification_report(y_valid, dt_clf.predict(X_valid_transformed)))\n",
    "plot_cm(dt_clf, X_valid_transformed, y_valid,'Decision Tree')"
   ]
  },
  {
   "cell_type": "code",
   "execution_count": 89,
   "id": "7674b808",
   "metadata": {},
   "outputs": [
    {
     "name": "stdout",
     "output_type": "stream",
     "text": [
      "              precision    recall  f1-score   support\n",
      "\n",
      "          HQ       0.78      0.78      0.78      5000\n",
      "    LQ_CLOSE       0.58      0.61      0.60      5000\n",
      "     LQ_EDIT       0.64      0.60      0.62      5000\n",
      "\n",
      "    accuracy                           0.67     15000\n",
      "   macro avg       0.67      0.67      0.67     15000\n",
      "weighted avg       0.67      0.67      0.67     15000\n",
      "\n"
     ]
    },
    {
     "data": {
      "image/png": "[encoded data removed]",
      "text/plain": [
       "<Figure size 432x288 with 2 Axes>"
      ]
     },
     "metadata": {
      "needs_background": "light"
     },
     "output_type": "display_data"
    }
   ],
   "source": [
    "print(classification_report(y_valid, xgb_clf.predict(X_valid_transformed)))\n",
    "plot_cm(xgb_clf, X_valid_transformed, y_valid,'XGBoost')"
   ]
  },
  {
   "cell_type": "code",
   "execution_count": null,
   "id": "2c35ba64",
   "metadata": {},
   "outputs": [],
   "source": []
  },
  {
   "cell_type": "code",
   "execution_count": null,
   "id": "a5609f53",
   "metadata": {},
   "outputs": [],
   "source": []
  }
 ],
 "metadata": {
  "kernelspec": {
   "display_name": "Python 3",
   "language": "python",
   "name": "python3"
  },
  "language_info": {
   "codemirror_mode": {
    "name": "ipython",
    "version": 3
   },
   "file_extension": ".py",
   "mimetype": "text/x-python",
   "name": "python",
   "nbconvert_exporter": "python",
   "pygments_lexer": "ipython3",
   "version": "3.8.8"
  }
 },
 "nbformat": 4,
 "nbformat_minor": 5
}
