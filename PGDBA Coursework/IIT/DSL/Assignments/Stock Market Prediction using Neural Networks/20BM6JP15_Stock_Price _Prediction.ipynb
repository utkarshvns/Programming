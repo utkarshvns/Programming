{
 "cells": [
  {
   "cell_type": "code",
   "execution_count": 394,
   "id": "handmade-brain",
   "metadata": {},
   "outputs": [],
   "source": [
    "import numpy as np\n",
    "import pandas as pd\n",
    "from matplotlib import pyplot as plt\n",
    "import seaborn as sns"
   ]
  },
  {
   "cell_type": "code",
   "execution_count": 2,
   "id": "ceramic-floor",
   "metadata": {},
   "outputs": [],
   "source": [
    "dji = pd.read_csv(\"Processed_DJI.csv\")\n",
    "nasdaq = pd.read_csv(\"Processed_NASDAQ.csv\")\n",
    "nyse = pd.read_csv(\"Processed_NYSE.csv\")\n",
    "russell = pd.read_csv(\"Processed_RUSSELL.csv\")\n",
    "snp = pd.read_csv(\"Processed_S&P.csv\")"
   ]
  },
  {
   "cell_type": "code",
   "execution_count": 3,
   "id": "fallen-portal",
   "metadata": {
    "scrolled": true
   },
   "outputs": [
    {
     "data": {
      "text/html": [
       "<div>\n",
       "<style scoped>\n",
       "    .dataframe tbody tr th:only-of-type {\n",
       "        vertical-align: middle;\n",
       "    }\n",
       "\n",
       "    .dataframe tbody tr th {\n",
       "        vertical-align: top;\n",
       "    }\n",
       "\n",
       "    .dataframe thead th {\n",
       "        text-align: right;\n",
       "    }\n",
       "</style>\n",
       "<table border=\"1\" class=\"dataframe\">\n",
       "  <thead>\n",
       "    <tr style=\"text-align: right;\">\n",
       "      <th></th>\n",
       "      <th>Date</th>\n",
       "      <th>Close</th>\n",
       "      <th>Volume</th>\n",
       "      <th>mom</th>\n",
       "      <th>mom1</th>\n",
       "      <th>mom2</th>\n",
       "      <th>mom3</th>\n",
       "      <th>ROC_5</th>\n",
       "      <th>ROC_10</th>\n",
       "      <th>ROC_15</th>\n",
       "      <th>...</th>\n",
       "      <th>NZD</th>\n",
       "      <th>silver-F</th>\n",
       "      <th>RUSSELL-F</th>\n",
       "      <th>S&amp;P-F</th>\n",
       "      <th>CHF</th>\n",
       "      <th>Dollar index-F</th>\n",
       "      <th>Dollar index</th>\n",
       "      <th>wheat-F</th>\n",
       "      <th>XAG</th>\n",
       "      <th>XAU</th>\n",
       "    </tr>\n",
       "  </thead>\n",
       "  <tbody>\n",
       "    <tr>\n",
       "      <th>0</th>\n",
       "      <td>2009-12-31</td>\n",
       "      <td>10428.049805</td>\n",
       "      <td>NaN</td>\n",
       "      <td>NaN</td>\n",
       "      <td>NaN</td>\n",
       "      <td>NaN</td>\n",
       "      <td>NaN</td>\n",
       "      <td>NaN</td>\n",
       "      <td>NaN</td>\n",
       "      <td>NaN</td>\n",
       "      <td>...</td>\n",
       "      <td>0.03</td>\n",
       "      <td>0.26</td>\n",
       "      <td>-1.08</td>\n",
       "      <td>-1.00</td>\n",
       "      <td>-0.11</td>\n",
       "      <td>-0.08</td>\n",
       "      <td>-0.06</td>\n",
       "      <td>-0.48</td>\n",
       "      <td>0.30</td>\n",
       "      <td>0.39</td>\n",
       "    </tr>\n",
       "    <tr>\n",
       "      <th>1</th>\n",
       "      <td>2010-01-04</td>\n",
       "      <td>10583.959961</td>\n",
       "      <td>NaN</td>\n",
       "      <td>0.014951</td>\n",
       "      <td>NaN</td>\n",
       "      <td>NaN</td>\n",
       "      <td>NaN</td>\n",
       "      <td>NaN</td>\n",
       "      <td>NaN</td>\n",
       "      <td>NaN</td>\n",
       "      <td>...</td>\n",
       "      <td>1.52</td>\n",
       "      <td>3.26</td>\n",
       "      <td>1.61</td>\n",
       "      <td>1.62</td>\n",
       "      <td>-0.57</td>\n",
       "      <td>-0.59</td>\n",
       "      <td>-0.42</td>\n",
       "      <td>3.12</td>\n",
       "      <td>3.91</td>\n",
       "      <td>2.10</td>\n",
       "    </tr>\n",
       "    <tr>\n",
       "      <th>2</th>\n",
       "      <td>2010-01-05</td>\n",
       "      <td>10572.019531</td>\n",
       "      <td>NaN</td>\n",
       "      <td>-0.001128</td>\n",
       "      <td>0.014951</td>\n",
       "      <td>NaN</td>\n",
       "      <td>NaN</td>\n",
       "      <td>NaN</td>\n",
       "      <td>NaN</td>\n",
       "      <td>NaN</td>\n",
       "      <td>...</td>\n",
       "      <td>-0.07</td>\n",
       "      <td>1.96</td>\n",
       "      <td>-0.20</td>\n",
       "      <td>0.31</td>\n",
       "      <td>0.43</td>\n",
       "      <td>0.03</td>\n",
       "      <td>0.12</td>\n",
       "      <td>-0.90</td>\n",
       "      <td>1.42</td>\n",
       "      <td>-0.12</td>\n",
       "    </tr>\n",
       "    <tr>\n",
       "      <th>3</th>\n",
       "      <td>2010-01-06</td>\n",
       "      <td>10573.679688</td>\n",
       "      <td>0.515598</td>\n",
       "      <td>0.000157</td>\n",
       "      <td>-0.001128</td>\n",
       "      <td>0.014951</td>\n",
       "      <td>NaN</td>\n",
       "      <td>NaN</td>\n",
       "      <td>NaN</td>\n",
       "      <td>NaN</td>\n",
       "      <td>...</td>\n",
       "      <td>0.56</td>\n",
       "      <td>2.15</td>\n",
       "      <td>-0.02</td>\n",
       "      <td>0.07</td>\n",
       "      <td>-0.56</td>\n",
       "      <td>-0.24</td>\n",
       "      <td>-0.17</td>\n",
       "      <td>2.62</td>\n",
       "      <td>2.25</td>\n",
       "      <td>1.77</td>\n",
       "    </tr>\n",
       "    <tr>\n",
       "      <th>4</th>\n",
       "      <td>2010-01-07</td>\n",
       "      <td>10606.860352</td>\n",
       "      <td>9.776045</td>\n",
       "      <td>0.003138</td>\n",
       "      <td>0.000157</td>\n",
       "      <td>-0.001128</td>\n",
       "      <td>0.014951</td>\n",
       "      <td>NaN</td>\n",
       "      <td>NaN</td>\n",
       "      <td>NaN</td>\n",
       "      <td>...</td>\n",
       "      <td>-0.72</td>\n",
       "      <td>0.94</td>\n",
       "      <td>0.50</td>\n",
       "      <td>0.40</td>\n",
       "      <td>0.58</td>\n",
       "      <td>0.58</td>\n",
       "      <td>0.54</td>\n",
       "      <td>-1.85</td>\n",
       "      <td>0.22</td>\n",
       "      <td>-0.58</td>\n",
       "    </tr>\n",
       "  </tbody>\n",
       "</table>\n",
       "<p>5 rows × 84 columns</p>\n",
       "</div>"
      ],
      "text/plain": [
       "         Date         Close    Volume       mom      mom1      mom2      mom3  \\\n",
       "0  2009-12-31  10428.049805       NaN       NaN       NaN       NaN       NaN   \n",
       "1  2010-01-04  10583.959961       NaN  0.014951       NaN       NaN       NaN   \n",
       "2  2010-01-05  10572.019531       NaN -0.001128  0.014951       NaN       NaN   \n",
       "3  2010-01-06  10573.679688  0.515598  0.000157 -0.001128  0.014951       NaN   \n",
       "4  2010-01-07  10606.860352  9.776045  0.003138  0.000157 -0.001128  0.014951   \n",
       "\n",
       "   ROC_5  ROC_10  ROC_15  ...   NZD  silver-F  RUSSELL-F  S&P-F   CHF  \\\n",
       "0    NaN     NaN     NaN  ...  0.03      0.26      -1.08  -1.00 -0.11   \n",
       "1    NaN     NaN     NaN  ...  1.52      3.26       1.61   1.62 -0.57   \n",
       "2    NaN     NaN     NaN  ... -0.07      1.96      -0.20   0.31  0.43   \n",
       "3    NaN     NaN     NaN  ...  0.56      2.15      -0.02   0.07 -0.56   \n",
       "4    NaN     NaN     NaN  ... -0.72      0.94       0.50   0.40  0.58   \n",
       "\n",
       "   Dollar index-F  Dollar index  wheat-F   XAG   XAU  \n",
       "0           -0.08         -0.06    -0.48  0.30  0.39  \n",
       "1           -0.59         -0.42     3.12  3.91  2.10  \n",
       "2            0.03          0.12    -0.90  1.42 -0.12  \n",
       "3           -0.24         -0.17     2.62  2.25  1.77  \n",
       "4            0.58          0.54    -1.85  0.22 -0.58  \n",
       "\n",
       "[5 rows x 84 columns]"
      ]
     },
     "execution_count": 3,
     "metadata": {},
     "output_type": "execute_result"
    }
   ],
   "source": [
    "dji.head()"
   ]
  },
  {
   "cell_type": "code",
   "execution_count": 390,
   "id": "48dfd30c",
   "metadata": {},
   "outputs": [],
   "source": [
    "# dji.info()"
   ]
  },
  {
   "cell_type": "code",
   "execution_count": 5,
   "id": "amateur-proof",
   "metadata": {
    "scrolled": false
   },
   "outputs": [
    {
     "data": {
      "text/html": [
       "<div>\n",
       "<style scoped>\n",
       "    .dataframe tbody tr th:only-of-type {\n",
       "        vertical-align: middle;\n",
       "    }\n",
       "\n",
       "    .dataframe tbody tr th {\n",
       "        vertical-align: top;\n",
       "    }\n",
       "\n",
       "    .dataframe thead th {\n",
       "        text-align: right;\n",
       "    }\n",
       "</style>\n",
       "<table border=\"1\" class=\"dataframe\">\n",
       "  <thead>\n",
       "    <tr style=\"text-align: right;\">\n",
       "      <th></th>\n",
       "      <th>Close</th>\n",
       "      <th>Volume</th>\n",
       "      <th>mom</th>\n",
       "      <th>mom1</th>\n",
       "      <th>mom2</th>\n",
       "      <th>mom3</th>\n",
       "      <th>ROC_5</th>\n",
       "      <th>ROC_10</th>\n",
       "      <th>ROC_15</th>\n",
       "      <th>ROC_20</th>\n",
       "      <th>...</th>\n",
       "      <th>NZD</th>\n",
       "      <th>silver-F</th>\n",
       "      <th>RUSSELL-F</th>\n",
       "      <th>S&amp;P-F</th>\n",
       "      <th>CHF</th>\n",
       "      <th>Dollar index-F</th>\n",
       "      <th>Dollar index</th>\n",
       "      <th>wheat-F</th>\n",
       "      <th>XAG</th>\n",
       "      <th>XAU</th>\n",
       "    </tr>\n",
       "  </thead>\n",
       "  <tbody>\n",
       "    <tr>\n",
       "      <th>count</th>\n",
       "      <td>1984.000000</td>\n",
       "      <td>1981.000000</td>\n",
       "      <td>1983.000000</td>\n",
       "      <td>1982.000000</td>\n",
       "      <td>1981.000000</td>\n",
       "      <td>1980.000000</td>\n",
       "      <td>1979.000000</td>\n",
       "      <td>1974.000000</td>\n",
       "      <td>1969.000000</td>\n",
       "      <td>1964.000000</td>\n",
       "      <td>...</td>\n",
       "      <td>1984.000000</td>\n",
       "      <td>1984.000000</td>\n",
       "      <td>1984.000000</td>\n",
       "      <td>1984.000000</td>\n",
       "      <td>1984.000000</td>\n",
       "      <td>1984.000000</td>\n",
       "      <td>1984.000000</td>\n",
       "      <td>1982.000000</td>\n",
       "      <td>1984.000000</td>\n",
       "      <td>1984.000000</td>\n",
       "    </tr>\n",
       "    <tr>\n",
       "      <th>mean</th>\n",
       "      <td>15446.241546</td>\n",
       "      <td>-0.450989</td>\n",
       "      <td>0.000443</td>\n",
       "      <td>0.000446</td>\n",
       "      <td>0.000447</td>\n",
       "      <td>0.000447</td>\n",
       "      <td>0.218703</td>\n",
       "      <td>0.433604</td>\n",
       "      <td>0.653819</td>\n",
       "      <td>0.880570</td>\n",
       "      <td>...</td>\n",
       "      <td>-0.001507</td>\n",
       "      <td>-0.047314</td>\n",
       "      <td>0.063634</td>\n",
       "      <td>0.043674</td>\n",
       "      <td>-0.002268</td>\n",
       "      <td>0.010726</td>\n",
       "      <td>0.010338</td>\n",
       "      <td>-0.014743</td>\n",
       "      <td>0.010418</td>\n",
       "      <td>0.010025</td>\n",
       "    </tr>\n",
       "    <tr>\n",
       "      <th>std</th>\n",
       "      <td>3354.069364</td>\n",
       "      <td>46.181287</td>\n",
       "      <td>0.008681</td>\n",
       "      <td>0.008682</td>\n",
       "      <td>0.008684</td>\n",
       "      <td>0.008686</td>\n",
       "      <td>1.854623</td>\n",
       "      <td>2.454206</td>\n",
       "      <td>2.986855</td>\n",
       "      <td>3.374208</td>\n",
       "      <td>...</td>\n",
       "      <td>0.752757</td>\n",
       "      <td>1.944127</td>\n",
       "      <td>1.254398</td>\n",
       "      <td>0.942540</td>\n",
       "      <td>0.742651</td>\n",
       "      <td>0.483800</td>\n",
       "      <td>0.495002</td>\n",
       "      <td>1.935339</td>\n",
       "      <td>1.832492</td>\n",
       "      <td>1.027910</td>\n",
       "    </tr>\n",
       "    <tr>\n",
       "      <th>min</th>\n",
       "      <td>9686.480469</td>\n",
       "      <td>-1407.483531</td>\n",
       "      <td>-0.055464</td>\n",
       "      <td>-0.055464</td>\n",
       "      <td>-0.055464</td>\n",
       "      <td>-0.055464</td>\n",
       "      <td>-10.901642</td>\n",
       "      <td>-14.158489</td>\n",
       "      <td>-14.731013</td>\n",
       "      <td>-14.695105</td>\n",
       "      <td>...</td>\n",
       "      <td>-4.120000</td>\n",
       "      <td>-17.750000</td>\n",
       "      <td>-7.540000</td>\n",
       "      <td>-7.220000</td>\n",
       "      <td>-15.760000</td>\n",
       "      <td>-2.390000</td>\n",
       "      <td>-4.280000</td>\n",
       "      <td>-11.060000</td>\n",
       "      <td>-12.930000</td>\n",
       "      <td>-8.490000</td>\n",
       "    </tr>\n",
       "    <tr>\n",
       "      <th>25%</th>\n",
       "      <td>12500.069825</td>\n",
       "      <td>-1.303752</td>\n",
       "      <td>-0.003158</td>\n",
       "      <td>-0.003153</td>\n",
       "      <td>-0.003153</td>\n",
       "      <td>-0.003155</td>\n",
       "      <td>-0.690434</td>\n",
       "      <td>-0.843319</td>\n",
       "      <td>-0.856990</td>\n",
       "      <td>-0.843768</td>\n",
       "      <td>...</td>\n",
       "      <td>-0.450000</td>\n",
       "      <td>-0.952500</td>\n",
       "      <td>-0.570000</td>\n",
       "      <td>-0.342500</td>\n",
       "      <td>-0.340000</td>\n",
       "      <td>-0.270000</td>\n",
       "      <td>-0.270000</td>\n",
       "      <td>-1.190000</td>\n",
       "      <td>-0.840000</td>\n",
       "      <td>-0.520000</td>\n",
       "    </tr>\n",
       "    <tr>\n",
       "      <th>50%</th>\n",
       "      <td>15859.979981</td>\n",
       "      <td>-0.673377</td>\n",
       "      <td>0.000535</td>\n",
       "      <td>0.000538</td>\n",
       "      <td>0.000540</td>\n",
       "      <td>0.000538</td>\n",
       "      <td>0.340396</td>\n",
       "      <td>0.596937</td>\n",
       "      <td>0.924413</td>\n",
       "      <td>1.168750</td>\n",
       "      <td>...</td>\n",
       "      <td>-0.010000</td>\n",
       "      <td>-0.030000</td>\n",
       "      <td>0.120000</td>\n",
       "      <td>0.060000</td>\n",
       "      <td>0.000000</td>\n",
       "      <td>0.010000</td>\n",
       "      <td>0.000000</td>\n",
       "      <td>-0.085000</td>\n",
       "      <td>0.030000</td>\n",
       "      <td>0.020000</td>\n",
       "    </tr>\n",
       "    <tr>\n",
       "      <th>75%</th>\n",
       "      <td>17813.390625</td>\n",
       "      <td>0.205820</td>\n",
       "      <td>0.004658</td>\n",
       "      <td>0.004659</td>\n",
       "      <td>0.004660</td>\n",
       "      <td>0.004663</td>\n",
       "      <td>1.242932</td>\n",
       "      <td>1.926090</td>\n",
       "      <td>2.581273</td>\n",
       "      <td>3.166024</td>\n",
       "      <td>...</td>\n",
       "      <td>0.470000</td>\n",
       "      <td>0.930000</td>\n",
       "      <td>0.740000</td>\n",
       "      <td>0.500000</td>\n",
       "      <td>0.350000</td>\n",
       "      <td>0.280000</td>\n",
       "      <td>0.280000</td>\n",
       "      <td>1.067500</td>\n",
       "      <td>0.920000</td>\n",
       "      <td>0.570000</td>\n",
       "    </tr>\n",
       "    <tr>\n",
       "      <th>max</th>\n",
       "      <td>23563.359375</td>\n",
       "      <td>864.815581</td>\n",
       "      <td>0.042408</td>\n",
       "      <td>0.042408</td>\n",
       "      <td>0.042408</td>\n",
       "      <td>0.042408</td>\n",
       "      <td>7.300404</td>\n",
       "      <td>8.481473</td>\n",
       "      <td>11.809337</td>\n",
       "      <td>12.197779</td>\n",
       "      <td>...</td>\n",
       "      <td>3.430000</td>\n",
       "      <td>12.810000</td>\n",
       "      <td>7.390000</td>\n",
       "      <td>5.440000</td>\n",
       "      <td>9.680000</td>\n",
       "      <td>2.180000</td>\n",
       "      <td>3.980000</td>\n",
       "      <td>12.310000</td>\n",
       "      <td>6.530000</td>\n",
       "      <td>4.800000</td>\n",
       "    </tr>\n",
       "  </tbody>\n",
       "</table>\n",
       "<p>8 rows × 82 columns</p>\n",
       "</div>"
      ],
      "text/plain": [
       "              Close       Volume          mom         mom1         mom2  \\\n",
       "count   1984.000000  1981.000000  1983.000000  1982.000000  1981.000000   \n",
       "mean   15446.241546    -0.450989     0.000443     0.000446     0.000447   \n",
       "std     3354.069364    46.181287     0.008681     0.008682     0.008684   \n",
       "min     9686.480469 -1407.483531    -0.055464    -0.055464    -0.055464   \n",
       "25%    12500.069825    -1.303752    -0.003158    -0.003153    -0.003153   \n",
       "50%    15859.979981    -0.673377     0.000535     0.000538     0.000540   \n",
       "75%    17813.390625     0.205820     0.004658     0.004659     0.004660   \n",
       "max    23563.359375   864.815581     0.042408     0.042408     0.042408   \n",
       "\n",
       "              mom3        ROC_5       ROC_10       ROC_15       ROC_20  ...  \\\n",
       "count  1980.000000  1979.000000  1974.000000  1969.000000  1964.000000  ...   \n",
       "mean      0.000447     0.218703     0.433604     0.653819     0.880570  ...   \n",
       "std       0.008686     1.854623     2.454206     2.986855     3.374208  ...   \n",
       "min      -0.055464   -10.901642   -14.158489   -14.731013   -14.695105  ...   \n",
       "25%      -0.003155    -0.690434    -0.843319    -0.856990    -0.843768  ...   \n",
       "50%       0.000538     0.340396     0.596937     0.924413     1.168750  ...   \n",
       "75%       0.004663     1.242932     1.926090     2.581273     3.166024  ...   \n",
       "max       0.042408     7.300404     8.481473    11.809337    12.197779  ...   \n",
       "\n",
       "               NZD     silver-F    RUSSELL-F        S&P-F          CHF  \\\n",
       "count  1984.000000  1984.000000  1984.000000  1984.000000  1984.000000   \n",
       "mean     -0.001507    -0.047314     0.063634     0.043674    -0.002268   \n",
       "std       0.752757     1.944127     1.254398     0.942540     0.742651   \n",
       "min      -4.120000   -17.750000    -7.540000    -7.220000   -15.760000   \n",
       "25%      -0.450000    -0.952500    -0.570000    -0.342500    -0.340000   \n",
       "50%      -0.010000    -0.030000     0.120000     0.060000     0.000000   \n",
       "75%       0.470000     0.930000     0.740000     0.500000     0.350000   \n",
       "max       3.430000    12.810000     7.390000     5.440000     9.680000   \n",
       "\n",
       "       Dollar index-F  Dollar index      wheat-F          XAG          XAU  \n",
       "count     1984.000000   1984.000000  1982.000000  1984.000000  1984.000000  \n",
       "mean         0.010726      0.010338    -0.014743     0.010418     0.010025  \n",
       "std          0.483800      0.495002     1.935339     1.832492     1.027910  \n",
       "min         -2.390000     -4.280000   -11.060000   -12.930000    -8.490000  \n",
       "25%         -0.270000     -0.270000    -1.190000    -0.840000    -0.520000  \n",
       "50%          0.010000      0.000000    -0.085000     0.030000     0.020000  \n",
       "75%          0.280000      0.280000     1.067500     0.920000     0.570000  \n",
       "max          2.180000      3.980000    12.310000     6.530000     4.800000  \n",
       "\n",
       "[8 rows x 82 columns]"
      ]
     },
     "execution_count": 5,
     "metadata": {},
     "output_type": "execute_result"
    }
   ],
   "source": [
    "dji.describe()"
   ]
  },
  {
   "cell_type": "markdown",
   "id": "899f3b44",
   "metadata": {},
   "source": [
    "# Preprocess data"
   ]
  },
  {
   "cell_type": "code",
   "execution_count": 6,
   "id": "0f285e38",
   "metadata": {},
   "outputs": [],
   "source": [
    "def preprocess(data,col):\n",
    "    data = data.fillna(dji.median())    \n",
    "#     dji[\"Date\"] = pd.to_datetime(dji[\"Date\"] ).values.astype(float) # Converting to date time object\n",
    "#     data = data.drop(['Name'],axis=1) #Drop Name column\n",
    "    data = data[col] #Create data with only required number of columns\n",
    "    return data        "
   ]
  },
  {
   "cell_type": "code",
   "execution_count": 7,
   "id": "e7931a76",
   "metadata": {},
   "outputs": [
    {
     "name": "stdout",
     "output_type": "stream",
     "text": [
      "Index(['Date', 'Close', 'Volume', 'mom', 'mom1', 'mom2', 'mom3', 'ROC_5',\n",
      "       'ROC_10', 'ROC_15', 'ROC_20', 'EMA_10', 'EMA_20', 'EMA_50', 'EMA_200',\n",
      "       'DTB4WK', 'DTB3', 'DTB6', 'DGS5', 'DGS10', 'Oil', 'Gold', 'DAAA',\n",
      "       'DBAA', 'GBP', 'JPY', 'CAD', 'CNY', 'AAPL', 'AMZN', 'GE', 'JNJ', 'JPM',\n",
      "       'MSFT', 'WFC', 'XOM', 'FCHI', 'FTSE', 'GDAXI', 'GSPC', 'HSI', 'IXIC',\n",
      "       'SSEC', 'RUT', 'NYSE', 'TE1', 'TE2', 'TE3', 'TE5', 'TE6', 'DE1', 'DE2',\n",
      "       'DE4', 'DE5', 'DE6', 'CTB3M', 'CTB6M', 'CTB1Y', 'Name', 'AUD', 'Brent',\n",
      "       'CAC-F', 'copper-F', 'WIT-oil', 'DAX-F', 'DJI-F', 'EUR', 'FTSE-F',\n",
      "       'gold-F', 'HSI-F', 'KOSPI-F', 'NASDAQ-F', 'GAS-F', 'Nikkei-F', 'NZD',\n",
      "       'silver-F', 'RUSSELL-F', 'S&P-F', 'CHF', 'Dollar index-F',\n",
      "       'Dollar index', 'wheat-F', 'XAG', 'XAU'],\n",
      "      dtype='object')\n"
     ]
    }
   ],
   "source": [
    "print(dji.columns)\n",
    "# print(nasdaq.columns)\n",
    "# print(nyse.columns)\n",
    "# print(russell.columns)\n",
    "# print(snp.columns)"
   ]
  },
  {
   "cell_type": "code",
   "execution_count": 8,
   "id": "e07f200e",
   "metadata": {},
   "outputs": [],
   "source": [
    "col = ['Date', 'Close', 'Volume'] \n",
    "\n",
    "# Note just keep Date field as first column as while creating rolling data this field will be ignored\n",
    "\n",
    "# col = dji.columns\n",
    "dji = preprocess(dji,col)\n",
    "\n",
    "\n",
    "# col = nasdaq.columns\n",
    "nasdaq = preprocess(nasdaq,col)\n",
    "\n",
    "# col = nyse.columns\n",
    "nyse = preprocess(nyse,col)\n",
    "\n",
    "# col = russell.columns\n",
    "russell = preprocess(russell,col)\n",
    "\n",
    "# col = snp.columns\n",
    "snp = preprocess(snp,col)"
   ]
  },
  {
   "cell_type": "code",
   "execution_count": 391,
   "id": "1a416b8d",
   "metadata": {},
   "outputs": [
    {
     "data": {
      "text/html": [
       "<div>\n",
       "<style scoped>\n",
       "    .dataframe tbody tr th:only-of-type {\n",
       "        vertical-align: middle;\n",
       "    }\n",
       "\n",
       "    .dataframe tbody tr th {\n",
       "        vertical-align: top;\n",
       "    }\n",
       "\n",
       "    .dataframe thead th {\n",
       "        text-align: right;\n",
       "    }\n",
       "</style>\n",
       "<table border=\"1\" class=\"dataframe\">\n",
       "  <thead>\n",
       "    <tr style=\"text-align: right;\">\n",
       "      <th></th>\n",
       "      <th>Date</th>\n",
       "      <th>Close</th>\n",
       "      <th>Volume</th>\n",
       "    </tr>\n",
       "  </thead>\n",
       "  <tbody>\n",
       "    <tr>\n",
       "      <th>0</th>\n",
       "      <td>2009-12-31</td>\n",
       "      <td>10428.049805</td>\n",
       "      <td>-0.673377</td>\n",
       "    </tr>\n",
       "    <tr>\n",
       "      <th>1</th>\n",
       "      <td>2010-01-04</td>\n",
       "      <td>10583.959961</td>\n",
       "      <td>-0.673377</td>\n",
       "    </tr>\n",
       "    <tr>\n",
       "      <th>2</th>\n",
       "      <td>2010-01-05</td>\n",
       "      <td>10572.019531</td>\n",
       "      <td>-0.673377</td>\n",
       "    </tr>\n",
       "    <tr>\n",
       "      <th>3</th>\n",
       "      <td>2010-01-06</td>\n",
       "      <td>10573.679688</td>\n",
       "      <td>0.515598</td>\n",
       "    </tr>\n",
       "    <tr>\n",
       "      <th>4</th>\n",
       "      <td>2010-01-07</td>\n",
       "      <td>10606.860352</td>\n",
       "      <td>9.776045</td>\n",
       "    </tr>\n",
       "    <tr>\n",
       "      <th>...</th>\n",
       "      <td>...</td>\n",
       "      <td>...</td>\n",
       "      <td>...</td>\n",
       "    </tr>\n",
       "    <tr>\n",
       "      <th>1979</th>\n",
       "      <td>2017-11-09</td>\n",
       "      <td>23461.939453</td>\n",
       "      <td>6.511740</td>\n",
       "    </tr>\n",
       "    <tr>\n",
       "      <th>1980</th>\n",
       "      <td>2017-11-10</td>\n",
       "      <td>23422.210938</td>\n",
       "      <td>-0.991838</td>\n",
       "    </tr>\n",
       "    <tr>\n",
       "      <th>1981</th>\n",
       "      <td>2017-11-13</td>\n",
       "      <td>23439.699219</td>\n",
       "      <td>-65.347705</td>\n",
       "    </tr>\n",
       "    <tr>\n",
       "      <th>1982</th>\n",
       "      <td>2017-11-14</td>\n",
       "      <td>23409.470703</td>\n",
       "      <td>-1.387911</td>\n",
       "    </tr>\n",
       "    <tr>\n",
       "      <th>1983</th>\n",
       "      <td>2017-11-15</td>\n",
       "      <td>23271.279297</td>\n",
       "      <td>3.612171</td>\n",
       "    </tr>\n",
       "  </tbody>\n",
       "</table>\n",
       "<p>1984 rows × 3 columns</p>\n",
       "</div>"
      ],
      "text/plain": [
       "            Date         Close     Volume\n",
       "0     2009-12-31  10428.049805  -0.673377\n",
       "1     2010-01-04  10583.959961  -0.673377\n",
       "2     2010-01-05  10572.019531  -0.673377\n",
       "3     2010-01-06  10573.679688   0.515598\n",
       "4     2010-01-07  10606.860352   9.776045\n",
       "...          ...           ...        ...\n",
       "1979  2017-11-09  23461.939453   6.511740\n",
       "1980  2017-11-10  23422.210938  -0.991838\n",
       "1981  2017-11-13  23439.699219 -65.347705\n",
       "1982  2017-11-14  23409.470703  -1.387911\n",
       "1983  2017-11-15  23271.279297   3.612171\n",
       "\n",
       "[1984 rows x 3 columns]"
      ]
     },
     "execution_count": 391,
     "metadata": {},
     "output_type": "execute_result"
    }
   ],
   "source": [
    "dji"
   ]
  },
  {
   "cell_type": "markdown",
   "id": "f3a2420c",
   "metadata": {},
   "source": [
    "# Visualisation of Close prices"
   ]
  },
  {
   "cell_type": "code",
   "execution_count": 399,
   "id": "47856c52",
   "metadata": {},
   "outputs": [
    {
     "data": {
      "image/png": "[encoded data removed]",
      "text/plain": [
       "<Figure size 720x720 with 1 Axes>"
      ]
     },
     "metadata": {
      "needs_background": "light"
     },
     "output_type": "display_data"
    }
   ],
   "source": [
    "plt.figure(figsize=(10,10))\n",
    "\n",
    "sns.lineplot(x='Date',y='Close',data =dji)\n",
    "plt.title('Close price vs Date')\n",
    "plt.show()"
   ]
  },
  {
   "cell_type": "markdown",
   "id": "772815bf",
   "metadata": {},
   "source": [
    "# Create rolling window data"
   ]
  },
  {
   "cell_type": "code",
   "execution_count": 10,
   "id": "249943f7",
   "metadata": {},
   "outputs": [],
   "source": [
    "def roll_data(data,roll_window):\n",
    "    data_mod = pd.DataFrame() # modified data frame with features from previous day values\n",
    "\n",
    "    for i in range(roll_window,data.shape[0]):# Find corresponding new feature row for each of the given row\n",
    "        new_feature = []\n",
    "        for j in range(i-roll_window,i):# loop over all previous day in rolling window\n",
    "            for k in range(1, len(data.columns)):# loop over all features except date field of previous days\n",
    "                new_feature.append(data.iloc[j][k])\n",
    "        new_feature.append(data.iloc[i]['Close'])    # add the true value of Close price for current day\n",
    "        new_feature.append(data.iloc[i]['Date'])    # add the date field for current day\n",
    "        data_mod = data_mod.append([new_feature])\n",
    "    return data_mod.reset_index(drop=True)"
   ]
  },
  {
   "cell_type": "code",
   "execution_count": 11,
   "id": "b6855b56",
   "metadata": {},
   "outputs": [],
   "source": [
    "# Note: In the modified data, the second last column is true Close price and last column is date"
   ]
  },
  {
   "cell_type": "code",
   "execution_count": 14,
   "id": "4c60eccf",
   "metadata": {},
   "outputs": [],
   "source": [
    "roll_window = 5\n",
    "\n",
    "dji_mod = roll_data(dji,roll_window)\n",
    "# nasdaq_mod = roll_data(nasdaq,roll_window)\n",
    "# nyse_mod = roll_data(nyse,roll_window)\n",
    "# russell_mod = roll_data(russell,roll_window)\n",
    "# snp_mod = roll_data(snp,roll_window)"
   ]
  },
  {
   "cell_type": "code",
   "execution_count": 80,
   "id": "35c22f9c",
   "metadata": {},
   "outputs": [
    {
     "data": {
      "text/html": [
       "<div>\n",
       "<style scoped>\n",
       "    .dataframe tbody tr th:only-of-type {\n",
       "        vertical-align: middle;\n",
       "    }\n",
       "\n",
       "    .dataframe tbody tr th {\n",
       "        vertical-align: top;\n",
       "    }\n",
       "\n",
       "    .dataframe thead th {\n",
       "        text-align: right;\n",
       "    }\n",
       "</style>\n",
       "<table border=\"1\" class=\"dataframe\">\n",
       "  <thead>\n",
       "    <tr style=\"text-align: right;\">\n",
       "      <th></th>\n",
       "      <th>0</th>\n",
       "      <th>1</th>\n",
       "      <th>2</th>\n",
       "      <th>3</th>\n",
       "      <th>4</th>\n",
       "      <th>5</th>\n",
       "      <th>6</th>\n",
       "      <th>7</th>\n",
       "      <th>8</th>\n",
       "      <th>9</th>\n",
       "      <th>10</th>\n",
       "      <th>11</th>\n",
       "    </tr>\n",
       "  </thead>\n",
       "  <tbody>\n",
       "    <tr>\n",
       "      <th>0</th>\n",
       "      <td>10428.049805</td>\n",
       "      <td>-0.673377</td>\n",
       "      <td>10583.959961</td>\n",
       "      <td>-0.673377</td>\n",
       "      <td>10572.019531</td>\n",
       "      <td>-0.673377</td>\n",
       "      <td>10573.679688</td>\n",
       "      <td>0.515598</td>\n",
       "      <td>10606.860352</td>\n",
       "      <td>9.776045</td>\n",
       "      <td>10618.190430</td>\n",
       "      <td>2010-01-08</td>\n",
       "    </tr>\n",
       "    <tr>\n",
       "      <th>1</th>\n",
       "      <td>10583.959961</td>\n",
       "      <td>-0.673377</td>\n",
       "      <td>10572.019531</td>\n",
       "      <td>-0.673377</td>\n",
       "      <td>10573.679688</td>\n",
       "      <td>0.515598</td>\n",
       "      <td>10606.860352</td>\n",
       "      <td>9.776045</td>\n",
       "      <td>10618.190430</td>\n",
       "      <td>-0.838081</td>\n",
       "      <td>10663.990234</td>\n",
       "      <td>2010-01-11</td>\n",
       "    </tr>\n",
       "    <tr>\n",
       "      <th>2</th>\n",
       "      <td>10572.019531</td>\n",
       "      <td>-0.673377</td>\n",
       "      <td>10573.679688</td>\n",
       "      <td>0.515598</td>\n",
       "      <td>10606.860352</td>\n",
       "      <td>9.776045</td>\n",
       "      <td>10618.190430</td>\n",
       "      <td>-0.838081</td>\n",
       "      <td>10663.990234</td>\n",
       "      <td>-0.430942</td>\n",
       "      <td>10627.259766</td>\n",
       "      <td>2010-01-12</td>\n",
       "    </tr>\n",
       "    <tr>\n",
       "      <th>3</th>\n",
       "      <td>10573.679688</td>\n",
       "      <td>0.515598</td>\n",
       "      <td>10606.860352</td>\n",
       "      <td>9.776045</td>\n",
       "      <td>10618.190430</td>\n",
       "      <td>-0.838081</td>\n",
       "      <td>10663.990234</td>\n",
       "      <td>-0.430942</td>\n",
       "      <td>10627.259766</td>\n",
       "      <td>-6.158991</td>\n",
       "      <td>10680.769531</td>\n",
       "      <td>2010-01-13</td>\n",
       "    </tr>\n",
       "    <tr>\n",
       "      <th>4</th>\n",
       "      <td>10606.860352</td>\n",
       "      <td>9.776045</td>\n",
       "      <td>10618.190430</td>\n",
       "      <td>-0.838081</td>\n",
       "      <td>10663.990234</td>\n",
       "      <td>-0.430942</td>\n",
       "      <td>10627.259766</td>\n",
       "      <td>-6.158991</td>\n",
       "      <td>10680.769531</td>\n",
       "      <td>-1.231957</td>\n",
       "      <td>10710.549805</td>\n",
       "      <td>2010-01-14</td>\n",
       "    </tr>\n",
       "    <tr>\n",
       "      <th>...</th>\n",
       "      <td>...</td>\n",
       "      <td>...</td>\n",
       "      <td>...</td>\n",
       "      <td>...</td>\n",
       "      <td>...</td>\n",
       "      <td>...</td>\n",
       "      <td>...</td>\n",
       "      <td>...</td>\n",
       "      <td>...</td>\n",
       "      <td>...</td>\n",
       "      <td>...</td>\n",
       "      <td>...</td>\n",
       "    </tr>\n",
       "    <tr>\n",
       "      <th>1974</th>\n",
       "      <td>23516.259766</td>\n",
       "      <td>0.228439</td>\n",
       "      <td>23539.189453</td>\n",
       "      <td>-4.851772</td>\n",
       "      <td>23548.419922</td>\n",
       "      <td>-1.775095</td>\n",
       "      <td>23557.230469</td>\n",
       "      <td>1.834186</td>\n",
       "      <td>23563.359375</td>\n",
       "      <td>-0.894487</td>\n",
       "      <td>23461.939453</td>\n",
       "      <td>2017-11-09</td>\n",
       "    </tr>\n",
       "    <tr>\n",
       "      <th>1975</th>\n",
       "      <td>23539.189453</td>\n",
       "      <td>-4.851772</td>\n",
       "      <td>23548.419922</td>\n",
       "      <td>-1.775095</td>\n",
       "      <td>23557.230469</td>\n",
       "      <td>1.834186</td>\n",
       "      <td>23563.359375</td>\n",
       "      <td>-0.894487</td>\n",
       "      <td>23461.939453</td>\n",
       "      <td>6.511740</td>\n",
       "      <td>23422.210938</td>\n",
       "      <td>2017-11-10</td>\n",
       "    </tr>\n",
       "    <tr>\n",
       "      <th>1976</th>\n",
       "      <td>23548.419922</td>\n",
       "      <td>-1.775095</td>\n",
       "      <td>23557.230469</td>\n",
       "      <td>1.834186</td>\n",
       "      <td>23563.359375</td>\n",
       "      <td>-0.894487</td>\n",
       "      <td>23461.939453</td>\n",
       "      <td>6.511740</td>\n",
       "      <td>23422.210938</td>\n",
       "      <td>-0.991838</td>\n",
       "      <td>23439.699219</td>\n",
       "      <td>2017-11-13</td>\n",
       "    </tr>\n",
       "    <tr>\n",
       "      <th>1977</th>\n",
       "      <td>23557.230469</td>\n",
       "      <td>1.834186</td>\n",
       "      <td>23563.359375</td>\n",
       "      <td>-0.894487</td>\n",
       "      <td>23461.939453</td>\n",
       "      <td>6.511740</td>\n",
       "      <td>23422.210938</td>\n",
       "      <td>-0.991838</td>\n",
       "      <td>23439.699219</td>\n",
       "      <td>-65.347705</td>\n",
       "      <td>23409.470703</td>\n",
       "      <td>2017-11-14</td>\n",
       "    </tr>\n",
       "    <tr>\n",
       "      <th>1978</th>\n",
       "      <td>23563.359375</td>\n",
       "      <td>-0.894487</td>\n",
       "      <td>23461.939453</td>\n",
       "      <td>6.511740</td>\n",
       "      <td>23422.210938</td>\n",
       "      <td>-0.991838</td>\n",
       "      <td>23439.699219</td>\n",
       "      <td>-65.347705</td>\n",
       "      <td>23409.470703</td>\n",
       "      <td>-1.387911</td>\n",
       "      <td>23271.279297</td>\n",
       "      <td>2017-11-15</td>\n",
       "    </tr>\n",
       "  </tbody>\n",
       "</table>\n",
       "<p>1979 rows × 12 columns</p>\n",
       "</div>"
      ],
      "text/plain": [
       "                0         1             2         3             4         5   \\\n",
       "0     10428.049805 -0.673377  10583.959961 -0.673377  10572.019531 -0.673377   \n",
       "1     10583.959961 -0.673377  10572.019531 -0.673377  10573.679688  0.515598   \n",
       "2     10572.019531 -0.673377  10573.679688  0.515598  10606.860352  9.776045   \n",
       "3     10573.679688  0.515598  10606.860352  9.776045  10618.190430 -0.838081   \n",
       "4     10606.860352  9.776045  10618.190430 -0.838081  10663.990234 -0.430942   \n",
       "...            ...       ...           ...       ...           ...       ...   \n",
       "1974  23516.259766  0.228439  23539.189453 -4.851772  23548.419922 -1.775095   \n",
       "1975  23539.189453 -4.851772  23548.419922 -1.775095  23557.230469  1.834186   \n",
       "1976  23548.419922 -1.775095  23557.230469  1.834186  23563.359375 -0.894487   \n",
       "1977  23557.230469  1.834186  23563.359375 -0.894487  23461.939453  6.511740   \n",
       "1978  23563.359375 -0.894487  23461.939453  6.511740  23422.210938 -0.991838   \n",
       "\n",
       "                6          7             8          9             10  \\\n",
       "0     10573.679688   0.515598  10606.860352   9.776045  10618.190430   \n",
       "1     10606.860352   9.776045  10618.190430  -0.838081  10663.990234   \n",
       "2     10618.190430  -0.838081  10663.990234  -0.430942  10627.259766   \n",
       "3     10663.990234  -0.430942  10627.259766  -6.158991  10680.769531   \n",
       "4     10627.259766  -6.158991  10680.769531  -1.231957  10710.549805   \n",
       "...            ...        ...           ...        ...           ...   \n",
       "1974  23557.230469   1.834186  23563.359375  -0.894487  23461.939453   \n",
       "1975  23563.359375  -0.894487  23461.939453   6.511740  23422.210938   \n",
       "1976  23461.939453   6.511740  23422.210938  -0.991838  23439.699219   \n",
       "1977  23422.210938  -0.991838  23439.699219 -65.347705  23409.470703   \n",
       "1978  23439.699219 -65.347705  23409.470703  -1.387911  23271.279297   \n",
       "\n",
       "              11  \n",
       "0     2010-01-08  \n",
       "1     2010-01-11  \n",
       "2     2010-01-12  \n",
       "3     2010-01-13  \n",
       "4     2010-01-14  \n",
       "...          ...  \n",
       "1974  2017-11-09  \n",
       "1975  2017-11-10  \n",
       "1976  2017-11-13  \n",
       "1977  2017-11-14  \n",
       "1978  2017-11-15  \n",
       "\n",
       "[1979 rows x 12 columns]"
      ]
     },
     "execution_count": 80,
     "metadata": {},
     "output_type": "execute_result"
    }
   ],
   "source": [
    "dji_mod"
   ]
  },
  {
   "cell_type": "markdown",
   "id": "racial-union",
   "metadata": {},
   "source": [
    "# Seperate data for testing last 5 day data for prediction"
   ]
  },
  {
   "cell_type": "code",
   "execution_count": 81,
   "id": "regular-nudist",
   "metadata": {},
   "outputs": [],
   "source": [
    "dji_train = dji_mod[:-5]\n",
    "dji_test=dji_mod[-5:]"
   ]
  },
  {
   "cell_type": "code",
   "execution_count": 82,
   "id": "charming-tamil",
   "metadata": {},
   "outputs": [
    {
     "data": {
      "text/html": [
       "<div>\n",
       "<style scoped>\n",
       "    .dataframe tbody tr th:only-of-type {\n",
       "        vertical-align: middle;\n",
       "    }\n",
       "\n",
       "    .dataframe tbody tr th {\n",
       "        vertical-align: top;\n",
       "    }\n",
       "\n",
       "    .dataframe thead th {\n",
       "        text-align: right;\n",
       "    }\n",
       "</style>\n",
       "<table border=\"1\" class=\"dataframe\">\n",
       "  <thead>\n",
       "    <tr style=\"text-align: right;\">\n",
       "      <th></th>\n",
       "      <th>0</th>\n",
       "      <th>1</th>\n",
       "      <th>2</th>\n",
       "      <th>3</th>\n",
       "      <th>4</th>\n",
       "      <th>5</th>\n",
       "      <th>6</th>\n",
       "      <th>7</th>\n",
       "      <th>8</th>\n",
       "      <th>9</th>\n",
       "      <th>10</th>\n",
       "      <th>11</th>\n",
       "    </tr>\n",
       "  </thead>\n",
       "  <tbody>\n",
       "    <tr>\n",
       "      <th>0</th>\n",
       "      <td>10428.049805</td>\n",
       "      <td>-0.673377</td>\n",
       "      <td>10583.959961</td>\n",
       "      <td>-0.673377</td>\n",
       "      <td>10572.019531</td>\n",
       "      <td>-0.673377</td>\n",
       "      <td>10573.679688</td>\n",
       "      <td>0.515598</td>\n",
       "      <td>10606.860352</td>\n",
       "      <td>9.776045</td>\n",
       "      <td>10618.190430</td>\n",
       "      <td>2010-01-08</td>\n",
       "    </tr>\n",
       "    <tr>\n",
       "      <th>1</th>\n",
       "      <td>10583.959961</td>\n",
       "      <td>-0.673377</td>\n",
       "      <td>10572.019531</td>\n",
       "      <td>-0.673377</td>\n",
       "      <td>10573.679688</td>\n",
       "      <td>0.515598</td>\n",
       "      <td>10606.860352</td>\n",
       "      <td>9.776045</td>\n",
       "      <td>10618.190430</td>\n",
       "      <td>-0.838081</td>\n",
       "      <td>10663.990234</td>\n",
       "      <td>2010-01-11</td>\n",
       "    </tr>\n",
       "    <tr>\n",
       "      <th>2</th>\n",
       "      <td>10572.019531</td>\n",
       "      <td>-0.673377</td>\n",
       "      <td>10573.679688</td>\n",
       "      <td>0.515598</td>\n",
       "      <td>10606.860352</td>\n",
       "      <td>9.776045</td>\n",
       "      <td>10618.190430</td>\n",
       "      <td>-0.838081</td>\n",
       "      <td>10663.990234</td>\n",
       "      <td>-0.430942</td>\n",
       "      <td>10627.259766</td>\n",
       "      <td>2010-01-12</td>\n",
       "    </tr>\n",
       "    <tr>\n",
       "      <th>3</th>\n",
       "      <td>10573.679688</td>\n",
       "      <td>0.515598</td>\n",
       "      <td>10606.860352</td>\n",
       "      <td>9.776045</td>\n",
       "      <td>10618.190430</td>\n",
       "      <td>-0.838081</td>\n",
       "      <td>10663.990234</td>\n",
       "      <td>-0.430942</td>\n",
       "      <td>10627.259766</td>\n",
       "      <td>-6.158991</td>\n",
       "      <td>10680.769531</td>\n",
       "      <td>2010-01-13</td>\n",
       "    </tr>\n",
       "    <tr>\n",
       "      <th>4</th>\n",
       "      <td>10606.860352</td>\n",
       "      <td>9.776045</td>\n",
       "      <td>10618.190430</td>\n",
       "      <td>-0.838081</td>\n",
       "      <td>10663.990234</td>\n",
       "      <td>-0.430942</td>\n",
       "      <td>10627.259766</td>\n",
       "      <td>-6.158991</td>\n",
       "      <td>10680.769531</td>\n",
       "      <td>-1.231957</td>\n",
       "      <td>10710.549805</td>\n",
       "      <td>2010-01-14</td>\n",
       "    </tr>\n",
       "    <tr>\n",
       "      <th>...</th>\n",
       "      <td>...</td>\n",
       "      <td>...</td>\n",
       "      <td>...</td>\n",
       "      <td>...</td>\n",
       "      <td>...</td>\n",
       "      <td>...</td>\n",
       "      <td>...</td>\n",
       "      <td>...</td>\n",
       "      <td>...</td>\n",
       "      <td>...</td>\n",
       "      <td>...</td>\n",
       "      <td>...</td>\n",
       "    </tr>\n",
       "    <tr>\n",
       "      <th>1969</th>\n",
       "      <td>23400.859375</td>\n",
       "      <td>-4.641425</td>\n",
       "      <td>23434.189453</td>\n",
       "      <td>-3.141151</td>\n",
       "      <td>23348.740234</td>\n",
       "      <td>-0.786060</td>\n",
       "      <td>23377.240234</td>\n",
       "      <td>-0.790489</td>\n",
       "      <td>23435.009766</td>\n",
       "      <td>0.309024</td>\n",
       "      <td>23516.259766</td>\n",
       "      <td>2017-11-02</td>\n",
       "    </tr>\n",
       "    <tr>\n",
       "      <th>1970</th>\n",
       "      <td>23434.189453</td>\n",
       "      <td>-3.141151</td>\n",
       "      <td>23348.740234</td>\n",
       "      <td>-0.786060</td>\n",
       "      <td>23377.240234</td>\n",
       "      <td>-0.790489</td>\n",
       "      <td>23435.009766</td>\n",
       "      <td>0.309024</td>\n",
       "      <td>23516.259766</td>\n",
       "      <td>0.228439</td>\n",
       "      <td>23539.189453</td>\n",
       "      <td>2017-11-03</td>\n",
       "    </tr>\n",
       "    <tr>\n",
       "      <th>1971</th>\n",
       "      <td>23348.740234</td>\n",
       "      <td>-0.786060</td>\n",
       "      <td>23377.240234</td>\n",
       "      <td>-0.790489</td>\n",
       "      <td>23435.009766</td>\n",
       "      <td>0.309024</td>\n",
       "      <td>23516.259766</td>\n",
       "      <td>0.228439</td>\n",
       "      <td>23539.189453</td>\n",
       "      <td>-4.851772</td>\n",
       "      <td>23548.419922</td>\n",
       "      <td>2017-11-06</td>\n",
       "    </tr>\n",
       "    <tr>\n",
       "      <th>1972</th>\n",
       "      <td>23377.240234</td>\n",
       "      <td>-0.790489</td>\n",
       "      <td>23435.009766</td>\n",
       "      <td>0.309024</td>\n",
       "      <td>23516.259766</td>\n",
       "      <td>0.228439</td>\n",
       "      <td>23539.189453</td>\n",
       "      <td>-4.851772</td>\n",
       "      <td>23548.419922</td>\n",
       "      <td>-1.775095</td>\n",
       "      <td>23557.230469</td>\n",
       "      <td>2017-11-07</td>\n",
       "    </tr>\n",
       "    <tr>\n",
       "      <th>1973</th>\n",
       "      <td>23435.009766</td>\n",
       "      <td>0.309024</td>\n",
       "      <td>23516.259766</td>\n",
       "      <td>0.228439</td>\n",
       "      <td>23539.189453</td>\n",
       "      <td>-4.851772</td>\n",
       "      <td>23548.419922</td>\n",
       "      <td>-1.775095</td>\n",
       "      <td>23557.230469</td>\n",
       "      <td>1.834186</td>\n",
       "      <td>23563.359375</td>\n",
       "      <td>2017-11-08</td>\n",
       "    </tr>\n",
       "  </tbody>\n",
       "</table>\n",
       "<p>1974 rows × 12 columns</p>\n",
       "</div>"
      ],
      "text/plain": [
       "                0         1             2         3             4         5   \\\n",
       "0     10428.049805 -0.673377  10583.959961 -0.673377  10572.019531 -0.673377   \n",
       "1     10583.959961 -0.673377  10572.019531 -0.673377  10573.679688  0.515598   \n",
       "2     10572.019531 -0.673377  10573.679688  0.515598  10606.860352  9.776045   \n",
       "3     10573.679688  0.515598  10606.860352  9.776045  10618.190430 -0.838081   \n",
       "4     10606.860352  9.776045  10618.190430 -0.838081  10663.990234 -0.430942   \n",
       "...            ...       ...           ...       ...           ...       ...   \n",
       "1969  23400.859375 -4.641425  23434.189453 -3.141151  23348.740234 -0.786060   \n",
       "1970  23434.189453 -3.141151  23348.740234 -0.786060  23377.240234 -0.790489   \n",
       "1971  23348.740234 -0.786060  23377.240234 -0.790489  23435.009766  0.309024   \n",
       "1972  23377.240234 -0.790489  23435.009766  0.309024  23516.259766  0.228439   \n",
       "1973  23435.009766  0.309024  23516.259766  0.228439  23539.189453 -4.851772   \n",
       "\n",
       "                6         7             8         9             10          11  \n",
       "0     10573.679688  0.515598  10606.860352  9.776045  10618.190430  2010-01-08  \n",
       "1     10606.860352  9.776045  10618.190430 -0.838081  10663.990234  2010-01-11  \n",
       "2     10618.190430 -0.838081  10663.990234 -0.430942  10627.259766  2010-01-12  \n",
       "3     10663.990234 -0.430942  10627.259766 -6.158991  10680.769531  2010-01-13  \n",
       "4     10627.259766 -6.158991  10680.769531 -1.231957  10710.549805  2010-01-14  \n",
       "...            ...       ...           ...       ...           ...         ...  \n",
       "1969  23377.240234 -0.790489  23435.009766  0.309024  23516.259766  2017-11-02  \n",
       "1970  23435.009766  0.309024  23516.259766  0.228439  23539.189453  2017-11-03  \n",
       "1971  23516.259766  0.228439  23539.189453 -4.851772  23548.419922  2017-11-06  \n",
       "1972  23539.189453 -4.851772  23548.419922 -1.775095  23557.230469  2017-11-07  \n",
       "1973  23548.419922 -1.775095  23557.230469  1.834186  23563.359375  2017-11-08  \n",
       "\n",
       "[1974 rows x 12 columns]"
      ]
     },
     "execution_count": 82,
     "metadata": {},
     "output_type": "execute_result"
    }
   ],
   "source": [
    "dji_train"
   ]
  },
  {
   "cell_type": "code",
   "execution_count": 83,
   "id": "artificial-spank",
   "metadata": {},
   "outputs": [
    {
     "data": {
      "text/html": [
       "<div>\n",
       "<style scoped>\n",
       "    .dataframe tbody tr th:only-of-type {\n",
       "        vertical-align: middle;\n",
       "    }\n",
       "\n",
       "    .dataframe tbody tr th {\n",
       "        vertical-align: top;\n",
       "    }\n",
       "\n",
       "    .dataframe thead th {\n",
       "        text-align: right;\n",
       "    }\n",
       "</style>\n",
       "<table border=\"1\" class=\"dataframe\">\n",
       "  <thead>\n",
       "    <tr style=\"text-align: right;\">\n",
       "      <th></th>\n",
       "      <th>0</th>\n",
       "      <th>1</th>\n",
       "      <th>2</th>\n",
       "      <th>3</th>\n",
       "      <th>4</th>\n",
       "      <th>5</th>\n",
       "      <th>6</th>\n",
       "      <th>7</th>\n",
       "      <th>8</th>\n",
       "      <th>9</th>\n",
       "      <th>10</th>\n",
       "      <th>11</th>\n",
       "    </tr>\n",
       "  </thead>\n",
       "  <tbody>\n",
       "    <tr>\n",
       "      <th>1974</th>\n",
       "      <td>23516.259766</td>\n",
       "      <td>0.228439</td>\n",
       "      <td>23539.189453</td>\n",
       "      <td>-4.851772</td>\n",
       "      <td>23548.419922</td>\n",
       "      <td>-1.775095</td>\n",
       "      <td>23557.230469</td>\n",
       "      <td>1.834186</td>\n",
       "      <td>23563.359375</td>\n",
       "      <td>-0.894487</td>\n",
       "      <td>23461.939453</td>\n",
       "      <td>2017-11-09</td>\n",
       "    </tr>\n",
       "    <tr>\n",
       "      <th>1975</th>\n",
       "      <td>23539.189453</td>\n",
       "      <td>-4.851772</td>\n",
       "      <td>23548.419922</td>\n",
       "      <td>-1.775095</td>\n",
       "      <td>23557.230469</td>\n",
       "      <td>1.834186</td>\n",
       "      <td>23563.359375</td>\n",
       "      <td>-0.894487</td>\n",
       "      <td>23461.939453</td>\n",
       "      <td>6.511740</td>\n",
       "      <td>23422.210938</td>\n",
       "      <td>2017-11-10</td>\n",
       "    </tr>\n",
       "    <tr>\n",
       "      <th>1976</th>\n",
       "      <td>23548.419922</td>\n",
       "      <td>-1.775095</td>\n",
       "      <td>23557.230469</td>\n",
       "      <td>1.834186</td>\n",
       "      <td>23563.359375</td>\n",
       "      <td>-0.894487</td>\n",
       "      <td>23461.939453</td>\n",
       "      <td>6.511740</td>\n",
       "      <td>23422.210938</td>\n",
       "      <td>-0.991838</td>\n",
       "      <td>23439.699219</td>\n",
       "      <td>2017-11-13</td>\n",
       "    </tr>\n",
       "    <tr>\n",
       "      <th>1977</th>\n",
       "      <td>23557.230469</td>\n",
       "      <td>1.834186</td>\n",
       "      <td>23563.359375</td>\n",
       "      <td>-0.894487</td>\n",
       "      <td>23461.939453</td>\n",
       "      <td>6.511740</td>\n",
       "      <td>23422.210938</td>\n",
       "      <td>-0.991838</td>\n",
       "      <td>23439.699219</td>\n",
       "      <td>-65.347705</td>\n",
       "      <td>23409.470703</td>\n",
       "      <td>2017-11-14</td>\n",
       "    </tr>\n",
       "    <tr>\n",
       "      <th>1978</th>\n",
       "      <td>23563.359375</td>\n",
       "      <td>-0.894487</td>\n",
       "      <td>23461.939453</td>\n",
       "      <td>6.511740</td>\n",
       "      <td>23422.210938</td>\n",
       "      <td>-0.991838</td>\n",
       "      <td>23439.699219</td>\n",
       "      <td>-65.347705</td>\n",
       "      <td>23409.470703</td>\n",
       "      <td>-1.387911</td>\n",
       "      <td>23271.279297</td>\n",
       "      <td>2017-11-15</td>\n",
       "    </tr>\n",
       "  </tbody>\n",
       "</table>\n",
       "</div>"
      ],
      "text/plain": [
       "                0         1             2         3             4         5   \\\n",
       "1974  23516.259766  0.228439  23539.189453 -4.851772  23548.419922 -1.775095   \n",
       "1975  23539.189453 -4.851772  23548.419922 -1.775095  23557.230469  1.834186   \n",
       "1976  23548.419922 -1.775095  23557.230469  1.834186  23563.359375 -0.894487   \n",
       "1977  23557.230469  1.834186  23563.359375 -0.894487  23461.939453  6.511740   \n",
       "1978  23563.359375 -0.894487  23461.939453  6.511740  23422.210938 -0.991838   \n",
       "\n",
       "                6          7             8          9             10  \\\n",
       "1974  23557.230469   1.834186  23563.359375  -0.894487  23461.939453   \n",
       "1975  23563.359375  -0.894487  23461.939453   6.511740  23422.210938   \n",
       "1976  23461.939453   6.511740  23422.210938  -0.991838  23439.699219   \n",
       "1977  23422.210938  -0.991838  23439.699219 -65.347705  23409.470703   \n",
       "1978  23439.699219 -65.347705  23409.470703  -1.387911  23271.279297   \n",
       "\n",
       "              11  \n",
       "1974  2017-11-09  \n",
       "1975  2017-11-10  \n",
       "1976  2017-11-13  \n",
       "1977  2017-11-14  \n",
       "1978  2017-11-15  "
      ]
     },
     "execution_count": 83,
     "metadata": {},
     "output_type": "execute_result"
    }
   ],
   "source": [
    "dji_test"
   ]
  },
  {
   "cell_type": "markdown",
   "id": "0ac495e6",
   "metadata": {},
   "source": [
    "# Seperate features and target"
   ]
  },
  {
   "cell_type": "code",
   "execution_count": 84,
   "id": "dc9af23b",
   "metadata": {},
   "outputs": [
    {
     "data": {
      "text/plain": [
       "12"
      ]
     },
     "execution_count": 84,
     "metadata": {},
     "output_type": "execute_result"
    }
   ],
   "source": [
    "dji_train.shape[1]"
   ]
  },
  {
   "cell_type": "code",
   "execution_count": 118,
   "id": "067aa0cb",
   "metadata": {},
   "outputs": [],
   "source": [
    "# train and validation data\n",
    "X = dji_train.iloc[:,:-2]\n",
    "y = dji_train.iloc[:,-2:-1]\n",
    "\n",
    "# test data\n",
    "X_test = dji_test.iloc[:,:-2]\n",
    "y_test = dji_test.iloc[:,-2:-1]\n",
    "\n",
    "y.rename(columns={10:'target'},inplace=True)\n",
    "y_test.rename(columns={10:'target'},inplace=True)"
   ]
  },
  {
   "cell_type": "code",
   "execution_count": 119,
   "id": "moderate-jacob",
   "metadata": {},
   "outputs": [
    {
     "data": {
      "text/html": [
       "<div>\n",
       "<style scoped>\n",
       "    .dataframe tbody tr th:only-of-type {\n",
       "        vertical-align: middle;\n",
       "    }\n",
       "\n",
       "    .dataframe tbody tr th {\n",
       "        vertical-align: top;\n",
       "    }\n",
       "\n",
       "    .dataframe thead th {\n",
       "        text-align: right;\n",
       "    }\n",
       "</style>\n",
       "<table border=\"1\" class=\"dataframe\">\n",
       "  <thead>\n",
       "    <tr style=\"text-align: right;\">\n",
       "      <th></th>\n",
       "      <th>0</th>\n",
       "      <th>1</th>\n",
       "      <th>2</th>\n",
       "      <th>3</th>\n",
       "      <th>4</th>\n",
       "      <th>5</th>\n",
       "      <th>6</th>\n",
       "      <th>7</th>\n",
       "      <th>8</th>\n",
       "      <th>9</th>\n",
       "    </tr>\n",
       "  </thead>\n",
       "  <tbody>\n",
       "    <tr>\n",
       "      <th>1974</th>\n",
       "      <td>23516.259766</td>\n",
       "      <td>0.228439</td>\n",
       "      <td>23539.189453</td>\n",
       "      <td>-4.851772</td>\n",
       "      <td>23548.419922</td>\n",
       "      <td>-1.775095</td>\n",
       "      <td>23557.230469</td>\n",
       "      <td>1.834186</td>\n",
       "      <td>23563.359375</td>\n",
       "      <td>-0.894487</td>\n",
       "    </tr>\n",
       "    <tr>\n",
       "      <th>1975</th>\n",
       "      <td>23539.189453</td>\n",
       "      <td>-4.851772</td>\n",
       "      <td>23548.419922</td>\n",
       "      <td>-1.775095</td>\n",
       "      <td>23557.230469</td>\n",
       "      <td>1.834186</td>\n",
       "      <td>23563.359375</td>\n",
       "      <td>-0.894487</td>\n",
       "      <td>23461.939453</td>\n",
       "      <td>6.511740</td>\n",
       "    </tr>\n",
       "    <tr>\n",
       "      <th>1976</th>\n",
       "      <td>23548.419922</td>\n",
       "      <td>-1.775095</td>\n",
       "      <td>23557.230469</td>\n",
       "      <td>1.834186</td>\n",
       "      <td>23563.359375</td>\n",
       "      <td>-0.894487</td>\n",
       "      <td>23461.939453</td>\n",
       "      <td>6.511740</td>\n",
       "      <td>23422.210938</td>\n",
       "      <td>-0.991838</td>\n",
       "    </tr>\n",
       "    <tr>\n",
       "      <th>1977</th>\n",
       "      <td>23557.230469</td>\n",
       "      <td>1.834186</td>\n",
       "      <td>23563.359375</td>\n",
       "      <td>-0.894487</td>\n",
       "      <td>23461.939453</td>\n",
       "      <td>6.511740</td>\n",
       "      <td>23422.210938</td>\n",
       "      <td>-0.991838</td>\n",
       "      <td>23439.699219</td>\n",
       "      <td>-65.347705</td>\n",
       "    </tr>\n",
       "    <tr>\n",
       "      <th>1978</th>\n",
       "      <td>23563.359375</td>\n",
       "      <td>-0.894487</td>\n",
       "      <td>23461.939453</td>\n",
       "      <td>6.511740</td>\n",
       "      <td>23422.210938</td>\n",
       "      <td>-0.991838</td>\n",
       "      <td>23439.699219</td>\n",
       "      <td>-65.347705</td>\n",
       "      <td>23409.470703</td>\n",
       "      <td>-1.387911</td>\n",
       "    </tr>\n",
       "  </tbody>\n",
       "</table>\n",
       "</div>"
      ],
      "text/plain": [
       "                 0         1             2         3             4         5  \\\n",
       "1974  23516.259766  0.228439  23539.189453 -4.851772  23548.419922 -1.775095   \n",
       "1975  23539.189453 -4.851772  23548.419922 -1.775095  23557.230469  1.834186   \n",
       "1976  23548.419922 -1.775095  23557.230469  1.834186  23563.359375 -0.894487   \n",
       "1977  23557.230469  1.834186  23563.359375 -0.894487  23461.939453  6.511740   \n",
       "1978  23563.359375 -0.894487  23461.939453  6.511740  23422.210938 -0.991838   \n",
       "\n",
       "                 6          7             8          9  \n",
       "1974  23557.230469   1.834186  23563.359375  -0.894487  \n",
       "1975  23563.359375  -0.894487  23461.939453   6.511740  \n",
       "1976  23461.939453   6.511740  23422.210938  -0.991838  \n",
       "1977  23422.210938  -0.991838  23439.699219 -65.347705  \n",
       "1978  23439.699219 -65.347705  23409.470703  -1.387911  "
      ]
     },
     "execution_count": 119,
     "metadata": {},
     "output_type": "execute_result"
    }
   ],
   "source": [
    "X_test"
   ]
  },
  {
   "cell_type": "code",
   "execution_count": 120,
   "id": "theoretical-arizona",
   "metadata": {},
   "outputs": [
    {
     "data": {
      "text/html": [
       "<div>\n",
       "<style scoped>\n",
       "    .dataframe tbody tr th:only-of-type {\n",
       "        vertical-align: middle;\n",
       "    }\n",
       "\n",
       "    .dataframe tbody tr th {\n",
       "        vertical-align: top;\n",
       "    }\n",
       "\n",
       "    .dataframe thead th {\n",
       "        text-align: right;\n",
       "    }\n",
       "</style>\n",
       "<table border=\"1\" class=\"dataframe\">\n",
       "  <thead>\n",
       "    <tr style=\"text-align: right;\">\n",
       "      <th></th>\n",
       "      <th>target</th>\n",
       "    </tr>\n",
       "  </thead>\n",
       "  <tbody>\n",
       "    <tr>\n",
       "      <th>1974</th>\n",
       "      <td>23461.939453</td>\n",
       "    </tr>\n",
       "    <tr>\n",
       "      <th>1975</th>\n",
       "      <td>23422.210938</td>\n",
       "    </tr>\n",
       "    <tr>\n",
       "      <th>1976</th>\n",
       "      <td>23439.699219</td>\n",
       "    </tr>\n",
       "    <tr>\n",
       "      <th>1977</th>\n",
       "      <td>23409.470703</td>\n",
       "    </tr>\n",
       "    <tr>\n",
       "      <th>1978</th>\n",
       "      <td>23271.279297</td>\n",
       "    </tr>\n",
       "  </tbody>\n",
       "</table>\n",
       "</div>"
      ],
      "text/plain": [
       "            target\n",
       "1974  23461.939453\n",
       "1975  23422.210938\n",
       "1976  23439.699219\n",
       "1977  23409.470703\n",
       "1978  23271.279297"
      ]
     },
     "execution_count": 120,
     "metadata": {},
     "output_type": "execute_result"
    }
   ],
   "source": [
    "y_test"
   ]
  },
  {
   "cell_type": "markdown",
   "id": "lesbian-juvenile",
   "metadata": {},
   "source": [
    "# Train test split"
   ]
  },
  {
   "cell_type": "code",
   "execution_count": 94,
   "id": "greater-questionnaire",
   "metadata": {},
   "outputs": [],
   "source": [
    "from sklearn.model_selection import train_test_split"
   ]
  },
  {
   "cell_type": "code",
   "execution_count": 95,
   "id": "0b01a88a",
   "metadata": {},
   "outputs": [],
   "source": [
    "X_train, X_val, y_train, y_val = train_test_split(X, y, test_size=0.15, random_state=1)"
   ]
  },
  {
   "cell_type": "code",
   "execution_count": 96,
   "id": "3d099e31",
   "metadata": {},
   "outputs": [
    {
     "data": {
      "text/html": [
       "<div>\n",
       "<style scoped>\n",
       "    .dataframe tbody tr th:only-of-type {\n",
       "        vertical-align: middle;\n",
       "    }\n",
       "\n",
       "    .dataframe tbody tr th {\n",
       "        vertical-align: top;\n",
       "    }\n",
       "\n",
       "    .dataframe thead th {\n",
       "        text-align: right;\n",
       "    }\n",
       "</style>\n",
       "<table border=\"1\" class=\"dataframe\">\n",
       "  <thead>\n",
       "    <tr style=\"text-align: right;\">\n",
       "      <th></th>\n",
       "      <th>0</th>\n",
       "      <th>1</th>\n",
       "      <th>2</th>\n",
       "      <th>3</th>\n",
       "      <th>4</th>\n",
       "      <th>5</th>\n",
       "      <th>6</th>\n",
       "      <th>7</th>\n",
       "      <th>8</th>\n",
       "      <th>9</th>\n",
       "    </tr>\n",
       "  </thead>\n",
       "  <tbody>\n",
       "    <tr>\n",
       "      <th>778</th>\n",
       "      <td>13979.299805</td>\n",
       "      <td>-1.825303</td>\n",
       "      <td>13986.519531</td>\n",
       "      <td>-3.796661</td>\n",
       "      <td>13944.049805</td>\n",
       "      <td>-1.147176</td>\n",
       "      <td>13992.969727</td>\n",
       "      <td>2.118020</td>\n",
       "      <td>13971.240234</td>\n",
       "      <td>-0.530821</td>\n",
       "    </tr>\n",
       "    <tr>\n",
       "      <th>757</th>\n",
       "      <td>13435.209961</td>\n",
       "      <td>-0.951623</td>\n",
       "      <td>13384.290039</td>\n",
       "      <td>8.513116</td>\n",
       "      <td>13328.849609</td>\n",
       "      <td>-2.404633</td>\n",
       "      <td>13390.509766</td>\n",
       "      <td>-1.735253</td>\n",
       "      <td>13471.219727</td>\n",
       "      <td>1.001979</td>\n",
       "    </tr>\n",
       "    <tr>\n",
       "      <th>1520</th>\n",
       "      <td>15988.080078</td>\n",
       "      <td>-16.391456</td>\n",
       "      <td>16016.019531</td>\n",
       "      <td>-1.130565</td>\n",
       "      <td>15766.740234</td>\n",
       "      <td>0.026071</td>\n",
       "      <td>15882.679688</td>\n",
       "      <td>-0.049165</td>\n",
       "      <td>16093.509766</td>\n",
       "      <td>-0.413755</td>\n",
       "    </tr>\n",
       "    <tr>\n",
       "      <th>108</th>\n",
       "      <td>9939.980469</td>\n",
       "      <td>0.747719</td>\n",
       "      <td>9899.250000</td>\n",
       "      <td>-0.173606</td>\n",
       "      <td>10172.530273</td>\n",
       "      <td>-0.479748</td>\n",
       "      <td>10211.070313</td>\n",
       "      <td>-36.846997</td>\n",
       "      <td>10190.889648</td>\n",
       "      <td>-1.018759</td>\n",
       "    </tr>\n",
       "    <tr>\n",
       "      <th>948</th>\n",
       "      <td>14776.530273</td>\n",
       "      <td>-3.848144</td>\n",
       "      <td>14802.980469</td>\n",
       "      <td>-1.257770</td>\n",
       "      <td>15126.070313</td>\n",
       "      <td>-6.764401</td>\n",
       "      <td>15237.110352</td>\n",
       "      <td>-2.238036</td>\n",
       "      <td>15301.259766</td>\n",
       "      <td>-0.894164</td>\n",
       "    </tr>\n",
       "    <tr>\n",
       "      <th>...</th>\n",
       "      <td>...</td>\n",
       "      <td>...</td>\n",
       "      <td>...</td>\n",
       "      <td>...</td>\n",
       "      <td>...</td>\n",
       "      <td>...</td>\n",
       "      <td>...</td>\n",
       "      <td>...</td>\n",
       "      <td>...</td>\n",
       "      <td>...</td>\n",
       "    </tr>\n",
       "    <tr>\n",
       "      <th>133</th>\n",
       "      <td>10366.719727</td>\n",
       "      <td>-0.965281</td>\n",
       "      <td>10359.309570</td>\n",
       "      <td>0.757874</td>\n",
       "      <td>10097.900391</td>\n",
       "      <td>-88.211802</td>\n",
       "      <td>10154.429688</td>\n",
       "      <td>-1.021470</td>\n",
       "      <td>10229.959961</td>\n",
       "      <td>-0.325518</td>\n",
       "    </tr>\n",
       "    <tr>\n",
       "      <th>227</th>\n",
       "      <td>11187.280273</td>\n",
       "      <td>0.117915</td>\n",
       "      <td>11091.870117</td>\n",
       "      <td>-1.377876</td>\n",
       "      <td>11052.490234</td>\n",
       "      <td>-5.328637</td>\n",
       "      <td>11006.019531</td>\n",
       "      <td>-0.837462</td>\n",
       "      <td>11255.780273</td>\n",
       "      <td>1.251940</td>\n",
       "    </tr>\n",
       "    <tr>\n",
       "      <th>622</th>\n",
       "      <td>12824.389648</td>\n",
       "      <td>0.151792</td>\n",
       "      <td>12573.570313</td>\n",
       "      <td>3.167695</td>\n",
       "      <td>12640.780273</td>\n",
       "      <td>-1.148135</td>\n",
       "      <td>12502.660156</td>\n",
       "      <td>-3.145430</td>\n",
       "      <td>12534.669922</td>\n",
       "      <td>-0.734661</td>\n",
       "    </tr>\n",
       "    <tr>\n",
       "      <th>1273</th>\n",
       "      <td>17672.599609</td>\n",
       "      <td>-0.045516</td>\n",
       "      <td>17678.699219</td>\n",
       "      <td>-0.868414</td>\n",
       "      <td>17387.210938</td>\n",
       "      <td>26.824583</td>\n",
       "      <td>17191.369141</td>\n",
       "      <td>-0.805258</td>\n",
       "      <td>17416.849609</td>\n",
       "      <td>-0.407629</td>\n",
       "    </tr>\n",
       "    <tr>\n",
       "      <th>91</th>\n",
       "      <td>10782.950195</td>\n",
       "      <td>1.100207</td>\n",
       "      <td>10620.160156</td>\n",
       "      <td>-9.377411</td>\n",
       "      <td>10625.830078</td>\n",
       "      <td>-1.148326</td>\n",
       "      <td>10510.950195</td>\n",
       "      <td>0.216584</td>\n",
       "      <td>10444.370117</td>\n",
       "      <td>-0.854393</td>\n",
       "    </tr>\n",
       "  </tbody>\n",
       "</table>\n",
       "<p>297 rows × 10 columns</p>\n",
       "</div>"
      ],
      "text/plain": [
       "                 0          1             2         3             4  \\\n",
       "778   13979.299805  -1.825303  13986.519531 -3.796661  13944.049805   \n",
       "757   13435.209961  -0.951623  13384.290039  8.513116  13328.849609   \n",
       "1520  15988.080078 -16.391456  16016.019531 -1.130565  15766.740234   \n",
       "108    9939.980469   0.747719   9899.250000 -0.173606  10172.530273   \n",
       "948   14776.530273  -3.848144  14802.980469 -1.257770  15126.070313   \n",
       "...            ...        ...           ...       ...           ...   \n",
       "133   10366.719727  -0.965281  10359.309570  0.757874  10097.900391   \n",
       "227   11187.280273   0.117915  11091.870117 -1.377876  11052.490234   \n",
       "622   12824.389648   0.151792  12573.570313  3.167695  12640.780273   \n",
       "1273  17672.599609  -0.045516  17678.699219 -0.868414  17387.210938   \n",
       "91    10782.950195   1.100207  10620.160156 -9.377411  10625.830078   \n",
       "\n",
       "              5             6          7             8         9  \n",
       "778   -1.147176  13992.969727   2.118020  13971.240234 -0.530821  \n",
       "757   -2.404633  13390.509766  -1.735253  13471.219727  1.001979  \n",
       "1520   0.026071  15882.679688  -0.049165  16093.509766 -0.413755  \n",
       "108   -0.479748  10211.070313 -36.846997  10190.889648 -1.018759  \n",
       "948   -6.764401  15237.110352  -2.238036  15301.259766 -0.894164  \n",
       "...         ...           ...        ...           ...       ...  \n",
       "133  -88.211802  10154.429688  -1.021470  10229.959961 -0.325518  \n",
       "227   -5.328637  11006.019531  -0.837462  11255.780273  1.251940  \n",
       "622   -1.148135  12502.660156  -3.145430  12534.669922 -0.734661  \n",
       "1273  26.824583  17191.369141  -0.805258  17416.849609 -0.407629  \n",
       "91    -1.148326  10510.950195   0.216584  10444.370117 -0.854393  \n",
       "\n",
       "[297 rows x 10 columns]"
      ]
     },
     "execution_count": 96,
     "metadata": {},
     "output_type": "execute_result"
    }
   ],
   "source": [
    "X_val"
   ]
  },
  {
   "cell_type": "code",
   "execution_count": 97,
   "id": "96935d6e",
   "metadata": {},
   "outputs": [
    {
     "data": {
      "text/html": [
       "<div>\n",
       "<style scoped>\n",
       "    .dataframe tbody tr th:only-of-type {\n",
       "        vertical-align: middle;\n",
       "    }\n",
       "\n",
       "    .dataframe tbody tr th {\n",
       "        vertical-align: top;\n",
       "    }\n",
       "\n",
       "    .dataframe thead th {\n",
       "        text-align: right;\n",
       "    }\n",
       "</style>\n",
       "<table border=\"1\" class=\"dataframe\">\n",
       "  <thead>\n",
       "    <tr style=\"text-align: right;\">\n",
       "      <th></th>\n",
       "      <th>10</th>\n",
       "    </tr>\n",
       "  </thead>\n",
       "  <tbody>\n",
       "    <tr>\n",
       "      <th>778</th>\n",
       "      <td>14018.700195</td>\n",
       "    </tr>\n",
       "    <tr>\n",
       "      <th>757</th>\n",
       "      <td>13488.429688</td>\n",
       "    </tr>\n",
       "    <tr>\n",
       "      <th>1520</th>\n",
       "      <td>15885.219727</td>\n",
       "    </tr>\n",
       "    <tr>\n",
       "      <th>108</th>\n",
       "      <td>10404.769531</td>\n",
       "    </tr>\n",
       "    <tr>\n",
       "      <th>948</th>\n",
       "      <td>15168.009766</td>\n",
       "    </tr>\n",
       "    <tr>\n",
       "      <th>...</th>\n",
       "      <td>...</td>\n",
       "    </tr>\n",
       "    <tr>\n",
       "      <th>133</th>\n",
       "      <td>10120.530273</td>\n",
       "    </tr>\n",
       "    <tr>\n",
       "      <th>227</th>\n",
       "      <td>11362.410156</td>\n",
       "    </tr>\n",
       "    <tr>\n",
       "      <th>622</th>\n",
       "      <td>12627.009766</td>\n",
       "    </tr>\n",
       "    <tr>\n",
       "      <th>1273</th>\n",
       "      <td>17164.949219</td>\n",
       "    </tr>\n",
       "    <tr>\n",
       "      <th>91</th>\n",
       "      <td>10068.009766</td>\n",
       "    </tr>\n",
       "  </tbody>\n",
       "</table>\n",
       "<p>297 rows × 1 columns</p>\n",
       "</div>"
      ],
      "text/plain": [
       "                10\n",
       "778   14018.700195\n",
       "757   13488.429688\n",
       "1520  15885.219727\n",
       "108   10404.769531\n",
       "948   15168.009766\n",
       "...            ...\n",
       "133   10120.530273\n",
       "227   11362.410156\n",
       "622   12627.009766\n",
       "1273  17164.949219\n",
       "91    10068.009766\n",
       "\n",
       "[297 rows x 1 columns]"
      ]
     },
     "execution_count": 97,
     "metadata": {},
     "output_type": "execute_result"
    }
   ],
   "source": [
    "y_val"
   ]
  },
  {
   "cell_type": "markdown",
   "id": "killing-following",
   "metadata": {},
   "source": [
    "# TensorFlow"
   ]
  },
  {
   "cell_type": "code",
   "execution_count": 127,
   "id": "identified-directory",
   "metadata": {},
   "outputs": [],
   "source": [
    "import tensorflow as tf\n",
    "from keras.models import Sequential\n",
    "from keras.layers import Dense\n",
    "from sklearn.model_selection import train_test_split\n",
    "from sklearn import metrics\n",
    "from sklearn.metrics import mean_squared_error"
   ]
  },
  {
   "cell_type": "markdown",
   "id": "soviet-sound",
   "metadata": {},
   "source": [
    "# Regression"
   ]
  },
  {
   "cell_type": "markdown",
   "id": "fbb2ea5a",
   "metadata": {},
   "source": [
    "# Prameterised Model "
   ]
  },
  {
   "cell_type": "code",
   "execution_count": 253,
   "id": "7e864842",
   "metadata": {},
   "outputs": [],
   "source": [
    "tf.random.set_seed(221)"
   ]
  },
  {
   "cell_type": "code",
   "execution_count": 254,
   "id": "ef4bc25b",
   "metadata": {},
   "outputs": [],
   "source": [
    "# MLP with single hidden layer with different hyperparameters\n",
    "def model_def(num_nodes,activation_type,loss_value,opt,xtrain,ytrain,size_batch,num_epochs,xvalid, yvalid):\n",
    "    model = Sequential()\n",
    "    #First hidden layer\n",
    "    model.add(Dense(num_nodes, input_dim=10, activation=activation_type))\n",
    "    #Output layer\n",
    "    model.add(Dense(1, activation='linear'))\n",
    "    #Compiling the model\n",
    "    model.compile(loss = loss_value,optimizer = opt)\n",
    "    #Fitting the model\n",
    "    history = model.fit(xtrain, ytrain,batch_size=size_batch,epochs=num_epochs, validation_data=(xvalid, yvalid), verbose = 0)\n",
    "    return model,history"
   ]
  },
  {
   "cell_type": "code",
   "execution_count": 255,
   "id": "202dc1cc",
   "metadata": {},
   "outputs": [],
   "source": [
    "# Plot loss vs epochs for training and validation data\n",
    "def plot_train_valid_loss(history_var):\n",
    "    plt.figure(figsize=(10,5))\n",
    "    plt.plot(history_var.history['loss'])\n",
    "    plt.plot(history_var.history['val_loss'])\n",
    "    plt.title('Loss across Epochs')\n",
    "    plt.ylabel('Loss')\n",
    "    plt.xlabel('Epoch')\n",
    "    plt.legend(['Train', 'Validation'], loc='upper right')\n",
    "    plt.show()"
   ]
  },
  {
   "cell_type": "code",
   "execution_count": 256,
   "id": "b7610393",
   "metadata": {},
   "outputs": [],
   "source": [
    "def test_output(model,xtest,ytest):\n",
    "    y_pred = pd.DataFrame(model.predict(xtest),columns=['Predicted_Value'])\n",
    "    my_new_df = pd.concat([ytest, y_pred], axis =1)\n",
    "    my_new_df['%_error'] = 100*(my_new_df['Predicted_Value']-my_new_df['target'])/my_new_df['target']\n",
    "    mse = mean_squared_error(ytest, y_pred)\n",
    "    return my_new_df,mse"
   ]
  },
  {
   "cell_type": "markdown",
   "id": "5c2be7f8",
   "metadata": {},
   "source": [
    "   # Varying nodes in hidden layer"
   ]
  },
  {
   "cell_type": "markdown",
   "id": "a248e76b",
   "metadata": {},
   "source": [
    "# Setting 1"
   ]
  },
  {
   "cell_type": "code",
   "execution_count": 290,
   "id": "69febbd1",
   "metadata": {},
   "outputs": [],
   "source": [
    "opt = tf.keras.optimizers.Adam()"
   ]
  },
  {
   "cell_type": "code",
   "execution_count": 291,
   "id": "c95e111c",
   "metadata": {},
   "outputs": [],
   "source": [
    "model1,history1 = model_def(5,'relu','mean_squared_error',opt,X_train, y_train,80,40,X_val, y_val)"
   ]
  },
  {
   "cell_type": "code",
   "execution_count": 292,
   "id": "9a899fa0",
   "metadata": {},
   "outputs": [],
   "source": [
    "train_loss1 = history1.history['loss'][-1]\n",
    "valid_loss1 = history1.history['val_loss'][-1]"
   ]
  },
  {
   "cell_type": "code",
   "execution_count": 293,
   "id": "537c024d",
   "metadata": {},
   "outputs": [
    {
     "name": "stdout",
     "output_type": "stream",
     "text": [
      "train loss 34404.5234375\n",
      "valid loss 39066.1015625\n"
     ]
    }
   ],
   "source": [
    "print('train loss',train_loss1)\n",
    "print('valid loss',valid_loss1)"
   ]
  },
  {
   "cell_type": "code",
   "execution_count": 294,
   "id": "77603715",
   "metadata": {},
   "outputs": [
    {
     "name": "stdout",
     "output_type": "stream",
     "text": [
      "WARNING:tensorflow:10 out of the last 11 calls to <function Model.make_predict_function.<locals>.predict_function at 0x00000287B1AF21F0> triggered tf.function retracing. Tracing is expensive and the excessive number of tracings could be due to (1) creating @tf.function repeatedly in a loop, (2) passing tensors with different shapes, (3) passing Python objects instead of tensors. For (1), please define your @tf.function outside of the loop. For (2), @tf.function has experimental_relax_shapes=True option that relaxes argument shapes that can avoid unnecessary retracing. For (3), please refer to https://www.tensorflow.org/tutorials/customization/performance#python_or_tensor_args and https://www.tensorflow.org/api_docs/python/tf/function for  more details.\n"
     ]
    }
   ],
   "source": [
    "test_res1, test_loss1 = test_output(model1,X_test,y_test)"
   ]
  },
  {
   "cell_type": "code",
   "execution_count": 295,
   "id": "ecfc867a",
   "metadata": {},
   "outputs": [
    {
     "name": "stdout",
     "output_type": "stream",
     "text": [
      "test loss 16147.649791179128\n"
     ]
    }
   ],
   "source": [
    "print('test loss', test_loss1)"
   ]
  },
  {
   "cell_type": "code",
   "execution_count": 296,
   "id": "df483ca2",
   "metadata": {
    "scrolled": true
   },
   "outputs": [
    {
     "data": {
      "image/png": "[encoded data removed]",
      "text/plain": [
       "<Figure size 720x360 with 1 Axes>"
      ]
     },
     "metadata": {
      "needs_background": "light"
     },
     "output_type": "display_data"
    }
   ],
   "source": [
    "plot_train_valid_loss(history1)"
   ]
  },
  {
   "cell_type": "markdown",
   "id": "b76bffaf",
   "metadata": {},
   "source": [
    "# Setting 2 "
   ]
  },
  {
   "cell_type": "code",
   "execution_count": 297,
   "id": "1f528a44",
   "metadata": {},
   "outputs": [],
   "source": [
    "model2,history2 = model_def(10,'relu','mean_squared_error',opt,X_train, y_train,80,40,X_val, y_val)"
   ]
  },
  {
   "cell_type": "code",
   "execution_count": 298,
   "id": "f7a326d7",
   "metadata": {},
   "outputs": [],
   "source": [
    "train_loss2 = history2.history['loss'][-1]\n",
    "valid_loss2 = history2.history['val_loss'][-1]"
   ]
  },
  {
   "cell_type": "code",
   "execution_count": 299,
   "id": "4cf9c840",
   "metadata": {},
   "outputs": [
    {
     "name": "stdout",
     "output_type": "stream",
     "text": [
      "train loss 18174.693359375\n",
      "valid loss 20178.951171875\n"
     ]
    }
   ],
   "source": [
    "print('train loss',train_loss2)\n",
    "print('valid loss',valid_loss2)"
   ]
  },
  {
   "cell_type": "code",
   "execution_count": 300,
   "id": "0ee9148e",
   "metadata": {},
   "outputs": [
    {
     "name": "stdout",
     "output_type": "stream",
     "text": [
      "WARNING:tensorflow:10 out of the last 11 calls to <function Model.make_predict_function.<locals>.predict_function at 0x00000287AC54D4C0> triggered tf.function retracing. Tracing is expensive and the excessive number of tracings could be due to (1) creating @tf.function repeatedly in a loop, (2) passing tensors with different shapes, (3) passing Python objects instead of tensors. For (1), please define your @tf.function outside of the loop. For (2), @tf.function has experimental_relax_shapes=True option that relaxes argument shapes that can avoid unnecessary retracing. For (3), please refer to https://www.tensorflow.org/tutorials/customization/performance#python_or_tensor_args and https://www.tensorflow.org/api_docs/python/tf/function for  more details.\n"
     ]
    }
   ],
   "source": [
    "test_res2, test_loss2 = test_output(model2,X_test,y_test)"
   ]
  },
  {
   "cell_type": "code",
   "execution_count": 301,
   "id": "1468a20c",
   "metadata": {},
   "outputs": [
    {
     "name": "stdout",
     "output_type": "stream",
     "text": [
      "test loss 13492.908972341684\n"
     ]
    }
   ],
   "source": [
    "print('test loss', test_loss2)"
   ]
  },
  {
   "cell_type": "code",
   "execution_count": 302,
   "id": "75062289",
   "metadata": {
    "scrolled": true
   },
   "outputs": [
    {
     "data": {
      "image/png": "[encoded data removed]",
      "text/plain": [
       "<Figure size 720x360 with 1 Axes>"
      ]
     },
     "metadata": {
      "needs_background": "light"
     },
     "output_type": "display_data"
    }
   ],
   "source": [
    "plot_train_valid_loss(history2)"
   ]
  },
  {
   "cell_type": "markdown",
   "id": "0e696cf6",
   "metadata": {},
   "source": [
    "# Setting 3"
   ]
  },
  {
   "cell_type": "code",
   "execution_count": 303,
   "id": "5a533d07",
   "metadata": {},
   "outputs": [],
   "source": [
    "model3,history3 = model_def(30,'relu','mean_squared_error',opt,X_train, y_train,80,40,X_val, y_val)"
   ]
  },
  {
   "cell_type": "code",
   "execution_count": 304,
   "id": "aed5cf42",
   "metadata": {},
   "outputs": [],
   "source": [
    "train_loss3 = history3.history['loss'][-1]\n",
    "valid_loss3 = history3.history['val_loss'][-1]"
   ]
  },
  {
   "cell_type": "code",
   "execution_count": 305,
   "id": "bea777b9",
   "metadata": {},
   "outputs": [
    {
     "name": "stdout",
     "output_type": "stream",
     "text": [
      "train loss 34741.984375\n",
      "valid loss 39860.0546875\n"
     ]
    }
   ],
   "source": [
    "print('train loss',train_loss3)\n",
    "print('valid loss',valid_loss3)"
   ]
  },
  {
   "cell_type": "code",
   "execution_count": 306,
   "id": "a77e9268",
   "metadata": {},
   "outputs": [
    {
     "name": "stdout",
     "output_type": "stream",
     "text": [
      "WARNING:tensorflow:10 out of the last 11 calls to <function Model.make_predict_function.<locals>.predict_function at 0x00000287AEFF8D30> triggered tf.function retracing. Tracing is expensive and the excessive number of tracings could be due to (1) creating @tf.function repeatedly in a loop, (2) passing tensors with different shapes, (3) passing Python objects instead of tensors. For (1), please define your @tf.function outside of the loop. For (2), @tf.function has experimental_relax_shapes=True option that relaxes argument shapes that can avoid unnecessary retracing. For (3), please refer to https://www.tensorflow.org/tutorials/customization/performance#python_or_tensor_args and https://www.tensorflow.org/api_docs/python/tf/function for  more details.\n"
     ]
    }
   ],
   "source": [
    "test_res3, test_loss3 = test_output(model3,X_test,y_test)"
   ]
  },
  {
   "cell_type": "code",
   "execution_count": 307,
   "id": "d9a123d9",
   "metadata": {},
   "outputs": [
    {
     "name": "stdout",
     "output_type": "stream",
     "text": [
      "test loss 25788.14780239382\n"
     ]
    }
   ],
   "source": [
    "print('test loss', test_loss3)"
   ]
  },
  {
   "cell_type": "code",
   "execution_count": 308,
   "id": "00b62b2e",
   "metadata": {
    "scrolled": true
   },
   "outputs": [
    {
     "data": {
      "image/png": "[encoded data removed]",
      "text/plain": [
       "<Figure size 720x360 with 1 Axes>"
      ]
     },
     "metadata": {
      "needs_background": "light"
     },
     "output_type": "display_data"
    }
   ],
   "source": [
    "plot_train_valid_loss(history3)"
   ]
  },
  {
   "cell_type": "code",
   "execution_count": 309,
   "id": "eff2846e",
   "metadata": {},
   "outputs": [],
   "source": [
    "# Choosing numbetr of nodes as 10 as it gives min validation loss"
   ]
  },
  {
   "cell_type": "markdown",
   "id": "cc37e1d4",
   "metadata": {},
   "source": [
    "# Varying Activation functions"
   ]
  },
  {
   "cell_type": "markdown",
   "id": "409ea8b1",
   "metadata": {},
   "source": [
    "# Setting 4"
   ]
  },
  {
   "cell_type": "code",
   "execution_count": 313,
   "id": "400ea910",
   "metadata": {},
   "outputs": [],
   "source": [
    "model4,history4 = model_def(10,'sigmoid','mean_squared_error',opt,X_train, y_train,80,40,X_val, y_val)"
   ]
  },
  {
   "cell_type": "code",
   "execution_count": 314,
   "id": "bd5e2343",
   "metadata": {},
   "outputs": [],
   "source": [
    "train_loss4 = history4.history['loss'][-1]\n",
    "valid_loss4 = history4.history['val_loss'][-1]"
   ]
  },
  {
   "cell_type": "code",
   "execution_count": 315,
   "id": "c17d12aa",
   "metadata": {},
   "outputs": [
    {
     "name": "stdout",
     "output_type": "stream",
     "text": [
      "train loss 248754240.0\n",
      "valid loss 250729600.0\n"
     ]
    }
   ],
   "source": [
    "print('train loss',train_loss4)\n",
    "print('valid loss',valid_loss4)"
   ]
  },
  {
   "cell_type": "code",
   "execution_count": 316,
   "id": "7b140d59",
   "metadata": {},
   "outputs": [
    {
     "name": "stdout",
     "output_type": "stream",
     "text": [
      "WARNING:tensorflow:10 out of the last 11 calls to <function Model.make_predict_function.<locals>.predict_function at 0x00000287ABAF8550> triggered tf.function retracing. Tracing is expensive and the excessive number of tracings could be due to (1) creating @tf.function repeatedly in a loop, (2) passing tensors with different shapes, (3) passing Python objects instead of tensors. For (1), please define your @tf.function outside of the loop. For (2), @tf.function has experimental_relax_shapes=True option that relaxes argument shapes that can avoid unnecessary retracing. For (3), please refer to https://www.tensorflow.org/tutorials/customization/performance#python_or_tensor_args and https://www.tensorflow.org/api_docs/python/tf/function for  more details.\n"
     ]
    }
   ],
   "source": [
    "test_res4, test_loss4 = test_output(model4,X_test,y_test)"
   ]
  },
  {
   "cell_type": "code",
   "execution_count": 317,
   "id": "c2040e1d",
   "metadata": {},
   "outputs": [
    {
     "name": "stdout",
     "output_type": "stream",
     "text": [
      "test loss 547034853.2101434\n"
     ]
    }
   ],
   "source": [
    "print('test loss', test_loss4)"
   ]
  },
  {
   "cell_type": "code",
   "execution_count": 318,
   "id": "ae5429da",
   "metadata": {
    "scrolled": true
   },
   "outputs": [
    {
     "data": {
      "image/png": "[encoded data removed]",
      "text/plain": [
       "<Figure size 720x360 with 1 Axes>"
      ]
     },
     "metadata": {
      "needs_background": "light"
     },
     "output_type": "display_data"
    }
   ],
   "source": [
    "plot_train_valid_loss(history4)"
   ]
  },
  {
   "cell_type": "markdown",
   "id": "67b2cf13",
   "metadata": {},
   "source": [
    "# Setting 5"
   ]
  },
  {
   "cell_type": "code",
   "execution_count": 328,
   "id": "8bed83d8",
   "metadata": {},
   "outputs": [],
   "source": [
    "model5,history5 = model_def(10,'tanh','mean_squared_error',opt,X_train, y_train,80,40,X_val, y_val)"
   ]
  },
  {
   "cell_type": "code",
   "execution_count": 329,
   "id": "20a79d7c",
   "metadata": {},
   "outputs": [],
   "source": [
    "train_loss5 = history5.history['loss'][-1]\n",
    "valid_loss5 = history5.history['val_loss'][-1]"
   ]
  },
  {
   "cell_type": "code",
   "execution_count": 330,
   "id": "51b7c238",
   "metadata": {},
   "outputs": [
    {
     "name": "stdout",
     "output_type": "stream",
     "text": [
      "train loss 248501728.0\n",
      "valid loss 250473072.0\n"
     ]
    }
   ],
   "source": [
    "print('train loss',train_loss5)\n",
    "print('valid loss',valid_loss5)"
   ]
  },
  {
   "cell_type": "code",
   "execution_count": 331,
   "id": "5b85b7a9",
   "metadata": {},
   "outputs": [
    {
     "name": "stdout",
     "output_type": "stream",
     "text": [
      "WARNING:tensorflow:10 out of the last 11 calls to <function Model.make_predict_function.<locals>.predict_function at 0x00000287B0645DC0> triggered tf.function retracing. Tracing is expensive and the excessive number of tracings could be due to (1) creating @tf.function repeatedly in a loop, (2) passing tensors with different shapes, (3) passing Python objects instead of tensors. For (1), please define your @tf.function outside of the loop. For (2), @tf.function has experimental_relax_shapes=True option that relaxes argument shapes that can avoid unnecessary retracing. For (3), please refer to https://www.tensorflow.org/tutorials/customization/performance#python_or_tensor_args and https://www.tensorflow.org/api_docs/python/tf/function for  more details.\n"
     ]
    }
   ],
   "source": [
    "test_res5, test_loss5 = test_output(model5,X_test,y_test)"
   ]
  },
  {
   "cell_type": "code",
   "execution_count": 332,
   "id": "58c504d3",
   "metadata": {},
   "outputs": [
    {
     "name": "stdout",
     "output_type": "stream",
     "text": [
      "test loss 546648102.7412992\n"
     ]
    }
   ],
   "source": [
    "print('test loss', test_loss5)"
   ]
  },
  {
   "cell_type": "code",
   "execution_count": 333,
   "id": "58233520",
   "metadata": {
    "scrolled": true
   },
   "outputs": [
    {
     "data": {
      "image/png": "[encoded data removed]",
      "text/plain": [
       "<Figure size 720x360 with 1 Axes>"
      ]
     },
     "metadata": {
      "needs_background": "light"
     },
     "output_type": "display_data"
    }
   ],
   "source": [
    "plot_train_valid_loss(history5)"
   ]
  },
  {
   "cell_type": "markdown",
   "id": "5ba95276",
   "metadata": {},
   "source": [
    "# Varying optimiser learning rate"
   ]
  },
  {
   "cell_type": "markdown",
   "id": "2bc15c97",
   "metadata": {},
   "source": [
    "# Setting 6"
   ]
  },
  {
   "cell_type": "code",
   "execution_count": 372,
   "id": "4eddb3bc",
   "metadata": {},
   "outputs": [],
   "source": [
    "opt = tf.keras.optimizers.SGD(learning_rate=0.001)"
   ]
  },
  {
   "cell_type": "code",
   "execution_count": 373,
   "id": "7e1e802b",
   "metadata": {},
   "outputs": [],
   "source": [
    "model6,history6 = model_def(10,'relu','mean_squared_error',opt,X_train, y_train,80,40,X_val, y_val)"
   ]
  },
  {
   "cell_type": "code",
   "execution_count": 374,
   "id": "78d53b30",
   "metadata": {},
   "outputs": [],
   "source": [
    "train_loss6 = history6.history['loss'][-1]\n",
    "valid_loss6 = history6.history['val_loss'][-1]"
   ]
  },
  {
   "cell_type": "code",
   "execution_count": 375,
   "id": "785458c8",
   "metadata": {},
   "outputs": [
    {
     "name": "stdout",
     "output_type": "stream",
     "text": [
      "train loss 6.252024112311605e+24\n",
      "valid loss 5.980456334205224e+24\n"
     ]
    }
   ],
   "source": [
    "print('train loss',train_loss6)\n",
    "print('valid loss',valid_loss6)"
   ]
  },
  {
   "cell_type": "code",
   "execution_count": 376,
   "id": "c9521343",
   "metadata": {},
   "outputs": [
    {
     "name": "stdout",
     "output_type": "stream",
     "text": [
      "WARNING:tensorflow:10 out of the last 11 calls to <function Model.make_predict_function.<locals>.predict_function at 0x00000287A7A209D0> triggered tf.function retracing. Tracing is expensive and the excessive number of tracings could be due to (1) creating @tf.function repeatedly in a loop, (2) passing tensors with different shapes, (3) passing Python objects instead of tensors. For (1), please define your @tf.function outside of the loop. For (2), @tf.function has experimental_relax_shapes=True option that relaxes argument shapes that can avoid unnecessary retracing. For (3), please refer to https://www.tensorflow.org/tutorials/customization/performance#python_or_tensor_args and https://www.tensorflow.org/api_docs/python/tf/function for  more details.\n"
     ]
    }
   ],
   "source": [
    "test_res6, test_loss6 = test_output(model6,X_test,y_test)"
   ]
  },
  {
   "cell_type": "code",
   "execution_count": 377,
   "id": "280b41ca",
   "metadata": {},
   "outputs": [
    {
     "name": "stdout",
     "output_type": "stream",
     "text": [
      "test loss 5.980456051752951e+24\n"
     ]
    }
   ],
   "source": [
    "print('test loss', test_loss6)"
   ]
  },
  {
   "cell_type": "code",
   "execution_count": 378,
   "id": "33ab40ef",
   "metadata": {
    "scrolled": true
   },
   "outputs": [
    {
     "data": {
      "image/png": "[encoded data removed]",
      "text/plain": [
       "<Figure size 720x360 with 1 Axes>"
      ]
     },
     "metadata": {
      "needs_background": "light"
     },
     "output_type": "display_data"
    }
   ],
   "source": [
    "plot_train_valid_loss(history6)"
   ]
  },
  {
   "cell_type": "markdown",
   "id": "cc7a454b",
   "metadata": {},
   "source": [
    "# Setting 7"
   ]
  },
  {
   "cell_type": "code",
   "execution_count": 443,
   "id": "1fa5ebcb",
   "metadata": {},
   "outputs": [],
   "source": [
    "opt = tf.keras.optimizers.SGD(learning_rate=0.01,momentum=0.9)"
   ]
  },
  {
   "cell_type": "code",
   "execution_count": 444,
   "id": "f771bb55",
   "metadata": {},
   "outputs": [],
   "source": [
    "model7,history7 = model_def(10,'relu','mean_squared_error',opt,X_train, y_train,80,40,X_val, y_val)"
   ]
  },
  {
   "cell_type": "code",
   "execution_count": 445,
   "id": "8a8bbb56",
   "metadata": {},
   "outputs": [],
   "source": [
    "train_loss7 = history7.history['loss'][-1]\n",
    "valid_loss7 = history7.history['val_loss'][-1]"
   ]
  },
  {
   "cell_type": "code",
   "execution_count": 446,
   "id": "b90cac73",
   "metadata": {},
   "outputs": [
    {
     "name": "stdout",
     "output_type": "stream",
     "text": [
      "train loss nan\n",
      "valid loss nan\n"
     ]
    }
   ],
   "source": [
    "print('train loss',train_loss7)\n",
    "print('valid loss',valid_loss7)"
   ]
  },
  {
   "cell_type": "code",
   "execution_count": 447,
   "id": "d90bf66a",
   "metadata": {},
   "outputs": [
    {
     "name": "stdout",
     "output_type": "stream",
     "text": [
      "WARNING:tensorflow:11 out of the last 11 calls to <function Model.make_predict_function.<locals>.predict_function at 0x00000287B23CFB80> triggered tf.function retracing. Tracing is expensive and the excessive number of tracings could be due to (1) creating @tf.function repeatedly in a loop, (2) passing tensors with different shapes, (3) passing Python objects instead of tensors. For (1), please define your @tf.function outside of the loop. For (2), @tf.function has experimental_relax_shapes=True option that relaxes argument shapes that can avoid unnecessary retracing. For (3), please refer to https://www.tensorflow.org/tutorials/customization/performance#python_or_tensor_args and https://www.tensorflow.org/api_docs/python/tf/function for  more details.\n"
     ]
    },
    {
     "ename": "ValueError",
     "evalue": "Input contains NaN, infinity or a value too large for dtype('float32').",
     "output_type": "error",
     "traceback": [
      "\u001b[1;31m---------------------------------------------------------------------------\u001b[0m",
      "\u001b[1;31mValueError\u001b[0m                                Traceback (most recent call last)",
      "\u001b[1;32m<ipython-input-447-d7a82bc047ee>\u001b[0m in \u001b[0;36m<module>\u001b[1;34m\u001b[0m\n\u001b[1;32m----> 1\u001b[1;33m \u001b[0mtest_res7\u001b[0m\u001b[1;33m,\u001b[0m \u001b[0mtest_loss7\u001b[0m \u001b[1;33m=\u001b[0m \u001b[0mtest_output\u001b[0m\u001b[1;33m(\u001b[0m\u001b[0mmodel7\u001b[0m\u001b[1;33m,\u001b[0m\u001b[0mX_test\u001b[0m\u001b[1;33m,\u001b[0m\u001b[0my_test\u001b[0m\u001b[1;33m)\u001b[0m\u001b[1;33m\u001b[0m\u001b[1;33m\u001b[0m\u001b[0m\n\u001b[0m",
      "\u001b[1;32m<ipython-input-256-41321e52121b>\u001b[0m in \u001b[0;36mtest_output\u001b[1;34m(model, xtest, ytest)\u001b[0m\n\u001b[0;32m      3\u001b[0m     \u001b[0mmy_new_df\u001b[0m \u001b[1;33m=\u001b[0m \u001b[0mpd\u001b[0m\u001b[1;33m.\u001b[0m\u001b[0mconcat\u001b[0m\u001b[1;33m(\u001b[0m\u001b[1;33m[\u001b[0m\u001b[0mytest\u001b[0m\u001b[1;33m,\u001b[0m \u001b[0my_pred\u001b[0m\u001b[1;33m]\u001b[0m\u001b[1;33m,\u001b[0m \u001b[0maxis\u001b[0m \u001b[1;33m=\u001b[0m\u001b[1;36m1\u001b[0m\u001b[1;33m)\u001b[0m\u001b[1;33m\u001b[0m\u001b[1;33m\u001b[0m\u001b[0m\n\u001b[0;32m      4\u001b[0m     \u001b[0mmy_new_df\u001b[0m\u001b[1;33m[\u001b[0m\u001b[1;34m'%_error'\u001b[0m\u001b[1;33m]\u001b[0m \u001b[1;33m=\u001b[0m \u001b[1;36m100\u001b[0m\u001b[1;33m*\u001b[0m\u001b[1;33m(\u001b[0m\u001b[0mmy_new_df\u001b[0m\u001b[1;33m[\u001b[0m\u001b[1;34m'Predicted_Value'\u001b[0m\u001b[1;33m]\u001b[0m\u001b[1;33m-\u001b[0m\u001b[0mmy_new_df\u001b[0m\u001b[1;33m[\u001b[0m\u001b[1;34m'target'\u001b[0m\u001b[1;33m]\u001b[0m\u001b[1;33m)\u001b[0m\u001b[1;33m/\u001b[0m\u001b[0mmy_new_df\u001b[0m\u001b[1;33m[\u001b[0m\u001b[1;34m'target'\u001b[0m\u001b[1;33m]\u001b[0m\u001b[1;33m\u001b[0m\u001b[1;33m\u001b[0m\u001b[0m\n\u001b[1;32m----> 5\u001b[1;33m     \u001b[0mmse\u001b[0m \u001b[1;33m=\u001b[0m \u001b[0mmean_squared_error\u001b[0m\u001b[1;33m(\u001b[0m\u001b[0mytest\u001b[0m\u001b[1;33m,\u001b[0m \u001b[0my_pred\u001b[0m\u001b[1;33m)\u001b[0m\u001b[1;33m\u001b[0m\u001b[1;33m\u001b[0m\u001b[0m\n\u001b[0m\u001b[0;32m      6\u001b[0m     \u001b[1;32mreturn\u001b[0m \u001b[0mmy_new_df\u001b[0m\u001b[1;33m,\u001b[0m\u001b[0mmse\u001b[0m\u001b[1;33m\u001b[0m\u001b[1;33m\u001b[0m\u001b[0m\n",
      "\u001b[1;32m~\\anaconda3\\lib\\site-packages\\sklearn\\utils\\validation.py\u001b[0m in \u001b[0;36minner_f\u001b[1;34m(*args, **kwargs)\u001b[0m\n\u001b[0;32m     61\u001b[0m             \u001b[0mextra_args\u001b[0m \u001b[1;33m=\u001b[0m \u001b[0mlen\u001b[0m\u001b[1;33m(\u001b[0m\u001b[0margs\u001b[0m\u001b[1;33m)\u001b[0m \u001b[1;33m-\u001b[0m \u001b[0mlen\u001b[0m\u001b[1;33m(\u001b[0m\u001b[0mall_args\u001b[0m\u001b[1;33m)\u001b[0m\u001b[1;33m\u001b[0m\u001b[1;33m\u001b[0m\u001b[0m\n\u001b[0;32m     62\u001b[0m             \u001b[1;32mif\u001b[0m \u001b[0mextra_args\u001b[0m \u001b[1;33m<=\u001b[0m \u001b[1;36m0\u001b[0m\u001b[1;33m:\u001b[0m\u001b[1;33m\u001b[0m\u001b[1;33m\u001b[0m\u001b[0m\n\u001b[1;32m---> 63\u001b[1;33m                 \u001b[1;32mreturn\u001b[0m \u001b[0mf\u001b[0m\u001b[1;33m(\u001b[0m\u001b[1;33m*\u001b[0m\u001b[0margs\u001b[0m\u001b[1;33m,\u001b[0m \u001b[1;33m**\u001b[0m\u001b[0mkwargs\u001b[0m\u001b[1;33m)\u001b[0m\u001b[1;33m\u001b[0m\u001b[1;33m\u001b[0m\u001b[0m\n\u001b[0m\u001b[0;32m     64\u001b[0m \u001b[1;33m\u001b[0m\u001b[0m\n\u001b[0;32m     65\u001b[0m             \u001b[1;31m# extra_args > 0\u001b[0m\u001b[1;33m\u001b[0m\u001b[1;33m\u001b[0m\u001b[1;33m\u001b[0m\u001b[0m\n",
      "\u001b[1;32m~\\anaconda3\\lib\\site-packages\\sklearn\\metrics\\_regression.py\u001b[0m in \u001b[0;36mmean_squared_error\u001b[1;34m(y_true, y_pred, sample_weight, multioutput, squared)\u001b[0m\n\u001b[0;32m    333\u001b[0m     \u001b[1;36m0.825\u001b[0m\u001b[1;33m...\u001b[0m\u001b[1;33m\u001b[0m\u001b[1;33m\u001b[0m\u001b[0m\n\u001b[0;32m    334\u001b[0m     \"\"\"\n\u001b[1;32m--> 335\u001b[1;33m     y_type, y_true, y_pred, multioutput = _check_reg_targets(\n\u001b[0m\u001b[0;32m    336\u001b[0m         y_true, y_pred, multioutput)\n\u001b[0;32m    337\u001b[0m     \u001b[0mcheck_consistent_length\u001b[0m\u001b[1;33m(\u001b[0m\u001b[0my_true\u001b[0m\u001b[1;33m,\u001b[0m \u001b[0my_pred\u001b[0m\u001b[1;33m,\u001b[0m \u001b[0msample_weight\u001b[0m\u001b[1;33m)\u001b[0m\u001b[1;33m\u001b[0m\u001b[1;33m\u001b[0m\u001b[0m\n",
      "\u001b[1;32m~\\anaconda3\\lib\\site-packages\\sklearn\\metrics\\_regression.py\u001b[0m in \u001b[0;36m_check_reg_targets\u001b[1;34m(y_true, y_pred, multioutput, dtype)\u001b[0m\n\u001b[0;32m     88\u001b[0m     \u001b[0mcheck_consistent_length\u001b[0m\u001b[1;33m(\u001b[0m\u001b[0my_true\u001b[0m\u001b[1;33m,\u001b[0m \u001b[0my_pred\u001b[0m\u001b[1;33m)\u001b[0m\u001b[1;33m\u001b[0m\u001b[1;33m\u001b[0m\u001b[0m\n\u001b[0;32m     89\u001b[0m     \u001b[0my_true\u001b[0m \u001b[1;33m=\u001b[0m \u001b[0mcheck_array\u001b[0m\u001b[1;33m(\u001b[0m\u001b[0my_true\u001b[0m\u001b[1;33m,\u001b[0m \u001b[0mensure_2d\u001b[0m\u001b[1;33m=\u001b[0m\u001b[1;32mFalse\u001b[0m\u001b[1;33m,\u001b[0m \u001b[0mdtype\u001b[0m\u001b[1;33m=\u001b[0m\u001b[0mdtype\u001b[0m\u001b[1;33m)\u001b[0m\u001b[1;33m\u001b[0m\u001b[1;33m\u001b[0m\u001b[0m\n\u001b[1;32m---> 90\u001b[1;33m     \u001b[0my_pred\u001b[0m \u001b[1;33m=\u001b[0m \u001b[0mcheck_array\u001b[0m\u001b[1;33m(\u001b[0m\u001b[0my_pred\u001b[0m\u001b[1;33m,\u001b[0m \u001b[0mensure_2d\u001b[0m\u001b[1;33m=\u001b[0m\u001b[1;32mFalse\u001b[0m\u001b[1;33m,\u001b[0m \u001b[0mdtype\u001b[0m\u001b[1;33m=\u001b[0m\u001b[0mdtype\u001b[0m\u001b[1;33m)\u001b[0m\u001b[1;33m\u001b[0m\u001b[1;33m\u001b[0m\u001b[0m\n\u001b[0m\u001b[0;32m     91\u001b[0m \u001b[1;33m\u001b[0m\u001b[0m\n\u001b[0;32m     92\u001b[0m     \u001b[1;32mif\u001b[0m \u001b[0my_true\u001b[0m\u001b[1;33m.\u001b[0m\u001b[0mndim\u001b[0m \u001b[1;33m==\u001b[0m \u001b[1;36m1\u001b[0m\u001b[1;33m:\u001b[0m\u001b[1;33m\u001b[0m\u001b[1;33m\u001b[0m\u001b[0m\n",
      "\u001b[1;32m~\\anaconda3\\lib\\site-packages\\sklearn\\utils\\validation.py\u001b[0m in \u001b[0;36minner_f\u001b[1;34m(*args, **kwargs)\u001b[0m\n\u001b[0;32m     61\u001b[0m             \u001b[0mextra_args\u001b[0m \u001b[1;33m=\u001b[0m \u001b[0mlen\u001b[0m\u001b[1;33m(\u001b[0m\u001b[0margs\u001b[0m\u001b[1;33m)\u001b[0m \u001b[1;33m-\u001b[0m \u001b[0mlen\u001b[0m\u001b[1;33m(\u001b[0m\u001b[0mall_args\u001b[0m\u001b[1;33m)\u001b[0m\u001b[1;33m\u001b[0m\u001b[1;33m\u001b[0m\u001b[0m\n\u001b[0;32m     62\u001b[0m             \u001b[1;32mif\u001b[0m \u001b[0mextra_args\u001b[0m \u001b[1;33m<=\u001b[0m \u001b[1;36m0\u001b[0m\u001b[1;33m:\u001b[0m\u001b[1;33m\u001b[0m\u001b[1;33m\u001b[0m\u001b[0m\n\u001b[1;32m---> 63\u001b[1;33m                 \u001b[1;32mreturn\u001b[0m \u001b[0mf\u001b[0m\u001b[1;33m(\u001b[0m\u001b[1;33m*\u001b[0m\u001b[0margs\u001b[0m\u001b[1;33m,\u001b[0m \u001b[1;33m**\u001b[0m\u001b[0mkwargs\u001b[0m\u001b[1;33m)\u001b[0m\u001b[1;33m\u001b[0m\u001b[1;33m\u001b[0m\u001b[0m\n\u001b[0m\u001b[0;32m     64\u001b[0m \u001b[1;33m\u001b[0m\u001b[0m\n\u001b[0;32m     65\u001b[0m             \u001b[1;31m# extra_args > 0\u001b[0m\u001b[1;33m\u001b[0m\u001b[1;33m\u001b[0m\u001b[1;33m\u001b[0m\u001b[0m\n",
      "\u001b[1;32m~\\anaconda3\\lib\\site-packages\\sklearn\\utils\\validation.py\u001b[0m in \u001b[0;36mcheck_array\u001b[1;34m(array, accept_sparse, accept_large_sparse, dtype, order, copy, force_all_finite, ensure_2d, allow_nd, ensure_min_samples, ensure_min_features, estimator)\u001b[0m\n\u001b[0;32m    661\u001b[0m \u001b[1;33m\u001b[0m\u001b[0m\n\u001b[0;32m    662\u001b[0m         \u001b[1;32mif\u001b[0m \u001b[0mforce_all_finite\u001b[0m\u001b[1;33m:\u001b[0m\u001b[1;33m\u001b[0m\u001b[1;33m\u001b[0m\u001b[0m\n\u001b[1;32m--> 663\u001b[1;33m             _assert_all_finite(array,\n\u001b[0m\u001b[0;32m    664\u001b[0m                                allow_nan=force_all_finite == 'allow-nan')\n\u001b[0;32m    665\u001b[0m \u001b[1;33m\u001b[0m\u001b[0m\n",
      "\u001b[1;32m~\\anaconda3\\lib\\site-packages\\sklearn\\utils\\validation.py\u001b[0m in \u001b[0;36m_assert_all_finite\u001b[1;34m(X, allow_nan, msg_dtype)\u001b[0m\n\u001b[0;32m    101\u001b[0m                 not allow_nan and not np.isfinite(X).all()):\n\u001b[0;32m    102\u001b[0m             \u001b[0mtype_err\u001b[0m \u001b[1;33m=\u001b[0m \u001b[1;34m'infinity'\u001b[0m \u001b[1;32mif\u001b[0m \u001b[0mallow_nan\u001b[0m \u001b[1;32melse\u001b[0m \u001b[1;34m'NaN, infinity'\u001b[0m\u001b[1;33m\u001b[0m\u001b[1;33m\u001b[0m\u001b[0m\n\u001b[1;32m--> 103\u001b[1;33m             raise ValueError(\n\u001b[0m\u001b[0;32m    104\u001b[0m                     \u001b[0mmsg_err\u001b[0m\u001b[1;33m.\u001b[0m\u001b[0mformat\u001b[0m\u001b[1;33m\u001b[0m\u001b[1;33m\u001b[0m\u001b[0m\n\u001b[0;32m    105\u001b[0m                     (type_err,\n",
      "\u001b[1;31mValueError\u001b[0m: Input contains NaN, infinity or a value too large for dtype('float32')."
     ]
    }
   ],
   "source": [
    "test_res7, test_loss7 = test_output(model7,X_test,y_test)"
   ]
  },
  {
   "cell_type": "code",
   "execution_count": 419,
   "id": "60fce9b8",
   "metadata": {},
   "outputs": [
    {
     "name": "stdout",
     "output_type": "stream",
     "text": [
      "test loss 547606358.9098917\n"
     ]
    }
   ],
   "source": [
    "print('test loss', test_loss7)"
   ]
  },
  {
   "cell_type": "code",
   "execution_count": 420,
   "id": "c66421ed",
   "metadata": {
    "scrolled": true
   },
   "outputs": [
    {
     "data": {
      "image/png": "[encoded data removed]",
      "text/plain": [
       "<Figure size 720x360 with 1 Axes>"
      ]
     },
     "metadata": {
      "needs_background": "light"
     },
     "output_type": "display_data"
    }
   ],
   "source": [
    "plot_train_valid_loss(history7)"
   ]
  },
  {
   "cell_type": "markdown",
   "id": "91c631a3",
   "metadata": {},
   "source": [
    "# Setting 8"
   ]
  },
  {
   "cell_type": "code",
   "execution_count": 461,
   "id": "95839d08",
   "metadata": {},
   "outputs": [],
   "source": [
    "opt = tf.keras.optimizers.Adam()"
   ]
  },
  {
   "cell_type": "code",
   "execution_count": 462,
   "id": "ab972081",
   "metadata": {},
   "outputs": [],
   "source": [
    "model8,history8 = model_def(10,'relu','MeanAbsoluteError',opt,X_train, y_train,80,40,X_val, y_val)"
   ]
  },
  {
   "cell_type": "code",
   "execution_count": 463,
   "id": "685d37ef",
   "metadata": {},
   "outputs": [],
   "source": [
    "train_loss8 = history8.history['loss'][-1]\n",
    "valid_loss8 = history8.history['val_loss'][-1]"
   ]
  },
  {
   "cell_type": "code",
   "execution_count": 464,
   "id": "9336b531",
   "metadata": {},
   "outputs": [
    {
     "name": "stdout",
     "output_type": "stream",
     "text": [
      "train loss 124.91815185546875\n",
      "valid loss 128.2273712158203\n"
     ]
    }
   ],
   "source": [
    "print('train loss',train_loss8)\n",
    "print('valid loss',valid_loss8)"
   ]
  },
  {
   "cell_type": "code",
   "execution_count": 465,
   "id": "23b55740",
   "metadata": {},
   "outputs": [
    {
     "name": "stdout",
     "output_type": "stream",
     "text": [
      "WARNING:tensorflow:11 out of the last 11 calls to <function Model.make_predict_function.<locals>.predict_function at 0x00000287B0715E50> triggered tf.function retracing. Tracing is expensive and the excessive number of tracings could be due to (1) creating @tf.function repeatedly in a loop, (2) passing tensors with different shapes, (3) passing Python objects instead of tensors. For (1), please define your @tf.function outside of the loop. For (2), @tf.function has experimental_relax_shapes=True option that relaxes argument shapes that can avoid unnecessary retracing. For (3), please refer to https://www.tensorflow.org/tutorials/customization/performance#python_or_tensor_args and https://www.tensorflow.org/api_docs/python/tf/function for  more details.\n"
     ]
    }
   ],
   "source": [
    "test_res8, test_loss8 = test_output(model8,X_test,y_test)"
   ]
  },
  {
   "cell_type": "code",
   "execution_count": 466,
   "id": "d83a0fb8",
   "metadata": {},
   "outputs": [
    {
     "name": "stdout",
     "output_type": "stream",
     "text": [
      "test loss 20662.789308321826\n"
     ]
    }
   ],
   "source": [
    "print('test loss', test_loss8)"
   ]
  },
  {
   "cell_type": "code",
   "execution_count": 467,
   "id": "1ac09210",
   "metadata": {
    "scrolled": true
   },
   "outputs": [
    {
     "data": {
      "image/png": "[encoded data removed]",
      "text/plain": [
       "<Figure size 720x360 with 1 Axes>"
      ]
     },
     "metadata": {
      "needs_background": "light"
     },
     "output_type": "display_data"
    }
   ],
   "source": [
    "plot_train_valid_loss(history8)"
   ]
  },
  {
   "cell_type": "code",
   "execution_count": null,
   "id": "a56c586a",
   "metadata": {},
   "outputs": [],
   "source": []
  }
 ],
 "metadata": {
  "kernelspec": {
   "display_name": "Python 3",
   "language": "python",
   "name": "python3"
  },
  "language_info": {
   "codemirror_mode": {
    "name": "ipython",
    "version": 3
   },
   "file_extension": ".py",
   "mimetype": "text/x-python",
   "name": "python",
   "nbconvert_exporter": "python",
   "pygments_lexer": "ipython3",
   "version": "3.8.8"
  }
 },
 "nbformat": 4,
 "nbformat_minor": 5
}
