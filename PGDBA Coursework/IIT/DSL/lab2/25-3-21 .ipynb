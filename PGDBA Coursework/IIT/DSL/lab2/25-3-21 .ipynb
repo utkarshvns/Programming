{
 "cells": [
  {
   "cell_type": "code",
   "execution_count": 41,
   "id": "hearing-element",
   "metadata": {},
   "outputs": [],
   "source": [
    "import numpy as np\n",
    "import pandas as pd\n",
    "from sklearn.tree import DecisionTreeClassifier # Import Decision Tree Classifier\n",
    "from sklearn.model_selection import train_test_split # Import train_test_split function\n",
    "from sklearn import metrics #Import scikit-learn metrics module for accuracy calculation\n",
    "from sklearn import tree\n",
    "from matplotlib import pyplot as plt"
   ]
  },
  {
   "cell_type": "code",
   "execution_count": 28,
   "id": "champion-spank",
   "metadata": {},
   "outputs": [
    {
     "data": {
      "text/html": [
       "<div>\n",
       "<style scoped>\n",
       "    .dataframe tbody tr th:only-of-type {\n",
       "        vertical-align: middle;\n",
       "    }\n",
       "\n",
       "    .dataframe tbody tr th {\n",
       "        vertical-align: top;\n",
       "    }\n",
       "\n",
       "    .dataframe thead th {\n",
       "        text-align: right;\n",
       "    }\n",
       "</style>\n",
       "<table border=\"1\" class=\"dataframe\">\n",
       "  <thead>\n",
       "    <tr style=\"text-align: right;\">\n",
       "      <th></th>\n",
       "      <th>Pregnancies</th>\n",
       "      <th>Glucose</th>\n",
       "      <th>BloodPressure</th>\n",
       "      <th>SkinThickness</th>\n",
       "      <th>Insulin</th>\n",
       "      <th>BMI</th>\n",
       "      <th>DiabetesPedigreeFunction</th>\n",
       "      <th>Age</th>\n",
       "      <th>Outcome</th>\n",
       "    </tr>\n",
       "  </thead>\n",
       "  <tbody>\n",
       "    <tr>\n",
       "      <th>0</th>\n",
       "      <td>6</td>\n",
       "      <td>148</td>\n",
       "      <td>72</td>\n",
       "      <td>35</td>\n",
       "      <td>0</td>\n",
       "      <td>33.6</td>\n",
       "      <td>0.627</td>\n",
       "      <td>50</td>\n",
       "      <td>1</td>\n",
       "    </tr>\n",
       "    <tr>\n",
       "      <th>1</th>\n",
       "      <td>1</td>\n",
       "      <td>85</td>\n",
       "      <td>66</td>\n",
       "      <td>29</td>\n",
       "      <td>0</td>\n",
       "      <td>26.6</td>\n",
       "      <td>0.351</td>\n",
       "      <td>31</td>\n",
       "      <td>0</td>\n",
       "    </tr>\n",
       "    <tr>\n",
       "      <th>2</th>\n",
       "      <td>8</td>\n",
       "      <td>183</td>\n",
       "      <td>64</td>\n",
       "      <td>0</td>\n",
       "      <td>0</td>\n",
       "      <td>23.3</td>\n",
       "      <td>0.672</td>\n",
       "      <td>32</td>\n",
       "      <td>1</td>\n",
       "    </tr>\n",
       "    <tr>\n",
       "      <th>3</th>\n",
       "      <td>1</td>\n",
       "      <td>89</td>\n",
       "      <td>66</td>\n",
       "      <td>23</td>\n",
       "      <td>94</td>\n",
       "      <td>28.1</td>\n",
       "      <td>0.167</td>\n",
       "      <td>21</td>\n",
       "      <td>0</td>\n",
       "    </tr>\n",
       "    <tr>\n",
       "      <th>4</th>\n",
       "      <td>0</td>\n",
       "      <td>137</td>\n",
       "      <td>40</td>\n",
       "      <td>35</td>\n",
       "      <td>168</td>\n",
       "      <td>43.1</td>\n",
       "      <td>2.288</td>\n",
       "      <td>33</td>\n",
       "      <td>1</td>\n",
       "    </tr>\n",
       "  </tbody>\n",
       "</table>\n",
       "</div>"
      ],
      "text/plain": [
       "   Pregnancies  Glucose  BloodPressure  SkinThickness  Insulin   BMI  \\\n",
       "0            6      148             72             35        0  33.6   \n",
       "1            1       85             66             29        0  26.6   \n",
       "2            8      183             64              0        0  23.3   \n",
       "3            1       89             66             23       94  28.1   \n",
       "4            0      137             40             35      168  43.1   \n",
       "\n",
       "   DiabetesPedigreeFunction  Age  Outcome  \n",
       "0                     0.627   50        1  \n",
       "1                     0.351   31        0  \n",
       "2                     0.672   32        1  \n",
       "3                     0.167   21        0  \n",
       "4                     2.288   33        1  "
      ]
     },
     "execution_count": 28,
     "metadata": {},
     "output_type": "execute_result"
    }
   ],
   "source": [
    "col_names = ['pregnant', 'glucose', 'bp', 'skin', 'insulin', 'bmi', 'pedigree', 'age', 'label']\n",
    "data=pd.read_csv('C:/Users/utkar/Desktop/Python/IIT/DSL/data/diabetes.csv',header=0)\n",
    "\n",
    "data.head()"
   ]
  },
  {
   "cell_type": "code",
   "execution_count": 29,
   "id": "cathedral-trading",
   "metadata": {},
   "outputs": [],
   "source": [
    "len(data.columns)\n",
    "len(col_names)\n",
    "data.columns=col_names"
   ]
  },
  {
   "cell_type": "code",
   "execution_count": 30,
   "id": "fuzzy-scottish",
   "metadata": {},
   "outputs": [],
   "source": [
    "feature_cols = ['pregnant', 'insulin', 'bmi', 'age','glucose','bp','pedigree']\n",
    "X = data[feature_cols]\n",
    "y = data.label"
   ]
  },
  {
   "cell_type": "code",
   "execution_count": 31,
   "id": "congressional-sunday",
   "metadata": {},
   "outputs": [],
   "source": [
    "X_train, X_test, y_train, y_test = train_test_split(X, y, test_size=0.3, random_state=1) \n",
    "clf = DecisionTreeClassifier()"
   ]
  },
  {
   "cell_type": "code",
   "execution_count": 32,
   "id": "subsequent-digit",
   "metadata": {},
   "outputs": [
    {
     "data": {
      "image/png": "[encoded data removed]",
      "text/plain": [
       "<Figure size 432x288 with 1 Axes>"
      ]
     },
     "metadata": {
      "needs_background": "light"
     },
     "output_type": "display_data"
    }
   ],
   "source": [
    "clf = clf.fit(X_train,y_train)\n",
    "tree.plot_tree(clf)\n",
    "plt.show()"
   ]
  },
  {
   "cell_type": "code",
   "execution_count": 33,
   "id": "british-length",
   "metadata": {},
   "outputs": [
    {
     "name": "stdout",
     "output_type": "stream",
     "text": [
      "Accuracy: 0.670995670995671\n"
     ]
    }
   ],
   "source": [
    "y_pred = clf.predict(X_test)\n",
    "print(\"Accuracy:\",metrics.accuracy_score(y_test, y_pred))"
   ]
  },
  {
   "cell_type": "code",
   "execution_count": 35,
   "id": "atlantic-worker",
   "metadata": {},
   "outputs": [
    {
     "data": {
      "text/plain": [
       "203"
      ]
     },
     "execution_count": 35,
     "metadata": {},
     "output_type": "execute_result"
    }
   ],
   "source": [
    "n_nodes = clf.tree_.node_count\n",
    "n_nodes"
   ]
  },
  {
   "cell_type": "code",
   "execution_count": 37,
   "id": "varying-constitutional",
   "metadata": {},
   "outputs": [
    {
     "data": {
      "text/plain": [
       "array([  1,   2,   3,   4,  -1,  -1,   7,  -1,   9,  -1,  -1,  12,  13,\n",
       "        14,  -1,  16,  17,  18,  -1,  20,  21,  -1,  23,  -1,  -1,  26,\n",
       "        27,  28,  29,  30,  -1,  32,  -1,  -1,  35,  -1,  37,  -1,  -1,\n",
       "        -1,  -1,  42,  -1,  44,  -1,  -1,  47,  -1,  -1,  -1,  51,  -1,\n",
       "        -1,  54,  55,  56,  -1,  58,  -1,  60,  61,  -1,  63,  -1,  -1,\n",
       "        -1,  67,  68,  69,  -1,  71,  -1,  -1,  74,  -1,  -1,  77,  78,\n",
       "        -1,  80,  81,  -1,  83,  84,  85,  86,  87,  -1,  -1,  -1,  -1,\n",
       "        -1,  -1,  -1,  -1,  96,  97,  98,  -1, 100, 101,  -1,  -1, 104,\n",
       "        -1, 106, 107, 108,  -1,  -1,  -1,  -1,  -1,  -1, 115, 116, 117,\n",
       "        -1, 119,  -1,  -1, 122,  -1, 124,  -1, 126,  -1,  -1, 129, 130,\n",
       "       131,  -1, 133, 134, 135, 136, 137,  -1, 139,  -1,  -1,  -1, 143,\n",
       "        -1, 145,  -1,  -1, 148, 149,  -1, 151,  -1,  -1,  -1,  -1, 156,\n",
       "       157,  -1, 159, 160, 161,  -1, 163, 164,  -1,  -1,  -1,  -1,  -1,\n",
       "       170, 171, 172,  -1, 174,  -1,  -1, 177,  -1,  -1, 180,  -1,  -1,\n",
       "       183, 184, 185, 186,  -1, 188, 189,  -1, 191,  -1,  -1,  -1, 195,\n",
       "        -1,  -1,  -1, 199,  -1, 201,  -1,  -1], dtype=int64)"
      ]
     },
     "execution_count": 37,
     "metadata": {},
     "output_type": "execute_result"
    }
   ],
   "source": [
    "children_left = clf.tree_.children_left\n",
    "children_left"
   ]
  },
  {
   "cell_type": "code",
   "execution_count": 38,
   "id": "parental-spirituality",
   "metadata": {},
   "outputs": [
    {
     "data": {
      "text/plain": [
       "array([ 4,  2,  2,  4, -2, -2,  6, -2,  6, -2, -2,  3,  2,  5, -2,  0,  6,\n",
       "        2, -2,  5,  6, -2,  1, -2, -2,  6,  1,  1,  2,  5, -2,  5, -2, -2,\n",
       "        2, -2,  5, -2, -2, -2, -2,  1, -2,  4, -2, -2,  5, -2, -2, -2,  0,\n",
       "       -2, -2,  6,  4,  5, -2,  3, -2,  6,  4, -2,  6, -2, -2, -2,  5,  5,\n",
       "        4, -2,  0, -2, -2,  6, -2, -2,  2,  4, -2,  2,  3, -2,  4,  6,  0,\n",
       "        5,  4, -2, -2, -2, -2, -2, -2, -2, -2,  0,  5,  4, -2,  4,  6, -2,\n",
       "       -2,  1, -2,  4,  3,  3, -2, -2, -2, -2, -2, -2,  2,  4,  3, -2,  2,\n",
       "       -2, -2,  2, -2,  2, -2,  4, -2, -2,  4,  3,  5, -2,  5,  5,  2,  2,\n",
       "        5, -2,  0, -2, -2, -2,  6, -2,  4, -2, -2,  4,  5, -2,  1, -2, -2,\n",
       "       -2, -2,  2,  5, -2,  6,  6,  2, -2,  2,  6, -2, -2, -2, -2, -2,  6,\n",
       "        1,  2, -2,  3, -2, -2,  1, -2, -2,  1, -2, -2,  6,  6,  3,  4, -2,\n",
       "        0,  4, -2,  3, -2, -2, -2,  2, -2, -2, -2,  3, -2,  4, -2, -2],\n",
       "      dtype=int64)"
      ]
     },
     "execution_count": 38,
     "metadata": {},
     "output_type": "execute_result"
    }
   ],
   "source": [
    "children_right = clf.tree_.children_right\n",
    "feature = clf.tree_.feature\n",
    "\n",
    "feature"
   ]
  },
  {
   "cell_type": "code",
   "execution_count": 39,
   "id": "perfect-current",
   "metadata": {},
   "outputs": [
    {
     "data": {
      "text/plain": [
       "array([ 1.29500000e+02,  2.63000002e+01,  9.10000038e+00,  1.14500000e+02,\n",
       "       -2.00000000e+00, -2.00000000e+00,  6.69000000e-01, -2.00000000e+00,\n",
       "        7.05499977e-01, -2.00000000e+00, -2.00000000e+00,  2.75000000e+01,\n",
       "        4.53999996e+01,  1.20000000e+01, -2.00000000e+00,  7.00000000e+00,\n",
       "        1.27150005e+00,  3.09499998e+01, -2.00000000e+00,  5.30000000e+01,\n",
       "        2.63999999e-01, -2.00000000e+00,  1.79500000e+02, -2.00000000e+00,\n",
       "       -2.00000000e+00,  6.51500016e-01,  3.65000000e+01,  3.40000000e+01,\n",
       "        3.36499996e+01,  7.10000000e+01, -2.00000000e+00,  7.80000000e+01,\n",
       "       -2.00000000e+00, -2.00000000e+00,  3.79500008e+01, -2.00000000e+00,\n",
       "        7.00000000e+01, -2.00000000e+00, -2.00000000e+00, -2.00000000e+00,\n",
       "       -2.00000000e+00,  6.55000000e+01, -2.00000000e+00,  1.15000000e+02,\n",
       "       -2.00000000e+00, -2.00000000e+00,  6.30000000e+01, -2.00000000e+00,\n",
       "       -2.00000000e+00, -2.00000000e+00,  2.50000000e+00, -2.00000000e+00,\n",
       "       -2.00000000e+00,  5.62999994e-01,  1.01500000e+02,  2.70000000e+01,\n",
       "       -2.00000000e+00,  4.25000000e+01, -2.00000000e+00,  3.83000001e-01,\n",
       "        7.60000000e+01, -2.00000000e+00,  2.02000000e-01, -2.00000000e+00,\n",
       "       -2.00000000e+00, -2.00000000e+00,  6.70000000e+01,  5.80000000e+01,\n",
       "        1.17500000e+02, -2.00000000e+00,  5.00000000e+00, -2.00000000e+00,\n",
       "       -2.00000000e+00,  4.25499991e-01, -2.00000000e+00, -2.00000000e+00,\n",
       "        4.31000004e+01,  1.02500000e+02, -2.00000000e+00,  3.46000004e+01,\n",
       "        3.50000000e+01, -2.00000000e+00,  1.23500000e+02,  3.75000000e-01,\n",
       "        6.50000000e+00,  8.50000000e+01,  1.06000000e+02, -2.00000000e+00,\n",
       "       -2.00000000e+00, -2.00000000e+00, -2.00000000e+00, -2.00000000e+00,\n",
       "       -2.00000000e+00, -2.00000000e+00, -2.00000000e+00,  8.50000000e+00,\n",
       "        8.70000000e+01,  9.70000000e+01, -2.00000000e+00,  1.16500000e+02,\n",
       "        1.39499998e+00, -2.00000000e+00, -2.00000000e+00,  7.80000000e+01,\n",
       "       -2.00000000e+00,  1.23500000e+02,  3.35000000e+01,  2.85000000e+01,\n",
       "       -2.00000000e+00, -2.00000000e+00, -2.00000000e+00, -2.00000000e+00,\n",
       "       -2.00000000e+00, -2.00000000e+00,  2.78500004e+01,  1.45500000e+02,\n",
       "        5.95000000e+01, -2.00000000e+00,  2.52500000e+01, -2.00000000e+00,\n",
       "       -2.00000000e+00,  2.30999994e+01, -2.00000000e+00,  2.55500002e+01,\n",
       "       -2.00000000e+00,  1.56000000e+02, -2.00000000e+00, -2.00000000e+00,\n",
       "        1.58500000e+02,  3.05000000e+01,  2.30000000e+01, -2.00000000e+00,\n",
       "        8.80000000e+01,  7.20000000e+01,  3.37500000e+01,  3.10500002e+01,\n",
       "        5.80000000e+01, -2.00000000e+00,  4.50000000e+00, -2.00000000e+00,\n",
       "       -2.00000000e+00, -2.00000000e+00,  5.34999996e-01, -2.00000000e+00,\n",
       "        1.36500000e+02, -2.00000000e+00, -2.00000000e+00,  1.57500000e+02,\n",
       "        8.55000000e+01, -2.00000000e+00,  1.65000000e+02, -2.00000000e+00,\n",
       "       -2.00000000e+00, -2.00000000e+00, -2.00000000e+00,  3.40500011e+01,\n",
       "        7.50000000e+01, -2.00000000e+00,  4.35999990e-01,  3.71000007e-01,\n",
       "        2.96999998e+01, -2.00000000e+00,  3.24500008e+01,  1.64000005e-01,\n",
       "       -2.00000000e+00, -2.00000000e+00, -2.00000000e+00, -2.00000000e+00,\n",
       "       -2.00000000e+00,  1.08750004e+00,  3.06500000e+02,  4.46000004e+01,\n",
       "       -2.00000000e+00,  4.35000000e+01, -2.00000000e+00, -2.00000000e+00,\n",
       "        3.56000000e+02, -2.00000000e+00, -2.00000000e+00,  1.47500000e+02,\n",
       "       -2.00000000e+00, -2.00000000e+00,  1.15650004e+00,  3.42999995e-01,\n",
       "        4.85000000e+01,  1.77000000e+02, -2.00000000e+00,  8.00000000e+00,\n",
       "        1.87500000e+02, -2.00000000e+00,  3.25000000e+01, -2.00000000e+00,\n",
       "       -2.00000000e+00, -2.00000000e+00,  3.48500004e+01, -2.00000000e+00,\n",
       "       -2.00000000e+00, -2.00000000e+00,  2.80000000e+01, -2.00000000e+00,\n",
       "        1.68000000e+02, -2.00000000e+00, -2.00000000e+00])"
      ]
     },
     "execution_count": 39,
     "metadata": {},
     "output_type": "execute_result"
    }
   ],
   "source": [
    "threshold = clf.tree_.threshold\n",
    "threshold"
   ]
  },
  {
   "cell_type": "code",
   "execution_count": 42,
   "id": "advisory-franklin",
   "metadata": {},
   "outputs": [],
   "source": [
    "node_depth = np.zeros(shape=n_nodes, dtype=np.int64)\n",
    "is_leaves = np.zeros(shape=n_nodes, dtype=bool)\n",
    "stack = [(0, 0)]  # start with the root node id (0) and its depth (0)"
   ]
  },
  {
   "cell_type": "code",
   "execution_count": 43,
   "id": "diverse-indianapolis",
   "metadata": {},
   "outputs": [
    {
     "data": {
      "text/plain": [
       "array([0, 0, 0, 0, 0, 0, 0, 0, 0, 0, 0, 0, 0, 0, 0, 0, 0, 0, 0, 0, 0, 0,\n",
       "       0, 0, 0, 0, 0, 0, 0, 0, 0, 0, 0, 0, 0, 0, 0, 0, 0, 0, 0, 0, 0, 0,\n",
       "       0, 0, 0, 0, 0, 0, 0, 0, 0, 0, 0, 0, 0, 0, 0, 0, 0, 0, 0, 0, 0, 0,\n",
       "       0, 0, 0, 0, 0, 0, 0, 0, 0, 0, 0, 0, 0, 0, 0, 0, 0, 0, 0, 0, 0, 0,\n",
       "       0, 0, 0, 0, 0, 0, 0, 0, 0, 0, 0, 0, 0, 0, 0, 0, 0, 0, 0, 0, 0, 0,\n",
       "       0, 0, 0, 0, 0, 0, 0, 0, 0, 0, 0, 0, 0, 0, 0, 0, 0, 0, 0, 0, 0, 0,\n",
       "       0, 0, 0, 0, 0, 0, 0, 0, 0, 0, 0, 0, 0, 0, 0, 0, 0, 0, 0, 0, 0, 0,\n",
       "       0, 0, 0, 0, 0, 0, 0, 0, 0, 0, 0, 0, 0, 0, 0, 0, 0, 0, 0, 0, 0, 0,\n",
       "       0, 0, 0, 0, 0, 0, 0, 0, 0, 0, 0, 0, 0, 0, 0, 0, 0, 0, 0, 0, 0, 0,\n",
       "       0, 0, 0, 0, 0], dtype=int64)"
      ]
     },
     "execution_count": 43,
     "metadata": {},
     "output_type": "execute_result"
    }
   ],
   "source": [
    "node_depth"
   ]
  },
  {
   "cell_type": "code",
   "execution_count": 44,
   "id": "effective-communications",
   "metadata": {},
   "outputs": [
    {
     "data": {
      "text/plain": [
       "array([False, False, False, False, False, False, False, False, False,\n",
       "       False, False, False, False, False, False, False, False, False,\n",
       "       False, False, False, False, False, False, False, False, False,\n",
       "       False, False, False, False, False, False, False, False, False,\n",
       "       False, False, False, False, False, False, False, False, False,\n",
       "       False, False, False, False, False, False, False, False, False,\n",
       "       False, False, False, False, False, False, False, False, False,\n",
       "       False, False, False, False, False, False, False, False, False,\n",
       "       False, False, False, False, False, False, False, False, False,\n",
       "       False, False, False, False, False, False, False, False, False,\n",
       "       False, False, False, False, False, False, False, False, False,\n",
       "       False, False, False, False, False, False, False, False, False,\n",
       "       False, False, False, False, False, False, False, False, False,\n",
       "       False, False, False, False, False, False, False, False, False,\n",
       "       False, False, False, False, False, False, False, False, False,\n",
       "       False, False, False, False, False, False, False, False, False,\n",
       "       False, False, False, False, False, False, False, False, False,\n",
       "       False, False, False, False, False, False, False, False, False,\n",
       "       False, False, False, False, False, False, False, False, False,\n",
       "       False, False, False, False, False, False, False, False, False,\n",
       "       False, False, False, False, False, False, False, False, False,\n",
       "       False, False, False, False, False, False, False, False, False,\n",
       "       False, False, False, False, False])"
      ]
     },
     "execution_count": 44,
     "metadata": {},
     "output_type": "execute_result"
    }
   ],
   "source": [
    "is_leaves"
   ]
  },
  {
   "cell_type": "code",
   "execution_count": 46,
   "id": "baking-innocent",
   "metadata": {},
   "outputs": [
    {
     "data": {
      "text/plain": [
       "1"
      ]
     },
     "execution_count": 46,
     "metadata": {},
     "output_type": "execute_result"
    }
   ],
   "source": [
    "len(stack)"
   ]
  },
  {
   "cell_type": "code",
   "execution_count": 47,
   "id": "demonstrated-mercy",
   "metadata": {},
   "outputs": [
    {
     "name": "stdout",
     "output_type": "stream",
     "text": [
      "The binary tree structure has 203 nodes and has the following tree structure:\n",
      "\n",
      "node=0 is a split node: go to node 1 if X[:, 4] <= 129.5 else to node 114.\n",
      "\tnode=1 is a split node: go to node 2 if X[:, 2] <= 26.300000190734863 else to node 11.\n",
      "\t\tnode=2 is a split node: go to node 3 if X[:, 2] <= 9.100000381469727 else to node 6.\n",
      "\t\t\tnode=3 is a split node: go to node 4 if X[:, 4] <= 114.5 else to node 5.\n",
      "\t\t\t\tnode=4 is a leaf node.\n",
      "\t\t\t\tnode=5 is a leaf node.\n",
      "\t\t\tnode=6 is a split node: go to node 7 if X[:, 6] <= 0.6689999997615814 else to node 8.\n",
      "\t\t\t\tnode=7 is a leaf node.\n",
      "\t\t\t\tnode=8 is a split node: go to node 9 if X[:, 6] <= 0.7054999768733978 else to node 10.\n",
      "\t\t\t\t\tnode=9 is a leaf node.\n",
      "\t\t\t\t\tnode=10 is a leaf node.\n",
      "\t\tnode=11 is a split node: go to node 12 if X[:, 3] <= 27.5 else to node 53.\n",
      "\t\t\tnode=12 is a split node: go to node 13 if X[:, 2] <= 45.39999961853027 else to node 50.\n",
      "\t\t\t\tnode=13 is a split node: go to node 14 if X[:, 5] <= 12.0 else to node 15.\n",
      "\t\t\t\t\tnode=14 is a leaf node.\n",
      "\t\t\t\t\tnode=15 is a split node: go to node 16 if X[:, 0] <= 7.0 else to node 49.\n",
      "\t\t\t\t\t\tnode=16 is a split node: go to node 17 if X[:, 6] <= 1.271500051021576 else to node 46.\n",
      "\t\t\t\t\t\t\tnode=17 is a split node: go to node 18 if X[:, 2] <= 30.949999809265137 else to node 19.\n",
      "\t\t\t\t\t\t\t\tnode=18 is a leaf node.\n",
      "\t\t\t\t\t\t\t\tnode=19 is a split node: go to node 20 if X[:, 5] <= 53.0 else to node 25.\n",
      "\t\t\t\t\t\t\t\t\tnode=20 is a split node: go to node 21 if X[:, 6] <= 0.2639999985694885 else to node 22.\n",
      "\t\t\t\t\t\t\t\t\t\tnode=21 is a leaf node.\n",
      "\t\t\t\t\t\t\t\t\t\tnode=22 is a split node: go to node 23 if X[:, 1] <= 179.5 else to node 24.\n",
      "\t\t\t\t\t\t\t\t\t\t\tnode=23 is a leaf node.\n",
      "\t\t\t\t\t\t\t\t\t\t\tnode=24 is a leaf node.\n",
      "\t\t\t\t\t\t\t\t\tnode=25 is a split node: go to node 26 if X[:, 6] <= 0.651500016450882 else to node 41.\n",
      "\t\t\t\t\t\t\t\t\t\tnode=26 is a split node: go to node 27 if X[:, 1] <= 36.5 else to node 40.\n",
      "\t\t\t\t\t\t\t\t\t\t\tnode=27 is a split node: go to node 28 if X[:, 1] <= 34.0 else to node 39.\n",
      "\t\t\t\t\t\t\t\t\t\t\t\tnode=28 is a split node: go to node 29 if X[:, 2] <= 33.64999961853027 else to node 34.\n",
      "\t\t\t\t\t\t\t\t\t\t\t\t\tnode=29 is a split node: go to node 30 if X[:, 5] <= 71.0 else to node 31.\n",
      "\t\t\t\t\t\t\t\t\t\t\t\t\t\tnode=30 is a leaf node.\n",
      "\t\t\t\t\t\t\t\t\t\t\t\t\t\tnode=31 is a split node: go to node 32 if X[:, 5] <= 78.0 else to node 33.\n",
      "\t\t\t\t\t\t\t\t\t\t\t\t\t\t\tnode=32 is a leaf node.\n",
      "\t\t\t\t\t\t\t\t\t\t\t\t\t\t\tnode=33 is a leaf node.\n",
      "\t\t\t\t\t\t\t\t\t\t\t\t\tnode=34 is a split node: go to node 35 if X[:, 2] <= 37.95000076293945 else to node 36.\n",
      "\t\t\t\t\t\t\t\t\t\t\t\t\t\tnode=35 is a leaf node.\n",
      "\t\t\t\t\t\t\t\t\t\t\t\t\t\tnode=36 is a split node: go to node 37 if X[:, 5] <= 70.0 else to node 38.\n",
      "\t\t\t\t\t\t\t\t\t\t\t\t\t\t\tnode=37 is a leaf node.\n",
      "\t\t\t\t\t\t\t\t\t\t\t\t\t\t\tnode=38 is a leaf node.\n",
      "\t\t\t\t\t\t\t\t\t\t\t\tnode=39 is a leaf node.\n",
      "\t\t\t\t\t\t\t\t\t\t\tnode=40 is a leaf node.\n",
      "\t\t\t\t\t\t\t\t\t\tnode=41 is a split node: go to node 42 if X[:, 1] <= 65.5 else to node 43.\n",
      "\t\t\t\t\t\t\t\t\t\t\tnode=42 is a leaf node.\n",
      "\t\t\t\t\t\t\t\t\t\t\tnode=43 is a split node: go to node 44 if X[:, 4] <= 115.0 else to node 45.\n",
      "\t\t\t\t\t\t\t\t\t\t\t\tnode=44 is a leaf node.\n",
      "\t\t\t\t\t\t\t\t\t\t\t\tnode=45 is a leaf node.\n",
      "\t\t\t\t\t\t\tnode=46 is a split node: go to node 47 if X[:, 5] <= 63.0 else to node 48.\n",
      "\t\t\t\t\t\t\t\tnode=47 is a leaf node.\n",
      "\t\t\t\t\t\t\t\tnode=48 is a leaf node.\n",
      "\t\t\t\t\t\tnode=49 is a leaf node.\n",
      "\t\t\t\tnode=50 is a split node: go to node 51 if X[:, 0] <= 2.5 else to node 52.\n",
      "\t\t\t\t\tnode=51 is a leaf node.\n",
      "\t\t\t\t\tnode=52 is a leaf node.\n",
      "\t\t\tnode=53 is a split node: go to node 54 if X[:, 6] <= 0.5629999935626984 else to node 95.\n",
      "\t\t\t\tnode=54 is a split node: go to node 55 if X[:, 4] <= 101.5 else to node 66.\n",
      "\t\t\t\t\tnode=55 is a split node: go to node 56 if X[:, 5] <= 27.0 else to node 57.\n",
      "\t\t\t\t\t\tnode=56 is a leaf node.\n",
      "\t\t\t\t\t\tnode=57 is a split node: go to node 58 if X[:, 3] <= 42.5 else to node 59.\n",
      "\t\t\t\t\t\t\tnode=58 is a leaf node.\n",
      "\t\t\t\t\t\t\tnode=59 is a split node: go to node 60 if X[:, 6] <= 0.3830000013113022 else to node 65.\n",
      "\t\t\t\t\t\t\t\tnode=60 is a split node: go to node 61 if X[:, 4] <= 76.0 else to node 62.\n",
      "\t\t\t\t\t\t\t\t\tnode=61 is a leaf node.\n",
      "\t\t\t\t\t\t\t\t\tnode=62 is a split node: go to node 63 if X[:, 6] <= 0.2019999995827675 else to node 64.\n",
      "\t\t\t\t\t\t\t\t\t\tnode=63 is a leaf node.\n",
      "\t\t\t\t\t\t\t\t\t\tnode=64 is a leaf node.\n",
      "\t\t\t\t\t\t\t\tnode=65 is a leaf node.\n",
      "\t\t\t\t\tnode=66 is a split node: go to node 67 if X[:, 5] <= 67.0 else to node 76.\n",
      "\t\t\t\t\t\tnode=67 is a split node: go to node 68 if X[:, 5] <= 58.0 else to node 73.\n",
      "\t\t\t\t\t\t\tnode=68 is a split node: go to node 69 if X[:, 4] <= 117.5 else to node 70.\n",
      "\t\t\t\t\t\t\t\tnode=69 is a leaf node.\n",
      "\t\t\t\t\t\t\t\tnode=70 is a split node: go to node 71 if X[:, 0] <= 5.0 else to node 72.\n",
      "\t\t\t\t\t\t\t\t\tnode=71 is a leaf node.\n",
      "\t\t\t\t\t\t\t\t\tnode=72 is a leaf node.\n",
      "\t\t\t\t\t\t\tnode=73 is a split node: go to node 74 if X[:, 6] <= 0.4254999905824661 else to node 75.\n",
      "\t\t\t\t\t\t\t\tnode=74 is a leaf node.\n",
      "\t\t\t\t\t\t\t\tnode=75 is a leaf node.\n",
      "\t\t\t\t\t\tnode=76 is a split node: go to node 77 if X[:, 2] <= 43.10000038146973 else to node 94.\n",
      "\t\t\t\t\t\t\tnode=77 is a split node: go to node 78 if X[:, 4] <= 102.5 else to node 79.\n",
      "\t\t\t\t\t\t\t\tnode=78 is a leaf node.\n",
      "\t\t\t\t\t\t\t\tnode=79 is a split node: go to node 80 if X[:, 2] <= 34.60000038146973 else to node 93.\n",
      "\t\t\t\t\t\t\t\t\tnode=80 is a split node: go to node 81 if X[:, 3] <= 35.0 else to node 82.\n",
      "\t\t\t\t\t\t\t\t\t\tnode=81 is a leaf node.\n",
      "\t\t\t\t\t\t\t\t\t\tnode=82 is a split node: go to node 83 if X[:, 4] <= 123.5 else to node 92.\n",
      "\t\t\t\t\t\t\t\t\t\t\tnode=83 is a split node: go to node 84 if X[:, 6] <= 0.375 else to node 91.\n",
      "\t\t\t\t\t\t\t\t\t\t\t\tnode=84 is a split node: go to node 85 if X[:, 0] <= 6.5 else to node 90.\n",
      "\t\t\t\t\t\t\t\t\t\t\t\t\tnode=85 is a split node: go to node 86 if X[:, 5] <= 85.0 else to node 89.\n",
      "\t\t\t\t\t\t\t\t\t\t\t\t\t\tnode=86 is a split node: go to node 87 if X[:, 4] <= 106.0 else to node 88.\n",
      "\t\t\t\t\t\t\t\t\t\t\t\t\t\t\tnode=87 is a leaf node.\n",
      "\t\t\t\t\t\t\t\t\t\t\t\t\t\t\tnode=88 is a leaf node.\n",
      "\t\t\t\t\t\t\t\t\t\t\t\t\t\tnode=89 is a leaf node.\n",
      "\t\t\t\t\t\t\t\t\t\t\t\t\tnode=90 is a leaf node.\n",
      "\t\t\t\t\t\t\t\t\t\t\t\tnode=91 is a leaf node.\n",
      "\t\t\t\t\t\t\t\t\t\t\tnode=92 is a leaf node.\n",
      "\t\t\t\t\t\t\t\t\tnode=93 is a leaf node.\n",
      "\t\t\t\t\t\t\tnode=94 is a leaf node.\n",
      "\t\t\t\tnode=95 is a split node: go to node 96 if X[:, 0] <= 8.5 else to node 113.\n",
      "\t\t\t\t\tnode=96 is a split node: go to node 97 if X[:, 5] <= 87.0 else to node 112.\n",
      "\t\t\t\t\t\tnode=97 is a split node: go to node 98 if X[:, 4] <= 97.0 else to node 99.\n",
      "\t\t\t\t\t\t\tnode=98 is a leaf node.\n",
      "\t\t\t\t\t\t\tnode=99 is a split node: go to node 100 if X[:, 4] <= 116.5 else to node 103.\n",
      "\t\t\t\t\t\t\t\tnode=100 is a split node: go to node 101 if X[:, 6] <= 1.3949999809265137 else to node 102.\n",
      "\t\t\t\t\t\t\t\t\tnode=101 is a leaf node.\n",
      "\t\t\t\t\t\t\t\t\tnode=102 is a leaf node.\n",
      "\t\t\t\t\t\t\t\tnode=103 is a split node: go to node 104 if X[:, 1] <= 78.0 else to node 105.\n",
      "\t\t\t\t\t\t\t\t\tnode=104 is a leaf node.\n",
      "\t\t\t\t\t\t\t\t\tnode=105 is a split node: go to node 106 if X[:, 4] <= 123.5 else to node 111.\n",
      "\t\t\t\t\t\t\t\t\t\tnode=106 is a split node: go to node 107 if X[:, 3] <= 33.5 else to node 110.\n",
      "\t\t\t\t\t\t\t\t\t\t\tnode=107 is a split node: go to node 108 if X[:, 3] <= 28.5 else to node 109.\n",
      "\t\t\t\t\t\t\t\t\t\t\t\tnode=108 is a leaf node.\n",
      "\t\t\t\t\t\t\t\t\t\t\t\tnode=109 is a leaf node.\n",
      "\t\t\t\t\t\t\t\t\t\t\tnode=110 is a leaf node.\n",
      "\t\t\t\t\t\t\t\t\t\tnode=111 is a leaf node.\n",
      "\t\t\t\t\t\tnode=112 is a leaf node.\n",
      "\t\t\t\t\tnode=113 is a leaf node.\n",
      "\tnode=114 is a split node: go to node 115 if X[:, 2] <= 27.850000381469727 else to node 128.\n",
      "\t\tnode=115 is a split node: go to node 116 if X[:, 4] <= 145.5 else to node 121.\n",
      "\t\t\tnode=116 is a split node: go to node 117 if X[:, 3] <= 59.5 else to node 118.\n",
      "\t\t\t\tnode=117 is a leaf node.\n",
      "\t\t\t\tnode=118 is a split node: go to node 119 if X[:, 2] <= 25.25 else to node 120.\n",
      "\t\t\t\t\tnode=119 is a leaf node.\n",
      "\t\t\t\t\tnode=120 is a leaf node.\n",
      "\t\t\tnode=121 is a split node: go to node 122 if X[:, 2] <= 23.09999942779541 else to node 123.\n",
      "\t\t\t\tnode=122 is a leaf node.\n",
      "\t\t\t\tnode=123 is a split node: go to node 124 if X[:, 2] <= 25.550000190734863 else to node 125.\n",
      "\t\t\t\t\tnode=124 is a leaf node.\n",
      "\t\t\t\t\tnode=125 is a split node: go to node 126 if X[:, 4] <= 156.0 else to node 127.\n",
      "\t\t\t\t\t\tnode=126 is a leaf node.\n",
      "\t\t\t\t\t\tnode=127 is a leaf node.\n",
      "\t\tnode=128 is a split node: go to node 129 if X[:, 4] <= 158.5 else to node 182.\n",
      "\t\t\tnode=129 is a split node: go to node 130 if X[:, 3] <= 30.5 else to node 155.\n",
      "\t\t\t\tnode=130 is a split node: go to node 131 if X[:, 5] <= 23.0 else to node 132.\n",
      "\t\t\t\t\tnode=131 is a leaf node.\n",
      "\t\t\t\t\tnode=132 is a split node: go to node 133 if X[:, 5] <= 88.0 else to node 154.\n",
      "\t\t\t\t\t\tnode=133 is a split node: go to node 134 if X[:, 5] <= 72.0 else to node 147.\n",
      "\t\t\t\t\t\t\tnode=134 is a split node: go to node 135 if X[:, 2] <= 33.75 else to node 142.\n",
      "\t\t\t\t\t\t\t\tnode=135 is a split node: go to node 136 if X[:, 2] <= 31.050000190734863 else to node 141.\n",
      "\t\t\t\t\t\t\t\t\tnode=136 is a split node: go to node 137 if X[:, 5] <= 58.0 else to node 138.\n",
      "\t\t\t\t\t\t\t\t\t\tnode=137 is a leaf node.\n",
      "\t\t\t\t\t\t\t\t\t\tnode=138 is a split node: go to node 139 if X[:, 0] <= 4.5 else to node 140.\n",
      "\t\t\t\t\t\t\t\t\t\t\tnode=139 is a leaf node.\n",
      "\t\t\t\t\t\t\t\t\t\t\tnode=140 is a leaf node.\n",
      "\t\t\t\t\t\t\t\t\tnode=141 is a leaf node.\n",
      "\t\t\t\t\t\t\t\tnode=142 is a split node: go to node 143 if X[:, 6] <= 0.5349999964237213 else to node 144.\n",
      "\t\t\t\t\t\t\t\t\tnode=143 is a leaf node.\n",
      "\t\t\t\t\t\t\t\t\tnode=144 is a split node: go to node 145 if X[:, 4] <= 136.5 else to node 146.\n",
      "\t\t\t\t\t\t\t\t\t\tnode=145 is a leaf node.\n",
      "\t\t\t\t\t\t\t\t\t\tnode=146 is a leaf node.\n",
      "\t\t\t\t\t\t\tnode=147 is a split node: go to node 148 if X[:, 4] <= 157.5 else to node 153.\n",
      "\t\t\t\t\t\t\t\tnode=148 is a split node: go to node 149 if X[:, 5] <= 85.5 else to node 150.\n",
      "\t\t\t\t\t\t\t\t\tnode=149 is a leaf node.\n",
      "\t\t\t\t\t\t\t\t\tnode=150 is a split node: go to node 151 if X[:, 1] <= 165.0 else to node 152.\n",
      "\t\t\t\t\t\t\t\t\t\tnode=151 is a leaf node.\n",
      "\t\t\t\t\t\t\t\t\t\tnode=152 is a leaf node.\n",
      "\t\t\t\t\t\t\t\tnode=153 is a leaf node.\n",
      "\t\t\t\t\t\tnode=154 is a leaf node.\n",
      "\t\t\t\tnode=155 is a split node: go to node 156 if X[:, 2] <= 34.05000114440918 else to node 169.\n",
      "\t\t\t\t\tnode=156 is a split node: go to node 157 if X[:, 5] <= 75.0 else to node 158.\n",
      "\t\t\t\t\t\tnode=157 is a leaf node.\n",
      "\t\t\t\t\t\tnode=158 is a split node: go to node 159 if X[:, 6] <= 0.4359999895095825 else to node 168.\n",
      "\t\t\t\t\t\t\tnode=159 is a split node: go to node 160 if X[:, 6] <= 0.3710000067949295 else to node 167.\n",
      "\t\t\t\t\t\t\t\tnode=160 is a split node: go to node 161 if X[:, 2] <= 29.699999809265137 else to node 162.\n",
      "\t\t\t\t\t\t\t\t\tnode=161 is a leaf node.\n",
      "\t\t\t\t\t\t\t\t\tnode=162 is a split node: go to node 163 if X[:, 2] <= 32.45000076293945 else to node 166.\n",
      "\t\t\t\t\t\t\t\t\t\tnode=163 is a split node: go to node 164 if X[:, 6] <= 0.164000004529953 else to node 165.\n",
      "\t\t\t\t\t\t\t\t\t\t\tnode=164 is a leaf node.\n",
      "\t\t\t\t\t\t\t\t\t\t\tnode=165 is a leaf node.\n",
      "\t\t\t\t\t\t\t\t\t\tnode=166 is a leaf node.\n",
      "\t\t\t\t\t\t\t\tnode=167 is a leaf node.\n",
      "\t\t\t\t\t\t\tnode=168 is a leaf node.\n",
      "\t\t\t\t\tnode=169 is a split node: go to node 170 if X[:, 6] <= 1.0875000357627869 else to node 179.\n",
      "\t\t\t\t\t\tnode=170 is a split node: go to node 171 if X[:, 1] <= 306.5 else to node 176.\n",
      "\t\t\t\t\t\t\tnode=171 is a split node: go to node 172 if X[:, 2] <= 44.60000038146973 else to node 173.\n",
      "\t\t\t\t\t\t\t\tnode=172 is a leaf node.\n",
      "\t\t\t\t\t\t\t\tnode=173 is a split node: go to node 174 if X[:, 3] <= 43.5 else to node 175.\n",
      "\t\t\t\t\t\t\t\t\tnode=174 is a leaf node.\n",
      "\t\t\t\t\t\t\t\t\tnode=175 is a leaf node.\n",
      "\t\t\t\t\t\t\tnode=176 is a split node: go to node 177 if X[:, 1] <= 356.0 else to node 178.\n",
      "\t\t\t\t\t\t\t\tnode=177 is a leaf node.\n",
      "\t\t\t\t\t\t\t\tnode=178 is a leaf node.\n",
      "\t\t\t\t\t\tnode=179 is a split node: go to node 180 if X[:, 1] <= 147.5 else to node 181.\n",
      "\t\t\t\t\t\t\tnode=180 is a leaf node.\n",
      "\t\t\t\t\t\t\tnode=181 is a leaf node.\n",
      "\t\t\tnode=182 is a split node: go to node 183 if X[:, 6] <= 1.1565000414848328 else to node 198.\n",
      "\t\t\t\tnode=183 is a split node: go to node 184 if X[:, 6] <= 0.34299999475479126 else to node 197.\n",
      "\t\t\t\t\tnode=184 is a split node: go to node 185 if X[:, 3] <= 48.5 else to node 194.\n",
      "\t\t\t\t\t\tnode=185 is a split node: go to node 186 if X[:, 4] <= 177.0 else to node 187.\n",
      "\t\t\t\t\t\t\tnode=186 is a leaf node.\n",
      "\t\t\t\t\t\t\tnode=187 is a split node: go to node 188 if X[:, 0] <= 8.0 else to node 193.\n",
      "\t\t\t\t\t\t\t\tnode=188 is a split node: go to node 189 if X[:, 4] <= 187.5 else to node 190.\n",
      "\t\t\t\t\t\t\t\t\tnode=189 is a leaf node.\n",
      "\t\t\t\t\t\t\t\t\tnode=190 is a split node: go to node 191 if X[:, 3] <= 32.5 else to node 192.\n",
      "\t\t\t\t\t\t\t\t\t\tnode=191 is a leaf node.\n",
      "\t\t\t\t\t\t\t\t\t\tnode=192 is a leaf node.\n",
      "\t\t\t\t\t\t\t\tnode=193 is a leaf node.\n",
      "\t\t\t\t\t\tnode=194 is a split node: go to node 195 if X[:, 2] <= 34.85000038146973 else to node 196.\n",
      "\t\t\t\t\t\t\tnode=195 is a leaf node.\n",
      "\t\t\t\t\t\t\tnode=196 is a leaf node.\n",
      "\t\t\t\t\tnode=197 is a leaf node.\n",
      "\t\t\t\tnode=198 is a split node: go to node 199 if X[:, 3] <= 28.0 else to node 200.\n",
      "\t\t\t\t\tnode=199 is a leaf node.\n",
      "\t\t\t\t\tnode=200 is a split node: go to node 201 if X[:, 4] <= 168.0 else to node 202.\n",
      "\t\t\t\t\t\tnode=201 is a leaf node.\n",
      "\t\t\t\t\t\tnode=202 is a leaf node.\n"
     ]
    }
   ],
   "source": [
    "while len(stack) > 0:\n",
    "    # `pop` ensures each node is only visited once\n",
    "    node_id, depth = stack.pop()\n",
    "    node_depth[node_id] = depth\n",
    "\n",
    "    # If the left and right child of a node is not the same we have a split\n",
    "    # node\n",
    "    is_split_node = children_left[node_id] != children_right[node_id]\n",
    "    # If a split node, append left and right children and depth to `stack`\n",
    "    # so we can loop through them\n",
    "    if is_split_node:\n",
    "        stack.append((children_left[node_id], depth + 1))\n",
    "        stack.append((children_right[node_id], depth + 1))\n",
    "    else:\n",
    "        is_leaves[node_id] = True\n",
    "\n",
    "print(\"The binary tree structure has {n} nodes and has \"\n",
    "      \"the following tree structure:\\n\".format(n=n_nodes))\n",
    "for i in range(n_nodes):\n",
    "    if is_leaves[i]:\n",
    "        print(\"{space}node={node} is a leaf node.\".format(\n",
    "            space=node_depth[i] * \"\\t\", node=i))\n",
    "    else:\n",
    "        print(\"{space}node={node} is a split node: \"\n",
    "              \"go to node {left} if X[:, {feature}] <= {threshold} \"\n",
    "              \"else to node {right}.\".format(\n",
    "                  space=node_depth[i] * \"\\t\",\n",
    "                  node=i,\n",
    "                  left=children_left[i],\n",
    "                  feature=feature[i],\n",
    "                  threshold=threshold[i],\n",
    "                  right=children_right[i]))\n"
   ]
  },
  {
   "cell_type": "code",
   "execution_count": null,
   "id": "psychological-richardson",
   "metadata": {},
   "outputs": [],
   "source": []
  }
 ],
 "metadata": {
  "kernelspec": {
   "display_name": "Python 3",
   "language": "python",
   "name": "python3"
  },
  "language_info": {
   "codemirror_mode": {
    "name": "ipython",
    "version": 3
   },
   "file_extension": ".py",
   "mimetype": "text/x-python",
   "name": "python",
   "nbconvert_exporter": "python",
   "pygments_lexer": "ipython3",
   "version": "3.8.8"
  }
 },
 "nbformat": 4,
 "nbformat_minor": 5
}
