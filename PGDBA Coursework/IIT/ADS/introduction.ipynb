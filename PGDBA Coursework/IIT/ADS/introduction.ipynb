{
 "cells": [
  {
   "cell_type": "code",
   "execution_count": 1,
   "id": "e29f8ded",
   "metadata": {},
   "outputs": [],
   "source": [
    "from numba import cuda\n",
    "import numpy as np\n",
    "import IPython"
   ]
  },
  {
   "cell_type": "code",
   "execution_count": 2,
   "id": "f241fb03",
   "metadata": {},
   "outputs": [],
   "source": [
    "n = 5000000\n",
    "x = np.arange(n).astype(np.float32)\n",
    "y = 2 * x\n",
    "out = np.empty_like(x)"
   ]
  },
  {
   "cell_type": "code",
   "execution_count": 3,
   "id": "44fa41a0",
   "metadata": {},
   "outputs": [
    {
     "data": {
      "text/plain": [
       "array([0., 1., 2.], dtype=float32)"
      ]
     },
     "execution_count": 3,
     "metadata": {},
     "output_type": "execute_result"
    }
   ],
   "source": [
    "x[:3]"
   ]
  },
  {
   "cell_type": "code",
   "execution_count": 4,
   "id": "61a6b0f9",
   "metadata": {},
   "outputs": [
    {
     "data": {
      "text/plain": [
       "array([0., 2., 4.], dtype=float32)"
      ]
     },
     "execution_count": 4,
     "metadata": {},
     "output_type": "execute_result"
    }
   ],
   "source": [
    "y[:3]"
   ]
  },
  {
   "cell_type": "code",
   "execution_count": 5,
   "id": "4f3173b2",
   "metadata": {},
   "outputs": [],
   "source": [
    "@cuda.jit\n",
    "def add_kernel_long(x, y, out):\n",
    "    tx = cuda.threadIdx.x # this is the unique thread ID within a 1D block\n",
    "    ty = cuda.blockIdx.x  # Similarly, this is the unique block ID within the 1D grid\n",
    "\n",
    "    block_size = cuda.blockDim.x  # number of threads per block\n",
    "    \n",
    "    i = tx + ty * block_size\n",
    "\n",
    "\n",
    "    # assuming x and y inputs are same length\n",
    "    if i < len(out):\n",
    "        out[i] = x[i] + y[i]"
   ]
  },
  {
   "cell_type": "code",
   "execution_count": 7,
   "id": "f02dfade",
   "metadata": {},
   "outputs": [],
   "source": [
    "threads_per_block = 128\n",
    "blocks_per_grid = 30"
   ]
  },
  {
   "cell_type": "code",
   "execution_count": 9,
   "id": "a3392c19",
   "metadata": {},
   "outputs": [
    {
     "data": {
      "text/plain": [
       "3840"
      ]
     },
     "execution_count": 9,
     "metadata": {},
     "output_type": "execute_result"
    }
   ],
   "source": [
    "30 * 128"
   ]
  },
  {
   "cell_type": "code",
   "execution_count": 8,
   "id": "25838bf4",
   "metadata": {},
   "outputs": [
    {
     "name": "stdout",
     "output_type": "stream",
     "text": [
      "[ 0.  3.  6.  9. 12. 15. 18. 21. 24. 27.]\n"
     ]
    }
   ],
   "source": [
    "add_kernel_long[blocks_per_grid, threads_per_block](x, y, out)\n",
    "print(out[:10])"
   ]
  },
  {
   "cell_type": "code",
   "execution_count": 10,
   "id": "a4f21e2f",
   "metadata": {},
   "outputs": [
    {
     "name": "stdout",
     "output_type": "stream",
     "text": [
      "[0. 0. 0. 0. 0. 0. 0. 0. 0. 0.]\n"
     ]
    }
   ],
   "source": [
    "add_kernel_long[blocks_per_grid, threads_per_block](x, y, out)\n",
    "print(out[3840:3850])"
   ]
  },
  {
   "cell_type": "code",
   "execution_count": 16,
   "id": "3fc425b8",
   "metadata": {},
   "outputs": [
    {
     "data": {
      "text/plain": [
       "39062"
      ]
     },
     "execution_count": 16,
     "metadata": {},
     "output_type": "execute_result"
    }
   ],
   "source": [
    "int(n / threads_per_block)"
   ]
  },
  {
   "cell_type": "code",
   "execution_count": 17,
   "id": "4654eefb",
   "metadata": {},
   "outputs": [
    {
     "name": "stdout",
     "output_type": "stream",
     "text": [
      "[11520. 11523. 11526. 11529. 11532. 11535. 11538. 11541. 11544. 11547.]\n"
     ]
    }
   ],
   "source": [
    "add_kernel_long[int(n / threads_per_block), threads_per_block](x, y, out)\n",
    "print(out[3840:3850])"
   ]
  },
  {
   "cell_type": "code",
   "execution_count": 18,
   "id": "0bbe235b",
   "metadata": {},
   "outputs": [
    {
     "data": {
      "text/plain": [
       "{'status': 'ok', 'restart': False}"
      ]
     },
     "execution_count": 18,
     "metadata": {},
     "output_type": "execute_result"
    }
   ],
   "source": [
    "app = IPython.Application.instance()\n",
    "app.kernel.do_shutdown(False)"
   ]
  },
  {
   "cell_type": "code",
   "execution_count": 1,
   "id": "963daee5",
   "metadata": {},
   "outputs": [],
   "source": [
    "from numba import cuda\n",
    "import numpy as np\n",
    "import IPython"
   ]
  },
  {
   "cell_type": "code",
   "execution_count": 2,
   "id": "0624256b",
   "metadata": {},
   "outputs": [],
   "source": [
    "n = 5000000\n",
    "x = np.arange(n).astype(np.float32)\n",
    "y = 2 * x\n",
    "out = np.empty_like(x)"
   ]
  },
  {
   "cell_type": "code",
   "execution_count": 5,
   "id": "d4309c63",
   "metadata": {},
   "outputs": [],
   "source": [
    "@cuda.jit\n",
    "def add_kernel_short(x, y, out):\n",
    "    i = cuda.grid(1)\n",
    "\n",
    "    # assuming x and y inputs are same length\n",
    "    if i < len(out):\n",
    "        out[i] = x[i] + y[i]"
   ]
  },
  {
   "cell_type": "code",
   "execution_count": 6,
   "id": "5199e6d9",
   "metadata": {},
   "outputs": [],
   "source": [
    "threads_per_block = 128\n",
    "blocks_per_grid = 30"
   ]
  },
  {
   "cell_type": "code",
   "execution_count": 7,
   "id": "a3fed839",
   "metadata": {},
   "outputs": [
    {
     "name": "stdout",
     "output_type": "stream",
     "text": [
      "[ 0.  3.  6.  9. 12. 15. 18. 21. 24. 27.]\n"
     ]
    }
   ],
   "source": [
    "add_kernel_short[blocks_per_grid, threads_per_block](x, y, out)\n",
    "print(out[:10])"
   ]
  },
  {
   "cell_type": "code",
   "execution_count": 8,
   "id": "59a42bd0",
   "metadata": {},
   "outputs": [
    {
     "name": "stdout",
     "output_type": "stream",
     "text": [
      "[0. 0. 0. 0. 0. 0. 0. 0. 0. 0.]\n"
     ]
    }
   ],
   "source": [
    "add_kernel_short[blocks_per_grid, threads_per_block](x, y, out)\n",
    "print(out[3840:3850])"
   ]
  },
  {
   "cell_type": "code",
   "execution_count": 11,
   "id": "410a80dc",
   "metadata": {},
   "outputs": [
    {
     "name": "stdout",
     "output_type": "stream",
     "text": [
      "[11520. 11523. 11526. 11529. 11532. 11535. 11538. 11541. 11544. 11547.]\n"
     ]
    }
   ],
   "source": [
    "add_kernel_short[int(n / threads_per_block), threads_per_block](x, y, out)\n",
    "print(out[3840:3850])"
   ]
  },
  {
   "cell_type": "code",
   "execution_count": 12,
   "id": "9d8b26ce",
   "metadata": {},
   "outputs": [],
   "source": [
    "x_device = cuda.to_device(x)\n",
    "y_device = cuda.to_device(y)\n",
    "out_device = cuda.device_array_like(x)"
   ]
  },
  {
   "cell_type": "code",
   "execution_count": null,
   "id": "3084f24b",
   "metadata": {},
   "outputs": [],
   "source": [
    "%time add_kernel_short[int(n / blocks_per_grid), threads_per_block](x, y, out)"
   ]
  },
  {
   "cell_type": "code",
   "execution_count": 13,
   "id": "5a539856",
   "metadata": {},
   "outputs": [
    {
     "name": "stdout",
     "output_type": "stream",
     "text": [
      "CPU times: user 24.8 ms, sys: 4.53 ms, total: 29.3 ms\n",
      "Wall time: 27.8 ms\n"
     ]
    }
   ],
   "source": [
    "%time add_kernel_short[int(n / blocks_per_grid), threads_per_block](x, y, out)"
   ]
  },
  {
   "cell_type": "code",
   "execution_count": 14,
   "id": "480be844",
   "metadata": {},
   "outputs": [
    {
     "name": "stdout",
     "output_type": "stream",
     "text": [
      "CPU times: user 219 µs, sys: 226 µs, total: 445 µs\n",
      "Wall time: 383 µs\n"
     ]
    }
   ],
   "source": [
    "%time add_kernel_short[int(n / blocks_per_grid), threads_per_block](x_device, y_device, out_device)"
   ]
  },
  {
   "cell_type": "code",
   "execution_count": 15,
   "id": "dd86f4ed",
   "metadata": {},
   "outputs": [
    {
     "name": "stdout",
     "output_type": "stream",
     "text": [
      "CPU times: user 5.26 ms, sys: 9.34 ms, total: 14.6 ms\n",
      "Wall time: 13.1 ms\n"
     ]
    },
    {
     "data": {
      "text/plain": [
       "array([0.0000000e+00, 3.0000000e+00, 6.0000000e+00, ..., 1.4999991e+07,\n",
       "       1.4999994e+07, 1.4999997e+07], dtype=float32)"
      ]
     },
     "execution_count": 15,
     "metadata": {},
     "output_type": "execute_result"
    }
   ],
   "source": [
    "%time add_kernel_short[int(n / blocks_per_grid), threads_per_block](x_device, y_device, out_device); out_device.copy_to_host()"
   ]
  },
  {
   "cell_type": "code",
   "execution_count": null,
   "id": "cba202ac",
   "metadata": {},
   "outputs": [],
   "source": [
    "cuda.synchronize()\n",
    "%time add_kernel_short[int(n / blocks_per_grid), threads_per_block](x_device, y_device, out_device)\n",
    "cuda.synchronize()"
   ]
  },
  {
   "cell_type": "code",
   "execution_count": null,
   "id": "0bf3360c",
   "metadata": {},
   "outputs": [],
   "source": [
    "# GPU input/output arrays, include explicit synchronization in timing\n",
    "cuda.synchronize()\n",
    "%time add_kernel_short[int(n / blocks_per_grid), threads_per_block](x_device, y_device, out_device); cuda.synchronize()"
   ]
  }
 ],
 "metadata": {
  "kernelspec": {
   "display_name": "Python 3",
   "language": "python",
   "name": "python3"
  },
  "language_info": {
   "codemirror_mode": {
    "name": "ipython",
    "version": 3
   },
   "file_extension": ".py",
   "mimetype": "text/x-python",
   "name": "python",
   "nbconvert_exporter": "python",
   "pygments_lexer": "ipython3",
   "version": "3.8.8"
  }
 },
 "nbformat": 4,
 "nbformat_minor": 5
}
