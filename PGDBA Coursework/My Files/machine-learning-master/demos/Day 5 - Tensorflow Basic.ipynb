{
 "cells": [
  {
   "cell_type": "code",
   "execution_count": 2,
   "metadata": {},
   "outputs": [],
   "source": [
    "import tensorflow as tf"
   ]
  },
  {
   "cell_type": "code",
   "execution_count": 30,
   "metadata": {},
   "outputs": [
    {
     "name": "stdout",
     "output_type": "stream",
     "text": [
      "a Tensor(\"Const:0\", shape=(), dtype=float32)\n",
      "b Tensor(\"Const_1:0\", shape=(), dtype=float32)\n",
      "c Tensor(\"add:0\", shape=(), dtype=float32)\n",
      "6.8\n"
     ]
    }
   ],
   "source": [
    "tf.reset_default_graph()\n",
    "\n",
    "a = tf.constant(2.3, dtype=tf.float32)\n",
    "b = tf.constant(4.5)\n",
    "c = a + b\n",
    "print(\"a\", a)\n",
    "print(\"b\", b)\n",
    "print(\"c\", c)\n",
    "\n",
    "with tf.Session() as sess:\n",
    "    print(sess.run(c))"
   ]
  },
  {
   "cell_type": "code",
   "execution_count": 10,
   "metadata": {
    "scrolled": false
   },
   "outputs": [
    {
     "name": "stdout",
     "output_type": "stream",
     "text": [
      "a Tensor(\"Placeholder_2:0\", shape=(), dtype=float32)\n",
      "b Tensor(\"Placeholder_3:0\", shape=(), dtype=float32)\n",
      "c Tensor(\"add_3:0\", shape=(), dtype=float32)\n",
      "6.3\n"
     ]
    }
   ],
   "source": [
    "a = tf.placeholder(dtype=tf.float32, shape=())\n",
    "b = tf.placeholder(dtype=tf.float32, shape=())\n",
    "c = a + b\n",
    "print(\"a\", a)\n",
    "print(\"b\", b)\n",
    "print(\"c\", c)\n",
    "\n",
    "with tf.Session() as sess:\n",
    "    c_ = sess.run(c, feed_dict={a: 2.0, b: 4.3})\n",
    "    print(c_)"
   ]
  },
  {
   "cell_type": "code",
   "execution_count": null,
   "metadata": {},
   "outputs": [],
   "source": []
  }
 ],
 "metadata": {
  "kernelspec": {
   "display_name": "Python 3",
   "language": "python",
   "name": "python3"
  },
  "language_info": {
   "codemirror_mode": {
    "name": "ipython",
    "version": 3
   },
   "file_extension": ".py",
   "mimetype": "text/x-python",
   "name": "python",
   "nbconvert_exporter": "python",
   "pygments_lexer": "ipython3",
   "version": "3.6.4"
  }
 },
 "nbformat": 4,
 "nbformat_minor": 2
}
