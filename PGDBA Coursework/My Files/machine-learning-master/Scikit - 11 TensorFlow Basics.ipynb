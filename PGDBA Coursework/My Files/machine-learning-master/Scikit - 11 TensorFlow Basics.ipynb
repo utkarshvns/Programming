{
 "cells": [
  {
   "cell_type": "code",
   "execution_count": 1,
   "metadata": {},
   "outputs": [
    {
     "name": "stderr",
     "output_type": "stream",
     "text": [
      "/Users/abulbasar/anaconda/lib/python3.6/importlib/_bootstrap.py:219: RuntimeWarning: compiletime version 3.5 of module 'tensorflow.python.framework.fast_tensor_util' does not match runtime version 3.6\n",
      "  return f(*args, **kwds)\n",
      "/Users/abulbasar/anaconda/lib/python3.6/site-packages/sklearn/cross_validation.py:41: DeprecationWarning: This module was deprecated in version 0.18 in favor of the model_selection module into which all the refactored classes and functions are moved. Also note that the interface of the new CV iterators are different from that of this module. This module will be removed in 0.20.\n",
      "  \"This module will be removed in 0.20.\", DeprecationWarning)\n",
      "/Users/abulbasar/anaconda/lib/python3.6/site-packages/sklearn/grid_search.py:42: DeprecationWarning: This module was deprecated in version 0.18 in favor of the model_selection module into which all the refactored classes and functions are moved. This module will be removed in 0.20.\n",
      "  DeprecationWarning)\n",
      "/Users/abulbasar/anaconda/lib/python3.6/site-packages/sklearn/learning_curve.py:22: DeprecationWarning: This module was deprecated in version 0.18 in favor of the model_selection module into which all the functions are moved. This module will be removed in 0.20\n",
      "  DeprecationWarning)\n"
     ]
    }
   ],
   "source": [
    "import tensorflow as tf\n",
    "import pandas as pd\n",
    "import numpy as np\n",
    "import matplotlib.pyplot as plt\n",
    "from glob import glob\n",
    "\n",
    "from sklearn import * \n",
    "\n",
    "%matplotlib inline"
   ]
  },
  {
   "cell_type": "code",
   "execution_count": 2,
   "metadata": {},
   "outputs": [
    {
     "name": "stdout",
     "output_type": "stream",
     "text": [
      "hw:  Tensor(\"add:0\", shape=(), dtype=string)\n",
      "b'HelloWorld'\n"
     ]
    }
   ],
   "source": [
    "h = tf.constant(\"Hello\")\n",
    "w = tf.constant(\"World\")\n",
    "hw = h + w\n",
    "print(\"hw: \", hw)\n",
    "with tf.Session() as session:\n",
    "    ans = session.run(hw)\n",
    "    print(ans)"
   ]
  },
  {
   "cell_type": "code",
   "execution_count": 3,
   "metadata": {},
   "outputs": [
    {
     "data": {
      "text/plain": [
       "b'HelloWorld'"
      ]
     },
     "execution_count": 3,
     "metadata": {},
     "output_type": "execute_result"
    }
   ],
   "source": [
    "session = tf.Session()\n",
    "session.run(hw)"
   ]
  },
  {
   "cell_type": "code",
   "execution_count": 4,
   "metadata": {},
   "outputs": [
    {
     "name": "stdout",
     "output_type": "stream",
     "text": [
      "f:  -3\n",
      "<tensorflow.python.framework.ops.Graph object at 0x1a1e046dd8>\n",
      "<tensorflow.python.framework.ops.Graph object at 0x1a1e02ff98>\n",
      "<tensorflow.python.framework.ops.Graph object at 0x1a1e02ff98>\n"
     ]
    }
   ],
   "source": [
    "a = tf.constant(5, name = \"a\")\n",
    "b = tf.constant(4)\n",
    "c = tf.constant(3)\n",
    "\n",
    "d = tf.multiply(a, b)\n",
    "e = tf.add(c, d)\n",
    "f = tf.subtract(d, e)\n",
    "\n",
    "print(\"f: \", session.run(f))\n",
    "print(tf.Graph())\n",
    "print(tf.get_default_graph())\n",
    "print(f.graph)"
   ]
  },
  {
   "cell_type": "code",
   "execution_count": 5,
   "metadata": {},
   "outputs": [
    {
     "data": {
      "text/plain": [
       "(<tf.Tensor 'a:0' shape=() dtype=int32>,\n",
       " <tf.Tensor 'Const_2:0' shape=() dtype=int32>)"
      ]
     },
     "execution_count": 5,
     "metadata": {},
     "output_type": "execute_result"
    }
   ],
   "source": [
    "a, b \n",
    "# The name of the Tensor object is simply the name of its corresponding operation \n",
    "# (concatenated with a colon), followed by the index of that tensor in the outputs of the \n",
    "# operation that produced it —it is possible to have more than one.\n",
    "# Objects residing within the same graph cannot have the same name\n",
    "# As a consequence, it will automatically add an underscore and a number to distinguish the two. \n",
    "# However, both objects can have the same name when they are associated with different graphs"
   ]
  },
  {
   "cell_type": "code",
   "execution_count": 6,
   "metadata": {},
   "outputs": [
    {
     "name": "stdout",
     "output_type": "stream",
     "text": [
      "True\n",
      "False True\n",
      "True\n"
     ]
    }
   ],
   "source": [
    "g1 = tf.get_default_graph()\n",
    "g2 = tf.Graph()\n",
    "print(g1 is tf.get_default_graph())\n",
    "with g2.as_default():\n",
    "    print(g1 is tf.get_default_graph(), g2 is tf.get_default_graph())\n",
    "print(g1 is tf.get_default_graph())"
   ]
  },
  {
   "cell_type": "code",
   "execution_count": 7,
   "metadata": {},
   "outputs": [],
   "source": [
    "g1 = tf.Graph()\n",
    "g2 = tf.Graph()\n",
    "with g1.as_default():\n",
    "    c1 = tf.constant(4.0)\n",
    "\n",
    "with g2.as_default():\n",
    "    c2 = tf.constant(2.0)\n",
    "\n",
    "# c = c1 + c2\n",
    "# session.run(c)"
   ]
  },
  {
   "cell_type": "code",
   "execution_count": 8,
   "metadata": {},
   "outputs": [
    {
     "data": {
      "text/plain": [
       "<tf.Tensor '3/Const:0' shape=() dtype=float32>"
      ]
     },
     "execution_count": 8,
     "metadata": {},
     "output_type": "execute_result"
    }
   ],
   "source": [
    "# Group variable with name scope\n",
    "with tf.name_scope(\"3\"):\n",
    "    c1 = tf.constant(4.0)\n",
    "c1\n",
    "    "
   ]
  },
  {
   "cell_type": "code",
   "execution_count": 9,
   "metadata": {},
   "outputs": [
    {
     "data": {
      "text/plain": [
       "[5, 4, 3, 20, 23, -3]"
      ]
     },
     "execution_count": 9,
     "metadata": {},
     "output_type": "execute_result"
    }
   ],
   "source": [
    "fetchers = [a, b, c, d, e, f]\n",
    "session.run(fetchers)"
   ]
  },
  {
   "cell_type": "code",
   "execution_count": 10,
   "metadata": {},
   "outputs": [
    {
     "data": {
      "text/plain": [
       "<tf.Tensor 'Const_4:0' shape=(2, 3) dtype=int32>"
      ]
     },
     "execution_count": 10,
     "metadata": {},
     "output_type": "execute_result"
    }
   ],
   "source": [
    "c = tf.constant([[1, 2, 3], [4, 5, 6]])\n",
    "c"
   ]
  },
  {
   "cell_type": "code",
   "execution_count": 11,
   "metadata": {},
   "outputs": [
    {
     "data": {
      "text/plain": [
       "<tf.Tensor 'Const_5:0' shape=(2, 3) dtype=int64>"
      ]
     },
     "execution_count": 11,
     "metadata": {},
     "output_type": "execute_result"
    }
   ],
   "source": [
    "c = tf.constant(np.array([[1, 2, 3], [4, 5, 6]]))\n",
    "c"
   ]
  },
  {
   "cell_type": "code",
   "execution_count": 12,
   "metadata": {},
   "outputs": [
    {
     "data": {
      "text/plain": [
       "tf.float64"
      ]
     },
     "execution_count": 12,
     "metadata": {},
     "output_type": "execute_result"
    }
   ],
   "source": [
    "c = tf.constant(4, dtype='float64')\n",
    "c.dtype"
   ]
  },
  {
   "cell_type": "markdown",
   "metadata": {},
   "source": [
    "# Primitive Data Types\n",
    "- DT_FLOAT\ttf.float32\t32 bits floating point.\n",
    "- DT_DOUBLE\ttf.float64\t64 bits floating point.\n",
    "- DT_INT8\ttf.int8\t8 bits signed integer.\n",
    "- DT_INT16\ttf.int16\t16 bits signed integer.\n",
    "- DT_INT32\ttf.int32\t32 bits signed integer.\n",
    "- DT_INT64\ttf.int64\t64 bits signed integer.\n",
    "- DT_UINT8\ttf.uint8\t8 bits unsigned integer.\n",
    "- DT_UINT16\ttf.uint16\t16 bits unsigned integer.\n",
    "- DT_STRING\ttf.string\tVariable length byte arrays. Each element of a Tensor is a byte array.\n",
    "- DT_BOOL\ttf.bool\tBoolean.\n",
    "- DT_COMPLEX64\ttf.complex64\tComplex number made of two 32 bits floating points: real and imaginary parts.\n",
    "- DT_COMPLEX128\ttf.complex128\tComplex number made of two 64 bits floating points: real and imaginary parts.\n",
    "- DT_QINT8\ttf.qint8\t8 bits signed integer used in quantized Ops.\n",
    "- DT_QINT32\ttf.qint32\t32 bits signed integer used in quantized Ops.\n",
    "- DT_QUINT8\ttf.quint8\t8 bits unsigned integer used in quantized Ops.\n",
    "\n"
   ]
  },
  {
   "cell_type": "markdown",
   "metadata": {},
   "source": [
    "### TensorFlow operation\tDescription\n",
    "- tf.constant(value)\tCreates a tensor populated with values of as specified by arguments “value”\n",
    "- tf.fill(shape,value)\tCreates a tensor of shape “shape\" and fills it with “value\" \n",
    "- tf.zeros(shape)\tReturns a tensor of shape “shape” and all elements set to zero\n",
    "- tf.zeros_like(tensor)\tReturns a tensor of the same type and shape as “tensor\" with all elements set to zero\n",
    "- tf.ones(shape)\tReturns a tensor of shape “shape\" and all elements set to 1\n",
    "- tf.ones_like(tensor)\tReturns a tensor of the same type and shape as “tensor\" with all elements set to 1"
   ]
  },
  {
   "cell_type": "code",
   "execution_count": 13,
   "metadata": {},
   "outputs": [
    {
     "data": {
      "text/plain": [
       "array([[ 1.,  1.,  1.],\n",
       "       [ 1.,  1.,  1.],\n",
       "       [ 1.,  1.,  1.],\n",
       "       [ 1.,  1.,  1.]], dtype=float32)"
      ]
     },
     "execution_count": 13,
     "metadata": {},
     "output_type": "execute_result"
    }
   ],
   "source": [
    "c = tf.ones((4, 3))\n",
    "session.run(c)"
   ]
  },
  {
   "cell_type": "code",
   "execution_count": 14,
   "metadata": {},
   "outputs": [
    {
     "data": {
      "text/plain": [
       "array([[1, 1, 1],\n",
       "       [1, 1, 1],\n",
       "       [1, 1, 1],\n",
       "       [1, 1, 1]], dtype=int32)"
      ]
     },
     "execution_count": 14,
     "metadata": {},
     "output_type": "execute_result"
    }
   ],
   "source": [
    "c = tf.fill((4, 3), 1)\n",
    "session.run(c)"
   ]
  },
  {
   "cell_type": "markdown",
   "metadata": {},
   "source": [
    "TensorFlow operation\tDescription\n",
    "- tf.random_normal(shape, mean, stddev)\tOutputs random values from a normal distribution\n",
    "- tf.truncated_normal(shape, mean, stddev)\tOutputs random values from a truncated normal distribution (values whose  magnitude is more than 2 standard deviations from the mean are dropped and re-picked).\n",
    "- tf.random_uniform(shape, minval, maxval)\tGenerated values from a uniform distribution in the range [minval, maxval)\n",
    "- tf.random_shuffle(tensor)\tRandomly shuffles a tensor along its first dimension\n",
    "- tf.random_crop(tensor, shape)\tSlices a shape “shape” portion out of “tensor\" at a uniformly chosen offset\n",
    "- tf.multinomial(logits, n_samples)\tDraws samples from a multinomial distribution\n",
    "- tf.random_gamma(shape,alpha,beta)\tDraws “shape\" samples from each of the given Gamma distribution(s)\n"
   ]
  },
  {
   "cell_type": "code",
   "execution_count": 15,
   "metadata": {},
   "outputs": [
    {
     "data": {
      "text/plain": [
       "array([[ 0.96174979,  0.44918132,  0.51270759],\n",
       "       [ 0.83489168,  0.54734325,  0.80996978],\n",
       "       [ 0.71889913,  0.39656377,  0.95373368],\n",
       "       [ 0.93378425,  0.04777336,  0.07103348]], dtype=float32)"
      ]
     },
     "execution_count": 15,
     "metadata": {},
     "output_type": "execute_result"
    }
   ],
   "source": [
    "c = tf.random_uniform((4, 3), seed=100)\n",
    "session.run(c)"
   ]
  },
  {
   "cell_type": "code",
   "execution_count": 16,
   "metadata": {},
   "outputs": [
    {
     "data": {
      "text/plain": [
       "array([[ 0.026301  , -0.07955144, -0.29859897],\n",
       "       [ 0.17631669, -0.30626023,  0.12118966],\n",
       "       [ 0.14748672, -0.19404596, -0.03731908],\n",
       "       [ 0.08446319,  0.31936881,  0.66740936]], dtype=float32)"
      ]
     },
     "execution_count": 16,
     "metadata": {},
     "output_type": "execute_result"
    }
   ],
   "source": [
    "c = tf.random_normal((4, 3), mean=0, stddev=0.3, seed=100)\n",
    "session.run(c)"
   ]
  },
  {
   "cell_type": "code",
   "execution_count": 17,
   "metadata": {},
   "outputs": [
    {
     "name": "stdout",
     "output_type": "stream",
     "text": [
      "(5,)\n"
     ]
    },
    {
     "data": {
      "text/plain": [
       "(array([ 0.2       ,  0.22500001,  0.25      ,  0.27500001,  0.30000001], dtype=float32),)"
      ]
     },
     "execution_count": 17,
     "metadata": {},
     "output_type": "execute_result"
    }
   ],
   "source": [
    "c = tf.linspace(0.2, 0.3, 5)\n",
    "print(c.get_shape())\n",
    "session.run(c), "
   ]
  },
  {
   "cell_type": "code",
   "execution_count": 18,
   "metadata": {},
   "outputs": [
    {
     "name": "stdout",
     "output_type": "stream",
     "text": [
      "(19,)\n"
     ]
    },
    {
     "data": {
      "text/plain": [
       "array([ 0.40000001,  0.64999998,  0.89999998,  1.14999998,  1.39999998,\n",
       "        1.64999998,  1.89999998,  2.1500001 ,  2.4000001 ,  2.6500001 ,\n",
       "        2.9000001 ,  3.1500001 ,  3.4000001 ,  3.6500001 ,  3.9000001 ,\n",
       "        4.1500001 ,  4.4000001 ,  4.6500001 ,  4.9000001 ], dtype=float32)"
      ]
     },
     "execution_count": 18,
     "metadata": {},
     "output_type": "execute_result"
    }
   ],
   "source": [
    "c = tf.range(0.4, 5.0, 0.25)\n",
    "print(c.get_shape())\n",
    "session.run(c)"
   ]
  },
  {
   "cell_type": "code",
   "execution_count": 19,
   "metadata": {},
   "outputs": [
    {
     "data": {
      "text/plain": [
       "array([[ 0.9999913 ],\n",
       "       [ 0.14483425],\n",
       "       [ 0.99418771],\n",
       "       [ 0.55156505],\n",
       "       [ 0.99135911]], dtype=float32)"
      ]
     },
     "execution_count": 19,
     "metadata": {},
     "output_type": "execute_result"
    }
   ],
   "source": [
    "X = tf.random_normal((5, 10), mean = 0.0, stddev = 1.0, seed = 0)\n",
    "w = tf.random_normal((10, 1), mean = 0.0, stddev = 1.0, seed = 0)\n",
    "b = tf.fill((5, 1), 1.0)\n",
    "s = tf.sigmoid(tf.matmul(X, w) - b)\n",
    "session.run(s)"
   ]
  },
  {
   "cell_type": "markdown",
   "metadata": {},
   "source": [
    "TensorFlow operator\tShortcut\tDescription\n",
    "- tf.add()\ta + b\tAdd a and b, element-wise\n",
    "- tf.mul()\ta * b\tMultiply a and b, element-wise\n",
    "- tf.sub()\ta - b\tSubtract a from b, element-wise\n",
    "- tf.div()\ta / b\tWill perform element-wise integer division when given an integer type tensor, and floatingpoint (“true”) division on floating point tensors\n",
    "- tf.pow()\ta ** b\tThe result of raising each element in a to its corresponding element b, element-wise\n",
    "- tf.mod()\ta % b\tElement-wise modulo\n",
    "- tf.logical_and()\ta & b\tReturns the truth table of a & b, element-wise. dtype must be tf.bool\n",
    "- tf.greater()\ta > b\tReturns the truth table of a > b, element-wise\n",
    "- tf.greater_equal()\ta >= b\tReturns the truth table of a >= b, element-wise\n",
    "- tf.less_equal()\ta <= b\tReturns the truth table of a <= b , element-wise\n",
    "- tf.less()\ta < b\tReturns the truth table of a < b, element-wise\n",
    "- tf.neg()\t-a\tReturns the negative value of each element in a\n",
    "- tf.logical_not()\t~a\tReturns the logical NOT of each element in a. Only compatible with Tensor objectswith dtype of - tf.bool\n",
    "- tf.abs()\tabs(a)\tReturns the absolute value of each element in a\n",
    "- tf.logical_or()\ta | b\tReturns the truth table of a | b, element-wise. dtype must be tf.bool"
   ]
  },
  {
   "cell_type": "markdown",
   "metadata": {},
   "source": [
    "# Variable \n",
    "\n",
    "During the optimization process, tuning the weights of the model by iterative updates requires that their current state be maintained. For that purpose, TensorFlow uses special objects called “Variables”. Variables, unlike other Tensor objects that are “refilled” across calls to run(), can maintain a fixed state in the graph. Like other Tensors, Variables can be used as input for other operations in the graph.\n",
    "\n",
    "Using Variables is done in two stages: (1) we call the tf.Variable() function in order to create a Variable, and define what value it will be initialized with and (2) we then have to explicitly perform an initialization operation by running the session with the tf.initialize_all_variables() method, which allocates the memory for the variable and sets the initial value as defined in (1).\n",
    "\n",
    "Like with other Tensor objects, Variables are only computed when the model runs, as we can see in the following example:\n"
   ]
  },
  {
   "cell_type": "code",
   "execution_count": 20,
   "metadata": {},
   "outputs": [
    {
     "data": {
      "text/plain": [
       "75"
      ]
     },
     "execution_count": 20,
     "metadata": {},
     "output_type": "execute_result"
    }
   ],
   "source": [
    "c = tf.constant(15, name = \"c\")\n",
    "x = tf.Variable(c * 5, name = \"x\")\n",
    "init = tf.global_variables_initializer()\n",
    "session.run(init)\n",
    "session.run(x)"
   ]
  },
  {
   "cell_type": "markdown",
   "metadata": {},
   "source": [
    "# Placeholder\n",
    "\n",
    "TensorFlow has designated built-in structures for feeding input values. These structures are called placeholders. Placeholders can be thought of as empty variables that will be filled with data later on. We use them by first constructing our graph and only when it is executed feed them with the input data.\n",
    "\n",
    "Placeholders have three arguments we are already familiarized with: dtype for the type of data that will be inserted to them and two optional arguments — shape and name. If a shape is not fed, then the placeholder can be fed with data of any size. This is also the same as placing ‘None’ for a shape. We can also place ‘None’ for specific dimensions we are not sure about their length —for example, it is very common to use only for the rows dimension of a matrix, corresponding to the number of samples, while having the length of the columns (features) fixed. We feed the input values when running the session, just after stating what outputs we want to evaluate.\n",
    "\n",
    "Whenever we define a placeholder, we must feed it with some input values or else an exception will be thrown. The input data is given as a dictionary, where each key corresponds to a placeholder variable name, and the matching values are the data values given in the form of a list or a numpy array.\n"
   ]
  },
  {
   "cell_type": "code",
   "execution_count": 21,
   "metadata": {},
   "outputs": [
    {
     "data": {
      "text/plain": [
       "array([[ 0.14004149],\n",
       "       [ 0.65154004],\n",
       "       [ 0.44611546],\n",
       "       [ 0.89687163],\n",
       "       [ 0.64056766]], dtype=float32)"
      ]
     },
     "execution_count": 21,
     "metadata": {},
     "output_type": "execute_result"
    }
   ],
   "source": [
    "X_data = np.random.randn(5, 10)\n",
    "w_data = np.random.randn(10, 1)\n",
    "\n",
    "X = tf.placeholder(\"float32\", shape=(5, 10))\n",
    "w = tf.placeholder(\"float32\", shape=(10, 1))\n",
    "b = tf.fill((5, 1), - 1.0)\n",
    "s = tf.sigmoid(tf.matmul(X, w) + b)\n",
    "\n",
    "session.run(s, feed_dict={X: X_data, w: w_data})"
   ]
  },
  {
   "cell_type": "code",
   "execution_count": 22,
   "metadata": {},
   "outputs": [
    {
     "data": {
      "text/plain": [
       "6.4000001"
      ]
     },
     "execution_count": 22,
     "metadata": {},
     "output_type": "execute_result"
    }
   ],
   "source": [
    "r = tf.constant([3, 4, 5, 9, 11], dtype=\"float32\")\n",
    "mean = tf.reduce_mean(r)\n",
    "session.run(mean)"
   ]
  },
  {
   "cell_type": "markdown",
   "metadata": {},
   "source": [
    "# Checkpoint a tensorflow session"
   ]
  },
  {
   "cell_type": "code",
   "execution_count": 23,
   "metadata": {},
   "outputs": [
    {
     "name": "stdout",
     "output_type": "stream",
     "text": [
      "4.0\n"
     ]
    }
   ],
   "source": [
    "tf.reset_default_graph()\n",
    "\n",
    "with tf.Session() as sess:\n",
    "    W = tf.Variable(3.0, dtype=tf.float32, name = \"W\")\n",
    "    W = W.assign(W+1)\n",
    "    sess.run(tf.global_variables_initializer())\n",
    "    print(sess.run(W))\n",
    "    saver = tf.train.Saver()\n",
    "    saver.save(sess, \"/tmp/1/model.ckpt\")"
   ]
  },
  {
   "cell_type": "markdown",
   "metadata": {},
   "source": [
    "# Restoring a tensorflow session"
   ]
  },
  {
   "cell_type": "code",
   "execution_count": 24,
   "metadata": {},
   "outputs": [
    {
     "name": "stdout",
     "output_type": "stream",
     "text": [
      "INFO:tensorflow:Restoring parameters from /tmp/1/model.ckpt\n",
      "4.0\n"
     ]
    }
   ],
   "source": [
    "import tensorflow as tf\n",
    "tf.reset_default_graph()\n",
    "W1 = tf.Variable(3.0, dtype=tf.float32, name = \"W\")\n",
    "\n",
    "with tf.Session() as sess:\n",
    "    saver = tf.train.Saver()\n",
    "    saver.restore(sess, \"/tmp/1/model.ckpt\")\n",
    "    print(sess.run(W1))"
   ]
  },
  {
   "cell_type": "code",
   "execution_count": 25,
   "metadata": {},
   "outputs": [],
   "source": [
    "import requests\n",
    "url = \"https://raw.githubusercontent.com/abulbasar/machine-learning/master/Utils.py\"\n",
    "exec(requests.get(url).text)"
   ]
  },
  {
   "cell_type": "markdown",
   "metadata": {},
   "source": [
    "# Linear rergession using gradient descent"
   ]
  },
  {
   "cell_type": "markdown",
   "metadata": {},
   "source": [
    "Load and normalize data"
   ]
  },
  {
   "cell_type": "code",
   "execution_count": 26,
   "metadata": {},
   "outputs": [
    {
     "name": "stdout",
     "output_type": "stream",
     "text": [
      "<class 'pandas.core.frame.DataFrame'>\n",
      "RangeIndex: 47840 entries, 0 to 47839\n",
      "Data columns (total 5 columns):\n",
      "AT    47840 non-null float64\n",
      "V     47840 non-null float64\n",
      "AP    47840 non-null float64\n",
      "RH    47840 non-null float64\n",
      "PE    47840 non-null float64\n",
      "dtypes: float64(5)\n",
      "memory usage: 1.8 MB\n",
      "(47840, 4) (47840, 1)\n",
      "Feature length of X:  4\n",
      "\n",
      "interccept: [ 454.37213863] \n",
      "coeff [[-14.72100201  -2.96715877   0.38164171  -2.30170909]] \n",
      "mse:  20.8765288801\n"
     ]
    }
   ],
   "source": [
    "dataset = pd.read_csv(\"/data/Combined_Cycle_Power_Plant.csv\")\n",
    "\n",
    "dataset.info()\n",
    "X_data = dataset.iloc[:, :-1].values\n",
    "X_data = preprocessing.StandardScaler().fit_transform(X_data)\n",
    "y_data = dataset.iloc[:, -1].values.reshape(-1, 1)\n",
    "print(X_data.shape, y_data.shape)\n",
    "\n",
    "n_x = X_data.shape[1]\n",
    "print(\"Feature length of X: \", n_x)\n",
    "\n",
    "X_train, X_test, y_train, y_test = model_selection.train_test_split(X_data, y_data, \n",
    "                                                test_size = 0.3, random_state = 1) \n",
    "\n",
    "lr = linear_model.LinearRegression()\n",
    "lr.fit(X_train, y_train)\n",
    "print(\"\\ninterccept:\", lr.intercept_, \n",
    "      \"\\ncoeff\", lr.coef_, \n",
    "      \"\\nmse: \", metrics.mean_squared_error(y_test, lr.predict(X_test)))\n"
   ]
  },
  {
   "cell_type": "code",
   "execution_count": 27,
   "metadata": {
    "scrolled": false
   },
   "outputs": [
    {
     "name": "stdout",
     "output_type": "stream",
     "text": [
      "y_pred Tensor(\"add:0\", shape=(?, 1), dtype=float32)\n",
      "b''\n",
      "0 206804.0\n",
      "10 2407.07\n",
      "20 52.4476\n",
      "30 23.8589\n",
      "40 22.5827\n",
      "50 21.9453\n",
      "60 21.5283\n",
      "70 21.254\n",
      "80 21.0735\n",
      "90 20.9547\n",
      "99 20.883\n",
      "Intercept and coeff:\n",
      " [454.37277, array([[-13.79441547],\n",
      "       [ -3.65390396],\n",
      "       [  0.55537987],\n",
      "       [ -2.00005341]], dtype=float32)]\n"
     ]
    },
    {
     "data": {
      "image/png": "[encoded data removed]",
      "text/plain": [
       "<matplotlib.figure.Figure at 0x1a204da048>"
      ]
     },
     "metadata": {},
     "output_type": "display_data"
    }
   ],
   "source": [
    "max_iters = 100\n",
    "\n",
    "tf.reset_default_graph()\n",
    "\n",
    "X = tf.placeholder(tf.float32, shape=[None, n_x], name=\"X\")\n",
    "y = tf.placeholder(tf.float32, shape=[None, 1], name = \"y\")\n",
    "\n",
    "W = tf.Variable(tf.truncated_normal([n_x, 1], stddev=0.1, seed = 1), name = \"W\")\n",
    "b = tf.Variable(0.0, dtype=tf.float32, name=\"b\")\n",
    "y_pred = tf.matmul(X, W) + b\n",
    "print(\"y_pred\", y_pred)\n",
    "\n",
    "mse = tf.reduce_mean(tf.square(y - y_pred))\n",
    "\n",
    "tf.summary.scalar(\"cost\", mse)\n",
    "tf.summary.tensor_summary(\"W\", W)\n",
    "\n",
    "optimizer = tf.train.GradientDescentOptimizer(learning_rate = 0.1).minimize(mse)\n",
    "\n",
    "summary = tf.summary.merge_all()\n",
    "\n",
    "\n",
    "with tf.Session() as session:\n",
    "    print(session.sess_str)\n",
    "    scores = {}\n",
    "    tf.global_variables_initializer().run()\n",
    "    writer = tf.summary.FileWriter(\"/tmp/tf/logs/1\", session.graph)\n",
    "    \n",
    "    epochs, costs = 200, []\n",
    "    for i in range(max_iters):\n",
    "        _, mse_,summary_ = session.run([optimizer, mse, summary], feed_dict = {X: X_train, y: y_train})\n",
    "        scores[i] = mse_\n",
    "        writer.add_summary(summary_, i)\n",
    "        if i % (max_iters // 10) == 0 or i == max_iters - 1:\n",
    "            print(i, mse_)\n",
    "    print(\"Intercept and coeff:\\n\", session.run([b, W]))\n",
    "\n",
    "    plot_scores(scores)\n",
    "    writer.close()\n",
    "    "
   ]
  },
  {
   "cell_type": "markdown",
   "metadata": {},
   "source": [
    "# Launch tensorboard\n",
    "\n",
    "Run the following command\n",
    "$ tensorboard --logdir=/tmp/tf/logs/1"
   ]
  },
  {
   "cell_type": "code",
   "execution_count": null,
   "metadata": {},
   "outputs": [],
   "source": []
  }
 ],
 "metadata": {
  "kernelspec": {
   "display_name": "Python 3",
   "language": "python",
   "name": "python3"
  },
  "language_info": {
   "codemirror_mode": {
    "name": "ipython",
    "version": 3
   },
   "file_extension": ".py",
   "mimetype": "text/x-python",
   "name": "python",
   "nbconvert_exporter": "python",
   "pygments_lexer": "ipython3",
   "version": "3.6.3"
  }
 },
 "nbformat": 4,
 "nbformat_minor": 2
}
