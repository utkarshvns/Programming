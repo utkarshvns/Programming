{
 "cells": [
  {
   "cell_type": "code",
   "execution_count": 2,
   "metadata": {},
   "outputs": [],
   "source": [
    "import numpy as np\n",
    "import matplotlib.pyplot as plt\n",
    "%matplotlib inline"
   ]
  },
  {
   "cell_type": "code",
   "execution_count": 3,
   "metadata": {},
   "outputs": [
    {
     "data": {
      "text/plain": [
       "array([ 0,  1,  2,  3,  4,  5,  6,  7,  8,  9, 10, 11, 12, 13, 14, 15, 16,\n",
       "       17, 18, 19, 20, 21, 22, 23, 24, 25, 26, 27, 28, 29, 30, 31, 32, 33,\n",
       "       34, 35, 36, 37, 38, 39, 40, 41, 42, 43, 44, 45, 46, 47, 48, 49])"
      ]
     },
     "execution_count": 3,
     "metadata": {},
     "output_type": "execute_result"
    }
   ],
   "source": [
    "np.arange(50)"
   ]
  },
  {
   "cell_type": "code",
   "execution_count": 4,
   "metadata": {},
   "outputs": [],
   "source": [
    "data ={'a': np.arange(50),\n",
    "        'c': np.random.randint(0, 50, 50),\n",
    "        'd': np.random.randn(50)}"
   ]
  },
  {
   "cell_type": "code",
   "execution_count": 5,
   "metadata": {},
   "outputs": [
    {
     "data": {
      "text/plain": [
       "{'a': array([ 0,  1,  2,  3,  4,  5,  6,  7,  8,  9, 10, 11, 12, 13, 14, 15, 16,\n",
       "        17, 18, 19, 20, 21, 22, 23, 24, 25, 26, 27, 28, 29, 30, 31, 32, 33,\n",
       "        34, 35, 36, 37, 38, 39, 40, 41, 42, 43, 44, 45, 46, 47, 48, 49]),\n",
       " 'c': array([46, 40, 38, 47, 33, 24, 13, 37, 12, 43, 35, 20, 48, 12, 48, 49, 40,\n",
       "        48, 49, 46, 21, 33,  1, 44, 44, 23, 29, 26,  9, 31, 44, 23, 29, 42,\n",
       "        37, 41, 18, 17, 19,  9, 33,  6, 46, 16,  1,  8, 19, 31, 21,  5]),\n",
       " 'd': array([-0.70846632, -1.58818058,  0.733172  , -0.23646813, -0.09256156,\n",
       "        -0.51624601, -0.84355884, -0.19661892, -0.56038018,  1.40389716,\n",
       "        -1.04028046,  0.13532693,  0.37209296,  0.6271836 ,  1.1166679 ,\n",
       "         0.74944725, -1.43587898, -1.78859888, -0.61766111, -0.05560257,\n",
       "         0.7168698 ,  0.10502469, -1.16047073,  0.65262188, -0.44394173,\n",
       "         0.73114237, -0.80797527,  0.54147108, -0.91832169, -1.94999305,\n",
       "         1.40710774, -0.45851178,  1.02811184,  0.3691195 ,  2.73639712,\n",
       "         0.64753742, -0.28465159,  0.48262823, -0.40483539,  1.74613516,\n",
       "         0.2783704 ,  0.96271035, -0.81303033, -0.62678633,  0.16685509,\n",
       "        -1.0044117 , -1.30375945, -1.64002695,  0.11344554,  1.16462192])}"
      ]
     },
     "execution_count": 5,
     "metadata": {},
     "output_type": "execute_result"
    }
   ],
   "source": [
    "data"
   ]
  },
  {
   "cell_type": "code",
   "execution_count": 7,
   "metadata": {},
   "outputs": [],
   "source": [
    "names = ['group_a', 'group_b', 'group_c']\n",
    "values = [1, 10, 100]"
   ]
  },
  {
   "cell_type": "code",
   "execution_count": 8,
   "metadata": {},
   "outputs": [
    {
     "data": {
      "text/plain": [
       "<BarContainer object of 3 artists>"
      ]
     },
     "execution_count": 8,
     "metadata": {},
     "output_type": "execute_result"
    },
    {
     "data": {
      "image/png": "[encoded data removed]",
      "text/plain": [
       "<Figure size 432x288 with 1 Axes>"
      ]
     },
     "metadata": {
      "needs_background": "light"
     },
     "output_type": "display_data"
    }
   ],
   "source": [
    "plt.bar(names,values)"
   ]
  },
  {
   "cell_type": "code",
   "execution_count": 9,
   "metadata": {},
   "outputs": [],
   "source": [
    "def f(t):\n",
    "    return np.exp(-t) * np.cos(2*np.pi*t)\n",
    "\n",
    "t1 = np.arange(0.0, 5.0, 0.2)\n",
    "t2 = np.arange(0.0, 5.0, 0.02)"
   ]
  },
  {
   "cell_type": "code",
   "execution_count": 18,
   "metadata": {},
   "outputs": [
    {
     "data": {
      "text/plain": [
       "[<matplotlib.lines.Line2D at 0x25855105370>,\n",
       " <matplotlib.lines.Line2D at 0x258551053a0>]"
      ]
     },
     "execution_count": 18,
     "metadata": {},
     "output_type": "execute_result"
    },
    {
     "data": {
      "image/png": "[encoded data removed]",
      "text/plain": [
       "<Figure size 432x288 with 1 Axes>"
      ]
     },
     "metadata": {
      "needs_background": "light"
     },
     "output_type": "display_data"
    }
   ],
   "source": [
    "plt.plot(t1, f(t1), 'bo', t2, f(t2), 'k')"
   ]
  },
  {
   "cell_type": "code",
   "execution_count": 54,
   "metadata": {},
   "outputs": [
    {
     "name": "stdout",
     "output_type": "stream",
     "text": [
      "(10000,)\n"
     ]
    },
    {
     "data": {
      "image/png": "[encoded data removed]",
      "text/plain": [
       "<Figure size 432x288 with 1 Axes>"
      ]
     },
     "metadata": {
      "needs_background": "light"
     },
     "output_type": "display_data"
    }
   ],
   "source": [
    "mu, sigma = 100, 15\n",
    "x = mu + sigma * np.random.randn(10000)\n",
    "\n",
    "print(x.shape)\n",
    "\n",
    "#print(min(np.random.randn(10000)))\n",
    "# the histogram of the data\n",
    "n, bins, patches = plt.hist(x, 10, density=1, facecolor='r', alpha=.7)\n",
    "plt.text(50, .025, r'$\\mu=100,\\ \\sigma=15$')\n",
    "plt.axis([40, 160, 0, 0.03])\n",
    "\n",
    "plt.grid(True)"
   ]
  },
  {
   "cell_type": "code",
   "execution_count": 59,
   "metadata": {},
   "outputs": [],
   "source": [
    "import numpy as np\n",
    "X = np.random.randn(100000)\n",
    "p = sum(X > 0)/len(X)"
   ]
  },
  {
   "cell_type": "code",
   "execution_count": 60,
   "metadata": {},
   "outputs": [
    {
     "data": {
      "text/plain": [
       "0.50209"
      ]
     },
     "execution_count": 60,
     "metadata": {},
     "output_type": "execute_result"
    }
   ],
   "source": [
    "p"
   ]
  },
  {
   "cell_type": "code",
   "execution_count": 61,
   "metadata": {},
   "outputs": [],
   "source": [
    "A = np.array([[1,2],[3,4]])"
   ]
  },
  {
   "cell_type": "code",
   "execution_count": 62,
   "metadata": {},
   "outputs": [
    {
     "data": {
      "text/plain": [
       "array([[1, 2],\n",
       "       [3, 4]])"
      ]
     },
     "execution_count": 62,
     "metadata": {},
     "output_type": "execute_result"
    }
   ],
   "source": [
    "A"
   ]
  },
  {
   "cell_type": "code",
   "execution_count": 63,
   "metadata": {},
   "outputs": [
    {
     "data": {
      "text/plain": [
       "array([[1, 3],\n",
       "       [2, 4]])"
      ]
     },
     "execution_count": 63,
     "metadata": {},
     "output_type": "execute_result"
    }
   ],
   "source": [
    "np.transpose(A)"
   ]
  },
  {
   "cell_type": "code",
   "execution_count": 64,
   "metadata": {},
   "outputs": [
    {
     "name": "stdout",
     "output_type": "stream",
     "text": [
      "[[ 9 16 21]\n",
      " [24 25 24]\n",
      " [21 16  9]]\n"
     ]
    }
   ],
   "source": [
    "A = np.array([[1,2,3],[4,5,6],[7,8,9]])\n",
    "B = np.array([[9,8,7],[6,5,4],[3,2,1]])\n",
    "print(A * B)"
   ]
  },
  {
   "cell_type": "code",
   "execution_count": 65,
   "metadata": {},
   "outputs": [
    {
     "name": "stdout",
     "output_type": "stream",
     "text": [
      "[[0 0 0]\n",
      " [0 5 6]\n",
      " [7 8 9]]\n"
     ]
    }
   ],
   "source": [
    "A = np.array([[1,2,3],[4,5,6],[7,8,9]])\n",
    "B = np.array([[9,8,7],[6,5,4],[3,2,1]])\n",
    "M = A >= B\n",
    "print(M * A)"
   ]
  },
  {
   "cell_type": "markdown",
   "metadata": {},
   "source": [
    "-------------"
   ]
  },
  {
   "cell_type": "markdown",
   "metadata": {},
   "source": [
    "# Random Projection"
   ]
  },
  {
   "cell_type": "code",
   "execution_count": 66,
   "metadata": {},
   "outputs": [],
   "source": [
    "import numpy as np\n",
    "import pandas as pd\n"
   ]
  },
  {
   "cell_type": "code",
   "execution_count": 68,
   "metadata": {},
   "outputs": [],
   "source": [
    "ratings = pd.read_csv(\"C:\\\\Users\\\\utkar\\\\Desktop\\\\Python\\\\CDS\\\\data\\\\ml-latest-small\\\\ratings.csv\")"
   ]
  },
  {
   "cell_type": "code",
   "execution_count": 69,
   "metadata": {},
   "outputs": [
    {
     "data": {
      "text/html": [
       "<div>\n",
       "<style scoped>\n",
       "    .dataframe tbody tr th:only-of-type {\n",
       "        vertical-align: middle;\n",
       "    }\n",
       "\n",
       "    .dataframe tbody tr th {\n",
       "        vertical-align: top;\n",
       "    }\n",
       "\n",
       "    .dataframe thead th {\n",
       "        text-align: right;\n",
       "    }\n",
       "</style>\n",
       "<table border=\"1\" class=\"dataframe\">\n",
       "  <thead>\n",
       "    <tr style=\"text-align: right;\">\n",
       "      <th></th>\n",
       "      <th>userId</th>\n",
       "      <th>movieId</th>\n",
       "      <th>rating</th>\n",
       "      <th>timestamp</th>\n",
       "    </tr>\n",
       "  </thead>\n",
       "  <tbody>\n",
       "    <tr>\n",
       "      <th>0</th>\n",
       "      <td>1</td>\n",
       "      <td>1</td>\n",
       "      <td>4.0</td>\n",
       "      <td>964982703</td>\n",
       "    </tr>\n",
       "    <tr>\n",
       "      <th>1</th>\n",
       "      <td>1</td>\n",
       "      <td>3</td>\n",
       "      <td>4.0</td>\n",
       "      <td>964981247</td>\n",
       "    </tr>\n",
       "    <tr>\n",
       "      <th>2</th>\n",
       "      <td>1</td>\n",
       "      <td>6</td>\n",
       "      <td>4.0</td>\n",
       "      <td>964982224</td>\n",
       "    </tr>\n",
       "    <tr>\n",
       "      <th>3</th>\n",
       "      <td>1</td>\n",
       "      <td>47</td>\n",
       "      <td>5.0</td>\n",
       "      <td>964983815</td>\n",
       "    </tr>\n",
       "    <tr>\n",
       "      <th>4</th>\n",
       "      <td>1</td>\n",
       "      <td>50</td>\n",
       "      <td>5.0</td>\n",
       "      <td>964982931</td>\n",
       "    </tr>\n",
       "    <tr>\n",
       "      <th>...</th>\n",
       "      <td>...</td>\n",
       "      <td>...</td>\n",
       "      <td>...</td>\n",
       "      <td>...</td>\n",
       "    </tr>\n",
       "    <tr>\n",
       "      <th>100831</th>\n",
       "      <td>610</td>\n",
       "      <td>166534</td>\n",
       "      <td>4.0</td>\n",
       "      <td>1493848402</td>\n",
       "    </tr>\n",
       "    <tr>\n",
       "      <th>100832</th>\n",
       "      <td>610</td>\n",
       "      <td>168248</td>\n",
       "      <td>5.0</td>\n",
       "      <td>1493850091</td>\n",
       "    </tr>\n",
       "    <tr>\n",
       "      <th>100833</th>\n",
       "      <td>610</td>\n",
       "      <td>168250</td>\n",
       "      <td>5.0</td>\n",
       "      <td>1494273047</td>\n",
       "    </tr>\n",
       "    <tr>\n",
       "      <th>100834</th>\n",
       "      <td>610</td>\n",
       "      <td>168252</td>\n",
       "      <td>5.0</td>\n",
       "      <td>1493846352</td>\n",
       "    </tr>\n",
       "    <tr>\n",
       "      <th>100835</th>\n",
       "      <td>610</td>\n",
       "      <td>170875</td>\n",
       "      <td>3.0</td>\n",
       "      <td>1493846415</td>\n",
       "    </tr>\n",
       "  </tbody>\n",
       "</table>\n",
       "<p>100836 rows × 4 columns</p>\n",
       "</div>"
      ],
      "text/plain": [
       "        userId  movieId  rating   timestamp\n",
       "0            1        1     4.0   964982703\n",
       "1            1        3     4.0   964981247\n",
       "2            1        6     4.0   964982224\n",
       "3            1       47     5.0   964983815\n",
       "4            1       50     5.0   964982931\n",
       "...        ...      ...     ...         ...\n",
       "100831     610   166534     4.0  1493848402\n",
       "100832     610   168248     5.0  1493850091\n",
       "100833     610   168250     5.0  1494273047\n",
       "100834     610   168252     5.0  1493846352\n",
       "100835     610   170875     3.0  1493846415\n",
       "\n",
       "[100836 rows x 4 columns]"
      ]
     },
     "execution_count": 69,
     "metadata": {},
     "output_type": "execute_result"
    }
   ],
   "source": [
    "ratings"
   ]
  },
  {
   "cell_type": "code",
   "execution_count": 70,
   "metadata": {},
   "outputs": [],
   "source": [
    "from scipy.sparse import csr_matrix"
   ]
  },
  {
   "cell_type": "code",
   "execution_count": 71,
   "metadata": {},
   "outputs": [],
   "source": [
    "ii = np.array([1,2,1,2,4])\n",
    "jj = np.array([1,1,2,3,3])\n",
    "vv = np.array([1,1,2,3,2])\n",
    "\n",
    "\n",
    "R2 = csr_matrix((vv, (ii,jj)))"
   ]
  },
  {
   "cell_type": "code",
   "execution_count": 73,
   "metadata": {},
   "outputs": [
    {
     "name": "stdout",
     "output_type": "stream",
     "text": [
      "  (1, 1)\t1\n",
      "  (1, 2)\t2\n",
      "  (2, 1)\t1\n",
      "  (2, 3)\t3\n",
      "  (4, 3)\t2\n"
     ]
    }
   ],
   "source": [
    "print(R2)"
   ]
  },
  {
   "cell_type": "code",
   "execution_count": 76,
   "metadata": {},
   "outputs": [
    {
     "name": "stdout",
     "output_type": "stream",
     "text": [
      "[[0 0 0 0]\n",
      " [0 1 2 0]\n",
      " [0 1 0 3]\n",
      " [0 0 0 0]\n",
      " [0 0 0 2]]\n"
     ]
    }
   ],
   "source": [
    "print(R2.todense())"
   ]
  },
  {
   "cell_type": "code",
   "execution_count": 89,
   "metadata": {},
   "outputs": [
    {
     "name": "stdout",
     "output_type": "stream",
     "text": [
      "[  1   1   1 ... 610 610 610]\n",
      "[     1      3      6 ... 168250 168252 170875]\n",
      "[4. 4. 4. ... 5. 5. 3.]\n"
     ]
    }
   ],
   "source": [
    "users = ratings[\"userId\"].values.astype(int)\n",
    "movies = ratings[\"movieId\"].values.astype(int)\n",
    "vals = ratings[\"rating\"].values\n",
    "print(users)\n",
    "print(movies)\n",
    "print(vals)"
   ]
  },
  {
   "cell_type": "code",
   "execution_count": 91,
   "metadata": {},
   "outputs": [],
   "source": [
    "R = csr_matrix((vals, (users-1,movies-1)))"
   ]
  },
  {
   "cell_type": "code",
   "execution_count": 105,
   "metadata": {},
   "outputs": [
    {
     "name": "stdout",
     "output_type": "stream",
     "text": [
      "  (0, 0)\t4.0\n",
      "  (0, 2)\t4.0\n",
      "  (0, 5)\t4.0\n",
      "  (0, 46)\t5.0\n",
      "  (0, 49)\t5.0\n",
      "  (0, 69)\t3.0\n",
      "  (0, 100)\t5.0\n",
      "  (0, 109)\t4.0\n",
      "  (0, 150)\t5.0\n",
      "  (0, 156)\t5.0\n",
      "  (0, 162)\t5.0\n",
      "  (0, 215)\t5.0\n",
      "  (0, 222)\t3.0\n",
      "  (0, 230)\t5.0\n",
      "  (0, 234)\t4.0\n",
      "  (0, 259)\t5.0\n",
      "  (0, 295)\t3.0\n",
      "  (0, 315)\t3.0\n",
      "  (0, 332)\t5.0\n",
      "  (0, 348)\t4.0\n",
      "  (0, 355)\t4.0\n",
      "  (0, 361)\t5.0\n",
      "  (0, 366)\t4.0\n",
      "  (0, 422)\t3.0\n",
      "  (0, 440)\t4.0\n",
      "  :\t:\n",
      "  (609, 156370)\t5.0\n",
      "  (609, 156725)\t4.5\n",
      "  (609, 157295)\t4.0\n",
      "  (609, 158237)\t5.0\n",
      "  (609, 158720)\t3.5\n",
      "  (609, 158871)\t3.5\n",
      "  (609, 158955)\t3.0\n",
      "  (609, 159092)\t3.0\n",
      "  (609, 160079)\t3.0\n",
      "  (609, 160340)\t2.5\n",
      "  (609, 160526)\t4.5\n",
      "  (609, 160570)\t3.0\n",
      "  (609, 160835)\t3.0\n",
      "  (609, 161581)\t4.0\n",
      "  (609, 161633)\t4.0\n",
      "  (609, 162349)\t3.5\n",
      "  (609, 163936)\t3.5\n",
      "  (609, 163980)\t3.5\n",
      "  (609, 164178)\t5.0\n",
      "  (609, 166527)\t4.0\n",
      "  (609, 166533)\t4.0\n",
      "  (609, 168247)\t5.0\n",
      "  (609, 168249)\t5.0\n",
      "  (609, 168251)\t5.0\n",
      "  (609, 170874)\t3.0\n"
     ]
    }
   ],
   "source": [
    "print(R)"
   ]
  },
  {
   "cell_type": "code",
   "execution_count": 95,
   "metadata": {},
   "outputs": [
    {
     "data": {
      "text/plain": [
       "(610, 193609)"
      ]
     },
     "execution_count": 95,
     "metadata": {},
     "output_type": "execute_result"
    }
   ],
   "source": [
    "R.shape"
   ]
  },
  {
   "cell_type": "code",
   "execution_count": 94,
   "metadata": {},
   "outputs": [
    {
     "name": "stdout",
     "output_type": "stream",
     "text": [
      "The data has 610 items with 193609 dimensions (users).\n"
     ]
    }
   ],
   "source": [
    "print(\"The data has %d items with %d dimensions (users).\" %(R.shape[0], R.shape[1]))"
   ]
  },
  {
   "cell_type": "code",
   "execution_count": 97,
   "metadata": {},
   "outputs": [],
   "source": [
    "from sklearn.random_projection import johnson_lindenstrauss_min_dim\n",
    "from sklearn import random_projection"
   ]
  },
  {
   "cell_type": "code",
   "execution_count": 107,
   "metadata": {},
   "outputs": [
    {
     "name": "stdout",
     "output_type": "stream",
     "text": [
      "Minimum #of dimensions for epsilon = 0.100000 is 5497.\n",
      "Minimum #of dimensions for epsilon = 0.150000 is 2533.\n",
      "Minimum #of dimensions for epsilon = 0.200000 is 1480.\n",
      "Minimum #of dimensions for epsilon = 0.250000 is 985.\n",
      "Minimum #of dimensions for epsilon = 0.300000 is 712.\n",
      "Minimum #of dimensions for epsilon = 0.400000 is 437.\n"
     ]
    }
   ],
   "source": [
    "for ep in [0.1, 0.15, 0.2, 0.25, 0.3, 0.4]:\n",
    "    min_dim = johnson_lindenstrauss_min_dim(n_samples=R.shape[0], eps=ep)\n",
    "    print(\"Minimum #of dimensions for epsilon = %f is %d.\" %(ep, min_dim))"
   ]
  },
  {
   "cell_type": "code",
   "execution_count": 108,
   "metadata": {
    "scrolled": false
   },
   "outputs": [
    {
     "name": "stdout",
     "output_type": "stream",
     "text": [
      "(610, 5497)\n",
      "  (0, 5162)\t1.4146158548844414\n",
      "  (0, 4450)\t-1.4146158548844414\n",
      "  (0, 4449)\t1.4146158548844414\n",
      "  (0, 4019)\t-1.4146158548844414\n",
      "  (0, 3960)\t1.4146158548844414\n",
      "  (0, 3317)\t-1.4146158548844414\n",
      "  (0, 2975)\t1.4146158548844414\n",
      "  (0, 1619)\t1.4146158548844414\n",
      "  (0, 572)\t1.4146158548844414\n",
      "  (0, 69)\t1.4146158548844414\n",
      "  (0, 5398)\t1.1316926839075532\n",
      "  (0, 4913)\t1.1316926839075532\n",
      "  (0, 4371)\t1.1316926839075532\n",
      "  (0, 3377)\t1.1316926839075532\n",
      "  (0, 2792)\t1.1316926839075532\n",
      "  (0, 1926)\t-1.1316926839075532\n",
      "  (0, 1753)\t1.1316926839075532\n",
      "  (0, 1401)\t-1.1316926839075532\n",
      "  (0, 1296)\t-1.1316926839075532\n",
      "  (0, 817)\t-1.1316926839075532\n",
      "  (0, 779)\t1.1316926839075532\n",
      "  (0, 478)\t1.1316926839075532\n",
      "  (0, 343)\t-1.1316926839075532\n",
      "  (0, 3116)\t1.1316926839075532\n",
      "  (0, 2968)\t-1.1316926839075532\n",
      "  :\t:\n",
      "  (609, 1564)\t-0.141461585488444\n",
      "  (609, 1178)\t4.385309150141769\n",
      "  (609, 5379)\t-3.960924393676436\n",
      "  (609, 4772)\t0.4243847564653326\n",
      "  (609, 4761)\t0.28292317097688824\n",
      "  (609, 4581)\t-2.546308538791995\n",
      "  (609, 3161)\t1.4146158548844414\n",
      "  (609, 2977)\t0.990231098419109\n",
      "  (609, 2787)\t1.8390006113497737\n",
      "  (609, 2644)\t0.14146158548844423\n",
      "  (609, 2529)\t4.243847564653324\n",
      "  (609, 2524)\t-2.546308538791995\n",
      "  (609, 1394)\t-0.990231098419109\n",
      "  (609, 1194)\t1.4146158548844414\n",
      "  (609, 5442)\t-0.8487695129306647\n",
      "  (609, 4892)\t-0.8487695129306648\n",
      "  (609, 3745)\t-1.5560774403728859\n",
      "  (609, 3539)\t-3.253616466234215\n",
      "  (609, 3445)\t-4.243847564653325\n",
      "  (609, 2896)\t3.3950780517226593\n",
      "  (609, 2780)\t1.8390006113497739\n",
      "  (609, 1474)\t-1.131692683907553\n",
      "  (609, 959)\t3.6780012226995478\n",
      "  (609, 855)\t2.4048469533035504\n",
      "  (609, 180)\t-2.546308538791995\n"
     ]
    }
   ],
   "source": [
    "transformer = random_projection.SparseRandomProjection(eps=0.1)\n",
    "RP = transformer.fit_transform(R)\n",
    "print(RP.shape)\n",
    "print(RP)"
   ]
  },
  {
   "cell_type": "code",
   "execution_count": 223,
   "metadata": {},
   "outputs": [
    {
     "data": {
      "text/plain": [
       "array([[29, 18, 56,  8, 89],\n",
       "       [54, 16, 81, 62, 51],\n",
       "       [14,  7, 24, 88, 75]])"
      ]
     },
     "execution_count": 223,
     "metadata": {},
     "output_type": "execute_result"
    }
   ],
   "source": [
    "np.random.randint(100,size=(3,5))"
   ]
  },
  {
   "cell_type": "code",
   "execution_count": 224,
   "metadata": {},
   "outputs": [
    {
     "name": "stdout",
     "output_type": "stream",
     "text": [
      "[[470 530]\n",
      " [464 213]\n",
      " [608 293]\n",
      " ...\n",
      " [578 106]\n",
      " [176 511]\n",
      " [242 194]]\n"
     ]
    }
   ],
   "source": [
    "n = 2000\n",
    "\n",
    "randpairs = np.random.randint(R.shape[0],size=(n,2))\n",
    "print(randpairs)"
   ]
  },
  {
   "cell_type": "code",
   "execution_count": 219,
   "metadata": {},
   "outputs": [
    {
     "name": "stdout",
     "output_type": "stream",
     "text": [
      "1.4142135623730951\n"
     ]
    }
   ],
   "source": [
    "def dist(v1, v2):\n",
    "    return np.linalg.norm(v1-v2)\n",
    "\n",
    "v1 = np.array([1,1])\n",
    "v2 = np.array([0,2])\n",
    "\n",
    "print(dist(v1,v2))"
   ]
  },
  {
   "cell_type": "code",
   "execution_count": 226,
   "metadata": {},
   "outputs": [
    {
     "data": {
      "text/plain": [
       "(1, 193609)"
      ]
     },
     "execution_count": 226,
     "metadata": {},
     "output_type": "execute_result"
    }
   ],
   "source": [
    "R[470].todense().shape"
   ]
  },
  {
   "cell_type": "code",
   "execution_count": 227,
   "metadata": {},
   "outputs": [
    {
     "data": {
      "text/plain": [
       "(1, 5497)"
      ]
     },
     "execution_count": 227,
     "metadata": {},
     "output_type": "execute_result"
    }
   ],
   "source": [
    "RP[470].todense().shape"
   ]
  },
  {
   "cell_type": "code",
   "execution_count": 220,
   "metadata": {},
   "outputs": [
    {
     "name": "stdout",
     "output_type": "stream",
     "text": [
      "Total time:  2.7136261463165283  seconds.\n"
     ]
    }
   ],
   "source": [
    "import time\n",
    "\n",
    "dist_original = np.zeros(n)\n",
    "i = 0\n",
    "total_time = 0.0\n",
    "for pair in randpairs:\n",
    "    # print(pair[0],pair[1])\n",
    "    tick = time.time()\n",
    "    v1 = R[pair[0]].todense()\n",
    "    v2 = R[pair[1]].todense()\n",
    "    dist_original[i] = dist(v1,v2)\n",
    "    tock = time.time()\n",
    "    total_time = total_time + tock - tick\n",
    "    i = i+1\n",
    "print(\"Total time: \", (total_time) , \" seconds.\")"
   ]
  },
  {
   "cell_type": "code",
   "execution_count": 221,
   "metadata": {},
   "outputs": [
    {
     "name": "stdout",
     "output_type": "stream",
     "text": [
      "Total time:  0.3256344795227051  seconds.\n"
     ]
    }
   ],
   "source": [
    "dist_reduced = np.zeros(n)\n",
    "i = 0\n",
    "total_time = 0.0\n",
    "for pair in randpairs:\n",
    "    # print(pair[0],pair[1])\n",
    "    tick = time.time()\n",
    "    v1 = RP[pair[0]].todense()\n",
    "    v2 = RP[pair[1]].todense()\n",
    "    dist_reduced[i] = dist(v1,v2)*1\n",
    "    tock = time.time()\n",
    "    total_time = total_time + tock - tick\n",
    "    i = i+1\n",
    "print(\"Total time: \", (total_time) , \" seconds.\")"
   ]
  },
  {
   "cell_type": "code",
   "execution_count": 222,
   "metadata": {},
   "outputs": [
    {
     "name": "stdout",
     "output_type": "stream",
     "text": [
      "Mean absolute eps:  0.012278691402810016\n",
      "Max eps:  0.08536482174059348\n",
      "0.0\n"
     ]
    }
   ],
   "source": [
    "error = dist_original - dist_reduced\n",
    "\n",
    "nz = []\n",
    "for i in range(len(error)):\n",
    "    if (dist_original[i] != 0):\n",
    "       nz.append(np.abs(error[i]/dist_original[i]))\n",
    "    \n",
    "nz_error = np.array(nz)\n",
    "    \n",
    "print(\"Mean absolute eps: \", np.mean(nz_error))\n",
    "print(\"Max eps: \", np.max(nz_error))\n",
    "\n",
    "# For how many cases did the distance cross the epsilon\n",
    "indicator = nz_error > 0.1\n",
    "print(sum(indicator)/2000)"
   ]
  },
  {
   "cell_type": "markdown",
   "metadata": {},
   "source": [
    "----------------------------"
   ]
  },
  {
   "cell_type": "markdown",
   "metadata": {},
   "source": [
    "# SVD"
   ]
  },
  {
   "cell_type": "code",
   "execution_count": 228,
   "metadata": {},
   "outputs": [
    {
     "data": {
      "text/plain": [
       "array([[ 2. ,  1. ],\n",
       "       [-1. ,  0.3]])"
      ]
     },
     "execution_count": 228,
     "metadata": {},
     "output_type": "execute_result"
    }
   ],
   "source": [
    "np.array([[2, 1],[-1, 0.3]])"
   ]
  },
  {
   "cell_type": "code",
   "execution_count": 229,
   "metadata": {},
   "outputs": [
    {
     "data": {
      "text/plain": [
       "array([[ 2.34853742,  0.50142194, -1.43327583,  0.65392344, -0.76248206,\n",
       "        -0.03839371, -0.03077527, -0.11269772,  0.94629007,  1.18838557,\n",
       "        -0.1364395 ,  1.74540528,  1.13105808, -1.27377724, -0.97243114,\n",
       "        -1.50134426, -0.53047711,  0.36329888, -0.20514776,  1.46961495],\n",
       "       [-2.94511134,  0.71877135, -1.04708002,  1.47196186,  2.62073549,\n",
       "         0.70679778, -2.05275252,  0.62494748, -0.48130815, -0.44242964,\n",
       "         0.63141656,  1.13538705,  2.38408287, -0.79469091,  1.27271358,\n",
       "        -0.10275559, -0.58272896,  1.41145642, -1.34837702,  0.13024694]])"
      ]
     },
     "execution_count": 229,
     "metadata": {},
     "output_type": "execute_result"
    }
   ],
   "source": [
    "np.random.randn(2,20) "
   ]
  },
  {
   "cell_type": "code",
   "execution_count": 343,
   "metadata": {},
   "outputs": [
    {
     "name": "stdout",
     "output_type": "stream",
     "text": [
      "[[ 1.37192107  0.91378462 -2.59680382  1.17857545  0.77158141  0.64190698\n",
      "   0.27902136  0.8794908  -3.05080645 -1.77785959 -4.39286206 -1.45505476\n",
      "   1.81823809  2.77591868  0.6877158  -1.88250586  0.63502323 -1.17133705\n",
      "  -0.93348807  1.42165008]\n",
      " [-1.33936437  0.69531713  1.08894504 -0.39200186 -0.07056685  0.26919783\n",
      "   0.29380469  0.22622513  2.51351305  0.80601666  2.42847173  0.95101131\n",
      "  -1.23182169 -1.12894331 -0.3679833   1.54335801 -0.6494642   0.26857956\n",
      "   0.70154964 -0.9281656 ]] (2, 20)\n"
     ]
    }
   ],
   "source": [
    "A = np.array([[2, 1],[-1, 0.3]]) @ np.random.randn(2,20) \n",
    "print(A, A.shape)\n",
    "\n",
    "colors = np.random.rand(A.shape[1],3)\n",
    "sequence = np.arange(A.shape[1])"
   ]
  },
  {
   "cell_type": "code",
   "execution_count": 344,
   "metadata": {},
   "outputs": [
    {
     "data": {
      "text/plain": [
       "array([[0.78047274, 0.02681957, 0.10625791],\n",
       "       [0.76531877, 0.84352357, 0.8439589 ],\n",
       "       [0.56824907, 0.83867554, 0.29928463],\n",
       "       [0.53558112, 0.77535392, 0.92822734],\n",
       "       [0.97429637, 0.73733178, 0.83955047],\n",
       "       [0.95476315, 0.21251128, 0.11712122],\n",
       "       [0.39795698, 0.82733967, 0.66042833],\n",
       "       [0.53783271, 0.1121338 , 0.08469421],\n",
       "       [0.48527894, 0.09688926, 0.57859909],\n",
       "       [0.49241257, 0.74651343, 0.53775893],\n",
       "       [0.32649234, 0.56061377, 0.05656223],\n",
       "       [0.02131592, 0.44185805, 0.86611137],\n",
       "       [0.5049238 , 0.5162163 , 0.79738963],\n",
       "       [0.53205793, 0.22762532, 0.23463449],\n",
       "       [0.18337531, 0.24512986, 0.03611564],\n",
       "       [0.72995919, 0.5186891 , 0.03135396],\n",
       "       [0.31839538, 0.77877552, 0.84316103],\n",
       "       [0.47583737, 0.78315975, 0.19912406],\n",
       "       [0.45665509, 0.4540231 , 0.23682138],\n",
       "       [0.45818935, 0.21815151, 0.52432638]])"
      ]
     },
     "execution_count": 344,
     "metadata": {},
     "output_type": "execute_result"
    }
   ],
   "source": [
    "colors[sequence]"
   ]
  },
  {
   "cell_type": "code",
   "execution_count": 345,
   "metadata": {
    "scrolled": false
   },
   "outputs": [
    {
     "data": {
      "text/plain": [
       "<matplotlib.collections.PathCollection at 0x25861b05fa0>"
      ]
     },
     "execution_count": 345,
     "metadata": {},
     "output_type": "execute_result"
    },
    {
     "data": {
      "image/png": "[encoded data removed]",
      "text/plain": [
       "<Figure size 432x288 with 1 Axes>"
      ]
     },
     "metadata": {
      "needs_background": "light"
     },
     "output_type": "display_data"
    }
   ],
   "source": [
    "plt.scatter(A[0,:],A[1,:])"
   ]
  },
  {
   "cell_type": "code",
   "execution_count": 346,
   "metadata": {},
   "outputs": [
    {
     "data": {
      "text/plain": [
       "[<matplotlib.lines.Line2D at 0x25861b67430>]"
      ]
     },
     "execution_count": 346,
     "metadata": {},
     "output_type": "execute_result"
    },
    {
     "data": {
      "image/png": "[encoded data removed]",
      "text/plain": [
       "<Figure size 432x288 with 1 Axes>"
      ]
     },
     "metadata": {
      "needs_background": "light"
     },
     "output_type": "display_data"
    }
   ],
   "source": [
    "plt.plot([1,5],[1,3])"
   ]
  },
  {
   "cell_type": "code",
   "execution_count": 347,
   "metadata": {},
   "outputs": [
    {
     "name": "stdout",
     "output_type": "stream",
     "text": [
      "[[ 0.81393476 -0.58095629]]\n",
      "[-16.27869511782653, 16.27869511782653] [11.619125838928273, -11.619125838928273]\n"
     ]
    },
    {
     "data": {
      "text/plain": [
       "[<matplotlib.lines.Line2D at 0x25861bcf2e0>]"
      ]
     },
     "execution_count": 347,
     "metadata": {},
     "output_type": "execute_result"
    },
    {
     "data": {
      "image/png": "[encoded data removed]",
      "text/plain": [
       "<Figure size 432x288 with 1 Axes>"
      ]
     },
     "metadata": {
      "needs_background": "light"
     },
     "output_type": "display_data"
    }
   ],
   "source": [
    "v = np.random.randn(1,2)\n",
    "u = v/np.linalg.norm(v)\n",
    "print(u)\n",
    "print([-20*u[0,0], 20*u[0,0]],[-20*u[0,1],20*u[0,1]])\n",
    "plt.plot([-20*u[0,0], 20*u[0,0]],[-20*u[0,1],20*u[0,1]])"
   ]
  },
  {
   "cell_type": "code",
   "execution_count": 348,
   "metadata": {},
   "outputs": [
    {
     "name": "stdout",
     "output_type": "stream",
     "text": [
      "Projection line: [[-0.42559926  0.90491175]]\n",
      "Projected: [[-1.79589514  0.24029459  2.09059694 -0.85632792 -0.39224125 -0.02959485\n",
      "   0.14711603 -0.16959685  3.57292844  1.48602967  4.06715142  1.47985153\n",
      "  -1.88853069 -2.20302299 -0.62568375  2.19779589 -0.8579732   0.74156098\n",
      "   1.03213234 -1.44496117]]\n",
      "Variance:  2.903618318725361\n"
     ]
    },
    {
     "data": {
      "image/png": "[encoded data removed]",
      "text/plain": [
       "<Figure size 1152x576 with 2 Axes>"
      ]
     },
     "metadata": {
      "needs_background": "light"
     },
     "output_type": "display_data"
    }
   ],
   "source": [
    "fig = plt.figure(figsize=(16,8))\n",
    "ax1 = fig.add_subplot(121)\n",
    "ax1.scatter(A[0,:], A[1,:], s=50, marker='o', c=(colors[sequence]))\n",
    "\n",
    "# Set xlim and ylim symmetrically towards both directions\n",
    "xmax = np.ceil(np.max(np.abs(A[0,:])))\n",
    "ymax = np.ceil(np.max(np.abs(A[1,:])))\n",
    "\n",
    "axmax = max(xmax, ymax)\n",
    "#print(xmax, ymax)\n",
    "plt.xlim(-2*axmax, 2*axmax)\n",
    "plt.ylim(-2*axmax, 2*axmax)\n",
    "\n",
    "\n",
    "# Let us come up with a random projection line (1-D subspace)\n",
    "v = np.random.randn(1,2)\n",
    "u = v/np.linalg.norm(v)\n",
    "print(\"Projection line:\", u)\n",
    "ax1.plot([-20*u[0,0], 20*u[0,0]], [-20*u[0,1],20*u[0,1] ])\n",
    "\n",
    "\n",
    "# Let us project all the points on to u and plot the projected points (numbers) in another plot\n",
    "AP = u @ A\n",
    "print(\"Projected:\", AP)\n",
    "ax2 = fig.add_subplot(122)\n",
    "ax2.scatter(AP[0,:], np.zeros(AP.shape[1]), s=50, marker='o', c=(colors[sequence]))\n",
    "plt.xlim(-2*axmax, 2*axmax)\n",
    "#plt.ylim(-2*axmax, 2*axmax)\n",
    "plt.ylim(-2, 2)\n",
    "print(\"Variance: \", np.var(AP))\n",
    "\n",
    "\n",
    "# Switch the grids on\n",
    "ax1.grid(True)\n",
    "ax2.grid(True)\n",
    "\n",
    "\n",
    "plt.show()"
   ]
  },
  {
   "cell_type": "code",
   "execution_count": 349,
   "metadata": {},
   "outputs": [
    {
     "name": "stdout",
     "output_type": "stream",
     "text": [
      "U = \n",
      " [[ 0.86449177  0.50264697]\n",
      " [-0.50264697  0.86449177]] \n",
      "\n",
      "S =  [9.35400877 1.88353502] \n",
      "\n",
      "VT = \n",
      " [[ 0.19876418  0.04708786 -0.29851057  0.12998783  0.07510106  0.04485904\n",
      "   0.0099991   0.06912557 -0.41701979 -0.2076208  -0.53648197 -0.18557881\n",
      "   0.23423362  0.3172136   0.08333222 -0.25691392  0.09358806 -0.12268664\n",
      "  -0.12397087  0.18126393]\n",
      " [-0.24861629  0.56298768 -0.19319607  0.13460063  0.17351873  0.29485616\n",
      "   0.20930908  0.33853533  0.33948544 -0.10450614 -0.05769205  0.04818736\n",
      "  -0.08015133  0.22263718  0.01463192  0.20598737 -0.12862195 -0.18931647\n",
      "   0.07287836 -0.04661629]] \n",
      "\n"
     ]
    }
   ],
   "source": [
    "U, S, VT = np.linalg.svd(A, full_matrices=False)\n",
    "\n",
    "print(\"U = \\n\", U, \"\\n\")\n",
    "print(\"S = \", S, \"\\n\")\n",
    "print(\"VT = \\n\", VT, \"\\n\")"
   ]
  },
  {
   "cell_type": "code",
   "execution_count": 350,
   "metadata": {},
   "outputs": [
    {
     "data": {
      "text/plain": [
       "array([[ 1.37192107,  0.91378462, -2.59680382,  1.17857545,  0.77158141,\n",
       "         0.64190698,  0.27902136,  0.8794908 , -3.05080645, -1.77785959,\n",
       "        -4.39286206, -1.45505476,  1.81823809,  2.77591868,  0.6877158 ,\n",
       "        -1.88250586,  0.63502323, -1.17133705, -0.93348807,  1.42165008],\n",
       "       [-1.33936437,  0.69531713,  1.08894504, -0.39200186, -0.07056685,\n",
       "         0.26919783,  0.29380469,  0.22622513,  2.51351305,  0.80601666,\n",
       "         2.42847173,  0.95101131, -1.23182169, -1.12894331, -0.3679833 ,\n",
       "         1.54335801, -0.6494642 ,  0.26857956,  0.70154964, -0.9281656 ]])"
      ]
     },
     "execution_count": 350,
     "metadata": {},
     "output_type": "execute_result"
    }
   ],
   "source": [
    "A"
   ]
  },
  {
   "cell_type": "code",
   "execution_count": 351,
   "metadata": {
    "scrolled": true
   },
   "outputs": [
    {
     "data": {
      "text/plain": [
       "array([[ 1.37192107,  0.91378462, -2.59680382,  1.17857545,  0.77158141,\n",
       "         0.64190698,  0.27902136,  0.8794908 , -3.05080645, -1.77785959,\n",
       "        -4.39286206, -1.45505476,  1.81823809,  2.77591868,  0.6877158 ,\n",
       "        -1.88250586,  0.63502323, -1.17133705, -0.93348807,  1.42165008],\n",
       "       [-1.33936437,  0.69531713,  1.08894504, -0.39200186, -0.07056685,\n",
       "         0.26919783,  0.29380469,  0.22622513,  2.51351305,  0.80601666,\n",
       "         2.42847173,  0.95101131, -1.23182169, -1.12894331, -0.3679833 ,\n",
       "         1.54335801, -0.6494642 ,  0.26857956,  0.70154964, -0.9281656 ]])"
      ]
     },
     "execution_count": 351,
     "metadata": {},
     "output_type": "execute_result"
    }
   ],
   "source": [
    "U @ np.diag(S) @ VT"
   ]
  },
  {
   "cell_type": "code",
   "execution_count": 352,
   "metadata": {},
   "outputs": [
    {
     "data": {
      "text/plain": [
       "<matplotlib.patches.FancyArrow at 0x258568f4310>"
      ]
     },
     "execution_count": 352,
     "metadata": {},
     "output_type": "execute_result"
    },
    {
     "data": {
      "image/png": "[encoded data removed]",
      "text/plain": [
       "<Figure size 1152x576 with 1 Axes>"
      ]
     },
     "metadata": {
      "needs_background": "light"
     },
     "output_type": "display_data"
    }
   ],
   "source": [
    "fig = plt.figure(figsize=(16,8))\n",
    "\n",
    "ax = fig.add_subplot(121)\n",
    "ax.scatter(A[0,:], A[1,:], s=50, marker='o', c=(colors[sequence]))\n",
    "\n",
    "ax.grid(True)\n",
    "\n",
    "ax.arrow(0,0,2,1, head_width=0.1, head_length=0.05)"
   ]
  },
  {
   "cell_type": "code",
   "execution_count": 354,
   "metadata": {},
   "outputs": [
    {
     "data": {
      "text/plain": [
       "(-15.0, 15.0)"
      ]
     },
     "execution_count": 354,
     "metadata": {},
     "output_type": "execute_result"
    },
    {
     "data": {
      "image/png": "[encoded data removed]",
      "text/plain": [
       "<Figure size 1152x576 with 2 Axes>"
      ]
     },
     "metadata": {
      "needs_background": "light"
     },
     "output_type": "display_data"
    }
   ],
   "source": [
    "colors = np.random.rand(A.shape[1],3)\n",
    "sequence = np.arange(A.shape[1])\n",
    "\n",
    "fig = plt.figure(figsize=(16,8))\n",
    "ax = fig.add_subplot(121)\n",
    "ax.scatter(A[0,:], A[1,:], s=50, marker='o', c=(colors[sequence]))\n",
    "\n",
    "# Set xlim and ylim symmetrically towards both directions\n",
    "#xmax = np.ceil(np.max(np.abs(A[:,0])))\n",
    "#ymax = np.ceil(np.max(np.abs(A[:,1])))\n",
    "#print(xmax, ymax)\n",
    "plt.xlim(-3, 3)\n",
    "plt.ylim(-3, 3)\n",
    "\n",
    "# Switch the grid on\n",
    "ax.grid(True)\n",
    "\n",
    "# for i in range(U.shape[1]):\n",
    "#     ax.arrow(0,0,S[i]*U[i,0],S[i]*U[i,1], head_width=0.1, head_length=0.1)\n",
    "#     #ax.arrow(0,0,U[i,0],U[i,1], head_width=0.1, head_length=0.1)\n",
    "\n",
    "for i in range(U.shape[1]):\n",
    "    ax.arrow(0,0,S[i]*U[0,i],S[i]*U[1,i], head_width=0.1, head_length=0.1)\n",
    "    #ax.arrow(0,0,U[i,0],U[i,1], head_width=0.1, head_length=0.1)\n",
    "    \n",
    "    \n",
    "plt.xlim(-12, 12)\n",
    "plt.ylim(-12, 12)\n",
    "ax2 = fig.add_subplot(122)\n",
    "#V = VT\n",
    "V = np.dot(np.diag(S),VT)\n",
    "#V = np.dot(U,np.dot(np.diag(S),VT))\n",
    "ax2.scatter(V[0,:], V[1,:], marker='o', s=50, c=(colors[sequence]))\n",
    "ax2.grid(True)\n",
    "plt.xlim(-15, 15)\n",
    "plt.ylim(-15, 15)"
   ]
  },
  {
   "cell_type": "code",
   "execution_count": 339,
   "metadata": {},
   "outputs": [
    {
     "data": {
      "text/plain": [
       "array([[ 0.93192928,  0.36264006],\n",
       "       [-0.36264006,  0.93192928]])"
      ]
     },
     "execution_count": 339,
     "metadata": {},
     "output_type": "execute_result"
    }
   ],
   "source": [
    "U"
   ]
  },
  {
   "cell_type": "code",
   "execution_count": 355,
   "metadata": {},
   "outputs": [
    {
     "name": "stdout",
     "output_type": "stream",
     "text": [
      "S =  [5.38966515 3.99068713 3.08636103] \n",
      "\n"
     ]
    },
    {
     "data": {
      "image/png": "[encoded data removed]",
      "text/plain": [
       "<Figure size 1152x576 with 2 Axes>"
      ]
     },
     "metadata": {
      "needs_background": "light"
     },
     "output_type": "display_data"
    }
   ],
   "source": [
    "B = np.random.randn(3,20)\n",
    "\n",
    "# The following scaling dampenes the z-direction severely, \n",
    "# to give us the impression that it does not contain any useful information\n",
    "A = np.dot(np.diag([1,1,0.1]),B)\n",
    "A = B\n",
    "#print(A, A.shape)\n",
    "\n",
    "fig = plt.figure(figsize=(16,8))\n",
    "ax = fig.add_subplot(121, projection='3d')\n",
    "ax.scatter(A[0,:], A[1,:], A[2,:], marker='o', s=50, c=(colors[sequence]))\n",
    "\n",
    "\n",
    "U, S, VT = np.linalg.svd(A, full_matrices=False)\n",
    "\n",
    "#print(\"U = \\n\", U, \"\\n\")\n",
    "print(\"S = \", S, \"\\n\")\n",
    "#print(\"VT = \\n\", VT, \"\\n\")\n",
    "\n",
    "# for i in range(U.shape[1]):\n",
    "#     #ax.quiver(0,0,0,U[i,0],U[i,1],U[i,2])\n",
    "#     ax.quiver(0,0,0,S[i]*U[i,0],S[i]*U[i,1],S[i]*U[i,2])\n",
    "\n",
    "for i in range(U.shape[1]):\n",
    "    #ax.quiver(0,0,0,U[i,0],U[i,1],U[i,2])\n",
    "    ax.quiver(0,0,0,S[i]*U[0,i],S[i]*U[1,i],S[i]*U[2,i])    \n",
    "\n",
    "\n",
    "ax.set_xlim(-2, 2)\n",
    "ax.set_ylim(-2, 2)\n",
    "ax.set_zlim(-2,2)\n",
    "\n",
    "\n",
    "ax2 = fig.add_subplot(122, projection='3d')\n",
    "V = VT\n",
    "V = np.dot(np.diag(S),VT)\n",
    "V = np.dot(U,np.dot(np.diag(S),VT))\n",
    "ax2.scatter(V[0,:], V[1,:], V[2,:], marker='o', s=50, c=(colors[sequence]))\n",
    "ax2.grid(True)\n"
   ]
  },
  {
   "cell_type": "markdown",
   "metadata": {},
   "source": [
    "# Rating Prediction"
   ]
  },
  {
   "cell_type": "code",
   "execution_count": 356,
   "metadata": {},
   "outputs": [
    {
     "data": {
      "text/html": [
       "<div>\n",
       "<style scoped>\n",
       "    .dataframe tbody tr th:only-of-type {\n",
       "        vertical-align: middle;\n",
       "    }\n",
       "\n",
       "    .dataframe tbody tr th {\n",
       "        vertical-align: top;\n",
       "    }\n",
       "\n",
       "    .dataframe thead th {\n",
       "        text-align: right;\n",
       "    }\n",
       "</style>\n",
       "<table border=\"1\" class=\"dataframe\">\n",
       "  <thead>\n",
       "    <tr style=\"text-align: right;\">\n",
       "      <th></th>\n",
       "      <th>horror1</th>\n",
       "      <th>horror2</th>\n",
       "      <th>drama1</th>\n",
       "      <th>drama2</th>\n",
       "      <th>art1</th>\n",
       "      <th>art2</th>\n",
       "    </tr>\n",
       "  </thead>\n",
       "  <tbody>\n",
       "    <tr>\n",
       "      <th>u0</th>\n",
       "      <td>1</td>\n",
       "      <td>2</td>\n",
       "      <td>8</td>\n",
       "      <td>9</td>\n",
       "      <td>3</td>\n",
       "      <td>3</td>\n",
       "    </tr>\n",
       "    <tr>\n",
       "      <th>u1</th>\n",
       "      <td>2</td>\n",
       "      <td>1</td>\n",
       "      <td>9</td>\n",
       "      <td>8</td>\n",
       "      <td>4</td>\n",
       "      <td>2</td>\n",
       "    </tr>\n",
       "    <tr>\n",
       "      <th>u2</th>\n",
       "      <td>2</td>\n",
       "      <td>2</td>\n",
       "      <td>6</td>\n",
       "      <td>8</td>\n",
       "      <td>2</td>\n",
       "      <td>3</td>\n",
       "    </tr>\n",
       "    <tr>\n",
       "      <th>u3</th>\n",
       "      <td>9</td>\n",
       "      <td>7</td>\n",
       "      <td>2</td>\n",
       "      <td>3</td>\n",
       "      <td>1</td>\n",
       "      <td>1</td>\n",
       "    </tr>\n",
       "    <tr>\n",
       "      <th>u4</th>\n",
       "      <td>1</td>\n",
       "      <td>1</td>\n",
       "      <td>1</td>\n",
       "      <td>2</td>\n",
       "      <td>8</td>\n",
       "      <td>7</td>\n",
       "    </tr>\n",
       "    <tr>\n",
       "      <th>u5</th>\n",
       "      <td>2</td>\n",
       "      <td>2</td>\n",
       "      <td>3</td>\n",
       "      <td>2</td>\n",
       "      <td>8</td>\n",
       "      <td>8</td>\n",
       "    </tr>\n",
       "    <tr>\n",
       "      <th>u6</th>\n",
       "      <td>7</td>\n",
       "      <td>9</td>\n",
       "      <td>2</td>\n",
       "      <td>2</td>\n",
       "      <td>2</td>\n",
       "      <td>3</td>\n",
       "    </tr>\n",
       "    <tr>\n",
       "      <th>u7</th>\n",
       "      <td>9</td>\n",
       "      <td>8</td>\n",
       "      <td>2</td>\n",
       "      <td>3</td>\n",
       "      <td>1</td>\n",
       "      <td>3</td>\n",
       "    </tr>\n",
       "    <tr>\n",
       "      <th>u8</th>\n",
       "      <td>7</td>\n",
       "      <td>1</td>\n",
       "      <td>1</td>\n",
       "      <td>9</td>\n",
       "      <td>2</td>\n",
       "      <td>8</td>\n",
       "    </tr>\n",
       "  </tbody>\n",
       "</table>\n",
       "</div>"
      ],
      "text/plain": [
       "    horror1  horror2  drama1  drama2  art1  art2\n",
       "u0        1        2       8       9     3     3\n",
       "u1        2        1       9       8     4     2\n",
       "u2        2        2       6       8     2     3\n",
       "u3        9        7       2       3     1     1\n",
       "u4        1        1       1       2     8     7\n",
       "u5        2        2       3       2     8     8\n",
       "u6        7        9       2       2     2     3\n",
       "u7        9        8       2       3     1     3\n",
       "u8        7        1       1       9     2     8"
      ]
     },
     "execution_count": 356,
     "metadata": {},
     "output_type": "execute_result"
    }
   ],
   "source": [
    "import numpy as np\n",
    "import pandas as pd\n",
    "\n",
    "np.set_printoptions(formatter={'float': lambda x: \"{0:0.2f}\".format(x)})\n",
    "\n",
    "#df = pd.DataFrame([[1,2,8,9,3,3],[2,1,9,8,4,2],[2,2,6,8,2,3],\n",
    "#                   [9,7,2,3,1,1],[1,1,1,2,8,7],[2,2,3,2,8,8],\n",
    "#                   [7,9,2,2,2,3],[9,8,2,3,1,3]], \n",
    "#                  columns=[\"horror1\",\"horror2\",\"drama1\",\"drama2\",\"art1\",\"art2\"], \n",
    "#                  index=[\"u0\",\"u1\",\"u2\",\"u3\",\"u4\",\"u5\",\"u6\",\"u7\"])\n",
    "\n",
    "df = pd.DataFrame([[1,2,8,9,3,3],[2,1,9,8,4,2],[2,2,6,8,2,3],\n",
    "                   [9,7,2,3,1,1],[1,1,1,2,8,7],[2,2,3,2,8,8],\n",
    "                   [7,9,2,2,2,3],[9,8,2,3,1,3],[7,1,1,9,2,8]], \n",
    "                  columns=[\"horror1\",\"horror2\",\"drama1\",\"drama2\",\"art1\",\"art2\"], \n",
    "                  index=[\"u0\",\"u1\",\"u2\",\"u3\",\"u4\",\"u5\",\"u6\",\"u7\",\"u8\"])\n",
    "\n",
    "\n",
    "df"
   ]
  },
  {
   "cell_type": "code",
   "execution_count": 361,
   "metadata": {},
   "outputs": [],
   "source": [
    "A = df.values"
   ]
  },
  {
   "cell_type": "code",
   "execution_count": 362,
   "metadata": {
    "scrolled": true
   },
   "outputs": [
    {
     "data": {
      "text/plain": [
       "array([[1, 2, 8, 9, 3, 3],\n",
       "       [2, 1, 9, 8, 4, 2],\n",
       "       [2, 2, 6, 8, 2, 3],\n",
       "       [9, 7, 2, 3, 1, 1],\n",
       "       [1, 1, 1, 2, 8, 7],\n",
       "       [2, 2, 3, 2, 8, 8],\n",
       "       [7, 9, 2, 2, 2, 3],\n",
       "       [9, 8, 2, 3, 1, 3],\n",
       "       [7, 1, 1, 9, 2, 8]], dtype=int64)"
      ]
     },
     "execution_count": 362,
     "metadata": {},
     "output_type": "execute_result"
    }
   ],
   "source": [
    "A"
   ]
  },
  {
   "cell_type": "code",
   "execution_count": 378,
   "metadata": {},
   "outputs": [
    {
     "data": {
      "text/plain": [
       "array([[0.00],\n",
       "       [0.00],\n",
       "       [-0.00],\n",
       "       [-0.00],\n",
       "       [-0.00],\n",
       "       [-0.00],\n",
       "       [-0.00],\n",
       "       [0.00],\n",
       "       [-0.00]])"
      ]
     },
     "execution_count": 378,
     "metadata": {},
     "output_type": "execute_result"
    }
   ],
   "source": [
    "np.mean(A,axis=1).reshape(A.shape[0],1)"
   ]
  },
  {
   "cell_type": "code",
   "execution_count": 363,
   "metadata": {},
   "outputs": [
    {
     "name": "stdout",
     "output_type": "stream",
     "text": [
      "[[-3.33 -2.33 3.67 4.67 -1.33 -1.33]\n",
      " [-2.33 -3.33 4.67 3.67 -0.33 -2.33]\n",
      " [-1.83 -1.83 2.17 4.17 -1.83 -0.83]\n",
      " [5.17 3.17 -1.83 -0.83 -2.83 -2.83]\n",
      " [-2.33 -2.33 -2.33 -1.33 4.67 3.67]\n",
      " [-2.17 -2.17 -1.17 -2.17 3.83 3.83]\n",
      " [2.83 4.83 -2.17 -2.17 -2.17 -1.17]\n",
      " [4.67 3.67 -2.33 -1.33 -3.33 -1.33]\n",
      " [2.33 -3.67 -3.67 4.33 -2.67 3.33]]\n"
     ]
    }
   ],
   "source": [
    "means = np.mean(A,axis=1).reshape(A.shape[0],1)\n",
    "\n",
    "A = A - means\n",
    "\n",
    "print(A)"
   ]
  },
  {
   "cell_type": "code",
   "execution_count": 365,
   "metadata": {},
   "outputs": [
    {
     "name": "stdout",
     "output_type": "stream",
     "text": [
      "U = \n",
      " [[-0.36 0.40 0.01 -0.37 0.18 0.57]\n",
      " [-0.37 0.39 0.13 0.50 -0.04 -0.37]\n",
      " [-0.24 0.34 -0.13 -0.32 0.15 -0.39]\n",
      " [0.45 0.21 -0.07 0.49 0.41 0.05]\n",
      " [-0.21 -0.52 -0.11 0.03 0.71 0.04]\n",
      " [-0.19 -0.49 -0.03 0.03 -0.43 -0.07]\n",
      " [0.43 0.03 0.08 -0.52 0.15 -0.50]\n",
      " [0.46 0.13 -0.13 -0.02 -0.22 0.35]\n",
      " [-0.05 0.06 -0.96 0.02 -0.08 -0.08]] \n",
      "\n",
      "S =  [15.53 12.20 8.58 2.54 1.27 0.00] \n",
      "\n",
      "VT = \n",
      " [[0.58 0.56 -0.35 -0.35 -0.28 -0.16]\n",
      " [0.11 0.04 0.40 0.52 -0.56 -0.50]\n",
      " [-0.32 0.39 0.52 -0.45 0.30 -0.43]\n",
      " [0.61 -0.57 0.16 -0.18 0.34 -0.36]\n",
      " [-0.12 0.19 -0.51 0.45 0.49 -0.50]\n",
      " [0.41 0.41 0.41 0.41 0.41 0.41]] \n",
      "\n"
     ]
    }
   ],
   "source": [
    "U, S, VT = np.linalg.svd(A, full_matrices=False)\n",
    "\n",
    "print(\"U = \\n\", U, \"\\n\")\n",
    "print(\"S = \", S, \"\\n\")\n",
    "print(\"VT = \\n\", VT, \"\\n\")"
   ]
  },
  {
   "cell_type": "code",
   "execution_count": 369,
   "metadata": {},
   "outputs": [
    {
     "name": "stdout",
     "output_type": "stream",
     "text": [
      "[[139.22 136.08 -85.05 -84.43 -66.66 -39.16]\n",
      " [16.07 5.88 59.02 76.89 -83.39 -74.47]\n",
      " [-23.56 28.73 38.12 -33.49 21.77 -31.57]]\n"
     ]
    }
   ],
   "source": [
    "k = 3\n",
    "Ak = np.diag(S[:k]) @ np.transpose(U[:,:k]) @ A\n",
    "#Ak = np.transpose(U[:,:k])  @ A\n",
    "print(Ak)"
   ]
  },
  {
   "cell_type": "code",
   "execution_count": 370,
   "metadata": {},
   "outputs": [],
   "source": [
    "ratings = pd.read_csv(\"C:\\\\Users\\\\utkar\\\\Desktop\\\\Python\\\\CDS\\\\data\\\\ml-latest-small\\\\ratings.csv\")"
   ]
  },
  {
   "cell_type": "code",
   "execution_count": 371,
   "metadata": {},
   "outputs": [
    {
     "data": {
      "text/html": [
       "<div>\n",
       "<style scoped>\n",
       "    .dataframe tbody tr th:only-of-type {\n",
       "        vertical-align: middle;\n",
       "    }\n",
       "\n",
       "    .dataframe tbody tr th {\n",
       "        vertical-align: top;\n",
       "    }\n",
       "\n",
       "    .dataframe thead th {\n",
       "        text-align: right;\n",
       "    }\n",
       "</style>\n",
       "<table border=\"1\" class=\"dataframe\">\n",
       "  <thead>\n",
       "    <tr style=\"text-align: right;\">\n",
       "      <th></th>\n",
       "      <th>userId</th>\n",
       "      <th>movieId</th>\n",
       "      <th>rating</th>\n",
       "      <th>timestamp</th>\n",
       "    </tr>\n",
       "  </thead>\n",
       "  <tbody>\n",
       "    <tr>\n",
       "      <th>0</th>\n",
       "      <td>1</td>\n",
       "      <td>1</td>\n",
       "      <td>4.0</td>\n",
       "      <td>964982703</td>\n",
       "    </tr>\n",
       "    <tr>\n",
       "      <th>1</th>\n",
       "      <td>1</td>\n",
       "      <td>3</td>\n",
       "      <td>4.0</td>\n",
       "      <td>964981247</td>\n",
       "    </tr>\n",
       "    <tr>\n",
       "      <th>2</th>\n",
       "      <td>1</td>\n",
       "      <td>6</td>\n",
       "      <td>4.0</td>\n",
       "      <td>964982224</td>\n",
       "    </tr>\n",
       "    <tr>\n",
       "      <th>3</th>\n",
       "      <td>1</td>\n",
       "      <td>47</td>\n",
       "      <td>5.0</td>\n",
       "      <td>964983815</td>\n",
       "    </tr>\n",
       "    <tr>\n",
       "      <th>4</th>\n",
       "      <td>1</td>\n",
       "      <td>50</td>\n",
       "      <td>5.0</td>\n",
       "      <td>964982931</td>\n",
       "    </tr>\n",
       "    <tr>\n",
       "      <th>...</th>\n",
       "      <td>...</td>\n",
       "      <td>...</td>\n",
       "      <td>...</td>\n",
       "      <td>...</td>\n",
       "    </tr>\n",
       "    <tr>\n",
       "      <th>100831</th>\n",
       "      <td>610</td>\n",
       "      <td>166534</td>\n",
       "      <td>4.0</td>\n",
       "      <td>1493848402</td>\n",
       "    </tr>\n",
       "    <tr>\n",
       "      <th>100832</th>\n",
       "      <td>610</td>\n",
       "      <td>168248</td>\n",
       "      <td>5.0</td>\n",
       "      <td>1493850091</td>\n",
       "    </tr>\n",
       "    <tr>\n",
       "      <th>100833</th>\n",
       "      <td>610</td>\n",
       "      <td>168250</td>\n",
       "      <td>5.0</td>\n",
       "      <td>1494273047</td>\n",
       "    </tr>\n",
       "    <tr>\n",
       "      <th>100834</th>\n",
       "      <td>610</td>\n",
       "      <td>168252</td>\n",
       "      <td>5.0</td>\n",
       "      <td>1493846352</td>\n",
       "    </tr>\n",
       "    <tr>\n",
       "      <th>100835</th>\n",
       "      <td>610</td>\n",
       "      <td>170875</td>\n",
       "      <td>3.0</td>\n",
       "      <td>1493846415</td>\n",
       "    </tr>\n",
       "  </tbody>\n",
       "</table>\n",
       "<p>100836 rows × 4 columns</p>\n",
       "</div>"
      ],
      "text/plain": [
       "        userId  movieId  rating   timestamp\n",
       "0            1        1     4.0   964982703\n",
       "1            1        3     4.0   964981247\n",
       "2            1        6     4.0   964982224\n",
       "3            1       47     5.0   964983815\n",
       "4            1       50     5.0   964982931\n",
       "...        ...      ...     ...         ...\n",
       "100831     610   166534     4.0  1493848402\n",
       "100832     610   168248     5.0  1493850091\n",
       "100833     610   168250     5.0  1494273047\n",
       "100834     610   168252     5.0  1493846352\n",
       "100835     610   170875     3.0  1493846415\n",
       "\n",
       "[100836 rows x 4 columns]"
      ]
     },
     "execution_count": 371,
     "metadata": {},
     "output_type": "execute_result"
    }
   ],
   "source": [
    "ratings"
   ]
  },
  {
   "cell_type": "code",
   "execution_count": 372,
   "metadata": {},
   "outputs": [
    {
     "name": "stdout",
     "output_type": "stream",
     "text": [
      "[44794 52183 31534 ... 76029 49060 84317]\n",
      "[23763 67135 44219 ... 60779 44119 36986]\n"
     ]
    }
   ],
   "source": [
    "# Create the list of indices\n",
    "idx = np.arange(0,len(ratings))\n",
    "\n",
    "# Randomly shuffle them\n",
    "np.random.shuffle(idx)\n",
    "\n",
    "# Size of test data\n",
    "testsize = 5000\n",
    "testidx = idx[0:testsize]\n",
    "trainidx = idx[testsize:]\n",
    "print(testidx)\n",
    "print(trainidx)"
   ]
  },
  {
   "cell_type": "code",
   "execution_count": 373,
   "metadata": {},
   "outputs": [
    {
     "data": {
      "text/html": [
       "<div>\n",
       "<style scoped>\n",
       "    .dataframe tbody tr th:only-of-type {\n",
       "        vertical-align: middle;\n",
       "    }\n",
       "\n",
       "    .dataframe tbody tr th {\n",
       "        vertical-align: top;\n",
       "    }\n",
       "\n",
       "    .dataframe thead th {\n",
       "        text-align: right;\n",
       "    }\n",
       "</style>\n",
       "<table border=\"1\" class=\"dataframe\">\n",
       "  <thead>\n",
       "    <tr style=\"text-align: right;\">\n",
       "      <th></th>\n",
       "      <th>userId</th>\n",
       "      <th>movieId</th>\n",
       "      <th>rating</th>\n",
       "      <th>timestamp</th>\n",
       "    </tr>\n",
       "  </thead>\n",
       "  <tbody>\n",
       "    <tr>\n",
       "      <th>44794</th>\n",
       "      <td>298</td>\n",
       "      <td>4246</td>\n",
       "      <td>2.5</td>\n",
       "      <td>1447598156</td>\n",
       "    </tr>\n",
       "    <tr>\n",
       "      <th>52183</th>\n",
       "      <td>339</td>\n",
       "      <td>33162</td>\n",
       "      <td>4.5</td>\n",
       "      <td>1460183612</td>\n",
       "    </tr>\n",
       "    <tr>\n",
       "      <th>31534</th>\n",
       "      <td>219</td>\n",
       "      <td>65</td>\n",
       "      <td>1.0</td>\n",
       "      <td>1198782611</td>\n",
       "    </tr>\n",
       "    <tr>\n",
       "      <th>74100</th>\n",
       "      <td>474</td>\n",
       "      <td>3527</td>\n",
       "      <td>2.0</td>\n",
       "      <td>1002757072</td>\n",
       "    </tr>\n",
       "    <tr>\n",
       "      <th>25880</th>\n",
       "      <td>178</td>\n",
       "      <td>44195</td>\n",
       "      <td>5.0</td>\n",
       "      <td>1164354807</td>\n",
       "    </tr>\n",
       "    <tr>\n",
       "      <th>...</th>\n",
       "      <td>...</td>\n",
       "      <td>...</td>\n",
       "      <td>...</td>\n",
       "      <td>...</td>\n",
       "    </tr>\n",
       "    <tr>\n",
       "      <th>75026</th>\n",
       "      <td>474</td>\n",
       "      <td>27820</td>\n",
       "      <td>4.0</td>\n",
       "      <td>1108389737</td>\n",
       "    </tr>\n",
       "    <tr>\n",
       "      <th>73691</th>\n",
       "      <td>474</td>\n",
       "      <td>2100</td>\n",
       "      <td>4.0</td>\n",
       "      <td>1100291843</td>\n",
       "    </tr>\n",
       "    <tr>\n",
       "      <th>76029</th>\n",
       "      <td>478</td>\n",
       "      <td>594</td>\n",
       "      <td>3.5</td>\n",
       "      <td>1121467296</td>\n",
       "    </tr>\n",
       "    <tr>\n",
       "      <th>49060</th>\n",
       "      <td>318</td>\n",
       "      <td>1089</td>\n",
       "      <td>4.0</td>\n",
       "      <td>1424546872</td>\n",
       "    </tr>\n",
       "    <tr>\n",
       "      <th>84317</th>\n",
       "      <td>540</td>\n",
       "      <td>6365</td>\n",
       "      <td>3.5</td>\n",
       "      <td>1179108682</td>\n",
       "    </tr>\n",
       "  </tbody>\n",
       "</table>\n",
       "<p>5000 rows × 4 columns</p>\n",
       "</div>"
      ],
      "text/plain": [
       "       userId  movieId  rating   timestamp\n",
       "44794     298     4246     2.5  1447598156\n",
       "52183     339    33162     4.5  1460183612\n",
       "31534     219       65     1.0  1198782611\n",
       "74100     474     3527     2.0  1002757072\n",
       "25880     178    44195     5.0  1164354807\n",
       "...       ...      ...     ...         ...\n",
       "75026     474    27820     4.0  1108389737\n",
       "73691     474     2100     4.0  1100291843\n",
       "76029     478      594     3.5  1121467296\n",
       "49060     318     1089     4.0  1424546872\n",
       "84317     540     6365     3.5  1179108682\n",
       "\n",
       "[5000 rows x 4 columns]"
      ]
     },
     "execution_count": 373,
     "metadata": {},
     "output_type": "execute_result"
    }
   ],
   "source": [
    "# The sample for testing\n",
    "ratings_test = ratings.iloc[testidx]\n",
    "ratings_test"
   ]
  },
  {
   "cell_type": "code",
   "execution_count": 374,
   "metadata": {},
   "outputs": [
    {
     "data": {
      "text/html": [
       "<div>\n",
       "<style scoped>\n",
       "    .dataframe tbody tr th:only-of-type {\n",
       "        vertical-align: middle;\n",
       "    }\n",
       "\n",
       "    .dataframe tbody tr th {\n",
       "        vertical-align: top;\n",
       "    }\n",
       "\n",
       "    .dataframe thead th {\n",
       "        text-align: right;\n",
       "    }\n",
       "</style>\n",
       "<table border=\"1\" class=\"dataframe\">\n",
       "  <thead>\n",
       "    <tr style=\"text-align: right;\">\n",
       "      <th></th>\n",
       "      <th>userId</th>\n",
       "      <th>movieId</th>\n",
       "      <th>rating</th>\n",
       "      <th>timestamp</th>\n",
       "    </tr>\n",
       "  </thead>\n",
       "  <tbody>\n",
       "    <tr>\n",
       "      <th>23763</th>\n",
       "      <td>164</td>\n",
       "      <td>110</td>\n",
       "      <td>5.0</td>\n",
       "      <td>999708154</td>\n",
       "    </tr>\n",
       "    <tr>\n",
       "      <th>67135</th>\n",
       "      <td>434</td>\n",
       "      <td>1090</td>\n",
       "      <td>5.0</td>\n",
       "      <td>1270603951</td>\n",
       "    </tr>\n",
       "    <tr>\n",
       "      <th>44219</th>\n",
       "      <td>294</td>\n",
       "      <td>2134</td>\n",
       "      <td>3.0</td>\n",
       "      <td>966596184</td>\n",
       "    </tr>\n",
       "    <tr>\n",
       "      <th>32740</th>\n",
       "      <td>222</td>\n",
       "      <td>8528</td>\n",
       "      <td>4.0</td>\n",
       "      <td>1391352874</td>\n",
       "    </tr>\n",
       "    <tr>\n",
       "      <th>46168</th>\n",
       "      <td>305</td>\n",
       "      <td>4439</td>\n",
       "      <td>3.5</td>\n",
       "      <td>1534715960</td>\n",
       "    </tr>\n",
       "    <tr>\n",
       "      <th>...</th>\n",
       "      <td>...</td>\n",
       "      <td>...</td>\n",
       "      <td>...</td>\n",
       "      <td>...</td>\n",
       "    </tr>\n",
       "    <tr>\n",
       "      <th>69181</th>\n",
       "      <td>448</td>\n",
       "      <td>3286</td>\n",
       "      <td>2.0</td>\n",
       "      <td>1038486297</td>\n",
       "    </tr>\n",
       "    <tr>\n",
       "      <th>35742</th>\n",
       "      <td>241</td>\n",
       "      <td>8638</td>\n",
       "      <td>5.0</td>\n",
       "      <td>1447536816</td>\n",
       "    </tr>\n",
       "    <tr>\n",
       "      <th>60779</th>\n",
       "      <td>391</td>\n",
       "      <td>5325</td>\n",
       "      <td>4.0</td>\n",
       "      <td>1030824826</td>\n",
       "    </tr>\n",
       "    <tr>\n",
       "      <th>44119</th>\n",
       "      <td>294</td>\n",
       "      <td>1270</td>\n",
       "      <td>3.0</td>\n",
       "      <td>966595028</td>\n",
       "    </tr>\n",
       "    <tr>\n",
       "      <th>36986</th>\n",
       "      <td>249</td>\n",
       "      <td>64969</td>\n",
       "      <td>4.0</td>\n",
       "      <td>1354107252</td>\n",
       "    </tr>\n",
       "  </tbody>\n",
       "</table>\n",
       "<p>95836 rows × 4 columns</p>\n",
       "</div>"
      ],
      "text/plain": [
       "       userId  movieId  rating   timestamp\n",
       "23763     164      110     5.0   999708154\n",
       "67135     434     1090     5.0  1270603951\n",
       "44219     294     2134     3.0   966596184\n",
       "32740     222     8528     4.0  1391352874\n",
       "46168     305     4439     3.5  1534715960\n",
       "...       ...      ...     ...         ...\n",
       "69181     448     3286     2.0  1038486297\n",
       "35742     241     8638     5.0  1447536816\n",
       "60779     391     5325     4.0  1030824826\n",
       "44119     294     1270     3.0   966595028\n",
       "36986     249    64969     4.0  1354107252\n",
       "\n",
       "[95836 rows x 4 columns]"
      ]
     },
     "execution_count": 374,
     "metadata": {},
     "output_type": "execute_result"
    }
   ],
   "source": [
    "# The rest of the data\n",
    "ratings = ratings.iloc[trainidx]\n",
    "ratings"
   ]
  },
  {
   "cell_type": "code",
   "execution_count": 375,
   "metadata": {},
   "outputs": [
    {
     "name": "stdout",
     "output_type": "stream",
     "text": [
      "The data has 193609 items with 610 dimensions (users).\n"
     ]
    }
   ],
   "source": [
    "from scipy.sparse import csr_matrix\n",
    "\n",
    "users = ratings[\"userId\"].values.astype(int)\n",
    "movies = ratings[\"movieId\"].values.astype(int)\n",
    "vals = ratings[\"rating\"].values\n",
    "\n",
    "#ii = np.array([1,2,1,2,4])\n",
    "#jj = np.array([1,1,2,3,3])\n",
    "#vv = np.array([1,1,2,3,2])\n",
    "\n",
    "#R = csr_matrix((vv, (ii,jj)))\n",
    "RS = csr_matrix((vals,(users-1,movies-1)))\n",
    "\n",
    "print(\"The data has %d items with %d dimensions (users).\" %(RS.shape[1], RS.shape[0]))"
   ]
  },
  {
   "cell_type": "code",
   "execution_count": 376,
   "metadata": {},
   "outputs": [],
   "source": [
    "R = RS.todense()"
   ]
  },
  {
   "cell_type": "code",
   "execution_count": 377,
   "metadata": {},
   "outputs": [
    {
     "data": {
      "text/plain": [
       "matrix([[4.00, 0.00, 4.00, ..., 0.00, 0.00, 0.00],\n",
       "        [0.00, 0.00, 0.00, ..., 0.00, 0.00, 0.00],\n",
       "        [0.00, 0.00, 0.00, ..., 0.00, 0.00, 0.00],\n",
       "        ...,\n",
       "        [2.50, 2.00, 2.00, ..., 0.00, 0.00, 0.00],\n",
       "        [3.00, 0.00, 0.00, ..., 0.00, 0.00, 0.00],\n",
       "        [5.00, 0.00, 0.00, ..., 0.00, 0.00, 0.00]])"
      ]
     },
     "execution_count": 377,
     "metadata": {},
     "output_type": "execute_result"
    }
   ],
   "source": [
    "R"
   ]
  },
  {
   "cell_type": "code",
   "execution_count": 381,
   "metadata": {},
   "outputs": [],
   "source": [
    "def colmeans(R):\n",
    "    # Sum of the ratings for each movie\n",
    "    sums = np.sum(R, axis=0)\n",
    "    print(sums.shape)\n",
    "\n",
    "    # Number of non-zero entries for each movie (number of ratings)\n",
    "    nzcounts = np.sum(R.astype(bool), axis=0) + 1\n",
    "    print(nzcounts.shape)\n",
    "\n",
    "    # The average ratings for each movie\n",
    "    means = sums/nzcounts\n",
    "    print(means.shape)\n",
    "    \n",
    "    return means"
   ]
  },
  {
   "cell_type": "code",
   "execution_count": 384,
   "metadata": {},
   "outputs": [
    {
     "name": "stdout",
     "output_type": "stream",
     "text": [
      "(1, 193609)\n",
      "(1, 193609)\n",
      "(1, 193609)\n",
      "(1, 193609)\n"
     ]
    }
   ],
   "source": [
    "means = colmeans(R)\n",
    "print(means.shape)"
   ]
  },
  {
   "cell_type": "code",
   "execution_count": 387,
   "metadata": {},
   "outputs": [
    {
     "data": {
      "text/plain": [
       "matrix([[3.92, 3.40, 3.17, ..., 0.00, 0.00, 2.00]])"
      ]
     },
     "execution_count": 387,
     "metadata": {},
     "output_type": "execute_result"
    }
   ],
   "source": [
    "means"
   ]
  },
  {
   "cell_type": "code",
   "execution_count": 385,
   "metadata": {},
   "outputs": [
    {
     "name": "stdout",
     "output_type": "stream",
     "text": [
      "(610, 193609)\n",
      "[[False  True False ...  True  True  True]\n",
      " [ True  True  True ...  True  True  True]\n",
      " [ True  True  True ...  True  True  True]\n",
      " ...\n",
      " [False False False ...  True  True  True]\n",
      " [False  True  True ...  True  True  True]\n",
      " [False  True  True ...  True  True  True]]\n"
     ]
    }
   ],
   "source": [
    "# The boolean matrix (True/False entries) w\n",
    "zero_R = R==0\n",
    "print(zero_R.shape)\n",
    "print(zero_R)"
   ]
  },
  {
   "cell_type": "code",
   "execution_count": 386,
   "metadata": {},
   "outputs": [
    {
     "name": "stdout",
     "output_type": "stream",
     "text": [
      "(610, 193609)\n",
      "[[0.00 3.40 0.00 ... 0.00 0.00 2.00]\n",
      " [3.92 3.40 3.17 ... 0.00 0.00 2.00]\n",
      " [3.92 3.40 3.17 ... 0.00 0.00 2.00]\n",
      " ...\n",
      " [0.00 0.00 0.00 ... 0.00 0.00 2.00]\n",
      " [0.00 3.40 3.17 ... 0.00 0.00 2.00]\n",
      " [0.00 3.40 3.17 ... 0.00 0.00 2.00]]\n"
     ]
    }
   ],
   "source": [
    "unrated_R = np.multiply(means, zero_R)\n",
    "print(unrated_R.shape)\n",
    "print(unrated_R)"
   ]
  },
  {
   "cell_type": "code",
   "execution_count": 388,
   "metadata": {},
   "outputs": [
    {
     "name": "stdout",
     "output_type": "stream",
     "text": [
      "[[4.00 3.40 4.00 ... 0.00 0.00 2.00]\n",
      " [3.92 3.40 3.17 ... 0.00 0.00 2.00]\n",
      " [3.92 3.40 3.17 ... 0.00 0.00 2.00]\n",
      " ...\n",
      " [2.50 2.00 2.00 ... 0.00 0.00 2.00]\n",
      " [3.00 3.40 3.17 ... 0.00 0.00 2.00]\n",
      " [5.00 3.40 3.17 ... 0.00 0.00 2.00]]\n"
     ]
    }
   ],
   "source": [
    "R1 = R + unrated_R\n",
    "\n",
    "print(R1)"
   ]
  },
  {
   "cell_type": "code",
   "execution_count": 389,
   "metadata": {},
   "outputs": [],
   "source": [
    "users_test = ratings_test[\"userId\"].values.astype(int)\n",
    "movies_test = ratings_test[\"movieId\"].values.astype(int)\n",
    "vals_test = ratings_test[\"rating\"].values"
   ]
  },
  {
   "cell_type": "code",
   "execution_count": 390,
   "metadata": {},
   "outputs": [],
   "source": [
    "def RMSE_ratings(R_pred, users_test, movies_test, vals_test):\n",
    "    R_pred_selected = R_pred[users_test-1,movies_test-1]\n",
    "    error = R_pred_selected - vals_test\n",
    "    #print(error)\n",
    "    return np.sqrt(np.mean(np.multiply(error,error)))"
   ]
  },
  {
   "cell_type": "code",
   "execution_count": 391,
   "metadata": {},
   "outputs": [
    {
     "name": "stdout",
     "output_type": "stream",
     "text": [
      "1.2054180491316888\n"
     ]
    }
   ],
   "source": [
    "import numpy as np\n",
    "from scipy.sparse import csc_matrix\n",
    "\n",
    "#A = np.array([[1,2,3,4],[5,6,7,8],[9,10,11,12]])\n",
    "#B = np.array([[1,0,0,0],[0,0,1,0],[0,1,0,1]])\n",
    "\n",
    "#u = np.array([1,2,1,2,3])\n",
    "#m = np.array([1,0,0,3,2])\n",
    "#v = np.array([0.5,2,1,1.5,2.5])\n",
    "\n",
    "#C = csr_matrix(B)\n",
    "#Z = C != 0\n",
    "\n",
    "print(RMSE_ratings(R1, users_test, movies_test, vals_test))"
   ]
  },
  {
   "cell_type": "code",
   "execution_count": 392,
   "metadata": {},
   "outputs": [],
   "source": [
    "def centerrows(R1):\n",
    "    # Center the columns (users)\n",
    "    means = np.mean(R1, axis=1)\n",
    "    #print(means)\n",
    "    print(R1.shape)\n",
    "    print(means.shape)\n",
    "    return R1 - means"
   ]
  },
  {
   "cell_type": "code",
   "execution_count": 393,
   "metadata": {},
   "outputs": [
    {
     "name": "stdout",
     "output_type": "stream",
     "text": [
      "(610, 193609)\n",
      "(610, 1)\n",
      "[[3.88 3.29 3.88 ... -0.12 -0.12 1.88]\n",
      " [3.80 3.29 3.05 ... -0.12 -0.12 1.88]\n",
      " [3.80 3.29 3.05 ... -0.12 -0.12 1.88]\n",
      " ...\n",
      " [2.38 1.88 1.88 ... -0.12 -0.12 1.88]\n",
      " [2.88 3.29 3.05 ... -0.12 -0.12 1.88]\n",
      " [4.88 3.28 3.05 ... -0.12 -0.12 1.88]]\n"
     ]
    }
   ],
   "source": [
    "R2 = centerrows(R1)\n",
    "print(R2)"
   ]
  },
  {
   "cell_type": "code",
   "execution_count": 394,
   "metadata": {},
   "outputs": [
    {
     "name": "stdout",
     "output_type": "stream",
     "text": [
      "(610, 610) (610,) (610, 193609)\n"
     ]
    }
   ],
   "source": [
    "U, S, VT = np.linalg.svd(R2, full_matrices=False)\n",
    "\n",
    "print(U.shape, S.shape, VT.shape)"
   ]
  },
  {
   "cell_type": "code",
   "execution_count": 395,
   "metadata": {},
   "outputs": [],
   "source": [
    "def lowrank(U,S,VT,k):\n",
    "    # Let us fix k\n",
    "\n",
    "    Uk = U[:,:k]\n",
    "    #print(Uk.shape)\n",
    "\n",
    "    Sk = np.diag(S[:k])\n",
    "    #print(Sk.shape)\n",
    "\n",
    "    Vk = VT[:k,:]\n",
    "    #print(Vk.shape)\n",
    "\n",
    "    return Uk @ Sk @ Vk"
   ]
  },
  {
   "cell_type": "code",
   "execution_count": 396,
   "metadata": {},
   "outputs": [
    {
     "name": "stdout",
     "output_type": "stream",
     "text": [
      "k =  2 , RMSE:  1.187118596053915\n",
      "k =  5 , RMSE:  1.1834438283885127\n",
      "k =  10 , RMSE:  1.179268767412921\n",
      "k =  20 , RMSE:  1.1811720087867124\n",
      "k =  30 , RMSE:  1.1807289520237836\n",
      "k =  50 , RMSE:  1.1820435825350055\n",
      "k =  75 , RMSE:  1.185640956761165\n",
      "k =  100 , RMSE:  1.1891923225895797\n"
     ]
    }
   ],
   "source": [
    "k_range = np.array([2,5,10,20,30,50,75,100])\n",
    "rmse = np.zeros(len(k_range))\n",
    "\n",
    "i = 0\n",
    "for k in k_range:\n",
    "    Rk1 = lowrank(U,S,VT,k) + R1 - R2\n",
    "    # print(Rk1)\n",
    "    rmse[i] = RMSE_ratings(Rk1, users_test, movies_test, vals_test)\n",
    "    print(\"k = \", k, \", RMSE: \", rmse[i])"
   ]
  },
  {
   "cell_type": "code",
   "execution_count": 397,
   "metadata": {},
   "outputs": [],
   "source": [
    "rmse = np.zeros(len(k_range))"
   ]
  },
  {
   "cell_type": "code",
   "execution_count": 398,
   "metadata": {},
   "outputs": [
    {
     "data": {
      "text/plain": [
       "array([0.00, 0.00, 0.00, 0.00, 0.00, 0.00, 0.00, 0.00])"
      ]
     },
     "execution_count": 398,
     "metadata": {},
     "output_type": "execute_result"
    }
   ],
   "source": [
    "rmse"
   ]
  },
  {
   "cell_type": "markdown",
   "metadata": {},
   "source": [
    "--------------------"
   ]
  },
  {
   "cell_type": "code",
   "execution_count": null,
   "metadata": {},
   "outputs": [],
   "source": []
  }
 ],
 "metadata": {
  "kernelspec": {
   "display_name": "Python 3",
   "language": "python",
   "name": "python3"
  },
  "language_info": {
   "codemirror_mode": {
    "name": "ipython",
    "version": 3
   },
   "file_extension": ".py",
   "mimetype": "text/x-python",
   "name": "python",
   "nbconvert_exporter": "python",
   "pygments_lexer": "ipython3",
   "version": "3.8.8"
  }
 },
 "nbformat": 4,
 "nbformat_minor": 4
}
