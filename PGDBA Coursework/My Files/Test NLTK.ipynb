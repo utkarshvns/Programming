{
 "cells": [
  {
   "cell_type": "code",
   "execution_count": 285,
   "id": "endangered-builder",
   "metadata": {},
   "outputs": [],
   "source": [
    "import nltk\n",
    "import re\n",
    "from sklearn.feature_extraction.text import CountVectorizer"
   ]
  },
  {
   "cell_type": "code",
   "execution_count": 402,
   "id": "sustainable-productivity",
   "metadata": {},
   "outputs": [],
   "source": [
    "mytext = \"<b>Hey there!</b> log in to https://www.google.com/ .&amp;  Here it is, are you seeing this? Test corpora\""
   ]
  },
  {
   "cell_type": "code",
   "execution_count": 403,
   "id": "frequent-workshop",
   "metadata": {},
   "outputs": [
    {
     "data": {
      "text/plain": [
       "'<b>Hey there!</b> log in to https://www.google.com/ .&amp;  Here it is, are you seeing this? Test corpora'"
      ]
     },
     "execution_count": 403,
     "metadata": {},
     "output_type": "execute_result"
    }
   ],
   "source": [
    "mytext"
   ]
  },
  {
   "cell_type": "markdown",
   "id": "bound-accuracy",
   "metadata": {},
   "source": [
    "# Remove URL"
   ]
  },
  {
   "cell_type": "code",
   "execution_count": 404,
   "id": "therapeutic-blackberry",
   "metadata": {},
   "outputs": [],
   "source": [
    "def removeURL(inputText):\n",
    "    return re.sub(r\"http\\S+\", \"\", inputText)"
   ]
  },
  {
   "cell_type": "code",
   "execution_count": 405,
   "id": "mounted-doctor",
   "metadata": {},
   "outputs": [
    {
     "data": {
      "text/plain": [
       "'<b>Hey there!</b> log in to  .&amp;  Here it is, are you seeing this? Test corpora'"
      ]
     },
     "execution_count": 405,
     "metadata": {},
     "output_type": "execute_result"
    }
   ],
   "source": [
    "mytext = removeURL(mytext)\n",
    "mytext"
   ]
  },
  {
   "cell_type": "markdown",
   "id": "chief-cookbook",
   "metadata": {},
   "source": [
    "# Remove HTML "
   ]
  },
  {
   "cell_type": "code",
   "execution_count": 406,
   "id": "employed-blind",
   "metadata": {},
   "outputs": [],
   "source": [
    "from bs4 import BeautifulSoup"
   ]
  },
  {
   "cell_type": "code",
   "execution_count": 407,
   "id": "considerable-warrant",
   "metadata": {},
   "outputs": [],
   "source": [
    "def removeHTML(inputText):\n",
    "    return BeautifulSoup(inputText, \"lxml\").get_text()"
   ]
  },
  {
   "cell_type": "code",
   "execution_count": 408,
   "id": "accurate-venture",
   "metadata": {},
   "outputs": [
    {
     "data": {
      "text/plain": [
       "'Hey there! log in to  .&  Here it is, are you seeing this? Test corpora'"
      ]
     },
     "execution_count": 408,
     "metadata": {},
     "output_type": "execute_result"
    }
   ],
   "source": [
    "mytext = removeHTML(mytext)\n",
    "mytext"
   ]
  },
  {
   "cell_type": "markdown",
   "id": "running-herald",
   "metadata": {},
   "source": [
    "# Remove punctuation"
   ]
  },
  {
   "cell_type": "code",
   "execution_count": 409,
   "id": "earned-electron",
   "metadata": {},
   "outputs": [
    {
     "name": "stdout",
     "output_type": "stream",
     "text": [
      "!\"#$%&'()*+,-./:;<=>?@[\\]^_`{|}~\n"
     ]
    }
   ],
   "source": [
    "import string\n",
    "print(string.punctuation)"
   ]
  },
  {
   "cell_type": "code",
   "execution_count": 410,
   "id": "played-translator",
   "metadata": {},
   "outputs": [],
   "source": [
    "def removePunctuation(inputText):\n",
    "    return inputText.translate(str.maketrans('', '', string.punctuation))   "
   ]
  },
  {
   "cell_type": "code",
   "execution_count": 411,
   "id": "printable-venture",
   "metadata": {},
   "outputs": [
    {
     "data": {
      "text/plain": [
       "'Hey there log in to    Here it is are you seeing this Test corpora'"
      ]
     },
     "execution_count": 411,
     "metadata": {},
     "output_type": "execute_result"
    }
   ],
   "source": [
    "mytext=removePunctuation(mytext)\n",
    "mytext"
   ]
  },
  {
   "cell_type": "markdown",
   "id": "tracked-integrity",
   "metadata": {},
   "source": [
    "# Tokenise"
   ]
  },
  {
   "cell_type": "code",
   "execution_count": 412,
   "id": "republican-gather",
   "metadata": {},
   "outputs": [],
   "source": [
    "from nltk.tokenize import word_tokenize\n",
    "my_tokens = word_tokenize(mytext)"
   ]
  },
  {
   "cell_type": "code",
   "execution_count": 413,
   "id": "mediterranean-garage",
   "metadata": {},
   "outputs": [
    {
     "data": {
      "text/plain": [
       "['Hey',\n",
       " 'there',\n",
       " 'log',\n",
       " 'in',\n",
       " 'to',\n",
       " 'Here',\n",
       " 'it',\n",
       " 'is',\n",
       " 'are',\n",
       " 'you',\n",
       " 'seeing',\n",
       " 'this',\n",
       " 'Test',\n",
       " 'corpora']"
      ]
     },
     "execution_count": 413,
     "metadata": {},
     "output_type": "execute_result"
    }
   ],
   "source": [
    "my_tokens"
   ]
  },
  {
   "cell_type": "code",
   "execution_count": 414,
   "id": "acceptable-cedar",
   "metadata": {},
   "outputs": [
    {
     "data": {
      "text/plain": [
       "'Hey there log in to Here it is are you seeing this Test corpora'"
      ]
     },
     "execution_count": 414,
     "metadata": {},
     "output_type": "execute_result"
    }
   ],
   "source": [
    "' '.join(my_tokens)"
   ]
  },
  {
   "cell_type": "markdown",
   "id": "seasonal-messaging",
   "metadata": {},
   "source": [
    "# remove stop words"
   ]
  },
  {
   "cell_type": "code",
   "execution_count": 415,
   "id": "considerable-gospel",
   "metadata": {},
   "outputs": [
    {
     "name": "stdout",
     "output_type": "stream",
     "text": [
      "['i', 'me', 'my', 'myself', 'we', 'our', 'ours', 'ourselves', 'you', \"you're\", \"you've\", \"you'll\", \"you'd\", 'your', 'yours', 'yourself', 'yourselves', 'he', 'him', 'his', 'himself', 'she', \"she's\", 'her', 'hers', 'herself', 'it', \"it's\", 'its', 'itself', 'they', 'them', 'their', 'theirs', 'themselves', 'what', 'which', 'who', 'whom', 'this', 'that', \"that'll\", 'these', 'those', 'am', 'is', 'are', 'was', 'were', 'be', 'been', 'being', 'have', 'has', 'had', 'having', 'do', 'does', 'did', 'doing', 'a', 'an', 'the', 'and', 'but', 'if', 'or', 'because', 'as', 'until', 'while', 'of', 'at', 'by', 'for', 'with', 'about', 'against', 'between', 'into', 'through', 'during', 'before', 'after', 'above', 'below', 'to', 'from', 'up', 'down', 'in', 'out', 'on', 'off', 'over', 'under', 'again', 'further', 'then', 'once', 'here', 'there', 'when', 'where', 'why', 'how', 'all', 'any', 'both', 'each', 'few', 'more', 'most', 'other', 'some', 'such', 'no', 'nor', 'not', 'only', 'own', 'same', 'so', 'than', 'too', 'very', 's', 't', 'can', 'will', 'just', 'don', \"don't\", 'should', \"should've\", 'now', 'd', 'll', 'm', 'o', 're', 've', 'y', 'ain', 'aren', \"aren't\", 'couldn', \"couldn't\", 'didn', \"didn't\", 'doesn', \"doesn't\", 'hadn', \"hadn't\", 'hasn', \"hasn't\", 'haven', \"haven't\", 'isn', \"isn't\", 'ma', 'mightn', \"mightn't\", 'mustn', \"mustn't\", 'needn', \"needn't\", 'shan', \"shan't\", 'shouldn', \"shouldn't\", 'wasn', \"wasn't\", 'weren', \"weren't\", 'won', \"won't\", 'wouldn', \"wouldn't\"]\n"
     ]
    },
    {
     "name": "stderr",
     "output_type": "stream",
     "text": [
      "[nltk_data] Downloading package stopwords to\n",
      "[nltk_data]     C:\\Users\\utkar\\AppData\\Roaming\\nltk_data...\n",
      "[nltk_data]   Package stopwords is already up-to-date!\n"
     ]
    }
   ],
   "source": [
    "from nltk.corpus import stopwords\n",
    "nltk.download('stopwords')\n",
    "print(stopwords.words('english'))"
   ]
  },
  {
   "cell_type": "code",
   "execution_count": 416,
   "id": "quiet-kidney",
   "metadata": {},
   "outputs": [],
   "source": [
    "def removeStopwords(inputTokens):\n",
    "    output_tokens = []\n",
    "    for token in inputTokens:\n",
    "        if token not in stopwords.words('english'):\n",
    "            output_tokens.append(token)\n",
    "    return output_tokens"
   ]
  },
  {
   "cell_type": "code",
   "execution_count": 417,
   "id": "sonic-patrick",
   "metadata": {},
   "outputs": [
    {
     "data": {
      "text/plain": [
       "['Hey', 'log', 'Here', 'seeing', 'Test', 'corpora']"
      ]
     },
     "execution_count": 417,
     "metadata": {},
     "output_type": "execute_result"
    }
   ],
   "source": [
    "my_tokens=removeStopwords(my_tokens)\n",
    "my_tokens"
   ]
  },
  {
   "cell_type": "markdown",
   "id": "statutory-feelings",
   "metadata": {},
   "source": [
    "#  Stemming"
   ]
  },
  {
   "cell_type": "code",
   "execution_count": 418,
   "id": "average-expert",
   "metadata": {},
   "outputs": [],
   "source": [
    "from nltk.stem import PorterStemmer"
   ]
  },
  {
   "cell_type": "code",
   "execution_count": 419,
   "id": "behavioral-enough",
   "metadata": {},
   "outputs": [],
   "source": [
    "def porterStemming(inputTokens):\n",
    "    porter = PorterStemmer()\n",
    "    output_tokens = []\n",
    "    for token in inputTokens:\n",
    "        output_tokens.append(porter.stem(token))\n",
    "    return output_tokens"
   ]
  },
  {
   "cell_type": "code",
   "execution_count": 420,
   "id": "fiscal-medicine",
   "metadata": {},
   "outputs": [
    {
     "data": {
      "text/plain": [
       "['hey', 'log', 'here', 'see', 'test', 'corpora']"
      ]
     },
     "execution_count": 420,
     "metadata": {},
     "output_type": "execute_result"
    }
   ],
   "source": [
    "my_tokens=porterStemming(my_tokens)\n",
    "my_tokens"
   ]
  },
  {
   "cell_type": "markdown",
   "id": "corporate-recommendation",
   "metadata": {},
   "source": [
    "# Lemmatisation"
   ]
  },
  {
   "cell_type": "code",
   "execution_count": 421,
   "id": "immune-vampire",
   "metadata": {},
   "outputs": [],
   "source": [
    "from nltk import WordNetLemmatizer"
   ]
  },
  {
   "cell_type": "code",
   "execution_count": 422,
   "id": "about-canadian",
   "metadata": {},
   "outputs": [],
   "source": [
    "def lemmatisation(inputTokens):\n",
    "    wnl = WordNetLemmatizer()\n",
    "    output_tokens = []\n",
    "    for token in inputTokens:\n",
    "        output_tokens.append(wnl.lemmatize(token))\n",
    "    return output_tokens"
   ]
  },
  {
   "cell_type": "code",
   "execution_count": 423,
   "id": "nominated-producer",
   "metadata": {},
   "outputs": [
    {
     "data": {
      "text/plain": [
       "['hey', 'log', 'here', 'see', 'test', 'corpus']"
      ]
     },
     "execution_count": 423,
     "metadata": {},
     "output_type": "execute_result"
    }
   ],
   "source": [
    "my_tokens=lemmatisation(my_tokens)\n",
    "my_tokens"
   ]
  },
  {
   "cell_type": "markdown",
   "id": "lonely-secretary",
   "metadata": {},
   "source": [
    "# Preprocessing"
   ]
  },
  {
   "cell_type": "code",
   "execution_count": 427,
   "id": "local-conference",
   "metadata": {},
   "outputs": [],
   "source": [
    "def preprocess(text):\n",
    "    text = removeURL(text)\n",
    "    text = removeHTML(text)\n",
    "    text=removePunctuation(text)\n",
    "    tokens = word_tokenize(text)\n",
    "    tokens=removeStopwords(tokens)\n",
    "    tokens=porterStemming(tokens)\n",
    "    tokens=lemmatisation(tokens)\n",
    "    return \" \".join(tokens)"
   ]
  },
  {
   "cell_type": "code",
   "execution_count": 428,
   "id": "balanced-medicaid",
   "metadata": {},
   "outputs": [
    {
     "data": {
      "text/plain": [
       "'hey log here see test corpus'"
      ]
     },
     "execution_count": 428,
     "metadata": {},
     "output_type": "execute_result"
    }
   ],
   "source": [
    "preprocess(mytext)"
   ]
  },
  {
   "cell_type": "markdown",
   "id": "creative-trainer",
   "metadata": {},
   "source": [
    "# Create Vocabulary"
   ]
  },
  {
   "cell_type": "code",
   "execution_count": 15,
   "id": "attractive-refrigerator",
   "metadata": {},
   "outputs": [],
   "source": [
    "corpus = [\n",
    "    'This is the first document.',\n",
    "    'This document is the second document.',\n",
    "    'And this is the third one.',\n",
    "    'Is this the first document?',\n",
    "]\n"
   ]
  },
  {
   "cell_type": "code",
   "execution_count": 16,
   "id": "cheap-accordance",
   "metadata": {},
   "outputs": [
    {
     "name": "stdout",
     "output_type": "stream",
     "text": [
      "['and', 'document', 'first', 'is', 'one', 'second', 'the', 'third', 'this']\n"
     ]
    }
   ],
   "source": [
    "vectorizer = CountVectorizer()\n",
    "X = vectorizer.fit_transform(corpus)\n",
    "print(vectorizer.get_feature_names())"
   ]
  },
  {
   "cell_type": "code",
   "execution_count": 17,
   "id": "standard-animal",
   "metadata": {},
   "outputs": [
    {
     "name": "stdout",
     "output_type": "stream",
     "text": [
      "[[0 1 1 1 0 0 1 0 1]\n",
      " [0 2 0 1 0 1 1 0 1]\n",
      " [1 0 0 1 1 0 1 1 1]\n",
      " [0 1 1 1 0 0 1 0 1]]\n"
     ]
    }
   ],
   "source": [
    "print(X.toarray())"
   ]
  },
  {
   "cell_type": "code",
   "execution_count": null,
   "id": "harmful-advertiser",
   "metadata": {},
   "outputs": [],
   "source": []
  }
 ],
 "metadata": {
  "kernelspec": {
   "display_name": "Python 3",
   "language": "python",
   "name": "python3"
  },
  "language_info": {
   "codemirror_mode": {
    "name": "ipython",
    "version": 3
   },
   "file_extension": ".py",
   "mimetype": "text/x-python",
   "name": "python",
   "nbconvert_exporter": "python",
   "pygments_lexer": "ipython3",
   "version": "3.8.8"
  }
 },
 "nbformat": 4,
 "nbformat_minor": 5
}
