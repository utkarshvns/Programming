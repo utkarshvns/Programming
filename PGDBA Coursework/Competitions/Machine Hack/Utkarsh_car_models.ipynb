{
 "cells": [
  {
   "cell_type": "code",
   "execution_count": 1,
   "id": "a3c462ee",
   "metadata": {},
   "outputs": [],
   "source": [
    "from warnings import filterwarnings\n",
    "filterwarnings('ignore')\n",
    "\n",
    "import pandas as pd\n",
    "import numpy as np\n",
    "import matplotlib.pyplot as plt\n",
    "import seaborn as sns\n",
    "%matplotlib inline"
   ]
  },
  {
   "cell_type": "code",
   "execution_count": 2,
   "id": "ffd9a385",
   "metadata": {},
   "outputs": [],
   "source": [
    "plt.rcParams['figure.figsize']=[15,8]"
   ]
  },
  {
   "cell_type": "code",
   "execution_count": 3,
   "id": "c57a672f",
   "metadata": {},
   "outputs": [],
   "source": [
    "data_train=pd.read_csv('train.csv')"
   ]
  },
  {
   "cell_type": "code",
   "execution_count": 4,
   "id": "50bdee12",
   "metadata": {},
   "outputs": [],
   "source": [
    "data_test=pd.read_csv('test.csv')"
   ]
  },
  {
   "cell_type": "code",
   "execution_count": 5,
   "id": "6551d231",
   "metadata": {},
   "outputs": [],
   "source": [
    "sample=pd.read_csv('submission.csv')"
   ]
  },
  {
   "cell_type": "code",
   "execution_count": 6,
   "id": "ef294a88",
   "metadata": {},
   "outputs": [
    {
     "data": {
      "text/plain": [
       "(19237, 18)"
      ]
     },
     "execution_count": 6,
     "metadata": {},
     "output_type": "execute_result"
    }
   ],
   "source": [
    "data_train.shape"
   ]
  },
  {
   "cell_type": "code",
   "execution_count": 7,
   "id": "f015088a",
   "metadata": {},
   "outputs": [
    {
     "name": "stdout",
     "output_type": "stream",
     "text": [
      "The numerical data are ['ID', 'Price', 'Prod. year', 'Cylinders', 'Airbags']\n",
      "The categorical data are ['Levy', 'Manufacturer', 'Model', 'Category', 'Leather interior', 'Fuel type', 'Engine volume', 'Mileage', 'Gear box type', 'Drive wheels', 'Doors', 'Wheel', 'Color']\n"
     ]
    }
   ],
   "source": [
    "cat=[]\n",
    "num=[]\n",
    "for i in data_train.columns:\n",
    "    if data_train[i].dtypes==object:\n",
    "        cat.append(i)\n",
    "    else:\n",
    "        num.append(i)\n",
    "        \n",
    "print('The numerical data are {}'.format(num))\n",
    "print('The categorical data are {}'.format(cat))"
   ]
  },
  {
   "cell_type": "code",
   "execution_count": 8,
   "id": "7648356b",
   "metadata": {},
   "outputs": [],
   "source": [
    "data_train['Prod. year']=data_train['Prod. year'].astype(object)"
   ]
  },
  {
   "cell_type": "code",
   "execution_count": 9,
   "id": "49924232",
   "metadata": {},
   "outputs": [],
   "source": [
    "data_train['Mileage']=data_train['Mileage'].str.replace('km',' ')"
   ]
  },
  {
   "cell_type": "code",
   "execution_count": 10,
   "id": "ea4656df",
   "metadata": {},
   "outputs": [],
   "source": [
    "data_train['Mileage']=data_train['Mileage'].astype(int)"
   ]
  },
  {
   "cell_type": "code",
   "execution_count": 11,
   "id": "c5a15cec",
   "metadata": {},
   "outputs": [
    {
     "data": {
      "text/plain": [
       "array(['04-May', '02-Mar', '>5'], dtype=object)"
      ]
     },
     "execution_count": 11,
     "metadata": {},
     "output_type": "execute_result"
    }
   ],
   "source": [
    "data_train['Doors'].unique()"
   ]
  },
  {
   "cell_type": "code",
   "execution_count": 12,
   "id": "d7aeada1",
   "metadata": {},
   "outputs": [],
   "source": [
    "data_train['Doors']=data_train['Doors'].replace({'04-May':4,'02-Mar':2})"
   ]
  },
  {
   "cell_type": "code",
   "execution_count": 13,
   "id": "ad80401a",
   "metadata": {},
   "outputs": [],
   "source": [
    "data_train['Doors']=data_train['Doors'].astype(str)"
   ]
  },
  {
   "cell_type": "code",
   "execution_count": 14,
   "id": "e9ef7a13",
   "metadata": {},
   "outputs": [],
   "source": [
    "data_train['Levy']=data_train['Levy'].replace({'-':np.nan})"
   ]
  },
  {
   "cell_type": "code",
   "execution_count": 15,
   "id": "0332932d",
   "metadata": {},
   "outputs": [],
   "source": [
    "data_train['Levy']=data_train['Levy'].astype(float)"
   ]
  },
  {
   "cell_type": "code",
   "execution_count": 16,
   "id": "1423bf5a",
   "metadata": {},
   "outputs": [
    {
     "data": {
      "text/plain": [
       "array([ 6.,  4.,  8.,  1., 12.,  3.,  2., 16.,  5.,  7.,  9., 10., 14.])"
      ]
     },
     "execution_count": 16,
     "metadata": {},
     "output_type": "execute_result"
    }
   ],
   "source": [
    "data_train['Cylinders'].unique()"
   ]
  },
  {
   "cell_type": "code",
   "execution_count": 17,
   "id": "a0e1520f",
   "metadata": {},
   "outputs": [],
   "source": [
    "data_train['Cylinders']=data_train['Cylinders'].astype(str)"
   ]
  },
  {
   "cell_type": "code",
   "execution_count": 18,
   "id": "74f4d0a6",
   "metadata": {},
   "outputs": [],
   "source": [
    "data_train=data_train.drop(columns=['Manufacturer','Model','ID'])"
   ]
  },
  {
   "cell_type": "code",
   "execution_count": 19,
   "id": "9c5269eb",
   "metadata": {},
   "outputs": [
    {
     "data": {
      "text/plain": [
       "array(['3.5', '3', '1.3', '2.5', '2', '1.8', '2.4', '4', '1.6', '3.3',\n",
       "       '2.0 Turbo', '2.2 Turbo', '4.7', '1.5', '4.4', '3.0 Turbo',\n",
       "       '1.4 Turbo', '3.6', '2.3', '1.5 Turbo', '1.6 Turbo', '2.2',\n",
       "       '2.3 Turbo', '1.4', '5.5', '2.8 Turbo', '3.2', '3.8', '4.6', '1.2',\n",
       "       '5', '1.7', '2.9', '0.5', '1.8 Turbo', '2.4 Turbo', '3.5 Turbo',\n",
       "       '1.9', '2.7', '4.8', '5.3', '0.4', '2.8', '3.2 Turbo', '1.1',\n",
       "       '2.1', '0.7', '5.4', '1.3 Turbo', '3.7', '1', '2.5 Turbo', '2.6',\n",
       "       '1.9 Turbo', '4.4 Turbo', '4.7 Turbo', '0.8', '0.2 Turbo', '5.7',\n",
       "       '4.8 Turbo', '4.6 Turbo', '6.7', '6.2', '1.2 Turbo', '3.4',\n",
       "       '1.7 Turbo', '6.3 Turbo', '2.7 Turbo', '4.3', '4.2', '2.9 Turbo',\n",
       "       '0', '4.0 Turbo', '20', '3.6 Turbo', '0.3', '3.7 Turbo', '5.9',\n",
       "       '5.5 Turbo', '0.2', '2.1 Turbo', '5.6', '6', '0.7 Turbo',\n",
       "       '0.6 Turbo', '6.8', '4.5', '0.6', '7.3', '0.1', '1.0 Turbo', '6.3',\n",
       "       '4.5 Turbo', '0.8 Turbo', '4.2 Turbo', '3.1', '5.0 Turbo', '6.4',\n",
       "       '3.9', '5.7 Turbo', '0.9', '0.4 Turbo', '5.4 Turbo', '0.3 Turbo',\n",
       "       '5.2', '5.8', '1.1 Turbo'], dtype=object)"
      ]
     },
     "execution_count": 19,
     "metadata": {},
     "output_type": "execute_result"
    }
   ],
   "source": [
    "data_train['Engine volume'].unique()"
   ]
  },
  {
   "cell_type": "code",
   "execution_count": 20,
   "id": "7b60ece5",
   "metadata": {},
   "outputs": [],
   "source": [
    "data_train['Additional_features']=data_train['Engine volume'].replace(['2.0 Turbo', '2.2 Turbo','3.0 Turbo','1.4 Turbo','1.5 Turbo', '1.6 Turbo','2.3 Turbo','2.8 Turbo','1.8 Turbo', '2.4 Turbo', '3.5 Turbo', '3.2 Turbo','1.3 Turbo','2.5 Turbo','1.9 Turbo', '4.4 Turbo', '4.7 Turbo', '0.2 Turbo','4.8 Turbo', '4.6 Turbo','1.2 Turbo','1.7 Turbo', '6.3 Turbo', '2.7 Turbo','2.9 Turbo', '4.0 Turbo','3.6 Turbo','3.7 Turbo','5.5 Turbo','2.1 Turbo','0.7 Turbo', '0.6 Turbo','1.0 Turbo', '4.5 Turbo', '0.8 Turbo', '4.2 Turbo', '3.1', '5.0 Turbo','5.7 Turbo','0.4 Turbo', '5.4 Turbo', '0.3 Turbo','1.1 Turbo'],'Turbo')"
   ]
  },
  {
   "cell_type": "code",
   "execution_count": 21,
   "id": "b239a525",
   "metadata": {},
   "outputs": [],
   "source": [
    "data_train['Additional_features']=data_train['Additional_features'].replace(['3.5','3','1.3','2.5','2','1.8','2.4','4','1.6','3.3','4.7','1.5','4.4','3.6','2.3','2.2','1.4','5.5','3.2','3.8','4.6','1.2','5', '1.7', '2.9', '0.5','1.9','2.7','4.8','5.3','0.4','2.8','1.1','2.1','0.7','5.4','3.7','1','2.6','5.7','3.4','4.3','4.2','5.9','6.8','4.5','0.6','7.3','0.1','6.3','6.4','5.2','5.8','0.8', '6.7', '6.2', '0', '20', '0.3', '0.2','5.6', '6', '3.9', '0.9'],'Non-Turbo')"
   ]
  },
  {
   "cell_type": "code",
   "execution_count": 22,
   "id": "b30c6772",
   "metadata": {},
   "outputs": [
    {
     "data": {
      "text/plain": [
       "array(['Non-Turbo', 'Turbo'], dtype=object)"
      ]
     },
     "execution_count": 22,
     "metadata": {},
     "output_type": "execute_result"
    }
   ],
   "source": [
    "data_train['Additional_features'].unique()"
   ]
  },
  {
   "cell_type": "code",
   "execution_count": 23,
   "id": "b0a444c7",
   "metadata": {},
   "outputs": [
    {
     "data": {
      "text/plain": [
       "array(['4x4', 'Front', 'Rear'], dtype=object)"
      ]
     },
     "execution_count": 23,
     "metadata": {},
     "output_type": "execute_result"
    }
   ],
   "source": [
    "data_train['Drive wheels'].unique()"
   ]
  },
  {
   "cell_type": "code",
   "execution_count": 24,
   "id": "b86efaa6",
   "metadata": {},
   "outputs": [],
   "source": [
    "data_train['Drive wheels']=data_train['Drive wheels'].replace({'4x4':'4-WD'})"
   ]
  },
  {
   "cell_type": "code",
   "execution_count": 25,
   "id": "70106517",
   "metadata": {},
   "outputs": [],
   "source": [
    "data_train['Engine volume']=data_train['Engine volume'].str.replace('Turbo','')"
   ]
  },
  {
   "cell_type": "code",
   "execution_count": 26,
   "id": "e901e2f4",
   "metadata": {},
   "outputs": [],
   "source": [
    "data_train['Engine volume']=data_train['Engine volume'].astype(float)"
   ]
  },
  {
   "cell_type": "code",
   "execution_count": 27,
   "id": "1bfdad3c",
   "metadata": {},
   "outputs": [
    {
     "data": {
      "text/plain": [
       "Price                     0\n",
       "Levy                   5819\n",
       "Prod. year                0\n",
       "Category                  0\n",
       "Leather interior          0\n",
       "Fuel type                 0\n",
       "Engine volume             0\n",
       "Mileage                   0\n",
       "Cylinders                 0\n",
       "Gear box type             0\n",
       "Drive wheels              0\n",
       "Doors                     0\n",
       "Wheel                     0\n",
       "Color                     0\n",
       "Airbags                   0\n",
       "Additional_features       0\n",
       "dtype: int64"
      ]
     },
     "execution_count": 27,
     "metadata": {},
     "output_type": "execute_result"
    }
   ],
   "source": [
    "data_train.isnull().sum()"
   ]
  },
  {
   "cell_type": "code",
   "execution_count": 28,
   "id": "3679983f",
   "metadata": {},
   "outputs": [],
   "source": [
    "data_train['Levy']=data_train['Levy'].fillna(data_train['Levy'].mean())"
   ]
  },
  {
   "cell_type": "code",
   "execution_count": 29,
   "id": "ecc13110",
   "metadata": {},
   "outputs": [],
   "source": [
    "df_feature=data_train.drop(columns='Price')"
   ]
  },
  {
   "cell_type": "code",
   "execution_count": 30,
   "id": "2446389d",
   "metadata": {},
   "outputs": [],
   "source": [
    "df_target=data_train['Price']"
   ]
  },
  {
   "cell_type": "code",
   "execution_count": 31,
   "id": "e7423c84",
   "metadata": {},
   "outputs": [],
   "source": [
    "num_data=df_feature.select_dtypes(include=np.number)"
   ]
  },
  {
   "cell_type": "code",
   "execution_count": 32,
   "id": "02fb9ef7",
   "metadata": {},
   "outputs": [],
   "source": [
    "cat_data=df_feature.select_dtypes(include=object)"
   ]
  },
  {
   "cell_type": "code",
   "execution_count": 33,
   "id": "8b14dc1f",
   "metadata": {},
   "outputs": [
    {
     "data": {
      "text/html": [
       "<div>\n",
       "<style scoped>\n",
       "    .dataframe tbody tr th:only-of-type {\n",
       "        vertical-align: middle;\n",
       "    }\n",
       "\n",
       "    .dataframe tbody tr th {\n",
       "        vertical-align: top;\n",
       "    }\n",
       "\n",
       "    .dataframe thead th {\n",
       "        text-align: right;\n",
       "    }\n",
       "</style>\n",
       "<table border=\"1\" class=\"dataframe\">\n",
       "  <thead>\n",
       "    <tr style=\"text-align: right;\">\n",
       "      <th></th>\n",
       "      <th>Levy</th>\n",
       "      <th>Engine volume</th>\n",
       "      <th>Mileage</th>\n",
       "      <th>Airbags</th>\n",
       "    </tr>\n",
       "  </thead>\n",
       "  <tbody>\n",
       "    <tr>\n",
       "      <th>0</th>\n",
       "      <td>1399.000000</td>\n",
       "      <td>3.5</td>\n",
       "      <td>186005</td>\n",
       "      <td>12</td>\n",
       "    </tr>\n",
       "    <tr>\n",
       "      <th>1</th>\n",
       "      <td>1018.000000</td>\n",
       "      <td>3.0</td>\n",
       "      <td>192000</td>\n",
       "      <td>8</td>\n",
       "    </tr>\n",
       "    <tr>\n",
       "      <th>2</th>\n",
       "      <td>906.838128</td>\n",
       "      <td>1.3</td>\n",
       "      <td>200000</td>\n",
       "      <td>2</td>\n",
       "    </tr>\n",
       "    <tr>\n",
       "      <th>3</th>\n",
       "      <td>862.000000</td>\n",
       "      <td>2.5</td>\n",
       "      <td>168966</td>\n",
       "      <td>0</td>\n",
       "    </tr>\n",
       "    <tr>\n",
       "      <th>4</th>\n",
       "      <td>446.000000</td>\n",
       "      <td>1.3</td>\n",
       "      <td>91901</td>\n",
       "      <td>4</td>\n",
       "    </tr>\n",
       "  </tbody>\n",
       "</table>\n",
       "</div>"
      ],
      "text/plain": [
       "          Levy  Engine volume  Mileage  Airbags\n",
       "0  1399.000000            3.5   186005       12\n",
       "1  1018.000000            3.0   192000        8\n",
       "2   906.838128            1.3   200000        2\n",
       "3   862.000000            2.5   168966        0\n",
       "4   446.000000            1.3    91901        4"
      ]
     },
     "execution_count": 33,
     "metadata": {},
     "output_type": "execute_result"
    }
   ],
   "source": [
    "num_data.head()"
   ]
  },
  {
   "cell_type": "code",
   "execution_count": 34,
   "id": "a0286f61",
   "metadata": {},
   "outputs": [
    {
     "data": {
      "text/html": [
       "<div>\n",
       "<style scoped>\n",
       "    .dataframe tbody tr th:only-of-type {\n",
       "        vertical-align: middle;\n",
       "    }\n",
       "\n",
       "    .dataframe tbody tr th {\n",
       "        vertical-align: top;\n",
       "    }\n",
       "\n",
       "    .dataframe thead th {\n",
       "        text-align: right;\n",
       "    }\n",
       "</style>\n",
       "<table border=\"1\" class=\"dataframe\">\n",
       "  <thead>\n",
       "    <tr style=\"text-align: right;\">\n",
       "      <th></th>\n",
       "      <th>Prod. year</th>\n",
       "      <th>Category</th>\n",
       "      <th>Leather interior</th>\n",
       "      <th>Fuel type</th>\n",
       "      <th>Cylinders</th>\n",
       "      <th>Gear box type</th>\n",
       "      <th>Drive wheels</th>\n",
       "      <th>Doors</th>\n",
       "      <th>Wheel</th>\n",
       "      <th>Color</th>\n",
       "      <th>Additional_features</th>\n",
       "    </tr>\n",
       "  </thead>\n",
       "  <tbody>\n",
       "    <tr>\n",
       "      <th>0</th>\n",
       "      <td>2010</td>\n",
       "      <td>Jeep</td>\n",
       "      <td>Yes</td>\n",
       "      <td>Hybrid</td>\n",
       "      <td>6.0</td>\n",
       "      <td>Automatic</td>\n",
       "      <td>4-WD</td>\n",
       "      <td>4</td>\n",
       "      <td>Left wheel</td>\n",
       "      <td>Silver</td>\n",
       "      <td>Non-Turbo</td>\n",
       "    </tr>\n",
       "    <tr>\n",
       "      <th>1</th>\n",
       "      <td>2011</td>\n",
       "      <td>Jeep</td>\n",
       "      <td>No</td>\n",
       "      <td>Petrol</td>\n",
       "      <td>6.0</td>\n",
       "      <td>Tiptronic</td>\n",
       "      <td>4-WD</td>\n",
       "      <td>4</td>\n",
       "      <td>Left wheel</td>\n",
       "      <td>Black</td>\n",
       "      <td>Non-Turbo</td>\n",
       "    </tr>\n",
       "    <tr>\n",
       "      <th>2</th>\n",
       "      <td>2006</td>\n",
       "      <td>Hatchback</td>\n",
       "      <td>No</td>\n",
       "      <td>Petrol</td>\n",
       "      <td>4.0</td>\n",
       "      <td>Variator</td>\n",
       "      <td>Front</td>\n",
       "      <td>4</td>\n",
       "      <td>Right-hand drive</td>\n",
       "      <td>Black</td>\n",
       "      <td>Non-Turbo</td>\n",
       "    </tr>\n",
       "    <tr>\n",
       "      <th>3</th>\n",
       "      <td>2011</td>\n",
       "      <td>Jeep</td>\n",
       "      <td>Yes</td>\n",
       "      <td>Hybrid</td>\n",
       "      <td>4.0</td>\n",
       "      <td>Automatic</td>\n",
       "      <td>4-WD</td>\n",
       "      <td>4</td>\n",
       "      <td>Left wheel</td>\n",
       "      <td>White</td>\n",
       "      <td>Non-Turbo</td>\n",
       "    </tr>\n",
       "    <tr>\n",
       "      <th>4</th>\n",
       "      <td>2014</td>\n",
       "      <td>Hatchback</td>\n",
       "      <td>Yes</td>\n",
       "      <td>Petrol</td>\n",
       "      <td>4.0</td>\n",
       "      <td>Automatic</td>\n",
       "      <td>Front</td>\n",
       "      <td>4</td>\n",
       "      <td>Left wheel</td>\n",
       "      <td>Silver</td>\n",
       "      <td>Non-Turbo</td>\n",
       "    </tr>\n",
       "  </tbody>\n",
       "</table>\n",
       "</div>"
      ],
      "text/plain": [
       "  Prod. year   Category Leather interior Fuel type Cylinders Gear box type  \\\n",
       "0       2010       Jeep              Yes    Hybrid       6.0     Automatic   \n",
       "1       2011       Jeep               No    Petrol       6.0     Tiptronic   \n",
       "2       2006  Hatchback               No    Petrol       4.0      Variator   \n",
       "3       2011       Jeep              Yes    Hybrid       4.0     Automatic   \n",
       "4       2014  Hatchback              Yes    Petrol       4.0     Automatic   \n",
       "\n",
       "  Drive wheels Doors             Wheel   Color Additional_features  \n",
       "0         4-WD     4        Left wheel  Silver           Non-Turbo  \n",
       "1         4-WD     4        Left wheel   Black           Non-Turbo  \n",
       "2        Front     4  Right-hand drive   Black           Non-Turbo  \n",
       "3         4-WD     4        Left wheel   White           Non-Turbo  \n",
       "4        Front     4        Left wheel  Silver           Non-Turbo  "
      ]
     },
     "execution_count": 34,
     "metadata": {},
     "output_type": "execute_result"
    }
   ],
   "source": [
    "cat_data.head()"
   ]
  },
  {
   "cell_type": "code",
   "execution_count": 35,
   "id": "f4fb7156",
   "metadata": {},
   "outputs": [],
   "source": [
    "from sklearn.preprocessing import OrdinalEncoder,LabelEncoder"
   ]
  },
  {
   "cell_type": "code",
   "execution_count": 36,
   "id": "2b500c57",
   "metadata": {},
   "outputs": [],
   "source": [
    "oe=OrdinalEncoder()"
   ]
  },
  {
   "cell_type": "code",
   "execution_count": 37,
   "id": "c27e074a",
   "metadata": {},
   "outputs": [],
   "source": [
    "cat_oe=oe.fit_transform(cat_data)"
   ]
  },
  {
   "cell_type": "code",
   "execution_count": 38,
   "id": "71b24643",
   "metadata": {},
   "outputs": [],
   "source": [
    "cat_df=pd.DataFrame(cat_oe,columns=cat_data.columns)"
   ]
  },
  {
   "cell_type": "code",
   "execution_count": 39,
   "id": "830623ac",
   "metadata": {},
   "outputs": [
    {
     "data": {
      "text/html": [
       "<div>\n",
       "<style scoped>\n",
       "    .dataframe tbody tr th:only-of-type {\n",
       "        vertical-align: middle;\n",
       "    }\n",
       "\n",
       "    .dataframe tbody tr th {\n",
       "        vertical-align: top;\n",
       "    }\n",
       "\n",
       "    .dataframe thead th {\n",
       "        text-align: right;\n",
       "    }\n",
       "</style>\n",
       "<table border=\"1\" class=\"dataframe\">\n",
       "  <thead>\n",
       "    <tr style=\"text-align: right;\">\n",
       "      <th></th>\n",
       "      <th>Prod. year</th>\n",
       "      <th>Category</th>\n",
       "      <th>Leather interior</th>\n",
       "      <th>Fuel type</th>\n",
       "      <th>Cylinders</th>\n",
       "      <th>Gear box type</th>\n",
       "      <th>Drive wheels</th>\n",
       "      <th>Doors</th>\n",
       "      <th>Wheel</th>\n",
       "      <th>Color</th>\n",
       "      <th>Additional_features</th>\n",
       "    </tr>\n",
       "  </thead>\n",
       "  <tbody>\n",
       "    <tr>\n",
       "      <th>0</th>\n",
       "      <td>43.0</td>\n",
       "      <td>4.0</td>\n",
       "      <td>1.0</td>\n",
       "      <td>2.0</td>\n",
       "      <td>9.0</td>\n",
       "      <td>0.0</td>\n",
       "      <td>0.0</td>\n",
       "      <td>1.0</td>\n",
       "      <td>0.0</td>\n",
       "      <td>12.0</td>\n",
       "      <td>0.0</td>\n",
       "    </tr>\n",
       "    <tr>\n",
       "      <th>1</th>\n",
       "      <td>44.0</td>\n",
       "      <td>4.0</td>\n",
       "      <td>0.0</td>\n",
       "      <td>5.0</td>\n",
       "      <td>9.0</td>\n",
       "      <td>2.0</td>\n",
       "      <td>0.0</td>\n",
       "      <td>1.0</td>\n",
       "      <td>0.0</td>\n",
       "      <td>1.0</td>\n",
       "      <td>0.0</td>\n",
       "    </tr>\n",
       "    <tr>\n",
       "      <th>2</th>\n",
       "      <td>39.0</td>\n",
       "      <td>3.0</td>\n",
       "      <td>0.0</td>\n",
       "      <td>5.0</td>\n",
       "      <td>7.0</td>\n",
       "      <td>3.0</td>\n",
       "      <td>1.0</td>\n",
       "      <td>1.0</td>\n",
       "      <td>1.0</td>\n",
       "      <td>1.0</td>\n",
       "      <td>0.0</td>\n",
       "    </tr>\n",
       "    <tr>\n",
       "      <th>3</th>\n",
       "      <td>44.0</td>\n",
       "      <td>4.0</td>\n",
       "      <td>1.0</td>\n",
       "      <td>2.0</td>\n",
       "      <td>7.0</td>\n",
       "      <td>0.0</td>\n",
       "      <td>0.0</td>\n",
       "      <td>1.0</td>\n",
       "      <td>0.0</td>\n",
       "      <td>14.0</td>\n",
       "      <td>0.0</td>\n",
       "    </tr>\n",
       "    <tr>\n",
       "      <th>4</th>\n",
       "      <td>47.0</td>\n",
       "      <td>3.0</td>\n",
       "      <td>1.0</td>\n",
       "      <td>5.0</td>\n",
       "      <td>7.0</td>\n",
       "      <td>0.0</td>\n",
       "      <td>1.0</td>\n",
       "      <td>1.0</td>\n",
       "      <td>0.0</td>\n",
       "      <td>12.0</td>\n",
       "      <td>0.0</td>\n",
       "    </tr>\n",
       "  </tbody>\n",
       "</table>\n",
       "</div>"
      ],
      "text/plain": [
       "   Prod. year  Category  Leather interior  Fuel type  Cylinders  \\\n",
       "0        43.0       4.0               1.0        2.0        9.0   \n",
       "1        44.0       4.0               0.0        5.0        9.0   \n",
       "2        39.0       3.0               0.0        5.0        7.0   \n",
       "3        44.0       4.0               1.0        2.0        7.0   \n",
       "4        47.0       3.0               1.0        5.0        7.0   \n",
       "\n",
       "   Gear box type  Drive wheels  Doors  Wheel  Color  Additional_features  \n",
       "0            0.0           0.0    1.0    0.0   12.0                  0.0  \n",
       "1            2.0           0.0    1.0    0.0    1.0                  0.0  \n",
       "2            3.0           1.0    1.0    1.0    1.0                  0.0  \n",
       "3            0.0           0.0    1.0    0.0   14.0                  0.0  \n",
       "4            0.0           1.0    1.0    0.0   12.0                  0.0  "
      ]
     },
     "execution_count": 39,
     "metadata": {},
     "output_type": "execute_result"
    }
   ],
   "source": [
    "cat_df.head()"
   ]
  },
  {
   "cell_type": "code",
   "execution_count": 40,
   "id": "03be62a6",
   "metadata": {},
   "outputs": [],
   "source": [
    "from sklearn.preprocessing import StandardScaler"
   ]
  },
  {
   "cell_type": "code",
   "execution_count": 41,
   "id": "116c704d",
   "metadata": {},
   "outputs": [],
   "source": [
    "sc=StandardScaler()"
   ]
  },
  {
   "cell_type": "code",
   "execution_count": 42,
   "id": "6ddab534",
   "metadata": {},
   "outputs": [],
   "source": [
    "num_sc=sc.fit_transform(num_data)"
   ]
  },
  {
   "cell_type": "code",
   "execution_count": 43,
   "id": "f3004131",
   "metadata": {},
   "outputs": [],
   "source": [
    "num_df=pd.DataFrame(num_sc,columns=num_data.columns)"
   ]
  },
  {
   "cell_type": "code",
   "execution_count": 44,
   "id": "e2ccd144",
   "metadata": {},
   "outputs": [],
   "source": [
    "concat=pd.concat([num_df,cat_df],axis=1)"
   ]
  },
  {
   "cell_type": "code",
   "execution_count": 45,
   "id": "5072926d",
   "metadata": {},
   "outputs": [],
   "source": [
    "x=concat.copy()"
   ]
  },
  {
   "cell_type": "code",
   "execution_count": 46,
   "id": "f324a1b2",
   "metadata": {},
   "outputs": [],
   "source": [
    "y=df_target.copy()"
   ]
  },
  {
   "cell_type": "code",
   "execution_count": 47,
   "id": "aed2613c",
   "metadata": {},
   "outputs": [],
   "source": [
    "from sklearn.model_selection import train_test_split"
   ]
  },
  {
   "cell_type": "code",
   "execution_count": 48,
   "id": "8492520a",
   "metadata": {},
   "outputs": [],
   "source": [
    "x_train,x_test,y_train,y_test=train_test_split(x,y,test_size=0.2,random_state=4)"
   ]
  },
  {
   "cell_type": "code",
   "execution_count": 49,
   "id": "748d4643",
   "metadata": {},
   "outputs": [],
   "source": [
    "import statsmodels\n",
    "import statsmodels.api"
   ]
  },
  {
   "cell_type": "code",
   "execution_count": 50,
   "id": "0e694cbf",
   "metadata": {},
   "outputs": [],
   "source": [
    "x_train.insert(loc=0,column='intercept',value=np.ones(x_train.shape[0]))"
   ]
  },
  {
   "cell_type": "code",
   "execution_count": 51,
   "id": "05326e03",
   "metadata": {},
   "outputs": [
    {
     "data": {
      "text/html": [
       "<div>\n",
       "<style scoped>\n",
       "    .dataframe tbody tr th:only-of-type {\n",
       "        vertical-align: middle;\n",
       "    }\n",
       "\n",
       "    .dataframe tbody tr th {\n",
       "        vertical-align: top;\n",
       "    }\n",
       "\n",
       "    .dataframe thead th {\n",
       "        text-align: right;\n",
       "    }\n",
       "</style>\n",
       "<table border=\"1\" class=\"dataframe\">\n",
       "  <thead>\n",
       "    <tr style=\"text-align: right;\">\n",
       "      <th></th>\n",
       "      <th>intercept</th>\n",
       "      <th>Levy</th>\n",
       "      <th>Engine volume</th>\n",
       "      <th>Mileage</th>\n",
       "      <th>Airbags</th>\n",
       "      <th>Prod. year</th>\n",
       "      <th>Category</th>\n",
       "      <th>Leather interior</th>\n",
       "      <th>Fuel type</th>\n",
       "      <th>Cylinders</th>\n",
       "      <th>Gear box type</th>\n",
       "      <th>Drive wheels</th>\n",
       "      <th>Doors</th>\n",
       "      <th>Wheel</th>\n",
       "      <th>Color</th>\n",
       "      <th>Additional_features</th>\n",
       "    </tr>\n",
       "  </thead>\n",
       "  <tbody>\n",
       "    <tr>\n",
       "      <th>14688</th>\n",
       "      <td>1.0</td>\n",
       "      <td>-1.487693e+00</td>\n",
       "      <td>-0.350873</td>\n",
       "      <td>-0.028819</td>\n",
       "      <td>-1.523737</td>\n",
       "      <td>47.0</td>\n",
       "      <td>9.0</td>\n",
       "      <td>1.0</td>\n",
       "      <td>2.0</td>\n",
       "      <td>7.0</td>\n",
       "      <td>0.0</td>\n",
       "      <td>1.0</td>\n",
       "      <td>1.0</td>\n",
       "      <td>0.0</td>\n",
       "      <td>12.0</td>\n",
       "      <td>0.0</td>\n",
       "    </tr>\n",
       "    <tr>\n",
       "      <th>558</th>\n",
       "      <td>1.0</td>\n",
       "      <td>5.894733e-16</td>\n",
       "      <td>1.585827</td>\n",
       "      <td>-0.029360</td>\n",
       "      <td>1.254005</td>\n",
       "      <td>46.0</td>\n",
       "      <td>1.0</td>\n",
       "      <td>1.0</td>\n",
       "      <td>5.0</td>\n",
       "      <td>9.0</td>\n",
       "      <td>1.0</td>\n",
       "      <td>2.0</td>\n",
       "      <td>0.0</td>\n",
       "      <td>0.0</td>\n",
       "      <td>1.0</td>\n",
       "      <td>0.0</td>\n",
       "    </tr>\n",
       "    <tr>\n",
       "      <th>3843</th>\n",
       "      <td>1.0</td>\n",
       "      <td>5.894733e-16</td>\n",
       "      <td>2.838986</td>\n",
       "      <td>-0.026491</td>\n",
       "      <td>0.328091</td>\n",
       "      <td>37.0</td>\n",
       "      <td>4.0</td>\n",
       "      <td>1.0</td>\n",
       "      <td>5.0</td>\n",
       "      <td>11.0</td>\n",
       "      <td>2.0</td>\n",
       "      <td>0.0</td>\n",
       "      <td>1.0</td>\n",
       "      <td>0.0</td>\n",
       "      <td>12.0</td>\n",
       "      <td>0.0</td>\n",
       "    </tr>\n",
       "    <tr>\n",
       "      <th>14118</th>\n",
       "      <td>1.0</td>\n",
       "      <td>-1.329549e+00</td>\n",
       "      <td>0.218745</td>\n",
       "      <td>-0.027950</td>\n",
       "      <td>1.254005</td>\n",
       "      <td>47.0</td>\n",
       "      <td>9.0</td>\n",
       "      <td>1.0</td>\n",
       "      <td>2.0</td>\n",
       "      <td>7.0</td>\n",
       "      <td>0.0</td>\n",
       "      <td>1.0</td>\n",
       "      <td>1.0</td>\n",
       "      <td>0.0</td>\n",
       "      <td>1.0</td>\n",
       "      <td>0.0</td>\n",
       "    </tr>\n",
       "    <tr>\n",
       "      <th>14834</th>\n",
       "      <td>1.0</td>\n",
       "      <td>2.700429e-01</td>\n",
       "      <td>-0.009102</td>\n",
       "      <td>-0.029569</td>\n",
       "      <td>-0.597823</td>\n",
       "      <td>49.0</td>\n",
       "      <td>4.0</td>\n",
       "      <td>1.0</td>\n",
       "      <td>5.0</td>\n",
       "      <td>7.0</td>\n",
       "      <td>0.0</td>\n",
       "      <td>1.0</td>\n",
       "      <td>1.0</td>\n",
       "      <td>0.0</td>\n",
       "      <td>7.0</td>\n",
       "      <td>0.0</td>\n",
       "    </tr>\n",
       "  </tbody>\n",
       "</table>\n",
       "</div>"
      ],
      "text/plain": [
       "       intercept          Levy  Engine volume   Mileage   Airbags  Prod. year  \\\n",
       "14688        1.0 -1.487693e+00      -0.350873 -0.028819 -1.523737        47.0   \n",
       "558          1.0  5.894733e-16       1.585827 -0.029360  1.254005        46.0   \n",
       "3843         1.0  5.894733e-16       2.838986 -0.026491  0.328091        37.0   \n",
       "14118        1.0 -1.329549e+00       0.218745 -0.027950  1.254005        47.0   \n",
       "14834        1.0  2.700429e-01      -0.009102 -0.029569 -0.597823        49.0   \n",
       "\n",
       "       Category  Leather interior  Fuel type  Cylinders  Gear box type  \\\n",
       "14688       9.0               1.0        2.0        7.0            0.0   \n",
       "558         1.0               1.0        5.0        9.0            1.0   \n",
       "3843        4.0               1.0        5.0       11.0            2.0   \n",
       "14118       9.0               1.0        2.0        7.0            0.0   \n",
       "14834       4.0               1.0        5.0        7.0            0.0   \n",
       "\n",
       "       Drive wheels  Doors  Wheel  Color  Additional_features  \n",
       "14688           1.0    1.0    0.0   12.0                  0.0  \n",
       "558             2.0    0.0    0.0    1.0                  0.0  \n",
       "3843            0.0    1.0    0.0   12.0                  0.0  \n",
       "14118           1.0    1.0    0.0    1.0                  0.0  \n",
       "14834           1.0    1.0    0.0    7.0                  0.0  "
      ]
     },
     "execution_count": 51,
     "metadata": {},
     "output_type": "execute_result"
    }
   ],
   "source": [
    "x_train.head()"
   ]
  },
  {
   "cell_type": "code",
   "execution_count": 52,
   "id": "f8b4ea2e",
   "metadata": {},
   "outputs": [],
   "source": [
    "mlr_model=statsmodels.api.OLS(np.log(y_train),x_train).fit()"
   ]
  },
  {
   "cell_type": "code",
   "execution_count": 53,
   "id": "80e02b7d",
   "metadata": {},
   "outputs": [
    {
     "data": {
      "text/html": [
       "<table class=\"simpletable\">\n",
       "<caption>OLS Regression Results</caption>\n",
       "<tr>\n",
       "  <th>Dep. Variable:</th>          <td>Price</td>      <th>  R-squared:         </th> <td>   0.142</td> \n",
       "</tr>\n",
       "<tr>\n",
       "  <th>Model:</th>                   <td>OLS</td>       <th>  Adj. R-squared:    </th> <td>   0.141</td> \n",
       "</tr>\n",
       "<tr>\n",
       "  <th>Method:</th>             <td>Least Squares</td>  <th>  F-statistic:       </th> <td>   169.0</td> \n",
       "</tr>\n",
       "<tr>\n",
       "  <th>Date:</th>             <td>Sun, 11 Jul 2021</td> <th>  Prob (F-statistic):</th>  <td>  0.00</td>  \n",
       "</tr>\n",
       "<tr>\n",
       "  <th>Time:</th>                 <td>11:22:14</td>     <th>  Log-Likelihood:    </th> <td> -27790.</td> \n",
       "</tr>\n",
       "<tr>\n",
       "  <th>No. Observations:</th>      <td> 15389</td>      <th>  AIC:               </th> <td>5.561e+04</td>\n",
       "</tr>\n",
       "<tr>\n",
       "  <th>Df Residuals:</th>          <td> 15373</td>      <th>  BIC:               </th> <td>5.573e+04</td>\n",
       "</tr>\n",
       "<tr>\n",
       "  <th>Df Model:</th>              <td>    15</td>      <th>                     </th>     <td> </td>    \n",
       "</tr>\n",
       "<tr>\n",
       "  <th>Covariance Type:</th>      <td>nonrobust</td>    <th>                     </th>     <td> </td>    \n",
       "</tr>\n",
       "</table>\n",
       "<table class=\"simpletable\">\n",
       "<tr>\n",
       "           <td></td>              <th>coef</th>     <th>std err</th>      <th>t</th>      <th>P>|t|</th>  <th>[0.025</th>    <th>0.975]</th>  \n",
       "</tr>\n",
       "<tr>\n",
       "  <th>intercept</th>           <td>    6.3631</td> <td>    0.174</td> <td>   36.640</td> <td> 0.000</td> <td>    6.023</td> <td>    6.703</td>\n",
       "</tr>\n",
       "<tr>\n",
       "  <th>Levy</th>                <td>   -0.0243</td> <td>    0.015</td> <td>   -1.589</td> <td> 0.112</td> <td>   -0.054</td> <td>    0.006</td>\n",
       "</tr>\n",
       "<tr>\n",
       "  <th>Engine volume</th>       <td>    0.1604</td> <td>    0.020</td> <td>    7.846</td> <td> 0.000</td> <td>    0.120</td> <td>    0.200</td>\n",
       "</tr>\n",
       "<tr>\n",
       "  <th>Mileage</th>             <td>   -0.0258</td> <td>    0.013</td> <td>   -1.985</td> <td> 0.047</td> <td>   -0.051</td> <td>   -0.000</td>\n",
       "</tr>\n",
       "<tr>\n",
       "  <th>Airbags</th>             <td>   -0.3259</td> <td>    0.013</td> <td>  -25.139</td> <td> 0.000</td> <td>   -0.351</td> <td>   -0.301</td>\n",
       "</tr>\n",
       "<tr>\n",
       "  <th>Prod. year</th>          <td>    0.0725</td> <td>    0.003</td> <td>   28.351</td> <td> 0.000</td> <td>    0.067</td> <td>    0.077</td>\n",
       "</tr>\n",
       "<tr>\n",
       "  <th>Category</th>            <td>   -0.0130</td> <td>    0.005</td> <td>   -2.792</td> <td> 0.005</td> <td>   -0.022</td> <td>   -0.004</td>\n",
       "</tr>\n",
       "<tr>\n",
       "  <th>Leather interior</th>    <td>   -0.1433</td> <td>    0.033</td> <td>   -4.402</td> <td> 0.000</td> <td>   -0.207</td> <td>   -0.080</td>\n",
       "</tr>\n",
       "<tr>\n",
       "  <th>Fuel type</th>           <td>   -0.0254</td> <td>    0.007</td> <td>   -3.716</td> <td> 0.000</td> <td>   -0.039</td> <td>   -0.012</td>\n",
       "</tr>\n",
       "<tr>\n",
       "  <th>Cylinders</th>           <td>   -0.0885</td> <td>    0.015</td> <td>   -6.011</td> <td> 0.000</td> <td>   -0.117</td> <td>   -0.060</td>\n",
       "</tr>\n",
       "<tr>\n",
       "  <th>Gear box type</th>       <td>    0.4334</td> <td>    0.015</td> <td>   29.325</td> <td> 0.000</td> <td>    0.404</td> <td>    0.462</td>\n",
       "</tr>\n",
       "<tr>\n",
       "  <th>Drive wheels</th>        <td>    0.1690</td> <td>    0.023</td> <td>    7.415</td> <td> 0.000</td> <td>    0.124</td> <td>    0.214</td>\n",
       "</tr>\n",
       "<tr>\n",
       "  <th>Doors</th>               <td>   -0.0293</td> <td>    0.059</td> <td>   -0.494</td> <td> 0.621</td> <td>   -0.145</td> <td>    0.087</td>\n",
       "</tr>\n",
       "<tr>\n",
       "  <th>Wheel</th>               <td>   -0.4760</td> <td>    0.050</td> <td>   -9.487</td> <td> 0.000</td> <td>   -0.574</td> <td>   -0.378</td>\n",
       "</tr>\n",
       "<tr>\n",
       "  <th>Color</th>               <td>    0.0024</td> <td>    0.002</td> <td>    1.069</td> <td> 0.285</td> <td>   -0.002</td> <td>    0.007</td>\n",
       "</tr>\n",
       "<tr>\n",
       "  <th>Additional_features</th> <td>    0.7119</td> <td>    0.042</td> <td>   17.068</td> <td> 0.000</td> <td>    0.630</td> <td>    0.794</td>\n",
       "</tr>\n",
       "</table>\n",
       "<table class=\"simpletable\">\n",
       "<tr>\n",
       "  <th>Omnibus:</th>       <td>4151.150</td> <th>  Durbin-Watson:     </th> <td>   1.961</td> \n",
       "</tr>\n",
       "<tr>\n",
       "  <th>Prob(Omnibus):</th>  <td> 0.000</td>  <th>  Jarque-Bera (JB):  </th> <td>10331.774</td>\n",
       "</tr>\n",
       "<tr>\n",
       "  <th>Skew:</th>           <td>-1.487</td>  <th>  Prob(JB):          </th> <td>    0.00</td> \n",
       "</tr>\n",
       "<tr>\n",
       "  <th>Kurtosis:</th>       <td> 5.695</td>  <th>  Cond. No.          </th> <td>    680.</td> \n",
       "</tr>\n",
       "</table><br/><br/>Notes:<br/>[1] Standard Errors assume that the covariance matrix of the errors is correctly specified."
      ],
      "text/plain": [
       "<class 'statsmodels.iolib.summary.Summary'>\n",
       "\"\"\"\n",
       "                            OLS Regression Results                            \n",
       "==============================================================================\n",
       "Dep. Variable:                  Price   R-squared:                       0.142\n",
       "Model:                            OLS   Adj. R-squared:                  0.141\n",
       "Method:                 Least Squares   F-statistic:                     169.0\n",
       "Date:                Sun, 11 Jul 2021   Prob (F-statistic):               0.00\n",
       "Time:                        11:22:14   Log-Likelihood:                -27790.\n",
       "No. Observations:               15389   AIC:                         5.561e+04\n",
       "Df Residuals:                   15373   BIC:                         5.573e+04\n",
       "Df Model:                          15                                         \n",
       "Covariance Type:            nonrobust                                         \n",
       "=======================================================================================\n",
       "                          coef    std err          t      P>|t|      [0.025      0.975]\n",
       "---------------------------------------------------------------------------------------\n",
       "intercept               6.3631      0.174     36.640      0.000       6.023       6.703\n",
       "Levy                   -0.0243      0.015     -1.589      0.112      -0.054       0.006\n",
       "Engine volume           0.1604      0.020      7.846      0.000       0.120       0.200\n",
       "Mileage                -0.0258      0.013     -1.985      0.047      -0.051      -0.000\n",
       "Airbags                -0.3259      0.013    -25.139      0.000      -0.351      -0.301\n",
       "Prod. year              0.0725      0.003     28.351      0.000       0.067       0.077\n",
       "Category               -0.0130      0.005     -2.792      0.005      -0.022      -0.004\n",
       "Leather interior       -0.1433      0.033     -4.402      0.000      -0.207      -0.080\n",
       "Fuel type              -0.0254      0.007     -3.716      0.000      -0.039      -0.012\n",
       "Cylinders              -0.0885      0.015     -6.011      0.000      -0.117      -0.060\n",
       "Gear box type           0.4334      0.015     29.325      0.000       0.404       0.462\n",
       "Drive wheels            0.1690      0.023      7.415      0.000       0.124       0.214\n",
       "Doors                  -0.0293      0.059     -0.494      0.621      -0.145       0.087\n",
       "Wheel                  -0.4760      0.050     -9.487      0.000      -0.574      -0.378\n",
       "Color                   0.0024      0.002      1.069      0.285      -0.002       0.007\n",
       "Additional_features     0.7119      0.042     17.068      0.000       0.630       0.794\n",
       "==============================================================================\n",
       "Omnibus:                     4151.150   Durbin-Watson:                   1.961\n",
       "Prob(Omnibus):                  0.000   Jarque-Bera (JB):            10331.774\n",
       "Skew:                          -1.487   Prob(JB):                         0.00\n",
       "Kurtosis:                       5.695   Cond. No.                         680.\n",
       "==============================================================================\n",
       "\n",
       "Notes:\n",
       "[1] Standard Errors assume that the covariance matrix of the errors is correctly specified.\n",
       "\"\"\""
      ]
     },
     "execution_count": 53,
     "metadata": {},
     "output_type": "execute_result"
    }
   ],
   "source": [
    "mlr_model.summary()"
   ]
  },
  {
   "cell_type": "code",
   "execution_count": 54,
   "id": "6e0d77c6",
   "metadata": {},
   "outputs": [],
   "source": [
    "t_intercept=mlr_model.params[0]/mlr_model.bse[0]"
   ]
  },
  {
   "cell_type": "code",
   "execution_count": 55,
   "id": "33900466",
   "metadata": {},
   "outputs": [],
   "source": [
    "t_slope=mlr_model.params[1]/mlr_model.bse[1]"
   ]
  },
  {
   "cell_type": "code",
   "execution_count": 56,
   "id": "4cb3f62a",
   "metadata": {},
   "outputs": [
    {
     "data": {
      "text/plain": [
       "(36.64027042218189, -1.5886413535042703)"
      ]
     },
     "execution_count": 56,
     "metadata": {},
     "output_type": "execute_result"
    }
   ],
   "source": [
    "t_intercept,t_slope"
   ]
  },
  {
   "cell_type": "code",
   "execution_count": 57,
   "id": "e59c061c",
   "metadata": {},
   "outputs": [],
   "source": [
    "n=len(data_train)"
   ]
  },
  {
   "cell_type": "code",
   "execution_count": 58,
   "id": "39a122f7",
   "metadata": {},
   "outputs": [],
   "source": [
    "from scipy import stats"
   ]
  },
  {
   "cell_type": "code",
   "execution_count": 59,
   "id": "e5afb2f4",
   "metadata": {},
   "outputs": [],
   "source": [
    "pval_intercept=stats.t.sf(t_intercept,df=n-1)"
   ]
  },
  {
   "cell_type": "code",
   "execution_count": 60,
   "id": "a6daa690",
   "metadata": {},
   "outputs": [],
   "source": [
    "pval_slope=stats.t.sf(t_slope,df=n-1)"
   ]
  },
  {
   "cell_type": "code",
   "execution_count": 61,
   "id": "36cd4de2",
   "metadata": {},
   "outputs": [
    {
     "data": {
      "text/plain": [
       "(1.786862720101014e-284, 0.9439210894326511)"
      ]
     },
     "execution_count": 61,
     "metadata": {},
     "output_type": "execute_result"
    }
   ],
   "source": [
    "pval_intercept,pval_slope"
   ]
  },
  {
   "cell_type": "code",
   "execution_count": 62,
   "id": "f9c8313a",
   "metadata": {},
   "outputs": [],
   "source": [
    "# confidence interval for intercept\n",
    "\n",
    "a=data_train.shape[0]\n",
    "loc=mlr_model.params[0]\n",
    "scale=mlr_model.bse[0]\n",
    "interval_for_intercept=stats.t.interval(0.95,a-1,loc,scale)"
   ]
  },
  {
   "cell_type": "code",
   "execution_count": 63,
   "id": "aa775902",
   "metadata": {},
   "outputs": [],
   "source": [
    "# confidence interval for slope\n",
    "\n",
    "b=data_train.shape[1]\n",
    "loc=mlr_model.params[1]\n",
    "scale=mlr_model.bse[1]\n",
    "interval_for_slope=stats.t.interval(0.95,b-1,loc,scale)"
   ]
  },
  {
   "cell_type": "code",
   "execution_count": 64,
   "id": "77e4fcc0",
   "metadata": {},
   "outputs": [
    {
     "data": {
      "text/plain": [
       "((-0.056810691139913855, 0.008289396518460584),\n",
       " (6.022699064628492, 6.703492243439095))"
      ]
     },
     "execution_count": 64,
     "metadata": {},
     "output_type": "execute_result"
    }
   ],
   "source": [
    "interval_for_slope,interval_for_intercept"
   ]
  },
  {
   "cell_type": "code",
   "execution_count": 65,
   "id": "a47261f6",
   "metadata": {},
   "outputs": [],
   "source": [
    "from statsmodels.stats.outliers_influence import variance_inflation_factor"
   ]
  },
  {
   "cell_type": "code",
   "execution_count": 66,
   "id": "31e6ad26",
   "metadata": {},
   "outputs": [],
   "source": [
    "vif=pd.DataFrame()\n",
    "vif['vif_factor']=[variance_inflation_factor(x.values,i) for i in range(x.shape[1])]\n",
    "vif['features']=x.columns"
   ]
  },
  {
   "cell_type": "code",
   "execution_count": 67,
   "id": "4523b48f",
   "metadata": {},
   "outputs": [
    {
     "name": "stdout",
     "output_type": "stream",
     "text": [
      "    vif_factor             features\n",
      "0     1.536276                 Levy\n",
      "1     1.766324        Engine volume\n",
      "2     1.001900              Mileage\n",
      "3     1.100601              Airbags\n",
      "4     5.625319             Category\n",
      "5     3.650443     Leather interior\n",
      "6     3.976847            Fuel type\n",
      "7     1.597544        Gear box type\n",
      "8     3.671730         Drive wheels\n",
      "9     1.303014                Wheel\n",
      "10    2.721164                Color\n",
      "11    1.205648  Additional_features\n"
     ]
    }
   ],
   "source": [
    "for i in range(len(concat.columns)):\n",
    "    vif=pd.DataFrame()\n",
    "    vif['vif_factor']=[variance_inflation_factor(concat.values,i) for i in range(concat.shape[1])]\n",
    "    vif['features']=concat.columns\n",
    "    multi=vif[vif['vif_factor']>10]\n",
    "    \n",
    "    if multi.empty==False:\n",
    "        df_sort=multi.sort_values(by='vif_factor',ascending=False)\n",
    "    else:\n",
    "        print(vif)\n",
    "        break\n",
    "        \n",
    "    if df_sort.empty==False:\n",
    "        concat=concat.drop(columns=df_sort['features'].iloc[0])\n",
    "    else:\n",
    "        print(vif)"
   ]
  },
  {
   "cell_type": "code",
   "execution_count": 68,
   "id": "34919292",
   "metadata": {},
   "outputs": [],
   "source": [
    "from statsmodels.graphics.gofplots import qqplot"
   ]
  },
  {
   "cell_type": "code",
   "execution_count": 69,
   "id": "40b69a2b",
   "metadata": {},
   "outputs": [
    {
     "name": "stdout",
     "output_type": "stream",
     "text": [
      "Skewness of the residuals:  -1.4874298088809288\n"
     ]
    },
    {
     "data": {
      "image/png": "[encoded data removed]",
      "text/plain": [
       "<Figure size 1080x576 with 1 Axes>"
      ]
     },
     "metadata": {
      "needs_background": "light"
     },
     "output_type": "display_data"
    }
   ],
   "source": [
    "sns.distplot(mlr_model.resid,hist=False)\n",
    "\n",
    "plt.title('Distribution of Residuals', fontsize = 15)\n",
    "plt.xlabel('Residuals', fontsize = 15)\n",
    "plt.ylabel('Density', fontsize = 15)\n",
    "\n",
    "print(\"Skewness of the residuals: \", mlr_model.resid.skew())"
   ]
  },
  {
   "cell_type": "code",
   "execution_count": 70,
   "id": "d3932b56",
   "metadata": {},
   "outputs": [
    {
     "data": {
      "image/png": "[encoded data removed]",
      "text/plain": [
       "<Figure size 1080x576 with 1 Axes>"
      ]
     },
     "metadata": {
      "needs_background": "light"
     },
     "output_type": "display_data"
    }
   ],
   "source": [
    "qqplot(mlr_model.resid,line='r')\n",
    "plt.show()"
   ]
  },
  {
   "cell_type": "code",
   "execution_count": 71,
   "id": "64babc01",
   "metadata": {},
   "outputs": [],
   "source": [
    "new_train=x_train[['Levy','Engine volume','Mileage','Airbags','Category','Leather interior','Fuel type','Gear box type',\n",
    "                   'Drive wheels','Wheel','Color','Additional_features']]"
   ]
  },
  {
   "cell_type": "code",
   "execution_count": 72,
   "id": "81339392",
   "metadata": {},
   "outputs": [],
   "source": [
    "new_test=x_test[['Levy','Engine volume','Mileage','Airbags','Category','Leather interior','Fuel type','Gear box type',\n",
    "                   'Drive wheels','Wheel','Color','Additional_features']]"
   ]
  },
  {
   "cell_type": "code",
   "execution_count": 195,
   "id": "f8fb0ef6",
   "metadata": {},
   "outputs": [],
   "source": [
    "from sklearn.linear_model import LinearRegression"
   ]
  },
  {
   "cell_type": "code",
   "execution_count": 196,
   "id": "262d99a0",
   "metadata": {},
   "outputs": [],
   "source": [
    "linreg=LinearRegression()"
   ]
  },
  {
   "cell_type": "code",
   "execution_count": 197,
   "id": "adec57d3",
   "metadata": {},
   "outputs": [
    {
     "data": {
      "text/plain": [
       "LinearRegression()"
      ]
     },
     "execution_count": 197,
     "metadata": {},
     "output_type": "execute_result"
    }
   ],
   "source": [
    "linreg.fit(new_train,np.log(y_train))"
   ]
  },
  {
   "cell_type": "code",
   "execution_count": 198,
   "id": "15af4b22",
   "metadata": {},
   "outputs": [],
   "source": [
    "y_pred_train=linreg.predict(new_train)"
   ]
  },
  {
   "cell_type": "code",
   "execution_count": 200,
   "id": "c893de81",
   "metadata": {},
   "outputs": [
    {
     "data": {
      "text/plain": [
       "array([9.2652289 , 9.01140165, 9.45812961, ..., 8.51630802, 9.21095376,\n",
       "       8.45047817])"
      ]
     },
     "execution_count": 200,
     "metadata": {},
     "output_type": "execute_result"
    }
   ],
   "source": [
    "y_pred_train"
   ]
  },
  {
   "cell_type": "code",
   "execution_count": 201,
   "id": "5205302f",
   "metadata": {},
   "outputs": [
    {
     "data": {
      "text/plain": [
       "14688     7997\n",
       "558      20385\n",
       "3843     20542\n",
       "14118    11133\n",
       "14834    72268\n",
       "         ...  \n",
       "16840    16935\n",
       "11863    40045\n",
       "17093     5018\n",
       "8366     60213\n",
       "17530     4704\n",
       "Name: Price, Length: 15389, dtype: int64"
      ]
     },
     "execution_count": 201,
     "metadata": {},
     "output_type": "execute_result"
    }
   ],
   "source": [
    "y_train"
   ]
  },
  {
   "cell_type": "code",
   "execution_count": 199,
   "id": "7cdb7629",
   "metadata": {},
   "outputs": [],
   "source": [
    "y_pred_test=linreg.predict(new_test)"
   ]
  },
  {
   "cell_type": "code",
   "execution_count": 179,
   "id": "cf3ff251",
   "metadata": {},
   "outputs": [],
   "source": [
    "from sklearn.metrics import mean_squared_error,mean_absolute_error,r2_score"
   ]
  },
  {
   "cell_type": "code",
   "execution_count": 79,
   "id": "3fd956d6",
   "metadata": {},
   "outputs": [],
   "source": [
    "rmse_train=np.sqrt(mean_squared_error(y_train,y_pred_train))"
   ]
  },
  {
   "cell_type": "code",
   "execution_count": 80,
   "id": "c3427cc6",
   "metadata": {},
   "outputs": [],
   "source": [
    "rmse_test=np.sqrt(mean_squared_error(y_test,y_pred_test))"
   ]
  },
  {
   "cell_type": "code",
   "execution_count": 81,
   "id": "6323f981",
   "metadata": {},
   "outputs": [],
   "source": [
    "mae_train=mean_absolute_error(y_train,y_pred_train)"
   ]
  },
  {
   "cell_type": "code",
   "execution_count": 82,
   "id": "f581fa22",
   "metadata": {},
   "outputs": [],
   "source": [
    "mae_test=mean_absolute_error(y_test,y_pred_test)"
   ]
  },
  {
   "cell_type": "code",
   "execution_count": 83,
   "id": "290ab915",
   "metadata": {},
   "outputs": [
    {
     "data": {
      "text/plain": [
       "(213713.57081332998, 25092.53336702672, 18845.633967735233, 17352.302290720807)"
      ]
     },
     "execution_count": 83,
     "metadata": {},
     "output_type": "execute_result"
    }
   ],
   "source": [
    "rmse_train,rmse_test,mae_train,mae_test"
   ]
  },
  {
   "cell_type": "code",
   "execution_count": 87,
   "id": "77d121bc",
   "metadata": {},
   "outputs": [],
   "source": [
    "from mlxtend.feature_selection import SequentialFeatureSelector"
   ]
  },
  {
   "cell_type": "code",
   "execution_count": 88,
   "id": "cbdd5bf4",
   "metadata": {},
   "outputs": [],
   "source": [
    "linreg_forward=SequentialFeatureSelector(estimator=linreg,k_features=(5,10),\n",
    "                                        forward=True,cv=12,\n",
    "                                        scoring='r2')"
   ]
  },
  {
   "cell_type": "code",
   "execution_count": 89,
   "id": "702c70f3",
   "metadata": {},
   "outputs": [],
   "source": [
    "sfs_forward=linreg_forward.fit(new_train,y_train)"
   ]
  },
  {
   "cell_type": "code",
   "execution_count": 90,
   "id": "46615d79",
   "metadata": {},
   "outputs": [
    {
     "name": "stdout",
     "output_type": "stream",
     "text": [
      "Feature Selection using forward selection are :  ('Engine volume', 'Mileage', 'Gear box type', 'Drive wheels', 'Wheel', 'Additional_features')\n",
      "R-Squared :  0.04637881594899646\n"
     ]
    }
   ],
   "source": [
    "print('Feature Selection using forward selection are : ',sfs_forward.k_feature_names_)\n",
    "print('R-Squared : ', sfs_forward.k_score_)"
   ]
  },
  {
   "cell_type": "code",
   "execution_count": 91,
   "id": "0fddf9f3",
   "metadata": {},
   "outputs": [],
   "source": [
    "linreg_backward=SequentialFeatureSelector(estimator=linreg,k_features=(5,10),\n",
    "                                         forward=False,cv=12,\n",
    "                                         scoring='r2')"
   ]
  },
  {
   "cell_type": "code",
   "execution_count": 92,
   "id": "0a2e57ee",
   "metadata": {},
   "outputs": [],
   "source": [
    "sfs_backward=linreg_backward.fit(new_train,y_train)"
   ]
  },
  {
   "cell_type": "code",
   "execution_count": 93,
   "id": "fcb0db61",
   "metadata": {},
   "outputs": [
    {
     "name": "stdout",
     "output_type": "stream",
     "text": [
      "Feature Selection using backward selection are :  ('Engine volume', 'Mileage', 'Gear box type', 'Drive wheels', 'Wheel', 'Additional_features')\n",
      "R-Squared :  0.04637881594899646\n"
     ]
    }
   ],
   "source": [
    "print('Feature Selection using backward selection are : ',sfs_backward.k_feature_names_)\n",
    "print('R-Squared : ', sfs_backward.k_score_)"
   ]
  },
  {
   "cell_type": "code",
   "execution_count": 91,
   "id": "cdadd182",
   "metadata": {},
   "outputs": [],
   "source": [
    "from sklearn.feature_selection import RFE"
   ]
  },
  {
   "cell_type": "code",
   "execution_count": 92,
   "id": "f450743c",
   "metadata": {},
   "outputs": [],
   "source": [
    "rfe=RFE(estimator=linreg,n_features_to_select=12)"
   ]
  },
  {
   "cell_type": "code",
   "execution_count": 93,
   "id": "beda40b2",
   "metadata": {},
   "outputs": [
    {
     "data": {
      "text/plain": [
       "RFE(estimator=LinearRegression(), n_features_to_select=12)"
      ]
     },
     "execution_count": 93,
     "metadata": {},
     "output_type": "execute_result"
    }
   ],
   "source": [
    "rfe.fit(new_train,y_train)"
   ]
  },
  {
   "cell_type": "code",
   "execution_count": 94,
   "id": "c1b15d4a",
   "metadata": {},
   "outputs": [],
   "source": [
    "feat_index = pd.Series(data = rfe.ranking_, index = new_train.columns)"
   ]
  },
  {
   "cell_type": "code",
   "execution_count": 95,
   "id": "3f943b3a",
   "metadata": {},
   "outputs": [],
   "source": [
    "signi_feat_rfe = feat_index[feat_index==1].index"
   ]
  },
  {
   "cell_type": "code",
   "execution_count": 96,
   "id": "634cc356",
   "metadata": {},
   "outputs": [
    {
     "data": {
      "text/plain": [
       "Index(['Levy', 'Engine volume', 'Mileage', 'Airbags', 'Category',\n",
       "       'Leather interior', 'Fuel type', 'Gear box type', 'Drive wheels',\n",
       "       'Wheel', 'Color', 'Additional_features'],\n",
       "      dtype='object')"
      ]
     },
     "execution_count": 96,
     "metadata": {},
     "output_type": "execute_result"
    }
   ],
   "source": [
    "signi_feat_rfe"
   ]
  },
  {
   "cell_type": "code",
   "execution_count": 97,
   "id": "b4ec4381",
   "metadata": {},
   "outputs": [],
   "source": [
    "from sklearn.model_selection import KFold,LeaveOneOut,cross_val_score"
   ]
  },
  {
   "cell_type": "code",
   "execution_count": 98,
   "id": "1d32db3e",
   "metadata": {},
   "outputs": [],
   "source": [
    "kf=KFold(n_splits=5)"
   ]
  },
  {
   "cell_type": "code",
   "execution_count": 99,
   "id": "1152f1d8",
   "metadata": {},
   "outputs": [],
   "source": [
    "def get_score(model,x_train_k,x_test_k,y_train_k,y_test_k):\n",
    "    model.fit(x_train_k,y_train_k)\n",
    "    x=model.score(x_train_k,y_train_k)\n",
    "    return x"
   ]
  },
  {
   "cell_type": "code",
   "execution_count": 100,
   "id": "85be0b84",
   "metadata": {},
   "outputs": [],
   "source": [
    "scores=[]\n",
    "for i,j in kf.split(new_train):\n",
    "    x_train_k,x_test_k,y_train_k,y_test_k=new_train.iloc[i],new_train.iloc[j],y_train.iloc[i],y_train.iloc[j]\n",
    "    s=get_score(linreg,x_train_k,x_test_k,y_train_k,y_test_k)\n",
    "    scores.append(s)"
   ]
  },
  {
   "cell_type": "code",
   "execution_count": 101,
   "id": "269ee7ab",
   "metadata": {},
   "outputs": [
    {
     "name": "stdout",
     "output_type": "stream",
     "text": [
      "All Scores\n",
      "[0.10015377381649215, 0.001627296202285966, 0.0015904222448630545, 0.001670677651214869, 0.0016265275445521699]\n",
      "Maximum Scores obtained : \n",
      "0.10015377381649215\n",
      "Minimum Scores obtained : \n",
      "0.0015904222448630545\n",
      "Average Scores obtained : \n",
      "0.021333739491881644\n"
     ]
    }
   ],
   "source": [
    "print('All Scores',scores,sep='\\n')\n",
    "print('Maximum Scores obtained : ',max(scores),sep='\\n')\n",
    "print('Minimum Scores obtained : ',min(scores),sep='\\n')\n",
    "print('Average Scores obtained : ',np.mean(scores),sep='\\n')"
   ]
  },
  {
   "cell_type": "code",
   "execution_count": 102,
   "id": "6f7f1ac7",
   "metadata": {},
   "outputs": [],
   "source": [
    "loocv=LeaveOneOut()"
   ]
  },
  {
   "cell_type": "code",
   "execution_count": 103,
   "id": "3767a37a",
   "metadata": {},
   "outputs": [],
   "source": [
    "loocv_rmse=[]\n",
    "for i,j in loocv.split(new_train):\n",
    "    x_train_l,x_test_l,y_train_l,y_test_l=new_train.iloc[i],new_train.iloc[j],y_train.iloc[i],y_train.iloc[j]\n",
    "    linreg.fit(x_train_l,y_train_l)\n",
    "    y_l=linreg.predict(x_test_l)\n",
    "    rmse=np.sqrt(mean_squared_error(y_test_l,y_l))\n",
    "    loocv_rmse.append(rmse)"
   ]
  },
  {
   "cell_type": "code",
   "execution_count": 104,
   "id": "b5a2d80c",
   "metadata": {},
   "outputs": [
    {
     "name": "stdout",
     "output_type": "stream",
     "text": [
      "All Scores\n",
      "[8985.715700582114, 5566.700645391007, 5188.41179574536, 297.4179342954558, 50925.777544653916, 7971.815887598805, 3352.5019168670187, 16280.419963923581, 407.5910329792023, 24553.701666998288, 15935.38819662937, 5606.984862346315, 10009.144470899544, 55022.84732557877, 21389.820599974195, 1685.527942232853, 18172.28608647745, 26243.35938041289, 7046.419273512838, 2398.521710239809, 10267.417866644024, 18111.981519400295, 7068.698040666517, 5622.103444813307, 47.148469905907405, 30523.484525709384, 2054.6571966801566, 4528.8436208108615, 571.1216667982917, 3897.418973473279, 7968.0216719986165, 1405.7049872924981, 17659.77494054495, 20797.5621501789, 5773.619003605887, 4719.348493937534, 10492.500044822089, 8036.305867237268, 16987.9252041624, 12805.64564837335, 28576.40866608961, 25813.589449761002, 70234.20160075388, 1862.0775884663599, 25935.55196372744, 23825.688687475777, 15404.0365727311, 16160.101540215335, 1608.6421342741014, 23896.7346912219, 6835.162522302038, 1849.7150765077095, 28250.01381964909, 3637.2740402674317, 1019.1460983368415, 8832.907023711443, 1665.9863903704427, 5620.901851776784, 983.160049090533, 2114.121562983819, 701.5012149800605, 13917.969558388679, 11555.253093436557, 14840.198126571071, 4162.614686453155, 6588.294370359901, 17118.2619079896, 6677.549710192467, 581.1096726307478, 17924.23335354565, 8711.59012488915, 2647.3423202079466, 17077.098910946577, 1866.2788693804287, 297.93697638769663, 26289881.129809078, 406.50156994871577, 11463.649494477533, 3083.495620856229, 20848.099591227234, 1072.5142743820543, 11782.023192619516, 2330.3737419656463, 26707.293382524935, 1453.1835624369232, 29221.188037979584, 27976.994522319466, 2126.126762130363, 15295.5319938631, 7622.108864282658, 11252.73568316281, 15408.42420264303, 21775.60510388026, 4114.169421900908, 1572.6227684022924, 10148.65214134608, 14557.09369233005, 10625.618763001949, 3474.833876389781, 20553.109854057184, 8398.361112171922, 7088.436140320686, 25477.780145406345, 17462.542908393676, 15780.503145007799, 1398.713420398064, 4677.798182535844, 5144.74308402208, 15908.987542318398, 12165.52194201553, 6757.601929350814, 23675.81872017526, 18174.235368298854, 16629.14649246095, 10836.239338120417, 15213.952039857497, 20378.917074338315, 8837.430610122436, 7308.692822740955, 13924.928767428664, 5575.605883433222, 12415.77436109816, 8006.568116858587, 15641.14040384099, 16335.845925812704, 13785.024630684482, 26707.293382524917, 6078.757304762454, 37924.120726629066, 2179.0965832686015, 11292.241020385169, 20609.87886635054, 1895.3274835542907, 8341.049063851326, 32193.920444435345, 18842.481043667958, 21509.098726692886, 5702.635330090205, 7231.802417969033, 7746.562174561721, 2053.7284399117743, 8040.89213767324, 34284.87197968346, 3366.4868770938847, 26608.05063166319, 10803.865197683866, 851.3489016235035, 21522.001769631985, 19579.230568868155, 11223.176591444219, 6900.624985261078, 19358.24465839334, 8510.004664109136, 1212.853024849268, 45539.388847826136, 3415.8654480309197, 2080.4224171233327, 6262.299755042881, 5177.242609874644, 7527.827809683342, 1230.1972279546098, 13110.54655568589, 15167.404256707174, 7577.193810808421, 10208.61160259806, 13383.912490282608, 12738.391630162725, 4182.971733011887, 18778.348634177964, 17143.966878940075, 11297.475545032092, 10653.283304602563, 17553.391232615602, 11386.022977907138, 10697.923600741502, 26668.569199641468, 2242.128403308736, 1134.0405747186414, 6618.563089033705, 8456.141387702526, 22285.18756738169, 7196.264888691821, 10536.356759668979, 6989.345548648878, 778.3459094706777, 4706.564715696462, 18767.759288709243, 2213.96443616561, 4018.911938968551, 33092.7847628902, 8403.70911685611, 24386.40136277424, 12309.901142890056, 2417.1943547328046, 1451.2668897782532, 2823.3913132995986, 11906.076416081989, 8450.239298804132, 12853.003858762313, 11776.637329079967, 13382.10519384925, 11556.525257127327, 2261.121069345205, 339.5863617364157, 11075.090926197568, 5100.902577075976, 7650.79541926903, 15841.68905888679, 4223.849002369254, 3030.932765557518, 8249.90414017921, 3088.48906279933, 3004.7349625956194, 7228.419650348351, 12449.39210163643, 9733.726124975481, 50466.265912783754, 3830.65489236133, 9461.07750141227, 9622.55978766673, 28119.358753115244, 1995.686016051448, 7538.423065484378, 3384.8383630917197, 5554.759546767851, 8529.923109041381, 10512.05975415864, 6493.078131820515, 34266.08831247462, 27481.566788402455, 17244.173173129348, 5760.91850674395, 29386.72692676494, 2525.3149133202496, 14732.707491035238, 16089.438830483992, 4900.494764083891, 14509.677844450423, 3531.258589167628, 18930.023100591632, 20611.926289740924, 8679.42298296508, 48157.85921800974, 380.4056838562319, 690.5659043230553, 5231.249664888637, 5602.234901255786, 254.58768131092438, 12772.849421690313, 4633.404081499561, 9881.007266409804, 15100.653632705737, 14064.281010609506, 7352.359783314816, 1320.736072531312, 3352.501916867037, 13534.55883841003, 3538.417032793499, 18309.513547052793, 3840.6342645180557, 23418.24847138986, 10683.888295401703, 2050.060226136193, 20400.28129019146, 319.4548684890651, 15680.342837868335, 4230.525735759224, 4641.927179717266, 7874.485522173385, 20385.783291192336, 5690.143961325171, 12001.339775305634, 15438.4892835303, 474.9694285925798, 20561.543720045902, 35024.03322487258, 11292.300343193896, 8578.79068986914, 2879.153245183683, 16155.09816542194, 9846.727360449819, 16409.34072695135, 1776.6003335622518, 22673.110890028074, 3347.0429680415, 3592.9924616886237, 1402.8062947851286, 4356.272714740589, 7099.494104285619, 19506.905540783697, 16379.896129157405, 509.564572523519, 1658.9579076612172, 13119.260894207946, 7540.133663843015, 17882.005048966817, 16515.5591377054, 2322.085844090885, 10675.52295303391, 47029.63756057469, 9950.542691297953, 20494.093817270354, 16289.883031868492, 6486.795807064496, 1184.5395136953339, 27204.89267813429, 14003.282009819784, 11460.489264261578, 486.5575951441788, 3024.843309120726, 9685.748651196016, 1033.3138256842467, 3535.2268086877193, 17025.98686663968, 8836.440499616463, 17253.355779646932, 30032.023931556454, 2144.350222885161, 9629.76109085292, 2733.588651577611, 14500.837152012053, 2730.5558717825006, 7452.236562631588, 6980.418817264825, 12989.421664302274, 22163.29065888429, 3442.865054841677, 11667.59759969981, 71139.68849060166, 7978.667530119375, 13389.017126068982, 4857.2098939454045, 30981.86353182416, 8134.02059881869, 9508.690247650818, 15863.302442126242, 22650.68251488408, 19443.608482039162, 34854.892452422806, 11429.153520376847, 111.71401603056438, 7250.433378809052, 487.89156728616217, 18668.534637704928, 17872.981498402045, 16869.71119035149, 1341.9751354437904, 4441.761759793964, 6700.774339235897, 87324.70203713886, 13473.237293432281, 137.83232855590177, 5823.260582583705, 11043.954708276648, 18543.491356435166, 638.9277138292455, 5915.853937512969, 9744.415020700893, 14672.130785449215, 20559.833510647397, 18755.68443690717, 14165.273133429393, 6990.757904506569, 2712.749472555137, 6249.014590564642, 13145.442809772077, 11224.150560436254, 9244.456812538134, 7312.177565362457, 7538.727830148629, 18407.23863984806, 15168.878752806155, 5411.634274881111, 22847.55298257286, 18081.82556766845, 18585.43717842238, 3767.470717598844, 4593.4828562607945, 12263.116680673702, 15191.689942349862, 992.5698283147649, 14141.821525655403, 701.572903689721, 21511.9377183768, 10938.803456078327, 27635.900858449262, 34266.08831247462, 17616.587049500165, 3386.2208404485355, 11982.895593998834, 14019.183107762849, 7193.895452293742, 29912.956892113274, 2671.2413752882057, 15149.098906574225, 4432.121830674932, 1792.0438942648616, 25224.656492946713, 19586.65197049119, 20138.897660480885, 3384.872292023738, 5061.961200371294, 31253.273481423763, 7660.317759647922, 5539.462930973088, 7479.251368568173, 18878.093388539663, 15033.36900991516, 15383.811648947296, 10973.290761240805, 1017.797341319947, 10269.42460886473, 3061.5794787718332, 29901.198569702654, 24448.690381372882, 49497.10583939137, 9769.985689563131, 167.05098098088274, 1492.3451013375707, 5504.145358440186, 4838.996729846454, 5209.030082232879, 4258.0190875574335, 27237.256535214692, 31528.283163159358, 5064.876486518926, 11356.687263750071, 2515.6312080544667, 655.414203136952, 16098.368552598986, 6149.058802602318, 7784.391850740281, 13758.245452433308, 1821.1786593008983, 17715.080938291874, 11307.509905197006, 14930.027876540069, 2680.799133209097, 3482.0336990662145, 23056.154804230428, 9518.102743883406, 6249.444208915997, 14869.816164116492, 13542.67202940103, 5931.547618351011, 12676.736241184197, 88.1847457716467, 4866.217041518168, 19754.664611790235, 1853.6828083544533, 861.832246813643, 14071.89277320358, 10174.457037461543, 34.18738785459209, 14662.655991722098, 15631.931479364532, 17825.01317398018, 614.2603593022068, 18199.385531439126, 1988.6944786597378, 29850.583190669255, 9143.065223577618, 7146.029999991297, 5728.7022576778, 10870.174942243455, 8817.427974660382, 121157.43819001853, 11119.878517063997, 15620.024043061305, 35388.55783776042, 13119.260894207939, 5225.524037831528, 46545.914577118805, 4943.228759089401, 6611.6280112058375, 3949.89191948601, 20670.52241062945, 21321.60645493005, 28605.0674030403, 7531.173809728149, 18312.351515467097, 31374.264417401613, 2497.9944302664735, 10169.54919203584, 21007.91104191023, 4582.505448021209, 17562.939656239756, 5022.024721285274, 7605.488612424764, 10969.225716298686, 15792.697004847902, 14452.018680097746, 19986.595887903644, 8898.63293839675, 7699.824945496177, 14328.091737368311, 34112.14901740532, 9053.959829332158, 8883.487087492871, 11735.161774740202, 11231.674963816804, 5287.89409171262, 12989.42166430226, 4245.166309987821, 26204.09453557668, 25021.228624313277, 4294.738739785673, 3914.412337285612, 16698.8752188359, 5657.194567279654, 7309.22045798241, 4718.127403512739, 8089.9494443566, 1853.8981389000837, 2079.3369972888104, 19203.772830917274, 2180.5887996991623, 16571.50637186609, 3842.6078554303094, 7040.232685143761, 16357.790354647732, 55.4654769202607, 8373.02135297911, 15716.382236235702, 4774.490998259484, 1779.9075299364922, 7619.435338168863, 4447.295221358745, 8602.417883412334, 17294.475874338517, 18938.37188610153, 22721.98127958065, 3352.5019168670296, 127.3920656653354, 4665.546705744036, 604.3148977993005, 4199.7701320275555, 8782.258964080145, 8155.131880599423, 16930.23496142283, 8998.16608351536, 3725.275364628371, 2650.8798909193247, 1885.6831208545846, 20817.893831170935, 14431.227744947533, 30059.500943727646, 3189.9296832404834, 23246.418581701797, 20576.673727192145, 10792.345841430575, 15520.061297074131, 24125.01358543771, 8082.015257435498, 17078.295580693335, 9601.867405551817, 10885.165868060863, 50275.358493706335, 17688.083333420567, 8980.252736298218, 65.03889916447224, 2377.921455408017, 2811.913169341191, 10843.620482976014, 34309.37534760343, 13540.114739037657, 2028.3242187163414, 22141.086484944135, 2960.9126950915525, 2879.102936116302, 8838.691927368574, 25030.211568489773, 7452.155470229365, 25068.58033259891, 1585.2279205022496, 13810.11690737533, 16698.8752188359, 12693.69473495477, 11590.545278304045, 3947.733837625252, 15840.530947786683, 7530.801858620565, 2771.5356555694525, 4487.465870584405, 6707.321596702139, 14680.290314974915, 319.4548684890615, 6058.357455239111, 10408.705745950174, 10025.547364189002, 6461.92351600053, 7182.674738075984, 803.2902672436139, 41467.97453920169, 1894.635855873461, 13757.39250103022, 4606.29307487237, 11199.866805723937, 15875.9439381396, 4901.075041491404, 13884.66720547272, 4899.04679971985, 17261.316250067925, 2683.931652876039, 6388.46448181169, 14412.962550637349, 4498.672537720438, 297.4179342954085, 17384.458678850297, 9576.669375812213, 4902.293471463534, 4907.530945614835, 23397.966840048735, 1428.6270546152955, 10097.01546928431, 15400.749453708617, 4294.573329483177, 18660.653337564625, 180.62436472041736, 1245.8841521085233, 1276.7228844780548, 22502.172567483736, 6805.524450115736, 19222.593272605696, 7458.558734735881, 12303.417495757043, 5627.068649807781, 12418.845074888104, 3288.4884262322084, 25685.988003550454, 25584.190655169492, 9314.750696751078, 2040.0781372567035, 10822.954749785225, 3642.8599197247677, 12998.3239566087, 7053.626272936486, 2730.5558717825115, 10795.365306240841, 16162.820631838978, 4432.037514203588, 5357.3311790174375, 19992.664503339263, 17651.171512565576, 6085.284370505542, 4162.614686453147, 18574.576287819935, 1118.299538302781, 1317.4765633582829, 11216.40480958953, 22974.235327466315, 4590.267965397452, 21674.43619371254, 23070.357623588643, 15555.672482264137, 10838.510746801036, 15992.033872972519, 3348.0045987772974, 140.43599286832978, 7113.413777190741, 4883.771308064428, 1296.8044854166583, 7654.6400721173995, 14904.706163284529, 26586.492211699213, 4070.226798295007, 7726.917780575914, 6032.201624087, 768.7347251874271, 7626.041018025906, 7293.4481374220595, 29194.827988598754, 10610.404827069757, 10094.36183050755, 8785.133555144275, 4005.92119748965, 26449.105225191313, 3823.6687244109926, 8229.73514539918, 4136.967957057306, 9747.445241605026, 44792.4907988622, 9217.226072782763, 2964.5740647583443, 11368.48546233376, 4652.0982565024715, 2973.7239095773148, 15846.972532544554, 4432.866685403733, 7114.840799050369, 19789.378119735207, 11453.66926331371, 309.4052816439107, 15815.356184967892, 6948.958604914442, 8781.111995803447, 13464.520661287926, 14465.512499416855, 5921.025210093834, 4875.625520856673, 3914.129955510023, 14063.910869142765, 11067.756954714194, 12476.032990752868, 25187.027938588835, 9083.2737966481, 6023.124251917936, 21384.348728933473, 754.2584559382449, 6382.007608801388, 15627.352153480508, 8147.7768121601475, 2671.0416450601624, 6338.771678777281, 36050.35386096792, 10461.089431855988, 16369.712727946153, 18266.243632571794, 13390.694019706007, 20564.82023247916, 28370.471493385456, 110.63947479830676, 3912.954165375475, 9930.99207584991, 20896.570174747787, 34266.088312474625, 18973.150380259496, 10730.079949107803, 6989.345548648875, 1652.126579998927, 4141.686923116351, 1499.3892551875906, 5610.038973286049, 24977.69809161997, 442.8228912963459, 27035.918071537875, 4497.46743723617, 15394.761243376248, 24405.789238599726, 20063.180142073514, 13532.199573147675, 7526.44952784972, 3862.837227345226, 10287.578660701758, 25199.990633128607, 12537.097473097674, 7798.780780004228, 1112.6647645473058, 16337.406641743572, 1907.1221950344807, 5633.780369190026, 15906.481659316625, 7940.258884022249, 11405.834984116736, 24218.780598172547, 41457.96951236823, 11410.083493339484, 16431.35933805114, 9920.585351036625, 1551.651678286973, 4496.881087038713, 3282.50054922836, 27073.833935567625, 11237.205028349214, 9911.92348625093, 412.30855121417335, 6152.35687014677, 5634.987359467512, 15740.38670146378, 8267.599298618123, 10339.585498810833, 4779.433738789263, 519.940767248605, 2755.5645535199583, 703.8939962894183, 4780.8453077007325, 25111.23061800196, 983.1600490905512, 20879.217040090036, 11416.605572693232, 10458.148249529379, 10464.05611215824, 9810.92582775222, 226.90080834559922, 24289.515138391307, 2890.5414220534985, 6285.448523371029, 17763.459807830302, 11904.971082974469, 9333.904704158544, 6564.168989556809, 22714.476178336827, 18361.924925989457, 469.38687991797633, 17262.007293472903, 10380.407406626957, 5202.188122737123, 1874.3473088519168, 9078.081994371634, 11637.181448426029, 252.66438684762397, 5256.05300367199, 769.7773200178417, 8883.202466972656, 15775.660939617534, 22486.502716901457, 904.0907487018267, 14147.942020541228, 20440.618431483366, 5825.956078452189, 6291.991846302779, 72.41547539077874, 4408.7359748972885, 7716.785789600952, 24752.41736465288, 16033.400188712909, 18638.120709194067, 1893.8156969453557, 18225.070990064265, 15308.669499045362, 12137.597873217528, 16176.896673783718, 17308.702105426284, 2712.7536853429083, 10037.866219301603, 3045.933143887072, 26670.432253268853, 12393.752836186643, 34821.272882023986, 24080.94873556485, 42369.347975191544, 2997.4977902363134, 69512.57089414804, 8082.321759045462, 22850.498042119165, 4880.366560562521, 9270.915415201023, 8765.272854914601, 11061.934167305219, 2919.981744003846, 23378.317225257855, 2755.22681933123, 25988.5530664341, 14435.181872885634, 10237.76443675402, 12118.419381128813, 3138.6749650120582, 7494.785071930601, 22637.891700848897, 16360.495058888904, 2268.2765457455826, 2319.3788262240996, 14899.970435588333, 25391.594196500526, 17926.089566644216, 3813.603825320526, 16335.525300712805, 10528.507835924462, 2447.7165478083225, 1736.3013382919235, 9144.098925063485, 4995.578220092644, 13399.000290233671, 20650.16883960498, 8132.873364105602, 11461.787926887784, 7282.18661032986, 27.454815411943855, 2879.1729706128717, 4932.39057966154, 35660.37517546769, 21941.372327158788, 3324.93608218183, 13116.064793589663, 8039.708106649363, 13208.495161441424, 28080.421521733067, 16678.643227756453, 13205.615025962972, 20189.11779544178, 566.534408489817, 19778.033387437652, 506.18374517013945, 4322.661689556593, 11665.390868886734, 9926.014568892635, 18327.59600824175, 979.7633872294064, 12924.859539199297, 3474.3756185073216, 10535.596551432627, 6950.646895986116, 5504.887696018552, 25093.883399151335, 6366.539183036799, 18346.814629189656, 6982.461954493192, 8504.394468265971, 6690.234976858548, 18288.490622036363, 16930.234961422837, 679.7336009750434, 7581.946829035336, 14817.043385586308, 9236.941877335503, 18638.12070919406, 1402.7539017176132, 20625.76114325857, 14710.331994013999, 3829.450100666083, 15187.35890573611, 6372.295844402972, 14549.403883569423, 10271.72671919451, 7023.305805542572, 8842.06828561594, 14003.282009819784, 20532.697118576867, 8995.198154416576, 19226.471457697757, 573.0400164223356, 8701.571830483372, 4056.3447499063986, 15989.426637104327, 5254.837463707681, 7904.309010791312, 13431.265704336736, 23453.54181949126, 3877.489916112212, 6717.787108679207, 15640.50373548991, 27175.20040080339, 9226.265724095574, 17750.391042259675, 4620.318998791081, 12516.024501584423, 16066.220947631547, 27045.87655674858, 26186.069701723856, 10334.657376714418, 12738.39163016274, 13535.44889082772, 2881.80319927687, 8304.998001123891, 27404.002488982886, 27886.14253041066, 13131.559733515758, 7665.475721112565, 22333.6727848664, 1915.5787166759328, 3134.6566249578573, 12519.189577332214, 23217.245460104452, 17523.732841024015, 5443.294070143842, 6001.352045556407, 4546.896888388546, 20385.69123387106, 26641.798289112558, 8569.587150157564, 16573.128545927342, 2144.389026803863, 29298.95867549695, 2120.298961405464, 18370.426058406287, 4806.667215202677, 6194.5697104885185, 2514.693686071634, 15315.083329372672, 15333.762862406307, 12639.823049780094, 12763.769145138227, 14034.89871847794, 421.7917371813819, 28002.905963383782, 3196.6865359827243, 5576.69191319084, 7988.50241924918, 3001.4978565033234, 2840.406795277704, 2031.3192019563503, 4888.781724199023, 3639.2852841685162, 94968.72539791527, 20494.09381727036, 26700.788989950604, 19515.457131414107, 20100.164082829928, 1474.5970598308159, 34575.22117887839, 25246.040556759548, 2966.0099483663944, 15014.591758166145, 15909.86963422101, 21809.803291920507, 8672.068615594828, 13529.197694999355, 2825.5191567741567, 7587.438449269823, 12782.114231880787, 1148.0935277529352, 17250.981263802998, 1598.8949741357246, 23.395957255313988, 180.9929609300125, 28589.15067608138, 31893.608226866447, 27079.49383316764, 6006.739455775682, 10336.224706774654, 1622.2876668675963, 9236.941877335492, 17659.774940544947, 22781.79396798691, 2060.128765550522, 17586.577103900592, 16428.252469280684, 6173.568246754265, 47869.980015803056, 7068.383000237307, 9936.307248508183, 19507.240244454668, 11085.178555715283, 7367.21169387261, 5378.335050690504, 1010.7123518215012, 28388.78972443852, 4546.896888388546, 3476.3467610962543, 10377.11514064407, 11173.484645195545, 19222.593272605693, 7281.5248232226295, 714.5064070015651, 9178.185837195724, 1120.7572357534627, 1170.7660079729321, 24198.503748766998, 10302.481606532423, 5737.863563487619, 23863.027263917193, 6195.918101719431, 6639.378658029174, 21562.440770452013, 254.50168430960912, 29360.775659892446, 4792.663447709954, 851.4401979978684, 6626.194350195514, 2083.364639747626, 13797.501564395061, 1627.504115027652, 4753.74028161975, 2856.695833119742, 520.3786033836441, 4762.038866690724, 100638.78774233423, 10761.162079716341, 1783.5964051263618, 22027.006251561455, 911.9432293743339, 3371.635272930318, 8246.94085638522, 21470.065590038208, 33309.322915466575, 1188.712872751159, 24207.85822000302, 92.25999884620978, 2811.714263408936, 5064.876486518919, 20832.43971780065, 1869.8706947359642, 6944.061715959182, 12757.480486148517, 14620.833287002803, 6417.896847754251, 786.0702037733136, 3991.36991798909, 4244.794826939218, 7892.300116371924, 75043.73328509275, 19693.666600453034, 19917.586874985413, 14237.50365405604, 6448.329428542911, 22644.70628215073, 6179.247015717097, 890.4218201540207, 7389.204790880576, 24399.278333854047, 4412.206858553, 1912.33933683348, 1016.1817678305451, 85389.25618852413, 4025.29934931099, 10224.452852288741, 12449.392101636426, 6202.092736653292, 13766.803875856665, 1410.5582392630167, 5918.628111440779, 8153.611008063133, 2267.583082800891, 2867.2949332009593, 18071.7993868721, 16011.421600741134, 5804.877364645708, 21.027753330283304, 21548.496503682294, 9124.866255812205, 2331.9310801747706, 34239.69518200621, 17204.314268128655, 65917.17149087667, 27045.74744605373, 19794.03871541583, 36829.679232877126, 879.9630979179019, 22476.436948534498, 14572.92779137053, 14229.604329880349, 28724.121097307732, 22415.077319299762, 11336.06953121928, 37537.8982026951, 1486.0707701998253, 18856.124923359475, 12353.892571847482, 16404.953804253888, 16235.670960963136, 1271.8885474000672, 16005.704792517361, 9631.430033213943, 1710.027306922988, 19934.28990837988, 8711.281873333406, 3841.2538949446753, 8264.48153996755, 10969.225716298693, 22640.90561615124, 12586.590382436261, 13266.71056129802, 9079.25306279373, 12396.231059126574, 338.73450657376816, 4408.73597489731, 25328.911401185687, 17563.826438691256, 5607.289377627676, 24961.023593126418, 7577.944692772508, 19836.535337651745, 13.859012430126313, 1595.9846538771671, 2909.534906681816, 13389.298042182221, 5228.827966337376, 42822.23633571097, 7632.004597605275, 8610.164091182436, 4256.166444075847, 27410.155989576393, 5444.247998467992, 7701.45796088775, 11614.714110951689, 1806.8107373480889, 11911.809058087638, 1608.6914111465012, 4899.319729163362, 5412.102350523521, 19586.6519704912, 89646.93732060217, 9054.428814235285, 3045.6632999753056, 19892.31625267435, 83.00011359588098, 6354.376076946108, 19444.84781629571, 18437.152470911344, 3725.168501824184, 16833.749536955434, 3741.315044594412, 22339.637732625757, 3435.151174234954, 3914.4123372856193, 6267.684387276833, 13119.26089420796, 24420.371930143865, 478.42736275500647, 11479.054945208947, 9174.802585290206, 16303.018265763512, 11711.4438914077, 1795.1106354252915, 3007.019740162461, 4338.10658277625, 21389.820599974195, 2999.9188989237628, 92759.00740428563, 7020.783805971849, 2680.393613476779, 3607.4276135941, 24420.860397250646, 11263.70728897562, 14423.289127475895, 28364.175852072083, 5077.615012221275, 18326.150139814185, 9685.748651196012, 27888.35564089149, 16975.41665975028, 9271.543447530184, 26558.926602252337, 6981.318164315526, 5521.276156964272, 3826.9432102633764, 4639.872405025089, 13175.596411222225, 23611.786356022872, 24386.784801232378, 4067.8434720324585, 8979.609780048064, 22191.354185292996, 15401.561762859823, 35471.91399919388, 15943.442784767089, 6756.876954661537, 15615.257013695165, 7569.804638093836, 2879.363028222804, 12648.540447391973, 5337.503911962143, 1219.389548913845, 1980.9120265906313, 19941.304188083308, 1427.191982478871, 17004.327001165228, 14437.0339159801, 10812.67329266632, 8591.089169169252, 50379.85254622974, 7052.9881577222695, 15893.562528928924, 11613.922887963668, 4042.455564675347, 17264.650947356302, 3772.80019092789, 16612.29791143824, 26310.212233089886, 9269.215856280709, 5299.917191880526, 1011.0696281821656, 2126.1267621303523, 26082.45567979364, 15279.321495809585, 10487.747395263992, 10021.567241294615, 1136.020092563882, 17667.23980085129, 6481.487881594778, 16186.568380196317, 3574.251428010066, 2058.9158568030725, 13013.539041227625, 2741.6695876352096, 5849.831668686675, 17397.99720478237, 2879.1532451836974, 4775.970331335411, 8144.351067396121, 12379.173230238106, 54756.04168172808, 8498.700576251525, 9709.353924213174, 17711.429162026012, 15660.726617424436, 737.630880739649, 5117.868575025805, 29871.67010932114, 5949.347158006669, 1608.7011422122596, 19194.35196901404, 700.5917369268427, 1180.8696265422332, 30183.57159471065, 14755.354836077975, 1195.7974531517466, 3170.0760083524765, 6984.254992758015, 15774.244648463511, 4476.820334412259, 18446.789239066307, 10920.011719491107, 10461.089431855973, 11817.428624700562, 1655.1513877880316, 6747.945147947266, 32667.431336857662, 9060.823619227245, 2527.1593184039266, 22417.31826501009, 679.5620804613209, 14834.553843537276, 24065.547140013052, 3614.5388519780063, 22980.249573143985, 3366.486877093881, 8995.205461511858, 14817.696577958413, 3042.428130253633, 8786.190856036224, 18318.824346864327, 14762.510570907318, 48373.473642287114, 17011.30999000904, 21771.653840384577, 10565.85932547591, 11634.182992167272, 14836.229539770618, 4293.459530247517, 105004.48323344538, 18858.752942232757, 6258.090798035184, 2774.7732075016975, 2441.5154628442506, 3910.6205723874264, 16478.45114493825, 13730.606875401932, 14901.76068213494, 14525.648887728945, 19747.50431989805, 20511.8456601442, 1816.3739920961561, 25357.965226397988, 10078.91514483502, 3433.016101826921, 1606.9061702709005, 10168.619566887231, 33182.74024693248, 4429.6269873200035, 10981.703927812778, 4869.199640998486, 27045.97468721978, 3770.1706716372355, 11911.809058087638, 12109.522572449117, 21525.531862324122, 10409.934243279851, 7348.524217146933, 15009.626841136604, 1373.511328002387, 2862.4573607603816, 7327.97451776138, 4211.660916216992, 514.3375482982519, 4382.493958419724, 13442.485496057918, 84.24151928798165, 2674.549426954858, 6639.3786580291635, 3660.460532123703, 16162.820631838978, 31819.1958460753, 49957.68255792699, 28527.539178986928, 24059.43101928613, 12985.661370524249, 51168.51433213556, 4706.437917805226, 5513.087741997391, 13584.170884479376, 10162.490363837245, 10728.114373967768, 16814.94751161727, 7604.308120528782, 9176.010840241965, 14706.76814247885, 20741.854639191653, 18695.56196633798, 8240.842353675649, 14762.51057090731, 4322.970545365355, 4465.627401669099, 15956.130933228513, 4957.1786092960065, 14031.050578727198, 3337.5644907509086, 23683.888630611567, 20909.3455179791, 5043.085799452812, 23331.233013384095, 5343.740784127818, 9337.678028545266, 3487.379757762639, 14146.118084314636, 3809.8028845856934, 8423.434691851326, 563.5250504955693, 4607.733443873156, 29951.902217256033, 14395.356333087126, 21525.157119754986, 22405.842727738505, 984.0330942133951, 2497.089859596941, 17826.72789959545, 699.3073743935602, 7914.275974855282, 659.6658914284344, 11967.593647601698, 1942.3758885851203, 3593.9737301386886, 26631.740285161664, 12777.074946795394, 11860.203435348078, 24249.1224214792, 5616.830700734463, 8969.195612898722, 6480.657759838134, 3278.5296770282803, 12357.171898062636, 11515.327057179802, 8256.952374107444, 1122.7942969272372, 2018.6230546879888, 9217.477998104274, 13884.667205472731, 13226.28694095385, 20041.720653545264, 5639.994005661203, 2236.8567000255644, 9477.014874790475, 23460.373421188553, 10920.011719491107, 6603.7940675354075, 5144.743084022106, 168.21776639019663, 18912.50561242723, 3909.560644556437, 14813.04200111837, 44160.59118530893, 22171.81542486899, 3442.707990664134, 21251.763987097373, 2680.4987374011107, 16889.804777934896, 4356.24630405967, 453.612648407292, 17155.804104747065, 15497.941599554513, 506.18374517012853, 22313.173126743357, 26206.374395461804, 10491.189327077544, 6639.378658029156, 12002.177630948325, 6639.378658029171, 25367.87245515187, 7957.206659606934, 12324.53227861287, 3035.6103181705366, 4548.452823177817, 2480.5801901633677, 10646.168918263531, 7802.128462856144, 7312.1775653624645, 8685.666070755015, 11020.811561514689, 9097.177365534244, 7955.00823334073, 17466.982128533346, 8661.468729822307, 7816.248754357141, 15404.036572731111, 198.8059011587684, 770.2544812131164, 9747.445241605019, 2622.444392864403, 21824.40869105637, 17572.64426446249, 63101.07900619989, 5405.7128227533685, 1181.2768306765756, 3423.9225940832075, 20569.798848447062, 643.2642185689147, 13807.031898507688, 11729.63907817551, 27408.171444776955, 7390.912240891426, 11789.502120620877, 5233.010939121639, 4736.520363917196, 18498.579729991627, 29728.325931041392, 27865.52820188995, 4.999206047148618, 5202.447365259468, 2508.612058901119, 2688.4058370856546, 9911.923486250933, 28391.758225343314, 8199.260765726678, 9121.110483206641, 49508.29752412748, 3041.886612709226, 13060.019956277865, 7045.490471717054, 21388.329622068708, 476.5808814989432, 10789.307607620798, 4408.735974897296, 20926.821683846374, 21783.090335085362, 7257.262303133139, 692.5743880695372, 8178.381090242758, 1698.3624123649788, 463.39884002754843, 15958.30210166463, 5343.740784127833, 8076.2112375713405, 16852.818801148085, 14413.921680660322, 34818.90454697974, 3967.108816230386, 6309.092487465561, 2130.8507531852993, 31771.575293010188, 9433.783612695188, 19200.76769929339, 21110.99171751451, 24975.7688013562, 9144.098925063474, 12496.848221991655, 3340.649096427722, 13986.28032999004, 1424.8215012108158, 3670.5734723032365, 6880.924510980465, 27507.523959360486, 4473.3715787328365, 9503.606069405065, 5741.122554499616, 13091.380023882528, 14336.87955289979, 21807.765770614733, 23939.067988307143, 6643.598924550934, 2329.7574443572703, 14808.680142405414, 5702.185092386029, 285.6265451068466, 2956.456351146793, 2015.835419470117, 41629.53729820579, 22687.592790471597, 4202.556587307423, 14516.391606783152, 10369.217327665316, 4536.6960228156095, 10180.190960048822, 18309.513547052786, 22483.427750060913, 1411.7253749967203, 15100.653632705726, 20950.241863156214, 85419.84762959066, 9786.595999212266, 3916.549636602256, 7549.390898818532, 24476.386515406386, 6550.493538720348, 27914.881490176824, 9032.538372576797, 12563.662358235426, 20760.953369030816, 5255.701323857491, 18386.702315363873, 5400.914427567652, 2282.9128014500384, 8406.18646258979, 9507.85539771174, 2898.773355689784, 18475.611843275805, 9007.407385163824, 7596.468811071161, 10361.493681904238, 29636.535083686853, 1907.841891974218, 6876.028893751838, 7173.126087002078, 8181.507027405089, 9621.321822246537, 1236.1914330907966, 36830.53959465577, 7970.792614852395, 4748.432797336049, 16504.489745246257, 27769.376411275494, 5576.691913190833, 1816.3546645467686, 9513.246504481525, 2799.3450870180095, 3211.0411505379016, 867.9637583223048, 3810.1599721735947, 29458.55740243059, 4917.142610283176, 7539.536338233291, 17750.391042259675, 16698.87521883591, 8719.922697888705, 5026.127301852965, 47572.01095418823, 5726.892078842946, 18232.642510295125, 1311.6292182413272, 6274.479167126276, 12022.343297287684, 19227.84719668738, 8176.727325403488, 13772.487833193274, 17882.005048966825, 4341.033371751899, 44743.80375478227, 6853.840872430039, 25934.53682039751, 6482.796750914655, 7689.710101764373, 13511.864874105537, 13319.294457804095, 12149.072479744686, 20593.54273192887, 18619.853083439542, 18928.87978483795, 10028.228926513857, 5335.117988641592, 19115.766131625467, 13493.60691310457, 7354.331496080704, 24573.187417571557, 5228.827966337376, 9867.135426488574, 18926.093656668018, 4448.79288635543, 54157.175337973655, 16319.490720312388, 9735.423553701588, 7288.374014185025, 8948.28770562692, 17661.946970100653, 15174.417239115035, 19220.833148313504, 297.4179342954194, 3949.33915439251, 5030.105701370172, 1710.2081220601685, 1119.1177703340145, 231.1207087561197, 17852.072795170905, 2144.7368471742266, 35198.06241520304, 3389.7522692982966, 17604.289079153416, 2431.588262054447, 17623.29330486168, 11107.661173111686, 340.26662364099684, 2864.1306750757503, 6598.056870894838, 13884.667205472731, 4482.213658518576, 3370.436869657755, 2730.555871782508, 26641.798289112558, 6415.780424226934, 5684.058129261906, 152.3341491502797, 10690.628653673171, 15806.677161370855, 2680.3664486967245, 10118.576338663897, 9314.750696751078, 6059.578903871436, 4073.901864257321, 4608.508183060312, 2771.9470649892974, 10216.792650363492, 13499.009003281171, 15130.878147748354, 6342.6911251030615, 47815.86731830541, 3874.3649785855523, 5065.6378743949135, 34645.25896293255, 38389.789761849395, 26764.747610846018, 57150.110475253605, 8425.192958332169, 16920.14348019004, 10548.86145110421, 23090.89638087804, 24234.649823425854, 27886.142530410638, 28370.471493385456, 8163.503919918447, 12449.39210163644, 23707.706338988995, 1740.4142176413006, 10652.916749262306, 2537.7423956327693, 5279.752239269801, 3914.4123372856047, 2953.164322699158, 1754.1910414368358, 6582.259383410157, 4866.126532098864, 17776.145811544993, 8384.283756911027, 35113.079839132224, 21495.729445921985, 4970.6126827495245, 2269.9404592010724, 10331.822475261182, 10336.224706774654, 2995.1216401351776, 7856.693058057295, 15049.421096832935, 11549.039242939358, 21804.311857279223, 37867.79935355498, 15586.32723587133, 4323.767184577126, 7084.829848081958, 4998.150414588141, 16427.664440746626, 19903.24387533193, 1956.0530417824884, 21546.506855370233, 31964.138766150332, 14855.308160750057, 28399.648883763566, 5465.332473209488, 635.0452022616628, 17714.838983071822, 1888.5122418272622, 11410.083493339484, 11223.92867061666, 1411.6169046788818, 14416.495605892866, 1513.2173914057166, 1714.2361457194856, 10372.011468018027, 10113.235621576245, 7227.544726830485, 10485.506511042957, 10609.54937094124, 11745.010469832323, 10611.748186545406, 2372.839628034879, 25894.01817847538, 582.3993365588904, 13033.828651456053, 56218.46614909172, 1070.0937507815252, 3914.3151256397723, 18811.931136504303, 12286.69311886742, 17264.65094735629, 16701.23721178198, 19256.496866257603, 17255.337801669895, 14567.034647987595, 12054.297140086113, 3848.285020083764, 635.8110087749556, 11033.446941426082, 297.4179342954303, 7438.668102705029, 4666.0505959832735, 1961.6677020332863, 9374.41856174355, 23084.81059487367, 6029.508141448114, 15401.561762859805, 9908.534233999617, 10713.227122853932, 25151.890791565722, 13300.876585634946, 15296.616878662815, 9236.941877335488, 2651.660762595515, 2036.6688610232595, 19212.205447293512, 9176.313368027837, 43112.7294391756, 28111.00341876328, 13204.964883764995, 1609.0697088355082, 14780.559505673864, 4458.981065137672, 1083.6241342543908, 9911.923486250944, 17326.98959445474, 1505.1168383292024, 18838.779974691002, 6436.50547474415, 8538.305747026974, 23221.920578550842, 1532.2998490602622, 17037.624455527985, 24488.9430451409, 3264.785251440677, 7162.405757227309, 16132.598011482347, 36236.41667087171, 27322.17360982803, 30056.493153753043, 18293.79339422508, 10768.766121059434, 6198.687420875613, 32468.241580067646, 14193.0281560878, 7176.101040438985, 26051.38218359665, 306.6358626041765, 12350.36686102605, 27573.0437381705, 15968.990876826756, 11645.561655962574, 4595.3433126192795, 8890.982732583187, 31309.49356859921, 12646.478435116918, 8578.261741133083, 15242.19069745457, 2909.8370309299717, 4.97509784986687, 17141.247292920256, 10609.54937094124, 471.9603053132487, 14594.512321919115, 18922.726376677245, 6111.794232758693, 20396.087187754616, 3276.7654298343477, 7567.922678417817, 8534.079741452544, 19895.382998915367, 5722.091150112596, 1242.2923316533852, 22526.859852257654, 4454.204968715043, 10986.981184172477, 33937.08951336185, 10428.902694060787, 6639.378658029156, 27190.202719988847, 2141.089151121989, 3702.2090692441307, 10333.173123265551, 12735.52682237584, 5625.146450650347, 11801.384475363266, 10677.496980503838, 2435.11845682294, 24583.32077979762, 4077.799112557921, 20660.44251895696, 12002.177630948332, 3218.0936218681964, 19898.49720465239, 28953.772460432687, 404.24064638127675, 20873.930432071815, 5645.856515871827, 9977.5093349653, 18425.860692189817, 13759.838668521232, 12205.580139068901, 12861.518864967384, 9282.090151521617, 2830.608607756967, 23959.655412795393, 7435.783500558966, 53446.89552986446, 21269.062736893982, 12080.807084625569, 20214.185245479573, 36037.19092498475, 13222.79389011058, 16124.289068056067, 4549.4270493654, 6544.591998347605, 12284.081409555798, 8278.421667886298, 2233.633153446659, 16148.600815158865, 15790.572491181669, 12108.674058924244, 2879.6701274439147, 12209.543365624013, 14080.729496904416, 35019.7327290498, 13679.324451488745, 21693.37678270082, 38957.08876816272, 23981.1235433468, 2947.7623008079245, 29996.403251074335, 3727.8664217900987, 1269.1567320800714, 3521.435076045793, 22845.673102577, 4047.84696116994, 13702.96011953293, 4667.524607471685, 15793.272374071847, 14468.540943358883, 8056.203055655242, 26621.099871221188, 6670.899238113958, 17484.969437301304, 17264.650947356284, 19758.562828981714, 311.9820870500407, 18231.745604430555, 17776.14581154498, 4856.5900968316055, 11136.099249591982, 10179.69692456715, 17840.58030143364, 9911.344358700531, 11500.206383831599, 14266.184763783393, 5479.645275008334, 29419.013608345685, 7195.649608467265, 5719.434817353351, 22714.476178336856, 2878.684011351859, 12739.066415225345, 11751.135502605728, 12830.701620143853, 8137.155093002308, 3189.929683240476, 7727.656536088001, 17375.210820123073, 17629.904593281382, 11839.09051685693, 1071.9262913178354, 4765.301563494657, 6743.154793242269, 17659.483321887317, 110.50003938034206, 19085.545240500076, 17873.51848344305, 10688.559994923788, 6774.492832476626, 15182.50513422631, 5370.893738787861, 25104.15434750518, 7136.158001322419, 8850.479063051109, 19015.11721048946, 23474.845535384204, 17463.104893505493, 17806.261066999803, 512.2786614284232, 3865.735223796193, 9022.629707164706, 28150.912012771452, 23357.516927704564, 1367.2527405221153, 629.2815137479774, 14497.01754677236, 6555.896614923375, 12809.125530367466, 24117.30699354213, 124.43122909150406, 21907.210377758845, 14771.559063178105, 8234.731692637644, 5766.663404564642, 6388.464481811701, 4127.919143337975, 9764.226031253824, 1591.224890491314, 12903.688156288055, 798.0346217012775, 18998.116695522694, 3966.2770002980214, 5745.126530162714, 2803.8262499693155, 2872.315437471996, 20418.693857735292, 368.37033620915463, 21389.82059997419, 11126.43334854411, 10653.28330460257, 16608.36717522892, 4886.035292501809, 6041.899186622923, 36902.32999722639, 4193.497308499202, 10214.315403967466, 1472.0869772575752, 5936.5524791288335, 17964.81732704072, 1714.2156609829763, 27767.13276668099, 1720.3426663089049, 8562.206024993939, 2387.4167754647133, 10148.65214134608, 27592.25195443813, 254.66308350773033, 14189.355501294773, 158.79813834613742, 1238.562880910311, 4579.932588014257, 526.0851770943082, 5032.873354452706, 14887.019608580995, 15427.633544180506, 4316.459209601551, 22857.237810324303, 3896.841697279531, 22120.589733838948, 3631.612068162096, 8293.321019239796, 9243.067298175163, 36047.975225760565, 11720.964747801103, 17739.276383983346, 6681.276782079432, 758.1436927112445, 19402.31850226372, 22328.8703094057, 2300.896714012295, 10120.787521253398, 15854.018816137086, 4928.817081906913, 5345.202454618648, 597.8798527691179, 22630.96915503322, 15683.222489874352, 755.161984918006, 4125.578452538641, 27104.638115462676, 27065.202457039348, 7580.26871368671, 16403.137367419524, 21987.816198006883, 8589.071376330066, 3106.9250589152143, 8754.213827076135, 17126.618105699716, 21972.46956064307, 29412.80513542629, 54756.0416817281, 12385.463311778076, 1246.4090967070988, 3463.568465517379, 19355.66251924064, 3812.314447507364, 7689.920175940268, 12226.107705925264, 5653.552583551205, 5029.3416256591845, 14899.97043558833, 9442.956753235343, 12782.114231880787, 19889.942598775386, 13553.814163318832, 10667.795553133514, 8782.668308600354, 15532.346719912806, 4503.005456336701, 57526.46196286671, 28250.013819649066, 5225.32086397762, 13795.025495932332, 643.6396340667197, 156512.4878105804, 23299.287886485108, 23901.628728284006, 20543.33557302274, 2641.2556482175532, 2734.3551033872463, 4010.403218870644, 25.149754023896094, 21692.956557836565, 13830.22090591534, 152.3341491502797, 1394.0417851054553, 8938.7014938494, 8012.350293929063, 6864.057626486789, 11648.479303590018, 11599.11995726045, 1373.1288632628894, 12735.52682237584, 5504.145358440168, 29409.180781853123, 35642.3338662537, 8687.54010330519, 230.30129984176165, 1989.207321481801, 4040.33265070185, 7155.032857288177, 4042.5018471207186, 38617.79749055384, 35177.02757554052, 11696.81919138847, 73321.24481717586, 2879.005804666922, 1317.5355387927266, 15404.0365727311, 13818.219415592488, 6166.894734645226, 35168.18123373389, 33703.84015355444, 23339.012547724327, 18461.48764908772, 862.9347772232504, 2415.2512049992583, 3246.511736760229, 8601.698837492972, 4083.5884116172892, 19760.22719182294, 4878.175236861243, 25286.443900392478, 4578.717676470838, 29380.584695613383, 4744.960017011552, 4286.596862535644, 21020.409931309634, 4869.199640998493, 16313.471556822624, 57858.45784016628, 20513.366986381585, 8603.261375137492, 22083.3757229037, 33717.62176360904, 3483.4424036783166, 10885.165868060896, 15130.878147748372, 10818.802667805881, 14509.931982246359, 3221.5705692853953, 13116.794485752995, 7327.615804107365, 1274.5300867240512, 3366.598381896736, 22361.086075729963, 18404.559623162455, 16236.6043816731, 9530.92148052291, 17741.40079838902, 5848.628238504352, 5830.637702309079, 7156.152161581354, 9685.748651196023, 4806.251853726404, 19967.879181412736, 27036.10277071443, 4927.8848662768505, 11420.065718611211, 15018.478613261264, 20207.384800003652, 10060.777115974284, 6795.675004691471, 21280.61064582933, 5460.197376900978, 21879.700787305046, 27344.971248183992, 26664.625907841502, 15515.3976518063, 16351.644334935212, 22750.239759870954, 7149.128408615459, 34090.335086799736, 278.26617206534866, 4505.17400249877, 28207.268301163647, 2873.4440218302443, 13884.667205472731, 6212.9077183268055, 8208.808707277385, 5929.763985478065, 3922.6053875766956, 17419.45142157202, 17919.054723713652, 28569.847678070364, 15968.990876826749, 13850.00429560566, 10424.848228895557, 3222.7252387317967, 10398.22264436372, 13795.025495932328, 1676.5719728777076, 4775.702952563057, 1599.4505643379962, 9156.698106930766, 21175.335046097658, 19227.847196687384, 26802.92907610636, 5724.715217633187, 13797.501564395057, 3589.802156041591, 8938.064135247674, 1084.814834629382, 3385.9198281188146, 799.9502139601209, 1811.199747801791, 3841.253894944668, 18233.55496818645, 6805.2671633993705, 17463.104893505482, 3322.7594812632087, 26112.287348727616, 762.7966430272863, 9004.465740992964, 8038.69914043666, 12659.976679873522, 5256.053003672001, 13467.605328095087, 10409.83817028845, 3505.175358866534, 17813.031337091328, 1048.9696234011135, 30903.521079280257, 6303.9106898230675, 2701.441892222523, 4360.62870741438, 3512.571840177774, 4526.258109961182, 18370.963118282452, 3874.676599292179, 4073.901864257321, 18611.88389947947, 6108.671207435003, 35224.017553876314, 18455.928157108232, 2412.6941484033014, 8733.947979526092, 10571.303938398414, 23497.946968511555, 20381.03822433082, 12449.392101636426, 352.5950653106702, 2195.79634522424, 3407.7118071400837, 31771.648413677456, 4005.693374604987, 54246.85277039047, 10607.835352539878, 8591.877336609869, 21340.761759241355, 16390.162987029646, 36704.37085629866, 16615.540272645965, 13574.456383094697, 7117.0828321187255, 10267.417866644002, 1789.5627467431696, 8534.07974145254, 15548.583584175882, 13939.410253786813, 13602.928312255888, 12423.708085568393, 38817.67101618904, 8781.545697988739, 12886.492381320593, 2841.854197594992, 13830.220905915336, 8714.634155291693, 32626.873971217086, 19317.29381737732, 11378.030663036243, 48210.98248152241, 8762.984199792681, 6925.45192631723, 7111.853677456882, 319.4548684890724, 11398.035964911447, 12001.95681507028, 22976.243490204706, 622.5616587902296, 20593.80237006551, 2883.7842731351448, 15407.020573766447, 15130.878147748364, 2042.3158922708062, 13858.433801827905, 16758.48297835551, 3363.914486742535, 1909.5481241713496, 10110.015239549037, 5568.245906240856, 10408.70574595016, 7257.6062308498695, 29659.785236004856, 5913.681617451948, 3199.8687853173105, 1804.8470622458553, 2989.6625815603547, 23054.63584794852, 9448.553540482295, 23285.729116828712, 3641.8948793713316, 4408.735974897292, 4106.480731659496, 10662.025641336455, 9232.126438219555, 4630.41001352738, 12695.411206146233, 2146.8200375193337, 17132.951255402004, 3592.2203987186767, 20587.58462253286, 5090.786485471301, 94977.14012260173, 7121.502680578058, 22031.213838669762, 16852.651545981942, 1652.543336279061, 35259.5983502691, 2536.6144930289774, 1992.1294081231863, 2878.4884083589313, 4202.050385985851, 15462.03682295523, 22936.704964510514, 4854.396474132929, 52961.87477321742, 25383.444737818158, 5751.352952431469, 16897.251277138625, 17739.732757919977, 339.32907640224585, 605.4961566584461, 19586.651970491177, 6639.378658029178, 29701.533159599552, 6720.148120384511, 18331.283673385486, 22078.665245284952, 12987.122689302028, 8293.060421550956, 18174.234542526352, 19942.195258685933, 5721.472035691266, 10263.057068954113, 152.3341491502797, 7233.092722644171, 9321.391810477238, 15062.860260514888, 17930.38354229798, 514.3375482982519, 6171.075649256094, 12524.606132863511, 27361.369525017984, 13281.545296370707, 19317.293817377325, 23143.745624808922, 117.70803178740607, 32318.11643961214, 3903.970279615358, 25777.259897965232, 4309.862680714301, 12731.017037809179, 12934.498810407047, 14041.284262546724, 4296.723558266382, 5701.795031642327, 10417.028422880103, 6615.927708614734, 14635.063803716886, 4097.268686719974, 5926.2696963300805, 15882.25893140502, 13902.928127883613, 13881.49103200397, 21007.002302993016, 8122.654584368036, 18384.764297469876, 17753.25164582595, 11050.166754300735, 6740.149621537035, 4105.22713790584, 2718.693108780877, 22.223706274780852, 11576.115560441358, 5330.76691656945, 27337.14230329016, 880.474580270231, 11722.674568577706, 4245.166309987821, 17160.407682660196, 5586.358643858519, 1302.3238439927736, 3409.817790400215, 32955.25915995001, 21014.682367770853, 8340.530723127922, 19459.801575547906, 12547.921789064065, 23827.60228129054, 982.9168932297907, 31878.396266396714, 1280.3791594986942, 31681.478534925067, 7675.676928974848, 27253.232615923145, 19884.689337860655, 9370.10249418411, 328.91531189600937, 12738.391630162714, 841.1744132238418, 5719.43481735334, 19589.52292277758, 12659.976679873522, 4162.614686453155, 73684.56832724114, 10516.207424537824, 1188.1209292259737, 8309.456395323057, 13140.127163786005, 21389.82059997421, 2296.469081355561, 8758.963087860146, 3027.6515190681057, 4022.6806560532677, 8775.760758237582, 23356.224385440415, 6058.784776482851, 21355.60943096878, 13814.84860258922, 16049.653307871646, 38747.74067948982, 12892.957537821465, 16392.28559270881, 4295.835736012545, 26206.3743954618, 9360.662961099682, 13881.491032003989, 12035.489454352737, 1700.3388222076464, 24289.51513839129, 8893.710509118137, 26637.16529024366, 16034.216323935372, 28027.701751776258, 12878.828280477268, 8327.625366690281, 18547.92208898683, 2141.626139611879, 3240.356293824021, 4284.727165087261, 9737.29274652229, 18332.323796992197, 817.7847237245733, 6497.728419436851, 10323.74448874488, 27410.48166556242, 705.7555925729248, 24912.114989892165, 7766.488757985091, 22944.04779432877, 11480.313218805226, 6388.464481811694, 7344.204545865541, 1462.8063247091013, 15591.677446686339, 9236.941877335503, 11911.809058087638, 6269.038480812473, 4367.311659850249, 22475.46852896405, 18051.910469940653, 4594.52252525722, 22145.529284590702, 10540.214255883904, 13707.139175337084, 4901.756670566585, 19444.54430717544, 26751.80834522456, 6570.507581657905, 35131.985618447216, 13634.27409902769, 9966.570339537338, 20385.691233871064, 15222.957405064517, 885.8167460869008, 11764.5138691526, 15441.87732528204, 2355.2763953666654, 8184.716748607127, 3413.5052643794515, 17825.013173980165, 897.1982434918791, 9067.162123499944, 28675.176744331086, 10274.95838003567, 25562.03100783452, 1389.3004729641107, 10946.277474229631, 11686.583946285518, 15718.461455213492, 5875.110989131361, 15358.229774109252, 22265.622371783054, 11073.65847465201, 5124.878079304333, 7460.09157127083, 727.1794822830343, 2209.370752093211, 11634.182992167276, 13041.61045459433, 15364.586873067703, 23056.15480423045, 20330.075054455487, 74948.11131004654, 7344.2045458655375, 670.7020310979169, 20666.379750947668, 62884.90804573226, 4342.237221611413, 27111.87854612019, 6579.100923568636, 7830.532011140025, 24420.860397250653, 18818.281951925976, 3487.379757762639, 55631.91685957859, 18735.681635235953, 2542.3209821513956, 3823.668724411, 2067.256167415151, 13678.391883860815, 5649.971668642709, 9053.959829332154, 18116.57960329363, 3974.220791991909, 23901.628728283988, 25761.849142191426, 10681.182944326989, 7264.746244151298, 26444.000900772047, 17493.9222327073, 12217.104121257136, 22539.00357509315, 20442.11343218782, 5118.331898141474, 10668.454319698314, 6730.098652259367, 21243.190676428167, 2879.1052281895318, 24553.420406570054, 15427.417651023341, 7176.76274839375, 17284.53806199394, 610.7047760339592, 12396.23105912656, 1179.2713608285412, 4266.747020168314, 1163.0042313353115, 15430.956101355561, 15055.845261055056, 24852.252545696487, 2291.519481957519, 8474.401938586816, 952.6089063073377, 14836.229539770637, 13248.62540213143, 3352.501916867037, 159950.21760571888, 17319.26135477732, 21942.090794618234, 37535.88126781403, 4227.1214295139725, 1153.7924954377086, 21983.16474363768, 3026.04644691218, 6215.569794742671, 45703.87010482914, 13437.83802103619, 1409.6031017873102, 4800.053733289227, 36761.50097307482, 13617.328925707865, 1525.7336428560993, 23901.628728283977, 14369.881390240214, 2732.2723685698948, 485.61977783936163, 25477.780145406356, 12962.720879012635, 7666.191929254193, 2548.072647227764, 13795.02549593235, 27058.5408699965, 8399.983151556207, 3191.885537756367, 1587.7361594108006, 14196.059507937109, 11969.236607523802, 31374.26441740164, 8337.438634659604, 6483.8309024954215, 1213.644758077833, 3810.2420660417883, 5119.038285389626, 1520.2438022079987, 23911.35968736374, 8675.67138413044, 7230.20839075261, 12563.858874929512, 14229.60432988037, 1340.934727463773, 3352.501916867026, 38499.52488101575, 8711.590124889124, 4333.099485845338, 22426.846356889728, 10885.16586806087, 16146.463656280248, 9348.037158797233, 31878.39626639672, 37210.74096203405, 2724.224434358206, 3301.5360645696455, 2234.049195806543, 5807.897833774972, 18312.931875869035, 923.2586726506452, 514.3375482982301, 24122.242467500288, 14598.91915724519, 71274.1570778788, 7846.377711582525, 7717.501838508251, 29728.325931041385, 13775.654740732614, 27888.35564089149, 8882.079624506252, 13744.93040093411, 1703.344082349693, 16882.833282370033, 7448.613493321289, 28363.058597959996, 8076.759254086064, 5245.762145191362, 8734.0038988085, 9685.748651195998, 5492.853975262056, 25816.47967857284, 11470.227099032243, 2287.7050311714993, 10904.990581227976, 4771.965369206813, 1336.0426306374975, 3309.197719087959, 14290.77250651726, 1908.053334585191, 4972.454320688637, 30981.86353182419, 11102.579823446613, 7808.200493106629, 6321.628966346485, 21427.779836099406, 20418.693857735285, 5250.981228500779, 7772.37493072082, 16647.301967603722, 400.85103631427046, 29458.557402430597, 40094.51728300299, 6802.635052279798, 23911.35968736373, 10552.865187736159, 5359.701035294027, 2825.0237847806566, 2439.3164169627453, 11967.418228769293, 21028.830729004818, 414.2321811090842, 27807.627638092465, 15693.88260660912, 25498.332104616766, 4209.768756894831, 8029.631250144183, 11932.070189968133, 3468.903205159615, 34489.946847481115, 21653.649838113863, 9185.542454829567, 6990.757904506572, 18735.681635235942, 4331.781265396003, 16230.232440394873, 27408.17144477695, 16685.750863365112, 2224.785985590781, 17882.005048966803, 3538.9232697151274, 85301.54785530322, 3759.144692005819, 4290.547319364778, 141.58035132861187, 3670.0473048985114, 12262.236030289787, 5232.740091534994, 14813.766424240897, 2065.501931236249, 13718.157458791356, 21215.963445470305, 27045.87655674859, 8477.26903435796, 19903.28117144926, 15247.304993236576, 41457.969512368254, 4214.84974862204, 12449.39210163643, 943.6864702259991, 18286.18224202447, 5733.969616596256, 9836.729461572475, 5642.897825376847, 7925.916280767382, 362.05431577711715, 5589.21344814085, 4439.465495028293, 583.3263511941223, 44.366718956502154, 11034.82080346081, 5886.494010529583, 10070.213761689847, 12559.883074681602, 11487.361882131238, 8392.544099740586, 10608.895214955446, 2964.507982700772, 6782.607364026204, 44410.9169683799, 11071.286515722724, 5041.4398828367775, 24945.716300352935, 17492.90062055443, 2524.551141298325, 1248.759203246951, 6919.749075176467, 939.2662678030101, 26904.625782989595, 7312.177565362457, 12402.081972088527, 5086.556196025733, 6921.1604441412055, 651.8277538354087, 297.4179342954085, 6236.718705613275, 599.5943409359425, 10803.767292936325, 5796.8457943260655, 41992.19842622038, 142.86637902414805, 28392.12727001966, 3452.7040585852847, 11237.205028349232, 11634.182992167269, 22864.001816943608, 24249.12242147921, 10293.057590956389, 10920.011719491114, 10375.275556213604, 21112.75436154338, 1609.8122616457767, 5792.029520383392, 2442.2992515010155, 10528.886624137209, 300.0959772392198, 15070.576811542764, 14221.58297488383, 17568.622494940057, 11447.368491810143, 7271.7220094954755, 15380.041576319563, 4302.755653119184, 7608.6069896576555, 8614.849288585378, 21028.83072900481, 19728.506055897997, 13069.609870932545, 20649.365963777458, 7695.988929540381, 9236.941877335506, 3416.3564982107855, 6094.162453024153, 7918.027128749738, 16738.810835621825, 9929.724038097993, 17679.37102937788, 14417.872181340645, 33274.83660797155, 7504.167892329457, 14254.634253996315, 867.531891618084, 13373.361174767033, 11473.03840204265, 6752.272947270918, 7726.91778057591, 20258.832799531985, 1402.2496379335971, 20903.056605857386, 2116.6604082310623, 6433.791989977679, 27507.52395936049, 9685.01169258112, 2048.7879011582045, 35467.19738697582, 23593.918420427188, 15846.595501243908, 7104.691352633319, 22486.083474475658, 22137.551782876457, 16797.763243929243, 18342.694357593246, 11278.16899629229, 5151.355470607294, 5759.322397666252, 15580.011588442598, 1609.430739371317, 27218.98790330557, 62286.035457622915, 2829.516860948803, 5578.18659779472, 3308.299038751131, 16233.828104436929, 312.17674343879116, 6980.285110428187, 6650.451432322192, 5666.869322367147, 15492.897704033188, 2375.420345613322, 9045.285423342175, 859.2107313466913, 3822.5860258624525, 21230.843005425413, 26295.741102546028, 4698.306801644612, 9236.9418773355, 25187.027938588846, 27976.994522319466, 7662.193136338679, 17279.38759897969, 4876.208516712919, 9328.600631253867, 16654.97329961644, 5275.758144354637, 5134.409060143051, 5737.06473792301, 12080.807084625536, 21228.58514114582, 6087.648474750164, 17910.16766876392, 1072.8226280369818, 17919.197521109516, 5439.10247786875, 2120.684179632306, 5803.849892606617, 26287.66339631703, 16446.821188669368, 5143.734929938961, 20342.993460657504, 9358.914504946119, 27670.547796814863, 6254.510759159246, 18280.43507577974, 15266.073564713693, 46545.9145771188, 582.3993365588867, 10728.12844213943, 27976.994522319463, 26702.684919150473, 17466.38910720703, 22205.075086288085, 24928.959455156983, 9164.912134604121, 3931.012410694173, 27408.171444776985, 14181.710998987168, 253.0669551781648, 13598.749184283752, 152.33414915027606, 8938.701493849407, 13425.755666010227, 2641.096483832258, 5687.646939736784, 15258.953682191684, 17284.538061993946, 5797.878181800399, 10920.011719491114, 29337.788460590484, 15317.657879203947, 7771.082592862735, 17275.071130869823, 75613.5235000399, 14301.446683295235, 11284.38549015874, 1914.4681972086546, 2454.4842550979047, 23001.69782664611, 11850.091538732184, 119074.3329974461, 23911.359687363733, 1630.2000052182848, 168.54996727014804, 13902.559459889111, 61822.677698665815, 5594.730679570952, 35595.408059500696, 42239.55072973674, 2734.0791879702847, 32893.63451579066, 2728.4828149537934, 18285.152328935044, 18346.814629189663, 8825.95088724601, 9472.645230705886, 11461.874645479613, 7146.0299999912895, 18778.012727825102, 10623.882936471666, 65582.78295169128, 10113.714340428003, 28370.47149338547, 14396.613926853272, 2339.244779887653, 16162.820631838986, 29860.72294665027, 18514.997944484592, 30000.07017474449, 30973.173194084193, 22735.981374916504, 19447.446043258587, 5013.205266254037, 2997.4977902363207, 6431.003475050093, 14836.229539770626, 10421.238176684248, 4785.260922129466, 2584.9005117335255, 8671.233105108076, 8518.165879561984, 12966.812716210592, 18454.572678324672, 20020.31632171631, 1971.496818383359, 710.612108540452, 17204.314268128666, 27976.994522319474, 6779.326834264906, 20490.967860548448, 7191.6120992861215, 6133.6851087820905, 2879.072682693124, 7883.539550047102, 6180.251071105933, 4780.845307700747, 9685.748651196009, 4084.214585222682, 14643.150673271557, 17011.660530870107, 13392.298027844161, 2164.9616189164444, 469.3868799179945, 33162.646935487544, 21781.2910358655, 1431.5533049828373, 11369.706261017174, 412.3085512141988, 325.45454625714774, 570.6315209048116, 2252.8921464971354, 9005.674301983221, 6385.722618955511, 5586.976592140531, 16537.970155585645, 4704.2309599258515, 18753.703600022553, 5365.1448542268845, 5469.957057247895, 4194.600969082232, 18362.480288094186, 2584.0901624368125, 6970.724994382697, 12404.870967110903, 17033.386143206182, 9060.213833834823, 1935.114278566125, 9831.130290791043, 26475.107814474664, 1947.2622532293863, 17296.505097326968, 13549.885180170673, 1203.1482108719792, 9726.848507885537, 43224.90123406593, 14060.173539047071, 2469.952266800581, 39163.778372864566, 33658.63914424072, 10731.000158252304, 2879.277570760125, 19017.660155691672, 2490.8894635107827, 14444.359636508438, 16722.96105063126, 6033.407735437675, 5667.183477351213, 4190.531619953836, 6514.832377259008, 19917.317204232364, 5755.357675431671, 11667.597599699824, 10442.321417433628, 3652.976188927889, 16758.39246485624, 1684.5920827714363, 13010.437664790905, 1850.4128413403523, 17675.80442000198, 55631.897425650925, 12851.185313589602, 15782.483487237034, 3970.5359627977414, 25981.736960192287, 988.3491478631549, 13821.151039513621, 111237.038546167, 15921.882338436139, 22445.96090395107, 6888.618510305365, 14333.238595070368, 8468.23197056801, 8148.503717405507, 12449.392101636437, 12292.036149649128, 4368.773022265224, 18092.347021556845, 20684.5611206192, 15674.069165669622, 13464.31898971372, 13504.299010975046, 32774.36101613752, 66041.87884735476, 1976.3525284855896, 1528.5033316476329, 6557.339048527509, 339.432802472249, 12989.421664302285, 11634.182992167262, 1995.7420596792508, 166.29029896881912, 17988.268388826553, 4532.530704789206, 8808.543245585348, 22542.372227450673, 2667.1588428671384, 10336.224706774665, 718.3446061695504, 3604.125540196037, 11177.830772778947, 12599.452510287068, 15648.424955955605, 7332.801341192808, 6922.985965521708, 29982.807728985124, 26865.189050444307, 2797.2688574888816, 22313.173126743357, 6167.716353636428, 371.1087636869124, 20635.215778291316, 2450.6671505726626, 11735.061207824096, 4352.991451868107, 15401.561762859834, 8395.734473889974, 18857.66385242316, 20188.593973862146, 19278.13910610199, 15943.442784767074, 10220.298384580208, 11325.94481413849, 7354.811234163197, 10198.68568033505, 7142.086888611433, 22996.16063873644, 13572.854642260536, 19317.293817377304, 13454.256180388755, 11623.047366443745, 1666.976680896736, 1189.9520764369372, 10751.066084621674, 18586.754209887105, 12977.114149102614, 10902.06947885747, 26554.878358025126, 5650.2289950903, 18252.68324016511, 3749.5792779991134, 14538.724347411444, 22372.122775466636, 10873.317997926442, 3753.3349001074166, 2354.9006877564607, 11331.004529255202, 4049.9217505342713, 2680.7471830780014, 1697.669102323347, 5983.1804007495375, 29127.878785111323, 1935.1142785661323, 2809.4363515399964, 4465.535365081669, 11149.765416047638, 13022.355413940128, 23320.124225578416, 8095.076283020029, 18753.703600022527, 32667.41793370492, 9340.474836050758, 4558.239063153131, 6268.613883448539, 14668.198856557829, 9269.215856280698, 10215.8669754683, 9893.498118635718, 16341.751251671976, 17604.289079153423, 73776.65120759892, 28882.365812831544, 6141.334292245261, 23368.233634416014, 6173.244927971406, 2713.1669899219705, 4294.573329483155, 10786.323145519033, 28860.33100417903, 1229.5401161433256, 16378.534940196245, 16506.04435773557, 9635.711161478172, 20511.04843292211, 17575.368528025247, 10763.77069909576, 26321.516852542045, 9897.35537243147, 8998.199227842284, 8610.235016209357, 26206.374395461797, 1466.7707242802062, 144642.46321980882, 9588.542985055949, 32056.476786189407, 2934.489229900086, 3697.5366590097838, 26189.71022297529, 15060.81165928152, 12503.545233524885, 4941.655665195205, 11022.9989064379, 16448.07910132636, 28300.86643525876, 249.146244421132, 14741.848694470358, 13059.656600393733, 23565.47144113853, 5398.135633284932, 11886.414692522601, 1904.0700050993619, 1710.6896927047928, 23827.60228129055, 13879.30225359755, 2519.438025487838, 12324.53227861287, 4828.980637702192, 1250.06249731555, 8640.355187370944, 5008.868955877137, 11145.209550232157, 3966.795798758103, 30038.262984015477, 6454.2457934507, 13306.92685221016, 6582.477520382476, 16548.118623453225, 8648.582157038749, 1043.2668703217932, 1195.249197305955, 16074.54743822816, 18638.12070919406, 15773.882767424573, 64897.55680163202, 289.01909279346364, 12473.91629492752, 8459.697872436005, 1603.2325034730748, 12451.995967681603, 7933.539622013308, 7416.203200271062, 19586.651970491177, 20336.399857327255, 2505.5470647615366, 6805.450268356475, 7452.155470229376, 28207.268301163658, 5494.566537006092, 10951.041099238755, 8358.438711146151, 1128.544839787035, 7619.435338168874, 18715.998053259616, 25339.676775266198, 4294.573329483141, 17882.00504896682, 34266.0883124746, 16207.947063914893, 4199.077476711671, 3484.3124844271842, 5448.07474383579, 8370.850592099741, 2171.2510856090885, 4829.521026962226, 13538.688613020757, 23043.78645867336, 3752.00876494966, 5134.824435188613, 339.43280247225266, 10531.141201131668, 9926.410471828578, 536.2153247551978, 10885.16586806091, 34786.82432183957, 17463.104893505482, 6161.66542489241, 5192.516093474547, 15438.489283530318, 4830.34107468438, 5366.236780289004, 9333.967907163762, 3143.9218874175494, 4431.037109992358, 18610.031047571465, 13372.423942737161, 22339.63773262577, 11085.495262730008, 12970.206912772544, 26779.193902251616, 11791.51853067552, 2365.156573177803, 27175.414299754335, 204.74031470669433, 19852.07123911853, 23717.041217762788, 20721.711187809862, 8423.421408109829, 5631.460643123228, 21819.92222560449, 6913.334114320332, 469.3868799179909, 19454.78112217622, 9697.291184386515, 21765.696246617015, 31878.396266396732, 16900.273190044616, 12506.115761857192, 27175.414299754335, 18595.73624829268, 23717.041217762766, 27104.63811546268, 9888.511619499906, 20790.11954576718, 7312.1775653624645, 6261.146748115538, 672.9215977585991, 4347.001234448715, 3289.2596252592375, 10212.499976023966, 6173.244927971391, 4553.648100081093, 16162.820631838975, 51.49420707721947, 6871.643604915196, 10386.69084617617, 19877.531485795473, 3535.5714700919525, 4794.596494070087, 18302.04338449942, 4051.208791487683, 5504.145358440168, 4715.927487596349, 11639.14516298215, 11008.630675616769, 4639.752786583602, 3961.2979694179194, 5222.798332729417, 13977.85546010359, 12659.976679873529, 4900.494764083891, 9490.837170054598, 15218.065824250669, 7257.606230849859, 33845.67767101186, 3615.3666064917634, 22930.094713267863, 7639.700525909124, 90.47682350661489, 20455.8497245625, 39045.86697259617, 18200.426843873465, 5269.615513851211, 3993.9320666377425, 50451.93993524094, 13390.694019706003, 7878.359334301305, 19976.44230596573, 9256.129690217367, 592.1893067463425, 15751.985150697066, 8759.630455360235, 13535.79206397316, 5152.507838516511, 152.33414915029425, 6908.666069092305, 2879.1865093864835, 18915.642498705616, 857.9240258985628, 12728.751263176091, 3755.9502970407484, 12382.204992247069, 895.8421822386845, 2912.438002726063, 32468.241580067646, 17850.84152479544, 3407.7005005613173, 21883.899638986448, 2341.2240004243904, 1512.8240922318219, 4837.863806202731, 13950.11907539683, 3921.445174393739, 11244.055946181586, 7498.641164235676, 1773.6029698616294, 8494.835209277517, 41.12402411574294, 6906.828490438507, 2047.1761160174538, 12793.436567714045, 7240.648853110204, 5404.989118265305, 34295.4492211624, 26410.65819569741, 13955.363548127782, 3914.4123372856193, 7806.683748934534, 23911.359687363736, 16917.622214372775, 7357.842545025902, 12379.17323023811, 20205.517359186088, 15911.338310325114, 739.3338001033226, 8439.837324154665, 27976.994522319485, 2816.2939623688108, 2255.699124610841, 7003.43193365624, 26160.100752206075, 21804.536583515845, 9155.595872023681, 32934.14140064307, 700.8470325504459, 14411.011225818835, 7745.238009688328, 13986.28032999004, 2510.041163456386, 14411.263173242736, 14753.025358550367, 27888.35564089151, 140.52796072162528, 14100.380578148379, 14971.136462217117, 17296.50509732698, 12097.536107299165, 10340.90303008636, 2929.1849317468004, 14762.510570907318, 10752.121605952263, 2681.699271834481, 10.381607429033465, 23012.921733317828, 32760.313251766114, 18610.031047571458, 16762.07208060302, 1299.346025924915, 11734.346439981837, 12067.917443294955, 7726.917780575903, 18799.26038751265, 2118.1728655958177, 8614.966713845308, 10653.283304602573, 13313.977021911047, 2879.6701274439074, 2067.286654685402, 6387.1703920365835, 24987.301661128262, 8376.792056424052, 12735.526822375847, 13666.40401332662, 10463.878020731725, 4901.879843141884, 2747.501483684817, 11581.127555962037, 12361.065862473784, 2025.3852304856227, 17553.18039814083, 5447.553705429804, 15187.262094255762, 3420.511571741001, 2530.2137621417933, 17690.96467424207, 13521.541247513938, 844.5018613851644, 10653.28330460258, 21511.937718376776, 4901.465516173139, 4335.035446988, 8715.804428791896, 3158.149848605637, 7438.66810270504, 27190.20271998884, 105004.4832334454, 4866.217041518157, 19889.57919948462, 17312.34268588691, 5915.963366293639, 27888.355640891496, 6291.73956367169, 17908.880129055746, 15130.87814774836, 6608.297340668487, 43224.90123406595, 26641.798289112583, 986.281347867789, 5081.413637348109, 7230.332034603056, 10336.224706774668, 17261.31451316879, 15782.48348723702, 2011.8505558505858, 15409.992218839823, 689.8322762290227, 6225.764924482013, 8859.01249857766, 26051.38218359664, 11648.479303590011, 6246.816795894691, 9631.43003321394, 24386.401362774213, 24433.844353341927, 3823.6687244110035, 6627.26905257794, 8.886951112901443, 2811.464847634743, 29892.065210876346, 9313.870543826346, 844.5553703341066, 338.8849287798439, 311.0319212668837, 31771.84046218621, 6986.23216371335, 5709.790679775004, 39375.54970668559, 1032.0224522279932, 31758.920286140507, 2443.810388997739, 3679.759628015112, 11709.266960238128, 12777.074946795386, 7176.101040438989, 112.25653084004807, 25953.835997380444, 7125.744145851342, 5380.107409648888, 20852.543472881756, 1357.8371350853522, 13729.775989167283, 6506.0636846834095, 5573.84785172472, 7157.859663212759, 17296.50509732696, 34799.112626887916, 21228.54476198242, 17760.282651421752, 10266.223460476082, 3344.7008203634723, 16845.728807799707, 1334.3202373567947, 11324.926195036001, 21764.53318235759, 15806.677161370855, 5251.851062632595, 17389.72567009212, 7049.3282658540265, 17371.415676725614, 7109.044194735699, 27888.355640891517, 11413.638123406898, 12137.544396417048, 16617.4489151172, 6093.667861064867, 5143.772859695549, 5638.363557062214, 14549.403883569426, 1780.572136394545, 5195.249560515633, 11067.756954714201, 12530.433051221866, 3902.0698414836443, 6903.326060081767, 43224.901234065925, 987.5582306945835, 4519.316185199783, 1664.759097406306, 15998.437626070641, 7126.855957579606, 1690.4415590678109, 3343.128825821419, 5184.883904632181, 27689.0842878427, 2446.5105996706407, 10885.1658680609, 15843.436010601803, 16966.594405563745, 2763.891460548304, 3945.2443588350543, 7451.986233461565, 16789.16594593619, 1242.5301694102382, 4585.048229919044, 38626.55983336718, 10386.245555139445, 5565.157703624955, 2680.839477360023, 25314.5626538952, 4884.577225231002, 11422.12003637983, 5303.326420001318, 24566.582854185435, 14513.203246441051, 8766.629902960522, 17573.757528858856, 7225.255414738505, 5783.611267616503, 7324.688612728376, 31506.08729017563, 8496.080579511541, 12354.465746040816, 438.4260324218303, 8605.944828292588, 6909.594556300384, 31048.071315111578, 18203.24154055179, 3344.700820363465, 6852.856855293474, 8135.993310238635, 15014.591758166116, 2259.611490643849, 9513.89744839893, 3929.462442639833, 8537.531195253265, 5059.946763434356, 5576.691913190854, 5717.339741850428, 2878.5509935385053, 10166.73529770429, 913.4306667497731, 6639.378658029171, 28913.77745839031, 29117.247062033275, 15286.549932062346, 12680.914329063966, 4073.901864257299, 2205.5475051990834, 15122.538974176656, 12507.37378538095, 4671.75365345422, 8938.70149384941, 28580.828585499854, 31374.26441740163, 1512.0095042761386, 10293.467606157716, 2933.8072166841303, 25892.018733147368, 6317.914898902822, 19573.87985652821, 16466.436861483144, 503.1785363627205, 14794.242304889252, 205.29356122803802, 1451.0339219632988, 15014.591758166109, 51991.538459400326, 5358.704845466073, 1672.4944286097561, 14064.281010609502, 16732.383238123984, 10920.212515281375, 53969.41944920247, 4993.5492470028985, 15968.990876826749, 297.4179342954267, 12728.189070850625, 2263.704911948782, 97.02063163308412, 10999.283411434197, 15125.022960535964, 12711.867248560604, 48779.45217796713, 21838.55025563704, 20155.927349885067, 47194.21328962596, 7846.388841727654, 14955.023594388698, 34316.588450945404, 2659.8878181495966, 25434.009216692124, 1241.8984354019922, 24497.635641733898, 1696.592084072643, 3850.945456411202, 7983.358356184897, 54246.852770390484, 23992.308458351683, 2513.2424840235326, 19144.768819165747, 23619.32435875943, 3100.443238957134, 4750.676433702749, 11232.719507161695, 16659.568918169483, 2728.3762043845054, 16326.183797636044, 15606.004778538525, 5604.827927125465, 12271.14660254337, 8702.351001592004, 25935.551963727412, 226.7473164420735, 23562.659368485933, 10160.490637850646, 28158.452577152173, 1610.404964133846, 4962.51787785926, 15427.275422102037, 5569.691444800927, 17759.007385146477, 42287.09557596959, 10974.844449914839, 6060.868128510094, 23748.94316898583, 7556.715069569858, 14363.915117623874, 26057.55389668521, 14240.778360915021, 492.15278132349704, 65042.1097970875, 11169.00485822891, 20971.601290426417, 1356.6183737523097, 8487.717220569615, 3207.4921662474917, 2255.2689047541753, 6832.737856362604, 5807.897833774972, 22530.875756799098, 5668.020859000284, 22049.287460124928, 4196.643195314216, 3096.5871518793065, 45389.6076709067, 10312.787310994128, 8527.0615275936, 7726.917780575906, 4612.486793155145, 9314.750696751082, 24045.433367370544, 7882.804723543231, 5740.19567982958, 4397.265253667854, 12439.149987625526, 17852.07279517089, 11926.757945772573, 593239.9921384803, 23793.458475516738, 1770.4592599708049, 14319.000385697858, 4072.9768137641368, 503.8605817761345, 10070.042966553061, 4533.967774988647, 3662.586366185904, 14542.044755946248, 13345.293975128461, 2316.1854132582994, 27923.423986421934, 3745.0009318136363, 28902.147604054437, 11060.115245144178, 11289.542830945753, 4028.102878851383, 9401.401826192905, 5398.343223040909, 26086.95162668865, 8549.839952628146, 339.0642447209502, 20798.859154990314, 9601.613773963862, 9535.147035275204, 6857.203976881028, 40741.721763345326, 4902.936781166216, 20412.107797317036, 5105.964323810713, 5124.306883267214, 23356.224385440426, 13397.406060027555, 5930.678290037249, 7452.155470229365, 5139.342158928379, 16124.28906805607, 170808.46638857163, 7977.653304275114, 1324.7797648478045, 16732.91560426503, 17463.104893505493, 8932.489953578515, 7603.623884178349, 29871.670109321156, 12876.494510658678, 10102.620669727108, 10885.165868060896, 1560.352061096699, 3887.3877163491597, 23717.041217762766, 7759.329228416034, 24045.43336737057, 9649.339367323028, 32366.281850298354, 9866.015464575677, 3860.732834046681, 6480.378258447814, 12123.486794009568, 12396.231059126574, 774.4986756311519, 10178.487633749872, 11206.293181648169, 2349.7394574505524, 5149.780690139345, 6420.358877743922, 4526.258109961167, 5905.223338493546, 17066.44453978204, 11605.227373209396, 10606.653675611626, 5845.8950380368115, 9296.800043189356, 7351.203786788308, 7551.394449233452, 8938.701493849403, 10575.761353215035, 10920.011719491125, 9468.335058481462, 26554.073526588363, 7136.348887695931, 21251.433140149857, 22721.981279580647, 1107.1415182828277, 15588.91656048024, 14096.970679851722, 8247.949137047599, 17601.196733628163, 13884.66720547271, 16698.875218835914, 17032.063926742845, 9013.715923375381, 19470.096110147908, 23688.670021452548, 195.71421394822028, 20427.395754024117, 2879.072682693135, 7366.460454669115, 7189.05060455831, 19552.84458770768, 4961.44842381564, 21239.61657741122, 9493.91698539833, 40775.321086054144, 3027.1235013578735, 3019.081227031049, 16516.051231651836, 2057.575401298156, 24205.345414685056, 4718.205378991319, 1597.268078031986, 9437.025076197438, 13487.6261370348, 7458.558734735892, 14189.355501294776, 7599.66809311874, 49370.83524228458, 6150.825540348775, 18012.906021686344, 31819.195846075294, 9524.514997651859, 11900.768498214704, 4250.032308791524, 103894.11150918703, 6797.0777989548915, 7024.374655228858, 111.30776950326981, 3356.4225817800325, 3045.3089601191896, 9940.071294253587, 7385.539047420512, 4901.762546100195, 40627.2535463924, 15513.470088308724, 2723.0881567308497, 2285.818393237372, 10795.104710305146, 1148.3298050774902, 16145.311570813607, 7303.852700766634, 24793.30441857584, 5071.275929921765, 3384.838363091716, 20962.835918192915, 6727.931622938355, 85018.59166739396, 3746.3513178028443, 14623.290895625309, 2442.299251501023, 4837.7327597390395, 31206.606943944913, 4025.922391933993, 14762.510570907325, 19138.022297138625, 9311.177611573381, 8202.380387639998, 15328.473941435881, 11415.181177542843, 6125.43817336619, 14526.897483082987, 28955.679188192214, 12231.875530804919, 16912.742989638602, 1478.145344747587, 37797.85536839822, 4690.416570136815, 13029.0864167486, 9447.609016265695, 12506.545074919355, 16697.57983100754, 12977.114149102603, 10491.635776407085, 20999.50116686154, 9659.74034667472, 21433.15642883178, 8979.36548465256, 19029.585432916843, 3702.8416369074694, 24718.72850489406, 6677.96979087231, 9083.688358535972, 54756.041681728086, 1933.6781095726983, 40443.78628963612, 1142.3401772624638, 5924.705374672896, 572.1601048949706, 872.2234696528903, 36902.32999722639, 1640.4419873962652, 34266.08831247462, 692.5418465777911, 43288.8323782066, 30209.745988108647, 29861.163772001415, 13640.606905715213, 2952.2065166444736, 7202.691941864796, 23152.257501290424, 25921.521590763885, 21891.8186380587, 11253.311904290724, 4751.823307634284, 4396.816548979234, 13002.356211188053, 5167.656278337337, 10289.177573635854, 19060.86219365782, 8077.124127171108, 6940.389455630779, 25148.165137972457, 12541.195521762213, 16628.264479122314, 14980.48786090652, 11775.593064809847, 614.6207093978082, 6623.714425918217, 2541.818935712112, 6029.38850078782, 19696.08541265862, 6125.457332642272, 7076.881761766999, 15102.817295948906, 11351.366793413406, 13040.634867856734, 4530.436212392655, 12641.489124099622, 6541.910002361728, 5764.685315961255, 4902.914570588691, 4929.8969748520685, 28370.471493385474, 5553.928611875599, 3189.929683240476, 27994.127484876222, 8595.4675469855, 11253.311904290716, 7195.359046221965, 1973.3590011505148, 32778.71564658632, 29675.36677839995, 23812.6192670554, 2659.7700612315966, 509.57295251221876, 2881.803199276863, 5140.2297491198115, 6486.2956658455005, 12449.392101636433, 17686.25954702705, 13552.590988425902, 57974.1031389743, 29156.252583869522, 11872.524566684759, 4696.494728772857, 14387.43598227864, 10757.15716663016, 1851.1596626723513, 15130.878147748372, 21389.820599974184, 2424.8782074283263, 5554.871396120736, 3965.1836085785, 24396.762535544676, 1710.3396536624496, 17604.289079153412, 581.0774820773004, 26864.292355242706, 3366.753456100596, 19057.292587353975, 10235.327572872808, 1095.8867701160525, 33875.93083112228, 2698.2977870146715, 5722.091150112588, 9791.819661551363, 7726.917780575906, 14478.402612840779, 10311.176622984174, 10742.91760789301, 5997.006046886607, 1474.5970598308195, 5670.804020726984, 20843.73426459402, 10058.261764437371, 639.2663896357917, 5572.697552236514, 15144.542721524871, 6639.378658029178, 6744.104834656257, 26475.179021359567, 31066.013117219423, 32066.74051380232, 30599.210903564875, 29899.738381592397, 14193.773343999364, 42204.436278418085, 7900.826696830631, 4941.919027406329, 24553.70166699829, 14675.410415176244, 21751.2131117132, 9918.050489956197, 8402.325834156632, 5452.095866095304, 13881.49103200397, 25243.283575422643, 1602.7014298361646, 2126.126762130374, 1048.8282232570782, 3648.201205367779, 3723.2773881610447, 7270.793760039687, 3799.7801916441967, 16615.38253766025, 2884.760073939691, 21366.933307421783, 27879.518522575978, 1797.494806316543, 8522.888658128439, 2994.858596710972, 31036.819516074484, 8266.795271347735, 34266.08831247462, 47094.696936500186, 12929.68443287904, 11079.31723447825, 8462.951214444729, 19444.847816295696, 58761.71118572615, 7452.155470229391, 2157.545371577071, 11539.837723031702, 1424.5357065535936, 7488.275139487865, 7602.749466965113, 19292.56908159441, 10089.538759984687, 12282.26650057231, 25209.354804166567, 2026.5999489100723, 19619.960931339338, 1607.4750676112053, 7680.235954093041, 1083.6243937256259, 1727.845775454458, 24408.64861881197, 13653.601370906854, 18787.980734257646, 10728.11437396778, 15404.036572731104, 1808.0350702085743, 3979.83478186309, 18791.681225321892, 6234.116762632151, 2715.2896710635905, 23241.934809234117, 1861.0926895386801, 13452.78830739612, 15163.573750007097, 24256.77808062178, 19603.811427776534, 4159.154946594175, 1906.4916073270324, 3518.857107513566, 4894.599549956245, 7726.91778057591, 4900.857443397501, 19470.09611014794, 12659.36787841286, 13431.265704336744, 5168.532128693834, 12302.328018499116, 2016.6805211497958, 9447.609016265702, 4794.046981567346, 13795.025495932336, 2015.803392728314, 17754.186502211738, 2370.4622481392908, 13797.501564395068, 33363.179445774374, 6825.5419928971205, 9685.748651196009, 12080.648288043118, 14226.480950052613, 23765.409065516917, 7078.82141847743, 5506.171843756929, 13599.443541650398, 6747.945147947248, 20693.82937877157, 13452.966860264376, 4418.2256934760335, 3372.785721923181, 7885.905448815407, 13637.279784799677, 12486.718493017848, 22273.737425475745, 26738.582301889594, 26550.717384499407, 4073.9018642573174, 5504.145358440161, 10219.61345725448, 10863.963609684506, 8129.908049598118, 27945.306901030388, 21734.295691016287, 17467.879337692917, 20055.172278604547, 503.17853636273503, 20255.73389099512, 18680.111181663433, 17178.22396241785, 687.2422045874227, 19693.66660045299, 2229.360697230455, 11473.41014516844, 9746.76632073904, 9017.494717197325, 2416.8794570397804, 46545.9145771188, 7713.1288717658135, 23146.139200272675, 2893.743775483592, 8216.111719757944, 6971.046839873121, 464.04337989933265, 3611.8743899553883, 1675.2927825669212, 16485.934905165494, 1437.6149287789522, 8948.306078447247, 1903.9588117303138, 26712.056256020955, 6388.464481811698, 4901.4086255322145, 13365.42452902007, 11610.598949097548, 3986.1974727244888, 1627.5768974692292, 13680.343062450083, 18813.075105492557, 18222.782424822406, 2672.221587878201, 5772.705575161115, 8549.527804885049, 17256.13047877951, 15400.74945370861, 6631.14497953641, 19380.94946887356, 19813.144345235272, 4525.166457269086, 12073.155757697656, 15844.553750927982, 15242.19069745457, 11295.567783350452, 6436.340400939247, 9152.361457699313, 11558.838432658384, 17446.717469925825, 11639.648124020721, 9053.95982933214, 1231.120673740039, 3056.5564646385756, 38450.96064261091, 521.1124276588089, 27343.06973186978, 10611.80677557351, 6552.708941963872, 6302.792364952369, 5888.4685765471, 47543.43337785793, 2591.0499039003844, 26343.27602972, 3540.730751428375, 2865.956594320549, 14241.323102428498, 11648.479303590015, 7517.382291892747, 16297.88331353381, 21824.828754384245, 2629.826912536879, 10463.867324717987, 16648.350293153264, 9958.013108228617, 14973.479294713965, 3397.2935368514663, 10309.735641804808, 31878.396266396732, 8015.9306846441905, 3950.3493043971066, 15818.723306304368, 23659.90335761311, 27464.382730016143, 25978.1415364497, 2757.58665474824, 16526.68055821144, 471.54026171892474, 18173.961530552453, 5093.839873522884, 10609.549370941262, 1426.5521142956313, 17763.459807830306, 12525.6897740022, 24978.522802335603, 15648.748074953539, 17348.393239479912, 8110.93778546869, 10321.782833953333, 14549.659076033458, 339.52505846110944, 10133.369005937657, 2330.373741965661, 8378.151608631, 17604.28907915343, 16275.987981560422, 23286.276129134327, 7707.663860479752, 8036.673427171307, 20797.178097751657, 5155.016392762973, 12799.017039731658, 2854.2723603671075, 12146.096642434386, 180.9150490417087, 1703.29886196, 15866.51869749152, 19667.72691078599, 8711.59012488915, 16867.371077608477, 34266.08831247461, 3538.9232697151238, 4336.103097721414, 8562.468061753094, 8893.774797118276, 12873.845321981375, 12344.787772462307, 27692.34918473852, 15870.856534064926, 11249.163121317608, 29458.557402430593, 2061.1148858961133, 3744.917919594496, 4084.2145852226677, 1414.0765513942133, 5779.762689968356, 1410.5582392630167, 23117.499850687906, 24083.65422613885, 24056.09810888578, 16302.024224518886, 8761.399153556144, 9951.954775817172, 12699.471684332384, 10890.699715911778, 21744.499588771767, 5266.793856060445, 16074.951466965424, 4695.835748152236, 18226.747966229137, 3755.1173869571976, 19586.651970491188, 9740.61699547097, 14252.336608832917, 10397.919842105843, 344.6760216384064, 7609.420906724925, 6319.4409065892905, 7609.8318114954745, 27048.749185051707, 76807.59049162178, 17463.104893505493, 21522.001769632, 12869.8047141266, 5051.634526027276, 14762.51057090731, 7905.076997373777, 7351.2037867883155, 4087.6058183109963, 6842.928344314525, 2941.774617922143, 256.5253220415361, 18425.860692189828, 14400.665989848974, 13473.237293432274, 6754.121055064083, 6082.713580404976, 7417.952248358681, 16732.310268366204, 10634.940161917937, 3671.7909939918427, 11834.104221030102, 23383.23883471109, 20331.771817979887, 3052.6664542112376, 2333.168199103682, 2982.42574033649, 15234.01109681886, 4282.119041057169, 16499.72195104142, 9890.637296686004, 17304.852192366016, 21203.79753490935, 11566.855019891067, 8079.822141993944, 5779.70719744121, 256.46273518459566, 31374.26441740164, 12844.913397369037, 620.1892538848333, 1843.5720850452017, 13995.579387676546, 7602.749466965128, 4231.931026130118, 27769.376411275487, 20138.897660480896, 12791.401079803785, 4431.409375640949, 3792.0257248333473, 3777.2835082163474, 16305.207421689935, 19027.413052089647, 7359.756448740089, 13874.36850345599, 503.19537775339995, 10610.404827069771, 1710.6335768970603, 1327.2063938596257, 4968.508840102833, 157.74863184540663, 11634.182992167269, 14763.483478777809, 1113.2074789908838, 9333.904704158558, 17659.774940544943, 3436.4252151552937, 10279.615991472416, 7614.66512670492, 66198.85221694622, 12947.784607511341, 34266.088312474625, 3352.501916867044, 1985.1793252544267, 13557.017472298292, 4693.148245955057, 5185.642978734337, 1822.5837875088182, 9740.117985931938, 12497.004457966843, 7934.34822642932, 13014.966729766289, 15366.47772016513, 12200.933755912487, 32809.879262886774, 619.5212825169583, 3221.9499091231046, 24301.134953300403, 20108.642660693236, 2633.0972618686355, 32609.988123210584, 15224.696227337561, 2257.233960230311, 11837.406124101846, 5179.555490303381, 13673.377334825938, 1914.843126396081, 13009.344327176826, 6203.871413670109, 2857.452795452926, 3281.1912898802148, 4995.533166481226, 12563.858874929509, 1069.6300604073986, 1722.4778305487198, 12523.614703660936, 7102.049236536284, 4005.3150843591284, 23985.435407765748, 4433.09431720732, 11069.41917212258, 16803.980904271968, 17387.248428727762, 30643.074359908496, 17176.34849637869, 12730.337456869798, 19830.554231040067, 35048.41351347309, 3828.826037628358, 6038.324957805162, 1681.2947463343007, 21028.83072900479, 13164.106730752756, 18337.19490165031, 11202.544359456078, 3772.802600277857, 3655.6573043469616, 3992.1407124754696, 6721.096296511976, 1423.723129265847, 7583.252880199445, 3330.500402394973, 17463.104893505482, 10681.06205605406, 17411.532207311815, 17563.826438691267, 23490.070686683204, 5303.5828545068, 25347.899421662936, 1386.7903050741988, 10775.030310531321, 8636.799126411017, 12102.118522425422, 14072.25279954444, 12449.39210163643, 25624.425866341215, 3572.6285525916464, 9053.959829332136, 4904.70233480967, 2970.2789172551347, 13261.92887876682, 2786.241032093909, 31878.396266396732, 16834.05672974082, 3487.3797577626574, 3676.2461944000897, 15047.699606414586, 22559.161301249485, 3921.445174393739, 14489.091899122344, 5624.801113374298, 15576.06239916202, 21683.507773895755, 9567.227049567278, 5263.198807559838, 12989.421664302266, 6514.832377259023, 5345.202454618651, 12111.46575573341, 15350.128911431784, 29861.163772001422, 10590.59316404461, 13473.237293432278, 30465.224568521422, 3467.3889607755664, 29221.18803797962, 22156.981304331002, 2179.712796830154, 14159.347147885856, 1402.9533850618536, 7051.0011549446135, 762.7737249778838, 17777.66006778739, 1140.3309403488965, 11756.817287522961, 2113.752401304475, 18673.759781246154, 1410.1943217655207, 361.0913420108627, 7296.825471355187, 11614.837261846817, 15266.787738085153, 2382.7188339041895, 2005.8916824856933, 27175.414299754346, 5343.740784127811, 2993.214257351745, 679.7336009750325, 18521.884130160175, 12167.257296586784, 254.11478261975935, 3980.422216296669, 13310.392726537208, 15438.489283530322, 26664.62590784154, 38761.11104140857, 11623.699774991903, 284.0682405207008, 10782.818776303982, 4040.466639675571, 1302.6886262156986, 9060.065759622881, 31627.819389447523, 4635.435700501599, 5189.016524788032, 13105.42861985051, 11022.9989064379, 30582.547515107195, 5555.976568663333, 13542.748852417924, 12080.807084625536, 19820.23232285297, 12012.58866952097, 14689.654877985435, 17530.952138471792, 10184.075603971018, 1190.9413751417778, 24752.417364652872, 3610.878466818129, 11639.145162982164, 23686.43276683378, 12452.54182566188, 4874.174491940055, 12006.04503456522, 6899.11954370702, 16754.15176908404, 5814.390293144825, 18474.579000284895, 62817.02644207317, 60209.21279666273, 11523.093800289662, 16653.892264635615, 31060.20604212863, 25000.43646825901, 5243.37231323975, 5690.905896086446, 10609.54937094127, 1649.7780664458332, 3675.6165002626185, 11269.69594275171, 5519.180002746205, 14555.522779973962, 576.5842429585646, 5685.895864713115, 13651.65225102302, 15943.320105328734, 17103.826510239, 17913.638057951735, 20966.44691222869, 12423.21392850014, 9290.562857645426, 5536.087878939143, 6388.4644818117085, 13518.471991094306, 16374.19632538789, 10032.338458711049, 31057.532675268572, 4612.486793155178, 22558.421152865933, 6463.361731704721, 23056.154804230435, 23827.60228129057, 1198.660964214123, 1249.7491531745, 7213.131738030512, 7453.20304458337, 10639.30023514697, 2824.854233109938, 8717.250936600161, 31263.977072911643, 3240.3358647883797, 6.551100821438013, 2285.54883706649, 4357.806809788584, 31309.49356859918, 43345.57612441306, 443.35910307763334, 142.3018144020025, 3919.2767363055755, 1914.8431263960847, 6995.167005085172, 29928.312955254725, 11605.227373209389, 14425.169986401797, 16259.756332439898, 6780.310665800869, 3505.941950419714, 22295.761921160305, 5137.604491782564, 9759.609799003301, 12696.868084037087, 55042.03802511653, 21245.392615326098, 12078.400551516861, 18488.392765072465, 6528.115470284902, 13038.804393982711, 10316.764072065998, 23709.3162383749, 26564.354647373606, 21458.656868252387, 3001.0771162156634, 21362.52988777648, 11624.402339629443, 10311.397675263524, 1586.5575218579615, 103404.46969788306, 11511.009858919446, 2653.3440128407965, 10018.51920809668, 1268.8656676324754, 27689.08428784269, 4774.312871741178, 7595.11568980648, 14430.38073750885, 2284.156284662735, 9420.360237844547, 24455.241933155117, 18173.576245757915, 24715.30258793242, 9602.430333853685, 16280.826684943586, 23775.484746955164, 11488.908754598458, 8056.203055655271, 297.41793429542304, 15809.909870982388, 4426.339310651194, 1356.0861856778683, 5022.040191519354, 15441.141941721813, 480.35948351232946, 253564.83700686297, 7122.101696517937, 15905.148621149001, 23096.149779134168, 13898.825157998686, 20367.424300313975, 3247.4998602791675, 1459.7741066638337, 19960.990895682025, 4903.054272915826, 14034.898718477929, 5550.657907580928, 20170.60728231877, 8470.61570116385, 21812.007485304, 6055.87045534655, 15502.482804678333, 15044.487887677016, 12906.469694954088, 941.2042530897488, 228.77678035649296, 18474.579000284895, 9855.410406576426, 16939.87891872249, 8451.496563465014, 835.8706911346671, 15347.68797713102, 31771.840462186206, 2783.621984487927, 113444.9952506838, 854.7557291802405, 14289.615431723381, 25822.823678161643, 4979.014170317525, 10790.812088254497, 763.7779611944279, 19118.57486745018, 25670.04877508292, 12253.251147660318, 3688.1322389299457, 14162.164575202482, 11156.791057000155, 18148.976093382043, 7245.308308735181, 3777.1594012905334, 1403.8765589817122, 152.33414915027242, 4240.217432315174, 7739.178913641426, 9120.251332722462, 16197.331848094345, 968.1736499463841, 3581.2169243528224, 18907.032610730945, 6006.792261128765, 7185.802519917532, 29972.48098271105, 779.6261061417972, 1711.7985077484955, 23794.97010477929, 32262.612316259416, 3148.8282584101835, 8172.157112241148, 2877.42319035688, 1004.2172821244603, 5616.830700734452, 12330.531637778768, 8681.098598725279, 18172.28608647744, 23.671759428245423, 4593.282269469681, 26637.16529024367, 3819.821691278412, 9918.0504899562, 2063.4347849526457, 10868.255841624825, 19151.819069339243, 4017.4185993727624, 14974.967559856927, 8892.902972089803, 9947.587662544996, 1266.807417974269, 1083.6241342544017, 10883.785728630734, 12496.619713663604, 3823.344425036972, 32724.78451638046, 5112.813775255672, 7452.1554702293615, 1859.0437453708728, 26542.905606054897, 17604.28907915341, 7422.2126355649125, 13018.391942646413, 9216.284226095322, 17671.151808042, 17149.459403297726, 3182.1700334037923, 9061.14428838934, 768.7347251874162, 22542.483179794996, 30464.12868383352, 29069.076008081993, 16739.995351448862, 34266.08831247461, 1816.3546645467686, 157.1184669087961, 4199.485253445546, 1409.6031017873029, 22655.087246698306, 31673.356196832985, 1830.2470585881347, 2429.2914810855873, 17367.417420648468, 4360.288451962915, 136.5178829294673, 10628.81187345097, 21705.914985838044, 1909.0260623487557, 20055.806953716383, 5935.455243054566, 21006.961506736236, 6314.100820351818, 8757.645552008915, 1710.6335768970603, 11207.53803702003, 24529.700302720194, 1765.0066635607764, 26515.334132412016, 596.4221061517892, 38998.5404309007, 14543.266722677756, 27382.98264319419, 25584.19065516952, 6172.24476164105, 11646.520194573379, 339.7608798897454, 14028.656648524848, 1713.372935299918, 25034.099775562776, 10676.695440636984, 9525.551578506547, 20153.88472438687, 26057.553896685196, 17604.289079153423, 17544.978972925994, 20323.312866466695, 12733.745974399728, 4346.544317632353, 3352.5019168670333, 15454.049922823506, 734.4254565549381, 11814.791516848334, 16733.090471278516, 7685.487406448898, 3727.7431581389683, 16039.058006672021, 12122.812434496162, 13549.05375944047, 11627.271916179987, 1908.0533345851836, 20474.10118565735, 8450.182198874332, 104369.0636427328, 8811.925255859245, 7579.174965424594, 46634.120132723074, 16040.931575129318, 5888.468576547111, 18649.892569009775, 839.7261434124957, 12386.075963599182, 9304.520121913149, 12449.392101636444, 8754.104358126664, 880.9629304537593, 7726.917780575914, 1329.3959563722165, 11393.031435705321, 12512.677164556106, 9372.091954137162, 12870.409062904051, 7117.082832118736, 15714.079925271813, 23615.899154452338, 4571.120691146443, 8079.737496186222, 13534.7817808193, 2878.987681752915, 5365.531584278535, 3413.567690015512, 5402.977510731434, 11471.08808970436, 267.36850457851324, 9902.113030657085, 7116.405427186903, 14299.543261929284, 8667.53539890219, 17245.685084485103, 6806.496087530897, 4226.262007815192, 6313.072913722921, 9451.330318422188, 5682.208349605175, 387.97219574047995, 1391.3569597116548, 7546.131772810619, 18259.266904098462, 6462.6145766626105, 4399.693251030196, 4247.641377019936, 25275.98228383765, 27945.537660592163, 9685.748651196023, 3434.70471445586, 10490.900879140117, 28552.773970369824, 263.5474241097618, 24950.576990365007, 5936.692767346736, 16207.9470639149, 9715.695175989098, 99.09594397745968, 24906.88057363737, 13451.260921333458, 11279.606143068042, 29571.81912046846, 8312.273176397168, 29728.3259310414, 31306.001508284273, 4901.007944034445, 36118.5546353248, 8022.156530496566, 2618.657146926522, 1436.1650886750358, 13020.765559290216, 13077.112037334577, 16349.31097504875, 11655.709166074961, 4794.093224000884, 5778.093189573083, 19828.391614255313, 3887.5824046196794, 13676.59456186447, 13084.980806813706, 11223.176591444197, 7653.898303781105, 10674.159530478864, 22062.009334083952, 14689.568996807651, 30338.453449016466, 3534.8523320196728, 3084.3416793812794, 758.3020500647362, 1711.6539366804573, 5243.99190079765, 21585.823512576208, 5616.830700734459, 23539.426606034096, 4698.316464718853, 647.8935336468967, 853.7901168162971, 9946.636808060397, 17106.169306434113, 12130.752586095958, 9293.84167876286, 12456.969967090987, 4065.77124333712, 10338.75809778228, 17736.06171703692, 505.4597881064874, 23512.250343996817, 13845.07718398425, 7304.508095418823, 8838.69192736857, 9225.368260275794, 2358.167670355957, 9081.116685114474, 3661.150916929051, 1031.6703480067736, 669.8978763315827, 23826.334107606548, 2563.0745489315013, 12639.823049780083, 10885.766045912682, 6001.352045556421, 19733.321423869216, 2299.830257217731, 46545.914577118805, 1659.7071887027087, 17919.054723713634, 11410.083493339505, 17384.458678850293, 7117.082832118729, 8451.61477403661, 9569.734887241153, 10003.313241905584, 16766.852357412947, 18486.66192322838, 5504.145358440161, 1992.5204841838786, 10089.430705753875, 15749.146723149992, 23557.142181660827, 11285.161468973267, 14954.578180378165, 5884.307870708013, 21143.25589239181, 4097.724012041908, 9291.832201156089, 22844.550254051865, 14972.489279321999, 5977.437959754439, 30890.341574405233, 749.6757562116036, 16747.76674708703, 3363.914486742535, 18532.847956397927, 2851.1592778104496, 5717.339741850439, 14987.6476978129, 5066.538804650718, 21448.66781986072, 10163.319809727895, 4214.560227665319, 17492.76833725645, 10920.011719491118, 1923.6748144352387, 6613.707570296516, 10492.754416497919, 10642.106585252368, 12953.759678549912, 16981.70088935341, 4232.166172411653, 5636.865165817893, 7116.388075972278, 11224.423530387292, 5017.185537804668, 63983.0654976822, 3311.250952892977, 25052.358355207296, 62071.36679189757, 25482.551170128703, 9358.920080588687, 9837.673956601117, 20554.17749059509, 297.41793429542304, 4370.721378643841, 3770.7859493909564, 31205.263146984515, 5098.18331652839, 29141.82081712148, 13526.094050765103, 3082.4764170167437, 28443.80162269054, 6832.4066760460555, 15218.065824250669, 6001.763681496952, 17367.35376933196, 1437.6149287789522, 11480.313218805204, 26161.72753912485, 1669.0989047355943, 12124.02527086571, 6648.579004789477, 9285.005989759215, 10266.223460476067, 17348.393239479898, 5504.145358440168, 13754.752964272531, 1671.7721110444618, 15251.118837706133, 8616.600224827554, 17204.314268128674, 46884.59719498112, 8742.265103555019, 33011.523817376095, 3967.0310192398792, 16888.366390658583, 2378.554151257267, 6833.138060245699, 4495.711092315654, 14762.510570907329, 28604.658987154027, 6854.340227367848, 18172.28608647745, 12542.197009447402, 9667.724539919502, 5031.870416266578, 797.6310964216573, 24730.43026554337, 16333.547897014447, 19543.24851976299, 5452.7868136024335, 22056.044189701875, 21826.588330817463, 2188.7414169251097, 191.75775413365773, 2551.011498819109, 13442.743123636843, 16255.564894958585, 6275.035516381726, 17633.21720419873, 24408.648618811952, 9679.36965139235, 11624.748419168165, 19898.49720465239, 23551.85493983222, 22079.52501148428, 15562.993613163188, 4259.817943336297, 2915.6318670031724, 25105.786212431027, 5225.352359840064, 9703.612841644434, 6609.685090276569, 7194.01830566526, 16376.177258220108, 24442.28081145413, 15557.890808322809, 490.8975318650482, 13890.914932600164, 19078.55377635955, 7619.435338168863, 9791.4065720469, 1884.4437636643997, 1439.2791626201215, 2558.6962715470254, 13994.774502192227, 1046.0641783236824, 7464.281594708915, 12022.060453666538, 6904.476211312365, 14329.734342934953, 24097.307812712308, 9366.789836345502, 2103.534285885602, 3396.1076979471327, 9576.064012598952, 11911.809058087627, 19472.793386389254, 2519.1918619482385, 3198.511286906225, 27410.48166556243, 3485.674169301601, 1920.9357486592562, 9911.92348625093, 12102.118522425404, 8622.960963001235, 1276.3280900624668, 24135.051034081, 9818.477243794885, 11141.622393266334, 3823.668724410996, 14549.403883569437, 7036.099253434724, 3914.4123372856375, 7726.917780575906, 16276.732362386683, 3434.704714455853, 18957.815593305044, 37155.17579488952, 1542.6760938211737, 16423.23494228286, 1756.2523859196444, 5514.762521302666, 1728.0950324221485, 8056.20305565526, 9820.88025123826, 8295.598992960113, 6386.093534093172, 5929.320368305536, 3950.3493043970957, 14628.885223934638, 24312.95265922488, 14579.902677629128, 25074.241433860527, 1692.4287135199484, 49791.28022497117, 36254.20583196341, 23819.60276447933, 1524.2575286522988, 6207.646054588156, 2288.045415138942, 15376.908159069306, 154.4636423090924, 17534.886181028094, 29194.827988598754, 4519.877865867442, 6182.565300447146, 12889.79101978561, 12359.644831724225, 6630.238601451572, 2541.0142229646735, 5152.673335856118, 10920.011719491093, 18946.599260468767, 5800.379042094162, 26112.401414674216, 4366.029056223899, 10742.513758439025, 4694.590305156551, 12454.56762526912, 1940.941233223988, 5155.164820211103, 9965.484551109494, 1288.7795202085836, 354.8859628055543, 7395.384427414228, 2563.0745489314977, 5357.791891471559, 16973.83757207175, 5462.308662871197, 9851.808216829599, 665.8320677775846, 14526.897483082997, 24752.417364652865, 14322.306468300318, 16320.422497010812, 6537.245417171758, 15577.362377756759, 15438.297654437541, 23997.87408088216, 2814.1243383547917, 6598.056870894834, 6420.584447403631, 8713.803175333775, 6096.130173378031, 34434.82003207541, 28168.210601535215, 7077.641682351263, 20535.921734144187, 27719.4288888248, 8122.557493299071, 3159.046837062029, 12808.553584506804, 43224.90123406594, 26051.382183596637, 17474.298765544016, 3156.996160876475, 19878.138059029894, 5807.8978337749795, 25447.280541433276, 10700.222723716208, 12534.717498444916, 26710.5126946355, 15163.487686836692, 168.71316280386964, 8191.636861075593, 1843.6240415864195, 8934.666550979277, 16392.285592708802, 10370.921774149807, 15910.155643872313, 12491.0812018379, 3131.447533913899, 4444.547465889213, 442.9517850872908, 7821.963972522579, 6100.1833441043855, 2355.2763953666654, 5214.711515365521, 27417.48398951657, 9818.7569484642, 3144.810141045142, 12970.20691277253, 11097.879972976592, 22341.375777434798, 9033.791903718913, 18857.663852423146, 22827.599150289716, 9936.500762046817, 28004.14719902482, 319.0819529733744, 11731.474719532536, 3827.6670200762965, 195.61333383750025, 12616.883743251987, 10653.283304602577, 2983.788460432028, 8768.515509267301, 1110.053188883172, 6360.098077397626, 2129.914612620785, 7023.344237050598, 18425.860692189824, 15365.110279119563, 11884.593136209336, 2956.287562583355, 14585.386891040984, 10653.283304602573, 7657.2690900400885, 1249.4296859917886, 24447.79548057482, 14784.725054218601, 17016.622760607457, 14267.959707538426, 5.944856393922237, 2613.0498831445148, 19312.519658207413, 2601.9891501917373, 277.04071687577016, 14743.286631756768, 937.2985080033613, 15409.830552362917, 13431.265704336744, 7607.324641647567, 19986.59588790364, 5303.032276511178, 17493.223198748106, 8881.380138577792, 4859.289371751234, 4546.8699092864335, 10499.067027956662, 12782.114231880776, 19898.497204652387, 5240.738605747221, 7570.172569494385, 1791.604606613295, 17101.178287810282, 3063.72898305321, 13204.96806620211, 10839.56567643199, 11634.182992167294, 3917.8915693799972, 21688.056645146455, 16193.537803141488, 7295.959941083896, 11326.77300085936, 17021.608224830004, 18475.61184327581, 18093.88821720795, 19693.666600453005, 70890.36494249832, 4564.065127945025, 28154.929964698982, 29458.557402430597, 7837.257152343773, 26631.74028516166, 6936.166681075723, 7213.196965060859, 11634.182992167298, 6919.770749110667, 4387.379705739899, 3088.489062799341, 2019.8921265443569, 40604.798229388514, 6329.449008781743, 682.648296647636, 24930.693941340112, 2227.9755318872594, 1033.5613898682568, 9187.639795974534, 18147.65313240909, 297.41793429543395, 15782.483487237012, 5760.918506743936, 509.1016246564286, 5627.317079194057, 11708.396990708934, 7527.827809683353, 7701.558566775857, 8478.594512197626, 10941.328919499145, 6777.827047608138, 17442.676830490658, 3177.18704540587, 27730.736234117117, 12565.360237417714, 14549.403883569423, 22599.259639028787, 16958.157629988575, 10320.054587640992, 38361.939629440174, 28370.76049361459, 5144.743084022128, 5526.033894585478, 741.3514555580587, 6567.115743259248, 6155.966565558254, 18009.919731843547, 4920.828562806637, 14206.914336660171, 18857.663852423153, 12887.473550027345, 5023.559679497248, 11866.5509312555, 2490.8926689028085, 240.57530255642632, 9261.317102426856, 5136.192056272303, 6085.284370505535, 18172.286086477463, 11832.181160072803, 1056.297719578968, 6930.451712192138, 1580.7065100731488, 12103.751940294977, 20753.215553767404, 21389.82059997417, 22362.02786343056, 5515.350449854541, 1321.7110942392355, 2495.016282479519, 16005.70479251739, 10753.468380690458, 8136.529350745022, 5066.734333721186, 8590.14185580438, 4342.237221611409, 7609.830323937254, 20693.829378771574, 3773.8473191545563, 8419.546570964758, 8898.191298078636, 10331.822475261182, 7726.917780575917, 2442.2992515010264, 21508.682615623013, 3111.7991552867534, 3208.1930766937585, 21213.296435994387, 28207.26830116364, 4400.015839017404, 7301.834970965712, 3211.720433034163, 3026.691148706086, 17300.272034757494, 3300.7616762033504, 16154.91470137395, 21079.846039124117, 3189.7007986121716, 10444.225097592545, 16005.497758170575, 16834.05672974083, 1436.8998622883955, 3950.3493043970957, 655.9856536678708, 5511.231465096993, 14211.79797550392, 9225.5899004122, 7240.648853110215, 9452.68132222585, 21362.529887776494, 30981.86353182417, 3070.6024380989584, 21879.700787305082, 695.8308950256505, 21106.766192398612, 5504.145358440161, 15100.653632705758, 3912.8128649549217, 9673.782759877504, 12704.541940728199, 10920.01171949111, 1931.044043128284, 18753.703600022556, 4542.240846847402, 11329.352828308947, 19558.746800059966, 2878.875234233612, 11766.623483166819, 71.09939501517874, 7546.690761570473, 13264.724057036954, 3887.582404619636, 599.2110235037326, 2251.317215575855, 1141.675123055309, 2853.4247591565, 24607.117390651692, 16973.837572071745, 3621.077019846314, 3206.504169106167, 19278.276194073605, 27634.536002260786, 11640.523387867823, 5185.642978734326, 2507.527109889659, 23221.562720440197, 16666.372291580752, 9596.941712343512, 9476.20703869973, 3842.6078554303167, 29221.18803797958, 16598.94193965086, 769.7773200178563, 4328.314363688423, 7984.504641741278, 12784.874995886323, 26904.625782989588, 17690.964674242092, 23317.685889795255, 2724.2244343582133, 14471.569395723913, 13698.273248615187, 4328.31436368842, 9859.75965839197, 25151.89079156571, 14241.550007673337, 20244.136396359852, 3138.9559089276954, 7813.370108038758, 2745.877532668317, 43234.39457900998, 22989.242495420192, 15404.036572731093, 422.47868383329114, 7204.3991360704495, 18116.579603293638, 43.970013695114176, 31114.308755074133, 22996.49053373345, 4119.898484025514, 31812.646436039104, 26713.654714259326, 17286.703716166397, 11223.176591444208, 9896.19755547326, 26700.788989950615, 25631.82385702781, 23377.557230391525, 3823.6687244109853, 20707.206590170554, 19586.65197049119, 16930.234961422822, 31107.104776861568, 5480.351248667408, 11464.560833469153, 1964.520933716165, 16085.529251195017, 20168.580261728574, 6.89601049155317, 9962.264908866047, 9453.074510218692, 7257.606230849851, 9872.655867531037, 21754.252916006466, 9191.228235300361, 15983.324091547074, 4405.9674171335355, 12738.391630162732, 3434.5146457543924, 1593.2048591260245, 1534.3115294622876, 6706.354504823761, 14549.403883569426, 23084.810594873652, 12966.81271621057, 20161.971327288335, 2311.846045948958, 6041.9367369588435, 16432.420064386737, 542.1944626593395, 479.38584889873164, 8146.961913305866, 14258.650365622183, 21431.67897796693, 7539.25106927997, 11184.77835370996, 598.9764827347462, 19295.599665358986, 7413.500729201871, 8304.998001123891, 1285.9879937604383, 8991.881384114102, 5337.972874063471, 7257.606230849866, 437.94322245216244, 2163.8150766963554, 26162.917057217895, 15130.878147748354, 28528.228840866483, 4903.085612473871, 3584.298747688754, 13042.832437712219, 2189.7340674667284, 8053.7603440326275, 46545.91457711882, 7683.343426958694, 7029.382285234202, 7344.204545865548, 25436.911047603993, 6819.944602844855, 5833.127404177849, 22559.161301249485, 23592.560130795617, 12448.307245379801, 11232.719507161677, 17490.045320969082, 10461.631398691676, 9594.486998123633, 4400.015839017407, 7679.169572790466, 4493.490206118149, 4144.158371702575, 24885.813764593688, 1455.0154008814498, 8593.879115102696, 3189.9296832404652, 12069.62504353757, 20191.458984151945, 11704.6960122807, 13226.956095259611, 22522.623693587895, 2950.566021376617, 15582.680190409756, 8101.346081489646, 20418.693857735303, 9050.019887040628, 953.0049243032627, 17809.011490919165, 24645.793971475403, 6300.140308106933, 15654.222214100013, 8177.665390903756, 12970.20691277254, 10646.674993563189, 15121.500922269362, 13679.324451488752, 2175.883850766746, 25584.190655169514, 18783.840836454685, 8322.993897026598, 5413.335132920089, 7767.044860668037, 11282.363032498233, 6887.5105630262915, 5938.15578892835, 4146.026546504436, 6979.653134796259, 6601.954332598922, 1770.4909729033716, 18168.024447145443, 170.54805034877427, 13241.83252072618, 10251.328944732937, 6398.654751507602, 1955.465844659684, 17761.76055202952, 14543.669639160325, 17500.14806671437, 23084.810594873656, 4431.892548582935, 15346.611496425212, 4150.869908614157, 29897.157514417057, 12907.267244358161, 520.0930037975631, 13510.311320217388, 29995.683540966325, 26652.539761196695, 24983.790635342793, 6118.814264590852, 13810.571818800738, 10057.827776804566, 13326.393230810936, 7726.917780575899, 2563.074548931523, 1749.1541155272207, 499.57905624303385, 10836.160292536166, 22714.47617833686, 15175.881269375008, 21522.00176963201, 3852.9591100249163, 1224.9081094146604, 8561.202588136955, 17260.830912438956, 15235.536129760472, 3799.3756020527144, 15172.035567466224, 16498.65765452839, 2813.249954403793, 3702.2589281504406, 2382.451661740295, 3021.0310985849137, 39375.549706685604, 6587.449842393282, 13314.048159231286, 5645.8935484714275, 31649.899276685508, 25844.73022312764, 12093.830500358592, 4670.877591275523, 8964.466739061616, 6990.757904506594, 10983.758269229678, 31046.482838489013, 5568.2459062408525, 2684.9794709806847, 15383.581157972087, 2137.803634192398, 6904.636581020386, 31819.19584607531, 10298.222186944768, 3294.044356765393, 15006.501216967663, 3346.2880360149575, 7589.3653607839005, 5504.145358440139, 9031.216010530403, 5942.529275821664, 485.7549806508723, 80882.53034597242, 8538.216519305268, 3103.825587583484, 10105.533549507447, 6655.031509898636, 20494.093817270354, 18863.946564876038, 10201.913613907876, 9899.357142592708, 7864.552736550286, 4866.27182010781, 12870.325664331787, 9482.853715975609, 15376.700232582702, 14776.324671151739, 435.14940202273283, 8687.854650797723, 5930.564413944034, 13922.576455551047, 11626.863265541637, 5491.177882688502, 2449.2493787677668, 34901.490179103566, 22942.28952455487, 15750.652554614091, 28114.51723264407, 22582.30927022719, 22749.784807439748, 15258.75132703278, 13663.475211774443, 18856.137787510623, 363.6624251694484, 10251.328944732923, 12686.172722434349, 6998.468290289096, 4578.717676470838, 25892.05764468125, 7915.973636143539, 7849.758839006812, 12146.686276010209, 5918.92108933469, 20138.897660480896, 14191.437231639196, 9893.586064247036, 21402.9829124377, 2857.032021492061, 21767.399508167764, 3161.7029365647504, 1257.08274073535, 9077.809527975049, 2079.5895632617903, 7050.457491941488, 25952.482084843163, 14892.76751636438, 851.6691483633585, 8782.668308600354, 3296.854056507229, 8001.769697464169, 10113.197318844337, 4545.2003075097455, 10230.09598464792, 2459.5877668121357, 2120.298961405417, 347.3224559290247, 11480.313218805222, 95.01996204821626, 7515.144893614168, 10470.24078392957, 12073.150902006935, 2305.7959919149653, 149.912990650555, 10653.283304602559, 4245.1663099878315, 29901.19856970266, 2053.8509212351273, 9956.53184936037, 2877.232163981429, 16005.314481536912, 17463.1048935055, 37267.700503566666, 12102.118522425415, 3823.668724410996, 145096.16787008208, 20930.28196478033, 4856.679419156255, 19215.89530738404, 7965.239168003325, 25477.78014540634, 2680.393613476801, 22773.25802653576, 3078.000327134523, 4397.697681121226, 57134.46298317607, 819.4830676113888, 17264.65094735626, 3183.5373793556646, 11019.09832746111, 16395.456279729977, 19393.951514920216, 5155.877224926819, 16048.333667874074, 17530.931080398783, 9240.542140426183, 21617.420126065143, 8839.741158479708, 8016.717741578021, 6324.568466218774, 20837.935698794558, 297.4179342954303, 6611.403449823694, 8651.719732278278, 11874.976018665551, 23433.77379042993, 4817.0589959339195, 153.5024538636717, 6724.086660169531, 3222.904652861933, 17125.927051968898, 20287.811206467406, 20884.71442503829, 15573.70646810798, 2681.629043372537, 15910.155643872287, 28552.773970369824, 20139.62396790066, 23349.317297149988, 10304.882760640565, 20835.319836264338, 6133.685108782101, 3078.233091265349, 2768.6532088471286, 41871.739536754605, 17041.399632647986, 17879.44314918539, 10279.922403758566, 3539.4897923128556, 12819.522908864586, 4180.002074662218, 16279.328794250498, 19444.84781629568, 33799.87003732914, 4408.735974897292, 20616.78189411782, 7456.2532543627385, 8056.203055655271, 8434.290118205252, 15188.181976557993, 14404.750640112838, 36048.59134398127, 445.7897360866882, 21067.43967484332, 8513.49437556816, 24629.33783710273, 16517.436962347212, 9841.8929117246, 17700.976489397763, 4396.689988100668, 25929.63068999544, 4366.091776106092, 31943.76921190342, 7602.6609153330355, 13142.18920855314, 6639.3786580291635, 4408.7359748972995, 5841.5243740928345, 5719.163276843734, 5875.150132462335, 24973.53568233116, 5258.580323617014, 5135.92983271768, 13676.596010722522, 27088.10958142676, 3579.0392277726205, 19994.523700911734, 2606.3660975542916, 16821.07174379286, 19834.9835989855, 5940.060062845561, 3143.921887417542, 3722.8569278785035, 3547.0589841744004, 5530.993269363011, 12672.56220462425, 661.9559749999971, 3711.7519619759078, 1199.6788171420922, 8687.753629425391, 22689.71138822398, 3352.501916867026, 15172.035567466231, 14407.611828174806, 14535.950783695946, 4223.279694557808, 8573.524062468514, 11820.559855683423, 10434.45455262126, 5680.588706039267, 31188.926962617596, 4163.36406465351, 18438.05091278057, 14647.678020513777, 10731.547636228359, 2442.299251501012, 9518.102743883395, 2634.340646742603, 13152.105396628664, 3309.4202685777927, 7994.981918332527, 5930.353599398357, 18331.283381936282, 15454.01319766778, 16833.749536955438, 12094.904843144894, 16543.21098530959, 1555.3339715595357, 7215.075906228718, 3666.6252919614453, 7343.53951448822, 14238.95703795027, 7193.876444588448, 14705.604791973601, 15952.984612040455, 7456.486934254997, 18711.717793223146, 2533.4906615632426, 8778.66244188929, 4919.417166906933, 130.72087679205288, 26445.852169455102, 10705.09918276178, 22603.748423049517, 82961.23225578028, 359.40060399372305, 116651.17965310349, 507.96274763575275, 21906.1008183975, 12801.053869432304, 12032.487576207208, 11908.853352438033, 4009.2591197521833, 3094.2453806539343, 12351.527175862222, 2531.4519348735994, 2138.4795462645125, 1935.1142785661323, 3223.4224492679423, 84106.7829607323, 11082.580015563082, 4723.354749439452, 19548.216016252103, 8481.730971696863, 6871.446016142345, 11188.467979631998, 15366.477720165123, 21478.707085531067, 12817.42075151693, 22501.36528519242, 31374.26441740164, 27886.142530410645, 22284.6670996963, 10647.091552555263, 10214.156225967556, 26057.553896685204, 2879.557514661741, 6773.656779293095, 17776.145811545, 4980.46981245128, 16491.24963686886, 22833.17580158075, 15818.16707963518, 2403.7651130565464, 1542.2383588129633, 26748.575797105263, 10309.168564917083, 8095.076283020044, 18526.859159255997, 3117.544691360403, 3920.3285882059645, 15527.355401703891, 17264.65094735627, 15185.088202013918, 11457.157635806645, 28337.465169090676, 12653.78297354485, 10550.327008549924, 18592.93150713061, 11549.039242939365, 6016.683463245659, 1665.3525603835478, 2378.55415125726, 30365.19009248877, 152.3341491502688, 5960.557766987218, 13281.545296370714, 6105.424673053934, 8554.9221826039, 7564.7213893823355, 17709.23474301083, 41684.23365831081, 24433.844353341894, 9452.681322225842, 5041.439882836767, 10221.016133795383, 40878.51274527821, 297.41793429543395, 602.8947329790681, 1717.5147305081118, 9657.211849473122, 16375.684006925796, 10026.10581328231, 766.9313643423084, 2160.3167782631026, 8801.221030494107, 4493.071453038428, 30510.59248843613, 4819.625725861388, 4164.728518842665, 5915.704170179637, 2403.984041039894, 3291.516229555793, 629.9972490283981, 3332.5231762110707, 29296.438049204913, 3175.804697160849, 9178.304030789212, 22339.63773262576, 242.23678074087002, 12231.462789607293, 31093.006070604504, 11779.14261022582, 21847.973481460594, 7627.472119040198, 280.07523323422356, 8005.416130963997, 22171.20014659818, 65462.16949375955, 473.0687957065493, 13535.396222174393, 14315.908195868105, 15580.902049799199, 10031.049622672188, 4561.749806187108, 2161.3884865307664, 4862.505329363241, 7635.259857785324, 11621.182458204683, 655.414203136952, 30097.547824899288, 13174.21424730093, 19071.848347802745, 16951.22020760965, 8516.431887990177, 7532.771505424553, 3061.953666315778, 25670.04877508292, 769.902396620877, 11232.71950716168, 11916.448550516958, 6166.475963067842, 31615.82452440774, 5336.966720719556, 14797.14637056712, 3841.0396783890537, 13674.118919630197, 12224.442411258697, 11648.479303590037, 19471.615602737944, 6639.378658029167, 2671.23169042703, 11843.374783207571, 7060.548654256534, 14266.779090935677, 27923.423986421927, 10852.71402912122, 37310.556802140745, 3872.143342640913, 25504.280989244122, 9053.959829332169, 8219.760410833638, 320.9781789623521, 18272.68780804927, 2878.88505323778, 22312.80088283242, 11087.494094686761, 6905.568527395808, 17541.278085857197, 553.0696388814904, 1787.2821394870734, 3948.723138496367, 2316.421579568949, 11296.14456262425, 3623.9593330524294, 18202.87393052408, 4709.650988528905, 4512.840887673759, 27596.20722131247, 4416.046696601319, 9310.911396341584, 7625.463537619329, 758.3756587844146, 21330.63770637368, 12856.823031715314, 23356.224385440415, 16162.820631838986, 9521.612692728402, 26462.07926054283, 9944.808286103264, 5117.972836769695, 9065.459659570559, 20537.19626650776, 21127.65577083019, 2669.6756059348263, 15540.23941446712, 10776.544509746196, 2311.49813042791, 1564.6882120869523, 2442.2992515010083, 3439.940869011796, 20885.421712468196, 25631.82385702781, 5053.572176166203, 17740.25249860243, 21028.83072900482, 11410.083493339505, 20036.4684834934, 8314.301539557502, 25975.853357075175, 5220.287738978637, 31681.47853492507, 25432.653637797688, 33729.21679290799, 5190.7555715837625, 156.57074023278255, 430.12600936542003, 17795.45303335789, 2435.939984687131, 18912.505612427234, 152.3341491502688, 11339.726433937554, 3240.771643326567, 15409.830552362935, 4636.99985741097, 11381.874549348355, 12449.392101636415, 11063.854074434592, 33630.75619883382, 23911.359687363747, 4516.210918305849, 619.3744742117415, 2754.7748784236537, 12605.30370243124, 15220.651782194502, 3646.632639718573, 24793.30441857583, 14692.678397918393, 37869.25636431812, 24111.301940888017, 22387.975014632695, 7104.032090455032, 19659.883414303036, 4040.045058826334, 11915.080966913873, 3798.1983956556505, 21621.36720808815, 29574.310053386303, 16508.33533662171, 24413.358265002287, 8511.651375789774, 15442.44975554297, 2735.4248033341682, 15822.357036460446, 2454.4842550978865, 3103.8940616720865, 20956.922285843302, 2442.299251501012, 23901.62872828397, 9031.618052835303, 8674.805434991933, 18192.11367714261, 21858.05313143617, 30078.755827936762, 10606.519306835136, 35762.2803594869, 17571.943849062423, 8590.458180564568, 13673.574370839662, 16258.084067815325, 20698.59640165662, 4035.767977868949, 9869.620112869445, 24045.433367370548, 5318.725162509727, 5311.2250141697805, 9725.831957640752, 13065.750073263596, 15791.762808536543, 10037.866219301606, 7244.064428156387, 991.7386007368623, 6185.320487707406, 20903.034036265482, 914.9965440971791, 8266.096233564771, 15764.186950100731, 12535.640898553334, 1484.0612673661708, 2879.557514661734, 25542.971816650388, 16577.626404364608, 32516.539737173105, 36481.27599665627, 677.0468669296279, 2857.4527954529367, 4536.514515694325, 1770.4592599707976, 2836.968873668964, 9283.633992156821, 23870.784579767635, 7134.095274796207, 8916.434723409111, 2385.92424173548, 9236.941877335488, 17470.220292285787, 6010.832718292091, 4289.186561028371, 14779.51309378484, 9750.913167819795, 1163.5360975881486, 13144.820718312327, 28549.169279895264, 4359.063580601654, 8694.702148234352, 1639.3265518045118, 4086.3878019197728, 15225.345303748378, 12571.013880115912, 8769.701759062991, 7148.1371951829315, 12303.559845862877, 2719.524458198899, 5101.261363616333, 17375.486774557525, 39393.07842560171, 25593.220476749208, 11336.069531219284, 2471.7601202879778, 6808.1377627456495, 19214.39714113289, 646.6529026869539, 26051.382183596645, 1841.317121695105, 11840.133551696053, 5484.2470078498045, 3354.4233828779616, 31681.478534925063, 7587.039626461803, 20576.67372719215, 40827.76019908789, 9451.958756975564, 14189.355501294776, 8275.157793944141, 113686.2007492596, 21632.103720012885, 7248.660803517501, 14422.651984328695, 19718.571807035307, 107492.84120756952, 5539.462930973092, 10438.321648934052, 11714.416082075524, 1907.5841226213488, 7312.17756536245, 3337.7975977352, 29136.127912046875, 2766.5293402075004, 15005.664123006143, 2820.3435075519374, 5063.392937425935, 19220.833148313486, 25830.19264185459, 7347.000248150311, 4323.767184577115, 11246.24691726561, 21006.961506736217, 2364.951131910031, 5085.792354704772, 9188.689656768121, 9783.137656589523, 3207.425267977611, 11493.035294612284, 3352.501916867026, 408.95426617128396, 12850.655472141989, 14597.229256963736, 10304.882760640558, 5627.068649807792, 8667.93180460759, 2574.5394407816457, 26964.556742381566, 13518.471991094313, 23357.12446682013, 54756.041681728115, 14189.355501294758, 13345.753085484008, 1257.9454561330022, 13978.714664034822, 17985.99622930524, 30745.79531298452, 65016.767720427364, 17574.22881702533, 5306.177846299357, 7452.15547022938, 13119.260894207942, 5719.545486451647, 17133.5043979252, 14230.125647668523, 1861.9612354426245, 4772.701161607369, 10394.685614997157, 15834.219409984264, 13411.31516826761, 5258.14277809066, 4406.775030184617, 13496.67953368152, 359.0603251496723, 16306.19164650159, 241.32024780665233, 6480.337806738229, 6805.259434591695, 5809.7016113362115, 17657.78100821409, 337.974790987646, 10990.278555644574, 14034.898718477918, 4927.639431549869, 6637.701249983242, 2390.722065998394, 12718.496553400546, 2878.88505323778, 17428.629758106694, 20186.467488019778, 1870.4177092112805, 21304.596369297855, 10336.22470677468, 19043.05058708992, 10918.147321888326, 2043.912888914132, 23683.555224776872, 1960.8142485252793, 2832.0719856388205, 6567.0969010332265, 10403.52360547347, 18474.579000284888, 12946.667934413475, 11188.880090140472, 11558.948005698701, 3295.827426895594, 20609.878866350537, 9207.124323951473, 6959.200708331737, 10057.709614247062, 5847.994385650687, 28370.47149338546, 25428.381331997592, 2856.3660995425307, 16537.970155585648, 1276.2880136204876, 6537.245417171744, 18147.401712330036, 5858.895349180861, 2879.185518744489, 15619.6354414194, 1778.4333650771587, 11850.339198178786, 7453.2030445833625, 5505.730861852557, 30269.20920432632, 8489.827524078435, 3192.007490294982, 276.84414650171675, 28191.46540628342, 1252.5368940682456, 30731.68122857566, 19799.529423703818, 9987.615986364624, 1907.7889706300703, 879.2243490482142, 615.4077367964273, 2026.7601597126704, 9783.137656589508, 6632.081421116585, 2650.763210541736, 24029.210851845783, 7648.28330743701, 2321.653442064675, 906.6362323690482, 24386.401362774217, 6932.992081740624, 2532.0878165391405, 25317.7199634344, 32641.888457969144, 3566.268328050617, 10102.614150502228, 2254.1104489073623, 8811.92525585926, 2995.121640135181, 12966.81271621056, 519.1310295431867, 10408.705745950181, 9990.56773485784, 331.8372573292145, 5504.14535844015, 13614.059346289752, 1673.8018886809004, 16608.367175228937, 4737.278859192942, 18097.80116153199, 5859.210693134239, 4644.580615057996, 4397.671625747524, 4703.556964052088, 2902.9816459808753, 32576.441830000287, 16795.63491490834, 81980.33831757543, 5073.64655698356, 7287.932733236925, 43706.20546271693, 8938.7014938494, 14009.981642947423, 6588.736145842886, 18956.912895450754, 3535.780141024945, 17832.159884430504, 1431.6699766992533, 1635.9482930717604, 1640.9443195505228, 38754.07318215833, 2859.0561998686426, 7729.544053115031, 8776.959132351236, 11097.368675764916, 3945.1481062801577, 8874.138569475064, 12983.360875850572, 2369.9169424644315, 17309.42050816067, 12002.177630948347, 4780.845307700718, 4182.937873207029, 10609.549370941262, 13990.80660133866, 29221.188037979628, 12108.122785209176, 5281.155237729297, 78719.22663785162, 18912.50561242723, 11606.41125111734, 2558.6574078415033, 3420.5115717410044, 9982.08070663867, 10433.849703275911, 10093.10227474926, 188.60854507723343, 11278.149545173423, 37.566759076980816, 359.27263401715754, 449.1040655063407, 1697.359809259724, 52592.29453761049, 7382.3375527028475, 1356.897791489595, 13094.065832136843, 13878.456645502556, 19612.302786557084, 9930.056108670367, 9458.022500411807, 7665.988985526001, 10822.954749785215, 442.95178508728713, 12449.392101636437, 6702.8645115895815, 56158.759556168574, 1625.9348577105557, 14610.765592532716, 15138.251977187007, 5666.496844771504, 12966.81271621057, 12156.386726057499, 37851.6814862623, 19976.44230596574, 27746.871704996673, 10950.28483688596, 11462.384781740944, 11033.926581587264, 6639.378658029178, 29221.188037979602, 8478.381833126645, 23416.949206069898, 4578.71767647086, 13547.531076150233, 1125.3950290782705, 38238.820305029745, 12159.382499352243, 25759.781560609874, 10947.452342737044, 18118.206847142166, 2098.586512396141, 13373.361174767037, 16452.198975835723, 3969.812076891423, 5343.740784127818, 7973.73737260187, 17604.289079153412, 1356.189458468758, 8995.205461511869, 10839.58480245114, 11230.58562800469, 17401.14767763668, 2141.494840532603, 530.6031647467898, 18319.180447616447, 6907.451199034698, 13077.11203733457, 11887.566375015569, 12691.821799735786, 4593.451310616827, 2482.6693629028596, 4223.108016070495, 24198.503748767, 5085.61395287481, 5303.582854506796, 22338.623366282765, 7373.685694456144, 15997.829078019684, 5690.447497283254, 8399.983151556182, 1710.027306922988, 4108.66628258516, 6374.389930220459, 11525.299989716204, 15386.343896477461, 23696.941063336948, 15487.622644498933, 611.9899229090151, 11676.844344128433, 1859.5412508925474, 14620.833287002803, 2747.6882572502036, 3545.5102234700025, 12738.391630162732, 2641.541556860906, 9237.58315418454, 11336.069531219291, 22019.619676205144, 12123.14736231219, 981.9605955872066, 7568.549070461428, 1623.430877396684, 50757.38134097487, 14296.360288758398, 6920.983563588034, 1715.385361334469, 11912.259048158296, 5400.949802515042, 6915.766916697554, 14579.902677629128, 26051.382183596645, 675.2166441863992, 8746.268578063624, 20096.962624389256, 18497.397795525925, 2765.0868684992456, 3121.6667537898393, 17066.444539782024, 16498.482486035413, 6794.857499169364, 1606.906170270886, 10009.728745748424, 11216.697798063164, 8808.345697947334, 18083.153618428063, 7185.849468641372, 29127.87878511133, 6176.357282197379, 9053.959829332158, 2989.3132130492595, 17203.97854474264, 42.29115495924634, 7619.435338168863, 15980.71934310213, 18088.819895049724, 14526.897483082987, 2149.7800035063956, 18678.144264880255, 24508.736384501277, 429.84163971948146, 9362.608332239532, 16838.461842349483, 9407.566399206218, 3914.4123372856266, 6554.510684572389, 17264.650947356262, 53452.432849668476, 2259.256209277497, 12449.392101636433, 17336.279384192778, 11021.194884935183, 4430.823405110099, 252.76789323078992, 20438.502766351365, 9572.66244772674, 519.8954733641003, 13120.741414063788, 7291.850616334108, 2931.86704352143, 15139.25443339513, 6356.414361999938, 23557.142181660834, 6811.869992170068, 2906.638996015543, 842.6807381150502, 810.2319104587623, 31063.016534225237, 13735.360093480765, 1135.736066206824, 12713.736650376271, 29738.172421447714, 9575.033555240025, 6245.270454636608, 17264.65094735627, 16291.616155932832, 3725.1391730891264, 20575.714917013764, 15602.252616602978, 2879.2762013429856, 13753.860508840007, 3228.5468545076, 4668.477256631573, 25833.062642642173, 9247.550676892464, 7583.208359843211, 5593.473451324524, 22984.953415052132, 34434.82003207541, 24951.796847941056, 10409.934243279837, 1738.011902157239, 11292.300343193863, 39569.44784608492, 20014.80427102603, 2873.556619637984, 13738.380826135734, 24647.70626004089, 10946.028281063052, 758.3457413271244, 2830.6086077569853, 1064.1410289187734, 3026.3176430087697, 12704.642712216973, 16259.756332439902, 15904.535106608484, 14234.530273667438, 16466.016593777473, 3772.802600277857, 4397.097329945205, 24566.58285418544, 27424.39461505907, 19739.490890188008, 16162.820631838978, 34266.08831247461, 11299.672288227943, 25111.230618001944, 12230.948691608326, 25009.049444569857, 11634.182992167283, 17856.680771376366, 18080.48640262321, 17805.98076125441, 12634.694784903728, 1276.7651898170916, 11340.668666272948, 6008.865493793302, 30981.863531824172, 3825.274477872106, 1325.740601400339, 12569.74572614957, 5031.340029978586, 2650.6494416703463, 4618.6734572010355, 13355.254919266994, 12010.534044360764, 359.06032514967956, 8493.494686970778, 3564.698322414326, 8163.475645833052, 15330.504913855846, 22749.784807439726, 22618.793077237468, 1502.668689741422, 28511.222070584074, 1730.6005887416068, 6177.829400240498, 9314.750696751085, 7351.052094873623, 3243.346885542407, 7607.996231963538, 21807.39595754334, 13830.22090591535, 3191.3621736582936, 8586.608144659807, 4740.104907563546, 22542.483179794974, 19143.51737153454, 23021.01497224821, 43.770707263855, 11648.821677555396, 13437.745470112684, 455.7755626326325, 10318.481200181148, 3187.2216509518257, 5004.102243268309, 9314.750696751078, 5863.451407402114, 10227.058510288552, 7510.804468042821, 5847.143302825054, 45836.41369885455, 4901.7625461002135, 21440.792148644265, 92.20817579123104, 4144.158371702579, 11793.43574707906, 14243.566184545456, 12932.527550323899, 12659.976679873529, 4615.286477910358, 5405.47590505144, 2420.5613467766416, 15625.395200481595, 2346.5873657635093, 5252.755164236842, 9353.345782926244, 13250.329905069168, 16513.075556957727, 24376.057277250628, 8575.880667966143, 837.6582101521126, 449.62503480562737, 82.84750705621627, 6234.116762632169, 1993.8167299631314, 20401.75580055926, 6588.736145842893, 6234.116762632169, 62517.34091478212, 3085.977712957734, 18172.286086477463, 2717.4358878585517, 13986.280329990033, 6746.479230120964, 4346.23427151463, 11237.205028349232, 12091.173367417141, 4538.49081569786, 11565.767425042508, 3914.412337285641, 3239.227721644922, 6918.049748558133, 4429.969116308308, 17204.43801587467, 24269.106086949854, 1414.0442915519561, 13162.125443921068, 18413.04390998446, 3840.634264518034, 253.09556975719897, 996.974636898598, 10253.417347719209, 9667.72453991949, 11445.69606320533, 354.45056243097133, 23246.964395305626, 21458.6568682524, 2135.499601122894, 18097.801161531985, 15749.146723149996, 14940.508149622467, 12077.10956907901, 1068.651070928052, 15495.61727465006, 72863.40440905839, 1891.2073284145845, 11549.039242939365, 3152.0716695991578, 51112.18991420466, 26449.10522519132, 181726.44259924142, 11503.151402333177, 30793.626848596472, 3166.8929953945917, 141.5803513286155, 6322.4567488947105, 16330.039505163288, 11558.247727360002, 7421.653851014493, 9272.279526172144, 18690.006264531108, 5825.601428088972, 7693.728766651719, 15462.215355477674, 18482.94482339079, 6953.247673836064, 4783.615693638436, 22417.3182650101, 556.5807309923548, 3352.5019168670333, 2879.4603734105913, 1234.156104698719, 10027.115352665507, 9114.170251370924, 67225.29300073959, 3589.7484557210446, 21362.52988777648, 12736.973443794253, 1354.2321538763354, 20108.513824716392, 6621.848776831277, 10091.083848145736, 15014.591758166112, 11097.181820084232, 3045.5073469942945, 4335.413941130024, 7373.358714438873, 15364.695666209893, 5543.281903170206, 2072.59839306711, 814.5929876344708, 3797.666084855413, 11911.809058087623, 2540.51572656594, 185.68462245195042, 14995.65190704641, 21823.97612521035, 8381.848929381784, 23488.258031157085, 26258.728054015348, 5802.57183694372, 2075.3263559943116, 469.3868799179945, 10275.864445010531, 1103.379463743866, 11952.95833924898, 14762.510570907303, 5324.548821829416, 1535.0476001192, 2268.4971060387907, 5401.393737787559, 10693.628268713011, 17348.393239479898, 4389.624505591761, 17145.806993377737, 31258.083935023402, 4096.657843769608, 914.6957994623808, 45112.60347690513, 21459.033474146767, 7946.397088533402, 1161.2364254707718, 23549.37697809401, 20385.691233871075, 12460.747157176309, 16074.951466965405, 12989.421664302274, 4221.774628101895, 17567.180414610888, 4305.532113797184, 2504.058571566715, 23076.542976233934, 10653.28330460258, 63575.890813988284, 20483.41695958476, 2322.422322299688, 4573.04805766034, 4902.29347146353, 2650.494915416024, 32913.736759966516, 11794.423659642212, 24289.515138391303, 8136.148838955458, 7605.46621848064, 26904.625782989602, 21557.35850698631, 20417.988231377538, 4434.766931709546, 7287.409220745765, 16570.580579770947, 94184.9658891341, 3392.049684095822, 186.0474124808752, 10355.205930885008, 5926.372827610961, 15409.830552362931, 20451.39470020243, 29944.499749429448, 4359.087637941611, 1741.354329121743, 21981.44008114534, 1716.877454440797, 2956.3585224526796, 20486.447110841367, 34549.15628450178, 16013.97866113776, 1421.886416041736, 104579.95434086658, 2266.5653413283726, 15525.773644689973, 5981.578221308137, 9373.806676931781, 33889.977800812754, 6153.599601101025, 29471.848043085338, 22827.599150289712, 13127.9756642625, 4229.361836002659, 7833.669736884407, 6842.928344314532, 12792.890581857264, 1128.30536568955, 8988.911711969224, 7339.684062778917, 14349.794435425458, 7497.091731816301, 8370.010969090581, 718.0479834169673, 9596.092282111567, 20503.236828533478, 6751.546553436387, 839.6836987208808, 8791.450560261143, 12499.135938152587, 118.54651644386468, 17358.79396749317, 14034.898718477925, 11694.347608781292, 17951.910365221687, 20856.34921249539, 5694.449466389935, 3672.7312487903328, 9402.088777842957, 7931.265407898867, 7411.805035468693, 9869.966420378954, 28289.559351896856, 3823.6687244109926, 6442.808800453222, 48911.88673355388, 16598.718891404078, 2786.2410320939016, 30338.453449016466, 8530.672822410372, 112421.5836892647, 18778.348634177943, 15785.446829514833, 2786.241032093898, 18315.88539108184, 5859.976887474673, 14400.304052103711, 11234.119598376321, 1410.8332849160543, 11404.822881425018, 31719.40327027662, 13345.29397512844, 3303.818324772019, 14097.485396668697, 219.59148102230392, 16084.989679820479, 2019.8217226160195, 3498.79611115278, 9514.039756130831, 9493.91698539833, 37537.898202695134, 22361.08607572996, 13539.923948679942, 5019.665812415653, 8620.485892211545, 399.6654538562616, 7752.064010808484, 1345.557969774236, 15992.033872972497, 797.4471653345572, 5594.997694548045, 12044.561713575924, 16259.75633243989, 21903.837758814378, 10736.689675214126, 10298.867095399422, 23136.22543167357, 3161.71044482648, 14869.816164116502, 415.3833069206594, 5129.676092180969, 10093.102274749257, 62059.944627454664, 11381.874549348358, 9688.314467929158, 12447.908819022945, 26770.850661235956, 21525.629085356988, 14470.955313592109, 19222.59327260571, 5562.080179678189, 4995.885070540087, 12093.085062738985, 15482.84164925847, 1283.311284203679, 25139.125332711657, 2407.273571910042, 1817.4553391783738, 11432.379104517451, 17930.383542298, 2667.328709416237, 10407.851261727868, 3036.837804840965, 11926.070547989453, 18023.695668151584, 9685.748651196012, 22564.524759445456, 22559.161301249474, 27408.171444776945, 3147.583232311139, 7812.586267412778, 17922.841928556736, 27769.376411275513, 5098.079855815515, 9685.748651196027, 1891.2073284145808, 20418.69385773528, 10920.011719491107, 21291.353932703365, 5076.794611049099, 7185.849468641365, 5875.195793214531, 4036.0591318530387, 54756.0416817281, 21265.70691839247, 2156.4326590913806, 10094.849823919481, 16738.23123292796, 559.9437189843193, 21362.52988777648, 23825.213953059538, 35679.050098205684, 6212.907718326824, 18945.479971627574, 9344.822672087445, 9948.498003803063, 2373.758552151179, 19813.19789930927, 4872.357882525062, 16530.51647456804, 20177.9622663384, 25255.033752882795, 14309.837774444655, 19454.781122176224, 12774.751613883753, 13632.440873263644, 5896.36614645115, 20825.88772964484, 15901.018199978284, 21570.54958459166, 7085.165724072955, 29871.670109321167, 3117.5446913603955, 4397.396764354402, 4705.617062259298, 4952.590802949133, 4578.717676470853, 6746.081920799774, 11201.195676740972, 338.8849287798621, 15674.833195447405, 15671.94070373151, 1424.7643302481847, 1415.0770701930378, 2513.232232786555, 9991.653656628667, 15404.036572731093, 16608.36717522892, 8532.18304030144, 3760.5903139209768, 20170.60728231876, 2302.6377433534763, 7619.435338168856, 19257.246798003376, 2784.4350267235823, 2350.773391455932, 24433.844353341923, 18172.286086477456, 2566.490116150155, 1112.6123885963825, 26904.62578298959, 1410.4675900747898, 11220.839994919988, 5179.743171821239, 12015.646633444128, 2441.9376027359613, 53989.4328821283, 20322.937622020414, 8056.2030556552745, 5595.269122673886, 28242.0560327383, 18176.75507435626, 22470.30112117367, 1060.1658665864525, 17977.310970986066, 8977.638806927844, 15777.013673744252, 17061.006856177723, 17619.68848647929, 3436.1697209737067, 14549.40388356942, 11648.479303590033, 24229.39130608923, 8481.73097169686, 6564.168989556838, 9449.642778581878, 25447.198804165422, 5257.243019531816, 33379.536907820344, 8101.492415727425, 27122.905336794523, 2279.8880619772062, 19704.060690181755, 7142.242163805313, 18813.075105492564, 3914.4123372856484, 2610.329913602538, 7647.3387357788815, 9581.501274844002, 14241.946518061755, 3239.356594338391, 30981.863531824176, 1712.8117764638046, 18312.931875869028, 19556.532631298905, 26664.625907841528, 4531.386970063646, 21896.720503219993, 1566.7242569454393, 10331.822475261168, 25649.115591895817, 3876.546597480854, 6822.841334749661, 14193.773343999364, 14724.095020838857, 8555.981800904374, 3713.2999624624936, 4594.372708647221, 33007.184597785614, 26318.465402492217, 4039.279205487477, 4483.217508473979, 3478.5975497627696, 27888.35564089149, 4547.500832566471, 21422.42759490547, 2415.399317385174, 5987.65989829434, 4578.717676470846, 16818.4818729782, 21851.098015660667, 953.634237370763, 10985.099058400614, 1754.0559262540482, 9313.386223073881, 27493.659289411375, 29117.24706203325, 2224.9097245218727, 1123.5953323481008, 19220.833148313504, 3154.077392334675, 9259.7128930623, 7153.4350280845465, 16094.206719200007, 10494.145428258955, 8745.849721873703, 24477.845735984713, 7518.099216296359, 22749.784807439726, 11219.647105062293, 7157.231528288776, 361.09134201087727, 2073.926076235708, 80960.161473385, 2139.2213238434742, 8584.633803689845, 14655.91305241322, 219.8862181520417, 23683.88863061156, 13304.090637782254, 27797.07063674322, 1885.0293521528474, 13204.09382868257, 1049.4164880987628, 18330.073053592794, 505.1170257397607, 8395.231008311544, 15409.830552362928, 20601.54186931261, 9522.3440605254, 3001.0771162156634, 18353.79696503769, 24433.84435334192, 6115.447475317382, 2132.5279459330413, 11495.536947271365, 18747.976074583687, 3250.266345222488, 3609.713630151131, 61055.79496955783, 11768.326953858144, 13345.29397512845, 14266.779090935699, 8482.853830664211, 4339.132234296594, 2009.3750956636468, 4360.288451962919, 43266.58961565436, 2055.6716186548365, 2205.6599863366428, 756.9933933047396, 11092.614144511048, 4861.039013239471, 3184.6850603493294, 26980.61100854592, 340.11841437554176, 26415.376464440727, 19753.532914771065, 33057.20045906181, 2572.7318972341673, 9573.696306145946, 13101.949683470666, 4729.993695658824, 10133.814856142439, 18329.46366086645, 25104.154347505173, 480.6841633824297, 1722.8587496811233, 10885.165868060918, 12966.81271621057, 7432.539477344588, 7962.320847849103, 3166.179100499903, 12691.19091644002, 44162.56764854568, 305.40352774518396, 12970.932824149695, 4626.554918958031, 6565.744101606102, 24631.393009013358, 1099.7031425424248, 6997.110583965616, 8508.8757341837, 6451.509171920032, 4539.085079045912, 14899.970435588351, 4065.7712433371125, 45116.62690541929, 1512.3836315376102, 2440.2616235345267, 4171.631333118712, 2652.9541265896987, 5504.145358440139, 10310.872850303396, 10014.099658914554, 2728.2709826779646, 4830.543786453753, 7619.43533816886, 6540.928167503251, 10107.92096139337, 7573.4391851783075, 19586.65197049117, 10331.82247526116, 6234.116762632162, 102693.63655295773, 20148.667221554388, 2879.5217349785344, 4434.374933203424, 4394.068548924948, 23357.516927704597, 9672.052967355165, 956.5174444984441, 17256.508432631315, 150.7551157384296, 15199.138869824143, 17139.137830952146, 20703.910439087893, 10535.596551432656, 4928.4324799477545, 3148.2644984047874, 1392.4303652628587, 16467.066452139974, 20536.27578939413, 4674.648955975637, 17633.500607995957, 2361.0518271818946, 12605.186843331452, 18661.684910992168, 7580.842682493407, 19492.390748567526, 25151.890791565715, 10965.728643340914, 3056.8677416816063, 24425.022634938512, 6231.50647975762, 4994.122994473957, 16442.45691419903, 471.4676081092839, 76008.18859150399, 17960.29998100163, 108992.01019542365, 3560.3623238758773, 28660.930731828154, 16383.000822824328, 1139.5690897244458, 16193.97931171373, 29209.606020009865, 88.18474577165034, 12182.805131619374, 15014.591758166123, 18610.031047571458, 14549.40388356942, 8726.41397029742, 20646.173151517978, 11374.584510792618, 8499.484827428962, 10336.224706774661, 14294.786972849215, 1172.675578787599, 19280.167060282783, 18272.69980537468, 6494.057776697387, 4326.315607946308, 12834.624214755997, 3822.2294595109743, 5562.011451543847, 3468.958040378544, 14486.196238911398, 1310.491562723113, 12330.609517140208, 4049.1821409724325, 5685.956843737091, 3434.197091205784, 19745.28249669393, 14091.33414768436, 10433.84970327593, 11568.381011670866, 11528.75355500176, 7146.029999991286, 7925.4572996562165, 19586.651970491177, 13204.964883764977, 593.9260983577369, 677.1331424831114, 11253.31190429071, 21097.040616037444, 11237.205028349232, 6194.169298344725, 5933.087831645644, 808.2200058488233, 25935.474591502236, 7726.917780575921, 20181.199404379928, 14817.696577958406, 16193.309127070625, 3147.710788307868, 5093.212245082046, 8892.902972089803, 4605.596229238261, 10290.68017451594, 4442.776826278525, 7276.640223150243, 4819.120098617375, 15619.832835111662, 4272.725648867236, 9609.542977966252, 23525.65447440205, 18857.66385242315, 17689.354469184684, 3001.5744922661434, 8025.858571025816, 17242.140884540124, 21229.675931574602, 4742.910480424864, 6515.51599717209, 50432.31699224368, 44919.6319260653, 10180.725404116165, 176.59574448472267, 11922.963001902383, 33415.97557427462, 32033.06256181407, 13628.70110656893, 24736.729378291726, 7068.106751448904, 11906.295505856524, 10423.140201369388, 5528.602252574001, 2693.6687901548285, 20590.630720785477, 8602.735251391674, 21259.98952822262, 61985.84598036893, 2404.649439936249, 5304.711164747205, 16981.7008893534, 24058.59089736789, 22576.17640009569, 4404.899142123475, 4408.735974897296, 4567.2110345919355, 22771.733006565766, 5044.646674643893, 6312.682597455685, 12556.034652765775, 44001.598395970024, 17882.005048966803, 873.6588020192321, 1226.1204306937507, 8689.231316787445, 3956.3722020136884, 14193.773343999357, 46998.31028251555, 11192.467840981775, 23356.224385440404, 18172.28608647745, 1085.4194466893969, 6505.254451426248, 1795.30490079039, 8627.575583623053, 16540.050219402136, 13049.558084379023, 5185.642978734344, 23299.283303458986, 37565.889796155905, 14869.816164116502, 6164.83201447532, 2382.5645084315547, 11911.809058087612, 11109.898071510768, 7954.6525317786, 10545.18845591788, 13204.964883764987, 9032.249580031028, 10822.954749785204, 17160.40768266021, 12962.347479327906, 470.0681988391916, 2041.432684321324, 7021.700471265565, 5092.810707560369, 3819.7803054426986, 8654.496675789498, 5331.098563065716, 3515.697453524943, 9625.36878245863, 18735.681635235942, 9685.748651196023, 27510.744704465666, 13060.01995627788, 7112.049355102765, 5480.963504720996, 12370.84606309935, 13464.520661287934, 8477.682594318689, 9507.855397711744, 46684.49572582777, 10752.67486044643, 9269.215856280702, 2282.6858685313164, 3590.522051291533, 922.4974184293023, 6142.155672994508, 834.3155803746631, 11686.24883271737, 5526.14068215515, 5375.620558911451, 11292.30034319387, 2527.801595691966, 49686.11063366204, 1701.5389238212047, 37088.907009442504, 6076.0077770324715, 3891.414965672484, 27344.97124818399, 18114.13281512252, 4605.596229238232, 10342.721074551562, 24463.613439964036, 10028.228926513882, 31570.203570235077, 12626.531803067126, 10479.516523532511, 20693.829378771563, 37360.73287893253, 2742.0195451135223, 17247.83328995648, 8386.996671126435, 14987.6476978129, 2879.102936116291, 708.1157501233793, 14049.64755970205, 1187.018051320807, 1816.6194846430662, 3372.870940115623, 1314.995942642181, 22089.234224205113, 8671.915349804476, 13383.118256723184, 7206.653850172952, 3259.5747100117514, 26903.171153935742, 10702.41896462641, 24.136772785015637, 10696.580299154171, 9806.53075399367, 47483.333316579876, 11252.304655575106, 1608.581640458735, 13924.928531887585, 6052.237781371245, 14484.79150439153, 13714.755390999653, 17492.693531607547, 61325.528616580545, 12238.44448906491, 6977.39571712042, 16790.119385335467, 152.3341491502688, 316.2605711409924, 11519.88211221471, 8247.181443950456, 96070.82846014941, 14462.40350159326, 21174.32642098813, 2047.1761160174246, 3529.251771004838, 1298.8704062709403, 6119.194284996549, 8110.937785468701, 260407.7813367123, 7172.732015631751, 18250.248893290627, 25428.38133199761, 37231.400324593, 973.3704292552575, 22843.99478849672, 2886.3595739397824, 4780.784753684347, 25114.696330879226, 32994.93206086916, 1912.0809185211692, 5006.38060418862, 42215.50792140695, 15580.336894836928, 23615.899154452345, 6234.116762632162, 5973.892058174235, 16345.570295840407, 13077.926309370709, 26563.6945020264, 958.358108799559, 6501.9622421716995, 25632.657883484077, 8476.16058059135, 15491.303073609582, 3074.4215887877763, 10746.600212643512, 17462.06481266909, 15761.29885280921, 292.3381968134563, 6666.467647760983, 14526.897483082994, 46545.91457711879, 337.9747909876314, 425.2138290623079, 15401.56176285983, 9493.916985398319, 17076.799645172487, 502.708550879579, 31066.013117219372, 3819.8411338804653, 1916.9985234369124, 3200.3588761205174, 4484.450058670402, 12286.281752342293, 4593.243422385305, 6066.672542021552, 20108.513824716392, 2630.3455793090434, 5578.365364801786, 12423.708085568382, 7577.9446927725, 7592.6145200621395, 15339.175214625528, 4888.711511991849, 7734.413833745548, 12690.313288915582, 4049.1821409724434, 1107.342122689788, 5631.88807057379, 7604.308120528807, 2123.540382734893, 198005.2383134629, 3526.9419174294344, 54330.91130043105, 18908.592885001093, 10756.849385091875, 12601.872104227597, 8078.372210575977, 37240.074427787695, 8938.701493849403, 6319.793440469741, 9506.146834055115, 3352.501916867026, 688.3066957353149, 10653.283304602559, 17850.84152479544, 15225.345303748381, 18337.19490165033, 23443.449364291024, 18172.28608647746, 15607.501560164448, 104627.07411601147, 36367.30454694513, 23511.699439742442, 9951.954775817161, 6711.401365323567, 9538.801920953341, 16375.510051695725, 16078.30622746201, 1698.5997975361242, 8305.086432245858, 3925.990961904845, 2832.5150402628133, 18315.51859136107, 6133.445095946972, 5252.722890268149, 8976.336012772492, 30186.603961140027, 15964.91207112091, 15195.995385956732, 10809.382831732863, 12281.002513038788, 25215.85926116821, 5728.754443886486, 24852.252545696476, 2442.29925150103, 19941.638045449687, 85.66739736252202, 5043.668324659389, 17480.14981292958, 15404.036572731093, 31309.493568599206, 2306.009666874288, 4780.845307700729, 22379.158447786554, 16437.5759224977, 4899.2213984656555, 9178.304030789222, 18749.421461410442, 3409.368757315795, 3914.4123372856266, 18767.755698383313, 5344.625138090138, 2047.1761160174356, 6945.737210341598, 21330.633457741966, 4804.306774935019, 14956.4755010492, 15556.05825388572, 12253.251147660321, 5499.0215304263, 6981.170627287793, 6916.471007610558, 1616.7838500627004, 13036.567572494434, 469.3868799179909, 1093.8968068469294, 12165.184478738967, 15279.636082380268, 1672.8437137587825, 3352.5019168670296, 8041.87510117752, 3963.410314935427, 4263.60874715908, 11799.990988371905, 21154.512337905137, 7726.917780575917, 27635.900858449233, 1710.3781519285112, 7153.2846371037085, 11911.809058087616, 25670.048775082945, 8938.70149384941, 5108.182931540665, 19800.026079424177, 855.943378573058, 24511.175466611527, 1111.6121719762014, 10124.514044376108, 28367.146961295024, 3179.8708652511486, 15073.824027652336, 2526.370328400917, 7040.411186402907, 23619.32435875945, 2174.483616208483, 12309.929499967406, 7144.8617171235965, 15138.6775762619, 14189.355501294765, 8422.359283131438, 2255.5097538276823, 41724.83336315452, 15819.145385939108, 5837.601483996928, 7706.585514425016, 366.2522646967918, 4883.802943915121, 8336.260000183658, 5411.631919048938, 483.4458097758834, 11945.414633667227, 1952.8571462361433, 462.14288220932576, 19056.724784841907, 5791.873295500838, 6189.662426402869, 3422.9602988267216, 21223.256344636844, 17865.70834329997, 17821.676777975867, 1001.1269383427716, 6372.0421428216505, 19187.52467766578, 5355.697833170365, 7571.609133197402, 1230.2102622375023, 10211.132358976458, 18000.550400648408, 2111.334765165553, 4126.577256171215, 19976.442305965753, 15453.648583652568, 22831.73622415923, 7168.770324993431, 31681.478534925074, 1619.4078383009037, 5670.426818323398, 14229.604329880396, 363.8549626353815, 7127.651777507199, 17850.84152479544, 10205.91616348763, 7999.173495575171, 10609.549370941248, 23001.69782664613, 7430.577479585456, 16448.98672564194, 14898.391013209031, 1738.3743809012485, 8790.715553420428, 4859.487866959273, 29127.878785111323, 16924.221681537885, 3195.1202928826824, 5221.298793162612, 15186.629746969764, 10721.856893762, 11365.356851181361, 17066.745718509497, 25283.759687129535, 21874.63856302142, 5952.873850842676, 17240.11615831083, 1593.0727577592988, 15008.83195250441, 1816.3546645467795, 70599.73982908932, 4272.725648867239, 11533.769914849508, 24045.43336737055, 15031.32078077568, 40604.75935548237, 23221.920578550846, 11526.094714056122, 11399.408099205757, 11282.125439801312, 8018.974003762014, 7344.204545865556, 12923.948789694146, 4717.261588013287, 12827.513405846203, 1911.1329394989407, 2026.5999489100723, 11116.37680381355, 13614.008591068414, 16962.13659152474, 23865.557960258982, 4819.764170745155, 15960.897768819399, 7627.472119040191, 12344.787772462296, 17463.104893505533, 61634.35104141566, 9723.042564730342, 6975.810219189672, 20510.52701755624, 4791.577492067208, 18340.25809330356, 2952.8934639559666, 27175.414299754346, 13164.790171831028, 4311.026532096221, 11323.553881632557, 12966.812716210567, 1986.2497807351028, 20260.555200490897, 23615.899154452345, 18361.65365956741, 4596.687339101976, 3809.279262251679, 6932.992081740642, 13345.293975128465, 6659.297588276411, 10720.21960870723, 24730.430265543386, 19556.532631298905, 10364.69874110457, 17452.71418442343, 17348.393239479916, 1918.61956491015, 9184.957004977725, 7071.323598824529, 8905.520937433226, 3670.8960294117715, 11507.67328110816, 2982.425740336479, 6975.237210402833, 10712.22232981856, 4003.142641555027, 7766.258397204983, 2735.8726539235104, 13969.589363473166, 18992.65230383537, 2346.587365763513, 12570.490630053886, 13060.019956277887, 11648.430201616535, 19107.67235258301, 21558.439364944672, 7867.099642117813, 6495.967961410861, 17521.95048361012, 23239.615860911203, 11549.039242939372, 10461.08943185598, 26691.28299797677, 2459.031847281487, 7685.667070876334, 1649.1856316344565, 12604.88935899553, 14762.51057090731, 11832.331491303594, 14361.252586077411, 11298.871999726362, 2558.429460897638, 18774.79395765133, 18181.539472569704, 6187.050412891062, 14201.692261994875, 5955.8988688328245, 14591.83841172632, 21734.295691016297, 7492.697353080101, 15324.77139702942, 5576.649891240315, 4957.498504658663, 658.1600318586825, 14788.807631013806, 16532.815936960164, 10920.011719491104, 6775.888045178814, 86321.34341573951, 27352.46837276358, 17620.173014865264, 2368.5800706812224, 10172.323830442674, 340.2252969232759, 20591.551988098076, 4642.407160194383, 14425.348146451506, 3252.963438790852, 4959.549152926393, 13884.667205472731, 13707.975641840505, 5454.274309177294, 15983.324091547063, 14509.931982246362, 4091.301695955328, 12855.742052281206, 27893.612651660274, 9709.435690812577, 8953.103728750131, 4780.845307700743, 4283.060195143615, 1448.5951881448636, 2997.4977902363134, 10082.29962368917, 12368.517901653402, 12731.894636397265, 761.8898456314746, 12934.041245565073, 35315.864846253375, 9515.960422734464, 11983.107489083151, 467.2291026888852, 6072.391752229574, 3833.283513627841, 12324.532278612878, 10318.163641341565, 44768.99907673521, 31374.264417401613, 8654.826248132562, 10031.544748992135, 466.8344315060822, 20119.094974211766, 1027.8477007259899, 7242.386729056707, 29861.16377200143, 13906.942559382362, 50403.2212404523, 9113.246053316776, 2035.653937451516, 50998.53071109117, 12108.708202513502, 26714.00973003985, 12989.421664302281, 15447.34004356138, 15678.904706671572, 9840.16274667894, 10148.39091031508, 3278.126543417162, 6867.188152595812, 2267.266635675798, 5660.036379657911, 6502.092758774103, 3430.172195988682, 12752.09902442179, 10849.814981513955, 11648.479303590022, 15823.432725455921, 219.88621815204897, 18193.393695758703, 152.3341491502688, 608.0295717608387, 2263.5337264557784, 10102.276586827964, 1451.0339219633024, 23615.899154452345, 1765.8538409717075, 23911.35968736376, 17010.827397517613, 17809.461041446993, 5437.055062248452, 24996.49805058063, 9524.803061419738, 12008.525477187715, 19230.727410773325, 16217.099664220914, 16733.255206049358, 4502.98684067186, 10281.048077412746, 6243.047564017368, 353.79910161612133, 22417.318265010108, 9266.9506714296, 16079.304854962753, 28250.01381964911, 4302.401199696644, 3399.6028504042843, 8580.780346499945, 11067.756954714212, 6907.49510177127, 29691.96455933604, 3428.3404777644064, 8586.608144659825, 3505.1753588665415, 10102.620669727112, 1217.5587225686177, 7170.5688442832725, 5711.974624088671, 17690.599016404405, 4647.597138734687, 8820.783696029208, 11158.903779709974, 264.98277401947416, 9566.780229533571, 1867.8884890065965, 2600.366752970651, 14363.139067107728, 5554.217336085763, 5241.839643267154, 13077.112037334562, 5833.127404177871, 24525.942350544443, 4.99920604714498, 14375.930482246538, 961.8179721035376, 26764.747610846025, 2879.4603734105876, 4950.303071020844, 4013.293508838575, 25926.327134565225, 13674.1189196302, 26871.18747760286, 33776.34786037597, 5837.601483996928, 7185.849468641372, 9181.798012709165, 8525.542261641414, 6006.739455775685, 2011.8505558505822, 26416.398618896266, 25913.713035519664, 17107.699488518425, 14284.87035545714, 16482.47909230058, 11802.547321777176, 21283.62440935963, 41301.549790864054, 33729.554389711826, 20798.859154990325, 1643.6592844292027, 66929.5124384888, 14264.5861192858, 2995.8044717886987, 23627.18049548177, 18305.38964801449, 1129.4081743614188, 7860.857556133873, 48702.419469901186, 22677.070894536904, 13518.471991094299, 12722.495785051571, 11645.837962777656, 1285.8410907604994, 8629.194412323508, 6088.851424136075, 6742.438914975915, 6841.861843468552, 22464.602803022226, 4838.182027150106, 27579.744984593104, 16757.344074605593, 1519.2214363469757, 31309.493568599217, 2533.296483480124, 5635.125507135959, 15691.10738673343, 16376.520873056164, 1977.6666946774058, 12960.954800042742, 1105.2414426344658, 1494.9714469619285, 5254.912106655418, 966.6398156912037, 14762.510570907318, 1618.8967571473331, 8204.668035113194, 5476.219196286864, 23827.602281290536, 10822.954749785222, 8617.75839600588, 3681.957564609398, 1908.1114033738559, 22607.76449841439, 18946.599260468753, 10408.705745950156, 2421.013876250214, 6921.0187690924795, 223759.84730631113, 4307.512803432659, 5640.680889670159, 55051.85539055903, 7146.029999991282, 16663.437560259597, 22833.376750685195, 4542.561591863847, 7016.763273015124, 15850.873492879735, 19410.322823119, 25575.046603501796, 3914.412337285623, 3051.2039271351678, 29422.125361659564, 4098.040951935858, 6163.328420387494, 15877.980730580904, 53021.406282296404, 11018.275088807372, 7305.5236313157, 13228.336731801832, 5269.6155138512, 7204.408383956597, 21585.61370340375, 639.5507484112641, 12590.867598847326, 20618.54655901378, 46681.57856626174, 5919.643491538227, 5131.803800680598, 10311.91516272015, 3071.443546489332, 16276.303261745485, 9059.714595157933, 19377.677651225633, 22286.859891612257, 1997.8370961017827, 2521.2459323872718, 10336.224706774661, 9622.499304343131, 6319.812501532499, 5144.7430840221095, 4536.073157537521, 8124.645151683213, 15084.611807381174, 22550.797121266092, 20924.323972605267, 10910.910297025035, 27536.184397266174, 21034.087809183133, 37000.44336720606, 611.9899229090188, 25584.190655169506, 9944.808286103249, 7869.399736405918, 54756.0416817281, 11021.312552837255, 23615.899154452352, 15721.558731620175, 11410.083493339494, 1186.2309046621485, 11041.153085144277, 8630.669637443218, 3490.6715587988583, 30523.98394435099, 1581.900865843858, 7726.917780575914, 1643.583307445013, 4578.717676470867, 1410.8211355513886, 3682.572204070788, 1661.4903306840206, 18064.024171668625, 15683.222489874337, 468.2332532331566, 28143.43089513129, 22186.634358958618, 5905.182522854491, 49232.21810858259, 6359.613815027475, 11410.083493339494, 27175.414299754346, 3602.31607090099, 10683.997391791305, 1712.1682404769163, 3656.2290895954648, 23368.93969633359, 5299.973986118079, 16958.684234767366, 22361.086075729952, 37537.89820269515, 4686.615420606227, 18154.07194260548, 13161.680353288204, 7423.501514466596, 31451.452940200103, 2205.940065206687, 4012.37246361305, 8338.046366248182, 8123.984188866518, 10336.224706774654, 996.9746368986089, 10163.57511950807, 3502.7988815131685, 25254.42335176967, 855.153897355438, 4856.8542352310105, 5453.958073827242, 3840.205767415202, 2238.112997037966, 17980.634169835423, 15717.248837469117, 9666.758775500792, 4636.976349845703, 10461.089431855977, 5455.419942485096, 26445.852169455095, 28863.519207548346, 21893.126908108112, 15294.846603442285, 24773.381941286287, 43534.01712461103, 4210.4492794414655, 290.384188259628, 3956.592551062393, 8933.047888865225, 10650.237190390508, 17203.978544742637, 10310.226364257956, 16435.058030372013, 24340.86364715235, 12747.485684280742, 5180.510528189152, 10401.868572234162, 17416.317589822014, 5454.244062226331, 13377.994121751577, 9518.334561445958, 23117.499850687906, 14839.317952242825, 12324.532278612878, 14479.188098712137, 9205.557955378874, 1978.7723609333007, 3352.5019168670296, 24256.3725996798, 26700.788989950604, 9877.639731822732, 4235.21386451085, 23946.926822095716, 13012.050803516533, 1482.6668789350297, 9211.570557163941, 20914.299167942918, 6695.748462811214, 10013.739456428782, 5827.343193882487, 1585.80932806302, 5044.79475484732, 21188.14457140951, 4358.471209348561, 2763.5823386316915, 3361.7736777711325, 14062.878524025546, 27809.190825389825, 2187.218233897329, 14869.816164116495, 1372.1631374841963, 4949.9476285646815, 15024.434455563016, 4447.69187091459, 9255.580417814788, 1907.5472068639174, 898.5861091950865, 16609.68339153761, 1252.428809552839, 1968.2692448311718, 14549.40388356943, 19961.154985648245, 1608.8354930855385, 26443.397956563236, 15527.355401703891, 31394.977061445425, 20487.235607428178, 16608.36717522893, 14123.758722499239, 11639.145162982142, 5394.590011985409, 7661.074680911854, 24633.99611626775, 1625.9348577105593, 29458.55740243062, 14579.90267762911, 21321.606454930006, 917.6544995363765, 9314.750696751082, 15184.489994730644, 26475.107814474635, 17850.841524795436, 11872.524566684748, 43176.31599556621, 20616.781894117805, 4772.701161607365, 22864.84603722625, 23683.888630611582, 17391.707754206443, 26057.553896685204, 6032.7850426871555, 15625.39520048161, 19441.995902010734, 8327.6253666903, 25779.87548606058, 15581.71778844667, 21787.509339722405, 2994.069500927435, 24205.345414685078, 21804.526865641797, 5543.3128458777755, 10336.224706774647, 16541.807577041025, 21734.49709564486, 4352.106242210095, 8297.114508698054, 13434.070125498132, 5766.304485132179, 4902.526094558081, 6884.557420930163, 9519.394577657607, 15172.03556746622, 8284.740039068074, 16434.055092119743, 27885.9756331824, 28578.46714294004, 1279.5758711479757, 10461.08943185598, 19586.651970491163, 12998.021956615736, 1678.3259249581606, 3921.445174393728, 10733.672712186879, 4404.9708746536235, 3409.6166443138645, 6873.667029853885, 61024.78178003513, 6354.444759434864, 4250.014175126424, 17088.88247550727, 1300.7820459677168, 8873.481617506543, 3200.1849087605515, 3149.99980568327, 15011.597195710681, 2878.7215003156853, 3290.1180478716633, 9628.051496645046, 17177.454957547758, 3883.3304160102343, 11806.44833907851, 6418.261329330831, 19470.09611014791, 4271.999331862637, 1586.496162639145, 3356.4225817800325, 7726.91778057591, 33191.72559463857, 21827.596778957468, 6245.270454636608, 12629.891467555812, 13987.623291637909, 3051.4059725286133, 641.2612521482006, 769.7773200178563, 43246.49734225159, 7424.666896486186, 13681.846381437826, 4607.784039078022, 8006.394294792179, 13433.329567027005, 2142.8206631616995, 10885.165868060889, 2198.360970699676, 72.42204780278553, 800.1132008608765, 19077.567310055067, 4538.0997078245855, 10143.055253565923, 3814.350910903988, 28175.48512401594, 7231.7681635465015, 20063.18014207352, 22749.784807439708, 21381.138529901382, 7527.149991777234, 8465.668993747877, 38093.44909559449, 15014.591758166123, 14080.218622259927, 649.5611093195475, 1318.153396277481, 4322.661689556604, 23194.289363746386, 575.9441259512205, 16869.711190351492, 2769.223391459822, 17750.391042259675, 2992.321357886798, 7392.910009767707, 51503.94150364589, 12051.258533482036, 4303.682713778206, 7328.157836913, 2198.7387818241987, 13111.798747010213, 15014.59175816612, 11548.788928928065, 3023.990183114569, 1777.3004064992638, 17510.21735117502, 2155.9748502650473, 10625.618763001985, 2724.2244343582133, 9862.368304619387, 2724.2490809688825, 25670.048775082952, 8940.65181229412, 3604.684469536871, 2996.235444663631, 382.10860880460314, 7551.450019440144, 43224.901234065925, 2969.6546681602376, 757.9701376804369, 30488.31988729912, 2886.2844971708473, 33909.5194697034, 15358.650085915073, 7126.744297255249, 7747.113485857462, 9314.750696751085, 19400.48969831491, 46545.91457711881, 5122.862185568036, 14267.810872084945, 26593.037843881997, 2679.5527750747497, 7110.8562983356605, 15792.697004847916, 18114.13281512251, 3644.719119144058, 14189.355501294762, 8603.386499893542, 8642.38137305536, 4316.078564431067, 2678.957912922604, 4627.943897205703, 14905.664870011009, 10644.383923097732, 18994.46578422808, 11896.920705016026, 17750.391042259693, 8832.402680736122, 15901.964242465714, 12577.430908821352, 90256.20890900353, 973.7752564880539, 553.0696388814758, 12324.532278612885, 5101.267448697588, 13986.280329990033, 10728.11437396775, 3420.511571741008, 6766.62307792209, 774.4098986481113, 883.9445286493137, 7387.589556885519, 23962.45997131789, 579.8780387274637, 27408.17144477695, 8014.186138816844, 12468.978727496462, 8856.47551099657, 16556.456583237163, 21468.62548057364, 606.709525940998, 9028.146413047787, 1296.3523999138015, 4723.405405949605, 15429.492816452523, 19123.73445828317, 4144.226645109069, 5104.120815242597, 144.06802016300207, 12706.351925438841, 16464.07903214785, 16448.44828835166, 7726.917780575914, 23249.41755280759, 3049.0396634204444, 11655.83776282064, 1447.8423358352484, 2879.720494842353, 3029.3861562002458, 2204.7985675820637, 166.02312595651892, 15505.757760445664, 14399.307668635327, 3296.777976936417, 12089.950763311383, 6428.867385501209, 22704.044470652145, 3611.5794080926316, 6913.596682802192, 14549.403883569441, 7771.573700345496, 4827.810216978534, 5391.075681837137, 15953.451367812551, 30160.16258642942, 8621.322385119165, 5439.102477868735, 29956.129622602897, 25187.02793858884, 22745.092486168665, 2697.5936086758993, 2700.984015717746, 12272.823828204528, 408.8257498415478, 15073.824027652328, 18255.93545885923, 20041.216250556114, 91196.77050540561, 5343.7407841278, 17728.61897283129, 4595.709455596381, 2860.2549062734324, 8892.902972089803, 27183.0893534135, 8854.33776440072, 11451.832132899803, 22539.47458941718, 9258.000930131424, 16380.487791530613, 12466.926778693589, 4444.725442202693, 6689.219091292747, 22749.784807439726, 11453.669263313692, 13574.456383094694, 5527.123581084979, 1274.4493518718737, 2808.669009500183, 4546.7601208968335, 28114.517232644077, 20656.017149996947, 29767.219565198597, 23901.62872828399, 15631.807054278368, 36608.018429829244, 23911.35968736377, 6531.179904665525, 2829.2848692470543, 12808.266091602338, 20378.917074338307, 1513.0268895259615, 13485.029698986364, 11533.769914849516, 17348.3932394799, 33254.534130077765, 8074.699319415184, 9480.122001464279, 33969.084827692706, 6907.613293728307, 4239.982834333692, 7377.447090848815, 59650.765007614275, 12080.531770306192, 15111.8288422462, 612.9722347323586, 1826.9582470262467, 16155.267275086804, 29659.665132177986, 23084.810594873656, 29114.044625876646, 2025.525036737512, 65723.90829707141, 3531.208160356986, 7309.003990590172, 14834.558862021564, 17236.77518532476, 4408.735974897303, 865.5927700707289, 1512.8240922318291, 12366.387962236677, 7455.362845907312, 8990.91193441247, 4426.339310651205, 4140.914354049077, 9426.650465767543, 12734.36186265121, 11911.809058087616, 12322.268229326324, 23984.079545915672, 15950.210250150922, 10402.789732408288, 6912.722338075215, 134.59233873275662, 15917.606014993438, 17070.47089285832, 436.63801065432926, 5958.7702707271455, 4408.735974897318, 9402.238064103414, 17779.73782337437, 9371.295025638152, 34434.820032075426, 2047.293897312, 4683.559981130606, 12989.421664302281, 16630.282925342653, 11618.286846645628, 14630.643030871055, 14152.593289022247, 1960.370026516066, 16537.970155585666, 8865.470110267976, 38115.973294771175, 20001.159563157238, 282.97409541033994, 20146.145110844973, 6588.736145842893, 768.7347251874089, 16304.231435854548, 3782.9747051951417, 2306.0096668742844, 24481.068919195604, 6696.588707851261, 4523.19609966013, 6372.609507950434, 4901.87357914068, 1843.0074602727436, 2916.4602855767407, 23613.88446769906, 3373.7488158253036, 25767.529493354334, 868.459092138979, 21799.39812703435, 21730.392402450856, 297.4179342954376, 3047.93665646547, 1337.7028840285857, 11993.779569328592, 11253.311904290698, 17377.982366427314, 5139.44735538997, 11911.809058087612, 4881.857117371612, 14466.752883843626, 21467.592692713195, 6253.845388533031, 27886.14253041065, 6543.629449687483, 10806.121161325522, 1411.2241429721253, 2811.285190804985, 5033.833740423175, 10332.433101624185, 49666.16424627628, 7018.906845494817, 5020.039423419672, 10728.114373967757, 24420.371930143883, 24021.067015556502, 5209.7824810127895, 11082.27818462595, 16116.742637896907, 5120.817358026041, 22070.934425348478, 20985.75750938794, 6228.099415180353, 13534.558838410023, 3443.3104725893245, 23683.888630611553, 7753.32367921024, 17590.190101091204, 6196.336658300697, 26894.9452472653, 9993.70282518769, 6456.772716603085, 9404.285718521853, 6044.982064236505, 2774.3629639597966, 11968.37728390345, 10542.609670336275, 20336.2324365196, 842.6791837633937, 4883.553898323815, 16373.789338070492, 3727.7431581389756, 11786.387173350533, 33268.27921858514, 21670.398200826643, 31644.13441481786, 19218.01900925789, 1062.0652691330288, 23357.51692770459, 3689.566631456637, 15706.114631793163, 5773.619003605883, 6295.279456339922, 8446.369207021671, 12102.1185224254, 2879.3504315257414, 12657.367286953846, 1309.1290424331237, 5414.477228108401, 7529.050945228144, 19215.383284022188, 31374.26441740165, 11269.43932340154, 229.17490868875757, 32950.10683916541, 19198.706908287382, 25362.790420447604, 9828.324257272656, 19436.415909864016, 24487.88777191594, 27173.821651675724, 9974.177349499303, 17706.742833044933, 2877.232163981429, 11648.479303590007, 1299.3460259249296, 10822.954749785218, 17564.79503014344, 26950.84250964652, 10398.280357710919, 3176.9347936687154, 7502.449646334597, 11648.453506501632, 9336.483723357207, 5316.647987817196, 19586.651970491173, 12137.941096510378, 21300.437413677722, 12576.451507491809, 11450.58035591869, 7991.711322026473, 1162.9661600826112, 4263.635196286272, 7827.6867672507, 47019.17483278601, 8159.8284789901045, 5474.975144850272, 6466.5539838893055, 30518.39745554971, 1567.9162540371908, 42193.19275313997, 4233.3423324145915, 3139.256745663428, 9291.094001944446, 1899.2089250016506, 340.22529692326134, 12057.570535881783, 17296.505097326983, 17785.400312512782, 13265.39248061457, 4856.59009683162, 2330.3737419656754, 1404.3618920714325, 10646.059536079767, 16280.072639971906, 50536.61459316841, 5188.373890983126, 30994.506295225918, 21394.04081992858, 10387.674243480822, 8311.186562711046, 38436.82930534973, 15676.087075308416, 18341.22517151682, 26449.105225191324, 14889.331016542179, 7591.312890906956, 1321.7100391292697, 25314.616830437957, 30946.9882271234, 3369.2555336754376, 8829.899292076974, 7749.586659014163, 5093.212245082046, 655.4142031369447, 7840.87673069509, 6253.313364387272, 4060.462311240055, 10647.179304702146, 6470.2646550207755, 5570.846866307264, 3560.2321211056806, 2874.2095015664636, 19844.632943205816, 7000.1603175984455, 14022.755837198012, 3585.183672056959, 6981.369672555156, 10920.011719491096, 23357.516927704593, 17397.907709040035, 22476.429830753765, 4901.0203943068045, 16732.808741267345, 18209.471861088132, 452.1989824250704, 339.5250584611131, 7604.123729699586, 25298.474883626415, 22453.238578248853, 2879.3689429403275, 28207.268301163615, 29954.201944515728, 2365.1565731777955, 2029.9000678739503, 8847.160700108449, 1666.6620535097463, 14258.511145138851, 1591.3077031041175, 3050.509229516203, 12561.279609075853, 20325.905151209558, 24998.27442217471, 1908.6145304275924, 10629.190633201972, 1820.4044338047024, 14532.044387302394, 19278.276194073616, 27589.99549208097, 182.18012834320325, 17750.39104225968, 9868.84095677374, 17456.740731558697, 4245.166309987828, 7289.97209549971, 5058.44707897777, 2275.0171023794064, 43652.357772258074, 9108.951503835819, 2304.272322521403, 10784.541371442065, 14267.94030128869, 5219.907416340346, 6601.633148105793, 26058.515500548336, 12507.920871898525, 6448.923041704969, 1504.98990470422, 119.13410512377231, 11830.32527085195, 21403.86733929965, 18879.71812321146, 9033.963957778873, 13477.893546005169, 12577.430908821338, 15792.194070700396, 9165.134034298004, 35782.357660977315, 6470.746768484969, 24244.869003083215, 6906.038730881894, 10855.80580134613, 10032.123050982307, 20378.917074338304, 16746.75706091922, 4986.627334778936, 13397.06731297484, 6032.785042687166, 3286.3396409537127, 1412.3002028078445, 9570.784063260988, 1128.0064586443732, 9240.262620008529, 593.1720464133577, 9115.36164374324, 21374.664021251094, 15510.374628243939, 9493.73329530243, 25649.115591895825, 8741.499770634764, 12173.108216691133, 1245.5956621512523, 19019.62866465302, 11080.603676532097, 2283.906119670595, 29713.232401357018, 7930.736427015516, 2333.168199103642, 955.7673343933129, 27344.971248183978, 7429.057138542124, 9517.649628143532, 15774.411704616377, 18527.832745512693, 26034.937721522605, 15208.011242143795, 13691.56649081028, 1803.761227426974, 17640.13358756517, 19889.002889210773, 6126.077153197057, 6963.942303005817, 4732.642855324084, 29014.653972941716, 12729.29216268206, 8579.010175863415, 6927.531543132427, 910.364819282062, 36425.58804338452, 761.5831677430979, 6502.85092708384, 29006.728464431624, 3032.9175912073842, 14541.347203933423, 897.7827920433992, 14184.911910278071, 5831.590628922117, 11373.82019390638, 1623.215268310425, 5469.918058797233, 10476.541059559102, 23211.435858038865, 7744.18739509242, 6259.918721319416, 25663.05187847829, 5174.238681982239, 11704.440208701722, 8035.887451078506, 3576.627896104801, 8677.52485379545, 189.69613818108337, 12271.282626591688, 2795.688226615446, 4553.648100081089, 17874.648575387117, 1710.1170746705284, 10540.99971419102, 9178.185837195717, 4190.37886818084, 15073.824027652314, 5331.528420682109, 9091.434657739708, 7212.431556307951, 11210.330382202657, 27445.44593042733, 257.18082108308226, 2442.2992515010083, 3433.870223890637, 16740.654176112832, 21277.332587449288, 25404.78542165827, 6707.321596702164, 9624.657105005408, 16468.18485740627, 103148.27176976178, 2606.0767293024364, 86504.74200482314, 1745.0661335844416, 1585.227920502235, 4364.321228501627, 363.62906195277174, 5516.768582234508, 12710.315483373968, 508.0578955705387, 12344.787772462307, 10039.108784284526, 20630.16182081149, 12638.988043856716, 15475.823028027815, 1755.7185468045245, 21175.335046097665, 14302.573540942794, 7635.937239671752, 15725.191408655228, 1564.2431626619145, 131456.20574234735, 29221.18803797961, 7900.845384737295, 668.2279824096149, 2039.6227394060406, 6337.449766619091, 4467.19155893795, 4874.300014013512, 6012.9400459581775, 18829.75603628726, 14620.833287002806, 27287.107013308894, 17358.00102068071, 6593.587508826342, 25921.886551022442, 2640.834874792192, 16124.289068056081, 9587.826006006868, 4499.757337163872, 4900.852354521416, 2965.6055763038894, 9333.904704158565, 18782.84625805431, 21544.90729855227, 6359.6138150274855, 3914.4123372856448, 4445.57748865016, 18566.69427593951, 297.4179342954376, 2306.774346925471, 1817.0414326804676, 18749.005032110268, 4774.679580961274, 14296.526985378798, 2415.7914903853234, 16633.071189902526, 7133.642885860398, 18180.676669514214, 3877.3725244898014, 12889.042318387932, 22714.476178336852, 13100.475940442353, 19901.112144702176, 5401.3937377875445, 209.87816679110983, 8791.0517061949, 1200.968584578466, 17420.189176589276, 17103.50059571889, 17067.581855007586, 9048.106821162946, 9461.170588703135, 27885.975633182392, 16977.09403836366, 11853.90085392227, 10863.669336251864, 27769.376411275487, 1817.002779960305, 9439.211577964255, 13077.112037334573, 14813.042001118385, 48158.242111725056, 12299.48876602633, 14737.456985292083, 28662.031626338197, 15360.059083244483, 4058.009764599432, 14091.334147684363, 33668.45453137394, 433.1257422048875, 6417.355757256904, 10690.628653673146, 615.6196548658772, 5481.757725038075, 1512.009504276146, 25517.80473171346, 14459.628573501293, 8967.587412090114, 30745.79531298455, 11317.074626153168, 5975.540375845143, 8964.902846996112, 16896.90873764804, 11716.29384263579, 25151.890791565733, 1048.806760232219, 3352.501916867037, 6239.445007006849, 17824.933542065464, 1129.8611155932595, 755.4720034706406, 11642.452607024388, 30934.48349611524, 19223.631967002584, 617.4500388827073, 23451.826989902926, 6598.056870894845, 1902.7033118969994, 10941.36657106646, 22351.861839542355, 8015.234661023842, 2489.1726300705086, 2690.2099695515717, 22749.784807439722, 6968.854779400503, 341.73478923654693, 6130.892026954512, 2497.181152323061, 8964.018645146982, 1893.0910843668462, 8066.736629537303, 4799.286304677589, 3454.4623360719415, 16415.19384486861, 5708.3261563299275, 2330.3737419656572, 8004.495134780504, 8069.943385782099, 8199.012075281204, 9869.5563303897, 21254.214509077327, 6833.417417919925, 2371.8835626669243, 17072.357249726563, 8865.828117578843, 297.4179342954267, 9987.899516104473, 14189.355501294765, 5778.344532046536, 23718.19905002282, 9260.310301017096, 4135.758438720721, 14327.439962574073, 15914.359196476864, 29434.903575313576, 9888.112931810963, 3710.1200990101242, 644.332110983516, 11479.054945208973, 13360.785528151384, 4519.775040031327, 5719.1005226414345, 984.0595213625384, 14518.822506788529, 14877.581190570345, 6234.116762632166, 28810.450265430554, 4694.696830294786, 10196.911083871033, 3448.2109466959264, 1970.0092505637695, 8953.67816977872, 4214.849748622037, 13820.629160688142, 14899.97043558834, 6985.765793875969, 8693.229272016411, 1254.9914143623755, 28004.14719902483, 2240.576176914634, 8850.65470198297, 14549.403883569434, 2014.503747388415, 47253.64058822355, 5670.426818323409, 1123.8920214674545, 10832.025198547442, 11674.743945354629, 38621.22415973488, 4861.732309173698, 2719.686807679198, 2807.501615315272, 4079.075425327126, 25930.437283706706, 45388.41207431824, 1933.4335684243124, 68876.65112462382, 9727.3543795263, 10810.885828740247, 21270.53696523019, 15480.531393622998, 3535.815020541486, 5686.451305988921, 16458.894470310723, 8449.962905750574, 14110.364393928554, 3155.3406813892652, 209.48793901165482, 15174.417239115035, 10266.22346047606, 5602.41743215693, 2764.1532303185413, 15475.510333316175, 14683.36218606303, 548.0414677341287, 17619.094186774302, 4584.067479257075, 9874.349382466193, 4751.203594452152, 1093.9470220758958, 4774.305588819618, 22360.082486831572, 11984.17045971279, 18105.241962737167, 25493.014813399524, 28258.641631501134, 6175.5233272335245, 8705.868966651971, 18061.754817777815, 3352.5019168670333, 9973.771282715184, 14139.99975394531, 1139.7673799186596, 4398.071714173086, 4784.889902983297, 29603.68992473672, 20239.533833036345, 11648.479303590018, 1028.0959858934912, 9270.729243704627, 58166.11511169857, 6835.1625223020455, 14680.138224292688, 12449.392101636426, 1721.225454801879, 19976.442305965724, 19854.800926021173, 31374.264417401642, 24759.851523833, 17067.581855007564, 16445.18508572004, 12735.526822375847, 2888.9195568534233, 8711.590124889139, 2761.2515084954066, 33120.15474416204, 25767.626026585804, 4339.132234296598, 28109.60618257975, 21526.83622444036, 10631.678672900838, 9076.727613939562, 31849.381177456547, 6689.23628031756, 15195.415507083271, 3143.0903492668986, 1232.840423794907, 1622.235127556727, 16973.83757207174, 13295.886291035029, 12642.868610108388, 352.5950653106702, 12989.421664302274, 9452.258223482218, 7352.041982739291, 21056.939139825634, 6707.321596702161, 15906.481659316614, 309.06520810004804, 7368.6183195010235, 16985.649595938718, 1366.6840431969686, 9200.238009023225, 2522.5697129239743, 22483.427750060924, 23056.154804230453, 5887.501532897706, 15906.105553521502, 4954.85666721244, 21036.917968846887, 351.5864906296629, 13724.929200919374, 19586.651970491173, 8398.944646445474, 15039.792934275702, 33308.07590767902, 9856.295443618481, 8096.745997481383, 16630.282925342675, 13370.234823984247, 5014.372835876471, 405.4852908822213, 30330.329541530926, 33682.91092905779, 22684.578855945445, 17797.38815236107, 6943.2222048160875, 29268.542403946958, 11549.039242939376, 16617.76075800616, 17552.437260943763, 39457.89107087078, 17037.624455527974, 27345.260237544222, 13797.501564395097, 2079.5727285991925, 7217.142313728342, 22881.805186500707, 8715.55296118318, 8158.292184824382, 7934.589884656078, 17760.16765351122, 19368.566998981536, 3931.4651041123434, 12434.500141030745, 13477.893546005162, 6675.333896316293, 219.01512656863997, 6100.473548890175, 14159.34714788586, 26684.721016463052, 5589.773575275518, 17564.573642377312, 26008.427666084848, 4553.648100081089, 8406.858569012074, 4182.696158229883, 3319.6245937388703, 24289.51513839129, 12970.20691277254, 5525.907339883121, 10200.098615897456, 7400.049737803842, 10835.118437867928, 7232.922942184396, 11067.918725074254, 13281.545296370718, 3202.0080219647134, 7344.069413238249, 1199.6705887349672, 611.6450840141333, 7078.592106525513, 12081.31586203535, 9370.377825132313, 10260.770493891789, 21460.930772854255, 1062.9163039951309, 5054.317787180284, 6855.571659247416, 553.8623532856072, 3929.8729352687224, 28697.350560413746, 14100.380578148364, 12659.97667987355, 14760.178771245599, 24132.501887119266, 10941.366571066468, 10238.015903316184, 21578.253692939496, 19915.055284704722, 5126.3682625937, 2135.86395791659, 26738.58230188959, 7309.944316567915, 6567.115743259248, 3528.353135328871, 7816.45280608732, 12247.280715692781, 6330.539475538324, 13300.876585634964, 599.7620321521936, 22613.03075691699, 11085.421897024666, 18097.014451972318, 964.6904938349471, 4043.409750785384, 500.2829979076887, 15042.710112246277, 23839.636332010756, 22027.777668709998, 30901.455136167504, 16206.057438084532, 23767.9482671617, 35065.76249795012, 9870.124820380704, 20651.372686479146, 18003.41737337361, 2741.6857960843045, 12449.39210163643, 21364.256242459003, 8570.963236662406, 21188.144571409513, 4812.173346069845, 13589.372827836687, 9552.680349645048, 457.5470754548551, 6583.982760879662, 8731.703259782214, 14008.557732085068, 4579.30084149856, 19068.39769167191, 7048.255067077436, 29197.383485589555, 2814.1235057723316, 25564.40711031307, 14762.510570907332, 11405.947554462673, 152.33414915026515, 15104.680400150006, 8471.764998693307, 12891.94300982965, 898.565926595551, 18155.740122575913, 26449.105225191328, 14897.546175772499, 6300.379250916936, 13457.892558748928, 5269.615513851204, 14395.384947577597, 12523.02079816748, 15404.0365727311, 9022.239518826424, 1642.2475323210638, 10782.447526405202, 1979.6506494333044, 24330.976131674437, 2094.532169174301, 11549.039242939365, 2618.6717900729454, 16265.331405128083, 1093.8158787079628, 1848.5051625734486, 20138.8976604809, 24668.170040484532, 10487.747395263996, 19922.92663755079, 9939.401571948714, 22008.693086226405, 8411.632243853579, 12039.742717197962, 13549.444456028403, 4811.764435790796, 7799.560367546845, 10671.317621959402, 25295.22734364628, 503.6586617214343, 25035.85645975517, 11210.330382202668, 14092.33091593788, 24817.130280093177, 3635.0180324016546, 11357.6735202973, 12137.544396417034, 9516.910636546163, 2515.2038396319913, 5106.157510054763, 2067.2561674151366, 3823.6687244110035, 19997.508626194645, 1397.2777490296394, 16709.679527234257, 339.7608798897527, 12449.392101636426, 15165.718647377587, 6818.1248738289, 30338.45344901647, 6449.734564490929, 6924.848428466685, 11210.56670495453, 19091.06571076776, 11648.47930359003, 7519.459017910074, 15480.53139362299, 27807.627638092454, 40068.40361046934, 1306.094718929009, 31248.059216675247, 913.1141146988557, 14248.594668395199, 76745.39742500712, 22487.561106206413, 7375.884016193777, 3148.930479551116, 7068.382893281698, 10205.648066964186, 719.8775518124967, 26532.600211077126, 2030.9267998198557, 11549.039242939372, 12461.40317673386, 18553.807178292296, 16215.056911245178, 1038.1363832604948, 18638.120709194085, 30062.60210732809, 16623.97894358962, 1403.0325507772432, 1302.7263593967946, 12080.807084625558, 18985.035111792997, 19293.567467054185, 2470.9732615178254, 31890.84466118073, 4847.779451053153, 1063.8621760675596, 5721.209893956038, 10133.36900593766, 29292.233161898996, 1163.0042313353042, 10488.831274614287, 27417.7698973718, 537.3772171780838, 22020.584187027976, 25097.255670874554, 3851.8505472964353, 13023.282721025, 5195.249560515636, 16621.175059209796, 21067.860475741236, 9650.798564580655, 4408.735974897303, 6355.537762795255, 13647.07702401856, 5504.145358440139, 15951.071176239777, 8513.401213822235, 21709.807640556777, 18778.348634177943, 17561.269600231208, 6007.5268869978245, 2275.3682508199345, 21183.462384544277, 994.0068744177806, 22270.626771798467, 16959.232930284532, 9673.187433703097, 8036.80567159981, 2680.7991332090896, 17160.407682660225, 9505.342870979373, 2005.5734609937208, 10182.82929351287, 3124.223245511399, 20221.44850978431, 5539.462930973088, 15835.612305216775, 1270.563566672412, 2026.686016603231, 3856.9359134223814, 4010.923900816346, 3529.962440744748, 4768.63615279883, 1615.8113322577265, 14443.71874092425, 3541.2156853561755, 44219.77566087124, 18246.44814234082, 34546.61072167303, 11128.93947711906, 6421.39439737521, 905.1537451688018, 8800.620587486672, 24907.84878101802, 11493.463478042082, 5374.325770725125, 928.1817825014332, 15858.596518185786, 19002.811327555162, 1770.3923066222378, 3282.0770208183458, 30330.329541530922, 4430.802749506336, 9938.255043810474, 7025.869032061022, 15555.09628344686, 15429.492816452519, 1877.748580455791, 12494.856978142921, 3246.9888307685032, 10560.07366057198, 2004.4472161089143, 12495.395605544378, 15828.187941177974, 16818.48187297819, 13224.417737763684, 13992.395526676584, 19437.822725339436, 5001.38455114279, 37105.62204467014, 7668.555313628109, 7074.90806029279, 15751.985150697055, 16084.873820515793, 7003.086428293507, 25045.078601513036, 16335.845925812719, 37520.77719740651, 13915.814981087351, 7619.435338168845, 11173.484645195578, 9789.391732839398, 12721.436122262425, 18384.27539689998, 12125.05256787681, 10629.823116075757, 6016.018359238311, 15206.385008385136, 11786.605073947285, 14479.46448815657, 16362.391846040311, 6146.762573312833, 3684.6676628252317, 3144.810141045149, 4174.188716692541, 6791.854982575187, 11415.107610079202, 1432.8298502628459, 22008.693086226413, 19317.293817377278, 7588.071859520234, 20527.54005025689, 3868.0922481579837, 6455.325890458007, 1045.3575770918578, 11189.340294351074, 13262.50415131771, 1923.7978409338248, 16858.80131471197, 35024.66304567362, 5907.507282720675, 6429.520352966945, 14309.629527489418, 10638.116079204854, 13119.260894207924, 8980.835790892434, 5606.993042599395, 15047.347829031733, 14414.518620897248, 12295.64060962394, 825.8489526316589, 2861.0169160892474, 19710.91385474614, 27886.142530410634, 8559.667708009383, 10822.954749785218, 5256.469908399104, 2583.285425675349, 16098.368552598975, 11167.775286792592, 23870.975476668158, 11063.720796536298, 15073.824027652328, 15848.906416998736, 16310.213233168783, 339.96729284968023, 5955.188357575331, 19300.975934635655, 21321.606454930035, 25649.115591895814, 9314.750696751074, 19566.91347014533, 10915.257517997798, 2605.8719461183646, 2790.686192005058, 4113.9196475063945, 8130.420056382984, 3056.0695140021235, 1894.6697615339835, 23753.335963342215, 26795.482873469286, 12172.328909246098, 7224.235036032613, 1714.2156609829544, 15475.059854176307, 6975.305921718995, 9310.514017004833, 22480.557519026577, 10671.303852233723, 16358.120119144489, 1109.6452245668988, 4408.73597489731, 19957.196918955706, 5428.933708669945, 30338.453449016484, 2267.3396769227948, 10885.165868060893, 19403.355807468564, 1680.1281455878634, 13372.03166635556, 19610.03105167704, 6684.540911064421, 33059.93959260344, 6297.800365693889, 8532.28903262065, 19556.532631298905, 5121.09118733072, 7957.206659606898, 3816.997116746632, 18950.07727450034, 62102.58100775619, 14677.783740020946, 1774.1145601923745, 3927.374210019625, 2879.350431525738, 4892.878472320008, 27635.900858449233, 27148.22055345978, 13730.992699514056, 3823.668724411007, 18883.47597849575, 5305.845604853341, 8327.840314599984, 4901.118112453612, 15486.343988201104, 4804.735785732795, 14285.603309473558, 44600.51426334492, 4557.542178159092, 4656.807712854679, 6105.665618794032, 12989.421664302277, 13817.865772998055, 11173.484645195567, 7972.821548060136, 9837.688530226536, 2560.682344254077, 11372.624904990855, 7147.940781522855, 4288.566691400447, 38494.021848554075, 1356.1828140553735, 996.2847998224606, 14253.42351255795, 9097.119233368801, 1738.4427453443932, 1710.6568759313523, 15197.523460811914, 16973.837572071745, 9676.326070478706, 11606.473482048088, 12858.773823198931, 25050.331856380973, 6243.1461069371, 3352.501916867026, 2127.6931565523555, 9682.425610813352, 25565.080905190407, 53125.09979069053, 11790.769105290434, 669.7501985853305, 18071.799386872095, 13312.02718612054, 1492.2372821099452, 6639.378658029171, 1842.1346791510477, 4751.992679841715, 5372.430544612253, 4360.738851938055, 20445.20966134184, 286.23332053028207, 30330.329541530933, 5632.704652089247, 5013.850791116569, 3214.8874139460713, 8595.467546985496, 1424.6033106714021, 1418.8441040241923, 4671.808633860204, 5800.379042094122, 37032.472439054894, 2065.50193123626, 17132.951255401968, 1082.945939985635, 14172.9175073628, 31267.584165912263, 13785.02463068446, 17903.67638972633, 19354.813765327166, 2515.120249545136, 8735.459074403585, 469.3868799179836, 4266.385787444018, 26664.62590784154, 18735.681635235927, 1906.7579259369813, 23208.64279810805, 18688.025143109662, 4596.00488173397, 26691.282997976763, 12659.976679873529, 16335.845925812719, 11706.218821362047, 6506.941604012845, 5341.48123746278, 8788.572020788193, 58512.53527055382, 13664.981470164734, 3123.2158384727045, 12062.412092134859, 5266.299449060589, 6264.538046649133, 16346.11543628257, 3883.5921039698296, 12541.766391139907, 14762.510570907325, 514.3375482982337, 12228.728939366025, 4780.845307700751, 3451.9077859983845, 22687.27680748894, 5539.462930973099, 5348.078540738734, 12093.8305003586, 9607.032403980284, 13111.798747010202, 33250.32832778537, 65011.602957928815, 1212.9733744892546, 27519.25914302119, 666.9968901446846, 453.81886001894964, 20526.9373372219, 878.3447739246694, 12563.858874929505, 2370.160482242318, 14046.911434983456, 15366.477720165123, 4484.450058670398, 27635.90085844922, 16834.05672974083, 4759.80377290061, 2686.1401129406477, 11779.016279544725, 104755.14472906457, 21224.27773969093, 23720.88322798375, 8576.213182978354, 22777.608331276228, 16207.947063914908, 9869.471397958529, 25217.35091419384, 5469.678868060473, 7568.372105657083, 12997.098091644766, 3241.089484274111, 21006.34798214225, 16789.137624632604, 4837.863806202753, 10386.817642340611, 1074.324886522605, 14273.380760052103, 10836.23933812041, 9567.022526913432, 3727.7431581389683, 12729.29216268206, 2487.408121798653, 27725.44171983855, 27761.319618799054, 663.1567325003634, 4780.845307700743, 789.820484146574, 3900.430620154766, 54364.1918315717, 3644.8730841671386, 5604.311044774862, 56882.96845769716, 2724.224434358177, 26664.62590784154, 6984.172942204197, 1713.5800477222656, 4472.5001775814635, 6605.529578256697, 31860.7601058934, 8396.48920573376, 10073.196134596517, 5239.731607409256, 7092.373121589793, 9621.616886123968, 8711.590124889142, 9637.65376811532, 452.5313853250882, 21838.521088870868, 3618.113384958644, 9421.432925300454, 21366.484481632106, 15968.990876826749, 12547.531432251744, 3604.942410554453, 9354.46897561893, 701.5012149800641, 35696.63767118305, 11921.652963691871, 12449.392101636422, 1154.4172079492564, 752.7876128931384, 34239.695182006275, 469.3868799179727, 9493.566082396326, 22493.88058558493, 11914.56884876914, 9828.627706800391, 17938.732863312598, 6033.162318216942, 22639.0584274782, 18372.48571357387, 9341.829680756797, 3789.8268406180214, 24730.43026554337, 18332.37716128349, 6155.70091884043, 8863.281772363298, 15014.591758166112, 3366.4868770938883, 929.0667073310724, 4277.117290754828, 14896.746322915118, 14526.89748308299, 5721.478264776073, 4793.814679514449, 23206.196035745794, 14343.659797938748, 13884.667205472702, 208.09868956589708, 18646.0795956335, 10139.945513714236, 22459.31067245607, 1610.4455685905232, 13326.628672722363, 7023.565645507657, 14173.909602070475, 7311.76211294096, 20392.186986719003, 18131.25890382916, 30353.501057764333, 1982.4843891538767, 15875.643267098407, 3246.7320388203407, 16914.751887884602, 3546.6674294422155, 18994.740128043602, 24974.26743774522, 31328.14233138292, 15790.572491181661, 23631.97327090612, 13765.808645041398, 30903.52107928025, 9722.891630073558, 18017.58893643623, 10172.40849683715, 15345.845688627625, 27103.85653024697, 15480.53139362298, 23357.5169277046, 5676.531953836602, 15175.365859023812, 936.2824026563976, 29114.04462587666, 12253.251147660329, 2475.9286106117434, 11090.98208805305, 25318.497783924715, 2674.989131903021, 2612.4119641953002, 47952.20213164268, 5717.339741850406, 7452.155470229383, 5866.665217566759, 1918.8569421597422, 17303.91260871596, 10920.831556382374, 9839.001446913691, 11854.339789863487, 11718.145536081156, 457.22260022008413, 9575.310134161606, 21949.57854231874, 7125.738472181616, 5096.841287464496, 4245.166309987828, 8056.203055655249, 5988.822403622387, 4601.919010807498, 522.637427043257, 1609.437022809263, 15513.47008830871, 2589.1122863237433, 29728.32593104137, 23390.28281189198, 3016.676153019471, 24197.452328514224, 3298.70627360075, 788.8572613432734, 7590.211489616595, 15130.878147748383, 13391.848857687204, 13360.785528151388, 11906.295505856528, 12196.984516755765, 2856.7068976331757, 30990.39444422606, 3086.76236120678, 46173.63338898872, 4612.18896677181, 23075.461827587467, 18842.532611161303, 12514.598385807942, 10486.261460013146, 4901.17142916653, 13054.08243153806, 7388.741130812188, 4367.987920271225, 13374.169672184988, 7881.085936752766, 5253.9272664840755, 22042.809174846516, 19693.666600452994, 4200.580970405183, 21003.41057088041, 15258.510066207738, 15273.947837976666, 4501.195214095445, 4044.8559560653157, 10495.423360093831, 111.00867047736392, 17384.458678850297, 5433.232964811865, 30129.4639071685, 5800.351447554272, 17861.435696566685, 495.39391446795344, 2454.9638008331785, 15343.73150458208, 8995.205461511854, 20356.755729433098, 6356.936905204762, 10285.76777421269, 19436.41590986401, 4245.166309987817, 12080.80708462554, 15130.878147748383, 10385.099509769716, 6301.730473957152, 2620.756219132294, 1709.0135926924086, 2378.6034522280133, 1770.4592599707903, 13858.452231559713, 17160.407682660218, 5124.306883267214, 28678.45261281936, 1907.6976281462812, 6234.116762632177, 27035.918071537904, 16047.866496581883, 7383.245414304409, 1804.5975866307526, 11648.479303590018, 10853.806303702768, 3873.124631088831, 6507.150291620623, 8345.65660333648, 6820.2436127900655, 17348.393239479912, 22047.082767290976, 27994.3450191111, 27886.142530410652, 19370.64399792728, 4801.567126796846, 10052.847362118206, 8056.203055655245, 297.41793429545214, 7795.629357111859, 3799.9238805214773, 5878.826445084946, 3366.4868770938738, 3308.0158829117536, 860.4619380641925, 17261.186703157862, 4004.7013927549415, 133318.63201939393, 32318.11643961211, 5772.366944514135, 66.32163781140116, 16685.945451512773, 12720.809268800356, 27816.59949875643, 10952.07279892691, 1403.2423303729993, 12527.021462019322, 7305.082610437199, 21209.173826881444, 6757.170964309644, 826.324917698741, 23476.18752570918, 9081.74445850189, 12257.181913882607, 7163.5689134273925, 15188.331818393672, 14258.615692496656, 25855.347066271, 5250.158624830572, 877.1085523305155, 14557.093692330087, 10053.235551511189, 18153.12243920218, 12476.42304235079, 3159.340511595092, 9024.70150276487, 1771.800699611973, 2755.56455351994, 21804.311857279215, 4978.08221142894, 25544.200558101482, 25234.48818861074, 37537.898202695134, 14377.288556571428, 18252.683240165137, 12220.926468390142, 24926.99826064517, 12710.280764961906, 31878.39626639672, 4074.454273644493, 23317.516454531156, 27886.142530410634, 6548.952436299631, 14221.662846768777, 25207.67403821789, 1941.1640521499357, 26982.665726914405, 27886.142530410616, 8469.706468914184, 4338.7276351482105, 2399.1378813750016, 17144.11923580528, 58166.61981761399, 11949.03687230606, 12971.0925126791, 14744.158153541608, 11090.816601605424, 13199.81892238223, 12734.390403643672, 9712.976441957635, 159.85091740233474, 18252.683240165148, 2247.8835967042687, 30981.86353182415, 14189.355501294758, 60039.70631948838, 3586.9003394074607, 15094.763458838941, 24553.70166699829, 17328.682587321025, 4871.914716777901, 2038.7604168069083, 6926.622441796801, 4691.825799007216, 2879.2395475842386, 51568.15512550168, 3950.3493043971066, 17011.702855863157, 31501.37098498852, 14868.423871162195, 64655.90793691347, 3982.3265268079485, 7354.439125370231, 14189.355501294758, 12870.835458129663, 28806.428537886623, 10253.649148315362, 10408.705745950167, 29122.698399087316, 10408.705745950163, 7015.92601595823, 16863.784136617425, 8144.325175131133, 6324.0411194783555, 13410.094970397877, 44364.75167603136, 17657.71233213392, 37312.24094940042, 3241.567471066068, 4444.925414361998, 10340.456661449272, 11303.254289744807, 2421.0138762502283, 4890.315165489654, 4107.047897576689, 8114.543130734568, 11410.083493339494, 1741.1980620301729, 9236.941877335481, 152.33414915026515, 28022.030988094764, 1961.0531017750654, 16022.046539469557, 4560.9803312464355, 6244.330956082726, 12691.653455665859, 3575.219316905139, 8525.571367788812, 3407.832974650657, 8775.502682924227, 1488.6307694152383, 17094.637205344967, 16706.40711171959, 4828.814689941122, 16399.31398342011, 22383.390732368684, 7707.663860479759, 2055.213247100204, 25910.338861618446, 2907.7112066521877, 3612.1440495587485, 11497.871217043808, 30936.35767276922, 13362.631216146023, 19621.855267866336, 17860.28466609014, 42643.798333970335, 5837.601483996932, 2724.224434358206, 2554.857563487796, 12094.904843144897, 2392.819251121422, 15582.680190409741, 3835.202299688375, 3279.550298456208, 19926.496593436583, 14522.98355486102, 15133.85938271392, 7687.185374048946, 2330.3737419656572, 25082.57875584101, 21523.461383667465, 6567.084401062541, 21590.886316555534, 3887.5824046196576, 8029.107497586607, 28050.930074997028, 6108.987795178851, 3438.9333628756794, 14343.422686113205, 10036.143447247174, 4591.09426713943, 10182.24080496827, 4255.398263294832, 15206.513512716898, 13407.985618461476, 5184.883904632192, 1079.585780556452, 11384.952117566878, 6786.696155995713, 12255.070358817793, 6723.318917704, 8400.737335420901, 195.14327271007278, 20223.293575385644, 2638.69509896035, 3103.7953898134692, 3420.5115717410154, 14733.809782344033, 25829.4446397429, 8042.817256829003, 6460.53124883389, 22361.086075729945, 977.1263992993008, 14229.604329880403, 13694.440985990372, 14526.89748308302, 13891.006754467497, 297.41793429544487, 7235.421990581592, 4110.5337460715455, 12303.657073134724, 7366.880527027002, 4190.7435808509035, 20466.31147787423, 24852.252545696443, 7705.674410978809, 2241.6505060218733, 18596.089269072032, 1754.781403358429, 11410.083493339487, 16185.222896179352, 14737.233857035004, 18628.603925563824, 3712.309866208725, 24506.537958832, 14971.535031289084, 430.3999104584, 11341.215080186776, 16981.700889353404, 4334.877373092961, 54215.53303150094, 63101.07900619991, 30554.209428771785, 21381.87281536474, 12986.303524158571, 912.8849443713698, 22396.74369188715, 7374.8529768467415, 11343.28595555685, 6802.323181614072, 1235.7977883143321, 12449.39210163643, 13345.293975128458, 27886.142530410623, 4223.219120223897, 17260.83091243895, 29530.40890985883, 3303.63152958675, 2724.2244343581915, 2986.0962407978623, 20882.429634660082, 6227.236811211977, 22294.40821332524, 7255.6102222046175, 9153.271678066216, 18028.77534109876, 6612.836900403348, 4462.5849878377885, 9776.625641204024, 8711.053607697057, 18735.681635235924, 464.04337989933265, 10741.377854739996, 3928.7470210780957, 17025.37555567359, 14323.816090117456, 17125.14115951697, 5937.908540366821, 4240.799624442458, 466.71579313406255, 7380.504275312422, 5505.275431516362, 12911.340867757717, 7199.5547210932855, 9666.546978504732, 6189.295648957341, 3565.9297682674332, 18365.23835742304, 21245.458673502457, 16058.253169882912, 26630.570911267067, 14402.140866016147, 7132.119484430648, 17109.204311569505, 21997.189634601218, 2407.4030410731793, 8975.963033258147, 3533.730167032827, 2281.7971464158727, 15257.169809657302, 47209.10827845861, 1716.8774544407934, 3011.882705737131, 10617.116111990399, 4305.5321137971805, 4777.500951633505, 26149.45523122746, 20693.829378771556, 12625.311337056639, 12304.750950321606, 4943.590059349986, 13220.522280681726, 19997.47875548336, 4003.340329602892, 4851.030006041481, 7344.204545865563, 664.076410340007, 29458.557402430622, 10019.650743103688, 12634.72069770467, 38617.79749055384, 1316.2519712339708, 7828.540771690794, 21998.982677394848, 5190.755571583766, 8095.0762830199965, 7143.273562600072, 12927.566860541196, 12987.778549675626, 19083.87821050056, 18902.262316581015, 8978.334861903339, 40558.85914577416, 9336.783785927306, 18585.46894737203, 26013.55378578215, 17750.391042259693, 36261.1815701227, 5835.460969537853, 4954.633032906822, 409.72472269990976, 3836.334756595621, 9191.26872141481, 10169.549192035829, 17291.305325268055, 10849.298691831602, 32543.80676137887, 4432.602120326817, 3704.486299120388, 23611.546634663406, 8131.751262691887, 17296.505097326994, 26071.4342572865, 8290.940553264529, 7736.6814056053445, 4484.450058670391, 4916.124198148256, 13674.118919630226, 8230.122458401227, 3627.5663467330814, 11866.980389171964, 5256.744342540253, 1710.3396536624496, 14168.143504843509, 36492.212847817456, 11676.856395596107, 3672.2268302727243, 5149.780690139356, 8102.162454505538, 4399.210103396359, 8903.094175662474, 1457.026676228561, 1163.0042313353042, 922.2731247420816, 23288.88146126481, 18749.843103635154, 1178.2619529238546, 27685.324183512603, 19022.56490950052, 18030.23104154242, 3487.3797577626683, 9308.397372407748, 12487.137582662759, 15940.565415877427, 30903.52107928028, 1781.4322610168601, 30847.030942504396, 2203.3753737181178, 2879.353354891813, 4267.3788516160275, 21373.595104860542, 736.8141912997016, 25350.3399723608, 8180.884619140314, 2694.831141464012, 15055.907162352505, 6372.981929484315, 23229.52242328791, 24511.810596357947, 5316.864821542011, 10653.283304602584, 19693.666600452994, 16915.24378612836, 10008.466546145057, 31510.561118957456, 3589.3162802422667, 11534.212963417369, 16444.78498734498, 25584.19065516949, 27769.376411275494, 2597.843402114657, 14302.45766795675, 7155.464357069082, 22921.435904897116, 12970.584857114787, 12589.061818465598, 18665.262968575866, 6850.57014091171, 16834.056729740827, 2846.0948165593873, 23691.736765061774, 10339.583714798799, 27091.361435209823, 24678.928364275405, 5770.3737270462225, 15778.527168070414, 6991.989375902813, 7332.704478212894, 11388.440989404255, 15106.737302275513, 661.5881663834261, 28065.36121406421, 7098.070825604118, 4303.917602400117, 6063.329817708083, 18097.801161532014, 8857.902852088839, 22721.981279580657, 8711.590124889142, 13610.565101290027, 8183.00009940657, 11872.733463168184, 22027.006251561477, 6098.010552113665, 33747.95812684228, 409.94588030683735, 4419.076223830423, 1534.068249954409, 7810.224598572604, 11379.943100809101, 15148.493078831074, 30022.06792197621, 28337.465169090683, 958.3918781339416, 23557.14218166083, 46864.93779248293, 642.1296602575458, 3072.1906728685026, 9837.440256390411, 12659.976679873562, 1068.2752325373076, 17026.70331165295, 5255.873113675807, 11.449299150812294, 9581.83087853897, 10064.005641280404, 12809.125530367437, 18346.81462918967, 5492.014311615389, 17204.31426812867, 26034.99638948426, 24346.244067057443, 625.4917548709091, 2666.6001052203865, 8969.894233257779, 25135.80697098274, 13824.846554527343, 3093.3364955790967, 5256.988602561985, 22949.295639608798, 3238.8853200486083, 338.90299343046354, 3454.0149324037047, 9115.502492035353, 20496.754124236475, 5012.239846647604, 1751.4395520074868, 3623.3266122144087, 7179.563716585657, 2673.885453214254, 22650.31891018653, 20918.052709264004, 3243.521750519878, 22986.57410284276, 10515.44088852193, 14502.878305576258, 2983.7884604320243, 7568.37210565709, 5433.357591784181, 3340.0986821318, 6567.084401062522, 29221.188037979613, 6016.897086614004, 8711.59012488915, 23253.23316689115, 5474.713671369711, 10887.63097875, 2163.2322057365454, 2895.0300255979637, 15853.185947278496, 31374.26441740165, 14280.880572999733, 5245.511657587209, 22728.066109321073, 102479.94657134288, 10248.772359702554, 12519.556345754965, 14762.510570907332, 12405.07422326535, 17204.31426812867, 4166.2803354509015, 8650.997083816728, 6040.747405112819, 339.0435966302721, 8587.658699129242, 9553.133652180786, 3404.8607116023522, 2782.591098350189, 4959.154033528233, 8088.278835056844, 18960.748942617167, 1710.1287461749926, 13362.13741666136, 4680.011761411501, 9455.03618615136, 10350.819403952562, 20026.30197011656, 11861.154450944166, 20053.021115675423, 4235.092331794491, 18946.599260468756, 8898.742795405498, 9944.916554316002, 21589.293129100988, 12202.898834133768, 28989.924712191016, 26553.680406995594, 6900.408196229393, 4951.088146079637, 24519.28708743197, 12188.36266236256, 11951.085041758273, 17168.832495405542, 10525.186066085636, 3474.593135450763, 7241.200736613442, 2459.12311059684, 10797.213131910114, 6212.907718326816, 7070.966167588143, 38450.9606426109, 22210.05299324345, 20746.451244152562, 23557.14218166082, 10540.14896841114, 288.8045028920351, 9767.47026241156, 10535.596551432667, 6775.0399900132725, 32396.169102531814, 10885.16586806091, 3912.954165375464, 3047.6176136309296, 27019.245170787282, 7000.787888494491, 889.5363115168002, 18616.92028592991, 11237.20502834922, 30184.485320695298, 14510.767989087599, 10767.042912293466, 31878.396266396707, 1960.046111872798, 5427.145944655731, 17959.27326762975, 19860.17594584295, 8112.892475776647, 5505.793688184749, 23710.42994386619, 3685.9109013234956, 5141.134351783763, 12421.138794266342, 18155.07839064549, 18857.66385242316, 13467.918631222543, 17622.447575177208, 5157.971289136029, 998.8690804364378, 2405.0021077372076, 4071.3420008368703, 41457.969512368276, 1873.8548708718736, 11067.756954714183, 14573.904004557884, 12764.639165262037, 16185.024066442173, 22976.24349020471, 3540.9683878995893, 92416.68715004285, 14620.833287002806, 654.7584780784055, 21261.350159255293, 7448.320126239887, 15507.47081364398, 16322.079133432766, 27408.17144477694, 9685.748651196023, 12392.252384644642, 12396.23105912656, 3772.8026002778497, 43224.90123406591, 4179.956779400298, 6673.920098403596, 11865.142674294042, 14980.952264043124, 10785.295169243022, 34266.0883124746, 6388.880824227628, 11832.18116007281, 5319.142317158796, 12520.211783015679, 20256.793716201206, 17072.11740489342, 8516.434510018058, 14770.158207723129, 108.62259859039841, 22930.068631124133, 19704.68751123066, 2689.6419070602897, 469.3868799179836, 1163.0042313353151, 28154.929964698997, 17509.430377062898, 7528.019245360432, 6425.186852506031, 7938.010805843325, 5816.64212187958, 11243.519476483481, 14808.748953057962, 25827.54877654776, 22543.33474204022, 30981.863531824172, 7276.967839512603, 12071.659090151628, 20378.917074338307, 6314.205399739534, 189.50360908518633, 2298.937920403416, 6072.391752229571, 5393.4505592883725, 14754.280864877925, 9372.091954137148, 8691.093408304972, 2986.952291316, 11793.435886660562, 9685.748651196016, 11307.454626990657, 9535.147035275211, 297.4179342954303, 8079.391539496133, 7107.8118443860585, 3982.0323100310197, 1782.400018893204, 14675.41041517624, 11783.432395142743, 15409.830552362939, 5474.993597554345, 26805.972306475465, 5131.6929578454, 5476.305217816487, 13666.54974647763, 9591.283921264654, 12894.243193224778, 37022.4614977868, 11522.111298988253, 25551.10697673561, 5432.29407215758, 34269.5082393997, 17796.750644151318, 7878.814215762428, 24087.63597297339, 11020.645614608213, 27010.028209067546, 15404.036572731096, 88936.58572874854, 5755.524332627341, 9557.205861914808, 14303.848950515989, 16255.564894958588, 6932.992081740609, 7529.817203434941, 30981.86353182417, 8932.043154454212, 9821.171950268705, 28843.09900030154, 3186.0349768463166, 4521.852175242329, 33237.27524716256, 27886.14253041062, 32500.675441908636, 12306.237581909525, 17703.859742712175, 2879.4648507263846, 26241.092802142557, 3646.6326397185694, 8004.898474219281, 27413.47253053238, 59644.19106041344, 28990.477176629985, 1512.6973500151216, 63.70885928486314, 3474.593135450774, 13804.886506367275, 21215.495481822676, 15932.243622382186, 7539.251069279962, 13467.918631222532, 13394.555034142686, 26435.117287300396, 3409.865602793572, 14190.562109447612, 15021.153748097502, 5513.106407058876, 8401.068387337455, 319.4548684890724, 3823.668724411007, 21389.8205999742, 17746.61702354783, 31129.830726126173, 21806.61843988538, 451.83987535547203, 25151.890791565733, 22853.076156585586, 9505.345842437502, 43433.09467691045, 2330.373741965668, 24249.122421479173, 9314.750696751067, 41658.338252575995, 43701.30823140958, 99096.41369809868, 24420.86039725064, 12688.984490956413, 7639.92932522692, 2092.2668836201046, 3303.8749065696684, 5476.646160436954, 27463.186425451204, 11786.542094997883, 24205.345414685064, 6523.810220334213, 12413.153189962104, 23001.697826646086, 6540.750246563701, 1295.7269875920829, 14762.510570907325, 9927.690635177936, 11141.528733842177, 2067.249961182195, 9093.733463996057, 2026.9198523422128, 8026.338806243126, 29458.55740243061, 143178.37579620813, 8336.588479137772, 17073.008944110512, 6006.739455775678, 22092.65376849794, 19501.537128435964, 4553.648100081089, 3366.5530034159565, 19790.66887253055, 22210.05415450351, 19347.933745065155, 21505.43508231504, 13650.263167210389, 973.8007439759458, 75599.93811979395, 1262.9648738067044, 2878.4884083589495, 7257.606230849866, 25292.287244336305, 9025.926108331492, 37636.572147079416, 8603.139378795859, 17989.237495091773, 2743.1637406788723, 3906.853763326457, 5316.764276905335, 2879.0873577883794, 1606.94338851855, 897.7750160637406, 14406.267219489324, 14262.626212765023, 18831.92805445957, 15366.477720165123, 26978.628773002347, 859.6943611371098, 4831.1363235830795, 33007.02214664036, 8650.99708381671, 9047.62924237111, 3200.079544355689, 6059.477729359249, 8046.931965221134, 6388.464481811698, 2475.0458760117544, 28108.494832790115, 3877.3336103583933, 7028.894785005687, 15379.534687139996, 484.7705784514692, 10336.22470677465, 703.1096708987752, 19498.449635305074, 4538.749430261083, 7440.679420604512, 12845.489903980819, 22980.5490202483, 3189.929683240458, 4201.813611511287, 2043.2478531209417, 1112.360412738879, 11304.324768645449, 6573.11986162038, 15792.156502776968, 6805.93456949485, 7997.564241730914, 9505.345842437506, 22057.207414046865, 5036.01510482614, 1174.7285565100356, 32346.545599924175, 717.3583260115702, 8027.915944879307, 410.8602789596989, 10367.697504863758, 3648.8604142452277, 31681.478534925085, 4230.512054261086, 6143.984001400764, 15907.899170819619, 4098.729984604579, 21501.824381435275, 27387.021751547072, 19470.096110147904, 6235.517134882382, 4243.9617016700395, 3430.1150597142987, 11952.181950891354, 5562.65773104738, 8451.61477403661, 23719.9332895954, 8925.561878117376, 17335.179801669372, 13495.343934136803, 13179.274151237834, 2742.993322100454, 10187.486550181202, 2024.3246793306535, 5846.444665231698, 7820.576284187366, 1936.4666320215292, 19615.170553301796, 23557.142181660824, 14647.678020513762, 31452.70694299345, 15475.510333316186, 11207.723725660759, 1110.6163526648852, 377.3419999578764, 24634.48595287859, 4879.5598488971955, 916.9183881064273, 207.5292183900674, 6277.272271524314, 4471.473149638397, 31717.219549006193, 19549.117259965045, 16537.970155585666, 5501.40799629737, 23717.041217762762, 6117.898669850183, 5642.897825376847, 24769.18101217309, 12709.568868030197, 19539.737360744744, 14695.56114597206, 3257.025132317969, 2318.3042389792245, 10457.759411844116, 17876.01602198137, 761.805623633245, 7774.03816877821, 30330.32954153091, 17604.289079153412, 48926.761656829374, 19764.460845640926, 13119.26089420795, 1410.5902685153378, 5826.248017254427, 4294.573329483155, 4226.433989318248, 8010.80852232649, 6918.0497485581545, 6234.116762632184, 10764.492173230425, 15301.189724195494, 25045.078601513043, 7531.549452490326, 6648.926212209248, 684.1448801030092, 6365.245796071609, 10211.625844948652, 2373.338522326547, 25285.196826628002, 13847.87925033964, 9527.047770771049, 10408.705745950181, 10319.26965033689, 26532.378432680922, 30225.106407473522, 12717.366667558279, 16478.451144938233, 25565.080905190425, 5404.989118265305, 5373.47047906393, 4184.718253450974, 1163.0042313353042, 5496.3235444458915, 5780.859216399556, 139.30485723496895, 2832.4175853848938, 2629.570515061583, 3021.2644071009854, 19067.460498252593, 1956.9597048362302, 22049.80917086577, 10400.546679804338, 25650.127950775506, 10836.260534818313, 18503.820655284107, 3677.7886166822536, 22451.7153653165, 8488.971670988223, 3686.550886196903, 9190.209588900903, 27963.6955185018, 21282.447157533406, 18275.083792492835, 721.1055298203464, 3267.9826742517034, 26057.55389668521, 5077.6150122213185, 12111.298056950145, 7831.961488894645, 2724.224434358177, 3887.5824046196685, 22930.951516040368, 790.7733057348341, 16910.6035830946, 6621.41023696732, 8372.90436313071, 11231.961421695873, 10059.336241552304, 14957.851026151664, 7426.068640572543, 2200.492689041763, 33760.38739075222, 8094.271834447351, 35652.0430492811, 9120.58022592211, 19227.84719668737, 21327.14471845338, 7257.606230849851, 21321.606454930035, 64719.6500548257, 17483.915060619365, 72592.61857387584, 11594.675419804946, 8428.191589352944, 12687.491781424298, 7033.684875088587, 6773.329476551153, 8484.387442723768, 46545.91457711879, 22773.258026535765, 13204.96488376498, 3729.9932513601925, 4639.872405025115, 726.3239892709571, 19454.78112217623, 4900.857443397497, 30981.863531824158, 4322.730105742172, 26637.165290243676, 1033.209401553162, 4013.8033300768293, 2609.4038060031235, 3217.54909745065, 26653.264419008396, 23850.29846037866, 4519.076362490225, 12398.614414842763, 1054.722353152487, 3611.1884812787757, 6407.4293625252685, 14307.409379946555, 2349.444505252759, 2246.0309001433016, 115.39950845748899, 464.8057175979375, 26691.282997976767, 28415.66732822114, 20693.829378771552, 14213.130701734157, 361.65638751643564, 9260.809792121367, 1710.3781519285185, 26811.00336277202, 24172.20047568537, 22963.3293708047, 1816.2989559237867, 29127.87878511131, 10336.224706774647, 13325.289923119191, 8131.751262691891, 11433.294029457888, 1009.5637139965329, 462.2101045455638, 7415.45012123901, 7028.442714354991, 7000.342520191818, 4875.125419560209, 6622.901632225454, 14137.889264647027, 278.7337157124639, 18664.6982984726, 1907.4315161357626, 19361.61752250502, 13271.149885995852, 11313.389266565653, 14646.9614647739, 152.33414915025787, 3853.1419470227884, 21.887205633367557, 10336.224706774643, 164.7662686527765, 21884.487896495568, 15130.878147748368, 23369.73924318087, 6670.625855296847, 12423.70808556837, 17837.19369964591, 12845.103635921998, 4165.537191113668, 3135.519116628464, 4645.4404020820875, 2797.268857488889, 3762.3592492322496, 6296.718177543538, 18935.235260056954, 1269.1567320800605, 1930.2471214934594, 26500.532317526715, 2882.4696311421358, 14114.47578965648, 186.0474124808643, 17315.448692317033, 10838.212562568078, 178.99518478156824, 381.4835684673126, 466.93680413227776, 25142.817020604412, 3074.044426881879, 12183.182362355707, 8416.931339385686, 4803.048005579691, 8358.275417176257, 16608.367175228916, 2803.3412930503, 5505.275431516347, 5642.897825376851, 21167.559292823622, 2137.468528002566, 30031.522229768227, 13824.958221017914, 7919.347316963896, 8170.767925544642, 219910.5426375946, 2877.9157812591184, 5038.248685315379, 469.3868799179836, 17037.624671298825, 15128.09816778225, 5884.951246511846, 33558.98098474361, 5082.714682738617, 18708.30903981386, 2400.49579636582, 1662.8006521314092, 1760.3953660121842, 15073.824027652332, 13363.227835531576, 9314.750696751082, 5053.9053378840035, 6904.755338159706, 4901.527010132115, 1468.5067644674782, 83562.75045832772, 5800.379042094133, 8989.753545453055, 9247.838105674877, 5163.60245365552, 1138.0632935660287, 1171.673437153946, 14516.595668756316, 2304.2302950000812, 29141.65417749314, 8893.057779208793, 7295.424173896605, 9237.172866302419, 10068.352664930077, 9655.561812966247, 748.3367191216457, 3506.2134580414677, 8206.469380949988, 152.3341491502506, 3189.9296832404543, 21808.971210491687, 338.5978950886929, 27253.232615923152, 15130.878147748357, 18488.335602134688, 6300.379250916962, 14459.993073689533, 26298.584618454242, 8516.222149732737, 10331.822475261171, 25948.94916350458, 11658.332150501163, 20378.917074338307, 2116.1229088481305, 5121.796524904155, 17926.641099218647, 16215.056911245178, 4995.533166481226, 3823.668724411007, 12103.75194029498, 23721.167876445783, 7845.437514160632, 26195.546932699595, 1443.0117493642829, 1578.8224994207121, 21910.429040474595, 19014.885063273257, 10774.327038900832, 13111.143806389013, 16993.86526680328, 22714.476178336845, 16335.845925812726, 8597.511206416697, 65406.366127068395, 4857.381343891902, 9524.623161236934, 5953.258983403808, 18391.24863534804, 2106.0527610094323, 9005.635600948757, 4186.234291469438, 9685.748651196016, 4506.044596882006, 19790.223561454797, 3900.1643763133325, 34469.395655806075, 948.7477669961372, 18546.805261821755, 7762.391036164445, 16518.199138551314, 7963.356308297283, 14046.608320041403, 19288.263670338245, 1085.4194466893969, 9405.123040350984, 2404.4981672765607, 4901.4086255322145, 14152.467720083347, 12768.929419866585, 8269.921937013398, 5559.00676700889, 4901.171429166519, 3158.6534088488625, 16834.056729740827, 4902.547916639745, 8585.805055989222, 1958.5560638215138, 4439.299304742624, 40554.00666254657, 2731.7560850159352, 6975.2730693364065, 23911.359687363754, 7506.583436337329, 9075.44317727472, 16357.60264635862, 18743.034763567164, 44011.59649548532, 2498.2196218235804, 360.02407374514587, 6154.425135017773, 8572.860489043913, 7619.435338168827, 9666.546978504717, 16666.0643933296, 13592.238202058725, 4505.332038393393, 3757.9135950322416, 8056.203055655249, 6414.953681692361, 1132.3395960330636, 12418.385324630799, 18103.21941056681, 14436.300217404987, 21528.59695546449, 20464.29038443745, 2066.6279554691537, 1703.2988619599964, 24359.875139452157, 39153.39422359539, 3448.129277592754, 6263.890733179738, 23373.325761694046, 29884.70252018136, 11282.894842008023, 22714.476178336845, 5717.392287921495, 3180.711840737393, 17342.486585490933, 1241.81419364686, 11261.782885458764, 23901.628728284, 16428.252469280713, 23411.093168763637, 20903.310827761954, 32622.452775265992, 16172.581093987541, 905.6322477122667, 22339.47447841812, 23962.22489273775, 7647.926210474423, 14914.724805944083, 2593.578020715151, 13473.237293432303, 9376.496060310878, 13793.166161852085, 2830.608607756989, 14055.827099710332, 9620.238641825123, 10653.283304602577, 11191.529727339366, 95425.72810948247, 6792.070111315774, 4579.491827377475, 14609.60759980401, 7142.242163805302, 11283.443690840697, 11812.44786945865, 3040.4619866225657, 15888.781529991898, 14317.275080190779, 13709.405637480522, 36902.329997226436, 22079.776929377666, 9368.405316853743, 19317.2938173773, 29458.557402430615, 4576.404349980519, 36268.82383763709, 300.8501516387587, 14437.292151659734, 10436.574827882418, 4887.49396205532, 25143.230194445576, 21656.904952679943, 14002.706183263988, 9732.178733475856, 1314.303229254063, 13681.846381437834, 24793.30441857583, 17905.150989890717, 9236.9418773355, 764.2160409835269, 11282.805248577737, 2359.9921862218907, 21723.519129563007, 9061.474590657424, 9633.79598687806, 9648.625621690386, 19017.660155691676, 16542.54932819956, 15602.517971545014, 79757.2998776453, 829.006286411568, 5069.822107107262, 13981.186985848522, 5924.998440398682, 12544.033924483836, 1900.0244147363192, 1117.5804764836503, 3783.60341199753, 339.04359663029754, 11922.303538018448, 8992.865142230396, 3217.5490974506283, 12966.812716210556, 85419.84762959066, 5201.330861361028, 5820.8274256383265, 11402.422049367728, 9766.509718716508, 14955.239267476041, 6146.138617388831, 15285.012310968224, 5686.451305988921, 12003.042433292056, 12899.79864844048, 7188.009973032324, 2079.592630577852, 1684.775776108123, 11250.503111417522, 30979.07148492924, 12927.985965223095, 9111.23082157773, 8974.94809507547, 11634.182992167265, 8897.118409128718, 13884.667205472728, 10336.224706774658, 16813.33196015853, 5673.802542714766, 12290.58654742222, 10920.011719491107, 2796.6803087179796, 3464.8467525696688, 25450.778018144083, 12943.41658512911, 21540.465174209166, 13571.1164080272, 2368.255529274269, 26292.5728470314, 269915.66497519426, 9783.137656589504, 7123.926109261309, 23792.250177115206, 21172.412233607152, 5307.281312152652, 5294.075069566072, 2374.291872269674, 10336.224706774658, 5884.687074483161, 6250.753143817859, 14262.626212765019, 6361.294738645636, 7055.0896884863105, 3754.230288261675, 7602.749466965113, 27662.851119921925, 16686.032165114306, 18510.75760877556, 20494.093817270368, 11435.281263290817, 13763.731421115986, 3004.256995307758, 2165.9857661948736, 5532.0089987694955, 9230.123927735214, 18487.913778860122, 13311.68796419345, 21522.001769632, 4398.612018714921, 9809.029475861436, 10773.956177014887, 13685.032710069623, 3829.8764289164246, 9270.152932077854, 8146.374199307364, 2852.1441805498653, 5077.6150122213, 3052.671457239343, 1524.7979850730044, 10934.069445717949, 497.44718378013204, 16074.95146696542, 624.2863721713584, 18482.94482339079, 5539.462930973084, 6250.2665374695425, 6202.766149480391, 13650.113925803718, 12582.641833589434, 12401.515794956358, 28839.349815406807, 4913.4767210309765, 15420.12648012262, 6147.807981827253, 16135.66728360443, 20868.19510740921, 2124.040570866695, 17331.572871692446, 4772.5432955285505, 4966.791649436145, 16779.346328650947, 11146.216538751105, 30115.100960297903, 5616.830700734492, 4239.9828343336885, 23416.94920606991, 3005.5470788494604, 688.3207099456813, 7490.709964038913, 8895.417573863146, 1613.0622381751673, 17194.036689203058, 10883.785728630734, 3040.727924314466, 338.16200289054905, 27073.833935567676, 29221.18803797962, 5062.091400144549, 23819.072246616386, 22417.318265010126, 25975.22041159455, 9154.30975356562, 3757.1535732669, 670.6923149064569, 19402.318502263704, 38182.145329905674, 15073.824027652328, 8948.851292537242, 17991.50073265874, 19660.99055174627, 907.6691285031156, 1896.227258461182, 925.8285048960024, 31066.013117219394, 4181.0901414299915, 30938.46902067463, 4432.955139263428, 681.5891587194346, 5377.108686175568, 4219.58333380305, 7750.82538887113, 1574.8610495482026, 54703.989751427885, 1513.0516649658093, 40856.88846341295, 39.47209030941303, 11985.970119475216, 6293.72716336928, 24541.544527283524, 5129.175000695755, 10577.988159667482, 10874.048142398435, 1397.0978268324907, 33707.019999698605, 28337.46516909069, 8389.149989493879, 1411.725374996724, 10461.08943185598, 5414.084531842163, 13545.351810096137, 3211.6476925956413, 6932.992081740624, 4780.845307700736, 565.7910021561765, 2583.312090397605, 12616.14986496653, 25565.08090519042, 994.9742877437857, 663.6920673300592, 29901.05780813405, 15338.66153516771, 16337.976992734017, 4712.523584053055, 11821.611658921807, 11203.911231360358, 28204.522292284593, 5327.2804319149145, 14091.485119047495, 42150.08898731542, 994.0803260419088, 1688.8259977618582, 10353.827678668004, 22008.693086226413, 6817.935903417449, 5189.016524788058, 18187.230766653214, 7086.449537893601, 12113.917204357815, 20341.301454999484, 4662.307191465763, 30330.329541530915, 9295.294828130238, 3424.6781538786236, 1643.5372762413535, 7064.8975964576675, 659.5336549424064, 4608.88254184353, 19465.171106328555, 8002.150449300345, 4924.614992682997, 8957.262798776883, 117.55149266026638, 12731.925523323407, 19710.91385474612, 54820.30529371157, 9732.17873347587, 19148.24598817805, 5848.418633029756, 13595.321453846267, 9110.92607736928, 1737.5724107986462, 14746.867701112787, 4339.1322342965905, 10292.792839097157, 4667.672586041474, 7595.5434672049305, 23868.354231833415, 2843.760517646544, 3510.2650192348956, 2815.844233859789, 14526.897483082987, 8092.195676129868, 6109.717201699797, 18813.07510549257, 13534.558838410027, 7771.004334697704, 7440.774904149897, 14110.621476523902, 21135.82892871579, 16634.953714508025, 1632.2178067074055, 2719.6868076791907, 9063.108854168739, 14093.369240013126, 8122.557493299064, 19492.39074856752, 11479.05494520894, 3191.496569510098, 2038.7908865864374, 4751.930892459255, 7899.879256362448, 47922.23900271454, 13803.36316984555, 5618.553519445057, 32869.79217806531, 9778.717761984404, 13041.7620088511, 18950.36134310676, 13726.21182424721, 13816.256764054113, 20063.180142073517, 30108.43467094823, 7475.600064238537, 20108.513824716385, 644.1691582145286, 16732.854634050967, 3884.5779121838423, 319.45486848907603, 21458.656868252405, 2745.24103220064, 3420.511571740997, 2781.2611264909974, 9169.881558674206, 2779.4680078484053, 1226.7536651381597, 5919.233205513898, 26087.647161599936, 6262.299755042892, 12711.24345836525, 16047.866496581868, 2727.9410019501847, 10925.03783500761, 18447.36294614143, 7373.203293443967, 6437.770723951675, 41457.969512368276, 28367.14696129503, 1392.8478642071786, 11366.165395957283, 1391.5966794792766, 3728.0965313410925, 44946.54095399623, 7391.099548165112, 20693.829378771567, 19067.460498252596, 339.96729284967296, 11921.521678487254, 17429.167673535227, 12738.391630162732, 4798.772068587488, 26343.276029720015, 32544.15553489695, 19026.624978944805, 6938.054379363341, 8305.850836788937, 1625.934857710563, 2732.020612047647, 3813.6900392064745, 5638.12284924175, 12935.505524386506, 16043.834568885908, 8535.440158228917, 12735.866677111586, 3666.6252919614562, 8480.923082540037, 16162.820631838978, 846.9072076550656, 1343.5387707691625, 3290.1180478716815, 10625.618763001956, 11417.70431175406, 9145.883240352458, 22286.099365748745, 14218.868794296868, 5728.877953039759, 26449.10522519134, 15235.536129760458, 8004.973440743364, 22559.161301249478, 768.7347251874126, 4489.104828402687, 11911.809058087605, 9044.389281784617, 45.2438209777938, 15262.111689230936, 5401.393737787555, 15130.878147748375, 14971.36709453979, 3609.378523830106, 52693.33059987458, 14997.292982654086, 17917.263492717626, 443.8811541492614, 22417.318265010123, 6234.1167626321985, 1431.4985283675342, 1121.518999180873, 20888.406153907257, 17646.9944628716, 18801.571234849063, 20618.418712900668, 11801.498236440646, 503.6586617214307, 9881.366699092643, 9269.21585628069, 10180.842074698805, 22371.984114519866, 12705.759208152878, 9756.623881565436, 2067.2061219960597, 34266.08831247461, 29194.82798859878, 22469.35770843843, 18005.41204336918, 4070.882535639099, 9237.583154184547, 27045.876556748597, 24701.063740027625, 38660.6556622023, 12538.898904518112, 10927.829471429573, 299.48770233527466, 8081.567276324007, 22913.799078410913, 10803.276014529489, 15367.617901527829, 16671.95646594704, 4922.398100466362, 3649.1523989231428, 11506.219768887197, 12012.708467849021, 74438.25937788087, 11732.64303757179, 1728.0212324286658, 4787.916691595503, 6839.847276046992, 2080.8937237016544, 27045.8765567486, 12583.42116863592, 4038.6549553737786, 11292.30034319386, 12711.895187222257, 12989.469951181254, 6924.565627761138, 14681.433687072345, 11568.123187205849, 4022.772081395833, 13850.731493988904, 9764.012697081023, 11911.809058087612, 16335.84592581274, 21188.144571409506, 4995.009040462042, 8211.036581117965, 24420.371930143887, 18030.966243892428, 6386.953791726606, 1908.7336205846404, 13477.893546005169, 6906.645535847922, 24701.37309094928, 21233.59388607837, 28202.24852862758, 28370.760493614587, 9016.428629265436, 7990.82462809209, 1903.9654060904722, 13178.82520811462, 1710.656875931345, 18613.0154874755, 4124.258210793814, 25953.5461931011, 4681.115662634114, 14163.907597610865, 42018.396892003344, 3620.908057709301, 17290.076506206853, 16259.09323684952, 12995.325337647591, 9457.80502144669, 8586.608144659818, 15348.527903290007, 1244.8598050868022, 9218.082887467262, 833.8664835949494, 17919.05472371365, 4431.037109992354, 6990.757904506605, 17667.239800851297, 29723.47694429569, 13060.019956277894, 20259.110572275447, 12.522618632581725, 3597.6555520369075, 14762.510570907318, 3898.00158321864, 9015.61082050101, 12782.11423188079, 9015.699359968243, 8823.370646262101, 19470.096110147897, 19230.716241276754, 3906.6470677965663, 17037.624455527966, 8367.968812697429, 19637.790498267364, 119.21072051381634, 24934.17299033438, 2156.461222398575, 7918.9076241531075, 10708.151525208217, 15486.343988201123, 21545.421792771063, 1908.614530427596, 670.0189573412281, 9538.747659314555, 7351.45287390667, 9634.699142318874, 16894.09903284074, 7734.980463778171, 13099.642833654485, 4667.857153091911, 5738.1177959418565, 7146.029999991286, 8292.674295450655, 15910.155643872284, 8056.203055655238, 5405.0454731160935, 7322.690675474827, 7452.741817809765, 26088.070271141358, 5545.689999891965, 6128.874419625878, 9559.78918114982, 22827.599150289705, 46878.53954851897, 12936.52699749211, 7726.917780575921, 10304.882760640587, 10822.954749785244, 7455.3628459073225, 14855.137421975058, 1813.2057104686755, 15523.211689910946, 11520.864579252917, 18288.245368774376, 9582.83755853384, 7995.816023987252, 23493.594423284085, 9597.699526472581, 1903.965406090465, 3727.743158138943, 5157.3528609602, 2879.720494842346, 21188.144571409513, 4595.245074947197, 23763.74737245094, 3445.2668163645103, 1308.4532932055845, 14746.579559215861, 10748.728974945832, 7074.552217939854, 1519.1112322042209, 9318.92379480711, 7304.232080407142, 19984.461477694455, 2684.5623603968634, 8601.033319724353, 5675.318656396943, 38590.326894125654, 24751.644456277496, 25845.948559511467, 16333.547897014454, 10935.22344341812, 688.8478762418563, 1619.4078383008891, 6246.816795894691, 22125.221493237706, 16484.446261587655, 1908.6508150271366, 33059.93959260345, 8575.284434264744, 18912.885335140694, 12102.118522425379, 4578.717676470878, 24059.431019286127, 5751.483127435713, 111200.28155109164, 8006.149360695097, 20477.253223392636, 34434.82003207543, 12430.932242540519, 6725.681807786674, 2628.484732684101, 73213.00748377045, 231.59459364342183, 11446.185913630237, 955.8472787655955, 7242.3867290567105, 5113.284261332337, 13864.96128685042, 22714.476178336863, 5058.447078977762, 2429.706115828434, 4519.87786586742, 13533.07999658068, 12205.016691601631, 2673.7615040112614, 6741.557593289232, 25670.04877508294, 5423.691822306006, 11290.073094702428, 12562.983161250617, 8897.519396287244, 10499.989002599516, 4871.914716777901, 10336.224706774658, 14682.447013827688, 71047.2478214916, 6040.394535074109, 7085.615569431266, 4670.903340773057, 16464.215909266997, 10981.754981739552, 2351.6533641614806, 18945.424592845084, 1884.1543636733113, 3919.27673630559, 15262.014302388132, 15562.064976486472, 19547.03998313265, 1161.5697042968895, 24420.371930143876, 45.482061311959114, 12306.383185661722, 16504.640446483732, 19257.24679800337, 3218.14635695365, 31400.61560451992, 4902.723882119397, 3831.8139206395826, 9210.312645047004, 15854.707845644261, 2461.0169172125643, 701.5729036897101, 738.6370152520285, 12709.568868030201, 5997.05063318375, 2533.98093106363, 45370.56970300613, 18700.2824755258, 8194.599594741892, 4788.51960866962, 7194.0183056652895, 5376.69429311444, 11648.479303590026, 11656.492484631584, 31326.83482737068, 8627.52072449063, 13198.590128099007, 15533.999964636809, 4902.936781166216, 9844.035781645347, 13987.497785386087, 3943.7412698438093, 26051.38218359663, 23901.62872828399, 10209.1034195869, 11035.299652825553, 1908.1114033738559, 15693.946733430297, 3354.3021133177535, 19863.156897326935, 4560.288548627625, 25241.10536530843, 16893.517446057613, 10124.86149359844, 5946.372153177566, 12268.418140709742, 10764.49217323041, 11316.03625737095, 2668.003561206413, 16148.818926331609, 38885.0132492226, 15144.542721524867, 8429.963112810838, 1598.381587577278, 65.57810842369508, 8711.590124889131, 27990.875047405156, 8642.070311615425, 3809.8554498555095, 28207.268301163625, 13116.064793589692, 147822.2655311202, 354.24709724544664, 13038.760819449657, 8901.743754947653, 13772.67791998361, 1526.8140611297786, 9236.941877335503, 5256.915119905498, 27408.171444776952, 4064.3096724687093, 10479.689999146758, 3869.8781147646077, 19976.442305965742, 22753.592067623562, 2914.9212024352673, 11911.809058087594, 8860.84132280582, 9094.046415427823, 5956.565990266929, 21325.265933793, 73450.49580944685, 18446.71748798746, 8292.57772851393, 4963.923399681473, 9336.932400108617, 40057.97438309775, 7495.776174575021, 17172.933905463793, 17907.252376898075, 9936.94218466973, 16580.19958114127, 14007.930565451272, 464.28916869569366, 12185.427155014248, 3051.9536617909944, 14964.270945543147, 1045.3284534343184, 9960.982849815155, 25235.053051327377, 15073.824027652332, 16074.951466965409, 14141.481602968735, 1272.838090128098, 15369.591102915816, 4526.258109961167, 20342.56836524332, 8860.626025579153, 12586.590382436258, 2818.8273373897173, 7674.013159298229, 7707.663860479752, 15570.96251353903, 8316.766797969867, 5391.480335098542, 5910.049630072626, 16235.512979622828, 97.72985752557724, 5981.74115012732, 4719.083386815346, 286.54075719082175, 12563.858874929509, 9155.145549224519, 7430.508327202231, 13473.237293432296, 5064.876486518904, 2309.166830139169, 20418.693857735292, 8081.890309264734, 12103.751940294991, 50012.96319808547, 23275.542653879256, 1658.7053040779138, 10507.563837775902, 6680.614623885365, 7798.268855060513, 20966.317766111817, 8032.1516540090415, 9685.748651196009, 1039.4865172986538, 3189.9296832404616, 10653.283304602566, 20418.6938577353, 1411.1934403324558, 428.9981184050557, 6639.37865802916, 6258.6319672879035, 600.5843268147255, 31491.272307027022, 13798.95363705427, 8526.792566186181, 15560.400434404492, 618.293722493625, 19556.359758013583, 4059.5016907443933, 3011.3724694616976, 6782.492452686904, 28119.358753115222, 19511.35344890166, 25331.286856317332, 20693.829378771563, 1436.5780023875705, 6775.272809182345, 17852.072795170883, 24376.05727725062, 4214.667266953995, 2288.2507905599923, 4710.841060275619, 12855.908664911047, 21081.874520455294, 284.94527078883766, 9318.308902855908, 19828.391614255306, 5727.832809322979, 13396.186848857527, 24026.83673599222, 3801.066391207969, 9047.629242371102, 2042.247468098798, 13795.025495932365, 7282.18661032986, 15474.442523931037, 19852.07123911854, 141.6745269761086, 5713.193628790905, 4661.922322082999, 9840.541718906345, 2158.3514218079945, 29415.23953678556, 5394.738054141417, 562.3954390198705, 23403.124867584556, 13171.916864914121, 12855.74227057285, 19094.316516734063, 17741.59733493526, 16542.67173378354, 29608.156108928168, 13437.548541544063, 16174.56956963001, 10158.502122892096, 4380.352075814779, 2084.6468270760342, 45875.14088151581, 9555.514467779009, 6319.91091622095, 9526.868369028263, 9292.685676766934, 11024.221446570384, 14478.152018257228, 2444.8216066207315, 9742.59780042075, 25611.097660009906, 3340.155774206829, 10343.78885751711, 20595.409534609993, 46525.31422034798, 1705.7949788744663, 24877.03630964504, 15539.16205655409, 134.8369889231617, 9750.979966009694, 5542.87664790525, 12927.621812357487, 1689.8848447725613, 39065.85695625137, 44734.169272732885, 6013.722820143055, 20213.47444657497, 15206.263829717405, 17470.860506769233, 2288.688039933604, 11810.995081233516, 9169.881558674206, 21006.961506736203, 2370.5226893758336, 10852.997985330123, 7353.409896026016, 17284.538061993946, 1362.9289610578999, 25151.890791565722, 24340.86364715236, 5476.32399096317, 16343.069682479123, 21522.001769631977, 6286.389993965116, 45674.36233031914, 17128.323348518006, 4132.3632911975, 2058.8407690251734, 5902.9984397283515, 10595.062742125989, 11173.484645195575, 4919.718132975744, 8374.499114485683, 1478.7878385016156, 338.59789508870017, 11514.966987251726, 11031.277118373724, 7608.256853679435, 27073.83393556766, 1598.2330175882125, 14682.681807824447, 28002.03947079192, 8183.581728910205, 18005.41204336918, 19377.67765122561, 10420.263680422548, 25217.75199954299, 14458.623455212462, 7122.098393101736, 14695.366370440497, 2173.799895093576, 9336.166978054345, 21482.1190686837, 14189.35550129475, 2825.6325914052723, 12514.628700552239, 31751.08387073496, 17296.505097326983, 19222.593272605704, 27175.41429975433, 8977.699302036664, 9658.076716555199, 2359.1378980100635, 18813.075105492557, 3851.078433128325, 42421.58353930375, 24415.518945426044, 6901.935411952829, 4780.251451611766, 13629.00811406552, 993.3022661719515, 17264.650947356255, 20041.72065354527, 1744.5928163518038, 13630.83203333354, 19828.39161425532, 16915.21233992411, 7557.557302176319, 18958.14745413753, 7607.324641647563, 18425.860692189824, 19056.724784841892, 13473.237293432303, 22466.00870058509, 12989.421664302266, 29957.653641763398, 10049.324719445787, 453.77207895781976, 11216.319176660796, 12890.767960745783, 5882.907413968402, 4441.965779735281, 13785.024630684497, 5000.470998012286, 18536.7126048268, 7771.904433495474, 16162.820631838978, 4245.166309987835, 28199.32043414397, 371.6392707332234, 2802.1111606415107, 9000.108921441668, 11173.484645195585, 6493.078131820523, 1330.9097470163397, 1624.8793578944096, 25497.12606806254, 16873.880784292673, 31195.976917082924, 6911.546711860807, 3189.1572078075405, 1385.7194512697934, 16663.43756025958, 2724.224434358184, 1327.2063938596257, 14736.120038241956, 6384.258990983748, 6261.146748115516, 9314.750696751085, 12078.052457223905, 7213.196965060881, 16045.274022645503, 27175.41429975433, 7437.517910216804, 18153.675591853236, 7950.718747030311, 4901.906103390174, 15187.11266463582, 32657.42096584744, 14687.806680876147, 31700.808141412606, 13077.11203733457, 22522.00136995071, 13083.236273070655, 4902.5260945580885, 25700.718731148438, 11845.584408318457, 16693.924655683164, 1907.6936073290562, 3579.2738469148244, 27542.157467956684, 5422.572959417179, 4756.299886639754, 16078.306227462017, 5174.238681982246, 18259.106075768108, 32566.18406703316, 18930.02558555257, 8.886951112915995, 8266.096233564764, 5034.489469179149, 826.2891068671452, 10376.264670516513, 12686.834682270863, 20624.407349210924, 4137.000162607088, 21020.69966081851, 18515.6285109066, 12966.812716210567, 2945.3430444584665, 10798.651229168267, 1356.9127267622243, 11634.182992167272, 17926.641099218636, 5476.219196286849, 6621.551448404476, 9849.165138520118, 15933.26958806724, 5974.168761583536, 6795.588067252731, 1496.4364047622803, 12435.995217122636, 654.1178774994478, 4401.25496646238, 7029.67746808067, 9709.435690812585, 7178.502385767177, 3022.6739818959213, 8263.854785223328, 9211.570557163941, 6342.028962351524, 15070.185884595488, 2667.4461026965982, 14395.356333087173, 16124.289068056067, 988.3918858915786, 15014.59175816612, 2075.535161542408, 11549.039242939372, 12316.024166485287, 16781.17088346528, 4723.169735252224, 15427.855431034644, 2370.285981309593, 3069.2781561917727, 17189.54335470294, 5101.261363616326, 9831.130290791025, 2680.8394773600194, 21522.001769631992, 6987.738272838156, 19578.536220738984, 8341.04906385133, 4895.653294183037, 12449.392101636407, 4054.566601820032, 1718.2558369047547, 14325.538093272859, 10534.789187511284, 13685.212029541708, 7742.074486675458, 14899.970435588337, 959.6162260096389, 2811.8673728760114, 10241.142702861023, 25911.812618363212, 9628.051496645006, 1220.1451611647972, 28367.14696129504, 2334.884235749654, 16589.592927335332, 1069.433764835554, 469.3868799179945, 1744.391794158866, 6490.3009029201785, 17203.97854474264, 24525.435012982758, 181.33592204854722, 2803.82624996933, 2838.5271725396997, 91196.77050540561, 17348.39323947992, 2033.5054195255107, 15218.065824250676, 6388.4644818117085, 25199.990633128604, 6732.115564989806, 8568.066661208573, 17647.01390492171, 7369.768096964712, 20522.344466273727, 2130.20308690425, 16981.70088935339, 3649.094622610446, 24207.858220003043, 26644.93734631769, 12685.146769662628, 25514.611736114675, 29636.535083686867, 6644.466315746431, 8886.799967629031, 1513.0806263000704, 17963.6907124372, 10593.87477146776, 11911.809058087598, 13970.299517959058, 2384.7384423154217, 17249.133460426085, 7297.094028501895, 16405.879518051377, 447.0388014738237, 13248.013181146867, 24701.18084845938, 1203.6905124554542, 24730.430265543386, 5934.931731995839, 3652.6459606236094, 6567.084401062533, 25045.07860151304, 3022.2642696936637, 2655.7009397238726, 10722.784182316213, 11319.870199426627, 17690.390317089663, 12692.47411167383, 9685.748651196009, 7626.245213329181, 9660.495625784803, 43171.83097600849, 28367.721955211564, 19120.746842699496, 2994.580596759977, 26554.817318961563, 10407.961911144233, 7389.129990293328, 19864.71485085297, 5991.539978170724, 1677.6826104957618, 1168.689453310959, 16124.289068056056, 4286.635410897266, 17642.562545990135, 8871.589147669943, 20117.54161368079, 18926.497903161286, 1608.8354930855457, 3739.7181188857357, 19561.369061864396, 13529.197694999366, 7455.36284590733, 17568.081196709965, 3702.201814468299, 51102.21945426067, 334.6909282430388, 14350.610727222454, 14611.732933775314, 14425.169986401794, 17361.992805990463, 15984.258973099328, 3914.4123372856266, 13927.476536548515, 10767.825865865798, 2148.845301297246, 26449.105225191328, 23083.869557753605, 1768.2678430282685, 26631.740285161664, 5066.25136548336, 10133.369005937653, 11733.166704257656, 3610.4415096081248, 11986.878449400228, 10082.658771836876, 32616.753563207778, 339.37336393743317, 22049.287460124928, 83516.24092564348, 5915.021773073677, 6486.662490969597, 18005.412043369175, 5818.980647720462, 5008.457500634024, 13186.172637475, 17203.978544742648, 9242.332851241848, 13331.40176264049, 9553.068730450024, 10538.041996984663, 9234.422501779089, 6768.04971258506, 12986.303524158579, 8555.981800904385, 10728.074850330504, 4413.884511873959, 21899.438133649415, 23338.324348571663, 18071.799386872095, 11182.170393262862, 12160.98640279377, 2813.8173773991693, 52134.11057668629, 24624.620853958208, 6939.31004160715, 20992.36994574822, 2704.0023021343586, 2070.9823511162467, 6061.342618371178, 18014.62034822687, 4313.255077500049, 16607.697874287944, 4011.1415196720263, 12782.114231880794, 14869.816164116506, 6060.31754401857, 12003.837246065155, 11512.143294470443, 16606.208925237013, 23353.31198622068, 7126.681862343503, 521.4190105959497, 996.382061491051, 25137.625638662095, 11143.48518851951, 9314.750696751085, 11186.908743506276, 10653.283304602577, 1907.431516135759, 24877.003833546492, 297.4179342954303, 30804.51257823483, 13740.149100858656, 6234.116762632184, 23912.42418077751, 30726.006913967693, 6065.133796252165, 15018.677250048953, 2605.850644480015, 7452.155470229365, 4408.735974897314, 10601.790450038221, 18475.472410459617, 9068.587577906128, 11604.537030402826, 25543.224094933095, 2245.9013199911533, 10681.65776241474, 10862.527990189945, 17372.46313284069, 20469.45029047147, 21123.58678226609, 8013.0081677622475, 2297.6408472034927, 9214.689943484816, 13795.025495932376, 1876.3686668943265, 22690.332141266597, 2879.1052281895318, 4360.353965124203, 4931.0183275305935, 8732.545586585627, 25328.911401185695, 6160.507846664994, 4497.25406652052, 20552.866180817782, 4103.564700733776, 12653.0375018817, 2075.1543892888585, 7707.66386047977, 1013.2318200869049, 21042.110233493902, 13797.501564395097, 5804.210706720056, 3192.7079910881475, 28370.471493385474, 8922.684711493075, 8067.919389854986, 23901.62872828401, 15741.407261689448, 16689.31354878655, 2294.0901371257823, 19582.57559339398, 11681.89683565911, 31417.305617005215, 9767.44209322357, 47116.281825642545, 25334.765163672746, 27004.332284154596, 6339.679723831316, 11157.888089688437, 12592.518226020056, 19222.593272605707, 1616.2763283864042, 6157.070680575649, 6707.321596702161, 10576.232187443915, 638.8884901112469, 7543.726548000854, 14148.673030056118, 8309.367311080023, 30793.626848596483, 3745.210642385202, 27833.23070182967, 1610.4049641338315, 955.4932846690208, 301.93856023810076, 19624.563767225, 17182.749637110188, 18137.442003976572, 3496.283414890935, 24432.39853797984, 21352.807339305728, 26691.282997976778, 2530.900841986164, 12178.515261497414, 12856.877486020036, 26351.370802900718, 13790.543334141348, 3823.6687244110108, 18402.139009444807, 4018.9119389685584, 12868.108597189053, 7257.606230849844, 5021.617419705173, 32098.12434547414, 5226.089937005749, 12856.877486020043, 25584.19065516948, 502.77774237278936, 10610.404827069779, 28125.56628888625, 295.5158809948298, 5837.601483996925, 9519.998186780722, 4538.099707824578, 18182.668945859514, 14229.6043298804, 423.5550146357782, 11430.96071659162, 5495.591294282705, 14126.938946110036, 3541.045275918619, 5178.568675485178, 15680.904939878848, 951.9707227366198, 2252.566887539142, 32954.042160637386, 17882.00504896682, 464.0433798993254, 10334.146941062238, 18611.883899479464, 7211.601693209384, 43359.24290051033, 5613.619267928596, 7553.026066939179, 11763.68487016327, 15794.213353265528, 820.157319453836, 436.70816562802065, 6845.283245266757, 20755.986192104236, 576.58424295855, 41572.99332520127, 5329.6528627465195, 13374.169672184977, 16604.232461030522, 9011.284086486194, 3274.3187533542987, 4864.701066766869, 3914.412337285623, 16930.234961422837, 22615.70834506315, 8982.753890924825, 6537.534223130671, 6644.0187529794675, 8819.39461767967, 10763.31641963391, 2483.8634301096718, 8335.471771953577, 23730.72280647737, 5343.740784127793, 6755.02490394441, 1640.4419873962906, 13428.804839031072, 12856.8230317153, 12008.525477187704, 15777.649279318819, 23084.81059487369, 13684.845774356472, 10856.648920424195, 13594.315091830133, 4432.037514203585, 4048.7508463370577, 1109.3375775308923, 190.21999388318727, 18347.35435807405, 11449.994785199808, 5994.247098627919, 2745.2410322006435, 10531.957932069236, 5040.977188500834, 5334.182630073243, 10277.108458834213, 1000.3243653247046, 6331.202566243661, 5824.588553726968, 5928.286325609653, 1833.8973846037188, 28154.929964698993, 3314.894201496718, 29885.029545630714, 15223.706265652643, 6562.10534684487, 22713.077233362143, 15727.396416535572, 4604.071697827298, 20842.04322925297, 15384.783170187162, 4999.106479319289, 17261.316250067914, 4445.013318250851, 5425.162839336499, 9185.760309360856, 30568.096205033064, 22476.436948534483, 11179.559075159017, 5397.416868808265, 9179.921004009095, 15434.675207861896, 44682.23289916018, 22976.243490204717, 1552.7043127073994, 12681.898141334568, 1612.0456844287837, 342.50720338450265, 15172.035567466224, 22501.09936277449, 3200.358876120503, 17750.391042259675, 7624.931452962126, 23917.426963745587, 17919.05472371364, 14562.460540354034, 5413.150712773648, 9865.421711030736, 2879.087357788376, 8115.2318179419235, 222.9923931729063, 8664.28271659909, 22375.63362058215, 627.6951163413905, 4703.732557341325, 18672.97440289542, 26117.91285509686, 17821.676777975867, 4766.040154909231, 26530.193783353618, 11779.14261022582, 36081.44598727547, 4698.893821166766, 1411.5058024941718, 14418.373117326064, 7619.435338168823, 5746.382615889499, 24941.761047082786, 10836.160292536173, 4430.8234051101135, 4245.1663099878315, 5436.405959600037, 17983.479927851564, 13095.65176671707, 27588.91827808373, 332.93935758634325, 16626.66174072634, 15163.934857578897, 28202.24852862758, 11070.008722829658, 7194.018305665282, 5857.670565463828, 1159.8795105572208, 8399.983151556185, 20661.512449989146, 21941.372327158795, 15105.766653152172, 14526.897483082994, 5230.004553426617, 30108.746976794333, 3232.500906966994, 20525.946723821035, 1904.070005099351, 967.4760565329052, 16660.222011125927, 14695.20885218996, 23649.690952038327, 8896.368662671379, 14229.604329880389, 14971.711285161815, 2536.4625419017866, 348.4678058278514, 11930.805329567629, 3420.511571741008, 24346.449312176803, 18172.286086477463, 12738.391630162729, 15906.481659316614, 13852.980692539844, 2879.0058046669255, 18097.014451972325, 20239.53383303635, 16942.81175551359, 5881.68602685408, 17854.418434415362, 31981.575763405977, 470.12379817747205, 9189.829474995448, 10609.549370941262, 18728.504910584164, 14510.012224571474, 3549.3630632736968, 2100.6576422135913, 518.255457948675, 3618.0574480778705, 2813.49143712574, 7762.088596351947, 30338.453449016477, 7295.959941083889, 5074.56706128981, 13088.85362651569, 11960.878753865654, 9140.961572230524, 352.38763184746495, 3764.973810608273, 4437.547055699448, 39375.6312123258, 413.17836821878154, 21837.610385255346, 24215.54582644127, 16978.791638086357, 14204.263308122907, 3002.262365682269, 4068.192363002916, 19320.165761847056, 8195.377371199658, 24561.999397245898, 14072.796844749224, 10556.513391470755, 10840.45787659641, 52832.942139757026, 2797.268857488889, 7382.337552702862, 3401.2631905019844, 2184.5298491038884, 19227.847196687377, 40995.62429736513, 3024.5754618787214, 7238.320732422177, 10318.22250534295, 19191.125937646175, 677.5643029058883, 7570.586320270515, 469.3868799179836, 22613.859571115827, 1189.949350852141, 29871.67010932115, 16655.01066190076, 5932.582078754964, 2233.8400670797564, 6766.62121290229, 7375.524990971753, 36030.13117352009, 3737.7659152628257, 13203.117416397065, 15955.36926557502, 14008.557732085053, 19317.293817377307, 6673.920098403614, 10290.759059911521, 1513.0268895259433, 26599.1551923227, 1512.9106557188206, 16553.431928211714, 19323.13219892548, 14899.970435588351, 2793.323063827742, 8071.805182104727, 246.03108731667453, 3420.5115717410154, 11141.071177386988, 9245.505098475525, 5608.3475717140245, 28580.828585499832, 5871.616584655712, 8168.013460122642, 15153.173019401893, 15481.06578909219, 13345.293975128443, 2745.8313763537117, 4847.039219969629, 1080.0620810647997, 21131.282924869127, 904.8613345740014, 25045.078601513043, 16671.11888738857, 30131.6515402237, 13720.836734107084, 528.623553514979, 20334.79995919949, 5078.860507818994, 16596.34498710873, 27491.900700120583, 14171.831884374922, 21154.285996114704, 9053.959829332172, 21362.529887776487, 15847.635908987599, 13218.547988833452, 12376.966437001658, 29848.382541346477, 7452.155470229351, 28.644045444794756, 8151.408342212711, 16064.078006615448, 6244.930541687023, 69.90697895434641, 17261.316250067925, 41457.96951236826, 11125.495766283191, 5391.85590729992, 9314.750696751085, 5790.888544736783, 12966.812716210567, 24319.196950612044, 7643.66107942845, 23357.516927704615, 2481.11485065498, 278.381576823027, 7173.650045170907, 15542.902660592466, 8498.08778084132, 13163.83198393316, 21898.270744438458, 5332.731372042188, 28207.268301163607, 2539.655372888101, 9.398863347887527, 5705.324365430239, 21992.274666070345, 30426.288384911553, 10208.611602598066, 17237.263303445012, 18753.703600022545, 16402.08147250706, 49643.8086325429, 5177.943104735095, 5800.3790420941295, 1850.330640353277, 2280.4410271353554, 28632.830248042752, 13666.549746477627, 18108.447384487583, 17096.364888970922, 5171.870560324256, 5583.869540936019, 13827.12414064986, 9394.897094867043, 8436.491342467169, 18425.418767946157, 12651.864680098151, 9855.228748258822, 7106.8650571137805, 7506.219736597235, 6009.6571612154585, 5014.277230185071, 10554.007138641387, 3189.929683240469, 6171.698249741545, 3486.703534182554, 10797.698496842928, 8559.07660439713, 43224.90123406591, 13245.511040544516, 3239.3565943383946, 2097.4732498419435, 8892.902972089818, 17750.39104225968, 9801.093211697917, 5672.298693081953, 11885.989809224106, 35414.35968404744, 25425.097281671216, 10653.28330460257, 5198.421060221572, 6330.368424994875, 13031.163130610454, 7575.048525860366, 7160.181873230606, 9411.786557715252, 18362.410777323377, 28745.85189416873, 6655.849027882621, 10408.705745950196, 14381.888001762763, 4980.469812451283, 5173.423475537202, 18845.132076511196, 1585.2279205022496, 25113.372367112144, 15130.878147748364, 22749.78480743974, 5589.474211786292, 11094.396141691723, 3410.351137327376, 3805.0193721438336, 17148.380418014836, 17463.104893505515, 8364.300680497494, 686.4339492847575, 3403.932636280966, 7254.422026069347, 18593.36915026218, 19787.496839340703, 9218.082887467255, 4880.819466569941, 14899.970435588351, 29026.389659676744, 10422.913984452956, 818.1832282632677, 17427.265922444018, 29114.04462587666, 19984.53617562132, 1960.6883316169005, 7138.329011147689, 27058.09823039361, 5987.659898294336, 2826.0597815684414, 45861.81362419064, 18718.224129474736, 15985.139339798454, 1767.3160427080802, 19194.351969014046, 19674.88320458138, 29537.139959507014, 8980.252736298153, 8286.702795002206, 5504.145358440128, 21951.16187794431, 1512.322387393986, 12849.928472394666, 1530.8062503926121, 15848.863355110512, 6481.928527215368, 14252.899580121579, 18174.23454252635, 8940.240097963026, 13884.667205472731, 9577.34387573152, 367.9390241447836, 25973.67016360093, 41517.230412595294, 8107.9849281241, 2542.320982151399, 8803.936501541782, 9685.748651196016, 8160.170277635792, 13033.828651456053, 7726.917780575925, 15315.60825391877, 16151.08182489434, 14217.041448722455, 4285.685173708804, 10889.734627854887, 7696.569158954651, 40821.872471076575, 310.25690344820396, 19132.793677798458, 3793.942449453538, 14202.554911657233, 5742.950605371301, 6753.05757472245, 9347.542755138642, 9800.467834562405, 24197.913543614006, 4851.840686503361, 12596.512900983602, 5113.013968709412, 36081.57537602227, 7448.32012623988, 13436.406200052119, 4500.464364356074, 15294.547833916731, 16188.485503944743, 8218.559437708122, 31374.26441740164, 7636.812708801441, 12499.845002483784, 22964.94545863901, 1326.033285239213, 15647.519631307237, 2381.168602263362, 13709.77589027086, 1667.1982614863919, 4621.537891527925, 4546.841725935974, 4102.551655272728, 653.884310785681, 2285.2873811206446, 6314.771458538424, 8160.1702776358, 9877.289885748207, 17037.62445552795, 10475.81975901853, 12970.206912772548, 6689.98003995559, 2379.160858314186, 3869.878114764615, 27781.69672045602, 1762.8702286539046, 23377.3936130538, 18610.031047571465, 13523.633896423406, 16485.91779055188, 39740.74127104004, 7199.595458569205, 26449.10522519132, 18114.132815122506, 7695.524687664707, 2578.887324425552, 11655.7743467213, 5795.381564571417, 24143.759769853692, 63776.255331237895, 13932.131935670797, 3953.371179513051, 2548.76792275584, 4987.9815783172235, 23156.68133742486, 16723.710324695618, 9513.359995541763, 1949.1556473475357, 3557.885879919777, 5019.665812415646, 16135.667283604442, 9326.285773842763, 13818.57773758658, 15378.453160835314, 11480.31321880519, 4142.679642575949, 16504.489745246243, 12683.846643808465, 14726.37663440474, 17605.236594818885, 3914.1352511472505, 2879.084113922123, 20378.917074338315, 792.0041638230578, 22394.389756189696, 18150.5351551707, 14341.154175704469, 13814.34876141994, 14488.561354551282, 22078.66524528498, 8423.13175255754, 30042.581112953114, 13902.264531884153, 18355.410012773908, 7688.452216083504, 24257.52539646202, 9504.938717986028, 8706.121186629978, 521.4349893329418, 16657.61326778856, 11648.479303590033, 16732.640092300877, 3352.501916867008, 24386.401362774206, 13932.060159642082, 14877.581190570363, 13510.31132021741, 6001.439424191012, 1876.4630350864318, 113369.85595799249, 52804.05822404836, 2516.9702395237946, 14824.655116870686, 7143.2735626000685, 376.53214663277686, 2171.2510856091067, 62146.51696161322, 4073.9018642572773, 10185.106840157896, 35383.44476921886, 24852.25254569645, 31847.406606942546, 16007.792126507804, 7167.29652922901, 7388.821652795283, 16122.62876508004, 45827.72175824703, 16043.713030892712, 25320.969792807537, 2285.4748697671203, 17160.407682660196, 11791.518530675541, 2896.1889485023676, 11791.518530675537, 6388.464481811712, 4670.519191397587, 18447.37157553768, 2883.7842731351157, 1588.453190530301, 4780.845307700747, 12449.392101636422, 30981.86353182414, 12052.436184682523, 14778.081340707766, 20309.45217341339, 1758.1880828149187, 11348.751270884655, 5524.2616225287675, 22335.040642920936, 7583.017225814736, 5807.897833774965, 12197.614624057867, 14267.354128152234, 18252.39953538175, 6694.163945905653, 15582.680190409723, 13343.85544221857, 2251.5986815753095, 297.4179342954376, 18715.33062686697, 8979.36548465256, 15133.86969420136, 3876.8563479353143, 15570.276136282595, 17463.419691669682, 5327.062052432644, 19019.628664653035, 9247.838105674866, 2274.662959446716, 11628.242766773794, 11978.205004290088, 11239.005343318746, 1509.5964221248832, 14526.897483082987, 1013.8594464205926, 9684.194029081325, 16369.577073413391, 384.8003988581804, 17026.703311652935, 3248.2535941687893, 17260.83091243894, 23252.210606691908, 7602.749466965117, 53924.21497612944, 2522.483968365337, 9201.44893559454, 21764.533182357583, 9796.530506777719, 8856.580071457123, 8316.653942063283, 1449.6929271493354, 63010.30444403445, 6075.222984768217, 10461.08943185598, 10253.046952746045, 7111.882572317827, 10436.57482788241, 16074.951466965416, 8938.213460410374, 3853.1419470227993, 4593.340540105426, 4546.869909286419, 52352.65630572551, 17672.11605341726, 11739.711510675534, 6514.832377259023, 7607.65564002582, 8893.774797118276, 4487.756031338402, 1362.6577853425297, 28494.495880023765, 1907.820787536115, 20903.909919435195, 21754.252916006466, 4854.350233448786, 11644.049720162995, 10115.901751719688, 10054.98899665106, 32861.37886808706, 3145.2728547236, 20422.26142970989, 11679.778009008747, 3191.1461608270765, 4149.484742577661, 5812.8585251662225, 12670.271765076854, 12544.03392448385, 12124.688607738226, 14009.868038198416, 12969.865540612427, 1823.6214157683717, 13610.623048478014, 9713.253032737412, 6949.267341461007, 5751.943675062899, 5644.2502818013745, 15943.442784767081, 3180.8217741988483, 11703.199225639426, 40031.00133427113, 27045.876556748604, 18399.219771075786, 19009.518147720286, 24509.731612721185, 3627.8146998934026, 14802.722110014489, 19763.742986956528, 16435.05803037202, 27565.70130067995, 19271.569813728842, 7126.855957579606, 6383.31293938345, 1690.0730092819103, 17037.62445552797, 22749.784807439744, 24460.48366665779, 14852.48981914217, 6862.563364660309, 1024.0236171140677, 4567.068604739732, 3487.379757762679, 29194.82798859876, 11801.384475363284, 5882.818922450322, 5262.8765955656345, 9009.835840332136, 1850.9266773676864, 6170.068134679666, 18332.323796992212, 30981.863531824147, 30365.190092488752, 6441.1707297736575, 6096.2227105638885, 27045.876556748597, 509.56457252352266, 16686.032165114317, 16675.590384449693, 19267.984183352935, 25892.00900526821, 7653.893811058999, 19585.525806444286, 1513.0188576606488, 22277.2527340424, 27894.598340228804, 2755.5645535199474, 21028.8307290048, 5344.077076662921, 9735.190260510666, 2878.7215003156743, 4402.351605139385, 929.9549849218965, 8094.126332785512, 3653.481132401066, 4901.756670566596, 2443.1731274261, 5015.880973887961, 6916.878460670807, 16663.43756025961, 11559.462190874328, 66609.04871361953, 13404.424256042821, 3191.583051991449, 16189.409126987346, 4093.377047082202, 26354.52996418147, 31733.38626188405, 28370.471493385467, 5284.193884889544, 2421.4395829595815, 11117.633081446245, 16499.24978744185, 10058.94806087199, 64208.260723057014, 1824.5621939129633, 7143.2735626000795, 3822.160408922231, 8852.347363043715, 8382.64283199902, 10689.08168385454, 4531.144701513789, 11690.026487050916, 2032.2250016883154, 6349.678637995519, 42529.11454441407, 17279.343578948483, 5246.740870517828, 5257.603385215356, 16114.542350440897, 2171.2510856090994, 15427.275422102051, 297.4179342954376, 8604.464929544734, 3594.1554448786483, 13946.71636763955, 21389.8205999742, 1876.0949763602075, 8722.400860897887, 1224.9081094146823, 6534.5670274453805, 18813.075105492564, 1098.9612256367582, 5255.873113675818, 5016.006592556976, 41286.76281050463, 31649.24001315471, 20615.9482563168, 13313.382526069236, 9216.419777337363, 2497.051011632815, 17045.0634998709, 41848.46831460083, 21529.537846458923, 1396.112250253249, 19585.362340746775, 10959.250792623352, 10509.896363501193, 1110.0531888831792, 24433.844353341927, 11709.06043560314, 11256.359895353678, 13003.03022480235, 9343.733663896695, 12194.386772315265, 563.3812143570722, 3492.8090048203157, 7607.3246416475595, 6056.114060945605, 13257.526202175774, 24701.37309094928, 10304.88276064059, 15953.018024899, 27107.31849613603, 4812.328258392034, 17647.45192427085, 29713.6501810939, 11635.070433650988, 19247.448372402767, 7257.941108075578, 13799.409056228145, 278.24031943331283, 11965.44988585158, 9815.29903794725, 12172.182834214225, 24111.30194088801, 10890.930201336036, 13731.697587384268, 1799.871323344305, 4090.478365259154, 7289.159176580317, 3771.826085982095, 23557.14218166081, 9076.727613939562, 1420.2122768615554, 14925.384484871633, 12758.69094567946, 22333.86908648989, 2340.8575480602885, 22397.187207742147, 4780.845307700751, 4157.821359711543, 11918.587641973172, 13714.551401209439, 72592.61857387584, 2630.623938771554, 3367.2681251885188, 17725.37456370768, 7715.622931637612, 1222.10182381318, 2508.8739189469525, 213.18455402390828, 16930.234961422837, 10336.22470677465, 23944.75343375037, 1440.912064172844, 11252.147790058538, 16033.029279938237, 26738.5823018896, 8838.36913666931, 4771.965369206835, 34866.04314753774, 2238.5055817056527, 2855.905084705835, 5922.208807672985, 29194.827988598783, 18154.169060940596, 22541.29229918863, 14134.92370180435, 18665.262968575877, 10545.168201788456, 4493.249620817693, 1306.0969880796147, 3058.2399919125273, 13884.66720547272, 4864.968219366729, 16299.860407192267, 34288.67872083612, 1591.3077031041394, 621.6400044405746, 18163.287133497837, 18795.205812848548, 9651.944419375272, 15844.673608620884, 2263.672795788101, 8489.944355177391, 15398.067447362162, 6809.169654246856, 14888.016191197992, 47600.32126707658, 15379.058450792887, 20384.018511990485, 4012.19224368926, 2484.418019062876, 26.269524077164533, 25649.115591895858, 4159.154946594168, 12102.118522425393, 6593.974312302405, 2288.622120739554, 35923.598685366844, 361.0913420108591, 1894.3823577069925, 6165.507851318405, 9679.494902072569, 14828.593562985065, 10312.160765820554, 2542.454151430564, 7839.213094822015, 24332.813601441456, 4366.091776106081, 2337.580546714733, 1519.9433967055847, 1481.1000541063986, 10214.31540396747, 11476.388493433835, 4462.5031004056655, 9602.54902073304, 10914.657116311166, 22989.242495420185, 25142.817020604405, 17971.45381952048, 8825.465135269238, 2174.3060305084728, 18743.045780832093, 9468.067884922195, 352.59506531066654, 755.7107442390297, 6523.499210391197, 769.9023966208842, 5803.597313048333, 8009.212945457733, 15961.374798339235, 10695.896938620259, 6325.485472053308, 15983.324091547067, 11890.676118789539, 1907.1614513899804, 6516.802883468616, 13765.80864504139, 16385.191682548797, 14189.355501294758, 1888.312139871974, 26112.047196770895, 22928.06977814609, 12169.59266186352, 9301.658075955296, 19215.66717509106, 7573.407852403143, 8905.5748115705, 9783.137656589508, 2517.849297327295, 5706.652861597173, 9593.25329157057, 8711.590124889135, 16024.697177918119, 18971.459940992412, 16663.437560259586, 28548.741499715532, 5476.219196286853, 17876.517113142134, 99583.9277260019, 12381.712447010515, 1785.3562945120684, 1206.3789819445446, 6574.0439651896595, 22673.110890028052, 6325.485472053304, 17160.407682660207, 5672.298693081961, 15461.008761617566, 14987.921420284601, 3352.5019168670187, 1338.9195203148374, 8387.073110556692, 17716.550170081908, 4848.273206422498, 17405.853978967436, 4764.410078724075, 26051.382183596637, 2537.360078969912, 5633.580214131722, 13697.975262554373, 8865.47011026799, 548.9650177141739, 4031.501587298364, 7835.25344682021, 5411.760198923737, 9183.23713593149, 3999.9540030800235, 29646.521706407526, 26641.798289112554, 10267.41786664401, 9835.811132635445, 1593.490628150441, 43341.25367547013, 25895.577832015493, 101563.93456024147, 14196.157851855536, 9767.470262411567, 15214.039455772989, 361.6730944156261, 15404.03657273109, 10313.657313480846, 38074.678453081455, 22721.98127958065, 1084.9651449674493, 21188.14457140953, 23369.88536750151, 14502.652436815828, 7793.515271591499, 11549.039242939372, 66.49339168619917, 4232.166172411635, 5042.99605279004, 33479.857039075745, 13248.625402131394, 11963.184948049424, 20753.051399785585, 15884.512427782174, 8810.926033619966, 6347.302974158956, 23607.329018025503, 1080.1483011894888, 3548.322335758836, 3356.4225817800107, 10885.165868060907, 8400.737335420912, 2547.9375965870313, 1191.3785281148448, 13692.6131779987, 10993.499791103342, 27408.171444776945, 4388.880704822877, 9230.52049701503, 10354.041470466764, 509.7715300728778, 25670.048775082934, 10653.28330460257, 7164.805402631533, 13372.059080307481, 20798.859154990336, 32171.351227473977, 7257.606230849866, 27769.376411275494, 40426.82964675021, 5172.2072859069995, 18985.977648487544, 16651.62469934056, 1130.7864956053672, 52194.6040917414, 1799.4638756686836, 27635.040715614232, 6969.164157285006, 5228.740843778167, 1710.761810108328, 23539.88619671687, 20108.64266069321, 19017.743497871626, 2294.8150629904485, 57.55392698915966, 4149.535154270143, 20483.68023365894, 14395.356333087166, 835.2170207206145, 17132.951255401964, 17025.673098541396, 7350.942429934796, 27703.38311949248, 152.3341491502797, 2091.4953917612, 8291.029562087922, 29751.330660007527, 2058.1593057613172, 26532.37843268091, 7142.620374878963, 1659.0895994852035, 17561.26960023122, 3792.025724833351, 6171.69824974153, 23870.868427973684, 4294.573329483152, 2966.679217479221, 21738.244259955434, 35660.04904622235, 17948.067155340657, 30316.752393353116, 14894.380177903207, 40990.6650168037, 3177.941311630566, 11289.064302162697, 6081.103258364816, 804.6344431758007, 5757.305881839067, 11480.313218805182, 17887.775737016324, 21579.782055110307, 4083.0840471780903, 7982.296336829204, 108714.4785048056, 14168.96393201359, 15476.171200961136, 8802.518674578092, 5105.79012549945, 2154.6654864633347, 14970.393129021515, 21355.667176523166, 10798.826725178616, 14828.755832828283, 26863.48241782128, 19742.74812025492, 2243.9797135992994, 665.5248633340598, 15303.85359011139, 15915.593917188162, 10196.200989075223, 140.55056105757103, 17376.53985603545, 13397.099352427074, 7456.486934254997, 120.64866012142738, 8961.285762135725, 6998.463145053109, 15189.28644591292, 30779.606498867804, 6655.849027882625, 36544.23516541996, 11223.176591444208, 15191.023217172835, 6519.251335293338, 33007.15353626386, 16675.48733169245, 805.3229029550712, 32396.169102531814, 12653.046428248737, 19088.85458323364, 17852.490818846345, 3538.923269715142, 1980.9120265906386, 38011.240856608805, 6097.643237591983, 7636.56430331746, 4332.801391275367, 7687.3785993573765, 33202.45321346902, 7215.129903301222, 18633.72088833053, 6829.435649613162, 32056.47678618939, 3887.582404619672, 24257.525396462017, 7257.606230849851, 3410.3444299435578, 1906.4209614909742, 15264.841044886467, 16028.057101597078, 4338.1127583211055, 15983.324091547081, 67410.39422438445, 1607.69937713744, 1907.0408755297249, 22687.27680748894, 11648.479303590022, 16412.290462813744, 12928.067350116333, 8009.923640153014, 12686.592693755687, 68468.94701730786, 1015.6378992746359, 3755.0406072874175, 6234.116762632169, 1147.9768400731846, 4153.238789332965, 16385.191682548804, 11210.330382202665, 5664.678335583252, 12423.708085568363, 16797.76324392924, 120359.34012994569, 11906.099124230273, 3415.7913445994345, 6352.814901205074, 18116.579603293652, 12496.619713663626, 7602.315154081116, 12477.401059513562, 11648.479303590018, 5255.477959322969, 4298.140457852289, 3304.5248496462737, 5384.057306929757, 9318.935167879252, 16217.099664220892, 10442.321417433617, 11398.614889948545, 5123.410197950732, 9644.944721210064, 24619.770956040265, 20266.616273358464, 17919.054723713627, 1142.5089632975432, 5545.06056560756, 24420.860397250643, 4547.444036347264, 21899.43813364942, 3189.929683240476, 6320.9798309186845, 12859.747901806568, 20471.839099172554, 6919.749075176489, 12298.560821653147, 30786.440302596267, 1110.9154471809525, 3174.474779144515, 4245.166309987828, 2254.4394917743775, 16895.678601474872, 10292.043298253218, 27705.32621664401, 5092.683199746498, 1780.03357016074, 5807.897833774983, 15172.035567466235, 1608.0997198163896, 15475.5103333162, 6815.7240958799375, 27367.22030648507, 9611.447405097904, 22078.665245284978, 24818.83224769171, 22884.17441084468, 201.6444176542791, 3063.7289830532027, 22339.63773262579, 19889.00288921077, 16162.820631838982, 4082.51242363856, 9480.122001464264, 9204.373089001023, 502.80948716994317, 7927.571000761316, 27408.17144477695, 11017.369036296288, 21458.656868252405, 285.2141367383556, 6874.280102268473, 4334.094998473789, 11900.065136719328, 2923.4462773385603, 4729.195261250072, 7977.308326679646, 2713.092867095045, 3914.41233728563, 1141.3524336540613, 19688.353965052604, 812.8519708134736, 2232.929521179405, 9691.51216020286, 14982.07887395233, 3712.2534061682345, 21362.529887776487, 9913.536389233785, 17463.10489350552, 22687.5927904716, 1600.6787193485397, 22771.412017409, 28470.36624962514, 4231.931026130111, 1401.0992815825084, 2416.8794570397913, 7600.742769594159, 5083.82961385437, 17403.81006550061, 4441.306694770108, 257.56379226602803, 3352.501916867026, 21606.783557295654, 19730.042585942712, 12580.187443942814, 16141.539239930826, 3271.641988685038, 17690.98042344347, 4072.7852527044997, 8182.9497874809895, 14265.307646784815, 15287.870372928315, 17750.391042259667, 12964.900104230783, 25582.765274547637, 20109.830748069413, 19763.521224611315, 2287.118039799534, 15156.977191949012, 15646.844790280353, 7906.382223002711, 20271.725542325592, 35425.38052232928, 21394.040819928596, 4694.769295153514, 14935.652316901393, 18358.484965961445, 41457.96951236826, 5051.797951329325, 5800.379042094122, 16706.407111719585, 13554.228358064509, 12160.340778996753, 3767.044496194554, 18084.054249433524, 10064.01943594935, 16428.989676661768, 24150.522596928247, 10216.792650363532, 13881.491032003945, 3399.589351850387, 17264.650947356262, 6388.4644818117085, 10734.241613686841, 15273.47405406509, 27045.87655674861, 17978.937391186737, 1810.8586374375373, 26003.276468054126, 996.2593575809697, 31343.63735924584, 11460.031848224819, 25688.94760443049, 52463.86190970309, 10677.440942468493, 8529.916800151608, 28542.71096836039, 965.0630269074318, 2416.879457039806, 10276.653227549305, 5912.7645254298695, 3657.846613563379, 1869.590602349257, 11131.9250764692, 6296.862504689841, 23615.899154452338, 27073.833935567676, 17917.89394360331, 2878.914597660987, 12934.683957998299, 11626.419007630211, 23867.646772605178, 4104.073674878138, 30243.037505505, 2911.939594633004, 3891.4149656724876, 6854.2363611434375, 9507.855397711734, 6997.576424090439, 54756.04168172815, 26445.852169455084, 4785.265343304651, 9954.651161643997, 23891.348685454286, 14193.77334399932, 11500.679367631594, 7269.953975598215, 11980.732468043643, 332.31717461922017, 18252.683240165108, 6990.757904506587, 18356.168133980642, 54756.04168172815, 11536.534881032207, 37898.379442845864, 12179.364668597234, 11769.52224823851, 3773.402619668668, 12832.395939211005, 13879.719806154295, 6487.618334461411, 2085.240493940106, 10654.628139825785, 13755.611580273773, 17732.516587969625, 16548.265890081693, 6774.484142854395, 1608.1825406517455, 4774.534920874703, 8439.798395727645, 6654.199858044623, 21570.29173235534, 5738.201121690887, 24276.17647411379, 1337.7028840285857, 15680.42887183352, 35100.77461135105, 21185.10539395836, 2633.9372153314107, 23695.79921115814, 30205.800653471684, 29848.382541346487, 11458.862979506528, 2686.307112361148, 28992.44499004587, 18582.075636480484, 23881.31411704891, 26547.528930090604, 2083.646376265966, 3474.833876389781, 4887.201596616782, 519.0021724582548, 11702.895285005943, 11608.083455761796, 4354.174342086488, 530.5139322531832, 4432.602120326803, 1173.2473382880999, 10169.549192035825, 17797.388152361073, 8752.596462690923, 13534.55883841003, 16291.000614590677, 11413.682437256502, 17276.46183517536, 20798.85915499033, 2095.1571206037515, 10162.821778772708, 22141.450451873046, 22294.703867085394, 9306.76654194267, 1077.398170315395, 82799.85330772595, 3408.980593658718, 24978.5228023356, 12435.995217122632, 14537.967481872038, 14832.438789784537, 11539.138378680014, 26691.282997976756, 3833.238035893344, 11362.940620844263, 26051.38218359664, 3958.563036296713, 7448.017567570387, 5065.0777028423545, 14765.802855724305, 2315.996146196303, 11353.649306071096, 4279.933802655916, 11466.24288735299, 16397.85488546147, 18368.015666524418, 8369.82623860623, 16215.056911245178, 13345.29397512845, 4274.179831870286, 5014.372835876467, 1449.17564130561, 15100.65363270577, 5379.069249970737, 1177.4476514778726, 14914.946586765898, 2233.4670466002935, 4566.816030194379, 1997.632239299077, 14062.864305680341, 1783.046771660749, 34266.08831247464, 3135.332928959884, 13518.471991094288, 7726.917780575946, 6102.769355073095, 7998.122232070593, 21997.1896346012, 16447.213103402373, 5668.939057624222, 12580.359868127482, 18290.093291970257, 18680.212186175697, 14197.286587676419, 7257.6062308498695, 2237.3410334584987, 2241.908704500969, 4705.617062259276, 15218.065824250662, 2515.120249545129, 9448.678152480621, 1205.7663667646048, 5105.96432381072, 11105.374514659536, 13437.838021036172, 32318.116439612117, 28154.929964699004, 5618.933580843604, 132107.4038686772, 15055.51761874507, 20759.61751847247, 2119.30885350865, 19114.793568763023, 533.9315015139146, 18994.74012804358, 297.4179342954376, 7315.922652697289, 2722.5196457000857, 8165.518330832638, 20693.829378771556, 25255.033752882806, 10353.020574140439, 2183.2873438001407, 165.68913550955767, 7896.938416927565, 26113.6796616956, 21183.10792023978, 7411.03875211993, 10420.458619579094, 29629.23882580903, 1077.8229718748007, 21778.33961402331, 30338.453449016466, 17264.650947356247, 3771.5539669987993, 15110.837777855388, 10436.57482788241, 9217.33855883907, 9652.548657280444, 6459.015596229463, 10068.742030336805, 1202.9929093675019, 7841.427765344895, 30.16555610398791, 11039.09725424035, 10653.283304602563, 3662.3629419597964, 22804.719271182432, 14093.356265909562, 3647.4419224443955, 8579.83080113326, 15097.085509627177, 4878.882653653964, 10004.68505594365, 1181.451839978712, 25243.28357542266, 10558.538322937442, 4245.166309987824, 210.16941665319973, 11931.533793919363, 26064.826300791407, 18776.918559822545, 5002.186814138833, 2313.402094192472, 9913.890480788192, 2553.757031311896, 20248.31028661957, 6170.270466794489, 3366.4868770938956, 13982.63629888319, 14189.355501294762, 5663.212835029855, 14099.398041706809, 3093.9283924454685, 2153.5490759578825, 13374.16967218498, 8526.126848640197, 16374.196325387864, 120.64866012141283, 10488.52128729882, 714.0708614452997, 30886.33936112682, 7255.606274633879, 18787.98073425763, 13016.404313040868, 1908.1498331788753, 8536.288391352758, 18.444581360607117, 3115.9899438794528, 22587.339946783613, 17264.65094735626, 12516.967627794991, 67599.84351277369, 15706.984710388278, 3010.109120659705, 24386.401362774217, 5116.148807169506, 4780.845307700765, 2972.858046983929, 6147.189496376577, 14973.575513385513, 14346.896630991534, 14274.601342405149, 6684.339585000194, 4245.302398501073, 15014.59175816613, 718.3119344341758, 10672.169662063665, 20624.79883386133, 10266.223460476082, 702.8781708866882, 3042.444610069091, 8266.096233564771, 1596.0760879893423, 5642.897825376855, 15370.961791416732, 539.0386565806148, 13431.312332723075, 9629.312902700698, 13184.409412381909, 2879.4648507263737, 9420.780698791998, 15553.474098727529, 1229.7600053621281, 1491.795784556627, 10076.5568401438, 708.4650136537894, 2902.894825087562, 7683.050880120911, 6388.464481811705, 3864.5568284127403, 10920.011719491114, 2364.9655204326846, 10712.818982375054, 23084.81059487367, 11769.215869025804, 4813.647925646765, 12966.812716210567, 15828.187941177977, 8159.203336933191, 6093.08470529347, 39460.08824865052, 23683.888630611546, 23765.66437214766, 26603.87597756476, 31681.478534925052, 7328.355637350884, 9993.70282518768, 22387.676172926138, 15130.878147748375, 6653.728630956211, 4213.27189324077, 11156.711671190296, 22056.467503242795, 47869.98001580304, 33098.756865987845, 12187.034357319571, 13096.522582827769, 27834.72038987558, 3284.287610110263, 28521.153309945577, 2802.223355541879, 25328.856678347882, 12599.90915746786, 13657.849410534123, 7141.360266028991, 2454.6507730729463, 8309.094097193825, 17690.40420932975, 1676.8239820659583, 10376.222536106776, 9783.137656589508, 815.5096452341713, 2095.6924896438504, 16229.122826815175, 39915.89429568255, 9152.093083150223, 1767.6500881949469, 6708.939871678915, 14549.403883569452, 14947.33343888702, 1907.6976281462776, 14390.800465310778, 12966.81271621056, 14762.510570907332, 16200.087040097475, 12350.922638879547, 15631.348350595745, 34434.820032075426, 1485.8591023999215, 9466.242585249387, 700.5917369268464, 10048.243821554974, 4338.727635148214, 1659.6030532428485, 7676.548192681854, 14877.581190570352, 1974.7249242584585, 7030.370225227962, 17006.707007328525, 13.780236889549997, 16813.220665631176, 10910.910297025064, 13995.579387676542, 2041.6048717454432, 6052.354285282265, 16392.28559270878, 9540.483966328255, 23084.81059487366, 23402.5169951052, 6361.294738645629, 15223.39898441533, 18638.120709194103, 15929.619313988485, 12715.295615960811, 5443.074046848727, 29127.878785111334, 7312.641386094718, 30239.407505630566, 10367.179914745975, 7506.219736597228, 8146.961913305902, 3430.1124081395246, 5430.6276271750285, 8837.274075209916, 2688.9190484203464, 7939.753469846313, 19290.598248983097, 13595.877321333945, 25728.575872912712, 9048.10682116296, 4775.840698326003, 7602.749466965131, 7704.4854654777155, 13830.220905915343, 14382.31981368387, 11277.71203636699, 17384.4586788503, 14619.174067809243, 5090.328408487061, 27873.262196910648, 22397.665100102604, 1539.277978035192, 15116.42376122377, 10477.549849543182, 4096.026610026951, 3768.0448257652424, 11254.611983498547, 25706.959183372303, 26691.282997976756, 13747.43114423042, 21413.535809401084, 2601.642399238717, 9093.734542501275, 5089.037007214611, 8565.930939491664, 17333.46281300331, 16953.988335484883, 50672.34079774886, 18172.28608647745, 8901.154996371271, 14871.888164109321, 12174.375330869534, 18920.773720536985, 6962.3355747303685, 17776.145811544986, 21381.42363590787, 9675.066276652746, 5943.4389028093865, 44304.09111533986, 41457.969512368276, 24620.704376856353, 21522.001769632, 37082.1720872434, 25719.850052313654, 22361.086075729956, 10577.631379743973, 36934.19399830606, 10255.42008780246, 42448.135179823, 2808.2171114968805, 4780.845307700751, 6273.169965267822, 10149.63006714443, 7208.923565546673, 3605.117083971396, 35117.93477222864, 11685.824884298356, 7861.3042897454325, 4395.391268489584, 18848.919197612915, 6694.994190652222, 1972.3478363709692, 8482.592710707446, 8003.2339731460015, 5309.433719929111, 18638.120709194092, 3512.0417099857586, 25762.954412857325, 32097.57858195378, 5476.219196286842, 31744.20578059515, 4738.836987258666, 87597.24966487505, 2454.4842550979156, 13813.15898756425, 12975.345167399391, 8936.482864567613, 6812.988873519505, 10973.179787580477, 1450.3954752208192, 75826.04975118952, 10273.77803571587, 6671.574572199246, 7687.185374048939, 3513.2939531590127, 2451.111583552716, 6305.244592228562, 4933.931862569982, 9160.86992818685, 549.6640066038199, 231.59459364343638, 5541.574121910326, 8266.094119249141, 13248.625402131376, 20007.304986468953, 37502.70063205027, 11859.942555437312, 1592.5797936294293, 7871.111502828848, 25850.57435023856, 33202.57856292037, 7000.508203860849, 30444.18720651195, 7844.150072937155, 10017.637043770337, 23000.49259822842, 11175.580124217064, 1880.039445384904, 19740.996977311468, 309.40528164392526, 26982.665726914423, 3768.7208977524315, 3987.753462238117, 17568.847380740153, 23520.778821383647, 6182.309949215367, 10028.386425645629, 14034.89871847791, 8015.081768804015, 14637.8093125345, 2747.6882572501927, 3177.187045405888, 7178.502385767184, 4598.880514170531, 13373.361174767062, 4346.544317632382, 73466.20000897214, 5572.4133474185655, 5222.546821312892, 97.72985752558816, 6990.75790450659, 9245.505098475522, 2222.523988210527, 32095.53997104645, 14832.007516816946, 3949.4306955850916, 3823.6687244110108, 339.0642447209466, 16663.4375602596, 14426.509563606553, 761.779083277117, 30180.019225575634, 31567.88361806533, 6303.460988408031, 16575.899413216284, 40604.88454016359, 14930.027876540073, 10871.479099218366, 1373.6571686277712, 25497.126068062527, 4164.47252359119, 9684.825997585023, 23911.359687363758, 1007.4201399609883, 2023.536026354228, 7088.2458004308355, 24362.810740555542, 5151.856786289154, 21413.535809401095, 359.8880142815542, 10885.165868060907, 4713.748772448409, 3189.9296832404725, 11283.694536470026, 1411.616904678871, 64821.11811051508, 2670.489460682529, 14138.856281444081, 1321.3320179262664, 5083.829613854374, 12199.615503678342, 7022.472031385816, 14270.427386106694, 12421.915264826981, 5821.351948839445, 16518.070277530336, 19220.833148313497, 2072.5983930670955, 3489.333225787581, 8204.560674597913, 8044.160353202835, 14608.70621269476, 24420.371930143876, 20939.084027636494, 4860.323781357591, 10250.532879251627, 4288.8461272878085, 16415.995845121426, 14189.355501294758, 13884.667205472706, 7178.044996174711, 3998.7255943486016, 8711.590124889146, 17977.310970986087, 13389.017126069015, 8960.557528486868, 10497.853915368822, 6670.625855296861, 768.7347251874089, 22749.784807439726, 1722.6557797795867, 18787.98073425763, 42039.16364573564, 1983.830414017426, 31004.13740993158, 10836.26053481832, 23647.196046528596, 8146.961913305895, 24808.024759236312, 7332.051911128725, 4570.89010496351, 11500.857786200948, 15112.38966037237, 23084.81059487367, 4794.046981567342, 15146.230058159843, 19273.417697284385, 36248.99335985685, 18384.87589877578, 23744.473140763614, 21458.65686825241, 59241.27962810913, 8778.662441889282, 13332.788814875606, 23084.810594873677, 21907.210377758864, 4724.313682572923, 18906.174839656527, 11530.729130856253, 3313.9403093438377, 1440.2648634081306, 16395.872235100458, 14884.30626781844, 14569.363934882509, 2350.773391455925, 15988.589351164857, 23901.628728283984, 6080.310439052111, 6046.651718219429, 14463.429585312319, 8711.590124889124, 25373.967078698166, 17778.980517829877, 2715.2321179291393, 8422.464318349019, 11697.663866379044, 101.53045351337278, 1608.773668761838, 4793.226900911286, 31878.39626639672, 22973.706927123058, 23868.330479955956, 5386.19960542622, 2568.841606758906, 8772.55980117985, 14948.462626876055, 27507.523959360482, 10961.97033922555, 8765.386173301376, 7240.882943400524, 6772.078718802011, 17384.458678850293, 10757.068615136763, 15571.110920013114, 18404.294734039548, 9607.435634658745, 19602.861562978134, 3576.2047684319696, 15407.220143327464, 2460.1902245088204, 546.9383188982101, 10223.614302894759, 27098.211306285062, 9382.782852948909, 22721.981279580643, 4447.985582581208, 2266.225486934076, 27945.786269873624, 3200.8624272199886, 5910.04963007263, 3393.6486724001225, 14526.897483082987, 25078.91342579445, 18192.064899326095, 18285.55202935819, 27888.355640891506, 3843.9916882787, 9489.481226493313, 17797.967731256256, 13278.527786751212, 66269.718131893, 11924.519787877929, 31819.195846075272, 8772.559801179861, 1139.5690897244567, 18425.860692189817, 10107.693312154744, 102693.63655295773, 11841.948591557251, 18762.100823349254, 16074.273496928265, 18778.348634177924, 7660.317759647907, 725.1367489894837, 19280.354252883677, 199.16231741575757, 24287.30862024765, 15109.279004546719, 4320.131099935032, 8711.590124889139, 14403.52725089889, 5413.117241698834, 14588.916309104417, 14838.79049499704, 6699.749662436385, 13829.245914223698, 26707.293382524935, 11942.273518839978, 8439.553998500476, 4640.952092388456, 16388.470512268148, 14338.000288892043, 42501.22521536858, 8759.69280677173, 12378.362310576667, 20752.592877657742, 7257.606230849851, 2937.8588821694866, 30186.603961140023, 18594.54937435466, 7532.508470357079, 16516.847921298184, 3420.5115717410335, 9550.676629231042, 13393.903123070573, 14806.623269594344, 21955.02415712678, 20418.693857735285, 7443.238917254377, 66308.30876601962, 1878.1973123837997, 18099.365558836882, 18345.538888990664, 9783.137656589515, 21511.937718376772, 8146.961913305895, 4802.926563771216, 7951.900196949358, 6198.795306600012, 5455.131996229411, 16337.976992734013, 3990.8946727721705, 8909.0770837589, 841372.15682998, 5047.851060936646, 30443.371982642966, 23901.628728284028, 8765.198167397863, 17204.314268128663, 2041.661014166224, 16079.284739612009, 1741.3543291217575, 16774.690614107887, 611.9899229090224, 7711.580066031049, 9226.440962631335, 2469.671394397559, 3823.6687244110035, 25.648015245355055, 1765.5748595668774, 38764.19417096116, 31267.584165912253, 7580.842682493407, 66568.5612768273, 8621.322385119172, 36492.21284781744, 1491.3148751874396, 10426.411522984537, 5737.414887726212, 1483.2989686345536, 6123.450090710747, 33013.98398949866, 16067.519268921576, 17002.12824550891, 1762.0301888055255, 69612.87052329449, 15765.669937688814, 1982.8899999988826, 1017.9130779502593, 10568.976105931044, 2067.2499611821986, 3524.3618227408515, 4408.735974897321, 11701.742724454489, 43288.83237820662, 1820.8628677644228, 16621.175059209803, 3521.7608450206317, 5632.301787590532, 10921.50668217568, 63276.3304103927, 6647.638874178716, 6067.425661952271, 23456.999314632885, 5686.622651348862, 5715.384506584833, 27323.76137876141, 28635.751690694626, 17296.50509732699, 4501.195214095453, 8882.909683000322, 27689.084287842714, 26112.287348727597, 29026.800311656894, 9145.883240352468, 13529.238498710947, 12633.039482728462, 2553.526111108673, 27507.523959360486, 4764.120963562527, 8646.892121607023, 9389.767315987163, 6184.645761054671, 22339.637732625786, 1681.5439815935097, 42163.589340440725, 12101.58641759603, 215.9371011471012, 3898.9891667601514, 7157.859663212777, 9914.48369222277, 17755.471392754596, 17777.009865318836, 4373.122224668885, 40380.4440152268, 43239.590768203256, 23911.359687363754, 5449.260874231812, 19317.29381737731, 11020.47887703311, 10461.089431855999, 237.67659491112136, 22976.243490204724, 24682.679516093325, 26641.79828911256, 35124.19200012496, 3363.914486742484, 12199.615503678342, 2176.060393729149, 2598.901149910893, 4150.287774548484, 4441.76384952704, 3761.216485331366, 1794.9983185898818, 1500.7028565168876, 2421.6625701197554, 26714.00973003986, 9251.679038146744, 3147.889168485817, 11146.455417819736, 15084.87979680294, 10216.47550498318, 24553.701666998284, 5553.731509985959, 23843.15058680871, 14528.797708063947, 10239.766559787116, 24502.778797928397, 10920.011719491136, 36380.7026694345, 527.4637631655314, 19512.892394384908, 35304.52019113382, 5504.145358440117, 17993.100512315505, 11847.462861233435, 4272.725648867243, 5979.65020763491, 936.5601719579645, 10797.657227301148, 14694.46947687276, 4548.452823177835, 5513.204788992891, 9204.887426575431, 25670.04877508294, 9851.633759034023, 10528.236998421085, 571.3974151147631, 11519.450701221711, 21522.001769631992, 3311.9941287281654, 11229.786046890586, 6736.699931099531, 16411.074967349894, 4554.628957874691, 26916.736647006128, 8072.345001764494, 9180.825507552872, 1266.8074179742543, 24762.847758291184, 10728.114373967786, 5264.766074547893, 6234.116762632184, 3598.3079228588467, 4578.717676470867, 18753.703600022545, 12170.651500958713, 56486.16511735884, 4608.508183060334, 6036.369564737284, 13255.406957072373, 1888.4437780457774, 4671.753653454227, 10268.64153300261, 2745.8775326683244, 2049.317641945603, 3916.54963660226, 3694.477756386259, 2435.939984687131, 27326.61001194484, 7762.615277628982, 902.8408285678088, 21293.725329725665, 17678.876804699365, 6515.128846526142, 11530.122761132712, 757.3327679308495, 4943.228759089394, 6972.614617040308, 23556.527055749684, 14792.603088108357, 17242.416509173174, 17386.925184607033, 382.4358313160337, 5091.209307443696, 13276.39878118259, 2830.6086077569926, 3681.3629401536928, 3689.48819935989, 3433.5023675341035, 3604.7710361096433, 7912.654800233424, 14620.833287002792, 11384.171673417848, 18339.56946652654, 22005.996156855534, 4803.027016604625, 10337.555640188075, 18813.075105492553, 10067.915729304841, 1281.7564867562687, 12358.1071483829, 9142.468598565778, 23901.628728284013, 3190.197349382339, 13440.904443041116, 11490.68096093586, 18459.45156472414, 53982.63152697072, 11500.229199125737, 2927.4724776155854, 3652.66311926629, 17874.648575387113, 4080.4289826217864, 6699.598248734725, 9951.144803464762, 25447.572670378933, 26.000722175787814, 36998.48058785967, 28580.371274168254, 3992.085116745304, 17250.500984238934, 338.73450657378635, 6926.4090470240735, 11754.282824709608, 2381.938184540326, 3832.091458941417, 40567.64074774335, 14286.526064810874, 1816.3546645467723, 9956.811214817033, 2194.1419525443926, 18172.286086477474, 15553.39524282523, 213.99712227941927, 10164.906070588673, 4104.073674878124, 7851.0921952188655, 16507.005572484297, 11500.206383831613, 1121.5189991808802, 8587.658699129235, 13118.649894309474, 2811.867606174641, 9558.460881599742, 8744.856549520358, 3033.9767868475574, 26904.62578298959, 121.68263556183956, 10730.485796653269, 10153.983033305118, 572.353553587207, 18864.55785989498, 2665.696398538712, 6639.378658029174, 22483.427750060917, 10344.48573018088, 2678.4189590305396, 10336.224706774668, 19191.177868018873, 2190.6918201376393, 25060.31239392437, 17123.746170290513, 3264.990163207396, 12585.575448709198, 16443.265152541233, 9878.071202531835, 11246.544457232969, 1609.4370228092448, 13830.22090591535, 18722.172755194137, 7252.838285385493, 5655.236393246472, 21896.544226692284, 1783.7169379345141, 34804.25506137413, 21287.685416971726, 1184.4795114521912, 42229.118019085894, 12846.55370689994, 2686.1401129406368, 16082.518164521483, 20138.897660480907, 13797.50156439509, 8136.915214788085, 4422.123526507043, 3058.2399919125237, 26.269524077164533, 18173.961530552475, 29755.9007694217, 11515.608380809379, 9760.41629003641, 1623.5491926275645, 193.1737963702035, 12478.763996227528, 6658.7122100908855, 10538.041996984666, 1664.2437343171005, 27689.084287842717, 4152.472968168939, 7026.221964568591, 593.9260983577224, 11628.249765197637, 14549.403883569437, 6649.066710891853, 4943.599905717136, 23084.810594873685, 17103.004982653536, 14210.159725960693, 41826.73386230704, 10560.835834683683, 12238.54747974117, 17247.82782179617, 14753.372265729216, 10969.22571629865, 987.8898762926437, 4902.389082611429, 17933.603014576533, 5466.447440229156, 9774.496666424144, 4580.537460491978, 44301.853417502236, 22777.608331276228, 10470.282707909988, 8030.200977132066, 12718.963967976517, 1907.7889706300557, 8146.961913305902, 13130.749158514664, 21522.001769632, 3352.501916867015, 5336.380203399098, 6489.730990330012, 23994.706442686955, 1064.3578401427185, 4245.1663099878315, 11097.36867576489, 5978.813077066323, 34137.46925687932, 20065.494970135445, 13475.487526098379, 3463.426912203842, 12665.308521902782, 1958.5560638215175, 5105.790125499472, 6135.324715468345, 10419.79105045609, 1383.0194101934758, 475.5563851338229, 4979.104969861633, 4587.556008070205, 4458.688775373354, 5654.465144512022, 10060.574271737496, 542.6216862528236, 5623.6939785619725, 1848.5051625734268, 1430.2938910750308, 6404.484848656328, 740.7548878808047, 17462.54290839364, 10770.417905397568, 7452.1554702293615, 5430.530310345246, 6359.347204410391, 1233.4923742232677, 18551.555472308093, 21385.279127680158, 4094.7213523503524, 10044.367896959873, 1728.0212324286658, 52693.330599874556, 14322.263672705296, 16485.557362773827, 5576.691913190869, 11627.865900649838, 2811.6795754640734, 5513.936093018878, 439.53351380624736, 2683.439991686322, 19901.66553532643, 6444.294511219276, 8293.321019239778, 4357.304924395445, 2416.879457039806, 5101.261363616315, 22350.231334712087, 22371.734867431558, 6326.726172192597, 24661.08808676104, 12639.504540935406, 1917.8449173071313, 8178.002946301094, 29791.83140557525, 8531.721032797439, 16671.329149110967, 14423.34555773437, 17160.407682660214, 1818.7895249630565, 6213.388044876439, 18172.286086477456, 2201.847608104341, 9823.589445910799, 3799.2816371464796, 10262.957375800848, 20378.917074338307, 7856.708372310757, 25045.07860151305, 3463.426912203842, 12044.561713575902, 13744.72558917306, 380.58659640296537, 2978.9266304351877, 19586.651970491177, 651.1351135708828, 19019.62866465303, 8116.350755157982, 915.3540221445073, 3616.7162653079868, 7757.407679021322, 26088.070271141347, 1598.248659846875, 902.8821729789051, 18988.264045167452, 1747.2386680975033, 2167.146035806276, 26738.58230188959, 3451.1728545667283, 5345.491830655534, 11205.273892268284, 9046.76887581612, 9011.365179213797, 11509.76488401473, 11094.284548457385, 8525.610217971498, 9024.115800453132, 2709.05900201276, 15073.824027652328, 16021.734645396711, 8630.166764837573, 614.5615152699866, 30745.795312984534, 5705.2906199703575, 2414.484248835892, 5303.5828545068, 5600.72904493555, 5557.771373528223, 4780.845307700743, 7774.732666388474, 27976.994522319488, 6952.243108099166, 22721.981279580636, 19017.660155691658, 18523.22149555014, 2815.2473520802596, 11600.143249702302, 7142.242163805287, 1206.3789819445446, 13068.901625252547, 1058.8177958480337, 49454.169240150746, 11885.52381575048, 22071.729299419872, 12735.863420456793, 12659.976679873544, 1879.2491880101443, 10735.027744373045, 12774.198330022147, 11411.524995849442, 60985.45871256301, 4858.085693943598, 21945.38932401211, 21674.436193712543, 22622.418287259577, 20657.283422471857, 4906.557592996331, 7050.264470492239, 1901.8778847826397, 5425.999330210558, 28519.940452919036, 14170.34908872038, 1458.7610989258937, 1410.590268515345, 1494.3104941779966, 694.0619261784814, 6517.26643785843, 16673.35225981453, 8632.581936726783, 2455.7590845740124, 20392.3699024749, 31819.195846075272, 6536.945043456646, 9685.748651195994, 28476.5119898361, 4350.553965955183, 15960.854085260973, 4194.5496849423, 19470.0961101479, 120498.59330308058, 14777.35297923144, 1787.4705007873235, 1.6018752395320917, 23382.553665029372, 9944.956875649641, 23542.741646731447, 2793.047630102308, 19819.65938328483, 4901.007944034442, 6573.7607499738515, 2119.8310123252413, 721.1567047155258, 558.3955345402064, 8632.581936726783, 9605.20601336615, 17463.104893505522, 4496.688306666314, 5353.249054568267, 30984.1063136042, 21511.937718376765, 4639.872405025093, 6004.374865475074, 15957.372565488098, 25477.780145406337, 9275.634159235386, 23715.367895159092, 471.4676081092548, 8260.074609498552, 10910.910297025075, 10513.764940422952, 3963.3767100840378, 22843.994788496697, 7270.986097029909, 17203.97854474266, 38809.0759006865, 5021.230918328074, 9115.633571516424, 8294.817162392003, 5656.778381084703, 14403.923412022232, 19852.07123911853, 24687.38234824073, 6636.195066853776, 17106.34994376358, 18106.488323418263, 13648.548873052547, 3094.7087773684652, 15302.464966436524, 24604.34953487305, 13630.856706178678, 12586.590382436258, 48.18511607318578, 7197.034711373803, 13425.313511414457, 5498.816592698422, 14181.839312104847, 11464.285553118152, 11248.71190578951, 21589.293129100988, 1382.4295362110897, 5504.145358440124, 6410.075071551633, 7072.284120262168, 32230.902974666016, 10352.054701587978, 7602.749466965131, 2736.420580192669, 2772.3269970436377, 4778.745576884008, 2140.9925141757667, 718.2823113826162, 3056.0501139093467, 16608.36717522892, 12989.421664302274, 17382.474091707285, 1431.4985283675378, 9656.881476352595, 8219.115477763058, 17591.728916824533, 14170.514420972759, 9435.820371862173, 10461.089431856002, 1893.2209023528594, 13785.0246306845, 16740.6427837882, 13203.11741639706, 3646.743863273703, 16428.252469280716, 1199.6705887349926, 25044.17786312286, 29069.27882390089, 46545.914577118805, 10625.618763001981, 9685.748651196005, 17384.458678850307, 10768.642688317606, 6478.385300159316, 15547.293122601652, 5569.380422222537, 9689.935112626656, 28805.75064868496, 21110.798235868424, 4399.050957748535, 8117.730724812849, 6039.820536136012, 16618.34201337547, 9189.63730426984, 3657.7000426708983, 6356.603979557993, 36364.489908912125, 25993.436882164042, 6461.034872306896, 18460.6350931869, 7886.054775570919, 33839.900889617595, 38371.51106830788, 17616.58704950016, 37722.17404397311, 10507.109934764194, 1564.5839922336527, 9717.23037259914, 27670.547796814848, 24487.478900071997, 3936.801952002279, 2857.0315979954976, 13954.411514192652, 9860.91623703469, 12338.410703308407, 5943.409521581692, 29728.325931041356, 1963.3566386910825, 15514.576042792465, 4353.680532735529, 15749.230952642429, 13958.428357034216, 30035.711370604407, 4602.677694034675, 1540.8673270855215, 5741.2302834991315, 10909.609990582889, 9419.978230394812, 19166.242696094745, 361.09134201086636, 7262.375774834043, 22559.161301249464, 2180.0398593949176, 7257.606230849859, 6311.416733421371, 15014.591758166123, 4233.375943239476, 20478.456324611798, 405.88495127740316, 1661.6722171565452, 12199.61550367835, 502.9576960075101, 5630.621058356075, 230.63865960721887, 27949.790578359225, 11739.299790504854, 8449.96290575057, 914.9353286549413, 3504.4438091187294, 11303.506570110389, 752.5973984036027, 1450.4335926867534, 215833.3153119206, 9158.538956065764, 9348.752138769287, 14180.341498463262, 20932.08171046449, 18585.43717842238, 3014.0188529274674, 8770.402605486099, 2117.8919313075785, 31191.480499791935, 761.0084195633899, 29221.1880379796, 6585.854720371091, 16630.282925342675, 23492.090765374385, 17604.289079153416, 2376.409581966862, 8964.498232229944, 18246.007143289535, 3108.1476564340046, 18225.314287057932, 30981.863531824143, 15011.638919998735, 3887.006837487701, 4597.438922891139, 4639.872405025097, 7958.249396065014, 9527.047770771049, 8461.969032662724, 8009.765014241166, 13815.515812493271, 9713.166965632612, 10035.794743983912, 3361.6980504081803, 13371.908059725083, 12435.852560623418, 3466.3444247360385, 503.60214536163767, 8599.105449875708, 6534.635814919246, 4578.717676470864, 30365.190092488752, 12182.361936322726, 13966.096960265633, 13793.929753339675, 2959.1633084655805, 4449.525915083101, 13839.523668708061, 2382.718833904193, 12106.694300076273, 5257.891631376471, 18627.60600132044, 3866.732912337371, 3509.7341831619633, 8758.963087860095, 10700.09507760814, 7537.804787438799, 29777.086595017183, 10391.25976837743, 882.5948232999763, 10995.171991565818, 13538.088743150714, 11648.479303590011, 3432.770031237207, 28902.18041247117, 5072.541189296055, 10412.08555161556, 40.87382772457204, 11639.433807515547, 9185.187905387502, 4772.555395514835, 1066.6693496486696, 14144.292233446668, 6782.711392722325, 12029.944414255257, 3598.3079228588467, 21879.700787305093, 2637.3277541936477, 2879.4176009641196, 28008.21209622559, 9535.147035275222, 8143.653040207908, 8574.477321788832, 13603.988557192104, 29636.53508368689, 10148.329049806489, 8599.827197959119, 17105.883468889533, 6537.245417171769, 18252.683240165108, 1442.2619811540208, 11002.003672215687, 17217.740750866185, 17047.743120857383, 2613.0498831445475, 18482.944823390782, 11586.227981238382, 23565.354733529093, 6363.119800602697, 1914.9775460080855, 15407.020573766426, 17284.538061993924, 18611.88389947947, 20239.533833036352, 11632.236393929481, 2893.64050393286, 10143.090861549565, 8709.780765060681, 6311.595136762324, 19307.085317167854, 15134.292418655987, 26073.196796458084, 6936.858387614593, 27893.612651660296, 77664.72292646763, 23627.18049548176, 10664.859427593718, 9918.866380343967, 15770.360716332154, 17971.453819520484, 11897.23866316714, 23330.58039665879, 7726.9177805759355, 37006.50358406549, 2588.5680737421135]\n",
      "Maximum Scores obtained : \n",
      "26289881.129809078\n",
      "Minimum Scores obtained : \n",
      "1.6018752395320917\n",
      "Average Scores obtained : \n",
      "14539.944153253211\n"
     ]
    }
   ],
   "source": [
    "print('All Scores',loocv_rmse,sep='\\n')\n",
    "print('Maximum Scores obtained : ',max(loocv_rmse),sep='\\n')\n",
    "print('Minimum Scores obtained : ',min(loocv_rmse),sep='\\n')\n",
    "print('Average Scores obtained : ',np.mean(loocv_rmse),sep='\\n')"
   ]
  },
  {
   "cell_type": "code",
   "execution_count": 105,
   "id": "3a966345",
   "metadata": {},
   "outputs": [],
   "source": [
    "submission_df=data_train[['Levy','Engine volume','Mileage','Airbags','Category','Leather interior','Fuel type','Gear box type',\n",
    "                   'Drive wheels','Wheel','Color','Additional_features']]"
   ]
  },
  {
   "cell_type": "code",
   "execution_count": 106,
   "id": "053011ae",
   "metadata": {},
   "outputs": [],
   "source": [
    "submission_df.to_csv('C:/Users/welcome/Excel Documents/Car Price Data/sample_sub.csv',index=False)"
   ]
  },
  {
   "cell_type": "code",
   "execution_count": null,
   "id": "1dd65784",
   "metadata": {},
   "outputs": [],
   "source": []
  },
  {
   "cell_type": "code",
   "execution_count": null,
   "id": "729c7272",
   "metadata": {},
   "outputs": [],
   "source": []
  },
  {
   "cell_type": "markdown",
   "id": "b80853e8",
   "metadata": {},
   "source": [
    "# Models"
   ]
  },
  {
   "cell_type": "code",
   "execution_count": 103,
   "id": "0b1ff225",
   "metadata": {},
   "outputs": [],
   "source": [
    "x_train = x_train.drop(['intercept'],axis=1)"
   ]
  },
  {
   "cell_type": "code",
   "execution_count": null,
   "id": "4cfda495",
   "metadata": {},
   "outputs": [],
   "source": [
    "x_train = x_train.drop(['intercept'],axis=1)"
   ]
  },
  {
   "cell_type": "code",
   "execution_count": 183,
   "id": "7be4ec96",
   "metadata": {},
   "outputs": [
    {
     "data": {
      "text/html": [
       "<div>\n",
       "<style scoped>\n",
       "    .dataframe tbody tr th:only-of-type {\n",
       "        vertical-align: middle;\n",
       "    }\n",
       "\n",
       "    .dataframe tbody tr th {\n",
       "        vertical-align: top;\n",
       "    }\n",
       "\n",
       "    .dataframe thead th {\n",
       "        text-align: right;\n",
       "    }\n",
       "</style>\n",
       "<table border=\"1\" class=\"dataframe\">\n",
       "  <thead>\n",
       "    <tr style=\"text-align: right;\">\n",
       "      <th></th>\n",
       "      <th>Levy</th>\n",
       "      <th>Engine volume</th>\n",
       "      <th>Mileage</th>\n",
       "      <th>Airbags</th>\n",
       "      <th>Prod. year</th>\n",
       "      <th>Category</th>\n",
       "      <th>Leather interior</th>\n",
       "      <th>Fuel type</th>\n",
       "      <th>Cylinders</th>\n",
       "      <th>Gear box type</th>\n",
       "      <th>Drive wheels</th>\n",
       "      <th>Doors</th>\n",
       "      <th>Wheel</th>\n",
       "      <th>Color</th>\n",
       "      <th>Additional_features</th>\n",
       "    </tr>\n",
       "  </thead>\n",
       "  <tbody>\n",
       "    <tr>\n",
       "      <th>14688</th>\n",
       "      <td>-1.487693e+00</td>\n",
       "      <td>-0.350873</td>\n",
       "      <td>-0.028819</td>\n",
       "      <td>-1.523737</td>\n",
       "      <td>47.0</td>\n",
       "      <td>9.0</td>\n",
       "      <td>1.0</td>\n",
       "      <td>2.0</td>\n",
       "      <td>7.0</td>\n",
       "      <td>0.0</td>\n",
       "      <td>1.0</td>\n",
       "      <td>1.0</td>\n",
       "      <td>0.0</td>\n",
       "      <td>12.0</td>\n",
       "      <td>0.0</td>\n",
       "    </tr>\n",
       "    <tr>\n",
       "      <th>558</th>\n",
       "      <td>5.894733e-16</td>\n",
       "      <td>1.585827</td>\n",
       "      <td>-0.029360</td>\n",
       "      <td>1.254005</td>\n",
       "      <td>46.0</td>\n",
       "      <td>1.0</td>\n",
       "      <td>1.0</td>\n",
       "      <td>5.0</td>\n",
       "      <td>9.0</td>\n",
       "      <td>1.0</td>\n",
       "      <td>2.0</td>\n",
       "      <td>0.0</td>\n",
       "      <td>0.0</td>\n",
       "      <td>1.0</td>\n",
       "      <td>0.0</td>\n",
       "    </tr>\n",
       "    <tr>\n",
       "      <th>3843</th>\n",
       "      <td>5.894733e-16</td>\n",
       "      <td>2.838986</td>\n",
       "      <td>-0.026491</td>\n",
       "      <td>0.328091</td>\n",
       "      <td>37.0</td>\n",
       "      <td>4.0</td>\n",
       "      <td>1.0</td>\n",
       "      <td>5.0</td>\n",
       "      <td>11.0</td>\n",
       "      <td>2.0</td>\n",
       "      <td>0.0</td>\n",
       "      <td>1.0</td>\n",
       "      <td>0.0</td>\n",
       "      <td>12.0</td>\n",
       "      <td>0.0</td>\n",
       "    </tr>\n",
       "    <tr>\n",
       "      <th>14118</th>\n",
       "      <td>-1.329549e+00</td>\n",
       "      <td>0.218745</td>\n",
       "      <td>-0.027950</td>\n",
       "      <td>1.254005</td>\n",
       "      <td>47.0</td>\n",
       "      <td>9.0</td>\n",
       "      <td>1.0</td>\n",
       "      <td>2.0</td>\n",
       "      <td>7.0</td>\n",
       "      <td>0.0</td>\n",
       "      <td>1.0</td>\n",
       "      <td>1.0</td>\n",
       "      <td>0.0</td>\n",
       "      <td>1.0</td>\n",
       "      <td>0.0</td>\n",
       "    </tr>\n",
       "    <tr>\n",
       "      <th>14834</th>\n",
       "      <td>2.700429e-01</td>\n",
       "      <td>-0.009102</td>\n",
       "      <td>-0.029569</td>\n",
       "      <td>-0.597823</td>\n",
       "      <td>49.0</td>\n",
       "      <td>4.0</td>\n",
       "      <td>1.0</td>\n",
       "      <td>5.0</td>\n",
       "      <td>7.0</td>\n",
       "      <td>0.0</td>\n",
       "      <td>1.0</td>\n",
       "      <td>1.0</td>\n",
       "      <td>0.0</td>\n",
       "      <td>7.0</td>\n",
       "      <td>0.0</td>\n",
       "    </tr>\n",
       "  </tbody>\n",
       "</table>\n",
       "</div>"
      ],
      "text/plain": [
       "               Levy  Engine volume   Mileage   Airbags  Prod. year  Category  \\\n",
       "14688 -1.487693e+00      -0.350873 -0.028819 -1.523737        47.0       9.0   \n",
       "558    5.894733e-16       1.585827 -0.029360  1.254005        46.0       1.0   \n",
       "3843   5.894733e-16       2.838986 -0.026491  0.328091        37.0       4.0   \n",
       "14118 -1.329549e+00       0.218745 -0.027950  1.254005        47.0       9.0   \n",
       "14834  2.700429e-01      -0.009102 -0.029569 -0.597823        49.0       4.0   \n",
       "\n",
       "       Leather interior  Fuel type  Cylinders  Gear box type  Drive wheels  \\\n",
       "14688               1.0        2.0        7.0            0.0           1.0   \n",
       "558                 1.0        5.0        9.0            1.0           2.0   \n",
       "3843                1.0        5.0       11.0            2.0           0.0   \n",
       "14118               1.0        2.0        7.0            0.0           1.0   \n",
       "14834               1.0        5.0        7.0            0.0           1.0   \n",
       "\n",
       "       Doors  Wheel  Color  Additional_features  \n",
       "14688    1.0    0.0   12.0                  0.0  \n",
       "558      0.0    0.0    1.0                  0.0  \n",
       "3843     1.0    0.0   12.0                  0.0  \n",
       "14118    1.0    0.0    1.0                  0.0  \n",
       "14834    1.0    0.0    7.0                  0.0  "
      ]
     },
     "execution_count": 183,
     "metadata": {},
     "output_type": "execute_result"
    }
   ],
   "source": [
    "x_train.head()"
   ]
  },
  {
   "cell_type": "code",
   "execution_count": 150,
   "id": "e5915824",
   "metadata": {},
   "outputs": [
    {
     "data": {
      "text/plain": [
       "14688     7997\n",
       "558      20385\n",
       "3843     20542\n",
       "14118    11133\n",
       "14834    72268\n",
       "Name: Price, dtype: int64"
      ]
     },
     "execution_count": 150,
     "metadata": {},
     "output_type": "execute_result"
    }
   ],
   "source": [
    "y_train.head()"
   ]
  },
  {
   "cell_type": "code",
   "execution_count": 151,
   "id": "7e6a2533",
   "metadata": {},
   "outputs": [
    {
     "data": {
      "text/html": [
       "<div>\n",
       "<style scoped>\n",
       "    .dataframe tbody tr th:only-of-type {\n",
       "        vertical-align: middle;\n",
       "    }\n",
       "\n",
       "    .dataframe tbody tr th {\n",
       "        vertical-align: top;\n",
       "    }\n",
       "\n",
       "    .dataframe thead th {\n",
       "        text-align: right;\n",
       "    }\n",
       "</style>\n",
       "<table border=\"1\" class=\"dataframe\">\n",
       "  <thead>\n",
       "    <tr style=\"text-align: right;\">\n",
       "      <th></th>\n",
       "      <th>Levy</th>\n",
       "      <th>Engine volume</th>\n",
       "      <th>Mileage</th>\n",
       "      <th>Airbags</th>\n",
       "      <th>Prod. year</th>\n",
       "      <th>Category</th>\n",
       "      <th>Leather interior</th>\n",
       "      <th>Fuel type</th>\n",
       "      <th>Cylinders</th>\n",
       "      <th>Gear box type</th>\n",
       "      <th>Drive wheels</th>\n",
       "      <th>Doors</th>\n",
       "      <th>Wheel</th>\n",
       "      <th>Color</th>\n",
       "      <th>Additional_features</th>\n",
       "    </tr>\n",
       "  </thead>\n",
       "  <tbody>\n",
       "    <tr>\n",
       "      <th>18718</th>\n",
       "      <td>-1.162442e-01</td>\n",
       "      <td>0.218745</td>\n",
       "      <td>-0.027193</td>\n",
       "      <td>0.791048</td>\n",
       "      <td>44.0</td>\n",
       "      <td>9.0</td>\n",
       "      <td>0.0</td>\n",
       "      <td>5.0</td>\n",
       "      <td>7.0</td>\n",
       "      <td>2.0</td>\n",
       "      <td>1.0</td>\n",
       "      <td>1.0</td>\n",
       "      <td>0.0</td>\n",
       "      <td>11.0</td>\n",
       "      <td>0.0</td>\n",
       "    </tr>\n",
       "    <tr>\n",
       "      <th>3207</th>\n",
       "      <td>-1.070296e+00</td>\n",
       "      <td>-1.262261</td>\n",
       "      <td>-0.031168</td>\n",
       "      <td>-0.597823</td>\n",
       "      <td>48.0</td>\n",
       "      <td>3.0</td>\n",
       "      <td>1.0</td>\n",
       "      <td>5.0</td>\n",
       "      <td>7.0</td>\n",
       "      <td>0.0</td>\n",
       "      <td>1.0</td>\n",
       "      <td>1.0</td>\n",
       "      <td>0.0</td>\n",
       "      <td>2.0</td>\n",
       "      <td>0.0</td>\n",
       "    </tr>\n",
       "    <tr>\n",
       "      <th>12838</th>\n",
       "      <td>5.894733e-16</td>\n",
       "      <td>2.383292</td>\n",
       "      <td>-0.026863</td>\n",
       "      <td>0.328091</td>\n",
       "      <td>34.0</td>\n",
       "      <td>4.0</td>\n",
       "      <td>1.0</td>\n",
       "      <td>0.0</td>\n",
       "      <td>11.0</td>\n",
       "      <td>2.0</td>\n",
       "      <td>0.0</td>\n",
       "      <td>2.0</td>\n",
       "      <td>0.0</td>\n",
       "      <td>1.0</td>\n",
       "      <td>0.0</td>\n",
       "    </tr>\n",
       "    <tr>\n",
       "      <th>16686</th>\n",
       "      <td>-3.988301e-01</td>\n",
       "      <td>0.104821</td>\n",
       "      <td>-0.029074</td>\n",
       "      <td>0.791048</td>\n",
       "      <td>45.0</td>\n",
       "      <td>9.0</td>\n",
       "      <td>0.0</td>\n",
       "      <td>2.0</td>\n",
       "      <td>7.0</td>\n",
       "      <td>3.0</td>\n",
       "      <td>1.0</td>\n",
       "      <td>1.0</td>\n",
       "      <td>0.0</td>\n",
       "      <td>12.0</td>\n",
       "      <td>0.0</td>\n",
       "    </tr>\n",
       "    <tr>\n",
       "      <th>7332</th>\n",
       "      <td>-3.677198e-01</td>\n",
       "      <td>-0.350873</td>\n",
       "      <td>-0.027160</td>\n",
       "      <td>0.328091</td>\n",
       "      <td>48.0</td>\n",
       "      <td>3.0</td>\n",
       "      <td>0.0</td>\n",
       "      <td>5.0</td>\n",
       "      <td>7.0</td>\n",
       "      <td>0.0</td>\n",
       "      <td>1.0</td>\n",
       "      <td>1.0</td>\n",
       "      <td>0.0</td>\n",
       "      <td>14.0</td>\n",
       "      <td>0.0</td>\n",
       "    </tr>\n",
       "  </tbody>\n",
       "</table>\n",
       "</div>"
      ],
      "text/plain": [
       "               Levy  Engine volume   Mileage   Airbags  Prod. year  Category  \\\n",
       "18718 -1.162442e-01       0.218745 -0.027193  0.791048        44.0       9.0   \n",
       "3207  -1.070296e+00      -1.262261 -0.031168 -0.597823        48.0       3.0   \n",
       "12838  5.894733e-16       2.383292 -0.026863  0.328091        34.0       4.0   \n",
       "16686 -3.988301e-01       0.104821 -0.029074  0.791048        45.0       9.0   \n",
       "7332  -3.677198e-01      -0.350873 -0.027160  0.328091        48.0       3.0   \n",
       "\n",
       "       Leather interior  Fuel type  Cylinders  Gear box type  Drive wheels  \\\n",
       "18718               0.0        5.0        7.0            2.0           1.0   \n",
       "3207                1.0        5.0        7.0            0.0           1.0   \n",
       "12838               1.0        0.0       11.0            2.0           0.0   \n",
       "16686               0.0        2.0        7.0            3.0           1.0   \n",
       "7332                0.0        5.0        7.0            0.0           1.0   \n",
       "\n",
       "       Doors  Wheel  Color  Additional_features  \n",
       "18718    1.0    0.0   11.0                  0.0  \n",
       "3207     1.0    0.0    2.0                  0.0  \n",
       "12838    2.0    0.0    1.0                  0.0  \n",
       "16686    1.0    0.0   12.0                  0.0  \n",
       "7332     1.0    0.0   14.0                  0.0  "
      ]
     },
     "execution_count": 151,
     "metadata": {},
     "output_type": "execute_result"
    }
   ],
   "source": [
    "x_test.head()"
   ]
  },
  {
   "cell_type": "code",
   "execution_count": 152,
   "id": "1a31257e",
   "metadata": {},
   "outputs": [
    {
     "data": {
      "text/plain": [
       "18718    18189\n",
       "3207     23935\n",
       "12838    17249\n",
       "16686    13172\n",
       "7332     13172\n",
       "Name: Price, dtype: int64"
      ]
     },
     "execution_count": 152,
     "metadata": {},
     "output_type": "execute_result"
    }
   ],
   "source": [
    "y_test.head()"
   ]
  },
  {
   "cell_type": "code",
   "execution_count": 125,
   "id": "d8307fca",
   "metadata": {},
   "outputs": [],
   "source": [
    "from sklearn.model_selection import GridSearchCV\n",
    "from sklearn.pipeline import make_pipeline\n",
    "from sklearn.pipeline import Pipeline\n",
    "from sklearn import metrics"
   ]
  },
  {
   "cell_type": "markdown",
   "id": "4f563e46",
   "metadata": {},
   "source": [
    "# Linear Regression"
   ]
  },
  {
   "cell_type": "code",
   "execution_count": 234,
   "id": "1b9502a8",
   "metadata": {},
   "outputs": [
    {
     "data": {
      "text/plain": [
       "array([9.50250835, 9.07706791, 8.74560665, ..., 8.06318273, 8.63239169,\n",
       "       8.73050575])"
      ]
     },
     "execution_count": 234,
     "metadata": {},
     "output_type": "execute_result"
    }
   ],
   "source": [
    "lr=LinearRegression()\n",
    "lr.fit(x_train,np.log(y_train))\n",
    "lr.predict(x_test)"
   ]
  },
  {
   "cell_type": "code",
   "execution_count": 235,
   "id": "f7b6bca9",
   "metadata": {},
   "outputs": [
    {
     "name": "stdout",
     "output_type": "stream",
     "text": [
      "R2 score: 0.13891492338669043\n",
      "Mean squared error: 2.183416906679907\n"
     ]
    }
   ],
   "source": [
    "y_pred = lr.predict(x_test)\n",
    "print(\"R2 score:\",metrics.r2_score(np.log(y_test), y_pred))\n",
    "print(\"Mean squared error:\",metrics.mean_squared_error(np.log(y_test), y_pred))\n",
    "# print(\"Mean absolute error:\",metrics.mean_absolute_error(np.log(y_test), y_pred))"
   ]
  },
  {
   "cell_type": "markdown",
   "id": "1e6b70c0",
   "metadata": {},
   "source": [
    "# Ridge"
   ]
  },
  {
   "cell_type": "code",
   "execution_count": 236,
   "id": "1331d38b",
   "metadata": {},
   "outputs": [],
   "source": [
    "from sklearn.linear_model import Ridge,Lasso"
   ]
  },
  {
   "cell_type": "code",
   "execution_count": 237,
   "id": "a73233dc",
   "metadata": {},
   "outputs": [
    {
     "name": "stdout",
     "output_type": "stream",
     "text": [
      "Fitting 5 folds for each of 24 candidates, totalling 120 fits\n"
     ]
    }
   ],
   "source": [
    "pipe = Pipeline([('classifier',Ridge())])\n",
    "grid_param = [{\"classifier__alpha\": [0.1,0.5,1,100],\n",
    "               \"classifier__solver\":['auto', 'svd', 'cholesky'],\n",
    "               \"classifier__fit_intercept\":[True,False]}]\n",
    "\n",
    "gridsearch = GridSearchCV(pipe, grid_param, cv=5, verbose=3,n_jobs=-1)\n",
    "best_model = gridsearch.fit(x_train,np.log(y_train))"
   ]
  },
  {
   "cell_type": "code",
   "execution_count": 238,
   "id": "faa132ca",
   "metadata": {},
   "outputs": [
    {
     "data": {
      "text/plain": [
       "Pipeline(steps=[('classifier', Ridge(alpha=1, solver='svd'))])"
      ]
     },
     "execution_count": 238,
     "metadata": {},
     "output_type": "execute_result"
    }
   ],
   "source": [
    "gridsearch.best_estimator_"
   ]
  },
  {
   "cell_type": "code",
   "execution_count": 239,
   "id": "eb94bede",
   "metadata": {},
   "outputs": [
    {
     "data": {
      "text/plain": [
       "array([9.50244975, 9.07707638, 8.7456928 , ..., 8.06332213, 8.6328108 ,\n",
       "       8.73056118])"
      ]
     },
     "execution_count": 239,
     "metadata": {},
     "output_type": "execute_result"
    }
   ],
   "source": [
    "best_model.predict(x_test)"
   ]
  },
  {
   "cell_type": "code",
   "execution_count": 240,
   "id": "16452e45",
   "metadata": {},
   "outputs": [
    {
     "name": "stdout",
     "output_type": "stream",
     "text": [
      "R2 score: 0.13891459633682368\n",
      "Mean squared error: 2.1834177359663824\n"
     ]
    }
   ],
   "source": [
    "y_pred = best_model.predict(x_test)\n",
    "print(\"R2 score:\",metrics.r2_score(np.log(y_test), y_pred))\n",
    "print(\"Mean squared error:\",metrics.mean_squared_error(np.log(y_test), y_pred))"
   ]
  },
  {
   "cell_type": "markdown",
   "id": "bdd96942",
   "metadata": {},
   "source": [
    "# Lasso"
   ]
  },
  {
   "cell_type": "code",
   "execution_count": 241,
   "id": "daf9a148",
   "metadata": {},
   "outputs": [
    {
     "name": "stdout",
     "output_type": "stream",
     "text": [
      "Fitting 5 folds for each of 20 candidates, totalling 100 fits\n"
     ]
    }
   ],
   "source": [
    "pipe = Pipeline([('classifier',Lasso())])\n",
    "grid_param = [{\"classifier__alpha\": [0,0.01,0.1,0.5,1],\n",
    "               \"classifier__selection\":['cyclic', 'random'],\n",
    "               \"classifier__fit_intercept\":[True,False]}]\n",
    "\n",
    "gridsearch = GridSearchCV(pipe, grid_param, cv=5, verbose=3,n_jobs=-1)\n",
    "best_model = gridsearch.fit(x_train,np.log(y_train))"
   ]
  },
  {
   "cell_type": "code",
   "execution_count": 242,
   "id": "0a112450",
   "metadata": {},
   "outputs": [
    {
     "data": {
      "text/plain": [
       "Pipeline(steps=[('classifier', Lasso(alpha=0))])"
      ]
     },
     "execution_count": 242,
     "metadata": {},
     "output_type": "execute_result"
    }
   ],
   "source": [
    "gridsearch.best_estimator_"
   ]
  },
  {
   "cell_type": "code",
   "execution_count": 243,
   "id": "2d596a5d",
   "metadata": {},
   "outputs": [
    {
     "name": "stdout",
     "output_type": "stream",
     "text": [
      "R2 score: 0.13891492338669043\n",
      "Mean squared error: 2.183416906679907\n"
     ]
    }
   ],
   "source": [
    "y_pred = best_model.predict(x_test)\n",
    "print(\"R2 score:\",metrics.r2_score(np.log(y_test), y_pred))\n",
    "print(\"Mean squared error:\",metrics.mean_squared_error(np.log(y_test), y_pred))"
   ]
  },
  {
   "cell_type": "code",
   "execution_count": null,
   "id": "9b6e9925",
   "metadata": {},
   "outputs": [],
   "source": []
  },
  {
   "cell_type": "code",
   "execution_count": null,
   "id": "fcbefce7",
   "metadata": {},
   "outputs": [],
   "source": []
  },
  {
   "cell_type": "code",
   "execution_count": null,
   "id": "f869fd2e",
   "metadata": {},
   "outputs": [],
   "source": []
  },
  {
   "cell_type": "code",
   "execution_count": 245,
   "id": "ffce2be9",
   "metadata": {},
   "outputs": [
    {
     "name": "stdout",
     "output_type": "stream",
     "text": [
      "R2 score: 0.4484212935675598\n",
      "Mean squared error: 1.3986147312248147\n"
     ]
    }
   ],
   "source": [
    "from sklearn.ensemble import GradientBoostingRegressor\n",
    "gradboost = GradientBoostingRegressor(random_state=0)\n",
    "gradboost.fit(x_train,np.log(y_train))\n",
    "gradboost.predict(x_test)\n",
    "\n",
    "\n",
    "y_pred = gradboost.predict(x_test)\n",
    "print(\"R2 score:\",metrics.r2_score(np.log(y_test), y_pred))\n",
    "print(\"Mean squared error:\",metrics.mean_squared_error(np.log(y_test), y_pred))\n",
    "# print(\"Mean absolute error:\",metrics.mean_absolute_error(np.log(y_test), y_pred))"
   ]
  },
  {
   "cell_type": "code",
   "execution_count": 247,
   "id": "5b55cfce",
   "metadata": {},
   "outputs": [
    {
     "name": "stdout",
     "output_type": "stream",
     "text": [
      "R2 score: 0.6032895014001315\n",
      "Mean squared error: 1.00592198520861\n"
     ]
    }
   ],
   "source": [
    "from sklearn.ensemble import RandomForestRegressor\n",
    "rf = RandomForestRegressor(random_state=0)\n",
    "rf.fit(x_train,np.log(y_train))\n",
    "rf.predict(x_test)\n",
    "\n",
    "\n",
    "y_pred = rf.predict(x_test)\n",
    "print(\"R2 score:\",metrics.r2_score(np.log(y_test), y_pred))\n",
    "print(\"Mean squared error:\",metrics.mean_squared_error(np.log(y_test), y_pred))\n",
    "# print(\"Mean absolute error:\",metrics.mean_absolute_error(np.log(y_test), y_pred))"
   ]
  },
  {
   "cell_type": "code",
   "execution_count": null,
   "id": "2e7ce5d0",
   "metadata": {},
   "outputs": [],
   "source": []
  },
  {
   "cell_type": "code",
   "execution_count": null,
   "id": "6dd4da5a",
   "metadata": {},
   "outputs": [],
   "source": []
  }
 ],
 "metadata": {
  "kernelspec": {
   "display_name": "Python 3",
   "language": "python",
   "name": "python3"
  },
  "language_info": {
   "codemirror_mode": {
    "name": "ipython",
    "version": 3
   },
   "file_extension": ".py",
   "mimetype": "text/x-python",
   "name": "python",
   "nbconvert_exporter": "python",
   "pygments_lexer": "ipython3",
   "version": "3.8.11"
  }
 },
 "nbformat": 4,
 "nbformat_minor": 5
}
