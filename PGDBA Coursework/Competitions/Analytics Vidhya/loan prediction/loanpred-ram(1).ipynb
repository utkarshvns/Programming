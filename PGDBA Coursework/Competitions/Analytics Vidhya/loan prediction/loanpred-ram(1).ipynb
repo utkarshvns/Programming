{
 "cells": [
  {
   "cell_type": "code",
   "execution_count": 67,
   "metadata": {
    "_cell_guid": "b1076dfc-b9ad-4769-8c92-a6c4dae69d19",
    "_uuid": "8f2839f25d086af736a60e9eeb907d3b93b6e0e5",
    "execution": {
     "iopub.execute_input": "2021-06-30T18:09:26.642011Z",
     "iopub.status.busy": "2021-06-30T18:09:26.641510Z",
     "iopub.status.idle": "2021-06-30T18:09:26.652630Z",
     "shell.execute_reply": "2021-06-30T18:09:26.651607Z",
     "shell.execute_reply.started": "2021-06-30T18:09:26.641966Z"
    }
   },
   "outputs": [
    {
     "name": "stdout",
     "output_type": "stream",
     "text": [
      "/kaggle/input/loan-prediction-av/train_ctrUa4K.csv\n",
      "/kaggle/input/loan-prediction-av/test_lAUu6dG.csv\n",
      "/kaggle/input/loan-prediction-av/sample_submission_49d68Cx.csv\n"
     ]
    }
   ],
   "source": [
    "# This Python 3 environment comes with many helpful analytics libraries installed\n",
    "# It is defined by the kaggle/python Docker image: https://github.com/kaggle/docker-python\n",
    "# For example, here's several helpful packages to load\n",
    "\n",
    "import numpy as np # linear algebra\n",
    "import pandas as pd # data processing, CSV file I/O (e.g. pd.read_csv)\n",
    "\n",
    "# Input data files are available in the read-only \"../input/\" directory\n",
    "# For example, running this (by clicking run or pressing Shift+Enter) will list all files under the input directory\n",
    "\n",
    "import os\n",
    "for dirname, _, filenames in os.walk('/kaggle/input'):\n",
    "    for filename in filenames:\n",
    "        print(os.path.join(dirname, filename))\n",
    "\n",
    "# You can write up to 20GB to the current directory (/kaggle/working/) that gets preserved as output when you create a version using \"Save & Run All\" \n",
    "# You can also write temporary files to /kaggle/temp/, but they won't be saved outside of the current session"
   ]
  },
  {
   "cell_type": "code",
   "execution_count": 68,
   "metadata": {
    "execution": {
     "iopub.execute_input": "2021-06-30T18:09:26.655342Z",
     "iopub.status.busy": "2021-06-30T18:09:26.654609Z",
     "iopub.status.idle": "2021-06-30T18:09:26.668299Z",
     "shell.execute_reply": "2021-06-30T18:09:26.667241Z",
     "shell.execute_reply.started": "2021-06-30T18:09:26.655293Z"
    }
   },
   "outputs": [],
   "source": [
    "import numpy as np\n",
    "import pandas as pd\n",
    "from matplotlib import pyplot as plt\n",
    "%matplotlib inline"
   ]
  },
  {
   "cell_type": "code",
   "execution_count": 69,
   "metadata": {
    "execution": {
     "iopub.execute_input": "2021-06-30T18:09:26.672473Z",
     "iopub.status.busy": "2021-06-30T18:09:26.672140Z",
     "iopub.status.idle": "2021-06-30T18:09:26.695306Z",
     "shell.execute_reply": "2021-06-30T18:09:26.694460Z",
     "shell.execute_reply.started": "2021-06-30T18:09:26.672440Z"
    }
   },
   "outputs": [],
   "source": [
    "data_train = pd.read_csv('../input/loan-prediction-av/train_ctrUa4K.csv')\n",
    "data_test = pd.read_csv('../input/loan-prediction-av/test_lAUu6dG.csv')"
   ]
  },
  {
   "cell_type": "code",
   "execution_count": 70,
   "metadata": {
    "execution": {
     "iopub.execute_input": "2021-06-30T18:09:26.700153Z",
     "iopub.status.busy": "2021-06-30T18:09:26.698342Z",
     "iopub.status.idle": "2021-06-30T18:09:26.705503Z",
     "shell.execute_reply": "2021-06-30T18:09:26.704552Z",
     "shell.execute_reply.started": "2021-06-30T18:09:26.700112Z"
    }
   },
   "outputs": [
    {
     "data": {
      "text/plain": [
       "(614, 13)"
      ]
     },
     "execution_count": 70,
     "metadata": {},
     "output_type": "execute_result"
    }
   ],
   "source": [
    "data_train.shape"
   ]
  },
  {
   "cell_type": "code",
   "execution_count": 71,
   "metadata": {
    "execution": {
     "iopub.execute_input": "2021-06-30T18:09:26.707024Z",
     "iopub.status.busy": "2021-06-30T18:09:26.706624Z",
     "iopub.status.idle": "2021-06-30T18:09:26.719441Z",
     "shell.execute_reply": "2021-06-30T18:09:26.718498Z",
     "shell.execute_reply.started": "2021-06-30T18:09:26.706982Z"
    }
   },
   "outputs": [
    {
     "data": {
      "text/plain": [
       "(367, 12)"
      ]
     },
     "execution_count": 71,
     "metadata": {},
     "output_type": "execute_result"
    }
   ],
   "source": [
    "data_test.shape"
   ]
  },
  {
   "cell_type": "code",
   "execution_count": 72,
   "metadata": {
    "execution": {
     "iopub.execute_input": "2021-06-30T18:09:26.720683Z",
     "iopub.status.busy": "2021-06-30T18:09:26.720405Z",
     "iopub.status.idle": "2021-06-30T18:09:26.747944Z",
     "shell.execute_reply": "2021-06-30T18:09:26.746869Z",
     "shell.execute_reply.started": "2021-06-30T18:09:26.720656Z"
    }
   },
   "outputs": [
    {
     "data": {
      "text/html": [
       "<div>\n",
       "<style scoped>\n",
       "    .dataframe tbody tr th:only-of-type {\n",
       "        vertical-align: middle;\n",
       "    }\n",
       "\n",
       "    .dataframe tbody tr th {\n",
       "        vertical-align: top;\n",
       "    }\n",
       "\n",
       "    .dataframe thead th {\n",
       "        text-align: right;\n",
       "    }\n",
       "</style>\n",
       "<table border=\"1\" class=\"dataframe\">\n",
       "  <thead>\n",
       "    <tr style=\"text-align: right;\">\n",
       "      <th></th>\n",
       "      <th>Loan_ID</th>\n",
       "      <th>Gender</th>\n",
       "      <th>Married</th>\n",
       "      <th>Dependents</th>\n",
       "      <th>Education</th>\n",
       "      <th>Self_Employed</th>\n",
       "      <th>ApplicantIncome</th>\n",
       "      <th>CoapplicantIncome</th>\n",
       "      <th>LoanAmount</th>\n",
       "      <th>Loan_Amount_Term</th>\n",
       "      <th>Credit_History</th>\n",
       "      <th>Property_Area</th>\n",
       "      <th>Loan_Status</th>\n",
       "    </tr>\n",
       "  </thead>\n",
       "  <tbody>\n",
       "    <tr>\n",
       "      <th>0</th>\n",
       "      <td>LP001002</td>\n",
       "      <td>Male</td>\n",
       "      <td>No</td>\n",
       "      <td>0</td>\n",
       "      <td>Graduate</td>\n",
       "      <td>No</td>\n",
       "      <td>5849</td>\n",
       "      <td>0.0</td>\n",
       "      <td>NaN</td>\n",
       "      <td>360.0</td>\n",
       "      <td>1.0</td>\n",
       "      <td>Urban</td>\n",
       "      <td>Y</td>\n",
       "    </tr>\n",
       "    <tr>\n",
       "      <th>1</th>\n",
       "      <td>LP001003</td>\n",
       "      <td>Male</td>\n",
       "      <td>Yes</td>\n",
       "      <td>1</td>\n",
       "      <td>Graduate</td>\n",
       "      <td>No</td>\n",
       "      <td>4583</td>\n",
       "      <td>1508.0</td>\n",
       "      <td>128.0</td>\n",
       "      <td>360.0</td>\n",
       "      <td>1.0</td>\n",
       "      <td>Rural</td>\n",
       "      <td>N</td>\n",
       "    </tr>\n",
       "    <tr>\n",
       "      <th>2</th>\n",
       "      <td>LP001005</td>\n",
       "      <td>Male</td>\n",
       "      <td>Yes</td>\n",
       "      <td>0</td>\n",
       "      <td>Graduate</td>\n",
       "      <td>Yes</td>\n",
       "      <td>3000</td>\n",
       "      <td>0.0</td>\n",
       "      <td>66.0</td>\n",
       "      <td>360.0</td>\n",
       "      <td>1.0</td>\n",
       "      <td>Urban</td>\n",
       "      <td>Y</td>\n",
       "    </tr>\n",
       "    <tr>\n",
       "      <th>3</th>\n",
       "      <td>LP001006</td>\n",
       "      <td>Male</td>\n",
       "      <td>Yes</td>\n",
       "      <td>0</td>\n",
       "      <td>Not Graduate</td>\n",
       "      <td>No</td>\n",
       "      <td>2583</td>\n",
       "      <td>2358.0</td>\n",
       "      <td>120.0</td>\n",
       "      <td>360.0</td>\n",
       "      <td>1.0</td>\n",
       "      <td>Urban</td>\n",
       "      <td>Y</td>\n",
       "    </tr>\n",
       "    <tr>\n",
       "      <th>4</th>\n",
       "      <td>LP001008</td>\n",
       "      <td>Male</td>\n",
       "      <td>No</td>\n",
       "      <td>0</td>\n",
       "      <td>Graduate</td>\n",
       "      <td>No</td>\n",
       "      <td>6000</td>\n",
       "      <td>0.0</td>\n",
       "      <td>141.0</td>\n",
       "      <td>360.0</td>\n",
       "      <td>1.0</td>\n",
       "      <td>Urban</td>\n",
       "      <td>Y</td>\n",
       "    </tr>\n",
       "  </tbody>\n",
       "</table>\n",
       "</div>"
      ],
      "text/plain": [
       "    Loan_ID Gender Married Dependents     Education Self_Employed  \\\n",
       "0  LP001002   Male      No          0      Graduate            No   \n",
       "1  LP001003   Male     Yes          1      Graduate            No   \n",
       "2  LP001005   Male     Yes          0      Graduate           Yes   \n",
       "3  LP001006   Male     Yes          0  Not Graduate            No   \n",
       "4  LP001008   Male      No          0      Graduate            No   \n",
       "\n",
       "   ApplicantIncome  CoapplicantIncome  LoanAmount  Loan_Amount_Term  \\\n",
       "0             5849                0.0         NaN             360.0   \n",
       "1             4583             1508.0       128.0             360.0   \n",
       "2             3000                0.0        66.0             360.0   \n",
       "3             2583             2358.0       120.0             360.0   \n",
       "4             6000                0.0       141.0             360.0   \n",
       "\n",
       "   Credit_History Property_Area Loan_Status  \n",
       "0             1.0         Urban           Y  \n",
       "1             1.0         Rural           N  \n",
       "2             1.0         Urban           Y  \n",
       "3             1.0         Urban           Y  \n",
       "4             1.0         Urban           Y  "
      ]
     },
     "execution_count": 72,
     "metadata": {},
     "output_type": "execute_result"
    }
   ],
   "source": [
    "data_train.head()"
   ]
  },
  {
   "cell_type": "code",
   "execution_count": 73,
   "metadata": {
    "execution": {
     "iopub.execute_input": "2021-06-30T18:09:26.750480Z",
     "iopub.status.busy": "2021-06-30T18:09:26.750061Z",
     "iopub.status.idle": "2021-06-30T18:09:26.768199Z",
     "shell.execute_reply": "2021-06-30T18:09:26.767292Z",
     "shell.execute_reply.started": "2021-06-30T18:09:26.750423Z"
    }
   },
   "outputs": [
    {
     "data": {
      "text/html": [
       "<div>\n",
       "<style scoped>\n",
       "    .dataframe tbody tr th:only-of-type {\n",
       "        vertical-align: middle;\n",
       "    }\n",
       "\n",
       "    .dataframe tbody tr th {\n",
       "        vertical-align: top;\n",
       "    }\n",
       "\n",
       "    .dataframe thead th {\n",
       "        text-align: right;\n",
       "    }\n",
       "</style>\n",
       "<table border=\"1\" class=\"dataframe\">\n",
       "  <thead>\n",
       "    <tr style=\"text-align: right;\">\n",
       "      <th></th>\n",
       "      <th>ApplicantIncome</th>\n",
       "      <th>CoapplicantIncome</th>\n",
       "      <th>LoanAmount</th>\n",
       "      <th>Loan_Amount_Term</th>\n",
       "      <th>Credit_History</th>\n",
       "    </tr>\n",
       "  </thead>\n",
       "  <tbody>\n",
       "    <tr>\n",
       "      <th>ApplicantIncome</th>\n",
       "      <td>1.000000</td>\n",
       "      <td>-0.116605</td>\n",
       "      <td>0.570909</td>\n",
       "      <td>-0.045306</td>\n",
       "      <td>-0.014715</td>\n",
       "    </tr>\n",
       "    <tr>\n",
       "      <th>CoapplicantIncome</th>\n",
       "      <td>-0.116605</td>\n",
       "      <td>1.000000</td>\n",
       "      <td>0.188619</td>\n",
       "      <td>-0.059878</td>\n",
       "      <td>-0.002056</td>\n",
       "    </tr>\n",
       "    <tr>\n",
       "      <th>LoanAmount</th>\n",
       "      <td>0.570909</td>\n",
       "      <td>0.188619</td>\n",
       "      <td>1.000000</td>\n",
       "      <td>0.039447</td>\n",
       "      <td>-0.008433</td>\n",
       "    </tr>\n",
       "    <tr>\n",
       "      <th>Loan_Amount_Term</th>\n",
       "      <td>-0.045306</td>\n",
       "      <td>-0.059878</td>\n",
       "      <td>0.039447</td>\n",
       "      <td>1.000000</td>\n",
       "      <td>0.001470</td>\n",
       "    </tr>\n",
       "    <tr>\n",
       "      <th>Credit_History</th>\n",
       "      <td>-0.014715</td>\n",
       "      <td>-0.002056</td>\n",
       "      <td>-0.008433</td>\n",
       "      <td>0.001470</td>\n",
       "      <td>1.000000</td>\n",
       "    </tr>\n",
       "  </tbody>\n",
       "</table>\n",
       "</div>"
      ],
      "text/plain": [
       "                   ApplicantIncome  CoapplicantIncome  LoanAmount  \\\n",
       "ApplicantIncome           1.000000          -0.116605    0.570909   \n",
       "CoapplicantIncome        -0.116605           1.000000    0.188619   \n",
       "LoanAmount                0.570909           0.188619    1.000000   \n",
       "Loan_Amount_Term         -0.045306          -0.059878    0.039447   \n",
       "Credit_History           -0.014715          -0.002056   -0.008433   \n",
       "\n",
       "                   Loan_Amount_Term  Credit_History  \n",
       "ApplicantIncome           -0.045306       -0.014715  \n",
       "CoapplicantIncome         -0.059878       -0.002056  \n",
       "LoanAmount                 0.039447       -0.008433  \n",
       "Loan_Amount_Term           1.000000        0.001470  \n",
       "Credit_History             0.001470        1.000000  "
      ]
     },
     "execution_count": 73,
     "metadata": {},
     "output_type": "execute_result"
    }
   ],
   "source": [
    "data_train.corr()"
   ]
  },
  {
   "cell_type": "code",
   "execution_count": 74,
   "metadata": {
    "execution": {
     "iopub.execute_input": "2021-06-30T18:09:26.769889Z",
     "iopub.status.busy": "2021-06-30T18:09:26.769610Z",
     "iopub.status.idle": "2021-06-30T18:09:26.800058Z",
     "shell.execute_reply": "2021-06-30T18:09:26.799066Z",
     "shell.execute_reply.started": "2021-06-30T18:09:26.769862Z"
    }
   },
   "outputs": [
    {
     "data": {
      "text/html": [
       "<div>\n",
       "<style scoped>\n",
       "    .dataframe tbody tr th:only-of-type {\n",
       "        vertical-align: middle;\n",
       "    }\n",
       "\n",
       "    .dataframe tbody tr th {\n",
       "        vertical-align: top;\n",
       "    }\n",
       "\n",
       "    .dataframe thead th {\n",
       "        text-align: right;\n",
       "    }\n",
       "</style>\n",
       "<table border=\"1\" class=\"dataframe\">\n",
       "  <thead>\n",
       "    <tr style=\"text-align: right;\">\n",
       "      <th></th>\n",
       "      <th>ApplicantIncome</th>\n",
       "      <th>CoapplicantIncome</th>\n",
       "      <th>LoanAmount</th>\n",
       "      <th>Loan_Amount_Term</th>\n",
       "      <th>Credit_History</th>\n",
       "    </tr>\n",
       "  </thead>\n",
       "  <tbody>\n",
       "    <tr>\n",
       "      <th>count</th>\n",
       "      <td>614.000000</td>\n",
       "      <td>614.000000</td>\n",
       "      <td>592.000000</td>\n",
       "      <td>600.00000</td>\n",
       "      <td>564.000000</td>\n",
       "    </tr>\n",
       "    <tr>\n",
       "      <th>mean</th>\n",
       "      <td>5403.459283</td>\n",
       "      <td>1621.245798</td>\n",
       "      <td>146.412162</td>\n",
       "      <td>342.00000</td>\n",
       "      <td>0.842199</td>\n",
       "    </tr>\n",
       "    <tr>\n",
       "      <th>std</th>\n",
       "      <td>6109.041673</td>\n",
       "      <td>2926.248369</td>\n",
       "      <td>85.587325</td>\n",
       "      <td>65.12041</td>\n",
       "      <td>0.364878</td>\n",
       "    </tr>\n",
       "    <tr>\n",
       "      <th>min</th>\n",
       "      <td>150.000000</td>\n",
       "      <td>0.000000</td>\n",
       "      <td>9.000000</td>\n",
       "      <td>12.00000</td>\n",
       "      <td>0.000000</td>\n",
       "    </tr>\n",
       "    <tr>\n",
       "      <th>25%</th>\n",
       "      <td>2877.500000</td>\n",
       "      <td>0.000000</td>\n",
       "      <td>100.000000</td>\n",
       "      <td>360.00000</td>\n",
       "      <td>1.000000</td>\n",
       "    </tr>\n",
       "    <tr>\n",
       "      <th>50%</th>\n",
       "      <td>3812.500000</td>\n",
       "      <td>1188.500000</td>\n",
       "      <td>128.000000</td>\n",
       "      <td>360.00000</td>\n",
       "      <td>1.000000</td>\n",
       "    </tr>\n",
       "    <tr>\n",
       "      <th>75%</th>\n",
       "      <td>5795.000000</td>\n",
       "      <td>2297.250000</td>\n",
       "      <td>168.000000</td>\n",
       "      <td>360.00000</td>\n",
       "      <td>1.000000</td>\n",
       "    </tr>\n",
       "    <tr>\n",
       "      <th>max</th>\n",
       "      <td>81000.000000</td>\n",
       "      <td>41667.000000</td>\n",
       "      <td>700.000000</td>\n",
       "      <td>480.00000</td>\n",
       "      <td>1.000000</td>\n",
       "    </tr>\n",
       "  </tbody>\n",
       "</table>\n",
       "</div>"
      ],
      "text/plain": [
       "       ApplicantIncome  CoapplicantIncome  LoanAmount  Loan_Amount_Term  \\\n",
       "count       614.000000         614.000000  592.000000         600.00000   \n",
       "mean       5403.459283        1621.245798  146.412162         342.00000   \n",
       "std        6109.041673        2926.248369   85.587325          65.12041   \n",
       "min         150.000000           0.000000    9.000000          12.00000   \n",
       "25%        2877.500000           0.000000  100.000000         360.00000   \n",
       "50%        3812.500000        1188.500000  128.000000         360.00000   \n",
       "75%        5795.000000        2297.250000  168.000000         360.00000   \n",
       "max       81000.000000       41667.000000  700.000000         480.00000   \n",
       "\n",
       "       Credit_History  \n",
       "count      564.000000  \n",
       "mean         0.842199  \n",
       "std          0.364878  \n",
       "min          0.000000  \n",
       "25%          1.000000  \n",
       "50%          1.000000  \n",
       "75%          1.000000  \n",
       "max          1.000000  "
      ]
     },
     "execution_count": 74,
     "metadata": {},
     "output_type": "execute_result"
    }
   ],
   "source": [
    "data_train.describe()"
   ]
  },
  {
   "cell_type": "code",
   "execution_count": 75,
   "metadata": {
    "execution": {
     "iopub.execute_input": "2021-06-30T18:09:26.801598Z",
     "iopub.status.busy": "2021-06-30T18:09:26.801333Z",
     "iopub.status.idle": "2021-06-30T18:09:26.831731Z",
     "shell.execute_reply": "2021-06-30T18:09:26.830679Z",
     "shell.execute_reply.started": "2021-06-30T18:09:26.801572Z"
    }
   },
   "outputs": [
    {
     "data": {
      "text/html": [
       "<div>\n",
       "<style scoped>\n",
       "    .dataframe tbody tr th:only-of-type {\n",
       "        vertical-align: middle;\n",
       "    }\n",
       "\n",
       "    .dataframe tbody tr th {\n",
       "        vertical-align: top;\n",
       "    }\n",
       "\n",
       "    .dataframe thead th {\n",
       "        text-align: right;\n",
       "    }\n",
       "</style>\n",
       "<table border=\"1\" class=\"dataframe\">\n",
       "  <thead>\n",
       "    <tr style=\"text-align: right;\">\n",
       "      <th></th>\n",
       "      <th>ApplicantIncome</th>\n",
       "      <th>CoapplicantIncome</th>\n",
       "      <th>LoanAmount</th>\n",
       "      <th>Loan_Amount_Term</th>\n",
       "      <th>Credit_History</th>\n",
       "    </tr>\n",
       "  </thead>\n",
       "  <tbody>\n",
       "    <tr>\n",
       "      <th>count</th>\n",
       "      <td>367.000000</td>\n",
       "      <td>367.000000</td>\n",
       "      <td>362.000000</td>\n",
       "      <td>361.000000</td>\n",
       "      <td>338.000000</td>\n",
       "    </tr>\n",
       "    <tr>\n",
       "      <th>mean</th>\n",
       "      <td>4805.599455</td>\n",
       "      <td>1569.577657</td>\n",
       "      <td>136.132597</td>\n",
       "      <td>342.537396</td>\n",
       "      <td>0.825444</td>\n",
       "    </tr>\n",
       "    <tr>\n",
       "      <th>std</th>\n",
       "      <td>4910.685399</td>\n",
       "      <td>2334.232099</td>\n",
       "      <td>61.366652</td>\n",
       "      <td>65.156643</td>\n",
       "      <td>0.380150</td>\n",
       "    </tr>\n",
       "    <tr>\n",
       "      <th>min</th>\n",
       "      <td>0.000000</td>\n",
       "      <td>0.000000</td>\n",
       "      <td>28.000000</td>\n",
       "      <td>6.000000</td>\n",
       "      <td>0.000000</td>\n",
       "    </tr>\n",
       "    <tr>\n",
       "      <th>25%</th>\n",
       "      <td>2864.000000</td>\n",
       "      <td>0.000000</td>\n",
       "      <td>100.250000</td>\n",
       "      <td>360.000000</td>\n",
       "      <td>1.000000</td>\n",
       "    </tr>\n",
       "    <tr>\n",
       "      <th>50%</th>\n",
       "      <td>3786.000000</td>\n",
       "      <td>1025.000000</td>\n",
       "      <td>125.000000</td>\n",
       "      <td>360.000000</td>\n",
       "      <td>1.000000</td>\n",
       "    </tr>\n",
       "    <tr>\n",
       "      <th>75%</th>\n",
       "      <td>5060.000000</td>\n",
       "      <td>2430.500000</td>\n",
       "      <td>158.000000</td>\n",
       "      <td>360.000000</td>\n",
       "      <td>1.000000</td>\n",
       "    </tr>\n",
       "    <tr>\n",
       "      <th>max</th>\n",
       "      <td>72529.000000</td>\n",
       "      <td>24000.000000</td>\n",
       "      <td>550.000000</td>\n",
       "      <td>480.000000</td>\n",
       "      <td>1.000000</td>\n",
       "    </tr>\n",
       "  </tbody>\n",
       "</table>\n",
       "</div>"
      ],
      "text/plain": [
       "       ApplicantIncome  CoapplicantIncome  LoanAmount  Loan_Amount_Term  \\\n",
       "count       367.000000         367.000000  362.000000        361.000000   \n",
       "mean       4805.599455        1569.577657  136.132597        342.537396   \n",
       "std        4910.685399        2334.232099   61.366652         65.156643   \n",
       "min           0.000000           0.000000   28.000000          6.000000   \n",
       "25%        2864.000000           0.000000  100.250000        360.000000   \n",
       "50%        3786.000000        1025.000000  125.000000        360.000000   \n",
       "75%        5060.000000        2430.500000  158.000000        360.000000   \n",
       "max       72529.000000       24000.000000  550.000000        480.000000   \n",
       "\n",
       "       Credit_History  \n",
       "count      338.000000  \n",
       "mean         0.825444  \n",
       "std          0.380150  \n",
       "min          0.000000  \n",
       "25%          1.000000  \n",
       "50%          1.000000  \n",
       "75%          1.000000  \n",
       "max          1.000000  "
      ]
     },
     "execution_count": 75,
     "metadata": {},
     "output_type": "execute_result"
    }
   ],
   "source": [
    "data_test.describe()"
   ]
  },
  {
   "cell_type": "code",
   "execution_count": 76,
   "metadata": {
    "execution": {
     "iopub.execute_input": "2021-06-30T18:09:26.835009Z",
     "iopub.status.busy": "2021-06-30T18:09:26.834582Z",
     "iopub.status.idle": "2021-06-30T18:09:26.844470Z",
     "shell.execute_reply": "2021-06-30T18:09:26.843774Z",
     "shell.execute_reply.started": "2021-06-30T18:09:26.834944Z"
    }
   },
   "outputs": [
    {
     "data": {
      "text/plain": [
       "Loan_ID               0\n",
       "Gender               13\n",
       "Married               3\n",
       "Dependents           15\n",
       "Education             0\n",
       "Self_Employed        32\n",
       "ApplicantIncome       0\n",
       "CoapplicantIncome     0\n",
       "LoanAmount           22\n",
       "Loan_Amount_Term     14\n",
       "Credit_History       50\n",
       "Property_Area         0\n",
       "Loan_Status           0\n",
       "dtype: int64"
      ]
     },
     "execution_count": 76,
     "metadata": {},
     "output_type": "execute_result"
    }
   ],
   "source": [
    "data_train.isnull().sum()"
   ]
  },
  {
   "cell_type": "code",
   "execution_count": 77,
   "metadata": {
    "execution": {
     "iopub.execute_input": "2021-06-30T18:09:26.846297Z",
     "iopub.status.busy": "2021-06-30T18:09:26.845840Z",
     "iopub.status.idle": "2021-06-30T18:09:26.859744Z",
     "shell.execute_reply": "2021-06-30T18:09:26.858880Z",
     "shell.execute_reply.started": "2021-06-30T18:09:26.846265Z"
    }
   },
   "outputs": [
    {
     "data": {
      "text/plain": [
       "Loan_ID               0\n",
       "Gender               11\n",
       "Married               0\n",
       "Dependents           10\n",
       "Education             0\n",
       "Self_Employed        23\n",
       "ApplicantIncome       0\n",
       "CoapplicantIncome     0\n",
       "LoanAmount            5\n",
       "Loan_Amount_Term      6\n",
       "Credit_History       29\n",
       "Property_Area         0\n",
       "dtype: int64"
      ]
     },
     "execution_count": 77,
     "metadata": {},
     "output_type": "execute_result"
    }
   ],
   "source": [
    "data_test.isnull().sum()"
   ]
  },
  {
   "cell_type": "code",
   "execution_count": 78,
   "metadata": {
    "execution": {
     "iopub.execute_input": "2021-06-30T18:09:26.861679Z",
     "iopub.status.busy": "2021-06-30T18:09:26.861297Z",
     "iopub.status.idle": "2021-06-30T18:09:26.869914Z",
     "shell.execute_reply": "2021-06-30T18:09:26.868714Z",
     "shell.execute_reply.started": "2021-06-30T18:09:26.861650Z"
    }
   },
   "outputs": [
    {
     "data": {
      "text/plain": [
       "Male      489\n",
       "Female    112\n",
       "Name: Gender, dtype: int64"
      ]
     },
     "execution_count": 78,
     "metadata": {},
     "output_type": "execute_result"
    }
   ],
   "source": [
    "data_train['Gender'].value_counts()"
   ]
  },
  {
   "cell_type": "code",
   "execution_count": 79,
   "metadata": {
    "execution": {
     "iopub.execute_input": "2021-06-30T18:09:26.871836Z",
     "iopub.status.busy": "2021-06-30T18:09:26.871296Z",
     "iopub.status.idle": "2021-06-30T18:09:26.885223Z",
     "shell.execute_reply": "2021-06-30T18:09:26.884554Z",
     "shell.execute_reply.started": "2021-06-30T18:09:26.871795Z"
    }
   },
   "outputs": [
    {
     "data": {
      "text/plain": [
       "Male      286\n",
       "Female     70\n",
       "Name: Gender, dtype: int64"
      ]
     },
     "execution_count": 79,
     "metadata": {},
     "output_type": "execute_result"
    }
   ],
   "source": [
    "data_test['Gender'].value_counts()"
   ]
  },
  {
   "cell_type": "code",
   "execution_count": 80,
   "metadata": {
    "execution": {
     "iopub.execute_input": "2021-06-30T18:09:26.886862Z",
     "iopub.status.busy": "2021-06-30T18:09:26.886421Z",
     "iopub.status.idle": "2021-06-30T18:09:26.895165Z",
     "shell.execute_reply": "2021-06-30T18:09:26.894170Z",
     "shell.execute_reply.started": "2021-06-30T18:09:26.886811Z"
    }
   },
   "outputs": [],
   "source": [
    "\n",
    "\n",
    "def get_combined_data():\n",
    "    train = pd.read_csv('../input/loan-prediction-av/train_ctrUa4K.csv')\n",
    "    test = pd.read_csv('../input/loan-prediction-av/test_lAUu6dG.csv')\n",
    "    \n",
    "    targets = train.Loan_Status\n",
    "    train.drop('Loan_Status', 1, inplace=True)\n",
    "    combined = train.append(test)\n",
    "    combined.reset_index(inplace=True)\n",
    "    combined.drop(['index', 'Loan_ID'], inplace=True, axis=1)\n",
    "    return combined\n",
    "\n"
   ]
  },
  {
   "cell_type": "code",
   "execution_count": 81,
   "metadata": {
    "execution": {
     "iopub.execute_input": "2021-06-30T18:09:26.896549Z",
     "iopub.status.busy": "2021-06-30T18:09:26.896281Z",
     "iopub.status.idle": "2021-06-30T18:09:26.943383Z",
     "shell.execute_reply": "2021-06-30T18:09:26.942391Z",
     "shell.execute_reply.started": "2021-06-30T18:09:26.896524Z"
    }
   },
   "outputs": [
    {
     "data": {
      "text/html": [
       "<div>\n",
       "<style scoped>\n",
       "    .dataframe tbody tr th:only-of-type {\n",
       "        vertical-align: middle;\n",
       "    }\n",
       "\n",
       "    .dataframe tbody tr th {\n",
       "        vertical-align: top;\n",
       "    }\n",
       "\n",
       "    .dataframe thead th {\n",
       "        text-align: right;\n",
       "    }\n",
       "</style>\n",
       "<table border=\"1\" class=\"dataframe\">\n",
       "  <thead>\n",
       "    <tr style=\"text-align: right;\">\n",
       "      <th></th>\n",
       "      <th>ApplicantIncome</th>\n",
       "      <th>CoapplicantIncome</th>\n",
       "      <th>LoanAmount</th>\n",
       "      <th>Loan_Amount_Term</th>\n",
       "      <th>Credit_History</th>\n",
       "    </tr>\n",
       "  </thead>\n",
       "  <tbody>\n",
       "    <tr>\n",
       "      <th>count</th>\n",
       "      <td>981.000000</td>\n",
       "      <td>981.000000</td>\n",
       "      <td>954.000000</td>\n",
       "      <td>961.000000</td>\n",
       "      <td>902.000000</td>\n",
       "    </tr>\n",
       "    <tr>\n",
       "      <th>mean</th>\n",
       "      <td>5179.795107</td>\n",
       "      <td>1601.916330</td>\n",
       "      <td>142.511530</td>\n",
       "      <td>342.201873</td>\n",
       "      <td>0.835920</td>\n",
       "    </tr>\n",
       "    <tr>\n",
       "      <th>std</th>\n",
       "      <td>5695.104533</td>\n",
       "      <td>2718.772806</td>\n",
       "      <td>77.421743</td>\n",
       "      <td>65.100602</td>\n",
       "      <td>0.370553</td>\n",
       "    </tr>\n",
       "    <tr>\n",
       "      <th>min</th>\n",
       "      <td>0.000000</td>\n",
       "      <td>0.000000</td>\n",
       "      <td>9.000000</td>\n",
       "      <td>6.000000</td>\n",
       "      <td>0.000000</td>\n",
       "    </tr>\n",
       "    <tr>\n",
       "      <th>25%</th>\n",
       "      <td>2875.000000</td>\n",
       "      <td>0.000000</td>\n",
       "      <td>100.000000</td>\n",
       "      <td>360.000000</td>\n",
       "      <td>1.000000</td>\n",
       "    </tr>\n",
       "    <tr>\n",
       "      <th>50%</th>\n",
       "      <td>3800.000000</td>\n",
       "      <td>1110.000000</td>\n",
       "      <td>126.000000</td>\n",
       "      <td>360.000000</td>\n",
       "      <td>1.000000</td>\n",
       "    </tr>\n",
       "    <tr>\n",
       "      <th>75%</th>\n",
       "      <td>5516.000000</td>\n",
       "      <td>2365.000000</td>\n",
       "      <td>162.000000</td>\n",
       "      <td>360.000000</td>\n",
       "      <td>1.000000</td>\n",
       "    </tr>\n",
       "    <tr>\n",
       "      <th>max</th>\n",
       "      <td>81000.000000</td>\n",
       "      <td>41667.000000</td>\n",
       "      <td>700.000000</td>\n",
       "      <td>480.000000</td>\n",
       "      <td>1.000000</td>\n",
       "    </tr>\n",
       "  </tbody>\n",
       "</table>\n",
       "</div>"
      ],
      "text/plain": [
       "       ApplicantIncome  CoapplicantIncome  LoanAmount  Loan_Amount_Term  \\\n",
       "count       981.000000         981.000000  954.000000        961.000000   \n",
       "mean       5179.795107        1601.916330  142.511530        342.201873   \n",
       "std        5695.104533        2718.772806   77.421743         65.100602   \n",
       "min           0.000000           0.000000    9.000000          6.000000   \n",
       "25%        2875.000000           0.000000  100.000000        360.000000   \n",
       "50%        3800.000000        1110.000000  126.000000        360.000000   \n",
       "75%        5516.000000        2365.000000  162.000000        360.000000   \n",
       "max       81000.000000       41667.000000  700.000000        480.000000   \n",
       "\n",
       "       Credit_History  \n",
       "count      902.000000  \n",
       "mean         0.835920  \n",
       "std          0.370553  \n",
       "min          0.000000  \n",
       "25%          1.000000  \n",
       "50%          1.000000  \n",
       "75%          1.000000  \n",
       "max          1.000000  "
      ]
     },
     "execution_count": 81,
     "metadata": {},
     "output_type": "execute_result"
    }
   ],
   "source": [
    "combined = get_combined_data()\n",
    "combined.describe()\n"
   ]
  },
  {
   "cell_type": "code",
   "execution_count": 82,
   "metadata": {
    "execution": {
     "iopub.execute_input": "2021-06-30T18:09:26.944786Z",
     "iopub.status.busy": "2021-06-30T18:09:26.944518Z",
     "iopub.status.idle": "2021-06-30T18:09:26.948665Z",
     "shell.execute_reply": "2021-06-30T18:09:26.947833Z",
     "shell.execute_reply.started": "2021-06-30T18:09:26.944760Z"
    }
   },
   "outputs": [],
   "source": [
    "def impute_gender():\n",
    "    global combined\n",
    "    combined['Gender'].fillna('Male', inplace=True)"
   ]
  },
  {
   "cell_type": "code",
   "execution_count": 83,
   "metadata": {
    "execution": {
     "iopub.execute_input": "2021-06-30T18:09:26.950751Z",
     "iopub.status.busy": "2021-06-30T18:09:26.950340Z",
     "iopub.status.idle": "2021-06-30T18:09:26.964226Z",
     "shell.execute_reply": "2021-06-30T18:09:26.963228Z",
     "shell.execute_reply.started": "2021-06-30T18:09:26.950723Z"
    }
   },
   "outputs": [],
   "source": [
    "def impute_martial_status():\n",
    "    global combined\n",
    "    combined['Married'].fillna('Yes', inplace=True)\n",
    "\n",
    "def impute_employment():\n",
    "    global combined\n",
    "    combined.loc[(combined.Self_Employed.isnull())&(combined.Credit_History==1),'Self_Employed'] ='No'\n",
    "    combined.loc[(combined.Self_Employed.isnull()),'Self_Employed'] = 'Yes'"
   ]
  },
  {
   "cell_type": "code",
   "execution_count": null,
   "metadata": {},
   "outputs": [],
   "source": []
  },
  {
   "cell_type": "code",
   "execution_count": 84,
   "metadata": {
    "execution": {
     "iopub.execute_input": "2021-06-30T18:09:26.967289Z",
     "iopub.status.busy": "2021-06-30T18:09:26.966961Z",
     "iopub.status.idle": "2021-06-30T18:09:26.975492Z",
     "shell.execute_reply": "2021-06-30T18:09:26.974403Z",
     "shell.execute_reply.started": "2021-06-30T18:09:26.967261Z"
    }
   },
   "outputs": [],
   "source": [
    "def impute_credit_history():\n",
    "    global combined\n",
    "    combined.loc[(combined.Credit_History.isnull()),'Credit_History'] = 2"
   ]
  },
  {
   "cell_type": "code",
   "execution_count": 85,
   "metadata": {
    "execution": {
     "iopub.execute_input": "2021-06-30T18:09:26.977679Z",
     "iopub.status.busy": "2021-06-30T18:09:26.977365Z",
     "iopub.status.idle": "2021-06-30T18:09:26.985792Z",
     "shell.execute_reply": "2021-06-30T18:09:26.984838Z",
     "shell.execute_reply.started": "2021-06-30T18:09:26.977652Z"
    }
   },
   "outputs": [],
   "source": [
    "def impute_loan_amount():\n",
    "    global combined\n",
    "    combined['LoanAmount'].fillna(combined['LoanAmount'].median(), inplace=True)\n",
    "\n",
    "\n",
    "\n",
    "\n"
   ]
  },
  {
   "cell_type": "code",
   "execution_count": 86,
   "metadata": {
    "execution": {
     "iopub.execute_input": "2021-06-30T18:09:26.987290Z",
     "iopub.status.busy": "2021-06-30T18:09:26.987028Z",
     "iopub.status.idle": "2021-06-30T18:09:26.999452Z",
     "shell.execute_reply": "2021-06-30T18:09:26.998621Z",
     "shell.execute_reply.started": "2021-06-30T18:09:26.987265Z"
    }
   },
   "outputs": [],
   "source": [
    "impute_gender()\n",
    "impute_martial_status()\n",
    "impute_employment()\n",
    "impute_loan_amount()\n",
    "impute_credit_history()"
   ]
  },
  {
   "cell_type": "code",
   "execution_count": 87,
   "metadata": {
    "execution": {
     "iopub.execute_input": "2021-06-30T18:09:27.000858Z",
     "iopub.status.busy": "2021-06-30T18:09:27.000472Z",
     "iopub.status.idle": "2021-06-30T18:09:27.008368Z",
     "shell.execute_reply": "2021-06-30T18:09:27.007746Z",
     "shell.execute_reply.started": "2021-06-30T18:09:27.000830Z"
    }
   },
   "outputs": [
    {
     "data": {
      "text/plain": [
       "Gender                0\n",
       "Married               0\n",
       "Dependents           25\n",
       "Education             0\n",
       "Self_Employed         0\n",
       "ApplicantIncome       0\n",
       "CoapplicantIncome     0\n",
       "LoanAmount            0\n",
       "Loan_Amount_Term     20\n",
       "Credit_History        0\n",
       "Property_Area         0\n",
       "dtype: int64"
      ]
     },
     "execution_count": 87,
     "metadata": {},
     "output_type": "execute_result"
    }
   ],
   "source": [
    "combined.isnull().sum()"
   ]
  },
  {
   "cell_type": "code",
   "execution_count": 88,
   "metadata": {
    "execution": {
     "iopub.execute_input": "2021-06-30T18:09:27.009678Z",
     "iopub.status.busy": "2021-06-30T18:09:27.009295Z",
     "iopub.status.idle": "2021-06-30T18:09:27.020089Z",
     "shell.execute_reply": "2021-06-30T18:09:27.019085Z",
     "shell.execute_reply.started": "2021-06-30T18:09:27.009651Z"
    }
   },
   "outputs": [
    {
     "data": {
      "text/plain": [
       "1.0    754\n",
       "0.0    148\n",
       "2.0     79\n",
       "Name: Credit_History, dtype: int64"
      ]
     },
     "execution_count": 88,
     "metadata": {},
     "output_type": "execute_result"
    }
   ],
   "source": [
    "combined['Credit_History'].value_counts()\n"
   ]
  },
  {
   "cell_type": "code",
   "execution_count": 89,
   "metadata": {
    "execution": {
     "iopub.execute_input": "2021-06-30T18:09:27.021752Z",
     "iopub.status.busy": "2021-06-30T18:09:27.021455Z",
     "iopub.status.idle": "2021-06-30T18:09:27.030523Z",
     "shell.execute_reply": "2021-06-30T18:09:27.029671Z",
     "shell.execute_reply.started": "2021-06-30T18:09:27.021712Z"
    }
   },
   "outputs": [],
   "source": [
    "def process_gender():\n",
    "    global combined\n",
    "    combined['Gender'] = combined['Gender'].map({'Male':1,'Female':0})"
   ]
  },
  {
   "cell_type": "code",
   "execution_count": 90,
   "metadata": {
    "execution": {
     "iopub.execute_input": "2021-06-30T18:09:27.032065Z",
     "iopub.status.busy": "2021-06-30T18:09:27.031614Z",
     "iopub.status.idle": "2021-06-30T18:09:27.041551Z",
     "shell.execute_reply": "2021-06-30T18:09:27.040820Z",
     "shell.execute_reply.started": "2021-06-30T18:09:27.032036Z"
    }
   },
   "outputs": [],
   "source": [
    "\n",
    "\n",
    "def process_martial_status():\n",
    "    global combined\n",
    "    combined['Married'] = combined['Married'].map({'Yes':1,'No':0})\n",
    "\n"
   ]
  },
  {
   "cell_type": "code",
   "execution_count": 91,
   "metadata": {
    "execution": {
     "iopub.execute_input": "2021-06-30T18:09:27.043004Z",
     "iopub.status.busy": "2021-06-30T18:09:27.042568Z",
     "iopub.status.idle": "2021-06-30T18:09:27.053551Z",
     "shell.execute_reply": "2021-06-30T18:09:27.052477Z",
     "shell.execute_reply.started": "2021-06-30T18:09:27.042960Z"
    }
   },
   "outputs": [],
   "source": [
    "def process_dependents():\n",
    "    global combined\n",
    "    combined['Singleton'] = combined['Dependents'].map(lambda d: 1 if d=='1' else 0)\n",
    "    combined['Small_Family'] = combined['Dependents'].map(lambda d: 1 if d=='2' else 0)\n",
    "    combined['Large_Family'] = combined['Dependents'].map(lambda d: 1 if d=='3+' else 0)\n",
    "    combined.drop(['Dependents'], axis=1, inplace=True)"
   ]
  },
  {
   "cell_type": "code",
   "execution_count": 92,
   "metadata": {
    "execution": {
     "iopub.execute_input": "2021-06-30T18:09:27.055421Z",
     "iopub.status.busy": "2021-06-30T18:09:27.054959Z",
     "iopub.status.idle": "2021-06-30T18:09:27.063951Z",
     "shell.execute_reply": "2021-06-30T18:09:27.063220Z",
     "shell.execute_reply.started": "2021-06-30T18:09:27.055392Z"
    }
   },
   "outputs": [],
   "source": [
    "def process_education():\n",
    "    global combined\n",
    "    combined['Education'] = combined['Education'].map({'Graduate':1,'Not Graduate':0})"
   ]
  },
  {
   "cell_type": "code",
   "execution_count": 93,
   "metadata": {
    "execution": {
     "iopub.execute_input": "2021-06-30T18:09:27.065832Z",
     "iopub.status.busy": "2021-06-30T18:09:27.065260Z",
     "iopub.status.idle": "2021-06-30T18:09:27.074525Z",
     "shell.execute_reply": "2021-06-30T18:09:27.073588Z",
     "shell.execute_reply.started": "2021-06-30T18:09:27.065788Z"
    }
   },
   "outputs": [],
   "source": [
    "\n",
    "\n",
    "def process_employment():\n",
    "    global combined\n",
    "    combined['Self_Employed'] = combined['Self_Employed'].map({'Yes':1,'No':0})\n",
    "\n"
   ]
  },
  {
   "cell_type": "code",
   "execution_count": 94,
   "metadata": {
    "execution": {
     "iopub.execute_input": "2021-06-30T18:09:27.076695Z",
     "iopub.status.busy": "2021-06-30T18:09:27.076132Z",
     "iopub.status.idle": "2021-06-30T18:09:27.085155Z",
     "shell.execute_reply": "2021-06-30T18:09:27.084222Z",
     "shell.execute_reply.started": "2021-06-30T18:09:27.076651Z"
    }
   },
   "outputs": [],
   "source": [
    "\n",
    "\n",
    "def process_income():\n",
    "    global combined\n",
    "    combined['Total_Income'] = combined['ApplicantIncome'] + combined['CoapplicantIncome']\n",
    "    combined.drop(['ApplicantIncome','CoapplicantIncome'], axis=1, inplace=True)\n",
    "\n"
   ]
  },
  {
   "cell_type": "code",
   "execution_count": 95,
   "metadata": {
    "execution": {
     "iopub.execute_input": "2021-06-30T18:09:27.087192Z",
     "iopub.status.busy": "2021-06-30T18:09:27.086624Z",
     "iopub.status.idle": "2021-06-30T18:09:27.095297Z",
     "shell.execute_reply": "2021-06-30T18:09:27.094581Z",
     "shell.execute_reply.started": "2021-06-30T18:09:27.087152Z"
    }
   },
   "outputs": [],
   "source": [
    "def process_loan_amount():\n",
    "    global combined\n",
    "    combined['Debt_Income_Ratio'] = combined['Total_Income'] / combined['LoanAmount']"
   ]
  },
  {
   "cell_type": "code",
   "execution_count": 96,
   "metadata": {
    "execution": {
     "iopub.execute_input": "2021-06-30T18:09:27.097082Z",
     "iopub.status.busy": "2021-06-30T18:09:27.096532Z",
     "iopub.status.idle": "2021-06-30T18:09:27.115536Z",
     "shell.execute_reply": "2021-06-30T18:09:27.114276Z",
     "shell.execute_reply.started": "2021-06-30T18:09:27.097040Z"
    }
   },
   "outputs": [
    {
     "data": {
      "text/plain": [
       "360.0    823\n",
       "180.0     66\n",
       "480.0     23\n",
       "300.0     20\n",
       "240.0      8\n",
       "84.0       7\n",
       "120.0      4\n",
       "36.0       3\n",
       "60.0       3\n",
       "12.0       2\n",
       "350.0      1\n",
       "6.0        1\n",
       "Name: Loan_Amount_Term, dtype: int64"
      ]
     },
     "execution_count": 96,
     "metadata": {},
     "output_type": "execute_result"
    }
   ],
   "source": [
    "combined['Loan_Amount_Term'].value_counts()"
   ]
  },
  {
   "cell_type": "code",
   "execution_count": 97,
   "metadata": {
    "execution": {
     "iopub.execute_input": "2021-06-30T18:09:27.117005Z",
     "iopub.status.busy": "2021-06-30T18:09:27.116702Z",
     "iopub.status.idle": "2021-06-30T18:09:27.439975Z",
     "shell.execute_reply": "2021-06-30T18:09:27.438941Z",
     "shell.execute_reply.started": "2021-06-30T18:09:27.116956Z"
    }
   },
   "outputs": [
    {
     "data": {
      "text/plain": [
       "<AxesSubplot:>"
      ]
     },
     "execution_count": 97,
     "metadata": {},
     "output_type": "execute_result"
    },
    {
     "data": {
      "image/png": "[encoded data removed]",
      "text/plain": [
       "<Figure size 1080x576 with 1 Axes>"
      ]
     },
     "metadata": {
      "needs_background": "light"
     },
     "output_type": "display_data"
    }
   ],
   "source": [
    "approved_term = data_train[data_train['Loan_Status']=='Y']['Loan_Amount_Term'].value_counts()\n",
    "unapproved_term = data_train[data_train['Loan_Status']=='N']['Loan_Amount_Term'].value_counts()\n",
    "df = pd.DataFrame([approved_term,unapproved_term])\n",
    "df.index = ['Approved','Unapproved']\n",
    "df.plot(kind='bar', stacked=True, figsize=(15,8))"
   ]
  },
  {
   "cell_type": "code",
   "execution_count": 98,
   "metadata": {
    "execution": {
     "iopub.execute_input": "2021-06-30T18:09:27.441591Z",
     "iopub.status.busy": "2021-06-30T18:09:27.441298Z",
     "iopub.status.idle": "2021-06-30T18:09:27.448230Z",
     "shell.execute_reply": "2021-06-30T18:09:27.447086Z",
     "shell.execute_reply.started": "2021-06-30T18:09:27.441563Z"
    }
   },
   "outputs": [],
   "source": [
    "def process_loan_term():\n",
    "    global combined\n",
    "    combined['Very_Short_Term'] = combined['Loan_Amount_Term'].map(lambda t: 1 if t<=60 else 0)\n",
    "    combined['Short_Term'] = combined['Loan_Amount_Term'].map(lambda t: 1 if t>60 and t<180 else 0)\n",
    "    combined['Long_Term'] = combined['Loan_Amount_Term'].map(lambda t: 1 if t>=180 and t<=300  else 0)\n",
    "    combined['Very_Long_Term'] = combined['Loan_Amount_Term'].map(lambda t: 1 if t>300 else 0)\n",
    "    combined.drop('Loan_Amount_Term', axis=1, inplace=True)"
   ]
  },
  {
   "cell_type": "code",
   "execution_count": 99,
   "metadata": {
    "execution": {
     "iopub.execute_input": "2021-06-30T18:09:27.449694Z",
     "iopub.status.busy": "2021-06-30T18:09:27.449375Z",
     "iopub.status.idle": "2021-06-30T18:09:27.461440Z",
     "shell.execute_reply": "2021-06-30T18:09:27.460169Z",
     "shell.execute_reply.started": "2021-06-30T18:09:27.449666Z"
    }
   },
   "outputs": [],
   "source": [
    "def process_credit_history():\n",
    "    global combined\n",
    "    combined['Credit_History_Bad'] = combined['Credit_History'].map(lambda c: 1 if c==0 else 0)\n",
    "    combined['Credit_History_Good'] = combined['Credit_History'].map(lambda c: 1 if c==1 else 0)\n",
    "    combined['Credit_History_Unknown'] = combined['Credit_History'].map(lambda c: 1 if c==2 else 0)\n",
    "    combined.drop('Credit_History', axis=1, inplace=True)"
   ]
  },
  {
   "cell_type": "code",
   "execution_count": 100,
   "metadata": {
    "execution": {
     "iopub.execute_input": "2021-06-30T18:09:27.463085Z",
     "iopub.status.busy": "2021-06-30T18:09:27.462725Z",
     "iopub.status.idle": "2021-06-30T18:09:27.471689Z",
     "shell.execute_reply": "2021-06-30T18:09:27.470773Z",
     "shell.execute_reply.started": "2021-06-30T18:09:27.463055Z"
    }
   },
   "outputs": [],
   "source": [
    "def process_property():\n",
    "    global combined\n",
    "    combined[\"Property_Area\"] = combined[\"Property_Area\"].map({\"Rural\":0, \"Semiurban\":1, \"Urban\": 2,})"
   ]
  },
  {
   "cell_type": "code",
   "execution_count": 101,
   "metadata": {
    "execution": {
     "iopub.execute_input": "2021-06-30T18:09:27.473485Z",
     "iopub.status.busy": "2021-06-30T18:09:27.473089Z",
     "iopub.status.idle": "2021-06-30T18:09:27.510256Z",
     "shell.execute_reply": "2021-06-30T18:09:27.509190Z",
     "shell.execute_reply.started": "2021-06-30T18:09:27.473444Z"
    }
   },
   "outputs": [],
   "source": [
    "process_gender()\n",
    "process_martial_status()\n",
    "process_dependents()\n",
    "process_education()\n",
    "process_employment()\n",
    "process_income()\n",
    "process_loan_amount()\n",
    "process_loan_term()\n",
    "process_credit_history()\n",
    "process_property()\n",
    "\n",
    "\n",
    "\n"
   ]
  },
  {
   "cell_type": "code",
   "execution_count": 102,
   "metadata": {
    "execution": {
     "iopub.execute_input": "2021-06-30T18:09:27.511772Z",
     "iopub.status.busy": "2021-06-30T18:09:27.511503Z",
     "iopub.status.idle": "2021-06-30T18:09:27.534046Z",
     "shell.execute_reply": "2021-06-30T18:09:27.533074Z",
     "shell.execute_reply.started": "2021-06-30T18:09:27.511746Z"
    }
   },
   "outputs": [
    {
     "data": {
      "text/html": [
       "<div>\n",
       "<style scoped>\n",
       "    .dataframe tbody tr th:only-of-type {\n",
       "        vertical-align: middle;\n",
       "    }\n",
       "\n",
       "    .dataframe tbody tr th {\n",
       "        vertical-align: top;\n",
       "    }\n",
       "\n",
       "    .dataframe thead th {\n",
       "        text-align: right;\n",
       "    }\n",
       "</style>\n",
       "<table border=\"1\" class=\"dataframe\">\n",
       "  <thead>\n",
       "    <tr style=\"text-align: right;\">\n",
       "      <th></th>\n",
       "      <th>Gender</th>\n",
       "      <th>Married</th>\n",
       "      <th>Education</th>\n",
       "      <th>Self_Employed</th>\n",
       "      <th>LoanAmount</th>\n",
       "      <th>Property_Area</th>\n",
       "      <th>Singleton</th>\n",
       "      <th>Small_Family</th>\n",
       "      <th>Large_Family</th>\n",
       "      <th>Total_Income</th>\n",
       "      <th>Debt_Income_Ratio</th>\n",
       "      <th>Very_Short_Term</th>\n",
       "      <th>Short_Term</th>\n",
       "      <th>Long_Term</th>\n",
       "      <th>Very_Long_Term</th>\n",
       "      <th>Credit_History_Bad</th>\n",
       "      <th>Credit_History_Good</th>\n",
       "      <th>Credit_History_Unknown</th>\n",
       "    </tr>\n",
       "  </thead>\n",
       "  <tbody>\n",
       "    <tr>\n",
       "      <th>60</th>\n",
       "      <td>1</td>\n",
       "      <td>1</td>\n",
       "      <td>1</td>\n",
       "      <td>0</td>\n",
       "      <td>120.0</td>\n",
       "      <td>2</td>\n",
       "      <td>0</td>\n",
       "      <td>0</td>\n",
       "      <td>0</td>\n",
       "      <td>6296.0</td>\n",
       "      <td>52.466667</td>\n",
       "      <td>0</td>\n",
       "      <td>0</td>\n",
       "      <td>0</td>\n",
       "      <td>1</td>\n",
       "      <td>0</td>\n",
       "      <td>1</td>\n",
       "      <td>0</td>\n",
       "    </tr>\n",
       "    <tr>\n",
       "      <th>61</th>\n",
       "      <td>1</td>\n",
       "      <td>1</td>\n",
       "      <td>1</td>\n",
       "      <td>0</td>\n",
       "      <td>99.0</td>\n",
       "      <td>2</td>\n",
       "      <td>0</td>\n",
       "      <td>0</td>\n",
       "      <td>1</td>\n",
       "      <td>3029.0</td>\n",
       "      <td>30.595960</td>\n",
       "      <td>0</td>\n",
       "      <td>0</td>\n",
       "      <td>0</td>\n",
       "      <td>1</td>\n",
       "      <td>0</td>\n",
       "      <td>1</td>\n",
       "      <td>0</td>\n",
       "    </tr>\n",
       "    <tr>\n",
       "      <th>62</th>\n",
       "      <td>1</td>\n",
       "      <td>1</td>\n",
       "      <td>0</td>\n",
       "      <td>1</td>\n",
       "      <td>165.0</td>\n",
       "      <td>0</td>\n",
       "      <td>0</td>\n",
       "      <td>0</td>\n",
       "      <td>0</td>\n",
       "      <td>6058.0</td>\n",
       "      <td>36.715152</td>\n",
       "      <td>0</td>\n",
       "      <td>0</td>\n",
       "      <td>1</td>\n",
       "      <td>0</td>\n",
       "      <td>1</td>\n",
       "      <td>0</td>\n",
       "      <td>0</td>\n",
       "    </tr>\n",
       "    <tr>\n",
       "      <th>63</th>\n",
       "      <td>1</td>\n",
       "      <td>1</td>\n",
       "      <td>1</td>\n",
       "      <td>0</td>\n",
       "      <td>126.0</td>\n",
       "      <td>0</td>\n",
       "      <td>1</td>\n",
       "      <td>0</td>\n",
       "      <td>0</td>\n",
       "      <td>4945.0</td>\n",
       "      <td>39.246032</td>\n",
       "      <td>0</td>\n",
       "      <td>0</td>\n",
       "      <td>0</td>\n",
       "      <td>1</td>\n",
       "      <td>1</td>\n",
       "      <td>0</td>\n",
       "      <td>0</td>\n",
       "    </tr>\n",
       "    <tr>\n",
       "      <th>64</th>\n",
       "      <td>0</td>\n",
       "      <td>0</td>\n",
       "      <td>1</td>\n",
       "      <td>0</td>\n",
       "      <td>116.0</td>\n",
       "      <td>1</td>\n",
       "      <td>0</td>\n",
       "      <td>0</td>\n",
       "      <td>0</td>\n",
       "      <td>4166.0</td>\n",
       "      <td>35.913793</td>\n",
       "      <td>0</td>\n",
       "      <td>0</td>\n",
       "      <td>0</td>\n",
       "      <td>1</td>\n",
       "      <td>1</td>\n",
       "      <td>0</td>\n",
       "      <td>0</td>\n",
       "    </tr>\n",
       "    <tr>\n",
       "      <th>65</th>\n",
       "      <td>1</td>\n",
       "      <td>1</td>\n",
       "      <td>1</td>\n",
       "      <td>0</td>\n",
       "      <td>258.0</td>\n",
       "      <td>1</td>\n",
       "      <td>0</td>\n",
       "      <td>0</td>\n",
       "      <td>0</td>\n",
       "      <td>10321.0</td>\n",
       "      <td>40.003876</td>\n",
       "      <td>0</td>\n",
       "      <td>0</td>\n",
       "      <td>0</td>\n",
       "      <td>1</td>\n",
       "      <td>0</td>\n",
       "      <td>1</td>\n",
       "      <td>0</td>\n",
       "    </tr>\n",
       "    <tr>\n",
       "      <th>66</th>\n",
       "      <td>1</td>\n",
       "      <td>0</td>\n",
       "      <td>0</td>\n",
       "      <td>0</td>\n",
       "      <td>126.0</td>\n",
       "      <td>2</td>\n",
       "      <td>0</td>\n",
       "      <td>0</td>\n",
       "      <td>0</td>\n",
       "      <td>5454.0</td>\n",
       "      <td>43.285714</td>\n",
       "      <td>0</td>\n",
       "      <td>0</td>\n",
       "      <td>1</td>\n",
       "      <td>0</td>\n",
       "      <td>1</td>\n",
       "      <td>0</td>\n",
       "      <td>0</td>\n",
       "    </tr>\n",
       "    <tr>\n",
       "      <th>67</th>\n",
       "      <td>1</td>\n",
       "      <td>1</td>\n",
       "      <td>1</td>\n",
       "      <td>0</td>\n",
       "      <td>312.0</td>\n",
       "      <td>2</td>\n",
       "      <td>1</td>\n",
       "      <td>0</td>\n",
       "      <td>0</td>\n",
       "      <td>10750.0</td>\n",
       "      <td>34.455128</td>\n",
       "      <td>0</td>\n",
       "      <td>0</td>\n",
       "      <td>0</td>\n",
       "      <td>1</td>\n",
       "      <td>0</td>\n",
       "      <td>1</td>\n",
       "      <td>0</td>\n",
       "    </tr>\n",
       "    <tr>\n",
       "      <th>68</th>\n",
       "      <td>1</td>\n",
       "      <td>1</td>\n",
       "      <td>0</td>\n",
       "      <td>1</td>\n",
       "      <td>125.0</td>\n",
       "      <td>2</td>\n",
       "      <td>0</td>\n",
       "      <td>0</td>\n",
       "      <td>1</td>\n",
       "      <td>7100.0</td>\n",
       "      <td>56.800000</td>\n",
       "      <td>1</td>\n",
       "      <td>0</td>\n",
       "      <td>0</td>\n",
       "      <td>0</td>\n",
       "      <td>0</td>\n",
       "      <td>1</td>\n",
       "      <td>0</td>\n",
       "    </tr>\n",
       "    <tr>\n",
       "      <th>69</th>\n",
       "      <td>0</td>\n",
       "      <td>0</td>\n",
       "      <td>1</td>\n",
       "      <td>0</td>\n",
       "      <td>136.0</td>\n",
       "      <td>1</td>\n",
       "      <td>0</td>\n",
       "      <td>0</td>\n",
       "      <td>0</td>\n",
       "      <td>4300.0</td>\n",
       "      <td>31.617647</td>\n",
       "      <td>0</td>\n",
       "      <td>0</td>\n",
       "      <td>0</td>\n",
       "      <td>1</td>\n",
       "      <td>1</td>\n",
       "      <td>0</td>\n",
       "      <td>0</td>\n",
       "    </tr>\n",
       "  </tbody>\n",
       "</table>\n",
       "</div>"
      ],
      "text/plain": [
       "    Gender  Married  Education  Self_Employed  LoanAmount  Property_Area  \\\n",
       "60       1        1          1              0       120.0              2   \n",
       "61       1        1          1              0        99.0              2   \n",
       "62       1        1          0              1       165.0              0   \n",
       "63       1        1          1              0       126.0              0   \n",
       "64       0        0          1              0       116.0              1   \n",
       "65       1        1          1              0       258.0              1   \n",
       "66       1        0          0              0       126.0              2   \n",
       "67       1        1          1              0       312.0              2   \n",
       "68       1        1          0              1       125.0              2   \n",
       "69       0        0          1              0       136.0              1   \n",
       "\n",
       "    Singleton  Small_Family  Large_Family  Total_Income  Debt_Income_Ratio  \\\n",
       "60          0             0             0        6296.0          52.466667   \n",
       "61          0             0             1        3029.0          30.595960   \n",
       "62          0             0             0        6058.0          36.715152   \n",
       "63          1             0             0        4945.0          39.246032   \n",
       "64          0             0             0        4166.0          35.913793   \n",
       "65          0             0             0       10321.0          40.003876   \n",
       "66          0             0             0        5454.0          43.285714   \n",
       "67          1             0             0       10750.0          34.455128   \n",
       "68          0             0             1        7100.0          56.800000   \n",
       "69          0             0             0        4300.0          31.617647   \n",
       "\n",
       "    Very_Short_Term  Short_Term  Long_Term  Very_Long_Term  \\\n",
       "60                0           0          0               1   \n",
       "61                0           0          0               1   \n",
       "62                0           0          1               0   \n",
       "63                0           0          0               1   \n",
       "64                0           0          0               1   \n",
       "65                0           0          0               1   \n",
       "66                0           0          1               0   \n",
       "67                0           0          0               1   \n",
       "68                1           0          0               0   \n",
       "69                0           0          0               1   \n",
       "\n",
       "    Credit_History_Bad  Credit_History_Good  Credit_History_Unknown  \n",
       "60                   0                    1                       0  \n",
       "61                   0                    1                       0  \n",
       "62                   1                    0                       0  \n",
       "63                   1                    0                       0  \n",
       "64                   1                    0                       0  \n",
       "65                   0                    1                       0  \n",
       "66                   1                    0                       0  \n",
       "67                   0                    1                       0  \n",
       "68                   0                    1                       0  \n",
       "69                   1                    0                       0  "
      ]
     },
     "execution_count": 102,
     "metadata": {},
     "output_type": "execute_result"
    }
   ],
   "source": [
    "combined[60:70]"
   ]
  },
  {
   "cell_type": "code",
   "execution_count": 103,
   "metadata": {
    "execution": {
     "iopub.execute_input": "2021-06-30T18:09:27.535950Z",
     "iopub.status.busy": "2021-06-30T18:09:27.535537Z",
     "iopub.status.idle": "2021-06-30T18:09:27.540397Z",
     "shell.execute_reply": "2021-06-30T18:09:27.539663Z",
     "shell.execute_reply.started": "2021-06-30T18:09:27.535900Z"
    }
   },
   "outputs": [],
   "source": [
    "\n",
    "\n",
    "def feature_scaling(df):\n",
    "    df -= df.min()\n",
    "    df /= df.max()\n",
    "    return df\n",
    "\n"
   ]
  },
  {
   "cell_type": "code",
   "execution_count": 104,
   "metadata": {
    "execution": {
     "iopub.execute_input": "2021-06-30T18:09:27.541745Z",
     "iopub.status.busy": "2021-06-30T18:09:27.541389Z",
     "iopub.status.idle": "2021-06-30T18:09:27.554594Z",
     "shell.execute_reply": "2021-06-30T18:09:27.553779Z",
     "shell.execute_reply.started": "2021-06-30T18:09:27.541713Z"
    }
   },
   "outputs": [],
   "source": [
    "combined['LoanAmount'] = feature_scaling(combined['LoanAmount'])\n",
    "combined['Total_Income'] = feature_scaling(combined['Total_Income'])\n",
    "combined['Debt_Income_Ratio'] = feature_scaling(combined['Debt_Income_Ratio'])\n"
   ]
  },
  {
   "cell_type": "code",
   "execution_count": 105,
   "metadata": {
    "execution": {
     "iopub.execute_input": "2021-06-30T18:09:27.556378Z",
     "iopub.status.busy": "2021-06-30T18:09:27.555874Z",
     "iopub.status.idle": "2021-06-30T18:09:27.579751Z",
     "shell.execute_reply": "2021-06-30T18:09:27.578599Z",
     "shell.execute_reply.started": "2021-06-30T18:09:27.556348Z"
    }
   },
   "outputs": [
    {
     "data": {
      "text/html": [
       "<div>\n",
       "<style scoped>\n",
       "    .dataframe tbody tr th:only-of-type {\n",
       "        vertical-align: middle;\n",
       "    }\n",
       "\n",
       "    .dataframe tbody tr th {\n",
       "        vertical-align: top;\n",
       "    }\n",
       "\n",
       "    .dataframe thead th {\n",
       "        text-align: right;\n",
       "    }\n",
       "</style>\n",
       "<table border=\"1\" class=\"dataframe\">\n",
       "  <thead>\n",
       "    <tr style=\"text-align: right;\">\n",
       "      <th></th>\n",
       "      <th>Gender</th>\n",
       "      <th>Married</th>\n",
       "      <th>Education</th>\n",
       "      <th>Self_Employed</th>\n",
       "      <th>LoanAmount</th>\n",
       "      <th>Property_Area</th>\n",
       "      <th>Singleton</th>\n",
       "      <th>Small_Family</th>\n",
       "      <th>Large_Family</th>\n",
       "      <th>Total_Income</th>\n",
       "      <th>Debt_Income_Ratio</th>\n",
       "      <th>Very_Short_Term</th>\n",
       "      <th>Short_Term</th>\n",
       "      <th>Long_Term</th>\n",
       "      <th>Very_Long_Term</th>\n",
       "      <th>Credit_History_Bad</th>\n",
       "      <th>Credit_History_Good</th>\n",
       "      <th>Credit_History_Unknown</th>\n",
       "    </tr>\n",
       "  </thead>\n",
       "  <tbody>\n",
       "    <tr>\n",
       "      <th>0</th>\n",
       "      <td>1</td>\n",
       "      <td>0</td>\n",
       "      <td>1</td>\n",
       "      <td>0</td>\n",
       "      <td>0.169320</td>\n",
       "      <td>2</td>\n",
       "      <td>0</td>\n",
       "      <td>0</td>\n",
       "      <td>0</td>\n",
       "      <td>0.055394</td>\n",
       "      <td>0.071120</td>\n",
       "      <td>0</td>\n",
       "      <td>0</td>\n",
       "      <td>0</td>\n",
       "      <td>1</td>\n",
       "      <td>0</td>\n",
       "      <td>1</td>\n",
       "      <td>0</td>\n",
       "    </tr>\n",
       "    <tr>\n",
       "      <th>1</th>\n",
       "      <td>1</td>\n",
       "      <td>1</td>\n",
       "      <td>1</td>\n",
       "      <td>0</td>\n",
       "      <td>0.172214</td>\n",
       "      <td>0</td>\n",
       "      <td>1</td>\n",
       "      <td>0</td>\n",
       "      <td>0</td>\n",
       "      <td>0.058435</td>\n",
       "      <td>0.073382</td>\n",
       "      <td>0</td>\n",
       "      <td>0</td>\n",
       "      <td>0</td>\n",
       "      <td>1</td>\n",
       "      <td>0</td>\n",
       "      <td>1</td>\n",
       "      <td>0</td>\n",
       "    </tr>\n",
       "    <tr>\n",
       "      <th>2</th>\n",
       "      <td>1</td>\n",
       "      <td>1</td>\n",
       "      <td>1</td>\n",
       "      <td>1</td>\n",
       "      <td>0.082489</td>\n",
       "      <td>2</td>\n",
       "      <td>0</td>\n",
       "      <td>0</td>\n",
       "      <td>0</td>\n",
       "      <td>0.019583</td>\n",
       "      <td>0.069245</td>\n",
       "      <td>0</td>\n",
       "      <td>0</td>\n",
       "      <td>0</td>\n",
       "      <td>1</td>\n",
       "      <td>0</td>\n",
       "      <td>1</td>\n",
       "      <td>0</td>\n",
       "    </tr>\n",
       "    <tr>\n",
       "      <th>3</th>\n",
       "      <td>1</td>\n",
       "      <td>1</td>\n",
       "      <td>0</td>\n",
       "      <td>0</td>\n",
       "      <td>0.160637</td>\n",
       "      <td>2</td>\n",
       "      <td>0</td>\n",
       "      <td>0</td>\n",
       "      <td>0</td>\n",
       "      <td>0.043980</td>\n",
       "      <td>0.060939</td>\n",
       "      <td>0</td>\n",
       "      <td>0</td>\n",
       "      <td>0</td>\n",
       "      <td>1</td>\n",
       "      <td>0</td>\n",
       "      <td>1</td>\n",
       "      <td>0</td>\n",
       "    </tr>\n",
       "    <tr>\n",
       "      <th>4</th>\n",
       "      <td>1</td>\n",
       "      <td>0</td>\n",
       "      <td>1</td>\n",
       "      <td>0</td>\n",
       "      <td>0.191027</td>\n",
       "      <td>2</td>\n",
       "      <td>0</td>\n",
       "      <td>0</td>\n",
       "      <td>0</td>\n",
       "      <td>0.057292</td>\n",
       "      <td>0.063614</td>\n",
       "      <td>0</td>\n",
       "      <td>0</td>\n",
       "      <td>0</td>\n",
       "      <td>1</td>\n",
       "      <td>0</td>\n",
       "      <td>1</td>\n",
       "      <td>0</td>\n",
       "    </tr>\n",
       "  </tbody>\n",
       "</table>\n",
       "</div>"
      ],
      "text/plain": [
       "   Gender  Married  Education  Self_Employed  LoanAmount  Property_Area  \\\n",
       "0       1        0          1              0    0.169320              2   \n",
       "1       1        1          1              0    0.172214              0   \n",
       "2       1        1          1              1    0.082489              2   \n",
       "3       1        1          0              0    0.160637              2   \n",
       "4       1        0          1              0    0.191027              2   \n",
       "\n",
       "   Singleton  Small_Family  Large_Family  Total_Income  Debt_Income_Ratio  \\\n",
       "0          0             0             0      0.055394           0.071120   \n",
       "1          1             0             0      0.058435           0.073382   \n",
       "2          0             0             0      0.019583           0.069245   \n",
       "3          0             0             0      0.043980           0.060939   \n",
       "4          0             0             0      0.057292           0.063614   \n",
       "\n",
       "   Very_Short_Term  Short_Term  Long_Term  Very_Long_Term  Credit_History_Bad  \\\n",
       "0                0           0          0               1                   0   \n",
       "1                0           0          0               1                   0   \n",
       "2                0           0          0               1                   0   \n",
       "3                0           0          0               1                   0   \n",
       "4                0           0          0               1                   0   \n",
       "\n",
       "   Credit_History_Good  Credit_History_Unknown  \n",
       "0                    1                       0  \n",
       "1                    1                       0  \n",
       "2                    1                       0  \n",
       "3                    1                       0  \n",
       "4                    1                       0  "
      ]
     },
     "execution_count": 105,
     "metadata": {},
     "output_type": "execute_result"
    }
   ],
   "source": [
    "combined.head()"
   ]
  },
  {
   "cell_type": "code",
   "execution_count": 106,
   "metadata": {
    "execution": {
     "iopub.execute_input": "2021-06-30T18:09:27.581623Z",
     "iopub.status.busy": "2021-06-30T18:09:27.581237Z",
     "iopub.status.idle": "2021-06-30T18:09:28.842136Z",
     "shell.execute_reply": "2021-06-30T18:09:28.841055Z",
     "shell.execute_reply.started": "2021-06-30T18:09:27.581579Z"
    }
   },
   "outputs": [],
   "source": [
    "\n",
    "\n",
    "from sklearn.model_selection import cross_val_score\n",
    "from sklearn.ensemble import RandomForestClassifier\n",
    "from sklearn.feature_selection import SelectFromModel\n",
    "\n"
   ]
  },
  {
   "cell_type": "code",
   "execution_count": 107,
   "metadata": {
    "execution": {
     "iopub.execute_input": "2021-06-30T18:09:28.845994Z",
     "iopub.status.busy": "2021-06-30T18:09:28.845686Z",
     "iopub.status.idle": "2021-06-30T18:09:28.851148Z",
     "shell.execute_reply": "2021-06-30T18:09:28.850201Z",
     "shell.execute_reply.started": "2021-06-30T18:09:28.845952Z"
    }
   },
   "outputs": [],
   "source": [
    "def compute_score(clf, X, y, scoring='accuracy'):\n",
    "    xval = cross_val_score(clf, X, y, scoring=scoring)\n",
    "    return np.mean(xval)"
   ]
  },
  {
   "cell_type": "code",
   "execution_count": 108,
   "metadata": {
    "execution": {
     "iopub.execute_input": "2021-06-30T18:09:28.856322Z",
     "iopub.status.busy": "2021-06-30T18:09:28.855946Z",
     "iopub.status.idle": "2021-06-30T18:09:28.862879Z",
     "shell.execute_reply": "2021-06-30T18:09:28.862205Z",
     "shell.execute_reply.started": "2021-06-30T18:09:28.856285Z"
    }
   },
   "outputs": [],
   "source": [
    "def recover_train_test_target():\n",
    "    global combined, data_train\n",
    "    targets = data_train['Loan_Status'].map({'Y':1,'N':0})\n",
    "    train = combined.head(614)\n",
    "    test = combined.iloc[614:]\n",
    "    return train, test, targets"
   ]
  },
  {
   "cell_type": "code",
   "execution_count": 109,
   "metadata": {
    "execution": {
     "iopub.execute_input": "2021-06-30T18:09:28.865178Z",
     "iopub.status.busy": "2021-06-30T18:09:28.864616Z",
     "iopub.status.idle": "2021-06-30T18:09:28.874621Z",
     "shell.execute_reply": "2021-06-30T18:09:28.873832Z",
     "shell.execute_reply.started": "2021-06-30T18:09:28.865136Z"
    }
   },
   "outputs": [],
   "source": [
    "\n",
    "\n",
    "train, test, targets = recover_train_test_target()\n",
    "\n"
   ]
  },
  {
   "cell_type": "code",
   "execution_count": 110,
   "metadata": {
    "execution": {
     "iopub.execute_input": "2021-06-30T18:09:28.876439Z",
     "iopub.status.busy": "2021-06-30T18:09:28.875859Z",
     "iopub.status.idle": "2021-06-30T18:09:29.001491Z",
     "shell.execute_reply": "2021-06-30T18:09:29.000549Z",
     "shell.execute_reply.started": "2021-06-30T18:09:28.876398Z"
    }
   },
   "outputs": [],
   "source": [
    "clf = RandomForestClassifier(n_estimators=50, max_features='sqrt')\n",
    "clf = clf.fit(train, targets)"
   ]
  },
  {
   "cell_type": "code",
   "execution_count": 111,
   "metadata": {
    "execution": {
     "iopub.execute_input": "2021-06-30T18:09:29.003500Z",
     "iopub.status.busy": "2021-06-30T18:09:29.002813Z",
     "iopub.status.idle": "2021-06-30T18:09:29.018886Z",
     "shell.execute_reply": "2021-06-30T18:09:29.018141Z",
     "shell.execute_reply.started": "2021-06-30T18:09:29.003452Z"
    }
   },
   "outputs": [],
   "source": [
    "features = pd.DataFrame()\n",
    "features['Feature'] = train.columns\n",
    "features['Importance'] = clf.feature_importances_\n",
    "features.sort_values(by=['Importance'], ascending=False, inplace=True)\n",
    "features.set_index('Feature', inplace=True)"
   ]
  },
  {
   "cell_type": "code",
   "execution_count": 112,
   "metadata": {
    "execution": {
     "iopub.execute_input": "2021-06-30T18:09:29.020674Z",
     "iopub.status.busy": "2021-06-30T18:09:29.020106Z",
     "iopub.status.idle": "2021-06-30T18:09:29.425950Z",
     "shell.execute_reply": "2021-06-30T18:09:29.425165Z",
     "shell.execute_reply.started": "2021-06-30T18:09:29.020633Z"
    }
   },
   "outputs": [
    {
     "data": {
      "text/plain": [
       "<AxesSubplot:xlabel='Feature'>"
      ]
     },
     "execution_count": 112,
     "metadata": {},
     "output_type": "execute_result"
    },
    {
     "data": {
      "image/png": "[encoded data removed]",
      "text/plain": [
       "<Figure size 1440x720 with 1 Axes>"
      ]
     },
     "metadata": {
      "needs_background": "light"
     },
     "output_type": "display_data"
    }
   ],
   "source": [
    "features.plot(kind='bar', figsize=(20, 10))"
   ]
  },
  {
   "cell_type": "code",
   "execution_count": 113,
   "metadata": {
    "execution": {
     "iopub.execute_input": "2021-06-30T18:09:29.427374Z",
     "iopub.status.busy": "2021-06-30T18:09:29.427001Z",
     "iopub.status.idle": "2021-06-30T18:09:29.444930Z",
     "shell.execute_reply": "2021-06-30T18:09:29.444019Z",
     "shell.execute_reply.started": "2021-06-30T18:09:29.427345Z"
    }
   },
   "outputs": [
    {
     "data": {
      "text/plain": [
       "(614, 5)"
      ]
     },
     "execution_count": 113,
     "metadata": {},
     "output_type": "execute_result"
    }
   ],
   "source": [
    "\n",
    "\n",
    "model = SelectFromModel(clf, prefit=True)\n",
    "train_reduced = model.transform(train)\n",
    "train_reduced.shape\n",
    "\n"
   ]
  },
  {
   "cell_type": "code",
   "execution_count": 114,
   "metadata": {
    "execution": {
     "iopub.execute_input": "2021-06-30T18:09:29.446288Z",
     "iopub.status.busy": "2021-06-30T18:09:29.446020Z",
     "iopub.status.idle": "2021-06-30T18:09:29.466808Z",
     "shell.execute_reply": "2021-06-30T18:09:29.465890Z",
     "shell.execute_reply.started": "2021-06-30T18:09:29.446263Z"
    }
   },
   "outputs": [
    {
     "data": {
      "text/plain": [
       "(367, 5)"
      ]
     },
     "execution_count": 114,
     "metadata": {},
     "output_type": "execute_result"
    }
   ],
   "source": [
    "test_reduced = model.transform(test)\n",
    "test_reduced.shape"
   ]
  },
  {
   "cell_type": "code",
   "execution_count": 115,
   "metadata": {
    "execution": {
     "iopub.execute_input": "2021-06-30T18:09:29.468233Z",
     "iopub.status.busy": "2021-06-30T18:09:29.467925Z",
     "iopub.status.idle": "2021-06-30T18:09:30.939907Z",
     "shell.execute_reply": "2021-06-30T18:09:30.939141Z",
     "shell.execute_reply.started": "2021-06-30T18:09:29.468206Z"
    }
   },
   "outputs": [
    {
     "data": {
      "text/plain": [
       "0.8078235372517659"
      ]
     },
     "execution_count": 115,
     "metadata": {},
     "output_type": "execute_result"
    }
   ],
   "source": [
    "\n",
    "\n",
    "parameters = {'bootstrap': True,\n",
    "              'min_samples_leaf': 5,\n",
    "              'n_estimators': 120,\n",
    "              'min_samples_split':8,\n",
    "#               'max_features': 'sqrt',\n",
    "              'max_depth': 4}\n",
    "\n",
    "model = RandomForestClassifier(**parameters)\n",
    "model.fit(train, targets)\n",
    "\n",
    "compute_score(model, train, targets, scoring='accuracy')\n"
   ]
  },
  {
   "cell_type": "code",
   "execution_count": 118,
   "metadata": {
    "execution": {
     "iopub.execute_input": "2021-06-30T18:09:56.812464Z",
     "iopub.status.busy": "2021-06-30T18:09:56.812045Z",
     "iopub.status.idle": "2021-06-30T18:09:56.820209Z",
     "shell.execute_reply": "2021-06-30T18:09:56.819005Z",
     "shell.execute_reply.started": "2021-06-30T18:09:56.812434Z"
    }
   },
   "outputs": [],
   "source": [
    "from sklearn.preprocessing import StandardScaler\n",
    "sc = StandardScaler()\n",
    "train = sc.fit_transform(train)\n",
    "test = sc.transform(test)"
   ]
  },
  {
   "cell_type": "markdown",
   "metadata": {},
   "source": [
    "SVM Classifier"
   ]
  },
  {
   "cell_type": "code",
   "execution_count": 119,
   "metadata": {
    "execution": {
     "iopub.execute_input": "2021-06-30T18:09:56.831698Z",
     "iopub.status.busy": "2021-06-30T18:09:56.831347Z",
     "iopub.status.idle": "2021-06-30T18:09:56.943149Z",
     "shell.execute_reply": "2021-06-30T18:09:56.942104Z",
     "shell.execute_reply.started": "2021-06-30T18:09:56.831670Z"
    }
   },
   "outputs": [
    {
     "data": {
      "text/plain": [
       "0.8062108489937359"
      ]
     },
     "execution_count": 119,
     "metadata": {},
     "output_type": "execute_result"
    }
   ],
   "source": [
    "\n",
    "\n",
    "# Fitting SVM to the Training set\n",
    "from sklearn.svm import SVC\n",
    "classifier = SVC(kernel = 'rbf')\n",
    "classifier.fit(train, targets)\n",
    "\n",
    "# # Predicting the Test set results\n",
    "# y_pred_svm = classifier.predict(X_test)\n",
    "\n",
    "compute_score(classifier, train, targets, scoring='accuracy')"
   ]
  },
  {
   "cell_type": "code",
   "execution_count": 121,
   "metadata": {
    "execution": {
     "iopub.execute_input": "2021-06-30T18:13:27.637874Z",
     "iopub.status.busy": "2021-06-30T18:13:27.637308Z",
     "iopub.status.idle": "2021-06-30T18:13:27.874937Z",
     "shell.execute_reply": "2021-06-30T18:13:27.874173Z",
     "shell.execute_reply.started": "2021-06-30T18:13:27.637823Z"
    }
   },
   "outputs": [
    {
     "name": "stdout",
     "output_type": "stream",
     "text": [
      "[18:13:27] WARNING: ../src/learner.cc:1095: Starting in XGBoost 1.3.0, the default evaluation metric used with the objective 'binary:logistic' was changed from 'error' to 'logloss'. Explicitly set eval_metric if you'd like to restore the old behavior.\n",
      "[18:13:27] WARNING: ../src/learner.cc:1095: Starting in XGBoost 1.3.0, the default evaluation metric used with the objective 'binary:logistic' was changed from 'error' to 'logloss'. Explicitly set eval_metric if you'd like to restore the old behavior.\n",
      "[18:13:27] WARNING: ../src/learner.cc:1095: Starting in XGBoost 1.3.0, the default evaluation metric used with the objective 'binary:logistic' was changed from 'error' to 'logloss'. Explicitly set eval_metric if you'd like to restore the old behavior.\n",
      "[18:13:27] WARNING: ../src/learner.cc:1095: Starting in XGBoost 1.3.0, the default evaluation metric used with the objective 'binary:logistic' was changed from 'error' to 'logloss'. Explicitly set eval_metric if you'd like to restore the old behavior.\n",
      "[18:13:27] WARNING: ../src/learner.cc:1095: Starting in XGBoost 1.3.0, the default evaluation metric used with the objective 'binary:logistic' was changed from 'error' to 'logloss'. Explicitly set eval_metric if you'd like to restore the old behavior.\n",
      "[18:13:27] WARNING: ../src/learner.cc:1095: Starting in XGBoost 1.3.0, the default evaluation metric used with the objective 'binary:logistic' was changed from 'error' to 'logloss'. Explicitly set eval_metric if you'd like to restore the old behavior.\n"
     ]
    },
    {
     "name": "stderr",
     "output_type": "stream",
     "text": [
      "/opt/conda/lib/python3.7/site-packages/xgboost/sklearn.py:1146: UserWarning: The use of label encoder in XGBClassifier is deprecated and will be removed in a future release. To remove this warning, do the following: 1) Pass option use_label_encoder=False when constructing XGBClassifier object; and 2) Encode your labels (y) as integers starting with 0, i.e. 0, 1, 2, ..., [num_class - 1].\n",
      "  warnings.warn(label_encoder_deprecation_msg, UserWarning)\n",
      "/opt/conda/lib/python3.7/site-packages/xgboost/sklearn.py:1146: UserWarning: The use of label encoder in XGBClassifier is deprecated and will be removed in a future release. To remove this warning, do the following: 1) Pass option use_label_encoder=False when constructing XGBClassifier object; and 2) Encode your labels (y) as integers starting with 0, i.e. 0, 1, 2, ..., [num_class - 1].\n",
      "  warnings.warn(label_encoder_deprecation_msg, UserWarning)\n",
      "/opt/conda/lib/python3.7/site-packages/xgboost/sklearn.py:1146: UserWarning: The use of label encoder in XGBClassifier is deprecated and will be removed in a future release. To remove this warning, do the following: 1) Pass option use_label_encoder=False when constructing XGBClassifier object; and 2) Encode your labels (y) as integers starting with 0, i.e. 0, 1, 2, ..., [num_class - 1].\n",
      "  warnings.warn(label_encoder_deprecation_msg, UserWarning)\n",
      "/opt/conda/lib/python3.7/site-packages/xgboost/sklearn.py:1146: UserWarning: The use of label encoder in XGBClassifier is deprecated and will be removed in a future release. To remove this warning, do the following: 1) Pass option use_label_encoder=False when constructing XGBClassifier object; and 2) Encode your labels (y) as integers starting with 0, i.e. 0, 1, 2, ..., [num_class - 1].\n",
      "  warnings.warn(label_encoder_deprecation_msg, UserWarning)\n",
      "/opt/conda/lib/python3.7/site-packages/xgboost/sklearn.py:1146: UserWarning: The use of label encoder in XGBClassifier is deprecated and will be removed in a future release. To remove this warning, do the following: 1) Pass option use_label_encoder=False when constructing XGBClassifier object; and 2) Encode your labels (y) as integers starting with 0, i.e. 0, 1, 2, ..., [num_class - 1].\n",
      "  warnings.warn(label_encoder_deprecation_msg, UserWarning)\n",
      "/opt/conda/lib/python3.7/site-packages/xgboost/sklearn.py:1146: UserWarning: The use of label encoder in XGBClassifier is deprecated and will be removed in a future release. To remove this warning, do the following: 1) Pass option use_label_encoder=False when constructing XGBClassifier object; and 2) Encode your labels (y) as integers starting with 0, i.e. 0, 1, 2, ..., [num_class - 1].\n",
      "  warnings.warn(label_encoder_deprecation_msg, UserWarning)\n"
     ]
    },
    {
     "data": {
      "text/plain": [
       "0.8013194722111155"
      ]
     },
     "execution_count": 121,
     "metadata": {},
     "output_type": "execute_result"
    }
   ],
   "source": [
    "from xgboost import XGBClassifier\n",
    "param = {'n_estimators': 25,\n",
    "              'max_depth': 2}\n",
    "\n",
    "xgb_clf = XGBClassifier(**param)\n",
    "xgb_clf.fit(train, targets)\n",
    "\n",
    "compute_score(xgb_clf, train, targets, scoring='accuracy')\n"
   ]
  },
  {
   "cell_type": "code",
   "execution_count": 125,
   "metadata": {
    "execution": {
     "iopub.execute_input": "2021-06-30T18:15:14.475654Z",
     "iopub.status.busy": "2021-06-30T18:15:14.475246Z",
     "iopub.status.idle": "2021-06-30T18:15:14.822430Z",
     "shell.execute_reply": "2021-06-30T18:15:14.821494Z",
     "shell.execute_reply.started": "2021-06-30T18:15:14.475617Z"
    }
   },
   "outputs": [
    {
     "name": "stdout",
     "output_type": "stream",
     "text": [
      "[18:15:14] WARNING: ../src/learner.cc:1095: Starting in XGBoost 1.3.0, the default evaluation metric used with the objective 'binary:logistic' was changed from 'error' to 'logloss'. Explicitly set eval_metric if you'd like to restore the old behavior.\n"
     ]
    },
    {
     "name": "stderr",
     "output_type": "stream",
     "text": [
      "/opt/conda/lib/python3.7/site-packages/xgboost/sklearn.py:1146: UserWarning: The use of label encoder in XGBClassifier is deprecated and will be removed in a future release. To remove this warning, do the following: 1) Pass option use_label_encoder=False when constructing XGBClassifier object; and 2) Encode your labels (y) as integers starting with 0, i.e. 0, 1, 2, ..., [num_class - 1].\n",
      "  warnings.warn(label_encoder_deprecation_msg, UserWarning)\n",
      "/opt/conda/lib/python3.7/site-packages/xgboost/data.py:114: UserWarning: Use subset (sliced data) of np.ndarray is not recommended because it will generate extra copies and increase memory consumption\n",
      "  \"because it will generate extra copies and increase \" +\n"
     ]
    }
   ],
   "source": [
    "from sklearn.svm import SVC\n",
    "from sklearn.ensemble import VotingClassifier\n",
    "from sklearn import model_selection\n",
    "from sklearn. preprocessing import StandardScaler\n",
    "from sklearn.model_selection import train_test_split\n",
    "from sklearn import model_selection\n",
    "from sklearn.ensemble import BaggingClassifier\n",
    "from sklearn.neighbors import KNeighborsClassifier\n",
    "from sklearn.linear_model import LogisticRegression\n",
    "estimators = []\n",
    "\n",
    "\n",
    "#Defining Support Vector Classifiers\n",
    "model21 = SVC(kernel = 'rbf')\n",
    "estimators.append(('svm1', model21))\n",
    "\n",
    "model26 = KNeighborsClassifier(n_neighbors = 5, metric = 'minkowski', p = 2)\n",
    "estimators.append(('knn1', model26))\n",
    "\n",
    "model11 = LogisticRegression()\n",
    "estimators.append(('logistic1', model11))\n",
    "estimators.append(('logistic2', model11))\n",
    "\n",
    "#Defining  Random forest\n",
    "model31 = classifier\n",
    "estimators.append(('rf1', model31))\n",
    "estimators.append(('rf2', model31))\n",
    "\n",
    "#Defining XG Boost\n",
    "model41 =xgb_clf\n",
    "estimators.append(('xgb1', model41))\n",
    "\n",
    "# Defining the ensemble model\n",
    "ensemble = VotingClassifier(estimators)\n",
    "ensemble.fit(train, targets)\n",
    "y_pred_ensemble = ensemble.predict(test)\n"
   ]
  },
  {
   "cell_type": "code",
   "execution_count": 126,
   "metadata": {
    "execution": {
     "iopub.execute_input": "2021-06-30T18:15:23.049398Z",
     "iopub.status.busy": "2021-06-30T18:15:23.048772Z",
     "iopub.status.idle": "2021-06-30T18:15:23.525325Z",
     "shell.execute_reply": "2021-06-30T18:15:23.524426Z",
     "shell.execute_reply.started": "2021-06-30T18:15:23.049350Z"
    }
   },
   "outputs": [
    {
     "name": "stderr",
     "output_type": "stream",
     "text": [
      "/opt/conda/lib/python3.7/site-packages/xgboost/sklearn.py:1146: UserWarning: The use of label encoder in XGBClassifier is deprecated and will be removed in a future release. To remove this warning, do the following: 1) Pass option use_label_encoder=False when constructing XGBClassifier object; and 2) Encode your labels (y) as integers starting with 0, i.e. 0, 1, 2, ..., [num_class - 1].\n",
      "  warnings.warn(label_encoder_deprecation_msg, UserWarning)\n",
      "/opt/conda/lib/python3.7/site-packages/xgboost/sklearn.py:1146: UserWarning: The use of label encoder in XGBClassifier is deprecated and will be removed in a future release. To remove this warning, do the following: 1) Pass option use_label_encoder=False when constructing XGBClassifier object; and 2) Encode your labels (y) as integers starting with 0, i.e. 0, 1, 2, ..., [num_class - 1].\n",
      "  warnings.warn(label_encoder_deprecation_msg, UserWarning)\n",
      "/opt/conda/lib/python3.7/site-packages/xgboost/sklearn.py:1146: UserWarning: The use of label encoder in XGBClassifier is deprecated and will be removed in a future release. To remove this warning, do the following: 1) Pass option use_label_encoder=False when constructing XGBClassifier object; and 2) Encode your labels (y) as integers starting with 0, i.e. 0, 1, 2, ..., [num_class - 1].\n",
      "  warnings.warn(label_encoder_deprecation_msg, UserWarning)\n"
     ]
    },
    {
     "name": "stdout",
     "output_type": "stream",
     "text": [
      "[18:15:23] WARNING: ../src/learner.cc:1095: Starting in XGBoost 1.3.0, the default evaluation metric used with the objective 'binary:logistic' was changed from 'error' to 'logloss'. Explicitly set eval_metric if you'd like to restore the old behavior.\n",
      "[18:15:23] WARNING: ../src/learner.cc:1095: Starting in XGBoost 1.3.0, the default evaluation metric used with the objective 'binary:logistic' was changed from 'error' to 'logloss'. Explicitly set eval_metric if you'd like to restore the old behavior.\n",
      "[18:15:23] WARNING: ../src/learner.cc:1095: Starting in XGBoost 1.3.0, the default evaluation metric used with the objective 'binary:logistic' was changed from 'error' to 'logloss'. Explicitly set eval_metric if you'd like to restore the old behavior.\n",
      "[18:15:23] WARNING: ../src/learner.cc:1095: Starting in XGBoost 1.3.0, the default evaluation metric used with the objective 'binary:logistic' was changed from 'error' to 'logloss'. Explicitly set eval_metric if you'd like to restore the old behavior.\n",
      "[18:15:23] WARNING: ../src/learner.cc:1095: Starting in XGBoost 1.3.0, the default evaluation metric used with the objective 'binary:logistic' was changed from 'error' to 'logloss'. Explicitly set eval_metric if you'd like to restore the old behavior.\n"
     ]
    },
    {
     "name": "stderr",
     "output_type": "stream",
     "text": [
      "/opt/conda/lib/python3.7/site-packages/xgboost/sklearn.py:1146: UserWarning: The use of label encoder in XGBClassifier is deprecated and will be removed in a future release. To remove this warning, do the following: 1) Pass option use_label_encoder=False when constructing XGBClassifier object; and 2) Encode your labels (y) as integers starting with 0, i.e. 0, 1, 2, ..., [num_class - 1].\n",
      "  warnings.warn(label_encoder_deprecation_msg, UserWarning)\n",
      "/opt/conda/lib/python3.7/site-packages/xgboost/sklearn.py:1146: UserWarning: The use of label encoder in XGBClassifier is deprecated and will be removed in a future release. To remove this warning, do the following: 1) Pass option use_label_encoder=False when constructing XGBClassifier object; and 2) Encode your labels (y) as integers starting with 0, i.e. 0, 1, 2, ..., [num_class - 1].\n",
      "  warnings.warn(label_encoder_deprecation_msg, UserWarning)\n"
     ]
    },
    {
     "data": {
      "text/plain": [
       "0.809462881514061"
      ]
     },
     "execution_count": 126,
     "metadata": {},
     "output_type": "execute_result"
    }
   ],
   "source": [
    "compute_score(ensemble, train_reduced, targets, scoring='accuracy')"
   ]
  },
  {
   "cell_type": "code",
   "execution_count": 127,
   "metadata": {
    "execution": {
     "iopub.execute_input": "2021-06-30T18:15:26.486942Z",
     "iopub.status.busy": "2021-06-30T18:15:26.486324Z",
     "iopub.status.idle": "2021-06-30T18:15:26.629088Z",
     "shell.execute_reply": "2021-06-30T18:15:26.628090Z",
     "shell.execute_reply.started": "2021-06-30T18:15:26.486906Z"
    }
   },
   "outputs": [
    {
     "name": "stderr",
     "output_type": "stream",
     "text": [
      "/opt/conda/lib/python3.7/site-packages/xgboost/data.py:114: UserWarning: Use subset (sliced data) of np.ndarray is not recommended because it will generate extra copies and increase memory consumption\n",
      "  \"because it will generate extra copies and increase \" +\n"
     ]
    }
   ],
   "source": [
    "output = ensemble.predict(test).astype(int)\n",
    "df_output = pd.DataFrame()\n",
    "aux = pd.read_csv('../input/loan-prediction-av/test_lAUu6dG.csv')\n",
    "df_output['Loan_ID'] = aux['Loan_ID']\n",
    "df_output['Loan_Status'] = np.vectorize(lambda s: 'Y' if s==1 else 'N')(output)\n",
    "df_output[['Loan_ID','Loan_Status']].to_csv('output.csv',index=False)"
   ]
  }
 ],
 "metadata": {
  "kernelspec": {
   "display_name": "Python 3",
   "language": "python",
   "name": "python3"
  },
  "language_info": {
   "codemirror_mode": {
    "name": "ipython",
    "version": 3
   },
   "file_extension": ".py",
   "mimetype": "text/x-python",
   "name": "python",
   "nbconvert_exporter": "python",
   "pygments_lexer": "ipython3",
   "version": "3.8.8"
  }
 },
 "nbformat": 4,
 "nbformat_minor": 4
}
