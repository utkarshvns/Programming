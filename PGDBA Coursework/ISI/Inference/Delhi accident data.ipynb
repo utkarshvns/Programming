{
 "cells": [
  {
   "cell_type": "code",
   "execution_count": 2,
   "metadata": {},
   "outputs": [],
   "source": [
    "import numpy as np\n",
    "import pandas as pd"
   ]
  },
  {
   "cell_type": "code",
   "execution_count": 28,
   "metadata": {},
   "outputs": [],
   "source": [
    "df = pd.read_excel(\"D:\\\\PGDBA Backup\\\\ISI\\\\AB-Inference\\\\Lecture\\\\21-01-18\\\\Delhi Accident Data.xlsx\")"
   ]
  },
  {
   "cell_type": "code",
   "execution_count": null,
   "metadata": {},
   "outputs": [],
   "source": [
    "df2 = "
   ]
  },
  {
   "cell_type": "code",
   "execution_count": 29,
   "metadata": {
    "scrolled": true
   },
   "outputs": [
    {
     "data": {
      "text/html": [
       "<div>\n",
       "<style scoped>\n",
       "    .dataframe tbody tr th:only-of-type {\n",
       "        vertical-align: middle;\n",
       "    }\n",
       "\n",
       "    .dataframe tbody tr th {\n",
       "        vertical-align: top;\n",
       "    }\n",
       "\n",
       "    .dataframe thead th {\n",
       "        text-align: right;\n",
       "    }\n",
       "</style>\n",
       "<table border=\"1\" class=\"dataframe\">\n",
       "  <thead>\n",
       "    <tr style=\"text-align: right;\">\n",
       "      <th></th>\n",
       "      <th>YEAR</th>\n",
       "      <th>DISTRICT</th>\n",
       "      <th>VEHICLE AT FAULT</th>\n",
       "      <th>VICTIM</th>\n",
       "      <th>TYPE OF ACCIDENT</th>\n",
       "      <th># INJURED</th>\n",
       "      <th># KILLED</th>\n",
       "      <th>Unnamed: 7</th>\n",
       "      <th>Unnamed: 8</th>\n",
       "      <th>Unnamed: 9</th>\n",
       "    </tr>\n",
       "  </thead>\n",
       "  <tbody>\n",
       "    <tr>\n",
       "      <th>0</th>\n",
       "      <td>2008</td>\n",
       "      <td>NORTH WEST DELHI</td>\n",
       "      <td>UNKNOWN</td>\n",
       "      <td>CAR</td>\n",
       "      <td>FATAL ACCIDENT</td>\n",
       "      <td>0</td>\n",
       "      <td>1</td>\n",
       "      <td>NaN</td>\n",
       "      <td>NaN</td>\n",
       "      <td>NaN</td>\n",
       "    </tr>\n",
       "    <tr>\n",
       "      <th>1</th>\n",
       "      <td>2008</td>\n",
       "      <td>NORTH WEST DELHI</td>\n",
       "      <td>UNKNOWN</td>\n",
       "      <td>CYCLE</td>\n",
       "      <td>SIMPLE ACCIDENT</td>\n",
       "      <td>1</td>\n",
       "      <td>0</td>\n",
       "      <td>NaN</td>\n",
       "      <td>NaN</td>\n",
       "      <td>NaN</td>\n",
       "    </tr>\n",
       "    <tr>\n",
       "      <th>2</th>\n",
       "      <td>2008</td>\n",
       "      <td>NEW DELHI</td>\n",
       "      <td>HTV/GDS</td>\n",
       "      <td>PEDESTRIAN</td>\n",
       "      <td>FATAL ACCIDENT</td>\n",
       "      <td>0</td>\n",
       "      <td>1</td>\n",
       "      <td>NaN</td>\n",
       "      <td>NaN</td>\n",
       "      <td>NaN</td>\n",
       "    </tr>\n",
       "    <tr>\n",
       "      <th>3</th>\n",
       "      <td>2008</td>\n",
       "      <td>EAST DELHI</td>\n",
       "      <td>S/C&amp;M/C</td>\n",
       "      <td>PEDESTRIAN</td>\n",
       "      <td>SIMPLE ACCIDENT</td>\n",
       "      <td>1</td>\n",
       "      <td>0</td>\n",
       "      <td>NaN</td>\n",
       "      <td>NaN</td>\n",
       "      <td>NaN</td>\n",
       "    </tr>\n",
       "    <tr>\n",
       "      <th>4</th>\n",
       "      <td>2008</td>\n",
       "      <td>SHAHDARA</td>\n",
       "      <td>S/C&amp;M/C</td>\n",
       "      <td>PEDESTRIAN</td>\n",
       "      <td>SIMPLE ACCIDENT</td>\n",
       "      <td>1</td>\n",
       "      <td>0</td>\n",
       "      <td>NaN</td>\n",
       "      <td>NaN</td>\n",
       "      <td>NaN</td>\n",
       "    </tr>\n",
       "  </tbody>\n",
       "</table>\n",
       "</div>"
      ],
      "text/plain": [
       "   YEAR          DISTRICT VEHICLE AT FAULT      VICTIM TYPE OF ACCIDENT  \\\n",
       "0  2008  NORTH WEST DELHI          UNKNOWN         CAR   FATAL ACCIDENT   \n",
       "1  2008  NORTH WEST DELHI          UNKNOWN       CYCLE  SIMPLE ACCIDENT   \n",
       "2  2008         NEW DELHI          HTV/GDS  PEDESTRIAN   FATAL ACCIDENT   \n",
       "3  2008        EAST DELHI          S/C&M/C  PEDESTRIAN  SIMPLE ACCIDENT   \n",
       "4  2008          SHAHDARA          S/C&M/C  PEDESTRIAN  SIMPLE ACCIDENT   \n",
       "\n",
       "   # INJURED  # KILLED   Unnamed: 7  Unnamed: 8 Unnamed: 9  \n",
       "0          0          1         NaN         NaN        NaN  \n",
       "1          1          0         NaN         NaN        NaN  \n",
       "2          0          1         NaN         NaN        NaN  \n",
       "3          1          0         NaN         NaN        NaN  \n",
       "4          1          0         NaN         NaN        NaN  "
      ]
     },
     "execution_count": 29,
     "metadata": {},
     "output_type": "execute_result"
    }
   ],
   "source": [
    "df.head()"
   ]
  },
  {
   "cell_type": "code",
   "execution_count": 36,
   "metadata": {},
   "outputs": [
    {
     "name": "stdout",
     "output_type": "stream",
     "text": [
      "<class 'pandas.core.frame.DataFrame'>\n",
      "RangeIndex: 75748 entries, 0 to 75747\n",
      "Data columns (total 10 columns):\n",
      " #   Column            Non-Null Count  Dtype  \n",
      "---  ------            --------------  -----  \n",
      " 0   YEAR              75748 non-null  int64  \n",
      " 1   DISTRICT          75748 non-null  object \n",
      " 2   VEHICLE AT FAULT  75748 non-null  object \n",
      " 3   VICTIM            75748 non-null  object \n",
      " 4   TYPE OF ACCIDENT  75748 non-null  object \n",
      " 5   # INJURED         75748 non-null  int64  \n",
      " 6   # KILLED          75748 non-null  int64  \n",
      " 7   Unnamed: 7        0 non-null      float64\n",
      " 8   Unnamed: 8        0 non-null      float64\n",
      " 9   Unnamed: 9        1 non-null      object \n",
      "dtypes: float64(2), int64(3), object(5)\n",
      "memory usage: 5.8+ MB\n"
     ]
    }
   ],
   "source": [
    "df.info()"
   ]
  },
  {
   "cell_type": "code",
   "execution_count": 37,
   "metadata": {},
   "outputs": [
    {
     "data": {
      "text/plain": [
       "Index(['YEAR', 'DISTRICT', 'VEHICLE AT FAULT', 'VICTIM', 'TYPE OF ACCIDENT',\n",
       "       '# INJURED', '# KILLED ', 'Unnamed: 7', 'Unnamed: 8', 'Unnamed: 9'],\n",
       "      dtype='object')"
      ]
     },
     "execution_count": 37,
     "metadata": {},
     "output_type": "execute_result"
    }
   ],
   "source": [
    "df.columns"
   ]
  },
  {
   "cell_type": "code",
   "execution_count": 32,
   "metadata": {
    "scrolled": true
   },
   "outputs": [
    {
     "data": {
      "text/plain": [
       "array(['NORTH WEST DELHI', 'NEW DELHI', 'EAST DELHI', 'SHAHDARA',\n",
       "       'WEST DELHI', 'SOUTH WEST DELHI', 'NORTH DELHI(ROHINI)',\n",
       "       'NORTH EAST DELHI', 'SOUTH EAST DELHI', 'CENTRAL DELHI',\n",
       "       'SOUTH DELHI', 'UNK', 'OUTER'], dtype=object)"
      ]
     },
     "execution_count": 32,
     "metadata": {},
     "output_type": "execute_result"
    }
   ],
   "source": [
    "df[\"DISTRICT\"].unique()"
   ]
  },
  {
   "cell_type": "code",
   "execution_count": 33,
   "metadata": {},
   "outputs": [
    {
     "data": {
      "text/plain": [
       "YEAR                75748\n",
       "DISTRICT            75748\n",
       "VEHICLE AT FAULT    75748\n",
       "VICTIM              75748\n",
       "TYPE OF ACCIDENT    75748\n",
       "# INJURED           75748\n",
       "# KILLED            75748\n",
       "Unnamed: 7              0\n",
       "Unnamed: 8              0\n",
       "Unnamed: 9              1\n",
       "dtype: int64"
      ]
     },
     "execution_count": 33,
     "metadata": {},
     "output_type": "execute_result"
    }
   ],
   "source": [
    "df.count()"
   ]
  },
  {
   "cell_type": "code",
   "execution_count": 34,
   "metadata": {},
   "outputs": [
    {
     "data": {
      "text/plain": [
       "DISTRICT\n",
       "CENTRAL DELHI           8119\n",
       "EAST DELHI              5599\n",
       "NEW DELHI               9529\n",
       "NORTH DELHI(ROHINI)     8903\n",
       "NORTH EAST DELHI        3153\n",
       "NORTH WEST DELHI        7013\n",
       "OUTER                      1\n",
       "SHAHDARA                4850\n",
       "SOUTH DELHI             3716\n",
       "SOUTH EAST DELHI       10096\n",
       "SOUTH WEST DELHI        7462\n",
       "UNK                       18\n",
       "WEST DELHI              7289\n",
       "dtype: int64"
      ]
     },
     "execution_count": 34,
     "metadata": {},
     "output_type": "execute_result"
    }
   ],
   "source": [
    "df.groupby('DISTRICT').size()"
   ]
  },
  {
   "cell_type": "code",
   "execution_count": 41,
   "metadata": {},
   "outputs": [
    {
     "data": {
      "text/plain": [
       "DISTRICT\n",
       "CENTRAL DELHI          6010\n",
       "EAST DELHI             4524\n",
       "NEW DELHI              7178\n",
       "NORTH DELHI(ROHINI)    6133\n",
       "NORTH EAST DELHI       2472\n",
       "NORTH WEST DELHI       5360\n",
       "OUTER                     1\n",
       "SHAHDARA               3922\n",
       "SOUTH DELHI            2925\n",
       "SOUTH EAST DELHI       7930\n",
       "SOUTH WEST DELHI       5643\n",
       "UNK                      10\n",
       "WEST DELHI             5279\n",
       "dtype: int64"
      ]
     },
     "execution_count": 41,
     "metadata": {},
     "output_type": "execute_result"
    }
   ],
   "source": [
    "df[df[\"# KILLED \"]==0].groupby('DISTRICT').size()"
   ]
  },
  {
   "cell_type": "markdown",
   "metadata": {},
   "source": [
    "# Hit and run cases"
   ]
  },
  {
   "cell_type": "code",
   "execution_count": 42,
   "metadata": {},
   "outputs": [
    {
     "data": {
      "text/html": [
       "<div>\n",
       "<style scoped>\n",
       "    .dataframe tbody tr th:only-of-type {\n",
       "        vertical-align: middle;\n",
       "    }\n",
       "\n",
       "    .dataframe tbody tr th {\n",
       "        vertical-align: top;\n",
       "    }\n",
       "\n",
       "    .dataframe thead th {\n",
       "        text-align: right;\n",
       "    }\n",
       "</style>\n",
       "<table border=\"1\" class=\"dataframe\">\n",
       "  <thead>\n",
       "    <tr style=\"text-align: right;\">\n",
       "      <th></th>\n",
       "      <th>YEAR</th>\n",
       "      <th>DISTRICT</th>\n",
       "      <th>VEHICLE AT FAULT</th>\n",
       "      <th>VICTIM</th>\n",
       "      <th>TYPE OF ACCIDENT</th>\n",
       "      <th># INJURED</th>\n",
       "      <th># KILLED</th>\n",
       "      <th>Unnamed: 7</th>\n",
       "      <th>Unnamed: 8</th>\n",
       "      <th>Unnamed: 9</th>\n",
       "    </tr>\n",
       "  </thead>\n",
       "  <tbody>\n",
       "    <tr>\n",
       "      <th>0</th>\n",
       "      <td>2008</td>\n",
       "      <td>NORTH WEST DELHI</td>\n",
       "      <td>UNKNOWN</td>\n",
       "      <td>CAR</td>\n",
       "      <td>FATAL ACCIDENT</td>\n",
       "      <td>0</td>\n",
       "      <td>1</td>\n",
       "      <td>NaN</td>\n",
       "      <td>NaN</td>\n",
       "      <td>NaN</td>\n",
       "    </tr>\n",
       "    <tr>\n",
       "      <th>1</th>\n",
       "      <td>2008</td>\n",
       "      <td>NORTH WEST DELHI</td>\n",
       "      <td>UNKNOWN</td>\n",
       "      <td>CYCLE</td>\n",
       "      <td>SIMPLE ACCIDENT</td>\n",
       "      <td>1</td>\n",
       "      <td>0</td>\n",
       "      <td>NaN</td>\n",
       "      <td>NaN</td>\n",
       "      <td>NaN</td>\n",
       "    </tr>\n",
       "    <tr>\n",
       "      <th>5</th>\n",
       "      <td>2008</td>\n",
       "      <td>WEST DELHI</td>\n",
       "      <td>UNKNOWN</td>\n",
       "      <td>PEDESTRIAN</td>\n",
       "      <td>SIMPLE ACCIDENT</td>\n",
       "      <td>1</td>\n",
       "      <td>0</td>\n",
       "      <td>NaN</td>\n",
       "      <td>NaN</td>\n",
       "      <td>NaN</td>\n",
       "    </tr>\n",
       "    <tr>\n",
       "      <th>7</th>\n",
       "      <td>2008</td>\n",
       "      <td>SOUTH WEST DELHI</td>\n",
       "      <td>UNKNOWN</td>\n",
       "      <td>PEDESTRIAN</td>\n",
       "      <td>SIMPLE ACCIDENT</td>\n",
       "      <td>1</td>\n",
       "      <td>0</td>\n",
       "      <td>NaN</td>\n",
       "      <td>NaN</td>\n",
       "      <td>NaN</td>\n",
       "    </tr>\n",
       "    <tr>\n",
       "      <th>11</th>\n",
       "      <td>2008</td>\n",
       "      <td>SOUTH WEST DELHI</td>\n",
       "      <td>UNKNOWN</td>\n",
       "      <td>PEDESTRIAN</td>\n",
       "      <td>FATAL ACCIDENT</td>\n",
       "      <td>0</td>\n",
       "      <td>1</td>\n",
       "      <td>NaN</td>\n",
       "      <td>NaN</td>\n",
       "      <td>NaN</td>\n",
       "    </tr>\n",
       "    <tr>\n",
       "      <th>...</th>\n",
       "      <td>...</td>\n",
       "      <td>...</td>\n",
       "      <td>...</td>\n",
       "      <td>...</td>\n",
       "      <td>...</td>\n",
       "      <td>...</td>\n",
       "      <td>...</td>\n",
       "      <td>...</td>\n",
       "      <td>...</td>\n",
       "      <td>...</td>\n",
       "    </tr>\n",
       "    <tr>\n",
       "      <th>75723</th>\n",
       "      <td>2017</td>\n",
       "      <td>CENTRAL DELHI</td>\n",
       "      <td>UNKNOWN</td>\n",
       "      <td>PEDESTRIAN</td>\n",
       "      <td>SIMPLE ACCIDENT</td>\n",
       "      <td>1</td>\n",
       "      <td>0</td>\n",
       "      <td>NaN</td>\n",
       "      <td>NaN</td>\n",
       "      <td>NaN</td>\n",
       "    </tr>\n",
       "    <tr>\n",
       "      <th>75725</th>\n",
       "      <td>2017</td>\n",
       "      <td>NORTH WEST DELHI</td>\n",
       "      <td>UNKNOWN</td>\n",
       "      <td>PEDESTRIAN</td>\n",
       "      <td>FATAL ACCIDENT</td>\n",
       "      <td>0</td>\n",
       "      <td>1</td>\n",
       "      <td>NaN</td>\n",
       "      <td>NaN</td>\n",
       "      <td>NaN</td>\n",
       "    </tr>\n",
       "    <tr>\n",
       "      <th>75729</th>\n",
       "      <td>2017</td>\n",
       "      <td>WEST DELHI</td>\n",
       "      <td>UNKNOWN</td>\n",
       "      <td>PEDESTRIAN</td>\n",
       "      <td>FATAL ACCIDENT</td>\n",
       "      <td>0</td>\n",
       "      <td>1</td>\n",
       "      <td>NaN</td>\n",
       "      <td>NaN</td>\n",
       "      <td>NaN</td>\n",
       "    </tr>\n",
       "    <tr>\n",
       "      <th>75735</th>\n",
       "      <td>2017</td>\n",
       "      <td>SOUTH WEST DELHI</td>\n",
       "      <td>UNKNOWN</td>\n",
       "      <td>PEDESTRIAN</td>\n",
       "      <td>FATAL ACCIDENT</td>\n",
       "      <td>0</td>\n",
       "      <td>1</td>\n",
       "      <td>NaN</td>\n",
       "      <td>NaN</td>\n",
       "      <td>NaN</td>\n",
       "    </tr>\n",
       "    <tr>\n",
       "      <th>75741</th>\n",
       "      <td>2017</td>\n",
       "      <td>SOUTH DELHI</td>\n",
       "      <td>UNKNOWN</td>\n",
       "      <td>PEDESTRIAN</td>\n",
       "      <td>SIMPLE ACCIDENT</td>\n",
       "      <td>1</td>\n",
       "      <td>0</td>\n",
       "      <td>NaN</td>\n",
       "      <td>NaN</td>\n",
       "      <td>NaN</td>\n",
       "    </tr>\n",
       "  </tbody>\n",
       "</table>\n",
       "<p>19145 rows × 10 columns</p>\n",
       "</div>"
      ],
      "text/plain": [
       "       YEAR          DISTRICT VEHICLE AT FAULT      VICTIM TYPE OF ACCIDENT  \\\n",
       "0      2008  NORTH WEST DELHI          UNKNOWN         CAR   FATAL ACCIDENT   \n",
       "1      2008  NORTH WEST DELHI          UNKNOWN       CYCLE  SIMPLE ACCIDENT   \n",
       "5      2008        WEST DELHI          UNKNOWN  PEDESTRIAN  SIMPLE ACCIDENT   \n",
       "7      2008  SOUTH WEST DELHI          UNKNOWN  PEDESTRIAN  SIMPLE ACCIDENT   \n",
       "11     2008  SOUTH WEST DELHI          UNKNOWN  PEDESTRIAN   FATAL ACCIDENT   \n",
       "...     ...               ...              ...         ...              ...   \n",
       "75723  2017     CENTRAL DELHI          UNKNOWN  PEDESTRIAN  SIMPLE ACCIDENT   \n",
       "75725  2017  NORTH WEST DELHI          UNKNOWN  PEDESTRIAN   FATAL ACCIDENT   \n",
       "75729  2017        WEST DELHI          UNKNOWN  PEDESTRIAN   FATAL ACCIDENT   \n",
       "75735  2017  SOUTH WEST DELHI          UNKNOWN  PEDESTRIAN   FATAL ACCIDENT   \n",
       "75741  2017       SOUTH DELHI          UNKNOWN  PEDESTRIAN  SIMPLE ACCIDENT   \n",
       "\n",
       "       # INJURED  # KILLED   Unnamed: 7  Unnamed: 8 Unnamed: 9  \n",
       "0              0          1         NaN         NaN        NaN  \n",
       "1              1          0         NaN         NaN        NaN  \n",
       "5              1          0         NaN         NaN        NaN  \n",
       "7              1          0         NaN         NaN        NaN  \n",
       "11             0          1         NaN         NaN        NaN  \n",
       "...          ...        ...         ...         ...        ...  \n",
       "75723          1          0         NaN         NaN        NaN  \n",
       "75725          0          1         NaN         NaN        NaN  \n",
       "75729          0          1         NaN         NaN        NaN  \n",
       "75735          0          1         NaN         NaN        NaN  \n",
       "75741          1          0         NaN         NaN        NaN  \n",
       "\n",
       "[19145 rows x 10 columns]"
      ]
     },
     "execution_count": 42,
     "metadata": {},
     "output_type": "execute_result"
    }
   ],
   "source": [
    "df[df[\"VEHICLE AT FAULT\"]==\"UNKNOWN\"]"
   ]
  },
  {
   "cell_type": "code",
   "execution_count": 46,
   "metadata": {},
   "outputs": [
    {
     "data": {
      "text/plain": [
       "DISTRICT\n",
       "CENTRAL DELHI          2067\n",
       "EAST DELHI             1396\n",
       "NEW DELHI              2512\n",
       "NORTH DELHI(ROHINI)    2467\n",
       "NORTH EAST DELHI        743\n",
       "NORTH WEST DELHI       1589\n",
       "SHAHDARA               1046\n",
       "SOUTH DELHI             887\n",
       "SOUTH EAST DELHI       2606\n",
       "SOUTH WEST DELHI       1959\n",
       "UNK                       6\n",
       "WEST DELHI             1867\n",
       "dtype: int64"
      ]
     },
     "execution_count": 46,
     "metadata": {},
     "output_type": "execute_result"
    }
   ],
   "source": [
    "df[df[\"VEHICLE AT FAULT\"]==\"UNKNOWN\"].groupby('DISTRICT').size()"
   ]
  },
  {
   "cell_type": "code",
   "execution_count": 45,
   "metadata": {},
   "outputs": [
    {
     "data": {
      "text/plain": [
       "DISTRICT\n",
       "CENTRAL DELHI          1145\n",
       "EAST DELHI              959\n",
       "NEW DELHI              1496\n",
       "NORTH DELHI(ROHINI)    1339\n",
       "NORTH EAST DELHI        463\n",
       "NORTH WEST DELHI       1023\n",
       "SHAHDARA                695\n",
       "SOUTH DELHI             602\n",
       "SOUTH EAST DELHI       1754\n",
       "SOUTH WEST DELHI       1227\n",
       "UNK                       4\n",
       "WEST DELHI             1039\n",
       "dtype: int64"
      ]
     },
     "execution_count": 45,
     "metadata": {},
     "output_type": "execute_result"
    }
   ],
   "source": [
    "df[(df[\"VEHICLE AT FAULT\"]==\"UNKNOWN\") & (df[\"# KILLED \"]==0)].groupby('DISTRICT').size()"
   ]
  },
  {
   "cell_type": "code",
   "execution_count": null,
   "metadata": {},
   "outputs": [],
   "source": []
  }
 ],
 "metadata": {
  "kernelspec": {
   "display_name": "Python 3",
   "language": "python",
   "name": "python3"
  },
  "language_info": {
   "codemirror_mode": {
    "name": "ipython",
    "version": 3
   },
   "file_extension": ".py",
   "mimetype": "text/x-python",
   "name": "python",
   "nbconvert_exporter": "python",
   "pygments_lexer": "ipython3",
   "version": "3.8.5"
  }
 },
 "nbformat": 4,
 "nbformat_minor": 4
}
