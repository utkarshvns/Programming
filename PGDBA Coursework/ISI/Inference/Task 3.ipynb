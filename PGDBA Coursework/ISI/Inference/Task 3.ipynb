{
 "cells": [
  {
   "cell_type": "markdown",
   "metadata": {},
   "source": [
    "# Portal Design"
   ]
  },
  {
   "cell_type": "code",
   "execution_count": 1,
   "metadata": {},
   "outputs": [],
   "source": [
    "import pandas as pd\n",
    "import numpy as np\n",
    "import matplotlib.pyplot as plt\n",
    "import seaborn as sns"
   ]
  },
  {
   "cell_type": "code",
   "execution_count": 2,
   "metadata": {},
   "outputs": [],
   "source": [
    "df = pd.read_excel(\"D:\\PGDBA Backup\\ISI\\AB-Inference\\Assignments\\Datasets\\Default vs Challenger.xlsx\")"
   ]
  },
  {
   "cell_type": "code",
   "execution_count": 3,
   "metadata": {
    "scrolled": true
   },
   "outputs": [
    {
     "data": {
      "text/html": [
       "<div>\n",
       "<style scoped>\n",
       "    .dataframe tbody tr th:only-of-type {\n",
       "        vertical-align: middle;\n",
       "    }\n",
       "\n",
       "    .dataframe tbody tr th {\n",
       "        vertical-align: top;\n",
       "    }\n",
       "\n",
       "    .dataframe thead th {\n",
       "        text-align: right;\n",
       "    }\n",
       "</style>\n",
       "<table border=\"1\" class=\"dataframe\">\n",
       "  <thead>\n",
       "    <tr style=\"text-align: right;\">\n",
       "      <th></th>\n",
       "      <th>Date</th>\n",
       "      <th>Number Visited Default</th>\n",
       "      <th>Number Visited Challenger</th>\n",
       "      <th>Conversion Default</th>\n",
       "      <th>Conversion Challenger</th>\n",
       "    </tr>\n",
       "  </thead>\n",
       "  <tbody>\n",
       "    <tr>\n",
       "      <th>0</th>\n",
       "      <td>2019-05-15</td>\n",
       "      <td>4663</td>\n",
       "      <td>4699</td>\n",
       "      <td>12</td>\n",
       "      <td>11</td>\n",
       "    </tr>\n",
       "    <tr>\n",
       "      <th>1</th>\n",
       "      <td>2019-05-16</td>\n",
       "      <td>7139</td>\n",
       "      <td>6974</td>\n",
       "      <td>9</td>\n",
       "      <td>31</td>\n",
       "    </tr>\n",
       "    <tr>\n",
       "      <th>2</th>\n",
       "      <td>2019-05-17</td>\n",
       "      <td>7520</td>\n",
       "      <td>7683</td>\n",
       "      <td>17</td>\n",
       "      <td>24</td>\n",
       "    </tr>\n",
       "    <tr>\n",
       "      <th>3</th>\n",
       "      <td>2019-05-18</td>\n",
       "      <td>6833</td>\n",
       "      <td>6718</td>\n",
       "      <td>18</td>\n",
       "      <td>23</td>\n",
       "    </tr>\n",
       "    <tr>\n",
       "      <th>4</th>\n",
       "      <td>2019-05-19</td>\n",
       "      <td>6152</td>\n",
       "      <td>6227</td>\n",
       "      <td>11</td>\n",
       "      <td>24</td>\n",
       "    </tr>\n",
       "  </tbody>\n",
       "</table>\n",
       "</div>"
      ],
      "text/plain": [
       "        Date  Number Visited Default  Number Visited Challenger  \\\n",
       "0 2019-05-15                    4663                       4699   \n",
       "1 2019-05-16                    7139                       6974   \n",
       "2 2019-05-17                    7520                       7683   \n",
       "3 2019-05-18                    6833                       6718   \n",
       "4 2019-05-19                    6152                       6227   \n",
       "\n",
       "   Conversion Default  Conversion Challenger  \n",
       "0                  12                     11  \n",
       "1                   9                     31  \n",
       "2                  17                     24  \n",
       "3                  18                     23  \n",
       "4                  11                     24  "
      ]
     },
     "execution_count": 3,
     "metadata": {},
     "output_type": "execute_result"
    }
   ],
   "source": [
    "df.head()"
   ]
  },
  {
   "cell_type": "code",
   "execution_count": 4,
   "metadata": {},
   "outputs": [
    {
     "data": {
      "text/html": [
       "<div>\n",
       "<style scoped>\n",
       "    .dataframe tbody tr th:only-of-type {\n",
       "        vertical-align: middle;\n",
       "    }\n",
       "\n",
       "    .dataframe tbody tr th {\n",
       "        vertical-align: top;\n",
       "    }\n",
       "\n",
       "    .dataframe thead th {\n",
       "        text-align: right;\n",
       "    }\n",
       "</style>\n",
       "<table border=\"1\" class=\"dataframe\">\n",
       "  <thead>\n",
       "    <tr style=\"text-align: right;\">\n",
       "      <th></th>\n",
       "      <th>Number Visited Default</th>\n",
       "      <th>Number Visited Challenger</th>\n",
       "      <th>Conversion Default</th>\n",
       "      <th>Conversion Challenger</th>\n",
       "    </tr>\n",
       "  </thead>\n",
       "  <tbody>\n",
       "    <tr>\n",
       "      <th>count</th>\n",
       "      <td>28.000000</td>\n",
       "      <td>28.000000</td>\n",
       "      <td>28.000000</td>\n",
       "      <td>28.000000</td>\n",
       "    </tr>\n",
       "    <tr>\n",
       "      <th>mean</th>\n",
       "      <td>5975.964286</td>\n",
       "      <td>7432.035714</td>\n",
       "      <td>12.785714</td>\n",
       "      <td>23.535714</td>\n",
       "    </tr>\n",
       "    <tr>\n",
       "      <th>std</th>\n",
       "      <td>4567.715480</td>\n",
       "      <td>996.150274</td>\n",
       "      <td>15.107901</td>\n",
       "      <td>4.574342</td>\n",
       "    </tr>\n",
       "    <tr>\n",
       "      <th>min</th>\n",
       "      <td>-7928.000000</td>\n",
       "      <td>4699.000000</td>\n",
       "      <td>-27.000000</td>\n",
       "      <td>11.000000</td>\n",
       "    </tr>\n",
       "    <tr>\n",
       "      <th>25%</th>\n",
       "      <td>6515.250000</td>\n",
       "      <td>6656.750000</td>\n",
       "      <td>12.750000</td>\n",
       "      <td>20.750000</td>\n",
       "    </tr>\n",
       "    <tr>\n",
       "      <th>50%</th>\n",
       "      <td>7543.500000</td>\n",
       "      <td>7746.000000</td>\n",
       "      <td>17.500000</td>\n",
       "      <td>24.000000</td>\n",
       "    </tr>\n",
       "    <tr>\n",
       "      <th>75%</th>\n",
       "      <td>8110.500000</td>\n",
       "      <td>8197.250000</td>\n",
       "      <td>21.000000</td>\n",
       "      <td>26.250000</td>\n",
       "    </tr>\n",
       "    <tr>\n",
       "      <th>max</th>\n",
       "      <td>8669.000000</td>\n",
       "      <td>8757.000000</td>\n",
       "      <td>30.000000</td>\n",
       "      <td>31.000000</td>\n",
       "    </tr>\n",
       "  </tbody>\n",
       "</table>\n",
       "</div>"
      ],
      "text/plain": [
       "       Number Visited Default  Number Visited Challenger  Conversion Default  \\\n",
       "count               28.000000                  28.000000           28.000000   \n",
       "mean              5975.964286                7432.035714           12.785714   \n",
       "std               4567.715480                 996.150274           15.107901   \n",
       "min              -7928.000000                4699.000000          -27.000000   \n",
       "25%               6515.250000                6656.750000           12.750000   \n",
       "50%               7543.500000                7746.000000           17.500000   \n",
       "75%               8110.500000                8197.250000           21.000000   \n",
       "max               8669.000000                8757.000000           30.000000   \n",
       "\n",
       "       Conversion Challenger  \n",
       "count              28.000000  \n",
       "mean               23.535714  \n",
       "std                 4.574342  \n",
       "min                11.000000  \n",
       "25%                20.750000  \n",
       "50%                24.000000  \n",
       "75%                26.250000  \n",
       "max                31.000000  "
      ]
     },
     "execution_count": 4,
     "metadata": {},
     "output_type": "execute_result"
    }
   ],
   "source": [
    "df.describe()"
   ]
  },
  {
   "cell_type": "code",
   "execution_count": 5,
   "metadata": {},
   "outputs": [],
   "source": [
    "df_prop = df.copy()\n",
    "\n",
    "\n",
    "df_prop[\"Number Visited Default\"]=df_prop[\"Number Visited Default\"].abs();\n",
    "df_prop[\"Number Visited Challenger\"]=df_prop[\"Number Visited Challenger\"].abs();\n",
    "df_prop[\"Conversion Default\"]=df_prop[\"Conversion Default\"].abs();\n",
    "df_prop[\"Conversion Challenger\"]=df_prop[\"Conversion Challenger\"].abs();\n",
    "\n",
    "\n",
    "df_prop[\"Proportion Conversion Default\"] = df_prop[\"Conversion Default\"]/df_prop[\"Number Visited Default\"]\n",
    "df_prop[\"Proportion Conversion Challenger\"] = df_prop[\"Conversion Challenger\"]/df_prop[\"Number Visited Challenger\"]"
   ]
  },
  {
   "cell_type": "code",
   "execution_count": 6,
   "metadata": {},
   "outputs": [
    {
     "data": {
      "text/html": [
       "<div>\n",
       "<style scoped>\n",
       "    .dataframe tbody tr th:only-of-type {\n",
       "        vertical-align: middle;\n",
       "    }\n",
       "\n",
       "    .dataframe tbody tr th {\n",
       "        vertical-align: top;\n",
       "    }\n",
       "\n",
       "    .dataframe thead th {\n",
       "        text-align: right;\n",
       "    }\n",
       "</style>\n",
       "<table border=\"1\" class=\"dataframe\">\n",
       "  <thead>\n",
       "    <tr style=\"text-align: right;\">\n",
       "      <th></th>\n",
       "      <th>Date</th>\n",
       "      <th>Number Visited Default</th>\n",
       "      <th>Number Visited Challenger</th>\n",
       "      <th>Conversion Default</th>\n",
       "      <th>Conversion Challenger</th>\n",
       "      <th>Proportion Conversion Default</th>\n",
       "      <th>Proportion Conversion Challenger</th>\n",
       "    </tr>\n",
       "  </thead>\n",
       "  <tbody>\n",
       "    <tr>\n",
       "      <th>0</th>\n",
       "      <td>2019-05-15</td>\n",
       "      <td>4663</td>\n",
       "      <td>4699</td>\n",
       "      <td>12</td>\n",
       "      <td>11</td>\n",
       "      <td>0.002573</td>\n",
       "      <td>0.002341</td>\n",
       "    </tr>\n",
       "    <tr>\n",
       "      <th>1</th>\n",
       "      <td>2019-05-16</td>\n",
       "      <td>7139</td>\n",
       "      <td>6974</td>\n",
       "      <td>9</td>\n",
       "      <td>31</td>\n",
       "      <td>0.001261</td>\n",
       "      <td>0.004445</td>\n",
       "    </tr>\n",
       "    <tr>\n",
       "      <th>2</th>\n",
       "      <td>2019-05-17</td>\n",
       "      <td>7520</td>\n",
       "      <td>7683</td>\n",
       "      <td>17</td>\n",
       "      <td>24</td>\n",
       "      <td>0.002261</td>\n",
       "      <td>0.003124</td>\n",
       "    </tr>\n",
       "    <tr>\n",
       "      <th>3</th>\n",
       "      <td>2019-05-18</td>\n",
       "      <td>6833</td>\n",
       "      <td>6718</td>\n",
       "      <td>18</td>\n",
       "      <td>23</td>\n",
       "      <td>0.002634</td>\n",
       "      <td>0.003424</td>\n",
       "    </tr>\n",
       "    <tr>\n",
       "      <th>4</th>\n",
       "      <td>2019-05-19</td>\n",
       "      <td>6152</td>\n",
       "      <td>6227</td>\n",
       "      <td>11</td>\n",
       "      <td>24</td>\n",
       "      <td>0.001788</td>\n",
       "      <td>0.003854</td>\n",
       "    </tr>\n",
       "  </tbody>\n",
       "</table>\n",
       "</div>"
      ],
      "text/plain": [
       "        Date  Number Visited Default  Number Visited Challenger  \\\n",
       "0 2019-05-15                    4663                       4699   \n",
       "1 2019-05-16                    7139                       6974   \n",
       "2 2019-05-17                    7520                       7683   \n",
       "3 2019-05-18                    6833                       6718   \n",
       "4 2019-05-19                    6152                       6227   \n",
       "\n",
       "   Conversion Default  Conversion Challenger  Proportion Conversion Default  \\\n",
       "0                  12                     11                       0.002573   \n",
       "1                   9                     31                       0.001261   \n",
       "2                  17                     24                       0.002261   \n",
       "3                  18                     23                       0.002634   \n",
       "4                  11                     24                       0.001788   \n",
       "\n",
       "   Proportion Conversion Challenger  \n",
       "0                          0.002341  \n",
       "1                          0.004445  \n",
       "2                          0.003124  \n",
       "3                          0.003424  \n",
       "4                          0.003854  "
      ]
     },
     "execution_count": 6,
     "metadata": {},
     "output_type": "execute_result"
    }
   ],
   "source": [
    "df_prop.head()"
   ]
  },
  {
   "cell_type": "code",
   "execution_count": 7,
   "metadata": {
    "scrolled": true
   },
   "outputs": [
    {
     "data": {
      "text/html": [
       "<div>\n",
       "<style scoped>\n",
       "    .dataframe tbody tr th:only-of-type {\n",
       "        vertical-align: middle;\n",
       "    }\n",
       "\n",
       "    .dataframe tbody tr th {\n",
       "        vertical-align: top;\n",
       "    }\n",
       "\n",
       "    .dataframe thead th {\n",
       "        text-align: right;\n",
       "    }\n",
       "</style>\n",
       "<table border=\"1\" class=\"dataframe\">\n",
       "  <thead>\n",
       "    <tr style=\"text-align: right;\">\n",
       "      <th></th>\n",
       "      <th>Number Visited Default</th>\n",
       "      <th>Number Visited Challenger</th>\n",
       "      <th>Conversion Default</th>\n",
       "      <th>Conversion Challenger</th>\n",
       "      <th>Proportion Conversion Default</th>\n",
       "      <th>Proportion Conversion Challenger</th>\n",
       "    </tr>\n",
       "  </thead>\n",
       "  <tbody>\n",
       "    <tr>\n",
       "      <th>count</th>\n",
       "      <td>28.000000</td>\n",
       "      <td>28.000000</td>\n",
       "      <td>28.000000</td>\n",
       "      <td>28.000000</td>\n",
       "      <td>28.000000</td>\n",
       "      <td>28.000000</td>\n",
       "    </tr>\n",
       "    <tr>\n",
       "      <th>mean</th>\n",
       "      <td>7412.250000</td>\n",
       "      <td>7432.035714</td>\n",
       "      <td>18.928571</td>\n",
       "      <td>23.535714</td>\n",
       "      <td>0.002561</td>\n",
       "      <td>0.003195</td>\n",
       "    </tr>\n",
       "    <tr>\n",
       "      <th>std</th>\n",
       "      <td>960.482927</td>\n",
       "      <td>996.150274</td>\n",
       "      <td>5.120247</td>\n",
       "      <td>4.574342</td>\n",
       "      <td>0.000622</td>\n",
       "      <td>0.000653</td>\n",
       "    </tr>\n",
       "    <tr>\n",
       "      <th>min</th>\n",
       "      <td>4663.000000</td>\n",
       "      <td>4699.000000</td>\n",
       "      <td>9.000000</td>\n",
       "      <td>11.000000</td>\n",
       "      <td>0.001261</td>\n",
       "      <td>0.002055</td>\n",
       "    </tr>\n",
       "    <tr>\n",
       "      <th>25%</th>\n",
       "      <td>6761.750000</td>\n",
       "      <td>6656.750000</td>\n",
       "      <td>15.750000</td>\n",
       "      <td>20.750000</td>\n",
       "      <td>0.002077</td>\n",
       "      <td>0.002706</td>\n",
       "    </tr>\n",
       "    <tr>\n",
       "      <th>50%</th>\n",
       "      <td>7691.500000</td>\n",
       "      <td>7746.000000</td>\n",
       "      <td>19.000000</td>\n",
       "      <td>24.000000</td>\n",
       "      <td>0.002666</td>\n",
       "      <td>0.003197</td>\n",
       "    </tr>\n",
       "    <tr>\n",
       "      <th>75%</th>\n",
       "      <td>8110.500000</td>\n",
       "      <td>8197.250000</td>\n",
       "      <td>21.250000</td>\n",
       "      <td>26.250000</td>\n",
       "      <td>0.002899</td>\n",
       "      <td>0.003519</td>\n",
       "    </tr>\n",
       "    <tr>\n",
       "      <th>max</th>\n",
       "      <td>8669.000000</td>\n",
       "      <td>8757.000000</td>\n",
       "      <td>30.000000</td>\n",
       "      <td>31.000000</td>\n",
       "      <td>0.003636</td>\n",
       "      <td>0.004596</td>\n",
       "    </tr>\n",
       "  </tbody>\n",
       "</table>\n",
       "</div>"
      ],
      "text/plain": [
       "       Number Visited Default  Number Visited Challenger  Conversion Default  \\\n",
       "count               28.000000                  28.000000           28.000000   \n",
       "mean              7412.250000                7432.035714           18.928571   \n",
       "std                960.482927                 996.150274            5.120247   \n",
       "min               4663.000000                4699.000000            9.000000   \n",
       "25%               6761.750000                6656.750000           15.750000   \n",
       "50%               7691.500000                7746.000000           19.000000   \n",
       "75%               8110.500000                8197.250000           21.250000   \n",
       "max               8669.000000                8757.000000           30.000000   \n",
       "\n",
       "       Conversion Challenger  Proportion Conversion Default  \\\n",
       "count              28.000000                      28.000000   \n",
       "mean               23.535714                       0.002561   \n",
       "std                 4.574342                       0.000622   \n",
       "min                11.000000                       0.001261   \n",
       "25%                20.750000                       0.002077   \n",
       "50%                24.000000                       0.002666   \n",
       "75%                26.250000                       0.002899   \n",
       "max                31.000000                       0.003636   \n",
       "\n",
       "       Proportion Conversion Challenger  \n",
       "count                         28.000000  \n",
       "mean                           0.003195  \n",
       "std                            0.000653  \n",
       "min                            0.002055  \n",
       "25%                            0.002706  \n",
       "50%                            0.003197  \n",
       "75%                            0.003519  \n",
       "max                            0.004596  "
      ]
     },
     "execution_count": 7,
     "metadata": {},
     "output_type": "execute_result"
    }
   ],
   "source": [
    "df_prop.describe()"
   ]
  },
  {
   "cell_type": "code",
   "execution_count": 8,
   "metadata": {},
   "outputs": [],
   "source": [
    "default_converted = df_prop[\"Conversion Default\"].sum()\n",
    "challenger_converted = df_prop[\"Conversion Challenger\"].sum()\n",
    "\n",
    "default_total = df_prop[\"Number Visited Default\"].sum()\n",
    "challenger_total= df_prop[\"Number Visited Challenger\"].sum()\n",
    "\n",
    "default_not_converted = default_total - default_converted\n",
    "challenger_not_converted = challenger_total - challenger_converted"
   ]
  },
  {
   "cell_type": "code",
   "execution_count": 9,
   "metadata": {},
   "outputs": [
    {
     "name": "stdout",
     "output_type": "stream",
     "text": [
      "default_converted: 530\n",
      "challenger_converted: 659\n",
      "default_not_converted: 207013\n",
      "challenger_not_converted: 207438\n",
      "default_total: 207543\n",
      "challenger_total: 208097\n"
     ]
    }
   ],
   "source": [
    "print(\"default_converted:\", default_converted)\n",
    "print(\"challenger_converted:\", challenger_converted)\n",
    "print(\"default_not_converted:\", default_not_converted)\n",
    "print(\"challenger_not_converted:\", challenger_not_converted)\n",
    "print(\"default_total:\", default_total)\n",
    "print(\"challenger_total:\", challenger_total)\n"
   ]
  },
  {
   "cell_type": "code",
   "execution_count": 10,
   "metadata": {},
   "outputs": [
    {
     "data": {
      "text/plain": [
       "[Text(0.5, 0, 'Date'), Text(0, 0.5, 'Proption converted')]"
      ]
     },
     "execution_count": 10,
     "metadata": {},
     "output_type": "execute_result"
    },
    {
     "data": {
      "image/png": "[encoded data removed]",
      "text/plain": [
       "<Figure size 1440x720 with 1 Axes>"
      ]
     },
     "metadata": {
      "needs_background": "light"
     },
     "output_type": "display_data"
    }
   ],
   "source": [
    "plt.figure(figsize=(20,10))\n",
    "\n",
    "sns.lineplot(data=df_prop, x=\"Date\", y= \"Proportion Conversion Default\")\n",
    "sns.lineplot(data=df_prop, x=\"Date\", y= \"Proportion Conversion Challenger\", color=\"red\").set(xlabel=\"Date\", ylabel = \"Proption converted\")"
   ]
  },
  {
   "cell_type": "code",
   "execution_count": 11,
   "metadata": {},
   "outputs": [],
   "source": [
    "# No observable trend \n",
    "# Stationery data"
   ]
  },
  {
   "cell_type": "code",
   "execution_count": 12,
   "metadata": {},
   "outputs": [
    {
     "data": {
      "text/plain": [
       "<AxesSubplot:ylabel='Proportion Conversion Default'>"
      ]
     },
     "execution_count": 12,
     "metadata": {},
     "output_type": "execute_result"
    },
    {
     "data": {
      "image/png": "[encoded data removed]",
      "text/plain": [
       "<Figure size 432x288 with 1 Axes>"
      ]
     },
     "metadata": {
      "needs_background": "light"
     },
     "output_type": "display_data"
    }
   ],
   "source": [
    "sns.boxplot(data = df_prop, y=\"Proportion Conversion Default\")"
   ]
  },
  {
   "cell_type": "code",
   "execution_count": 13,
   "metadata": {},
   "outputs": [
    {
     "data": {
      "text/plain": [
       "<AxesSubplot:ylabel='Proportion Conversion Challenger'>"
      ]
     },
     "execution_count": 13,
     "metadata": {},
     "output_type": "execute_result"
    },
    {
     "data": {
      "image/png": "[encoded data removed]",
      "text/plain": [
       "<Figure size 432x288 with 1 Axes>"
      ]
     },
     "metadata": {
      "needs_background": "light"
     },
     "output_type": "display_data"
    }
   ],
   "source": [
    "sns.boxplot(data = df_prop, y=\"Proportion Conversion Challenger\", color = \"red\")"
   ]
  },
  {
   "cell_type": "code",
   "execution_count": 14,
   "metadata": {},
   "outputs": [
    {
     "data": {
      "text/plain": [
       "<seaborn.axisgrid.FacetGrid at 0x235b045c7f0>"
      ]
     },
     "execution_count": 14,
     "metadata": {},
     "output_type": "execute_result"
    },
    {
     "data": {
      "image/png": "[encoded data removed]",
      "text/plain": [
       "<Figure size 360x360 with 1 Axes>"
      ]
     },
     "metadata": {
      "needs_background": "light"
     },
     "output_type": "display_data"
    }
   ],
   "source": [
    "sns.displot(data=df_prop, x=\"Proportion Conversion Default\")"
   ]
  },
  {
   "cell_type": "code",
   "execution_count": 15,
   "metadata": {},
   "outputs": [
    {
     "data": {
      "text/plain": [
       "<seaborn.axisgrid.FacetGrid at 0x235b0465160>"
      ]
     },
     "execution_count": 15,
     "metadata": {},
     "output_type": "execute_result"
    },
    {
     "data": {
      "image/png": "[encoded data removed]",
      "text/plain": [
       "<Figure size 360x360 with 1 Axes>"
      ]
     },
     "metadata": {
      "needs_background": "light"
     },
     "output_type": "display_data"
    }
   ],
   "source": [
    "sns.displot(data=df_prop, x=\"Proportion Conversion Challenger\", color=\"red\")"
   ]
  },
  {
   "cell_type": "code",
   "execution_count": 16,
   "metadata": {},
   "outputs": [
    {
     "name": "stdout",
     "output_type": "stream",
     "text": [
      "[0.00257345 0.00126068 0.00226064 0.00263427 0.00178804 0.00174708\n",
      " 0.00162846 0.00217503 0.0028665  0.00291361 0.00282043 0.00344947\n",
      " 0.00274903 0.00201816 0.00209619 0.00363636 0.00230707 0.00198229\n",
      " 0.00320709 0.00249626 0.00289366 0.00284126 0.00182526 0.00269707\n",
      " 0.00280449 0.00311672 0.00361867 0.00330558 0.00234092 0.00444508\n",
      " 0.00312378 0.00342364 0.00385418 0.00369344 0.00244349 0.0034705\n",
      " 0.00323537 0.00319652 0.00339873 0.00459608 0.00275348 0.00256049\n",
      " 0.00223188 0.00253012 0.0020555  0.00319744 0.00434513 0.00308604\n",
      " 0.00279533 0.00256504 0.0037408  0.00301568 0.00325821 0.0029893\n",
      " 0.00345755 0.00366257]\n"
     ]
    }
   ],
   "source": [
    "# x  = df_prop[\"Proportion Conversion Default\"] + df_prop[\"Proportion Conversion Challenger\"]\n",
    "\n",
    "x = df_prop.loc[:,\"Proportion Conversion Default\"].values\n",
    "y = df_prop.loc[:,\"Proportion Conversion Challenger\"].values\n",
    "\n",
    "z= np.concatenate((x, y))\n",
    "\n",
    "print(z)"
   ]
  },
  {
   "cell_type": "code",
   "execution_count": 17,
   "metadata": {},
   "outputs": [
    {
     "data": {
      "text/plain": [
       "<seaborn.axisgrid.FacetGrid at 0x235b0551400>"
      ]
     },
     "execution_count": 17,
     "metadata": {},
     "output_type": "execute_result"
    },
    {
     "data": {
      "image/png": "[encoded data removed]",
      "text/plain": [
       "<Figure size 360x360 with 1 Axes>"
      ]
     },
     "metadata": {
      "needs_background": "light"
     },
     "output_type": "display_data"
    }
   ],
   "source": [
    "# All proportions\n",
    "\n",
    "sns.displot(data=z, color=\"red\")"
   ]
  },
  {
   "cell_type": "markdown",
   "metadata": {},
   "source": [
    "------------------"
   ]
  },
  {
   "cell_type": "markdown",
   "metadata": {},
   "source": [
    "# Full factorial Experiment"
   ]
  },
  {
   "cell_type": "code",
   "execution_count": 18,
   "metadata": {},
   "outputs": [],
   "source": [
    "df2 = pd.read_excel(\"D:\\PGDBA Backup\\ISI\\AB-Inference\\Assignments\\Datasets\\Full Factorial Experiment on Conversion of Customers.xlsx\")"
   ]
  },
  {
   "cell_type": "code",
   "execution_count": 19,
   "metadata": {},
   "outputs": [
    {
     "data": {
      "text/html": [
       "<div>\n",
       "<style scoped>\n",
       "    .dataframe tbody tr th:only-of-type {\n",
       "        vertical-align: middle;\n",
       "    }\n",
       "\n",
       "    .dataframe tbody tr th {\n",
       "        vertical-align: top;\n",
       "    }\n",
       "\n",
       "    .dataframe thead th {\n",
       "        text-align: right;\n",
       "    }\n",
       "</style>\n",
       "<table border=\"1\" class=\"dataframe\">\n",
       "  <thead>\n",
       "    <tr style=\"text-align: right;\">\n",
       "      <th></th>\n",
       "      <th>Sr. No.</th>\n",
       "      <th>A</th>\n",
       "      <th>B</th>\n",
       "      <th>C</th>\n",
       "      <th>Number Converted</th>\n",
       "      <th>Number Not Converted</th>\n",
       "      <th>Total</th>\n",
       "    </tr>\n",
       "  </thead>\n",
       "  <tbody>\n",
       "    <tr>\n",
       "      <th>0</th>\n",
       "      <td>1</td>\n",
       "      <td>1</td>\n",
       "      <td>1</td>\n",
       "      <td>1</td>\n",
       "      <td>3809</td>\n",
       "      <td>28265</td>\n",
       "      <td>32074</td>\n",
       "    </tr>\n",
       "    <tr>\n",
       "      <th>1</th>\n",
       "      <td>2</td>\n",
       "      <td>1</td>\n",
       "      <td>1</td>\n",
       "      <td>2</td>\n",
       "      <td>3866</td>\n",
       "      <td>28217</td>\n",
       "      <td>32083</td>\n",
       "    </tr>\n",
       "    <tr>\n",
       "      <th>2</th>\n",
       "      <td>3</td>\n",
       "      <td>1</td>\n",
       "      <td>1</td>\n",
       "      <td>3</td>\n",
       "      <td>3881</td>\n",
       "      <td>27770</td>\n",
       "      <td>31651</td>\n",
       "    </tr>\n",
       "    <tr>\n",
       "      <th>3</th>\n",
       "      <td>4</td>\n",
       "      <td>1</td>\n",
       "      <td>2</td>\n",
       "      <td>1</td>\n",
       "      <td>3954</td>\n",
       "      <td>28421</td>\n",
       "      <td>32375</td>\n",
       "    </tr>\n",
       "    <tr>\n",
       "      <th>4</th>\n",
       "      <td>5</td>\n",
       "      <td>1</td>\n",
       "      <td>2</td>\n",
       "      <td>2</td>\n",
       "      <td>3888</td>\n",
       "      <td>28298</td>\n",
       "      <td>32186</td>\n",
       "    </tr>\n",
       "  </tbody>\n",
       "</table>\n",
       "</div>"
      ],
      "text/plain": [
       "   Sr. No.  A  B  C  Number Converted  Number Not Converted  Total\n",
       "0        1  1  1  1              3809                 28265  32074\n",
       "1        2  1  1  2              3866                 28217  32083\n",
       "2        3  1  1  3              3881                 27770  31651\n",
       "3        4  1  2  1              3954                 28421  32375\n",
       "4        5  1  2  2              3888                 28298  32186"
      ]
     },
     "execution_count": 19,
     "metadata": {},
     "output_type": "execute_result"
    }
   ],
   "source": [
    "df2.head()"
   ]
  },
  {
   "cell_type": "code",
   "execution_count": 20,
   "metadata": {
    "scrolled": true
   },
   "outputs": [
    {
     "data": {
      "text/html": [
       "<div>\n",
       "<style scoped>\n",
       "    .dataframe tbody tr th:only-of-type {\n",
       "        vertical-align: middle;\n",
       "    }\n",
       "\n",
       "    .dataframe tbody tr th {\n",
       "        vertical-align: top;\n",
       "    }\n",
       "\n",
       "    .dataframe thead th {\n",
       "        text-align: right;\n",
       "    }\n",
       "</style>\n",
       "<table border=\"1\" class=\"dataframe\">\n",
       "  <thead>\n",
       "    <tr style=\"text-align: right;\">\n",
       "      <th></th>\n",
       "      <th>Sr. No.</th>\n",
       "      <th>A</th>\n",
       "      <th>B</th>\n",
       "      <th>C</th>\n",
       "      <th>Number Converted</th>\n",
       "      <th>Number Not Converted</th>\n",
       "      <th>Total</th>\n",
       "    </tr>\n",
       "  </thead>\n",
       "  <tbody>\n",
       "    <tr>\n",
       "      <th>count</th>\n",
       "      <td>18.000000</td>\n",
       "      <td>18.000000</td>\n",
       "      <td>18.000000</td>\n",
       "      <td>18.000000</td>\n",
       "      <td>18.000000</td>\n",
       "      <td>18.000000</td>\n",
       "      <td>18.000000</td>\n",
       "    </tr>\n",
       "    <tr>\n",
       "      <th>mean</th>\n",
       "      <td>9.500000</td>\n",
       "      <td>1.500000</td>\n",
       "      <td>2.000000</td>\n",
       "      <td>2.000000</td>\n",
       "      <td>3866.055556</td>\n",
       "      <td>28205.000000</td>\n",
       "      <td>32071.055556</td>\n",
       "    </tr>\n",
       "    <tr>\n",
       "      <th>std</th>\n",
       "      <td>5.338539</td>\n",
       "      <td>0.514496</td>\n",
       "      <td>0.840168</td>\n",
       "      <td>0.840168</td>\n",
       "      <td>57.296414</td>\n",
       "      <td>195.629602</td>\n",
       "      <td>213.902527</td>\n",
       "    </tr>\n",
       "    <tr>\n",
       "      <th>min</th>\n",
       "      <td>1.000000</td>\n",
       "      <td>1.000000</td>\n",
       "      <td>1.000000</td>\n",
       "      <td>1.000000</td>\n",
       "      <td>3737.000000</td>\n",
       "      <td>27770.000000</td>\n",
       "      <td>31571.000000</td>\n",
       "    </tr>\n",
       "    <tr>\n",
       "      <th>25%</th>\n",
       "      <td>5.250000</td>\n",
       "      <td>1.000000</td>\n",
       "      <td>1.000000</td>\n",
       "      <td>1.000000</td>\n",
       "      <td>3836.250000</td>\n",
       "      <td>28155.750000</td>\n",
       "      <td>32034.750000</td>\n",
       "    </tr>\n",
       "    <tr>\n",
       "      <th>50%</th>\n",
       "      <td>9.500000</td>\n",
       "      <td>1.500000</td>\n",
       "      <td>2.000000</td>\n",
       "      <td>2.000000</td>\n",
       "      <td>3860.500000</td>\n",
       "      <td>28245.000000</td>\n",
       "      <td>32107.500000</td>\n",
       "    </tr>\n",
       "    <tr>\n",
       "      <th>75%</th>\n",
       "      <td>13.750000</td>\n",
       "      <td>2.000000</td>\n",
       "      <td>3.000000</td>\n",
       "      <td>3.000000</td>\n",
       "      <td>3894.000000</td>\n",
       "      <td>28321.000000</td>\n",
       "      <td>32190.500000</td>\n",
       "    </tr>\n",
       "    <tr>\n",
       "      <th>max</th>\n",
       "      <td>18.000000</td>\n",
       "      <td>2.000000</td>\n",
       "      <td>3.000000</td>\n",
       "      <td>3.000000</td>\n",
       "      <td>3989.000000</td>\n",
       "      <td>28526.000000</td>\n",
       "      <td>32375.000000</td>\n",
       "    </tr>\n",
       "  </tbody>\n",
       "</table>\n",
       "</div>"
      ],
      "text/plain": [
       "         Sr. No.          A          B          C  Number Converted  \\\n",
       "count  18.000000  18.000000  18.000000  18.000000         18.000000   \n",
       "mean    9.500000   1.500000   2.000000   2.000000       3866.055556   \n",
       "std     5.338539   0.514496   0.840168   0.840168         57.296414   \n",
       "min     1.000000   1.000000   1.000000   1.000000       3737.000000   \n",
       "25%     5.250000   1.000000   1.000000   1.000000       3836.250000   \n",
       "50%     9.500000   1.500000   2.000000   2.000000       3860.500000   \n",
       "75%    13.750000   2.000000   3.000000   3.000000       3894.000000   \n",
       "max    18.000000   2.000000   3.000000   3.000000       3989.000000   \n",
       "\n",
       "       Number Not Converted         Total  \n",
       "count             18.000000     18.000000  \n",
       "mean           28205.000000  32071.055556  \n",
       "std              195.629602    213.902527  \n",
       "min            27770.000000  31571.000000  \n",
       "25%            28155.750000  32034.750000  \n",
       "50%            28245.000000  32107.500000  \n",
       "75%            28321.000000  32190.500000  \n",
       "max            28526.000000  32375.000000  "
      ]
     },
     "execution_count": 20,
     "metadata": {},
     "output_type": "execute_result"
    }
   ],
   "source": [
    "df2.describe()"
   ]
  },
  {
   "cell_type": "code",
   "execution_count": 21,
   "metadata": {},
   "outputs": [
    {
     "data": {
      "text/html": [
       "<div>\n",
       "<style scoped>\n",
       "    .dataframe tbody tr th:only-of-type {\n",
       "        vertical-align: middle;\n",
       "    }\n",
       "\n",
       "    .dataframe tbody tr th {\n",
       "        vertical-align: top;\n",
       "    }\n",
       "\n",
       "    .dataframe thead th {\n",
       "        text-align: right;\n",
       "    }\n",
       "</style>\n",
       "<table border=\"1\" class=\"dataframe\">\n",
       "  <thead>\n",
       "    <tr style=\"text-align: right;\">\n",
       "      <th></th>\n",
       "      <th>Sr. No.</th>\n",
       "      <th>A</th>\n",
       "      <th>B</th>\n",
       "      <th>C</th>\n",
       "      <th>Number Converted</th>\n",
       "      <th>Number Not Converted</th>\n",
       "      <th>Total</th>\n",
       "    </tr>\n",
       "  </thead>\n",
       "  <tbody>\n",
       "    <tr>\n",
       "      <th>2</th>\n",
       "      <td>3</td>\n",
       "      <td>1</td>\n",
       "      <td>1</td>\n",
       "      <td>3</td>\n",
       "      <td>3881</td>\n",
       "      <td>27770</td>\n",
       "      <td>31651</td>\n",
       "    </tr>\n",
       "    <tr>\n",
       "      <th>5</th>\n",
       "      <td>6</td>\n",
       "      <td>1</td>\n",
       "      <td>2</td>\n",
       "      <td>3</td>\n",
       "      <td>3737</td>\n",
       "      <td>27834</td>\n",
       "      <td>31571</td>\n",
       "    </tr>\n",
       "    <tr>\n",
       "      <th>8</th>\n",
       "      <td>9</td>\n",
       "      <td>1</td>\n",
       "      <td>3</td>\n",
       "      <td>3</td>\n",
       "      <td>3854</td>\n",
       "      <td>27919</td>\n",
       "      <td>31773</td>\n",
       "    </tr>\n",
       "    <tr>\n",
       "      <th>11</th>\n",
       "      <td>12</td>\n",
       "      <td>2</td>\n",
       "      <td>1</td>\n",
       "      <td>3</td>\n",
       "      <td>3885</td>\n",
       "      <td>28173</td>\n",
       "      <td>32058</td>\n",
       "    </tr>\n",
       "    <tr>\n",
       "      <th>14</th>\n",
       "      <td>15</td>\n",
       "      <td>2</td>\n",
       "      <td>2</td>\n",
       "      <td>3</td>\n",
       "      <td>3896</td>\n",
       "      <td>28225</td>\n",
       "      <td>32121</td>\n",
       "    </tr>\n",
       "    <tr>\n",
       "      <th>17</th>\n",
       "      <td>18</td>\n",
       "      <td>2</td>\n",
       "      <td>3</td>\n",
       "      <td>3</td>\n",
       "      <td>3852</td>\n",
       "      <td>28175</td>\n",
       "      <td>32027</td>\n",
       "    </tr>\n",
       "  </tbody>\n",
       "</table>\n",
       "</div>"
      ],
      "text/plain": [
       "    Sr. No.  A  B  C  Number Converted  Number Not Converted  Total\n",
       "2         3  1  1  3              3881                 27770  31651\n",
       "5         6  1  2  3              3737                 27834  31571\n",
       "8         9  1  3  3              3854                 27919  31773\n",
       "11       12  2  1  3              3885                 28173  32058\n",
       "14       15  2  2  3              3896                 28225  32121\n",
       "17       18  2  3  3              3852                 28175  32027"
      ]
     },
     "execution_count": 21,
     "metadata": {},
     "output_type": "execute_result"
    }
   ],
   "source": [
    "df2[df2[\"A\"] == 1]\n",
    "df2[df2[\"A\"] == 2]\n",
    "df2[df2[\"B\"] == 1]\n",
    "df2[df2[\"B\"] == 2]\n",
    "df2[df2[\"B\"] == 3]\n",
    "df2[df2[\"C\"] == 1]\n",
    "df2[df2[\"C\"] == 2]\n",
    "df2[df2[\"C\"] == 3]"
   ]
  },
  {
   "cell_type": "code",
   "execution_count": 22,
   "metadata": {},
   "outputs": [
    {
     "data": {
      "text/html": [
       "<div>\n",
       "<style scoped>\n",
       "    .dataframe tbody tr th:only-of-type {\n",
       "        vertical-align: middle;\n",
       "    }\n",
       "\n",
       "    .dataframe tbody tr th {\n",
       "        vertical-align: top;\n",
       "    }\n",
       "\n",
       "    .dataframe thead th {\n",
       "        text-align: right;\n",
       "    }\n",
       "</style>\n",
       "<table border=\"1\" class=\"dataframe\">\n",
       "  <thead>\n",
       "    <tr style=\"text-align: right;\">\n",
       "      <th></th>\n",
       "      <th>Sr. No.</th>\n",
       "      <th>A</th>\n",
       "      <th>B</th>\n",
       "      <th>C</th>\n",
       "      <th>Number Converted</th>\n",
       "      <th>Number Not Converted</th>\n",
       "      <th>Total</th>\n",
       "    </tr>\n",
       "  </thead>\n",
       "  <tbody>\n",
       "    <tr>\n",
       "      <th>0</th>\n",
       "      <td>1</td>\n",
       "      <td>1</td>\n",
       "      <td>1</td>\n",
       "      <td>1</td>\n",
       "      <td>3809</td>\n",
       "      <td>28265</td>\n",
       "      <td>32074</td>\n",
       "    </tr>\n",
       "    <tr>\n",
       "      <th>1</th>\n",
       "      <td>2</td>\n",
       "      <td>1</td>\n",
       "      <td>1</td>\n",
       "      <td>2</td>\n",
       "      <td>3866</td>\n",
       "      <td>28217</td>\n",
       "      <td>32083</td>\n",
       "    </tr>\n",
       "    <tr>\n",
       "      <th>2</th>\n",
       "      <td>3</td>\n",
       "      <td>1</td>\n",
       "      <td>1</td>\n",
       "      <td>3</td>\n",
       "      <td>3881</td>\n",
       "      <td>27770</td>\n",
       "      <td>31651</td>\n",
       "    </tr>\n",
       "    <tr>\n",
       "      <th>3</th>\n",
       "      <td>4</td>\n",
       "      <td>1</td>\n",
       "      <td>2</td>\n",
       "      <td>1</td>\n",
       "      <td>3954</td>\n",
       "      <td>28421</td>\n",
       "      <td>32375</td>\n",
       "    </tr>\n",
       "    <tr>\n",
       "      <th>4</th>\n",
       "      <td>5</td>\n",
       "      <td>1</td>\n",
       "      <td>2</td>\n",
       "      <td>2</td>\n",
       "      <td>3888</td>\n",
       "      <td>28298</td>\n",
       "      <td>32186</td>\n",
       "    </tr>\n",
       "    <tr>\n",
       "      <th>5</th>\n",
       "      <td>6</td>\n",
       "      <td>1</td>\n",
       "      <td>2</td>\n",
       "      <td>3</td>\n",
       "      <td>3737</td>\n",
       "      <td>27834</td>\n",
       "      <td>31571</td>\n",
       "    </tr>\n",
       "    <tr>\n",
       "      <th>6</th>\n",
       "      <td>7</td>\n",
       "      <td>1</td>\n",
       "      <td>3</td>\n",
       "      <td>1</td>\n",
       "      <td>3896</td>\n",
       "      <td>28296</td>\n",
       "      <td>32192</td>\n",
       "    </tr>\n",
       "    <tr>\n",
       "      <th>7</th>\n",
       "      <td>8</td>\n",
       "      <td>1</td>\n",
       "      <td>3</td>\n",
       "      <td>2</td>\n",
       "      <td>3855</td>\n",
       "      <td>28339</td>\n",
       "      <td>32194</td>\n",
       "    </tr>\n",
       "    <tr>\n",
       "      <th>8</th>\n",
       "      <td>9</td>\n",
       "      <td>1</td>\n",
       "      <td>3</td>\n",
       "      <td>3</td>\n",
       "      <td>3854</td>\n",
       "      <td>27919</td>\n",
       "      <td>31773</td>\n",
       "    </tr>\n",
       "  </tbody>\n",
       "</table>\n",
       "</div>"
      ],
      "text/plain": [
       "   Sr. No.  A  B  C  Number Converted  Number Not Converted  Total\n",
       "0        1  1  1  1              3809                 28265  32074\n",
       "1        2  1  1  2              3866                 28217  32083\n",
       "2        3  1  1  3              3881                 27770  31651\n",
       "3        4  1  2  1              3954                 28421  32375\n",
       "4        5  1  2  2              3888                 28298  32186\n",
       "5        6  1  2  3              3737                 27834  31571\n",
       "6        7  1  3  1              3896                 28296  32192\n",
       "7        8  1  3  2              3855                 28339  32194\n",
       "8        9  1  3  3              3854                 27919  31773"
      ]
     },
     "execution_count": 22,
     "metadata": {},
     "output_type": "execute_result"
    }
   ],
   "source": [
    "df2[df2[\"A\"] == 1]"
   ]
  },
  {
   "cell_type": "code",
   "execution_count": 23,
   "metadata": {},
   "outputs": [],
   "source": [
    "A1 = df2[df2[\"A\"] == 1]\n",
    "\n",
    "A_1_converted = df2[df2[\"A\"] == 1][\"Number Converted\"].sum()\n",
    "A_1_not_converted = df2[df2[\"A\"] == 1][\"Number Not Converted\"].sum()\n",
    "\n",
    "A_2_converted = df2[df2[\"A\"] == 2][\"Number Converted\"].sum()\n",
    "A_2_not_converted = df2[df2[\"A\"] == 2][\"Number Not Converted\"].sum()\n",
    "\n",
    "B_1_converted = df2[df2[\"B\"] == 1][\"Number Converted\"].sum()\n",
    "B_1_not_converted = df2[df2[\"B\"] == 1][\"Number Not Converted\"].sum()\n",
    "\n",
    "B_2_converted = df2[df2[\"B\"] == 2][\"Number Converted\"].sum()\n",
    "B_2_not_converted = df2[df2[\"B\"] == 2][\"Number Not Converted\"].sum()\n",
    "\n",
    "B_3_converted = df2[df2[\"B\"] == 3][\"Number Converted\"].sum()\n",
    "B_3_not_converted = df2[df2[\"B\"] == 3][\"Number Not Converted\"].sum()\n",
    "\n",
    "\n",
    "C_1_converted = df2[df2[\"C\"] == 1][\"Number Converted\"].sum()\n",
    "C_1_not_converted = df2[df2[\"C\"] == 1][\"Number Not Converted\"].sum()\n",
    "\n",
    "C_2_converted = df2[df2[\"C\"] == 2][\"Number Converted\"].sum()\n",
    "C_2_not_converted = df2[df2[\"C\"] == 2][\"Number Not Converted\"].sum()\n",
    "\n",
    "C_3_converted = df2[df2[\"C\"] == 3][\"Number Converted\"].sum()\n",
    "C_3_not_converted = df2[df2[\"C\"] == 3][\"Number Not Converted\"].sum()\n"
   ]
  },
  {
   "cell_type": "code",
   "execution_count": 24,
   "metadata": {},
   "outputs": [
    {
     "name": "stdout",
     "output_type": "stream",
     "text": [
      "A_1_converted:  34740\n",
      "A_1_not_converted:  253359\n",
      "A_2_converted:  34849\n",
      "A_2_not_converted:  254331\n",
      "B_1_converted:  23127\n",
      "B_1_not_converted:  168902\n",
      "B_2_converted:  23268\n",
      "B_2_not_converted:  169200\n",
      "B_3_converted:  23194\n",
      "B_3_not_converted:  169588\n",
      "C_1_converted:  23234\n",
      "C_1_not_converted:  169768\n",
      "C_2_converted:  23250\n",
      "C_2_not_converted:  169826\n",
      "C_3_converted:  23105\n",
      "C_3_not_converted:  168096\n"
     ]
    }
   ],
   "source": [
    "print(\"A_1_converted: \",A_1_converted)\n",
    "print(\"A_1_not_converted: \",A_1_not_converted)\n",
    "\n",
    "print(\"A_2_converted: \",A_2_converted)\n",
    "print(\"A_2_not_converted: \",A_2_not_converted)\n",
    "\n",
    "\n",
    "print(\"B_1_converted: \",B_1_converted)\n",
    "print(\"B_1_not_converted: \",B_1_not_converted)\n",
    "\n",
    "print(\"B_2_converted: \",B_2_converted)\n",
    "print(\"B_2_not_converted: \",B_2_not_converted)\n",
    "\n",
    "print(\"B_3_converted: \",B_3_converted)\n",
    "print(\"B_3_not_converted: \",B_3_not_converted)\n",
    "\n",
    "\n",
    "print(\"C_1_converted: \",C_1_converted)\n",
    "print(\"C_1_not_converted: \",C_1_not_converted)\n",
    "\n",
    "print(\"C_2_converted: \",C_2_converted)\n",
    "print(\"C_2_not_converted: \",C_2_not_converted)\n",
    "\n",
    "print(\"C_3_converted: \",C_3_converted)\n",
    "print(\"C_3_not_converted: \",C_3_not_converted)\n"
   ]
  },
  {
   "cell_type": "code",
   "execution_count": null,
   "metadata": {},
   "outputs": [],
   "source": []
  }
 ],
 "metadata": {
  "kernelspec": {
   "display_name": "Python 3",
   "language": "python",
   "name": "python3"
  },
  "language_info": {
   "codemirror_mode": {
    "name": "ipython",
    "version": 3
   },
   "file_extension": ".py",
   "mimetype": "text/x-python",
   "name": "python",
   "nbconvert_exporter": "python",
   "pygments_lexer": "ipython3",
   "version": "3.8.5"
  }
 },
 "nbformat": 4,
 "nbformat_minor": 4
}
