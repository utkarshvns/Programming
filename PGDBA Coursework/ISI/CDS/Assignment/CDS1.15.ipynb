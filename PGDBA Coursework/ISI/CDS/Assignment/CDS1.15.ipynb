{
 "cells": [
  {
   "cell_type": "markdown",
   "metadata": {},
   "source": [
    "# Assignment 1\n",
    "\n",
    "    \n",
    "### Submission Instruction: name your file properly\n",
    "\n",
    "You can complete your assignment on this notebook. Then, save it as (or convert it to) a .py file and name it as CDS1.NN.py where NN denotes the last two digits of your roll number. For example, if your roll number is 23, the filename should be CDS1.23.py\n",
    "\n",
    "As default, it has been set to 00 now. Upload your submission to Google classroom before the deadline.  \n",
    "\n",
    "\n",
    "### Note: keep the functions the way they are defined\n",
    "\n",
    "Keep the functions the way they are defined. Do not change the name or the parameters. If you need to, you can define more functions on your own. You may also write code to test your functions, but while submitting just submit the functions (delete or comment out extra code, such as extra print statements). \n",
    "\n",
    "## Late submission policy:\n",
    "\n",
    "If you submit late, your submission will still be graded, but your marks will be penalized at the rate of 1% per 15 minutes (4% per hour), which translates to 48% in 12 hours, and 100% (no marks at all) if you submit 25 hours late. Since things may go wrong at the last minute, please try to complete the assignment well ahead of time. "
   ]
  },
  {
   "cell_type": "markdown",
   "metadata": {},
   "source": [
    "## Problem 1: neither minimum nor maximum \n",
    "\n",
    "Given a list of non negative integers (which may not be all distinct), return any one integer that is neither the maximum, nor the minimum of the list. If no such integer exists, return -1.\n",
    "\n",
    "Example: \n",
    "\n",
    "nums = [1,2,1,2,1,3,2,5,8]\n",
    "\n",
    "Possible answer: 2,3,5\n",
    "\n",
    "nums = [1,1,1,1,1,0,0,0,0,1,1,0]\n",
    "\n",
    "Answer: -1"
   ]
  },
  {
   "cell_type": "code",
   "execution_count": 180,
   "metadata": {},
   "outputs": [],
   "source": [
    "nums = [1,2,1,2,1,3,2,5,8]\n",
    "# nums = [1,1,1,1,1,0,0,0,0,1,1,0]\n",
    "# nums = [4,4,2,2,3,3,1,1,1]"
   ]
  },
  {
   "cell_type": "code",
   "execution_count": 181,
   "metadata": {},
   "outputs": [],
   "source": [
    "# Approach 1: Find the first 3 distinct elements in the list, store in a,b,c and return the middle value among a,b,c\n",
    "# if less than 3 ditinct elements found then return -1\n",
    "\n",
    "def notMaxNotMin(nums):\n",
    "    a=None\n",
    "    b=None\n",
    "    c=None\n",
    "    \n",
    "    for i in range(0,len(nums)):\n",
    "        if( a == None):        #store 1st element in a\n",
    "            a=nums[i]\n",
    "        if( (a!= nums[i]) & (b== None) ):   # store 2nd distinct element in b\n",
    "            b=nums[i]\n",
    "        if( (a!= nums[i]) & (b!= nums[i])):  # store 3rd distinct element in c\n",
    "            c=nums[i]\n",
    "            break\n",
    "    \n",
    "    if( (a==None) | (b==None) | (c==None)):\n",
    "        return -1\n",
    "    if ( (a<b<c)|(c<b<a)):\n",
    "        return b\n",
    "    if ( (b<a<c)|(c<a<b)):\n",
    "        return a\n",
    "    if ( (a<c<b)|(b<c<a)):\n",
    "        return c"
   ]
  },
  {
   "cell_type": "code",
   "execution_count": 182,
   "metadata": {},
   "outputs": [
    {
     "data": {
      "text/plain": [
       "2"
      ]
     },
     "execution_count": 182,
     "metadata": {},
     "output_type": "execute_result"
    }
   ],
   "source": [
    "notMaxNotMin(nums)"
   ]
  },
  {
   "cell_type": "code",
   "execution_count": 183,
   "metadata": {},
   "outputs": [],
   "source": [
    "# Approach 2: find min and max value from the list, return value which is neither min nor max\n",
    "\n",
    "def notMaxNotMin(nums):\n",
    "    max_val = max(nums)\n",
    "    min_val = min(nums)\n",
    "    for i in range(0,len(nums)):\n",
    "        if( (max_val != nums[i]) & (min_val != nums[i])):\n",
    "            return nums[i]\n",
    "    return -1"
   ]
  },
  {
   "cell_type": "code",
   "execution_count": 184,
   "metadata": {},
   "outputs": [
    {
     "data": {
      "text/plain": [
       "2"
      ]
     },
     "execution_count": 184,
     "metadata": {},
     "output_type": "execute_result"
    }
   ],
   "source": [
    "notMaxNotMin(nums)"
   ]
  },
  {
   "cell_type": "markdown",
   "metadata": {},
   "source": [
    "## Problem 2: Find 3 integers whose sum is zero *\n",
    "\n",
    "Given a list nums, find any 3 integers in the list such that their sum is zero and return the 3 integers in a list. You may <i>not</i> use the same integer multiple times, even if they are present in different positions. If there are multiple possible solutions for a given list, return any one. If there is no such solution, return an empty list [ ].\n",
    "\n",
    "Example: \n",
    "\n",
    "nums = [1,-2,-1,3,4]\n",
    "\n",
    "Possible answer: [-2,-1,3]\n",
    "\n",
    "nums = [1,2,1,-1,3,6]\n",
    "\n",
    "Answer: [ ]"
   ]
  },
  {
   "cell_type": "code",
   "execution_count": 206,
   "metadata": {},
   "outputs": [],
   "source": [
    "nums = [1,-2,-1,3,4]\n",
    "# nums = [1,2,1,-1,3,6]\n",
    "# nums=[1,2,1,-2,3,6]"
   ]
  },
  {
   "cell_type": "code",
   "execution_count": 186,
   "metadata": {},
   "outputs": [],
   "source": [
    "# Approach 1:  O(n3) solution\n",
    "\n",
    "def sumOf3(nums):\n",
    "    for i in range(0,len(nums)):\n",
    "        for j in range(0,len(nums)):\n",
    "            if(nums[j] != nums[i]):\n",
    "                for k in range(0,len(nums)):\n",
    "                    if( (nums[k]!= nums[j]) & (nums[k]!= nums[i]) ):\n",
    "                        if( (nums[i] + nums[j] + nums[k]) == 0 ):\n",
    "                            return [nums[i], nums[j], nums[k]]\n",
    "    return []"
   ]
  },
  {
   "cell_type": "code",
   "execution_count": 187,
   "metadata": {
    "scrolled": true
   },
   "outputs": [
    {
     "data": {
      "text/plain": [
       "[-2, -1, 3]"
      ]
     },
     "execution_count": 187,
     "metadata": {},
     "output_type": "execute_result"
    }
   ],
   "source": [
    "sumOf3(nums)"
   ]
  },
  {
   "cell_type": "code",
   "execution_count": 223,
   "metadata": {},
   "outputs": [],
   "source": [
    "# Approach2: O(n2) solution\n",
    "\n",
    "def twosum(nums, target):\n",
    "    present = {}\n",
    "    for x in nums:\n",
    "        present[x] = 1\n",
    "    \n",
    "    for x in nums:\n",
    "        if target - x != x:\n",
    "            if present.get(target-x, 0) == 1:\n",
    "                return [x, target-x]\n",
    "    return []\n",
    "\n",
    "\n",
    "def sumOf3(nums):\n",
    "    present = {}\n",
    "    distinct_nums = []\n",
    "    for x in nums:\n",
    "        present[x] = 1\n",
    "        \n",
    "    for x in present:                               #creating distict number list by iterating the dictionary \n",
    "        distinct_nums.append(x)\n",
    "    \n",
    "    for x in distinct_nums:                         # distinct value list is created  since any of the 3 numbers can't be same\n",
    "        temp_distinct_nums = distinct_nums.copy()\n",
    "        temp_distinct_nums.remove(x)               # create a sublist with all values except the first chosen number\n",
    "        y = twosum(temp_distinct_nums, -x)     #Sublist will be searched for two numbers whose sum will be equal to -ve of 3rd\n",
    "        if(y != []):\n",
    "            z = []\n",
    "            z.append(x)\n",
    "            z.extend(y)\n",
    "            return z\n",
    "        \n",
    "    return []\n",
    "\n"
   ]
  },
  {
   "cell_type": "code",
   "execution_count": 224,
   "metadata": {},
   "outputs": [
    {
     "data": {
      "text/plain": [
       "[-2, -1, 3]"
      ]
     },
     "execution_count": 224,
     "metadata": {},
     "output_type": "execute_result"
    }
   ],
   "source": [
    "sumOf3(nums)"
   ]
  },
  {
   "cell_type": "markdown",
   "metadata": {},
   "source": [
    "## Problem 3: Find a duplicate with $O(1)$ extra space **\n",
    "\n",
    "Let nums be an input list of length $n$ such that the elements of nums are all in the range $0, \\dots, n-1$. Write a function to identify (and return) any number that appears at least twice in the list. However, you are allowed to use only $O(1)$ extra space. In other words, you cannot use an extra list of the same size or a dictionary to store the counts of the numbers in the list. As far as running time is concerned, it should be possible to do it in $O(n)$ time, but do the best you can. If there is no duplicate number in the list, return -1. \n",
    "\n",
    "<b>Hint:</b> In the process, you are allowed to change the content of the list. "
   ]
  },
  {
   "cell_type": "code",
   "execution_count": 234,
   "metadata": {},
   "outputs": [],
   "source": [
    "nums = [1,2,3,5,6,3,6]"
   ]
  },
  {
   "cell_type": "code",
   "execution_count": 235,
   "metadata": {},
   "outputs": [],
   "source": [
    "# O(n2) solution\n",
    "\n",
    "def findDuplicate(nums):\n",
    "    for i in range(0,len(nums)):\n",
    "        for j in range(i+1,len(nums)):\n",
    "            if(nums[i] == nums[j]):\n",
    "                return nums[i]\n",
    "    return -1"
   ]
  },
  {
   "cell_type": "code",
   "execution_count": 236,
   "metadata": {},
   "outputs": [
    {
     "data": {
      "text/plain": [
       "3"
      ]
     },
     "execution_count": 236,
     "metadata": {},
     "output_type": "execute_result"
    }
   ],
   "source": [
    "findDuplicate(nums)"
   ]
  },
  {
   "cell_type": "markdown",
   "metadata": {},
   "source": [
    "## Problem 4: Matrix - matrix multiplication  \n",
    "\n",
    "Implement the matrix - matrix multiplication function without using any special numpy operator. Given two 2-D numpy arrays (you can assume they are of matching shape, i.e., <tt>(m,n)</tt> and <tt>(n,p)</tt>, your function should return the product matrix in another 2-D array. You should not use the built-in <tt>np.dot</tt> or any equivalent operator. "
   ]
  },
  {
   "cell_type": "code",
   "execution_count": 193,
   "metadata": {},
   "outputs": [],
   "source": [
    "import numpy as np"
   ]
  },
  {
   "cell_type": "code",
   "execution_count": 203,
   "metadata": {},
   "outputs": [],
   "source": [
    "M1 = np.array([[1,2,3],[4,5,6]])\n",
    "\n",
    "M2 = np.array([[1,2,3,4],[5,6,7,8],[9,10,11,12]])"
   ]
  },
  {
   "cell_type": "code",
   "execution_count": 204,
   "metadata": {},
   "outputs": [],
   "source": [
    "def matrixProduct(M1, M2):\n",
    "    m = M1.shape[0]\n",
    "    n = M1.shape[1]\n",
    "\n",
    "    n1 = M2.shape[0]\n",
    "    p = M2.shape[1]\n",
    "\n",
    "    if(n != n1):\n",
    "        return -1               # return -1 if matrix multiplication is not defined\n",
    "\n",
    "    M = []\n",
    "    \n",
    "    for i in range(0,m):\n",
    "        row = []\n",
    "        for j in range(0,p):\n",
    "            sum = 0\n",
    "            for k in range(0,n):\n",
    "                sum = sum + M1[i,k]*M2[k,j]         \n",
    "            row.append(sum)                  # entry in a row\n",
    "        M.append(row)                        # row of matrtrix M\n",
    "\n",
    "    M_final = np.array(M)\n",
    "    return M_final"
   ]
  },
  {
   "cell_type": "code",
   "execution_count": 205,
   "metadata": {},
   "outputs": [
    {
     "data": {
      "text/plain": [
       "array([[ 38,  44,  50,  56],\n",
       "       [ 83,  98, 113, 128]])"
      ]
     },
     "execution_count": 205,
     "metadata": {},
     "output_type": "execute_result"
    }
   ],
   "source": [
    "matrixProduct(M1, M2)"
   ]
  },
  {
   "attachments": {
    "montecarlo.png": {
     "image/png": "[encoded data removed]"
    }
   },
   "cell_type": "markdown",
   "metadata": {},
   "source": [
    "## Problem 5: Find the area of the unit circle computationally \n",
    "\n",
    "We all know that the area of the unit circle is $\\pi$. In this exercise, let us estimate it using Monte-Carlo method. \n",
    "\n",
    "* Generate $N$ points uniformly at random as shown in the picture (all the blue and green points).\n",
    "![montecarlo.png](attachment:montecarlo.png)\n",
    "* Count the number of points which fall within the unit circle (use the equation of the circle). Let the number be $n$.\n",
    "\n",
    "From the above, compute the area of the circle.  "
   ]
  },
  {
   "cell_type": "code",
   "execution_count": 197,
   "metadata": {},
   "outputs": [],
   "source": [
    "def areaOfUnitCircle():\n",
    "    # Set N to be 1000 or 10000 when you test your code, later on increase it to 1 million\n",
    "    N = 100000\n",
    "    \n",
    "    x = np.random.uniform(-1,1,N)\n",
    "    y = np.random.uniform(-1,1,N)              \n",
    "    # Pair of randomly generated x[i] and y[i] between -1 and 1  will act as randomly generated point inside the square\n",
    "\n",
    "    count_in_circle = 0 \n",
    "    for i in range(0,N):\n",
    "        if( (x[i]**2 + y[i]**2) < 1):\n",
    "            count_in_circle = count_in_circle + 1\n",
    "\n",
    "    # count_in_circle/N    =  area of circle / area of square = pie /4\n",
    "    # area of circle = pie  = 4 * count_in_circle/N\n",
    "\n",
    "    pie = 4*count_in_circle/N\n",
    "    return pie"
   ]
  },
  {
   "cell_type": "code",
   "execution_count": 198,
   "metadata": {},
   "outputs": [
    {
     "data": {
      "text/plain": [
       "3.1428"
      ]
     },
     "execution_count": 198,
     "metadata": {},
     "output_type": "execute_result"
    }
   ],
   "source": [
    "areaOfUnitCircle()"
   ]
  },
  {
   "cell_type": "code",
   "execution_count": null,
   "metadata": {},
   "outputs": [],
   "source": []
  }
 ],
 "metadata": {
  "kernelspec": {
   "display_name": "Python 3",
   "language": "python",
   "name": "python3"
  },
  "language_info": {
   "codemirror_mode": {
    "name": "ipython",
    "version": 3
   },
   "file_extension": ".py",
   "mimetype": "text/x-python",
   "name": "python",
   "nbconvert_exporter": "python",
   "pygments_lexer": "ipython3",
   "version": "3.8.5"
  }
 },
 "nbformat": 4,
 "nbformat_minor": 2
}
