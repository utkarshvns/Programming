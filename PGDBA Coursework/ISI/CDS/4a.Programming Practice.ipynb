{
 "cells": [
  {
   "cell_type": "markdown",
   "metadata": {},
   "source": [
    "# Programming Practice\n",
    "\n",
    "In this notebook we will take up a few coding problems and solve them. In some cases, we will see multiple solutions and understand their differences."
   ]
  },
  {
   "cell_type": "markdown",
   "metadata": {},
   "source": [
    "## Problem 1: \n",
    "\n",
    "Given a list of integers nums, return a list dups containing the integers which occur more than once in nums. The list dups should contain each duplicate only once. \n",
    "\n",
    "Example: \n",
    "\n",
    "nums = [1,2,1,1,3,2,3,4,5,6,7,8,8,9,10,34,21,32]\n",
    "\n",
    "Result: [1, 2, 3, 8]"
   ]
  },
  {
   "cell_type": "markdown",
   "metadata": {},
   "source": [
    "### Solution:\n",
    "\n",
    "Initialize an empty dictionary counts which would store the count of each element in the list nums. Iterate over the list nums. For each element, check the count of the element from the dictionary counts. If the count is 1, append it to the result list dups. Increment the count by 1 and update the key with the count. Return dups at the end."
   ]
  },
  {
   "cell_type": "code",
   "execution_count": null,
   "metadata": {},
   "outputs": [],
   "source": [
    "def duplicates(nums):\n",
    "    dups = []\n",
    "    counts = {}\n",
    "    for i in range(0,len(nums)):\n",
    "        # Get count of nums[i] so far\n",
    "        count = counts.get(nums[i],0)\n",
    "        if count == 1:\n",
    "            # It was seen already once, and \n",
    "            # now seen one more time\n",
    "            dups.append(nums[i])\n",
    "        counts[nums[i]] = count + 1\n",
    "    # print(counts)\n",
    "    return dups"
   ]
  },
  {
   "cell_type": "code",
   "execution_count": null,
   "metadata": {},
   "outputs": [],
   "source": [
    "nums = [1,2,1,1,3,2,3,4,5,5,6,7,8,8,9,10,34,21,32]\n",
    "\n",
    "print(duplicates(nums))"
   ]
  },
  {
   "cell_type": "markdown",
   "metadata": {},
   "source": [
    "## Problem 2: Sum of two\n",
    "\n",
    "(Reference: https://leetcode.com/problems/two-sum/, slightly modified)\n",
    "\n",
    "Given a list of integers nums and a target number, find two distinct numbers a and b in the list so that a + b = target. The list may not be sorted, may not have unique elements. If there is no solution, return an empty list. \n",
    "\n",
    "Example:\n",
    "\n",
    "nums = [1,3,5,7,2,5,9,8], target = 10\n",
    "\n",
    "Possible results: [1,9], [3,7], [2,8]"
   ]
  },
  {
   "cell_type": "markdown",
   "metadata": {},
   "source": [
    "### Solution:\n",
    "\n",
    "One possible solution is: for every element a in the list, run through the list to determine if there is another (different) element b so that a + b = target. This would be of ($O(n^2)$), with two nested loops. \n",
    "\n",
    "A faster solution is to create a dictionary of the elements first. Then, for every element a in the list, checking if (target - a) is present in the list. "
   ]
  },
  {
   "cell_type": "code",
   "execution_count": null,
   "metadata": {},
   "outputs": [],
   "source": [
    "def twosum(nums, target):\n",
    "    present = {}\n",
    "    for x in nums:\n",
    "        present[x] = 1\n",
    "    \n",
    "    for x in nums:\n",
    "        if target - x != x:\n",
    "            if present.get(target-x, 0) == 1:\n",
    "                return [x, target-x]\n",
    "    return []"
   ]
  },
  {
   "cell_type": "code",
   "execution_count": null,
   "metadata": {},
   "outputs": [],
   "source": [
    "nums = [5,7,3,2,9,8]\n",
    "target = 10\n",
    "\n",
    "print(twosum(nums,target))"
   ]
  },
  {
   "cell_type": "markdown",
   "metadata": {},
   "source": [
    "## Problem 3: Check if a string is a palindrome\n",
    "\n",
    "A palindrome is a word that reads the same forward and backward. For example, <b>hannah</b> is a palindrome. \n",
    "\n",
    "Given a string as input, determine if it is a palindrome. "
   ]
  },
  {
   "cell_type": "code",
   "execution_count": null,
   "metadata": {},
   "outputs": [],
   "source": [
    "def isPalindrome(x):\n",
    "    # The following converts the input into a string if it is not already one\n",
    "    chars = str(x)\n",
    "\n",
    "    n = len(chars)\n",
    "    \n",
    "    # Now check\n",
    "    # for i in range(int(n/2)):  # This is faster\n",
    "    for i in range(n:\n",
    "        if chars[i] != chars[n-i-1]:\n",
    "            return False\n",
    "    return True\n",
    "    \n",
    "print(isPalindrome(10010))"
   ]
  },
  {
   "cell_type": "code",
   "execution_count": null,
   "metadata": {},
   "outputs": [],
   "source": []
  },
  {
   "cell_type": "code",
   "execution_count": null,
   "metadata": {},
   "outputs": [],
   "source": []
  }
 ],
 "metadata": {
  "kernelspec": {
   "display_name": "Python 3",
   "language": "python",
   "name": "python3"
  },
  "language_info": {
   "codemirror_mode": {
    "name": "ipython",
    "version": 3
   },
   "file_extension": ".py",
   "mimetype": "text/x-python",
   "name": "python",
   "nbconvert_exporter": "python",
   "pygments_lexer": "ipython3",
   "version": "3.7.3"
  }
 },
 "nbformat": 4,
 "nbformat_minor": 2
}
