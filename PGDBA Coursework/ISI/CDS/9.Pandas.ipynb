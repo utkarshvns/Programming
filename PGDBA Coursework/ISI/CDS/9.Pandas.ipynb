{
 "cells": [
  {
   "cell_type": "markdown",
   "metadata": {},
   "source": [
    "# Pandas\n",
    "\n",
    "Real datasets are not purely numerical, rather semistructured. Pandas is a Python library for data manipulation and analysis. \n",
    "\n",
    "License: open source, BSD (can be used commercially)\n",
    "\n",
    "References: there are many, but this one is very systematic.\n",
    "- https://www.tutorialspoint.com/python_pandas/index.htm\n",
    "\n",
    "## Data structures in Pandas\n",
    "\n",
    "Pandas offer three kinds of data structures, namely \n",
    "- Series \n",
    "- Dataframe\n",
    "- Panel"
   ]
  },
  {
   "cell_type": "markdown",
   "metadata": {},
   "source": [
    "## Pandas.Series\n",
    "\n",
    "Let us start by creating an empty series. It creates a series with empty data, and default datatype (dtype) float64."
   ]
  },
  {
   "cell_type": "code",
   "execution_count": null,
   "metadata": {},
   "outputs": [],
   "source": [
    "import pandas as pd\n",
    "\n",
    "s = pd.Series()\n",
    "print(s)"
   ]
  },
  {
   "cell_type": "markdown",
   "metadata": {},
   "source": [
    "### A Series from numpy ndarray"
   ]
  },
  {
   "cell_type": "code",
   "execution_count": null,
   "metadata": {},
   "outputs": [],
   "source": [
    "import numpy as np\n",
    "import pandas as pd\n",
    "\n",
    "s1 = pd.Series(np.array([\"Virat\",\"Rohit\",\"Jasprit\",\"Ajinkya\",\"Rahul\",\"Rishabh\",\"MS\"]))\n",
    "print(s1)"
   ]
  },
  {
   "cell_type": "markdown",
   "metadata": {},
   "source": [
    "Notes:\n",
    "1. The index 0 to $n-1$ (where $n$ is the length of the array) are automatically generated. \n",
    "2. Pandas would try to infer the data type, here it did not. It is inferred as object (general)."
   ]
  },
  {
   "cell_type": "code",
   "execution_count": null,
   "metadata": {},
   "outputs": [],
   "source": [
    "s2 = pd.Series(np.array([5,2,10,4,3,8,2]))\n",
    "print(s2)"
   ]
  },
  {
   "cell_type": "markdown",
   "metadata": {},
   "source": [
    "The integer datatype is inferred here. "
   ]
  },
  {
   "cell_type": "markdown",
   "metadata": {},
   "source": [
    "### Using index of our choice\n",
    "\n",
    "Instead of Pandas creating the default index, we can pass the list of indices. However, the index values must be unique, hashable, and preferably the same length as the data (error, if the data is an ndarray and the lengths do not match)."
   ]
  },
  {
   "cell_type": "code",
   "execution_count": null,
   "metadata": {},
   "outputs": [],
   "source": [
    "s1 = pd.Series(np.array([\"Virat\",\"Rohit\",\"Jasprit\",\"MS\"]), index=[18,45, 93, 7])\n",
    "print(s1)\n",
    "\n",
    "# Experimenting with non-unique keys\n",
    "# In this case both are retained\n",
    "#print(s1[7])"
   ]
  },
  {
   "cell_type": "markdown",
   "metadata": {},
   "source": [
    "The indices need not be integers only. "
   ]
  },
  {
   "cell_type": "code",
   "execution_count": null,
   "metadata": {},
   "outputs": [],
   "source": [
    "s1 = pd.Series(np.array([\"Virat\",\"Rohit\",\"Jasprit\",\"MS\"]), index=[18,45, \"tbd\",7])\n",
    "print(s1)"
   ]
  },
  {
   "cell_type": "markdown",
   "metadata": {},
   "source": [
    "## A Series from a dictionary \n",
    "\n",
    "If a dictionary is passed as the data, then the keys of the dictionary are taken as the indices (they are unique), and the values as the data. "
   ]
  },
  {
   "cell_type": "code",
   "execution_count": null,
   "metadata": {},
   "outputs": [],
   "source": [
    "s1 = pd.Series({18: \"Virat\", 45: \"Rohit\", 93: \"Jasprit\", 7: \"MS\"})\n",
    "print(s1)"
   ]
  },
  {
   "cell_type": "markdown",
   "metadata": {},
   "source": [
    "However, if a list of indices are still passed, then the series contains only the indices that are specified, and the other dictionary elements are not included in the series."
   ]
  },
  {
   "cell_type": "code",
   "execution_count": null,
   "metadata": {},
   "outputs": [],
   "source": [
    "s1 = pd.Series({18: \"Virat\", 45: \"Rohit\", 93: \"Jasprit\", 7: \"MS\"}, index=[45, 93, 7])\n",
    "print(s1)"
   ]
  },
  {
   "cell_type": "markdown",
   "metadata": {},
   "source": [
    " If an index is not present as a key in the dictionary, then its value is set as not defined. "
   ]
  },
  {
   "cell_type": "code",
   "execution_count": null,
   "metadata": {},
   "outputs": [],
   "source": [
    "s1 = pd.Series({18: \"Virat\", 45: \"Rohit\", 93: \"Jasprit\", 7: \"MS\"}, index=[45, 93, 7, 100])\n",
    "print(s1)"
   ]
  },
  {
   "cell_type": "markdown",
   "metadata": {},
   "source": [
    "## A Series from a scalar\n",
    "\n",
    "We can create a series by repeating a scalar value for every index specified. "
   ]
  },
  {
   "cell_type": "code",
   "execution_count": null,
   "metadata": {},
   "outputs": [],
   "source": [
    "s1 = pd.Series(3, index=[45, 93, 7, 100])\n",
    "print(s1)"
   ]
  },
  {
   "cell_type": "markdown",
   "metadata": {},
   "source": [
    "# Accessing elements in a series\n",
    "\n",
    "Elements can be accessed in a series by its index, similar to arrays (with some differences). "
   ]
  },
  {
   "cell_type": "code",
   "execution_count": null,
   "metadata": {},
   "outputs": [],
   "source": [
    "# If the indices of a series are integers, then elements are accessed by the integer indices.\n",
    "s1 = pd.Series({18: \"Virat\", 45: \"Rohit\", 93: \"Jasprit\", 7: \"MS\"}, index=[18, 45, 93, 7])\n",
    "#print(s1[93])\n",
    "print(s1[7])"
   ]
  },
  {
   "cell_type": "code",
   "execution_count": null,
   "metadata": {},
   "outputs": [],
   "source": [
    "# If the indices of a series are strings, then elements can be accessed by the string indices.\n",
    "s1 = pd.Series({\"c\": \"Virat\", \"vc\": \"Rohit\", \"b\": \"Jasprit\", \"exc\": \"MS\"})\n",
    "print(s1[\"c\"])\n",
    "print(s1[\"vc\"])\n",
    "print()\n",
    "# Or by given a list of multiple indices\n",
    "print(s1[[\"vc\",\"c\"]])"
   ]
  },
  {
   "cell_type": "code",
   "execution_count": null,
   "metadata": {},
   "outputs": [],
   "source": [
    "print(s1)"
   ]
  },
  {
   "cell_type": "code",
   "execution_count": null,
   "metadata": {},
   "outputs": [],
   "source": [
    "# But they can be accessed using their ordered integer indices too, including slicing by index, negative index\n",
    "#print(s1[0])\n",
    "#print(s1[2])\n",
    "print(s1[-1])\n",
    "#print(s1[:2])"
   ]
  },
  {
   "cell_type": "markdown",
   "metadata": {},
   "source": [
    "### Changing data\n",
    "\n",
    "The data at any index can be set to a different value. "
   ]
  },
  {
   "cell_type": "code",
   "execution_count": null,
   "metadata": {},
   "outputs": [],
   "source": [
    "# Set data at index \"b\" to \"Bhuvi\"\n",
    "s1[\"b\"] = \"Bhuvi\"\n",
    "\n",
    "print(s1)"
   ]
  },
  {
   "cell_type": "code",
   "execution_count": null,
   "metadata": {},
   "outputs": [],
   "source": [
    "s1 = pd.Series(np.array([\"Virat\",\"Rohit\",\"Jasprit\",\"MS\"]), index=[18,45, 93, 7])\n",
    "#print(s1)\n",
    "\n",
    "s1[20] = \"Shreyas\"\n",
    "print(s1)"
   ]
  },
  {
   "cell_type": "markdown",
   "metadata": {},
   "source": [
    "### Note: size-mutability\n",
    "\n",
    "All documentations mention that Pandas Series is size-immutable, that is, the length cannot be changed once declared. However, adding new elements work. Need to check: is it effectively using Series.append(another series)?"
   ]
  },
  {
   "cell_type": "code",
   "execution_count": null,
   "metadata": {},
   "outputs": [],
   "source": [
    "s1[\"s\"] = \"Jaddu\"\n",
    "\n",
    "print(s1)"
   ]
  },
  {
   "cell_type": "markdown",
   "metadata": {},
   "source": [
    "# Dataframe\n",
    "\n",
    "A dataframe is a 2D structure, similar to a table. A dataframe is very widely used for real world data. \n",
    "\n",
    "A dataframe can be created as empty, or from a list, or from a list of lists. "
   ]
  },
  {
   "cell_type": "code",
   "execution_count": null,
   "metadata": {},
   "outputs": [],
   "source": [
    "# Empty dataframe\n",
    "df = pd.DataFrame()\n",
    "print(df)"
   ]
  },
  {
   "cell_type": "code",
   "execution_count": null,
   "metadata": {},
   "outputs": [],
   "source": [
    "# From a list \n",
    "df = pd.DataFrame(np.array([7,8,1,2,9,3]))\n",
    "print(df)"
   ]
  },
  {
   "cell_type": "markdown",
   "metadata": {},
   "source": [
    "The rows and column indices are automatically generated this way. "
   ]
  },
  {
   "cell_type": "code",
   "execution_count": null,
   "metadata": {},
   "outputs": [],
   "source": [
    "# From a list of lists\n",
    "df = pd.DataFrame(np.array([[7,8,1],[2,9,3]]))\n",
    "print(df)"
   ]
  },
  {
   "cell_type": "markdown",
   "metadata": {},
   "source": [
    "Essentially this is like a wrapper around numpy 2-D array, but with row and column indices attached to it explicitly. "
   ]
  },
  {
   "cell_type": "markdown",
   "metadata": {},
   "source": [
    "### Names for columns\n",
    "\n",
    "The columns are intuitively treated as attributes (of tables), so they can have names. "
   ]
  },
  {
   "cell_type": "code",
   "execution_count": null,
   "metadata": {},
   "outputs": [],
   "source": [
    "data = [[\"Virat\",18],[\"Rohit\",45],[\"Jasprit\",93]]\n",
    "df = pd.DataFrame(data,columns=[\"Name\",\"Jersey No.\"])\n",
    "print(df)"
   ]
  },
  {
   "cell_type": "markdown",
   "metadata": {},
   "source": [
    "### DataFrame from dictionaries\n",
    "\n",
    "A dataframe can be created from one or more ndarrays or lists of the same length, each one used as a column. \n",
    "\n",
    "#### From dictionary of lists"
   ]
  },
  {
   "cell_type": "code",
   "execution_count": null,
   "metadata": {},
   "outputs": [],
   "source": [
    "# From dictionary of lists\n",
    "\n",
    "import pandas as pd\n",
    "\n",
    "data = {\"Name\": [\"Virat\", \"Rohit\", \"Jasprit\", \"MS\"], \"Jersey No.\":[18, 45, 93, 7]}\n",
    "df = pd.DataFrame(data)\n",
    "\n",
    "print(df)"
   ]
  },
  {
   "cell_type": "markdown",
   "metadata": {},
   "source": [
    "#### From list of dictionaries "
   ]
  },
  {
   "cell_type": "code",
   "execution_count": null,
   "metadata": {},
   "outputs": [],
   "source": [
    "data = [{\"Name\": \"Virat\", \"Jersey No.\": 18}, {\"Name\": \"Rohit\", \"Jersey No.\": 45}, {\"Name\": \"Rahul\", \"Type\": \"Wicketkeeper\"}]\n",
    "df = pd.DataFrame(data)\n",
    "\n",
    "print(df)"
   ]
  },
  {
   "cell_type": "markdown",
   "metadata": {},
   "source": [
    "### DataFrame with row and column indices\n",
    "\n",
    "A DataFrame may have custom row indices and column names. "
   ]
  },
  {
   "cell_type": "code",
   "execution_count": null,
   "metadata": {},
   "outputs": [],
   "source": [
    "data = {\"Name\": [\"Virat\", \"Rohit\", \"Jasprit\", \"MS\"], \"Jersey No.\":[18, 45, 93, 7]}\n",
    "df = pd.DataFrame(data, index=[3,1,11,5])\n",
    "#df = pd.DataFrame(data)\n",
    "print(df)"
   ]
  },
  {
   "cell_type": "markdown",
   "metadata": {},
   "source": [
    "## DataFrames operations\n",
    "\n",
    "### Selecting a row\n",
    "\n",
    "A row can be selected by passing the row index to the loc function."
   ]
  },
  {
   "cell_type": "code",
   "execution_count": null,
   "metadata": {},
   "outputs": [],
   "source": [
    "print(df.loc[[1,3]])"
   ]
  },
  {
   "cell_type": "markdown",
   "metadata": {},
   "source": [
    "Or, by passing the row position to the iloc function."
   ]
  },
  {
   "cell_type": "code",
   "execution_count": null,
   "metadata": {},
   "outputs": [],
   "source": [
    "print(df.iloc[[1,3]])"
   ]
  },
  {
   "cell_type": "markdown",
   "metadata": {},
   "source": [
    "### Slicing a row\n",
    "\n",
    "A slice of rows can be selected using a range or array of positions (not indices)."
   ]
  },
  {
   "cell_type": "code",
   "execution_count": null,
   "metadata": {},
   "outputs": [],
   "source": [
    "print(df[0:2])"
   ]
  },
  {
   "cell_type": "markdown",
   "metadata": {},
   "source": [
    "### Selecting columns\n",
    "\n",
    "Selection of columns work by column names. "
   ]
  },
  {
   "cell_type": "code",
   "execution_count": null,
   "metadata": {},
   "outputs": [],
   "source": [
    "print(df[\"Name\"])"
   ]
  },
  {
   "cell_type": "markdown",
   "metadata": {},
   "source": [
    "### Adding a column\n",
    "\n",
    "We can add a new column to an existing dataframe. "
   ]
  },
  {
   "cell_type": "code",
   "execution_count": null,
   "metadata": {},
   "outputs": [],
   "source": [
    "df[\"Average\"] = pd.Series([59, 49, 5, 51], index=[3,1,11,5])\n",
    "#df[\"Average2\"] = pd.Series([53, 40, 5, 35])\n",
    "print(df)"
   ]
  },
  {
   "cell_type": "markdown",
   "metadata": {},
   "source": [
    "### Deleting a column using the pop function"
   ]
  },
  {
   "cell_type": "code",
   "execution_count": null,
   "metadata": {},
   "outputs": [],
   "source": [
    "df.pop(\"Average\")\n",
    "print(df)\n",
    "\n",
    "# Or, use del df[\"Average\"]"
   ]
  },
  {
   "cell_type": "markdown",
   "metadata": {},
   "source": [
    "## Adding a row by append\n",
    "\n",
    "One dataframe with the same columns can be appended to another. It becomes equivalent to adding more data. "
   ]
  },
  {
   "cell_type": "code",
   "execution_count": null,
   "metadata": {},
   "outputs": [],
   "source": [
    "df1 = pd.DataFrame({\"Name\": [\"Rahul\", \"Rishabh\"], \"Jersey No.\":[1, 55]}, index=[2,6])\n",
    "df = df.append(df1)\n",
    "\n",
    "print(df)"
   ]
  },
  {
   "cell_type": "markdown",
   "metadata": {},
   "source": [
    "### Deleting a row by drop"
   ]
  },
  {
   "cell_type": "code",
   "execution_count": null,
   "metadata": {},
   "outputs": [],
   "source": [
    "df = df.drop(6)\n",
    "\n",
    "print(df)"
   ]
  },
  {
   "cell_type": "code",
   "execution_count": null,
   "metadata": {},
   "outputs": [],
   "source": []
  }
 ],
 "metadata": {
  "kernelspec": {
   "display_name": "Python 3",
   "language": "python",
   "name": "python3"
  },
  "language_info": {
   "codemirror_mode": {
    "name": "ipython",
    "version": 3
   },
   "file_extension": ".py",
   "mimetype": "text/x-python",
   "name": "python",
   "nbconvert_exporter": "python",
   "pygments_lexer": "ipython3",
   "version": "3.7.3"
  }
 },
 "nbformat": 4,
 "nbformat_minor": 2
}
