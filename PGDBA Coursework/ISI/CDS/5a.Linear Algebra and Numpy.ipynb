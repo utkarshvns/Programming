{
 "cells": [
  {
   "cell_type": "markdown",
   "metadata": {},
   "source": [
    "# Vectors\n",
    "\n",
    "A vector is a tuple of $n$ numbers.\n",
    "\n",
    "Interpretation of vector:\n",
    "- A point in the n dimensional space\n",
    "- A magnitude and a direction (e.g. velocity)\n",
    "- An object represented by n features (attributes), with the values of the features being ￼$(a_1, \\dots, a_n)$.\n",
    "\n",
    "Using numpy 1-D array, we can create vectors. The size (length) of a vector can be obtained by calling its size or using the list-like len() function. "
   ]
  },
  {
   "cell_type": "code",
   "execution_count": null,
   "metadata": {},
   "outputs": [],
   "source": [
    "import numpy as np\n",
    "\n",
    "# Creating an array from a list\n",
    "a = np.array([1,2,0,1,3])\n",
    "b = np.array([3,-1,2,-3,1])\n",
    "\n",
    "print(a.size)\n",
    "print(len(a))\n",
    "print(a)"
   ]
  },
  {
   "cell_type": "markdown",
   "metadata": {},
   "source": [
    "### Similar to the list, with some differences\n",
    "\n",
    "The numpy arrays are more like C arrays. Similar to Python lists, we can access the elements for any given index. However, we cannot have heterogeneous types of elements in an array. We also cannot keep appending to an array dynamically. "
   ]
  },
  {
   "cell_type": "code",
   "execution_count": null,
   "metadata": {},
   "outputs": [],
   "source": [
    "print(\"The element at index 3 is %d.\" %(a[3]))\n",
    "\n",
    "# a.append(6) # would produce an error!\n",
    "a[2] = 16\n",
    "#a[2] = \"Name\" # would also produce an error \n",
    "# because the array a has already been initialized with integers.\n",
    "print(a)"
   ]
  },
  {
   "cell_type": "markdown",
   "metadata": {},
   "source": [
    "## Norm of a vector\n",
    "\n",
    "The norm of a vector $\\mathbf{a}$ is the distance between the origin ￼and $\\mathbf{a}$ according to a <i>distance measure</i>. \n",
    "\n",
    "In general, for $p \\geq 1$, $\\left\\lVert\\mathbf{a}\\right\\rVert_p = (a_1^p + \\dots + a_n^p)^{\\frac{1}{p}}$."
   ]
  },
  {
   "cell_type": "code",
   "execution_count": null,
   "metadata": {},
   "outputs": [],
   "source": [
    "from numpy import linalg as LA\n",
    "\n",
    "# The 2-norm  (default)\n",
    "print(LA.norm(a))\n",
    "# The 1-norm\n",
    "print(LA.norm(a, 1))\n",
    "# inf-norm\n",
    "print(LA.norm(a, np.inf))\n",
    "\n",
    "# More usage of LA.norm later"
   ]
  },
  {
   "cell_type": "markdown",
   "metadata": {},
   "source": [
    "## Vector operations\n",
    "\n",
    "Numpy arrays support vector operations in a very intuitive way. If a and b are two vectors of the same size, then\n",
    "\n",
    "<b>Addition:</b> a + b (or a - b) performs the element wise vector addition (subtraction).<br>\n",
    "<b>Scalar multiplication</b>: x * a performs multiplication by a number x. <br>"
   ]
  },
  {
   "cell_type": "code",
   "execution_count": null,
   "metadata": {},
   "outputs": [],
   "source": [
    "print(\"a:\", a)\n",
    "print(\"b:\", b)\n",
    "print(\"a+b:\", a + b)\n",
    "print(\"a-b:\", a-b)\n",
    "print(\"3a:\", 3 * a)"
   ]
  },
  {
   "cell_type": "markdown",
   "metadata": {},
   "source": [
    "### Element wise multiplication\n",
    "\n",
    "For two vectors a and b of the same dimension, a * b produces the element wise product; a vector of the same dimension."
   ]
  },
  {
   "cell_type": "code",
   "execution_count": null,
   "metadata": {},
   "outputs": [],
   "source": [
    "print(\"a * b:\", a * b)\n",
    "print(\"a . b:\", sum(a*b))"
   ]
  },
  {
   "cell_type": "markdown",
   "metadata": {},
   "source": [
    "## Dot product\n",
    "\n",
    "The dot product of $\\mathbf{a}$ and $\\mathbf{b}$ are defined as: $\\mathbf{a} \\cdot \\mathbf{b} = <\\mathbf{a},\\mathbf{b}> = a_1 b_1 + \\dots + a_n b_n$."
   ]
  },
  {
   "cell_type": "code",
   "execution_count": null,
   "metadata": {},
   "outputs": [],
   "source": [
    "print(\"a . b:\", np.dot(a,b))"
   ]
  },
  {
   "cell_type": "markdown",
   "metadata": {},
   "source": [
    "## Testing performance vs Python lists"
   ]
  },
  {
   "cell_type": "code",
   "execution_count": null,
   "metadata": {},
   "outputs": [],
   "source": []
  }
 ],
 "metadata": {
  "kernelspec": {
   "display_name": "Python 3",
   "language": "python",
   "name": "python3"
  },
  "language_info": {
   "codemirror_mode": {
    "name": "ipython",
    "version": 3
   },
   "file_extension": ".py",
   "mimetype": "text/x-python",
   "name": "python",
   "nbconvert_exporter": "python",
   "pygments_lexer": "ipython3",
   "version": "3.7.3"
  }
 },
 "nbformat": 4,
 "nbformat_minor": 2
}
