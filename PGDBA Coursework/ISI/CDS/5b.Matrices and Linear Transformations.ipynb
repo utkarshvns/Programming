{
 "cells": [
  {
   "cell_type": "markdown",
   "metadata": {},
   "source": [
    "# Matrices\n",
    "\n",
    "Matrices can be defined by numpy NDarrays (N-dimensional arrays). There are many ways to create a numpy ndarray. Since we are interested in matrices, we will refer to the ndarrays as matrices whenever convenient in this notebook. "
   ]
  },
  {
   "cell_type": "code",
   "execution_count": null,
   "metadata": {},
   "outputs": [],
   "source": [
    "# From a python list of lists\n",
    "my2Dlist = [[2,1],[0,3]]\n",
    "\n",
    "import numpy as np\n",
    "# Create a matrix \n",
    "# A = np.array(my2Dlist)\n",
    "A = np.array([[2,1],[0,3]])\n",
    "\n",
    "print(\"A = \\n\", A)\n",
    "\n",
    "print(A.shape)"
   ]
  },
  {
   "cell_type": "markdown",
   "metadata": {},
   "source": [
    "## Ways to create matrices\n",
    "\n",
    "### An empty matrix (beware: entries are uninitialized, could be anything)"
   ]
  },
  {
   "cell_type": "code",
   "execution_count": null,
   "metadata": {},
   "outputs": [],
   "source": [
    "A = np.empty([5,3])\n",
    "\n",
    "print(\"A = \\n\", A)"
   ]
  },
  {
   "cell_type": "markdown",
   "metadata": {},
   "source": [
    "### Creating a matrix with only zeros or only ones\n",
    "\n",
    "Safer approach, if we know some default value for the entries. "
   ]
  },
  {
   "cell_type": "code",
   "execution_count": null,
   "metadata": {},
   "outputs": [],
   "source": [
    "A = np.zeros([5,3])\n",
    "\n",
    "print(\"A = \\n\", A)\n",
    "\n",
    "A = np.ones([5,3])\n",
    "\n",
    "print(\"A = \\n\", A)"
   ]
  },
  {
   "cell_type": "markdown",
   "metadata": {},
   "source": [
    "### Vertical or horizontal stacking of 1-D arrays\n",
    "\n",
    "Stack multiple 1-D arrays vertically or horizontally to create a matrix."
   ]
  },
  {
   "cell_type": "code",
   "execution_count": null,
   "metadata": {},
   "outputs": [],
   "source": [
    "a1 = np.array([3, 2, 0, 2, 0])\n",
    "a2 = np.array([1, 3, 1, -1, 4])\n",
    "a3 = np.array([0, 0, -2, 5, 1])\n",
    "\n",
    "A = np.vstack((a1, a2, a3))\n",
    "\n",
    "print(\"Each vector is of shape: \", a1.shape)\n",
    "print(\"A is of shape: \", A.shape)\n",
    "print(\"A = \\n\", A)"
   ]
  },
  {
   "cell_type": "code",
   "execution_count": null,
   "metadata": {},
   "outputs": [],
   "source": [
    "A = np.hstack((a1, a2, a3))\n",
    "\n",
    "print(\"Each vector is of shape: \", a1.shape)\n",
    "print(\"A is of shape: \", A.shape)\n",
    "print(\"A = \\n\", A)"
   ]
  },
  {
   "cell_type": "markdown",
   "metadata": {},
   "source": [
    "## Matrix operations\n",
    "\n",
    "Numpy supports matrix addition, matrix - matrix (or vector) multiplication and scalar multiplication. "
   ]
  },
  {
   "cell_type": "code",
   "execution_count": null,
   "metadata": {},
   "outputs": [],
   "source": [
    "A = np.array([[2, 3, 2], [0, 1, 4]])\n",
    "B = np.array([[4, 0, 1], [-2, 3, 1]])\n",
    "\n",
    "print(\"A and B are of shape: \", A.shape, B.shape)"
   ]
  },
  {
   "cell_type": "code",
   "execution_count": null,
   "metadata": {},
   "outputs": [],
   "source": [
    "# A + B\n",
    "C = A + B\n",
    "\n",
    "print(A,\"\\n + \\n\", B, \"\\n = \\n\", C)"
   ]
  },
  {
   "cell_type": "markdown",
   "metadata": {},
   "source": [
    "### Matrix multiplication using the dot or the @ operator\n",
    "\n",
    "Two matrices can be multiplied if their dimensions match. "
   ]
  },
  {
   "cell_type": "code",
   "execution_count": null,
   "metadata": {},
   "outputs": [],
   "source": [
    "# A.dot(B)) won't work, dimensions won't match\n",
    "\n",
    "B1 = np.transpose(B)\n",
    "# B1 = B.T\n",
    "# print(B1.shape)\n",
    "\n",
    "\n",
    "AB = A.dot(B1)\n",
    "# AB = A @ B1\n",
    "#AB = np.dot(A, B1)\n",
    "\n",
    "print(\"AB = \\n\", AB)\n",
    "\n",
    "print(\"A * B = \\n\", A * B)"
   ]
  },
  {
   "cell_type": "markdown",
   "metadata": {},
   "source": [
    "### Multiplying a scalar with a matrix\n",
    "\n",
    "Simply every element of the matrix gets multiplied by the scalar"
   ]
  },
  {
   "cell_type": "code",
   "execution_count": null,
   "metadata": {},
   "outputs": [],
   "source": [
    "print(\"5A = \\n\", 5 * A)\n",
    "\n",
    "# print(A)\n",
    "# print(5 + A) does something else!"
   ]
  },
  {
   "cell_type": "markdown",
   "metadata": {},
   "source": [
    "# Linear Transformations\n",
    "\n",
    "Now we will understand several kinds of linear transformations (and a few which are not linear transformations) with an example. In $\\mathbb{R}^n$, every linear transformation is essentially multiplication by a matrix, and vice versa. \n",
    "\n",
    "We will take a set of 102 points on $\\mathbb{R}^2$. We will see how different transformations work on this set of points. "
   ]
  },
  {
   "cell_type": "code",
   "execution_count": null,
   "metadata": {},
   "outputs": [],
   "source": [
    "import matplotlib.pyplot as plt\n",
    "\n",
    "\n",
    "data = [[1, 12], [0,13], [0,14], [0.5,15], [1,16],\n",
    "[2,16.5],[3,17],[4,17],[5,17],[6,16.67], [7,16.33], [8,16], \n",
    "[9,15.67], [10,15.33],  [11,15], [11,16], [11,17],\n",
    "[12,18], [13, 18], [14, 17], [13.67,16], [13.33, 15],  [13, 14],\n",
    "[14,13], [14.5, 14], [15,15], [16,15], [17, 14],\n",
    "[16, 13], [15, 12], [15.33,11], [15.67,10],  [16, 9],\n",
    "[16, 8], [16, 7], [16, 6], [15.67, 5], [15.33,4], [15, 3],\n",
    "[14, 2], [13, 1.5], [12, 1], [11, 1], [10, 1], [9, 1],\n",
    "[8, 1.33], [7, 1.67], [6, 2], [5, 2.5], [4, 3],\n",
    "[3.5, 4], [3, 5], [3,6], [3, 7], [3.33, 8], [3.67, 9], [3.8, 9.3],\n",
    "[3, 10], [2, 11], [1, 12], [2, 12], [3, 12], [4, 13],\n",
    "[4.5, 14], [5, 15], [4.5, 16], [4, 17], [7, 12], [8, 12], [9, 13], [9,\n",
    "14], [8, 15], [7, 15], [6, 14], [6, 13], [7, 12], [10, 12], [10, 11],\n",
    "[11, 10], [12, 10], [13, 11], [13, 12], [12, 13], [11, 13], [10, 12], \n",
    "[5,7], [5,6], [6,5], [7, 4.5], [8,4], [9,4], [10, 5],\n",
    "[7.5, 13], [8, 13], [8, 13.5], [7.5, 13.5], [7.5, 13],\n",
    "[12,11],[12,11.5],[11.5,11.5], [11.5,11],[12,11]]\n",
    "P = np.transpose(np.array(data))\n",
    "\n",
    "print(\"The shape of our dataset is: \", P.shape)"
   ]
  },
  {
   "cell_type": "code",
   "execution_count": null,
   "metadata": {
    "scrolled": true
   },
   "outputs": [],
   "source": [
    "# A function for plotting our picture \n",
    "# (will only work for this picture, or any transformation of this)\n",
    "def plotP(T):\n",
    "    fig=plt.figure(figsize=(5, 5), dpi= 80, facecolor='w', edgecolor='k')\n",
    "    ax = plt.subplot(111)\n",
    "    ax.plot(T[0,0:67], T[1,0:67], 'k--')\n",
    "    ax.plot(T[0,67:76], T[1,67:76], 'k--')\n",
    "    ax.plot(T[0,76:85], T[1,76:85], 'k--')\n",
    "    ax.plot(T[0,85:92], T[1,85:92], 'k--')\n",
    "    ax.fill(T[0,92:97], T[1,92:97], 'b--')\n",
    "    ax.fill(T[0,97:102], T[1,97:102], 'b--')\n",
    "    ax.set_aspect(1.0)\n",
    "    ax.grid()\n",
    "    plt.axis([-15,30,-15,30])\n",
    "    plt.show()\n",
    "\n",
    "# Let us see the picture\n",
    "plotP(P)"
   ]
  },
  {
   "cell_type": "markdown",
   "metadata": {},
   "source": [
    "## The identity transformation\n",
    "\n",
    "Mupliplication by $I$."
   ]
  },
  {
   "cell_type": "code",
   "execution_count": null,
   "metadata": {},
   "outputs": [],
   "source": [
    "I = np.array([[1,0],[0,1]])\n",
    "\n",
    "IP = I.dot(P)\n",
    "\n",
    "print(\"Original:\")\n",
    "plotP(P)\n",
    "print(\"Transformed:\")\n",
    "plotP(IP)"
   ]
  },
  {
   "cell_type": "markdown",
   "metadata": {},
   "source": [
    "### Scaling\n",
    "\n",
    "Scaling (stretching) the $n$-th axis by some scalar $s_n > 0$, by a diagonal matrix of the form:\n",
    "\n",
    "$ S = \\left[\\begin{matrix}\n",
    "s_1 & 0 & \\dots & 0 \\\\\n",
    "0 & s_2 & \\dots & 0 \\\\\n",
    "\\vdots & \\vdots & \\ddots & \\vdots \\\\\n",
    "0 & 0 & \\dots & s_n \n",
    "\\end{matrix}\n",
    "\\right]$"
   ]
  },
  {
   "cell_type": "code",
   "execution_count": null,
   "metadata": {},
   "outputs": [],
   "source": [
    "# Scale the x-axis by a factor 2, do nothing to the y-axis\n",
    "S = np.array([[2,0],[0,1]])\n",
    "\n",
    "SP = S.dot(P)\n",
    "\n",
    "print(\"Original:\")\n",
    "plotP(P)\n",
    "print(\"Transformed:\")\n",
    "plotP(SP)"
   ]
  },
  {
   "cell_type": "code",
   "execution_count": null,
   "metadata": {},
   "outputs": [],
   "source": [
    "# Scale the x-axis by a factor 1.5, y-axis by 0.5\n",
    "S = np.array([[1.5,0],[0,0.5]])\n",
    "\n",
    "SP = S.dot(P)\n",
    "\n",
    "print(\"Original:\")\n",
    "plotP(P)\n",
    "print(\"Transformed:\")\n",
    "plotP(SP)"
   ]
  },
  {
   "cell_type": "markdown",
   "metadata": {},
   "source": [
    "### Reflection\n",
    "\n",
    "Reflection on the line $x = y$ is essentially swapping the coordinates."
   ]
  },
  {
   "cell_type": "code",
   "execution_count": null,
   "metadata": {},
   "outputs": [],
   "source": [
    "S = np.array([[0,1],[1,0]])\n",
    "\n",
    "SP = S.dot(P)\n",
    "\n",
    "print(\"Original:\")\n",
    "plotP(P)\n",
    "print(\"Transformed:\")\n",
    "plotP(SP)"
   ]
  },
  {
   "cell_type": "markdown",
   "metadata": {},
   "source": [
    "## Reflection on some axis"
   ]
  },
  {
   "cell_type": "code",
   "execution_count": null,
   "metadata": {},
   "outputs": [],
   "source": [
    "# Reflection on the x-axis keeps the x values same, y values becomes negative\n",
    "S = np.array([[1,0],[0,-1]])\n",
    "\n",
    "SP = S.dot(P)\n",
    "\n",
    "print(\"Original:\")\n",
    "plotP(P)\n",
    "print(\"Transformed:\")\n",
    "plotP(SP)"
   ]
  },
  {
   "cell_type": "code",
   "execution_count": null,
   "metadata": {},
   "outputs": [],
   "source": [
    "# Reflection on the y-axis \n",
    "S = np.array([[-1,0],[0,1]])\n",
    "\n",
    "SP = S.dot(P)\n",
    "\n",
    "print(\"Original:\")\n",
    "plotP(P)\n",
    "print(\"Transformed:\")\n",
    "plotP(SP)"
   ]
  },
  {
   "cell_type": "markdown",
   "metadata": {},
   "source": [
    "### Shearing\n",
    "\n",
    "Push things \"sideways\". The further from the origin, more the effect. "
   ]
  },
  {
   "cell_type": "code",
   "execution_count": null,
   "metadata": {},
   "outputs": [],
   "source": [
    "# Shearing to the x-direction\n",
    "S = np.array([[1,1],[0,1]])\n",
    "\n",
    "SP = S.dot(P)\n",
    "\n",
    "print(\"Original:\")\n",
    "plotP(P)\n",
    "print(\"Transformed:\")\n",
    "plotP(SP)"
   ]
  },
  {
   "cell_type": "code",
   "execution_count": null,
   "metadata": {},
   "outputs": [],
   "source": [
    "# Shearing to the y-direction\n",
    "S = np.array([[1,0],[1,1]])\n",
    "\n",
    "SP = S.dot(P)\n",
    "\n",
    "print(\"Original:\")\n",
    "plotP(P)\n",
    "print(\"Transformed:\")\n",
    "plotP(SP)"
   ]
  },
  {
   "cell_type": "markdown",
   "metadata": {},
   "source": [
    "## Rotation \n",
    "\n",
    "Rotation by $\\theta$ counterclockwise around the origin"
   ]
  },
  {
   "cell_type": "code",
   "execution_count": null,
   "metadata": {},
   "outputs": [],
   "source": [
    "# Rotation by some angle theta\n",
    "theta = 45\n",
    "S = np.array([[np.cos(theta),-np.sin(theta)],[np.sin(theta),np.cos(theta)]])\n",
    "\n",
    "SP = S.dot(P)\n",
    "\n",
    "print(\"Original:\")\n",
    "plotP(P)\n",
    "print(\"Transformed:\")\n",
    "plotP(SP)"
   ]
  },
  {
   "cell_type": "code",
   "execution_count": null,
   "metadata": {},
   "outputs": [],
   "source": [
    "# Rotation by some angle theta clockwise\n",
    "theta = 45\n",
    "R = np.array([[np.cos(theta),np.sin(theta)],[-np.sin(theta),np.cos(theta)]])\n",
    "\n",
    "RP = R.dot(P)\n",
    "\n",
    "print(\"Original:\")\n",
    "plotP(P)\n",
    "print(\"Transformed:\")\n",
    "plotP(RP)"
   ]
  },
  {
   "cell_type": "markdown",
   "metadata": {},
   "source": [
    "## Projection \n",
    "\n",
    "Projection onto some axis"
   ]
  },
  {
   "cell_type": "code",
   "execution_count": null,
   "metadata": {},
   "outputs": [],
   "source": [
    "# Projection on the x-axis would mean discard the y values\n",
    "S = np.array([[1,0],[0,0]])\n",
    "\n",
    "SP = S.dot(P)\n",
    "\n",
    "print(\"Original:\")\n",
    "plotP(P)\n",
    "print(\"Transformed:\")\n",
    "plotP(SP)"
   ]
  },
  {
   "cell_type": "markdown",
   "metadata": {},
   "source": [
    "## Combining transformations\n",
    "\n",
    "If $A$ and $B$ define two transformations, then $AB$ defines the transformation that is obtained by applying $B$ first, then $A$."
   ]
  },
  {
   "cell_type": "code",
   "execution_count": null,
   "metadata": {},
   "outputs": [],
   "source": [
    "RSP = R.dot(S.dot(P))\n",
    "\n",
    "RS = R.dot(S)\n",
    "RSP2 = RS.dot(P)\n",
    "\n",
    "print(\"Original:\")\n",
    "plotP(P)\n",
    "print(\"Transformed 1:\")\n",
    "plotP(RSP)\n",
    "print(\"Transformed 2:\")\n",
    "plotP(RSP2)"
   ]
  },
  {
   "cell_type": "code",
   "execution_count": null,
   "metadata": {},
   "outputs": [],
   "source": [
    "plotP(P)\n",
    "plotP(P+10)"
   ]
  },
  {
   "cell_type": "code",
   "execution_count": null,
   "metadata": {},
   "outputs": [],
   "source": []
  }
 ],
 "metadata": {
  "kernelspec": {
   "display_name": "Python 3",
   "language": "python",
   "name": "python3"
  },
  "language_info": {
   "codemirror_mode": {
    "name": "ipython",
    "version": 3
   },
   "file_extension": ".py",
   "mimetype": "text/x-python",
   "name": "python",
   "nbconvert_exporter": "python",
   "pygments_lexer": "ipython3",
   "version": "3.7.3"
  }
 },
 "nbformat": 4,
 "nbformat_minor": 2
}
