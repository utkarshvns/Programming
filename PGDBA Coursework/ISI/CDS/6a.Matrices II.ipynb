{
 "cells": [
  {
   "cell_type": "markdown",
   "metadata": {},
   "source": [
    "# Numpy operations with matrices\n",
    "\n",
    "In this notebook, we will learn about a few numpy features to deal with matrices. "
   ]
  },
  {
   "cell_type": "markdown",
   "metadata": {},
   "source": [
    "## Transpose\n",
    "\n",
    "The transpose of an $m \\times n$ matrix $A$ is defined as the $n \\times m$ matrix $A^T$ where $A_{ij} = A^T_{ji}$."
   ]
  },
  {
   "cell_type": "code",
   "execution_count": 3,
   "metadata": {},
   "outputs": [
    {
     "name": "stdout",
     "output_type": "stream",
     "text": [
      "A = \n",
      " [[1 2]\n",
      " [3 4]\n",
      " [5 6]\n",
      " [7 8]] \n",
      "\n",
      "AT = \n",
      " [[1 3 5 7]\n",
      " [2 4 6 8]]\n"
     ]
    }
   ],
   "source": [
    "import numpy as np\n",
    "\n",
    "A = np.array([[1, 2],\n",
    "     [3, 4],\n",
    "    [5,6],\n",
    "    [7,8]])\n",
    "\n",
    "# print(\"A = \\n\", A, \"\\n\\nAT = \\n\", np.transpose(A))\n",
    "print(\"A = \\n\", A, \"\\n\\nAT = \\n\", A.T)"
   ]
  },
  {
   "cell_type": "markdown",
   "metadata": {},
   "source": [
    "## Triangular matrices\n",
    "\n",
    "A square matrix $A = (a_{ij})$ is called upper triangular if $a_{ij} = 0$ for all $i < j$. \n",
    "A square matrix $A = (a_{ij})$ is called lower triangular if $a_{ij} = 0$ for all $i > j$. \n",
    "\n",
    "Numpy can convert a square matrix into an upper or lower triangular matrix using the tril() or triu() functions."
   ]
  },
  {
   "cell_type": "code",
   "execution_count": 5,
   "metadata": {},
   "outputs": [
    {
     "name": "stdout",
     "output_type": "stream",
     "text": [
      "B = \n",
      " [[1 2 3]\n",
      " [4 5 6]\n",
      " [7 8 9]]\n",
      "BL = \n",
      " [[1 0 0]\n",
      " [4 5 0]\n",
      " [7 8 9]]\n",
      "BU = \n",
      " [[1 2 3]\n",
      " [0 5 6]\n",
      " [0 0 9]]\n"
     ]
    }
   ],
   "source": [
    "B = np.array([[1, 2, 3], [4, 5, 6], [7, 8, 9]])\n",
    "\n",
    "print(\"B = \\n\", B)\n",
    "print(\"BL = \\n\", np.tril(B))\n",
    "print(\"BU = \\n\", np.triu(B))"
   ]
  },
  {
   "cell_type": "markdown",
   "metadata": {},
   "source": [
    "## Diagonal matrix\n",
    "\n",
    "A diagonal matrix $A = (a_{ij})$ is one for which $a_{ij} = 0$ for all $i \\neq j$. A diagonal matrix need not be a square matrix in general. \n",
    "\n",
    "The diag function of Numpy can extract the diagonal vector from a matrix, and also produce a diagonal matrix from a vector. "
   ]
  },
  {
   "cell_type": "code",
   "execution_count": 6,
   "metadata": {},
   "outputs": [
    {
     "name": "stdout",
     "output_type": "stream",
     "text": [
      "A = \n",
      " [[1 2]\n",
      " [3 4]\n",
      " [5 6]\n",
      " [7 8]]\n",
      "Diagonal vector of A = \n",
      " [1 4]\n",
      "B = \n",
      " [[1 2 3]\n",
      " [4 5 6]\n",
      " [7 8 9]]\n",
      "Diagonal vector of B = \n",
      " [1 5 9]\n"
     ]
    }
   ],
   "source": [
    "print(\"A = \\n\", A)\n",
    "ad = np.diag(A)\n",
    "print(\"Diagonal vector of A = \\n\", ad)\n",
    "\n",
    "print(\"B = \\n\", B)\n",
    "bd = np.diag(B)\n",
    "print(\"Diagonal vector of B = \\n\", bd)"
   ]
  },
  {
   "cell_type": "markdown",
   "metadata": {},
   "source": [
    "Now converting the diagonal vectors into diagonal matrices."
   ]
  },
  {
   "cell_type": "code",
   "execution_count": 8,
   "metadata": {},
   "outputs": [
    {
     "name": "stdout",
     "output_type": "stream",
     "text": [
      "[[1 0]\n",
      " [0 4]]\n",
      "\n",
      "\n",
      "[[1 0 0]\n",
      " [0 5 0]\n",
      " [0 0 9]]\n"
     ]
    }
   ],
   "source": [
    "DA = np.diag(ad)\n",
    "print(DA)\n",
    "print(\"\\n\")\n",
    "DB = np.diag(bd)\n",
    "print(DB)"
   ]
  },
  {
   "cell_type": "markdown",
   "metadata": {},
   "source": [
    "## Inverse of a matrix\n",
    "\n",
    "An $n\\times n$ square matrix $A$ is called <i>invertible</i> if there exists another $n\\times n$ matrix $B$ such that $A B = I_n$, the $n\\times n$ identity matrix. When $A$ is considered to be a linear transformation from $\\mathbb{R}^n \\to \\mathbb{R}^n$, $B$ is the inverse transformation of $A$. The matrix $B$ is called the inverse of $A$, and vice versa. \n",
    "\n",
    "<b>However, not all square matrices are invertible.</b>"
   ]
  },
  {
   "cell_type": "code",
   "execution_count": 11,
   "metadata": {},
   "outputs": [
    {
     "name": "stdout",
     "output_type": "stream",
     "text": [
      "A = \n",
      " [[1 1]\n",
      " [0 2]]\n",
      "A1 = \n",
      " [[ 1.  -0.5]\n",
      " [ 0.   0.5]]\n"
     ]
    }
   ],
   "source": [
    "A = np.array([[1, 1],[0, 2]])\n",
    "print(\"A = \\n\", A)\n",
    "\n",
    "A1 = np.linalg.inv(A)\n",
    "print(\"A1 = \\n\", A1)"
   ]
  },
  {
   "cell_type": "markdown",
   "metadata": {},
   "source": [
    "## Trace \n",
    "\n",
    "The trace of a square matrix is the sum of its diagonal entries. "
   ]
  },
  {
   "cell_type": "code",
   "execution_count": null,
   "metadata": {},
   "outputs": [],
   "source": [
    "print(\"B = \\n\", B)\n",
    "print(\"trace(B) = \", np.trace(B))"
   ]
  },
  {
   "cell_type": "markdown",
   "metadata": {},
   "source": [
    "## Rank\n",
    "\n",
    "The rank of a matrix is the number of linearly independent rows or columns (the minimum of the two) in it. Intuitively, it is the number of dimensions the vectors in the matrix can span. "
   ]
  },
  {
   "cell_type": "code",
   "execution_count": 15,
   "metadata": {},
   "outputs": [
    {
     "name": "stdout",
     "output_type": "stream",
     "text": [
      "B = \n",
      " [[ 1  2  3  4  5]\n",
      " [ 6  7  8  9 10]\n",
      " [11 12 13 14 15]\n",
      " [16 17 18 19 20]\n",
      " [21 22 23 24 25]]\n",
      "rank(B) =  2\n",
      "[ 65 150 235 320 405]\n"
     ]
    }
   ],
   "source": [
    "B = np.array([[1, 2, 3, 4, 5],[6,7,8,9,10],[11,12,13,14,15],[16,17,18,19,20],[21,22,23,24,25]])\n",
    "print(\"B = \\n\", B)\n",
    "print(\"rank(B) = \", np.linalg.matrix_rank(B))\n",
    "\n",
    "v = np.array([1,2,3,4,7])\n",
    "\n",
    "print(np.dot(B, v))"
   ]
  },
  {
   "cell_type": "code",
   "execution_count": 18,
   "metadata": {},
   "outputs": [
    {
     "name": "stdout",
     "output_type": "stream",
     "text": [
      "[[1 3 5 7]\n",
      " [2 4 6 8]]\n",
      "rank(A) =  2\n"
     ]
    }
   ],
   "source": [
    "A = np.array([[1, 2],\n",
    "              [3, 4],\n",
    "              [5,6],\n",
    "              [7,8]])\n",
    "print(A.T)\n",
    "print(\"rank(A) = \", np.linalg.matrix_rank(A))"
   ]
  },
  {
   "cell_type": "code",
   "execution_count": null,
   "metadata": {},
   "outputs": [],
   "source": []
  }
 ],
 "metadata": {
  "kernelspec": {
   "display_name": "Python 3",
   "language": "python",
   "name": "python3"
  },
  "language_info": {
   "codemirror_mode": {
    "name": "ipython",
    "version": 3
   },
   "file_extension": ".py",
   "mimetype": "text/x-python",
   "name": "python",
   "nbconvert_exporter": "python",
   "pygments_lexer": "ipython3",
   "version": "3.7.3"
  }
 },
 "nbformat": 4,
 "nbformat_minor": 2
}
