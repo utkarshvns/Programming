{
 "cells": [
  {
   "cell_type": "markdown",
   "metadata": {},
   "source": [
    "# Numpy Arrays (1-D and 2-D)\n",
    "\n",
    "This notebook is to discuss operations using Numpy arrays. "
   ]
  },
  {
   "cell_type": "code",
   "execution_count": 17,
   "metadata": {},
   "outputs": [
    {
     "name": "stdout",
     "output_type": "stream",
     "text": [
      "[[1 2]\n",
      " [3 4]\n",
      " [5 6]\n",
      " [7 8]]\n"
     ]
    }
   ],
   "source": [
    "# Let us create a 2-D array\n",
    "\n",
    "import numpy as np\n",
    "\n",
    "A = np.array([[1, 2],\n",
    "     [3, 4],\n",
    "    [5,6],\n",
    "    [7,8]])\n",
    "\n",
    "print(A)"
   ]
  },
  {
   "cell_type": "markdown",
   "metadata": {},
   "source": [
    "## Array indexing\n",
    "\n",
    "Accessing an element in the 2-D array is done by index [i,j] for the element in the $i$-th row and the $j$-th column. The indices start from 0."
   ]
  },
  {
   "cell_type": "code",
   "execution_count": 18,
   "metadata": {},
   "outputs": [
    {
     "name": "stdout",
     "output_type": "stream",
     "text": [
      "6\n",
      "1\n"
     ]
    }
   ],
   "source": [
    "print(A[2,1])\n",
    "print(A[0,0])"
   ]
  },
  {
   "cell_type": "markdown",
   "metadata": {},
   "source": [
    "## Array slicing\n",
    "\n",
    "A slice of an array is a part of it. \n",
    "\n",
    "For 1-D arrays, a slice can be specified by specifying the [from:to] index, including the from index and excluding the to index, separated by the colon. If no from and to are specified, it refers to the whole array."
   ]
  },
  {
   "cell_type": "code",
   "execution_count": 19,
   "metadata": {},
   "outputs": [
    {
     "name": "stdout",
     "output_type": "stream",
     "text": [
      "The whole array as a slice: [ 0 10 20 30 40 50]\n",
      "The array from index 1 to until 3: [10 20]\n"
     ]
    }
   ],
   "source": [
    "import numpy as np\n",
    "\n",
    "a = np.array([0,10,20,30,40,50])\n",
    "\n",
    "print(\"The whole array as a slice:\", a[:])\n",
    "print(\"The array from index 1 to until 3:\", a[1:3])"
   ]
  },
  {
   "cell_type": "markdown",
   "metadata": {},
   "source": [
    "#### Using negative index\n",
    "\n",
    "Specifying a negative index in slicing means count from the end. The index -3 means third from the last element. \n",
    "\n",
    "A slicing with a negative index works analogously. "
   ]
  },
  {
   "cell_type": "code",
   "execution_count": 20,
   "metadata": {},
   "outputs": [
    {
     "name": "stdout",
     "output_type": "stream",
     "text": [
      "The third element from the end is: 30\n"
     ]
    }
   ],
   "source": [
    "print(\"The third element from the end is:\", a[-3])"
   ]
  },
  {
   "cell_type": "code",
   "execution_count": 21,
   "metadata": {},
   "outputs": [
    {
     "name": "stdout",
     "output_type": "stream",
     "text": [
      "The array from the third last element till the end is: [30 40 50]\n",
      "The array from the beginning until the last element is: [ 0 10 20 30 40]\n"
     ]
    }
   ],
   "source": [
    "print(\"The array from the third last element till the end is:\", a[-3:])\n",
    "print(\"The array from the beginning until the last element is:\", a[:-1])"
   ]
  },
  {
   "cell_type": "markdown",
   "metadata": {},
   "source": [
    "### Slicing a 2-D array\n",
    "\n",
    "Slicing a 2-D array works in a similar way, by specifying range of indices for the rows and columns. "
   ]
  },
  {
   "cell_type": "code",
   "execution_count": 33,
   "metadata": {},
   "outputs": [
    {
     "name": "stdout",
     "output_type": "stream",
     "text": [
      "[[ 1  2  3  4]\n",
      " [ 3  4  5  6]\n",
      " [ 5  6  7  8]\n",
      " [ 7  8  9 10]\n",
      " [ 9 10 11 12]]\n"
     ]
    }
   ],
   "source": [
    "print(A)\n",
    "\n",
    "#print(\"The 1st column of A:\", A[:,0])\n",
    "#print(\"The 2nd row of A:\", A[1,:])\n",
    "#print(\"The first three rows of A:\\n\", A[:3,:])\n",
    "#print(\"The last three rows of A:\\n\", A[-3:,:])"
   ]
  },
  {
   "cell_type": "markdown",
   "metadata": {},
   "source": [
    "#### Specifying a subset of the indices\n",
    "\n",
    "Instead of a contiguous range of indices, any arbitrary subset (subsequence, in any order) of indices can also be specified. "
   ]
  },
  {
   "cell_type": "code",
   "execution_count": 52,
   "metadata": {},
   "outputs": [
    {
     "name": "stdout",
     "output_type": "stream",
     "text": [
      "[[ 1  2  3  4]\n",
      " [ 3  4  5  6]\n",
      " [ 5  6  7  8]\n",
      " [ 7  8  9 10]\n",
      " [ 9 10 11 12]]\n",
      "[[ 5  6  7  8]\n",
      " [ 9 10 11 12]\n",
      " [ 1  2  3  4]]\n"
     ]
    }
   ],
   "source": [
    "A = np.array([[1, 2, 3, 4],\n",
    "     [3, 4, 5, 6],\n",
    "    [5,6, 7, 8],\n",
    "    [7,8, 9, 10],\n",
    "    [9, 10, 11, 12]])\n",
    "\n",
    "print(A)\n",
    "\n",
    "rows = np.array([2,4,0])\n",
    "cols = np.array([1,3,0])\n",
    "#rows2 = np.array([3,2])\n",
    "#print(\"The 1st and 3rd row of A:\\n\", A[rows1,:])\n",
    "print(A[rows,:])\n",
    "#B = A[rows,:]\n",
    "#print(B[:,cols])\n",
    "#print(\"The matrix in the new ordering of rows:\\n\", A[rows,:])"
   ]
  },
  {
   "cell_type": "markdown",
   "metadata": {},
   "source": [
    "## Shape \n",
    "\n",
    "The shape attribute returns the shape of an array. For 1-D arrays, it is just the length, given by the number of rows. For 2-D arrays, it is the number of rows and columns. "
   ]
  },
  {
   "cell_type": "code",
   "execution_count": 53,
   "metadata": {},
   "outputs": [
    {
     "name": "stdout",
     "output_type": "stream",
     "text": [
      "Shape of a: (6,)\n",
      "Shape of A: (5, 4)\n",
      "Number of rows in A: 5\n",
      "Number of columns in A: 4\n"
     ]
    }
   ],
   "source": [
    "print(\"Shape of a:\", a.shape)\n",
    "print(\"Shape of A:\", A.shape)\n",
    "\n",
    "# Just getting number of rows or columns\n",
    "print(\"Number of rows in A:\", A.shape[0])\n",
    "print(\"Number of columns in A:\", A.shape[1])"
   ]
  },
  {
   "cell_type": "markdown",
   "metadata": {},
   "source": [
    "## Reshaping\n",
    "\n",
    "Reshaping the data is an operation useful in many cases. Reshape works in many ways. \n",
    "\n",
    "An 1-D array of length $n$ can be reshaped into a 2-D array ($n \\times 1$ or $1 \\times n$). "
   ]
  },
  {
   "cell_type": "code",
   "execution_count": 57,
   "metadata": {},
   "outputs": [
    {
     "name": "stdout",
     "output_type": "stream",
     "text": [
      "(6,)\n",
      "[ 0 10 20 30 40 50]\n",
      "(1, 6)\n",
      "[[ 0 10 20 30 40 50]]\n"
     ]
    }
   ],
   "source": [
    "print(a.shape)\n",
    "print(a)\n",
    "#a2D = a.reshape(a.shape[0],1)\n",
    "#print(a2D.shape)\n",
    "#print(a2D)\n",
    "a2D = a.reshape(1,a.shape[0])\n",
    "print(a2D.shape)\n",
    "print(a2D)"
   ]
  },
  {
   "cell_type": "markdown",
   "metadata": {},
   "source": [
    "### More flexible reshaping\n",
    "\n",
    "Or, it can be reshaped into $m \\times k$ so that $m \\times k = n$."
   ]
  },
  {
   "cell_type": "code",
   "execution_count": 60,
   "metadata": {},
   "outputs": [
    {
     "name": "stdout",
     "output_type": "stream",
     "text": [
      "[[ 0 10]\n",
      " [20 30]\n",
      " [40 50]]\n",
      "(3, 2)\n"
     ]
    }
   ],
   "source": [
    "b = a.reshape(3,2)\n",
    "print(b)\n",
    "print(b.shape)"
   ]
  },
  {
   "cell_type": "markdown",
   "metadata": {},
   "source": [
    "### Reshaping 2-D arrays\n",
    "\n",
    "Similarly, a 2-D array can be reshaped. The elements are ordered row-wise. "
   ]
  },
  {
   "cell_type": "code",
   "execution_count": 67,
   "metadata": {},
   "outputs": [
    {
     "name": "stdout",
     "output_type": "stream",
     "text": [
      "Original shape: (5, 4) \n",
      " [[ 1  2  3  4]\n",
      " [ 3  4  5  6]\n",
      " [ 5  6  7  8]\n",
      " [ 7  8  9 10]\n",
      " [ 9 10 11 12]]\n",
      "Reshaped: (4, 5) \n",
      " [[ 1  2  3  4  3]\n",
      " [ 4  5  6  5  6]\n",
      " [ 7  8  7  8  9]\n",
      " [10  9 10 11 12]]\n"
     ]
    }
   ],
   "source": [
    "print(\"Original shape:\", A.shape, \"\\n\", A)\n",
    "\n",
    "B = A.reshape(4,5)\n",
    "print(\"Reshaped:\", B.shape, \"\\n\", B)\n",
    "\n",
    "#B = A.reshape(20,3) \n",
    "# will produce an error. \n",
    "# Total number of elements in the original array must be the same. "
   ]
  },
  {
   "cell_type": "markdown",
   "metadata": {},
   "source": [
    "# Broadcasting\n",
    "\n",
    "Mathematically, matrices can be added or multiplied only if they match in dimensions in certain ways. However, for convenience of coding, Numpy provides the power of conceptually duplicating elements of smaller arrays to match the dimensions of bigger arrays according to the operation required. This is called <i>broadcasting</i>."
   ]
  },
  {
   "cell_type": "markdown",
   "metadata": {},
   "source": [
    "## Adding a scalar with an array \n",
    "\n",
    "If a scalar is added to an array, it is added to each element of the array. "
   ]
  },
  {
   "cell_type": "code",
   "execution_count": 69,
   "metadata": {},
   "outputs": [
    {
     "name": "stdout",
     "output_type": "stream",
     "text": [
      "A = \n",
      " [[ 1  2  3  4]\n",
      " [ 3  4  5  6]\n",
      " [ 5  6  7  8]\n",
      " [ 7  8  9 10]\n",
      " [ 9 10 11 12]]\n",
      "A + 3 = \n",
      " [[ 4  5  6  7]\n",
      " [ 6  7  8  9]\n",
      " [ 8  9 10 11]\n",
      " [10 11 12 13]\n",
      " [12 13 14 15]]\n"
     ]
    }
   ],
   "source": [
    "print(\"A = \\n\", A)\n",
    "print(\"A + 3 = \\n\", (A+3))"
   ]
  },
  {
   "cell_type": "markdown",
   "metadata": {},
   "source": [
    "### 1-D and 2-D arrays\n",
    "\n",
    "An 1-D array of shape (n,) can be added to a 2-D array of shape (m,n). The 1-D array here is treated as a row vector which is added to all the rows of the 2-D array. However, an 1-D array of shape (n,) cannot be added to a 2-D array of shape (n,m). "
   ]
  },
  {
   "cell_type": "code",
   "execution_count": 73,
   "metadata": {},
   "outputs": [
    {
     "name": "stdout",
     "output_type": "stream",
     "text": [
      "[20 30 40 50]\n",
      "(4,)\n",
      "A = \n",
      " [[ 1  2  3  4]\n",
      " [ 3  4  5  6]\n",
      " [ 5  6  7  8]\n",
      " [ 7  8  9 10]\n",
      " [ 9 10 11 12]]\n",
      "A + a1 = \n",
      " [[21 32 43 54]\n",
      " [23 34 45 56]\n",
      " [25 36 47 58]\n",
      " [27 38 49 60]\n",
      " [29 40 51 62]]\n"
     ]
    }
   ],
   "source": [
    "a1 = np.array([20,30,40,50])\n",
    "print(a1)\n",
    "print(a1.shape)\n",
    "print(\"A = \\n\", A)\n",
    "print(\"A + a1 = \\n\", (A+a1))"
   ]
  },
  {
   "cell_type": "markdown",
   "metadata": {},
   "source": [
    "### 2-D arrays\n",
    "\n",
    "To add a column vector of size m to each column of a 2-D array A of shape (m,n), we need to add a 2-D array of shape (m,1) to A."
   ]
  },
  {
   "cell_type": "code",
   "execution_count": 76,
   "metadata": {},
   "outputs": [
    {
     "name": "stdout",
     "output_type": "stream",
     "text": [
      "(5, 1) (5, 4)\n",
      "a2 = \n",
      " [[100]\n",
      " [110]\n",
      " [120]\n",
      " [130]\n",
      " [140]]\n",
      "A = \n",
      " [[ 1  2  3  4]\n",
      " [ 3  4  5  6]\n",
      " [ 5  6  7  8]\n",
      " [ 7  8  9 10]\n",
      " [ 9 10 11 12]]\n",
      "A + a2 = \n",
      " [[101 102 103 104]\n",
      " [113 114 115 116]\n",
      " [125 126 127 128]\n",
      " [137 138 139 140]\n",
      " [149 150 151 152]]\n"
     ]
    }
   ],
   "source": [
    "a2 = np.array([[100],[110],[120],[130],[140]])\n",
    "print(a2.shape, A.shape)\n",
    "print(\"a2 = \\n\", a2)\n",
    "print(\"A = \\n\", A)\n",
    "print(\"A + a2 = \\n\", (A+a2))"
   ]
  },
  {
   "cell_type": "code",
   "execution_count": 79,
   "metadata": {},
   "outputs": [
    {
     "name": "stdout",
     "output_type": "stream",
     "text": [
      "[[ 100  200  300  400]\n",
      " [ 330  440  550  660]\n",
      " [ 600  720  840  960]\n",
      " [ 910 1040 1170 1300]\n",
      " [1260 1400 1540 1680]]\n"
     ]
    }
   ],
   "source": [
    "print(A * a2)"
   ]
  },
  {
   "cell_type": "code",
   "execution_count": null,
   "metadata": {},
   "outputs": [],
   "source": []
  }
 ],
 "metadata": {
  "kernelspec": {
   "display_name": "Python 3",
   "language": "python",
   "name": "python3"
  },
  "language_info": {
   "codemirror_mode": {
    "name": "ipython",
    "version": 3
   },
   "file_extension": ".py",
   "mimetype": "text/x-python",
   "name": "python",
   "nbconvert_exporter": "python",
   "pygments_lexer": "ipython3",
   "version": "3.7.3"
  }
 },
 "nbformat": 4,
 "nbformat_minor": 2
}
