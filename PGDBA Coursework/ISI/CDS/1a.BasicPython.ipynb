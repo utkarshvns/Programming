{
 "cells": [
  {
   "cell_type": "markdown",
   "metadata": {},
   "source": [
    "# Basic Programming with Python\n",
    "\n",
    "In this notebook, we will start with Python for absolute beginners. We will learn basic variables and types, if-else decision making, list and its operations, and functions. \n",
    "\n",
    "## The Hello, World! \n",
    "\n",
    "Let us write our first and most basic Python program. Let's print <b>Hello, World!</b> "
   ]
  },
  {
   "cell_type": "code",
   "execution_count": null,
   "metadata": {},
   "outputs": [],
   "source": [
    "print(\"Hello, World!\")\n",
    "print('This is 2020.')"
   ]
  },
  {
   "cell_type": "markdown",
   "metadata": {},
   "source": [
    "## Calculator\n",
    "\n",
    "You can use Python simply as a calculator."
   ]
  },
  {
   "cell_type": "code",
   "execution_count": null,
   "metadata": {},
   "outputs": [],
   "source": [
    "2 + 5 * 3 + 3/2"
   ]
  },
  {
   "cell_type": "markdown",
   "metadata": {},
   "source": [
    "## Variables and Types\n",
    "\n",
    "\n",
    "### Numbers\n",
    "Let's start with numbers, namely integers and fractions (floating point). "
   ]
  },
  {
   "cell_type": "code",
   "execution_count": null,
   "metadata": {},
   "outputs": [],
   "source": [
    "n = 62\n",
    "print(\"There are %d students in this batch.\" % n)\n",
    "m = 100 - n\n",
    "print(\"Another %d would have made it 100.\" % m)\n",
    "x = 1.3\n",
    "print(\"The value of x is %f.\" % x)\n",
    "\n",
    "print(\"There are\", n  ,\"students in this batch.\")"
   ]
  },
  {
   "cell_type": "markdown",
   "metadata": {},
   "source": [
    "### Strings\n",
    "\n",
    "Text is represented by strings. Use single or double quotes for <i>strings</i>."
   ]
  },
  {
   "cell_type": "code",
   "execution_count": null,
   "metadata": {
    "scrolled": true
   },
   "outputs": [],
   "source": [
    "batch = \"PGDBA\"\n",
    "print(batch)\n",
    "print(\"This is %s batch of 2020-22.\" % batch)\n",
    "# Print % just as a %. \n",
    "# But if %s, %d, %f are followed by a variable, then it prints the variable.\n",
    "print(\"%s\")"
   ]
  },
  {
   "cell_type": "markdown",
   "metadata": {},
   "source": [
    "<b>Note:</b>\n",
    "\n",
    "Python is not <i>statically typed</i>. We don't have to declare the type of a variable before using it.\n",
    "\n",
    "Python is completely object oriented. Every variable is an object. "
   ]
  },
  {
   "cell_type": "markdown",
   "metadata": {},
   "source": [
    "## If - Else\n",
    "If a certain condition is satisfied, do something. Otherwise (optionally), do something else. \n",
    "\n",
    "<b>Note:</b> Python relies on indentation in the lines after if or else. "
   ]
  },
  {
   "cell_type": "code",
   "execution_count": null,
   "metadata": {},
   "outputs": [],
   "source": [
    "a = 14\n",
    "b = 30\n",
    "c = 10\n",
    "d = 20\n",
    "if a < b: print(\"a is smaller than b.\")"
   ]
  },
  {
   "cell_type": "code",
   "execution_count": null,
   "metadata": {},
   "outputs": [],
   "source": [
    "if a + c < b:\n",
    "    print(\"a + c is smaller than b.\") \n",
    "    print(\"Print something else.\")"
   ]
  },
  {
   "cell_type": "code",
   "execution_count": null,
   "metadata": {},
   "outputs": [],
   "source": [
    "if a + d < b:\n",
    "    print(\"a + d is smaller than b.\")\n",
    "    print(\"b is %d.\" %b)\n",
    "else: \n",
    "    print(\"a + d is greater than b.\")\n",
    "    print(\"a + d is %d.\" %(a+d))"
   ]
  },
  {
   "cell_type": "markdown",
   "metadata": {},
   "source": [
    "## Lists\n",
    "\n",
    "Almost always computing involves repeatitive computation. We won't get too far with variables storing numbers and strings. \n",
    "\n",
    "Lists can contain many variables, also many types of variables (though that may not be useful often).\n",
    "\n",
    "#### Note for those who are used to C or Java: \n",
    "Lists are inbuilt in Python. Arrays are not. We will learn about Python (numpy) arrays later. "
   ]
  },
  {
   "cell_type": "code",
   "execution_count": null,
   "metadata": {},
   "outputs": [],
   "source": [
    "# Define a list nums and print it\n",
    "mylist = [5,2,4,8,1]\n",
    "print(mylist)"
   ]
  },
  {
   "cell_type": "markdown",
   "metadata": {},
   "source": [
    "#### Getting element by index\n",
    "The elements of a list are indexed, starting from 0 (not 1). For example, index 2 refers to the third element. "
   ]
  },
  {
   "cell_type": "code",
   "execution_count": null,
   "metadata": {},
   "outputs": [],
   "source": [
    "elem = mylist[2]\n",
    "print(elem)\n",
    "\n",
    "element2 = mylist[1]\n",
    "print(element2)"
   ]
  },
  {
   "cell_type": "markdown",
   "metadata": {},
   "source": [
    "### List operations\n",
    "\n",
    "#### append()\n",
    "Append a single element at the end of the list."
   ]
  },
  {
   "cell_type": "code",
   "execution_count": null,
   "metadata": {},
   "outputs": [],
   "source": [
    "# Append another to the list\n",
    "#mylist.append(5)\n",
    "#print(mylist)\n",
    "\n",
    "# Append a different kind of variable, or even another list to mylist (although it may not make sense here)\n",
    "#mylist.append(0.7)\n",
    "#mylist.append(\"Junk\")\n",
    "mylist.append([9,10,11])\n",
    "print(mylist)"
   ]
  },
  {
   "cell_type": "markdown",
   "metadata": {},
   "source": [
    "#### extend()\n",
    "Add elements of a list to the end of another list."
   ]
  },
  {
   "cell_type": "code",
   "execution_count": null,
   "metadata": {},
   "outputs": [],
   "source": [
    "nums1 = [10,12,14]\n",
    "nums2 = [15,14,13,12,11]\n",
    "nums1.extend(nums2)\n",
    "print(nums1)"
   ]
  },
  {
   "cell_type": "markdown",
   "metadata": {},
   "source": [
    "#### insert(index, element)\n",
    "Insert an element at the specified index. The length of the list increases by 1. "
   ]
  },
  {
   "cell_type": "code",
   "execution_count": null,
   "metadata": {},
   "outputs": [],
   "source": [
    "nums1.insert(2,13)\n",
    "print(nums1)"
   ]
  },
  {
   "cell_type": "code",
   "execution_count": null,
   "metadata": {},
   "outputs": [],
   "source": [
    "nums1.insert(4,[0,1,2,3])\n",
    "print(nums1)"
   ]
  },
  {
   "cell_type": "markdown",
   "metadata": {},
   "source": [
    "### Todo: \n",
    "\n",
    "Learn about other built-in list operations by yourself. \n",
    "\n",
    "## Loops: \n",
    "\n",
    "#### Iterating over a list\n",
    "\n",
    "One of the most useful aspects of lists is that we can iterate over a list and perform some task with its elements. \n",
    "\n",
    "The simple for loop below iterates over all elements on the list nums1 and prints the square of the element. "
   ]
  },
  {
   "cell_type": "code",
   "execution_count": null,
   "metadata": {},
   "outputs": [],
   "source": [
    "nums1 = [1,2,3,4,5,6,7,8,9]\n",
    "\n",
    "for number in nums1:\n",
    "    value = number * 3\n",
    "    print(value)\n",
    "    \n",
    "# If we delete the indent, then we are out of the loop\n",
    "#print(3)"
   ]
  },
  {
   "cell_type": "markdown",
   "metadata": {},
   "source": [
    "### Loops in general\n",
    "\n",
    "The range() function creates indices given start, stop and gap. It is very useful in loops.  \n",
    "\n",
    "The below two loops are equivalent."
   ]
  },
  {
   "cell_type": "code",
   "execution_count": null,
   "metadata": {},
   "outputs": [],
   "source": [
    "for x in range(3):\n",
    "    print(x)"
   ]
  },
  {
   "cell_type": "code",
   "execution_count": null,
   "metadata": {},
   "outputs": [],
   "source": [
    "for x in range(0,3):\n",
    "    print(x)"
   ]
  },
  {
   "cell_type": "markdown",
   "metadata": {},
   "source": [
    "For general list of indices that are in arithmetic progression, use range(start, stop, gap)"
   ]
  },
  {
   "cell_type": "code",
   "execution_count": null,
   "metadata": {},
   "outputs": [],
   "source": [
    "for x in range(5, 26, 4):\n",
    "    print(x)"
   ]
  },
  {
   "cell_type": "markdown",
   "metadata": {},
   "source": [
    "#### Example:\n",
    "\n",
    "Compute the sum 1 + 2 + ... + 10"
   ]
  },
  {
   "cell_type": "code",
   "execution_count": null,
   "metadata": {},
   "outputs": [],
   "source": [
    "sum = 0\n",
    "\n",
    "for x in range(1,11):\n",
    "    sum = sum + x\n",
    "    # print(\"As of now, sum is \", sum)\n",
    "\n",
    "print(sum)"
   ]
  },
  {
   "cell_type": "markdown",
   "metadata": {},
   "source": [
    "### The while loop\n",
    "\n",
    "Another way of performing repeated operations. "
   ]
  },
  {
   "cell_type": "code",
   "execution_count": null,
   "metadata": {},
   "outputs": [],
   "source": [
    "i = 0;\n",
    "\n",
    "while i < 11:\n",
    "    print(i)\n",
    "    i = i+1\n",
    "    "
   ]
  },
  {
   "cell_type": "markdown",
   "metadata": {},
   "source": [
    "#### Exercise: \n",
    "Using a while loop, compute the sum 1 + 2 + ... + 10"
   ]
  },
  {
   "cell_type": "code",
   "execution_count": null,
   "metadata": {},
   "outputs": [],
   "source": [
    "# Write code below\n"
   ]
  },
  {
   "cell_type": "markdown",
   "metadata": {},
   "source": [
    "## Functions\n",
    "\n",
    "It is better to write functions for some part of the code that you need to use repeatedly. A function should ideally perform some specific task given some input(s) and will output (return) some result optionally. We have been already using several functions earlier in this notebook. \n",
    "\n",
    "Let's write a simple function. Given two numbers, it should return the smaller of the two, or any one if they are equal. It is equivalent to the already available min() function, but we will not use that for now. "
   ]
  },
  {
   "cell_type": "code",
   "execution_count": null,
   "metadata": {},
   "outputs": [],
   "source": [
    "def smaller(m, n):\n",
    "    if (m < n):\n",
    "        return m\n",
    "    else:\n",
    "        return n"
   ]
  },
  {
   "cell_type": "markdown",
   "metadata": {},
   "source": [
    "Now we will use this function and see that it works exactly same as the min function."
   ]
  },
  {
   "cell_type": "code",
   "execution_count": null,
   "metadata": {},
   "outputs": [],
   "source": [
    "s = smaller(20,15)\n",
    "print(s)\n",
    "\n",
    "print(smaller(4,3), min(4,3))\n",
    "#print(smaller(2,2), min(2,2))"
   ]
  },
  {
   "cell_type": "markdown",
   "metadata": {},
   "source": [
    "A function need not return anything. It may just perform some task on existing variables, for example. \n",
    "\n",
    "The below function takes a list and replaces every element with it's negative value. "
   ]
  },
  {
   "cell_type": "code",
   "execution_count": null,
   "metadata": {},
   "outputs": [],
   "source": [
    "def negate(lst):\n",
    "    for i in range(0,len(lst)):\n",
    "        lst[i] = -lst[i]\n",
    "\n",
    "a = [1,2,3]\n",
    "negate(a)\n",
    "print(a)"
   ]
  },
  {
   "cell_type": "markdown",
   "metadata": {},
   "source": [
    "#### Exercise:\n",
    "\n",
    "Write a function that computes the average of the numbers in the input list."
   ]
  },
  {
   "cell_type": "code",
   "execution_count": null,
   "metadata": {},
   "outputs": [],
   "source": [
    "def average(lst):\n",
    "    # Write correct code here and change what should be returned. \n",
    "    return 0\n",
    "\n",
    "a = [3, 4, 7, 1, 3, 4, 2, 5, 5, 9]\n",
    "print(average(a))"
   ]
  },
  {
   "cell_type": "code",
   "execution_count": null,
   "metadata": {},
   "outputs": [],
   "source": []
  }
 ],
 "metadata": {
  "kernelspec": {
   "display_name": "Python 3",
   "language": "python",
   "name": "python3"
  },
  "language_info": {
   "codemirror_mode": {
    "name": "ipython",
    "version": 3
   },
   "file_extension": ".py",
   "mimetype": "text/x-python",
   "name": "python",
   "nbconvert_exporter": "python",
   "pygments_lexer": "ipython3",
   "version": "3.7.3"
  }
 },
 "nbformat": 4,
 "nbformat_minor": 2
}
