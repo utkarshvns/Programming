{
 "cells": [
  {
   "cell_type": "markdown",
   "metadata": {},
   "source": [
    "# Basic Programming Practice\n",
    "\n",
    "In this notebook, we will practice writing a few basic programs to get used to programming. "
   ]
  },
  {
   "cell_type": "markdown",
   "metadata": {},
   "source": [
    "## Linear search\n",
    "Given an integer and a list of integers, return the index of the integer in the list if it exists, and return -1 otherwise.\n",
    "\n",
    "#### Note: \n",
    "Python list has a built in function list.index(target) for the same purpose, and one should use that usually. We will implement it anyway for the sake of practice. "
   ]
  },
  {
   "cell_type": "code",
   "execution_count": 1,
   "metadata": {},
   "outputs": [],
   "source": [
    "# Given a list and a target number, \n",
    "# return any index of the target in the list if it exists, \n",
    "# -1 otherwise.\n",
    "def linearSearch(nums, target):\n",
    "    for i in range(0,len(nums)):\n",
    "        if (nums[i] == target):\n",
    "            return i\n",
    "    # end of for loop, so return negative answer\n",
    "    return -1"
   ]
  },
  {
   "cell_type": "code",
   "execution_count": 3,
   "metadata": {},
   "outputs": [
    {
     "name": "stdout",
     "output_type": "stream",
     "text": [
      "The number 46 does not exist in the list.\n"
     ]
    }
   ],
   "source": [
    "# Let's test our code\n",
    "nums = [2,4,13,6,33,5,47,4,33]\n",
    "mytarget = 33\n",
    "idx = linearSearch(nums,mytarget)\n",
    "if (idx >= 0):\n",
    "    print(\"The index of %d in the list is %d.\" %(mytarget,idx))\n",
    "else:\n",
    "    print(\"The number %d does not exist in the list.\" %mytarget)"
   ]
  },
  {
   "cell_type": "markdown",
   "metadata": {},
   "source": [
    "### Exercise:\n",
    "\n",
    "Implement the linearSearch function using a while loop."
   ]
  },
  {
   "cell_type": "code",
   "execution_count": null,
   "metadata": {},
   "outputs": [],
   "source": [
    "def linearSearch2(nums, target):\n",
    "    # ---- Start code here ----\n",
    "    # this is a placeholder\n",
    "    return -1 \n",
    "    # ---- End code here ----\n",
    "    \n",
    "# Test your code\n",
    "nums = [2,4,13,45,6,33,5,47,4,33]\n",
    "mytarget = 33\n",
    "idx = linearSearch2(nums,mytarget)\n",
    "if (idx >= 0):\n",
    "    print(\"The index of %d in the list is %d.\" %(mytarget,idx))\n",
    "else:\n",
    "    print(\"The number %d does not exist in the list.\" %mytarget)"
   ]
  },
  {
   "cell_type": "markdown",
   "metadata": {},
   "source": [
    "## Let's make a practice of measuring the running time\n",
    "\n",
    "Besides analyzing the complexity of our algorithms, we will also measure the running time. It will be interesting.\n",
    "\n",
    "In the time module, time.time() gives the current time in seconds, since 1970. "
   ]
  },
  {
   "cell_type": "code",
   "execution_count": 4,
   "metadata": {},
   "outputs": [
    {
     "name": "stdout",
     "output_type": "stream",
     "text": [
      "1605790426.100678\n"
     ]
    }
   ],
   "source": [
    "import time\n",
    "\n",
    "print(time.time())"
   ]
  },
  {
   "cell_type": "markdown",
   "metadata": {},
   "source": [
    "We can use this function to measure the time taken by our program. We are generating a random list of integers and trying to find a random integer in the list using the function we have already written. We will do this test 100 times and take the average running time. "
   ]
  },
  {
   "cell_type": "code",
   "execution_count": 5,
   "metadata": {},
   "outputs": [
    {
     "name": "stdout",
     "output_type": "stream",
     "text": [
      "Average time taken: 0.539343 ms.\n"
     ]
    }
   ],
   "source": [
    "import numpy as np\n",
    "\n",
    "total_time = 0.0\n",
    "n_iterations = 100\n",
    "max = 1000 * 10\n",
    "\n",
    "for x in range(0,n_iterations):\n",
    "    # Create a list of max random integers in the range 0 to max\n",
    "    nums = np.random.randint(0,max,max).tolist()\n",
    "    target = np.random.randint(0,max)\n",
    "    \n",
    "    # Search starts here\n",
    "    start_time = time.time()\n",
    "    idx = linearSearch(nums,target)\n",
    "    end_time = time.time()\n",
    "    total_time = total_time + end_time - start_time\n",
    "\n",
    "avg_time = total_time*1000/n_iterations\n",
    "\n",
    "print(\"Average time taken: %f ms.\" %(avg_time))"
   ]
  },
  {
   "cell_type": "markdown",
   "metadata": {},
   "source": [
    "### Binary Search\n",
    "\n",
    "If a list (of ordered elements, say numbers) is sorted, then we can find an element in a more efficient way. "
   ]
  },
  {
   "cell_type": "code",
   "execution_count": null,
   "metadata": {},
   "outputs": [],
   "source": [
    "def binarySearch(nums, target): \n",
    "    left = 0\n",
    "    right = len(nums)\n",
    "    while left < right: \n",
    "        # Set midpoint halfway between left and right\n",
    "        mid = int((right + left)/2); \n",
    "          \n",
    "        # Return answer if the target is present here\n",
    "        if nums[mid] == target: \n",
    "            return mid \n",
    "  \n",
    "        # If the target is larger than the element in the midpoint, \n",
    "        # ignore the left half, shift left to mid + 1\n",
    "        elif nums[mid] < target: \n",
    "            left = mid + 1\n",
    "  \n",
    "        # If the target is smaller than the element in the midpoint, \n",
    "        # ignore the right half, shift right to mid - 1\n",
    "        else: \n",
    "            right = mid\n",
    "      \n",
    "    # Since the code did not return an index so far, \n",
    "    # the target is not found.\n",
    "    return -1"
   ]
  },
  {
   "cell_type": "markdown",
   "metadata": {},
   "source": [
    "The parameters left and right are optional here, with default values specified. These optional parameters would allow us to specify a specific range of indices to perform binary search on, if we so wish. \n",
    "\n",
    "Let us first test our code for correctness, and then test the performance. "
   ]
  },
  {
   "cell_type": "code",
   "execution_count": null,
   "metadata": {},
   "outputs": [],
   "source": [
    "nums = [1,1,2,2,2,3,4,5,6,7,8,8,8,8,9]\n",
    "mytarget = 7\n",
    "idx = binarySearch(nums,mytarget)\n",
    "if (idx >= 0):\n",
    "    print(\"The index of %d in the list is %d.\" %(mytarget,idx))\n",
    "else:\n",
    "    print(\"The number %d does not exist in the list.\" %mytarget)"
   ]
  },
  {
   "cell_type": "markdown",
   "metadata": {},
   "source": [
    "#### Performance of binary search\n",
    "\n",
    "Now we will test whether binary search performs faster than linear search. We will also check the correctness of our code for all the inputs, assuming our code for linear search was correct. "
   ]
  },
  {
   "cell_type": "code",
   "execution_count": null,
   "metadata": {},
   "outputs": [],
   "source": [
    "import numpy as np\n",
    "\n",
    "total_time = 0.0\n",
    "n_iterations = 100\n",
    "max = 1000 * 100\n",
    "for x in range(0,n_iterations):\n",
    "    # Create a sorted list of max random integers in the range 0 to max\n",
    "    nums = np.sort(np.random.randint(0,max,max)).tolist()\n",
    "    target = np.random.randint(0,max)\n",
    "    \n",
    "    # Search starts here\n",
    "    start_time = time.time()\n",
    "    idx = binarySearch(nums,target)\n",
    "    end_time = time.time()\n",
    "    total_time = total_time + end_time - start_time\n",
    "    \n",
    "    # Check that if we found an index, it is correct. \n",
    "    # If no index was found, cross validate with linear search.\n",
    "    if idx >= 0:\n",
    "        assert nums[idx] == target\n",
    "    else:\n",
    "        assert idx == linearSearch(nums,target)\n",
    "\n",
    "avg_time = total_time*1000/n_iterations\n",
    "\n",
    "print(\"Average time taken: %f ms.\" %(avg_time))"
   ]
  },
  {
   "cell_type": "markdown",
   "metadata": {},
   "source": [
    "#### Exercise\n",
    "\n",
    "Given two lists nums1 and nums2, compute the intersection (common elements) into a list nums."
   ]
  },
  {
   "cell_type": "code",
   "execution_count": null,
   "metadata": {},
   "outputs": [],
   "source": [
    "nums1 = [2,4,13,45,6,33,5,47,4,33]\n",
    "nums1 = [12,14,13,45,16,32,15,47,4,3]\n",
    "\n",
    "# Write code here"
   ]
  }
 ],
 "metadata": {
  "kernelspec": {
   "display_name": "Python 3",
   "language": "python",
   "name": "python3"
  },
  "language_info": {
   "codemirror_mode": {
    "name": "ipython",
    "version": 3
   },
   "file_extension": ".py",
   "mimetype": "text/x-python",
   "name": "python",
   "nbconvert_exporter": "python",
   "pygments_lexer": "ipython3",
   "version": "3.7.3"
  }
 },
 "nbformat": 4,
 "nbformat_minor": 2
}
