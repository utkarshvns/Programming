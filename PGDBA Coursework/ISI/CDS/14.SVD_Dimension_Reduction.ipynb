{
 "cells": [
  {
   "cell_type": "markdown",
   "metadata": {},
   "source": [
    "# Understanding SVD\n",
    "\n",
    "We first try to gain some intuition on SVD using a small toy dataset. Let the following be a user-movie rating dataset where every user has rated every movie. "
   ]
  },
  {
   "cell_type": "code",
   "execution_count": null,
   "metadata": {},
   "outputs": [],
   "source": [
    "import numpy as np\n",
    "import pandas as pd\n",
    "\n",
    "np.set_printoptions(formatter={'float': lambda x: \"{0:0.2f}\".format(x)})\n",
    "\n",
    "# We should look at this data first, and then see what happens when we add another row\n",
    "#df = pd.DataFrame([[1,2,8,9,3,3],[2,1,9,8,4,2],[2,2,6,8,2,3],\n",
    "#                   [9,7,2,3,1,1],[1,1,1,2,8,7],[2,2,3,2,8,8],\n",
    "#                   [7,9,2,2,2,3],[9,8,2,3,1,3]], \n",
    "#                  columns=[\"horror1\",\"horror2\",\"drama1\",\"drama2\",\"art1\",\"art2\"], \n",
    "#                  index=[\"u0\",\"u1\",\"u2\",\"u3\",\"u4\",\"u5\",\"u6\",\"u7\"])\n",
    "\n",
    "\n",
    "# A little change\n",
    "df = pd.DataFrame([[1,2,8,9,3,3],[2,1,9,8,4,2],[2,2,6,8,2,3],\n",
    "                   [9,7,2,3,1,1],[1,1,1,2,8,7],[2,2,3,2,8,8],\n",
    "                   [7,9,2,2,2,3],[9,8,2,3,1,3],[7,1,1,9,2,8]], \n",
    "                  columns=[\"horror1\",\"horror2\",\"drama1\",\"drama2\",\"art1\",\"art2\"], \n",
    "                  index=[\"u0\",\"u1\",\"u2\",\"u3\",\"u4\",\"u5\",\"u6\",\"u7\",\"u8\"])\n",
    "\n",
    "\n",
    "df"
   ]
  },
  {
   "cell_type": "markdown",
   "metadata": {},
   "source": [
    "Let us extract the data in the form of a matrix and subtract the mean from each row. "
   ]
  },
  {
   "cell_type": "code",
   "execution_count": null,
   "metadata": {},
   "outputs": [],
   "source": [
    "A = df.values\n",
    "means = np.mean(A,axis=1).reshape((A.shape[0],1))\n",
    "#print(means)\n",
    "A = A - means\n",
    "print(A)"
   ]
  },
  {
   "cell_type": "markdown",
   "metadata": {},
   "source": [
    "Let us also examine on average what is the rating for each movie."
   ]
  },
  {
   "cell_type": "code",
   "execution_count": null,
   "metadata": {},
   "outputs": [],
   "source": [
    "print(np.mean(A,axis=0))"
   ]
  },
  {
   "cell_type": "markdown",
   "metadata": {},
   "source": [
    "## Compute SVD"
   ]
  },
  {
   "cell_type": "code",
   "execution_count": null,
   "metadata": {},
   "outputs": [],
   "source": [
    "U, S, VT = np.linalg.svd(A, full_matrices=False)\n",
    "\n",
    "print(\"U = \\n\", U, \"\\n\")\n",
    "print(\"S = \", S, \"\\n\")\n",
    "print(\"VT = \\n\", VT, \"\\n\")"
   ]
  },
  {
   "cell_type": "markdown",
   "metadata": {},
   "source": [
    "## Dimension Reduction\n",
    "\n",
    "We project the data onto the first $k$ singular vectors (optionally scaled by the corresponding singular values). This gives us the data in a reduced dimension, but should retain the most important information. "
   ]
  },
  {
   "cell_type": "code",
   "execution_count": null,
   "metadata": {},
   "outputs": [],
   "source": [
    "k = 3\n",
    "#Ak = np.diag(S[:k]) @ np.transpose(U[:,:k]) @ A\n",
    "Ak = np.transpose(U[:,:k])  @ A\n",
    "print(Ak)"
   ]
  },
  {
   "cell_type": "code",
   "execution_count": null,
   "metadata": {},
   "outputs": [],
   "source": []
  }
 ],
 "metadata": {
  "kernelspec": {
   "display_name": "Python 3",
   "language": "python",
   "name": "python3"
  },
  "language_info": {
   "codemirror_mode": {
    "name": "ipython",
    "version": 3
   },
   "file_extension": ".py",
   "mimetype": "text/x-python",
   "name": "python",
   "nbconvert_exporter": "python",
   "pygments_lexer": "ipython3",
   "version": "3.7.3"
  }
 },
 "nbformat": 4,
 "nbformat_minor": 2
}
