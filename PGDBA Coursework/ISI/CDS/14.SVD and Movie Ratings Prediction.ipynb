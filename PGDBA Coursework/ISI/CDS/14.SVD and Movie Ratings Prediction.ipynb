{
 "cells": [
  {
   "cell_type": "markdown",
   "metadata": {},
   "source": [
    "# Ratings prediction using SVD\n",
    "\n",
    "We first try to gain some intuition on SVD using a small toy dataset. Let the following be a user-movie rating dataset where every user has rated every movie. "
   ]
  },
  {
   "cell_type": "code",
   "execution_count": null,
   "metadata": {},
   "outputs": [],
   "source": [
    "import numpy as np\n",
    "import pandas as pd\n",
    "\n",
    "np.set_printoptions(formatter={'float': lambda x: \"{0:0.2f}\".format(x)})\n",
    "\n",
    "#df = pd.DataFrame([[1,2,8,9,3,3],[2,1,9,8,4,2],[2,2,6,8,2,3],\n",
    "#                   [9,7,2,3,1,1],[1,1,1,2,8,7],[2,2,3,2,8,8],\n",
    "#                   [7,9,2,2,2,3],[9,8,2,3,1,3]], \n",
    "#                  columns=[\"horror1\",\"horror2\",\"drama1\",\"drama2\",\"art1\",\"art2\"], \n",
    "#                  index=[\"u0\",\"u1\",\"u2\",\"u3\",\"u4\",\"u5\",\"u6\",\"u7\"])\n",
    "\n",
    "df = pd.DataFrame([[1,2,8,9,3,3],[2,1,9,8,4,2],[2,2,6,8,2,3],\n",
    "                   [9,7,2,3,1,1],[1,1,1,2,8,7],[2,2,3,2,8,8],\n",
    "                   [7,9,2,2,2,3],[9,8,2,3,1,3],[7,1,1,9,2,8]], \n",
    "                  columns=[\"horror1\",\"horror2\",\"drama1\",\"drama2\",\"art1\",\"art2\"], \n",
    "                  index=[\"u0\",\"u1\",\"u2\",\"u3\",\"u4\",\"u5\",\"u6\",\"u7\",\"u8\"])\n",
    "\n",
    "\n",
    "df"
   ]
  },
  {
   "cell_type": "markdown",
   "metadata": {},
   "source": [
    "Let us extract the data in the form of a matrix and subtract the mean from each row. "
   ]
  },
  {
   "cell_type": "code",
   "execution_count": null,
   "metadata": {},
   "outputs": [],
   "source": [
    "A = df.values\n",
    "means = np.mean(A,axis=1).reshape((A.shape[0],1))\n",
    "#print(means)\n",
    "A = A - means\n",
    "print(A)"
   ]
  },
  {
   "cell_type": "markdown",
   "metadata": {},
   "source": [
    "Let us also examine on average what is the rating for each movie."
   ]
  },
  {
   "cell_type": "code",
   "execution_count": null,
   "metadata": {},
   "outputs": [],
   "source": [
    "print(np.mean(A,axis=0))"
   ]
  },
  {
   "cell_type": "markdown",
   "metadata": {},
   "source": [
    "## Compute SVD"
   ]
  },
  {
   "cell_type": "code",
   "execution_count": null,
   "metadata": {},
   "outputs": [],
   "source": [
    "U, S, VT = np.linalg.svd(A, full_matrices=False)\n",
    "\n",
    "print(\"U = \\n\", U, \"\\n\")\n",
    "print(\"S = \", S, \"\\n\")\n",
    "print(\"VT = \\n\", VT, \"\\n\")"
   ]
  },
  {
   "cell_type": "markdown",
   "metadata": {},
   "source": [
    "## Dimension Reduction\n",
    "\n",
    "We project the data onto the first $k$ singular vectors (optionally scaled by the corresponding singular values). This gives us the data in a reduced dimension, but should retain the most important information. "
   ]
  },
  {
   "cell_type": "code",
   "execution_count": null,
   "metadata": {},
   "outputs": [],
   "source": [
    "k = 3\n",
    "Ak = np.diag(S[:k]) @ np.transpose(U[:,:k]) @ A\n",
    "#Ak = np.transpose(U[:,:k])  @ A\n",
    "print(Ak)"
   ]
  },
  {
   "cell_type": "markdown",
   "metadata": {},
   "source": [
    "# Using some real data (MovieLens)"
   ]
  },
  {
   "cell_type": "code",
   "execution_count": null,
   "metadata": {},
   "outputs": [],
   "source": [
    "import numpy as np\n",
    "import pandas as pd\n",
    "\n",
    "ratings = pd.read_csv(\"/Users/debapriyo/Dropbox/data/ml-latest-small/ratings.csv\")\n",
    "ratings"
   ]
  },
  {
   "cell_type": "markdown",
   "metadata": {},
   "source": [
    "## Separate some data for testing \n",
    "\n",
    "We will use this data for our experiments. But first, we need to separate some data so that we can test our methods on that. We create a random partition of the indices. "
   ]
  },
  {
   "cell_type": "code",
   "execution_count": null,
   "metadata": {},
   "outputs": [],
   "source": [
    "# Create the list of indices\n",
    "idx = np.arange(0,len(ratings))\n",
    "\n",
    "# Randomly shuffle them\n",
    "np.random.shuffle(idx)\n",
    "\n",
    "# Size of test data\n",
    "testsize = 5000\n",
    "testidx = idx[0:testsize]\n",
    "trainidx = idx[testsize:]\n",
    "print(testidx)\n",
    "print(trainidx)"
   ]
  },
  {
   "cell_type": "markdown",
   "metadata": {},
   "source": [
    "Now, we partition the dataframe using the two sets of indices. "
   ]
  },
  {
   "cell_type": "code",
   "execution_count": null,
   "metadata": {},
   "outputs": [],
   "source": [
    "# The sample for testing\n",
    "ratings_test = ratings.iloc[testidx]\n",
    "ratings_test"
   ]
  },
  {
   "cell_type": "code",
   "execution_count": null,
   "metadata": {},
   "outputs": [],
   "source": [
    "# The rest of the data\n",
    "ratings = ratings.iloc[trainidx]\n",
    "ratings"
   ]
  },
  {
   "cell_type": "markdown",
   "metadata": {},
   "source": [
    "## Creating the ratings matrix from the data\n",
    "\n",
    "Instead of a 2-D array, we will create a sparse matrix first. We will use the rows as the items and columns as the users. However, we will have to make this matrix dense for some reasons. "
   ]
  },
  {
   "cell_type": "code",
   "execution_count": null,
   "metadata": {},
   "outputs": [],
   "source": [
    "from scipy.sparse import csr_matrix\n",
    "\n",
    "users = ratings[\"userId\"].values.astype(int)\n",
    "movies = ratings[\"movieId\"].values.astype(int)\n",
    "vals = ratings[\"rating\"].values\n",
    "\n",
    "#ii = np.array([1,2,1,2,4])\n",
    "#jj = np.array([1,1,2,3,3])\n",
    "#vv = np.array([1,1,2,3,2])\n",
    "\n",
    "#R = csr_matrix((vv, (ii,jj)))\n",
    "RS = csr_matrix((vals,(users-1,movies-1)))\n",
    "\n",
    "print(\"The data has %d items with %d dimensions (users).\" %(RS.shape[1], RS.shape[0]))"
   ]
  },
  {
   "cell_type": "code",
   "execution_count": null,
   "metadata": {},
   "outputs": [],
   "source": [
    "# Converting it to a dense matrix\n",
    "R = RS.todense()"
   ]
  },
  {
   "cell_type": "markdown",
   "metadata": {},
   "source": [
    "## Fill the zero entries with average ratings \n",
    "\n",
    "The zero entries in this matrix are those for which the corresponding user has not rated the movie. In other words, those ratings are not zero, rather unknown. To start with, we fill the zero entries by the average ratings obtained by the movies (from users who have rated that movie). "
   ]
  },
  {
   "cell_type": "code",
   "execution_count": null,
   "metadata": {},
   "outputs": [],
   "source": [
    "def colmeans(R):\n",
    "    # Sum of the ratings for each movie\n",
    "    sums = np.sum(R, axis=0)\n",
    "    print(sums.shape)\n",
    "\n",
    "    # Number of non-zero entries for each movie (number of ratings)\n",
    "    nzcounts = np.sum(R.astype(bool), axis=0) + 1\n",
    "    print(nzcounts.shape)\n",
    "\n",
    "    # The average ratings for each movie\n",
    "    means = sums/nzcounts\n",
    "    print(means.shape)\n",
    "    \n",
    "    return means"
   ]
  },
  {
   "cell_type": "code",
   "execution_count": null,
   "metadata": {},
   "outputs": [],
   "source": [
    "means = colmeans(R)\n",
    "print(means.shape)"
   ]
  },
  {
   "cell_type": "markdown",
   "metadata": {},
   "source": [
    "### Adding the mean vector (mean rating of each movie) to each column\n",
    "\n",
    "Instead of running through loops, we will use masking. We create a Boolean matrix zero_R such that an entry of zero_R is True if and only if the corresponding entry of R is zero. "
   ]
  },
  {
   "cell_type": "code",
   "execution_count": null,
   "metadata": {},
   "outputs": [],
   "source": [
    "# The boolean matrix (True/False entries) w\n",
    "zero_R = R==0\n",
    "print(zero_R.shape)\n",
    "print(zero_R)"
   ]
  },
  {
   "cell_type": "markdown",
   "metadata": {},
   "source": [
    "Next, we multiply (element wise) zero_R to the broadcasted mean vector to get a matrix where an entry is zero if the corresponding entry in R was non zero, and an entry is the mean rating if the corresponding entry in R was zero (not rated)."
   ]
  },
  {
   "cell_type": "code",
   "execution_count": null,
   "metadata": {},
   "outputs": [],
   "source": [
    "unrated_R = np.multiply(means, zero_R)\n",
    "print(unrated_R.shape)\n",
    "print(unrated_R)"
   ]
  },
  {
   "cell_type": "markdown",
   "metadata": {},
   "source": [
    "Now, we add the unrated part of R with original R. "
   ]
  },
  {
   "cell_type": "code",
   "execution_count": null,
   "metadata": {},
   "outputs": [],
   "source": [
    "R1 = R + unrated_R\n",
    "\n",
    "print(R1)"
   ]
  },
  {
   "cell_type": "markdown",
   "metadata": {},
   "source": [
    "## A naive prediction of ratings by average ratings\n",
    "\n",
    "The matrix R1 is already a naive prediction of the ratings. Let us test how good that is. First, we convert our test data (ratings which are known but were separated in the beginning) into a sparse matrix."
   ]
  },
  {
   "cell_type": "code",
   "execution_count": null,
   "metadata": {},
   "outputs": [],
   "source": [
    "users_test = ratings_test[\"userId\"].values.astype(int)\n",
    "movies_test = ratings_test[\"movieId\"].values.astype(int)\n",
    "vals_test = ratings_test[\"rating\"].values"
   ]
  },
  {
   "cell_type": "markdown",
   "metadata": {},
   "source": [
    "We write a function to compute Root Mean Squared Error (RMSE) for any matrix with same dimensions as R against the test data."
   ]
  },
  {
   "cell_type": "code",
   "execution_count": null,
   "metadata": {},
   "outputs": [],
   "source": [
    "def RMSE_ratings(R_pred, users_test, movies_test, vals_test):\n",
    "    R_pred_selected = R_pred[users_test-1,movies_test-1]\n",
    "    error = R_pred_selected - vals_test\n",
    "    #print(error)\n",
    "    return np.sqrt(np.mean(np.multiply(error,error)))"
   ]
  },
  {
   "cell_type": "markdown",
   "metadata": {},
   "source": [
    "And we test the RMSE with the matrix R1."
   ]
  },
  {
   "cell_type": "code",
   "execution_count": null,
   "metadata": {},
   "outputs": [],
   "source": [
    "import numpy as np\n",
    "from scipy.sparse import csc_matrix\n",
    "\n",
    "#A = np.array([[1,2,3,4],[5,6,7,8],[9,10,11,12]])\n",
    "#B = np.array([[1,0,0,0],[0,0,1,0],[0,1,0,1]])\n",
    "\n",
    "#u = np.array([1,2,1,2,3])\n",
    "#m = np.array([1,0,0,3,2])\n",
    "#v = np.array([0.5,2,1,1.5,2.5])\n",
    "\n",
    "#C = csr_matrix(B)\n",
    "#Z = C != 0\n",
    "\n",
    "print(RMSE_ratings(R1, users_test, movies_test, vals_test))"
   ]
  },
  {
   "cell_type": "markdown",
   "metadata": {},
   "source": [
    "## Back to SVD: Center the data (R1)\n",
    "\n",
    "We center the data by making the mean of all columns zero. "
   ]
  },
  {
   "cell_type": "code",
   "execution_count": null,
   "metadata": {},
   "outputs": [],
   "source": [
    "def centerrows(R1):\n",
    "    # Center the columns (users)\n",
    "    means = np.mean(R1, axis=1)\n",
    "    #print(means)\n",
    "    print(R1.shape)\n",
    "    print(means.shape)\n",
    "    return R1 - means"
   ]
  },
  {
   "cell_type": "code",
   "execution_count": null,
   "metadata": {},
   "outputs": [],
   "source": [
    "R2 = centerrows(R1)\n",
    "print(R2)"
   ]
  },
  {
   "cell_type": "markdown",
   "metadata": {},
   "source": [
    "## SVD \n",
    "\n",
    "Let us compute the SVD of the matrix now. "
   ]
  },
  {
   "cell_type": "code",
   "execution_count": null,
   "metadata": {},
   "outputs": [],
   "source": [
    "U, S, VT = np.linalg.svd(R2, full_matrices=False)\n",
    "\n",
    "print(U.shape, S.shape, VT.shape)"
   ]
  },
  {
   "cell_type": "markdown",
   "metadata": {},
   "source": [
    "# The low rank approximation\n",
    "\n",
    "The low rank approximation is defined by $R_k = U_k S_k V_k^T$. The dimensions will remain the same as before. "
   ]
  },
  {
   "cell_type": "code",
   "execution_count": null,
   "metadata": {},
   "outputs": [],
   "source": [
    "def lowrank(U,S,VT,k):\n",
    "    # Let us fix k\n",
    "\n",
    "    Uk = U[:,:k]\n",
    "    #print(Uk.shape)\n",
    "\n",
    "    Sk = np.diag(S[:k])\n",
    "    #print(Sk.shape)\n",
    "\n",
    "    Vk = VT[:k,:]\n",
    "    #print(Vk.shape)\n",
    "\n",
    "    return Uk @ Sk @ Vk"
   ]
  },
  {
   "cell_type": "markdown",
   "metadata": {},
   "source": [
    "## Moving back the columns from the center\n",
    "\n",
    "Now we need to add the mean of the columns back."
   ]
  },
  {
   "cell_type": "code",
   "execution_count": null,
   "metadata": {},
   "outputs": [],
   "source": [
    "k_range = np.array([2,5,10,20,30,50,75,100])\n",
    "rmse = np.zeros(len(k_range))\n",
    "\n",
    "i = 0\n",
    "for k in k_range:\n",
    "    Rk1 = lowrank(U,S,VT,k) + R1 - R2\n",
    "    # print(Rk1)\n",
    "    rmse[i] = RMSE_ratings(Rk1, users_test, movies_test, vals_test)\n",
    "    print(\"k = \", k, \", RMSE: \", rmse[i])"
   ]
  },
  {
   "cell_type": "code",
   "execution_count": null,
   "metadata": {},
   "outputs": [],
   "source": []
  }
 ],
 "metadata": {
  "kernelspec": {
   "display_name": "Python 3",
   "language": "python",
   "name": "python3"
  },
  "language_info": {
   "codemirror_mode": {
    "name": "ipython",
    "version": 3
   },
   "file_extension": ".py",
   "mimetype": "text/x-python",
   "name": "python",
   "nbconvert_exporter": "python",
   "pygments_lexer": "ipython3",
   "version": "3.8.8"
  }
 },
 "nbformat": 4,
 "nbformat_minor": 2
}
