{
 "cells": [
  {
   "cell_type": "markdown",
   "metadata": {},
   "source": [
    "<center>\n",
    "\n",
    "# Indian Statistical Institute\n",
    "## PGDBA 2020-21 1st Year 1st Semester\n",
    "\n",
    "## Computing for Data Science\n",
    "### Mid Semester Examination\n",
    "\n",
    "\n",
    "\n",
    "### Date: 4 January 2021\n",
    "</center>\n",
    "\n",
    "<b>Submission instruction</b>: Name your file CDS.MidSem.NN.ipynb where NN stands for the last two digits of your roll number. "
   ]
  },
  {
   "cell_type": "code",
   "execution_count": 97,
   "metadata": {},
   "outputs": [],
   "source": [
    "import numpy as np"
   ]
  },
  {
   "cell_type": "markdown",
   "metadata": {},
   "source": [
    "## 1.\n",
    "\n",
    "The following code creates a 2-D numpy array (a matrix) $A$ whose entries are random non-negative integers below 10. "
   ]
  },
  {
   "cell_type": "code",
   "execution_count": 98,
   "metadata": {},
   "outputs": [
    {
     "name": "stdout",
     "output_type": "stream",
     "text": [
      "[[5 7 6]\n",
      " [2 2 8]\n",
      " [1 2 6]]\n"
     ]
    }
   ],
   "source": [
    "n = 3\n",
    "A = np.random.randint(10,size=(n,n))\n",
    "print(A)"
   ]
  },
  {
   "cell_type": "markdown",
   "metadata": {},
   "source": [
    "Complete the code below such that, \n",
    "* The 2-D array $B$ has the same shape as $A$, \n",
    "* $B[i,j] = A[i,j]^2$ if $A[i,j] > 3$, and\n",
    "* $B[i,j] = 0$ otherwise.\n",
    "\n",
    "The number of characters (apart from whitespaces) in the code should be at most 12.\n",
    "\n",
    "<i>Hint:</i> Do not try to use a loop and run through the entries. \n",
    "\n",
    "<b>Example</b>:\n",
    "If $A=$ \n",
    "$\\left[\\begin{matrix}\n",
    "0 & 6 & 2 \\\\ \n",
    "7 & 6 & 0 \\\\\n",
    "0 & 7 & 3\n",
    "\\end{matrix}\\right]$,\n",
    " then $B$ should be \n",
    "$\\left[\\begin{matrix}\n",
    "0 & 36 & 0 \\\\ \n",
    "49 & 36 & 0 \\\\\n",
    "0 & 49 & 0\n",
    "\\end{matrix}\\right]$."
   ]
  },
  {
   "cell_type": "code",
   "execution_count": 99,
   "metadata": {},
   "outputs": [],
   "source": [
    "# BEGIN CODE (at most 12 non-whitespace characters including 'B =') \n",
    "B=A*A*(A>3)\n",
    "# END CODE"
   ]
  },
  {
   "cell_type": "code",
   "execution_count": 100,
   "metadata": {},
   "outputs": [
    {
     "name": "stdout",
     "output_type": "stream",
     "text": [
      "[[25 49 36]\n",
      " [ 0  0 64]\n",
      " [ 0  0 36]]\n"
     ]
    }
   ],
   "source": [
    "print(B)"
   ]
  },
  {
   "cell_type": "markdown",
   "metadata": {},
   "source": [
    "## 2.\n",
    "\n",
    "Let <tt>A</tt> and <tt>B</tt> be two sorted (in the ascending order) integer arrays of size $n_1$ and $n_2$ respectively. Let us assume each of these arrays contain only distinct integers."
   ]
  },
  {
   "cell_type": "code",
   "execution_count": 143,
   "metadata": {},
   "outputs": [
    {
     "name": "stdout",
     "output_type": "stream",
     "text": [
      "[ 0  3  5 10 11 12 13 14 17 18]\n",
      "[ 0  2  4  8  9 11 12 16 17 18 20 22 24 26 29]\n"
     ]
    }
   ],
   "source": [
    "# Parameters n1 and n2\n",
    "n1 = 10\n",
    "n2 = 15\n",
    "\n",
    "# Creating random arrays A and B of the required sizes and sorting them first as per requirement\n",
    "A = np.random.choice(n1*2, n1, replace=False)\n",
    "B = np.random.choice(n2*2, n2, replace=False)\n",
    "A = np.sort(A)\n",
    "B = np.sort(B)\n",
    "print(A)\n",
    "print(B)"
   ]
  },
  {
   "cell_type": "markdown",
   "metadata": {},
   "source": [
    "Let us define the exclusive or (XOR) of two sets $A$ and $B$ as the set of elements which are present in one of the sets, but not both. In other words, $\\mathrm{XOR}(A,B) = (A \\cup B) - (A \\cap B)$.\n",
    "\n",
    "Write a function to compute the <tt>XOR</tt> of two such integer arrays. The complexity of your code should be $O(n_1 + n_2)$. \n",
    "\n",
    "<i>Example:</i> If <tt>A = [1,3,5,7]</tt> and <tt>B = [3,6,9]</tt>, then <tt>XOR(A,B)</tt> should be <tt>[1,5,6,7,9]</tt>."
   ]
  },
  {
   "cell_type": "markdown",
   "metadata": {},
   "source": [
    "### Approach 1 : make a big list and return unique value"
   ]
  },
  {
   "cell_type": "code",
   "execution_count": 144,
   "metadata": {},
   "outputs": [],
   "source": [
    "# Approach 1 : make a big list and return unique value\n",
    "\n",
    "# unique will do sorting so it can take O(logn) or O(n2)\n",
    "\n",
    "\n",
    "def xor(A,B):\n",
    "    return np.unique(np.append(A,B))"
   ]
  },
  {
   "cell_type": "code",
   "execution_count": 145,
   "metadata": {},
   "outputs": [
    {
     "name": "stdout",
     "output_type": "stream",
     "text": [
      "[ 0  2  3  4  5  8  9 10 11 12 13 14 16 17 18 20 22 24 26 29]\n"
     ]
    }
   ],
   "source": [
    "# Test the code\n",
    "print(xor(A,B))"
   ]
  },
  {
   "cell_type": "markdown",
   "metadata": {},
   "source": [
    "### Approach 2\n",
    "\n",
    "###  Step 1: Append both list to form a big list (O(n1+n2) in space and time)\n",
    "###  Step 2: make a dictionary  of values in list (O(n1+n2) in space and time)\n",
    "###  Step 3:return elements with dict values as 1 (O(1) in time as it is lookup from hashtable)\n",
    "###  Overall complexity O(n1+n2)\n",
    "\n",
    "###  Pseudo code is given"
   ]
  },
  {
   "cell_type": "code",
   "execution_count": 149,
   "metadata": {},
   "outputs": [],
   "source": [
    "# Approach 2\n",
    "\n",
    "# Step 1: Append both list to form a big list (O(n1+n2) in space and time)\n",
    "# Step 2: make a dictionary  of values in list (O(n1+n2) in space and time)\n",
    "# Step 3:return elements with dict values as 1 (O(1) in time as it is lookup from hashtable)\n",
    "# Overall complexity O(n1+n2)\n",
    "\n",
    "# This is a pseudo code\n",
    "\n",
    "def xor(A,B):\n",
    "    c = np.append(A,B)\n",
    "    my_dictionary = {}\n",
    "    xor = []\n",
    "    for i in range(len(c)):\n",
    "        if(my_dictionary.get(i)==None):\n",
    "            my_dictionary[i]=1\n",
    "        else:\n",
    "            my_dictionary[i]=my_dictionary[i]+1\n",
    "    for key, value in my_dictionary.items():\n",
    "        if(value == 1):\n",
    "            xor.append(key)\n",
    "    return xor\n"
   ]
  },
  {
   "cell_type": "code",
   "execution_count": 150,
   "metadata": {
    "scrolled": true
   },
   "outputs": [
    {
     "name": "stdout",
     "output_type": "stream",
     "text": [
      "[0, 1, 2, 3, 4, 5, 6, 7, 8, 9, 10, 11, 12, 13, 14, 15, 16, 17, 18, 19, 20, 21, 22, 23, 24]\n"
     ]
    }
   ],
   "source": [
    "# Test the code\n",
    "print(xor(A,B))"
   ]
  },
  {
   "cell_type": "code",
   "execution_count": 153,
   "metadata": {},
   "outputs": [],
   "source": [
    "my_dictionary = {1:2,3:1,4:2}\n",
    "\n",
    "c=[1,5,7,7,2]\n",
    "\n",
    "for i in range(len(c)):\n",
    "        if(my_dictionary.get(i)==None):\n",
    "            my_dictionary[i]=1\n",
    "        else:\n",
    "            my_dictionary[i]=my_dictionary[i]+1"
   ]
  },
  {
   "cell_type": "code",
   "execution_count": 162,
   "metadata": {},
   "outputs": [
    {
     "name": "stdout",
     "output_type": "stream",
     "text": [
      "not found\n"
     ]
    },
    {
     "data": {
      "text/plain": [
       "1"
      ]
     },
     "execution_count": 162,
     "metadata": {},
     "output_type": "execute_result"
    }
   ],
   "source": [
    "my_dictionary = {}\n",
    "\n",
    "if(my_dictionary.get(1)==None):\n",
    "    print(\"not found\")\n",
    "    my_dictionary[1]=1\n",
    "    \n",
    "my_dictionary[1]"
   ]
  },
  {
   "cell_type": "code",
   "execution_count": 157,
   "metadata": {},
   "outputs": [
    {
     "data": {
      "text/plain": [
       "[]"
      ]
     },
     "execution_count": 157,
     "metadata": {},
     "output_type": "execute_result"
    }
   ],
   "source": [
    "my_dictionary.get(1)\n",
    "\n",
    "xor = []\n",
    "for key, value in my_dictionary.items():\n",
    "    print(key,value)\n",
    "    if(value == 1):\n",
    "            xor.append(key)\n",
    "# for key in my_dictionary:\n",
    "#     print(key,my_dictionary(key))\n",
    "xor"
   ]
  },
  {
   "cell_type": "markdown",
   "metadata": {},
   "source": [
    "## 3. \n",
    "\n",
    "Given a $3 \\times n$ matrix$A$ with rank $3$ ($3 \\leq n$), write a function to choose $3$ columns from $A$ to form a basis of $\\mathbb{R}^3$. You are free to use functions from numpy. Return your choice of columns in matrix the $3 \\times 3$ matrix $B$."
   ]
  },
  {
   "cell_type": "markdown",
   "metadata": {},
   "source": [
    "### Approach\n",
    "\n",
    "### Step1: Select any of 3 columns of the matrix (nC3 combination of columns)\n",
    "### Step2: Create a 3X3 Matrix with above selected three columns\n",
    "### Step3: Calculate Determinant if it is non zero then columns are linearly independent and will span R3 space\n",
    "### Step4: Return the matrix with these 3 columns"
   ]
  },
  {
   "cell_type": "code",
   "execution_count": 106,
   "metadata": {},
   "outputs": [],
   "source": [
    "# Approach\n",
    "\n",
    "# Step1: Select any of 3 columns of the matrix (nC3 combination of columns)\n",
    "# Step2: Create a 3X3 Matrix with above selected three columns\n",
    "# Step3: Calculate Determinant if it is non zero then columns are linearly independent and will span R3 space \n",
    "# Step4: Return the matrix with these 3 columns\n",
    "\n",
    "def basis(A):\n",
    "    AT = np.transpose(A)\n",
    "    for i in range(AT.shape[0]-2):                      #First vector from any first n-2 column\n",
    "        for j in range (i+1, AT.shape[0]-1):            #Second vector from beyond the 1st chosen column to n-1th column\n",
    "            for k in range(j+1,AT.shape[0]):            #Third vector from beyond the 2nd chosen column to nth column    \n",
    "                B = np.array([AT[i],AT[j],AT[k]])       # In this way we see all nC3 combination\n",
    "                if(np.linalg.det(B)!=0):            # We return the first time we encounter 3 columns with non zero determinant\n",
    "                    return np.transpose(B)"
   ]
  },
  {
   "cell_type": "code",
   "execution_count": 107,
   "metadata": {},
   "outputs": [
    {
     "name": "stdout",
     "output_type": "stream",
     "text": [
      "[[9 5 7 9 5 1 6 8 8 4 8 2 2 9 4 3 5 2 1 8 9 7 6 2 5 5 2 7 4 3]\n",
      " [1 1 0 9 6 2 8 3 5 9 4 8 5 3 1 7 7 1 8 5 7 9 5 2 7 5 9 6 6 4]\n",
      " [4 4 3 1 1 9 8 2 8 0 2 1 6 3 5 9 2 9 3 9 7 1 2 1 7 9 9 8 2 3]]\n",
      "[[9 5 7]\n",
      " [1 1 0]\n",
      " [4 4 3]]\n"
     ]
    }
   ],
   "source": [
    "n = 30\n",
    "A = np.random.randint(10,size=(3,n))\n",
    "print(A)\n",
    "\n",
    "B = basis(A)\n",
    "print(B)"
   ]
  },
  {
   "cell_type": "code",
   "execution_count": 108,
   "metadata": {},
   "outputs": [],
   "source": [
    "# Some Rough work for writing above function\n",
    "\n",
    "\n",
    "\n",
    "# AT = np.transpose(A)\n",
    "# AT.shape[0]\n",
    "\n",
    "# print(AT[0])\n",
    "\n",
    "# B= np.array([AT[0],AT[1],AT[2]])\n",
    "\n",
    "# print(B)\n",
    "\n",
    "# print(np.linalg.det(B))\n",
    "\n",
    "# print(np.array(range(AT.shape[0]-2)))"
   ]
  },
  {
   "cell_type": "code",
   "execution_count": null,
   "metadata": {},
   "outputs": [],
   "source": []
  }
 ],
 "metadata": {
  "kernelspec": {
   "display_name": "Python 3",
   "language": "python",
   "name": "python3"
  },
  "language_info": {
   "codemirror_mode": {
    "name": "ipython",
    "version": 3
   },
   "file_extension": ".py",
   "mimetype": "text/x-python",
   "name": "python",
   "nbconvert_exporter": "python",
   "pygments_lexer": "ipython3",
   "version": "3.8.5"
  }
 },
 "nbformat": 4,
 "nbformat_minor": 4
}
