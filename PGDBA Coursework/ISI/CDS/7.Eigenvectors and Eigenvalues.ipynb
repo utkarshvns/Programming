{
 "cells": [
  {
   "cell_type": "markdown",
   "metadata": {},
   "source": [
    "# Eigenvectors and Eigenvalues\n",
    "\n",
    "To understand eigenvectors and eigenvalues, we will first examine how different transformations work on vectors of different directions. In particular, we want to see which vectors remain along the same line after transformation. \n",
    "\n",
    "Along the same direction, it makes sense to consider only the unit vector, because if the unit vector retains its direction, all vectors along that line will also retain the direction after transformation."
   ]
  },
  {
   "cell_type": "code",
   "execution_count": null,
   "metadata": {},
   "outputs": [],
   "source": [
    "import matplotlib.pyplot as plt\n",
    "import numpy as np\n",
    "\n",
    "# Generating 12 unit vectors in different directions.\n",
    "S = np.transpose(np.array([[np.cos(np.deg2rad(t)), np.sin(np.deg2rad(t))] for t in range(0,361,30)]))"
   ]
  },
  {
   "cell_type": "code",
   "execution_count": null,
   "metadata": {},
   "outputs": [],
   "source": [
    "# A function for plotting the vectors and the transformed vectors\n",
    "# (will only work for this picture, or any transformation of this)\n",
    "def plotP(S,T):\n",
    "    fig=plt.figure(figsize=(5, 5), dpi= 80, facecolor='w', edgecolor='k')\n",
    "    ax = plt.subplot(111)\n",
    "    #ax.plot([-3,3],[0,0],'k--')\n",
    "    #ax.plot([0,0],[-3,3],'k--')\n",
    "    for i in range(T.shape[1]):\n",
    "        ax.plot([0,S[0,i]], [0,S[1,i]], color='0.75', linewidth='6.0')\n",
    "        ax.plot([0,T[0,i]], [0,T[1,i]], 'b--', linewidth='2.0')\n",
    "        \n",
    "    #ax.plot(R[0,0:5], R[1,0:5], 'b-')\n",
    "    # ax.plot(T[0,2:4], T[1,2:4], 'b-')\n",
    "    ax.set_aspect(1.0)\n",
    "    ax.grid()\n",
    "    plt.axis([-2,2,-2,2])\n",
    "    plt.show()"
   ]
  },
  {
   "cell_type": "markdown",
   "metadata": {},
   "source": [
    "## The identity transformation\n",
    "\n",
    "The identity transformation keeps all vectors the same. All vectors retain their directions. In other words, all vectors are scaled by 1."
   ]
  },
  {
   "cell_type": "code",
   "execution_count": null,
   "metadata": {},
   "outputs": [],
   "source": [
    "# Let us see the picture\n",
    "plotP(S,S)"
   ]
  },
  {
   "cell_type": "markdown",
   "metadata": {},
   "source": [
    "## Scaling with a diagonal matrix\n",
    "\n",
    "The matrix $\\left[ \\begin{matrix}0.5 & 0 \\\\ 0 & 2\\end{matrix} \\right]$ scales the unit vectors (1,0) and (0,1). All other vectors are transformed to different directions."
   ]
  },
  {
   "cell_type": "code",
   "execution_count": null,
   "metadata": {},
   "outputs": [],
   "source": [
    "A = np.array([[0.5,0],[0,2]])\n",
    "\n",
    "plotP(S, np.dot(A,S))"
   ]
  },
  {
   "cell_type": "markdown",
   "metadata": {},
   "source": [
    "## The sheer\n",
    "\n",
    "The matrix $\\left[ \\begin{matrix}1 & 1 \\\\ 0 & 1\\end{matrix} \\right]$ scales the unit vectors (1,0) along the same direction by 1. All other vectors are transformed to different directions."
   ]
  },
  {
   "cell_type": "code",
   "execution_count": null,
   "metadata": {
    "scrolled": true
   },
   "outputs": [],
   "source": [
    "A = np.array([[1,1],[0,1]])\n",
    "\n",
    "plotP(S, np.dot(A,S))"
   ]
  },
  {
   "cell_type": "markdown",
   "metadata": {},
   "source": [
    "## Rotation\n",
    "\n",
    "A rotation (other than 180 degree or 360 degree) changes the direction for all vectors. "
   ]
  },
  {
   "cell_type": "code",
   "execution_count": null,
   "metadata": {},
   "outputs": [],
   "source": [
    "A = np.array([[np.cos(np.pi/5),-np.sin(np.pi/5)],[np.sin(np.pi/5),np.cos(np.pi/5)]])\n",
    "\n",
    "plotP(S, np.dot(A,S))"
   ]
  },
  {
   "cell_type": "markdown",
   "metadata": {},
   "source": [
    "## Eigenvectors and eigenvalues\n",
    "\n",
    "Eigenvectors are the vectors which retain their direction (in other words, just scaled by some scalar) by the transformation. For each eigenvector, the factor of scaling is the corresponding eigenvalue. \n",
    "\n",
    "(For details, refer to the slides)"
   ]
  },
  {
   "cell_type": "markdown",
   "metadata": {},
   "source": [
    "# Application of Eigen-decomposition\n",
    "\n",
    "## Population grown model\n",
    "\n",
    "A population of rabbits has the following characteristics.\n",
    "\n",
    "a. Half of the rabbits survive their first year. Of those, half survive their second year.\n",
    "The maximum life span is 3 years.\n",
    "\n",
    "b. During the first year, the rabbits produce no offspring. The average number of\n",
    "offspring is 6 during the second year and 8 during the third year.\n",
    "\n",
    "The population now consists of 24 rabbits in the first age class, 24 in the second,\n",
    "and 20 in the third. \n",
    "\n",
    "How many rabbits will there be in each age class in 1 year? What would be a stable population distribution? "
   ]
  },
  {
   "cell_type": "markdown",
   "metadata": {},
   "source": [
    "We start by defining the transition matrix $A$ and the current age distribution ${\\bf x}$."
   ]
  },
  {
   "cell_type": "code",
   "execution_count": null,
   "metadata": {},
   "outputs": [],
   "source": [
    "A = np.array([[0, 6, 8], [0.5, 0, 0], [0, 0.5, 0]])\n",
    "x = np.array([24, 24, 20])\n",
    "\n",
    "print(A)\n",
    "print(x)"
   ]
  },
  {
   "cell_type": "markdown",
   "metadata": {},
   "source": [
    "After one year, the expected age distribution will be: "
   ]
  },
  {
   "cell_type": "code",
   "execution_count": null,
   "metadata": {},
   "outputs": [],
   "source": [
    "print(np.dot(A,x))"
   ]
  },
  {
   "cell_type": "markdown",
   "metadata": {},
   "source": [
    "## Let us find the eigenvalues and eigenvectors"
   ]
  },
  {
   "cell_type": "code",
   "execution_count": null,
   "metadata": {},
   "outputs": [],
   "source": [
    "V, Q = np.linalg.eig(A)\n",
    "print(Q)\n",
    "print(V)"
   ]
  },
  {
   "cell_type": "markdown",
   "metadata": {},
   "source": [
    "Now let us compute $A^k$ using the formula $A^k = Q V^k Q^{-1}$, and then multiply ${\\bf x}$ by $A^k$."
   ]
  },
  {
   "cell_type": "code",
   "execution_count": null,
   "metadata": {},
   "outputs": [],
   "source": [
    "k = 10\n",
    "\n",
    "Vk = np.power(V,k)\n",
    "\n",
    "#print(Vk)\n",
    "\n",
    "Ak = Q @ np.diag(Vk) @ np.linalg.inv(Q)\n",
    "\n",
    "#print(Ak)\n",
    "\n",
    "xk = Ak @ x\n",
    "\n",
    "print(xk)"
   ]
  },
  {
   "cell_type": "code",
   "execution_count": null,
   "metadata": {},
   "outputs": [],
   "source": []
  }
 ],
 "metadata": {
  "kernelspec": {
   "display_name": "Python 3",
   "language": "python",
   "name": "python3"
  },
  "language_info": {
   "codemirror_mode": {
    "name": "ipython",
    "version": 3
   },
   "file_extension": ".py",
   "mimetype": "text/x-python",
   "name": "python",
   "nbconvert_exporter": "python",
   "pygments_lexer": "ipython3",
   "version": "3.7.3"
  }
 },
 "nbformat": 4,
 "nbformat_minor": 2
}
