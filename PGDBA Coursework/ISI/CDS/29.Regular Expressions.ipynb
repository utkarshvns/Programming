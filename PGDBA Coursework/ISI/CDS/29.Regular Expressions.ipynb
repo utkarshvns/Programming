{
 "cells": [
  {
   "cell_type": "markdown",
   "metadata": {},
   "source": [
    "# Regular expressions in Python"
   ]
  },
  {
   "cell_type": "code",
   "execution_count": 2,
   "metadata": {},
   "outputs": [],
   "source": [
    "import re"
   ]
  },
  {
   "cell_type": "markdown",
   "metadata": {},
   "source": [
    "## Functionalities \n",
    "\n",
    "<tt> findall</tt>: Returns a list containing all matches. <br>\n",
    "<tt> search</tt>: Returns a <tt>Match</tt> object if there is a match anywhere in the string. <br>\n",
    "<tt> split</tt>: Returns a list where the string has been split at each match. <br>\n",
    "<tt> sub</tt>: Replaces one or many matches with a string. <br>\n",
    "    \n",
    "Let us test these functions with a simple pattern first. "
   ]
  },
  {
   "cell_type": "code",
   "execution_count": 3,
   "metadata": {},
   "outputs": [],
   "source": [
    "text = \"Do not start the blame game.\""
   ]
  },
  {
   "cell_type": "code",
   "execution_count": 4,
   "metadata": {},
   "outputs": [
    {
     "name": "stdout",
     "output_type": "stream",
     "text": [
      "['ame', 'ame']\n"
     ]
    }
   ],
   "source": [
    "matches = re.findall(\"ame\", text)\n",
    "print(matches)"
   ]
  },
  {
   "cell_type": "code",
   "execution_count": 5,
   "metadata": {},
   "outputs": [
    {
     "name": "stdout",
     "output_type": "stream",
     "text": [
      "<re.Match object; span=(19, 22), match='ame'>\n"
     ]
    }
   ],
   "source": [
    "match = re.search(\"ame\", text)\n",
    "print(match)"
   ]
  },
  {
   "cell_type": "code",
   "execution_count": 6,
   "metadata": {},
   "outputs": [
    {
     "name": "stdout",
     "output_type": "stream",
     "text": [
      "['Do not start the bl', ' g', '.']\n"
     ]
    }
   ],
   "source": [
    "tokens = re.split(\"ame\", text)\n",
    "\n",
    "# Also works:\n",
    "# text.split(\"ame\") \n",
    "\n",
    "print(tokens)"
   ]
  },
  {
   "cell_type": "code",
   "execution_count": 7,
   "metadata": {},
   "outputs": [
    {
     "name": "stdout",
     "output_type": "stream",
     "text": [
      "Do not start the blxyz gxyz.\n"
     ]
    }
   ],
   "source": [
    "changed_text = re.sub(\"ame\",\"xyz\", text)\n",
    "print(changed_text)"
   ]
  },
  {
   "cell_type": "markdown",
   "metadata": {},
   "source": [
    "## Metacharacters\n",
    "\n",
    "<tt>[]</tt> : \tA set of characters.<br>\n",
    "\n",
    "The following are sets of characters. <br>\n",
    "<tt>[arn]</tt> :\tReturns a match where one of the specified characters (a, r, or n) are present. <br>\n",
    "<tt>[a-n]</tt> :\tReturns a match for any lower case character, alphabetically between a and n. <br>\n",
    "<tt>[^arn]</tt> :\tReturns a match for any character EXCEPT a, r, and n. <br>\n",
    "<tt>[0123]</tt> :\tReturns a match where any of the specified digits (0, 1, 2, or 3) are present. <br>\n",
    "<tt>[0-9]</tt> :\tReturns a match for any digit between 0 and 9. <br>\n",
    "<tt>[0-5][0-9]</tt> :\tReturns a match for any two-digit numbers from 00 and 59. <br>\n",
    "<tt>[a-zA-Z]</tt> :\tReturns a match for any character alphabetically between a and z, lower case OR upper case. <br>\n",
    "<tt>[+]</tt> :\tIn sets, <tt>+, *, ., |, (), $,{}</tt> has no special meaning, so <tt>[+]</tt> means: return a match for any <tt>+</tt> character in the string. <br>"
   ]
  },
  {
   "cell_type": "code",
   "execution_count": 10,
   "metadata": {},
   "outputs": [
    {
     "name": "stdout",
     "output_type": "stream",
     "text": [
      "['s', 'l']\n"
     ]
    }
   ],
   "source": [
    "matches = re.findall(\"[sl]\", text)\n",
    "print(matches)"
   ]
  },
  {
   "cell_type": "code",
   "execution_count": 11,
   "metadata": {},
   "outputs": [],
   "source": [
    "text = \"Customers can contact at customerservice@company.com, or call Toll-free at +91-1234567890.\""
   ]
  },
  {
   "cell_type": "code",
   "execution_count": 14,
   "metadata": {},
   "outputs": [
    {
     "name": "stdout",
     "output_type": "stream",
     "text": [
      "['C', 'u', 's', 't', 'o', 'm', 'e', 'r', 's', 'c', 'a', 'n', 'c', 'o', 'n', 't', 'a', 'c', 't', 'a', 't', 'c', 'u', 's', 't', 'o', 'm', 'e', 'r', 's', 'e', 'r', 'v', 'i', 'c', 'e', 'c', 'o', 'm', 'p', 'a', 'n', 'y', 'c', 'o', 'm', 'o', 'r', 'c', 'a', 'l', 'l', 'T', 'o', 'l', 'l', 'f', 'r', 'e', 'e', 'a', 't', '9', '1', '1', '2', '3', '4', '5', '6', '7', '8', '9', '0']\n"
     ]
    }
   ],
   "source": [
    "#consonants = re.findall(\"[a-z]\",text)\n",
    "consonants = re.findall(\"[A-Za-z0-9]\",text)\n",
    "print(consonants)"
   ]
  },
  {
   "cell_type": "code",
   "execution_count": 17,
   "metadata": {},
   "outputs": [
    {
     "name": "stdout",
     "output_type": "stream",
     "text": [
      "['C', ' ', 'a', ' ', 'a', ' ', 'a', ' ', '@', 'a', '.', ',', ' ', ' ', 'a', ' ', 'T', '-', ' ', 'a', ' ', '+', '9', '1', '-', '1', '2', '3', '4', '5', '6', '7', '8', '9', '0', '.']\n"
     ]
    }
   ],
   "source": [
    "m = re.findall(\"[^c-z]\",text)\n",
    "print(m)"
   ]
  },
  {
   "cell_type": "code",
   "execution_count": 20,
   "metadata": {},
   "outputs": [
    {
     "name": "stdout",
     "output_type": "stream",
     "text": [
      "['cu']\n"
     ]
    }
   ],
   "source": [
    "m = re.findall(\"[c-f][u-z]\",text)\n",
    "print(m)"
   ]
  },
  {
   "cell_type": "markdown",
   "metadata": {},
   "source": [
    "<tt>\\</tt> :\tSignals a special sequence (can also be used to escape special characters)<br>\n",
    "\n",
    "<tt>\\A</tt> :\tReturns a match if the specified characters are at the beginning of the string\t\"\\AThe\"\t<br> \n",
    "\n",
    "<tt>\\b</tt> :\tReturns a match where the specified characters are at the beginning or at the end of a word <br>\n",
    "(the \"r\" in the beginning is making sure that the string is being treated as a \"raw string\")\tr\"\\bain\"\n",
    "r\"ain\\b\"\t<br>\n",
    "\n",
    "<tt>\\B </tt> :\tReturns a match where the specified characters are present, but NOT at the beginning (or at the end) of a word<br>\n",
    "(the \"r\" in the beginning is making sure that the string is being treated as a \"raw string\")\tr\"\\Bain\"\n",
    "r\"ain\\B\"\t<br>\n",
    "\n",
    "<tt>\\d </tt> :\tReturns a match where the string contains digits (numbers from 0-9)\t\"\\d\"<br>\n",
    "\n",
    "<tt>\\D </tt> :\tReturns a match where the string DOES NOT contain digits\t\"\\D\" <br>\n",
    "\n",
    "<tt>\\s </tt> :\tReturns a match where the string contains a white space character\t\"\\s\"\t<br>\n",
    "\n",
    "<tt>\\S</tt> :\tReturns a match where the string DOES NOT contain a white space character\t\"\\S\"\t<br>\n",
    "\n",
    "<tt>\\w</tt> :\tReturns a match where the string contains any word characters (characters from a to Z, digits from 0-9, and the underscore _ character)\t\"\\w\"\t<br>\n",
    "\n",
    "<tt>\\W </tt> :\tReturns a match where the string DOES NOT contain any word characters\t\"\\W\" <br>\n",
    "\n",
    "<tt>\\Z </tt> :\tReturns a match if the specified characters are at the end of the string\t\"Spain\\Z\" <br>"
   ]
  },
  {
   "cell_type": "code",
   "execution_count": 21,
   "metadata": {},
   "outputs": [
    {
     "name": "stdout",
     "output_type": "stream",
     "text": [
      "['1234', '5678']\n"
     ]
    }
   ],
   "source": [
    "m = re.findall(\"[\\d][\\d][\\d][\\d]\",text)\n",
    "print(m)\n",
    "\n",
    "m = re.findall(\".\",text)"
   ]
  },
  {
   "cell_type": "markdown",
   "metadata": {},
   "source": [
    "### More metacharacters\n",
    "\n",
    "<tt>.</tt> :\tAny character (except newline character) \"he..o\"\t<br>\n",
    "\n",
    "<tt>^</tt> :\tStarts with\t\"^hello\" <br>\n",
    "\n",
    "<tt>\\$</tt> :\tEnds with\t\"world$\"\t<br>\n",
    "    \n",
    "<tt>\\*</tt> :\tZero or more occurrences\t\"aix*\"\t<br>\n",
    "\n",
    "<tt>+</tt> :\tOne or more occurrences\t\"aix+\"\t<br>\n",
    "\n",
    "<tt>{}</tt> :\tExactly the specified number of occurrences\t\"al{2}\"\t<br>\n",
    "\n",
    "<tt>|</tt> :\tEither or\t\"falls|stays\"\t<br>\n",
    "    \n",
    "<tt>() </tt> :\tCapture and group"
   ]
  },
  {
   "cell_type": "code",
   "execution_count": 22,
   "metadata": {},
   "outputs": [
    {
     "name": "stdout",
     "output_type": "stream",
     "text": [
      "['91', '1234567890']\n"
     ]
    }
   ],
   "source": [
    "m = re.findall(\"\\d+\",text)\n",
    "print(m)"
   ]
  },
  {
   "cell_type": "code",
   "execution_count": 24,
   "metadata": {},
   "outputs": [
    {
     "name": "stdout",
     "output_type": "stream",
     "text": [
      "['123-345']\n"
     ]
    }
   ],
   "source": [
    "# Let's try to match the whole phone number\n",
    "phone = \"The phone number is 123-345-567.\"\n",
    "# phone = \"The phone number is 123-\"\n",
    "phone1 = \"12345 34532\"\n",
    "\n",
    "m = re.findall(\"\\d+-\\d+\",phone)\n",
    "print(m)"
   ]
  },
  {
   "cell_type": "markdown",
   "metadata": {},
   "source": [
    "## Let us try to extract email IDs"
   ]
  },
  {
   "cell_type": "code",
   "execution_count": 94,
   "metadata": {},
   "outputs": [],
   "source": [
    "text = \"Customers can contact at customer.service@company.com.au, or call Toll-free at +91-1234567890.\""
   ]
  },
  {
   "cell_type": "code",
   "execution_count": 95,
   "metadata": {},
   "outputs": [
    {
     "name": "stdout",
     "output_type": "stream",
     "text": [
      "['customer.service@company.....com.au']\n"
     ]
    }
   ],
   "source": [
    "# Simplest one\n",
    "emails = re.findall(\"\\w[\\.\\w-]+@[\\w\\.]+\\w+\", text)\n",
    "\n",
    "print(emails)"
   ]
  },
  {
   "cell_type": "code",
   "execution_count": null,
   "metadata": {},
   "outputs": [],
   "source": []
  },
  {
   "cell_type": "code",
   "execution_count": null,
   "metadata": {},
   "outputs": [],
   "source": []
  }
 ],
 "metadata": {
  "kernelspec": {
   "display_name": "Python 3",
   "language": "python",
   "name": "python3"
  },
  "language_info": {
   "codemirror_mode": {
    "name": "ipython",
    "version": 3
   },
   "file_extension": ".py",
   "mimetype": "text/x-python",
   "name": "python",
   "nbconvert_exporter": "python",
   "pygments_lexer": "ipython3",
   "version": "3.8.5"
  }
 },
 "nbformat": 4,
 "nbformat_minor": 4
}
