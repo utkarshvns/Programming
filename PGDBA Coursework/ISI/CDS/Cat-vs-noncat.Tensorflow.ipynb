{
 "cells": [
  {
   "cell_type": "markdown",
   "metadata": {
    "id": "QyyFXlMKIPFY"
   },
   "source": [
    "# Cat vs Non-cat classification using Tensorflow"
   ]
  },
  {
   "cell_type": "markdown",
   "metadata": {
    "id": "oiOf7R1dIWE-"
   },
   "source": [
    "The imports. "
   ]
  },
  {
   "cell_type": "code",
   "execution_count": 2,
   "metadata": {
    "colab": {
     "base_uri": "https://localhost:8080/"
    },
    "executionInfo": {
     "elapsed": 1391,
     "status": "ok",
     "timestamp": 1611833623782,
     "user": {
      "displayName": "Debapriyo Majumdar",
      "photoUrl": "https://lh3.googleusercontent.com/-27XCrbxqp0c/AAAAAAAAAAI/AAAAAAACj60/QkRLriepZzA/s64/photo.jpg",
      "userId": "00543863801161595698"
     },
     "user_tz": -330
    },
    "id": "s5SLMTOl3Qs2",
    "outputId": "485c1659-0742-4a0b-d4f1-7066c1ed2b20"
   },
   "outputs": [
    {
     "name": "stdout",
     "output_type": "stream",
     "text": [
      "The autoreload extension is already loaded. To reload it, use:\n",
      "  %reload_ext autoreload\n"
     ]
    }
   ],
   "source": [
    "import numpy as np\n",
    "import h5py\n",
    "import matplotlib.pyplot as plt\n",
    "import time\n",
    "import scipy\n",
    "from PIL import Image\n",
    "from scipy import ndimage\n",
    "\n",
    "%matplotlib inline\n",
    "plt.rcParams['figure.figsize'] = (5.0, 4.0) # set default size of plots\n",
    "plt.rcParams['image.interpolation'] = 'nearest'\n",
    "plt.rcParams['image.cmap'] = 'gray'\n",
    "\n",
    "%load_ext autoreload\n",
    "%autoreload 2"
   ]
  },
  {
   "cell_type": "markdown",
   "metadata": {
    "id": "wTOl6RPPIYvE"
   },
   "source": [
    "The following few cells are for loading the dataset and previewing some images. "
   ]
  },
  {
   "cell_type": "code",
   "execution_count": 11,
   "metadata": {
    "executionInfo": {
     "elapsed": 1213,
     "status": "ok",
     "timestamp": 1611833629081,
     "user": {
      "displayName": "Debapriyo Majumdar",
      "photoUrl": "https://lh3.googleusercontent.com/-27XCrbxqp0c/AAAAAAAAAAI/AAAAAAACj60/QkRLriepZzA/s64/photo.jpg",
      "userId": "00543863801161595698"
     },
     "user_tz": -330
    },
    "id": "N5hM-FJT3lAR"
   },
   "outputs": [],
   "source": [
    "def load_dataset():\n",
    "    !wget 'https://raw.githubusercontent.com/CNN-ADF/Task2019/master/resources/catvnoncat.h5'\n",
    "    dataset = h5py.File('catvnoncat.h5', \"r\")\n",
    "\n",
    "    train_x_orig = np.array(dataset[\"X_train\"][:]) # your train set features\n",
    "    train_y = np.array(dataset[\"y_train\"][:]) # your train set labels\n",
    "    test_x_orig = np.array(dataset[\"X_val\"][:]) # your test set features\n",
    "    test_y = np.array(dataset[\"y_val\"][:]) # your test set labels\n",
    "    classes = np.array(dataset[\"classes\"][:]) # the list of classes\n",
    "    \n",
    "    return train_x_orig, train_y, test_x_orig, test_y, classes"
   ]
  },
  {
   "cell_type": "code",
   "execution_count": 12,
   "metadata": {
    "colab": {
     "base_uri": "https://localhost:8080/"
    },
    "executionInfo": {
     "elapsed": 1789,
     "status": "ok",
     "timestamp": 1611833635856,
     "user": {
      "displayName": "Debapriyo Majumdar",
      "photoUrl": "https://lh3.googleusercontent.com/-27XCrbxqp0c/AAAAAAAAAAI/AAAAAAACj60/QkRLriepZzA/s64/photo.jpg",
      "userId": "00543863801161595698"
     },
     "user_tz": -330
    },
    "id": "MlSakGZt3mA2",
    "outputId": "05de311a-4225-4d77-c5f6-806e3b81e4c9"
   },
   "outputs": [
    {
     "ename": "OSError",
     "evalue": "Unable to open file (unable to open file: name = 'catvnoncat.h5', errno = 2, error message = 'No such file or directory', flags = 0, o_flags = 0)",
     "output_type": "error",
     "traceback": [
      "\u001b[1;31m---------------------------------------------------------------------------\u001b[0m",
      "\u001b[1;31mOSError\u001b[0m                                   Traceback (most recent call last)",
      "\u001b[1;32m<ipython-input-12-155b498c1005>\u001b[0m in \u001b[0;36m<module>\u001b[1;34m\u001b[0m\n\u001b[1;32m----> 1\u001b[1;33m \u001b[0mtrain_x_orig\u001b[0m\u001b[1;33m,\u001b[0m \u001b[0mtrain_y\u001b[0m\u001b[1;33m,\u001b[0m \u001b[0mtest_x_orig\u001b[0m\u001b[1;33m,\u001b[0m \u001b[0mtest_y\u001b[0m\u001b[1;33m,\u001b[0m \u001b[0mclasses\u001b[0m \u001b[1;33m=\u001b[0m \u001b[0mload_dataset\u001b[0m\u001b[1;33m(\u001b[0m\u001b[1;33m)\u001b[0m\u001b[1;33m\u001b[0m\u001b[1;33m\u001b[0m\u001b[0m\n\u001b[0m",
      "\u001b[1;32m<ipython-input-11-157146351e77>\u001b[0m in \u001b[0;36mload_dataset\u001b[1;34m()\u001b[0m\n\u001b[0;32m      1\u001b[0m \u001b[1;32mdef\u001b[0m \u001b[0mload_dataset\u001b[0m\u001b[1;33m(\u001b[0m\u001b[1;33m)\u001b[0m\u001b[1;33m:\u001b[0m\u001b[1;33m\u001b[0m\u001b[1;33m\u001b[0m\u001b[0m\n\u001b[0;32m      2\u001b[0m \u001b[1;31m#     !wget 'https://raw.githubusercontent.com/CNN-ADF/Task2019/master/resources/catvnoncat.h5'\u001b[0m\u001b[1;33m\u001b[0m\u001b[1;33m\u001b[0m\u001b[1;33m\u001b[0m\u001b[0m\n\u001b[1;32m----> 3\u001b[1;33m     \u001b[0mdataset\u001b[0m \u001b[1;33m=\u001b[0m \u001b[0mh5py\u001b[0m\u001b[1;33m.\u001b[0m\u001b[0mFile\u001b[0m\u001b[1;33m(\u001b[0m\u001b[1;34m'catvnoncat.h5'\u001b[0m\u001b[1;33m,\u001b[0m \u001b[1;34m\"r\"\u001b[0m\u001b[1;33m)\u001b[0m\u001b[1;33m\u001b[0m\u001b[1;33m\u001b[0m\u001b[0m\n\u001b[0m\u001b[0;32m      4\u001b[0m \u001b[1;33m\u001b[0m\u001b[0m\n\u001b[0;32m      5\u001b[0m     \u001b[0mtrain_x_orig\u001b[0m \u001b[1;33m=\u001b[0m \u001b[0mnp\u001b[0m\u001b[1;33m.\u001b[0m\u001b[0marray\u001b[0m\u001b[1;33m(\u001b[0m\u001b[0mdataset\u001b[0m\u001b[1;33m[\u001b[0m\u001b[1;34m\"X_train\"\u001b[0m\u001b[1;33m]\u001b[0m\u001b[1;33m[\u001b[0m\u001b[1;33m:\u001b[0m\u001b[1;33m]\u001b[0m\u001b[1;33m)\u001b[0m \u001b[1;31m# your train set features\u001b[0m\u001b[1;33m\u001b[0m\u001b[1;33m\u001b[0m\u001b[0m\n",
      "\u001b[1;32m~\\anaconda3\\lib\\site-packages\\h5py\\_hl\\files.py\u001b[0m in \u001b[0;36m__init__\u001b[1;34m(self, name, mode, driver, libver, userblock_size, swmr, rdcc_nslots, rdcc_nbytes, rdcc_w0, track_order, **kwds)\u001b[0m\n\u001b[0;32m    404\u001b[0m             \u001b[1;32mwith\u001b[0m \u001b[0mphil\u001b[0m\u001b[1;33m:\u001b[0m\u001b[1;33m\u001b[0m\u001b[1;33m\u001b[0m\u001b[0m\n\u001b[0;32m    405\u001b[0m                 \u001b[0mfapl\u001b[0m \u001b[1;33m=\u001b[0m \u001b[0mmake_fapl\u001b[0m\u001b[1;33m(\u001b[0m\u001b[0mdriver\u001b[0m\u001b[1;33m,\u001b[0m \u001b[0mlibver\u001b[0m\u001b[1;33m,\u001b[0m \u001b[0mrdcc_nslots\u001b[0m\u001b[1;33m,\u001b[0m \u001b[0mrdcc_nbytes\u001b[0m\u001b[1;33m,\u001b[0m \u001b[0mrdcc_w0\u001b[0m\u001b[1;33m,\u001b[0m \u001b[1;33m**\u001b[0m\u001b[0mkwds\u001b[0m\u001b[1;33m)\u001b[0m\u001b[1;33m\u001b[0m\u001b[1;33m\u001b[0m\u001b[0m\n\u001b[1;32m--> 406\u001b[1;33m                 fid = make_fid(name, mode, userblock_size,\n\u001b[0m\u001b[0;32m    407\u001b[0m                                \u001b[0mfapl\u001b[0m\u001b[1;33m,\u001b[0m \u001b[0mfcpl\u001b[0m\u001b[1;33m=\u001b[0m\u001b[0mmake_fcpl\u001b[0m\u001b[1;33m(\u001b[0m\u001b[0mtrack_order\u001b[0m\u001b[1;33m=\u001b[0m\u001b[0mtrack_order\u001b[0m\u001b[1;33m)\u001b[0m\u001b[1;33m,\u001b[0m\u001b[1;33m\u001b[0m\u001b[1;33m\u001b[0m\u001b[0m\n\u001b[0;32m    408\u001b[0m                                swmr=swmr)\n",
      "\u001b[1;32m~\\anaconda3\\lib\\site-packages\\h5py\\_hl\\files.py\u001b[0m in \u001b[0;36mmake_fid\u001b[1;34m(name, mode, userblock_size, fapl, fcpl, swmr)\u001b[0m\n\u001b[0;32m    171\u001b[0m         \u001b[1;32mif\u001b[0m \u001b[0mswmr\u001b[0m \u001b[1;32mand\u001b[0m \u001b[0mswmr_support\u001b[0m\u001b[1;33m:\u001b[0m\u001b[1;33m\u001b[0m\u001b[1;33m\u001b[0m\u001b[0m\n\u001b[0;32m    172\u001b[0m             \u001b[0mflags\u001b[0m \u001b[1;33m|=\u001b[0m \u001b[0mh5f\u001b[0m\u001b[1;33m.\u001b[0m\u001b[0mACC_SWMR_READ\u001b[0m\u001b[1;33m\u001b[0m\u001b[1;33m\u001b[0m\u001b[0m\n\u001b[1;32m--> 173\u001b[1;33m         \u001b[0mfid\u001b[0m \u001b[1;33m=\u001b[0m \u001b[0mh5f\u001b[0m\u001b[1;33m.\u001b[0m\u001b[0mopen\u001b[0m\u001b[1;33m(\u001b[0m\u001b[0mname\u001b[0m\u001b[1;33m,\u001b[0m \u001b[0mflags\u001b[0m\u001b[1;33m,\u001b[0m \u001b[0mfapl\u001b[0m\u001b[1;33m=\u001b[0m\u001b[0mfapl\u001b[0m\u001b[1;33m)\u001b[0m\u001b[1;33m\u001b[0m\u001b[1;33m\u001b[0m\u001b[0m\n\u001b[0m\u001b[0;32m    174\u001b[0m     \u001b[1;32melif\u001b[0m \u001b[0mmode\u001b[0m \u001b[1;33m==\u001b[0m \u001b[1;34m'r+'\u001b[0m\u001b[1;33m:\u001b[0m\u001b[1;33m\u001b[0m\u001b[1;33m\u001b[0m\u001b[0m\n\u001b[0;32m    175\u001b[0m         \u001b[0mfid\u001b[0m \u001b[1;33m=\u001b[0m \u001b[0mh5f\u001b[0m\u001b[1;33m.\u001b[0m\u001b[0mopen\u001b[0m\u001b[1;33m(\u001b[0m\u001b[0mname\u001b[0m\u001b[1;33m,\u001b[0m \u001b[0mh5f\u001b[0m\u001b[1;33m.\u001b[0m\u001b[0mACC_RDWR\u001b[0m\u001b[1;33m,\u001b[0m \u001b[0mfapl\u001b[0m\u001b[1;33m=\u001b[0m\u001b[0mfapl\u001b[0m\u001b[1;33m)\u001b[0m\u001b[1;33m\u001b[0m\u001b[1;33m\u001b[0m\u001b[0m\n",
      "\u001b[1;32mh5py\\_objects.pyx\u001b[0m in \u001b[0;36mh5py._objects.with_phil.wrapper\u001b[1;34m()\u001b[0m\n",
      "\u001b[1;32mh5py\\_objects.pyx\u001b[0m in \u001b[0;36mh5py._objects.with_phil.wrapper\u001b[1;34m()\u001b[0m\n",
      "\u001b[1;32mh5py\\h5f.pyx\u001b[0m in \u001b[0;36mh5py.h5f.open\u001b[1;34m()\u001b[0m\n",
      "\u001b[1;31mOSError\u001b[0m: Unable to open file (unable to open file: name = 'catvnoncat.h5', errno = 2, error message = 'No such file or directory', flags = 0, o_flags = 0)"
     ]
    }
   ],
   "source": [
    "train_x_orig, train_y, test_x_orig, test_y, classes = load_dataset()"
   ]
  },
  {
   "cell_type": "code",
   "execution_count": 38,
   "metadata": {
    "colab": {
     "base_uri": "https://localhost:8080/",
     "height": 285
    },
    "executionInfo": {
     "elapsed": 1487,
     "status": "ok",
     "timestamp": 1611833649342,
     "user": {
      "displayName": "Debapriyo Majumdar",
      "photoUrl": "https://lh3.googleusercontent.com/-27XCrbxqp0c/AAAAAAAAAAI/AAAAAAACj60/QkRLriepZzA/s64/photo.jpg",
      "userId": "00543863801161595698"
     },
     "user_tz": -330
    },
    "id": "rCYHwNn23tkk",
    "outputId": "b679dc8a-0f64-4f52-b280-b609bc52c738"
   },
   "outputs": [
    {
     "name": "stdout",
     "output_type": "stream",
     "text": [
      "y = 1. It's a cat picture.\n"
     ]
    },
    {
     "data": {
      "image/png": "[encoded data removed]",
      "text/plain": [
       "<Figure size 360x288 with 1 Axes>"
      ]
     },
     "metadata": {
      "needs_background": "light",
      "tags": []
     },
     "output_type": "display_data"
    }
   ],
   "source": [
    "# Example of a picture\n",
    "index = 102\n",
    "plt.imshow(train_x_orig[index])\n",
    "print (\"y = \" + str(train_y[index,0]) + \". It's a \" + classes[train_y[index,0]].decode(\"utf-8\") +  \" picture.\")"
   ]
  },
  {
   "cell_type": "markdown",
   "metadata": {
    "id": "6HgvUfifIfKm"
   },
   "source": [
    "## Tensorflow: beginning"
   ]
  },
  {
   "cell_type": "code",
   "execution_count": 39,
   "metadata": {
    "executionInfo": {
     "elapsed": 1205,
     "status": "ok",
     "timestamp": 1611833659077,
     "user": {
      "displayName": "Debapriyo Majumdar",
      "photoUrl": "https://lh3.googleusercontent.com/-27XCrbxqp0c/AAAAAAAAAAI/AAAAAAACj60/QkRLriepZzA/s64/photo.jpg",
      "userId": "00543863801161595698"
     },
     "user_tz": -330
    },
    "id": "otwltQAA4kvr"
   },
   "outputs": [],
   "source": [
    "import tensorflow as tf"
   ]
  },
  {
   "cell_type": "markdown",
   "metadata": {
    "id": "K-K7MLWnI87n"
   },
   "source": [
    "One-hot representation of the labels. Since there are two labels, each label will be converted to either (1, 0) or (0, 1). "
   ]
  },
  {
   "cell_type": "code",
   "execution_count": 40,
   "metadata": {
    "executionInfo": {
     "elapsed": 820,
     "status": "ok",
     "timestamp": 1611833753583,
     "user": {
      "displayName": "Debapriyo Majumdar",
      "photoUrl": "https://lh3.googleusercontent.com/-27XCrbxqp0c/AAAAAAAAAAI/AAAAAAACj60/QkRLriepZzA/s64/photo.jpg",
      "userId": "00543863801161595698"
     },
     "user_tz": -330
    },
    "id": "OQ7WWiOJRtr7"
   },
   "outputs": [],
   "source": [
    "train_y_cat = tf.keras.utils.to_categorical(train_y, num_classes=2)\n",
    "test_y_cat = tf.keras.utils.to_categorical(test_y, num_classes=2)"
   ]
  },
  {
   "cell_type": "code",
   "execution_count": 7,
   "metadata": {
    "executionInfo": {
     "elapsed": 7196,
     "status": "ok",
     "timestamp": 1611826989276,
     "user": {
      "displayName": "Debapriyo Majumdar",
      "photoUrl": "https://lh3.googleusercontent.com/-27XCrbxqp0c/AAAAAAAAAAI/AAAAAAACj60/QkRLriepZzA/s64/photo.jpg",
      "userId": "00543863801161595698"
     },
     "user_tz": -330
    },
    "id": "TLH8sxUEAdlt"
   },
   "outputs": [],
   "source": [
    "tf.keras.backend.clear_session()"
   ]
  },
  {
   "cell_type": "code",
   "execution_count": 41,
   "metadata": {
    "executionInfo": {
     "elapsed": 1248,
     "status": "ok",
     "timestamp": 1611833931496,
     "user": {
      "displayName": "Debapriyo Majumdar",
      "photoUrl": "https://lh3.googleusercontent.com/-27XCrbxqp0c/AAAAAAAAAAI/AAAAAAACj60/QkRLriepZzA/s64/photo.jpg",
      "userId": "00543863801161595698"
     },
     "user_tz": -330
    },
    "id": "CO9QJKL45L4r"
   },
   "outputs": [],
   "source": [
    "model = tf.keras.models.Sequential([\n",
    "  tf.keras.layers.Flatten(input_shape=(64, 64, 3)),\n",
    "  tf.keras.layers.Dense(32, activation='relu'),\n",
    "  #tf.keras.layers.Dropout(0.2),\n",
    "  #tf.keras.layers.Dense(64, activation='relu', kernel_regularizer=tf.keras.regularizers.l1_l2(l1=1e-5, l2=1e-4)),\n",
    "  #tf.keras.layers.BatchNormalization(center=True, scale=True),\n",
    "  #tf.keras.layers.Dense(16, activation='relu'),\n",
    "  #tf.keras.layers.BatchNormalization(center=True, scale=True),\n",
    "  #tf.keras.layers.Dense(1, activation='sigmoid')\n",
    "  tf.keras.layers.Dense(2, activation='softmax')\n",
    "])"
   ]
  },
  {
   "cell_type": "code",
   "execution_count": 42,
   "metadata": {
    "executionInfo": {
     "elapsed": 1202,
     "status": "ok",
     "timestamp": 1611834034661,
     "user": {
      "displayName": "Debapriyo Majumdar",
      "photoUrl": "https://lh3.googleusercontent.com/-27XCrbxqp0c/AAAAAAAAAAI/AAAAAAACj60/QkRLriepZzA/s64/photo.jpg",
      "userId": "00543863801161595698"
     },
     "user_tz": -330
    },
    "id": "sAerTV-951y1"
   },
   "outputs": [],
   "source": [
    "sgd = tf.keras.optimizers.SGD(learning_rate=0.001)\n",
    "bce = tf.keras.losses.BinaryCrossentropy(from_logits=False)\n",
    "cce = tf.keras.losses.CategoricalCrossentropy()\n",
    "\n",
    "model.compile(optimizer='adam',\n",
    "              loss=cce,\n",
    "              #loss=bce,\n",
    "              metrics=['accuracy'])"
   ]
  },
  {
   "cell_type": "code",
   "execution_count": 43,
   "metadata": {
    "executionInfo": {
     "elapsed": 961,
     "status": "ok",
     "timestamp": 1611834042254,
     "user": {
      "displayName": "Debapriyo Majumdar",
      "photoUrl": "https://lh3.googleusercontent.com/-27XCrbxqp0c/AAAAAAAAAAI/AAAAAAACj60/QkRLriepZzA/s64/photo.jpg",
      "userId": "00543863801161595698"
     },
     "user_tz": -330
    },
    "id": "3b6AsDe2jOeJ"
   },
   "outputs": [],
   "source": [
    "#Clear output\n",
    "import IPython\n",
    "import time\n",
    "class ClearTrainingOutput(tf.keras.callbacks.Callback):\n",
    "  def on_train_end(*args, **kwargs):\n",
    "    IPython.display.clear_output()"
   ]
  },
  {
   "cell_type": "code",
   "execution_count": 44,
   "metadata": {
    "colab": {
     "base_uri": "https://localhost:8080/",
     "height": 959
    },
    "executionInfo": {
     "elapsed": 3275,
     "status": "ok",
     "timestamp": 1611834097056,
     "user": {
      "displayName": "Debapriyo Majumdar",
      "photoUrl": "https://lh3.googleusercontent.com/-27XCrbxqp0c/AAAAAAAAAAI/AAAAAAACj60/QkRLriepZzA/s64/photo.jpg",
      "userId": "00543863801161595698"
     },
     "user_tz": -330
    },
    "id": "-xP84wjk6JcQ",
    "outputId": "2ce5f51b-b919-4a8e-82f5-19f1364cb613"
   },
   "outputs": [
    {
     "name": "stdout",
     "output_type": "stream",
     "text": [
      "Epoch 1/20\n",
      "7/7 [==============================] - 1s 37ms/step - loss: 622.8779 - accuracy: 0.4749 - val_loss: 930.0380 - val_accuracy: 0.3400\n",
      "Epoch 2/20\n",
      "7/7 [==============================] - 0s 12ms/step - loss: 465.4879 - accuracy: 0.5038 - val_loss: 390.1638 - val_accuracy: 0.3200\n",
      "Epoch 3/20\n",
      "7/7 [==============================] - 0s 13ms/step - loss: 181.9125 - accuracy: 0.5998 - val_loss: 380.4880 - val_accuracy: 0.3200\n",
      "Epoch 4/20\n",
      "7/7 [==============================] - 0s 12ms/step - loss: 152.8952 - accuracy: 0.6343 - val_loss: 677.3164 - val_accuracy: 0.3400\n",
      "Epoch 5/20\n",
      "7/7 [==============================] - 0s 13ms/step - loss: 232.7503 - accuracy: 0.6781 - val_loss: 442.6929 - val_accuracy: 0.3400\n",
      "Epoch 6/20\n",
      "7/7 [==============================] - 0s 11ms/step - loss: 212.4373 - accuracy: 0.6892 - val_loss: 129.9834 - val_accuracy: 0.5000\n",
      "Epoch 7/20\n",
      "7/7 [==============================] - 0s 12ms/step - loss: 51.4996 - accuracy: 0.7761 - val_loss: 287.4413 - val_accuracy: 0.3600\n",
      "Epoch 8/20\n",
      "7/7 [==============================] - 0s 12ms/step - loss: 105.5429 - accuracy: 0.6978 - val_loss: 250.7754 - val_accuracy: 0.3600\n",
      "Epoch 9/20\n",
      "7/7 [==============================] - 0s 12ms/step - loss: 94.7904 - accuracy: 0.6653 - val_loss: 148.9344 - val_accuracy: 0.4800\n",
      "Epoch 10/20\n",
      "7/7 [==============================] - 0s 12ms/step - loss: 81.2813 - accuracy: 0.6852 - val_loss: 59.3849 - val_accuracy: 0.7600\n",
      "Epoch 11/20\n",
      "7/7 [==============================] - 0s 12ms/step - loss: 56.2696 - accuracy: 0.6936 - val_loss: 52.0024 - val_accuracy: 0.7800\n",
      "Epoch 12/20\n",
      "7/7 [==============================] - 0s 12ms/step - loss: 38.0837 - accuracy: 0.7968 - val_loss: 112.0896 - val_accuracy: 0.5400\n",
      "Epoch 13/20\n",
      "7/7 [==============================] - 0s 12ms/step - loss: 22.5710 - accuracy: 0.8256 - val_loss: 52.8730 - val_accuracy: 0.8000\n",
      "Epoch 14/20\n",
      "7/7 [==============================] - 0s 11ms/step - loss: 26.0131 - accuracy: 0.7951 - val_loss: 53.8701 - val_accuracy: 0.8000\n",
      "Epoch 15/20\n",
      "7/7 [==============================] - 0s 12ms/step - loss: 20.2319 - accuracy: 0.8003 - val_loss: 123.6732 - val_accuracy: 0.5800\n",
      "Epoch 16/20\n",
      "7/7 [==============================] - 0s 13ms/step - loss: 19.7679 - accuracy: 0.8289 - val_loss: 66.8452 - val_accuracy: 0.7600\n",
      "Epoch 17/20\n",
      "7/7 [==============================] - 0s 12ms/step - loss: 44.9880 - accuracy: 0.7199 - val_loss: 76.7044 - val_accuracy: 0.6800\n",
      "Epoch 18/20\n",
      "7/7 [==============================] - 0s 12ms/step - loss: 10.2477 - accuracy: 0.8696 - val_loss: 85.2320 - val_accuracy: 0.6200\n",
      "Epoch 19/20\n",
      "7/7 [==============================] - 0s 12ms/step - loss: 8.1984 - accuracy: 0.9240 - val_loss: 71.0340 - val_accuracy: 0.6400\n",
      "Epoch 20/20\n",
      "7/7 [==============================] - 0s 11ms/step - loss: 7.8765 - accuracy: 0.8967 - val_loss: 75.6261 - val_accuracy: 0.6200\n"
     ]
    },
    {
     "data": {
      "image/png": "[encoded data removed]",
      "text/plain": [
       "<Figure size 360x288 with 1 Axes>"
      ]
     },
     "metadata": {
      "needs_background": "light",
      "tags": []
     },
     "output_type": "display_data"
    }
   ],
   "source": [
    "tf.keras.backend.clear_session()\n",
    "#tf.random.set_seed(1)\n",
    "\n",
    "epochs = 20\n",
    "\n",
    "trained_model = model.fit(train_x_orig, train_y_cat, validation_data=(test_x_orig, test_y_cat), epochs=epochs, batch_size=32,verbose=1)\n",
    "\n",
    "#trained_model = model.fit(train_x_orig, train_y, validation_data=(test_x_orig, test_y), validation_batch_size=50, batch_size=32, epochs=epochs)\n",
    "\n",
    "# Print the learning curve\n",
    "plt.plot(range(1, epochs+1), trained_model.history['loss'] , 'r', range(1, epochs+1), trained_model.history['val_loss'], 'b')\n",
    "plt.xlabel('Epochs')\n",
    "plt.ylabel('Loss')\n",
    "_ = plt.legend(['Training Loss', 'Validation Loss'])"
   ]
  },
  {
   "cell_type": "code",
   "execution_count": 45,
   "metadata": {
    "colab": {
     "base_uri": "https://localhost:8080/",
     "height": 296
    },
    "executionInfo": {
     "elapsed": 1481,
     "status": "ok",
     "timestamp": 1611834208640,
     "user": {
      "displayName": "Debapriyo Majumdar",
      "photoUrl": "https://lh3.googleusercontent.com/-27XCrbxqp0c/AAAAAAAAAAI/AAAAAAACj60/QkRLriepZzA/s64/photo.jpg",
      "userId": "00543863801161595698"
     },
     "user_tz": -330
    },
    "id": "skH2jOo9_7Cz",
    "outputId": "d7949ec9-2ce1-4743-d789-3a00817df5fb"
   },
   "outputs": [
    {
     "name": "stdout",
     "output_type": "stream",
     "text": [
      "Max Accuracy Reached: 80.00 %\n"
     ]
    },
    {
     "data": {
      "image/png": "[encoded data removed]",
      "text/plain": [
       "<Figure size 360x288 with 1 Axes>"
      ]
     },
     "metadata": {
      "needs_background": "light",
      "tags": []
     },
     "output_type": "display_data"
    }
   ],
   "source": [
    "# Print the Accuracy curve\n",
    "plt.plot(range(1, epochs+1), trained_model.history['accuracy'] , 'g', range(1, epochs+1), trained_model.history['val_accuracy'], 'm')\n",
    "plt.xlabel('Epochs')\n",
    "plt.ylabel('Accuracy')\n",
    "plt.legend(['Training Accuracy', 'Validation Accuracy'])\n",
    "print('Max Accuracy Reached: {0:0.2f} %'.format((max(trained_model.history['val_accuracy']) * 100)) )"
   ]
  },
  {
   "cell_type": "code",
   "execution_count": null,
   "metadata": {
    "id": "E24JCglQA28L"
   },
   "outputs": [],
   "source": []
  },
  {
   "cell_type": "markdown",
   "metadata": {
    "id": "pcxvFmqPZzpx"
   },
   "source": [
    "## Reference: \n",
    "\n",
    "The code for the plots and another sophisticated model can be found here. \n",
    "\n",
    "https://github.com/codejack-CR/CatvNonCat/blob/main/CatvNotCatClassifier.ipynb"
   ]
  }
 ],
 "metadata": {
  "colab": {
   "authorship_tag": "ABX9TyOQBDTkK293We5I4Gz9PR9g",
   "collapsed_sections": [],
   "name": "Cat-vs-noncat.Tensorflow.ipynb",
   "provenance": []
  },
  "kernelspec": {
   "display_name": "Python 3",
   "language": "python",
   "name": "python3"
  },
  "language_info": {
   "codemirror_mode": {
    "name": "ipython",
    "version": 3
   },
   "file_extension": ".py",
   "mimetype": "text/x-python",
   "name": "python",
   "nbconvert_exporter": "python",
   "pygments_lexer": "ipython3",
   "version": "3.8.8"
  }
 },
 "nbformat": 4,
 "nbformat_minor": 1
}
