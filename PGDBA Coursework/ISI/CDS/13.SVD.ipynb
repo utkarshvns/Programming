{
 "cells": [
  {
   "cell_type": "markdown",
   "metadata": {},
   "source": [
    "# Singular Value Decomposition\n",
    "\n",
    "This notebook is to gain some intuition behind singular value decomposition (SVD) through some examples and visualization. "
   ]
  },
  {
   "cell_type": "code",
   "execution_count": null,
   "metadata": {},
   "outputs": [],
   "source": [
    "%matplotlib inline\n",
    "\n",
    "import matplotlib as mpl\n",
    "from mpl_toolkits.mplot3d import Axes3D\n",
    "import numpy as np\n",
    "import matplotlib.pyplot as plt\n",
    "\n",
    "np.set_printoptions(formatter={'float': lambda x: \"{0:0.2f}\".format(x)})"
   ]
  },
  {
   "cell_type": "markdown",
   "metadata": {},
   "source": [
    "## The matrix\n",
    "\n",
    "A matrix is usually a transformation, set of weights, or collection of data points. In this case, we will consider a matrix to be a collection of data points. We are generating a random $2 \\times 20$ matrix, but then transforming it a bit to form our data, so that the intuition behind the projection and SVD can be explained better. "
   ]
  },
  {
   "cell_type": "code",
   "execution_count": null,
   "metadata": {},
   "outputs": [],
   "source": [
    "A = np.array([[2, 1],[-1, 0.3]]) @ np.random.randn(2,20) \n",
    "print(A, A.shape)\n",
    "\n",
    "colors = np.random.rand(A.shape[1],3)\n",
    "sequence = np.arange(A.shape[1])"
   ]
  },
  {
   "cell_type": "markdown",
   "metadata": {},
   "source": [
    "Now we will plot the points on the 2-D plane and consider the projection of the points onto different lines passing through the origin (left plot). Running the cell below will produce different random lines. On the right side, we can see the coordinates of the points after projection. Note that after projection onto a line (1-D), each point becomes a number only. "
   ]
  },
  {
   "cell_type": "code",
   "execution_count": null,
   "metadata": {},
   "outputs": [],
   "source": [
    "fig = plt.figure(figsize=(16,8))\n",
    "ax1 = fig.add_subplot(121)\n",
    "ax1.scatter(A[0,:], A[1,:], s=50, marker='o', c=(colors[sequence]))\n",
    "\n",
    "# Set xlim and ylim symmetrically towards both directions\n",
    "xmax = np.ceil(np.max(np.abs(A[0,:])))\n",
    "ymax = np.ceil(np.max(np.abs(A[1,:])))\n",
    "\n",
    "axmax = max(xmax, ymax)\n",
    "#print(xmax, ymax)\n",
    "plt.xlim(-2*axmax, 2*axmax)\n",
    "plt.ylim(-2*axmax, 2*axmax)\n",
    "\n",
    "\n",
    "# Let us come up with a random projection line (1-D subspace)\n",
    "v = np.random.randn(1,2)\n",
    "u = v/np.linalg.norm(v)\n",
    "print(\"Projection line:\", u)\n",
    "ax1.plot([-20*u[0,0], 20*u[0,0]], [-20*u[0,1],20*u[0,1] ])\n",
    "\n",
    "\n",
    "# Let us project all the points on to u and plot the projected points (numbers) in another plot\n",
    "AP = u @ A\n",
    "print(\"Projected:\", AP)\n",
    "ax2 = fig.add_subplot(122)\n",
    "ax2.scatter(AP[0,:], np.zeros(AP.shape[1]), s=50, marker='o', c=(colors[sequence]))\n",
    "plt.xlim(-2*axmax, 2*axmax)\n",
    "#plt.ylim(-2*axmax, 2*axmax)\n",
    "plt.ylim(-2, 2)\n",
    "print(\"Variance: \", np.var(AP))\n",
    "\n",
    "\n",
    "# Switch the grids on\n",
    "ax1.grid(True)\n",
    "ax2.grid(True)\n",
    "\n",
    "\n",
    "plt.show()"
   ]
  },
  {
   "cell_type": "code",
   "execution_count": null,
   "metadata": {},
   "outputs": [],
   "source": []
  },
  {
   "cell_type": "markdown",
   "metadata": {},
   "source": [
    "### SVD \n",
    "\n",
    "Then we compute the SVD using the linalg library. We use the full_matrices = False argument because it's computationally faster (though it does not matter for a matrix of this size) and we don't need the singular vectors corresponding to the full matrix dimensions. "
   ]
  },
  {
   "cell_type": "code",
   "execution_count": null,
   "metadata": {},
   "outputs": [],
   "source": [
    "#A = np.dot(np.diag([1,0.3]),A)\n",
    "\n",
    "U, S, VT = np.linalg.svd(A, full_matrices=False)\n",
    "\n",
    "print(\"U = \\n\", U, \"\\n\")\n",
    "print(\"S = \", S, \"\\n\")\n",
    "print(\"VT = \\n\", VT, \"\\n\")"
   ]
  },
  {
   "cell_type": "markdown",
   "metadata": {},
   "source": [
    "## Visualization\n",
    "\n",
    "We plot our data points using different colors. The black vectors are the two singular vectors. We may want to plot the singular vectors unscaled (with norm 1) or scaled by the corresponding singular values (in which case the intuition behind the principal components become clear).\n",
    "\n",
    "We also plot the columns of $V^T$ (a $2 \\times 20$ matrix) using the same colors. If we scale $V^T$ with $\\Sigma$ first, what we get looks like the set of our original data points (modulo some rotation and flipping). "
   ]
  },
  {
   "cell_type": "code",
   "execution_count": null,
   "metadata": {},
   "outputs": [],
   "source": [
    "colors = np.random.rand(A.shape[1],3)\n",
    "sequence = np.arange(A.shape[1])\n",
    "\n",
    "fig = plt.figure(figsize=(16,8))\n",
    "ax = fig.add_subplot(121)\n",
    "ax.scatter(A[0,:], A[1,:], s=50, marker='o', c=(colors[sequence]))\n",
    "\n",
    "# Set xlim and ylim symmetrically towards both directions\n",
    "#xmax = np.ceil(np.max(np.abs(A[:,0])))\n",
    "#ymax = np.ceil(np.max(np.abs(A[:,1])))\n",
    "#print(xmax, ymax)\n",
    "plt.xlim(-3, 3)\n",
    "plt.ylim(-3, 3)\n",
    "\n",
    "# Switch the grid on\n",
    "ax.grid(True)\n",
    "\n",
    "for i in range(U.shape[1]):\n",
    "    ax.arrow(0,0,S[i]*U[i,0],S[i]*U[i,1], head_width=0.1, head_length=0.1)\n",
    "    #ax.arrow(0,0,U[i,0],U[i,1], head_width=0.1, head_length=0.1)\n",
    "\n",
    "plt.xlim(-12, 12)\n",
    "plt.ylim(-12, 12)\n",
    "ax2 = fig.add_subplot(122)\n",
    "#V = VT\n",
    "V = np.dot(np.diag(S),VT)\n",
    "#V = np.dot(U,np.dot(np.diag(S),VT))\n",
    "ax2.scatter(V[0,:], V[1,:], marker='o', s=50, c=(colors[sequence]))\n",
    "ax2.grid(True)\n",
    "plt.xlim(-15, 15)\n",
    "plt.ylim(-15, 15)"
   ]
  },
  {
   "cell_type": "markdown",
   "metadata": {},
   "source": [
    "## SVD with 3-dimensional data points\n",
    "\n",
    "We can also try to visualize SVD in 3-D. Visualization of the vectors in $V^T$ is not completed in this notebook and is left as a todo for the students. "
   ]
  },
  {
   "cell_type": "code",
   "execution_count": null,
   "metadata": {},
   "outputs": [],
   "source": [
    "B = np.random.randn(3,20)\n",
    "\n",
    "# The following scaling dampenes the z-direction severely, \n",
    "# to give us the impression that it does not contain any useful information\n",
    "A = np.dot(np.diag([1,1,0.1]),B)\n",
    "A = B\n",
    "#print(A, A.shape)\n",
    "\n",
    "fig = plt.figure(figsize=(16,8))\n",
    "ax = fig.add_subplot(121, projection='3d')\n",
    "ax.scatter(A[0,:], A[1,:], A[2,:], marker='o', s=50, c=(colors[sequence]))\n",
    "\n",
    "\n",
    "U, S, VT = np.linalg.svd(A, full_matrices=False)\n",
    "\n",
    "#print(\"U = \\n\", U, \"\\n\")\n",
    "print(\"S = \", S, \"\\n\")\n",
    "#print(\"VT = \\n\", VT, \"\\n\")\n",
    "\n",
    "for i in range(U.shape[1]):\n",
    "    #ax.quiver(0,0,0,U[i,0],U[i,1],U[i,2])\n",
    "    ax.quiver(0,0,0,S[i]*U[i,0],S[i]*U[i,1],S[i]*U[i,2])\n",
    "\n",
    "    \n",
    "ax.set_xlim(-2, 2)\n",
    "ax.set_ylim(-2, 2)\n",
    "ax.set_zlim(-2,2)\n",
    "\n",
    "\n",
    "ax2 = fig.add_subplot(122, projection='3d')\n",
    "#V = VT\n",
    "#V = np.dot(np.diag(S),VT)\n",
    "#V = np.dot(U,np.dot(np.diag(S),VT))\n",
    "#ax2.scatter(V[0,:], V[1,:], V[2,:], marker='o', s=50, c=(colors[sequence]))\n",
    "#ax2.grid(True)\n"
   ]
  },
  {
   "cell_type": "code",
   "execution_count": null,
   "metadata": {},
   "outputs": [],
   "source": []
  }
 ],
 "metadata": {
  "kernelspec": {
   "display_name": "Python 3",
   "language": "python",
   "name": "python3"
  },
  "language_info": {
   "codemirror_mode": {
    "name": "ipython",
    "version": 3
   },
   "file_extension": ".py",
   "mimetype": "text/x-python",
   "name": "python",
   "nbconvert_exporter": "python",
   "pygments_lexer": "ipython3",
   "version": "3.7.3"
  }
 },
 "nbformat": 4,
 "nbformat_minor": 2
}
