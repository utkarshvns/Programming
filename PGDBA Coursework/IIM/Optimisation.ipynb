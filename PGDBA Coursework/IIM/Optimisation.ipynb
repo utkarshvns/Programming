{
 "cells": [
  {
   "cell_type": "code",
   "execution_count": 2,
   "id": "d00e7962",
   "metadata": {},
   "outputs": [],
   "source": [
    "from scipy.optimize import minimize\n",
    "import numpy as np"
   ]
  },
  {
   "cell_type": "code",
   "execution_count": 43,
   "id": "90995b61",
   "metadata": {},
   "outputs": [
    {
     "name": "stdout",
     "output_type": "stream",
     "text": [
      "Maximum 1.0 attained at [1.57079632]\n"
     ]
    }
   ],
   "source": [
    "f = lambda x: np.sin(x)  # function to be MAXIMIZED\n",
    "res = minimize(lambda x: -f(x), 0)\n",
    "print('Maximum {} attained at {}'.format(-res.fun, res.x))"
   ]
  },
  {
   "cell_type": "code",
   "execution_count": 76,
   "id": "d9562d33",
   "metadata": {},
   "outputs": [
    {
     "name": "stdout",
     "output_type": "stream",
     "text": [
      "Maximum 0.0 attained at [0.]\n"
     ]
    }
   ],
   "source": [
    "f = lambda x: ((np.exp(-x))**32)*(((np.exp(-x))*x)**4)*(((np.exp(-x))*((x**2)/2))**5)*(((np.exp(-x))*((x**3)/6))**5)*(((np.exp(-x))*((x**4)/24))**5)*(((np.exp(-x))*((x**5)/120))**6)*(1-((np.exp(-x))**32)-(((np.exp(-x))*x)**4)-(((np.exp(-x))*((x**2)/2))**5)-(((np.exp(-x))*((x**3)/6))**5)-(((np.exp(-x))*((x**4)/24))**5)-(((np.exp(-x))*((x**5)/120))**6))  # function to be MAXIMIZED\n",
    "res = minimize(lambda x: -f(x), 0)\n",
    "print('Maximum {} attained at {}'.format(-res.fun, res.x))"
   ]
  },
  {
   "cell_type": "code",
   "execution_count": 77,
   "id": "3f456c03",
   "metadata": {},
   "outputs": [],
   "source": [
    "def L(x):\n",
    "    return ((np.exp(-x))**32)*(((np.exp(-x))*x)**4)*(((np.exp(-x))*((x**2)/2))**5)*(((np.exp(-x))*((x**3)/6))**5)*(((np.exp(-x))*((x**4)/24))**5)*(((np.exp(-x))*((x**5)/120))**6)*((1-((np.exp(-x)))-(((np.exp(-x))*x))-(((np.exp(-x))*((x**2)/2)))-(((np.exp(-x))*((x**3)/6)))-(((np.exp(-x))*((x**4)/24)))-(((np.exp(-x))*((x**5)/120))))**41)"
   ]
  },
  {
   "cell_type": "code",
   "execution_count": 78,
   "id": "43f19be0",
   "metadata": {},
   "outputs": [
    {
     "data": {
      "text/plain": [
       "3.0556388104769282e-124"
      ]
     },
     "execution_count": 78,
     "metadata": {},
     "output_type": "execute_result"
    }
   ],
   "source": [
    "L(2)"
   ]
  },
  {
   "cell_type": "code",
   "execution_count": 79,
   "id": "8e3a4ba2",
   "metadata": {},
   "outputs": [],
   "source": [
    "import matplotlib.pyplot as plt"
   ]
  },
  {
   "cell_type": "code",
   "execution_count": 92,
   "id": "9b9e0b13",
   "metadata": {},
   "outputs": [],
   "source": [
    "x=np.arange(0.0, 6.0, 0.0001)\n",
    "y=[]\n",
    "\n",
    "for i in x:\n",
    "    y.append(L(i))"
   ]
  },
  {
   "cell_type": "code",
   "execution_count": 93,
   "id": "1780222d",
   "metadata": {},
   "outputs": [
    {
     "data": {
      "image/png": "[encoded data removed]",
      "text/plain": [
       "<Figure size 432x288 with 1 Axes>"
      ]
     },
     "metadata": {
      "needs_background": "light"
     },
     "output_type": "display_data"
    }
   ],
   "source": [
    "plt.plot(x,y)\n",
    "plt.show()"
   ]
  },
  {
   "cell_type": "code",
   "execution_count": 94,
   "id": "7ae19a9b",
   "metadata": {},
   "outputs": [
    {
     "data": {
      "text/plain": [
       "36489"
      ]
     },
     "execution_count": 94,
     "metadata": {},
     "output_type": "execute_result"
    }
   ],
   "source": [
    "y.index(max(y))"
   ]
  },
  {
   "cell_type": "code",
   "execution_count": 95,
   "id": "84d69a5d",
   "metadata": {},
   "outputs": [
    {
     "data": {
      "text/plain": [
       "3.6489000000000003"
      ]
     },
     "execution_count": 95,
     "metadata": {},
     "output_type": "execute_result"
    }
   ],
   "source": [
    "x[y.index(max(y))]"
   ]
  },
  {
   "cell_type": "code",
   "execution_count": null,
   "id": "45bd1909",
   "metadata": {},
   "outputs": [],
   "source": []
  }
 ],
 "metadata": {
  "kernelspec": {
   "display_name": "Python 3",
   "language": "python",
   "name": "python3"
  },
  "language_info": {
   "codemirror_mode": {
    "name": "ipython",
    "version": 3
   },
   "file_extension": ".py",
   "mimetype": "text/x-python",
   "name": "python",
   "nbconvert_exporter": "python",
   "pygments_lexer": "ipython3",
   "version": "3.8.8"
  }
 },
 "nbformat": 4,
 "nbformat_minor": 5
}
